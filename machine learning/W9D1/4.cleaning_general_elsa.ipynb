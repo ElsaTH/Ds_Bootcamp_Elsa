{
 "metadata": {
  "language_info": {
   "codemirror_mode": {
    "name": "ipython",
    "version": 3
   },
   "file_extension": ".py",
   "mimetype": "text/x-python",
   "name": "python",
   "nbconvert_exporter": "python",
   "pygments_lexer": "ipython3",
   "version": "3.8.5-final"
  },
  "orig_nbformat": 2,
  "kernelspec": {
   "name": "python_defaultSpec_1600355564114",
   "display_name": "Python 3.8.5 64-bit"
  }
 },
 "nbformat": 4,
 "nbformat_minor": 2,
 "cells": [
  {
   "cell_type": "markdown",
   "metadata": {},
   "source": [
    "Crea un programa que, llamando a una función clean_df(path), lea un archivo leíble por pandas, lo transforme a dataframe y lo limpie si es posible. \n",
    "\n",
    "La función clean_df() retornará el dataframe limpiado."
   ]
  },
  {
   "cell_type": "code",
   "execution_count": 37,
   "metadata": {},
   "outputs": [
    {
     "output_type": "execute_result",
     "data": {
      "text/plain": "<_io.TextIOWrapper name='/Users/elsa/Desktop/Bootcamp The Bridge/The_Bridge/Ds_Bootcamp_Elsa/Ejercicios/competicion_kaggle/columns_meaning.csv' mode='r' encoding='UTF-8'>"
     },
     "metadata": {},
     "execution_count": 37
    }
   ],
   "source": [
    "# La url es un ejemplo:\n",
    "# Para abrir archivos  open()-- nos proporciona el encoding\n",
    "open(os.path.abspath(\"/Users/elsa/Desktop/Bootcamp The Bridge/The_Bridge/Ds_Bootcamp_Elsa/Ejercicios/competicion_kaggle/columns_meaning.csv\"))"
   ]
  },
  {
   "cell_type": "code",
   "execution_count": 36,
   "metadata": {},
   "outputs": [
    {
     "output_type": "execute_result",
     "data": {
      "text/plain": "'/Users/elsa/Desktop/Bootcamp The Bridge/The_Bridge/Ds_Bootcamp_Elsa/Ejercicios/competicion_kaggle/columns_meaning.csv'"
     },
     "metadata": {},
     "execution_count": 36
    }
   ],
   "source": [
    "# Ejemplo  abspath nos da la ruta del csv absoluta\n",
    "import os.path\n",
    "os.path.abspath(\"/Users/elsa/Desktop/Bootcamp The Bridge/The_Bridge/Ds_Bootcamp_Elsa/Ejercicios/competicion_kaggle/columns_meaning.csv\")\n"
   ]
  },
  {
   "cell_type": "code",
   "execution_count": 40,
   "metadata": {},
   "outputs": [
    {
     "output_type": "execute_result",
     "data": {
      "text/plain": "'/Users/elsa/Desktop/Bootcamp The Bridge/The_Bridge/Ds_Bootcamp_Elsa/Ejercicios/competicion_kaggle'"
     },
     "metadata": {},
     "execution_count": 40
    }
   ],
   "source": [
    "# Ejemplo con join  rutas con exactamente el separador de directorio\n",
    "\n",
    "ruta =\"/Users/elsa/Desktop/Bootcamp The Bridge/The_Bridge/Ds_Bootcamp_Elsa/Ejercicios/competicion_kaggle/columns_meaning.csv\"\n",
    "os.path.join(os.path.dirname(ruta))"
   ]
  },
  {
   "cell_type": "code",
   "execution_count": null,
   "metadata": {},
   "outputs": [],
   "source": [
    "# Introducimos la ruta del archivo o la url donde estén los datos\n",
    "path = \"\""
   ]
  },
  {
   "cell_type": "code",
   "execution_count": 1,
   "metadata": {},
   "outputs": [
    {
     "output_type": "execute_result",
     "data": {
      "text/plain": "      Avg. Area Income  Avg. Area House Age  Avg. Area Number of Rooms  \\\n0         79545.458574             5.682861                   7.009188   \n1         79248.642455             6.002900                   6.730821   \n2         61287.067179             5.865890                   8.512727   \n3         63345.240046             7.188236                   5.586729   \n4         59982.197226             5.040555                   7.839388   \n...                ...                  ...                        ...   \n4995      60567.944140             7.830362                   6.137356   \n4996      78491.275435             6.999135                   6.576763   \n4997      63390.686886             7.250591                   4.805081   \n4998      68001.331235             5.534388                   7.130144   \n4999      65510.581804             5.992305                   6.792336   \n\n      Avg. Area Number of Bedrooms  Area Population         Price  \\\n0                             4.09     23086.800503  1.059034e+06   \n1                             3.09     40173.072174  1.505891e+06   \n2                             5.13     36882.159400  1.058988e+06   \n3                             3.26     34310.242831  1.260617e+06   \n4                             4.23     26354.109472  6.309435e+05   \n...                            ...              ...           ...   \n4995                          3.46     22837.361035  1.060194e+06   \n4996                          4.02     25616.115489  1.482618e+06   \n4997                          2.13     33266.145490  1.030730e+06   \n4998                          5.44     42625.620156  1.198657e+06   \n4999                          4.07     46501.283803  1.298950e+06   \n\n                                                Address  \n0     208 Michael Ferry Apt. 674\\nLaurabury, NE 3701...  \n1     188 Johnson Views Suite 079\\nLake Kathleen, CA...  \n2     9127 Elizabeth Stravenue\\nDanieltown, WI 06482...  \n3                             USS Barnett\\nFPO AP 44820  \n4                            USNS Raymond\\nFPO AE 09386  \n...                                                 ...  \n4995                   USNS Williams\\nFPO AP 30153-7653  \n4996              PSC 9258, Box 8489\\nAPO AA 42991-3352  \n4997  4215 Tracy Garden Suite 076\\nJoshualand, VA 01...  \n4998                          USS Wallace\\nFPO AE 73316  \n4999  37778 George Ridges Apt. 509\\nEast Holly, NV 2...  \n\n[5000 rows x 7 columns]",
      "text/html": "<div>\n<style scoped>\n    .dataframe tbody tr th:only-of-type {\n        vertical-align: middle;\n    }\n\n    .dataframe tbody tr th {\n        vertical-align: top;\n    }\n\n    .dataframe thead th {\n        text-align: right;\n    }\n</style>\n<table border=\"1\" class=\"dataframe\">\n  <thead>\n    <tr style=\"text-align: right;\">\n      <th></th>\n      <th>Avg. Area Income</th>\n      <th>Avg. Area House Age</th>\n      <th>Avg. Area Number of Rooms</th>\n      <th>Avg. Area Number of Bedrooms</th>\n      <th>Area Population</th>\n      <th>Price</th>\n      <th>Address</th>\n    </tr>\n  </thead>\n  <tbody>\n    <tr>\n      <th>0</th>\n      <td>79545.458574</td>\n      <td>5.682861</td>\n      <td>7.009188</td>\n      <td>4.09</td>\n      <td>23086.800503</td>\n      <td>1.059034e+06</td>\n      <td>208 Michael Ferry Apt. 674\\nLaurabury, NE 3701...</td>\n    </tr>\n    <tr>\n      <th>1</th>\n      <td>79248.642455</td>\n      <td>6.002900</td>\n      <td>6.730821</td>\n      <td>3.09</td>\n      <td>40173.072174</td>\n      <td>1.505891e+06</td>\n      <td>188 Johnson Views Suite 079\\nLake Kathleen, CA...</td>\n    </tr>\n    <tr>\n      <th>2</th>\n      <td>61287.067179</td>\n      <td>5.865890</td>\n      <td>8.512727</td>\n      <td>5.13</td>\n      <td>36882.159400</td>\n      <td>1.058988e+06</td>\n      <td>9127 Elizabeth Stravenue\\nDanieltown, WI 06482...</td>\n    </tr>\n    <tr>\n      <th>3</th>\n      <td>63345.240046</td>\n      <td>7.188236</td>\n      <td>5.586729</td>\n      <td>3.26</td>\n      <td>34310.242831</td>\n      <td>1.260617e+06</td>\n      <td>USS Barnett\\nFPO AP 44820</td>\n    </tr>\n    <tr>\n      <th>4</th>\n      <td>59982.197226</td>\n      <td>5.040555</td>\n      <td>7.839388</td>\n      <td>4.23</td>\n      <td>26354.109472</td>\n      <td>6.309435e+05</td>\n      <td>USNS Raymond\\nFPO AE 09386</td>\n    </tr>\n    <tr>\n      <th>...</th>\n      <td>...</td>\n      <td>...</td>\n      <td>...</td>\n      <td>...</td>\n      <td>...</td>\n      <td>...</td>\n      <td>...</td>\n    </tr>\n    <tr>\n      <th>4995</th>\n      <td>60567.944140</td>\n      <td>7.830362</td>\n      <td>6.137356</td>\n      <td>3.46</td>\n      <td>22837.361035</td>\n      <td>1.060194e+06</td>\n      <td>USNS Williams\\nFPO AP 30153-7653</td>\n    </tr>\n    <tr>\n      <th>4996</th>\n      <td>78491.275435</td>\n      <td>6.999135</td>\n      <td>6.576763</td>\n      <td>4.02</td>\n      <td>25616.115489</td>\n      <td>1.482618e+06</td>\n      <td>PSC 9258, Box 8489\\nAPO AA 42991-3352</td>\n    </tr>\n    <tr>\n      <th>4997</th>\n      <td>63390.686886</td>\n      <td>7.250591</td>\n      <td>4.805081</td>\n      <td>2.13</td>\n      <td>33266.145490</td>\n      <td>1.030730e+06</td>\n      <td>4215 Tracy Garden Suite 076\\nJoshualand, VA 01...</td>\n    </tr>\n    <tr>\n      <th>4998</th>\n      <td>68001.331235</td>\n      <td>5.534388</td>\n      <td>7.130144</td>\n      <td>5.44</td>\n      <td>42625.620156</td>\n      <td>1.198657e+06</td>\n      <td>USS Wallace\\nFPO AE 73316</td>\n    </tr>\n    <tr>\n      <th>4999</th>\n      <td>65510.581804</td>\n      <td>5.992305</td>\n      <td>6.792336</td>\n      <td>4.07</td>\n      <td>46501.283803</td>\n      <td>1.298950e+06</td>\n      <td>37778 George Ridges Apt. 509\\nEast Holly, NV 2...</td>\n    </tr>\n  </tbody>\n</table>\n<p>5000 rows × 7 columns</p>\n</div>"
     },
     "metadata": {},
     "execution_count": 1
    }
   ],
   "source": [
    "import pandas as pd\n",
    "import os.path, sys\n",
    "\n",
    "\n",
    "\n",
    "\n",
    "def clean_df(path=None):\n",
    "    \n",
    "    # Introducimos los datos del archivo en una variable común.\n",
    "    path = os.path.abspath(input(\"Copie y pegue la dirección url o el path del archivo csv a importar: \"))\n",
    "    # Creamos el dataframe\n",
    "    df_cleaned = pd.read_csv(path)\n",
    "    # Eliminar todas las columnas con un solo valor, o con más de un 50% de valores faltantes, esto lo hacemos para trabajar más rápido.absDetermine si la              fila o columna se elimina de DataFrame, cuando tenemos al menos un NA o todos los NA.\n",
    "    #Parámetros: 'all': si todos los valores son NA, elimine esa fila o columna.\n",
    "    df_cleaned.dropna(axis=0, how='all', inplace=True)\n",
    "    # Eliminar duplicados\n",
    "    df_cleaned.drop_duplicates(keep=False, inplace=False)\n",
    "    # Si hay pocos Nan y la columna puede servir podemos cambiar Nan por O\n",
    "    df_cleaned.fillna(0, inplace=True)\n",
    "\n",
    "\n",
    "    return df_cleaned\n",
    "\n",
    "clean_df()"
   ]
  },
  {
   "cell_type": "markdown",
   "metadata": {},
   "source": [
    "En la función clean_df:\n",
    "\n",
    "- path: representa la ubicación o url de donde pandas lee el archivo a cargar."
   ]
  },
  {
   "cell_type": "code",
   "execution_count": null,
   "metadata": {},
   "outputs": [],
   "source": []
  }
 ]
}