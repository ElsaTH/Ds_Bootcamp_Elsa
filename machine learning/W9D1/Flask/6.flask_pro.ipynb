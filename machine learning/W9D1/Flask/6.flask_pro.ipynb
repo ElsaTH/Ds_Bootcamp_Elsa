{
 "metadata": {
  "language_info": {
   "codemirror_mode": {
    "name": "ipython",
    "version": 3
   },
   "file_extension": ".py",
   "mimetype": "text/x-python",
   "name": "python",
   "nbconvert_exporter": "python",
   "pygments_lexer": "ipython3",
   "version": "3.8.5-final"
  },
  "orig_nbformat": 2,
  "kernelspec": {
   "name": "python_defaultSpec_1600621762645",
   "display_name": "Python 3.8.5 64-bit"
  }
 },
 "nbformat": 4,
 "nbformat_minor": 2,
 "cells": [
  {
   "cell_type": "markdown",
   "metadata": {},
   "source": [
    "Investiga la forma de mostrar un botón upload en tu servidor flask al entrar en la URL y que permita subir un archivo (csv, json, etc) que se almacene en tu pc. \n",
    "\n",
    "Una vez esté hecho,carga con pandas el archivo y muestra en la web el número de filas y columnas que tiene el dataframe. "
   ]
  },
  {
   "cell_type": "code",
   "execution_count": null,
   "metadata": {},
   "outputs": [],
   "source": [
    "http://www.pythondiario.com/2019/01/python-y-flask-subir-archivos-al.html\n",
    "\n",
    "Así que dentro del directorio templates creare mi archivo HTML:\n",
    "<form action=\"/upload\" method=\"POST\" enctype=\"multipart/form-data\">\n",
    " <input type=\"file\" name=\"archivo\">\n",
    " <input type=\"submit\">\n",
    "</form>\n",
    "\n",
    "\n",
    "\n",
    "\n",
    "Como pueden observar, es un formulario muy sencillo. Cuando presionemos enviar, la información se enviara a /upload con método POST y tipo de encriptación multipart/form-data. Luego tenemos el input de tipo file con nombre archivo (este nombre archivo lo utilizaremos más tarde).\n",
    "Muy bien, ya tenemos nuestra plantilla. Es muy simple. Es hora de escribir el script\n",
    "\n",
    "https://pythonbasics.org/flask-upload-file/"
   ]
  },
  {
   "cell_type": "code",
   "execution_count": 7,
   "metadata": {},
   "outputs": [
    {
     "output_type": "error",
     "ename": "SyntaxError",
     "evalue": "invalid syntax (<ipython-input-7-cdf8ea791ac3>, line 17)",
     "traceback": [
      "\u001b[0;36m  File \u001b[0;32m\"<ipython-input-7-cdf8ea791ac3>\"\u001b[0;36m, line \u001b[0;32m17\u001b[0m\n\u001b[0;31m    return \"<html> <body> <form action = \"http: // localhost: 6060 / uploader\" method = \"POST\" enctype = \"multipart / form-data\" > <input type = \"file\" name = \"file\" /> <input type = \"enviar\" /> </form> </body> </html>\"\u001b[0m\n\u001b[0m                                          ^\u001b[0m\n\u001b[0;31mSyntaxError\u001b[0m\u001b[0;31m:\u001b[0m invalid syntax\n"
     ]
    }
   ],
   "source": [
    "#from flask import Flask, render_template, request\n",
    "#from werkzeug import secure_filename\n",
    "\n",
    "import os, sys\n",
    "from flask import Flask, render_template, redirect, request, jsonify \n",
    "import json\n",
    "import pandas as pd                                                              \n",
    "\n",
    "\n",
    "# Creamos la api:\n",
    "\n",
    "app = Flask(__name__)  \n",
    "\n",
    "@app.route(\"/\")  \n",
    "\n",
    "def default():\n",
    "    return \"<html> <body> <form action = \"http: // localhost: 6060 / uploader\" method = \"POST\" enctype = \"multipart / form-data\" > <input type = \"file\" name = \"file\" /> <input type = \"enviar\" /> </form> </body> </html>\"\n",
    " \n",
    "\n",
    "# Creamos la función GET\n",
    "@app.route('/get_data/', methods=['GET'])\n",
    "\n",
    "@app.route('/upload')\n",
    "def upload_file():\n",
    "   return render_template('upload.html')\n",
    "\t\n",
    "@app.route('/uploader', methods = ['GET', 'POST'])\n",
    "def upload_file():\n",
    "    if request.method == 'POST':\n",
    "      f = request.files['file']\n",
    "      f.save(secure_filename(f.filename))\n",
    "      return 'file uploaded successfully'\n",
    "\n",
    "    else:\n",
    "        return \"<h1></b> This is a message of error. Try again.</b></h1>\"\n",
    "\n",
    "\n",
    "\n",
    "\n",
    "\n",
    "def main():\n",
    "\n",
    "    print(\"STARTING PROCESS\")\n",
    "    print(os.path.dirname(__file__))\n",
    "\n",
    "    # Get the settings fullpath\n",
    "    settings_file = os.path.dirname(__file__) + \"/settings.json\"\n",
    "    # Load json from file \n",
    "    with open(settings_file, \"r\") as json_file_readed:\n",
    "        json_readed = json.load(json_file_readed)\n",
    "\n",
    "    # Load variables from jsons\n",
    "    SERVER_RUNNING = json_readed[\"server_running\"]\n",
    "    if SERVER_RUNNING:\n",
    "        DEBUG = json_readed[\"debug\"]\n",
    "        HOST = json_readed[\"host\"]\n",
    "        PORT_NUM = json_readed[\"port\"]\n",
    "        app.run(debug=DEBUG, host=HOST, port=PORT_NUM)\n",
    "    else:\n",
    "        print(\"Server settings.json doesn't allow to start server. \" + \"Please, allow it to run it.\")\n",
    "            \n",
    "\n",
    "if __name__ == \"__main__\":\n",
    "    app.run(debug = True)"
   ]
  },
  {
   "cell_type": "code",
   "execution_count": null,
   "metadata": {},
   "outputs": [],
   "source": []
  }
 ]
}