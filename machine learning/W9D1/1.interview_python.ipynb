{
 "metadata": {
  "language_info": {
   "codemirror_mode": {
    "name": "ipython",
    "version": 3
   },
   "file_extension": ".py",
   "mimetype": "text/x-python",
   "name": "python",
   "nbconvert_exporter": "python",
   "pygments_lexer": "ipython3",
   "version": "3.8.3-final"
  },
  "orig_nbformat": 2,
  "kernelspec": {
   "name": "python_defaultSpec_1599501836108",
   "display_name": "Python 3.8.3 64-bit"
  }
 },
 "nbformat": 4,
 "nbformat_minor": 2,
 "cells": [
  {
   "cell_type": "markdown",
   "metadata": {},
   "source": [
    "Here's your coding interview problem for today.\n",
    "\n",
    "This problem was asked by Facebook.\n",
    "\n",
    "Given a string of round, curly, and square open and closing brackets, return whether the brackets are balanced (well-formed).\n",
    "\n",
    "For example, given the string \"([])[]({})\", you should return true.\n",
    "\n",
    "Given the string \"([)]\" or \"((()\", you should return false."
   ]
  },
  {
   "cell_type": "code",
   "execution_count": null,
   "metadata": {},
   "outputs": [],
   "source": [
    "# Your code\n",
    "Estructura del código:\n",
    "Algoritmo:\n",
    "\n",
    "Declara una pila de caracteres S.\n",
    "Ahora recorre la cadena de expresión exp.\n",
    "Si el carácter actual es un corchete inicial ( '(' o '{' o '[' ), empújelo para apilar.\n",
    "Si el carácter actual es un corchete de cierre ( ')' o '}' o ']' ) entonces salte de la pila y si el carácter saltado es el corchete de inicio correspondiente, entonces bien, de lo contrario, los paréntesis no están equilibrados.\n",
    "Después del recorrido completo, si queda algún corchete inicial en la pila, entonces \"no equilibrado\""
   ]
  },
  {
   "cell_type": "code",
   "execution_count": 31,
   "metadata": {
    "tags": []
   },
   "outputs": [
    {
     "output_type": "stream",
     "name": "stdout",
     "text": "True\nFalse\n"
    }
   ],
   "source": [
    "def brackets_are_balanced(string):\n",
    "    opening_brackets = \"([{\"\n",
    "    closing_brackets = \")]}\"\n",
    "    list_brackets = []\n",
    "\n",
    "    for elem in string:\n",
    "        if elem in opening_brackets:\n",
    "            list_brackets.append(elem)\n",
    "        else:\n",
    "            if not list_brackets: \n",
    "                return False\n",
    "            new_list_brackets = list_brackets.pop() \n",
    "            if new_list_brackets == '(': \n",
    "                if elem != \")\": \n",
    "                    return False\n",
    "            if new_list_brackets == '{': \n",
    "                if elem != \"}\": \n",
    "                    return False\n",
    "            if new_list_brackets == '[': \n",
    "                if elem != \"]\": \n",
    "                    return False\n",
    "\n",
    "    if list_brackets: \n",
    "        return False\n",
    "    return True\n",
    "\n",
    "\n",
    "print(brackets_are_balanced(\"([])[]({})\"))\n",
    "print(brackets_are_balanced(\"([])[({})\"))"
   ]
  },
  {
   "cell_type": "code",
   "execution_count": null,
   "metadata": {},
   "outputs": [],
   "source": [
    "def balancedBrackets(string):\n",
    "    # Write your code here.\n",
    "    opening_brackets = \"({[\"\n",
    "    closing_brackets = \")}]\"\n",
    "    matching_brackets = {\")\": \"(\", \"}\": \"{\", \"]\": \"[\"}\n",
    "    bracket_stack = []\n",
    "\n",
    "    for char in string:\n",
    "        if char in opening_brackets:\n",
    "            bracket_stack.append(char)\n",
    "        elif char in closing_brackets:\n",
    "            if len(bracket_stack) == 0:\n",
    "                return False\n",
    "            if bracket_stack[-1] == matching_brackets[char]:\n",
    "                bracket_stack.pop()\n",
    "            else:\n",
    "                return False\n",
    "    return len(bracket_stack) == 0\n",
    "\n",
    "print(balancedBrackets(\"([])[]({})\"))"
   ]
  }
 ]
}