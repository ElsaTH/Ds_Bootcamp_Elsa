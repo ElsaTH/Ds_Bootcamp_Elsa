{
 "cells": [
  {
   "cell_type": "markdown",
   "metadata": {},
   "source": [
    "### LIBRERÍAS PRINCIPALES"
   ]
  },
  {
   "cell_type": "code",
   "execution_count": null,
   "metadata": {},
   "outputs": [],
   "source": [
    "import pandas as pd\n",
    "import numpy as np\n",
    "import seaborn as sns\n",
    "import matplotlib.pyplot as plt"
   ]
  },
  {
   "cell_type": "markdown",
   "metadata": {},
   "source": [
    "# APRENDIZAJE SUPERVISADO"
   ]
  },
  {
   "cell_type": "markdown",
   "metadata": {},
   "source": [
    "### CONCEPTOS IMPORTANTES A TENER EN CUENTA:   En que parte del esquema entran a formar parte!!!!!!!!!!\n",
    "\n",
    "Kernels:    transforman conjunto de datos en una dimensión superior\n",
    "\n",
    "ravel():    función que transforma a vector (Numpy)"
   ]
  },
  {
   "cell_type": "code",
   "execution_count": null,
   "metadata": {},
   "outputs": [],
   "source": [
    "#Example Kfold:\n",
    "\n",
    "X_train_example = np.array([[1, 2], [3, 4], [1, 2], [3, 4]])\n",
    "y_train_example = np.array([[1], [3], [1], [3]])\n",
    "random_state = 12883823\n",
    "rkf = RepeatedKFold(n_splits=4, n_repeats=1, random_state=random_state)\n",
    "for train in rkf.split(X=X_train_example):\n",
    "    # Izquierda -- Conjuntos de entrenamiento por iteración\n",
    "    # Derecha -- Conjuntos de validación por iteración\n",
    "    # n_repeats -- Representa el número de batches que van a ocurrir durante nuestro entrenamiento\n",
    "    print(train)"
   ]
  },
  {
   "cell_type": "code",
   "execution_count": null,
   "metadata": {},
   "outputs": [],
   "source": [
    "# Con un sólo bacht\n",
    "\n",
    "from sklearn.model_selection import KFold\n",
    "\n",
    "# define the model\n",
    "model = RandomForestClassifier()\n",
    "# evaluate the model \n",
    "# THIS DOESN'T TRAIN THE MODEL\n",
    "k_fold = KFold(n_splits=10, random_state=2)\n",
    "n_scores = cross_val_score(model, X_train, y_train, scoring='accuracy', cv=k_fold, n_jobs=-1, error_score='raise')\n",
    "# report performance\n",
    "print(n_scores)\n",
    "print('Accuracy: %.3f (%.3f)' % (mean(n_scores), std(n_scores)))"
   ]
  },
  {
   "cell_type": "code",
   "execution_count": null,
   "metadata": {},
   "outputs": [],
   "source": [
    "# ENTRENANDO\n",
    "\n",
    "k_fold = KFold(n_splits=33, random_state=1)\n",
    "val_score = []\n",
    "train_score = []\n",
    "# define the model\n",
    "model = RandomForestClassifier()\n",
    "for train, val in k_fold.split(X_train):\n",
    "    # train the model\n",
    "    model.fit(X_train[train], y_train[train])\n",
    "    score_val = model.score(X_train[val], y_train[val])\n",
    "    val_score.append(score_val)\n",
    "    score_train = model.score(X_train[train], y_train[train])\n",
    "    train_score.append(score_train)\n",
    "\n",
    "# EN UNA LINEA\n",
    "k_fold = KFold(n_splits=4, random_state=1)\n",
    "\n",
    "[model.fit(X_train[train], y_train[train]).score(X_train[val], y_train[val]) for train, val in k_fold.split(X_train)]"
   ]
  },
  {
   "cell_type": "code",
   "execution_count": null,
   "metadata": {},
   "outputs": [],
   "source": [
    "# CON 3 BATCHES\n",
    "\n",
    "# define the model\n",
    "model_batches = RandomForestClassifier()\n",
    "# evaluate the model\n",
    "cv = RepeatedStratifiedKFold(n_splits=10, n_repeats=10, random_state=2)\n",
    "n_scores = cross_val_score(model_batches, X_train, y_train, scoring='accuracy', cv=cv, n_jobs=-1, error_score='raise')\n",
    "# report performance\n",
    "print('Accuracy: %.3f (%.3f)' % (mean(n_scores), std(n_scores)))"
   ]
  },
  {
   "cell_type": "markdown",
   "metadata": {},
   "source": [
    "# PASOS QUE TODOS LOS MODELOS DE APRENDIZAJE SUPERVISADO TIENEN EN COMÚN:"
   ]
  },
  {
   "cell_type": "markdown",
   "metadata": {},
   "source": [
    "CARGAMOS LIBRERÍAS NECESARIAS DE NUESTRO MODELO\n",
    "\n",
    "CARGAMOS EL DATASET CORRESPONDIENTE"
   ]
  },
  {
   "cell_type": "code",
   "execution_count": null,
   "metadata": {},
   "outputs": [],
   "source": [
    "df = pd.read_csv(\"PAHT DEL ARCHIVO\")\n",
    "df.info()"
   ]
  },
  {
   "cell_type": "code",
   "execution_count": null,
   "metadata": {},
   "outputs": [],
   "source": [
    "Tratamos el dataset de la manera más adecuada para limpiar nuestro datos\n",
    "    Si hay alguna columna con muchos Nan lo bueno sería quitarla\n",
    "df = df.dropna()\n",
    "    esto es necesario para evitar futuros errores pero si quitaráis las columnas con Nan no haría falta, esto quita filas y por tanto no se lo podremos aplicar       al dataset de predicción\n",
    "    Si hay pocos Nan y la columna puede servir podemos cambiar Nan por O\n",
    "df.fillna(0, inplace=True)\n",
    "    \n",
    "    Quitar otras columnas es decisión vuestra como futuros data scientists \n",
    "df.drop(\"0\",1,inplace = True) -- eliminar alguna columna...\n",
    "\n",
    "    Cambiar algunas filas si guarda correlación de string a int para que nuestro modelo pueda trabajar con ella\n",
    "from sklearn import preprocessing\n",
    "Este transformador debe usarse para codificar valores objetivo, es decir y , y no la entrada X.\n",
    " \n",
    "le = preprocessing.LabelEncoder()\n",
    "le.fit([1, 2, 2, 6])\n",
    "LabelEncoder()\n",
    "le.classes_\n",
    "array([1, 2, 6])\n",
    "le.transform([1, 1, 2, 6])\n",
    "array([0, 0, 1, 2]...)\n",
    "le.inverse_transform([0, 0, 1, 2])\n",
    "array([1, 1, 2, 6])\n",
    " \n"
   ]
  },
  {
   "cell_type": "code",
   "execution_count": null,
   "metadata": {},
   "outputs": [],
   "source": [
    "# otra forma de conseguir el transform de todo el dataframe a la vez:\n",
    "class MultiColumnLabelEncoder:\n",
    "       def __init__(self,columns = None):\n",
    "           self.columns = columns # array of column names to encode\n",
    "\n",
    "       def fit(self,X,y=None):\n",
    "           return self # not relevant here\n",
    "\n",
    "       def transform(self,X):\n",
    "           '''\n",
    "           Transforms columns of X specified in self.columns using\n",
    "           LabelEncoder(). If no columns specified, transforms all\n",
    "           columns in X.\n",
    "           '''\n",
    "           output = X.copy()\n",
    "           if self.columns is not None:\n",
    "               for col in self.columns:\n",
    "                   output[col] = LabelEncoder().fit_transform(output[col])\n",
    "           else:\n",
    "               for colname,col in output.iteritems():\n",
    "                   output[colname] = LabelEncoder().fit_transform(col)\n",
    "           return output\n",
    "\n",
    "       def fit_transform(self,X,y=None):\n",
    "           return self.fit(X,y).transform(X)class MultiColumnLabelEncoder:\n",
    "\n",
    "\n",
    "# Transformamos el datafrema df para las columnas que sean string los convierta a números. Hay que llamar a la función:\n",
    "encoding_pipeline = Pipeline([\n",
    "       ('encoding',MultiColumnLabelEncoder(columns=['2','4','6','7','8','12','13','15','17']))\n",
    "       # add more pipeline steps as needed\n",
    "])\n",
    "df_transformacion = encoding_pipeline.fit_transform(df)\n",
    "df_transformacion  "
   ]
  },
  {
   "cell_type": "code",
   "execution_count": null,
   "metadata": {},
   "outputs": [],
   "source": [
    "Importante para el análisis de datos puede ser:\n",
    "    * Exploración de datos del análisis del dataset\n",
    "sns.pairplot(df) --> obtenemos las gráficas de una forma correlacionada\n",
    "    * Comprobar la correlación entre las columnas\n",
    "df.corr()\n",
    "    * Comprobar la correlación entre las columnas de una forma visual\n",
    "# Dibujo la matriz de correlación\n",
    "plt.figure(figsize=(16, 16))\n",
    "sns.heatmap(df_transformacion.corr(), annot = True, cmap=\"YlGnBu\")\n",
    "    * Cualquier otra gráfica que nos permita entender nuestros datos\n",
    "# Codigo de la matriz de correlación para que se incluya asi mism\n",
    "df.corr().Murder.sort_values(ascending = False)[1:].head()\n",
    "(El [1:] es para que no se incluya a sí mismo)\n",
    "Para entender el código te aconsejo que ejecutes en diferentes celdas estos trocitos de código:\n",
    "df.corr()\n",
    "df.corr().Murder\n",
    "df.corr().Murder.sort_values()\n",
    "df.corr().Murder.sort_values(ascending = False)\n",
    "df.corr().Murder.sort_values(ascending = False).head()\n",
    "df.corr().Murder.sort_values(ascending = False)[1:].head() (editado) "
   ]
  },
  {
   "cell_type": "markdown",
   "metadata": {},
   "source": [
    "#### 1. Definir X e y"
   ]
  },
  {
   "cell_type": "code",
   "execution_count": null,
   "metadata": {},
   "outputs": [],
   "source": [
    "Una vez terminado de hacer todos lo ajustes en nuestro dataset procedamos a prepararlo para el modelo\n",
    "Definimos X e y, ambos tienen que ser array. \n",
    "    Formas de convertir una columna en un array:\n",
    "# Cuando se trata de un dataframe\n",
    "X = df[\"Avg. Area Income\"].values\n",
    "y = df[\"Price\"].values\n",
    "\n",
    "# Cuando se trata de un dataframe\n",
    "X = df[\"Avg. Area Income\"].to_numpy()\n",
    "y = df[\"Price\"].to_numpy()\n",
    "\n",
    "# Cuando se trata de una lista\n",
    "X = np.array(lista_edad)    --> X = np.array(df[[\"1\",\"3\",\"5\",\"9\"]])\n",
    "y = np.array(lista_altura)  --> y = np.array(df['17'])\n",
    "\n",
    "Si X.shape la solución es (100,) --> VECTOR\n",
    "Si X.reshape(-1, 1).shape la solución es (100, 1) --> MATRIZ\n",
    "# Importante aplicar reshape\n",
    "X = X.reshape(-1, 1)  # IMPORTANTE DEFINIR AQUI LA CONVERSIÓN DEL ARRAY, para no tener que ponerlo en cada linea de codigo del plt\n",
    "# Cuando nos enfrentamos a arrays de imágenes. Importante que la matriz sea cuadrada. Ej:\n",
    "k = np.rashape(imagen, (8,8)) # 8x8 = 64 pixels"
   ]
  },
  {
   "cell_type": "code",
   "execution_count": null,
   "metadata": {},
   "outputs": [],
   "source": [
    "Está bien comprobar shape, nos muestra las dimensiones de un array\n",
    "X.shape\n",
    "y.shape\n",
    "La X y la y han de coincidir con la misma dimensión sino va a dar errores en el modelo. De ahí muchas veces lo de reshape"
   ]
  },
  {
   "cell_type": "markdown",
   "metadata": {},
   "source": [
    "#### 2. Dividir X_train, X_test, y_train, y_test#### "
   ]
  },
  {
   "cell_type": "code",
   "execution_count": null,
   "metadata": {},
   "outputs": [],
   "source": [
    " # Utilizamos split que divide el conjunto de entrenamiento y conjunto de test. Si no dicen nada:\n",
    " # Conjunto de entrenamiento = 80 %\n",
    " # Conjunto test = 20 %\n",
    " # Se coloca en test_size = 0.20 \n",
    "\n",
    "X_train, X_test, y_train, y_test = train_test_split(X, y, test_size=0.20)\n",
    "X_train\n",
    "y_train"
   ]
  },
  {
   "cell_type": "markdown",
   "metadata": {},
   "source": [
    "#### 3. Asignar el modelo (vacío) a una variable\n",
    "Aquí meteríais los parámetros"
   ]
  },
  {
   "cell_type": "code",
   "execution_count": null,
   "metadata": {},
   "outputs": [],
   "source": [
    "Ejemplo: Si nuestro modelo es de regresión lineal\n",
    "model = linear_model.LogisticRegression()\n",
    "# la otra forma, pero lo mismo: model = LogisticRegression()\n",
    "\n",
    "En este apartado importando su librería correspondiente es donde aplicamos el modelo"
   ]
  },
  {
   "cell_type": "markdown",
   "metadata": {},
   "source": [
    "#### 4. Entrenar el modelo con X_train, y_train"
   ]
  },
  {
   "cell_type": "code",
   "execution_count": null,
   "metadata": {},
   "outputs": [],
   "source": [
    "model.fit(X_train, y_train)"
   ]
  },
  {
   "cell_type": "markdown",
   "metadata": {},
   "source": [
    "#### 5. Predecir con el modelo ya entrenado con X_test/to_pred#### "
   ]
  },
  {
   "cell_type": "code",
   "execution_count": null,
   "metadata": {},
   "outputs": [],
   "source": [
    "predictions = model.predict(X_test)\n",
    "print(predictions)"
   ]
  },
  {
   "cell_type": "markdown",
   "metadata": {},
   "source": [
    "#### 6. Sacar métricas, valorar el modelo "
   ]
  },
  {
   "cell_type": "code",
   "execution_count": null,
   "metadata": {},
   "outputs": [],
   "source": [
    "Obtenemos el porcentaje de nuestro X_test de los aciertos \n",
    "model.score(X_test,y_test)"
   ]
  },
  {
   "cell_type": "markdown",
   "metadata": {},
   "source": [
    "# * MODELOS DE REGRESIÓN"
   ]
  },
  {
   "cell_type": "markdown",
   "metadata": {},
   "source": [
    "## REGRESION LINEAL"
   ]
  },
  {
   "cell_type": "markdown",
   "metadata": {},
   "source": [
    "Importamos librerías:"
   ]
  },
  {
   "cell_type": "code",
   "execution_count": null,
   "metadata": {},
   "outputs": [],
   "source": [
    "from sklearn.metrics import mean_squared_error, mean_absolute_error\n",
    "from sklearn.model_selection import train_test_split\n",
    "from sklearn.linear_model import LinearRegression"
   ]
  },
  {
   "cell_type": "markdown",
   "metadata": {},
   "source": [
    "Dividimos los datos para su futuro entrenamiento"
   ]
  },
  {
   "cell_type": "code",
   "execution_count": null,
   "metadata": {},
   "outputs": [],
   "source": [
    "X_train, X_val, y_train, y_val = train_test_split(X, y, test_size=test_size)"
   ]
  },
  {
   "cell_type": "markdown",
   "metadata": {},
   "source": [
    "Forma de dibujar la regresión lineal"
   ]
  },
  {
   "cell_type": "code",
   "execution_count": null,
   "metadata": {},
   "outputs": [],
   "source": [
    "#  Generamos el modelo\n",
    "lm = LinearRegression(n_jobs=-1) # usa todos los procesadores del ordenador\n",
    "# Entrenamos el modelo\n",
    "lm.fit(X,y)\n",
    "# Visualización de nuestros datos y dibujar la línea de regresión lineal\n",
    "plt.scatter(X,y, edgecolor='White')\n",
    "plt.plot(X, lm.predict(X), color='k')\n",
    "plt.show()"
   ]
  },
  {
   "cell_type": "markdown",
   "metadata": {},
   "source": [
    "### Función para dibujar de un dataframe los datos y la regresión lineal"
   ]
  },
  {
   "cell_type": "code",
   "execution_count": null,
   "metadata": {},
   "outputs": [],
   "source": [
    "for elem in df.columns:\n",
    "    X = df[elem].values.reshape(-1, 1)\n",
    "    y = df[\"Price\"]\n",
    "   \n",
    "    new_model = LinearRegression()\n",
    "    new_model.fit(X,y)\n",
    "    plt.scatter(X,y, edgecolor='White')\n",
    "    plt.plot(X, new_model.predict(X), color='k')\n",
    "    plt.show()"
   ]
  },
  {
   "cell_type": "markdown",
   "metadata": {},
   "source": [
    "* Evaluación del modelo"
   ]
  },
  {
   "cell_type": "code",
   "execution_count": null,
   "metadata": {},
   "outputs": [],
   "source": [
    "# y = a + bX\n",
    "\n",
    "## lm = model = lin_reg\n",
    "# b, pendiente\n",
    "b = lin_reg.coef_ \n",
    "\n",
    "# a, secante\n",
    "a = lin_reg.intercept_\n",
    "\n",
    "# Ejemplo para datraframe\n",
    "coeff_df = pd.DataFrame(lm.coef_, X.columns, columns=['Coefficient'])"
   ]
  },
  {
   "cell_type": "markdown",
   "metadata": {},
   "source": [
    "* Predicción del modelo"
   ]
  },
  {
   "cell_type": "code",
   "execution_count": null,
   "metadata": {},
   "outputs": [],
   "source": [
    "new_home = np.array([[100000.0, 20.0, 8.0, 9.0, 100000.0], [200000.0, 40.0, 16.0, 18.0, 110000.0]])\n",
    "lm.predict(new_home)\n",
    "predictions = lm.predict(X_test)\n",
    "plt.scatter(y_test, predictions, edgecolor='black')\n",
    "\n",
    "# Cuando hacemos una predicción del modelo la forma de ver si es bueno visualmente\n",
    "plt.scatter(y_test, predictions) --> y_test son datos reales, predictions son datos predecidos"
   ]
  },
  {
   "cell_type": "markdown",
   "metadata": {},
   "source": [
    "* Dibujamos el histograma"
   ]
  },
  {
   "cell_type": "code",
   "execution_count": null,
   "metadata": {},
   "outputs": [],
   "source": [
    "sns.distplot((y_test - predictions), bins = 50, hist_kws=dict(edgecolor=\"black\", linewidth=1),color='Blue')"
   ]
  },
  {
   "cell_type": "markdown",
   "metadata": {},
   "source": [
    "* Cálculo de errores\n",
    "Calculando el error medio absoluto, el error medio al cuadrado y el error medio al cuadrado de la raíz\n",
    "\n",
    "    MAE es el más fácil de entender, porque es el error promedio.\n",
    "    MSE es más popular que el MAE, porque la MSE \"castiga\" los errores más grandes, lo que tiende a ser útil en el mundo real.\n",
    "    RMSE es incluso más popular que MSE, porque RMSE es interpretable en las unidades \"y\".\n",
    "Todas estas son funciones de pérdida, porque queremos minimizarlas."
   ]
  },
  {
   "cell_type": "code",
   "execution_count": null,
   "metadata": {},
   "outputs": [],
   "source": [
    "from sklearn import metrics\n",
    "# Se pueden importar las librerías una a una\n",
    "from sklearn.metrics import mean_squared_error"
   ]
  },
  {
   "cell_type": "code",
   "execution_count": null,
   "metadata": {},
   "outputs": [],
   "source": [
    "print('MAE:', metrics.mean_absolute_error(y_test, predictions))\n",
    "print('MSE:', metrics.mean_squared_error(y_test, predictions))\n",
    "print('RMSE:', np.sqrt(metrics.mean_squared_error(y_test, predictions)))"
   ]
  },
  {
   "cell_type": "markdown",
   "metadata": {},
   "source": [
    "* Función para cálculo de errores"
   ]
  },
  {
   "cell_type": "code",
   "execution_count": null,
   "metadata": {},
   "outputs": [],
   "source": [
    "train_errors, val_errors = [], []\n",
    "\n",
    "def plot_learning_curves(model, X, y, test_size=0.05):\n",
    "    # Dividimos los datos para su futuro entrenamiento\n",
    "    X_train, X_val, y_train, y_val = train_test_split(X, y, test_size=test_size)\n",
    "    \n",
    "    for m in range(1, len(X_train)):  # Incremental\n",
    "        \n",
    "        x = X_train[:m]\n",
    "        y = y_train[:m]\n",
    "        # Entrenamos los datos\n",
    "        model.fit(x, y)\n",
    "        # Predecimos el modelo\n",
    "        y_train_predict = model.predict(x)\n",
    "        y_val_predict = model.predict(X_val)\n",
    "        # Añadimos a nuestra lista la media de errores absolutos tanto en conjunto de entrenamiento como en                 validación\n",
    "        train_errors.append(mean_absolute_error(y, y_train_predict))\n",
    "        val_errors.append(mean_absolute_error(y_val, y_val_predict))\n",
    "       \n",
    "        print(\"##### ITERACIÓN \" + str(m) + \" #####\")\n",
    "        print(\"x\", x)\n",
    "        print(\"y\", y)\n",
    "        print(\"y_train_predict\", y_train_predict)\n",
    "        print(\"-----\\nX_val\\n\", X_val)\n",
    "        print(\"y_val_predict\", y_val_predict)\n",
    "\n",
    "\n",
    "## model es lo mismo que lin_reg\n",
    "model = LinearRegression()\n",
    "# Dibujamos los datos y la línea de regresión lineal\n",
    "plot_learning_curves(lin_reg=model, X, y)\n",
    "# Dibujamos los errores reales\n",
    "plt.plot(train_errors, \"r-+\", linewidth=2, label=\"train\")\n",
    "# Dibujamos lo errores de validación\n",
    "plt.plot(val_errors, \"b-\", linewidth=3, label=\"val\")"
   ]
  },
  {
   "cell_type": "markdown",
   "metadata": {},
   "source": [
    "* Porcentaje de error --> Scores"
   ]
  },
  {
   "cell_type": "code",
   "execution_count": null,
   "metadata": {},
   "outputs": [],
   "source": [
    "lm.score(X_train, y_train) * 100 # Entrenamiento\n",
    "lm.score(X_test, y_test) * 100  # Test\n",
    "lm.score(X, y) * 100  # Test"
   ]
  },
  {
   "cell_type": "markdown",
   "metadata": {},
   "source": [
    "## REGRESIÓN POLINÓMICA NO LINEAL"
   ]
  },
  {
   "cell_type": "code",
   "execution_count": null,
   "metadata": {},
   "outputs": [],
   "source": [
    "from sklearn.model_selection import train_test_split\n",
    "from sklearn.preprocessing import PolynomialFeatures\n",
    "from sklearn.linear_model import LinearRegression\n",
    "from sklearn.metrics import r2_score, mean_absolute_error"
   ]
  },
  {
   "cell_type": "code",
   "execution_count": null,
   "metadata": {},
   "outputs": [],
   "source": [
    "X = df[df.columns[:-1]].values\n",
    "y = df[\"Price\"].values\n",
    "\n",
    "X_train, X_test, y_train, y_test = train_test_split(X, y,test_size=0.2)\n",
    "\n",
    "polinominal_model = PolynomialFeatures(degree) \n",
    "X_poly = polinominal_model.fit_transform(X_train, y_train)\n",
    "\n",
    "#######\n",
    "\n",
    "lin_reg_model = LinearRegression()\n",
    "lin_reg_model.fit(X_poly, y_train) # X_poly aprende lo que ha sacado de cada uno de los coeficientes del modelo\n",
    "y_pred = lin_reg_model.predict(X_poly)\n",
    "\n",
    "print(\"y_pred\", y_pred.shape)\n",
    "print(\"Score:\", r2_score(y_train, y_pred)*100, \" %\")"
   ]
  },
  {
   "cell_type": "markdown",
   "metadata": {},
   "source": [
    "#### Otra forma aplicando una función con min y max:"
   ]
  },
  {
   "cell_type": "code",
   "execution_count": null,
   "metadata": {},
   "outputs": [],
   "source": [
    "# Min and max degree of polynomials features to consider\n",
    "degree_min = 2\n",
    "degree_max = 10\n",
    "# Make a pipeline model with polynomial transformation and LASSO regression with cross-validation, run it for increasing degree of polynomial (complexity of the model)\n",
    "scores = []\n",
    "for degree in range(degree_min,degree_max+1):\n",
    "    print(\"-----------------\")\n",
    "    polinominal_model = PolynomialFeatures(degree) \n",
    "    X_poly = polinominal_model.fit_transform(X_train,y_train)\n",
    "\n",
    "    #######\n",
    "    print(X_poly.shape)\n",
    "\n",
    "    lin_reg_model = LinearRegression()\n",
    "    lin_reg_model.fit(X_poly, y_train)\n",
    "    y_pred = lin_reg_model.predict(X_poly)\n",
    "    \n",
    "    print(degree)\n",
    "    print(\"y_pred\", y_pred.shape)\n",
    "    print(\"Score:\", r2_score(y_train, y_pred))"
   ]
  },
  {
   "cell_type": "markdown",
   "metadata": {},
   "source": [
    "#### Forma gráfica"
   ]
  },
  {
   "cell_type": "code",
   "execution_count": null,
   "metadata": {},
   "outputs": [],
   "source": [
    "from sklearn.preprocessing import PolynomialFeatures\n",
    "degree = 3\n",
    "\n",
    "polinominal_model = PolynomialFeatures(degree) \n",
    "X_poly = polinominal_model.fit_transform(X_train.reshape(-1, 1), y_train)\n",
    "\n",
    "#######\n",
    "print(X_poly)\n",
    "print(X_poly.shape)\n",
    "\n",
    "lin_reg_model = LinearRegression()\n",
    "lin_reg_model.fit(X_poly, y_train)\n",
    "y_pred = lin_reg_model.predict(X_poly)\n",
    "\n",
    "print(\"y_pred\", y_pred.shape)\n",
    "print(\"Score:\", r2_score(y_train, y_pred))\n",
    "\n",
    "X_train_to_show, y_train_to_show = zip(*sorted(zip(X_train, y_train)))\n",
    "plt.scatter(X_train_to_show, y_train_to_show, color='b')\n",
    "X_train_to_show, y_pred = zip(*sorted(zip(X_train, y_pred)))\n",
    "plt.plot(X_train_to_show, y_pred, color='red')\n",
    "plt.scatter(X_train_to_show, y_pred, color='red')\n",
    "plt.title(\"Poninominal degree \" + str(degree))\n",
    "plt.show()"
   ]
  },
  {
   "cell_type": "markdown",
   "metadata": {},
   "source": [
    "## SVM --> SVR"
   ]
  },
  {
   "cell_type": "code",
   "execution_count": null,
   "metadata": {},
   "outputs": [],
   "source": [
    "## SVM\n",
    "TIENE DOS TIPOS \n",
    "\n",
    "    SVR --> algoritmo de regresión\n",
    "\n",
    "    SVC --> algoritmo de clasificación\n",
    "\n",
    "    Kernels: transforman conjunto de datos en una dimensión superior. Hay problemas que no se pueden resolver usando un hiperplano recto. En esos casos, SVM utiliza un Kernel que tranforma un conjunto de datos en una dimensión superior (realiza una operación sobre cada punto).\n",
    "Hay diferentes Kernels que son utilizados según la distribución de los datos.\n",
    "TIPOS:\n",
    "svr_rbf = SVR(kernel='rbf', C=100, gamma=0.1, epsilon=.1)\n",
    "svr_lin = SVR(kernel='linear', C=100, gamma='auto')\n",
    "svr_poly = SVR(kernel='poly', C=100, gamma='auto', degree=3, epsilon=.1, coef0=1)"
   ]
  },
  {
   "cell_type": "code",
   "execution_count": null,
   "metadata": {},
   "outputs": [],
   "source": [
    "X = df.iloc[:,-1].values.astype(float)\n",
    "y = df[\"Price\"].values.astype(float)\n",
    "\n",
    "#3 Feature Scaling\n",
    "from sklearn.preprocessing import StandardScaler\n",
    "# Normalizar\n",
    "sc_X = StandardScaler()\n",
    "sc_y = StandardScaler()\n",
    "X = sc_X.fit_transform(X.reshape(-1, 1))  # cuidado con reshape que a veces no hace falta ponerlo porque es un array\n",
    "y = sc_y.fit_transform(y.reshape(-1, 1))\n",
    "#4 Fitting the Support Vector Regression Model to the dataset\n",
    "# Create your support vector regressor here\n",
    "from sklearn.svm import SVR\n",
    "# most important SVR parameter is Kernel type. It can be #linear,polynomial or gaussian SVR. We have a non-linear condition #so we can select polynomial or gaussian but here we select RBF(a #gaussian type) kernel.\n",
    "regressor = SVR(kernel='poly', C=100, gamma='auto', degree=3, epsilon=.1, coef0=1)\n",
    "regressor.fit(X,y)\n",
    "#5 Predicting a new result\n",
    "y_pred = regressor.predict(X)\n",
    "# 6 Visualización de los resultados de la regresión de vectores de soporte\n",
    "plt.scatter (X, y, color = 'magenta') \n",
    "plt.plot (X, y_pred, color = 'green') \n",
    "plt.title ('USA_Housing') \n",
    "plt .xlabel ('Nivel de posición') \n",
    "plt.ylabel ('Price') \n",
    "plt.show ()"
   ]
  },
  {
   "cell_type": "code",
   "execution_count": null,
   "metadata": {},
   "outputs": [],
   "source": [
    "import numpy as np\n",
    "from sklearn.svm import SVR\n",
    "import matplotlib.pyplot as plt\n",
    "\n",
    "# #############################################################################\n",
    "# Generate sample data\n",
    "X = np.sort(5 * np.random.rand(40, 1), axis=0)\n",
    "y = np.sin(X).ravel()\n",
    "\n",
    "# #############################################################################\n",
    "# Add noise to targets\n",
    "y[::5] += 3 * (0.5 - np.random.rand(8))\n",
    "\n",
    "# #############################################################################\n",
    "# Fit regression model\n",
    "svr_rbf = SVR(kernel='rbf', C=100, gamma=0.1, epsilon=.1)\n",
    "svr_lin = SVR(kernel='linear', C=100, gamma='auto')\n",
    "svr_poly = SVR(kernel='poly', C=100, gamma='auto', degree=3, epsilon=.1, coef0=1)\n",
    "\n",
    "# #############################################################################\n",
    "# Look at the results\n",
    "lw = 2\n",
    "\n",
    "svrs = [svr_rbf, svr_lin, svr_poly]\n",
    "kernel_label = ['RBF', 'Linear', 'Polynomial']\n",
    "model_color = ['m', 'c', 'g']\n",
    "\n",
    "fig, axes = plt.subplots(nrows=1, ncols=3, figsize=(15, 10), sharey=True)\n",
    "for ix, svr in enumerate(svrs):\n",
    "    model = svr.fit(X, y)\n",
    "    y_prediction = model.predict(X)\n",
    "    axes[ix].plot(X, y_prediction, color=model_color[ix], lw=lw,\n",
    "                  label='{} model'.format(kernel_label[ix]))\n",
    "    axes[ix].scatter(X[svr.support_], y[svr.support_], facecolor=\"none\",\n",
    "                     edgecolor=model_color[ix], s=50,label='{} support vectors'.format(kernel_label[ix]))\n",
    "    axes[ix].scatter(X[np.setdiff1d(np.arange(len(X)), svr.support_)],\n",
    "                     y[np.setdiff1d(np.arange(len(X)), svr.support_)],\n",
    "                     facecolor=\"none\", edgecolor=\"k\", s=50,\n",
    "                     label='other training data')\n",
    "    axes[ix].legend(loc='upper center', bbox_to_anchor=(0.5, 1.1),\n",
    "                    ncol=1, fancybox=True, shadow=True)\n",
    "\n",
    "fig.text(0.5, 0.04, 'data', ha='center', va='center')\n",
    "fig.text(0.06, 0.5, 'target', ha='center', va='center', rotation='vertical')\n",
    "fig.suptitle(\"Support Vector Regression\", fontsize=14)\n",
    "plt.show()"
   ]
  },
  {
   "cell_type": "markdown",
   "metadata": {},
   "source": [
    "# * MODELOS DE CLASIFICACIÓN"
   ]
  },
  {
   "cell_type": "markdown",
   "metadata": {},
   "source": [
    "## REGRESIÓN LOGÍSTICA"
   ]
  },
  {
   "cell_type": "code",
   "execution_count": null,
   "metadata": {},
   "outputs": [],
   "source": [
    "from sklearn.model_selection import train_test_split\n",
    "from sklearn.linear_model import LinearRegression\n",
    "from sklearn.neighbors import KNeighborsClassifier\n",
    "from sklearn import metrics\n",
    "\n",
    "# COMPROBAR QUE LIBRERÍAS VAN PARA CADA CASO"
   ]
  },
  {
   "cell_type": "code",
   "execution_count": null,
   "metadata": {},
   "outputs": [],
   "source": [
    "url = https://www.aprendemachinelearning.com/regresion-logistica-con-python-paso-a-paso/\n",
    "\n",
    "REGRESION LOGÍSTICA\n",
    "# Creamos modelo\n",
    "\n",
    "X = np.array(dataframe.drop(['clase'],1))\n",
    "y = np.array(dataframe['clase'])\n",
    "X.shape\n",
    "\n",
    "# creamos nuestro modelo y hacemos que se ajuste (fit) a nuestro conjunto de entradas X y salidas ‘y’.\n",
    "Hay dos formas de crear el modelo. Es lo mismo pero importando de diferente manera las librerías.\n",
    "# Si importamos la librería así podemos crear el modelo de esta manera:\n",
    "from sklearn.linear_model import LinearRegression\n",
    "\"\"\"Estás trayendo del módulo linear_model de sklearn la función LogisticRegression() y por tanto puedes hacer alusión en ese archivo a esa función sin especificar de dónde viene\"\"\"\n",
    "logisticRegr = LogisticRegression()\n",
    "\n",
    "\n",
    "from sklearn import linear_model \n",
    "\"\"\"entonces si hace falta que especifiques el modulo y la función que quieres de ese modulo cada vez que vayas a usarla\"\"\"\n",
    "model = linear_model.LogisticRegression()\n",
    "\n",
    "\n",
    "# Entrenamos modelo\n",
    "model.fit(X,y) --> toma todos los datos sin tener en cuenta train y test \n",
    "Lo ideal para generar un buen modelo es:\n",
    "model.fit(X_train, y_train) --> toma los datos de entrenamiento, y asi los podemos comparar con los de test\n",
    "\n",
    "p class=””>LogisticRegression(C=1.0, class_weight=None, dual=False, fit_intercept=True,\n",
    "intercept_scaling=1, max_iter=100, multi_class=’ovr’, n_jobs=1,\n",
    "penalty=’l2′, random_state=None, solver=’liblinear’, tol=0.0001,\n",
    "verbose=0, warm_start=False)\n",
    "\n",
    "# Una vez completado nuestro modelo, le hacemos clasificar todo nuestro conjunto de entradas X utilizando el método “predict(X)” y revisamos algunas de sus salidas y vemos que coincide con las salidas reales de nuestro archivo csv.\n",
    "predictions = model.predict(X)\n",
    "\n",
    "model.score(X,y) --> da un porcentaje Con este método puedes obtener el porcentaje de train, test, val de todos los ciertos de tu modelo\n",
    "\n",
    "# Validación de nuestro modelo:\n",
    "Para ello, subdividimos nuestros datos de entrada en forma aleatoria (mezclados) utilizando 80% de registros para entrenamiento y 20% para validar.\n",
    "validation_size = 0.20\n",
    "seed = 7\n",
    "X_train, X_validation, Y_train, Y_validation = model_selection.train_test_split(X, y, test_size=validation_size, random_state=seed)\n",
    "#Volvemos a compilar nuestro modelo de Regresión Logística pero esta vez sólo con 80% de los datos de entrada y calculamos el nuevo scoring \n",
    "\n",
    "________________________\n",
    "El procedimiento de validación cruzada k-fold es un método estándar para estimar el rendimiento de un algoritmo de aprendizaje automático en un conjunto de datos.\n",
    "valor común para k es 10\n",
    "\n",
    "# evaluate a logistic regression model using k-fold cross-validation\n",
    "from numpy import mean\n",
    "from numpy import std\n",
    "from sklearn.datasets import make_classification\n",
    "from sklearn.model_selection import KFold\n",
    "from sklearn.model_selection import cross_val_score\n",
    "from sklearn.linear_model import LogisticRegression\n",
    "# create dataset\n",
    "X, y = make_classification(n_samples=100, n_features=20, n_informative=15, n_redundant=5, random_state=1)\n",
    "# prepare the cross-validation procedure\n",
    "cv = KFold(n_splits=10, random_state=1, shuffle=True)\n",
    "# create model\n",
    "model = LogisticRegression()\n",
    "# evaluate model\n",
    "scores = cross_val_score(model, X, y, scoring='accuracy', cv=cv, n_jobs=-1)\n",
    "# report performance\n",
    "print('Accuracy: %.3f (%.3f)' % (mean(scores), std(scores)))\n",
    "Al ejecutar el ejemplo, se crea el conjunto de datos y luego se evalúa un modelo de regresión logística en él mediante una validación cruzada de 10 veces. Luego se informa la precisión de clasificación media en el conjunto de datos.\n",
    "________________________\n",
    "VALIDACIÓN DEL MODELO:\n",
    "Kfold --> divide el conjunto de entrenamiento y validación. Si el conjunto de validación es más alto que el de entranmiento implica que hay un sobreentrenamiento.\n",
    "\n",
    "validation_size = 0.20\n",
    "seed = 7\n",
    "X_train, X_test, Y_train, Y_test = model_selection.train_test_split(X, y, test_size=validation_size, random_state=seed)\n",
    "\n",
    "name='Logistic Regression'\n",
    "kfold = model_selection.KFold(n_splits=10, random_state=seed)\n",
    "cv_results = model_selection.cross_val_score(model, X_train, Y_train, cv=kfold, scoring='accuracy')\n",
    "msg = \"%s: %f (%f)\" % (name, cv_results.mean(), cv_results.std())\n",
    "print(msg)\n",
    "\n",
    "predictions = model.predict(X_validation)\n",
    "acierto = accuracy_score(Y_test, predictions)\n",
    "\n",
    "error = 1 - acierto\n",
    "print(\"Acierto:\", round(acierto*100, 2), \"%\")\n",
    "print(\"Error:\", round(error*100, 2), \"%\")"
   ]
  },
  {
   "cell_type": "markdown",
   "metadata": {},
   "source": [
    "Matriz de confusión para regresión logística:  SÓLO ES PARA MODELOs DE CLASIFICACION."
   ]
  },
  {
   "cell_type": "code",
   "execution_count": null,
   "metadata": {},
   "outputs": [],
   "source": [
    "import sklearn.metrics as metrics\n",
    "predictions = logisticRegr.predict(x_test)\n",
    "cm = metrics.confusion_matrix(y_test, predictions)\n",
    "# forma matemática"
   ]
  },
  {
   "cell_type": "code",
   "execution_count": null,
   "metadata": {},
   "outputs": [],
   "source": [
    "import seaborn as sns\n",
    "\n",
    "plt.figure(figsize=(8,8))\n",
    "sns.heatmap(cm, annot=True, fmt=\".3f\", linewidths=.5, square = True, cmap = 'Blues_r')\n",
    "plt.ylabel('Actual label')\n",
    "plt.xlabel('Predicted label')\n",
    "all_sample_title = 'Accuracy Score: {0}'.format(score)\n",
    "plt.title(all_sample_title, size = 15)\n",
    "# forma visual"
   ]
  },
  {
   "cell_type": "markdown",
   "metadata": {},
   "source": [
    "Probabilidades:"
   ]
  },
  {
   "cell_type": "code",
   "execution_count": null,
   "metadata": {},
   "outputs": [],
   "source": [
    "logisticRegr.predict(x_test[0:1])  # te devuelve un array con un número que es la posición donde se encuentra.\n",
    "logisticRegr.predict_proba(x_test[0:1]) # predice la probabilidad en cada posición.\n",
    "logisticRegr.classes_ # classes_ es el atributo que no dice la clase\n",
    "max(logisticRegr.predict_proba(x_test[0:1])[0]) # calcula el máximo en número x_test[0:1]es la primera imagen."
   ]
  },
  {
   "cell_type": "markdown",
   "metadata": {},
   "source": [
    "## KNN"
   ]
  },
  {
   "cell_type": "code",
   "execution_count": null,
   "metadata": {},
   "outputs": [],
   "source": [
    "url = https://www.aprendemachinelearning.com/clasificar-con-k-nearest-neighbor-ejemplo-en-python/\n",
    "\n",
    "MÉTODO QUE NO APRENDE VALORES SOBRE LOS DATOS, aprende las características de los datos.\n",
    "Utiliza todo el dataset para entrenar. Es muy bueno para pequeños dataset.\n",
    "Lógica:\n",
    "     creamos conjunto de datos     \n",
    "     entrenamos modelo en el conjunto de entrenamiento\n",
    "     elegimos valor k\n",
    "     introducimos nueva instancia\n",
    "     analizamos los k de alrededor más cercanos\n",
    "     elegir de que clase es el nuevo miembro\n",
    "\n",
    "KNN\n",
    "# First Feature\n",
    "weather=['Sunny','Sunny','Overcast','Rainy','Rainy','Rainy','Overcast','Sunny','Sunny',\n",
    "'Rainy','Sunny','Overcast','Overcast','Rainy']\n",
    "# Second Feature\n",
    "temp=['Hot','Hot','Hot','Mild','Cool','Cool','Cool','Mild','Cool','Mild','Mild','Mild','Hot','Mild']\n",
    "# Label or target varible\n",
    "play=['No','No','Yes','Yes','Yes','No','Yes','No','Yes','Yes','Yes','Yes','Yes','No']\n",
    "--------------------\n",
    "from sklearn import preprocessing\n",
    "le = preprocessing.LabelEncoder()   # creamos modelo\n",
    "# Converting string labels into numbers.\n",
    "weather_encoded = le.fit_transform(weather)  # a las palabras le asigna valores\n",
    "temp_encoded = le.fit_transform(temp)\n",
    "y = le.fit_transform(play)\n",
    "# Como está en una lista lo pasamos a array\n",
    "import numpy as np\n",
    "weather_encoded = np.array(weather_encoded)\n",
    "temp_encoded = np.array(temp_encoded)\n",
    "y = np.array(y)\n",
    "X = np.array(list(zip(weather_encoded,temp_encoded))) # agrupamos transformando en lista\n",
    "# Train the model using the training sets\n",
    "model.fit(X_train, y_train)  # Memorize some trivial features between 'features' and 'label'\n",
    "from sklearn.model_selection import train_test_split\n",
    "# Entrenamos el modelo\n",
    "X_train, X_test, y_train, y_test = train_test_split(X, y, test_size=0.25)\n",
    "from sklearn.neighbors import KNeighborsClassifier\n",
    "m_neigbors es = k\n",
    "model = KNeighborsClassifier(n_neighbors=6)\n",
    "\n",
    "y_pred = model.predict(X_test)\n",
    "from sklearn import metrics\n",
    "\"\"\"\n",
    "Modelo de precisión que te dice cuántas veces el clasificador es corecto\n",
    "\"\"\"\n",
    "print(\"Accuracy:\", metrics.accuracy_score(y_test, y_pred))  #y_test=target verdadero, y_pred=target predicho\n",
    "\n",
    "KNN \n",
    "# Creamos nuestro X e y de entrada y los sets de entrenamiento y test.\n",
    "X = dataframe[['wordcount','sentimentValue']].values\n",
    "y = dataframe['Star Rating'].values\n",
    " \n",
    "X_train, X_test, y_train, y_test = train_test_split(X, y, random_state=0)\n",
    "scaler = MinMaxScaler()\n",
    "X_train = scaler.fit_transform(X_train)  # transform cambia de filas a columnas\n",
    "X_test = scaler.transform(X_test)\n",
    "# Usemos k-Nearest Neighbor con Scikit Learn\n",
    "Definimos el valor de k en 7 (esto realmente lo sabemos más adelante, ya veréis) y creamos nuestro clasificador.\n",
    "n_neighbors = 7\n",
    " \n",
    "knn = KNeighborsClassifier(n_neighbors)\n",
    "knn.fit(X_train, y_train)\n",
    "print('Accuracy of K-NN classifier on training set: {:.2f}'\n",
    "     .format(knn.score(X_train, y_train)))\n",
    "print('Accuracy of K-NN classifier on test set: {:.2f}'\n",
    "     .format(knn.score(X_test, y_test)))\n",
    "# Precisión del modelo:\n",
    "\n",
    "pred = knn.predict(X_test)\n",
    "print(confusion_matrix(y_test, pred))\n",
    "print(classification_report(y_test, pred))\n",
    "\n",
    "#######\n",
    "# Elegir el mejor valor de k\n",
    "(sobre todo importante para desempatar o elegir los puntos frontera!)\n",
    "Antes vimos que asignamos el valor n_neighbors=7 como valor de “k” y obtuvimos buenos resultados. ¿Pero de donde salió ese valor?. Pues realmente tuve que ejecutar este código que viene a continuación, donde vemos distintos valores k y la precisión obtenida.\n",
    "\n",
    "k_range = range(1, 20)\n",
    "scores = []\n",
    "for k in k_range:\n",
    "    knn = KNeighborsClassifier(n_neighbors = k)\n",
    "    knn.fit(X_train, y_train)\n",
    "    scores.append(knn.score(X_test, y_test))\n",
    "plt.figure()\n",
    "plt.xlabel('k')\n",
    "plt.ylabel('accuracy')\n",
    "plt.scatter(k_range, scores)\n",
    "plt.xticks([0,5,10,15,20])"
   ]
  },
  {
   "cell_type": "markdown",
   "metadata": {},
   "source": [
    "## SVM\n",
    "TIENE DOS TIPOS \n",
    "\n",
    "    SVR --> algoritmo de regresión\n",
    "\n",
    "    SVC --> algoritmo de clasificación"
   ]
  },
  {
   "cell_type": "code",
   "execution_count": null,
   "metadata": {},
   "outputs": [],
   "source": [
    "Para encontrar los mejores parámetros para SVM, el data3_params() prueba diferentes combinaciones de C y gamma y devuelve la mejor elección de ellos para SVM con el kernel RBF.\n",
    "\n",
    "\n",
    "def data3_params(X, y, X_val, y_val):\n",
    "    \"\"\"\n",
    "    Returns the best choice of C and gamma for SVM with RBF kernel.\n",
    "\n",
    "    Parameters\n",
    "    ----------\n",
    "    X : ndarray, shape (n_samples, n_features)\n",
    "        Training samples, where n_samples is the number of samples and n_features is the number of features.\n",
    "    y : ndarray, shape (n_samples,)\n",
    "        Labels for training set.\n",
    "    X_val : ndarray, shape (n_val_samples, n_features)\n",
    "        Cross validation samples, where n_val_samples is the number of cross validation samples and n_features is the\n",
    "        number of features.\n",
    "    y_val : ndarray, shape (n_val_samples,)\n",
    "        Labels for cross validation set.\n",
    "\n",
    "    Returns\n",
    "    -------\n",
    "    C : float\n",
    "        The best choice of penalty parameter C of the error term.\n",
    "    gamma : float\n",
    "        The best choice of kernel coefficient for 'rbf'.\n",
    "    \"\"\"\n",
    "    C_cands = [0.01, 0.03, 0.1, 0.3, 1, 3, 10, 30]\n",
    "    gamma_cands = [0.01, 0.03, 0.1, 0.3, 1, 3, 10, 30]\n",
    "    max_score = -1\n",
    "    C_pick = -1\n",
    "    gamma_pick = -1\n",
    "    for C in C_cands:\n",
    "        for gamma in gamma_cands:\n",
    "            clf = svm.SVC(C=C, kernel='rbf', gamma=gamma)\n",
    "            clf.fit(X, y)\n",
    "            score = clf.score(X_val, y_val)\n",
    "            if score > max_score:\n",
    "                max_score = score\n",
    "                C_pick = C\n",
    "                gamma_pick = gamma\n",
    "\n",
    "    return C_pick, gamma_pick\n",
    "\n",
    "\n",
    "Entrena a SVM y traza el límite de decisión:\n",
    "\n",
    "C, gamma = data3_params(X, y, X_val, y_val)\n",
    "print(\"C\", C)\n",
    "print(\"gamma\", gamma)\n",
    "# Train the SVM\n",
    "clf = svm.SVC(C=C, kernel='rbf', gamma=gamma)\n",
    "clf.fit(X, y)\n",
    "print ('score:', clf.score(X_val, y_val))\n",
    "\n",
    "plt.figure()\n",
    "visualize_boundary(X, y, clf)\n",
    "plt.xlim([-0.6, 0.3])\n",
    "plt.ylim([-0.7, 0.6])\n",
    "plt.title(\"Dataset 3\")\n",
    "plt.show()"
   ]
  },
  {
   "cell_type": "markdown",
   "metadata": {},
   "source": [
    "## ARBOLES DE DECISIÓN"
   ]
  },
  {
   "cell_type": "markdown",
   "metadata": {},
   "source": [
    "https://towardsdatascience.com/random-forest-in-python-24d0893d51c0\n"
   ]
  },
  {
   "cell_type": "code",
   "execution_count": null,
   "metadata": {},
   "outputs": [],
   "source": [
    "....."
   ]
  },
  {
   "cell_type": "code",
   "execution_count": null,
   "metadata": {},
   "outputs": [],
   "source": [
    "#Clasificación de los árboles de decisión:\n",
    "from sklearn.datasets import make_classification\n",
    "# define dataset\n",
    "X, y = make_classification(n_samples=100, n_features=4, n_informative=2, random_state=3)\n",
    "# summarize the dataset\n",
    "print(X.shape, y.shape)"
   ]
  },
  {
   "cell_type": "code",
   "execution_count": null,
   "metadata": {},
   "outputs": [],
   "source": [
    "from sklearn.tree import DecisionTreeRegressor\n",
    "from sklearn.ensemble import RandomForestRegressor\n",
    "# evaluate random forest algorithm for classification\n",
    "from numpy import mean\n",
    "from numpy import std\n",
    "import numpy as np\n",
    "from sklearn.model_selection import train_test_split \n",
    "from sklearn.datasets import make_classification\n",
    "from sklearn.model_selection import cross_val_score\n",
    "from sklearn.model_selection import RepeatedStratifiedKFold, RepeatedKFold\n",
    "from sklearn.ensemble import RandomForestClassifier"
   ]
  },
  {
   "cell_type": "code",
   "execution_count": null,
   "metadata": {},
   "outputs": [],
   "source": [
    "X_train, X_test, y_train, y_test = train_test_split(X, y, test_size=0.2, random_state=2)"
   ]
  },
  {
   "cell_type": "code",
   "execution_count": null,
   "metadata": {},
   "outputs": [],
   "source": [
    "Ejemplo kfold.... No me queda claro cómo va este modelo"
   ]
  },
  {
   "cell_type": "markdown",
   "metadata": {},
   "source": [
    "https://www.aprendemachinelearning.com/arbol-de-decision-en-python-clasificacion-y-prediccion/"
   ]
  },
  {
   "cell_type": "markdown",
   "metadata": {},
   "source": [
    "## XGBOOST"
   ]
  },
  {
   "cell_type": "code",
   "execution_count": null,
   "metadata": {},
   "outputs": [],
   "source": [
    "XGBoost is an implementation of gradient boosted decision trees designed for speed and performance.\n",
    "\n",
    "from xgboost import XGBClassifier \n",
    "from sklearn.model_selection import train_test_split \n",
    "from sklearn.metrics import accuracy_score \n",
    "from sklearn.preprocessing import LabelEncoder\n"
   ]
  },
  {
   "cell_type": "code",
   "execution_count": null,
   "metadata": {},
   "outputs": [],
   "source": [
    "Ejemplo:\n",
    "df = pd.read_csv(\"../data/student-mat.csv\")\n",
    "\n",
    "X = df.drop(columns=[\"Fjob\"])\n",
    "y = df[[\"Fjob\"]]\n",
    "\n",
    "* Ejemplo encoder 1 -- Menos usado\n",
    "\n",
    "No ejecutar todo seguido porque esto cambia el resultado posterior. \n",
    "\n",
    "Es un ejemplo, no forma parte del ejercicio. Después seguiremos con él.\n",
    "\n",
    "y_ = y.copy()\n",
    "y_ = y_[\"Fjob\"].map({\"teacher\": 1})\n",
    "y_\n",
    "\n",
    "def encoder_serie(serie):\n",
    "    encoder = {}\n",
    "    for i, x in enumerate(serie):\n",
    "        if not (x in encoder):\n",
    "            encoder[x] = i\n",
    "    serie = serie.map(encoder)\n",
    "    return serie, encoder\n",
    "        \n",
    "serie, encoder = encoder_serie(serie=y[\"Fjob\"])\n",
    "print(serie)\n",
    "print(encoder)\n",
    "\n",
    "\n",
    "serie_Fjob, encoder_Fjob = encoder_serie(serie=y[\"Fjob\"])\n",
    "y[\"Fjob\"] = serie_Fjob\n",
    "y"
   ]
  },
  {
   "cell_type": "code",
   "execution_count": null,
   "metadata": {},
   "outputs": [],
   "source": [
    "Ejemplo encoder 2 más usado\n",
    "\n",
    "No ejecutar todo seguido porque esto cambia el resultado posterior. \n",
    "\n",
    "Es un ejemplo, no forma parte del ejercicio. Después seguiremos con él.\n",
    "le_Mjob = LabelEncoder()\n",
    "le_Mjob.fit(X[\"Mjob\"])\n",
    "list(le_Mjob.classes_)\n",
    "\n",
    "m_job = le_Mjob.transform(X[\"Mjob\"])\n",
    "m_job\n",
    "\n",
    "print(list(le_Mjob.inverse_transform(m_job)))\n"
   ]
  },
  {
   "cell_type": "markdown",
   "metadata": {},
   "source": [
    "#### Usamos encoder 2"
   ]
  },
  {
   "cell_type": "code",
   "execution_count": null,
   "metadata": {},
   "outputs": [],
   "source": [
    "le_Fjob = LabelEncoder()\n",
    "le_Fjob.fit(y[\"Fjob\"])\n",
    "y[\"Fjob\"] = le_Fjob.transform(y[\"Fjob\"]) \n",
    "\n",
    "df.select_dtypes('object').columns.tolist()\n",
    "\n",
    "# Encode all columns\n",
    "X_categorical_no_numbers = X[X.select_dtypes('object').columns].apply(LabelEncoder().fit_transform)\n",
    "X_categorical_no_numbers\n",
    "\n",
    "X_others = X.select_dtypes(exclude=['object'])\n",
    "X_others \n",
    "\n",
    "X = pd.concat([X_categorical_no_numbers,X_others], axis=1)\n",
    "X\n",
    "\n",
    "y.values.shape\n",
    "X = X.values\n",
    "y = y.values\n",
    "\n",
    "seed = 1\n",
    "X_train, X_test, y_train, y_test = train_test_split(X, y, test_size=0.33, random_state=seed) \n",
    "\n",
    "model = XGBClassifier() \n",
    "model.fit(X_train, y_train) \n",
    "#Make predictions for test data \n",
    "y_pred = model.predict(X_test)\n",
    "y_pred.shape\n",
    "\n",
    "model.score(X_test, y_test)model.score(X_test, y_test)"
   ]
  },
  {
   "cell_type": "markdown",
   "metadata": {},
   "source": [
    "# GridSearch\n",
    "GridSearch es una herramienta de optimización que usamos cuando afinamos los hiperparámetros. Definimos la cuadrícula de parámetros que queremos buscar y seleccionamos la mejor combinación de parámetros para nuestros datos."
   ]
  },
  {
   "cell_type": "code",
   "execution_count": null,
   "metadata": {},
   "outputs": [],
   "source": [
    "import warnings\n",
    "warnings.filterwarnings(\"ignore\", category=DeprecationWarning)"
   ]
  },
  {
   "cell_type": "code",
   "execution_count": null,
   "metadata": {},
   "outputs": [],
   "source": [
    "from sklearn import svm, datasets\n",
    "from sklearn.model_selection import GridSearchCV\n",
    "iris = datasets.load_iris()\n",
    "\n",
    "# 'kernel':('linear', 'poly', 'rbf', 'sigmoid'), \n",
    "\n",
    "parameters = {\n",
    "    'kernel':('linear', 'rbf', 'sigmoid'), \n",
    "    'C':[0.0001,0.1, 0.5, 1, 5, 10, 100], \n",
    "    'degree': [1,2,3,4,5,6,7,8,9],\n",
    "    'coef0': [-10.,-1., 0., 0.1, 0.5, 1, 10, 100],\n",
    "    'gamma': ('scale', 'auto')\n",
    "    }\n",
    "\n",
    "svc = svm.SVC()\n",
    "\n",
    "clf = GridSearchCV(estimator=svc, param_grid=parameters, n_jobs=-1, cv=10)\n",
    "clf.fit(iris.data, iris.target)\n",
    "\n",
    "print(\"clf.best_stimator_\", clf.best_estimator_)\n",
    "print(\"clf.best_params_\", clf.best_params_)\n",
    "# Mean cross-validated score of the best_estimator\n",
    "print(\"clf.best_score\", clf.best_score_)"
   ]
  },
  {
   "cell_type": "code",
   "execution_count": null,
   "metadata": {},
   "outputs": [],
   "source": [
    "La forma pro es la que hace esto mismo y va recogiendo los errores de entrenamiento, de validación y tiene la capacidad de parar el proceso cuando se requiera además de guardar el modelo en local una vez terminado si es mejor que el que había anteriormente y de cargar el modelo anterior y seguir reentrenando."
   ]
  },
  {
   "cell_type": "code",
   "execution_count": null,
   "metadata": {},
   "outputs": [],
   "source": [
    "# Load libraries\n",
    "import numpy as np\n",
    "from sklearn import datasets\n",
    "from sklearn.linear_model import LogisticRegression\n",
    "from sklearn.ensemble import RandomForestClassifier\n",
    "from sklearn.model_selection import GridSearchCV\n",
    "from sklearn.pipeline import Pipeline\n",
    "from sklearn.model_selection import RepeatedKFold\n",
    "from sklearn.model_selection import train_test_split \n",
    "# Set random seed\n",
    "np.random.seed(0)\n",
    "\n",
    "\n",
    "# Load data\n",
    "iris = datasets.load_iris()\n",
    "X = iris.data\n",
    "y = iris.target\n",
    "\n",
    "X_train, X_test, y_train, y_test = train_test_split(X, y, test_size=0.2, random_state=2)\n",
    "to_test = np.arange(1, 10)\n",
    "# Create a pipeline\n",
    "\n",
    "# Le podemos poner cualquier clasificador. Irá cambiando según va probando pero necesita 1.\n",
    "pipe = Pipeline(steps=[('classifier', RandomForestClassifier())])\n",
    "\n",
    "\n",
    "logistic_params = {\n",
    "    'classifier': [LogisticRegression()],\n",
    "    'classifier__penalty': ['l1', 'l2'],\n",
    "    'classifier__C': np.logspace(0, 4, 10)\n",
    "    }\n",
    "\n",
    "random_forest_params = {\n",
    "    'classifier': [RandomForestClassifier()],\n",
    "    'classifier__n_estimators': [10, 100, 1000],\n",
    "    'classifier__max_features': [1, 2, 3]\n",
    "    }\n",
    "\n",
    "svm_params = {\n",
    "    'classifier': [svm.SVC()],\n",
    "    'classifier__kernel':('linear', 'rbf', 'sigmoid'), \n",
    "    'classifier__C':[0.2, 0.3, 0.4, 0.5, 0.6, 0.7, 0.8, 0.9], \n",
    "    'classifier__degree': to_test,\n",
    "    'classifier__coef0': [-10.,-1., 0., 0.1, 0.5, 1, 10, 100],\n",
    "    'classifier__gamma': ('scale', 'auto')\n",
    "    }\n",
    "\n",
    "\n",
    "# Create space of candidate learning algorithms and their hyperparameters\n",
    "search_space = [\n",
    "    logistic_params,\n",
    "    random_forest_params,\n",
    "    svm_params\n",
    "    ]"
   ]
  },
  {
   "cell_type": "code",
   "execution_count": null,
   "metadata": {},
   "outputs": [],
   "source": [
    "%%time\n",
    "\n",
    "cv = RepeatedKFold(n_splits=10, n_repeats=1, random_state=1)\n",
    "# Create grid search \n",
    "clf = GridSearchCV(estimator=pipe, param_grid=search_space, cv=cv, verbose=0, n_jobs=-1)\n",
    "\n",
    "# Fit grid search\n",
    "best_model = clf.fit(X_train, y_train)\n",
    "# View best model\n",
    "separator = \"\\n############################\\n\"\n",
    "print(separator)\n",
    "print(\"best estimator:\", best_model.best_estimator_.get_params()['classifier'])\n",
    "print(separator)\n",
    "print(\"clf.best_params_\", clf.best_params_)\n",
    "print(separator)\n",
    "# Mean cross-validated score of the best_estimator\n",
    "print(\"clf.best_score\", clf.best_score_)\n",
    "#SAVE MODEL\n",
    "# save the model to disk\n",
    "filename = 'finished_model.sav'\n",
    "pickle.dump(best_model, open(filename, 'wb'))"
   ]
  },
  {
   "cell_type": "code",
   "execution_count": null,
   "metadata": {},
   "outputs": [],
   "source": [
    "loaded_model = pickle.load(file=\"finished_model.sav\")\n",
    "# Predict target vector\n",
    "best_model.score(X_test, y_test) * 100"
   ]
  },
  {
   "cell_type": "markdown",
   "metadata": {},
   "source": [
    "# GRÁFICAS CON PLOTY PARA REPRESENTAR MODELOS LOGARÍTMICOS:"
   ]
  },
  {
   "cell_type": "code",
   "execution_count": null,
   "metadata": {},
   "outputs": [],
   "source": []
  },
  {
   "cell_type": "code",
   "execution_count": null,
   "metadata": {},
   "outputs": [],
   "source": [
    "# Sería una buena forma de representar mis datos sino fuera porque es muy amplio el conjunto de datos\n",
    "fig = px.scatter_matrix(df)\n",
    "fig.show()"
   ]
  },
  {
   "cell_type": "code",
   "execution_count": 1,
   "metadata": {},
   "outputs": [
    {
     "output_type": "display_data",
     "data": {
      "application/vnd.plotly.v1+json": {
       "config": {
        "plotlyServerURL": "https://plot.ly"
       },
       "data": [
        {
         "hovertemplate": "ground truth=%{x}<br>prediction=%{y}<extra></extra>",
         "legendgroup": "",
         "marker": {
          "color": "#636efa",
          "symbol": "circle"
         },
         "mode": "markers",
         "name": "",
         "orientation": "v",
         "showlegend": false,
         "type": "scatter",
         "x": [
          0.2,
          0.2,
          0.2,
          0.2,
          0.2,
          0.4,
          0.3,
          0.2,
          0.2,
          0.1,
          0.2,
          0.2,
          0.1,
          0.1,
          0.2,
          0.4,
          0.4,
          0.3,
          0.3,
          0.3,
          0.2,
          0.4,
          0.2,
          0.5,
          0.2,
          0.2,
          0.4,
          0.2,
          0.2,
          0.2,
          0.2,
          0.4,
          0.1,
          0.2,
          0.1,
          0.2,
          0.2,
          0.1,
          0.2,
          0.2,
          0.3,
          0.3,
          0.2,
          0.6,
          0.4,
          0.3,
          0.2,
          0.2,
          0.2,
          0.2,
          1.4,
          1.5,
          1.5,
          1.3,
          1.5,
          1.3,
          1.6,
          1,
          1.3,
          1.4,
          1,
          1.5,
          1,
          1.4,
          1.3,
          1.4,
          1.5,
          1,
          1.5,
          1.1,
          1.8,
          1.3,
          1.5,
          1.2,
          1.3,
          1.4,
          1.4,
          1.7,
          1.5,
          1,
          1.1,
          1,
          1.2,
          1.6,
          1.5,
          1.6,
          1.5,
          1.3,
          1.3,
          1.3,
          1.2,
          1.4,
          1.2,
          1,
          1.3,
          1.2,
          1.3,
          1.3,
          1.1,
          1.3,
          2.5,
          1.9,
          2.1,
          1.8,
          2.2,
          2.1,
          1.7,
          1.8,
          1.8,
          2.5,
          2,
          1.9,
          2.1,
          2,
          2.4,
          2.3,
          1.8,
          2.2,
          2.3,
          1.5,
          2.3,
          2,
          2,
          1.8,
          2.1,
          1.8,
          1.8,
          1.8,
          2.1,
          1.6,
          1.9,
          2,
          2.2,
          1.5,
          1.4,
          2.3,
          2.4,
          1.8,
          1.8,
          2.1,
          2.4,
          2.3,
          1.9,
          2.3,
          2.5,
          2.3,
          1.9,
          2,
          2.3,
          1.8
         ],
         "xaxis": "x",
         "y": [
          0.4463664479712526,
          0.5389388853065304,
          0.29846368302627035,
          0.2733825503477223,
          0.32612884683112275,
          0.4740316117761052,
          0.1306478476553492,
          0.42128531529270474,
          0.2232202849906273,
          0.4913606510757391,
          0.5691880802376874,
          0.2759665814740271,
          0.4662795183971913,
          0.1029826838504968,
          0.7170908451826696,
          0.45411854135016605,
          0.4740316117761052,
          0.4463664479712526,
          0.7395879467349127,
          0.3036317452788795,
          0.7119227829300605,
          0.35120997950967037,
          0.03549137919376699,
          0.5415229164328348,
          0.2759665814740271,
          0.6115982522158692,
          0.42128531529270474,
          0.5190258148805917,
          0.5666040491113831,
          0.29846368302627035,
          0.41870128416639996,
          0.7119227829300605,
          0.23355640949584555,
          0.4039562759930708,
          0.4913606510757391,
          0.516441783754287,
          0.7370039156086083,
          0.4913606510757391,
          0.17564205075983597,
          0.4939446822020439,
          0.37370708106191386,
          0.5813490572847122,
          0.08048558229825375,
          0.37370708106191386,
          0.3036317452788795,
          0.4662795183971913,
          0.3036317452788795,
          0.2258043161169312,
          0.49652871332834825,
          0.46886354952349607,
          1.9696291219410644,
          1.5336729204850312,
          1.944547989262517,
          1.3079427263781012,
          1.7966452243175348,
          1.2153702890428233,
          1.4134353193449012,
          0.8244082906912771,
          1.8217263569960822,
          0.8996516887269201,
          1.0873805945237798,
          1.2655325543999194,
          1.718817795155586,
          1.4584295224493882,
          1.0951326879026932,
          1.7992292554438387,
          1.047554453671902,
          1.3356078901829533,
          1.8641365289742644,
          1.2854456248258577,
          1.1703760859383372,
          1.506007756680179,
          1.79406119319123,
          1.506007756680179,
          1.6764076231774048,
          1.7741481227652909,
          2.0146233250455516,
          1.84680748967463,
          1.385770155540049,
          1.3105267575044055,
          1.2603644921473103,
          1.2603644921473103,
          1.3356078901829533,
          1.4809266240016308,
          0.9022357198532249,
          1.1478789843860937,
          1.7992292554438387,
          1.8892176616528118,
          1.047554453671902,
          1.2127862579165194,
          1.165208023685728,
          1.4108512882185968,
          1.3831861244137447,
          0.9446458918314071,
          1.190289156364275,
          1.120213820581241,
          1.1677920548120324,
          1.5310888893587273,
          0.9221487902791636,
          1.2153702890428233,
          1.4134353193449012,
          1.3356078901829533,
          2.1374449573119856,
          1.6037482562680656,
          1.7014887558559526,
          2.5007417918586805,
          0.7768300564604862,
          2.330341925361455,
          2.084698660828586,
          1.9246349188365783,
          1.6063322873943704,
          1.7715640916389865,
          1.9194668565839692,
          1.3581049917351968,
          1.2880296559521625,
          1.5336729204850312,
          1.7014887558559526,
          2.192775284921691,
          2.763714095691184,
          1.718817795155586,
          1.8969697550317262,
          1.1427109221334841,
          2.6685576272296014,
          1.6989047247296474,
          1.704072786982257,
          2.114947855759743,
          1.5786671235895182,
          1.4108512882185968,
          1.7239858574081957,
          2.2101043242213247,
          2.450579526501585,
          2.338094018740369,
          1.7239858574081957,
          1.6513264904988565,
          1.6011642251417613,
          2.573401158768019,
          1.3658570851141103,
          1.5812511547158221,
          1.3381919213092577,
          1.944547989262517,
          1.7992292554438387,
          1.944547989262517,
          1.3356078901829533,
          1.824310388122387,
          1.704072786982257,
          1.84680748967463,
          1.79406119319123,
          1.7014887558559526,
          1.293197718204772,
          1.2655325543999194
         ],
         "yaxis": "y"
        }
       ],
       "layout": {
        "legend": {
         "tracegroupgap": 0
        },
        "margin": {
         "t": 60
        },
        "shapes": [
         {
          "line": {
           "dash": "dash"
          },
          "type": "line",
          "x0": 0.1,
          "x1": 2.5,
          "y0": 0.1,
          "y1": 2.5
         }
        ],
        "template": {
         "data": {
          "bar": [
           {
            "error_x": {
             "color": "#2a3f5f"
            },
            "error_y": {
             "color": "#2a3f5f"
            },
            "marker": {
             "line": {
              "color": "#E5ECF6",
              "width": 0.5
             }
            },
            "type": "bar"
           }
          ],
          "barpolar": [
           {
            "marker": {
             "line": {
              "color": "#E5ECF6",
              "width": 0.5
             }
            },
            "type": "barpolar"
           }
          ],
          "carpet": [
           {
            "aaxis": {
             "endlinecolor": "#2a3f5f",
             "gridcolor": "white",
             "linecolor": "white",
             "minorgridcolor": "white",
             "startlinecolor": "#2a3f5f"
            },
            "baxis": {
             "endlinecolor": "#2a3f5f",
             "gridcolor": "white",
             "linecolor": "white",
             "minorgridcolor": "white",
             "startlinecolor": "#2a3f5f"
            },
            "type": "carpet"
           }
          ],
          "choropleth": [
           {
            "colorbar": {
             "outlinewidth": 0,
             "ticks": ""
            },
            "type": "choropleth"
           }
          ],
          "contour": [
           {
            "colorbar": {
             "outlinewidth": 0,
             "ticks": ""
            },
            "colorscale": [
             [
              0,
              "#0d0887"
             ],
             [
              0.1111111111111111,
              "#46039f"
             ],
             [
              0.2222222222222222,
              "#7201a8"
             ],
             [
              0.3333333333333333,
              "#9c179e"
             ],
             [
              0.4444444444444444,
              "#bd3786"
             ],
             [
              0.5555555555555556,
              "#d8576b"
             ],
             [
              0.6666666666666666,
              "#ed7953"
             ],
             [
              0.7777777777777778,
              "#fb9f3a"
             ],
             [
              0.8888888888888888,
              "#fdca26"
             ],
             [
              1,
              "#f0f921"
             ]
            ],
            "type": "contour"
           }
          ],
          "contourcarpet": [
           {
            "colorbar": {
             "outlinewidth": 0,
             "ticks": ""
            },
            "type": "contourcarpet"
           }
          ],
          "heatmap": [
           {
            "colorbar": {
             "outlinewidth": 0,
             "ticks": ""
            },
            "colorscale": [
             [
              0,
              "#0d0887"
             ],
             [
              0.1111111111111111,
              "#46039f"
             ],
             [
              0.2222222222222222,
              "#7201a8"
             ],
             [
              0.3333333333333333,
              "#9c179e"
             ],
             [
              0.4444444444444444,
              "#bd3786"
             ],
             [
              0.5555555555555556,
              "#d8576b"
             ],
             [
              0.6666666666666666,
              "#ed7953"
             ],
             [
              0.7777777777777778,
              "#fb9f3a"
             ],
             [
              0.8888888888888888,
              "#fdca26"
             ],
             [
              1,
              "#f0f921"
             ]
            ],
            "type": "heatmap"
           }
          ],
          "heatmapgl": [
           {
            "colorbar": {
             "outlinewidth": 0,
             "ticks": ""
            },
            "colorscale": [
             [
              0,
              "#0d0887"
             ],
             [
              0.1111111111111111,
              "#46039f"
             ],
             [
              0.2222222222222222,
              "#7201a8"
             ],
             [
              0.3333333333333333,
              "#9c179e"
             ],
             [
              0.4444444444444444,
              "#bd3786"
             ],
             [
              0.5555555555555556,
              "#d8576b"
             ],
             [
              0.6666666666666666,
              "#ed7953"
             ],
             [
              0.7777777777777778,
              "#fb9f3a"
             ],
             [
              0.8888888888888888,
              "#fdca26"
             ],
             [
              1,
              "#f0f921"
             ]
            ],
            "type": "heatmapgl"
           }
          ],
          "histogram": [
           {
            "marker": {
             "colorbar": {
              "outlinewidth": 0,
              "ticks": ""
             }
            },
            "type": "histogram"
           }
          ],
          "histogram2d": [
           {
            "colorbar": {
             "outlinewidth": 0,
             "ticks": ""
            },
            "colorscale": [
             [
              0,
              "#0d0887"
             ],
             [
              0.1111111111111111,
              "#46039f"
             ],
             [
              0.2222222222222222,
              "#7201a8"
             ],
             [
              0.3333333333333333,
              "#9c179e"
             ],
             [
              0.4444444444444444,
              "#bd3786"
             ],
             [
              0.5555555555555556,
              "#d8576b"
             ],
             [
              0.6666666666666666,
              "#ed7953"
             ],
             [
              0.7777777777777778,
              "#fb9f3a"
             ],
             [
              0.8888888888888888,
              "#fdca26"
             ],
             [
              1,
              "#f0f921"
             ]
            ],
            "type": "histogram2d"
           }
          ],
          "histogram2dcontour": [
           {
            "colorbar": {
             "outlinewidth": 0,
             "ticks": ""
            },
            "colorscale": [
             [
              0,
              "#0d0887"
             ],
             [
              0.1111111111111111,
              "#46039f"
             ],
             [
              0.2222222222222222,
              "#7201a8"
             ],
             [
              0.3333333333333333,
              "#9c179e"
             ],
             [
              0.4444444444444444,
              "#bd3786"
             ],
             [
              0.5555555555555556,
              "#d8576b"
             ],
             [
              0.6666666666666666,
              "#ed7953"
             ],
             [
              0.7777777777777778,
              "#fb9f3a"
             ],
             [
              0.8888888888888888,
              "#fdca26"
             ],
             [
              1,
              "#f0f921"
             ]
            ],
            "type": "histogram2dcontour"
           }
          ],
          "mesh3d": [
           {
            "colorbar": {
             "outlinewidth": 0,
             "ticks": ""
            },
            "type": "mesh3d"
           }
          ],
          "parcoords": [
           {
            "line": {
             "colorbar": {
              "outlinewidth": 0,
              "ticks": ""
             }
            },
            "type": "parcoords"
           }
          ],
          "pie": [
           {
            "automargin": true,
            "type": "pie"
           }
          ],
          "scatter": [
           {
            "marker": {
             "colorbar": {
              "outlinewidth": 0,
              "ticks": ""
             }
            },
            "type": "scatter"
           }
          ],
          "scatter3d": [
           {
            "line": {
             "colorbar": {
              "outlinewidth": 0,
              "ticks": ""
             }
            },
            "marker": {
             "colorbar": {
              "outlinewidth": 0,
              "ticks": ""
             }
            },
            "type": "scatter3d"
           }
          ],
          "scattercarpet": [
           {
            "marker": {
             "colorbar": {
              "outlinewidth": 0,
              "ticks": ""
             }
            },
            "type": "scattercarpet"
           }
          ],
          "scattergeo": [
           {
            "marker": {
             "colorbar": {
              "outlinewidth": 0,
              "ticks": ""
             }
            },
            "type": "scattergeo"
           }
          ],
          "scattergl": [
           {
            "marker": {
             "colorbar": {
              "outlinewidth": 0,
              "ticks": ""
             }
            },
            "type": "scattergl"
           }
          ],
          "scattermapbox": [
           {
            "marker": {
             "colorbar": {
              "outlinewidth": 0,
              "ticks": ""
             }
            },
            "type": "scattermapbox"
           }
          ],
          "scatterpolar": [
           {
            "marker": {
             "colorbar": {
              "outlinewidth": 0,
              "ticks": ""
             }
            },
            "type": "scatterpolar"
           }
          ],
          "scatterpolargl": [
           {
            "marker": {
             "colorbar": {
              "outlinewidth": 0,
              "ticks": ""
             }
            },
            "type": "scatterpolargl"
           }
          ],
          "scatterternary": [
           {
            "marker": {
             "colorbar": {
              "outlinewidth": 0,
              "ticks": ""
             }
            },
            "type": "scatterternary"
           }
          ],
          "surface": [
           {
            "colorbar": {
             "outlinewidth": 0,
             "ticks": ""
            },
            "colorscale": [
             [
              0,
              "#0d0887"
             ],
             [
              0.1111111111111111,
              "#46039f"
             ],
             [
              0.2222222222222222,
              "#7201a8"
             ],
             [
              0.3333333333333333,
              "#9c179e"
             ],
             [
              0.4444444444444444,
              "#bd3786"
             ],
             [
              0.5555555555555556,
              "#d8576b"
             ],
             [
              0.6666666666666666,
              "#ed7953"
             ],
             [
              0.7777777777777778,
              "#fb9f3a"
             ],
             [
              0.8888888888888888,
              "#fdca26"
             ],
             [
              1,
              "#f0f921"
             ]
            ],
            "type": "surface"
           }
          ],
          "table": [
           {
            "cells": {
             "fill": {
              "color": "#EBF0F8"
             },
             "line": {
              "color": "white"
             }
            },
            "header": {
             "fill": {
              "color": "#C8D4E3"
             },
             "line": {
              "color": "white"
             }
            },
            "type": "table"
           }
          ]
         },
         "layout": {
          "annotationdefaults": {
           "arrowcolor": "#2a3f5f",
           "arrowhead": 0,
           "arrowwidth": 1
          },
          "coloraxis": {
           "colorbar": {
            "outlinewidth": 0,
            "ticks": ""
           }
          },
          "colorscale": {
           "diverging": [
            [
             0,
             "#8e0152"
            ],
            [
             0.1,
             "#c51b7d"
            ],
            [
             0.2,
             "#de77ae"
            ],
            [
             0.3,
             "#f1b6da"
            ],
            [
             0.4,
             "#fde0ef"
            ],
            [
             0.5,
             "#f7f7f7"
            ],
            [
             0.6,
             "#e6f5d0"
            ],
            [
             0.7,
             "#b8e186"
            ],
            [
             0.8,
             "#7fbc41"
            ],
            [
             0.9,
             "#4d9221"
            ],
            [
             1,
             "#276419"
            ]
           ],
           "sequential": [
            [
             0,
             "#0d0887"
            ],
            [
             0.1111111111111111,
             "#46039f"
            ],
            [
             0.2222222222222222,
             "#7201a8"
            ],
            [
             0.3333333333333333,
             "#9c179e"
            ],
            [
             0.4444444444444444,
             "#bd3786"
            ],
            [
             0.5555555555555556,
             "#d8576b"
            ],
            [
             0.6666666666666666,
             "#ed7953"
            ],
            [
             0.7777777777777778,
             "#fb9f3a"
            ],
            [
             0.8888888888888888,
             "#fdca26"
            ],
            [
             1,
             "#f0f921"
            ]
           ],
           "sequentialminus": [
            [
             0,
             "#0d0887"
            ],
            [
             0.1111111111111111,
             "#46039f"
            ],
            [
             0.2222222222222222,
             "#7201a8"
            ],
            [
             0.3333333333333333,
             "#9c179e"
            ],
            [
             0.4444444444444444,
             "#bd3786"
            ],
            [
             0.5555555555555556,
             "#d8576b"
            ],
            [
             0.6666666666666666,
             "#ed7953"
            ],
            [
             0.7777777777777778,
             "#fb9f3a"
            ],
            [
             0.8888888888888888,
             "#fdca26"
            ],
            [
             1,
             "#f0f921"
            ]
           ]
          },
          "colorway": [
           "#636efa",
           "#EF553B",
           "#00cc96",
           "#ab63fa",
           "#FFA15A",
           "#19d3f3",
           "#FF6692",
           "#B6E880",
           "#FF97FF",
           "#FECB52"
          ],
          "font": {
           "color": "#2a3f5f"
          },
          "geo": {
           "bgcolor": "white",
           "lakecolor": "white",
           "landcolor": "#E5ECF6",
           "showlakes": true,
           "showland": true,
           "subunitcolor": "white"
          },
          "hoverlabel": {
           "align": "left"
          },
          "hovermode": "closest",
          "mapbox": {
           "style": "light"
          },
          "paper_bgcolor": "white",
          "plot_bgcolor": "#E5ECF6",
          "polar": {
           "angularaxis": {
            "gridcolor": "white",
            "linecolor": "white",
            "ticks": ""
           },
           "bgcolor": "#E5ECF6",
           "radialaxis": {
            "gridcolor": "white",
            "linecolor": "white",
            "ticks": ""
           }
          },
          "scene": {
           "xaxis": {
            "backgroundcolor": "#E5ECF6",
            "gridcolor": "white",
            "gridwidth": 2,
            "linecolor": "white",
            "showbackground": true,
            "ticks": "",
            "zerolinecolor": "white"
           },
           "yaxis": {
            "backgroundcolor": "#E5ECF6",
            "gridcolor": "white",
            "gridwidth": 2,
            "linecolor": "white",
            "showbackground": true,
            "ticks": "",
            "zerolinecolor": "white"
           },
           "zaxis": {
            "backgroundcolor": "#E5ECF6",
            "gridcolor": "white",
            "gridwidth": 2,
            "linecolor": "white",
            "showbackground": true,
            "ticks": "",
            "zerolinecolor": "white"
           }
          },
          "shapedefaults": {
           "line": {
            "color": "#2a3f5f"
           }
          },
          "ternary": {
           "aaxis": {
            "gridcolor": "white",
            "linecolor": "white",
            "ticks": ""
           },
           "baxis": {
            "gridcolor": "white",
            "linecolor": "white",
            "ticks": ""
           },
           "bgcolor": "#E5ECF6",
           "caxis": {
            "gridcolor": "white",
            "linecolor": "white",
            "ticks": ""
           }
          },
          "title": {
           "x": 0.05
          },
          "xaxis": {
           "automargin": true,
           "gridcolor": "white",
           "linecolor": "white",
           "ticks": "",
           "title": {
            "standoff": 15
           },
           "zerolinecolor": "white",
           "zerolinewidth": 2
          },
          "yaxis": {
           "automargin": true,
           "gridcolor": "white",
           "linecolor": "white",
           "ticks": "",
           "title": {
            "standoff": 15
           },
           "zerolinecolor": "white",
           "zerolinewidth": 2
          }
         }
        },
        "xaxis": {
         "anchor": "y",
         "domain": [
          0,
          1
         ],
         "title": {
          "text": "ground truth"
         }
        },
        "yaxis": {
         "anchor": "x",
         "domain": [
          0,
          1
         ],
         "title": {
          "text": "prediction"
         }
        }
       }
      }
     },
     "metadata": {}
    }
   ],
   "source": [
    "# Gráfica simple real vs predicha\n",
    "import plotly.express as px\n",
    "import plotly.graph_objects as go\n",
    "from sklearn.linear_model import LinearRegression\n",
    "\n",
    "df = px.data.iris()\n",
    "X = df[['sepal_width', 'sepal_length']]\n",
    "y = df['petal_width']\n",
    "\n",
    "# Condition the model on sepal width and length, predict the petal width\n",
    "model = LinearRegression()\n",
    "model.fit(X, y)\n",
    "y_pred = model.predict(X)\n",
    "\n",
    "fig = px.scatter(x=y, y=y_pred, labels={'x': 'ground truth', 'y': 'prediction'})\n",
    "fig.add_shape(\n",
    "    type=\"line\", line=dict(dash='dash'),\n",
    "    x0=y.min(), y0=y.min(),\n",
    "    x1=y.max(), y1=y.max()\n",
    ")\n",
    "fig.show()"
   ]
  },
  {
   "cell_type": "code",
   "execution_count": 2,
   "metadata": {},
   "outputs": [
    {
     "output_type": "display_data",
     "data": {
      "application/vnd.plotly.v1+json": {
       "config": {
        "plotlyServerURL": "https://plot.ly"
       },
       "data": [
        {
         "hovertemplate": "total_bill=%{x}<br>tip=%{y}<extra></extra>",
         "legendgroup": "",
         "marker": {
          "color": "#636efa",
          "opacity": 0.65,
          "symbol": "circle"
         },
         "mode": "markers",
         "name": "",
         "orientation": "v",
         "showlegend": false,
         "type": "scatter",
         "x": [
          16.99,
          10.34,
          21.01,
          23.68,
          24.59,
          25.29,
          8.77,
          26.88,
          15.04,
          14.78,
          10.27,
          35.26,
          15.42,
          18.43,
          14.83,
          21.58,
          10.33,
          16.29,
          16.97,
          20.65,
          17.92,
          20.29,
          15.77,
          39.42,
          19.82,
          17.81,
          13.37,
          12.69,
          21.7,
          19.65,
          9.55,
          18.35,
          15.06,
          20.69,
          17.78,
          24.06,
          16.31,
          16.93,
          18.69,
          31.27,
          16.04,
          17.46,
          13.94,
          9.68,
          30.4,
          18.29,
          22.23,
          32.4,
          28.55,
          18.04,
          12.54,
          10.29,
          34.81,
          9.94,
          25.56,
          19.49,
          38.01,
          26.41,
          11.24,
          48.27,
          20.29,
          13.81,
          11.02,
          18.29,
          17.59,
          20.08,
          16.45,
          3.07,
          20.23,
          15.01,
          12.02,
          17.07,
          26.86,
          25.28,
          14.73,
          10.51,
          17.92,
          27.2,
          22.76,
          17.29,
          19.44,
          16.66,
          10.07,
          32.68,
          15.98,
          34.83,
          13.03,
          18.28,
          24.71,
          21.16,
          28.97,
          22.49,
          5.75,
          16.32,
          22.75,
          40.17,
          27.28,
          12.03,
          21.01,
          12.46,
          11.35,
          15.38,
          44.3,
          22.42,
          20.92,
          15.36,
          20.49,
          25.21,
          18.24,
          14.31,
          14,
          7.25,
          38.07,
          23.95,
          25.71,
          17.31,
          29.93,
          10.65,
          12.43,
          24.08,
          11.69,
          13.42,
          14.26,
          15.95,
          12.48,
          29.8,
          8.52,
          14.52,
          11.38,
          22.82,
          19.08,
          20.27,
          11.17,
          12.26,
          18.26,
          8.51,
          10.33,
          14.15,
          16,
          13.16,
          17.47,
          34.3,
          41.19,
          27.05,
          16.43,
          8.35,
          18.64,
          11.87,
          9.78,
          7.51,
          14.07,
          13.13,
          17.26,
          24.55,
          19.77,
          29.85,
          48.17,
          25,
          13.39,
          16.49,
          21.5,
          12.66,
          16.21,
          13.81,
          17.51,
          24.52,
          20.76,
          31.71,
          10.59,
          10.63,
          50.81,
          15.81,
          7.25,
          31.85,
          16.82,
          32.9,
          17.89,
          14.48,
          9.6,
          34.63,
          34.65,
          23.33,
          45.35,
          23.17,
          40.55,
          20.69,
          20.9,
          30.46,
          18.15,
          23.1,
          15.69,
          19.81,
          28.44,
          15.48,
          16.58,
          7.56,
          10.34,
          43.11,
          13,
          13.51,
          18.71,
          12.74,
          13,
          16.4,
          20.53,
          16.47,
          26.59,
          38.73,
          24.27,
          12.76,
          30.06,
          25.89,
          48.33,
          13.27,
          28.17,
          12.9,
          28.15,
          11.59,
          7.74,
          30.14,
          12.16,
          13.42,
          8.58,
          15.98,
          13.42,
          16.27,
          10.09,
          20.45,
          13.28,
          22.12,
          24.01,
          15.69,
          11.61,
          10.77,
          15.53,
          10.07,
          12.6,
          32.83,
          35.83,
          29.03,
          27.18,
          22.67,
          17.82,
          18.78
         ],
         "xaxis": "x",
         "y": [
          1.01,
          1.66,
          3.5,
          3.31,
          3.61,
          4.71,
          2,
          3.12,
          1.96,
          3.23,
          1.71,
          5,
          1.57,
          3,
          3.02,
          3.92,
          1.67,
          3.71,
          3.5,
          3.35,
          4.08,
          2.75,
          2.23,
          7.58,
          3.18,
          2.34,
          2,
          2,
          4.3,
          3,
          1.45,
          2.5,
          3,
          2.45,
          3.27,
          3.6,
          2,
          3.07,
          2.31,
          5,
          2.24,
          2.54,
          3.06,
          1.32,
          5.6,
          3,
          5,
          6,
          2.05,
          3,
          2.5,
          2.6,
          5.2,
          1.56,
          4.34,
          3.51,
          3,
          1.5,
          1.76,
          6.73,
          3.21,
          2,
          1.98,
          3.76,
          2.64,
          3.15,
          2.47,
          1,
          2.01,
          2.09,
          1.97,
          3,
          3.14,
          5,
          2.2,
          1.25,
          3.08,
          4,
          3,
          2.71,
          3,
          3.4,
          1.83,
          5,
          2.03,
          5.17,
          2,
          4,
          5.85,
          3,
          3,
          3.5,
          1,
          4.3,
          3.25,
          4.73,
          4,
          1.5,
          3,
          1.5,
          2.5,
          3,
          2.5,
          3.48,
          4.08,
          1.64,
          4.06,
          4.29,
          3.76,
          4,
          3,
          1,
          4,
          2.55,
          4,
          3.5,
          5.07,
          1.5,
          1.8,
          2.92,
          2.31,
          1.68,
          2.5,
          2,
          2.52,
          4.2,
          1.48,
          2,
          2,
          2.18,
          1.5,
          2.83,
          1.5,
          2,
          3.25,
          1.25,
          2,
          2,
          2,
          2.75,
          3.5,
          6.7,
          5,
          5,
          2.3,
          1.5,
          1.36,
          1.63,
          1.73,
          2,
          2.5,
          2,
          2.74,
          2,
          2,
          5.14,
          5,
          3.75,
          2.61,
          2,
          3.5,
          2.5,
          2,
          2,
          3,
          3.48,
          2.24,
          4.5,
          1.61,
          2,
          10,
          3.16,
          5.15,
          3.18,
          4,
          3.11,
          2,
          2,
          4,
          3.55,
          3.68,
          5.65,
          3.5,
          6.5,
          3,
          5,
          3.5,
          2,
          3.5,
          4,
          1.5,
          4.19,
          2.56,
          2.02,
          4,
          1.44,
          2,
          5,
          2,
          2,
          4,
          2.01,
          2,
          2.5,
          4,
          3.23,
          3.41,
          3,
          2.03,
          2.23,
          2,
          5.16,
          9,
          2.5,
          6.5,
          1.1,
          3,
          1.5,
          1.44,
          3.09,
          2.2,
          3.48,
          1.92,
          3,
          1.58,
          2.5,
          2,
          3,
          2.72,
          2.88,
          2,
          3,
          3.39,
          1.47,
          3,
          1.25,
          1,
          1.17,
          4.67,
          5.92,
          2,
          2,
          1.75,
          3
         ],
         "yaxis": "y"
        },
        {
         "name": "Regression Fit",
         "type": "scatter",
         "x": [
          3.07,
          3.552222222222222,
          4.0344444444444445,
          4.516666666666667,
          4.998888888888889,
          5.481111111111111,
          5.963333333333333,
          6.445555555555556,
          6.927777777777777,
          7.41,
          7.892222222222221,
          8.374444444444444,
          8.856666666666667,
          9.338888888888889,
          9.821111111111112,
          10.303333333333333,
          10.785555555555556,
          11.267777777777779,
          11.75,
          12.232222222222223,
          12.714444444444444,
          13.196666666666667,
          13.678888888888888,
          14.161111111111111,
          14.643333333333334,
          15.125555555555556,
          15.607777777777779,
          16.09,
          16.572222222222223,
          17.054444444444442,
          17.536666666666665,
          18.01888888888889,
          18.50111111111111,
          18.983333333333334,
          19.465555555555557,
          19.947777777777777,
          20.43,
          20.912222222222223,
          21.394444444444446,
          21.876666666666665,
          22.358888888888888,
          22.84111111111111,
          23.323333333333334,
          23.805555555555557,
          24.287777777777777,
          24.77,
          25.252222222222223,
          25.734444444444446,
          26.21666666666667,
          26.698888888888888,
          27.18111111111111,
          27.663333333333334,
          28.145555555555557,
          28.627777777777776,
          29.11,
          29.592222222222222,
          30.074444444444445,
          30.55666666666667,
          31.038888888888888,
          31.52111111111111,
          32.00333333333333,
          32.48555555555556,
          32.967777777777776,
          33.449999999999996,
          33.93222222222222,
          34.41444444444444,
          34.89666666666667,
          35.37888888888889,
          35.861111111111114,
          36.343333333333334,
          36.82555555555555,
          37.30777777777778,
          37.79,
          38.272222222222226,
          38.754444444444445,
          39.236666666666665,
          39.71888888888889,
          40.20111111111111,
          40.68333333333333,
          41.16555555555556,
          41.647777777777776,
          42.13,
          42.61222222222222,
          43.09444444444444,
          43.57666666666667,
          44.05888888888889,
          44.541111111111114,
          45.02333333333333,
          45.50555555555555,
          45.98777777777778,
          46.47,
          46.952222222222225,
          47.434444444444445,
          47.916666666666664,
          48.39888888888889,
          48.88111111111111,
          49.36333333333334,
          49.845555555555556,
          50.327777777777776,
          50.81
         ],
         "y": [
          1.242694881924638,
          1.293340038085537,
          1.3439851942464365,
          1.3946303504073359,
          1.445275506568235,
          1.4959206627291344,
          1.5465658188900337,
          1.597210975050933,
          1.647856131211832,
          1.6985012873727316,
          1.7491464435336308,
          1.79979159969453,
          1.8504367558554295,
          1.9010819120163287,
          1.951727068177228,
          2.002372224338127,
          2.0530173804990266,
          2.103662536659926,
          2.154307692820825,
          2.2049528489817245,
          2.2555980051426237,
          2.306243161303523,
          2.3568883174644224,
          2.4075334736253216,
          2.4581786297862207,
          2.5088237859471203,
          2.5594689421080195,
          2.6101140982689186,
          2.660759254429818,
          2.711404410590717,
          2.7620495667516165,
          2.812694722912516,
          2.8633398790734153,
          2.9139850352343144,
          2.964630191395214,
          3.015275347556113,
          3.0659205037170123,
          3.116565659877912,
          3.167210816038811,
          3.21785597219971,
          3.2685011283606094,
          3.319146284521509,
          3.369791440682408,
          3.4204365968433077,
          3.4710817530042064,
          3.521726909165106,
          3.572372065326005,
          3.6230172214869047,
          3.673662377647804,
          3.724307533808703,
          3.774952689969602,
          3.825597846130502,
          3.876243002291401,
          3.9268881584523,
          3.9775333146131997,
          4.028178470774099,
          4.078823626934998,
          4.129468783095898,
          4.180113939256797,
          4.230759095417696,
          4.281404251578595,
          4.332049407739495,
          4.382694563900394,
          4.4333397200612925,
          4.483984876222193,
          4.534630032383092,
          4.585275188543991,
          4.63592034470489,
          4.68656550086579,
          4.737210657026688,
          4.787855813187588,
          4.8385009693484875,
          4.889146125509386,
          4.939791281670287,
          4.990436437831185,
          5.041081593992084,
          5.091726750152985,
          5.142371906313883,
          5.193017062474782,
          5.243662218635682,
          5.294307374796581,
          5.344952530957481,
          5.3955976871183795,
          5.446242843279279,
          5.496887999440179,
          5.547533155601077,
          5.598178311761977,
          5.648823467922876,
          5.699468624083775,
          5.750113780244675,
          5.800758936405574,
          5.851404092566473,
          5.902049248727373,
          5.9526944048882715,
          6.003339561049171,
          6.053984717210071,
          6.10462987337097,
          6.155275029531869,
          6.205920185692768,
          6.256565341853668
         ]
        }
       ],
       "layout": {
        "legend": {
         "tracegroupgap": 0
        },
        "margin": {
         "t": 60
        },
        "template": {
         "data": {
          "bar": [
           {
            "error_x": {
             "color": "#2a3f5f"
            },
            "error_y": {
             "color": "#2a3f5f"
            },
            "marker": {
             "line": {
              "color": "#E5ECF6",
              "width": 0.5
             }
            },
            "type": "bar"
           }
          ],
          "barpolar": [
           {
            "marker": {
             "line": {
              "color": "#E5ECF6",
              "width": 0.5
             }
            },
            "type": "barpolar"
           }
          ],
          "carpet": [
           {
            "aaxis": {
             "endlinecolor": "#2a3f5f",
             "gridcolor": "white",
             "linecolor": "white",
             "minorgridcolor": "white",
             "startlinecolor": "#2a3f5f"
            },
            "baxis": {
             "endlinecolor": "#2a3f5f",
             "gridcolor": "white",
             "linecolor": "white",
             "minorgridcolor": "white",
             "startlinecolor": "#2a3f5f"
            },
            "type": "carpet"
           }
          ],
          "choropleth": [
           {
            "colorbar": {
             "outlinewidth": 0,
             "ticks": ""
            },
            "type": "choropleth"
           }
          ],
          "contour": [
           {
            "colorbar": {
             "outlinewidth": 0,
             "ticks": ""
            },
            "colorscale": [
             [
              0,
              "#0d0887"
             ],
             [
              0.1111111111111111,
              "#46039f"
             ],
             [
              0.2222222222222222,
              "#7201a8"
             ],
             [
              0.3333333333333333,
              "#9c179e"
             ],
             [
              0.4444444444444444,
              "#bd3786"
             ],
             [
              0.5555555555555556,
              "#d8576b"
             ],
             [
              0.6666666666666666,
              "#ed7953"
             ],
             [
              0.7777777777777778,
              "#fb9f3a"
             ],
             [
              0.8888888888888888,
              "#fdca26"
             ],
             [
              1,
              "#f0f921"
             ]
            ],
            "type": "contour"
           }
          ],
          "contourcarpet": [
           {
            "colorbar": {
             "outlinewidth": 0,
             "ticks": ""
            },
            "type": "contourcarpet"
           }
          ],
          "heatmap": [
           {
            "colorbar": {
             "outlinewidth": 0,
             "ticks": ""
            },
            "colorscale": [
             [
              0,
              "#0d0887"
             ],
             [
              0.1111111111111111,
              "#46039f"
             ],
             [
              0.2222222222222222,
              "#7201a8"
             ],
             [
              0.3333333333333333,
              "#9c179e"
             ],
             [
              0.4444444444444444,
              "#bd3786"
             ],
             [
              0.5555555555555556,
              "#d8576b"
             ],
             [
              0.6666666666666666,
              "#ed7953"
             ],
             [
              0.7777777777777778,
              "#fb9f3a"
             ],
             [
              0.8888888888888888,
              "#fdca26"
             ],
             [
              1,
              "#f0f921"
             ]
            ],
            "type": "heatmap"
           }
          ],
          "heatmapgl": [
           {
            "colorbar": {
             "outlinewidth": 0,
             "ticks": ""
            },
            "colorscale": [
             [
              0,
              "#0d0887"
             ],
             [
              0.1111111111111111,
              "#46039f"
             ],
             [
              0.2222222222222222,
              "#7201a8"
             ],
             [
              0.3333333333333333,
              "#9c179e"
             ],
             [
              0.4444444444444444,
              "#bd3786"
             ],
             [
              0.5555555555555556,
              "#d8576b"
             ],
             [
              0.6666666666666666,
              "#ed7953"
             ],
             [
              0.7777777777777778,
              "#fb9f3a"
             ],
             [
              0.8888888888888888,
              "#fdca26"
             ],
             [
              1,
              "#f0f921"
             ]
            ],
            "type": "heatmapgl"
           }
          ],
          "histogram": [
           {
            "marker": {
             "colorbar": {
              "outlinewidth": 0,
              "ticks": ""
             }
            },
            "type": "histogram"
           }
          ],
          "histogram2d": [
           {
            "colorbar": {
             "outlinewidth": 0,
             "ticks": ""
            },
            "colorscale": [
             [
              0,
              "#0d0887"
             ],
             [
              0.1111111111111111,
              "#46039f"
             ],
             [
              0.2222222222222222,
              "#7201a8"
             ],
             [
              0.3333333333333333,
              "#9c179e"
             ],
             [
              0.4444444444444444,
              "#bd3786"
             ],
             [
              0.5555555555555556,
              "#d8576b"
             ],
             [
              0.6666666666666666,
              "#ed7953"
             ],
             [
              0.7777777777777778,
              "#fb9f3a"
             ],
             [
              0.8888888888888888,
              "#fdca26"
             ],
             [
              1,
              "#f0f921"
             ]
            ],
            "type": "histogram2d"
           }
          ],
          "histogram2dcontour": [
           {
            "colorbar": {
             "outlinewidth": 0,
             "ticks": ""
            },
            "colorscale": [
             [
              0,
              "#0d0887"
             ],
             [
              0.1111111111111111,
              "#46039f"
             ],
             [
              0.2222222222222222,
              "#7201a8"
             ],
             [
              0.3333333333333333,
              "#9c179e"
             ],
             [
              0.4444444444444444,
              "#bd3786"
             ],
             [
              0.5555555555555556,
              "#d8576b"
             ],
             [
              0.6666666666666666,
              "#ed7953"
             ],
             [
              0.7777777777777778,
              "#fb9f3a"
             ],
             [
              0.8888888888888888,
              "#fdca26"
             ],
             [
              1,
              "#f0f921"
             ]
            ],
            "type": "histogram2dcontour"
           }
          ],
          "mesh3d": [
           {
            "colorbar": {
             "outlinewidth": 0,
             "ticks": ""
            },
            "type": "mesh3d"
           }
          ],
          "parcoords": [
           {
            "line": {
             "colorbar": {
              "outlinewidth": 0,
              "ticks": ""
             }
            },
            "type": "parcoords"
           }
          ],
          "pie": [
           {
            "automargin": true,
            "type": "pie"
           }
          ],
          "scatter": [
           {
            "marker": {
             "colorbar": {
              "outlinewidth": 0,
              "ticks": ""
             }
            },
            "type": "scatter"
           }
          ],
          "scatter3d": [
           {
            "line": {
             "colorbar": {
              "outlinewidth": 0,
              "ticks": ""
             }
            },
            "marker": {
             "colorbar": {
              "outlinewidth": 0,
              "ticks": ""
             }
            },
            "type": "scatter3d"
           }
          ],
          "scattercarpet": [
           {
            "marker": {
             "colorbar": {
              "outlinewidth": 0,
              "ticks": ""
             }
            },
            "type": "scattercarpet"
           }
          ],
          "scattergeo": [
           {
            "marker": {
             "colorbar": {
              "outlinewidth": 0,
              "ticks": ""
             }
            },
            "type": "scattergeo"
           }
          ],
          "scattergl": [
           {
            "marker": {
             "colorbar": {
              "outlinewidth": 0,
              "ticks": ""
             }
            },
            "type": "scattergl"
           }
          ],
          "scattermapbox": [
           {
            "marker": {
             "colorbar": {
              "outlinewidth": 0,
              "ticks": ""
             }
            },
            "type": "scattermapbox"
           }
          ],
          "scatterpolar": [
           {
            "marker": {
             "colorbar": {
              "outlinewidth": 0,
              "ticks": ""
             }
            },
            "type": "scatterpolar"
           }
          ],
          "scatterpolargl": [
           {
            "marker": {
             "colorbar": {
              "outlinewidth": 0,
              "ticks": ""
             }
            },
            "type": "scatterpolargl"
           }
          ],
          "scatterternary": [
           {
            "marker": {
             "colorbar": {
              "outlinewidth": 0,
              "ticks": ""
             }
            },
            "type": "scatterternary"
           }
          ],
          "surface": [
           {
            "colorbar": {
             "outlinewidth": 0,
             "ticks": ""
            },
            "colorscale": [
             [
              0,
              "#0d0887"
             ],
             [
              0.1111111111111111,
              "#46039f"
             ],
             [
              0.2222222222222222,
              "#7201a8"
             ],
             [
              0.3333333333333333,
              "#9c179e"
             ],
             [
              0.4444444444444444,
              "#bd3786"
             ],
             [
              0.5555555555555556,
              "#d8576b"
             ],
             [
              0.6666666666666666,
              "#ed7953"
             ],
             [
              0.7777777777777778,
              "#fb9f3a"
             ],
             [
              0.8888888888888888,
              "#fdca26"
             ],
             [
              1,
              "#f0f921"
             ]
            ],
            "type": "surface"
           }
          ],
          "table": [
           {
            "cells": {
             "fill": {
              "color": "#EBF0F8"
             },
             "line": {
              "color": "white"
             }
            },
            "header": {
             "fill": {
              "color": "#C8D4E3"
             },
             "line": {
              "color": "white"
             }
            },
            "type": "table"
           }
          ]
         },
         "layout": {
          "annotationdefaults": {
           "arrowcolor": "#2a3f5f",
           "arrowhead": 0,
           "arrowwidth": 1
          },
          "coloraxis": {
           "colorbar": {
            "outlinewidth": 0,
            "ticks": ""
           }
          },
          "colorscale": {
           "diverging": [
            [
             0,
             "#8e0152"
            ],
            [
             0.1,
             "#c51b7d"
            ],
            [
             0.2,
             "#de77ae"
            ],
            [
             0.3,
             "#f1b6da"
            ],
            [
             0.4,
             "#fde0ef"
            ],
            [
             0.5,
             "#f7f7f7"
            ],
            [
             0.6,
             "#e6f5d0"
            ],
            [
             0.7,
             "#b8e186"
            ],
            [
             0.8,
             "#7fbc41"
            ],
            [
             0.9,
             "#4d9221"
            ],
            [
             1,
             "#276419"
            ]
           ],
           "sequential": [
            [
             0,
             "#0d0887"
            ],
            [
             0.1111111111111111,
             "#46039f"
            ],
            [
             0.2222222222222222,
             "#7201a8"
            ],
            [
             0.3333333333333333,
             "#9c179e"
            ],
            [
             0.4444444444444444,
             "#bd3786"
            ],
            [
             0.5555555555555556,
             "#d8576b"
            ],
            [
             0.6666666666666666,
             "#ed7953"
            ],
            [
             0.7777777777777778,
             "#fb9f3a"
            ],
            [
             0.8888888888888888,
             "#fdca26"
            ],
            [
             1,
             "#f0f921"
            ]
           ],
           "sequentialminus": [
            [
             0,
             "#0d0887"
            ],
            [
             0.1111111111111111,
             "#46039f"
            ],
            [
             0.2222222222222222,
             "#7201a8"
            ],
            [
             0.3333333333333333,
             "#9c179e"
            ],
            [
             0.4444444444444444,
             "#bd3786"
            ],
            [
             0.5555555555555556,
             "#d8576b"
            ],
            [
             0.6666666666666666,
             "#ed7953"
            ],
            [
             0.7777777777777778,
             "#fb9f3a"
            ],
            [
             0.8888888888888888,
             "#fdca26"
            ],
            [
             1,
             "#f0f921"
            ]
           ]
          },
          "colorway": [
           "#636efa",
           "#EF553B",
           "#00cc96",
           "#ab63fa",
           "#FFA15A",
           "#19d3f3",
           "#FF6692",
           "#B6E880",
           "#FF97FF",
           "#FECB52"
          ],
          "font": {
           "color": "#2a3f5f"
          },
          "geo": {
           "bgcolor": "white",
           "lakecolor": "white",
           "landcolor": "#E5ECF6",
           "showlakes": true,
           "showland": true,
           "subunitcolor": "white"
          },
          "hoverlabel": {
           "align": "left"
          },
          "hovermode": "closest",
          "mapbox": {
           "style": "light"
          },
          "paper_bgcolor": "white",
          "plot_bgcolor": "#E5ECF6",
          "polar": {
           "angularaxis": {
            "gridcolor": "white",
            "linecolor": "white",
            "ticks": ""
           },
           "bgcolor": "#E5ECF6",
           "radialaxis": {
            "gridcolor": "white",
            "linecolor": "white",
            "ticks": ""
           }
          },
          "scene": {
           "xaxis": {
            "backgroundcolor": "#E5ECF6",
            "gridcolor": "white",
            "gridwidth": 2,
            "linecolor": "white",
            "showbackground": true,
            "ticks": "",
            "zerolinecolor": "white"
           },
           "yaxis": {
            "backgroundcolor": "#E5ECF6",
            "gridcolor": "white",
            "gridwidth": 2,
            "linecolor": "white",
            "showbackground": true,
            "ticks": "",
            "zerolinecolor": "white"
           },
           "zaxis": {
            "backgroundcolor": "#E5ECF6",
            "gridcolor": "white",
            "gridwidth": 2,
            "linecolor": "white",
            "showbackground": true,
            "ticks": "",
            "zerolinecolor": "white"
           }
          },
          "shapedefaults": {
           "line": {
            "color": "#2a3f5f"
           }
          },
          "ternary": {
           "aaxis": {
            "gridcolor": "white",
            "linecolor": "white",
            "ticks": ""
           },
           "baxis": {
            "gridcolor": "white",
            "linecolor": "white",
            "ticks": ""
           },
           "bgcolor": "#E5ECF6",
           "caxis": {
            "gridcolor": "white",
            "linecolor": "white",
            "ticks": ""
           }
          },
          "title": {
           "x": 0.05
          },
          "xaxis": {
           "automargin": true,
           "gridcolor": "white",
           "linecolor": "white",
           "ticks": "",
           "title": {
            "standoff": 15
           },
           "zerolinecolor": "white",
           "zerolinewidth": 2
          },
          "yaxis": {
           "automargin": true,
           "gridcolor": "white",
           "linecolor": "white",
           "ticks": "",
           "title": {
            "standoff": 15
           },
           "zerolinecolor": "white",
           "zerolinewidth": 2
          }
         }
        },
        "xaxis": {
         "anchor": "y",
         "domain": [
          0,
          1
         ],
         "title": {
          "text": "total_bill"
         }
        },
        "yaxis": {
         "anchor": "x",
         "domain": [
          0,
          1
         ],
         "title": {
          "text": "tip"
         }
        }
       }
      }
     },
     "metadata": {}
    }
   ],
   "source": [
    "# Regresion lineal\n",
    "import numpy as np\n",
    "import plotly.express as px\n",
    "import plotly.graph_objects as go\n",
    "from sklearn.linear_model import LinearRegression\n",
    "\n",
    "df = px.data.tips()\n",
    "X = df.total_bill.values.reshape(-1, 1)\n",
    "\n",
    "model = LinearRegression()\n",
    "model.fit(X, df.tip)\n",
    "\n",
    "x_range = np.linspace(X.min(), X.max(), 100)\n",
    "y_range = model.predict(x_range.reshape(-1, 1))\n",
    "\n",
    "fig = px.scatter(df, x='total_bill', y='tip', opacity=0.65)\n",
    "fig.add_traces(go.Scatter(x=x_range, y=y_range, name='Regression Fit'))\n",
    "fig.show()"
   ]
  },
  {
   "cell_type": "code",
   "execution_count": 3,
   "metadata": {},
   "outputs": [
    {
     "output_type": "display_data",
     "data": {
      "application/vnd.plotly.v1+json": {
       "config": {
        "plotlyServerURL": "https://plot.ly"
       },
       "data": [
        {
         "mode": "markers",
         "name": "train",
         "type": "scatter",
         "x": [
          15.81,
          21.16,
          25,
          30.14,
          15.53,
          16.47,
          32.83,
          10.33,
          28.97,
          15.38,
          10.51,
          24.59,
          14.31,
          13.81,
          18.64,
          34.81,
          16.45,
          13.37,
          18.26,
          8.51,
          11.59,
          16.04,
          18.43,
          23.68,
          17.26,
          19.82,
          9.55,
          7.74,
          20.29,
          38.01,
          34.63,
          28.17,
          20.65,
          45.35,
          22.82,
          25.56,
          35.83,
          19.44,
          10.29,
          15.95,
          12.74,
          19.08,
          13.03,
          10.27,
          14.15,
          31.85,
          8.52,
          17.46,
          14.83,
          12.69,
          12.54,
          13.42,
          17.92,
          16.21,
          22.23,
          20.76,
          29.03,
          21.5,
          50.81,
          11.02,
          15.69,
          16.49,
          21.01,
          48.27,
          7.51,
          20.45,
          9.68,
          19.81,
          13.16,
          19.77,
          38.07,
          26.59,
          21.01,
          24.55,
          16.32,
          16.43,
          10.77,
          23.95,
          16.99,
          22.75,
          40.17,
          15.01,
          18.04,
          28.55,
          34.83,
          22.67,
          34.3,
          39.42,
          12.9,
          27.05,
          22.76,
          11.35,
          20.27,
          10.34,
          17.82,
          8.77,
          20.23,
          15.98,
          13.42,
          13.28,
          40.55,
          38.73,
          13,
          20.9,
          22.49,
          13.27,
          35.26,
          24.08,
          44.3,
          24.06,
          26.41,
          10.63,
          20.08,
          10.34,
          11.69,
          16.58,
          13.94,
          15.36,
          11.17,
          10.07,
          16.29,
          18.69,
          12.26,
          9.94,
          17.51,
          30.46,
          11.38,
          17.78,
          21.7,
          23.17,
          25.71,
          13.81,
          13.13,
          18.35,
          18.71,
          14.52,
          20.69,
          24.01,
          10.09,
          15.06,
          31.71,
          41.19,
          20.53,
          11.87,
          19.65,
          14.48,
          12.46,
          10.07,
          27.18,
          32.9,
          17.29,
          43.11,
          24.27,
          17.31,
          9.78,
          12.6,
          26.86,
          27.2,
          17.81,
          24.52,
          16.66,
          22.12,
          16.82,
          11.61,
          31.27,
          15.48,
          11.24,
          17.47,
          24.71,
          28.15,
          12.02,
          18.28,
          16.31,
          20.29,
          25.89,
          14.78,
          22.42,
          7.56,
          3.07,
          28.44,
          10.65,
          32.4,
          7.25
         ],
         "y": [
          3.16,
          3,
          3.75,
          3.09,
          3,
          3.23,
          1.17,
          1.67,
          3,
          3,
          1.25,
          3.61,
          4,
          2,
          1.36,
          5.2,
          2.47,
          2,
          3.25,
          1.25,
          1.5,
          2.24,
          3,
          3.31,
          2.74,
          3.18,
          1.45,
          1.44,
          3.21,
          3,
          3.55,
          6.5,
          3.35,
          3.5,
          2.18,
          4.34,
          4.67,
          3,
          2.6,
          2,
          2.01,
          1.5,
          2,
          1.71,
          2,
          3.18,
          1.48,
          2.54,
          3.02,
          2,
          2.5,
          3.48,
          4.08,
          2,
          5,
          2.24,
          5.92,
          3.5,
          10,
          1.98,
          1.5,
          2,
          3.5,
          6.73,
          2,
          3,
          1.32,
          4.19,
          2.75,
          2,
          4,
          3.41,
          3,
          2,
          4.3,
          2.3,
          1.47,
          2.55,
          1.01,
          3.25,
          4.73,
          2.09,
          3,
          2.05,
          5.17,
          2,
          6.7,
          7.58,
          1.1,
          5,
          3,
          2.5,
          2.83,
          2,
          1.75,
          2,
          2.01,
          2.03,
          1.68,
          2.72,
          3,
          3,
          2,
          3.5,
          3.5,
          2.5,
          5,
          2.92,
          2.5,
          3.6,
          1.5,
          2,
          3.15,
          1.66,
          2.31,
          4,
          3.06,
          1.64,
          1.5,
          1.25,
          3.71,
          2.31,
          2,
          1.56,
          3,
          2,
          2,
          3.27,
          4.3,
          6.5,
          4,
          2,
          2,
          2.5,
          4,
          2,
          5,
          2,
          2,
          3,
          4.5,
          5,
          4,
          1.63,
          3,
          2,
          1.5,
          1.83,
          2,
          3.11,
          2.71,
          5,
          2.03,
          3.5,
          1.73,
          1,
          3.14,
          4,
          2.34,
          3.48,
          3.4,
          2.88,
          4,
          3.39,
          5,
          2.02,
          1.76,
          3.5,
          5.85,
          3,
          1.97,
          4,
          2,
          2.75,
          5.16,
          3.23,
          3.48,
          1.44,
          1,
          2.56,
          1.5,
          6,
          5.15
         ]
        },
        {
         "mode": "markers",
         "name": "test",
         "type": "scatter",
         "x": [
          17.59,
          18.29,
          19.49,
          7.25,
          16.27,
          5.75,
          17.92,
          23.33,
          18.15,
          34.65,
          25.28,
          25.21,
          14.07,
          13,
          13.42,
          30.4,
          8.35,
          14,
          18.78,
          23.1,
          30.06,
          20.92,
          16,
          15.04,
          13.51,
          16.4,
          12.16,
          29.8,
          25.29,
          15.77,
          14.73,
          12.48,
          15.42,
          10.59,
          18.29,
          13.39,
          16.93,
          10.33,
          48.33,
          15.98,
          8.58,
          12.43,
          15.69,
          29.85,
          12.76,
          16.97,
          18.24,
          21.58,
          17.07,
          26.88,
          32.68,
          17.89,
          20.49,
          48.17,
          9.6,
          12.03,
          29.93,
          20.69,
          14.26,
          12.66,
          27.28
         ],
         "y": [
          2.64,
          3.76,
          3.51,
          1,
          2.5,
          1,
          3.08,
          5.65,
          3.5,
          3.68,
          5,
          4.29,
          2.5,
          2,
          1.58,
          5.6,
          1.5,
          3,
          3,
          4,
          2,
          4.08,
          2,
          1.96,
          2,
          2.5,
          2.2,
          4.2,
          4.71,
          2.23,
          2.2,
          2.52,
          1.57,
          1.61,
          3,
          2.61,
          3.07,
          2,
          9,
          3,
          1.92,
          1.8,
          3,
          5.14,
          2.23,
          3.5,
          3.76,
          3.92,
          3,
          3.12,
          5,
          2,
          4.06,
          5,
          4,
          1.5,
          5.07,
          2.45,
          2.5,
          2.5,
          4
         ]
        },
        {
         "name": "prediction",
         "type": "scatter",
         "x": [
          3.07,
          3.552222222222222,
          4.0344444444444445,
          4.516666666666667,
          4.998888888888889,
          5.481111111111111,
          5.963333333333333,
          6.445555555555556,
          6.927777777777777,
          7.41,
          7.892222222222221,
          8.374444444444444,
          8.856666666666667,
          9.338888888888889,
          9.821111111111112,
          10.303333333333333,
          10.785555555555556,
          11.267777777777779,
          11.75,
          12.232222222222223,
          12.714444444444444,
          13.196666666666667,
          13.678888888888888,
          14.161111111111111,
          14.643333333333334,
          15.125555555555556,
          15.607777777777779,
          16.09,
          16.572222222222223,
          17.054444444444442,
          17.536666666666665,
          18.01888888888889,
          18.50111111111111,
          18.983333333333334,
          19.465555555555557,
          19.947777777777777,
          20.43,
          20.912222222222223,
          21.394444444444446,
          21.876666666666665,
          22.358888888888888,
          22.84111111111111,
          23.323333333333334,
          23.805555555555557,
          24.287777777777777,
          24.77,
          25.252222222222223,
          25.734444444444446,
          26.21666666666667,
          26.698888888888888,
          27.18111111111111,
          27.663333333333334,
          28.145555555555557,
          28.627777777777776,
          29.11,
          29.592222222222222,
          30.074444444444445,
          30.55666666666667,
          31.038888888888888,
          31.52111111111111,
          32.00333333333333,
          32.48555555555556,
          32.967777777777776,
          33.449999999999996,
          33.93222222222222,
          34.41444444444444,
          34.89666666666667,
          35.37888888888889,
          35.861111111111114,
          36.343333333333334,
          36.82555555555555,
          37.30777777777778,
          37.79,
          38.272222222222226,
          38.754444444444445,
          39.236666666666665,
          39.71888888888889,
          40.20111111111111,
          40.68333333333333,
          41.16555555555556,
          41.647777777777776,
          42.13,
          42.61222222222222,
          43.09444444444444,
          43.57666666666667,
          44.05888888888889,
          44.541111111111114,
          45.02333333333333,
          45.50555555555555,
          45.98777777777778,
          46.47,
          46.952222222222225,
          47.434444444444445,
          47.916666666666664,
          48.39888888888889,
          48.88111111111111,
          49.36333333333334,
          49.845555555555556,
          50.327777777777776,
          50.81
         ],
         "y": [
          1.2947022585381707,
          1.3419114968621937,
          1.3891207351862167,
          1.4363299735102397,
          1.4835392118342625,
          1.5307484501582858,
          1.5779576884823086,
          1.6251669268063318,
          1.6723761651303546,
          1.7195854034543778,
          1.7667946417784006,
          1.8140038801024239,
          1.8612131184264467,
          1.9084223567504697,
          1.9556315950744927,
          2.0028408333985155,
          2.0500500717225387,
          2.097259310046562,
          2.1444685483705848,
          2.1916777866946076,
          2.238887025018631,
          2.286096263342654,
          2.333305501666677,
          2.3805147399906996,
          2.427723978314723,
          2.474933216638746,
          2.522142454962769,
          2.5693516932867917,
          2.616560931610815,
          2.6637701699348377,
          2.7109794082588605,
          2.7581886465828838,
          2.805397884906907,
          2.8526071232309302,
          2.899816361554953,
          2.947025599878976,
          2.994234838202999,
          3.041444076527022,
          3.088653314851045,
          3.135862553175068,
          3.1830717914990907,
          3.230281029823114,
          3.277490268147137,
          3.32469950647116,
          3.3719087447951828,
          3.419117983119206,
          3.466327221443229,
          3.513536459767252,
          3.5607456980912753,
          3.607954936415298,
          3.655164174739321,
          3.702373413063344,
          3.7495826513873673,
          3.7967918897113897,
          3.844001128035413,
          3.891210366359436,
          3.938419604683459,
          3.985628843007482,
          4.032838081331505,
          4.080047319655527,
          4.127256557979551,
          4.174465796303574,
          4.221675034627597,
          4.26888427295162,
          4.316093511275643,
          4.363302749599666,
          4.410511987923689,
          4.4577212262477115,
          4.504930464571736,
          4.552139702895758,
          4.59934894121978,
          4.6465581795438045,
          4.693767417867827,
          4.740976656191851,
          4.788185894515873,
          4.835395132839896,
          4.88260437116392,
          4.929813609487942,
          4.9770228478119645,
          5.024232086135989,
          5.071441324460011,
          5.118650562784035,
          5.165859801108057,
          5.21306903943208,
          5.260278277756104,
          5.307487516080126,
          5.35469675440415,
          5.401905992728173,
          5.449115231052195,
          5.496324469376219,
          5.543533707700242,
          5.590742946024264,
          5.637952184348288,
          5.68516142267231,
          5.732370660996333,
          5.779579899320357,
          5.826789137644379,
          5.873998375968402,
          5.921207614292426,
          5.968416852616448
         ]
        }
       ],
       "layout": {
        "template": {
         "data": {
          "bar": [
           {
            "error_x": {
             "color": "#2a3f5f"
            },
            "error_y": {
             "color": "#2a3f5f"
            },
            "marker": {
             "line": {
              "color": "#E5ECF6",
              "width": 0.5
             }
            },
            "type": "bar"
           }
          ],
          "barpolar": [
           {
            "marker": {
             "line": {
              "color": "#E5ECF6",
              "width": 0.5
             }
            },
            "type": "barpolar"
           }
          ],
          "carpet": [
           {
            "aaxis": {
             "endlinecolor": "#2a3f5f",
             "gridcolor": "white",
             "linecolor": "white",
             "minorgridcolor": "white",
             "startlinecolor": "#2a3f5f"
            },
            "baxis": {
             "endlinecolor": "#2a3f5f",
             "gridcolor": "white",
             "linecolor": "white",
             "minorgridcolor": "white",
             "startlinecolor": "#2a3f5f"
            },
            "type": "carpet"
           }
          ],
          "choropleth": [
           {
            "colorbar": {
             "outlinewidth": 0,
             "ticks": ""
            },
            "type": "choropleth"
           }
          ],
          "contour": [
           {
            "colorbar": {
             "outlinewidth": 0,
             "ticks": ""
            },
            "colorscale": [
             [
              0,
              "#0d0887"
             ],
             [
              0.1111111111111111,
              "#46039f"
             ],
             [
              0.2222222222222222,
              "#7201a8"
             ],
             [
              0.3333333333333333,
              "#9c179e"
             ],
             [
              0.4444444444444444,
              "#bd3786"
             ],
             [
              0.5555555555555556,
              "#d8576b"
             ],
             [
              0.6666666666666666,
              "#ed7953"
             ],
             [
              0.7777777777777778,
              "#fb9f3a"
             ],
             [
              0.8888888888888888,
              "#fdca26"
             ],
             [
              1,
              "#f0f921"
             ]
            ],
            "type": "contour"
           }
          ],
          "contourcarpet": [
           {
            "colorbar": {
             "outlinewidth": 0,
             "ticks": ""
            },
            "type": "contourcarpet"
           }
          ],
          "heatmap": [
           {
            "colorbar": {
             "outlinewidth": 0,
             "ticks": ""
            },
            "colorscale": [
             [
              0,
              "#0d0887"
             ],
             [
              0.1111111111111111,
              "#46039f"
             ],
             [
              0.2222222222222222,
              "#7201a8"
             ],
             [
              0.3333333333333333,
              "#9c179e"
             ],
             [
              0.4444444444444444,
              "#bd3786"
             ],
             [
              0.5555555555555556,
              "#d8576b"
             ],
             [
              0.6666666666666666,
              "#ed7953"
             ],
             [
              0.7777777777777778,
              "#fb9f3a"
             ],
             [
              0.8888888888888888,
              "#fdca26"
             ],
             [
              1,
              "#f0f921"
             ]
            ],
            "type": "heatmap"
           }
          ],
          "heatmapgl": [
           {
            "colorbar": {
             "outlinewidth": 0,
             "ticks": ""
            },
            "colorscale": [
             [
              0,
              "#0d0887"
             ],
             [
              0.1111111111111111,
              "#46039f"
             ],
             [
              0.2222222222222222,
              "#7201a8"
             ],
             [
              0.3333333333333333,
              "#9c179e"
             ],
             [
              0.4444444444444444,
              "#bd3786"
             ],
             [
              0.5555555555555556,
              "#d8576b"
             ],
             [
              0.6666666666666666,
              "#ed7953"
             ],
             [
              0.7777777777777778,
              "#fb9f3a"
             ],
             [
              0.8888888888888888,
              "#fdca26"
             ],
             [
              1,
              "#f0f921"
             ]
            ],
            "type": "heatmapgl"
           }
          ],
          "histogram": [
           {
            "marker": {
             "colorbar": {
              "outlinewidth": 0,
              "ticks": ""
             }
            },
            "type": "histogram"
           }
          ],
          "histogram2d": [
           {
            "colorbar": {
             "outlinewidth": 0,
             "ticks": ""
            },
            "colorscale": [
             [
              0,
              "#0d0887"
             ],
             [
              0.1111111111111111,
              "#46039f"
             ],
             [
              0.2222222222222222,
              "#7201a8"
             ],
             [
              0.3333333333333333,
              "#9c179e"
             ],
             [
              0.4444444444444444,
              "#bd3786"
             ],
             [
              0.5555555555555556,
              "#d8576b"
             ],
             [
              0.6666666666666666,
              "#ed7953"
             ],
             [
              0.7777777777777778,
              "#fb9f3a"
             ],
             [
              0.8888888888888888,
              "#fdca26"
             ],
             [
              1,
              "#f0f921"
             ]
            ],
            "type": "histogram2d"
           }
          ],
          "histogram2dcontour": [
           {
            "colorbar": {
             "outlinewidth": 0,
             "ticks": ""
            },
            "colorscale": [
             [
              0,
              "#0d0887"
             ],
             [
              0.1111111111111111,
              "#46039f"
             ],
             [
              0.2222222222222222,
              "#7201a8"
             ],
             [
              0.3333333333333333,
              "#9c179e"
             ],
             [
              0.4444444444444444,
              "#bd3786"
             ],
             [
              0.5555555555555556,
              "#d8576b"
             ],
             [
              0.6666666666666666,
              "#ed7953"
             ],
             [
              0.7777777777777778,
              "#fb9f3a"
             ],
             [
              0.8888888888888888,
              "#fdca26"
             ],
             [
              1,
              "#f0f921"
             ]
            ],
            "type": "histogram2dcontour"
           }
          ],
          "mesh3d": [
           {
            "colorbar": {
             "outlinewidth": 0,
             "ticks": ""
            },
            "type": "mesh3d"
           }
          ],
          "parcoords": [
           {
            "line": {
             "colorbar": {
              "outlinewidth": 0,
              "ticks": ""
             }
            },
            "type": "parcoords"
           }
          ],
          "pie": [
           {
            "automargin": true,
            "type": "pie"
           }
          ],
          "scatter": [
           {
            "marker": {
             "colorbar": {
              "outlinewidth": 0,
              "ticks": ""
             }
            },
            "type": "scatter"
           }
          ],
          "scatter3d": [
           {
            "line": {
             "colorbar": {
              "outlinewidth": 0,
              "ticks": ""
             }
            },
            "marker": {
             "colorbar": {
              "outlinewidth": 0,
              "ticks": ""
             }
            },
            "type": "scatter3d"
           }
          ],
          "scattercarpet": [
           {
            "marker": {
             "colorbar": {
              "outlinewidth": 0,
              "ticks": ""
             }
            },
            "type": "scattercarpet"
           }
          ],
          "scattergeo": [
           {
            "marker": {
             "colorbar": {
              "outlinewidth": 0,
              "ticks": ""
             }
            },
            "type": "scattergeo"
           }
          ],
          "scattergl": [
           {
            "marker": {
             "colorbar": {
              "outlinewidth": 0,
              "ticks": ""
             }
            },
            "type": "scattergl"
           }
          ],
          "scattermapbox": [
           {
            "marker": {
             "colorbar": {
              "outlinewidth": 0,
              "ticks": ""
             }
            },
            "type": "scattermapbox"
           }
          ],
          "scatterpolar": [
           {
            "marker": {
             "colorbar": {
              "outlinewidth": 0,
              "ticks": ""
             }
            },
            "type": "scatterpolar"
           }
          ],
          "scatterpolargl": [
           {
            "marker": {
             "colorbar": {
              "outlinewidth": 0,
              "ticks": ""
             }
            },
            "type": "scatterpolargl"
           }
          ],
          "scatterternary": [
           {
            "marker": {
             "colorbar": {
              "outlinewidth": 0,
              "ticks": ""
             }
            },
            "type": "scatterternary"
           }
          ],
          "surface": [
           {
            "colorbar": {
             "outlinewidth": 0,
             "ticks": ""
            },
            "colorscale": [
             [
              0,
              "#0d0887"
             ],
             [
              0.1111111111111111,
              "#46039f"
             ],
             [
              0.2222222222222222,
              "#7201a8"
             ],
             [
              0.3333333333333333,
              "#9c179e"
             ],
             [
              0.4444444444444444,
              "#bd3786"
             ],
             [
              0.5555555555555556,
              "#d8576b"
             ],
             [
              0.6666666666666666,
              "#ed7953"
             ],
             [
              0.7777777777777778,
              "#fb9f3a"
             ],
             [
              0.8888888888888888,
              "#fdca26"
             ],
             [
              1,
              "#f0f921"
             ]
            ],
            "type": "surface"
           }
          ],
          "table": [
           {
            "cells": {
             "fill": {
              "color": "#EBF0F8"
             },
             "line": {
              "color": "white"
             }
            },
            "header": {
             "fill": {
              "color": "#C8D4E3"
             },
             "line": {
              "color": "white"
             }
            },
            "type": "table"
           }
          ]
         },
         "layout": {
          "annotationdefaults": {
           "arrowcolor": "#2a3f5f",
           "arrowhead": 0,
           "arrowwidth": 1
          },
          "coloraxis": {
           "colorbar": {
            "outlinewidth": 0,
            "ticks": ""
           }
          },
          "colorscale": {
           "diverging": [
            [
             0,
             "#8e0152"
            ],
            [
             0.1,
             "#c51b7d"
            ],
            [
             0.2,
             "#de77ae"
            ],
            [
             0.3,
             "#f1b6da"
            ],
            [
             0.4,
             "#fde0ef"
            ],
            [
             0.5,
             "#f7f7f7"
            ],
            [
             0.6,
             "#e6f5d0"
            ],
            [
             0.7,
             "#b8e186"
            ],
            [
             0.8,
             "#7fbc41"
            ],
            [
             0.9,
             "#4d9221"
            ],
            [
             1,
             "#276419"
            ]
           ],
           "sequential": [
            [
             0,
             "#0d0887"
            ],
            [
             0.1111111111111111,
             "#46039f"
            ],
            [
             0.2222222222222222,
             "#7201a8"
            ],
            [
             0.3333333333333333,
             "#9c179e"
            ],
            [
             0.4444444444444444,
             "#bd3786"
            ],
            [
             0.5555555555555556,
             "#d8576b"
            ],
            [
             0.6666666666666666,
             "#ed7953"
            ],
            [
             0.7777777777777778,
             "#fb9f3a"
            ],
            [
             0.8888888888888888,
             "#fdca26"
            ],
            [
             1,
             "#f0f921"
            ]
           ],
           "sequentialminus": [
            [
             0,
             "#0d0887"
            ],
            [
             0.1111111111111111,
             "#46039f"
            ],
            [
             0.2222222222222222,
             "#7201a8"
            ],
            [
             0.3333333333333333,
             "#9c179e"
            ],
            [
             0.4444444444444444,
             "#bd3786"
            ],
            [
             0.5555555555555556,
             "#d8576b"
            ],
            [
             0.6666666666666666,
             "#ed7953"
            ],
            [
             0.7777777777777778,
             "#fb9f3a"
            ],
            [
             0.8888888888888888,
             "#fdca26"
            ],
            [
             1,
             "#f0f921"
            ]
           ]
          },
          "colorway": [
           "#636efa",
           "#EF553B",
           "#00cc96",
           "#ab63fa",
           "#FFA15A",
           "#19d3f3",
           "#FF6692",
           "#B6E880",
           "#FF97FF",
           "#FECB52"
          ],
          "font": {
           "color": "#2a3f5f"
          },
          "geo": {
           "bgcolor": "white",
           "lakecolor": "white",
           "landcolor": "#E5ECF6",
           "showlakes": true,
           "showland": true,
           "subunitcolor": "white"
          },
          "hoverlabel": {
           "align": "left"
          },
          "hovermode": "closest",
          "mapbox": {
           "style": "light"
          },
          "paper_bgcolor": "white",
          "plot_bgcolor": "#E5ECF6",
          "polar": {
           "angularaxis": {
            "gridcolor": "white",
            "linecolor": "white",
            "ticks": ""
           },
           "bgcolor": "#E5ECF6",
           "radialaxis": {
            "gridcolor": "white",
            "linecolor": "white",
            "ticks": ""
           }
          },
          "scene": {
           "xaxis": {
            "backgroundcolor": "#E5ECF6",
            "gridcolor": "white",
            "gridwidth": 2,
            "linecolor": "white",
            "showbackground": true,
            "ticks": "",
            "zerolinecolor": "white"
           },
           "yaxis": {
            "backgroundcolor": "#E5ECF6",
            "gridcolor": "white",
            "gridwidth": 2,
            "linecolor": "white",
            "showbackground": true,
            "ticks": "",
            "zerolinecolor": "white"
           },
           "zaxis": {
            "backgroundcolor": "#E5ECF6",
            "gridcolor": "white",
            "gridwidth": 2,
            "linecolor": "white",
            "showbackground": true,
            "ticks": "",
            "zerolinecolor": "white"
           }
          },
          "shapedefaults": {
           "line": {
            "color": "#2a3f5f"
           }
          },
          "ternary": {
           "aaxis": {
            "gridcolor": "white",
            "linecolor": "white",
            "ticks": ""
           },
           "baxis": {
            "gridcolor": "white",
            "linecolor": "white",
            "ticks": ""
           },
           "bgcolor": "#E5ECF6",
           "caxis": {
            "gridcolor": "white",
            "linecolor": "white",
            "ticks": ""
           }
          },
          "title": {
           "x": 0.05
          },
          "xaxis": {
           "automargin": true,
           "gridcolor": "white",
           "linecolor": "white",
           "ticks": "",
           "title": {
            "standoff": 15
           },
           "zerolinecolor": "white",
           "zerolinewidth": 2
          },
          "yaxis": {
           "automargin": true,
           "gridcolor": "white",
           "linecolor": "white",
           "ticks": "",
           "title": {
            "standoff": 15
           },
           "zerolinecolor": "white",
           "zerolinewidth": 2
          }
         }
        }
       }
      }
     },
     "metadata": {}
    }
   ],
   "source": [
    "#Generalización de modelos sobre datos invisibles:\n",
    "import numpy as np\n",
    "import plotly.express as px\n",
    "import plotly.graph_objects as go\n",
    "from sklearn.linear_model import LinearRegression\n",
    "from sklearn.model_selection import train_test_split\n",
    "\n",
    "df = px.data.tips()\n",
    "X = df.total_bill[:, None]\n",
    "X_train, X_test, y_train, y_test = train_test_split(X, df.tip, random_state=0)\n",
    "\n",
    "model = LinearRegression()\n",
    "model.fit(X_train, y_train)\n",
    "\n",
    "x_range = np.linspace(X.min(), X.max(), 100)\n",
    "y_range = model.predict(x_range.reshape(-1, 1))\n",
    "\n",
    "\n",
    "fig = go.Figure([\n",
    "    go.Scatter(x=X_train.squeeze(), y=y_train, name='train', mode='markers'),\n",
    "    go.Scatter(x=X_test.squeeze(), y=y_test, name='test', mode='markers'),\n",
    "    go.Scatter(x=x_range, y=y_range, name='prediction')\n",
    "])\n",
    "fig.show()"
   ]
  },
  {
   "cell_type": "code",
   "execution_count": 4,
   "metadata": {},
   "outputs": [
    {
     "output_type": "display_data",
     "data": {
      "application/vnd.plotly.v1+json": {
       "config": {
        "plotlyServerURL": "https://plot.ly"
       },
       "data": [
        {
         "marker": {
          "color": "lightyellow",
          "line": {
           "width": 1.5
          },
          "size": 12,
          "symbol": "square"
         },
         "mode": "markers",
         "name": "Train Split, Label 0",
         "type": "scatter",
         "x": [
          -1.0246549549067154,
          0.5696926997602635,
          -1.2968176444425201,
          0.34665025884741507,
          0.6365168516040098,
          -0.1377260693484619,
          0.7444455063252204,
          -0.23712491563950072,
          0.5282419616404991,
          -0.3722784784934399,
          -0.8761558871630455,
          -0.36653222317639494,
          0.30430746270370695,
          1.5200214310317168,
          -0.8217228210436642,
          0.03159499363321344,
          -0.1733243247632656,
          0.7215522446289362,
          -0.14814362283282412,
          -0.22165389689435594,
          -0.9285824919481817,
          0.4673081934172612,
          1.1633983178077336,
          0.7745538478844521,
          -1.318500344394381,
          -0.5970241655451736,
          1.17037550831432,
          -0.8823075833032377,
          -0.746629463206858,
          -0.5617530312161083,
          0.6768054363547378,
          0.22334676355617628,
          0.2457559354815964,
          0.7334605649545697,
          0.12412420648128764,
          -0.8753936535485004,
          -0.36885733097325313,
          1.0265876544828723
         ],
         "y": [
          0.16190214636642664,
          0.33744135752913684,
          0.1841470902307968,
          1.115706761193445,
          0.7544482523438969,
          1.2453261987125588,
          0.5766137068632282,
          0.778760335469834,
          0.9830099315447121,
          0.9929131660820307,
          0.046566202513465105,
          1.119716334184673,
          0.8237393538028818,
          -0.04515581275373087,
          0.6314106629162008,
          0.9869877579082642,
          1.0021513076857296,
          0.447216575087707,
          0.9615865686187115,
          0.2516013870512852,
          -0.4563199052393644,
          0.5470319224500304,
          0.5529023837343671,
          0.15375803209412348,
          0.4231123496153354,
          0.6572360991187756,
          0.5984065269053864,
          0.07249044196648242,
          -0.3829632037287942,
          1.0548605100608779,
          1.5718993127141032,
          1.3221718264805824,
          0.8496383011786972,
          0.2816192880885117,
          1.0006289185760988,
          0.5054342299267167,
          0.7288660141702618,
          0.37782457690227467
         ]
        },
        {
         "marker": {
          "color": "lightyellow",
          "line": {
           "width": 1.5
          },
          "size": 12,
          "symbol": "circle"
         },
         "mode": "markers",
         "name": "Train Split, Label 1",
         "type": "scatter",
         "x": [
          1.2900374790980524,
          1.6676021747551528,
          -0.38147174216725455,
          2.1813716830490253,
          0.1273314190904385,
          2.1457732101750753,
          2.115097840005998,
          0.6417403675063451,
          0.8295450281029343,
          -0.2545155930677909,
          2.112857076342866,
          -0.10704571812268296,
          0.06873257777127617,
          1.919806334070562,
          1.4045116008147969,
          2.00344508668566,
          0.7051569889057123,
          -0.2788301416383404,
          1.0561460467688328,
          1.2876687011345485,
          0.02493632078646496,
          1.865007322962233,
          0.5076412403964466,
          1.4834364020743789,
          0.9529142847496186,
          2.1801102777300736,
          1.7392373006108919,
          0.18121142278818408,
          1.025806681391205,
          1.094878136347055,
          1.5000961594814137,
          1.6829443382714295,
          0.4635673501248082,
          1.7157955733793964,
          0.2186232335250059,
          1.586187998577997,
          0.7143523082580422
         ],
         "y": [
          -0.206914047504865,
          -0.42485665227173697,
          -0.23488746653490064,
          -0.022917469276894753,
          -0.37965489671189484,
          0.4629636173144291,
          -0.04624396793368002,
          -0.3936946837063959,
          -0.5393214930366995,
          0.1931727159301121,
          0.6620835334836002,
          0.5617832625636306,
          0.5664846702876994,
          0.17247328896340242,
          -0.00705700513831449,
          -0.3091496039347519,
          -0.4589244400760628,
          0.6142053862138132,
          -1.0357020680498332,
          -0.4910366009324705,
          0.1074795833868682,
          -0.011078737347192516,
          -0.11731979334752535,
          -0.10517023149846338,
          -0.4197656395767485,
          -0.699777507780252,
          0.45900352420145013,
          0.24717743090960537,
          -0.6257456623273743,
          -0.36841844821907443,
          -0.7463637596324144,
          -0.20204230317276864,
          -0.195154298389205,
          0.3606945394211044,
          -0.6525211867631453,
          -0.6298451656162284,
          -0.799941612146002
         ]
        },
        {
         "marker": {
          "color": "lightyellow",
          "line": {
           "width": 1.5
          },
          "size": 12,
          "symbol": "square-dot"
         },
         "mode": "markers",
         "name": "Test Split, Label 0",
         "type": "scatter",
         "x": [
          0.6058522563968107,
          0.8824897202429526,
          0.30124459428835504,
          0.3211854615031241,
          -0.5134668595395712,
          0.3017090266430521,
          1.2254083492697045,
          0.6845111142379667,
          -0.6580500787381698,
          -1.069649973668144,
          -0.9500358136002063,
          0.931313254314998
         ],
         "y": [
          0.31252841966998635,
          -0.07575605515192824,
          1.2331569713300374,
          0.2866866685419984,
          0.6786909545326082,
          0.7860353394551198,
          1.1979301686740846,
          0.7528768522591496,
          -0.12944211219823631,
          0.13666024731616316,
          0.9036169893360139,
          1.385178411971549
         ]
        },
        {
         "marker": {
          "color": "lightyellow",
          "line": {
           "width": 1.5
          },
          "size": 12,
          "symbol": "circle-dot"
         },
         "mode": "markers",
         "name": "Test Split, Label 1",
         "type": "scatter",
         "x": [
          0.19725589918348185,
          0.19536280375270595,
          0.3553646839272794,
          1.376715047058109,
          2.0229707875067526,
          1.6994530943264532,
          0.6385646696350308,
          0.9521745361967547,
          0.47404722604781996,
          0.41947210215169756,
          -0.029221145736673143,
          0.20718083265981707,
          -0.05514410395493309
         ],
         "y": [
          -0.06801667981997078,
          0.1608510651493314,
          -0.6784798863681882,
          -0.8091510741803736,
          0.12325148232449507,
          0.5877196698165861,
          -0.44718443416511544,
          -0.7530747091382108,
          -0.14575067196362812,
          -0.3247810115072367,
          0.3928733563262766,
          -0.0976714273989191,
          -0.03733245922211456
         ]
        }
       ],
       "layout": {
        "template": {
         "data": {
          "bar": [
           {
            "error_x": {
             "color": "#2a3f5f"
            },
            "error_y": {
             "color": "#2a3f5f"
            },
            "marker": {
             "line": {
              "color": "#E5ECF6",
              "width": 0.5
             }
            },
            "type": "bar"
           }
          ],
          "barpolar": [
           {
            "marker": {
             "line": {
              "color": "#E5ECF6",
              "width": 0.5
             }
            },
            "type": "barpolar"
           }
          ],
          "carpet": [
           {
            "aaxis": {
             "endlinecolor": "#2a3f5f",
             "gridcolor": "white",
             "linecolor": "white",
             "minorgridcolor": "white",
             "startlinecolor": "#2a3f5f"
            },
            "baxis": {
             "endlinecolor": "#2a3f5f",
             "gridcolor": "white",
             "linecolor": "white",
             "minorgridcolor": "white",
             "startlinecolor": "#2a3f5f"
            },
            "type": "carpet"
           }
          ],
          "choropleth": [
           {
            "colorbar": {
             "outlinewidth": 0,
             "ticks": ""
            },
            "type": "choropleth"
           }
          ],
          "contour": [
           {
            "colorbar": {
             "outlinewidth": 0,
             "ticks": ""
            },
            "colorscale": [
             [
              0,
              "#0d0887"
             ],
             [
              0.1111111111111111,
              "#46039f"
             ],
             [
              0.2222222222222222,
              "#7201a8"
             ],
             [
              0.3333333333333333,
              "#9c179e"
             ],
             [
              0.4444444444444444,
              "#bd3786"
             ],
             [
              0.5555555555555556,
              "#d8576b"
             ],
             [
              0.6666666666666666,
              "#ed7953"
             ],
             [
              0.7777777777777778,
              "#fb9f3a"
             ],
             [
              0.8888888888888888,
              "#fdca26"
             ],
             [
              1,
              "#f0f921"
             ]
            ],
            "type": "contour"
           }
          ],
          "contourcarpet": [
           {
            "colorbar": {
             "outlinewidth": 0,
             "ticks": ""
            },
            "type": "contourcarpet"
           }
          ],
          "heatmap": [
           {
            "colorbar": {
             "outlinewidth": 0,
             "ticks": ""
            },
            "colorscale": [
             [
              0,
              "#0d0887"
             ],
             [
              0.1111111111111111,
              "#46039f"
             ],
             [
              0.2222222222222222,
              "#7201a8"
             ],
             [
              0.3333333333333333,
              "#9c179e"
             ],
             [
              0.4444444444444444,
              "#bd3786"
             ],
             [
              0.5555555555555556,
              "#d8576b"
             ],
             [
              0.6666666666666666,
              "#ed7953"
             ],
             [
              0.7777777777777778,
              "#fb9f3a"
             ],
             [
              0.8888888888888888,
              "#fdca26"
             ],
             [
              1,
              "#f0f921"
             ]
            ],
            "type": "heatmap"
           }
          ],
          "heatmapgl": [
           {
            "colorbar": {
             "outlinewidth": 0,
             "ticks": ""
            },
            "colorscale": [
             [
              0,
              "#0d0887"
             ],
             [
              0.1111111111111111,
              "#46039f"
             ],
             [
              0.2222222222222222,
              "#7201a8"
             ],
             [
              0.3333333333333333,
              "#9c179e"
             ],
             [
              0.4444444444444444,
              "#bd3786"
             ],
             [
              0.5555555555555556,
              "#d8576b"
             ],
             [
              0.6666666666666666,
              "#ed7953"
             ],
             [
              0.7777777777777778,
              "#fb9f3a"
             ],
             [
              0.8888888888888888,
              "#fdca26"
             ],
             [
              1,
              "#f0f921"
             ]
            ],
            "type": "heatmapgl"
           }
          ],
          "histogram": [
           {
            "marker": {
             "colorbar": {
              "outlinewidth": 0,
              "ticks": ""
             }
            },
            "type": "histogram"
           }
          ],
          "histogram2d": [
           {
            "colorbar": {
             "outlinewidth": 0,
             "ticks": ""
            },
            "colorscale": [
             [
              0,
              "#0d0887"
             ],
             [
              0.1111111111111111,
              "#46039f"
             ],
             [
              0.2222222222222222,
              "#7201a8"
             ],
             [
              0.3333333333333333,
              "#9c179e"
             ],
             [
              0.4444444444444444,
              "#bd3786"
             ],
             [
              0.5555555555555556,
              "#d8576b"
             ],
             [
              0.6666666666666666,
              "#ed7953"
             ],
             [
              0.7777777777777778,
              "#fb9f3a"
             ],
             [
              0.8888888888888888,
              "#fdca26"
             ],
             [
              1,
              "#f0f921"
             ]
            ],
            "type": "histogram2d"
           }
          ],
          "histogram2dcontour": [
           {
            "colorbar": {
             "outlinewidth": 0,
             "ticks": ""
            },
            "colorscale": [
             [
              0,
              "#0d0887"
             ],
             [
              0.1111111111111111,
              "#46039f"
             ],
             [
              0.2222222222222222,
              "#7201a8"
             ],
             [
              0.3333333333333333,
              "#9c179e"
             ],
             [
              0.4444444444444444,
              "#bd3786"
             ],
             [
              0.5555555555555556,
              "#d8576b"
             ],
             [
              0.6666666666666666,
              "#ed7953"
             ],
             [
              0.7777777777777778,
              "#fb9f3a"
             ],
             [
              0.8888888888888888,
              "#fdca26"
             ],
             [
              1,
              "#f0f921"
             ]
            ],
            "type": "histogram2dcontour"
           }
          ],
          "mesh3d": [
           {
            "colorbar": {
             "outlinewidth": 0,
             "ticks": ""
            },
            "type": "mesh3d"
           }
          ],
          "parcoords": [
           {
            "line": {
             "colorbar": {
              "outlinewidth": 0,
              "ticks": ""
             }
            },
            "type": "parcoords"
           }
          ],
          "pie": [
           {
            "automargin": true,
            "type": "pie"
           }
          ],
          "scatter": [
           {
            "marker": {
             "colorbar": {
              "outlinewidth": 0,
              "ticks": ""
             }
            },
            "type": "scatter"
           }
          ],
          "scatter3d": [
           {
            "line": {
             "colorbar": {
              "outlinewidth": 0,
              "ticks": ""
             }
            },
            "marker": {
             "colorbar": {
              "outlinewidth": 0,
              "ticks": ""
             }
            },
            "type": "scatter3d"
           }
          ],
          "scattercarpet": [
           {
            "marker": {
             "colorbar": {
              "outlinewidth": 0,
              "ticks": ""
             }
            },
            "type": "scattercarpet"
           }
          ],
          "scattergeo": [
           {
            "marker": {
             "colorbar": {
              "outlinewidth": 0,
              "ticks": ""
             }
            },
            "type": "scattergeo"
           }
          ],
          "scattergl": [
           {
            "marker": {
             "colorbar": {
              "outlinewidth": 0,
              "ticks": ""
             }
            },
            "type": "scattergl"
           }
          ],
          "scattermapbox": [
           {
            "marker": {
             "colorbar": {
              "outlinewidth": 0,
              "ticks": ""
             }
            },
            "type": "scattermapbox"
           }
          ],
          "scatterpolar": [
           {
            "marker": {
             "colorbar": {
              "outlinewidth": 0,
              "ticks": ""
             }
            },
            "type": "scatterpolar"
           }
          ],
          "scatterpolargl": [
           {
            "marker": {
             "colorbar": {
              "outlinewidth": 0,
              "ticks": ""
             }
            },
            "type": "scatterpolargl"
           }
          ],
          "scatterternary": [
           {
            "marker": {
             "colorbar": {
              "outlinewidth": 0,
              "ticks": ""
             }
            },
            "type": "scatterternary"
           }
          ],
          "surface": [
           {
            "colorbar": {
             "outlinewidth": 0,
             "ticks": ""
            },
            "colorscale": [
             [
              0,
              "#0d0887"
             ],
             [
              0.1111111111111111,
              "#46039f"
             ],
             [
              0.2222222222222222,
              "#7201a8"
             ],
             [
              0.3333333333333333,
              "#9c179e"
             ],
             [
              0.4444444444444444,
              "#bd3786"
             ],
             [
              0.5555555555555556,
              "#d8576b"
             ],
             [
              0.6666666666666666,
              "#ed7953"
             ],
             [
              0.7777777777777778,
              "#fb9f3a"
             ],
             [
              0.8888888888888888,
              "#fdca26"
             ],
             [
              1,
              "#f0f921"
             ]
            ],
            "type": "surface"
           }
          ],
          "table": [
           {
            "cells": {
             "fill": {
              "color": "#EBF0F8"
             },
             "line": {
              "color": "white"
             }
            },
            "header": {
             "fill": {
              "color": "#C8D4E3"
             },
             "line": {
              "color": "white"
             }
            },
            "type": "table"
           }
          ]
         },
         "layout": {
          "annotationdefaults": {
           "arrowcolor": "#2a3f5f",
           "arrowhead": 0,
           "arrowwidth": 1
          },
          "coloraxis": {
           "colorbar": {
            "outlinewidth": 0,
            "ticks": ""
           }
          },
          "colorscale": {
           "diverging": [
            [
             0,
             "#8e0152"
            ],
            [
             0.1,
             "#c51b7d"
            ],
            [
             0.2,
             "#de77ae"
            ],
            [
             0.3,
             "#f1b6da"
            ],
            [
             0.4,
             "#fde0ef"
            ],
            [
             0.5,
             "#f7f7f7"
            ],
            [
             0.6,
             "#e6f5d0"
            ],
            [
             0.7,
             "#b8e186"
            ],
            [
             0.8,
             "#7fbc41"
            ],
            [
             0.9,
             "#4d9221"
            ],
            [
             1,
             "#276419"
            ]
           ],
           "sequential": [
            [
             0,
             "#0d0887"
            ],
            [
             0.1111111111111111,
             "#46039f"
            ],
            [
             0.2222222222222222,
             "#7201a8"
            ],
            [
             0.3333333333333333,
             "#9c179e"
            ],
            [
             0.4444444444444444,
             "#bd3786"
            ],
            [
             0.5555555555555556,
             "#d8576b"
            ],
            [
             0.6666666666666666,
             "#ed7953"
            ],
            [
             0.7777777777777778,
             "#fb9f3a"
            ],
            [
             0.8888888888888888,
             "#fdca26"
            ],
            [
             1,
             "#f0f921"
            ]
           ],
           "sequentialminus": [
            [
             0,
             "#0d0887"
            ],
            [
             0.1111111111111111,
             "#46039f"
            ],
            [
             0.2222222222222222,
             "#7201a8"
            ],
            [
             0.3333333333333333,
             "#9c179e"
            ],
            [
             0.4444444444444444,
             "#bd3786"
            ],
            [
             0.5555555555555556,
             "#d8576b"
            ],
            [
             0.6666666666666666,
             "#ed7953"
            ],
            [
             0.7777777777777778,
             "#fb9f3a"
            ],
            [
             0.8888888888888888,
             "#fdca26"
            ],
            [
             1,
             "#f0f921"
            ]
           ]
          },
          "colorway": [
           "#636efa",
           "#EF553B",
           "#00cc96",
           "#ab63fa",
           "#FFA15A",
           "#19d3f3",
           "#FF6692",
           "#B6E880",
           "#FF97FF",
           "#FECB52"
          ],
          "font": {
           "color": "#2a3f5f"
          },
          "geo": {
           "bgcolor": "white",
           "lakecolor": "white",
           "landcolor": "#E5ECF6",
           "showlakes": true,
           "showland": true,
           "subunitcolor": "white"
          },
          "hoverlabel": {
           "align": "left"
          },
          "hovermode": "closest",
          "mapbox": {
           "style": "light"
          },
          "paper_bgcolor": "white",
          "plot_bgcolor": "#E5ECF6",
          "polar": {
           "angularaxis": {
            "gridcolor": "white",
            "linecolor": "white",
            "ticks": ""
           },
           "bgcolor": "#E5ECF6",
           "radialaxis": {
            "gridcolor": "white",
            "linecolor": "white",
            "ticks": ""
           }
          },
          "scene": {
           "xaxis": {
            "backgroundcolor": "#E5ECF6",
            "gridcolor": "white",
            "gridwidth": 2,
            "linecolor": "white",
            "showbackground": true,
            "ticks": "",
            "zerolinecolor": "white"
           },
           "yaxis": {
            "backgroundcolor": "#E5ECF6",
            "gridcolor": "white",
            "gridwidth": 2,
            "linecolor": "white",
            "showbackground": true,
            "ticks": "",
            "zerolinecolor": "white"
           },
           "zaxis": {
            "backgroundcolor": "#E5ECF6",
            "gridcolor": "white",
            "gridwidth": 2,
            "linecolor": "white",
            "showbackground": true,
            "ticks": "",
            "zerolinecolor": "white"
           }
          },
          "shapedefaults": {
           "line": {
            "color": "#2a3f5f"
           }
          },
          "ternary": {
           "aaxis": {
            "gridcolor": "white",
            "linecolor": "white",
            "ticks": ""
           },
           "baxis": {
            "gridcolor": "white",
            "linecolor": "white",
            "ticks": ""
           },
           "bgcolor": "#E5ECF6",
           "caxis": {
            "gridcolor": "white",
            "linecolor": "white",
            "ticks": ""
           }
          },
          "title": {
           "x": 0.05
          },
          "xaxis": {
           "automargin": true,
           "gridcolor": "white",
           "linecolor": "white",
           "ticks": "",
           "title": {
            "standoff": 15
           },
           "zerolinecolor": "white",
           "zerolinewidth": 2
          },
          "yaxis": {
           "automargin": true,
           "gridcolor": "white",
           "linecolor": "white",
           "ticks": "",
           "title": {
            "standoff": 15
           },
           "zerolinecolor": "white",
           "zerolinewidth": 2
          }
         }
        }
       }
      }
     },
     "metadata": {}
    }
   ],
   "source": [
    "# Para knn (Clasificación):\n",
    "import plotly.graph_objects as go\n",
    "import numpy as np\n",
    "from sklearn.datasets import make_moons\n",
    "from sklearn.model_selection import train_test_split\n",
    "from sklearn.neighbors import KNeighborsClassifier\n",
    "\n",
    "# Load and split data\n",
    "X, y = make_moons(noise=0.3, random_state=0)\n",
    "X_train, X_test, y_train, y_test = train_test_split(\n",
    "    X, y.astype(str), test_size=0.25, random_state=0)\n",
    "\n",
    "trace_specs = [\n",
    "    [X_train, y_train, '0', 'Train', 'square'],\n",
    "    [X_train, y_train, '1', 'Train', 'circle'],\n",
    "    [X_test, y_test, '0', 'Test', 'square-dot'],\n",
    "    [X_test, y_test, '1', 'Test', 'circle-dot']\n",
    "]\n",
    "\n",
    "fig = go.Figure(data=[\n",
    "    go.Scatter(\n",
    "        x=X[y==label, 0], y=X[y==label, 1],\n",
    "        name=f'{split} Split, Label {label}',\n",
    "        mode='markers', marker_symbol=marker\n",
    "    )\n",
    "    for X, y, label, split, marker in trace_specs\n",
    "])\n",
    "fig.update_traces(\n",
    "    marker_size=12, marker_line_width=1.5,\n",
    "    marker_color=\"lightyellow\"\n",
    ")\n",
    "fig.show()"
   ]
  },
  {
   "cell_type": "code",
   "execution_count": 5,
   "metadata": {},
   "outputs": [
    {
     "output_type": "display_data",
     "data": {
      "application/vnd.plotly.v1+json": {
       "config": {
        "plotlyServerURL": "https://plot.ly"
       },
       "data": [
        {
         "hovertemplate": "sex=Female<br>total_bill=%{x}<br>tip=%{y}<extra></extra>",
         "legendgroup": "Female",
         "marker": {
          "color": "#636efa",
          "opacity": 0.65,
          "symbol": "circle"
         },
         "mode": "markers",
         "name": "Female",
         "orientation": "v",
         "showlegend": true,
         "type": "scatter",
         "x": [
          16.99,
          24.59,
          35.26,
          14.83,
          10.33,
          16.97,
          20.29,
          15.77,
          19.65,
          15.06,
          20.69,
          16.93,
          10.29,
          34.81,
          26.41,
          16.45,
          3.07,
          17.07,
          26.86,
          25.28,
          14.73,
          10.07,
          34.83,
          5.75,
          16.32,
          22.75,
          11.35,
          15.38,
          44.3,
          22.42,
          20.92,
          14.31,
          7.25,
          25.71,
          17.31,
          10.65,
          12.43,
          24.08,
          13.42,
          12.48,
          29.8,
          14.52,
          11.38,
          20.27,
          11.17,
          12.26,
          18.26,
          8.51,
          10.33,
          14.15,
          13.16,
          17.47,
          27.05,
          16.43,
          8.35,
          18.64,
          11.87,
          29.85,
          25,
          13.39,
          16.21,
          17.51,
          10.59,
          10.63,
          9.6,
          20.9,
          18.15,
          19.81,
          43.11,
          13,
          12.74,
          13,
          16.4,
          16.47,
          12.76,
          13.27,
          28.17,
          12.9,
          30.14,
          13.42,
          15.98,
          16.27,
          10.09,
          22.12,
          35.83,
          27.18,
          18.78
         ],
         "xaxis": "x",
         "y": [
          1.01,
          3.61,
          5,
          3.02,
          1.67,
          3.5,
          2.75,
          2.23,
          3,
          3,
          2.45,
          3.07,
          2.6,
          5.2,
          1.5,
          2.47,
          1,
          3,
          3.14,
          5,
          2.2,
          1.83,
          5.17,
          1,
          4.3,
          3.25,
          2.5,
          3,
          2.5,
          3.48,
          4.08,
          4,
          1,
          4,
          3.5,
          1.5,
          1.8,
          2.92,
          1.68,
          2.52,
          4.2,
          2,
          2,
          2.83,
          1.5,
          2,
          3.25,
          1.25,
          2,
          2,
          2.75,
          3.5,
          5,
          2.3,
          1.5,
          1.36,
          1.63,
          5.14,
          3.75,
          2.61,
          2,
          3,
          1.61,
          2,
          4,
          3.5,
          3.5,
          4.19,
          5,
          2,
          2.01,
          2,
          2.5,
          3.23,
          2.23,
          2.5,
          6.5,
          1.1,
          3.09,
          3.48,
          3,
          2.5,
          2,
          2.88,
          4.67,
          2,
          3
         ],
         "yaxis": "y"
        },
        {
         "hovertemplate": "sex=Male<br>total_bill=%{x}<br>tip=%{y}<extra></extra>",
         "legendgroup": "Male",
         "marker": {
          "color": "#EF553B",
          "opacity": 0.65,
          "symbol": "circle"
         },
         "mode": "markers",
         "name": "Male",
         "orientation": "v",
         "showlegend": true,
         "type": "scatter",
         "x": [
          10.34,
          21.01,
          23.68,
          25.29,
          8.77,
          26.88,
          15.04,
          14.78,
          10.27,
          15.42,
          18.43,
          21.58,
          16.29,
          20.65,
          17.92,
          39.42,
          19.82,
          17.81,
          13.37,
          12.69,
          21.7,
          9.55,
          18.35,
          17.78,
          24.06,
          16.31,
          18.69,
          31.27,
          16.04,
          17.46,
          13.94,
          9.68,
          30.4,
          18.29,
          22.23,
          32.4,
          28.55,
          18.04,
          12.54,
          9.94,
          25.56,
          19.49,
          38.01,
          11.24,
          48.27,
          20.29,
          13.81,
          11.02,
          18.29,
          17.59,
          20.08,
          20.23,
          15.01,
          12.02,
          10.51,
          17.92,
          27.2,
          22.76,
          17.29,
          19.44,
          16.66,
          32.68,
          15.98,
          13.03,
          18.28,
          24.71,
          21.16,
          28.97,
          22.49,
          40.17,
          27.28,
          12.03,
          21.01,
          12.46,
          15.36,
          20.49,
          25.21,
          18.24,
          14,
          38.07,
          23.95,
          29.93,
          11.69,
          14.26,
          15.95,
          8.52,
          22.82,
          19.08,
          16,
          34.3,
          41.19,
          9.78,
          7.51,
          14.07,
          13.13,
          17.26,
          24.55,
          19.77,
          48.17,
          16.49,
          21.5,
          12.66,
          13.81,
          24.52,
          20.76,
          31.71,
          50.81,
          15.81,
          7.25,
          31.85,
          16.82,
          32.9,
          17.89,
          14.48,
          34.63,
          34.65,
          23.33,
          45.35,
          23.17,
          40.55,
          20.69,
          30.46,
          23.1,
          15.69,
          28.44,
          15.48,
          16.58,
          7.56,
          10.34,
          13.51,
          18.71,
          20.53,
          26.59,
          38.73,
          24.27,
          30.06,
          25.89,
          48.33,
          28.15,
          11.59,
          7.74,
          12.16,
          8.58,
          13.42,
          20.45,
          13.28,
          24.01,
          15.69,
          11.61,
          10.77,
          15.53,
          10.07,
          12.6,
          32.83,
          29.03,
          22.67,
          17.82
         ],
         "xaxis": "x",
         "y": [
          1.66,
          3.5,
          3.31,
          4.71,
          2,
          3.12,
          1.96,
          3.23,
          1.71,
          1.57,
          3,
          3.92,
          3.71,
          3.35,
          4.08,
          7.58,
          3.18,
          2.34,
          2,
          2,
          4.3,
          1.45,
          2.5,
          3.27,
          3.6,
          2,
          2.31,
          5,
          2.24,
          2.54,
          3.06,
          1.32,
          5.6,
          3,
          5,
          6,
          2.05,
          3,
          2.5,
          1.56,
          4.34,
          3.51,
          3,
          1.76,
          6.73,
          3.21,
          2,
          1.98,
          3.76,
          2.64,
          3.15,
          2.01,
          2.09,
          1.97,
          1.25,
          3.08,
          4,
          3,
          2.71,
          3,
          3.4,
          5,
          2.03,
          2,
          4,
          5.85,
          3,
          3,
          3.5,
          4.73,
          4,
          1.5,
          3,
          1.5,
          1.64,
          4.06,
          4.29,
          3.76,
          3,
          4,
          2.55,
          5.07,
          2.31,
          2.5,
          2,
          1.48,
          2.18,
          1.5,
          2,
          6.7,
          5,
          1.73,
          2,
          2.5,
          2,
          2.74,
          2,
          2,
          5,
          2,
          3.5,
          2.5,
          2,
          3.48,
          2.24,
          4.5,
          10,
          3.16,
          5.15,
          3.18,
          4,
          3.11,
          2,
          2,
          3.55,
          3.68,
          5.65,
          3.5,
          6.5,
          3,
          5,
          2,
          4,
          1.5,
          2.56,
          2.02,
          4,
          1.44,
          2,
          2,
          4,
          4,
          3.41,
          3,
          2.03,
          2,
          5.16,
          9,
          3,
          1.5,
          1.44,
          2.2,
          1.92,
          1.58,
          3,
          2.72,
          2,
          3,
          3.39,
          1.47,
          3,
          1.25,
          1,
          1.17,
          5.92,
          2,
          1.75
         ],
         "yaxis": "y"
        },
        {
         "name": "Weights: Uniform",
         "type": "scatter",
         "x": [
          3.07,
          3.552222222222222,
          4.0344444444444445,
          4.516666666666667,
          4.998888888888889,
          5.481111111111111,
          5.963333333333333,
          6.445555555555556,
          6.927777777777777,
          7.41,
          7.892222222222221,
          8.374444444444444,
          8.856666666666667,
          9.338888888888889,
          9.821111111111112,
          10.303333333333333,
          10.785555555555556,
          11.267777777777779,
          11.75,
          12.232222222222223,
          12.714444444444444,
          13.196666666666667,
          13.678888888888888,
          14.161111111111111,
          14.643333333333334,
          15.125555555555556,
          15.607777777777779,
          16.09,
          16.572222222222223,
          17.054444444444442,
          17.536666666666665,
          18.01888888888889,
          18.50111111111111,
          18.983333333333334,
          19.465555555555557,
          19.947777777777777,
          20.43,
          20.912222222222223,
          21.394444444444446,
          21.876666666666665,
          22.358888888888888,
          22.84111111111111,
          23.323333333333334,
          23.805555555555557,
          24.287777777777777,
          24.77,
          25.252222222222223,
          25.734444444444446,
          26.21666666666667,
          26.698888888888888,
          27.18111111111111,
          27.663333333333334,
          28.145555555555557,
          28.627777777777776,
          29.11,
          29.592222222222222,
          30.074444444444445,
          30.55666666666667,
          31.038888888888888,
          31.52111111111111,
          32.00333333333333,
          32.48555555555556,
          32.967777777777776,
          33.449999999999996,
          33.93222222222222,
          34.41444444444444,
          34.89666666666667,
          35.37888888888889,
          35.861111111111114,
          36.343333333333334,
          36.82555555555555,
          37.30777777777778,
          37.79,
          38.272222222222226,
          38.754444444444445,
          39.236666666666665,
          39.71888888888889,
          40.20111111111111,
          40.68333333333333,
          41.16555555555556,
          41.647777777777776,
          42.13,
          42.61222222222222,
          43.09444444444444,
          43.57666666666667,
          44.05888888888889,
          44.541111111111114,
          45.02333333333333,
          45.50555555555555,
          45.98777777777778,
          46.47,
          46.952222222222225,
          47.434444444444445,
          47.916666666666664,
          48.39888888888889,
          48.88111111111111,
          49.36333333333334,
          49.845555555555556,
          50.327777777777776,
          50.81
         ],
         "y": [
          1.7260000000000002,
          1.7260000000000002,
          1.7260000000000002,
          1.7260000000000002,
          1.7260000000000002,
          1.7260000000000002,
          1.818,
          1.818,
          1.818,
          1.918,
          1.918,
          1.918,
          1.8209999999999997,
          1.9060000000000001,
          1.9450000000000003,
          1.797,
          1.673,
          2.0039999999999996,
          2.076,
          1.8619999999999997,
          1.916,
          2.2159999999999997,
          2.341,
          2.5060000000000002,
          2.6,
          2.3729999999999998,
          2.3120000000000003,
          2.5780000000000003,
          3.02,
          2.947,
          2.7990000000000004,
          3.0029999999999997,
          3.094,
          2.718,
          3.053,
          2.9829999999999997,
          3.2659999999999996,
          3.4120000000000004,
          3.349,
          3.4579999999999997,
          3.3590000000000004,
          3.8560000000000003,
          3.444,
          3.604,
          3.135,
          3.7640000000000002,
          4.271,
          4.201,
          3.938,
          3.533,
          3.567,
          3.537,
          3.803,
          4.144,
          3.944,
          3.8069999999999995,
          4.101999999999999,
          3.978,
          3.978,
          3.8650000000000007,
          3.8650000000000007,
          4.226,
          4.189,
          4.276,
          4.458,
          4.325,
          4.325,
          4.125,
          4.397,
          4.397,
          4.397,
          4.485,
          4.535,
          4.515,
          4.515,
          4.498,
          4.498,
          4.248,
          4.131,
          4.131,
          4.131,
          4.131,
          4.131,
          4.331,
          5.204000000000001,
          5.204,
          5.204000000000001,
          5.204000000000001,
          5.446000000000001,
          5.446000000000001,
          5.446000000000001,
          5.446000000000001,
          5.446000000000001,
          5.446000000000001,
          5.446000000000001,
          5.446000000000001,
          5.446000000000001,
          5.446000000000001,
          5.446000000000001,
          5.446000000000001
         ]
        },
        {
         "name": "Weights: Distance",
         "type": "scatter",
         "x": [
          3.07,
          3.552222222222222,
          4.0344444444444445,
          4.516666666666667,
          4.998888888888889,
          5.481111111111111,
          5.963333333333333,
          6.445555555555556,
          6.927777777777777,
          7.41,
          7.892222222222221,
          8.374444444444444,
          8.856666666666667,
          9.338888888888889,
          9.821111111111112,
          10.303333333333333,
          10.785555555555556,
          11.267777777777779,
          11.75,
          12.232222222222223,
          12.714444444444444,
          13.196666666666667,
          13.678888888888888,
          14.161111111111111,
          14.643333333333334,
          15.125555555555556,
          15.607777777777779,
          16.09,
          16.572222222222223,
          17.054444444444442,
          17.536666666666665,
          18.01888888888889,
          18.50111111111111,
          18.983333333333334,
          19.465555555555557,
          19.947777777777777,
          20.43,
          20.912222222222223,
          21.394444444444446,
          21.876666666666665,
          22.358888888888888,
          22.84111111111111,
          23.323333333333334,
          23.805555555555557,
          24.287777777777777,
          24.77,
          25.252222222222223,
          25.734444444444446,
          26.21666666666667,
          26.698888888888888,
          27.18111111111111,
          27.663333333333334,
          28.145555555555557,
          28.627777777777776,
          29.11,
          29.592222222222222,
          30.074444444444445,
          30.55666666666667,
          31.038888888888888,
          31.52111111111111,
          32.00333333333333,
          32.48555555555556,
          32.967777777777776,
          33.449999999999996,
          33.93222222222222,
          34.41444444444444,
          34.89666666666667,
          35.37888888888889,
          35.861111111111114,
          36.343333333333334,
          36.82555555555555,
          37.30777777777778,
          37.79,
          38.272222222222226,
          38.754444444444445,
          39.236666666666665,
          39.71888888888889,
          40.20111111111111,
          40.68333333333333,
          41.16555555555556,
          41.647777777777776,
          42.13,
          42.61222222222222,
          43.09444444444444,
          43.57666666666667,
          44.05888888888889,
          44.541111111111114,
          45.02333333333333,
          45.50555555555555,
          45.98777777777778,
          46.47,
          46.952222222222225,
          47.434444444444445,
          47.916666666666664,
          48.39888888888889,
          48.88111111111111,
          49.36333333333334,
          49.845555555555556,
          50.327777777777776,
          50.81
         ],
         "y": [
          1,
          1.4163450959710786,
          1.558510656994564,
          1.616570007190273,
          1.6158504217837786,
          1.4760428938565258,
          1.5425230586089462,
          1.927689921338773,
          2.215299743842599,
          2.1706624432964485,
          1.7739144568317324,
          1.5664409061440698,
          1.8409376874117145,
          2.01563853511227,
          1.8264383377973636,
          2.028025240065103,
          1.5502219548496738,
          1.9258003409018094,
          2.1493978864788854,
          1.9624507130069857,
          2.0227189010282394,
          2.3737498529499335,
          2.2616820616826163,
          2.249569008209836,
          2.51490969412968,
          2.409291058310236,
          2.3695009222008614,
          2.421423362014379,
          3.5978734702730057,
          2.8295487809346658,
          2.898985496102064,
          3.03734087538941,
          2.968091909787552,
          2.45263733936934,
          3.1893967514364374,
          3.054355665096097,
          3.24935554739189,
          3.741061111726978,
          3.47680148522589,
          3.671355366295554,
          3.5210076129700343,
          2.8247411166838097,
          5.419749787103295,
          3.2113658036492416,
          2.4315567522620176,
          4.332924608319252,
          4.623847519619034,
          4.168166865611851,
          3.5161639846113926,
          3.315340254148736,
          2.166551059575697,
          3.6629489497940333,
          3.523362848838963,
          3.1756543473672223,
          4.460928649144852,
          4.0997168064740395,
          2.724129257358863,
          3.582638368138194,
          4.142426674015703,
          4.18243490204086,
          3.950475270439257,
          4.716484390175545,
          3.210280543455818,
          4.072182439917837,
          4.70278050658384,
          4.9825241777005065,
          4.848942184479672,
          4.723050016129829,
          4.655963070737826,
          4.488159683442829,
          4.300608894815647,
          4.176982618847257,
          3.84093599820823,
          3.8838305783403118,
          3.2529083967318395,
          5.467710443252835,
          5.167188944399129,
          4.634085670712705,
          3.842453689524513,
          4.892365847019009,
          4.424887631678259,
          4.341970007970647,
          4.377082143891938,
          4.947246719828613,
          4.466018314315038,
          3.6832888635879453,
          3.6312795000881732,
          4.061462021021381,
          4.040715905724092,
          4.838214061757563,
          5.34107933505339,
          5.7623999960616334,
          6.134329646751101,
          6.359141363843585,
          7.558615157258697,
          6.78320471136852,
          6.784575099345461,
          7.074178380871137,
          7.826427992494179,
          10
         ]
        }
       ],
       "layout": {
        "legend": {
         "title": {
          "text": "sex"
         },
         "tracegroupgap": 0
        },
        "margin": {
         "t": 60
        },
        "template": {
         "data": {
          "bar": [
           {
            "error_x": {
             "color": "#2a3f5f"
            },
            "error_y": {
             "color": "#2a3f5f"
            },
            "marker": {
             "line": {
              "color": "#E5ECF6",
              "width": 0.5
             }
            },
            "type": "bar"
           }
          ],
          "barpolar": [
           {
            "marker": {
             "line": {
              "color": "#E5ECF6",
              "width": 0.5
             }
            },
            "type": "barpolar"
           }
          ],
          "carpet": [
           {
            "aaxis": {
             "endlinecolor": "#2a3f5f",
             "gridcolor": "white",
             "linecolor": "white",
             "minorgridcolor": "white",
             "startlinecolor": "#2a3f5f"
            },
            "baxis": {
             "endlinecolor": "#2a3f5f",
             "gridcolor": "white",
             "linecolor": "white",
             "minorgridcolor": "white",
             "startlinecolor": "#2a3f5f"
            },
            "type": "carpet"
           }
          ],
          "choropleth": [
           {
            "colorbar": {
             "outlinewidth": 0,
             "ticks": ""
            },
            "type": "choropleth"
           }
          ],
          "contour": [
           {
            "colorbar": {
             "outlinewidth": 0,
             "ticks": ""
            },
            "colorscale": [
             [
              0,
              "#0d0887"
             ],
             [
              0.1111111111111111,
              "#46039f"
             ],
             [
              0.2222222222222222,
              "#7201a8"
             ],
             [
              0.3333333333333333,
              "#9c179e"
             ],
             [
              0.4444444444444444,
              "#bd3786"
             ],
             [
              0.5555555555555556,
              "#d8576b"
             ],
             [
              0.6666666666666666,
              "#ed7953"
             ],
             [
              0.7777777777777778,
              "#fb9f3a"
             ],
             [
              0.8888888888888888,
              "#fdca26"
             ],
             [
              1,
              "#f0f921"
             ]
            ],
            "type": "contour"
           }
          ],
          "contourcarpet": [
           {
            "colorbar": {
             "outlinewidth": 0,
             "ticks": ""
            },
            "type": "contourcarpet"
           }
          ],
          "heatmap": [
           {
            "colorbar": {
             "outlinewidth": 0,
             "ticks": ""
            },
            "colorscale": [
             [
              0,
              "#0d0887"
             ],
             [
              0.1111111111111111,
              "#46039f"
             ],
             [
              0.2222222222222222,
              "#7201a8"
             ],
             [
              0.3333333333333333,
              "#9c179e"
             ],
             [
              0.4444444444444444,
              "#bd3786"
             ],
             [
              0.5555555555555556,
              "#d8576b"
             ],
             [
              0.6666666666666666,
              "#ed7953"
             ],
             [
              0.7777777777777778,
              "#fb9f3a"
             ],
             [
              0.8888888888888888,
              "#fdca26"
             ],
             [
              1,
              "#f0f921"
             ]
            ],
            "type": "heatmap"
           }
          ],
          "heatmapgl": [
           {
            "colorbar": {
             "outlinewidth": 0,
             "ticks": ""
            },
            "colorscale": [
             [
              0,
              "#0d0887"
             ],
             [
              0.1111111111111111,
              "#46039f"
             ],
             [
              0.2222222222222222,
              "#7201a8"
             ],
             [
              0.3333333333333333,
              "#9c179e"
             ],
             [
              0.4444444444444444,
              "#bd3786"
             ],
             [
              0.5555555555555556,
              "#d8576b"
             ],
             [
              0.6666666666666666,
              "#ed7953"
             ],
             [
              0.7777777777777778,
              "#fb9f3a"
             ],
             [
              0.8888888888888888,
              "#fdca26"
             ],
             [
              1,
              "#f0f921"
             ]
            ],
            "type": "heatmapgl"
           }
          ],
          "histogram": [
           {
            "marker": {
             "colorbar": {
              "outlinewidth": 0,
              "ticks": ""
             }
            },
            "type": "histogram"
           }
          ],
          "histogram2d": [
           {
            "colorbar": {
             "outlinewidth": 0,
             "ticks": ""
            },
            "colorscale": [
             [
              0,
              "#0d0887"
             ],
             [
              0.1111111111111111,
              "#46039f"
             ],
             [
              0.2222222222222222,
              "#7201a8"
             ],
             [
              0.3333333333333333,
              "#9c179e"
             ],
             [
              0.4444444444444444,
              "#bd3786"
             ],
             [
              0.5555555555555556,
              "#d8576b"
             ],
             [
              0.6666666666666666,
              "#ed7953"
             ],
             [
              0.7777777777777778,
              "#fb9f3a"
             ],
             [
              0.8888888888888888,
              "#fdca26"
             ],
             [
              1,
              "#f0f921"
             ]
            ],
            "type": "histogram2d"
           }
          ],
          "histogram2dcontour": [
           {
            "colorbar": {
             "outlinewidth": 0,
             "ticks": ""
            },
            "colorscale": [
             [
              0,
              "#0d0887"
             ],
             [
              0.1111111111111111,
              "#46039f"
             ],
             [
              0.2222222222222222,
              "#7201a8"
             ],
             [
              0.3333333333333333,
              "#9c179e"
             ],
             [
              0.4444444444444444,
              "#bd3786"
             ],
             [
              0.5555555555555556,
              "#d8576b"
             ],
             [
              0.6666666666666666,
              "#ed7953"
             ],
             [
              0.7777777777777778,
              "#fb9f3a"
             ],
             [
              0.8888888888888888,
              "#fdca26"
             ],
             [
              1,
              "#f0f921"
             ]
            ],
            "type": "histogram2dcontour"
           }
          ],
          "mesh3d": [
           {
            "colorbar": {
             "outlinewidth": 0,
             "ticks": ""
            },
            "type": "mesh3d"
           }
          ],
          "parcoords": [
           {
            "line": {
             "colorbar": {
              "outlinewidth": 0,
              "ticks": ""
             }
            },
            "type": "parcoords"
           }
          ],
          "pie": [
           {
            "automargin": true,
            "type": "pie"
           }
          ],
          "scatter": [
           {
            "marker": {
             "colorbar": {
              "outlinewidth": 0,
              "ticks": ""
             }
            },
            "type": "scatter"
           }
          ],
          "scatter3d": [
           {
            "line": {
             "colorbar": {
              "outlinewidth": 0,
              "ticks": ""
             }
            },
            "marker": {
             "colorbar": {
              "outlinewidth": 0,
              "ticks": ""
             }
            },
            "type": "scatter3d"
           }
          ],
          "scattercarpet": [
           {
            "marker": {
             "colorbar": {
              "outlinewidth": 0,
              "ticks": ""
             }
            },
            "type": "scattercarpet"
           }
          ],
          "scattergeo": [
           {
            "marker": {
             "colorbar": {
              "outlinewidth": 0,
              "ticks": ""
             }
            },
            "type": "scattergeo"
           }
          ],
          "scattergl": [
           {
            "marker": {
             "colorbar": {
              "outlinewidth": 0,
              "ticks": ""
             }
            },
            "type": "scattergl"
           }
          ],
          "scattermapbox": [
           {
            "marker": {
             "colorbar": {
              "outlinewidth": 0,
              "ticks": ""
             }
            },
            "type": "scattermapbox"
           }
          ],
          "scatterpolar": [
           {
            "marker": {
             "colorbar": {
              "outlinewidth": 0,
              "ticks": ""
             }
            },
            "type": "scatterpolar"
           }
          ],
          "scatterpolargl": [
           {
            "marker": {
             "colorbar": {
              "outlinewidth": 0,
              "ticks": ""
             }
            },
            "type": "scatterpolargl"
           }
          ],
          "scatterternary": [
           {
            "marker": {
             "colorbar": {
              "outlinewidth": 0,
              "ticks": ""
             }
            },
            "type": "scatterternary"
           }
          ],
          "surface": [
           {
            "colorbar": {
             "outlinewidth": 0,
             "ticks": ""
            },
            "colorscale": [
             [
              0,
              "#0d0887"
             ],
             [
              0.1111111111111111,
              "#46039f"
             ],
             [
              0.2222222222222222,
              "#7201a8"
             ],
             [
              0.3333333333333333,
              "#9c179e"
             ],
             [
              0.4444444444444444,
              "#bd3786"
             ],
             [
              0.5555555555555556,
              "#d8576b"
             ],
             [
              0.6666666666666666,
              "#ed7953"
             ],
             [
              0.7777777777777778,
              "#fb9f3a"
             ],
             [
              0.8888888888888888,
              "#fdca26"
             ],
             [
              1,
              "#f0f921"
             ]
            ],
            "type": "surface"
           }
          ],
          "table": [
           {
            "cells": {
             "fill": {
              "color": "#EBF0F8"
             },
             "line": {
              "color": "white"
             }
            },
            "header": {
             "fill": {
              "color": "#C8D4E3"
             },
             "line": {
              "color": "white"
             }
            },
            "type": "table"
           }
          ]
         },
         "layout": {
          "annotationdefaults": {
           "arrowcolor": "#2a3f5f",
           "arrowhead": 0,
           "arrowwidth": 1
          },
          "coloraxis": {
           "colorbar": {
            "outlinewidth": 0,
            "ticks": ""
           }
          },
          "colorscale": {
           "diverging": [
            [
             0,
             "#8e0152"
            ],
            [
             0.1,
             "#c51b7d"
            ],
            [
             0.2,
             "#de77ae"
            ],
            [
             0.3,
             "#f1b6da"
            ],
            [
             0.4,
             "#fde0ef"
            ],
            [
             0.5,
             "#f7f7f7"
            ],
            [
             0.6,
             "#e6f5d0"
            ],
            [
             0.7,
             "#b8e186"
            ],
            [
             0.8,
             "#7fbc41"
            ],
            [
             0.9,
             "#4d9221"
            ],
            [
             1,
             "#276419"
            ]
           ],
           "sequential": [
            [
             0,
             "#0d0887"
            ],
            [
             0.1111111111111111,
             "#46039f"
            ],
            [
             0.2222222222222222,
             "#7201a8"
            ],
            [
             0.3333333333333333,
             "#9c179e"
            ],
            [
             0.4444444444444444,
             "#bd3786"
            ],
            [
             0.5555555555555556,
             "#d8576b"
            ],
            [
             0.6666666666666666,
             "#ed7953"
            ],
            [
             0.7777777777777778,
             "#fb9f3a"
            ],
            [
             0.8888888888888888,
             "#fdca26"
            ],
            [
             1,
             "#f0f921"
            ]
           ],
           "sequentialminus": [
            [
             0,
             "#0d0887"
            ],
            [
             0.1111111111111111,
             "#46039f"
            ],
            [
             0.2222222222222222,
             "#7201a8"
            ],
            [
             0.3333333333333333,
             "#9c179e"
            ],
            [
             0.4444444444444444,
             "#bd3786"
            ],
            [
             0.5555555555555556,
             "#d8576b"
            ],
            [
             0.6666666666666666,
             "#ed7953"
            ],
            [
             0.7777777777777778,
             "#fb9f3a"
            ],
            [
             0.8888888888888888,
             "#fdca26"
            ],
            [
             1,
             "#f0f921"
            ]
           ]
          },
          "colorway": [
           "#636efa",
           "#EF553B",
           "#00cc96",
           "#ab63fa",
           "#FFA15A",
           "#19d3f3",
           "#FF6692",
           "#B6E880",
           "#FF97FF",
           "#FECB52"
          ],
          "font": {
           "color": "#2a3f5f"
          },
          "geo": {
           "bgcolor": "white",
           "lakecolor": "white",
           "landcolor": "#E5ECF6",
           "showlakes": true,
           "showland": true,
           "subunitcolor": "white"
          },
          "hoverlabel": {
           "align": "left"
          },
          "hovermode": "closest",
          "mapbox": {
           "style": "light"
          },
          "paper_bgcolor": "white",
          "plot_bgcolor": "#E5ECF6",
          "polar": {
           "angularaxis": {
            "gridcolor": "white",
            "linecolor": "white",
            "ticks": ""
           },
           "bgcolor": "#E5ECF6",
           "radialaxis": {
            "gridcolor": "white",
            "linecolor": "white",
            "ticks": ""
           }
          },
          "scene": {
           "xaxis": {
            "backgroundcolor": "#E5ECF6",
            "gridcolor": "white",
            "gridwidth": 2,
            "linecolor": "white",
            "showbackground": true,
            "ticks": "",
            "zerolinecolor": "white"
           },
           "yaxis": {
            "backgroundcolor": "#E5ECF6",
            "gridcolor": "white",
            "gridwidth": 2,
            "linecolor": "white",
            "showbackground": true,
            "ticks": "",
            "zerolinecolor": "white"
           },
           "zaxis": {
            "backgroundcolor": "#E5ECF6",
            "gridcolor": "white",
            "gridwidth": 2,
            "linecolor": "white",
            "showbackground": true,
            "ticks": "",
            "zerolinecolor": "white"
           }
          },
          "shapedefaults": {
           "line": {
            "color": "#2a3f5f"
           }
          },
          "ternary": {
           "aaxis": {
            "gridcolor": "white",
            "linecolor": "white",
            "ticks": ""
           },
           "baxis": {
            "gridcolor": "white",
            "linecolor": "white",
            "ticks": ""
           },
           "bgcolor": "#E5ECF6",
           "caxis": {
            "gridcolor": "white",
            "linecolor": "white",
            "ticks": ""
           }
          },
          "title": {
           "x": 0.05
          },
          "xaxis": {
           "automargin": true,
           "gridcolor": "white",
           "linecolor": "white",
           "ticks": "",
           "title": {
            "standoff": 15
           },
           "zerolinecolor": "white",
           "zerolinewidth": 2
          },
          "yaxis": {
           "automargin": true,
           "gridcolor": "white",
           "linecolor": "white",
           "ticks": "",
           "title": {
            "standoff": 15
           },
           "zerolinecolor": "white",
           "zerolinewidth": 2
          }
         }
        },
        "xaxis": {
         "anchor": "y",
         "domain": [
          0,
          1
         ],
         "title": {
          "text": "total_bill"
         }
        },
        "yaxis": {
         "anchor": "x",
         "domain": [
          0,
          1
         ],
         "title": {
          "text": "tip"
         }
        }
       }
      }
     },
     "metadata": {}
    }
   ],
   "source": [
    "# Comparación de diferentes parámetros de modelos kNN\n",
    "import numpy as np\n",
    "import plotly.express as px\n",
    "import plotly.graph_objects as go\n",
    "from sklearn.neighbors import KNeighborsRegressor\n",
    "\n",
    "df = px.data.tips()\n",
    "X = df.total_bill.values.reshape(-1, 1)\n",
    "x_range = np.linspace(X.min(), X.max(), 100)\n",
    "\n",
    "# Model #1\n",
    "knn_dist = KNeighborsRegressor(10, weights='distance')\n",
    "knn_dist.fit(X, df.tip)\n",
    "y_dist = knn_dist.predict(x_range.reshape(-1, 1))\n",
    "\n",
    "# Model #2\n",
    "knn_uni = KNeighborsRegressor(10, weights='uniform')\n",
    "knn_uni.fit(X, df.tip)\n",
    "y_uni = knn_uni.predict(x_range.reshape(-1, 1))\n",
    "\n",
    "fig = px.scatter(df, x='total_bill', y='tip', color='sex', opacity=0.65)\n",
    "fig.add_traces(go.Scatter(x=x_range, y=y_uni, name='Weights: Uniform'))\n",
    "fig.add_traces(go.Scatter(x=x_range, y=y_dist, name='Weights: Distance'))\n",
    "fig.show()"
   ]
  },
  {
   "cell_type": "code",
   "execution_count": 6,
   "metadata": {},
   "outputs": [
    {
     "output_type": "display_data",
     "data": {
      "application/vnd.plotly.v1+json": {
       "config": {
        "plotlyServerURL": "https://plot.ly"
       },
       "data": [
        {
         "alignmentgroup": "True",
         "hovertemplate": "color=Negative<br>Feature=%{x}<br>Linear coefficient=%{y}<extra></extra>",
         "legendgroup": "Negative",
         "marker": {
          "color": "red"
         },
         "name": "Negative",
         "offsetgroup": "Negative",
         "orientation": "v",
         "showlegend": true,
         "textposition": "auto",
         "type": "bar",
         "x": [
          "sepal_length",
          "species=setosa"
         ],
         "xaxis": "x",
         "y": [
          -0.09475933539581821,
          -0.5719996518147523
         ],
         "yaxis": "y"
        },
        {
         "alignmentgroup": "True",
         "hovertemplate": "color=Positive<br>Feature=%{x}<br>Linear coefficient=%{y}<extra></extra>",
         "legendgroup": "Positive",
         "marker": {
          "color": "blue"
         },
         "name": "Positive",
         "offsetgroup": "Positive",
         "orientation": "v",
         "showlegend": true,
         "textposition": "auto",
         "type": "bar",
         "x": [
          "sepal_width",
          "petal_length",
          "species=versicolor",
          "species=virginica"
         ],
         "xaxis": "x",
         "y": [
          0.2496796845212325,
          0.24094809857164823,
          0.0862280820667897,
          0.48577156974796243
         ],
         "yaxis": "y"
        }
       ],
       "layout": {
        "barmode": "relative",
        "legend": {
         "title": {
          "text": "color"
         },
         "tracegroupgap": 0
        },
        "template": {
         "data": {
          "bar": [
           {
            "error_x": {
             "color": "#2a3f5f"
            },
            "error_y": {
             "color": "#2a3f5f"
            },
            "marker": {
             "line": {
              "color": "#E5ECF6",
              "width": 0.5
             }
            },
            "type": "bar"
           }
          ],
          "barpolar": [
           {
            "marker": {
             "line": {
              "color": "#E5ECF6",
              "width": 0.5
             }
            },
            "type": "barpolar"
           }
          ],
          "carpet": [
           {
            "aaxis": {
             "endlinecolor": "#2a3f5f",
             "gridcolor": "white",
             "linecolor": "white",
             "minorgridcolor": "white",
             "startlinecolor": "#2a3f5f"
            },
            "baxis": {
             "endlinecolor": "#2a3f5f",
             "gridcolor": "white",
             "linecolor": "white",
             "minorgridcolor": "white",
             "startlinecolor": "#2a3f5f"
            },
            "type": "carpet"
           }
          ],
          "choropleth": [
           {
            "colorbar": {
             "outlinewidth": 0,
             "ticks": ""
            },
            "type": "choropleth"
           }
          ],
          "contour": [
           {
            "colorbar": {
             "outlinewidth": 0,
             "ticks": ""
            },
            "colorscale": [
             [
              0,
              "#0d0887"
             ],
             [
              0.1111111111111111,
              "#46039f"
             ],
             [
              0.2222222222222222,
              "#7201a8"
             ],
             [
              0.3333333333333333,
              "#9c179e"
             ],
             [
              0.4444444444444444,
              "#bd3786"
             ],
             [
              0.5555555555555556,
              "#d8576b"
             ],
             [
              0.6666666666666666,
              "#ed7953"
             ],
             [
              0.7777777777777778,
              "#fb9f3a"
             ],
             [
              0.8888888888888888,
              "#fdca26"
             ],
             [
              1,
              "#f0f921"
             ]
            ],
            "type": "contour"
           }
          ],
          "contourcarpet": [
           {
            "colorbar": {
             "outlinewidth": 0,
             "ticks": ""
            },
            "type": "contourcarpet"
           }
          ],
          "heatmap": [
           {
            "colorbar": {
             "outlinewidth": 0,
             "ticks": ""
            },
            "colorscale": [
             [
              0,
              "#0d0887"
             ],
             [
              0.1111111111111111,
              "#46039f"
             ],
             [
              0.2222222222222222,
              "#7201a8"
             ],
             [
              0.3333333333333333,
              "#9c179e"
             ],
             [
              0.4444444444444444,
              "#bd3786"
             ],
             [
              0.5555555555555556,
              "#d8576b"
             ],
             [
              0.6666666666666666,
              "#ed7953"
             ],
             [
              0.7777777777777778,
              "#fb9f3a"
             ],
             [
              0.8888888888888888,
              "#fdca26"
             ],
             [
              1,
              "#f0f921"
             ]
            ],
            "type": "heatmap"
           }
          ],
          "heatmapgl": [
           {
            "colorbar": {
             "outlinewidth": 0,
             "ticks": ""
            },
            "colorscale": [
             [
              0,
              "#0d0887"
             ],
             [
              0.1111111111111111,
              "#46039f"
             ],
             [
              0.2222222222222222,
              "#7201a8"
             ],
             [
              0.3333333333333333,
              "#9c179e"
             ],
             [
              0.4444444444444444,
              "#bd3786"
             ],
             [
              0.5555555555555556,
              "#d8576b"
             ],
             [
              0.6666666666666666,
              "#ed7953"
             ],
             [
              0.7777777777777778,
              "#fb9f3a"
             ],
             [
              0.8888888888888888,
              "#fdca26"
             ],
             [
              1,
              "#f0f921"
             ]
            ],
            "type": "heatmapgl"
           }
          ],
          "histogram": [
           {
            "marker": {
             "colorbar": {
              "outlinewidth": 0,
              "ticks": ""
             }
            },
            "type": "histogram"
           }
          ],
          "histogram2d": [
           {
            "colorbar": {
             "outlinewidth": 0,
             "ticks": ""
            },
            "colorscale": [
             [
              0,
              "#0d0887"
             ],
             [
              0.1111111111111111,
              "#46039f"
             ],
             [
              0.2222222222222222,
              "#7201a8"
             ],
             [
              0.3333333333333333,
              "#9c179e"
             ],
             [
              0.4444444444444444,
              "#bd3786"
             ],
             [
              0.5555555555555556,
              "#d8576b"
             ],
             [
              0.6666666666666666,
              "#ed7953"
             ],
             [
              0.7777777777777778,
              "#fb9f3a"
             ],
             [
              0.8888888888888888,
              "#fdca26"
             ],
             [
              1,
              "#f0f921"
             ]
            ],
            "type": "histogram2d"
           }
          ],
          "histogram2dcontour": [
           {
            "colorbar": {
             "outlinewidth": 0,
             "ticks": ""
            },
            "colorscale": [
             [
              0,
              "#0d0887"
             ],
             [
              0.1111111111111111,
              "#46039f"
             ],
             [
              0.2222222222222222,
              "#7201a8"
             ],
             [
              0.3333333333333333,
              "#9c179e"
             ],
             [
              0.4444444444444444,
              "#bd3786"
             ],
             [
              0.5555555555555556,
              "#d8576b"
             ],
             [
              0.6666666666666666,
              "#ed7953"
             ],
             [
              0.7777777777777778,
              "#fb9f3a"
             ],
             [
              0.8888888888888888,
              "#fdca26"
             ],
             [
              1,
              "#f0f921"
             ]
            ],
            "type": "histogram2dcontour"
           }
          ],
          "mesh3d": [
           {
            "colorbar": {
             "outlinewidth": 0,
             "ticks": ""
            },
            "type": "mesh3d"
           }
          ],
          "parcoords": [
           {
            "line": {
             "colorbar": {
              "outlinewidth": 0,
              "ticks": ""
             }
            },
            "type": "parcoords"
           }
          ],
          "pie": [
           {
            "automargin": true,
            "type": "pie"
           }
          ],
          "scatter": [
           {
            "marker": {
             "colorbar": {
              "outlinewidth": 0,
              "ticks": ""
             }
            },
            "type": "scatter"
           }
          ],
          "scatter3d": [
           {
            "line": {
             "colorbar": {
              "outlinewidth": 0,
              "ticks": ""
             }
            },
            "marker": {
             "colorbar": {
              "outlinewidth": 0,
              "ticks": ""
             }
            },
            "type": "scatter3d"
           }
          ],
          "scattercarpet": [
           {
            "marker": {
             "colorbar": {
              "outlinewidth": 0,
              "ticks": ""
             }
            },
            "type": "scattercarpet"
           }
          ],
          "scattergeo": [
           {
            "marker": {
             "colorbar": {
              "outlinewidth": 0,
              "ticks": ""
             }
            },
            "type": "scattergeo"
           }
          ],
          "scattergl": [
           {
            "marker": {
             "colorbar": {
              "outlinewidth": 0,
              "ticks": ""
             }
            },
            "type": "scattergl"
           }
          ],
          "scattermapbox": [
           {
            "marker": {
             "colorbar": {
              "outlinewidth": 0,
              "ticks": ""
             }
            },
            "type": "scattermapbox"
           }
          ],
          "scatterpolar": [
           {
            "marker": {
             "colorbar": {
              "outlinewidth": 0,
              "ticks": ""
             }
            },
            "type": "scatterpolar"
           }
          ],
          "scatterpolargl": [
           {
            "marker": {
             "colorbar": {
              "outlinewidth": 0,
              "ticks": ""
             }
            },
            "type": "scatterpolargl"
           }
          ],
          "scatterternary": [
           {
            "marker": {
             "colorbar": {
              "outlinewidth": 0,
              "ticks": ""
             }
            },
            "type": "scatterternary"
           }
          ],
          "surface": [
           {
            "colorbar": {
             "outlinewidth": 0,
             "ticks": ""
            },
            "colorscale": [
             [
              0,
              "#0d0887"
             ],
             [
              0.1111111111111111,
              "#46039f"
             ],
             [
              0.2222222222222222,
              "#7201a8"
             ],
             [
              0.3333333333333333,
              "#9c179e"
             ],
             [
              0.4444444444444444,
              "#bd3786"
             ],
             [
              0.5555555555555556,
              "#d8576b"
             ],
             [
              0.6666666666666666,
              "#ed7953"
             ],
             [
              0.7777777777777778,
              "#fb9f3a"
             ],
             [
              0.8888888888888888,
              "#fdca26"
             ],
             [
              1,
              "#f0f921"
             ]
            ],
            "type": "surface"
           }
          ],
          "table": [
           {
            "cells": {
             "fill": {
              "color": "#EBF0F8"
             },
             "line": {
              "color": "white"
             }
            },
            "header": {
             "fill": {
              "color": "#C8D4E3"
             },
             "line": {
              "color": "white"
             }
            },
            "type": "table"
           }
          ]
         },
         "layout": {
          "annotationdefaults": {
           "arrowcolor": "#2a3f5f",
           "arrowhead": 0,
           "arrowwidth": 1
          },
          "coloraxis": {
           "colorbar": {
            "outlinewidth": 0,
            "ticks": ""
           }
          },
          "colorscale": {
           "diverging": [
            [
             0,
             "#8e0152"
            ],
            [
             0.1,
             "#c51b7d"
            ],
            [
             0.2,
             "#de77ae"
            ],
            [
             0.3,
             "#f1b6da"
            ],
            [
             0.4,
             "#fde0ef"
            ],
            [
             0.5,
             "#f7f7f7"
            ],
            [
             0.6,
             "#e6f5d0"
            ],
            [
             0.7,
             "#b8e186"
            ],
            [
             0.8,
             "#7fbc41"
            ],
            [
             0.9,
             "#4d9221"
            ],
            [
             1,
             "#276419"
            ]
           ],
           "sequential": [
            [
             0,
             "#0d0887"
            ],
            [
             0.1111111111111111,
             "#46039f"
            ],
            [
             0.2222222222222222,
             "#7201a8"
            ],
            [
             0.3333333333333333,
             "#9c179e"
            ],
            [
             0.4444444444444444,
             "#bd3786"
            ],
            [
             0.5555555555555556,
             "#d8576b"
            ],
            [
             0.6666666666666666,
             "#ed7953"
            ],
            [
             0.7777777777777778,
             "#fb9f3a"
            ],
            [
             0.8888888888888888,
             "#fdca26"
            ],
            [
             1,
             "#f0f921"
            ]
           ],
           "sequentialminus": [
            [
             0,
             "#0d0887"
            ],
            [
             0.1111111111111111,
             "#46039f"
            ],
            [
             0.2222222222222222,
             "#7201a8"
            ],
            [
             0.3333333333333333,
             "#9c179e"
            ],
            [
             0.4444444444444444,
             "#bd3786"
            ],
            [
             0.5555555555555556,
             "#d8576b"
            ],
            [
             0.6666666666666666,
             "#ed7953"
            ],
            [
             0.7777777777777778,
             "#fb9f3a"
            ],
            [
             0.8888888888888888,
             "#fdca26"
            ],
            [
             1,
             "#f0f921"
            ]
           ]
          },
          "colorway": [
           "#636efa",
           "#EF553B",
           "#00cc96",
           "#ab63fa",
           "#FFA15A",
           "#19d3f3",
           "#FF6692",
           "#B6E880",
           "#FF97FF",
           "#FECB52"
          ],
          "font": {
           "color": "#2a3f5f"
          },
          "geo": {
           "bgcolor": "white",
           "lakecolor": "white",
           "landcolor": "#E5ECF6",
           "showlakes": true,
           "showland": true,
           "subunitcolor": "white"
          },
          "hoverlabel": {
           "align": "left"
          },
          "hovermode": "closest",
          "mapbox": {
           "style": "light"
          },
          "paper_bgcolor": "white",
          "plot_bgcolor": "#E5ECF6",
          "polar": {
           "angularaxis": {
            "gridcolor": "white",
            "linecolor": "white",
            "ticks": ""
           },
           "bgcolor": "#E5ECF6",
           "radialaxis": {
            "gridcolor": "white",
            "linecolor": "white",
            "ticks": ""
           }
          },
          "scene": {
           "xaxis": {
            "backgroundcolor": "#E5ECF6",
            "gridcolor": "white",
            "gridwidth": 2,
            "linecolor": "white",
            "showbackground": true,
            "ticks": "",
            "zerolinecolor": "white"
           },
           "yaxis": {
            "backgroundcolor": "#E5ECF6",
            "gridcolor": "white",
            "gridwidth": 2,
            "linecolor": "white",
            "showbackground": true,
            "ticks": "",
            "zerolinecolor": "white"
           },
           "zaxis": {
            "backgroundcolor": "#E5ECF6",
            "gridcolor": "white",
            "gridwidth": 2,
            "linecolor": "white",
            "showbackground": true,
            "ticks": "",
            "zerolinecolor": "white"
           }
          },
          "shapedefaults": {
           "line": {
            "color": "#2a3f5f"
           }
          },
          "ternary": {
           "aaxis": {
            "gridcolor": "white",
            "linecolor": "white",
            "ticks": ""
           },
           "baxis": {
            "gridcolor": "white",
            "linecolor": "white",
            "ticks": ""
           },
           "bgcolor": "#E5ECF6",
           "caxis": {
            "gridcolor": "white",
            "linecolor": "white",
            "ticks": ""
           }
          },
          "title": {
           "x": 0.05
          },
          "xaxis": {
           "automargin": true,
           "gridcolor": "white",
           "linecolor": "white",
           "ticks": "",
           "title": {
            "standoff": 15
           },
           "zerolinecolor": "white",
           "zerolinewidth": 2
          },
          "yaxis": {
           "automargin": true,
           "gridcolor": "white",
           "linecolor": "white",
           "ticks": "",
           "title": {
            "standoff": 15
           },
           "zerolinecolor": "white",
           "zerolinewidth": 2
          }
         }
        },
        "title": {
         "text": "Weight of each feature for predicting petal width"
        },
        "xaxis": {
         "anchor": "y",
         "domain": [
          0,
          1
         ],
         "title": {
          "text": "Feature"
         }
        },
        "yaxis": {
         "anchor": "x",
         "domain": [
          0,
          1
         ],
         "title": {
          "text": "Linear coefficient"
         }
        }
       }
      }
     },
     "metadata": {}
    }
   ],
   "source": [
    "# Visualización de coeficientes para regresión lineal múltiple (MLR)\n",
    "import pandas as pd\n",
    "import plotly.express as px\n",
    "import plotly.graph_objects as go\n",
    "from sklearn.linear_model import LinearRegression\n",
    "\n",
    "df = px.data.iris()\n",
    "\n",
    "X = df.drop(columns=['petal_width', 'species_id'])\n",
    "X = pd.get_dummies(X, columns=['species'], prefix_sep='=')\n",
    "y = df['petal_width']\n",
    "\n",
    "model = LinearRegression()\n",
    "model.fit(X, y)\n",
    "\n",
    "colors = ['Positive' if c > 0 else 'Negative' for c in model.coef_]\n",
    "\n",
    "fig = px.bar(\n",
    "    x=X.columns, y=model.coef_, color=colors,\n",
    "    color_discrete_sequence=['red', 'blue'],\n",
    "    labels=dict(x='Feature', y='Linear coefficient'),\n",
    "    title='Weight of each feature for predicting petal width'\n",
    ")\n",
    "fig.show()"
   ]
  },
  {
   "cell_type": "markdown",
   "metadata": {},
   "source": [
    "# COMPARAR ALGORITMOS"
   ]
  },
  {
   "cell_type": "code",
   "execution_count": 4,
   "metadata": {},
   "outputs": [],
   "source": [
    "# Compare Algorithms\n",
    "import pandas\n",
    "import matplotlib.pyplot as plt\n",
    "from sklearn import model_selection\n",
    "from sklearn.linear_model import LinearRegression\n",
    "from sklearn.model_selection import train_test_split\n",
    "from sklearn.preprocessing import PolynomialFeatures\n",
    "from sklearn.svm import SVR\n",
    "from sklearn.tree import DecisionTreeRegressor\n",
    "from sklearn.ensemble import RandomForestRegressor\n",
    "\n",
    "import numpy as np"
   ]
  },
  {
   "cell_type": "code",
   "execution_count": 5,
   "metadata": {},
   "outputs": [
    {
     "output_type": "execute_result",
     "data": {
      "text/plain": "<matplotlib.collections.PathCollection at 0x7ff6ef463400>"
     },
     "metadata": {},
     "execution_count": 5
    },
    {
     "output_type": "display_data",
     "data": {
      "text/plain": "<Figure size 720x576 with 1 Axes>",
      "image/svg+xml": "<?xml version=\"1.0\" encoding=\"utf-8\" standalone=\"no\"?>\n<!DOCTYPE svg PUBLIC \"-//W3C//DTD SVG 1.1//EN\"\n  \"http://www.w3.org/Graphics/SVG/1.1/DTD/svg11.dtd\">\n<!-- Created with matplotlib (https://matplotlib.org/) -->\n<svg height=\"465.958125pt\" version=\"1.1\" viewBox=\"0 0 604.85 465.958125\" width=\"604.85pt\" xmlns=\"http://www.w3.org/2000/svg\" xmlns:xlink=\"http://www.w3.org/1999/xlink\">\n <defs>\n  <style type=\"text/css\">\n*{stroke-linecap:butt;stroke-linejoin:round;}\n  </style>\n </defs>\n <g id=\"figure_1\">\n  <g id=\"patch_1\">\n   <path d=\"M 0 465.958125 \nL 604.85 465.958125 \nL 604.85 0 \nL 0 0 \nz\n\" style=\"fill:none;\"/>\n  </g>\n  <g id=\"axes_1\">\n   <g id=\"patch_2\">\n    <path d=\"M 39.65 442.08 \nL 597.65 442.08 \nL 597.65 7.2 \nL 39.65 7.2 \nz\n\" style=\"fill:#ffffff;\"/>\n   </g>\n   <g id=\"PathCollection_1\">\n    <defs>\n     <path d=\"M 0 3 \nC 0.795609 3 1.55874 2.683901 2.12132 2.12132 \nC 2.683901 1.55874 3 0.795609 3 0 \nC 3 -0.795609 2.683901 -1.55874 2.12132 -2.12132 \nC 1.55874 -2.683901 0.795609 -3 0 -3 \nC -0.795609 -3 -1.55874 -2.683901 -2.12132 -2.12132 \nC -2.683901 -1.55874 -3 -0.795609 -3 0 \nC -3 0.795609 -2.683901 1.55874 -2.12132 2.12132 \nC -1.55874 2.683901 -0.795609 3 0 3 \nz\n\" id=\"mb4ffae292d\" style=\"stroke:#1f77b4;\"/>\n    </defs>\n    <g clip-path=\"url(#pb9a1b21669)\">\n     <use style=\"fill:#1f77b4;stroke:#1f77b4;\" x=\"65.013636\" xlink:href=\"#mb4ffae292d\" y=\"379.94111\"/>\n     <use style=\"fill:#1f77b4;stroke:#1f77b4;\" x=\"70.137603\" xlink:href=\"#mb4ffae292d\" y=\"372.127543\"/>\n     <use style=\"fill:#1f77b4;stroke:#1f77b4;\" x=\"75.26157\" xlink:href=\"#mb4ffae292d\" y=\"390.569316\"/>\n     <use style=\"fill:#1f77b4;stroke:#1f77b4;\" x=\"80.385537\" xlink:href=\"#mb4ffae292d\" y=\"373.820114\"/>\n     <use style=\"fill:#1f77b4;stroke:#1f77b4;\" x=\"85.509504\" xlink:href=\"#mb4ffae292d\" y=\"287.363934\"/>\n     <use style=\"fill:#1f77b4;stroke:#1f77b4;\" x=\"90.633471\" xlink:href=\"#mb4ffae292d\" y=\"331.372143\"/>\n     <use style=\"fill:#1f77b4;stroke:#1f77b4;\" x=\"95.757438\" xlink:href=\"#mb4ffae292d\" y=\"357.704327\"/>\n     <use style=\"fill:#1f77b4;stroke:#1f77b4;\" x=\"100.881405\" xlink:href=\"#mb4ffae292d\" y=\"392.948603\"/>\n     <use style=\"fill:#1f77b4;stroke:#1f77b4;\" x=\"106.005372\" xlink:href=\"#mb4ffae292d\" y=\"349.791049\"/>\n     <use style=\"fill:#1f77b4;stroke:#1f77b4;\" x=\"111.129339\" xlink:href=\"#mb4ffae292d\" y=\"287.296617\"/>\n     <use style=\"fill:#1f77b4;stroke:#1f77b4;\" x=\"116.253306\" xlink:href=\"#mb4ffae292d\" y=\"381.325914\"/>\n     <use style=\"fill:#1f77b4;stroke:#1f77b4;\" x=\"121.377273\" xlink:href=\"#mb4ffae292d\" y=\"422.312727\"/>\n     <use style=\"fill:#1f77b4;stroke:#1f77b4;\" x=\"126.50124\" xlink:href=\"#mb4ffae292d\" y=\"330.083051\"/>\n     <use style=\"fill:#1f77b4;stroke:#1f77b4;\" x=\"131.625207\" xlink:href=\"#mb4ffae292d\" y=\"380.504096\"/>\n     <use style=\"fill:#1f77b4;stroke:#1f77b4;\" x=\"136.749174\" xlink:href=\"#mb4ffae292d\" y=\"331.333824\"/>\n     <use style=\"fill:#1f77b4;stroke:#1f77b4;\" x=\"141.87314\" xlink:href=\"#mb4ffae292d\" y=\"369.910018\"/>\n     <use style=\"fill:#1f77b4;stroke:#1f77b4;\" x=\"146.997107\" xlink:href=\"#mb4ffae292d\" y=\"374.018117\"/>\n     <use style=\"fill:#1f77b4;stroke:#1f77b4;\" x=\"152.121074\" xlink:href=\"#mb4ffae292d\" y=\"353.343072\"/>\n     <use style=\"fill:#1f77b4;stroke:#1f77b4;\" x=\"157.245041\" xlink:href=\"#mb4ffae292d\" y=\"395.869399\"/>\n     <use style=\"fill:#1f77b4;stroke:#1f77b4;\" x=\"162.369008\" xlink:href=\"#mb4ffae292d\" y=\"353.273165\"/>\n     <use style=\"fill:#1f77b4;stroke:#1f77b4;\" x=\"167.492975\" xlink:href=\"#mb4ffae292d\" y=\"359.62558\"/>\n     <use style=\"fill:#1f77b4;stroke:#1f77b4;\" x=\"172.616942\" xlink:href=\"#mb4ffae292d\" y=\"300.126626\"/>\n     <use style=\"fill:#1f77b4;stroke:#1f77b4;\" x=\"177.740909\" xlink:href=\"#mb4ffae292d\" y=\"328.027261\"/>\n     <use style=\"fill:#1f77b4;stroke:#1f77b4;\" x=\"182.864876\" xlink:href=\"#mb4ffae292d\" y=\"372.857005\"/>\n     <use style=\"fill:#1f77b4;stroke:#1f77b4;\" x=\"187.988843\" xlink:href=\"#mb4ffae292d\" y=\"359.823574\"/>\n     <use style=\"fill:#1f77b4;stroke:#1f77b4;\" x=\"193.11281\" xlink:href=\"#mb4ffae292d\" y=\"335.08434\"/>\n     <use style=\"fill:#1f77b4;stroke:#1f77b4;\" x=\"198.236777\" xlink:href=\"#mb4ffae292d\" y=\"371.690448\"/>\n     <use style=\"fill:#1f77b4;stroke:#1f77b4;\" x=\"203.360744\" xlink:href=\"#mb4ffae292d\" y=\"371.013183\"/>\n     <use style=\"fill:#1f77b4;stroke:#1f77b4;\" x=\"208.484711\" xlink:href=\"#mb4ffae292d\" y=\"342.607478\"/>\n     <use style=\"fill:#1f77b4;stroke:#1f77b4;\" x=\"213.608678\" xlink:href=\"#mb4ffae292d\" y=\"406.087355\"/>\n     <use style=\"fill:#1f77b4;stroke:#1f77b4;\" x=\"218.732645\" xlink:href=\"#mb4ffae292d\" y=\"390.934777\"/>\n     <use style=\"fill:#1f77b4;stroke:#1f77b4;\" x=\"223.856612\" xlink:href=\"#mb4ffae292d\" y=\"331.89389\"/>\n     <use style=\"fill:#1f77b4;stroke:#1f77b4;\" x=\"228.980579\" xlink:href=\"#mb4ffae292d\" y=\"326.985271\"/>\n     <use style=\"fill:#1f77b4;stroke:#1f77b4;\" x=\"234.104545\" xlink:href=\"#mb4ffae292d\" y=\"355.555045\"/>\n     <use style=\"fill:#1f77b4;stroke:#1f77b4;\" x=\"239.228512\" xlink:href=\"#mb4ffae292d\" y=\"406.363313\"/>\n     <use style=\"fill:#1f77b4;stroke:#1f77b4;\" x=\"244.352479\" xlink:href=\"#mb4ffae292d\" y=\"315.515698\"/>\n     <use style=\"fill:#1f77b4;stroke:#1f77b4;\" x=\"249.476446\" xlink:href=\"#mb4ffae292d\" y=\"300.146936\"/>\n     <use style=\"fill:#1f77b4;stroke:#1f77b4;\" x=\"254.600413\" xlink:href=\"#mb4ffae292d\" y=\"376.492428\"/>\n     <use style=\"fill:#1f77b4;stroke:#1f77b4;\" x=\"259.72438\" xlink:href=\"#mb4ffae292d\" y=\"294.574157\"/>\n     <use style=\"fill:#1f77b4;stroke:#1f77b4;\" x=\"264.848347\" xlink:href=\"#mb4ffae292d\" y=\"312.573165\"/>\n     <use style=\"fill:#1f77b4;stroke:#1f77b4;\" x=\"269.972314\" xlink:href=\"#mb4ffae292d\" y=\"336.292303\"/>\n     <use style=\"fill:#1f77b4;stroke:#1f77b4;\" x=\"275.096281\" xlink:href=\"#mb4ffae292d\" y=\"344.154672\"/>\n     <use style=\"fill:#1f77b4;stroke:#1f77b4;\" x=\"280.220248\" xlink:href=\"#mb4ffae292d\" y=\"372.179728\"/>\n     <use style=\"fill:#1f77b4;stroke:#1f77b4;\" x=\"285.344215\" xlink:href=\"#mb4ffae292d\" y=\"331.010911\"/>\n     <use style=\"fill:#1f77b4;stroke:#1f77b4;\" x=\"290.468182\" xlink:href=\"#mb4ffae292d\" y=\"385.144628\"/>\n     <use style=\"fill:#1f77b4;stroke:#1f77b4;\" x=\"295.592149\" xlink:href=\"#mb4ffae292d\" y=\"334.688081\"/>\n     <use style=\"fill:#1f77b4;stroke:#1f77b4;\" x=\"300.716116\" xlink:href=\"#mb4ffae292d\" y=\"316.201445\"/>\n     <use style=\"fill:#1f77b4;stroke:#1f77b4;\" x=\"305.840083\" xlink:href=\"#mb4ffae292d\" y=\"308.665888\"/>\n     <use style=\"fill:#1f77b4;stroke:#1f77b4;\" x=\"310.96405\" xlink:href=\"#mb4ffae292d\" y=\"386.332251\"/>\n     <use style=\"fill:#1f77b4;stroke:#1f77b4;\" x=\"316.088017\" xlink:href=\"#mb4ffae292d\" y=\"335.726086\"/>\n     <use style=\"fill:#1f77b4;stroke:#1f77b4;\" x=\"321.211983\" xlink:href=\"#mb4ffae292d\" y=\"324.678593\"/>\n     <use style=\"fill:#1f77b4;stroke:#1f77b4;\" x=\"326.33595\" xlink:href=\"#mb4ffae292d\" y=\"332.649898\"/>\n     <use style=\"fill:#1f77b4;stroke:#1f77b4;\" x=\"331.459917\" xlink:href=\"#mb4ffae292d\" y=\"270.14061\"/>\n     <use style=\"fill:#1f77b4;stroke:#1f77b4;\" x=\"336.583884\" xlink:href=\"#mb4ffae292d\" y=\"331.902916\"/>\n     <use style=\"fill:#1f77b4;stroke:#1f77b4;\" x=\"341.707851\" xlink:href=\"#mb4ffae292d\" y=\"319.96971\"/>\n     <use style=\"fill:#1f77b4;stroke:#1f77b4;\" x=\"346.831818\" xlink:href=\"#mb4ffae292d\" y=\"239.179261\"/>\n     <use style=\"fill:#1f77b4;stroke:#1f77b4;\" x=\"351.955785\" xlink:href=\"#mb4ffae292d\" y=\"367.501843\"/>\n     <use style=\"fill:#1f77b4;stroke:#1f77b4;\" x=\"357.079752\" xlink:href=\"#mb4ffae292d\" y=\"317.318191\"/>\n     <use style=\"fill:#1f77b4;stroke:#1f77b4;\" x=\"362.203719\" xlink:href=\"#mb4ffae292d\" y=\"289.886077\"/>\n     <use style=\"fill:#1f77b4;stroke:#1f77b4;\" x=\"367.327686\" xlink:href=\"#mb4ffae292d\" y=\"265.167211\"/>\n     <use style=\"fill:#1f77b4;stroke:#1f77b4;\" x=\"372.451653\" xlink:href=\"#mb4ffae292d\" y=\"310.928834\"/>\n     <use style=\"fill:#1f77b4;stroke:#1f77b4;\" x=\"377.57562\" xlink:href=\"#mb4ffae292d\" y=\"271.656728\"/>\n     <use style=\"fill:#1f77b4;stroke:#1f77b4;\" x=\"382.699587\" xlink:href=\"#mb4ffae292d\" y=\"277.842342\"/>\n     <use style=\"fill:#1f77b4;stroke:#1f77b4;\" x=\"387.823554\" xlink:href=\"#mb4ffae292d\" y=\"292.740972\"/>\n     <use style=\"fill:#1f77b4;stroke:#1f77b4;\" x=\"392.947521\" xlink:href=\"#mb4ffae292d\" y=\"326.818917\"/>\n     <use style=\"fill:#1f77b4;stroke:#1f77b4;\" x=\"398.071488\" xlink:href=\"#mb4ffae292d\" y=\"260.895318\"/>\n     <use style=\"fill:#1f77b4;stroke:#1f77b4;\" x=\"403.195455\" xlink:href=\"#mb4ffae292d\" y=\"261.654939\"/>\n     <use style=\"fill:#1f77b4;stroke:#1f77b4;\" x=\"408.319421\" xlink:href=\"#mb4ffae292d\" y=\"271.333926\"/>\n     <use style=\"fill:#1f77b4;stroke:#1f77b4;\" x=\"413.443388\" xlink:href=\"#mb4ffae292d\" y=\"270.590262\"/>\n     <use style=\"fill:#1f77b4;stroke:#1f77b4;\" x=\"418.567355\" xlink:href=\"#mb4ffae292d\" y=\"307.03754\"/>\n     <use style=\"fill:#1f77b4;stroke:#1f77b4;\" x=\"423.691322\" xlink:href=\"#mb4ffae292d\" y=\"231.518389\"/>\n     <use style=\"fill:#1f77b4;stroke:#1f77b4;\" x=\"428.815289\" xlink:href=\"#mb4ffae292d\" y=\"307.111944\"/>\n     <use style=\"fill:#1f77b4;stroke:#1f77b4;\" x=\"433.939256\" xlink:href=\"#mb4ffae292d\" y=\"172.982976\"/>\n     <use style=\"fill:#1f77b4;stroke:#1f77b4;\" x=\"439.063223\" xlink:href=\"#mb4ffae292d\" y=\"241.023305\"/>\n     <use style=\"fill:#1f77b4;stroke:#1f77b4;\" x=\"444.18719\" xlink:href=\"#mb4ffae292d\" y=\"118.492\"/>\n     <use style=\"fill:#1f77b4;stroke:#1f77b4;\" x=\"449.311157\" xlink:href=\"#mb4ffae292d\" y=\"159.19939\"/>\n     <use style=\"fill:#1f77b4;stroke:#1f77b4;\" x=\"454.435124\" xlink:href=\"#mb4ffae292d\" y=\"212.074012\"/>\n     <use style=\"fill:#1f77b4;stroke:#1f77b4;\" x=\"459.559091\" xlink:href=\"#mb4ffae292d\" y=\"211.119353\"/>\n     <use style=\"fill:#1f77b4;stroke:#1f77b4;\" x=\"464.683058\" xlink:href=\"#mb4ffae292d\" y=\"213.965674\"/>\n     <use style=\"fill:#1f77b4;stroke:#1f77b4;\" x=\"469.807025\" xlink:href=\"#mb4ffae292d\" y=\"212.449021\"/>\n     <use style=\"fill:#1f77b4;stroke:#1f77b4;\" x=\"474.930992\" xlink:href=\"#mb4ffae292d\" y=\"223.801591\"/>\n     <use style=\"fill:#1f77b4;stroke:#1f77b4;\" x=\"480.054959\" xlink:href=\"#mb4ffae292d\" y=\"218.916599\"/>\n     <use style=\"fill:#1f77b4;stroke:#1f77b4;\" x=\"485.178926\" xlink:href=\"#mb4ffae292d\" y=\"123.108305\"/>\n     <use style=\"fill:#1f77b4;stroke:#1f77b4;\" x=\"490.302893\" xlink:href=\"#mb4ffae292d\" y=\"137.064719\"/>\n     <use style=\"fill:#1f77b4;stroke:#1f77b4;\" x=\"495.42686\" xlink:href=\"#mb4ffae292d\" y=\"188.877626\"/>\n     <use style=\"fill:#1f77b4;stroke:#1f77b4;\" x=\"500.550826\" xlink:href=\"#mb4ffae292d\" y=\"178.229249\"/>\n     <use style=\"fill:#1f77b4;stroke:#1f77b4;\" x=\"505.674793\" xlink:href=\"#mb4ffae292d\" y=\"139.139433\"/>\n     <use style=\"fill:#1f77b4;stroke:#1f77b4;\" x=\"510.79876\" xlink:href=\"#mb4ffae292d\" y=\"182.04537\"/>\n     <use style=\"fill:#1f77b4;stroke:#1f77b4;\" x=\"515.922727\" xlink:href=\"#mb4ffae292d\" y=\"164.647741\"/>\n     <use style=\"fill:#1f77b4;stroke:#1f77b4;\" x=\"521.046694\" xlink:href=\"#mb4ffae292d\" y=\"157.408495\"/>\n     <use style=\"fill:#1f77b4;stroke:#1f77b4;\" x=\"526.170661\" xlink:href=\"#mb4ffae292d\" y=\"110.517092\"/>\n     <use style=\"fill:#1f77b4;stroke:#1f77b4;\" x=\"531.294628\" xlink:href=\"#mb4ffae292d\" y=\"156.170579\"/>\n     <use style=\"fill:#1f77b4;stroke:#1f77b4;\" x=\"536.418595\" xlink:href=\"#mb4ffae292d\" y=\"116.735273\"/>\n     <use style=\"fill:#1f77b4;stroke:#1f77b4;\" x=\"541.542562\" xlink:href=\"#mb4ffae292d\" y=\"74.152858\"/>\n     <use style=\"fill:#1f77b4;stroke:#1f77b4;\" x=\"546.666529\" xlink:href=\"#mb4ffae292d\" y=\"73.13851\"/>\n     <use style=\"fill:#1f77b4;stroke:#1f77b4;\" x=\"551.790496\" xlink:href=\"#mb4ffae292d\" y=\"95.6713\"/>\n     <use style=\"fill:#1f77b4;stroke:#1f77b4;\" x=\"556.914463\" xlink:href=\"#mb4ffae292d\" y=\"121.521788\"/>\n     <use style=\"fill:#1f77b4;stroke:#1f77b4;\" x=\"562.03843\" xlink:href=\"#mb4ffae292d\" y=\"41.185003\"/>\n     <use style=\"fill:#1f77b4;stroke:#1f77b4;\" x=\"567.162397\" xlink:href=\"#mb4ffae292d\" y=\"58.23355\"/>\n     <use style=\"fill:#1f77b4;stroke:#1f77b4;\" x=\"572.286364\" xlink:href=\"#mb4ffae292d\" y=\"26.967273\"/>\n    </g>\n   </g>\n   <g id=\"matplotlib.axis_1\">\n    <g id=\"xtick_1\">\n     <g id=\"line2d_1\">\n      <defs>\n       <path d=\"M 0 0 \nL 0 3.5 \n\" id=\"mf136b6a9f7\" style=\"stroke:#000000;stroke-width:0.8;\"/>\n      </defs>\n      <g>\n       <use style=\"stroke:#000000;stroke-width:0.8;\" x=\"65.013636\" xlink:href=\"#mf136b6a9f7\" y=\"442.08\"/>\n      </g>\n     </g>\n     <g id=\"text_1\">\n      <!-- 0 -->\n      <defs>\n       <path d=\"M 31.78125 66.40625 \nQ 24.171875 66.40625 20.328125 58.90625 \nQ 16.5 51.421875 16.5 36.375 \nQ 16.5 21.390625 20.328125 13.890625 \nQ 24.171875 6.390625 31.78125 6.390625 \nQ 39.453125 6.390625 43.28125 13.890625 \nQ 47.125 21.390625 47.125 36.375 \nQ 47.125 51.421875 43.28125 58.90625 \nQ 39.453125 66.40625 31.78125 66.40625 \nz\nM 31.78125 74.21875 \nQ 44.046875 74.21875 50.515625 64.515625 \nQ 56.984375 54.828125 56.984375 36.375 \nQ 56.984375 17.96875 50.515625 8.265625 \nQ 44.046875 -1.421875 31.78125 -1.421875 \nQ 19.53125 -1.421875 13.0625 8.265625 \nQ 6.59375 17.96875 6.59375 36.375 \nQ 6.59375 54.828125 13.0625 64.515625 \nQ 19.53125 74.21875 31.78125 74.21875 \nz\n\" id=\"DejaVuSans-48\"/>\n      </defs>\n      <g transform=\"translate(61.832386 456.678437)scale(0.1 -0.1)\">\n       <use xlink:href=\"#DejaVuSans-48\"/>\n      </g>\n     </g>\n    </g>\n    <g id=\"xtick_2\">\n     <g id=\"line2d_2\">\n      <g>\n       <use style=\"stroke:#000000;stroke-width:0.8;\" x=\"166.468182\" xlink:href=\"#mf136b6a9f7\" y=\"442.08\"/>\n      </g>\n     </g>\n     <g id=\"text_2\">\n      <!-- 2 -->\n      <defs>\n       <path d=\"M 19.1875 8.296875 \nL 53.609375 8.296875 \nL 53.609375 0 \nL 7.328125 0 \nL 7.328125 8.296875 \nQ 12.9375 14.109375 22.625 23.890625 \nQ 32.328125 33.6875 34.8125 36.53125 \nQ 39.546875 41.84375 41.421875 45.53125 \nQ 43.3125 49.21875 43.3125 52.78125 \nQ 43.3125 58.59375 39.234375 62.25 \nQ 35.15625 65.921875 28.609375 65.921875 \nQ 23.96875 65.921875 18.8125 64.3125 \nQ 13.671875 62.703125 7.8125 59.421875 \nL 7.8125 69.390625 \nQ 13.765625 71.78125 18.9375 73 \nQ 24.125 74.21875 28.421875 74.21875 \nQ 39.75 74.21875 46.484375 68.546875 \nQ 53.21875 62.890625 53.21875 53.421875 \nQ 53.21875 48.921875 51.53125 44.890625 \nQ 49.859375 40.875 45.40625 35.40625 \nQ 44.1875 33.984375 37.640625 27.21875 \nQ 31.109375 20.453125 19.1875 8.296875 \nz\n\" id=\"DejaVuSans-50\"/>\n      </defs>\n      <g transform=\"translate(163.286932 456.678437)scale(0.1 -0.1)\">\n       <use xlink:href=\"#DejaVuSans-50\"/>\n      </g>\n     </g>\n    </g>\n    <g id=\"xtick_3\">\n     <g id=\"line2d_3\">\n      <g>\n       <use style=\"stroke:#000000;stroke-width:0.8;\" x=\"267.922727\" xlink:href=\"#mf136b6a9f7\" y=\"442.08\"/>\n      </g>\n     </g>\n     <g id=\"text_3\">\n      <!-- 4 -->\n      <defs>\n       <path d=\"M 37.796875 64.3125 \nL 12.890625 25.390625 \nL 37.796875 25.390625 \nz\nM 35.203125 72.90625 \nL 47.609375 72.90625 \nL 47.609375 25.390625 \nL 58.015625 25.390625 \nL 58.015625 17.1875 \nL 47.609375 17.1875 \nL 47.609375 0 \nL 37.796875 0 \nL 37.796875 17.1875 \nL 4.890625 17.1875 \nL 4.890625 26.703125 \nz\n\" id=\"DejaVuSans-52\"/>\n      </defs>\n      <g transform=\"translate(264.741477 456.678437)scale(0.1 -0.1)\">\n       <use xlink:href=\"#DejaVuSans-52\"/>\n      </g>\n     </g>\n    </g>\n    <g id=\"xtick_4\">\n     <g id=\"line2d_4\">\n      <g>\n       <use style=\"stroke:#000000;stroke-width:0.8;\" x=\"369.377273\" xlink:href=\"#mf136b6a9f7\" y=\"442.08\"/>\n      </g>\n     </g>\n     <g id=\"text_4\">\n      <!-- 6 -->\n      <defs>\n       <path d=\"M 33.015625 40.375 \nQ 26.375 40.375 22.484375 35.828125 \nQ 18.609375 31.296875 18.609375 23.390625 \nQ 18.609375 15.53125 22.484375 10.953125 \nQ 26.375 6.390625 33.015625 6.390625 \nQ 39.65625 6.390625 43.53125 10.953125 \nQ 47.40625 15.53125 47.40625 23.390625 \nQ 47.40625 31.296875 43.53125 35.828125 \nQ 39.65625 40.375 33.015625 40.375 \nz\nM 52.59375 71.296875 \nL 52.59375 62.3125 \nQ 48.875 64.0625 45.09375 64.984375 \nQ 41.3125 65.921875 37.59375 65.921875 \nQ 27.828125 65.921875 22.671875 59.328125 \nQ 17.53125 52.734375 16.796875 39.40625 \nQ 19.671875 43.65625 24.015625 45.921875 \nQ 28.375 48.1875 33.59375 48.1875 \nQ 44.578125 48.1875 50.953125 41.515625 \nQ 57.328125 34.859375 57.328125 23.390625 \nQ 57.328125 12.15625 50.6875 5.359375 \nQ 44.046875 -1.421875 33.015625 -1.421875 \nQ 20.359375 -1.421875 13.671875 8.265625 \nQ 6.984375 17.96875 6.984375 36.375 \nQ 6.984375 53.65625 15.1875 63.9375 \nQ 23.390625 74.21875 37.203125 74.21875 \nQ 40.921875 74.21875 44.703125 73.484375 \nQ 48.484375 72.75 52.59375 71.296875 \nz\n\" id=\"DejaVuSans-54\"/>\n      </defs>\n      <g transform=\"translate(366.196023 456.678437)scale(0.1 -0.1)\">\n       <use xlink:href=\"#DejaVuSans-54\"/>\n      </g>\n     </g>\n    </g>\n    <g id=\"xtick_5\">\n     <g id=\"line2d_5\">\n      <g>\n       <use style=\"stroke:#000000;stroke-width:0.8;\" x=\"470.831818\" xlink:href=\"#mf136b6a9f7\" y=\"442.08\"/>\n      </g>\n     </g>\n     <g id=\"text_5\">\n      <!-- 8 -->\n      <defs>\n       <path d=\"M 31.78125 34.625 \nQ 24.75 34.625 20.71875 30.859375 \nQ 16.703125 27.09375 16.703125 20.515625 \nQ 16.703125 13.921875 20.71875 10.15625 \nQ 24.75 6.390625 31.78125 6.390625 \nQ 38.8125 6.390625 42.859375 10.171875 \nQ 46.921875 13.96875 46.921875 20.515625 \nQ 46.921875 27.09375 42.890625 30.859375 \nQ 38.875 34.625 31.78125 34.625 \nz\nM 21.921875 38.8125 \nQ 15.578125 40.375 12.03125 44.71875 \nQ 8.5 49.078125 8.5 55.328125 \nQ 8.5 64.0625 14.71875 69.140625 \nQ 20.953125 74.21875 31.78125 74.21875 \nQ 42.671875 74.21875 48.875 69.140625 \nQ 55.078125 64.0625 55.078125 55.328125 \nQ 55.078125 49.078125 51.53125 44.71875 \nQ 48 40.375 41.703125 38.8125 \nQ 48.828125 37.15625 52.796875 32.3125 \nQ 56.78125 27.484375 56.78125 20.515625 \nQ 56.78125 9.90625 50.3125 4.234375 \nQ 43.84375 -1.421875 31.78125 -1.421875 \nQ 19.734375 -1.421875 13.25 4.234375 \nQ 6.78125 9.90625 6.78125 20.515625 \nQ 6.78125 27.484375 10.78125 32.3125 \nQ 14.796875 37.15625 21.921875 38.8125 \nz\nM 18.3125 54.390625 \nQ 18.3125 48.734375 21.84375 45.5625 \nQ 25.390625 42.390625 31.78125 42.390625 \nQ 38.140625 42.390625 41.71875 45.5625 \nQ 45.3125 48.734375 45.3125 54.390625 \nQ 45.3125 60.0625 41.71875 63.234375 \nQ 38.140625 66.40625 31.78125 66.40625 \nQ 25.390625 66.40625 21.84375 63.234375 \nQ 18.3125 60.0625 18.3125 54.390625 \nz\n\" id=\"DejaVuSans-56\"/>\n      </defs>\n      <g transform=\"translate(467.650568 456.678437)scale(0.1 -0.1)\">\n       <use xlink:href=\"#DejaVuSans-56\"/>\n      </g>\n     </g>\n    </g>\n    <g id=\"xtick_6\">\n     <g id=\"line2d_6\">\n      <g>\n       <use style=\"stroke:#000000;stroke-width:0.8;\" x=\"572.286364\" xlink:href=\"#mf136b6a9f7\" y=\"442.08\"/>\n      </g>\n     </g>\n     <g id=\"text_6\">\n      <!-- 10 -->\n      <defs>\n       <path d=\"M 12.40625 8.296875 \nL 28.515625 8.296875 \nL 28.515625 63.921875 \nL 10.984375 60.40625 \nL 10.984375 69.390625 \nL 28.421875 72.90625 \nL 38.28125 72.90625 \nL 38.28125 8.296875 \nL 54.390625 8.296875 \nL 54.390625 0 \nL 12.40625 0 \nz\n\" id=\"DejaVuSans-49\"/>\n      </defs>\n      <g transform=\"translate(565.923864 456.678437)scale(0.1 -0.1)\">\n       <use xlink:href=\"#DejaVuSans-49\"/>\n       <use x=\"63.623047\" xlink:href=\"#DejaVuSans-48\"/>\n      </g>\n     </g>\n    </g>\n   </g>\n   <g id=\"matplotlib.axis_2\">\n    <g id=\"ytick_1\">\n     <g id=\"line2d_7\">\n      <defs>\n       <path d=\"M 0 0 \nL -3.5 0 \n\" id=\"me35e3bd5b2\" style=\"stroke:#000000;stroke-width:0.8;\"/>\n      </defs>\n      <g>\n       <use style=\"stroke:#000000;stroke-width:0.8;\" x=\"39.65\" xlink:href=\"#me35e3bd5b2\" y=\"395.013334\"/>\n      </g>\n     </g>\n     <g id=\"text_7\">\n      <!-- 0 -->\n      <g transform=\"translate(26.2875 398.812553)scale(0.1 -0.1)\">\n       <use xlink:href=\"#DejaVuSans-48\"/>\n      </g>\n     </g>\n    </g>\n    <g id=\"ytick_2\">\n     <g id=\"line2d_8\">\n      <g>\n       <use style=\"stroke:#000000;stroke-width:0.8;\" x=\"39.65\" xlink:href=\"#me35e3bd5b2\" y=\"328.511907\"/>\n      </g>\n     </g>\n     <g id=\"text_8\">\n      <!-- 200 -->\n      <g transform=\"translate(13.5625 332.311126)scale(0.1 -0.1)\">\n       <use xlink:href=\"#DejaVuSans-50\"/>\n       <use x=\"63.623047\" xlink:href=\"#DejaVuSans-48\"/>\n       <use x=\"127.246094\" xlink:href=\"#DejaVuSans-48\"/>\n      </g>\n     </g>\n    </g>\n    <g id=\"ytick_3\">\n     <g id=\"line2d_9\">\n      <g>\n       <use style=\"stroke:#000000;stroke-width:0.8;\" x=\"39.65\" xlink:href=\"#me35e3bd5b2\" y=\"262.01048\"/>\n      </g>\n     </g>\n     <g id=\"text_9\">\n      <!-- 400 -->\n      <g transform=\"translate(13.5625 265.809699)scale(0.1 -0.1)\">\n       <use xlink:href=\"#DejaVuSans-52\"/>\n       <use x=\"63.623047\" xlink:href=\"#DejaVuSans-48\"/>\n       <use x=\"127.246094\" xlink:href=\"#DejaVuSans-48\"/>\n      </g>\n     </g>\n    </g>\n    <g id=\"ytick_4\">\n     <g id=\"line2d_10\">\n      <g>\n       <use style=\"stroke:#000000;stroke-width:0.8;\" x=\"39.65\" xlink:href=\"#me35e3bd5b2\" y=\"195.509053\"/>\n      </g>\n     </g>\n     <g id=\"text_10\">\n      <!-- 600 -->\n      <g transform=\"translate(13.5625 199.308271)scale(0.1 -0.1)\">\n       <use xlink:href=\"#DejaVuSans-54\"/>\n       <use x=\"63.623047\" xlink:href=\"#DejaVuSans-48\"/>\n       <use x=\"127.246094\" xlink:href=\"#DejaVuSans-48\"/>\n      </g>\n     </g>\n    </g>\n    <g id=\"ytick_5\">\n     <g id=\"line2d_11\">\n      <g>\n       <use style=\"stroke:#000000;stroke-width:0.8;\" x=\"39.65\" xlink:href=\"#me35e3bd5b2\" y=\"129.007625\"/>\n      </g>\n     </g>\n     <g id=\"text_11\">\n      <!-- 800 -->\n      <g transform=\"translate(13.5625 132.806844)scale(0.1 -0.1)\">\n       <use xlink:href=\"#DejaVuSans-56\"/>\n       <use x=\"63.623047\" xlink:href=\"#DejaVuSans-48\"/>\n       <use x=\"127.246094\" xlink:href=\"#DejaVuSans-48\"/>\n      </g>\n     </g>\n    </g>\n    <g id=\"ytick_6\">\n     <g id=\"line2d_12\">\n      <g>\n       <use style=\"stroke:#000000;stroke-width:0.8;\" x=\"39.65\" xlink:href=\"#me35e3bd5b2\" y=\"62.506198\"/>\n      </g>\n     </g>\n     <g id=\"text_12\">\n      <!-- 1000 -->\n      <g transform=\"translate(7.2 66.305417)scale(0.1 -0.1)\">\n       <use xlink:href=\"#DejaVuSans-49\"/>\n       <use x=\"63.623047\" xlink:href=\"#DejaVuSans-48\"/>\n       <use x=\"127.246094\" xlink:href=\"#DejaVuSans-48\"/>\n       <use x=\"190.869141\" xlink:href=\"#DejaVuSans-48\"/>\n      </g>\n     </g>\n    </g>\n   </g>\n   <g id=\"patch_3\">\n    <path d=\"M 39.65 442.08 \nL 39.65 7.2 \n\" style=\"fill:none;stroke:#000000;stroke-linecap:square;stroke-linejoin:miter;stroke-width:0.8;\"/>\n   </g>\n   <g id=\"patch_4\">\n    <path d=\"M 597.65 442.08 \nL 597.65 7.2 \n\" style=\"fill:none;stroke:#000000;stroke-linecap:square;stroke-linejoin:miter;stroke-width:0.8;\"/>\n   </g>\n   <g id=\"patch_5\">\n    <path d=\"M 39.65 442.08 \nL 597.65 442.08 \n\" style=\"fill:none;stroke:#000000;stroke-linecap:square;stroke-linejoin:miter;stroke-width:0.8;\"/>\n   </g>\n   <g id=\"patch_6\">\n    <path d=\"M 39.65 7.2 \nL 597.65 7.2 \n\" style=\"fill:none;stroke:#000000;stroke-linecap:square;stroke-linejoin:miter;stroke-width:0.8;\"/>\n   </g>\n  </g>\n </g>\n <defs>\n  <clipPath id=\"pb9a1b21669\">\n   <rect height=\"434.88\" width=\"558\" x=\"39.65\" y=\"7.2\"/>\n  </clipPath>\n </defs>\n</svg>\n",
      "image/png": "[encoded data removed]"
     },
     "metadata": {
      "needs_background": "light"
     }
    }
   ],
   "source": [
    "n_samples = 100\n",
    "X = np.linspace(0, 10, 100)\n",
    "y = X ** 3 + np.random.randn(n_samples) * 100 + 100\n",
    "plt.figure(figsize=(10,8))\n",
    "plt.scatter(X, y)"
   ]
  },
  {
   "cell_type": "code",
   "execution_count": 6,
   "metadata": {},
   "outputs": [],
   "source": [
    "# Test/train split\n",
    "X_train, X_test, y_train, y_test = train_test_split(X, y, test_size=0.2, random_state=10)\n",
    "X_train = X_train.reshape(-1, 1)"
   ]
  },
  {
   "cell_type": "code",
   "execution_count": 8,
   "metadata": {},
   "outputs": [
    {
     "output_type": "display_data",
     "data": {
      "text/plain": "<Figure size 432x288 with 1 Axes>",
      "image/svg+xml": "<?xml version=\"1.0\" encoding=\"utf-8\" standalone=\"no\"?>\n<!DOCTYPE svg PUBLIC \"-//W3C//DTD SVG 1.1//EN\"\n  \"http://www.w3.org/Graphics/SVG/1.1/DTD/svg11.dtd\">\n<!-- Created with matplotlib (https://matplotlib.org/) -->\n<svg height=\"277.318125pt\" version=\"1.1\" viewBox=\"0 0 383.667187 277.318125\" width=\"383.667187pt\" xmlns=\"http://www.w3.org/2000/svg\" xmlns:xlink=\"http://www.w3.org/1999/xlink\">\n <defs>\n  <style type=\"text/css\">\n*{stroke-linecap:butt;stroke-linejoin:round;}\n  </style>\n </defs>\n <g id=\"figure_1\">\n  <g id=\"patch_1\">\n   <path d=\"M 0 277.318125 \nL 383.667187 277.318125 \nL 383.667187 0 \nL 0 0 \nz\n\" style=\"fill:none;\"/>\n  </g>\n  <g id=\"axes_1\">\n   <g id=\"patch_2\">\n    <path d=\"M 41.667188 253.44 \nL 376.467188 253.44 \nL 376.467188 36 \nL 41.667188 36 \nz\n\" style=\"fill:#ffffff;\"/>\n   </g>\n   <g id=\"matplotlib.axis_1\">\n    <g id=\"xtick_1\">\n     <g id=\"line2d_1\">\n      <defs>\n       <path d=\"M 0 0 \nL 0 3.5 \n\" id=\"m32120e37b3\" style=\"stroke:#000000;stroke-width:0.8;\"/>\n      </defs>\n      <g>\n       <use style=\"stroke:#000000;stroke-width:0.8;\" x=\"75.147188\" xlink:href=\"#m32120e37b3\" y=\"253.44\"/>\n      </g>\n     </g>\n     <g id=\"text_1\">\n      <!-- LR -->\n      <defs>\n       <path d=\"M 9.8125 72.90625 \nL 19.671875 72.90625 \nL 19.671875 8.296875 \nL 55.171875 8.296875 \nL 55.171875 0 \nL 9.8125 0 \nz\n\" id=\"DejaVuSans-76\"/>\n       <path d=\"M 44.390625 34.1875 \nQ 47.5625 33.109375 50.5625 29.59375 \nQ 53.5625 26.078125 56.59375 19.921875 \nL 66.609375 0 \nL 56 0 \nL 46.6875 18.703125 \nQ 43.0625 26.03125 39.671875 28.421875 \nQ 36.28125 30.8125 30.421875 30.8125 \nL 19.671875 30.8125 \nL 19.671875 0 \nL 9.8125 0 \nL 9.8125 72.90625 \nL 32.078125 72.90625 \nQ 44.578125 72.90625 50.734375 67.671875 \nQ 56.890625 62.453125 56.890625 51.90625 \nQ 56.890625 45.015625 53.6875 40.46875 \nQ 50.484375 35.9375 44.390625 34.1875 \nz\nM 19.671875 64.796875 \nL 19.671875 38.921875 \nL 32.078125 38.921875 \nQ 39.203125 38.921875 42.84375 42.21875 \nQ 46.484375 45.515625 46.484375 51.90625 \nQ 46.484375 58.296875 42.84375 61.546875 \nQ 39.203125 64.796875 32.078125 64.796875 \nz\n\" id=\"DejaVuSans-82\"/>\n      </defs>\n      <g transform=\"translate(68.887031 268.038437)scale(0.1 -0.1)\">\n       <use xlink:href=\"#DejaVuSans-76\"/>\n       <use x=\"55.712891\" xlink:href=\"#DejaVuSans-82\"/>\n      </g>\n     </g>\n    </g>\n    <g id=\"xtick_2\">\n     <g id=\"line2d_2\">\n      <g>\n       <use style=\"stroke:#000000;stroke-width:0.8;\" x=\"142.107188\" xlink:href=\"#m32120e37b3\" y=\"253.44\"/>\n      </g>\n     </g>\n     <g id=\"text_2\">\n      <!-- PR -->\n      <defs>\n       <path d=\"M 19.671875 64.796875 \nL 19.671875 37.40625 \nL 32.078125 37.40625 \nQ 38.96875 37.40625 42.71875 40.96875 \nQ 46.484375 44.53125 46.484375 51.125 \nQ 46.484375 57.671875 42.71875 61.234375 \nQ 38.96875 64.796875 32.078125 64.796875 \nz\nM 9.8125 72.90625 \nL 32.078125 72.90625 \nQ 44.34375 72.90625 50.609375 67.359375 \nQ 56.890625 61.8125 56.890625 51.125 \nQ 56.890625 40.328125 50.609375 34.8125 \nQ 44.34375 29.296875 32.078125 29.296875 \nL 19.671875 29.296875 \nL 19.671875 0 \nL 9.8125 0 \nz\n\" id=\"DejaVuSans-80\"/>\n      </defs>\n      <g transform=\"translate(135.618125 268.038437)scale(0.1 -0.1)\">\n       <use xlink:href=\"#DejaVuSans-80\"/>\n       <use x=\"60.302734\" xlink:href=\"#DejaVuSans-82\"/>\n      </g>\n     </g>\n    </g>\n    <g id=\"xtick_3\">\n     <g id=\"line2d_3\">\n      <g>\n       <use style=\"stroke:#000000;stroke-width:0.8;\" x=\"209.067188\" xlink:href=\"#m32120e37b3\" y=\"253.44\"/>\n      </g>\n     </g>\n     <g id=\"text_3\">\n      <!-- SVR -->\n      <defs>\n       <path d=\"M 53.515625 70.515625 \nL 53.515625 60.890625 \nQ 47.90625 63.578125 42.921875 64.890625 \nQ 37.9375 66.21875 33.296875 66.21875 \nQ 25.25 66.21875 20.875 63.09375 \nQ 16.5 59.96875 16.5 54.203125 \nQ 16.5 49.359375 19.40625 46.890625 \nQ 22.3125 44.4375 30.421875 42.921875 \nL 36.375 41.703125 \nQ 47.40625 39.59375 52.65625 34.296875 \nQ 57.90625 29 57.90625 20.125 \nQ 57.90625 9.515625 50.796875 4.046875 \nQ 43.703125 -1.421875 29.984375 -1.421875 \nQ 24.8125 -1.421875 18.96875 -0.25 \nQ 13.140625 0.921875 6.890625 3.21875 \nL 6.890625 13.375 \nQ 12.890625 10.015625 18.65625 8.296875 \nQ 24.421875 6.59375 29.984375 6.59375 \nQ 38.421875 6.59375 43.015625 9.90625 \nQ 47.609375 13.234375 47.609375 19.390625 \nQ 47.609375 24.75 44.3125 27.78125 \nQ 41.015625 30.8125 33.5 32.328125 \nL 27.484375 33.5 \nQ 16.453125 35.6875 11.515625 40.375 \nQ 6.59375 45.0625 6.59375 53.421875 \nQ 6.59375 63.09375 13.40625 68.65625 \nQ 20.21875 74.21875 32.171875 74.21875 \nQ 37.3125 74.21875 42.625 73.28125 \nQ 47.953125 72.359375 53.515625 70.515625 \nz\n\" id=\"DejaVuSans-83\"/>\n       <path d=\"M 28.609375 0 \nL 0.78125 72.90625 \nL 11.078125 72.90625 \nL 34.1875 11.53125 \nL 57.328125 72.90625 \nL 67.578125 72.90625 \nL 39.796875 0 \nz\n\" id=\"DejaVuSans-86\"/>\n      </defs>\n      <g transform=\"translate(198.998438 268.038437)scale(0.1 -0.1)\">\n       <use xlink:href=\"#DejaVuSans-83\"/>\n       <use x=\"63.476562\" xlink:href=\"#DejaVuSans-86\"/>\n       <use x=\"131.884766\" xlink:href=\"#DejaVuSans-82\"/>\n      </g>\n     </g>\n    </g>\n    <g id=\"xtick_4\">\n     <g id=\"line2d_4\">\n      <g>\n       <use style=\"stroke:#000000;stroke-width:0.8;\" x=\"276.027188\" xlink:href=\"#m32120e37b3\" y=\"253.44\"/>\n      </g>\n     </g>\n     <g id=\"text_4\">\n      <!-- DTR -->\n      <defs>\n       <path d=\"M 19.671875 64.796875 \nL 19.671875 8.109375 \nL 31.59375 8.109375 \nQ 46.6875 8.109375 53.6875 14.9375 \nQ 60.6875 21.78125 60.6875 36.53125 \nQ 60.6875 51.171875 53.6875 57.984375 \nQ 46.6875 64.796875 31.59375 64.796875 \nz\nM 9.8125 72.90625 \nL 30.078125 72.90625 \nQ 51.265625 72.90625 61.171875 64.09375 \nQ 71.09375 55.28125 71.09375 36.53125 \nQ 71.09375 17.671875 61.125 8.828125 \nQ 51.171875 0 30.078125 0 \nL 9.8125 0 \nz\n\" id=\"DejaVuSans-68\"/>\n       <path d=\"M -0.296875 72.90625 \nL 61.375 72.90625 \nL 61.375 64.59375 \nL 35.5 64.59375 \nL 35.5 0 \nL 25.59375 0 \nL 25.59375 64.59375 \nL -0.296875 64.59375 \nz\n\" id=\"DejaVuSans-84\"/>\n      </defs>\n      <g transform=\"translate(265.649063 268.038437)scale(0.1 -0.1)\">\n       <use xlink:href=\"#DejaVuSans-68\"/>\n       <use x=\"77.001953\" xlink:href=\"#DejaVuSans-84\"/>\n       <use x=\"138.085938\" xlink:href=\"#DejaVuSans-82\"/>\n      </g>\n     </g>\n    </g>\n    <g id=\"xtick_5\">\n     <g id=\"line2d_5\">\n      <g>\n       <use style=\"stroke:#000000;stroke-width:0.8;\" x=\"342.987188\" xlink:href=\"#m32120e37b3\" y=\"253.44\"/>\n      </g>\n     </g>\n     <g id=\"text_5\">\n      <!-- RFR -->\n      <defs>\n       <path d=\"M 9.8125 72.90625 \nL 51.703125 72.90625 \nL 51.703125 64.59375 \nL 19.671875 64.59375 \nL 19.671875 43.109375 \nL 48.578125 43.109375 \nL 48.578125 34.8125 \nL 19.671875 34.8125 \nL 19.671875 0 \nL 9.8125 0 \nz\n\" id=\"DejaVuSans-70\"/>\n      </defs>\n      <g transform=\"translate(333.162969 268.038437)scale(0.1 -0.1)\">\n       <use xlink:href=\"#DejaVuSans-82\"/>\n       <use x=\"69.482422\" xlink:href=\"#DejaVuSans-70\"/>\n       <use x=\"127.001953\" xlink:href=\"#DejaVuSans-82\"/>\n      </g>\n     </g>\n    </g>\n   </g>\n   <g id=\"matplotlib.axis_2\">\n    <g id=\"ytick_1\">\n     <g id=\"line2d_6\">\n      <defs>\n       <path d=\"M 0 0 \nL -3.5 0 \n\" id=\"m58cf2d9c61\" style=\"stroke:#000000;stroke-width:0.8;\"/>\n      </defs>\n      <g>\n       <use style=\"stroke:#000000;stroke-width:0.8;\" x=\"41.667188\" xlink:href=\"#m58cf2d9c61\" y=\"235.910112\"/>\n      </g>\n     </g>\n     <g id=\"text_6\">\n      <!-- −300 -->\n      <defs>\n       <path d=\"M 10.59375 35.5 \nL 73.1875 35.5 \nL 73.1875 27.203125 \nL 10.59375 27.203125 \nz\n\" id=\"DejaVuSans-8722\"/>\n       <path d=\"M 40.578125 39.3125 \nQ 47.65625 37.796875 51.625 33 \nQ 55.609375 28.21875 55.609375 21.1875 \nQ 55.609375 10.40625 48.1875 4.484375 \nQ 40.765625 -1.421875 27.09375 -1.421875 \nQ 22.515625 -1.421875 17.65625 -0.515625 \nQ 12.796875 0.390625 7.625 2.203125 \nL 7.625 11.71875 \nQ 11.71875 9.328125 16.59375 8.109375 \nQ 21.484375 6.890625 26.8125 6.890625 \nQ 36.078125 6.890625 40.9375 10.546875 \nQ 45.796875 14.203125 45.796875 21.1875 \nQ 45.796875 27.640625 41.28125 31.265625 \nQ 36.765625 34.90625 28.71875 34.90625 \nL 20.21875 34.90625 \nL 20.21875 43.015625 \nL 29.109375 43.015625 \nQ 36.375 43.015625 40.234375 45.921875 \nQ 44.09375 48.828125 44.09375 54.296875 \nQ 44.09375 59.90625 40.109375 62.90625 \nQ 36.140625 65.921875 28.71875 65.921875 \nQ 24.65625 65.921875 20.015625 65.03125 \nQ 15.375 64.15625 9.8125 62.3125 \nL 9.8125 71.09375 \nQ 15.4375 72.65625 20.34375 73.4375 \nQ 25.25 74.21875 29.59375 74.21875 \nQ 40.828125 74.21875 47.359375 69.109375 \nQ 53.90625 64.015625 53.90625 55.328125 \nQ 53.90625 49.265625 50.4375 45.09375 \nQ 46.96875 40.921875 40.578125 39.3125 \nz\n\" id=\"DejaVuSans-51\"/>\n       <path d=\"M 31.78125 66.40625 \nQ 24.171875 66.40625 20.328125 58.90625 \nQ 16.5 51.421875 16.5 36.375 \nQ 16.5 21.390625 20.328125 13.890625 \nQ 24.171875 6.390625 31.78125 6.390625 \nQ 39.453125 6.390625 43.28125 13.890625 \nQ 47.125 21.390625 47.125 36.375 \nQ 47.125 51.421875 43.28125 58.90625 \nQ 39.453125 66.40625 31.78125 66.40625 \nz\nM 31.78125 74.21875 \nQ 44.046875 74.21875 50.515625 64.515625 \nQ 56.984375 54.828125 56.984375 36.375 \nQ 56.984375 17.96875 50.515625 8.265625 \nQ 44.046875 -1.421875 31.78125 -1.421875 \nQ 19.53125 -1.421875 13.0625 8.265625 \nQ 6.59375 17.96875 6.59375 36.375 \nQ 6.59375 54.828125 13.0625 64.515625 \nQ 19.53125 74.21875 31.78125 74.21875 \nz\n\" id=\"DejaVuSans-48\"/>\n      </defs>\n      <g transform=\"translate(7.2 239.70933)scale(0.1 -0.1)\">\n       <use xlink:href=\"#DejaVuSans-8722\"/>\n       <use x=\"83.789062\" xlink:href=\"#DejaVuSans-51\"/>\n       <use x=\"147.412109\" xlink:href=\"#DejaVuSans-48\"/>\n       <use x=\"211.035156\" xlink:href=\"#DejaVuSans-48\"/>\n      </g>\n     </g>\n    </g>\n    <g id=\"ytick_2\">\n     <g id=\"line2d_7\">\n      <g>\n       <use style=\"stroke:#000000;stroke-width:0.8;\" x=\"41.667188\" xlink:href=\"#m58cf2d9c61\" y=\"192.499851\"/>\n      </g>\n     </g>\n     <g id=\"text_7\">\n      <!-- −250 -->\n      <defs>\n       <path d=\"M 19.1875 8.296875 \nL 53.609375 8.296875 \nL 53.609375 0 \nL 7.328125 0 \nL 7.328125 8.296875 \nQ 12.9375 14.109375 22.625 23.890625 \nQ 32.328125 33.6875 34.8125 36.53125 \nQ 39.546875 41.84375 41.421875 45.53125 \nQ 43.3125 49.21875 43.3125 52.78125 \nQ 43.3125 58.59375 39.234375 62.25 \nQ 35.15625 65.921875 28.609375 65.921875 \nQ 23.96875 65.921875 18.8125 64.3125 \nQ 13.671875 62.703125 7.8125 59.421875 \nL 7.8125 69.390625 \nQ 13.765625 71.78125 18.9375 73 \nQ 24.125 74.21875 28.421875 74.21875 \nQ 39.75 74.21875 46.484375 68.546875 \nQ 53.21875 62.890625 53.21875 53.421875 \nQ 53.21875 48.921875 51.53125 44.890625 \nQ 49.859375 40.875 45.40625 35.40625 \nQ 44.1875 33.984375 37.640625 27.21875 \nQ 31.109375 20.453125 19.1875 8.296875 \nz\n\" id=\"DejaVuSans-50\"/>\n       <path d=\"M 10.796875 72.90625 \nL 49.515625 72.90625 \nL 49.515625 64.59375 \nL 19.828125 64.59375 \nL 19.828125 46.734375 \nQ 21.96875 47.46875 24.109375 47.828125 \nQ 26.265625 48.1875 28.421875 48.1875 \nQ 40.625 48.1875 47.75 41.5 \nQ 54.890625 34.8125 54.890625 23.390625 \nQ 54.890625 11.625 47.5625 5.09375 \nQ 40.234375 -1.421875 26.90625 -1.421875 \nQ 22.3125 -1.421875 17.546875 -0.640625 \nQ 12.796875 0.140625 7.71875 1.703125 \nL 7.71875 11.625 \nQ 12.109375 9.234375 16.796875 8.0625 \nQ 21.484375 6.890625 26.703125 6.890625 \nQ 35.15625 6.890625 40.078125 11.328125 \nQ 45.015625 15.765625 45.015625 23.390625 \nQ 45.015625 31 40.078125 35.4375 \nQ 35.15625 39.890625 26.703125 39.890625 \nQ 22.75 39.890625 18.8125 39.015625 \nQ 14.890625 38.140625 10.796875 36.28125 \nz\n\" id=\"DejaVuSans-53\"/>\n      </defs>\n      <g transform=\"translate(7.2 196.29907)scale(0.1 -0.1)\">\n       <use xlink:href=\"#DejaVuSans-8722\"/>\n       <use x=\"83.789062\" xlink:href=\"#DejaVuSans-50\"/>\n       <use x=\"147.412109\" xlink:href=\"#DejaVuSans-53\"/>\n       <use x=\"211.035156\" xlink:href=\"#DejaVuSans-48\"/>\n      </g>\n     </g>\n    </g>\n    <g id=\"ytick_3\">\n     <g id=\"line2d_8\">\n      <g>\n       <use style=\"stroke:#000000;stroke-width:0.8;\" x=\"41.667188\" xlink:href=\"#m58cf2d9c61\" y=\"149.089591\"/>\n      </g>\n     </g>\n     <g id=\"text_8\">\n      <!-- −200 -->\n      <g transform=\"translate(7.2 152.88881)scale(0.1 -0.1)\">\n       <use xlink:href=\"#DejaVuSans-8722\"/>\n       <use x=\"83.789062\" xlink:href=\"#DejaVuSans-50\"/>\n       <use x=\"147.412109\" xlink:href=\"#DejaVuSans-48\"/>\n       <use x=\"211.035156\" xlink:href=\"#DejaVuSans-48\"/>\n      </g>\n     </g>\n    </g>\n    <g id=\"ytick_4\">\n     <g id=\"line2d_9\">\n      <g>\n       <use style=\"stroke:#000000;stroke-width:0.8;\" x=\"41.667188\" xlink:href=\"#m58cf2d9c61\" y=\"105.679331\"/>\n      </g>\n     </g>\n     <g id=\"text_9\">\n      <!-- −150 -->\n      <defs>\n       <path d=\"M 12.40625 8.296875 \nL 28.515625 8.296875 \nL 28.515625 63.921875 \nL 10.984375 60.40625 \nL 10.984375 69.390625 \nL 28.421875 72.90625 \nL 38.28125 72.90625 \nL 38.28125 8.296875 \nL 54.390625 8.296875 \nL 54.390625 0 \nL 12.40625 0 \nz\n\" id=\"DejaVuSans-49\"/>\n      </defs>\n      <g transform=\"translate(7.2 109.47855)scale(0.1 -0.1)\">\n       <use xlink:href=\"#DejaVuSans-8722\"/>\n       <use x=\"83.789062\" xlink:href=\"#DejaVuSans-49\"/>\n       <use x=\"147.412109\" xlink:href=\"#DejaVuSans-53\"/>\n       <use x=\"211.035156\" xlink:href=\"#DejaVuSans-48\"/>\n      </g>\n     </g>\n    </g>\n    <g id=\"ytick_5\">\n     <g id=\"line2d_10\">\n      <g>\n       <use style=\"stroke:#000000;stroke-width:0.8;\" x=\"41.667188\" xlink:href=\"#m58cf2d9c61\" y=\"62.269071\"/>\n      </g>\n     </g>\n     <g id=\"text_10\">\n      <!-- −100 -->\n      <g transform=\"translate(7.2 66.06829)scale(0.1 -0.1)\">\n       <use xlink:href=\"#DejaVuSans-8722\"/>\n       <use x=\"83.789062\" xlink:href=\"#DejaVuSans-49\"/>\n       <use x=\"147.412109\" xlink:href=\"#DejaVuSans-48\"/>\n       <use x=\"211.035156\" xlink:href=\"#DejaVuSans-48\"/>\n      </g>\n     </g>\n    </g>\n   </g>\n   <g id=\"line2d_11\">\n    <path clip-path=\"url(#p9e72c772e3)\" d=\"M 58.407188 88.725809 \nL 91.887188 88.725809 \nL 91.887188 76.423489 \nL 58.407188 76.423489 \nL 58.407188 88.725809 \n\" style=\"fill:none;stroke:#000000;stroke-linecap:square;\"/>\n   </g>\n   <g id=\"line2d_12\">\n    <path clip-path=\"url(#p9e72c772e3)\" d=\"M 75.147188 88.725809 \nL 75.147188 101.675702 \n\" style=\"fill:none;stroke:#000000;stroke-linecap:square;\"/>\n   </g>\n   <g id=\"line2d_13\">\n    <path clip-path=\"url(#p9e72c772e3)\" d=\"M 75.147188 76.423489 \nL 75.147188 63.71413 \n\" style=\"fill:none;stroke:#000000;stroke-linecap:square;\"/>\n   </g>\n   <g id=\"line2d_14\">\n    <path clip-path=\"url(#p9e72c772e3)\" d=\"M 66.777187 101.675702 \nL 83.517188 101.675702 \n\" style=\"fill:none;stroke:#000000;stroke-linecap:square;\"/>\n   </g>\n   <g id=\"line2d_15\">\n    <path clip-path=\"url(#p9e72c772e3)\" d=\"M 66.777187 63.71413 \nL 83.517188 63.71413 \n\" style=\"fill:none;stroke:#000000;stroke-linecap:square;\"/>\n   </g>\n   <g id=\"line2d_16\"/>\n   <g id=\"line2d_17\">\n    <path clip-path=\"url(#p9e72c772e3)\" d=\"M 125.367188 52.982458 \nL 158.847188 52.982458 \nL 158.847188 46.530316 \nL 125.367188 46.530316 \nL 125.367188 52.982458 \n\" style=\"fill:none;stroke:#000000;stroke-linecap:square;\"/>\n   </g>\n   <g id=\"line2d_18\">\n    <path clip-path=\"url(#p9e72c772e3)\" d=\"M 142.107188 52.982458 \nL 142.107188 52.982458 \n\" style=\"fill:none;stroke:#000000;stroke-linecap:square;\"/>\n   </g>\n   <g id=\"line2d_19\">\n    <path clip-path=\"url(#p9e72c772e3)\" d=\"M 142.107188 46.530316 \nL 142.107188 45.883636 \n\" style=\"fill:none;stroke:#000000;stroke-linecap:square;\"/>\n   </g>\n   <g id=\"line2d_20\">\n    <path clip-path=\"url(#p9e72c772e3)\" d=\"M 133.737188 52.982458 \nL 150.477188 52.982458 \n\" style=\"fill:none;stroke:#000000;stroke-linecap:square;\"/>\n   </g>\n   <g id=\"line2d_21\">\n    <path clip-path=\"url(#p9e72c772e3)\" d=\"M 133.737188 45.883636 \nL 150.477188 45.883636 \n\" style=\"fill:none;stroke:#000000;stroke-linecap:square;\"/>\n   </g>\n   <g id=\"line2d_22\">\n    <defs>\n     <path d=\"M 0 3 \nC 0.795609 3 1.55874 2.683901 2.12132 2.12132 \nC 2.683901 1.55874 3 0.795609 3 0 \nC 3 -0.795609 2.683901 -1.55874 2.12132 -2.12132 \nC 1.55874 -2.683901 0.795609 -3 0 -3 \nC -0.795609 -3 -1.55874 -2.683901 -2.12132 -2.12132 \nC -2.683901 -1.55874 -3 -0.795609 -3 0 \nC -3 0.795609 -2.683901 1.55874 -2.12132 2.12132 \nC -1.55874 2.683901 -0.795609 3 0 3 \nz\n\" id=\"m45556e9af0\" style=\"stroke:#000000;\"/>\n    </defs>\n    <g clip-path=\"url(#p9e72c772e3)\">\n     <use style=\"fill-opacity:0;stroke:#000000;\" x=\"142.107188\" xlink:href=\"#m45556e9af0\" y=\"64.247366\"/>\n    </g>\n   </g>\n   <g id=\"line2d_23\">\n    <path clip-path=\"url(#p9e72c772e3)\" d=\"M 192.327188 194.866442 \nL 225.807188 194.866442 \nL 225.807188 138.472252 \nL 192.327188 138.472252 \nL 192.327188 194.866442 \n\" style=\"fill:none;stroke:#000000;stroke-linecap:square;\"/>\n   </g>\n   <g id=\"line2d_24\">\n    <path clip-path=\"url(#p9e72c772e3)\" d=\"M 209.067188 194.866442 \nL 209.067188 243.556364 \n\" style=\"fill:none;stroke:#000000;stroke-linecap:square;\"/>\n   </g>\n   <g id=\"line2d_25\">\n    <path clip-path=\"url(#p9e72c772e3)\" d=\"M 209.067188 138.472252 \nL 209.067188 117.800893 \n\" style=\"fill:none;stroke:#000000;stroke-linecap:square;\"/>\n   </g>\n   <g id=\"line2d_26\">\n    <path clip-path=\"url(#p9e72c772e3)\" d=\"M 200.697188 243.556364 \nL 217.437188 243.556364 \n\" style=\"fill:none;stroke:#000000;stroke-linecap:square;\"/>\n   </g>\n   <g id=\"line2d_27\">\n    <path clip-path=\"url(#p9e72c772e3)\" d=\"M 200.697188 117.800893 \nL 217.437188 117.800893 \n\" style=\"fill:none;stroke:#000000;stroke-linecap:square;\"/>\n   </g>\n   <g id=\"line2d_28\"/>\n   <g id=\"line2d_29\">\n    <path clip-path=\"url(#p9e72c772e3)\" d=\"M 259.287188 93.407981 \nL 292.767188 93.407981 \nL 292.767188 80.679078 \nL 259.287188 80.679078 \nL 259.287188 93.407981 \n\" style=\"fill:none;stroke:#000000;stroke-linecap:square;\"/>\n   </g>\n   <g id=\"line2d_30\">\n    <path clip-path=\"url(#p9e72c772e3)\" d=\"M 276.027188 93.407981 \nL 276.027188 93.927657 \n\" style=\"fill:none;stroke:#000000;stroke-linecap:square;\"/>\n   </g>\n   <g id=\"line2d_31\">\n    <path clip-path=\"url(#p9e72c772e3)\" d=\"M 276.027188 80.679078 \nL 276.027188 64.453216 \n\" style=\"fill:none;stroke:#000000;stroke-linecap:square;\"/>\n   </g>\n   <g id=\"line2d_32\">\n    <path clip-path=\"url(#p9e72c772e3)\" d=\"M 267.657188 93.927657 \nL 284.397188 93.927657 \n\" style=\"fill:none;stroke:#000000;stroke-linecap:square;\"/>\n   </g>\n   <g id=\"line2d_33\">\n    <path clip-path=\"url(#p9e72c772e3)\" d=\"M 267.657188 64.453216 \nL 284.397188 64.453216 \n\" style=\"fill:none;stroke:#000000;stroke-linecap:square;\"/>\n   </g>\n   <g id=\"line2d_34\"/>\n   <g id=\"line2d_35\">\n    <path clip-path=\"url(#p9e72c772e3)\" d=\"M 326.247188 77.935355 \nL 359.727188 77.935355 \nL 359.727188 57.85049 \nL 326.247188 57.85049 \nL 326.247188 77.935355 \n\" style=\"fill:none;stroke:#000000;stroke-linecap:square;\"/>\n   </g>\n   <g id=\"line2d_36\">\n    <path clip-path=\"url(#p9e72c772e3)\" d=\"M 342.987188 77.935355 \nL 342.987188 84.751289 \n\" style=\"fill:none;stroke:#000000;stroke-linecap:square;\"/>\n   </g>\n   <g id=\"line2d_37\">\n    <path clip-path=\"url(#p9e72c772e3)\" d=\"M 342.987188 57.85049 \nL 342.987188 54.873107 \n\" style=\"fill:none;stroke:#000000;stroke-linecap:square;\"/>\n   </g>\n   <g id=\"line2d_38\">\n    <path clip-path=\"url(#p9e72c772e3)\" d=\"M 334.617188 84.751289 \nL 351.357188 84.751289 \n\" style=\"fill:none;stroke:#000000;stroke-linecap:square;\"/>\n   </g>\n   <g id=\"line2d_39\">\n    <path clip-path=\"url(#p9e72c772e3)\" d=\"M 334.617188 54.873107 \nL 351.357188 54.873107 \n\" style=\"fill:none;stroke:#000000;stroke-linecap:square;\"/>\n   </g>\n   <g id=\"line2d_40\"/>\n   <g id=\"line2d_41\">\n    <path clip-path=\"url(#p9e72c772e3)\" d=\"M 58.407188 82.53456 \nL 91.887188 82.53456 \n\" style=\"fill:none;stroke:#ff7f0e;stroke-linecap:square;\"/>\n   </g>\n   <g id=\"line2d_42\">\n    <path clip-path=\"url(#p9e72c772e3)\" d=\"M 125.367188 47.986682 \nL 158.847188 47.986682 \n\" style=\"fill:none;stroke:#ff7f0e;stroke-linecap:square;\"/>\n   </g>\n   <g id=\"line2d_43\">\n    <path clip-path=\"url(#p9e72c772e3)\" d=\"M 192.327188 161.999587 \nL 225.807188 161.999587 \n\" style=\"fill:none;stroke:#ff7f0e;stroke-linecap:square;\"/>\n   </g>\n   <g id=\"line2d_44\">\n    <path clip-path=\"url(#p9e72c772e3)\" d=\"M 259.287188 89.661227 \nL 292.767188 89.661227 \n\" style=\"fill:none;stroke:#ff7f0e;stroke-linecap:square;\"/>\n   </g>\n   <g id=\"line2d_45\">\n    <path clip-path=\"url(#p9e72c772e3)\" d=\"M 326.247188 67.253164 \nL 359.727188 67.253164 \n\" style=\"fill:none;stroke:#ff7f0e;stroke-linecap:square;\"/>\n   </g>\n   <g id=\"patch_3\">\n    <path d=\"M 41.667188 253.44 \nL 41.667188 36 \n\" style=\"fill:none;stroke:#000000;stroke-linecap:square;stroke-linejoin:miter;stroke-width:0.8;\"/>\n   </g>\n   <g id=\"patch_4\">\n    <path d=\"M 376.467188 253.44 \nL 376.467188 36 \n\" style=\"fill:none;stroke:#000000;stroke-linecap:square;stroke-linejoin:miter;stroke-width:0.8;\"/>\n   </g>\n   <g id=\"patch_5\">\n    <path d=\"M 41.667188 253.44 \nL 376.467188 253.44 \n\" style=\"fill:none;stroke:#000000;stroke-linecap:square;stroke-linejoin:miter;stroke-width:0.8;\"/>\n   </g>\n   <g id=\"patch_6\">\n    <path d=\"M 41.667188 36 \nL 376.467188 36 \n\" style=\"fill:none;stroke:#000000;stroke-linecap:square;stroke-linejoin:miter;stroke-width:0.8;\"/>\n   </g>\n  </g>\n  <g id=\"text_11\">\n   <!-- Algorithm Comparison -->\n   <defs>\n    <path d=\"M 34.1875 63.1875 \nL 20.796875 26.90625 \nL 47.609375 26.90625 \nz\nM 28.609375 72.90625 \nL 39.796875 72.90625 \nL 67.578125 0 \nL 57.328125 0 \nL 50.6875 18.703125 \nL 17.828125 18.703125 \nL 11.1875 0 \nL 0.78125 0 \nz\n\" id=\"DejaVuSans-65\"/>\n    <path d=\"M 9.421875 75.984375 \nL 18.40625 75.984375 \nL 18.40625 0 \nL 9.421875 0 \nz\n\" id=\"DejaVuSans-108\"/>\n    <path d=\"M 45.40625 27.984375 \nQ 45.40625 37.75 41.375 43.109375 \nQ 37.359375 48.484375 30.078125 48.484375 \nQ 22.859375 48.484375 18.828125 43.109375 \nQ 14.796875 37.75 14.796875 27.984375 \nQ 14.796875 18.265625 18.828125 12.890625 \nQ 22.859375 7.515625 30.078125 7.515625 \nQ 37.359375 7.515625 41.375 12.890625 \nQ 45.40625 18.265625 45.40625 27.984375 \nz\nM 54.390625 6.78125 \nQ 54.390625 -7.171875 48.1875 -13.984375 \nQ 42 -20.796875 29.203125 -20.796875 \nQ 24.46875 -20.796875 20.265625 -20.09375 \nQ 16.0625 -19.390625 12.109375 -17.921875 \nL 12.109375 -9.1875 \nQ 16.0625 -11.328125 19.921875 -12.34375 \nQ 23.78125 -13.375 27.78125 -13.375 \nQ 36.625 -13.375 41.015625 -8.765625 \nQ 45.40625 -4.15625 45.40625 5.171875 \nL 45.40625 9.625 \nQ 42.625 4.78125 38.28125 2.390625 \nQ 33.9375 0 27.875 0 \nQ 17.828125 0 11.671875 7.65625 \nQ 5.515625 15.328125 5.515625 27.984375 \nQ 5.515625 40.671875 11.671875 48.328125 \nQ 17.828125 56 27.875 56 \nQ 33.9375 56 38.28125 53.609375 \nQ 42.625 51.21875 45.40625 46.390625 \nL 45.40625 54.6875 \nL 54.390625 54.6875 \nz\n\" id=\"DejaVuSans-103\"/>\n    <path d=\"M 30.609375 48.390625 \nQ 23.390625 48.390625 19.1875 42.75 \nQ 14.984375 37.109375 14.984375 27.296875 \nQ 14.984375 17.484375 19.15625 11.84375 \nQ 23.34375 6.203125 30.609375 6.203125 \nQ 37.796875 6.203125 41.984375 11.859375 \nQ 46.1875 17.53125 46.1875 27.296875 \nQ 46.1875 37.015625 41.984375 42.703125 \nQ 37.796875 48.390625 30.609375 48.390625 \nz\nM 30.609375 56 \nQ 42.328125 56 49.015625 48.375 \nQ 55.71875 40.765625 55.71875 27.296875 \nQ 55.71875 13.875 49.015625 6.21875 \nQ 42.328125 -1.421875 30.609375 -1.421875 \nQ 18.84375 -1.421875 12.171875 6.21875 \nQ 5.515625 13.875 5.515625 27.296875 \nQ 5.515625 40.765625 12.171875 48.375 \nQ 18.84375 56 30.609375 56 \nz\n\" id=\"DejaVuSans-111\"/>\n    <path d=\"M 41.109375 46.296875 \nQ 39.59375 47.171875 37.8125 47.578125 \nQ 36.03125 48 33.890625 48 \nQ 26.265625 48 22.1875 43.046875 \nQ 18.109375 38.09375 18.109375 28.8125 \nL 18.109375 0 \nL 9.078125 0 \nL 9.078125 54.6875 \nL 18.109375 54.6875 \nL 18.109375 46.1875 \nQ 20.953125 51.171875 25.484375 53.578125 \nQ 30.03125 56 36.53125 56 \nQ 37.453125 56 38.578125 55.875 \nQ 39.703125 55.765625 41.0625 55.515625 \nz\n\" id=\"DejaVuSans-114\"/>\n    <path d=\"M 9.421875 54.6875 \nL 18.40625 54.6875 \nL 18.40625 0 \nL 9.421875 0 \nz\nM 9.421875 75.984375 \nL 18.40625 75.984375 \nL 18.40625 64.59375 \nL 9.421875 64.59375 \nz\n\" id=\"DejaVuSans-105\"/>\n    <path d=\"M 18.3125 70.21875 \nL 18.3125 54.6875 \nL 36.8125 54.6875 \nL 36.8125 47.703125 \nL 18.3125 47.703125 \nL 18.3125 18.015625 \nQ 18.3125 11.328125 20.140625 9.421875 \nQ 21.96875 7.515625 27.59375 7.515625 \nL 36.8125 7.515625 \nL 36.8125 0 \nL 27.59375 0 \nQ 17.1875 0 13.234375 3.875 \nQ 9.28125 7.765625 9.28125 18.015625 \nL 9.28125 47.703125 \nL 2.6875 47.703125 \nL 2.6875 54.6875 \nL 9.28125 54.6875 \nL 9.28125 70.21875 \nz\n\" id=\"DejaVuSans-116\"/>\n    <path d=\"M 54.890625 33.015625 \nL 54.890625 0 \nL 45.90625 0 \nL 45.90625 32.71875 \nQ 45.90625 40.484375 42.875 44.328125 \nQ 39.84375 48.1875 33.796875 48.1875 \nQ 26.515625 48.1875 22.3125 43.546875 \nQ 18.109375 38.921875 18.109375 30.90625 \nL 18.109375 0 \nL 9.078125 0 \nL 9.078125 75.984375 \nL 18.109375 75.984375 \nL 18.109375 46.1875 \nQ 21.34375 51.125 25.703125 53.5625 \nQ 30.078125 56 35.796875 56 \nQ 45.21875 56 50.046875 50.171875 \nQ 54.890625 44.34375 54.890625 33.015625 \nz\n\" id=\"DejaVuSans-104\"/>\n    <path d=\"M 52 44.1875 \nQ 55.375 50.25 60.0625 53.125 \nQ 64.75 56 71.09375 56 \nQ 79.640625 56 84.28125 50.015625 \nQ 88.921875 44.046875 88.921875 33.015625 \nL 88.921875 0 \nL 79.890625 0 \nL 79.890625 32.71875 \nQ 79.890625 40.578125 77.09375 44.375 \nQ 74.3125 48.1875 68.609375 48.1875 \nQ 61.625 48.1875 57.5625 43.546875 \nQ 53.515625 38.921875 53.515625 30.90625 \nL 53.515625 0 \nL 44.484375 0 \nL 44.484375 32.71875 \nQ 44.484375 40.625 41.703125 44.40625 \nQ 38.921875 48.1875 33.109375 48.1875 \nQ 26.21875 48.1875 22.15625 43.53125 \nQ 18.109375 38.875 18.109375 30.90625 \nL 18.109375 0 \nL 9.078125 0 \nL 9.078125 54.6875 \nL 18.109375 54.6875 \nL 18.109375 46.1875 \nQ 21.1875 51.21875 25.484375 53.609375 \nQ 29.78125 56 35.6875 56 \nQ 41.65625 56 45.828125 52.96875 \nQ 50 49.953125 52 44.1875 \nz\n\" id=\"DejaVuSans-109\"/>\n    <path id=\"DejaVuSans-32\"/>\n    <path d=\"M 64.40625 67.28125 \nL 64.40625 56.890625 \nQ 59.421875 61.53125 53.78125 63.8125 \nQ 48.140625 66.109375 41.796875 66.109375 \nQ 29.296875 66.109375 22.65625 58.46875 \nQ 16.015625 50.828125 16.015625 36.375 \nQ 16.015625 21.96875 22.65625 14.328125 \nQ 29.296875 6.6875 41.796875 6.6875 \nQ 48.140625 6.6875 53.78125 8.984375 \nQ 59.421875 11.28125 64.40625 15.921875 \nL 64.40625 5.609375 \nQ 59.234375 2.09375 53.4375 0.328125 \nQ 47.65625 -1.421875 41.21875 -1.421875 \nQ 24.65625 -1.421875 15.125 8.703125 \nQ 5.609375 18.84375 5.609375 36.375 \nQ 5.609375 53.953125 15.125 64.078125 \nQ 24.65625 74.21875 41.21875 74.21875 \nQ 47.75 74.21875 53.53125 72.484375 \nQ 59.328125 70.75 64.40625 67.28125 \nz\n\" id=\"DejaVuSans-67\"/>\n    <path d=\"M 18.109375 8.203125 \nL 18.109375 -20.796875 \nL 9.078125 -20.796875 \nL 9.078125 54.6875 \nL 18.109375 54.6875 \nL 18.109375 46.390625 \nQ 20.953125 51.265625 25.265625 53.625 \nQ 29.59375 56 35.59375 56 \nQ 45.5625 56 51.78125 48.09375 \nQ 58.015625 40.1875 58.015625 27.296875 \nQ 58.015625 14.40625 51.78125 6.484375 \nQ 45.5625 -1.421875 35.59375 -1.421875 \nQ 29.59375 -1.421875 25.265625 0.953125 \nQ 20.953125 3.328125 18.109375 8.203125 \nz\nM 48.6875 27.296875 \nQ 48.6875 37.203125 44.609375 42.84375 \nQ 40.53125 48.484375 33.40625 48.484375 \nQ 26.265625 48.484375 22.1875 42.84375 \nQ 18.109375 37.203125 18.109375 27.296875 \nQ 18.109375 17.390625 22.1875 11.75 \nQ 26.265625 6.109375 33.40625 6.109375 \nQ 40.53125 6.109375 44.609375 11.75 \nQ 48.6875 17.390625 48.6875 27.296875 \nz\n\" id=\"DejaVuSans-112\"/>\n    <path d=\"M 34.28125 27.484375 \nQ 23.390625 27.484375 19.1875 25 \nQ 14.984375 22.515625 14.984375 16.5 \nQ 14.984375 11.71875 18.140625 8.90625 \nQ 21.296875 6.109375 26.703125 6.109375 \nQ 34.1875 6.109375 38.703125 11.40625 \nQ 43.21875 16.703125 43.21875 25.484375 \nL 43.21875 27.484375 \nz\nM 52.203125 31.203125 \nL 52.203125 0 \nL 43.21875 0 \nL 43.21875 8.296875 \nQ 40.140625 3.328125 35.546875 0.953125 \nQ 30.953125 -1.421875 24.3125 -1.421875 \nQ 15.921875 -1.421875 10.953125 3.296875 \nQ 6 8.015625 6 15.921875 \nQ 6 25.140625 12.171875 29.828125 \nQ 18.359375 34.515625 30.609375 34.515625 \nL 43.21875 34.515625 \nL 43.21875 35.40625 \nQ 43.21875 41.609375 39.140625 45 \nQ 35.0625 48.390625 27.6875 48.390625 \nQ 23 48.390625 18.546875 47.265625 \nQ 14.109375 46.140625 10.015625 43.890625 \nL 10.015625 52.203125 \nQ 14.9375 54.109375 19.578125 55.046875 \nQ 24.21875 56 28.609375 56 \nQ 40.484375 56 46.34375 49.84375 \nQ 52.203125 43.703125 52.203125 31.203125 \nz\n\" id=\"DejaVuSans-97\"/>\n    <path d=\"M 44.28125 53.078125 \nL 44.28125 44.578125 \nQ 40.484375 46.53125 36.375 47.5 \nQ 32.28125 48.484375 27.875 48.484375 \nQ 21.1875 48.484375 17.84375 46.4375 \nQ 14.5 44.390625 14.5 40.28125 \nQ 14.5 37.15625 16.890625 35.375 \nQ 19.28125 33.59375 26.515625 31.984375 \nL 29.59375 31.296875 \nQ 39.15625 29.25 43.1875 25.515625 \nQ 47.21875 21.78125 47.21875 15.09375 \nQ 47.21875 7.46875 41.1875 3.015625 \nQ 35.15625 -1.421875 24.609375 -1.421875 \nQ 20.21875 -1.421875 15.453125 -0.5625 \nQ 10.6875 0.296875 5.421875 2 \nL 5.421875 11.28125 \nQ 10.40625 8.6875 15.234375 7.390625 \nQ 20.0625 6.109375 24.8125 6.109375 \nQ 31.15625 6.109375 34.5625 8.28125 \nQ 37.984375 10.453125 37.984375 14.40625 \nQ 37.984375 18.0625 35.515625 20.015625 \nQ 33.0625 21.96875 24.703125 23.78125 \nL 21.578125 24.515625 \nQ 13.234375 26.265625 9.515625 29.90625 \nQ 5.8125 33.546875 5.8125 39.890625 \nQ 5.8125 47.609375 11.28125 51.796875 \nQ 16.75 56 26.8125 56 \nQ 31.78125 56 36.171875 55.265625 \nQ 40.578125 54.546875 44.28125 53.078125 \nz\n\" id=\"DejaVuSans-115\"/>\n    <path d=\"M 54.890625 33.015625 \nL 54.890625 0 \nL 45.90625 0 \nL 45.90625 32.71875 \nQ 45.90625 40.484375 42.875 44.328125 \nQ 39.84375 48.1875 33.796875 48.1875 \nQ 26.515625 48.1875 22.3125 43.546875 \nQ 18.109375 38.921875 18.109375 30.90625 \nL 18.109375 0 \nL 9.078125 0 \nL 9.078125 54.6875 \nL 18.109375 54.6875 \nL 18.109375 46.1875 \nQ 21.34375 51.125 25.703125 53.5625 \nQ 30.078125 56 35.796875 56 \nQ 45.21875 56 50.046875 50.171875 \nQ 54.890625 44.34375 54.890625 33.015625 \nz\n\" id=\"DejaVuSans-110\"/>\n   </defs>\n   <g transform=\"translate(136.452188 16.318125)scale(0.12 -0.12)\">\n    <use xlink:href=\"#DejaVuSans-65\"/>\n    <use x=\"68.408203\" xlink:href=\"#DejaVuSans-108\"/>\n    <use x=\"96.191406\" xlink:href=\"#DejaVuSans-103\"/>\n    <use x=\"159.667969\" xlink:href=\"#DejaVuSans-111\"/>\n    <use x=\"220.849609\" xlink:href=\"#DejaVuSans-114\"/>\n    <use x=\"261.962891\" xlink:href=\"#DejaVuSans-105\"/>\n    <use x=\"289.746094\" xlink:href=\"#DejaVuSans-116\"/>\n    <use x=\"328.955078\" xlink:href=\"#DejaVuSans-104\"/>\n    <use x=\"392.333984\" xlink:href=\"#DejaVuSans-109\"/>\n    <use x=\"489.746094\" xlink:href=\"#DejaVuSans-32\"/>\n    <use x=\"521.533203\" xlink:href=\"#DejaVuSans-67\"/>\n    <use x=\"591.357422\" xlink:href=\"#DejaVuSans-111\"/>\n    <use x=\"652.539062\" xlink:href=\"#DejaVuSans-109\"/>\n    <use x=\"749.951172\" xlink:href=\"#DejaVuSans-112\"/>\n    <use x=\"813.427734\" xlink:href=\"#DejaVuSans-97\"/>\n    <use x=\"874.707031\" xlink:href=\"#DejaVuSans-114\"/>\n    <use x=\"915.820312\" xlink:href=\"#DejaVuSans-105\"/>\n    <use x=\"943.603516\" xlink:href=\"#DejaVuSans-115\"/>\n    <use x=\"995.703125\" xlink:href=\"#DejaVuSans-111\"/>\n    <use x=\"1056.884766\" xlink:href=\"#DejaVuSans-110\"/>\n   </g>\n  </g>\n </g>\n <defs>\n  <clipPath id=\"p9e72c772e3\">\n   <rect height=\"217.44\" width=\"334.8\" x=\"41.667188\" y=\"36\"/>\n  </clipPath>\n </defs>\n</svg>\n",
      "image/png": "[encoded data removed]"
     },
     "metadata": {
      "needs_background": "light"
     }
    }
   ],
   "source": [
    "# prepare configuration for cross validation test harness\n",
    "seed = 7\n",
    "\n",
    "# prepare models\n",
    "models = []\n",
    "models.append(('LR', LinearRegression()))\n",
    "models.append(('PR', LinearRegression()))\n",
    "models.append(('SVR', SVR(kernel = 'rbf')))\n",
    "models.append(('DTR', DecisionTreeRegressor()))\n",
    "models.append(('RFR', RandomForestRegressor(n_estimators = 10)))\n",
    "\n",
    "\n",
    "# evaluate each model in turn\n",
    "results = []\n",
    "names = []\n",
    "scoring = 'neg_mean_absolute_error'\n",
    "for name, model in models:\n",
    "    kfold = model_selection.KFold(n_splits=4, random_state=7)\n",
    "    if name == 'PR':\n",
    "        poly_reg = PolynomialFeatures(degree = 4)\n",
    "        X_poly = poly_reg.fit_transform(X_train)\n",
    "        cv_results = model_selection.cross_val_score(model, X_poly, y_train.ravel(), cv=kfold, scoring=scoring)\n",
    "    else:\n",
    "        cv_results = model_selection.cross_val_score(model, X_train, y_train.ravel(), cv=kfold, scoring=scoring)\n",
    "\n",
    "    results.append(cv_results)\n",
    "    names.append(name)\n",
    "    msg = \"%s: %f (%f)\" % (name, cv_results.mean(), cv_results.std())\n",
    "\n",
    "# boxplot algorithm comparison\n",
    "fig = plt.figure()\n",
    "fig.suptitle('Algorithm Comparison')\n",
    "ax = fig.add_subplot(111)\n",
    "plt.boxplot(results)\n",
    "ax.set_xticklabels(names)\n",
    "plt.show()\n"
   ]
  },
  {
   "cell_type": "code",
   "execution_count": null,
   "metadata": {},
   "outputs": [],
   "source": [
    "para clasificar por clases\n",
    "dataframe.groupby('clase').size()\n",
    "\n",
    "para crear modelo\n",
    "dataframe.drop(['clase'], 1)"
   ]
  }
 ],
 "metadata": {
  "language_info": {
   "codemirror_mode": {
    "name": "ipython",
    "version": 3
   },
   "file_extension": ".py",
   "mimetype": "text/x-python",
   "name": "python",
   "nbconvert_exporter": "python",
   "pygments_lexer": "ipython3",
   "version": "3.8.5-final"
  },
  "orig_nbformat": 2,
  "kernelspec": {
   "name": "python_defaultSpec_1600326127261",
   "display_name": "Python 3.8.3 64-bit"
  }
 },
 "nbformat": 4,
 "nbformat_minor": 2
}