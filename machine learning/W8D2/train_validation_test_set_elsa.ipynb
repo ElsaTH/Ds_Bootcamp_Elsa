{
 "metadata": {
  "language_info": {
   "codemirror_mode": {
    "name": "ipython",
    "version": 3
   },
   "file_extension": ".py",
   "mimetype": "text/x-python",
   "name": "python",
   "nbconvert_exporter": "python",
   "pygments_lexer": "ipython3",
   "version": "3.8.3-final"
  },
  "orig_nbformat": 2,
  "kernelspec": {
   "name": "python_defaultSpec_1599324468430",
   "display_name": "Python 3.8.3 64-bit"
  }
 },
 "nbformat": 4,
 "nbformat_minor": 2,
 "cells": [
  {
   "cell_type": "markdown",
   "metadata": {},
   "source": [
    "1. \n",
    "\n",
    "Crear una función que reciba cuatro parámetros: una lista 'L', un número 'T', un número 'V' y un booleano 'S'. La función debe devolver otras dos listas: \"lista_train_val\" y \"lista_test\".\n",
    "\n",
    "- \"lista_train_val\" es una lista con dos elementos. Cada elemento es una lista: \"list_train\", que representa el conjunto de entrenamiento y \"list_val\", que representa el conjunto de validación. \n",
    "- \"list_test\" es el conjunto de test. Como mínimo ha de tener 1 elemento (si 'L' > 1).\n",
    "- \"L\" es cualquier lista de elementos. Al principio, entra con un tamaño completo (100%). Esta es la lista que se partirá y se generarán los conjuntos entrenamiento, de validación y de test.\n",
    "- \"T\" es un número entre 1 y 100 que va a representar el tamaño, en porcentaje, del conjunto de test \"list_test\". \n",
    "- \"V\" es un número entre 0 y 100 que va a representar el tamaño, en porcentaje, del conjunto de validación \"list_val\". Su valor por defecto es 0.\n",
    "- \"S\", que por defecto es False, determinará si los conjuntos \"list_train\", \"list_test\" y \"list_val\" son aleatoriamente ordenados. ¿Encuentras alguna posible incoherencia si se reordenan aleatoriamente?\n",
    "\n",
    "Prueba la función con una lista de 100 elementos números aleatorios del 0 al 100. \n",
    "\n",
    "2. \n",
    "\n",
    "Rehacer el ejercicio anterior en otra función para que no devuelva dos listas, sino los tres conjuntos: \n",
    "\n",
    "--> return list_train, list_val, list_test "
   ]
  },
  {
   "cell_type": "code",
   "execution_count": null,
   "metadata": {},
   "outputs": [],
   "source": []
  },
  {
   "cell_type": "code",
   "execution_count": null,
   "metadata": {},
   "outputs": [],
   "source": [
    "Parametros:\n",
    "lista_train_val --> [a,b]\n",
    "a = cada elem list_train es conjunto de entrenamiento\n",
    "b = cada elem list_val conjunto validación\n",
    "list_test minimo 1 elem if \"L\" >1 porcentaje  list_test = len(L)*T/100\n",
    "lista --> L \n",
    "numero --> T --> numero entre 1-100  representa porcentaje conjunto test T/100\n",
    "numero --> V --> numero entre 0-100 tamaño porcentaje conjunto validacion V = list_val = 0\n",
    "booleano --> S = False   Determina si list_train, list_test y list_val son aleatoriamente ordenados. Utilizar: shuffle()método toma una secuencia (lista, cadena o tupla) y reorganiza el orden de los elementos.\n",
    "\n",
    "funcion(L,T,V,S):\n",
    "devolver dos listas:\n",
    "lista_train_val\n",
    "lista_test\n",
    "\n"
   ]
  },
  {
   "cell_type": "markdown",
   "metadata": {},
   "source": [
    "Importamos librerías"
   ]
  },
  {
   "cell_type": "code",
   "execution_count": 115,
   "metadata": {},
   "outputs": [],
   "source": [
    "import random\n",
    "import numpy as np \n",
    "import matplotlib.pyplot as plt"
   ]
  },
  {
   "cell_type": "code",
   "execution_count": 121,
   "metadata": {},
   "outputs": [],
   "source": [
    "from sklearn.metrics import mean_squared_error, mean_absolute_error\n",
    "from sklearn.model_selection import train_test_split\n",
    "# Creamos dos listas vacías:\n",
    "lista_train_val, lista_test = [], []\n",
    "# Generamos una lista de 100 números:\n",
    "L = np.arange(100)\n",
    "\n",
    "# Definimos una función con los parámetros del enunciado: el conjunto de validación V=0 --> T=100\n",
    "def train_validation_test_set(L,T=100,V=0,S=False):\n",
    "    # Definimos si S está o no ordenado:\n",
    "    if S == False:\n",
    "        random.shuffle(L)\n",
    "    elif S == True:\n",
    "        L.sort()\n",
    "    \n",
    "    list_test = L[0 : int((len(L))*(T/100))]\n",
    "    list_train = L[int((len(L))*(T/100)):]\n",
    "\n",
    "    # Añadimos elementos a la lista:   \n",
    "    lista_train_val.append(list_train)\n",
    "    lista_test.append(list_test)\n",
    "   \n",
    "    return lista_train_val, lista_test\n",
    "\n"
   ]
  },
  {
   "cell_type": "code",
   "execution_count": 122,
   "metadata": {
    "tags": []
   },
   "outputs": [
    {
     "output_type": "execute_result",
     "data": {
      "text/plain": "([array([], dtype=int64)],\n [array([62, 52, 28, 86, 74,  0, 34,  8, 24, 18, 48, 99, 71, 83, 82, 67, 45,\n         20, 15, 17, 93, 39, 12,  5, 92,  7,  1, 64, 27, 54, 76, 89, 55, 43,\n          4, 32, 23, 60, 41, 10, 97, 44, 50, 70, 30, 16, 87, 91, 66, 75, 79,\n         84, 63, 78, 26, 57, 94, 77, 85, 37, 80, 51, 61, 11, 25, 73, 81, 33,\n         98, 31, 53, 46, 72, 29, 65,  9, 90, 36, 95, 88,  3, 58, 96, 47, 19,\n         49, 40,  2, 42, 14, 56,  6, 13, 22, 35, 68, 38, 21, 69, 59])])"
     },
     "metadata": {},
     "execution_count": 122
    }
   ],
   "source": [
    "# Validación del test: \n",
    "train_validation_test_set(L=L, T=100, V=0, S=False) "
   ]
  },
  {
   "cell_type": "code",
   "execution_count": 123,
   "metadata": {
    "tags": []
   },
   "outputs": [
    {
     "output_type": "execute_result",
     "data": {
      "text/plain": "([array([], dtype=int64),\n  array([88, 90, 20, 31, 60, 58, 82, 73, 79, 22, 21, 52, 23, 15, 13, 59, 19,\n         17, 16, 89])],\n [array([ 2, 30, 97, 75, 43, 24, 50,  5, 78, 37, 61, 35, 41, 51, 54,  3, 93,\n          9, 72,  6, 39, 94,  4, 32,  8, 36, 99, 25,  0, 92, 34, 33,  1, 80,\n         18, 96, 45, 71, 63, 55, 77, 48, 57, 98, 28, 29, 14, 56, 68, 49, 66,\n         76, 27, 86, 81, 64, 83, 69, 53, 10, 44, 11, 70, 47, 42, 46, 84, 26,\n         62, 95, 67, 91, 85, 40, 38, 12,  7, 65, 74, 87, 88, 90, 20, 31, 60,\n         58, 82, 73, 79, 22, 21, 52, 23, 15, 13, 59, 19, 17, 16, 89]),\n  array([ 2, 30, 97, 75, 43, 24, 50,  5, 78, 37, 61, 35, 41, 51, 54,  3, 93,\n          9, 72,  6, 39, 94,  4, 32,  8, 36, 99, 25,  0, 92, 34, 33,  1, 80,\n         18, 96, 45, 71, 63, 55, 77, 48, 57, 98, 28, 29, 14, 56, 68, 49, 66,\n         76, 27, 86, 81, 64, 83, 69, 53, 10, 44, 11, 70, 47, 42, 46, 84, 26,\n         62, 95, 67, 91, 85, 40, 38, 12,  7, 65, 74, 87])])"
     },
     "metadata": {},
     "execution_count": 123
    }
   ],
   "source": [
    "# Pruebo cambiando porcentajes 80-20 %\n",
    "train_validation_test_set(L=L, T=80, V=20, S=False) "
   ]
  },
  {
   "cell_type": "code",
   "execution_count": 124,
   "metadata": {},
   "outputs": [],
   "source": [
    "# Creamos dos listas vacías:\n",
    "lista_train, lista_test, lista_val= [], [], []\n",
    "# Generamos una lista de 100 números:\n",
    "L = np.arange(100)\n",
    "\n",
    "\n",
    "# Definimos una función con los parámetros del enunciado: el conjunto de validación V=0 --> T=100\n",
    "def train_validation_test_set(L,T=100,V=0,S=False):\n",
    "    # Definimos si S está o no ordenado:\n",
    "    if S == False:\n",
    "        random.shuffle(L)\n",
    "    elif S == True:\n",
    "        L.sort()\n",
    "    \n",
    "    list_test = L[0 : (int((len(L))*(T/100))- int((len(L))*(V/100)))]\n",
    "    list_train = L[int((len(L))*(T/100)):]\n",
    "    list_val = L[0:int((len(L))*(V/100))]\n",
    "    # Añadimos elementos a la lista:   \n",
    "    lista_train_val.append(list_train)\n",
    "    lista_test.append(list_test)\n",
    "    lista_val.append(list_val)\n",
    "\n",
    "\n",
    "    return lista_train, lista_test,lista_val"
   ]
  },
  {
   "cell_type": "code",
   "execution_count": 125,
   "metadata": {
    "tags": []
   },
   "outputs": [
    {
     "output_type": "execute_result",
     "data": {
      "text/plain": "([],\n [array([84, 28, 76, 61, 73, 64, 12, 83, 60, 16, 32, 80, 39,  1, 62, 17, 52,\n          7, 74, 24, 77, 88, 59, 37, 21,  9, 86, 43, 57, 41, 70, 42,  3, 53,\n         65, 55, 78, 45, 75,  5, 44, 50, 63, 56, 71, 99, 58, 92,  8, 23, 10,\n          6, 68, 26, 54, 51, 13, 25,  0, 85])],\n [array([84, 28, 76, 61, 73, 64, 12, 83, 60, 16, 32, 80, 39,  1, 62, 17, 52,\n          7, 74, 24])])"
     },
     "metadata": {},
     "execution_count": 125
    }
   ],
   "source": [
    "train_validation_test_set(L=L, T=80, V=20, S=False) "
   ]
  },
  {
   "cell_type": "code",
   "execution_count": null,
   "metadata": {},
   "outputs": [],
   "source": [
    "##### NO ESTOY SEGURA SI AMBOS EJERCICIOS ESTÁN BIEN EJECUTADOS ######\n",
    "\n",
    "tengo que revisarlos con la corrección y cambiar el nombre a una de las funciones, se llaman las dos igual"
   ]
  }
 ]
}