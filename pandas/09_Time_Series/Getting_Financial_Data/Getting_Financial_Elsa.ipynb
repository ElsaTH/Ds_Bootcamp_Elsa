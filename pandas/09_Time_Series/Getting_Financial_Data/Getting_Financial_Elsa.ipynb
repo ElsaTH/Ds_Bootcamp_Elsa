{
 "cells": [
  {
   "cell_type": "markdown",
   "metadata": {},
   "source": [
    "# Getting Financial Data - Google Finance"
   ]
  },
  {
   "cell_type": "markdown",
   "metadata": {},
   "source": [
    "### Introduction:\n",
    "\n",
    "This time you will get data from a website.\n",
    "\n",
    "\n",
    "### Step 1. Import the necessary libraries"
   ]
  },
  {
   "cell_type": "code",
   "execution_count": 7,
   "metadata": {
    "collapsed": false
   },
   "outputs": [],
   "source": [
    "import pandas as pd\n",
    "\n",
    "# package to extract data from various Internet sources into a DataFrame\n",
    "# make sure you have it installed\n",
    "from pandas_datareader import data, wb\n",
    "\n",
    "# package for dates\n",
    "import datetime as dt"
   ]
  },
  {
   "cell_type": "markdown",
   "metadata": {},
   "source": [
    "### Step 2. Create your time range (start and end variables). The start date should be 01/01/2015 and the end should today (whatever your today is)"
   ]
  },
  {
   "cell_type": "code",
   "execution_count": 8,
   "metadata": {
    "collapsed": false
   },
   "outputs": [
    {
     "output_type": "execute_result",
     "data": {
      "text/plain": "datetime.datetime(2015, 1, 1, 0, 0)"
     },
     "metadata": {},
     "execution_count": 8
    }
   ],
   "source": [
    "start = dt.datetime(2015, 1, 1)\n",
    "\n",
    "end = dt.datetime.today()\n",
    "\n",
    "start"
   ]
  },
  {
   "cell_type": "markdown",
   "metadata": {},
   "source": [
    "### Step 3. Select the Apple, Tesla, Twitter, IBM, LinkedIn stocks symbols and assign them to a variable called stocks"
   ]
  },
  {
   "cell_type": "code",
   "execution_count": 9,
   "metadata": {
    "collapsed": false
   },
   "outputs": [],
   "source": [
    "stocks = ['AAPL', 'TSLA', 'IBM', 'LNKD']"
   ]
  },
  {
   "cell_type": "markdown",
   "metadata": {},
   "source": [
    "### Step 4. Read the data from google, assign to df and print it"
   ]
  },
  {
   "cell_type": "code",
   "execution_count": 10,
   "metadata": {},
   "outputs": [
    {
     "output_type": "execute_result",
     "data": {
      "text/plain": "Attributes   Adj Close                                     Close               \\\nSymbols           AAPL         TSLA         IBM LNKD        AAPL         TSLA   \nDate                                                                            \n2015-01-02   99.945885   219.309998  127.531136  NaN  109.330002   219.309998   \n2015-01-05   97.130241   210.089996  125.524490  NaN  106.250000   210.089996   \n2015-01-06   97.139420   211.279999  122.817429  NaN  106.260002   211.279999   \n2015-01-07   98.501518   210.949997  122.014748  NaN  107.750000   210.949997   \n2015-01-08  102.286186   210.619995  124.666725  NaN  111.889999   210.619995   \n...                ...          ...         ...  ...         ...          ...   \n2020-07-22  389.089996  1592.329956  128.669998  NaN  389.089996  1592.329956   \n2020-07-23  371.380005  1513.069946  127.330002  NaN  371.380005  1513.069946   \n2020-07-24  370.459991  1417.000000  125.790001  NaN  370.459991  1417.000000   \n2020-07-27  379.239990  1539.599976  126.209999  NaN  379.239990  1539.599976   \n2020-07-28  373.010010  1476.489990  124.470001  NaN  373.010010  1476.489990   \n\nAttributes                         High               ...         Low       \\\nSymbols            IBM LNKD        AAPL         TSLA  ...         IBM LNKD   \nDate                                                  ...                    \n2015-01-02  162.059998  NaN  111.440002   223.250000  ...  161.000000  NaN   \n2015-01-05  159.509995  NaN  108.650002   216.500000  ...  159.190002  NaN   \n2015-01-06  156.070007  NaN  107.430000   214.199997  ...  155.169998  NaN   \n2015-01-07  155.050003  NaN  108.199997   214.779999  ...  154.029999  NaN   \n2015-01-08  158.419998  NaN  112.150002   213.800003  ...  155.550003  NaN   \n...                ...  ...         ...          ...  ...         ...  ...   \n2020-07-22  128.669998  NaN  391.899994  1626.420044  ...  125.800003  NaN   \n2020-07-23  127.330002  NaN  388.309998  1689.000000  ...  127.150002  NaN   \n2020-07-24  125.790001  NaN  371.880005  1465.000000  ...  125.500000  NaN   \n2020-07-27  126.209999  NaN  379.619995  1547.939941  ...  124.709999  NaN   \n2020-07-28  124.470001  NaN  378.200012  1564.699951  ...  124.150002  NaN   \n\nAttributes        Open                                    Volume              \\\nSymbols           AAPL         TSLA         IBM LNKD        AAPL        TSLA   \nDate                                                                           \n2015-01-02  111.389999   222.869995  161.309998  NaN  53204600.0   4764400.0   \n2015-01-05  108.290001   214.550003  161.270004  NaN  64285500.0   5368500.0   \n2015-01-06  106.540001   210.059998  159.669998  NaN  65797100.0   6261900.0   \n2015-01-07  107.199997   213.350006  157.199997  NaN  40105900.0   2968400.0   \n2015-01-08  109.230003   212.809998  156.240005  NaN  59364500.0   3442500.0   \n...                ...          ...         ...  ...         ...         ...   \n2020-07-22  386.769989  1599.000000  125.900002  NaN  22250400.0  14161100.0   \n2020-07-23  387.989990  1678.949951  129.100006  NaN  49251100.0  24328500.0   \n2020-07-24  363.950012  1416.010010  126.480003  NaN  46359700.0  19396600.0   \n2020-07-27  374.839996  1435.000000  124.860001  NaN  30303500.0  16048700.0   \n2020-07-28  377.470001  1504.000000  125.820000  NaN  25864000.0  15773400.0   \n\nAttributes                  \nSymbols           IBM LNKD  \nDate                        \n2015-01-02  5525500.0  NaN  \n2015-01-05  4880400.0  NaN  \n2015-01-06  6146700.0  NaN  \n2015-01-07  4701800.0  NaN  \n2015-01-08  4236800.0  NaN  \n...               ...  ...  \n2020-07-22  8195400.0  NaN  \n2020-07-23  4220100.0  NaN  \n2020-07-24  3531100.0  NaN  \n2020-07-27  3733400.0  NaN  \n2020-07-28  4177500.0  NaN  \n\n[1402 rows x 24 columns]",
      "text/html": "<div>\n<style scoped>\n    .dataframe tbody tr th:only-of-type {\n        vertical-align: middle;\n    }\n\n    .dataframe tbody tr th {\n        vertical-align: top;\n    }\n\n    .dataframe thead tr th {\n        text-align: left;\n    }\n\n    .dataframe thead tr:last-of-type th {\n        text-align: right;\n    }\n</style>\n<table border=\"1\" class=\"dataframe\">\n  <thead>\n    <tr>\n      <th>Attributes</th>\n      <th colspan=\"4\" halign=\"left\">Adj Close</th>\n      <th colspan=\"4\" halign=\"left\">Close</th>\n      <th colspan=\"2\" halign=\"left\">High</th>\n      <th>...</th>\n      <th colspan=\"2\" halign=\"left\">Low</th>\n      <th colspan=\"4\" halign=\"left\">Open</th>\n      <th colspan=\"4\" halign=\"left\">Volume</th>\n    </tr>\n    <tr>\n      <th>Symbols</th>\n      <th>AAPL</th>\n      <th>TSLA</th>\n      <th>IBM</th>\n      <th>LNKD</th>\n      <th>AAPL</th>\n      <th>TSLA</th>\n      <th>IBM</th>\n      <th>LNKD</th>\n      <th>AAPL</th>\n      <th>TSLA</th>\n      <th>...</th>\n      <th>IBM</th>\n      <th>LNKD</th>\n      <th>AAPL</th>\n      <th>TSLA</th>\n      <th>IBM</th>\n      <th>LNKD</th>\n      <th>AAPL</th>\n      <th>TSLA</th>\n      <th>IBM</th>\n      <th>LNKD</th>\n    </tr>\n    <tr>\n      <th>Date</th>\n      <th></th>\n      <th></th>\n      <th></th>\n      <th></th>\n      <th></th>\n      <th></th>\n      <th></th>\n      <th></th>\n      <th></th>\n      <th></th>\n      <th></th>\n      <th></th>\n      <th></th>\n      <th></th>\n      <th></th>\n      <th></th>\n      <th></th>\n      <th></th>\n      <th></th>\n      <th></th>\n      <th></th>\n    </tr>\n  </thead>\n  <tbody>\n    <tr>\n      <th>2015-01-02</th>\n      <td>99.945885</td>\n      <td>219.309998</td>\n      <td>127.531136</td>\n      <td>NaN</td>\n      <td>109.330002</td>\n      <td>219.309998</td>\n      <td>162.059998</td>\n      <td>NaN</td>\n      <td>111.440002</td>\n      <td>223.250000</td>\n      <td>...</td>\n      <td>161.000000</td>\n      <td>NaN</td>\n      <td>111.389999</td>\n      <td>222.869995</td>\n      <td>161.309998</td>\n      <td>NaN</td>\n      <td>53204600.0</td>\n      <td>4764400.0</td>\n      <td>5525500.0</td>\n      <td>NaN</td>\n    </tr>\n    <tr>\n      <th>2015-01-05</th>\n      <td>97.130241</td>\n      <td>210.089996</td>\n      <td>125.524490</td>\n      <td>NaN</td>\n      <td>106.250000</td>\n      <td>210.089996</td>\n      <td>159.509995</td>\n      <td>NaN</td>\n      <td>108.650002</td>\n      <td>216.500000</td>\n      <td>...</td>\n      <td>159.190002</td>\n      <td>NaN</td>\n      <td>108.290001</td>\n      <td>214.550003</td>\n      <td>161.270004</td>\n      <td>NaN</td>\n      <td>64285500.0</td>\n      <td>5368500.0</td>\n      <td>4880400.0</td>\n      <td>NaN</td>\n    </tr>\n    <tr>\n      <th>2015-01-06</th>\n      <td>97.139420</td>\n      <td>211.279999</td>\n      <td>122.817429</td>\n      <td>NaN</td>\n      <td>106.260002</td>\n      <td>211.279999</td>\n      <td>156.070007</td>\n      <td>NaN</td>\n      <td>107.430000</td>\n      <td>214.199997</td>\n      <td>...</td>\n      <td>155.169998</td>\n      <td>NaN</td>\n      <td>106.540001</td>\n      <td>210.059998</td>\n      <td>159.669998</td>\n      <td>NaN</td>\n      <td>65797100.0</td>\n      <td>6261900.0</td>\n      <td>6146700.0</td>\n      <td>NaN</td>\n    </tr>\n    <tr>\n      <th>2015-01-07</th>\n      <td>98.501518</td>\n      <td>210.949997</td>\n      <td>122.014748</td>\n      <td>NaN</td>\n      <td>107.750000</td>\n      <td>210.949997</td>\n      <td>155.050003</td>\n      <td>NaN</td>\n      <td>108.199997</td>\n      <td>214.779999</td>\n      <td>...</td>\n      <td>154.029999</td>\n      <td>NaN</td>\n      <td>107.199997</td>\n      <td>213.350006</td>\n      <td>157.199997</td>\n      <td>NaN</td>\n      <td>40105900.0</td>\n      <td>2968400.0</td>\n      <td>4701800.0</td>\n      <td>NaN</td>\n    </tr>\n    <tr>\n      <th>2015-01-08</th>\n      <td>102.286186</td>\n      <td>210.619995</td>\n      <td>124.666725</td>\n      <td>NaN</td>\n      <td>111.889999</td>\n      <td>210.619995</td>\n      <td>158.419998</td>\n      <td>NaN</td>\n      <td>112.150002</td>\n      <td>213.800003</td>\n      <td>...</td>\n      <td>155.550003</td>\n      <td>NaN</td>\n      <td>109.230003</td>\n      <td>212.809998</td>\n      <td>156.240005</td>\n      <td>NaN</td>\n      <td>59364500.0</td>\n      <td>3442500.0</td>\n      <td>4236800.0</td>\n      <td>NaN</td>\n    </tr>\n    <tr>\n      <th>...</th>\n      <td>...</td>\n      <td>...</td>\n      <td>...</td>\n      <td>...</td>\n      <td>...</td>\n      <td>...</td>\n      <td>...</td>\n      <td>...</td>\n      <td>...</td>\n      <td>...</td>\n      <td>...</td>\n      <td>...</td>\n      <td>...</td>\n      <td>...</td>\n      <td>...</td>\n      <td>...</td>\n      <td>...</td>\n      <td>...</td>\n      <td>...</td>\n      <td>...</td>\n      <td>...</td>\n    </tr>\n    <tr>\n      <th>2020-07-22</th>\n      <td>389.089996</td>\n      <td>1592.329956</td>\n      <td>128.669998</td>\n      <td>NaN</td>\n      <td>389.089996</td>\n      <td>1592.329956</td>\n      <td>128.669998</td>\n      <td>NaN</td>\n      <td>391.899994</td>\n      <td>1626.420044</td>\n      <td>...</td>\n      <td>125.800003</td>\n      <td>NaN</td>\n      <td>386.769989</td>\n      <td>1599.000000</td>\n      <td>125.900002</td>\n      <td>NaN</td>\n      <td>22250400.0</td>\n      <td>14161100.0</td>\n      <td>8195400.0</td>\n      <td>NaN</td>\n    </tr>\n    <tr>\n      <th>2020-07-23</th>\n      <td>371.380005</td>\n      <td>1513.069946</td>\n      <td>127.330002</td>\n      <td>NaN</td>\n      <td>371.380005</td>\n      <td>1513.069946</td>\n      <td>127.330002</td>\n      <td>NaN</td>\n      <td>388.309998</td>\n      <td>1689.000000</td>\n      <td>...</td>\n      <td>127.150002</td>\n      <td>NaN</td>\n      <td>387.989990</td>\n      <td>1678.949951</td>\n      <td>129.100006</td>\n      <td>NaN</td>\n      <td>49251100.0</td>\n      <td>24328500.0</td>\n      <td>4220100.0</td>\n      <td>NaN</td>\n    </tr>\n    <tr>\n      <th>2020-07-24</th>\n      <td>370.459991</td>\n      <td>1417.000000</td>\n      <td>125.790001</td>\n      <td>NaN</td>\n      <td>370.459991</td>\n      <td>1417.000000</td>\n      <td>125.790001</td>\n      <td>NaN</td>\n      <td>371.880005</td>\n      <td>1465.000000</td>\n      <td>...</td>\n      <td>125.500000</td>\n      <td>NaN</td>\n      <td>363.950012</td>\n      <td>1416.010010</td>\n      <td>126.480003</td>\n      <td>NaN</td>\n      <td>46359700.0</td>\n      <td>19396600.0</td>\n      <td>3531100.0</td>\n      <td>NaN</td>\n    </tr>\n    <tr>\n      <th>2020-07-27</th>\n      <td>379.239990</td>\n      <td>1539.599976</td>\n      <td>126.209999</td>\n      <td>NaN</td>\n      <td>379.239990</td>\n      <td>1539.599976</td>\n      <td>126.209999</td>\n      <td>NaN</td>\n      <td>379.619995</td>\n      <td>1547.939941</td>\n      <td>...</td>\n      <td>124.709999</td>\n      <td>NaN</td>\n      <td>374.839996</td>\n      <td>1435.000000</td>\n      <td>124.860001</td>\n      <td>NaN</td>\n      <td>30303500.0</td>\n      <td>16048700.0</td>\n      <td>3733400.0</td>\n      <td>NaN</td>\n    </tr>\n    <tr>\n      <th>2020-07-28</th>\n      <td>373.010010</td>\n      <td>1476.489990</td>\n      <td>124.470001</td>\n      <td>NaN</td>\n      <td>373.010010</td>\n      <td>1476.489990</td>\n      <td>124.470001</td>\n      <td>NaN</td>\n      <td>378.200012</td>\n      <td>1564.699951</td>\n      <td>...</td>\n      <td>124.150002</td>\n      <td>NaN</td>\n      <td>377.470001</td>\n      <td>1504.000000</td>\n      <td>125.820000</td>\n      <td>NaN</td>\n      <td>25864000.0</td>\n      <td>15773400.0</td>\n      <td>4177500.0</td>\n      <td>NaN</td>\n    </tr>\n  </tbody>\n</table>\n<p>1402 rows × 24 columns</p>\n</div>"
     },
     "metadata": {},
     "execution_count": 10
    }
   ],
   "source": [
    "df = data.DataReader(stocks, \"yahoo\", start, end)\n",
    "df"
   ]
  },
  {
   "cell_type": "markdown",
   "metadata": {},
   "source": [
    "### Step 5.  What is the type of structure of df ?"
   ]
  },
  {
   "cell_type": "code",
   "execution_count": 5,
   "metadata": {},
   "outputs": [
    {
     "output_type": "execute_result",
     "data": {
      "text/plain": "pandas.core.frame.DataFrame"
     },
     "metadata": {},
     "execution_count": 5
    }
   ],
   "source": [
    "type(df)"
   ]
  },
  {
   "cell_type": "code",
   "execution_count": null,
   "metadata": {
    "collapsed": false
   },
   "outputs": [],
   "source": [
    "# 'pandas.core.panel.Panel'"
   ]
  },
  {
   "cell_type": "markdown",
   "metadata": {},
   "source": [
    "### Step 6. Print all the Items axis values\n",
    "#### To learn more about the Panel structure go to [documentation](http://pandas.pydata.org/pandas-docs/stable/dsintro.html#panel) "
   ]
  },
  {
   "cell_type": "code",
   "execution_count": 22,
   "metadata": {
    "collapsed": false
   },
   "outputs": [
    {
     "output_type": "execute_result",
     "data": {
      "text/plain": "<bound method DataFrame.items of Attributes   Adj Close                                     Close               \\\nSymbols           AAPL         TSLA         IBM LNKD        AAPL         TSLA   \nDate                                                                            \n2015-01-02   99.945885   219.309998  127.531136  NaN  109.330002   219.309998   \n2015-01-05   97.130241   210.089996  125.524490  NaN  106.250000   210.089996   \n2015-01-06   97.139420   211.279999  122.817429  NaN  106.260002   211.279999   \n2015-01-07   98.501518   210.949997  122.014748  NaN  107.750000   210.949997   \n2015-01-08  102.286186   210.619995  124.666725  NaN  111.889999   210.619995   \n...                ...          ...         ...  ...         ...          ...   \n2020-07-22  389.089996  1592.329956  128.669998  NaN  389.089996  1592.329956   \n2020-07-23  371.380005  1513.069946  127.330002  NaN  371.380005  1513.069946   \n2020-07-24  370.459991  1417.000000  125.790001  NaN  370.459991  1417.000000   \n2020-07-27  379.239990  1539.599976  126.209999  NaN  379.239990  1539.599976   \n2020-07-28  373.010010  1476.489990  124.470001  NaN  373.010010  1476.489990   \n\nAttributes                         High               ...         Low       \\\nSymbols            IBM LNKD        AAPL         TSLA  ...         IBM LNKD   \nDate                                                  ...                    \n2015-01-02  162.059998  NaN  111.440002   223.250000  ...  161.000000  NaN   \n2015-01-05  159.509995  NaN  108.650002   216.500000  ...  159.190002  NaN   \n2015-01-06  156.070007  NaN  107.430000   214.199997  ...  155.169998  NaN   \n2015-01-07  155.050003  NaN  108.199997   214.779999  ...  154.029999  NaN   \n2015-01-08  158.419998  NaN  112.150002   213.800003  ...  155.550003  NaN   \n...                ...  ...         ...          ...  ...         ...  ...   \n2020-07-22  128.669998  NaN  391.899994  1626.420044  ...  125.800003  NaN   \n2020-07-23  127.330002  NaN  388.309998  1689.000000  ...  127.150002  NaN   \n2020-07-24  125.790001  NaN  371.880005  1465.000000  ...  125.500000  NaN   \n2020-07-27  126.209999  NaN  379.619995  1547.939941  ...  124.709999  NaN   \n2020-07-28  124.470001  NaN  378.200012  1564.699951  ...  124.150002  NaN   \n\nAttributes        Open                                    Volume              \\\nSymbols           AAPL         TSLA         IBM LNKD        AAPL        TSLA   \nDate                                                                           \n2015-01-02  111.389999   222.869995  161.309998  NaN  53204600.0   4764400.0   \n2015-01-05  108.290001   214.550003  161.270004  NaN  64285500.0   5368500.0   \n2015-01-06  106.540001   210.059998  159.669998  NaN  65797100.0   6261900.0   \n2015-01-07  107.199997   213.350006  157.199997  NaN  40105900.0   2968400.0   \n2015-01-08  109.230003   212.809998  156.240005  NaN  59364500.0   3442500.0   \n...                ...          ...         ...  ...         ...         ...   \n2020-07-22  386.769989  1599.000000  125.900002  NaN  22250400.0  14161100.0   \n2020-07-23  387.989990  1678.949951  129.100006  NaN  49251100.0  24328500.0   \n2020-07-24  363.950012  1416.010010  126.480003  NaN  46359700.0  19396600.0   \n2020-07-27  374.839996  1435.000000  124.860001  NaN  30303500.0  16048700.0   \n2020-07-28  377.470001  1504.000000  125.820000  NaN  25864000.0  15773400.0   \n\nAttributes                  \nSymbols           IBM LNKD  \nDate                        \n2015-01-02  5525500.0  NaN  \n2015-01-05  4880400.0  NaN  \n2015-01-06  6146700.0  NaN  \n2015-01-07  4701800.0  NaN  \n2015-01-08  4236800.0  NaN  \n...               ...  ...  \n2020-07-22  8195400.0  NaN  \n2020-07-23  4220100.0  NaN  \n2020-07-24  3531100.0  NaN  \n2020-07-27  3733400.0  NaN  \n2020-07-28  4177500.0  NaN  \n\n[1402 rows x 24 columns]>"
     },
     "metadata": {},
     "execution_count": 22
    }
   ],
   "source": [
    "df.items"
   ]
  },
  {
   "cell_type": "markdown",
   "metadata": {},
   "source": [
    "### Step 7. Good, now we know  the data avaiable. Create a dataFrame called vol, with the Volume values."
   ]
  },
  {
   "cell_type": "code",
   "execution_count": 15,
   "metadata": {
    "collapsed": false
   },
   "outputs": [
    {
     "output_type": "execute_result",
     "data": {
      "text/plain": "Symbols           AAPL        TSLA        IBM  LNKD\nDate                                               \n2015-01-02  53204600.0   4764400.0  5525500.0   NaN\n2015-01-05  64285500.0   5368500.0  4880400.0   NaN\n2015-01-06  65797100.0   6261900.0  6146700.0   NaN\n2015-01-07  40105900.0   2968400.0  4701800.0   NaN\n2015-01-08  59364500.0   3442500.0  4236800.0   NaN\n...                ...         ...        ...   ...\n2020-07-22  22250400.0  14161100.0  8195400.0   NaN\n2020-07-23  49251100.0  24328500.0  4220100.0   NaN\n2020-07-24  46359700.0  19396600.0  3531100.0   NaN\n2020-07-27  30303500.0  16048700.0  3733400.0   NaN\n2020-07-28  25864000.0  15773400.0  4177500.0   NaN\n\n[1402 rows x 4 columns]",
      "text/html": "<div>\n<style scoped>\n    .dataframe tbody tr th:only-of-type {\n        vertical-align: middle;\n    }\n\n    .dataframe tbody tr th {\n        vertical-align: top;\n    }\n\n    .dataframe thead th {\n        text-align: right;\n    }\n</style>\n<table border=\"1\" class=\"dataframe\">\n  <thead>\n    <tr style=\"text-align: right;\">\n      <th>Symbols</th>\n      <th>AAPL</th>\n      <th>TSLA</th>\n      <th>IBM</th>\n      <th>LNKD</th>\n    </tr>\n    <tr>\n      <th>Date</th>\n      <th></th>\n      <th></th>\n      <th></th>\n      <th></th>\n    </tr>\n  </thead>\n  <tbody>\n    <tr>\n      <th>2015-01-02</th>\n      <td>53204600.0</td>\n      <td>4764400.0</td>\n      <td>5525500.0</td>\n      <td>NaN</td>\n    </tr>\n    <tr>\n      <th>2015-01-05</th>\n      <td>64285500.0</td>\n      <td>5368500.0</td>\n      <td>4880400.0</td>\n      <td>NaN</td>\n    </tr>\n    <tr>\n      <th>2015-01-06</th>\n      <td>65797100.0</td>\n      <td>6261900.0</td>\n      <td>6146700.0</td>\n      <td>NaN</td>\n    </tr>\n    <tr>\n      <th>2015-01-07</th>\n      <td>40105900.0</td>\n      <td>2968400.0</td>\n      <td>4701800.0</td>\n      <td>NaN</td>\n    </tr>\n    <tr>\n      <th>2015-01-08</th>\n      <td>59364500.0</td>\n      <td>3442500.0</td>\n      <td>4236800.0</td>\n      <td>NaN</td>\n    </tr>\n    <tr>\n      <th>...</th>\n      <td>...</td>\n      <td>...</td>\n      <td>...</td>\n      <td>...</td>\n    </tr>\n    <tr>\n      <th>2020-07-22</th>\n      <td>22250400.0</td>\n      <td>14161100.0</td>\n      <td>8195400.0</td>\n      <td>NaN</td>\n    </tr>\n    <tr>\n      <th>2020-07-23</th>\n      <td>49251100.0</td>\n      <td>24328500.0</td>\n      <td>4220100.0</td>\n      <td>NaN</td>\n    </tr>\n    <tr>\n      <th>2020-07-24</th>\n      <td>46359700.0</td>\n      <td>19396600.0</td>\n      <td>3531100.0</td>\n      <td>NaN</td>\n    </tr>\n    <tr>\n      <th>2020-07-27</th>\n      <td>30303500.0</td>\n      <td>16048700.0</td>\n      <td>3733400.0</td>\n      <td>NaN</td>\n    </tr>\n    <tr>\n      <th>2020-07-28</th>\n      <td>25864000.0</td>\n      <td>15773400.0</td>\n      <td>4177500.0</td>\n      <td>NaN</td>\n    </tr>\n  </tbody>\n</table>\n<p>1402 rows × 4 columns</p>\n</div>"
     },
     "metadata": {},
     "execution_count": 15
    }
   ],
   "source": [
    "vol = df['Volume']\n",
    "vol"
   ]
  },
  {
   "cell_type": "markdown",
   "metadata": {},
   "source": [
    "### Step 8. Aggregate the data of Volume to weekly\n",
    "#### Hint: Be careful to not sum data from the same week of 2015 and other years."
   ]
  },
  {
   "cell_type": "code",
   "execution_count": 17,
   "metadata": {
    "collapsed": false,
    "scrolled": true
   },
   "outputs": [
    {
     "output_type": "execute_result",
     "data": {
      "text/plain": "Symbols           AAPL        TSLA         IBM  LNKD\nweek year                                           \n1    2015   53204600.0   4764400.0   5525500.0   0.0\n     2016  343790200.0  20975400.0  25253600.0   0.0\n     2017  103845500.0  28576400.0  11943500.0   0.0\n     2018  136171900.0  29713500.0  31378900.0   0.0\n     2019  248189000.0  48890000.0  20960800.0   0.0\n...                ...         ...         ...   ...\n52   2016   84828600.0  18385800.0   7771300.0   0.0\n     2017   97163800.0  17184000.0  10643000.0   0.0\n     2018  191160200.0  32237100.0  21630300.0   0.0\n     2019   96609500.0  41953900.0   8887200.0   0.0\n53   2015  123761500.0  10720500.0  13538600.0   0.0\n\n[292 rows x 4 columns]",
      "text/html": "<div>\n<style scoped>\n    .dataframe tbody tr th:only-of-type {\n        vertical-align: middle;\n    }\n\n    .dataframe tbody tr th {\n        vertical-align: top;\n    }\n\n    .dataframe thead th {\n        text-align: right;\n    }\n</style>\n<table border=\"1\" class=\"dataframe\">\n  <thead>\n    <tr style=\"text-align: right;\">\n      <th></th>\n      <th>Symbols</th>\n      <th>AAPL</th>\n      <th>TSLA</th>\n      <th>IBM</th>\n      <th>LNKD</th>\n    </tr>\n    <tr>\n      <th>week</th>\n      <th>year</th>\n      <th></th>\n      <th></th>\n      <th></th>\n      <th></th>\n    </tr>\n  </thead>\n  <tbody>\n    <tr>\n      <th rowspan=\"5\" valign=\"top\">1</th>\n      <th>2015</th>\n      <td>53204600.0</td>\n      <td>4764400.0</td>\n      <td>5525500.0</td>\n      <td>0.0</td>\n    </tr>\n    <tr>\n      <th>2016</th>\n      <td>343790200.0</td>\n      <td>20975400.0</td>\n      <td>25253600.0</td>\n      <td>0.0</td>\n    </tr>\n    <tr>\n      <th>2017</th>\n      <td>103845500.0</td>\n      <td>28576400.0</td>\n      <td>11943500.0</td>\n      <td>0.0</td>\n    </tr>\n    <tr>\n      <th>2018</th>\n      <td>136171900.0</td>\n      <td>29713500.0</td>\n      <td>31378900.0</td>\n      <td>0.0</td>\n    </tr>\n    <tr>\n      <th>2019</th>\n      <td>248189000.0</td>\n      <td>48890000.0</td>\n      <td>20960800.0</td>\n      <td>0.0</td>\n    </tr>\n    <tr>\n      <th>...</th>\n      <th>...</th>\n      <td>...</td>\n      <td>...</td>\n      <td>...</td>\n      <td>...</td>\n    </tr>\n    <tr>\n      <th rowspan=\"4\" valign=\"top\">52</th>\n      <th>2016</th>\n      <td>84828600.0</td>\n      <td>18385800.0</td>\n      <td>7771300.0</td>\n      <td>0.0</td>\n    </tr>\n    <tr>\n      <th>2017</th>\n      <td>97163800.0</td>\n      <td>17184000.0</td>\n      <td>10643000.0</td>\n      <td>0.0</td>\n    </tr>\n    <tr>\n      <th>2018</th>\n      <td>191160200.0</td>\n      <td>32237100.0</td>\n      <td>21630300.0</td>\n      <td>0.0</td>\n    </tr>\n    <tr>\n      <th>2019</th>\n      <td>96609500.0</td>\n      <td>41953900.0</td>\n      <td>8887200.0</td>\n      <td>0.0</td>\n    </tr>\n    <tr>\n      <th>53</th>\n      <th>2015</th>\n      <td>123761500.0</td>\n      <td>10720500.0</td>\n      <td>13538600.0</td>\n      <td>0.0</td>\n    </tr>\n  </tbody>\n</table>\n<p>292 rows × 4 columns</p>\n</div>"
     },
     "metadata": {},
     "execution_count": 17
    }
   ],
   "source": [
    "vol['week'] = vol.index.week\n",
    "vol['year'] = vol.index.year\n",
    "\n",
    "week = vol.groupby(['week','year']).sum()\n",
    "week"
   ]
  },
  {
   "cell_type": "markdown",
   "metadata": {},
   "source": [
    "### Step 9. Find all the volume traded in the year of 2015"
   ]
  },
  {
   "cell_type": "code",
   "execution_count": 19,
   "metadata": {
    "collapsed": false
   },
   "outputs": [
    {
     "output_type": "execute_result",
     "data": {
      "text/plain": "Symbols          AAPL          TSLA           IBM  LNKD\nyear                                                   \n2015     1.306605e+10  1.088218e+09  1.105583e+09   0.0\n2016     9.682478e+09  1.162362e+09  1.018606e+09   0.0\n2017     6.810776e+09  1.590031e+09  1.071166e+09   0.0\n2018     8.539036e+09  2.161639e+09  1.368561e+09   0.0\n2019     7.063803e+09  2.308078e+09  9.466952e+08   0.0\n2020     5.985785e+09  2.560441e+09  8.681300e+08   0.0",
      "text/html": "<div>\n<style scoped>\n    .dataframe tbody tr th:only-of-type {\n        vertical-align: middle;\n    }\n\n    .dataframe tbody tr th {\n        vertical-align: top;\n    }\n\n    .dataframe thead th {\n        text-align: right;\n    }\n</style>\n<table border=\"1\" class=\"dataframe\">\n  <thead>\n    <tr style=\"text-align: right;\">\n      <th>Symbols</th>\n      <th>AAPL</th>\n      <th>TSLA</th>\n      <th>IBM</th>\n      <th>LNKD</th>\n    </tr>\n    <tr>\n      <th>year</th>\n      <th></th>\n      <th></th>\n      <th></th>\n      <th></th>\n    </tr>\n  </thead>\n  <tbody>\n    <tr>\n      <th>2015</th>\n      <td>1.306605e+10</td>\n      <td>1.088218e+09</td>\n      <td>1.105583e+09</td>\n      <td>0.0</td>\n    </tr>\n    <tr>\n      <th>2016</th>\n      <td>9.682478e+09</td>\n      <td>1.162362e+09</td>\n      <td>1.018606e+09</td>\n      <td>0.0</td>\n    </tr>\n    <tr>\n      <th>2017</th>\n      <td>6.810776e+09</td>\n      <td>1.590031e+09</td>\n      <td>1.071166e+09</td>\n      <td>0.0</td>\n    </tr>\n    <tr>\n      <th>2018</th>\n      <td>8.539036e+09</td>\n      <td>2.161639e+09</td>\n      <td>1.368561e+09</td>\n      <td>0.0</td>\n    </tr>\n    <tr>\n      <th>2019</th>\n      <td>7.063803e+09</td>\n      <td>2.308078e+09</td>\n      <td>9.466952e+08</td>\n      <td>0.0</td>\n    </tr>\n    <tr>\n      <th>2020</th>\n      <td>5.985785e+09</td>\n      <td>2.560441e+09</td>\n      <td>8.681300e+08</td>\n      <td>0.0</td>\n    </tr>\n  </tbody>\n</table>\n</div>"
     },
     "metadata": {},
     "execution_count": 19
    }
   ],
   "source": [
    "del vol['week']\n",
    "vol['year'] = vol.index.year\n",
    "\n",
    "year = vol.groupby(['year']).sum()\n",
    "year"
   ]
  },
  {
   "cell_type": "markdown",
   "metadata": {},
   "source": [
    "### BONUS: Create your own question and answer it."
   ]
  },
  {
   "cell_type": "code",
   "execution_count": null,
   "metadata": {
    "collapsed": true
   },
   "outputs": [],
   "source": []
  }
 ],
 "metadata": {
  "kernelspec": {
   "display_name": "Python 3.6.4 64-bit",
   "language": "python",
   "name": "python_defaultSpec_1596018087997"
  },
  "language_info": {
   "codemirror_mode": {
    "name": "ipython",
    "version": 2
   },
   "file_extension": ".py",
   "mimetype": "text/x-python",
   "name": "python",
   "nbconvert_exporter": "python",
   "pygments_lexer": "ipython2",
   "version": "2.7.11"
  }
 },
 "nbformat": 4,
 "nbformat_minor": 0
}