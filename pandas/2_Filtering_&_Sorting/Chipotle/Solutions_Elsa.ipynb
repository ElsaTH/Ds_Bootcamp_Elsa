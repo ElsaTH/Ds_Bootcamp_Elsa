{
 "cells": [
  {
   "cell_type": "markdown",
   "metadata": {},
   "source": [
    "# Ex1 - Filtering and Sorting Data"
   ]
  },
  {
   "cell_type": "markdown",
   "metadata": {},
   "source": [
    "This time we are going to pull data directly from the internet.\n",
    "Special thanks to: https://github.com/justmarkham for sharing the dataset and materials.\n",
    "\n",
    "### Step 1. Import the necessary libraries"
   ]
  },
  {
   "cell_type": "code",
   "execution_count": 1,
   "metadata": {
    "collapsed": false
   },
   "outputs": [],
   "source": [
    "import pandas as pd\n",
    "import numpy as np\n"
   ]
  },
  {
   "cell_type": "markdown",
   "metadata": {},
   "source": [
    "### Step 2. Import the dataset from this [address](https://raw.githubusercontent.com/justmarkham/DAT8/master/data/chipotle.tsv). "
   ]
  },
  {
   "cell_type": "code",
   "execution_count": 2,
   "metadata": {},
   "outputs": [],
   "source": [
    "address = \"https://raw.githubusercontent.com/justmarkham/DAT8/master/data/chipotle.tsv\""
   ]
  },
  {
   "cell_type": "markdown",
   "metadata": {},
   "source": [
    "### Step 3. Assign it to a variable called chipo."
   ]
  },
  {
   "cell_type": "code",
   "execution_count": 3,
   "metadata": {
    "collapsed": false
   },
   "outputs": [
    {
     "output_type": "execute_result",
     "data": {
      "text/plain": "      order_id  quantity                              item_name  \\\n0            1         1           Chips and Fresh Tomato Salsa   \n1            1         1                                   Izze   \n2            1         1                       Nantucket Nectar   \n3            1         1  Chips and Tomatillo-Green Chili Salsa   \n4            2         2                           Chicken Bowl   \n...        ...       ...                                    ...   \n4617      1833         1                          Steak Burrito   \n4618      1833         1                          Steak Burrito   \n4619      1834         1                     Chicken Salad Bowl   \n4620      1834         1                     Chicken Salad Bowl   \n4621      1834         1                     Chicken Salad Bowl   \n\n                                     choice_description item_price  \n0                                                   NaN     $2.39   \n1                                          [Clementine]     $3.39   \n2                                               [Apple]     $3.39   \n3                                                   NaN     $2.39   \n4     [Tomatillo-Red Chili Salsa (Hot), [Black Beans...    $16.98   \n...                                                 ...        ...  \n4617  [Fresh Tomato Salsa, [Rice, Black Beans, Sour ...    $11.75   \n4618  [Fresh Tomato Salsa, [Rice, Sour Cream, Cheese...    $11.75   \n4619  [Fresh Tomato Salsa, [Fajita Vegetables, Pinto...    $11.25   \n4620  [Fresh Tomato Salsa, [Fajita Vegetables, Lettu...     $8.75   \n4621  [Fresh Tomato Salsa, [Fajita Vegetables, Pinto...     $8.75   \n\n[4622 rows x 5 columns]",
      "text/html": "<div>\n<style scoped>\n    .dataframe tbody tr th:only-of-type {\n        vertical-align: middle;\n    }\n\n    .dataframe tbody tr th {\n        vertical-align: top;\n    }\n\n    .dataframe thead th {\n        text-align: right;\n    }\n</style>\n<table border=\"1\" class=\"dataframe\">\n  <thead>\n    <tr style=\"text-align: right;\">\n      <th></th>\n      <th>order_id</th>\n      <th>quantity</th>\n      <th>item_name</th>\n      <th>choice_description</th>\n      <th>item_price</th>\n    </tr>\n  </thead>\n  <tbody>\n    <tr>\n      <th>0</th>\n      <td>1</td>\n      <td>1</td>\n      <td>Chips and Fresh Tomato Salsa</td>\n      <td>NaN</td>\n      <td>$2.39</td>\n    </tr>\n    <tr>\n      <th>1</th>\n      <td>1</td>\n      <td>1</td>\n      <td>Izze</td>\n      <td>[Clementine]</td>\n      <td>$3.39</td>\n    </tr>\n    <tr>\n      <th>2</th>\n      <td>1</td>\n      <td>1</td>\n      <td>Nantucket Nectar</td>\n      <td>[Apple]</td>\n      <td>$3.39</td>\n    </tr>\n    <tr>\n      <th>3</th>\n      <td>1</td>\n      <td>1</td>\n      <td>Chips and Tomatillo-Green Chili Salsa</td>\n      <td>NaN</td>\n      <td>$2.39</td>\n    </tr>\n    <tr>\n      <th>4</th>\n      <td>2</td>\n      <td>2</td>\n      <td>Chicken Bowl</td>\n      <td>[Tomatillo-Red Chili Salsa (Hot), [Black Beans...</td>\n      <td>$16.98</td>\n    </tr>\n    <tr>\n      <th>...</th>\n      <td>...</td>\n      <td>...</td>\n      <td>...</td>\n      <td>...</td>\n      <td>...</td>\n    </tr>\n    <tr>\n      <th>4617</th>\n      <td>1833</td>\n      <td>1</td>\n      <td>Steak Burrito</td>\n      <td>[Fresh Tomato Salsa, [Rice, Black Beans, Sour ...</td>\n      <td>$11.75</td>\n    </tr>\n    <tr>\n      <th>4618</th>\n      <td>1833</td>\n      <td>1</td>\n      <td>Steak Burrito</td>\n      <td>[Fresh Tomato Salsa, [Rice, Sour Cream, Cheese...</td>\n      <td>$11.75</td>\n    </tr>\n    <tr>\n      <th>4619</th>\n      <td>1834</td>\n      <td>1</td>\n      <td>Chicken Salad Bowl</td>\n      <td>[Fresh Tomato Salsa, [Fajita Vegetables, Pinto...</td>\n      <td>$11.25</td>\n    </tr>\n    <tr>\n      <th>4620</th>\n      <td>1834</td>\n      <td>1</td>\n      <td>Chicken Salad Bowl</td>\n      <td>[Fresh Tomato Salsa, [Fajita Vegetables, Lettu...</td>\n      <td>$8.75</td>\n    </tr>\n    <tr>\n      <th>4621</th>\n      <td>1834</td>\n      <td>1</td>\n      <td>Chicken Salad Bowl</td>\n      <td>[Fresh Tomato Salsa, [Fajita Vegetables, Pinto...</td>\n      <td>$8.75</td>\n    </tr>\n  </tbody>\n</table>\n<p>4622 rows × 5 columns</p>\n</div>"
     },
     "metadata": {},
     "execution_count": 3
    }
   ],
   "source": [
    "url = address\n",
    "chipo = pd.read_csv(url, sep = \"\\t\")\n",
    "chipo"
   ]
  },
  {
   "cell_type": "markdown",
   "metadata": {},
   "source": [
    "### Step 4. What is the name of the max valued product?"
   ]
  },
  {
   "cell_type": "code",
   "execution_count": 4,
   "metadata": {},
   "outputs": [
    {
     "output_type": "execute_result",
     "data": {
      "text/plain": "      order_id  quantity                              item_name  \\\n0            1         1           Chips and Fresh Tomato Salsa   \n1            1         1                                   Izze   \n2            1         1                       Nantucket Nectar   \n3            1         1  Chips and Tomatillo-Green Chili Salsa   \n4            2         2                           Chicken Bowl   \n...        ...       ...                                    ...   \n4617      1833         1                          Steak Burrito   \n4618      1833         1                          Steak Burrito   \n4619      1834         1                     Chicken Salad Bowl   \n4620      1834         1                     Chicken Salad Bowl   \n4621      1834         1                     Chicken Salad Bowl   \n\n                                     choice_description  item_price  \n0                                                   NaN        2.39  \n1                                          [Clementine]        3.39  \n2                                               [Apple]        3.39  \n3                                                   NaN        2.39  \n4     [Tomatillo-Red Chili Salsa (Hot), [Black Beans...       16.98  \n...                                                 ...         ...  \n4617  [Fresh Tomato Salsa, [Rice, Black Beans, Sour ...       11.75  \n4618  [Fresh Tomato Salsa, [Rice, Sour Cream, Cheese...       11.75  \n4619  [Fresh Tomato Salsa, [Fajita Vegetables, Pinto...       11.25  \n4620  [Fresh Tomato Salsa, [Fajita Vegetables, Lettu...        8.75  \n4621  [Fresh Tomato Salsa, [Fajita Vegetables, Pinto...        8.75  \n\n[4622 rows x 5 columns]",
      "text/html": "<div>\n<style scoped>\n    .dataframe tbody tr th:only-of-type {\n        vertical-align: middle;\n    }\n\n    .dataframe tbody tr th {\n        vertical-align: top;\n    }\n\n    .dataframe thead th {\n        text-align: right;\n    }\n</style>\n<table border=\"1\" class=\"dataframe\">\n  <thead>\n    <tr style=\"text-align: right;\">\n      <th></th>\n      <th>order_id</th>\n      <th>quantity</th>\n      <th>item_name</th>\n      <th>choice_description</th>\n      <th>item_price</th>\n    </tr>\n  </thead>\n  <tbody>\n    <tr>\n      <th>0</th>\n      <td>1</td>\n      <td>1</td>\n      <td>Chips and Fresh Tomato Salsa</td>\n      <td>NaN</td>\n      <td>2.39</td>\n    </tr>\n    <tr>\n      <th>1</th>\n      <td>1</td>\n      <td>1</td>\n      <td>Izze</td>\n      <td>[Clementine]</td>\n      <td>3.39</td>\n    </tr>\n    <tr>\n      <th>2</th>\n      <td>1</td>\n      <td>1</td>\n      <td>Nantucket Nectar</td>\n      <td>[Apple]</td>\n      <td>3.39</td>\n    </tr>\n    <tr>\n      <th>3</th>\n      <td>1</td>\n      <td>1</td>\n      <td>Chips and Tomatillo-Green Chili Salsa</td>\n      <td>NaN</td>\n      <td>2.39</td>\n    </tr>\n    <tr>\n      <th>4</th>\n      <td>2</td>\n      <td>2</td>\n      <td>Chicken Bowl</td>\n      <td>[Tomatillo-Red Chili Salsa (Hot), [Black Beans...</td>\n      <td>16.98</td>\n    </tr>\n    <tr>\n      <th>...</th>\n      <td>...</td>\n      <td>...</td>\n      <td>...</td>\n      <td>...</td>\n      <td>...</td>\n    </tr>\n    <tr>\n      <th>4617</th>\n      <td>1833</td>\n      <td>1</td>\n      <td>Steak Burrito</td>\n      <td>[Fresh Tomato Salsa, [Rice, Black Beans, Sour ...</td>\n      <td>11.75</td>\n    </tr>\n    <tr>\n      <th>4618</th>\n      <td>1833</td>\n      <td>1</td>\n      <td>Steak Burrito</td>\n      <td>[Fresh Tomato Salsa, [Rice, Sour Cream, Cheese...</td>\n      <td>11.75</td>\n    </tr>\n    <tr>\n      <th>4619</th>\n      <td>1834</td>\n      <td>1</td>\n      <td>Chicken Salad Bowl</td>\n      <td>[Fresh Tomato Salsa, [Fajita Vegetables, Pinto...</td>\n      <td>11.25</td>\n    </tr>\n    <tr>\n      <th>4620</th>\n      <td>1834</td>\n      <td>1</td>\n      <td>Chicken Salad Bowl</td>\n      <td>[Fresh Tomato Salsa, [Fajita Vegetables, Lettu...</td>\n      <td>8.75</td>\n    </tr>\n    <tr>\n      <th>4621</th>\n      <td>1834</td>\n      <td>1</td>\n      <td>Chicken Salad Bowl</td>\n      <td>[Fresh Tomato Salsa, [Fajita Vegetables, Pinto...</td>\n      <td>8.75</td>\n    </tr>\n  </tbody>\n</table>\n<p>4622 rows × 5 columns</p>\n</div>"
     },
     "metadata": {},
     "execution_count": 4
    }
   ],
   "source": [
    "# Eliminamos el dolar de la tabla para q lo vea como números float.\n",
    "chipo.item_price = chipo.item_price.str[1:].astype(float)\n",
    "chipo"
   ]
  },
  {
   "cell_type": "code",
   "execution_count": 5,
   "metadata": {},
   "outputs": [
    {
     "output_type": "execute_result",
     "data": {
      "text/plain": "44.25"
     },
     "metadata": {},
     "execution_count": 5
    }
   ],
   "source": [
    "chipo.item_price.max()\n"
   ]
  },
  {
   "cell_type": "code",
   "execution_count": 9,
   "metadata": {},
   "outputs": [
    {
     "output_type": "execute_result",
     "data": {
      "text/plain": "      order_id  quantity                              item_name  \\\n0            1         1           Chips and Fresh Tomato Salsa   \n1            1         1                                   Izze   \n2            1         1                       Nantucket Nectar   \n3            1         1  Chips and Tomatillo-Green Chili Salsa   \n4            2         2                           Chicken Bowl   \n...        ...       ...                                    ...   \n4617      1833         1                          Steak Burrito   \n4618      1833         1                          Steak Burrito   \n4619      1834         1                     Chicken Salad Bowl   \n4620      1834         1                     Chicken Salad Bowl   \n4621      1834         1                     Chicken Salad Bowl   \n\n                                     choice_description  item_price  \\\n0                                                   NaN        2.39   \n1                                          [Clementine]        3.39   \n2                                               [Apple]        3.39   \n3                                                   NaN        2.39   \n4     [Tomatillo-Red Chili Salsa (Hot), [Black Beans...       16.98   \n...                                                 ...         ...   \n4617  [Fresh Tomato Salsa, [Rice, Black Beans, Sour ...       11.75   \n4618  [Fresh Tomato Salsa, [Rice, Sour Cream, Cheese...       11.75   \n4619  [Fresh Tomato Salsa, [Fajita Vegetables, Pinto...       11.25   \n4620  [Fresh Tomato Salsa, [Fajita Vegetables, Lettu...        8.75   \n4621  [Fresh Tomato Salsa, [Fajita Vegetables, Pinto...        8.75   \n\n      unity_price  \n0            2.39  \n1            3.39  \n2            3.39  \n3            2.39  \n4            8.49  \n...           ...  \n4617        11.75  \n4618        11.75  \n4619        11.25  \n4620         8.75  \n4621         8.75  \n\n[4622 rows x 6 columns]",
      "text/html": "<div>\n<style scoped>\n    .dataframe tbody tr th:only-of-type {\n        vertical-align: middle;\n    }\n\n    .dataframe tbody tr th {\n        vertical-align: top;\n    }\n\n    .dataframe thead th {\n        text-align: right;\n    }\n</style>\n<table border=\"1\" class=\"dataframe\">\n  <thead>\n    <tr style=\"text-align: right;\">\n      <th></th>\n      <th>order_id</th>\n      <th>quantity</th>\n      <th>item_name</th>\n      <th>choice_description</th>\n      <th>item_price</th>\n      <th>unity_price</th>\n    </tr>\n  </thead>\n  <tbody>\n    <tr>\n      <th>0</th>\n      <td>1</td>\n      <td>1</td>\n      <td>Chips and Fresh Tomato Salsa</td>\n      <td>NaN</td>\n      <td>2.39</td>\n      <td>2.39</td>\n    </tr>\n    <tr>\n      <th>1</th>\n      <td>1</td>\n      <td>1</td>\n      <td>Izze</td>\n      <td>[Clementine]</td>\n      <td>3.39</td>\n      <td>3.39</td>\n    </tr>\n    <tr>\n      <th>2</th>\n      <td>1</td>\n      <td>1</td>\n      <td>Nantucket Nectar</td>\n      <td>[Apple]</td>\n      <td>3.39</td>\n      <td>3.39</td>\n    </tr>\n    <tr>\n      <th>3</th>\n      <td>1</td>\n      <td>1</td>\n      <td>Chips and Tomatillo-Green Chili Salsa</td>\n      <td>NaN</td>\n      <td>2.39</td>\n      <td>2.39</td>\n    </tr>\n    <tr>\n      <th>4</th>\n      <td>2</td>\n      <td>2</td>\n      <td>Chicken Bowl</td>\n      <td>[Tomatillo-Red Chili Salsa (Hot), [Black Beans...</td>\n      <td>16.98</td>\n      <td>8.49</td>\n    </tr>\n    <tr>\n      <th>...</th>\n      <td>...</td>\n      <td>...</td>\n      <td>...</td>\n      <td>...</td>\n      <td>...</td>\n      <td>...</td>\n    </tr>\n    <tr>\n      <th>4617</th>\n      <td>1833</td>\n      <td>1</td>\n      <td>Steak Burrito</td>\n      <td>[Fresh Tomato Salsa, [Rice, Black Beans, Sour ...</td>\n      <td>11.75</td>\n      <td>11.75</td>\n    </tr>\n    <tr>\n      <th>4618</th>\n      <td>1833</td>\n      <td>1</td>\n      <td>Steak Burrito</td>\n      <td>[Fresh Tomato Salsa, [Rice, Sour Cream, Cheese...</td>\n      <td>11.75</td>\n      <td>11.75</td>\n    </tr>\n    <tr>\n      <th>4619</th>\n      <td>1834</td>\n      <td>1</td>\n      <td>Chicken Salad Bowl</td>\n      <td>[Fresh Tomato Salsa, [Fajita Vegetables, Pinto...</td>\n      <td>11.25</td>\n      <td>11.25</td>\n    </tr>\n    <tr>\n      <th>4620</th>\n      <td>1834</td>\n      <td>1</td>\n      <td>Chicken Salad Bowl</td>\n      <td>[Fresh Tomato Salsa, [Fajita Vegetables, Lettu...</td>\n      <td>8.75</td>\n      <td>8.75</td>\n    </tr>\n    <tr>\n      <th>4621</th>\n      <td>1834</td>\n      <td>1</td>\n      <td>Chicken Salad Bowl</td>\n      <td>[Fresh Tomato Salsa, [Fajita Vegetables, Pinto...</td>\n      <td>8.75</td>\n      <td>8.75</td>\n    </tr>\n  </tbody>\n</table>\n<p>4622 rows × 6 columns</p>\n</div>"
     },
     "metadata": {},
     "execution_count": 9
    }
   ],
   "source": [
    "### Esta parte no tiene que ver con el ejercico. Generamos una nueva columna de \"unity_price\"\n",
    "chipo[\"unity_price\"] = chipo.item_price / chipo.quantity\n",
    "chipo"
   ]
  },
  {
   "cell_type": "code",
   "execution_count": 10,
   "metadata": {},
   "outputs": [
    {
     "output_type": "execute_result",
     "data": {
      "text/plain": "                                                    order_id  quantity  \\\nchoice_description                                                       \n[Adobo-Marinated and Grilled Chicken, Pinto Bea...       214         1   \n[Adobo-Marinated and Grilled Chicken, [Sour Cre...       279         1   \n[Adobo-Marinated and Grilled Chicken]                    217         1   \n[Adobo-Marinated and Grilled Steak, [Sour Cream...       279         1   \n[Adobo-Marinated and Grilled Steak]                      217         1   \n...                                                      ...       ...   \n[[Tomatillo-Red Chili Salsa (Hot), Tomatillo-Gr...      1309         1   \n[[Tomatillo-Red Chili Salsa (Hot), Tomatillo-Gr...      1215         1   \n[[Tomatillo-Red Chili Salsa (Hot), Tomatillo-Gr...        51         1   \n[[Tomatillo-Red Chili Salsa (Hot), Tomatillo-Gr...        51         1   \n[[Tomatillo-Red Chili Salsa (Hot), Tomatillo-Gr...      1299         1   \n\n                                                          item_name  \\\nchoice_description                                                    \n[Adobo-Marinated and Grilled Chicken, Pinto Bea...          Burrito   \n[Adobo-Marinated and Grilled Chicken, [Sour Cre...          Burrito   \n[Adobo-Marinated and Grilled Chicken]                  Crispy Tacos   \n[Adobo-Marinated and Grilled Steak, [Sour Cream...             Bowl   \n[Adobo-Marinated and Grilled Steak]                    Crispy Tacos   \n...                                                             ...   \n[[Tomatillo-Red Chili Salsa (Hot), Tomatillo-Gr...  Chicken Burrito   \n[[Tomatillo-Red Chili Salsa (Hot), Tomatillo-Gr...     Chicken Bowl   \n[[Tomatillo-Red Chili Salsa (Hot), Tomatillo-Gr...  Chicken Burrito   \n[[Tomatillo-Red Chili Salsa (Hot), Tomatillo-Gr...    Barbacoa Bowl   \n[[Tomatillo-Red Chili Salsa (Hot), Tomatillo-Gr...    Barbacoa Bowl   \n\n                                                    item_price  unity_price  \nchoice_description                                                           \n[Adobo-Marinated and Grilled Chicken, Pinto Bea...        7.40         7.40  \n[Adobo-Marinated and Grilled Chicken, [Sour Cre...        7.40         7.40  \n[Adobo-Marinated and Grilled Chicken]                     7.40         7.40  \n[Adobo-Marinated and Grilled Steak, [Sour Cream...        7.40         7.40  \n[Adobo-Marinated and Grilled Steak]                       7.40         7.40  \n...                                                        ...          ...  \n[[Tomatillo-Red Chili Salsa (Hot), Tomatillo-Gr...        8.49         8.49  \n[[Tomatillo-Red Chili Salsa (Hot), Tomatillo-Gr...        8.49         8.49  \n[[Tomatillo-Red Chili Salsa (Hot), Tomatillo-Gr...        8.49         8.49  \n[[Tomatillo-Red Chili Salsa (Hot), Tomatillo-Gr...        8.99         8.99  \n[[Tomatillo-Red Chili Salsa (Hot), Tomatillo-Gr...        8.99         8.99  \n\n[1043 rows x 5 columns]",
      "text/html": "<div>\n<style scoped>\n    .dataframe tbody tr th:only-of-type {\n        vertical-align: middle;\n    }\n\n    .dataframe tbody tr th {\n        vertical-align: top;\n    }\n\n    .dataframe thead th {\n        text-align: right;\n    }\n</style>\n<table border=\"1\" class=\"dataframe\">\n  <thead>\n    <tr style=\"text-align: right;\">\n      <th></th>\n      <th>order_id</th>\n      <th>quantity</th>\n      <th>item_name</th>\n      <th>item_price</th>\n      <th>unity_price</th>\n    </tr>\n    <tr>\n      <th>choice_description</th>\n      <th></th>\n      <th></th>\n      <th></th>\n      <th></th>\n      <th></th>\n    </tr>\n  </thead>\n  <tbody>\n    <tr>\n      <th>[Adobo-Marinated and Grilled Chicken, Pinto Beans, [Sour Cream, Salsa, Cheese, Cilantro-Lime Rice, Guacamole]]</th>\n      <td>214</td>\n      <td>1</td>\n      <td>Burrito</td>\n      <td>7.40</td>\n      <td>7.40</td>\n    </tr>\n    <tr>\n      <th>[Adobo-Marinated and Grilled Chicken, [Sour Cream, Cheese, Cilantro-Lime Rice]]</th>\n      <td>279</td>\n      <td>1</td>\n      <td>Burrito</td>\n      <td>7.40</td>\n      <td>7.40</td>\n    </tr>\n    <tr>\n      <th>[Adobo-Marinated and Grilled Chicken]</th>\n      <td>217</td>\n      <td>1</td>\n      <td>Crispy Tacos</td>\n      <td>7.40</td>\n      <td>7.40</td>\n    </tr>\n    <tr>\n      <th>[Adobo-Marinated and Grilled Steak, [Sour Cream, Salsa, Cheese, Cilantro-Lime Rice, Guacamole]]</th>\n      <td>279</td>\n      <td>1</td>\n      <td>Bowl</td>\n      <td>7.40</td>\n      <td>7.40</td>\n    </tr>\n    <tr>\n      <th>[Adobo-Marinated and Grilled Steak]</th>\n      <td>217</td>\n      <td>1</td>\n      <td>Crispy Tacos</td>\n      <td>7.40</td>\n      <td>7.40</td>\n    </tr>\n    <tr>\n      <th>...</th>\n      <td>...</td>\n      <td>...</td>\n      <td>...</td>\n      <td>...</td>\n      <td>...</td>\n    </tr>\n    <tr>\n      <th>[[Tomatillo-Red Chili Salsa (Hot), Tomatillo-Green Chili Salsa (Medium)], [Rice, Black Beans, Cheese, Lettuce]]</th>\n      <td>1309</td>\n      <td>1</td>\n      <td>Chicken Burrito</td>\n      <td>8.49</td>\n      <td>8.49</td>\n    </tr>\n    <tr>\n      <th>[[Tomatillo-Red Chili Salsa (Hot), Tomatillo-Green Chili Salsa (Medium)], [Rice, Black Beans, Lettuce]]</th>\n      <td>1215</td>\n      <td>1</td>\n      <td>Chicken Bowl</td>\n      <td>8.49</td>\n      <td>8.49</td>\n    </tr>\n    <tr>\n      <th>[[Tomatillo-Red Chili Salsa (Hot), Tomatillo-Green Chili Salsa (Medium)], [Rice, Pinto Beans, Cheese, Lettuce]]</th>\n      <td>51</td>\n      <td>1</td>\n      <td>Chicken Burrito</td>\n      <td>8.49</td>\n      <td>8.49</td>\n    </tr>\n    <tr>\n      <th>[[Tomatillo-Red Chili Salsa (Hot), Tomatillo-Green Chili Salsa (Medium)], [Rice, Pinto Beans, Fajita Veggies, Cheese, Sour Cream, Lettuce]]</th>\n      <td>51</td>\n      <td>1</td>\n      <td>Barbacoa Bowl</td>\n      <td>8.99</td>\n      <td>8.99</td>\n    </tr>\n    <tr>\n      <th>[[Tomatillo-Red Chili Salsa (Hot), Tomatillo-Green Chili Salsa (Medium)], [Rice, Pinto Beans, Fajita Veggies, Lettuce]]</th>\n      <td>1299</td>\n      <td>1</td>\n      <td>Barbacoa Bowl</td>\n      <td>8.99</td>\n      <td>8.99</td>\n    </tr>\n  </tbody>\n</table>\n<p>1043 rows × 5 columns</p>\n</div>"
     },
     "metadata": {},
     "execution_count": 10
    }
   ],
   "source": [
    "## Si quiero obtener la tabla de descripciones utilizaremos groupby\n",
    "chipo_description = chipo.groupby(\"choice_description\").max()\n",
    "chipo_description"
   ]
  },
  {
   "cell_type": "code",
   "execution_count": 11,
   "metadata": {},
   "outputs": [
    {
     "output_type": "execute_result",
     "data": {
      "text/plain": "                                                    order_id  quantity  \\\nchoice_description                                                       \n[Tomatillo Green Chili Salsa, [Black Beans, Che...      1692         2   \n[Roasted Chili Corn Salsa, [Fajita Vegetables, ...      1403         1   \n[Roasted Chili Corn Salsa, [Rice, Cheese, Lettu...      1106         1   \n[Fresh Tomato Salsa, [Pinto Beans, Cheese, Guac...       250         1   \n[Fresh Tomato Salsa, [Rice, Fajita Vegetables, ...       478         1   \n...                                                      ...       ...   \n[Peach Orange]                                          1632         2   \n[Mountain Dew]                                          1562         2   \n[Diet Dr. Pepper]                                       1578         2   \n[Coca Cola]                                             1475         2   \n[Dr. Pepper]                                            1575         2   \n\n                                                             item_name  \\\nchoice_description                                                       \n[Tomatillo Green Chili Salsa, [Black Beans, Che...  Chicken Salad Bowl   \n[Roasted Chili Corn Salsa, [Fajita Vegetables, ...    Steak Salad Bowl   \n[Roasted Chili Corn Salsa, [Rice, Cheese, Lettu...    Steak Salad Bowl   \n[Fresh Tomato Salsa, [Pinto Beans, Cheese, Guac...    Steak Salad Bowl   \n[Fresh Tomato Salsa, [Rice, Fajita Vegetables, ...    Steak Salad Bowl   \n...                                                                ...   \n[Peach Orange]                                        Nantucket Nectar   \n[Mountain Dew]                                             Canned Soda   \n[Diet Dr. Pepper]                                          Canned Soda   \n[Coca Cola]                                                Canned Soda   \n[Dr. Pepper]                                               Canned Soda   \n\n                                                    item_price  unity_price  \nchoice_description                                                           \n[Tomatillo Green Chili Salsa, [Black Beans, Che...       22.50        11.89  \n[Roasted Chili Corn Salsa, [Fajita Vegetables, ...       11.89        11.89  \n[Roasted Chili Corn Salsa, [Rice, Cheese, Lettu...       11.89        11.89  \n[Fresh Tomato Salsa, [Pinto Beans, Cheese, Guac...       11.89        11.89  \n[Fresh Tomato Salsa, [Rice, Fajita Vegetables, ...       11.89        11.89  \n...                                                        ...          ...  \n[Peach Orange]                                            6.78         3.39  \n[Mountain Dew]                                            2.18         1.09  \n[Diet Dr. Pepper]                                         2.18         1.09  \n[Coca Cola]                                               2.18         1.09  \n[Dr. Pepper]                                              2.18         1.09  \n\n[1043 rows x 5 columns]",
      "text/html": "<div>\n<style scoped>\n    .dataframe tbody tr th:only-of-type {\n        vertical-align: middle;\n    }\n\n    .dataframe tbody tr th {\n        vertical-align: top;\n    }\n\n    .dataframe thead th {\n        text-align: right;\n    }\n</style>\n<table border=\"1\" class=\"dataframe\">\n  <thead>\n    <tr style=\"text-align: right;\">\n      <th></th>\n      <th>order_id</th>\n      <th>quantity</th>\n      <th>item_name</th>\n      <th>item_price</th>\n      <th>unity_price</th>\n    </tr>\n    <tr>\n      <th>choice_description</th>\n      <th></th>\n      <th></th>\n      <th></th>\n      <th></th>\n      <th></th>\n    </tr>\n  </thead>\n  <tbody>\n    <tr>\n      <th>[Tomatillo Green Chili Salsa, [Black Beans, Cheese, Guacamole]]</th>\n      <td>1692</td>\n      <td>2</td>\n      <td>Chicken Salad Bowl</td>\n      <td>22.50</td>\n      <td>11.89</td>\n    </tr>\n    <tr>\n      <th>[Roasted Chili Corn Salsa, [Fajita Vegetables, Rice, Cheese, Guacamole, Lettuce]]</th>\n      <td>1403</td>\n      <td>1</td>\n      <td>Steak Salad Bowl</td>\n      <td>11.89</td>\n      <td>11.89</td>\n    </tr>\n    <tr>\n      <th>[Roasted Chili Corn Salsa, [Rice, Cheese, Lettuce, Guacamole]]</th>\n      <td>1106</td>\n      <td>1</td>\n      <td>Steak Salad Bowl</td>\n      <td>11.89</td>\n      <td>11.89</td>\n    </tr>\n    <tr>\n      <th>[Fresh Tomato Salsa, [Pinto Beans, Cheese, Guacamole, Lettuce]]</th>\n      <td>250</td>\n      <td>1</td>\n      <td>Steak Salad Bowl</td>\n      <td>11.89</td>\n      <td>11.89</td>\n    </tr>\n    <tr>\n      <th>[Fresh Tomato Salsa, [Rice, Fajita Vegetables, Sour Cream, Cheese, Lettuce, Guacamole]]</th>\n      <td>478</td>\n      <td>1</td>\n      <td>Steak Salad Bowl</td>\n      <td>11.89</td>\n      <td>11.89</td>\n    </tr>\n    <tr>\n      <th>...</th>\n      <td>...</td>\n      <td>...</td>\n      <td>...</td>\n      <td>...</td>\n      <td>...</td>\n    </tr>\n    <tr>\n      <th>[Peach Orange]</th>\n      <td>1632</td>\n      <td>2</td>\n      <td>Nantucket Nectar</td>\n      <td>6.78</td>\n      <td>3.39</td>\n    </tr>\n    <tr>\n      <th>[Mountain Dew]</th>\n      <td>1562</td>\n      <td>2</td>\n      <td>Canned Soda</td>\n      <td>2.18</td>\n      <td>1.09</td>\n    </tr>\n    <tr>\n      <th>[Diet Dr. Pepper]</th>\n      <td>1578</td>\n      <td>2</td>\n      <td>Canned Soda</td>\n      <td>2.18</td>\n      <td>1.09</td>\n    </tr>\n    <tr>\n      <th>[Coca Cola]</th>\n      <td>1475</td>\n      <td>2</td>\n      <td>Canned Soda</td>\n      <td>2.18</td>\n      <td>1.09</td>\n    </tr>\n    <tr>\n      <th>[Dr. Pepper]</th>\n      <td>1575</td>\n      <td>2</td>\n      <td>Canned Soda</td>\n      <td>2.18</td>\n      <td>1.09</td>\n    </tr>\n  </tbody>\n</table>\n<p>1043 rows × 5 columns</p>\n</div>"
     },
     "metadata": {},
     "execution_count": 11
    }
   ],
   "source": [
    "# Colocamos la tabla por orden de mayor a menor, seria:\n",
    "chipo_description.sort_values(\"unity_price\", ascending=False)"
   ]
  },
  {
   "cell_type": "code",
   "execution_count": null,
   "metadata": {},
   "outputs": [],
   "source": [
    "# otra forma de hacerlo sería:\n",
    "chipo_description[chipo_description.unity_price == max(chipo_description.unity_price)]"
   ]
  },
  {
   "cell_type": "markdown",
   "metadata": {},
   "source": [
    "### Step 5. What is the price of each item? \n",
    "###### print a data frame with only two columns item_name and item_price"
   ]
  },
  {
   "cell_type": "code",
   "execution_count": 13,
   "metadata": {},
   "outputs": [
    {
     "output_type": "execute_result",
     "data": {
      "text/plain": "      order_id  quantity                              item_name  \\\n0            1         1           Chips and Fresh Tomato Salsa   \n1            1         1                                   Izze   \n2            1         1                       Nantucket Nectar   \n3            1         1  Chips and Tomatillo-Green Chili Salsa   \n4            2         2                           Chicken Bowl   \n...        ...       ...                                    ...   \n3890      1559         2                  Carnitas Crispy Tacos   \n3973      1592         4                      Canned Soft Drink   \n4152      1660        10                          Bottled Water   \n4354      1738         2                       Steak Soft Tacos   \n4489      1786         4                    Chips and Guacamole   \n\n                                     choice_description  item_price  \\\n0                                                   NaN        2.39   \n1                                          [Clementine]        3.39   \n2                                               [Apple]        3.39   \n3                                                   NaN        2.39   \n4     [Tomatillo-Red Chili Salsa (Hot), [Black Beans...       16.98   \n...                                                 ...         ...   \n3890     [Fresh Tomato Salsa (Mild), [Cheese, Lettuce]]       17.98   \n3973                                             [Coke]        5.00   \n4152                                                NaN       15.00   \n4354            [Fresh Tomato Salsa, [Cheese, Lettuce]]       18.50   \n4489                                                NaN       17.80   \n\n      unity_price  \n0            2.39  \n1            3.39  \n2            3.39  \n3            2.39  \n4            8.49  \n...           ...  \n3890         8.99  \n3973         1.25  \n4152         1.50  \n4354         9.25  \n4489         4.45  \n\n[103 rows x 6 columns]",
      "text/html": "<div>\n<style scoped>\n    .dataframe tbody tr th:only-of-type {\n        vertical-align: middle;\n    }\n\n    .dataframe tbody tr th {\n        vertical-align: top;\n    }\n\n    .dataframe thead th {\n        text-align: right;\n    }\n</style>\n<table border=\"1\" class=\"dataframe\">\n  <thead>\n    <tr style=\"text-align: right;\">\n      <th></th>\n      <th>order_id</th>\n      <th>quantity</th>\n      <th>item_name</th>\n      <th>choice_description</th>\n      <th>item_price</th>\n      <th>unity_price</th>\n    </tr>\n  </thead>\n  <tbody>\n    <tr>\n      <th>0</th>\n      <td>1</td>\n      <td>1</td>\n      <td>Chips and Fresh Tomato Salsa</td>\n      <td>NaN</td>\n      <td>2.39</td>\n      <td>2.39</td>\n    </tr>\n    <tr>\n      <th>1</th>\n      <td>1</td>\n      <td>1</td>\n      <td>Izze</td>\n      <td>[Clementine]</td>\n      <td>3.39</td>\n      <td>3.39</td>\n    </tr>\n    <tr>\n      <th>2</th>\n      <td>1</td>\n      <td>1</td>\n      <td>Nantucket Nectar</td>\n      <td>[Apple]</td>\n      <td>3.39</td>\n      <td>3.39</td>\n    </tr>\n    <tr>\n      <th>3</th>\n      <td>1</td>\n      <td>1</td>\n      <td>Chips and Tomatillo-Green Chili Salsa</td>\n      <td>NaN</td>\n      <td>2.39</td>\n      <td>2.39</td>\n    </tr>\n    <tr>\n      <th>4</th>\n      <td>2</td>\n      <td>2</td>\n      <td>Chicken Bowl</td>\n      <td>[Tomatillo-Red Chili Salsa (Hot), [Black Beans...</td>\n      <td>16.98</td>\n      <td>8.49</td>\n    </tr>\n    <tr>\n      <th>...</th>\n      <td>...</td>\n      <td>...</td>\n      <td>...</td>\n      <td>...</td>\n      <td>...</td>\n      <td>...</td>\n    </tr>\n    <tr>\n      <th>3890</th>\n      <td>1559</td>\n      <td>2</td>\n      <td>Carnitas Crispy Tacos</td>\n      <td>[Fresh Tomato Salsa (Mild), [Cheese, Lettuce]]</td>\n      <td>17.98</td>\n      <td>8.99</td>\n    </tr>\n    <tr>\n      <th>3973</th>\n      <td>1592</td>\n      <td>4</td>\n      <td>Canned Soft Drink</td>\n      <td>[Coke]</td>\n      <td>5.00</td>\n      <td>1.25</td>\n    </tr>\n    <tr>\n      <th>4152</th>\n      <td>1660</td>\n      <td>10</td>\n      <td>Bottled Water</td>\n      <td>NaN</td>\n      <td>15.00</td>\n      <td>1.50</td>\n    </tr>\n    <tr>\n      <th>4354</th>\n      <td>1738</td>\n      <td>2</td>\n      <td>Steak Soft Tacos</td>\n      <td>[Fresh Tomato Salsa, [Cheese, Lettuce]]</td>\n      <td>18.50</td>\n      <td>9.25</td>\n    </tr>\n    <tr>\n      <th>4489</th>\n      <td>1786</td>\n      <td>4</td>\n      <td>Chips and Guacamole</td>\n      <td>NaN</td>\n      <td>17.80</td>\n      <td>4.45</td>\n    </tr>\n  </tbody>\n</table>\n<p>103 rows × 6 columns</p>\n</div>"
     },
     "metadata": {},
     "execution_count": 13
    }
   ],
   "source": [
    "# delete the duplicates in item_name and quantity\n",
    "chipo_dropped = chipo.copy()\n",
    "chipo_dropped = chipo_dropped.drop_duplicates([\"item_name\", \"quantity\"])\n",
    "chipo_dropped\n"
   ]
  },
  {
   "cell_type": "code",
   "execution_count": 16,
   "metadata": {},
   "outputs": [
    {
     "output_type": "execute_result",
     "data": {
      "text/plain": "      order_id  quantity                              item_name  \\\n0            1         1           Chips and Fresh Tomato Salsa   \n1            1         1                                   Izze   \n2            1         1                       Nantucket Nectar   \n3            1         1  Chips and Tomatillo-Green Chili Salsa   \n5            3         1                           Chicken Bowl   \n6            3         1                          Side of Chips   \n7            4         1                          Steak Burrito   \n8            4         1                       Steak Soft Tacos   \n10           5         1                    Chips and Guacamole   \n11           6         1                   Chicken Crispy Tacos   \n12           6         1                     Chicken Soft Tacos   \n16           8         1                        Chicken Burrito   \n21          11         1                       Barbacoa Burrito   \n27          14         1                       Carnitas Burrito   \n28          14         1                            Canned Soda   \n33          17         1                          Carnitas Bowl   \n34          17         1                          Bottled Water   \n38          18         1  Chips and Tomatillo Green Chili Salsa   \n39          19         1                          Barbacoa Bowl   \n40          19         1                                  Chips   \n44          20         1                     Chicken Salad Bowl   \n54          25         1                             Steak Bowl   \n56          26         1                    Barbacoa Soft Tacos   \n57          26         1                         Veggie Burrito   \n62          28         1                            Veggie Bowl   \n92          40         1                     Steak Crispy Tacos   \n111         49         1    Chips and Tomatillo Red Chili Salsa   \n168         75         1                  Barbacoa Crispy Tacos   \n186         83         1                      Veggie Salad Bowl   \n191         85         1     Chips and Roasted Chili-Corn Salsa   \n233        102         1     Chips and Roasted Chili Corn Salsa   \n237        103         1                    Carnitas Soft Tacos   \n250        109         1                          Chicken Salad   \n263        114         1                      Canned Soft Drink   \n298        129         1                      6 Pack Soft Drink   \n300        130         1    Chips and Tomatillo-Red Chili Salsa   \n510        214         1                                Burrito   \n520        217         1                           Crispy Tacos   \n554        230         1                  Carnitas Crispy Tacos   \n606        250         1                       Steak Salad Bowl   \n664        276         1                            Steak Salad   \n673        279         1                                   Bowl   \n674        279         1      Chips and Mild Fresh Tomato Salsa   \n738        304         1                      Veggie Soft Tacos   \n1132       468         1                    Carnitas Salad Bowl   \n1229       501         1                    Barbacoa Salad Bowl   \n1414       575         1                                  Salad   \n1653       668         1                    Veggie Crispy Tacos   \n1694       686         1                           Veggie Salad   \n3750      1500         1                         Carnitas Salad   \n\n                                     choice_description  item_price  \\\n0                                                   NaN        2.39   \n1                                          [Clementine]        3.39   \n2                                               [Apple]        3.39   \n3                                                   NaN        2.39   \n5     [Fresh Tomato Salsa (Mild), [Rice, Cheese, Sou...       10.98   \n6                                                   NaN        1.69   \n7     [Tomatillo Red Chili Salsa, [Fajita Vegetables...       11.75   \n8     [Tomatillo Green Chili Salsa, [Pinto Beans, Ch...        9.25   \n10                                                  NaN        4.45   \n11    [Roasted Chili Corn Salsa, [Fajita Vegetables,...        8.75   \n12    [Roasted Chili Corn Salsa, [Rice, Black Beans,...        8.75   \n16    [Tomatillo-Green Chili Salsa (Medium), [Pinto ...        8.49   \n21    [[Fresh Tomato Salsa (Mild), Tomatillo-Green C...        8.99   \n27    [[Tomatillo-Green Chili Salsa (Medium), Roaste...        8.99   \n28                                         [Dr. Pepper]        1.09   \n33    [Tomatillo-Red Chili Salsa (Hot), [Black Beans...        8.99   \n34                                                  NaN        1.09   \n38                                                  NaN        2.95   \n39    [Roasted Chili Corn Salsa, [Fajita Vegetables,...       11.75   \n40                                                  NaN        2.15   \n44    [Fresh Tomato Salsa, [Fajita Vegetables, Pinto...        8.75   \n54    [Fresh Tomato Salsa (Mild), [Black Beans, Rice...        8.99   \n56    [Fresh Tomato Salsa, [Fajita Vegetables, Black...        9.25   \n57    [Tomatillo Red Chili Salsa, [Fajita Vegetables...       11.25   \n62    [Fresh Tomato Salsa, [Fajita Vegetables, Rice,...       11.25   \n92                     [Fresh Tomato Salsa, Sour Cream]        9.25   \n111                                                 NaN        2.95   \n168   [Tomatillo Red Chili Salsa, [Rice, Black Beans...       11.75   \n186   [Fresh Tomato Salsa, [Fajita Vegetables, Rice,...       11.25   \n191                                                 NaN        2.39   \n233                                                 NaN        2.95   \n237   [Tomatillo Green Chili Salsa, [Fajita Vegetabl...        9.25   \n250   [Roasted Chili Corn Salsa (Medium), [Black Bea...       10.98   \n263                                              [Coke]        1.25   \n298                                            [Sprite]        6.49   \n300                                                 NaN        2.39   \n510   [Adobo-Marinated and Grilled Chicken, Pinto Be...        7.40   \n520                 [Adobo-Marinated and Grilled Steak]        7.40   \n554                          [Roasted Chili Corn Salsa]        9.25   \n606   [Fresh Tomato Salsa, [Pinto Beans, Cheese, Gua...       11.89   \n664   [Tomatillo-Red Chili Salsa (Hot), [Black Beans...        8.99   \n673   [Adobo-Marinated and Grilled Steak, [Sour Crea...        7.40   \n674                                                 NaN        3.00   \n738   [Tomatillo Red Chili Salsa, [Fajita Vegetables...       11.25   \n1132  [Fresh Tomato Salsa, [Rice, Black Beans, Chees...       11.89   \n1229  [Fresh Tomato Salsa, [Rice, Fajita Vegetables,...       11.89   \n1414  [Brown Rice, Adobo-Marinated and Grilled Chick...        7.40   \n1653  [Fresh Tomato Salsa (Mild), [Pinto Beans, Rice...        8.49   \n1694  [[Fresh Tomato Salsa (Mild), Roasted Chili Cor...        8.49   \n3750  [[Fresh Tomato Salsa (Mild), Roasted Chili Cor...        8.99   \n\n      unity_price  \n0            2.39  \n1            3.39  \n2            3.39  \n3            2.39  \n5           10.98  \n6            1.69  \n7           11.75  \n8            9.25  \n10           4.45  \n11           8.75  \n12           8.75  \n16           8.49  \n21           8.99  \n27           8.99  \n28           1.09  \n33           8.99  \n34           1.09  \n38           2.95  \n39          11.75  \n40           2.15  \n44           8.75  \n54           8.99  \n56           9.25  \n57          11.25  \n62          11.25  \n92           9.25  \n111          2.95  \n168         11.75  \n186         11.25  \n191          2.39  \n233          2.95  \n237          9.25  \n250         10.98  \n263          1.25  \n298          6.49  \n300          2.39  \n510          7.40  \n520          7.40  \n554          9.25  \n606         11.89  \n664          8.99  \n673          7.40  \n674          3.00  \n738         11.25  \n1132        11.89  \n1229        11.89  \n1414         7.40  \n1653         8.49  \n1694         8.49  \n3750         8.99  ",
      "text/html": "<div>\n<style scoped>\n    .dataframe tbody tr th:only-of-type {\n        vertical-align: middle;\n    }\n\n    .dataframe tbody tr th {\n        vertical-align: top;\n    }\n\n    .dataframe thead th {\n        text-align: right;\n    }\n</style>\n<table border=\"1\" class=\"dataframe\">\n  <thead>\n    <tr style=\"text-align: right;\">\n      <th></th>\n      <th>order_id</th>\n      <th>quantity</th>\n      <th>item_name</th>\n      <th>choice_description</th>\n      <th>item_price</th>\n      <th>unity_price</th>\n    </tr>\n  </thead>\n  <tbody>\n    <tr>\n      <th>0</th>\n      <td>1</td>\n      <td>1</td>\n      <td>Chips and Fresh Tomato Salsa</td>\n      <td>NaN</td>\n      <td>2.39</td>\n      <td>2.39</td>\n    </tr>\n    <tr>\n      <th>1</th>\n      <td>1</td>\n      <td>1</td>\n      <td>Izze</td>\n      <td>[Clementine]</td>\n      <td>3.39</td>\n      <td>3.39</td>\n    </tr>\n    <tr>\n      <th>2</th>\n      <td>1</td>\n      <td>1</td>\n      <td>Nantucket Nectar</td>\n      <td>[Apple]</td>\n      <td>3.39</td>\n      <td>3.39</td>\n    </tr>\n    <tr>\n      <th>3</th>\n      <td>1</td>\n      <td>1</td>\n      <td>Chips and Tomatillo-Green Chili Salsa</td>\n      <td>NaN</td>\n      <td>2.39</td>\n      <td>2.39</td>\n    </tr>\n    <tr>\n      <th>5</th>\n      <td>3</td>\n      <td>1</td>\n      <td>Chicken Bowl</td>\n      <td>[Fresh Tomato Salsa (Mild), [Rice, Cheese, Sou...</td>\n      <td>10.98</td>\n      <td>10.98</td>\n    </tr>\n    <tr>\n      <th>6</th>\n      <td>3</td>\n      <td>1</td>\n      <td>Side of Chips</td>\n      <td>NaN</td>\n      <td>1.69</td>\n      <td>1.69</td>\n    </tr>\n    <tr>\n      <th>7</th>\n      <td>4</td>\n      <td>1</td>\n      <td>Steak Burrito</td>\n      <td>[Tomatillo Red Chili Salsa, [Fajita Vegetables...</td>\n      <td>11.75</td>\n      <td>11.75</td>\n    </tr>\n    <tr>\n      <th>8</th>\n      <td>4</td>\n      <td>1</td>\n      <td>Steak Soft Tacos</td>\n      <td>[Tomatillo Green Chili Salsa, [Pinto Beans, Ch...</td>\n      <td>9.25</td>\n      <td>9.25</td>\n    </tr>\n    <tr>\n      <th>10</th>\n      <td>5</td>\n      <td>1</td>\n      <td>Chips and Guacamole</td>\n      <td>NaN</td>\n      <td>4.45</td>\n      <td>4.45</td>\n    </tr>\n    <tr>\n      <th>11</th>\n      <td>6</td>\n      <td>1</td>\n      <td>Chicken Crispy Tacos</td>\n      <td>[Roasted Chili Corn Salsa, [Fajita Vegetables,...</td>\n      <td>8.75</td>\n      <td>8.75</td>\n    </tr>\n    <tr>\n      <th>12</th>\n      <td>6</td>\n      <td>1</td>\n      <td>Chicken Soft Tacos</td>\n      <td>[Roasted Chili Corn Salsa, [Rice, Black Beans,...</td>\n      <td>8.75</td>\n      <td>8.75</td>\n    </tr>\n    <tr>\n      <th>16</th>\n      <td>8</td>\n      <td>1</td>\n      <td>Chicken Burrito</td>\n      <td>[Tomatillo-Green Chili Salsa (Medium), [Pinto ...</td>\n      <td>8.49</td>\n      <td>8.49</td>\n    </tr>\n    <tr>\n      <th>21</th>\n      <td>11</td>\n      <td>1</td>\n      <td>Barbacoa Burrito</td>\n      <td>[[Fresh Tomato Salsa (Mild), Tomatillo-Green C...</td>\n      <td>8.99</td>\n      <td>8.99</td>\n    </tr>\n    <tr>\n      <th>27</th>\n      <td>14</td>\n      <td>1</td>\n      <td>Carnitas Burrito</td>\n      <td>[[Tomatillo-Green Chili Salsa (Medium), Roaste...</td>\n      <td>8.99</td>\n      <td>8.99</td>\n    </tr>\n    <tr>\n      <th>28</th>\n      <td>14</td>\n      <td>1</td>\n      <td>Canned Soda</td>\n      <td>[Dr. Pepper]</td>\n      <td>1.09</td>\n      <td>1.09</td>\n    </tr>\n    <tr>\n      <th>33</th>\n      <td>17</td>\n      <td>1</td>\n      <td>Carnitas Bowl</td>\n      <td>[Tomatillo-Red Chili Salsa (Hot), [Black Beans...</td>\n      <td>8.99</td>\n      <td>8.99</td>\n    </tr>\n    <tr>\n      <th>34</th>\n      <td>17</td>\n      <td>1</td>\n      <td>Bottled Water</td>\n      <td>NaN</td>\n      <td>1.09</td>\n      <td>1.09</td>\n    </tr>\n    <tr>\n      <th>38</th>\n      <td>18</td>\n      <td>1</td>\n      <td>Chips and Tomatillo Green Chili Salsa</td>\n      <td>NaN</td>\n      <td>2.95</td>\n      <td>2.95</td>\n    </tr>\n    <tr>\n      <th>39</th>\n      <td>19</td>\n      <td>1</td>\n      <td>Barbacoa Bowl</td>\n      <td>[Roasted Chili Corn Salsa, [Fajita Vegetables,...</td>\n      <td>11.75</td>\n      <td>11.75</td>\n    </tr>\n    <tr>\n      <th>40</th>\n      <td>19</td>\n      <td>1</td>\n      <td>Chips</td>\n      <td>NaN</td>\n      <td>2.15</td>\n      <td>2.15</td>\n    </tr>\n    <tr>\n      <th>44</th>\n      <td>20</td>\n      <td>1</td>\n      <td>Chicken Salad Bowl</td>\n      <td>[Fresh Tomato Salsa, [Fajita Vegetables, Pinto...</td>\n      <td>8.75</td>\n      <td>8.75</td>\n    </tr>\n    <tr>\n      <th>54</th>\n      <td>25</td>\n      <td>1</td>\n      <td>Steak Bowl</td>\n      <td>[Fresh Tomato Salsa (Mild), [Black Beans, Rice...</td>\n      <td>8.99</td>\n      <td>8.99</td>\n    </tr>\n    <tr>\n      <th>56</th>\n      <td>26</td>\n      <td>1</td>\n      <td>Barbacoa Soft Tacos</td>\n      <td>[Fresh Tomato Salsa, [Fajita Vegetables, Black...</td>\n      <td>9.25</td>\n      <td>9.25</td>\n    </tr>\n    <tr>\n      <th>57</th>\n      <td>26</td>\n      <td>1</td>\n      <td>Veggie Burrito</td>\n      <td>[Tomatillo Red Chili Salsa, [Fajita Vegetables...</td>\n      <td>11.25</td>\n      <td>11.25</td>\n    </tr>\n    <tr>\n      <th>62</th>\n      <td>28</td>\n      <td>1</td>\n      <td>Veggie Bowl</td>\n      <td>[Fresh Tomato Salsa, [Fajita Vegetables, Rice,...</td>\n      <td>11.25</td>\n      <td>11.25</td>\n    </tr>\n    <tr>\n      <th>92</th>\n      <td>40</td>\n      <td>1</td>\n      <td>Steak Crispy Tacos</td>\n      <td>[Fresh Tomato Salsa, Sour Cream]</td>\n      <td>9.25</td>\n      <td>9.25</td>\n    </tr>\n    <tr>\n      <th>111</th>\n      <td>49</td>\n      <td>1</td>\n      <td>Chips and Tomatillo Red Chili Salsa</td>\n      <td>NaN</td>\n      <td>2.95</td>\n      <td>2.95</td>\n    </tr>\n    <tr>\n      <th>168</th>\n      <td>75</td>\n      <td>1</td>\n      <td>Barbacoa Crispy Tacos</td>\n      <td>[Tomatillo Red Chili Salsa, [Rice, Black Beans...</td>\n      <td>11.75</td>\n      <td>11.75</td>\n    </tr>\n    <tr>\n      <th>186</th>\n      <td>83</td>\n      <td>1</td>\n      <td>Veggie Salad Bowl</td>\n      <td>[Fresh Tomato Salsa, [Fajita Vegetables, Rice,...</td>\n      <td>11.25</td>\n      <td>11.25</td>\n    </tr>\n    <tr>\n      <th>191</th>\n      <td>85</td>\n      <td>1</td>\n      <td>Chips and Roasted Chili-Corn Salsa</td>\n      <td>NaN</td>\n      <td>2.39</td>\n      <td>2.39</td>\n    </tr>\n    <tr>\n      <th>233</th>\n      <td>102</td>\n      <td>1</td>\n      <td>Chips and Roasted Chili Corn Salsa</td>\n      <td>NaN</td>\n      <td>2.95</td>\n      <td>2.95</td>\n    </tr>\n    <tr>\n      <th>237</th>\n      <td>103</td>\n      <td>1</td>\n      <td>Carnitas Soft Tacos</td>\n      <td>[Tomatillo Green Chili Salsa, [Fajita Vegetabl...</td>\n      <td>9.25</td>\n      <td>9.25</td>\n    </tr>\n    <tr>\n      <th>250</th>\n      <td>109</td>\n      <td>1</td>\n      <td>Chicken Salad</td>\n      <td>[Roasted Chili Corn Salsa (Medium), [Black Bea...</td>\n      <td>10.98</td>\n      <td>10.98</td>\n    </tr>\n    <tr>\n      <th>263</th>\n      <td>114</td>\n      <td>1</td>\n      <td>Canned Soft Drink</td>\n      <td>[Coke]</td>\n      <td>1.25</td>\n      <td>1.25</td>\n    </tr>\n    <tr>\n      <th>298</th>\n      <td>129</td>\n      <td>1</td>\n      <td>6 Pack Soft Drink</td>\n      <td>[Sprite]</td>\n      <td>6.49</td>\n      <td>6.49</td>\n    </tr>\n    <tr>\n      <th>300</th>\n      <td>130</td>\n      <td>1</td>\n      <td>Chips and Tomatillo-Red Chili Salsa</td>\n      <td>NaN</td>\n      <td>2.39</td>\n      <td>2.39</td>\n    </tr>\n    <tr>\n      <th>510</th>\n      <td>214</td>\n      <td>1</td>\n      <td>Burrito</td>\n      <td>[Adobo-Marinated and Grilled Chicken, Pinto Be...</td>\n      <td>7.40</td>\n      <td>7.40</td>\n    </tr>\n    <tr>\n      <th>520</th>\n      <td>217</td>\n      <td>1</td>\n      <td>Crispy Tacos</td>\n      <td>[Adobo-Marinated and Grilled Steak]</td>\n      <td>7.40</td>\n      <td>7.40</td>\n    </tr>\n    <tr>\n      <th>554</th>\n      <td>230</td>\n      <td>1</td>\n      <td>Carnitas Crispy Tacos</td>\n      <td>[Roasted Chili Corn Salsa]</td>\n      <td>9.25</td>\n      <td>9.25</td>\n    </tr>\n    <tr>\n      <th>606</th>\n      <td>250</td>\n      <td>1</td>\n      <td>Steak Salad Bowl</td>\n      <td>[Fresh Tomato Salsa, [Pinto Beans, Cheese, Gua...</td>\n      <td>11.89</td>\n      <td>11.89</td>\n    </tr>\n    <tr>\n      <th>664</th>\n      <td>276</td>\n      <td>1</td>\n      <td>Steak Salad</td>\n      <td>[Tomatillo-Red Chili Salsa (Hot), [Black Beans...</td>\n      <td>8.99</td>\n      <td>8.99</td>\n    </tr>\n    <tr>\n      <th>673</th>\n      <td>279</td>\n      <td>1</td>\n      <td>Bowl</td>\n      <td>[Adobo-Marinated and Grilled Steak, [Sour Crea...</td>\n      <td>7.40</td>\n      <td>7.40</td>\n    </tr>\n    <tr>\n      <th>674</th>\n      <td>279</td>\n      <td>1</td>\n      <td>Chips and Mild Fresh Tomato Salsa</td>\n      <td>NaN</td>\n      <td>3.00</td>\n      <td>3.00</td>\n    </tr>\n    <tr>\n      <th>738</th>\n      <td>304</td>\n      <td>1</td>\n      <td>Veggie Soft Tacos</td>\n      <td>[Tomatillo Red Chili Salsa, [Fajita Vegetables...</td>\n      <td>11.25</td>\n      <td>11.25</td>\n    </tr>\n    <tr>\n      <th>1132</th>\n      <td>468</td>\n      <td>1</td>\n      <td>Carnitas Salad Bowl</td>\n      <td>[Fresh Tomato Salsa, [Rice, Black Beans, Chees...</td>\n      <td>11.89</td>\n      <td>11.89</td>\n    </tr>\n    <tr>\n      <th>1229</th>\n      <td>501</td>\n      <td>1</td>\n      <td>Barbacoa Salad Bowl</td>\n      <td>[Fresh Tomato Salsa, [Rice, Fajita Vegetables,...</td>\n      <td>11.89</td>\n      <td>11.89</td>\n    </tr>\n    <tr>\n      <th>1414</th>\n      <td>575</td>\n      <td>1</td>\n      <td>Salad</td>\n      <td>[Brown Rice, Adobo-Marinated and Grilled Chick...</td>\n      <td>7.40</td>\n      <td>7.40</td>\n    </tr>\n    <tr>\n      <th>1653</th>\n      <td>668</td>\n      <td>1</td>\n      <td>Veggie Crispy Tacos</td>\n      <td>[Fresh Tomato Salsa (Mild), [Pinto Beans, Rice...</td>\n      <td>8.49</td>\n      <td>8.49</td>\n    </tr>\n    <tr>\n      <th>1694</th>\n      <td>686</td>\n      <td>1</td>\n      <td>Veggie Salad</td>\n      <td>[[Fresh Tomato Salsa (Mild), Roasted Chili Cor...</td>\n      <td>8.49</td>\n      <td>8.49</td>\n    </tr>\n    <tr>\n      <th>3750</th>\n      <td>1500</td>\n      <td>1</td>\n      <td>Carnitas Salad</td>\n      <td>[[Fresh Tomato Salsa (Mild), Roasted Chili Cor...</td>\n      <td>8.99</td>\n      <td>8.99</td>\n    </tr>\n  </tbody>\n</table>\n</div>"
     },
     "metadata": {},
     "execution_count": 16
    }
   ],
   "source": [
    "# select only the products with quantity equals to 1\n",
    "chipo_dropped = chipo_dropped[(chipo_dropped.quantity == 1)]\n",
    "chipo_dropped"
   ]
  },
  {
   "cell_type": "code",
   "execution_count": 17,
   "metadata": {},
   "outputs": [
    {
     "output_type": "execute_result",
     "data": {
      "text/plain": "                                  item_name  item_price\n0              Chips and Fresh Tomato Salsa        2.39\n1                                      Izze        3.39\n2                          Nantucket Nectar        3.39\n3     Chips and Tomatillo-Green Chili Salsa        2.39\n5                              Chicken Bowl       10.98\n6                             Side of Chips        1.69\n7                             Steak Burrito       11.75\n8                          Steak Soft Tacos        9.25\n10                      Chips and Guacamole        4.45\n11                     Chicken Crispy Tacos        8.75\n12                       Chicken Soft Tacos        8.75\n16                          Chicken Burrito        8.49\n21                         Barbacoa Burrito        8.99\n27                         Carnitas Burrito        8.99\n28                              Canned Soda        1.09\n33                            Carnitas Bowl        8.99\n34                            Bottled Water        1.09\n38    Chips and Tomatillo Green Chili Salsa        2.95\n39                            Barbacoa Bowl       11.75\n40                                    Chips        2.15\n44                       Chicken Salad Bowl        8.75\n54                               Steak Bowl        8.99\n56                      Barbacoa Soft Tacos        9.25\n57                           Veggie Burrito       11.25\n62                              Veggie Bowl       11.25\n92                       Steak Crispy Tacos        9.25\n111     Chips and Tomatillo Red Chili Salsa        2.95\n168                   Barbacoa Crispy Tacos       11.75\n186                       Veggie Salad Bowl       11.25\n191      Chips and Roasted Chili-Corn Salsa        2.39\n233      Chips and Roasted Chili Corn Salsa        2.95\n237                     Carnitas Soft Tacos        9.25\n250                           Chicken Salad       10.98\n263                       Canned Soft Drink        1.25\n298                       6 Pack Soft Drink        6.49\n300     Chips and Tomatillo-Red Chili Salsa        2.39\n510                                 Burrito        7.40\n520                            Crispy Tacos        7.40\n554                   Carnitas Crispy Tacos        9.25\n606                        Steak Salad Bowl       11.89\n664                             Steak Salad        8.99\n673                                    Bowl        7.40\n674       Chips and Mild Fresh Tomato Salsa        3.00\n738                       Veggie Soft Tacos       11.25\n1132                    Carnitas Salad Bowl       11.89\n1229                    Barbacoa Salad Bowl       11.89\n1414                                  Salad        7.40\n1653                    Veggie Crispy Tacos        8.49\n1694                           Veggie Salad        8.49\n3750                         Carnitas Salad        8.99",
      "text/html": "<div>\n<style scoped>\n    .dataframe tbody tr th:only-of-type {\n        vertical-align: middle;\n    }\n\n    .dataframe tbody tr th {\n        vertical-align: top;\n    }\n\n    .dataframe thead th {\n        text-align: right;\n    }\n</style>\n<table border=\"1\" class=\"dataframe\">\n  <thead>\n    <tr style=\"text-align: right;\">\n      <th></th>\n      <th>item_name</th>\n      <th>item_price</th>\n    </tr>\n  </thead>\n  <tbody>\n    <tr>\n      <th>0</th>\n      <td>Chips and Fresh Tomato Salsa</td>\n      <td>2.39</td>\n    </tr>\n    <tr>\n      <th>1</th>\n      <td>Izze</td>\n      <td>3.39</td>\n    </tr>\n    <tr>\n      <th>2</th>\n      <td>Nantucket Nectar</td>\n      <td>3.39</td>\n    </tr>\n    <tr>\n      <th>3</th>\n      <td>Chips and Tomatillo-Green Chili Salsa</td>\n      <td>2.39</td>\n    </tr>\n    <tr>\n      <th>5</th>\n      <td>Chicken Bowl</td>\n      <td>10.98</td>\n    </tr>\n    <tr>\n      <th>6</th>\n      <td>Side of Chips</td>\n      <td>1.69</td>\n    </tr>\n    <tr>\n      <th>7</th>\n      <td>Steak Burrito</td>\n      <td>11.75</td>\n    </tr>\n    <tr>\n      <th>8</th>\n      <td>Steak Soft Tacos</td>\n      <td>9.25</td>\n    </tr>\n    <tr>\n      <th>10</th>\n      <td>Chips and Guacamole</td>\n      <td>4.45</td>\n    </tr>\n    <tr>\n      <th>11</th>\n      <td>Chicken Crispy Tacos</td>\n      <td>8.75</td>\n    </tr>\n    <tr>\n      <th>12</th>\n      <td>Chicken Soft Tacos</td>\n      <td>8.75</td>\n    </tr>\n    <tr>\n      <th>16</th>\n      <td>Chicken Burrito</td>\n      <td>8.49</td>\n    </tr>\n    <tr>\n      <th>21</th>\n      <td>Barbacoa Burrito</td>\n      <td>8.99</td>\n    </tr>\n    <tr>\n      <th>27</th>\n      <td>Carnitas Burrito</td>\n      <td>8.99</td>\n    </tr>\n    <tr>\n      <th>28</th>\n      <td>Canned Soda</td>\n      <td>1.09</td>\n    </tr>\n    <tr>\n      <th>33</th>\n      <td>Carnitas Bowl</td>\n      <td>8.99</td>\n    </tr>\n    <tr>\n      <th>34</th>\n      <td>Bottled Water</td>\n      <td>1.09</td>\n    </tr>\n    <tr>\n      <th>38</th>\n      <td>Chips and Tomatillo Green Chili Salsa</td>\n      <td>2.95</td>\n    </tr>\n    <tr>\n      <th>39</th>\n      <td>Barbacoa Bowl</td>\n      <td>11.75</td>\n    </tr>\n    <tr>\n      <th>40</th>\n      <td>Chips</td>\n      <td>2.15</td>\n    </tr>\n    <tr>\n      <th>44</th>\n      <td>Chicken Salad Bowl</td>\n      <td>8.75</td>\n    </tr>\n    <tr>\n      <th>54</th>\n      <td>Steak Bowl</td>\n      <td>8.99</td>\n    </tr>\n    <tr>\n      <th>56</th>\n      <td>Barbacoa Soft Tacos</td>\n      <td>9.25</td>\n    </tr>\n    <tr>\n      <th>57</th>\n      <td>Veggie Burrito</td>\n      <td>11.25</td>\n    </tr>\n    <tr>\n      <th>62</th>\n      <td>Veggie Bowl</td>\n      <td>11.25</td>\n    </tr>\n    <tr>\n      <th>92</th>\n      <td>Steak Crispy Tacos</td>\n      <td>9.25</td>\n    </tr>\n    <tr>\n      <th>111</th>\n      <td>Chips and Tomatillo Red Chili Salsa</td>\n      <td>2.95</td>\n    </tr>\n    <tr>\n      <th>168</th>\n      <td>Barbacoa Crispy Tacos</td>\n      <td>11.75</td>\n    </tr>\n    <tr>\n      <th>186</th>\n      <td>Veggie Salad Bowl</td>\n      <td>11.25</td>\n    </tr>\n    <tr>\n      <th>191</th>\n      <td>Chips and Roasted Chili-Corn Salsa</td>\n      <td>2.39</td>\n    </tr>\n    <tr>\n      <th>233</th>\n      <td>Chips and Roasted Chili Corn Salsa</td>\n      <td>2.95</td>\n    </tr>\n    <tr>\n      <th>237</th>\n      <td>Carnitas Soft Tacos</td>\n      <td>9.25</td>\n    </tr>\n    <tr>\n      <th>250</th>\n      <td>Chicken Salad</td>\n      <td>10.98</td>\n    </tr>\n    <tr>\n      <th>263</th>\n      <td>Canned Soft Drink</td>\n      <td>1.25</td>\n    </tr>\n    <tr>\n      <th>298</th>\n      <td>6 Pack Soft Drink</td>\n      <td>6.49</td>\n    </tr>\n    <tr>\n      <th>300</th>\n      <td>Chips and Tomatillo-Red Chili Salsa</td>\n      <td>2.39</td>\n    </tr>\n    <tr>\n      <th>510</th>\n      <td>Burrito</td>\n      <td>7.40</td>\n    </tr>\n    <tr>\n      <th>520</th>\n      <td>Crispy Tacos</td>\n      <td>7.40</td>\n    </tr>\n    <tr>\n      <th>554</th>\n      <td>Carnitas Crispy Tacos</td>\n      <td>9.25</td>\n    </tr>\n    <tr>\n      <th>606</th>\n      <td>Steak Salad Bowl</td>\n      <td>11.89</td>\n    </tr>\n    <tr>\n      <th>664</th>\n      <td>Steak Salad</td>\n      <td>8.99</td>\n    </tr>\n    <tr>\n      <th>673</th>\n      <td>Bowl</td>\n      <td>7.40</td>\n    </tr>\n    <tr>\n      <th>674</th>\n      <td>Chips and Mild Fresh Tomato Salsa</td>\n      <td>3.00</td>\n    </tr>\n    <tr>\n      <th>738</th>\n      <td>Veggie Soft Tacos</td>\n      <td>11.25</td>\n    </tr>\n    <tr>\n      <th>1132</th>\n      <td>Carnitas Salad Bowl</td>\n      <td>11.89</td>\n    </tr>\n    <tr>\n      <th>1229</th>\n      <td>Barbacoa Salad Bowl</td>\n      <td>11.89</td>\n    </tr>\n    <tr>\n      <th>1414</th>\n      <td>Salad</td>\n      <td>7.40</td>\n    </tr>\n    <tr>\n      <th>1653</th>\n      <td>Veggie Crispy Tacos</td>\n      <td>8.49</td>\n    </tr>\n    <tr>\n      <th>1694</th>\n      <td>Veggie Salad</td>\n      <td>8.49</td>\n    </tr>\n    <tr>\n      <th>3750</th>\n      <td>Carnitas Salad</td>\n      <td>8.99</td>\n    </tr>\n  </tbody>\n</table>\n</div>"
     },
     "metadata": {},
     "execution_count": 17
    }
   ],
   "source": [
    "# select only the item_name and item_price columns\n",
    "chipo_dropped = chipo_dropped.loc[:, [\"item_name\", \"item_price\"]]\n",
    "chipo_dropped"
   ]
  },
  {
   "cell_type": "code",
   "execution_count": null,
   "metadata": {},
   "outputs": [],
   "source": [
    "# otra forma\n",
    "chipo[[\"item_name\",\"item_price\"]]"
   ]
  },
  {
   "cell_type": "code",
   "execution_count": 20,
   "metadata": {},
   "outputs": [
    {
     "output_type": "execute_result",
     "data": {
      "text/plain": "                                  item_name  item_price\n606                        Steak Salad Bowl       11.89\n1132                    Carnitas Salad Bowl       11.89\n1229                    Barbacoa Salad Bowl       11.89\n7                             Steak Burrito       11.75\n39                            Barbacoa Bowl       11.75\n168                   Barbacoa Crispy Tacos       11.75\n738                       Veggie Soft Tacos       11.25\n186                       Veggie Salad Bowl       11.25\n62                              Veggie Bowl       11.25\n57                           Veggie Burrito       11.25\n250                           Chicken Salad       10.98\n5                              Chicken Bowl       10.98\n56                      Barbacoa Soft Tacos        9.25\n92                       Steak Crispy Tacos        9.25\n554                   Carnitas Crispy Tacos        9.25\n237                     Carnitas Soft Tacos        9.25\n8                          Steak Soft Tacos        9.25\n664                             Steak Salad        8.99\n54                               Steak Bowl        8.99\n3750                         Carnitas Salad        8.99\n21                         Barbacoa Burrito        8.99\n27                         Carnitas Burrito        8.99\n33                            Carnitas Bowl        8.99\n12                       Chicken Soft Tacos        8.75\n44                       Chicken Salad Bowl        8.75\n11                     Chicken Crispy Tacos        8.75\n1653                    Veggie Crispy Tacos        8.49\n16                          Chicken Burrito        8.49\n1694                           Veggie Salad        8.49\n1414                                  Salad        7.40\n510                                 Burrito        7.40\n520                            Crispy Tacos        7.40\n673                                    Bowl        7.40\n298                       6 Pack Soft Drink        6.49\n10                      Chips and Guacamole        4.45\n1                                      Izze        3.39\n2                          Nantucket Nectar        3.39\n674       Chips and Mild Fresh Tomato Salsa        3.00\n111     Chips and Tomatillo Red Chili Salsa        2.95\n233      Chips and Roasted Chili Corn Salsa        2.95\n38    Chips and Tomatillo Green Chili Salsa        2.95\n3     Chips and Tomatillo-Green Chili Salsa        2.39\n300     Chips and Tomatillo-Red Chili Salsa        2.39\n191      Chips and Roasted Chili-Corn Salsa        2.39\n0              Chips and Fresh Tomato Salsa        2.39\n40                                    Chips        2.15\n6                             Side of Chips        1.69\n263                       Canned Soft Drink        1.25\n28                              Canned Soda        1.09\n34                            Bottled Water        1.09",
      "text/html": "<div>\n<style scoped>\n    .dataframe tbody tr th:only-of-type {\n        vertical-align: middle;\n    }\n\n    .dataframe tbody tr th {\n        vertical-align: top;\n    }\n\n    .dataframe thead th {\n        text-align: right;\n    }\n</style>\n<table border=\"1\" class=\"dataframe\">\n  <thead>\n    <tr style=\"text-align: right;\">\n      <th></th>\n      <th>item_name</th>\n      <th>item_price</th>\n    </tr>\n  </thead>\n  <tbody>\n    <tr>\n      <th>606</th>\n      <td>Steak Salad Bowl</td>\n      <td>11.89</td>\n    </tr>\n    <tr>\n      <th>1132</th>\n      <td>Carnitas Salad Bowl</td>\n      <td>11.89</td>\n    </tr>\n    <tr>\n      <th>1229</th>\n      <td>Barbacoa Salad Bowl</td>\n      <td>11.89</td>\n    </tr>\n    <tr>\n      <th>7</th>\n      <td>Steak Burrito</td>\n      <td>11.75</td>\n    </tr>\n    <tr>\n      <th>39</th>\n      <td>Barbacoa Bowl</td>\n      <td>11.75</td>\n    </tr>\n    <tr>\n      <th>168</th>\n      <td>Barbacoa Crispy Tacos</td>\n      <td>11.75</td>\n    </tr>\n    <tr>\n      <th>738</th>\n      <td>Veggie Soft Tacos</td>\n      <td>11.25</td>\n    </tr>\n    <tr>\n      <th>186</th>\n      <td>Veggie Salad Bowl</td>\n      <td>11.25</td>\n    </tr>\n    <tr>\n      <th>62</th>\n      <td>Veggie Bowl</td>\n      <td>11.25</td>\n    </tr>\n    <tr>\n      <th>57</th>\n      <td>Veggie Burrito</td>\n      <td>11.25</td>\n    </tr>\n    <tr>\n      <th>250</th>\n      <td>Chicken Salad</td>\n      <td>10.98</td>\n    </tr>\n    <tr>\n      <th>5</th>\n      <td>Chicken Bowl</td>\n      <td>10.98</td>\n    </tr>\n    <tr>\n      <th>56</th>\n      <td>Barbacoa Soft Tacos</td>\n      <td>9.25</td>\n    </tr>\n    <tr>\n      <th>92</th>\n      <td>Steak Crispy Tacos</td>\n      <td>9.25</td>\n    </tr>\n    <tr>\n      <th>554</th>\n      <td>Carnitas Crispy Tacos</td>\n      <td>9.25</td>\n    </tr>\n    <tr>\n      <th>237</th>\n      <td>Carnitas Soft Tacos</td>\n      <td>9.25</td>\n    </tr>\n    <tr>\n      <th>8</th>\n      <td>Steak Soft Tacos</td>\n      <td>9.25</td>\n    </tr>\n    <tr>\n      <th>664</th>\n      <td>Steak Salad</td>\n      <td>8.99</td>\n    </tr>\n    <tr>\n      <th>54</th>\n      <td>Steak Bowl</td>\n      <td>8.99</td>\n    </tr>\n    <tr>\n      <th>3750</th>\n      <td>Carnitas Salad</td>\n      <td>8.99</td>\n    </tr>\n    <tr>\n      <th>21</th>\n      <td>Barbacoa Burrito</td>\n      <td>8.99</td>\n    </tr>\n    <tr>\n      <th>27</th>\n      <td>Carnitas Burrito</td>\n      <td>8.99</td>\n    </tr>\n    <tr>\n      <th>33</th>\n      <td>Carnitas Bowl</td>\n      <td>8.99</td>\n    </tr>\n    <tr>\n      <th>12</th>\n      <td>Chicken Soft Tacos</td>\n      <td>8.75</td>\n    </tr>\n    <tr>\n      <th>44</th>\n      <td>Chicken Salad Bowl</td>\n      <td>8.75</td>\n    </tr>\n    <tr>\n      <th>11</th>\n      <td>Chicken Crispy Tacos</td>\n      <td>8.75</td>\n    </tr>\n    <tr>\n      <th>1653</th>\n      <td>Veggie Crispy Tacos</td>\n      <td>8.49</td>\n    </tr>\n    <tr>\n      <th>16</th>\n      <td>Chicken Burrito</td>\n      <td>8.49</td>\n    </tr>\n    <tr>\n      <th>1694</th>\n      <td>Veggie Salad</td>\n      <td>8.49</td>\n    </tr>\n    <tr>\n      <th>1414</th>\n      <td>Salad</td>\n      <td>7.40</td>\n    </tr>\n    <tr>\n      <th>510</th>\n      <td>Burrito</td>\n      <td>7.40</td>\n    </tr>\n    <tr>\n      <th>520</th>\n      <td>Crispy Tacos</td>\n      <td>7.40</td>\n    </tr>\n    <tr>\n      <th>673</th>\n      <td>Bowl</td>\n      <td>7.40</td>\n    </tr>\n    <tr>\n      <th>298</th>\n      <td>6 Pack Soft Drink</td>\n      <td>6.49</td>\n    </tr>\n    <tr>\n      <th>10</th>\n      <td>Chips and Guacamole</td>\n      <td>4.45</td>\n    </tr>\n    <tr>\n      <th>1</th>\n      <td>Izze</td>\n      <td>3.39</td>\n    </tr>\n    <tr>\n      <th>2</th>\n      <td>Nantucket Nectar</td>\n      <td>3.39</td>\n    </tr>\n    <tr>\n      <th>674</th>\n      <td>Chips and Mild Fresh Tomato Salsa</td>\n      <td>3.00</td>\n    </tr>\n    <tr>\n      <th>111</th>\n      <td>Chips and Tomatillo Red Chili Salsa</td>\n      <td>2.95</td>\n    </tr>\n    <tr>\n      <th>233</th>\n      <td>Chips and Roasted Chili Corn Salsa</td>\n      <td>2.95</td>\n    </tr>\n    <tr>\n      <th>38</th>\n      <td>Chips and Tomatillo Green Chili Salsa</td>\n      <td>2.95</td>\n    </tr>\n    <tr>\n      <th>3</th>\n      <td>Chips and Tomatillo-Green Chili Salsa</td>\n      <td>2.39</td>\n    </tr>\n    <tr>\n      <th>300</th>\n      <td>Chips and Tomatillo-Red Chili Salsa</td>\n      <td>2.39</td>\n    </tr>\n    <tr>\n      <th>191</th>\n      <td>Chips and Roasted Chili-Corn Salsa</td>\n      <td>2.39</td>\n    </tr>\n    <tr>\n      <th>0</th>\n      <td>Chips and Fresh Tomato Salsa</td>\n      <td>2.39</td>\n    </tr>\n    <tr>\n      <th>40</th>\n      <td>Chips</td>\n      <td>2.15</td>\n    </tr>\n    <tr>\n      <th>6</th>\n      <td>Side of Chips</td>\n      <td>1.69</td>\n    </tr>\n    <tr>\n      <th>263</th>\n      <td>Canned Soft Drink</td>\n      <td>1.25</td>\n    </tr>\n    <tr>\n      <th>28</th>\n      <td>Canned Soda</td>\n      <td>1.09</td>\n    </tr>\n    <tr>\n      <th>34</th>\n      <td>Bottled Water</td>\n      <td>1.09</td>\n    </tr>\n  </tbody>\n</table>\n</div>"
     },
     "metadata": {},
     "execution_count": 20
    }
   ],
   "source": [
    "# sort the values from the most to less expensive\n",
    "chipo_dropped.sort_values(\"item_price\", ascending = False, inplace=True)\n",
    "chipo_dropped"
   ]
  },
  {
   "cell_type": "code",
   "execution_count": 24,
   "metadata": {
    "collapsed": false
   },
   "outputs": [
    {
     "data": {
      "text/html": [
       "<div>\n",
       "<table border=\"1\" class=\"dataframe\">\n",
       "  <thead>\n",
       "    <tr style=\"text-align: right;\">\n",
       "      <th></th>\n",
       "      <th>item_name</th>\n",
       "      <th>item_price</th>\n",
       "    </tr>\n",
       "  </thead>\n",
       "  <tbody>\n",
       "    <tr>\n",
       "      <th>606</th>\n",
       "      <td>Steak Salad Bowl</td>\n",
       "      <td>11.89</td>\n",
       "    </tr>\n",
       "    <tr>\n",
       "      <th>1229</th>\n",
       "      <td>Barbacoa Salad Bowl</td>\n",
       "      <td>11.89</td>\n",
       "    </tr>\n",
       "    <tr>\n",
       "      <th>1132</th>\n",
       "      <td>Carnitas Salad Bowl</td>\n",
       "      <td>11.89</td>\n",
       "    </tr>\n",
       "    <tr>\n",
       "      <th>7</th>\n",
       "      <td>Steak Burrito</td>\n",
       "      <td>11.75</td>\n",
       "    </tr>\n",
       "    <tr>\n",
       "      <th>168</th>\n",
       "      <td>Barbacoa Crispy Tacos</td>\n",
       "      <td>11.75</td>\n",
       "    </tr>\n",
       "    <tr>\n",
       "      <th>39</th>\n",
       "      <td>Barbacoa Bowl</td>\n",
       "      <td>11.75</td>\n",
       "    </tr>\n",
       "    <tr>\n",
       "      <th>738</th>\n",
       "      <td>Veggie Soft Tacos</td>\n",
       "      <td>11.25</td>\n",
       "    </tr>\n",
       "    <tr>\n",
       "      <th>186</th>\n",
       "      <td>Veggie Salad Bowl</td>\n",
       "      <td>11.25</td>\n",
       "    </tr>\n",
       "    <tr>\n",
       "      <th>62</th>\n",
       "      <td>Veggie Bowl</td>\n",
       "      <td>11.25</td>\n",
       "    </tr>\n",
       "    <tr>\n",
       "      <th>57</th>\n",
       "      <td>Veggie Burrito</td>\n",
       "      <td>11.25</td>\n",
       "    </tr>\n",
       "    <tr>\n",
       "      <th>250</th>\n",
       "      <td>Chicken Salad</td>\n",
       "      <td>10.98</td>\n",
       "    </tr>\n",
       "    <tr>\n",
       "      <th>5</th>\n",
       "      <td>Chicken Bowl</td>\n",
       "      <td>10.98</td>\n",
       "    </tr>\n",
       "    <tr>\n",
       "      <th>8</th>\n",
       "      <td>Steak Soft Tacos</td>\n",
       "      <td>9.25</td>\n",
       "    </tr>\n",
       "    <tr>\n",
       "      <th>554</th>\n",
       "      <td>Carnitas Crispy Tacos</td>\n",
       "      <td>9.25</td>\n",
       "    </tr>\n",
       "    <tr>\n",
       "      <th>237</th>\n",
       "      <td>Carnitas Soft Tacos</td>\n",
       "      <td>9.25</td>\n",
       "    </tr>\n",
       "    <tr>\n",
       "      <th>56</th>\n",
       "      <td>Barbacoa Soft Tacos</td>\n",
       "      <td>9.25</td>\n",
       "    </tr>\n",
       "    <tr>\n",
       "      <th>92</th>\n",
       "      <td>Steak Crispy Tacos</td>\n",
       "      <td>9.25</td>\n",
       "    </tr>\n",
       "    <tr>\n",
       "      <th>664</th>\n",
       "      <td>Steak Salad</td>\n",
       "      <td>8.99</td>\n",
       "    </tr>\n",
       "    <tr>\n",
       "      <th>54</th>\n",
       "      <td>Steak Bowl</td>\n",
       "      <td>8.99</td>\n",
       "    </tr>\n",
       "    <tr>\n",
       "      <th>3750</th>\n",
       "      <td>Carnitas Salad</td>\n",
       "      <td>8.99</td>\n",
       "    </tr>\n",
       "  </tbody>\n",
       "</table>\n",
       "</div>"
      ],
      "text/plain": [
       "                  item_name  item_price\n",
       "606        Steak Salad Bowl       11.89\n",
       "1229    Barbacoa Salad Bowl       11.89\n",
       "1132    Carnitas Salad Bowl       11.89\n",
       "7             Steak Burrito       11.75\n",
       "168   Barbacoa Crispy Tacos       11.75\n",
       "39            Barbacoa Bowl       11.75\n",
       "738       Veggie Soft Tacos       11.25\n",
       "186       Veggie Salad Bowl       11.25\n",
       "62              Veggie Bowl       11.25\n",
       "57           Veggie Burrito       11.25\n",
       "250           Chicken Salad       10.98\n",
       "5              Chicken Bowl       10.98\n",
       "8          Steak Soft Tacos        9.25\n",
       "554   Carnitas Crispy Tacos        9.25\n",
       "237     Carnitas Soft Tacos        9.25\n",
       "56      Barbacoa Soft Tacos        9.25\n",
       "92       Steak Crispy Tacos        9.25\n",
       "664             Steak Salad        8.99\n",
       "54               Steak Bowl        8.99\n",
       "3750         Carnitas Salad        8.99"
      ]
     },
     "execution_count": 24,
     "metadata": {},
     "output_type": "execute_result"
    }
   ],
   "source": [
    "# delete the duplicates in item_name and quantity\n",
    "\n",
    "\n",
    "# select only the products with quantity equals to 1\n",
    "\n",
    "\n",
    "# select only the item_name and item_price columns\n",
    "\n",
    "\n",
    "# sort the values from the most to less expensive\n"
   ]
  },
  {
   "cell_type": "markdown",
   "metadata": {},
   "source": [
    "### Step 6. Sort by the name of the item"
   ]
  },
  {
   "cell_type": "code",
   "execution_count": 21,
   "metadata": {},
   "outputs": [
    {
     "output_type": "execute_result",
     "data": {
      "text/plain": "3389    6 Pack Soft Drink\n341     6 Pack Soft Drink\n1849    6 Pack Soft Drink\n1860    6 Pack Soft Drink\n2713    6 Pack Soft Drink\n              ...        \n2384    Veggie Soft Tacos\n781     Veggie Soft Tacos\n2851    Veggie Soft Tacos\n1699    Veggie Soft Tacos\n1395    Veggie Soft Tacos\nName: item_name, Length: 4622, dtype: object"
     },
     "metadata": {},
     "execution_count": 21
    }
   ],
   "source": [
    "chipo.item_name.sort_values()  ###modificar"
   ]
  },
  {
   "cell_type": "code",
   "execution_count": 22,
   "metadata": {},
   "outputs": [
    {
     "output_type": "execute_result",
     "data": {
      "text/plain": "      order_id  quantity          item_name  \\\n3389      1360         2  6 Pack Soft Drink   \n341        148         1  6 Pack Soft Drink   \n1849       749         1  6 Pack Soft Drink   \n1860       754         1  6 Pack Soft Drink   \n2713      1076         1  6 Pack Soft Drink   \n...        ...       ...                ...   \n2384       948         1  Veggie Soft Tacos   \n781        322         1  Veggie Soft Tacos   \n2851      1132         1  Veggie Soft Tacos   \n1699       688         1  Veggie Soft Tacos   \n1395       567         1  Veggie Soft Tacos   \n\n                                     choice_description  item_price  \\\n3389                                        [Diet Coke]       12.98   \n341                                         [Diet Coke]        6.49   \n1849                                             [Coke]        6.49   \n1860                                        [Diet Coke]        6.49   \n2713                                             [Coke]        6.49   \n...                                                 ...         ...   \n2384  [Roasted Chili Corn Salsa, [Fajita Vegetables,...        8.75   \n781   [Fresh Tomato Salsa, [Black Beans, Cheese, Sou...        8.75   \n2851  [Roasted Chili Corn Salsa (Medium), [Black Bea...        8.49   \n1699  [Fresh Tomato Salsa, [Fajita Vegetables, Rice,...       11.25   \n1395  [Fresh Tomato Salsa (Mild), [Pinto Beans, Rice...        8.49   \n\n      unity_price  \n3389         6.49  \n341          6.49  \n1849         6.49  \n1860         6.49  \n2713         6.49  \n...           ...  \n2384         8.75  \n781          8.75  \n2851         8.49  \n1699        11.25  \n1395         8.49  \n\n[4622 rows x 6 columns]",
      "text/html": "<div>\n<style scoped>\n    .dataframe tbody tr th:only-of-type {\n        vertical-align: middle;\n    }\n\n    .dataframe tbody tr th {\n        vertical-align: top;\n    }\n\n    .dataframe thead th {\n        text-align: right;\n    }\n</style>\n<table border=\"1\" class=\"dataframe\">\n  <thead>\n    <tr style=\"text-align: right;\">\n      <th></th>\n      <th>order_id</th>\n      <th>quantity</th>\n      <th>item_name</th>\n      <th>choice_description</th>\n      <th>item_price</th>\n      <th>unity_price</th>\n    </tr>\n  </thead>\n  <tbody>\n    <tr>\n      <th>3389</th>\n      <td>1360</td>\n      <td>2</td>\n      <td>6 Pack Soft Drink</td>\n      <td>[Diet Coke]</td>\n      <td>12.98</td>\n      <td>6.49</td>\n    </tr>\n    <tr>\n      <th>341</th>\n      <td>148</td>\n      <td>1</td>\n      <td>6 Pack Soft Drink</td>\n      <td>[Diet Coke]</td>\n      <td>6.49</td>\n      <td>6.49</td>\n    </tr>\n    <tr>\n      <th>1849</th>\n      <td>749</td>\n      <td>1</td>\n      <td>6 Pack Soft Drink</td>\n      <td>[Coke]</td>\n      <td>6.49</td>\n      <td>6.49</td>\n    </tr>\n    <tr>\n      <th>1860</th>\n      <td>754</td>\n      <td>1</td>\n      <td>6 Pack Soft Drink</td>\n      <td>[Diet Coke]</td>\n      <td>6.49</td>\n      <td>6.49</td>\n    </tr>\n    <tr>\n      <th>2713</th>\n      <td>1076</td>\n      <td>1</td>\n      <td>6 Pack Soft Drink</td>\n      <td>[Coke]</td>\n      <td>6.49</td>\n      <td>6.49</td>\n    </tr>\n    <tr>\n      <th>...</th>\n      <td>...</td>\n      <td>...</td>\n      <td>...</td>\n      <td>...</td>\n      <td>...</td>\n      <td>...</td>\n    </tr>\n    <tr>\n      <th>2384</th>\n      <td>948</td>\n      <td>1</td>\n      <td>Veggie Soft Tacos</td>\n      <td>[Roasted Chili Corn Salsa, [Fajita Vegetables,...</td>\n      <td>8.75</td>\n      <td>8.75</td>\n    </tr>\n    <tr>\n      <th>781</th>\n      <td>322</td>\n      <td>1</td>\n      <td>Veggie Soft Tacos</td>\n      <td>[Fresh Tomato Salsa, [Black Beans, Cheese, Sou...</td>\n      <td>8.75</td>\n      <td>8.75</td>\n    </tr>\n    <tr>\n      <th>2851</th>\n      <td>1132</td>\n      <td>1</td>\n      <td>Veggie Soft Tacos</td>\n      <td>[Roasted Chili Corn Salsa (Medium), [Black Bea...</td>\n      <td>8.49</td>\n      <td>8.49</td>\n    </tr>\n    <tr>\n      <th>1699</th>\n      <td>688</td>\n      <td>1</td>\n      <td>Veggie Soft Tacos</td>\n      <td>[Fresh Tomato Salsa, [Fajita Vegetables, Rice,...</td>\n      <td>11.25</td>\n      <td>11.25</td>\n    </tr>\n    <tr>\n      <th>1395</th>\n      <td>567</td>\n      <td>1</td>\n      <td>Veggie Soft Tacos</td>\n      <td>[Fresh Tomato Salsa (Mild), [Pinto Beans, Rice...</td>\n      <td>8.49</td>\n      <td>8.49</td>\n    </tr>\n  </tbody>\n</table>\n<p>4622 rows × 6 columns</p>\n</div>"
     },
     "metadata": {},
     "execution_count": 22
    }
   ],
   "source": [
    "chipo.sort_values(by=\"item_name\")"
   ]
  },
  {
   "cell_type": "code",
   "execution_count": 25,
   "metadata": {
    "collapsed": false
   },
   "outputs": [
    {
     "data": {
      "text/html": [
       "<div>\n",
       "<table border=\"1\" class=\"dataframe\">\n",
       "  <thead>\n",
       "    <tr style=\"text-align: right;\">\n",
       "      <th></th>\n",
       "      <th>order_id</th>\n",
       "      <th>quantity</th>\n",
       "      <th>item_name</th>\n",
       "      <th>choice_description</th>\n",
       "      <th>item_price</th>\n",
       "    </tr>\n",
       "  </thead>\n",
       "  <tbody>\n",
       "    <tr>\n",
       "      <th>3389</th>\n",
       "      <td>1360</td>\n",
       "      <td>2</td>\n",
       "      <td>6 Pack Soft Drink</td>\n",
       "      <td>[Diet Coke]</td>\n",
       "      <td>12.98</td>\n",
       "    </tr>\n",
       "    <tr>\n",
       "      <th>341</th>\n",
       "      <td>148</td>\n",
       "      <td>1</td>\n",
       "      <td>6 Pack Soft Drink</td>\n",
       "      <td>[Diet Coke]</td>\n",
       "      <td>6.49</td>\n",
       "    </tr>\n",
       "    <tr>\n",
       "      <th>1849</th>\n",
       "      <td>749</td>\n",
       "      <td>1</td>\n",
       "      <td>6 Pack Soft Drink</td>\n",
       "      <td>[Coke]</td>\n",
       "      <td>6.49</td>\n",
       "    </tr>\n",
       "    <tr>\n",
       "      <th>1860</th>\n",
       "      <td>754</td>\n",
       "      <td>1</td>\n",
       "      <td>6 Pack Soft Drink</td>\n",
       "      <td>[Diet Coke]</td>\n",
       "      <td>6.49</td>\n",
       "    </tr>\n",
       "    <tr>\n",
       "      <th>2713</th>\n",
       "      <td>1076</td>\n",
       "      <td>1</td>\n",
       "      <td>6 Pack Soft Drink</td>\n",
       "      <td>[Coke]</td>\n",
       "      <td>6.49</td>\n",
       "    </tr>\n",
       "    <tr>\n",
       "      <th>3422</th>\n",
       "      <td>1373</td>\n",
       "      <td>1</td>\n",
       "      <td>6 Pack Soft Drink</td>\n",
       "      <td>[Coke]</td>\n",
       "      <td>6.49</td>\n",
       "    </tr>\n",
       "    <tr>\n",
       "      <th>553</th>\n",
       "      <td>230</td>\n",
       "      <td>1</td>\n",
       "      <td>6 Pack Soft Drink</td>\n",
       "      <td>[Diet Coke]</td>\n",
       "      <td>6.49</td>\n",
       "    </tr>\n",
       "    <tr>\n",
       "      <th>1916</th>\n",
       "      <td>774</td>\n",
       "      <td>1</td>\n",
       "      <td>6 Pack Soft Drink</td>\n",
       "      <td>[Diet Coke]</td>\n",
       "      <td>6.49</td>\n",
       "    </tr>\n",
       "    <tr>\n",
       "      <th>1922</th>\n",
       "      <td>776</td>\n",
       "      <td>1</td>\n",
       "      <td>6 Pack Soft Drink</td>\n",
       "      <td>[Coke]</td>\n",
       "      <td>6.49</td>\n",
       "    </tr>\n",
       "    <tr>\n",
       "      <th>1937</th>\n",
       "      <td>784</td>\n",
       "      <td>1</td>\n",
       "      <td>6 Pack Soft Drink</td>\n",
       "      <td>[Diet Coke]</td>\n",
       "      <td>6.49</td>\n",
       "    </tr>\n",
       "    <tr>\n",
       "      <th>3836</th>\n",
       "      <td>1537</td>\n",
       "      <td>1</td>\n",
       "      <td>6 Pack Soft Drink</td>\n",
       "      <td>[Coke]</td>\n",
       "      <td>6.49</td>\n",
       "    </tr>\n",
       "    <tr>\n",
       "      <th>298</th>\n",
       "      <td>129</td>\n",
       "      <td>1</td>\n",
       "      <td>6 Pack Soft Drink</td>\n",
       "      <td>[Sprite]</td>\n",
       "      <td>6.49</td>\n",
       "    </tr>\n",
       "    <tr>\n",
       "      <th>1976</th>\n",
       "      <td>798</td>\n",
       "      <td>1</td>\n",
       "      <td>6 Pack Soft Drink</td>\n",
       "      <td>[Diet Coke]</td>\n",
       "      <td>6.49</td>\n",
       "    </tr>\n",
       "    <tr>\n",
       "      <th>1167</th>\n",
       "      <td>481</td>\n",
       "      <td>1</td>\n",
       "      <td>6 Pack Soft Drink</td>\n",
       "      <td>[Coke]</td>\n",
       "      <td>6.49</td>\n",
       "    </tr>\n",
       "    <tr>\n",
       "      <th>3875</th>\n",
       "      <td>1554</td>\n",
       "      <td>1</td>\n",
       "      <td>6 Pack Soft Drink</td>\n",
       "      <td>[Diet Coke]</td>\n",
       "      <td>6.49</td>\n",
       "    </tr>\n",
       "    <tr>\n",
       "      <th>1124</th>\n",
       "      <td>465</td>\n",
       "      <td>1</td>\n",
       "      <td>6 Pack Soft Drink</td>\n",
       "      <td>[Coke]</td>\n",
       "      <td>6.49</td>\n",
       "    </tr>\n",
       "    <tr>\n",
       "      <th>3886</th>\n",
       "      <td>1558</td>\n",
       "      <td>1</td>\n",
       "      <td>6 Pack Soft Drink</td>\n",
       "      <td>[Diet Coke]</td>\n",
       "      <td>6.49</td>\n",
       "    </tr>\n",
       "    <tr>\n",
       "      <th>2108</th>\n",
       "      <td>849</td>\n",
       "      <td>1</td>\n",
       "      <td>6 Pack Soft Drink</td>\n",
       "      <td>[Coke]</td>\n",
       "      <td>6.49</td>\n",
       "    </tr>\n",
       "    <tr>\n",
       "      <th>3010</th>\n",
       "      <td>1196</td>\n",
       "      <td>1</td>\n",
       "      <td>6 Pack Soft Drink</td>\n",
       "      <td>[Diet Coke]</td>\n",
       "      <td>6.49</td>\n",
       "    </tr>\n",
       "    <tr>\n",
       "      <th>4535</th>\n",
       "      <td>1803</td>\n",
       "      <td>1</td>\n",
       "      <td>6 Pack Soft Drink</td>\n",
       "      <td>[Lemonade]</td>\n",
       "      <td>6.49</td>\n",
       "    </tr>\n",
       "    <tr>\n",
       "      <th>4169</th>\n",
       "      <td>1664</td>\n",
       "      <td>1</td>\n",
       "      <td>6 Pack Soft Drink</td>\n",
       "      <td>[Diet Coke]</td>\n",
       "      <td>6.49</td>\n",
       "    </tr>\n",
       "    <tr>\n",
       "      <th>4174</th>\n",
       "      <td>1666</td>\n",
       "      <td>1</td>\n",
       "      <td>6 Pack Soft Drink</td>\n",
       "      <td>[Coke]</td>\n",
       "      <td>6.49</td>\n",
       "    </tr>\n",
       "    <tr>\n",
       "      <th>4527</th>\n",
       "      <td>1800</td>\n",
       "      <td>1</td>\n",
       "      <td>6 Pack Soft Drink</td>\n",
       "      <td>[Diet Coke]</td>\n",
       "      <td>6.49</td>\n",
       "    </tr>\n",
       "    <tr>\n",
       "      <th>4522</th>\n",
       "      <td>1798</td>\n",
       "      <td>1</td>\n",
       "      <td>6 Pack Soft Drink</td>\n",
       "      <td>[Diet Coke]</td>\n",
       "      <td>6.49</td>\n",
       "    </tr>\n",
       "    <tr>\n",
       "      <th>3806</th>\n",
       "      <td>1525</td>\n",
       "      <td>1</td>\n",
       "      <td>6 Pack Soft Drink</td>\n",
       "      <td>[Sprite]</td>\n",
       "      <td>6.49</td>\n",
       "    </tr>\n",
       "    <tr>\n",
       "      <th>2389</th>\n",
       "      <td>949</td>\n",
       "      <td>1</td>\n",
       "      <td>6 Pack Soft Drink</td>\n",
       "      <td>[Coke]</td>\n",
       "      <td>6.49</td>\n",
       "    </tr>\n",
       "    <tr>\n",
       "      <th>3132</th>\n",
       "      <td>1248</td>\n",
       "      <td>1</td>\n",
       "      <td>6 Pack Soft Drink</td>\n",
       "      <td>[Diet Coke]</td>\n",
       "      <td>6.49</td>\n",
       "    </tr>\n",
       "    <tr>\n",
       "      <th>3141</th>\n",
       "      <td>1253</td>\n",
       "      <td>1</td>\n",
       "      <td>6 Pack Soft Drink</td>\n",
       "      <td>[Lemonade]</td>\n",
       "      <td>6.49</td>\n",
       "    </tr>\n",
       "    <tr>\n",
       "      <th>639</th>\n",
       "      <td>264</td>\n",
       "      <td>1</td>\n",
       "      <td>6 Pack Soft Drink</td>\n",
       "      <td>[Diet Coke]</td>\n",
       "      <td>6.49</td>\n",
       "    </tr>\n",
       "    <tr>\n",
       "      <th>1026</th>\n",
       "      <td>422</td>\n",
       "      <td>1</td>\n",
       "      <td>6 Pack Soft Drink</td>\n",
       "      <td>[Sprite]</td>\n",
       "      <td>6.49</td>\n",
       "    </tr>\n",
       "    <tr>\n",
       "      <th>...</th>\n",
       "      <td>...</td>\n",
       "      <td>...</td>\n",
       "      <td>...</td>\n",
       "      <td>...</td>\n",
       "      <td>...</td>\n",
       "    </tr>\n",
       "    <tr>\n",
       "      <th>2996</th>\n",
       "      <td>1192</td>\n",
       "      <td>1</td>\n",
       "      <td>Veggie Salad</td>\n",
       "      <td>[Roasted Chili Corn Salsa (Medium), [Black Bea...</td>\n",
       "      <td>8.49</td>\n",
       "    </tr>\n",
       "    <tr>\n",
       "      <th>3163</th>\n",
       "      <td>1263</td>\n",
       "      <td>1</td>\n",
       "      <td>Veggie Salad</td>\n",
       "      <td>[[Fresh Tomato Salsa (Mild), Roasted Chili Cor...</td>\n",
       "      <td>8.49</td>\n",
       "    </tr>\n",
       "    <tr>\n",
       "      <th>4084</th>\n",
       "      <td>1635</td>\n",
       "      <td>1</td>\n",
       "      <td>Veggie Salad</td>\n",
       "      <td>[[Fresh Tomato Salsa (Mild), Roasted Chili Cor...</td>\n",
       "      <td>8.49</td>\n",
       "    </tr>\n",
       "    <tr>\n",
       "      <th>1694</th>\n",
       "      <td>686</td>\n",
       "      <td>1</td>\n",
       "      <td>Veggie Salad</td>\n",
       "      <td>[[Fresh Tomato Salsa (Mild), Roasted Chili Cor...</td>\n",
       "      <td>8.49</td>\n",
       "    </tr>\n",
       "    <tr>\n",
       "      <th>2756</th>\n",
       "      <td>1094</td>\n",
       "      <td>1</td>\n",
       "      <td>Veggie Salad</td>\n",
       "      <td>[[Tomatillo-Green Chili Salsa (Medium), Roaste...</td>\n",
       "      <td>8.49</td>\n",
       "    </tr>\n",
       "    <tr>\n",
       "      <th>4201</th>\n",
       "      <td>1677</td>\n",
       "      <td>1</td>\n",
       "      <td>Veggie Salad Bowl</td>\n",
       "      <td>[Fresh Tomato Salsa, [Fajita Vegetables, Black...</td>\n",
       "      <td>11.25</td>\n",
       "    </tr>\n",
       "    <tr>\n",
       "      <th>1884</th>\n",
       "      <td>760</td>\n",
       "      <td>1</td>\n",
       "      <td>Veggie Salad Bowl</td>\n",
       "      <td>[Fresh Tomato Salsa, [Fajita Vegetables, Rice,...</td>\n",
       "      <td>11.25</td>\n",
       "    </tr>\n",
       "    <tr>\n",
       "      <th>455</th>\n",
       "      <td>195</td>\n",
       "      <td>1</td>\n",
       "      <td>Veggie Salad Bowl</td>\n",
       "      <td>[Fresh Tomato Salsa, [Fajita Vegetables, Rice,...</td>\n",
       "      <td>11.25</td>\n",
       "    </tr>\n",
       "    <tr>\n",
       "      <th>3223</th>\n",
       "      <td>1289</td>\n",
       "      <td>1</td>\n",
       "      <td>Veggie Salad Bowl</td>\n",
       "      <td>[Tomatillo Red Chili Salsa, [Fajita Vegetables...</td>\n",
       "      <td>11.25</td>\n",
       "    </tr>\n",
       "    <tr>\n",
       "      <th>2223</th>\n",
       "      <td>896</td>\n",
       "      <td>1</td>\n",
       "      <td>Veggie Salad Bowl</td>\n",
       "      <td>[Roasted Chili Corn Salsa, Fajita Vegetables]</td>\n",
       "      <td>8.75</td>\n",
       "    </tr>\n",
       "    <tr>\n",
       "      <th>2269</th>\n",
       "      <td>913</td>\n",
       "      <td>1</td>\n",
       "      <td>Veggie Salad Bowl</td>\n",
       "      <td>[Fresh Tomato Salsa, [Fajita Vegetables, Rice,...</td>\n",
       "      <td>8.75</td>\n",
       "    </tr>\n",
       "    <tr>\n",
       "      <th>4541</th>\n",
       "      <td>1805</td>\n",
       "      <td>1</td>\n",
       "      <td>Veggie Salad Bowl</td>\n",
       "      <td>[Tomatillo Green Chili Salsa, [Fajita Vegetabl...</td>\n",
       "      <td>8.75</td>\n",
       "    </tr>\n",
       "    <tr>\n",
       "      <th>3293</th>\n",
       "      <td>1321</td>\n",
       "      <td>1</td>\n",
       "      <td>Veggie Salad Bowl</td>\n",
       "      <td>[Fresh Tomato Salsa, [Rice, Black Beans, Chees...</td>\n",
       "      <td>8.75</td>\n",
       "    </tr>\n",
       "    <tr>\n",
       "      <th>186</th>\n",
       "      <td>83</td>\n",
       "      <td>1</td>\n",
       "      <td>Veggie Salad Bowl</td>\n",
       "      <td>[Fresh Tomato Salsa, [Fajita Vegetables, Rice,...</td>\n",
       "      <td>11.25</td>\n",
       "    </tr>\n",
       "    <tr>\n",
       "      <th>960</th>\n",
       "      <td>394</td>\n",
       "      <td>1</td>\n",
       "      <td>Veggie Salad Bowl</td>\n",
       "      <td>[Fresh Tomato Salsa, [Fajita Vegetables, Lettu...</td>\n",
       "      <td>8.75</td>\n",
       "    </tr>\n",
       "    <tr>\n",
       "      <th>1316</th>\n",
       "      <td>536</td>\n",
       "      <td>1</td>\n",
       "      <td>Veggie Salad Bowl</td>\n",
       "      <td>[Fresh Tomato Salsa, [Fajita Vegetables, Rice,...</td>\n",
       "      <td>8.75</td>\n",
       "    </tr>\n",
       "    <tr>\n",
       "      <th>2156</th>\n",
       "      <td>869</td>\n",
       "      <td>1</td>\n",
       "      <td>Veggie Salad Bowl</td>\n",
       "      <td>[Tomatillo Red Chili Salsa, [Fajita Vegetables...</td>\n",
       "      <td>11.25</td>\n",
       "    </tr>\n",
       "    <tr>\n",
       "      <th>4261</th>\n",
       "      <td>1700</td>\n",
       "      <td>1</td>\n",
       "      <td>Veggie Salad Bowl</td>\n",
       "      <td>[Fresh Tomato Salsa, [Fajita Vegetables, Rice,...</td>\n",
       "      <td>11.25</td>\n",
       "    </tr>\n",
       "    <tr>\n",
       "      <th>295</th>\n",
       "      <td>128</td>\n",
       "      <td>1</td>\n",
       "      <td>Veggie Salad Bowl</td>\n",
       "      <td>[Fresh Tomato Salsa, [Fajita Vegetables, Lettu...</td>\n",
       "      <td>11.25</td>\n",
       "    </tr>\n",
       "    <tr>\n",
       "      <th>4573</th>\n",
       "      <td>1818</td>\n",
       "      <td>1</td>\n",
       "      <td>Veggie Salad Bowl</td>\n",
       "      <td>[Fresh Tomato Salsa, [Fajita Vegetables, Pinto...</td>\n",
       "      <td>8.75</td>\n",
       "    </tr>\n",
       "    <tr>\n",
       "      <th>2683</th>\n",
       "      <td>1066</td>\n",
       "      <td>1</td>\n",
       "      <td>Veggie Salad Bowl</td>\n",
       "      <td>[Roasted Chili Corn Salsa, [Fajita Vegetables,...</td>\n",
       "      <td>8.75</td>\n",
       "    </tr>\n",
       "    <tr>\n",
       "      <th>496</th>\n",
       "      <td>207</td>\n",
       "      <td>1</td>\n",
       "      <td>Veggie Salad Bowl</td>\n",
       "      <td>[Fresh Tomato Salsa, [Rice, Lettuce, Guacamole...</td>\n",
       "      <td>11.25</td>\n",
       "    </tr>\n",
       "    <tr>\n",
       "      <th>4109</th>\n",
       "      <td>1646</td>\n",
       "      <td>1</td>\n",
       "      <td>Veggie Salad Bowl</td>\n",
       "      <td>[Tomatillo Red Chili Salsa, [Fajita Vegetables...</td>\n",
       "      <td>11.25</td>\n",
       "    </tr>\n",
       "    <tr>\n",
       "      <th>738</th>\n",
       "      <td>304</td>\n",
       "      <td>1</td>\n",
       "      <td>Veggie Soft Tacos</td>\n",
       "      <td>[Tomatillo Red Chili Salsa, [Fajita Vegetables...</td>\n",
       "      <td>11.25</td>\n",
       "    </tr>\n",
       "    <tr>\n",
       "      <th>3889</th>\n",
       "      <td>1559</td>\n",
       "      <td>2</td>\n",
       "      <td>Veggie Soft Tacos</td>\n",
       "      <td>[Fresh Tomato Salsa (Mild), [Black Beans, Rice...</td>\n",
       "      <td>16.98</td>\n",
       "    </tr>\n",
       "    <tr>\n",
       "      <th>2384</th>\n",
       "      <td>948</td>\n",
       "      <td>1</td>\n",
       "      <td>Veggie Soft Tacos</td>\n",
       "      <td>[Roasted Chili Corn Salsa, [Fajita Vegetables,...</td>\n",
       "      <td>8.75</td>\n",
       "    </tr>\n",
       "    <tr>\n",
       "      <th>781</th>\n",
       "      <td>322</td>\n",
       "      <td>1</td>\n",
       "      <td>Veggie Soft Tacos</td>\n",
       "      <td>[Fresh Tomato Salsa, [Black Beans, Cheese, Sou...</td>\n",
       "      <td>8.75</td>\n",
       "    </tr>\n",
       "    <tr>\n",
       "      <th>2851</th>\n",
       "      <td>1132</td>\n",
       "      <td>1</td>\n",
       "      <td>Veggie Soft Tacos</td>\n",
       "      <td>[Roasted Chili Corn Salsa (Medium), [Black Bea...</td>\n",
       "      <td>8.49</td>\n",
       "    </tr>\n",
       "    <tr>\n",
       "      <th>1699</th>\n",
       "      <td>688</td>\n",
       "      <td>1</td>\n",
       "      <td>Veggie Soft Tacos</td>\n",
       "      <td>[Fresh Tomato Salsa, [Fajita Vegetables, Rice,...</td>\n",
       "      <td>11.25</td>\n",
       "    </tr>\n",
       "    <tr>\n",
       "      <th>1395</th>\n",
       "      <td>567</td>\n",
       "      <td>1</td>\n",
       "      <td>Veggie Soft Tacos</td>\n",
       "      <td>[Fresh Tomato Salsa (Mild), [Pinto Beans, Rice...</td>\n",
       "      <td>8.49</td>\n",
       "    </tr>\n",
       "  </tbody>\n",
       "</table>\n",
       "<p>4622 rows × 5 columns</p>\n",
       "</div>"
      ],
      "text/plain": [
       "      order_id  quantity          item_name  \\\n",
       "3389      1360         2  6 Pack Soft Drink   \n",
       "341        148         1  6 Pack Soft Drink   \n",
       "1849       749         1  6 Pack Soft Drink   \n",
       "1860       754         1  6 Pack Soft Drink   \n",
       "2713      1076         1  6 Pack Soft Drink   \n",
       "3422      1373         1  6 Pack Soft Drink   \n",
       "553        230         1  6 Pack Soft Drink   \n",
       "1916       774         1  6 Pack Soft Drink   \n",
       "1922       776         1  6 Pack Soft Drink   \n",
       "1937       784         1  6 Pack Soft Drink   \n",
       "3836      1537         1  6 Pack Soft Drink   \n",
       "298        129         1  6 Pack Soft Drink   \n",
       "1976       798         1  6 Pack Soft Drink   \n",
       "1167       481         1  6 Pack Soft Drink   \n",
       "3875      1554         1  6 Pack Soft Drink   \n",
       "1124       465         1  6 Pack Soft Drink   \n",
       "3886      1558         1  6 Pack Soft Drink   \n",
       "2108       849         1  6 Pack Soft Drink   \n",
       "3010      1196         1  6 Pack Soft Drink   \n",
       "4535      1803         1  6 Pack Soft Drink   \n",
       "4169      1664         1  6 Pack Soft Drink   \n",
       "4174      1666         1  6 Pack Soft Drink   \n",
       "4527      1800         1  6 Pack Soft Drink   \n",
       "4522      1798         1  6 Pack Soft Drink   \n",
       "3806      1525         1  6 Pack Soft Drink   \n",
       "2389       949         1  6 Pack Soft Drink   \n",
       "3132      1248         1  6 Pack Soft Drink   \n",
       "3141      1253         1  6 Pack Soft Drink   \n",
       "639        264         1  6 Pack Soft Drink   \n",
       "1026       422         1  6 Pack Soft Drink   \n",
       "...        ...       ...                ...   \n",
       "2996      1192         1       Veggie Salad   \n",
       "3163      1263         1       Veggie Salad   \n",
       "4084      1635         1       Veggie Salad   \n",
       "1694       686         1       Veggie Salad   \n",
       "2756      1094         1       Veggie Salad   \n",
       "4201      1677         1  Veggie Salad Bowl   \n",
       "1884       760         1  Veggie Salad Bowl   \n",
       "455        195         1  Veggie Salad Bowl   \n",
       "3223      1289         1  Veggie Salad Bowl   \n",
       "2223       896         1  Veggie Salad Bowl   \n",
       "2269       913         1  Veggie Salad Bowl   \n",
       "4541      1805         1  Veggie Salad Bowl   \n",
       "3293      1321         1  Veggie Salad Bowl   \n",
       "186         83         1  Veggie Salad Bowl   \n",
       "960        394         1  Veggie Salad Bowl   \n",
       "1316       536         1  Veggie Salad Bowl   \n",
       "2156       869         1  Veggie Salad Bowl   \n",
       "4261      1700         1  Veggie Salad Bowl   \n",
       "295        128         1  Veggie Salad Bowl   \n",
       "4573      1818         1  Veggie Salad Bowl   \n",
       "2683      1066         1  Veggie Salad Bowl   \n",
       "496        207         1  Veggie Salad Bowl   \n",
       "4109      1646         1  Veggie Salad Bowl   \n",
       "738        304         1  Veggie Soft Tacos   \n",
       "3889      1559         2  Veggie Soft Tacos   \n",
       "2384       948         1  Veggie Soft Tacos   \n",
       "781        322         1  Veggie Soft Tacos   \n",
       "2851      1132         1  Veggie Soft Tacos   \n",
       "1699       688         1  Veggie Soft Tacos   \n",
       "1395       567         1  Veggie Soft Tacos   \n",
       "\n",
       "                                     choice_description  item_price  \n",
       "3389                                        [Diet Coke]       12.98  \n",
       "341                                         [Diet Coke]        6.49  \n",
       "1849                                             [Coke]        6.49  \n",
       "1860                                        [Diet Coke]        6.49  \n",
       "2713                                             [Coke]        6.49  \n",
       "3422                                             [Coke]        6.49  \n",
       "553                                         [Diet Coke]        6.49  \n",
       "1916                                        [Diet Coke]        6.49  \n",
       "1922                                             [Coke]        6.49  \n",
       "1937                                        [Diet Coke]        6.49  \n",
       "3836                                             [Coke]        6.49  \n",
       "298                                            [Sprite]        6.49  \n",
       "1976                                        [Diet Coke]        6.49  \n",
       "1167                                             [Coke]        6.49  \n",
       "3875                                        [Diet Coke]        6.49  \n",
       "1124                                             [Coke]        6.49  \n",
       "3886                                        [Diet Coke]        6.49  \n",
       "2108                                             [Coke]        6.49  \n",
       "3010                                        [Diet Coke]        6.49  \n",
       "4535                                         [Lemonade]        6.49  \n",
       "4169                                        [Diet Coke]        6.49  \n",
       "4174                                             [Coke]        6.49  \n",
       "4527                                        [Diet Coke]        6.49  \n",
       "4522                                        [Diet Coke]        6.49  \n",
       "3806                                           [Sprite]        6.49  \n",
       "2389                                             [Coke]        6.49  \n",
       "3132                                        [Diet Coke]        6.49  \n",
       "3141                                         [Lemonade]        6.49  \n",
       "639                                         [Diet Coke]        6.49  \n",
       "1026                                           [Sprite]        6.49  \n",
       "...                                                 ...         ...  \n",
       "2996  [Roasted Chili Corn Salsa (Medium), [Black Bea...        8.49  \n",
       "3163  [[Fresh Tomato Salsa (Mild), Roasted Chili Cor...        8.49  \n",
       "4084  [[Fresh Tomato Salsa (Mild), Roasted Chili Cor...        8.49  \n",
       "1694  [[Fresh Tomato Salsa (Mild), Roasted Chili Cor...        8.49  \n",
       "2756  [[Tomatillo-Green Chili Salsa (Medium), Roaste...        8.49  \n",
       "4201  [Fresh Tomato Salsa, [Fajita Vegetables, Black...       11.25  \n",
       "1884  [Fresh Tomato Salsa, [Fajita Vegetables, Rice,...       11.25  \n",
       "455   [Fresh Tomato Salsa, [Fajita Vegetables, Rice,...       11.25  \n",
       "3223  [Tomatillo Red Chili Salsa, [Fajita Vegetables...       11.25  \n",
       "2223      [Roasted Chili Corn Salsa, Fajita Vegetables]        8.75  \n",
       "2269  [Fresh Tomato Salsa, [Fajita Vegetables, Rice,...        8.75  \n",
       "4541  [Tomatillo Green Chili Salsa, [Fajita Vegetabl...        8.75  \n",
       "3293  [Fresh Tomato Salsa, [Rice, Black Beans, Chees...        8.75  \n",
       "186   [Fresh Tomato Salsa, [Fajita Vegetables, Rice,...       11.25  \n",
       "960   [Fresh Tomato Salsa, [Fajita Vegetables, Lettu...        8.75  \n",
       "1316  [Fresh Tomato Salsa, [Fajita Vegetables, Rice,...        8.75  \n",
       "2156  [Tomatillo Red Chili Salsa, [Fajita Vegetables...       11.25  \n",
       "4261  [Fresh Tomato Salsa, [Fajita Vegetables, Rice,...       11.25  \n",
       "295   [Fresh Tomato Salsa, [Fajita Vegetables, Lettu...       11.25  \n",
       "4573  [Fresh Tomato Salsa, [Fajita Vegetables, Pinto...        8.75  \n",
       "2683  [Roasted Chili Corn Salsa, [Fajita Vegetables,...        8.75  \n",
       "496   [Fresh Tomato Salsa, [Rice, Lettuce, Guacamole...       11.25  \n",
       "4109  [Tomatillo Red Chili Salsa, [Fajita Vegetables...       11.25  \n",
       "738   [Tomatillo Red Chili Salsa, [Fajita Vegetables...       11.25  \n",
       "3889  [Fresh Tomato Salsa (Mild), [Black Beans, Rice...       16.98  \n",
       "2384  [Roasted Chili Corn Salsa, [Fajita Vegetables,...        8.75  \n",
       "781   [Fresh Tomato Salsa, [Black Beans, Cheese, Sou...        8.75  \n",
       "2851  [Roasted Chili Corn Salsa (Medium), [Black Bea...        8.49  \n",
       "1699  [Fresh Tomato Salsa, [Fajita Vegetables, Rice,...       11.25  \n",
       "1395  [Fresh Tomato Salsa (Mild), [Pinto Beans, Rice...        8.49  \n",
       "\n",
       "[4622 rows x 5 columns]"
      ]
     },
     "execution_count": 25,
     "metadata": {},
     "output_type": "execute_result"
    }
   ],
   "source": [
    "\n",
    "\n",
    "# OR\n",
    "\n"
   ]
  },
  {
   "cell_type": "markdown",
   "metadata": {},
   "source": [
    "### Step 7. What was the quantity of the most expensive item ordered?"
   ]
  },
  {
   "cell_type": "code",
   "execution_count": 23,
   "metadata": {},
   "outputs": [
    {
     "output_type": "execute_result",
     "data": {
      "text/plain": "      order_id  quantity                     item_name choice_description  \\\n3598      1443        15  Chips and Fresh Tomato Salsa                NaN   \n\n      item_price  unity_price  \n3598       44.25         2.95  ",
      "text/html": "<div>\n<style scoped>\n    .dataframe tbody tr th:only-of-type {\n        vertical-align: middle;\n    }\n\n    .dataframe tbody tr th {\n        vertical-align: top;\n    }\n\n    .dataframe thead th {\n        text-align: right;\n    }\n</style>\n<table border=\"1\" class=\"dataframe\">\n  <thead>\n    <tr style=\"text-align: right;\">\n      <th></th>\n      <th>order_id</th>\n      <th>quantity</th>\n      <th>item_name</th>\n      <th>choice_description</th>\n      <th>item_price</th>\n      <th>unity_price</th>\n    </tr>\n  </thead>\n  <tbody>\n    <tr>\n      <th>3598</th>\n      <td>1443</td>\n      <td>15</td>\n      <td>Chips and Fresh Tomato Salsa</td>\n      <td>NaN</td>\n      <td>44.25</td>\n      <td>2.95</td>\n    </tr>\n  </tbody>\n</table>\n</div>"
     },
     "metadata": {},
     "execution_count": 23
    }
   ],
   "source": [
    "chipo[chipo.quantity == chipo.quantity.max()]"
   ]
  },
  {
   "cell_type": "code",
   "execution_count": 26,
   "metadata": {
    "collapsed": false
   },
   "outputs": [
    {
     "data": {
      "text/html": [
       "<div>\n",
       "<table border=\"1\" class=\"dataframe\">\n",
       "  <thead>\n",
       "    <tr style=\"text-align: right;\">\n",
       "      <th></th>\n",
       "      <th>order_id</th>\n",
       "      <th>quantity</th>\n",
       "      <th>item_name</th>\n",
       "      <th>choice_description</th>\n",
       "      <th>item_price</th>\n",
       "    </tr>\n",
       "  </thead>\n",
       "  <tbody>\n",
       "    <tr>\n",
       "      <th>3598</th>\n",
       "      <td>1443</td>\n",
       "      <td>15</td>\n",
       "      <td>Chips and Fresh Tomato Salsa</td>\n",
       "      <td>NaN</td>\n",
       "      <td>44.25</td>\n",
       "    </tr>\n",
       "  </tbody>\n",
       "</table>\n",
       "</div>"
      ],
      "text/plain": [
       "      order_id  quantity                     item_name choice_description  \\\n",
       "3598      1443        15  Chips and Fresh Tomato Salsa                NaN   \n",
       "\n",
       "      item_price  \n",
       "3598       44.25  "
      ]
     },
     "execution_count": 26,
     "metadata": {},
     "output_type": "execute_result"
    }
   ],
   "source": []
  },
  {
   "cell_type": "code",
   "execution_count": 24,
   "metadata": {},
   "outputs": [
    {
     "output_type": "execute_result",
     "data": {
      "text/plain": "                     order_id  quantity  choice_description  item_price  \\\nitem_name                                                                 \nBarbacoa Salad Bowl         5         5                   5           5   \nCarnitas Salad Bowl         4         4                   4           4   \nSteak Salad Bowl           19        19                  19          19   \n\n                     unity_price  \nitem_name                         \nBarbacoa Salad Bowl            5  \nCarnitas Salad Bowl            4  \nSteak Salad Bowl              19  ",
      "text/html": "<div>\n<style scoped>\n    .dataframe tbody tr th:only-of-type {\n        vertical-align: middle;\n    }\n\n    .dataframe tbody tr th {\n        vertical-align: top;\n    }\n\n    .dataframe thead th {\n        text-align: right;\n    }\n</style>\n<table border=\"1\" class=\"dataframe\">\n  <thead>\n    <tr style=\"text-align: right;\">\n      <th></th>\n      <th>order_id</th>\n      <th>quantity</th>\n      <th>choice_description</th>\n      <th>item_price</th>\n      <th>unity_price</th>\n    </tr>\n    <tr>\n      <th>item_name</th>\n      <th></th>\n      <th></th>\n      <th></th>\n      <th></th>\n      <th></th>\n    </tr>\n  </thead>\n  <tbody>\n    <tr>\n      <th>Barbacoa Salad Bowl</th>\n      <td>5</td>\n      <td>5</td>\n      <td>5</td>\n      <td>5</td>\n      <td>5</td>\n    </tr>\n    <tr>\n      <th>Carnitas Salad Bowl</th>\n      <td>4</td>\n      <td>4</td>\n      <td>4</td>\n      <td>4</td>\n      <td>4</td>\n    </tr>\n    <tr>\n      <th>Steak Salad Bowl</th>\n      <td>19</td>\n      <td>19</td>\n      <td>19</td>\n      <td>19</td>\n      <td>19</td>\n    </tr>\n  </tbody>\n</table>\n</div>"
     },
     "metadata": {},
     "execution_count": 24
    }
   ],
   "source": [
    "# otra forma:\n",
    "k = chipo.groupby(\"item_name\").max()\n",
    "l = chipo[chipo.unity_price == max(chipo.unity_price)]\n",
    "l.groupby(\"item_name\").count()"
   ]
  },
  {
   "cell_type": "markdown",
   "metadata": {},
   "source": [
    "### Step 8. How many times was a Veggie Salad Bowl ordered?"
   ]
  },
  {
   "cell_type": "code",
   "execution_count": 25,
   "metadata": {},
   "outputs": [
    {
     "output_type": "execute_result",
     "data": {
      "text/plain": "18"
     },
     "metadata": {},
     "execution_count": 25
    }
   ],
   "source": [
    "chipo_salad = chipo[chipo.item_name == \"Veggie Salad Bowl\"]\n",
    "len(chipo_salad)"
   ]
  },
  {
   "cell_type": "code",
   "execution_count": 26,
   "metadata": {},
   "outputs": [
    {
     "output_type": "execute_result",
     "data": {
      "text/plain": "                   order_id  quantity  item_price  unity_price\nitem_name                                                     \nVeggie Salad Bowl   17303.0      18.0       182.5        182.5",
      "text/html": "<div>\n<style scoped>\n    .dataframe tbody tr th:only-of-type {\n        vertical-align: middle;\n    }\n\n    .dataframe tbody tr th {\n        vertical-align: top;\n    }\n\n    .dataframe thead th {\n        text-align: right;\n    }\n</style>\n<table border=\"1\" class=\"dataframe\">\n  <thead>\n    <tr style=\"text-align: right;\">\n      <th></th>\n      <th>order_id</th>\n      <th>quantity</th>\n      <th>item_price</th>\n      <th>unity_price</th>\n    </tr>\n    <tr>\n      <th>item_name</th>\n      <th></th>\n      <th></th>\n      <th></th>\n      <th></th>\n    </tr>\n  </thead>\n  <tbody>\n    <tr>\n      <th>Veggie Salad Bowl</th>\n      <td>17303.0</td>\n      <td>18.0</td>\n      <td>182.5</td>\n      <td>182.5</td>\n    </tr>\n  </tbody>\n</table>\n</div>"
     },
     "metadata": {},
     "execution_count": 26
    }
   ],
   "source": [
    "# otra forma\n",
    "chipo.where(chipo.item_name == \"Veggie Salad Bowl\").groupby(\"item_name\").sum()"
   ]
  },
  {
   "cell_type": "code",
   "execution_count": 28,
   "metadata": {},
   "outputs": [
    {
     "output_type": "execute_result",
     "data": {
      "text/plain": "18"
     },
     "metadata": {},
     "execution_count": 28
    }
   ],
   "source": [
    "# otra forma\n",
    "chipo.item_name.value_counts()[\"Veggie Salad Bowl\"]"
   ]
  },
  {
   "cell_type": "code",
   "execution_count": 27,
   "metadata": {
    "collapsed": false
   },
   "outputs": [
    {
     "data": {
      "text/plain": [
       "18"
      ]
     },
     "execution_count": 27,
     "metadata": {},
     "output_type": "execute_result"
    }
   ],
   "source": []
  },
  {
   "cell_type": "markdown",
   "metadata": {},
   "source": [
    "### Step 9. How many times did someone order more than one Canned Soda?"
   ]
  },
  {
   "cell_type": "code",
   "execution_count": 29,
   "metadata": {},
   "outputs": [
    {
     "output_type": "execute_result",
     "data": {
      "text/plain": "20"
     },
     "metadata": {},
     "execution_count": 29
    }
   ],
   "source": [
    "chipo_drink = chipo[(chipo.item_name == \"Canned Soda\") & (chipo.quantity >1)]\n",
    "len(chipo_drink)"
   ]
  },
  {
   "cell_type": "code",
   "execution_count": 28,
   "metadata": {
    "collapsed": false
   },
   "outputs": [
    {
     "data": {
      "text/plain": [
       "20"
      ]
     },
     "execution_count": 28,
     "metadata": {},
     "output_type": "execute_result"
    }
   ],
   "source": []
  }
 ],
 "metadata": {
  "anaconda-cloud": {},
  "kernelspec": {
   "display_name": "Python 3.8.3 64-bit",
   "language": "python",
   "name": "python_defaultSpec_1594733527568"
  },
  "language_info": {
   "codemirror_mode": {
    "name": "ipython",
    "version": 2
   },
   "file_extension": ".py",
   "mimetype": "text/x-python",
   "name": "python",
   "nbconvert_exporter": "python",
   "pygments_lexer": "ipython2",
   "version": "3.7.4-final"
  }
 },
 "nbformat": 4,
 "nbformat_minor": 0
}