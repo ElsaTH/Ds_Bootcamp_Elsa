{
 "cells": [
  {
   "cell_type": "markdown",
   "metadata": {},
   "source": [
    "### Ejercicios refuerzo\n",
    "\n",
    "Esta es la lista de ejercicios a realizar. Para cada uno de los ejercicios, separados por una línea, se debe crear una celda de jupyter.\n",
    "\n",
    "*Todos estos ejercicios los corregirá el profesor a lo largo de las clases.*\n",
    "\n",
    "Si un alumno se atasca en un ejercicio, puede avanzar al siguiente. \n",
    "\n",
    "Se recomienda a los alumnos preguntar por conceptos de programación o cuestiones para entender los problemas pero no cómo solucionarlo. A los profesores nos cortan las manos si tocamos los ordenadores de los alumnos.\n",
    "\n",
    "---------\n",
    "\n",
    "- Crear una variable de tipo lista llamada \"lista_alumnos\" en el que cada posición sea el nombre de vuestros compañeros de clase. \n",
    "- Crear 6 variables. Cada una de las variables debe ser una lista y contiene los nombres de los alumnos & profesores que están en esa mesa.  \n",
    "\n",
    "Muestra por pantalla y por separado, las listas creadas.\n",
    "\n",
    "---------\n",
    "\n",
    "Nota: Se utilizará la lista creada de alumnos. Ha de actualizarse con todos los alumnos de la clase. \n",
    "\n",
    "Crear cuatro variables: \n",
    "\n",
    "- Un String que contenga vuestro segundo apellido. La variable se llamará 'apellido'.\n",
    "- Dos enteros que sean: uno, el número de vuestra casa y dos, la edad del compañero de la izquierda. Nombre de variables a vuestra elección.\n",
    "- Una lista que contenga como primer parámetro el número de vuestra casa, como segundo parámetro vuestro segundo apellido y como tercer parámetro la edad de vuestro compañero. \n",
    "\n",
    "Objetivo a partir de los valores de la lista:\n",
    "\n",
    "(Estos ejercicios los hará el profes@r como ejemplo)\n",
    "\n",
    "- Crear una variable que contenga la CONCATENACIÓN de vuestro apellido con vuestra calle. \n",
    "- Otra variable que contenga la CONCATENACIÓN de vuestra calle, un espacio en blanco y la edad del compañero. Utilizar función str. \n",
    "- Otra variable que sea igual al número de caracteres que tiene vuestro apellido SUMADO al número de vuestra calle.\n",
    "- Crear una función llamada 'funcion_vivienda\" que, al invocarla, muestre por pantalla vuestro apellido, un espacio en blanco y el número de vuestra calle. La función recibe un parámetro de entrada que será la lista de alumnos cuando se la invoque.\n",
    "- Crear una función  llamada 'funcion_alumno_edad' que reciba dos argumentos por parámetro (la lista de alumnos de la clase y la lista de los valores previamente creada cuando es invocada) y muestre por pantalla el alumno al que le habéis pedido la edad, dos puntos y su edad."
   ]
  },
  {
   "cell_type": "code",
   "execution_count": null,
   "metadata": {},
   "outputs": [],
   "source": [
    "lista_alumnos = [\"Gabriel\", \"Natalio\"]"
   ]
  },
  {
   "cell_type": "code",
   "execution_count": null,
   "metadata": {},
   "outputs": [],
   "source": [
    "mesa1 = [\"Gabriel\", \"Valeria\"]\n",
    "mesa2 = [\"Natalio\", \"Rosario\"]"
   ]
  },
  {
   "cell_type": "markdown",
   "metadata": {},
   "source": [
    "----------\n",
    "(Este ejercicio los hará el profes@r como ejemplo)\n",
    "\n",
    "Un String que contenga vuestro segundo apellido. La variable sé llamará 'apellido'.\n",
    "Dos enteros que sean: uno, el número de vuestra casa y dos, la edad del compañero de la izquierda. Nombre de variables a vuestra elección.\n",
    "Una lista que contenga como primer parámetro el número de vuestra casa, como segundo parámetro vuestro segundo apellido y como tercer parámetro la edad de vuestro compañero."
   ]
  },
  {
   "cell_type": "markdown",
   "metadata": {},
   "source": [
    "----------\n",
    "\n",
    "(Este ejercicio los hará el profes@r como ejemplo)\n",
    "\n",
    "Crear una función llamada 'funcion_vivienda\" que, al invocarla, muestre por pantalla vuestro apellido, un espacio en blanco y el número de vuestra calle. La función recibe un parámetro de entrada que será la lista de alumnos cuando se la invoque.\n",
    "Crear una función llamada 'funcion_alumno_edad' que reciba dos argumentos por parámetro (la lista de alumnos de la clase y la lista de los valores previamente creada cuando es invocada) y muestre por pantalla el alumno al que le habéis pedido la edad, dos puntos y su edad."
   ]
  },
  {
   "cell_type": "markdown",
   "metadata": {},
   "source": [
    "----------\n",
    "### Refuerzo\n",
    "\n",
    "Crear una lista que tenga cuatro elementos: \n",
    "- Los dos primeros deben ser Strings \n",
    "- El tercero debe ser Entero\n",
    "- El cuarto es la lista [[2, \"9\"]]\n",
    "\n",
    "La lista ha de llamarse lista_refuerzo. Además, se debe crear una función 'funcion_refuerzo' que reciba un parámetro de entrada llamado 'lista'. La función debe guardar en una variable el tercer elemento de 'lista'. Para la variable guardada, que es el tercer elemento de la lista que hemos creado en primer lugar, se debe:\n",
    "\n",
    "- Mostrar por pantalla la suma de los dos elementos que tiene. \n",
    "\n",
    "Para llamar a la función, se debe pasar por parámetro la lista que hemos creado en primer lugar.\n",
    "\n",
    "\n"
   ]
  },
  {
   "cell_type": "code",
   "execution_count": null,
   "metadata": {},
   "outputs": [],
   "source": []
  },
  {
   "cell_type": "markdown",
   "metadata": {},
   "source": [
    "----------\n",
    "Crear una función 'funcion_comparativa' que reciba un parámetro de entrada 'param1' y que muestre por pantalla 'Menor a 0' si 'param1' es menor a 0. En el caso en el que sea igual a 0, debe mostrar 'Igual a 0'. En el caso en el que sea mayor a 20 y menor que 70, debe mostrar 'Mayor a 20 y menor que 70' . Para cualquier otro caso, mostrar 'Demasiado grande'"
   ]
  },
  {
   "cell_type": "markdown",
   "metadata": {},
   "source": [
    "----------\n",
    "A partir de la lista de alumnos, mostrar las columnas de alumnos cuando haya más de 3 alumnos. "
   ]
  },
  {
   "cell_type": "markdown",
   "metadata": {},
   "source": [
    "----------\n",
    "Crear una función 'funcion_recorre' que sea capaz de recorrer una lista de entrada y mostrar un elemento sí, otro no, otro sí, otro no,(...)."
   ]
  },
  {
   "cell_type": "markdown",
   "metadata": {},
   "source": [
    "----------\n",
    "### If, else, Bucle for, append, input, sort listas.\n",
    "\n",
    "#### Nueva celda por punto.\n",
    "----------\n",
    "- Crear una lista de listas con la altura de los alumnos (más o menos). Debe tener el mismo orden que la lista de listas de los alumnos. \n",
    "\n",
    "----------\n",
    "Crear una función 'funcion_altura_v1' que reciba un parámetro (que será la lista de alturas). La función debe:\n",
    "\n",
    "- Recorrer la lista de alturas y mostrar por pantalla solo las alturas que sean mayores o iguales que 175cms.\n",
    "\n",
    "----------\n",
    "Crear una función 'funcion_altura_v2' que reciba un parámetro (que será la lista de alturas). La función debe:\n",
    "\n",
    "\n",
    "- Recorrer la lista de alturas y mostrar sólo el índice en la lista del valor de la altura que está recorriendo.\n",
    "\n",
    "----------\n",
    "Crear una función 'funcion_altura_v3' que reciba dos parámetros (que serán la lista de alturas y la lista de alumnos). La función debe:\n",
    "\n",
    "- Recorrer ambas listas para mostrar por pantalla las alturas que sean menores que 175 ACOMPAÑADO del nombre de la persona que tenga esa altura. Se recuerda que las dos listas han de estar ordenadas Alumno - Altura en la misma posición."
   ]
  },
  {
   "cell_type": "code",
   "execution_count": null,
   "metadata": {},
   "outputs": [],
   "source": []
  }
 ],
 "metadata": {
  "language_info": {
   "name": "python",
   "codemirror_mode": {
    "name": "ipython",
    "version": 3
   },
   "version": "3.7.4-final"
  },
  "orig_nbformat": 2,
  "file_extension": ".py",
  "mimetype": "text/x-python",
  "name": "python",
  "npconvert_exporter": "python",
  "pygments_lexer": "ipython3",
  "version": 3,
  "kernelspec": {
   "name": "python3",
   "display_name": "Python 3"
  }
 },
 "nbformat": 4,
 "nbformat_minor": 2
}