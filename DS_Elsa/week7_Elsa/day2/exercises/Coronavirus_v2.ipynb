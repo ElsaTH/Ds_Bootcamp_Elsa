{
 "nbformat": 4,
 "nbformat_minor": 2,
 "metadata": {
  "language_info": {
   "name": "python",
   "codemirror_mode": {
    "name": "ipython",
    "version": 3
   },
   "version": "3.6.4-final"
  },
  "orig_nbformat": 2,
  "file_extension": ".py",
  "mimetype": "text/x-python",
  "name": "python",
  "npconvert_exporter": "python",
  "pygments_lexer": "ipython3",
  "version": 3,
  "kernelspec": {
   "name": "python36464bitc2077ed07ea84d23aa5b518d224882ab",
   "display_name": "Python 3.6.4 64-bit"
  }
 },
 "cells": [
  {
   "cell_type": "markdown",
   "metadata": {},
   "source": [
    "To check that your coronavirus exercise was right, try to use the last '.csv' file from the next url. \n",
    "\n",
    "https://covid.ourworldindata.org/data/ecdc/full_data.csv\n",
    "\n",
    "When you execute all your code, it must run without problems updating the graphs and outputs with the last available information. "
   ]
  },
  {
   "cell_type": "markdown",
   "metadata": {},
   "source": [
    "### Tasks: \n",
    "\n",
    "- Create a new dataframe with all the locations except the median. Call it \"no_median_df\". All must be different locations. \n",
    "\n",
    "#### Try to create a new function that return the answer of the next tasks and questions. One function per task: \n",
    "\n",
    "- Which countries have less cases than the percentile country 75%?\n",
    "- Imagine that the median location is the 175th row. Create a dataframe with all the locations from the 165 to 185. Call it \"median_df\". \n",
    "- With \"median_df\", create with bars, with lines, with points and with pie charts the top 10 in reverse. Both in seaborn and matplotlib. \n",
    "- Create a new dataframe with the concatenation of the \"median_df\" and \"no_median_df\". After that, create a function that receives a dataframe as param and return the number of non NaN values per each column and per each file. \n",
    "- Show, in a graph, which location appears more times in the dataset. \n",
    "- Which is the country with less frequency?\n",
    "- There is any unusual value? Why?\n",
    "- Delete all NaN value and repeat the same tasks using the functions created.\n",
    "- Do you find differences? Why?\n",
    "- What conclusion can we draw?"
   ]
  }
 ]
}