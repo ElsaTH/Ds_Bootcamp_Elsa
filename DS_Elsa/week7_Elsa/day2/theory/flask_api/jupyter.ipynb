{
 "cells": [
  {
   "cell_type": "code",
   "execution_count": 1,
   "metadata": {},
   "outputs": [
    {
     "output_type": "execute_result",
     "data": {
      "text/plain": "   col_1 col_2\n0      3     a\n1      2     b\n2      1     c\n3      0     d",
      "text/html": "<div>\n<style scoped>\n    .dataframe tbody tr th:only-of-type {\n        vertical-align: middle;\n    }\n\n    .dataframe tbody tr th {\n        vertical-align: top;\n    }\n\n    .dataframe thead th {\n        text-align: right;\n    }\n</style>\n<table border=\"1\" class=\"dataframe\">\n  <thead>\n    <tr style=\"text-align: right;\">\n      <th></th>\n      <th>col_1</th>\n      <th>col_2</th>\n    </tr>\n  </thead>\n  <tbody>\n    <tr>\n      <th>0</th>\n      <td>3</td>\n      <td>a</td>\n    </tr>\n    <tr>\n      <th>1</th>\n      <td>2</td>\n      <td>b</td>\n    </tr>\n    <tr>\n      <th>2</th>\n      <td>1</td>\n      <td>c</td>\n    </tr>\n    <tr>\n      <th>3</th>\n      <td>0</td>\n      <td>d</td>\n    </tr>\n  </tbody>\n</table>\n</div>"
     },
     "metadata": {},
     "execution_count": 1
    }
   ],
   "source": [
    "import pandas as pd\n",
    "flask_get_url = \"http://127.0.0.1:6060/api/test/?id=99\"\n",
    "\n",
    "df = pd.read_json(flask_get_url)\n",
    "df"
   ]
  },
  {
   "cell_type": "code",
   "execution_count": 1,
   "metadata": {
    "tags": []
   },
   "outputs": [
    {
     "output_type": "stream",
     "name": "stdout",
     "text": "__main__\n"
    }
   ],
   "source": [
    "print(__name__)"
   ]
  },
  {
   "cell_type": "markdown",
   "metadata": {},
   "source": [
    "http://34.229.137.164:5075/\n",
    "\n",
    "ec2-34-229-137-164.compute-1.amazonaws.com\n"
   ]
  },
  {
   "cell_type": "code",
   "execution_count": 2,
   "metadata": {
    "tags": []
   },
   "outputs": [
    {
     "output_type": "stream",
     "name": "stdout",
     "text": "__main__\n"
    }
   ],
   "source": [
    "if __name__ == \"__main__\":\n",
    "    print(__name__)"
   ]
  },
  {
   "cell_type": "code",
   "execution_count": null,
   "metadata": {},
   "outputs": [],
   "source": [
    "Valores de __name__:\n",
    "\n",
    "1- \"__main__\" --> Si se ejecuta desde el mismo fichero\n",
    "\n",
    "2- \"el nombre del fichero\" --> Si esa variable se utiliza en otro fichero (que es el fichero que se importa)"
   ]
  },
  {
   "cell_type": "code",
   "execution_count": 6,
   "metadata": {},
   "outputs": [
    {
     "output_type": "execute_result",
     "data": {
      "text/plain": "'Z:\\\\Data_Science\\\\TheBridge\\\\Content\\\\Contenido_Curso\\\\data_science_jun_2020\\\\week7\\\\day2\\\\theory\\\\flask_api\\\\settings.json'"
     },
     "metadata": {},
     "execution_count": 6
    }
   ],
   "source": [
    "s = \"Z:\\\\Data_Science\\\\TheBridge\\\\Content\\\\Contenido_Curso\\\\data_science_jun_2020\\\\week7\\\\day2\\\\theory\\\\flask_api\\\\flask_server.py\"\n",
    "import os, json\n",
    "settings = os.path.dirname(s) + \"\\\\settings.json\"\n",
    "settings"
   ]
  },
  {
   "cell_type": "code",
   "execution_count": 7,
   "metadata": {},
   "outputs": [
    {
     "output_type": "execute_result",
     "data": {
      "text/plain": "{'server_running': True, 'port': 6060, 'debug': True, 'host': '0.0.0.0'}"
     },
     "metadata": {},
     "execution_count": 7
    }
   ],
   "source": [
    "with open(settings, \"r\") as json_file_readed:\n",
    "    json_readed = json.load(json_file_readed)\n",
    "json_readed"
   ]
  },
  {
   "cell_type": "code",
   "execution_count": 8,
   "metadata": {},
   "outputs": [
    {
     "output_type": "execute_result",
     "data": {
      "text/plain": "6060"
     },
     "metadata": {},
     "execution_count": 8
    }
   ],
   "source": [
    "json_readed[\"port\"]"
   ]
  },
  {
   "cell_type": "code",
   "execution_count": null,
   "metadata": {},
   "outputs": [],
   "source": []
  }
 ],
 "metadata": {
  "language_info": {
   "codemirror_mode": {
    "name": "ipython",
    "version": 3
   },
   "file_extension": ".py",
   "mimetype": "text/x-python",
   "name": "python",
   "nbconvert_exporter": "python",
   "pygments_lexer": "ipython3",
   "version": "3.6.4-final"
  },
  "orig_nbformat": 2,
  "kernelspec": {
   "name": "python36464bitc2077ed07ea84d23aa5b518d224882ab",
   "display_name": "Python 3.6.4 64-bit"
  }
 },
 "nbformat": 4,
 "nbformat_minor": 2
}