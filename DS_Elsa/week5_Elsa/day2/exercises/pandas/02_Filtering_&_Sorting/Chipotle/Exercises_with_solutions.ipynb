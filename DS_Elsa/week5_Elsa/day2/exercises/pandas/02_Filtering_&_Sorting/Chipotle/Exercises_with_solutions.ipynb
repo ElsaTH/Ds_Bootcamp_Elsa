{
 "cells": [
  {
   "cell_type": "markdown",
   "metadata": {},
   "source": [
    "# Ex1 - Filtering and Sorting Data"
   ]
  },
  {
   "cell_type": "markdown",
   "metadata": {},
   "source": [
    "\n",
    "\n",
    "### Step 1. Import the necessary libraries"
   ]
  },
  {
   "cell_type": "code",
   "execution_count": 1,
   "metadata": {},
   "outputs": [],
   "source": [
    "import pandas as pd"
   ]
  },
  {
   "cell_type": "markdown",
   "metadata": {},
   "source": [
    "### Step 2. Import the dataset from this [address](https://raw.githubusercontent.com/justmarkham/DAT8/master/data/chipotle.tsv). "
   ]
  },
  {
   "cell_type": "code",
   "execution_count": 2,
   "metadata": {},
   "outputs": [],
   "source": [
    "address = \"https://raw.githubusercontent.com/justmarkham/DAT8/master/data/chipotle.tsv\""
   ]
  },
  {
   "cell_type": "markdown",
   "metadata": {},
   "source": [
    "### Step 3. Assign it to a variable called chipo."
   ]
  },
  {
   "cell_type": "code",
   "execution_count": 3,
   "metadata": {},
   "outputs": [
    {
     "output_type": "execute_result",
     "data": {
      "text/plain": "      order_id  quantity                              item_name  \\\n0            1         1           Chips and Fresh Tomato Salsa   \n1            1         1                                   Izze   \n2            1         1                       Nantucket Nectar   \n3            1         1  Chips and Tomatillo-Green Chili Salsa   \n4            2         2                           Chicken Bowl   \n...        ...       ...                                    ...   \n4617      1833         1                          Steak Burrito   \n4618      1833         1                          Steak Burrito   \n4619      1834         1                     Chicken Salad Bowl   \n4620      1834         1                     Chicken Salad Bowl   \n4621      1834         1                     Chicken Salad Bowl   \n\n                                     choice_description item_price  \n0                                                   NaN     $2.39   \n1                                          [Clementine]     $3.39   \n2                                               [Apple]     $3.39   \n3                                                   NaN     $2.39   \n4     [Tomatillo-Red Chili Salsa (Hot), [Black Beans...    $16.98   \n...                                                 ...        ...  \n4617  [Fresh Tomato Salsa, [Rice, Black Beans, Sour ...    $11.75   \n4618  [Fresh Tomato Salsa, [Rice, Sour Cream, Cheese...    $11.75   \n4619  [Fresh Tomato Salsa, [Fajita Vegetables, Pinto...    $11.25   \n4620  [Fresh Tomato Salsa, [Fajita Vegetables, Lettu...     $8.75   \n4621  [Fresh Tomato Salsa, [Fajita Vegetables, Pinto...     $8.75   \n\n[4622 rows x 5 columns]",
      "text/html": "<div>\n<style scoped>\n    .dataframe tbody tr th:only-of-type {\n        vertical-align: middle;\n    }\n\n    .dataframe tbody tr th {\n        vertical-align: top;\n    }\n\n    .dataframe thead th {\n        text-align: right;\n    }\n</style>\n<table border=\"1\" class=\"dataframe\">\n  <thead>\n    <tr style=\"text-align: right;\">\n      <th></th>\n      <th>order_id</th>\n      <th>quantity</th>\n      <th>item_name</th>\n      <th>choice_description</th>\n      <th>item_price</th>\n    </tr>\n  </thead>\n  <tbody>\n    <tr>\n      <th>0</th>\n      <td>1</td>\n      <td>1</td>\n      <td>Chips and Fresh Tomato Salsa</td>\n      <td>NaN</td>\n      <td>$2.39</td>\n    </tr>\n    <tr>\n      <th>1</th>\n      <td>1</td>\n      <td>1</td>\n      <td>Izze</td>\n      <td>[Clementine]</td>\n      <td>$3.39</td>\n    </tr>\n    <tr>\n      <th>2</th>\n      <td>1</td>\n      <td>1</td>\n      <td>Nantucket Nectar</td>\n      <td>[Apple]</td>\n      <td>$3.39</td>\n    </tr>\n    <tr>\n      <th>3</th>\n      <td>1</td>\n      <td>1</td>\n      <td>Chips and Tomatillo-Green Chili Salsa</td>\n      <td>NaN</td>\n      <td>$2.39</td>\n    </tr>\n    <tr>\n      <th>4</th>\n      <td>2</td>\n      <td>2</td>\n      <td>Chicken Bowl</td>\n      <td>[Tomatillo-Red Chili Salsa (Hot), [Black Beans...</td>\n      <td>$16.98</td>\n    </tr>\n    <tr>\n      <th>...</th>\n      <td>...</td>\n      <td>...</td>\n      <td>...</td>\n      <td>...</td>\n      <td>...</td>\n    </tr>\n    <tr>\n      <th>4617</th>\n      <td>1833</td>\n      <td>1</td>\n      <td>Steak Burrito</td>\n      <td>[Fresh Tomato Salsa, [Rice, Black Beans, Sour ...</td>\n      <td>$11.75</td>\n    </tr>\n    <tr>\n      <th>4618</th>\n      <td>1833</td>\n      <td>1</td>\n      <td>Steak Burrito</td>\n      <td>[Fresh Tomato Salsa, [Rice, Sour Cream, Cheese...</td>\n      <td>$11.75</td>\n    </tr>\n    <tr>\n      <th>4619</th>\n      <td>1834</td>\n      <td>1</td>\n      <td>Chicken Salad Bowl</td>\n      <td>[Fresh Tomato Salsa, [Fajita Vegetables, Pinto...</td>\n      <td>$11.25</td>\n    </tr>\n    <tr>\n      <th>4620</th>\n      <td>1834</td>\n      <td>1</td>\n      <td>Chicken Salad Bowl</td>\n      <td>[Fresh Tomato Salsa, [Fajita Vegetables, Lettu...</td>\n      <td>$8.75</td>\n    </tr>\n    <tr>\n      <th>4621</th>\n      <td>1834</td>\n      <td>1</td>\n      <td>Chicken Salad Bowl</td>\n      <td>[Fresh Tomato Salsa, [Fajita Vegetables, Pinto...</td>\n      <td>$8.75</td>\n    </tr>\n  </tbody>\n</table>\n<p>4622 rows × 5 columns</p>\n</div>"
     },
     "metadata": {},
     "execution_count": 3
    }
   ],
   "source": [
    "chipo = pd.read_csv(address, sep = '\\t')\n",
    "chipo"
   ]
  },
  {
   "cell_type": "markdown",
   "metadata": {},
   "source": [
    "# Name of the max valued product"
   ]
  },
  {
   "cell_type": "code",
   "execution_count": 8,
   "metadata": {},
   "outputs": [
    {
     "output_type": "execute_result",
     "data": {
      "text/plain": "12345641515"
     },
     "metadata": {},
     "execution_count": 8
    }
   ],
   "source": [
    "s1 = s[1:7]\n",
    "s2 = s[8:]\n",
    "int(s1 + s2)"
   ]
  },
  {
   "cell_type": "code",
   "execution_count": 5,
   "metadata": {},
   "outputs": [
    {
     "output_type": "error",
     "ename": "TypeError",
     "evalue": "string indices must be integers",
     "traceback": [
      "\u001b[1;31m---------------------------------------------------------------------------\u001b[0m",
      "\u001b[1;31mTypeError\u001b[0m                                 Traceback (most recent call last)",
      "\u001b[1;32m<ipython-input-5-9c8b85951f92>\u001b[0m in \u001b[0;36m<module>\u001b[1;34m\u001b[0m\n\u001b[0;32m      1\u001b[0m \u001b[0ms\u001b[0m \u001b[1;33m=\u001b[0m \u001b[1;34m\"$123456j41515\"\u001b[0m\u001b[1;33m\u001b[0m\u001b[0m\n\u001b[1;32m----> 2\u001b[1;33m \u001b[0ms\u001b[0m \u001b[1;33m=\u001b[0m \u001b[0ms\u001b[0m\u001b[1;33m[\u001b[0m\u001b[1;36m1\u001b[0m\u001b[1;33m:\u001b[0m\u001b[1;36m7\u001b[0m\u001b[1;33m,\u001b[0m\u001b[1;36m8\u001b[0m\u001b[1;33m:\u001b[0m\u001b[1;33m]\u001b[0m\u001b[1;33m\u001b[0m\u001b[0m\n\u001b[0m\u001b[0;32m      3\u001b[0m \u001b[0ms\u001b[0m\u001b[1;33m\u001b[0m\u001b[0m\n",
      "\u001b[1;31mTypeError\u001b[0m: string indices must be integers"
     ]
    }
   ],
   "source": [
    "s = \"$123456j41515\"\n",
    "s = s[1:7:8:]\n",
    "s"
   ]
  },
  {
   "cell_type": "code",
   "execution_count": 13,
   "metadata": {},
   "outputs": [
    {
     "output_type": "execute_result",
     "data": {
      "text/plain": "      order_id  quantity                              item_name  \\\n0            1         1           Chips and Fresh Tomato Salsa   \n1            1         1                                   Izze   \n2            1         1                       Nantucket Nectar   \n3            1         1  Chips and Tomatillo-Green Chili Salsa   \n4            2         2                           Chicken Bowl   \n...        ...       ...                                    ...   \n4617      1833         1                          Steak Burrito   \n4618      1833         1                          Steak Burrito   \n4619      1834         1                     Chicken Salad Bowl   \n4620      1834         1                     Chicken Salad Bowl   \n4621      1834         1                     Chicken Salad Bowl   \n\n                                     choice_description  item_price  \n0                                                   NaN        2.39  \n1                                          [Clementine]        3.39  \n2                                               [Apple]        3.39  \n3                                                   NaN        2.39  \n4     [Tomatillo-Red Chili Salsa (Hot), [Black Beans...       16.98  \n...                                                 ...         ...  \n4617  [Fresh Tomato Salsa, [Rice, Black Beans, Sour ...       11.75  \n4618  [Fresh Tomato Salsa, [Rice, Sour Cream, Cheese...       11.75  \n4619  [Fresh Tomato Salsa, [Fajita Vegetables, Pinto...       11.25  \n4620  [Fresh Tomato Salsa, [Fajita Vegetables, Lettu...        8.75  \n4621  [Fresh Tomato Salsa, [Fajita Vegetables, Pinto...        8.75  \n\n[4622 rows x 5 columns]",
      "text/html": "<div>\n<style scoped>\n    .dataframe tbody tr th:only-of-type {\n        vertical-align: middle;\n    }\n\n    .dataframe tbody tr th {\n        vertical-align: top;\n    }\n\n    .dataframe thead th {\n        text-align: right;\n    }\n</style>\n<table border=\"1\" class=\"dataframe\">\n  <thead>\n    <tr style=\"text-align: right;\">\n      <th></th>\n      <th>order_id</th>\n      <th>quantity</th>\n      <th>item_name</th>\n      <th>choice_description</th>\n      <th>item_price</th>\n    </tr>\n  </thead>\n  <tbody>\n    <tr>\n      <th>0</th>\n      <td>1</td>\n      <td>1</td>\n      <td>Chips and Fresh Tomato Salsa</td>\n      <td>NaN</td>\n      <td>2.39</td>\n    </tr>\n    <tr>\n      <th>1</th>\n      <td>1</td>\n      <td>1</td>\n      <td>Izze</td>\n      <td>[Clementine]</td>\n      <td>3.39</td>\n    </tr>\n    <tr>\n      <th>2</th>\n      <td>1</td>\n      <td>1</td>\n      <td>Nantucket Nectar</td>\n      <td>[Apple]</td>\n      <td>3.39</td>\n    </tr>\n    <tr>\n      <th>3</th>\n      <td>1</td>\n      <td>1</td>\n      <td>Chips and Tomatillo-Green Chili Salsa</td>\n      <td>NaN</td>\n      <td>2.39</td>\n    </tr>\n    <tr>\n      <th>4</th>\n      <td>2</td>\n      <td>2</td>\n      <td>Chicken Bowl</td>\n      <td>[Tomatillo-Red Chili Salsa (Hot), [Black Beans...</td>\n      <td>16.98</td>\n    </tr>\n    <tr>\n      <th>...</th>\n      <td>...</td>\n      <td>...</td>\n      <td>...</td>\n      <td>...</td>\n      <td>...</td>\n    </tr>\n    <tr>\n      <th>4617</th>\n      <td>1833</td>\n      <td>1</td>\n      <td>Steak Burrito</td>\n      <td>[Fresh Tomato Salsa, [Rice, Black Beans, Sour ...</td>\n      <td>11.75</td>\n    </tr>\n    <tr>\n      <th>4618</th>\n      <td>1833</td>\n      <td>1</td>\n      <td>Steak Burrito</td>\n      <td>[Fresh Tomato Salsa, [Rice, Sour Cream, Cheese...</td>\n      <td>11.75</td>\n    </tr>\n    <tr>\n      <th>4619</th>\n      <td>1834</td>\n      <td>1</td>\n      <td>Chicken Salad Bowl</td>\n      <td>[Fresh Tomato Salsa, [Fajita Vegetables, Pinto...</td>\n      <td>11.25</td>\n    </tr>\n    <tr>\n      <th>4620</th>\n      <td>1834</td>\n      <td>1</td>\n      <td>Chicken Salad Bowl</td>\n      <td>[Fresh Tomato Salsa, [Fajita Vegetables, Lettu...</td>\n      <td>8.75</td>\n    </tr>\n    <tr>\n      <th>4621</th>\n      <td>1834</td>\n      <td>1</td>\n      <td>Chicken Salad Bowl</td>\n      <td>[Fresh Tomato Salsa, [Fajita Vegetables, Pinto...</td>\n      <td>8.75</td>\n    </tr>\n  </tbody>\n</table>\n<p>4622 rows × 5 columns</p>\n</div>"
     },
     "metadata": {},
     "execution_count": 13
    }
   ],
   "source": [
    "chipo.item_price = chipo.item_price.str[1:].astype(float)\n",
    "chipo"
   ]
  },
  {
   "cell_type": "code",
   "execution_count": 14,
   "metadata": {},
   "outputs": [
    {
     "output_type": "execute_result",
     "data": {
      "text/plain": "44.25"
     },
     "metadata": {},
     "execution_count": 14
    }
   ],
   "source": [
    "max(chipo.item_price)"
   ]
  },
  {
   "cell_type": "code",
   "execution_count": 15,
   "metadata": {
    "tags": []
   },
   "outputs": [
    {
     "output_type": "stream",
     "name": "stdout",
     "text": "3598\n"
    }
   ],
   "source": [
    "index = chipo.item_price.idxmax()\n",
    "print(index)"
   ]
  },
  {
   "cell_type": "code",
   "execution_count": 16,
   "metadata": {},
   "outputs": [
    {
     "output_type": "execute_result",
     "data": {
      "text/plain": "3598    44.25\nName: item_price, dtype: float64"
     },
     "metadata": {},
     "execution_count": 16
    }
   ],
   "source": [
    "x = chipo.item_price[chipo.item_price == max(chipo.item_price)]\n",
    "x"
   ]
  },
  {
   "cell_type": "code",
   "execution_count": 21,
   "metadata": {},
   "outputs": [
    {
     "output_type": "execute_result",
     "data": {
      "text/plain": "      order_id  quantity                     item_name choice_description  \\\n3598      1443        15  Chips and Fresh Tomato Salsa                NaN   \n\n      item_price  \n3598       44.25  ",
      "text/html": "<div>\n<style scoped>\n    .dataframe tbody tr th:only-of-type {\n        vertical-align: middle;\n    }\n\n    .dataframe tbody tr th {\n        vertical-align: top;\n    }\n\n    .dataframe thead th {\n        text-align: right;\n    }\n</style>\n<table border=\"1\" class=\"dataframe\">\n  <thead>\n    <tr style=\"text-align: right;\">\n      <th></th>\n      <th>order_id</th>\n      <th>quantity</th>\n      <th>item_name</th>\n      <th>choice_description</th>\n      <th>item_price</th>\n    </tr>\n  </thead>\n  <tbody>\n    <tr>\n      <th>3598</th>\n      <td>1443</td>\n      <td>15</td>\n      <td>Chips and Fresh Tomato Salsa</td>\n      <td>NaN</td>\n      <td>44.25</td>\n    </tr>\n  </tbody>\n</table>\n</div>"
     },
     "metadata": {},
     "execution_count": 21
    }
   ],
   "source": [
    "s = chipo[chipo.item_price == max(chipo.item_price)]\n",
    "s"
   ]
  },
  {
   "cell_type": "code",
   "execution_count": 20,
   "metadata": {},
   "outputs": [
    {
     "output_type": "execute_result",
     "data": {
      "text/plain": "50"
     },
     "metadata": {},
     "execution_count": 20
    }
   ],
   "source": [
    "chipo.item_name.nunique()"
   ]
  },
  {
   "cell_type": "markdown",
   "metadata": {},
   "source": [
    "Con intención de saber el precio real de cada producto, vamos a crear una columna que guarde el precio por unidad."
   ]
  },
  {
   "cell_type": "code",
   "execution_count": 22,
   "metadata": {},
   "outputs": [
    {
     "output_type": "execute_result",
     "data": {
      "text/plain": "      order_id  quantity     item_name  \\\n4            2         2  Chicken Bowl   \n5            3         1  Chicken Bowl   \n13           7         1  Chicken Bowl   \n19          10         1  Chicken Bowl   \n26          13         1  Chicken Bowl   \n...        ...       ...           ...   \n4590      1825         1  Chicken Bowl   \n4591      1825         1  Chicken Bowl   \n4595      1826         1  Chicken Bowl   \n4599      1827         1  Chicken Bowl   \n4604      1828         1  Chicken Bowl   \n\n                                     choice_description  item_price  \n4     [Tomatillo-Red Chili Salsa (Hot), [Black Beans...       16.98  \n5     [Fresh Tomato Salsa (Mild), [Rice, Cheese, Sou...       10.98  \n13    [Fresh Tomato Salsa, [Fajita Vegetables, Rice,...       11.25  \n19    [Tomatillo Red Chili Salsa, [Fajita Vegetables...        8.75  \n26    [Roasted Chili Corn Salsa (Medium), [Pinto Bea...        8.49  \n...                                                 ...         ...  \n4590  [Roasted Chili Corn Salsa, [Rice, Black Beans,...       11.25  \n4591  [Tomatillo Red Chili Salsa, [Rice, Black Beans...        8.75  \n4595  [Tomatillo Green Chili Salsa, [Rice, Black Bea...        8.75  \n4599      [Roasted Chili Corn Salsa, [Cheese, Lettuce]]        8.75  \n4604  [Fresh Tomato Salsa, [Rice, Black Beans, Chees...        8.75  \n\n[726 rows x 5 columns]",
      "text/html": "<div>\n<style scoped>\n    .dataframe tbody tr th:only-of-type {\n        vertical-align: middle;\n    }\n\n    .dataframe tbody tr th {\n        vertical-align: top;\n    }\n\n    .dataframe thead th {\n        text-align: right;\n    }\n</style>\n<table border=\"1\" class=\"dataframe\">\n  <thead>\n    <tr style=\"text-align: right;\">\n      <th></th>\n      <th>order_id</th>\n      <th>quantity</th>\n      <th>item_name</th>\n      <th>choice_description</th>\n      <th>item_price</th>\n    </tr>\n  </thead>\n  <tbody>\n    <tr>\n      <th>4</th>\n      <td>2</td>\n      <td>2</td>\n      <td>Chicken Bowl</td>\n      <td>[Tomatillo-Red Chili Salsa (Hot), [Black Beans...</td>\n      <td>16.98</td>\n    </tr>\n    <tr>\n      <th>5</th>\n      <td>3</td>\n      <td>1</td>\n      <td>Chicken Bowl</td>\n      <td>[Fresh Tomato Salsa (Mild), [Rice, Cheese, Sou...</td>\n      <td>10.98</td>\n    </tr>\n    <tr>\n      <th>13</th>\n      <td>7</td>\n      <td>1</td>\n      <td>Chicken Bowl</td>\n      <td>[Fresh Tomato Salsa, [Fajita Vegetables, Rice,...</td>\n      <td>11.25</td>\n    </tr>\n    <tr>\n      <th>19</th>\n      <td>10</td>\n      <td>1</td>\n      <td>Chicken Bowl</td>\n      <td>[Tomatillo Red Chili Salsa, [Fajita Vegetables...</td>\n      <td>8.75</td>\n    </tr>\n    <tr>\n      <th>26</th>\n      <td>13</td>\n      <td>1</td>\n      <td>Chicken Bowl</td>\n      <td>[Roasted Chili Corn Salsa (Medium), [Pinto Bea...</td>\n      <td>8.49</td>\n    </tr>\n    <tr>\n      <th>...</th>\n      <td>...</td>\n      <td>...</td>\n      <td>...</td>\n      <td>...</td>\n      <td>...</td>\n    </tr>\n    <tr>\n      <th>4590</th>\n      <td>1825</td>\n      <td>1</td>\n      <td>Chicken Bowl</td>\n      <td>[Roasted Chili Corn Salsa, [Rice, Black Beans,...</td>\n      <td>11.25</td>\n    </tr>\n    <tr>\n      <th>4591</th>\n      <td>1825</td>\n      <td>1</td>\n      <td>Chicken Bowl</td>\n      <td>[Tomatillo Red Chili Salsa, [Rice, Black Beans...</td>\n      <td>8.75</td>\n    </tr>\n    <tr>\n      <th>4595</th>\n      <td>1826</td>\n      <td>1</td>\n      <td>Chicken Bowl</td>\n      <td>[Tomatillo Green Chili Salsa, [Rice, Black Bea...</td>\n      <td>8.75</td>\n    </tr>\n    <tr>\n      <th>4599</th>\n      <td>1827</td>\n      <td>1</td>\n      <td>Chicken Bowl</td>\n      <td>[Roasted Chili Corn Salsa, [Cheese, Lettuce]]</td>\n      <td>8.75</td>\n    </tr>\n    <tr>\n      <th>4604</th>\n      <td>1828</td>\n      <td>1</td>\n      <td>Chicken Bowl</td>\n      <td>[Fresh Tomato Salsa, [Rice, Black Beans, Chees...</td>\n      <td>8.75</td>\n    </tr>\n  </tbody>\n</table>\n<p>726 rows × 5 columns</p>\n</div>"
     },
     "metadata": {},
     "execution_count": 22
    }
   ],
   "source": [
    "chipo[chipo.item_name == \"Chicken Bowl\"]"
   ]
  },
  {
   "cell_type": "code",
   "execution_count": 23,
   "metadata": {},
   "outputs": [
    {
     "output_type": "execute_result",
     "data": {
      "text/plain": "      order_id  quantity                              item_name  \\\n0            1         1           Chips and Fresh Tomato Salsa   \n1            1         1                                   Izze   \n2            1         1                       Nantucket Nectar   \n3            1         1  Chips and Tomatillo-Green Chili Salsa   \n4            2         2                           Chicken Bowl   \n...        ...       ...                                    ...   \n4617      1833         1                          Steak Burrito   \n4618      1833         1                          Steak Burrito   \n4619      1834         1                     Chicken Salad Bowl   \n4620      1834         1                     Chicken Salad Bowl   \n4621      1834         1                     Chicken Salad Bowl   \n\n                                     choice_description  item_price  \\\n0                                                   NaN        2.39   \n1                                          [Clementine]        3.39   \n2                                               [Apple]        3.39   \n3                                                   NaN        2.39   \n4     [Tomatillo-Red Chili Salsa (Hot), [Black Beans...       16.98   \n...                                                 ...         ...   \n4617  [Fresh Tomato Salsa, [Rice, Black Beans, Sour ...       11.75   \n4618  [Fresh Tomato Salsa, [Rice, Sour Cream, Cheese...       11.75   \n4619  [Fresh Tomato Salsa, [Fajita Vegetables, Pinto...       11.25   \n4620  [Fresh Tomato Salsa, [Fajita Vegetables, Lettu...        8.75   \n4621  [Fresh Tomato Salsa, [Fajita Vegetables, Pinto...        8.75   \n\n      unity_price  \n0            2.39  \n1            3.39  \n2            3.39  \n3            2.39  \n4            8.49  \n...           ...  \n4617        11.75  \n4618        11.75  \n4619        11.25  \n4620         8.75  \n4621         8.75  \n\n[4622 rows x 6 columns]",
      "text/html": "<div>\n<style scoped>\n    .dataframe tbody tr th:only-of-type {\n        vertical-align: middle;\n    }\n\n    .dataframe tbody tr th {\n        vertical-align: top;\n    }\n\n    .dataframe thead th {\n        text-align: right;\n    }\n</style>\n<table border=\"1\" class=\"dataframe\">\n  <thead>\n    <tr style=\"text-align: right;\">\n      <th></th>\n      <th>order_id</th>\n      <th>quantity</th>\n      <th>item_name</th>\n      <th>choice_description</th>\n      <th>item_price</th>\n      <th>unity_price</th>\n    </tr>\n  </thead>\n  <tbody>\n    <tr>\n      <th>0</th>\n      <td>1</td>\n      <td>1</td>\n      <td>Chips and Fresh Tomato Salsa</td>\n      <td>NaN</td>\n      <td>2.39</td>\n      <td>2.39</td>\n    </tr>\n    <tr>\n      <th>1</th>\n      <td>1</td>\n      <td>1</td>\n      <td>Izze</td>\n      <td>[Clementine]</td>\n      <td>3.39</td>\n      <td>3.39</td>\n    </tr>\n    <tr>\n      <th>2</th>\n      <td>1</td>\n      <td>1</td>\n      <td>Nantucket Nectar</td>\n      <td>[Apple]</td>\n      <td>3.39</td>\n      <td>3.39</td>\n    </tr>\n    <tr>\n      <th>3</th>\n      <td>1</td>\n      <td>1</td>\n      <td>Chips and Tomatillo-Green Chili Salsa</td>\n      <td>NaN</td>\n      <td>2.39</td>\n      <td>2.39</td>\n    </tr>\n    <tr>\n      <th>4</th>\n      <td>2</td>\n      <td>2</td>\n      <td>Chicken Bowl</td>\n      <td>[Tomatillo-Red Chili Salsa (Hot), [Black Beans...</td>\n      <td>16.98</td>\n      <td>8.49</td>\n    </tr>\n    <tr>\n      <th>...</th>\n      <td>...</td>\n      <td>...</td>\n      <td>...</td>\n      <td>...</td>\n      <td>...</td>\n      <td>...</td>\n    </tr>\n    <tr>\n      <th>4617</th>\n      <td>1833</td>\n      <td>1</td>\n      <td>Steak Burrito</td>\n      <td>[Fresh Tomato Salsa, [Rice, Black Beans, Sour ...</td>\n      <td>11.75</td>\n      <td>11.75</td>\n    </tr>\n    <tr>\n      <th>4618</th>\n      <td>1833</td>\n      <td>1</td>\n      <td>Steak Burrito</td>\n      <td>[Fresh Tomato Salsa, [Rice, Sour Cream, Cheese...</td>\n      <td>11.75</td>\n      <td>11.75</td>\n    </tr>\n    <tr>\n      <th>4619</th>\n      <td>1834</td>\n      <td>1</td>\n      <td>Chicken Salad Bowl</td>\n      <td>[Fresh Tomato Salsa, [Fajita Vegetables, Pinto...</td>\n      <td>11.25</td>\n      <td>11.25</td>\n    </tr>\n    <tr>\n      <th>4620</th>\n      <td>1834</td>\n      <td>1</td>\n      <td>Chicken Salad Bowl</td>\n      <td>[Fresh Tomato Salsa, [Fajita Vegetables, Lettu...</td>\n      <td>8.75</td>\n      <td>8.75</td>\n    </tr>\n    <tr>\n      <th>4621</th>\n      <td>1834</td>\n      <td>1</td>\n      <td>Chicken Salad Bowl</td>\n      <td>[Fresh Tomato Salsa, [Fajita Vegetables, Pinto...</td>\n      <td>8.75</td>\n      <td>8.75</td>\n    </tr>\n  </tbody>\n</table>\n<p>4622 rows × 6 columns</p>\n</div>"
     },
     "metadata": {},
     "execution_count": 23
    }
   ],
   "source": [
    "chipo[\"unity_price\"] = chipo.item_price / chipo.quantity\n",
    "chipo"
   ]
  },
  {
   "cell_type": "markdown",
   "metadata": {},
   "source": [
    "* Intentando por descripción"
   ]
  },
  {
   "cell_type": "code",
   "execution_count": 24,
   "metadata": {},
   "outputs": [
    {
     "output_type": "execute_result",
     "data": {
      "text/plain": "                                                    order_id  quantity  \\\nchoice_description                                                       \n[Adobo-Marinated and Grilled Chicken, Pinto Bea...       214         1   \n[Adobo-Marinated and Grilled Chicken, [Sour Cre...       279         1   \n[Adobo-Marinated and Grilled Chicken]                    217         1   \n[Adobo-Marinated and Grilled Steak, [Sour Cream...       279         1   \n[Adobo-Marinated and Grilled Steak]                      217         1   \n...                                                      ...       ...   \n[[Tomatillo-Red Chili Salsa (Hot), Tomatillo-Gr...      1309         1   \n[[Tomatillo-Red Chili Salsa (Hot), Tomatillo-Gr...      1215         1   \n[[Tomatillo-Red Chili Salsa (Hot), Tomatillo-Gr...        51         1   \n[[Tomatillo-Red Chili Salsa (Hot), Tomatillo-Gr...        51         1   \n[[Tomatillo-Red Chili Salsa (Hot), Tomatillo-Gr...      1299         1   \n\n                                                          item_name  \\\nchoice_description                                                    \n[Adobo-Marinated and Grilled Chicken, Pinto Bea...          Burrito   \n[Adobo-Marinated and Grilled Chicken, [Sour Cre...          Burrito   \n[Adobo-Marinated and Grilled Chicken]                  Crispy Tacos   \n[Adobo-Marinated and Grilled Steak, [Sour Cream...             Bowl   \n[Adobo-Marinated and Grilled Steak]                    Crispy Tacos   \n...                                                             ...   \n[[Tomatillo-Red Chili Salsa (Hot), Tomatillo-Gr...  Chicken Burrito   \n[[Tomatillo-Red Chili Salsa (Hot), Tomatillo-Gr...     Chicken Bowl   \n[[Tomatillo-Red Chili Salsa (Hot), Tomatillo-Gr...  Chicken Burrito   \n[[Tomatillo-Red Chili Salsa (Hot), Tomatillo-Gr...    Barbacoa Bowl   \n[[Tomatillo-Red Chili Salsa (Hot), Tomatillo-Gr...    Barbacoa Bowl   \n\n                                                    item_price  unity_price  \nchoice_description                                                           \n[Adobo-Marinated and Grilled Chicken, Pinto Bea...        7.40         7.40  \n[Adobo-Marinated and Grilled Chicken, [Sour Cre...        7.40         7.40  \n[Adobo-Marinated and Grilled Chicken]                     7.40         7.40  \n[Adobo-Marinated and Grilled Steak, [Sour Cream...        7.40         7.40  \n[Adobo-Marinated and Grilled Steak]                       7.40         7.40  \n...                                                        ...          ...  \n[[Tomatillo-Red Chili Salsa (Hot), Tomatillo-Gr...        8.49         8.49  \n[[Tomatillo-Red Chili Salsa (Hot), Tomatillo-Gr...        8.49         8.49  \n[[Tomatillo-Red Chili Salsa (Hot), Tomatillo-Gr...        8.49         8.49  \n[[Tomatillo-Red Chili Salsa (Hot), Tomatillo-Gr...        8.99         8.99  \n[[Tomatillo-Red Chili Salsa (Hot), Tomatillo-Gr...        8.99         8.99  \n\n[1043 rows x 5 columns]",
      "text/html": "<div>\n<style scoped>\n    .dataframe tbody tr th:only-of-type {\n        vertical-align: middle;\n    }\n\n    .dataframe tbody tr th {\n        vertical-align: top;\n    }\n\n    .dataframe thead th {\n        text-align: right;\n    }\n</style>\n<table border=\"1\" class=\"dataframe\">\n  <thead>\n    <tr style=\"text-align: right;\">\n      <th></th>\n      <th>order_id</th>\n      <th>quantity</th>\n      <th>item_name</th>\n      <th>item_price</th>\n      <th>unity_price</th>\n    </tr>\n    <tr>\n      <th>choice_description</th>\n      <th></th>\n      <th></th>\n      <th></th>\n      <th></th>\n      <th></th>\n    </tr>\n  </thead>\n  <tbody>\n    <tr>\n      <th>[Adobo-Marinated and Grilled Chicken, Pinto Beans, [Sour Cream, Salsa, Cheese, Cilantro-Lime Rice, Guacamole]]</th>\n      <td>214</td>\n      <td>1</td>\n      <td>Burrito</td>\n      <td>7.40</td>\n      <td>7.40</td>\n    </tr>\n    <tr>\n      <th>[Adobo-Marinated and Grilled Chicken, [Sour Cream, Cheese, Cilantro-Lime Rice]]</th>\n      <td>279</td>\n      <td>1</td>\n      <td>Burrito</td>\n      <td>7.40</td>\n      <td>7.40</td>\n    </tr>\n    <tr>\n      <th>[Adobo-Marinated and Grilled Chicken]</th>\n      <td>217</td>\n      <td>1</td>\n      <td>Crispy Tacos</td>\n      <td>7.40</td>\n      <td>7.40</td>\n    </tr>\n    <tr>\n      <th>[Adobo-Marinated and Grilled Steak, [Sour Cream, Salsa, Cheese, Cilantro-Lime Rice, Guacamole]]</th>\n      <td>279</td>\n      <td>1</td>\n      <td>Bowl</td>\n      <td>7.40</td>\n      <td>7.40</td>\n    </tr>\n    <tr>\n      <th>[Adobo-Marinated and Grilled Steak]</th>\n      <td>217</td>\n      <td>1</td>\n      <td>Crispy Tacos</td>\n      <td>7.40</td>\n      <td>7.40</td>\n    </tr>\n    <tr>\n      <th>...</th>\n      <td>...</td>\n      <td>...</td>\n      <td>...</td>\n      <td>...</td>\n      <td>...</td>\n    </tr>\n    <tr>\n      <th>[[Tomatillo-Red Chili Salsa (Hot), Tomatillo-Green Chili Salsa (Medium)], [Rice, Black Beans, Cheese, Lettuce]]</th>\n      <td>1309</td>\n      <td>1</td>\n      <td>Chicken Burrito</td>\n      <td>8.49</td>\n      <td>8.49</td>\n    </tr>\n    <tr>\n      <th>[[Tomatillo-Red Chili Salsa (Hot), Tomatillo-Green Chili Salsa (Medium)], [Rice, Black Beans, Lettuce]]</th>\n      <td>1215</td>\n      <td>1</td>\n      <td>Chicken Bowl</td>\n      <td>8.49</td>\n      <td>8.49</td>\n    </tr>\n    <tr>\n      <th>[[Tomatillo-Red Chili Salsa (Hot), Tomatillo-Green Chili Salsa (Medium)], [Rice, Pinto Beans, Cheese, Lettuce]]</th>\n      <td>51</td>\n      <td>1</td>\n      <td>Chicken Burrito</td>\n      <td>8.49</td>\n      <td>8.49</td>\n    </tr>\n    <tr>\n      <th>[[Tomatillo-Red Chili Salsa (Hot), Tomatillo-Green Chili Salsa (Medium)], [Rice, Pinto Beans, Fajita Veggies, Cheese, Sour Cream, Lettuce]]</th>\n      <td>51</td>\n      <td>1</td>\n      <td>Barbacoa Bowl</td>\n      <td>8.99</td>\n      <td>8.99</td>\n    </tr>\n    <tr>\n      <th>[[Tomatillo-Red Chili Salsa (Hot), Tomatillo-Green Chili Salsa (Medium)], [Rice, Pinto Beans, Fajita Veggies, Lettuce]]</th>\n      <td>1299</td>\n      <td>1</td>\n      <td>Barbacoa Bowl</td>\n      <td>8.99</td>\n      <td>8.99</td>\n    </tr>\n  </tbody>\n</table>\n<p>1043 rows × 5 columns</p>\n</div>"
     },
     "metadata": {},
     "execution_count": 24
    }
   ],
   "source": [
    "chipo_description = chipo.groupby(\"choice_description\").max()\n",
    "chipo_description"
   ]
  },
  {
   "cell_type": "code",
   "execution_count": 25,
   "metadata": {},
   "outputs": [
    {
     "output_type": "execute_result",
     "data": {
      "text/plain": "                                                    order_id  quantity  \\\nchoice_description                                                       \n[Tomatillo Green Chili Salsa, [Black Beans, Che...      1692         2   \n[Roasted Chili Corn Salsa, [Fajita Vegetables, ...      1403         1   \n[Roasted Chili Corn Salsa, [Rice, Cheese, Lettu...      1106         1   \n[Fresh Tomato Salsa, [Pinto Beans, Cheese, Guac...       250         1   \n[Fresh Tomato Salsa, [Rice, Fajita Vegetables, ...       478         1   \n...                                                      ...       ...   \n[Peach Orange]                                          1632         2   \n[Mountain Dew]                                          1562         2   \n[Diet Dr. Pepper]                                       1578         2   \n[Coca Cola]                                             1475         2   \n[Dr. Pepper]                                            1575         2   \n\n                                                             item_name  \\\nchoice_description                                                       \n[Tomatillo Green Chili Salsa, [Black Beans, Che...  Chicken Salad Bowl   \n[Roasted Chili Corn Salsa, [Fajita Vegetables, ...    Steak Salad Bowl   \n[Roasted Chili Corn Salsa, [Rice, Cheese, Lettu...    Steak Salad Bowl   \n[Fresh Tomato Salsa, [Pinto Beans, Cheese, Guac...    Steak Salad Bowl   \n[Fresh Tomato Salsa, [Rice, Fajita Vegetables, ...    Steak Salad Bowl   \n...                                                                ...   \n[Peach Orange]                                        Nantucket Nectar   \n[Mountain Dew]                                             Canned Soda   \n[Diet Dr. Pepper]                                          Canned Soda   \n[Coca Cola]                                                Canned Soda   \n[Dr. Pepper]                                               Canned Soda   \n\n                                                    item_price  unity_price  \nchoice_description                                                           \n[Tomatillo Green Chili Salsa, [Black Beans, Che...       22.50        11.89  \n[Roasted Chili Corn Salsa, [Fajita Vegetables, ...       11.89        11.89  \n[Roasted Chili Corn Salsa, [Rice, Cheese, Lettu...       11.89        11.89  \n[Fresh Tomato Salsa, [Pinto Beans, Cheese, Guac...       11.89        11.89  \n[Fresh Tomato Salsa, [Rice, Fajita Vegetables, ...       11.89        11.89  \n...                                                        ...          ...  \n[Peach Orange]                                            6.78         3.39  \n[Mountain Dew]                                            2.18         1.09  \n[Diet Dr. Pepper]                                         2.18         1.09  \n[Coca Cola]                                               2.18         1.09  \n[Dr. Pepper]                                              2.18         1.09  \n\n[1043 rows x 5 columns]",
      "text/html": "<div>\n<style scoped>\n    .dataframe tbody tr th:only-of-type {\n        vertical-align: middle;\n    }\n\n    .dataframe tbody tr th {\n        vertical-align: top;\n    }\n\n    .dataframe thead th {\n        text-align: right;\n    }\n</style>\n<table border=\"1\" class=\"dataframe\">\n  <thead>\n    <tr style=\"text-align: right;\">\n      <th></th>\n      <th>order_id</th>\n      <th>quantity</th>\n      <th>item_name</th>\n      <th>item_price</th>\n      <th>unity_price</th>\n    </tr>\n    <tr>\n      <th>choice_description</th>\n      <th></th>\n      <th></th>\n      <th></th>\n      <th></th>\n      <th></th>\n    </tr>\n  </thead>\n  <tbody>\n    <tr>\n      <th>[Tomatillo Green Chili Salsa, [Black Beans, Cheese, Guacamole]]</th>\n      <td>1692</td>\n      <td>2</td>\n      <td>Chicken Salad Bowl</td>\n      <td>22.50</td>\n      <td>11.89</td>\n    </tr>\n    <tr>\n      <th>[Roasted Chili Corn Salsa, [Fajita Vegetables, Rice, Cheese, Guacamole, Lettuce]]</th>\n      <td>1403</td>\n      <td>1</td>\n      <td>Steak Salad Bowl</td>\n      <td>11.89</td>\n      <td>11.89</td>\n    </tr>\n    <tr>\n      <th>[Roasted Chili Corn Salsa, [Rice, Cheese, Lettuce, Guacamole]]</th>\n      <td>1106</td>\n      <td>1</td>\n      <td>Steak Salad Bowl</td>\n      <td>11.89</td>\n      <td>11.89</td>\n    </tr>\n    <tr>\n      <th>[Fresh Tomato Salsa, [Pinto Beans, Cheese, Guacamole, Lettuce]]</th>\n      <td>250</td>\n      <td>1</td>\n      <td>Steak Salad Bowl</td>\n      <td>11.89</td>\n      <td>11.89</td>\n    </tr>\n    <tr>\n      <th>[Fresh Tomato Salsa, [Rice, Fajita Vegetables, Sour Cream, Cheese, Lettuce, Guacamole]]</th>\n      <td>478</td>\n      <td>1</td>\n      <td>Steak Salad Bowl</td>\n      <td>11.89</td>\n      <td>11.89</td>\n    </tr>\n    <tr>\n      <th>...</th>\n      <td>...</td>\n      <td>...</td>\n      <td>...</td>\n      <td>...</td>\n      <td>...</td>\n    </tr>\n    <tr>\n      <th>[Peach Orange]</th>\n      <td>1632</td>\n      <td>2</td>\n      <td>Nantucket Nectar</td>\n      <td>6.78</td>\n      <td>3.39</td>\n    </tr>\n    <tr>\n      <th>[Mountain Dew]</th>\n      <td>1562</td>\n      <td>2</td>\n      <td>Canned Soda</td>\n      <td>2.18</td>\n      <td>1.09</td>\n    </tr>\n    <tr>\n      <th>[Diet Dr. Pepper]</th>\n      <td>1578</td>\n      <td>2</td>\n      <td>Canned Soda</td>\n      <td>2.18</td>\n      <td>1.09</td>\n    </tr>\n    <tr>\n      <th>[Coca Cola]</th>\n      <td>1475</td>\n      <td>2</td>\n      <td>Canned Soda</td>\n      <td>2.18</td>\n      <td>1.09</td>\n    </tr>\n    <tr>\n      <th>[Dr. Pepper]</th>\n      <td>1575</td>\n      <td>2</td>\n      <td>Canned Soda</td>\n      <td>2.18</td>\n      <td>1.09</td>\n    </tr>\n  </tbody>\n</table>\n<p>1043 rows × 5 columns</p>\n</div>"
     },
     "metadata": {},
     "execution_count": 25
    }
   ],
   "source": [
    "chipo_description.sort_values(\"unity_price\", ascending=False)"
   ]
  },
  {
   "cell_type": "code",
   "execution_count": 26,
   "metadata": {},
   "outputs": [
    {
     "output_type": "execute_result",
     "data": {
      "text/plain": "                                                    order_id  quantity  \\\nchoice_description                                                       \n[Fresh Tomato Salsa, Guacamole]                         1483         1   \n[Fresh Tomato Salsa, [Black Beans, Cheese, Guac...      1296         1   \n[Fresh Tomato Salsa, [Cheese, Guacamole, Lettuce]]      1790         1   \n[Fresh Tomato Salsa, [Fajita Vegetables, Black ...      1768         1   \n[Fresh Tomato Salsa, [Fajita Vegetables, Guacam...      1189         1   \n[Fresh Tomato Salsa, [Fajita Vegetables, Rice, ...      1748         1   \n[Fresh Tomato Salsa, [Fajita Vegetables, Rice, ...      1443         3   \n[Fresh Tomato Salsa, [Fajita Vegetables, Rice, ...      1780         1   \n[Fresh Tomato Salsa, [Fajita Vegetables, Sour C...      1718         2   \n[Fresh Tomato Salsa, [Pinto Beans, Cheese, Guac...       250         1   \n[Fresh Tomato Salsa, [Rice, Black Beans, Cheese...      1386         1   \n[Fresh Tomato Salsa, [Rice, Fajita Vegetables, ...       501         1   \n[Fresh Tomato Salsa, [Rice, Fajita Vegetables, ...       478         1   \n[Fresh Tomato Salsa, [Rice, Pinto Beans, Cheese...      1786         1   \n[Roasted Chili Corn Salsa, [Fajita Vegetables, ...      1526         3   \n[Roasted Chili Corn Salsa, [Fajita Vegetables, ...      1720         1   \n[Roasted Chili Corn Salsa, [Fajita Vegetables, ...      1403         1   \n[Roasted Chili Corn Salsa, [Fajita Vegetables, ...      1499         1   \n[Roasted Chili Corn Salsa, [Rice, Cheese, Lettu...      1106         1   \n[Tomatillo Green Chili Salsa, [Black Beans, Che...      1692         2   \n[Tomatillo Green Chili Salsa, [Rice, Fajita Veg...       970         1   \n[Tomatillo Red Chili Salsa, [Black Beans, Chees...       123         2   \n[Tomatillo Red Chili Salsa, [Black Beans, Chees...      1283         1   \n[Tomatillo Red Chili Salsa, [Fajita Vegetables,...      1223         2   \n[Tomatillo Red Chili Salsa, [Rice, Black Beans,...      1736         1   \n\n                                                              item_name  \\\nchoice_description                                                        \n[Fresh Tomato Salsa, Guacamole]                        Steak Soft Tacos   \n[Fresh Tomato Salsa, [Black Beans, Cheese, Guac...     Steak Salad Bowl   \n[Fresh Tomato Salsa, [Cheese, Guacamole, Lettuce]]     Steak Salad Bowl   \n[Fresh Tomato Salsa, [Fajita Vegetables, Black ...     Steak Salad Bowl   \n[Fresh Tomato Salsa, [Fajita Vegetables, Guacam...     Steak Salad Bowl   \n[Fresh Tomato Salsa, [Fajita Vegetables, Rice, ...    Veggie Salad Bowl   \n[Fresh Tomato Salsa, [Fajita Vegetables, Rice, ...       Veggie Burrito   \n[Fresh Tomato Salsa, [Fajita Vegetables, Rice, ...          Veggie Bowl   \n[Fresh Tomato Salsa, [Fajita Vegetables, Sour C...     Steak Salad Bowl   \n[Fresh Tomato Salsa, [Pinto Beans, Cheese, Guac...     Steak Salad Bowl   \n[Fresh Tomato Salsa, [Rice, Black Beans, Cheese...     Steak Salad Bowl   \n[Fresh Tomato Salsa, [Rice, Fajita Vegetables, ...  Barbacoa Salad Bowl   \n[Fresh Tomato Salsa, [Rice, Fajita Vegetables, ...     Steak Salad Bowl   \n[Fresh Tomato Salsa, [Rice, Pinto Beans, Cheese...     Steak Salad Bowl   \n[Roasted Chili Corn Salsa, [Fajita Vegetables, ...       Veggie Burrito   \n[Roasted Chili Corn Salsa, [Fajita Vegetables, ...          Veggie Bowl   \n[Roasted Chili Corn Salsa, [Fajita Vegetables, ...     Steak Salad Bowl   \n[Roasted Chili Corn Salsa, [Fajita Vegetables, ...     Steak Salad Bowl   \n[Roasted Chili Corn Salsa, [Rice, Cheese, Lettu...     Steak Salad Bowl   \n[Tomatillo Green Chili Salsa, [Black Beans, Che...   Chicken Salad Bowl   \n[Tomatillo Green Chili Salsa, [Rice, Fajita Veg...       Veggie Burrito   \n[Tomatillo Red Chili Salsa, [Black Beans, Chees...       Veggie Burrito   \n[Tomatillo Red Chili Salsa, [Black Beans, Chees...     Carnitas Burrito   \n[Tomatillo Red Chili Salsa, [Fajita Vegetables,...          Veggie Bowl   \n[Tomatillo Red Chili Salsa, [Rice, Black Beans,...          Veggie Bowl   \n\n                                                    item_price  unity_price  \nchoice_description                                                           \n[Fresh Tomato Salsa, Guacamole]                          11.89        11.89  \n[Fresh Tomato Salsa, [Black Beans, Cheese, Guac...       11.89        11.89  \n[Fresh Tomato Salsa, [Cheese, Guacamole, Lettuce]]       11.89        11.89  \n[Fresh Tomato Salsa, [Fajita Vegetables, Black ...       11.89        11.89  \n[Fresh Tomato Salsa, [Fajita Vegetables, Guacam...       11.89        11.89  \n[Fresh Tomato Salsa, [Fajita Vegetables, Rice, ...       11.89        11.89  \n[Fresh Tomato Salsa, [Fajita Vegetables, Rice, ...       33.75        11.89  \n[Fresh Tomato Salsa, [Fajita Vegetables, Rice, ...       11.89        11.89  \n[Fresh Tomato Salsa, [Fajita Vegetables, Sour C...       23.50        11.89  \n[Fresh Tomato Salsa, [Pinto Beans, Cheese, Guac...       11.89        11.89  \n[Fresh Tomato Salsa, [Rice, Black Beans, Cheese...       11.89        11.89  \n[Fresh Tomato Salsa, [Rice, Fajita Vegetables, ...       11.89        11.89  \n[Fresh Tomato Salsa, [Rice, Fajita Vegetables, ...       11.89        11.89  \n[Fresh Tomato Salsa, [Rice, Pinto Beans, Cheese...       11.89        11.89  \n[Roasted Chili Corn Salsa, [Fajita Vegetables, ...       35.25        11.89  \n[Roasted Chili Corn Salsa, [Fajita Vegetables, ...       11.89        11.89  \n[Roasted Chili Corn Salsa, [Fajita Vegetables, ...       11.89        11.89  \n[Roasted Chili Corn Salsa, [Fajita Vegetables, ...       11.89        11.89  \n[Roasted Chili Corn Salsa, [Rice, Cheese, Lettu...       11.89        11.89  \n[Tomatillo Green Chili Salsa, [Black Beans, Che...       22.50        11.89  \n[Tomatillo Green Chili Salsa, [Rice, Fajita Veg...       11.89        11.89  \n[Tomatillo Red Chili Salsa, [Black Beans, Chees...       23.78        11.89  \n[Tomatillo Red Chili Salsa, [Black Beans, Chees...       11.89        11.89  \n[Tomatillo Red Chili Salsa, [Fajita Vegetables,...       23.78        11.89  \n[Tomatillo Red Chili Salsa, [Rice, Black Beans,...       11.89        11.89  ",
      "text/html": "<div>\n<style scoped>\n    .dataframe tbody tr th:only-of-type {\n        vertical-align: middle;\n    }\n\n    .dataframe tbody tr th {\n        vertical-align: top;\n    }\n\n    .dataframe thead th {\n        text-align: right;\n    }\n</style>\n<table border=\"1\" class=\"dataframe\">\n  <thead>\n    <tr style=\"text-align: right;\">\n      <th></th>\n      <th>order_id</th>\n      <th>quantity</th>\n      <th>item_name</th>\n      <th>item_price</th>\n      <th>unity_price</th>\n    </tr>\n    <tr>\n      <th>choice_description</th>\n      <th></th>\n      <th></th>\n      <th></th>\n      <th></th>\n      <th></th>\n    </tr>\n  </thead>\n  <tbody>\n    <tr>\n      <th>[Fresh Tomato Salsa, Guacamole]</th>\n      <td>1483</td>\n      <td>1</td>\n      <td>Steak Soft Tacos</td>\n      <td>11.89</td>\n      <td>11.89</td>\n    </tr>\n    <tr>\n      <th>[Fresh Tomato Salsa, [Black Beans, Cheese, Guacamole, Lettuce]]</th>\n      <td>1296</td>\n      <td>1</td>\n      <td>Steak Salad Bowl</td>\n      <td>11.89</td>\n      <td>11.89</td>\n    </tr>\n    <tr>\n      <th>[Fresh Tomato Salsa, [Cheese, Guacamole, Lettuce]]</th>\n      <td>1790</td>\n      <td>1</td>\n      <td>Steak Salad Bowl</td>\n      <td>11.89</td>\n      <td>11.89</td>\n    </tr>\n    <tr>\n      <th>[Fresh Tomato Salsa, [Fajita Vegetables, Black Beans, Cheese, Sour Cream, Guacamole]]</th>\n      <td>1768</td>\n      <td>1</td>\n      <td>Steak Salad Bowl</td>\n      <td>11.89</td>\n      <td>11.89</td>\n    </tr>\n    <tr>\n      <th>[Fresh Tomato Salsa, [Fajita Vegetables, Guacamole]]</th>\n      <td>1189</td>\n      <td>1</td>\n      <td>Steak Salad Bowl</td>\n      <td>11.89</td>\n      <td>11.89</td>\n    </tr>\n    <tr>\n      <th>[Fresh Tomato Salsa, [Fajita Vegetables, Rice, Black Beans, Cheese, Guacamole, Lettuce]]</th>\n      <td>1748</td>\n      <td>1</td>\n      <td>Veggie Salad Bowl</td>\n      <td>11.89</td>\n      <td>11.89</td>\n    </tr>\n    <tr>\n      <th>[Fresh Tomato Salsa, [Fajita Vegetables, Rice, Black Beans, Cheese, Sour Cream, Guacamole]]</th>\n      <td>1443</td>\n      <td>3</td>\n      <td>Veggie Burrito</td>\n      <td>33.75</td>\n      <td>11.89</td>\n    </tr>\n    <tr>\n      <th>[Fresh Tomato Salsa, [Fajita Vegetables, Rice, Cheese, Sour Cream, Guacamole, Lettuce]]</th>\n      <td>1780</td>\n      <td>1</td>\n      <td>Veggie Bowl</td>\n      <td>11.89</td>\n      <td>11.89</td>\n    </tr>\n    <tr>\n      <th>[Fresh Tomato Salsa, [Fajita Vegetables, Sour Cream, Cheese, Lettuce, Guacamole]]</th>\n      <td>1718</td>\n      <td>2</td>\n      <td>Steak Salad Bowl</td>\n      <td>23.50</td>\n      <td>11.89</td>\n    </tr>\n    <tr>\n      <th>[Fresh Tomato Salsa, [Pinto Beans, Cheese, Guacamole, Lettuce]]</th>\n      <td>250</td>\n      <td>1</td>\n      <td>Steak Salad Bowl</td>\n      <td>11.89</td>\n      <td>11.89</td>\n    </tr>\n    <tr>\n      <th>[Fresh Tomato Salsa, [Rice, Black Beans, Cheese, Guacamole]]</th>\n      <td>1386</td>\n      <td>1</td>\n      <td>Steak Salad Bowl</td>\n      <td>11.89</td>\n      <td>11.89</td>\n    </tr>\n    <tr>\n      <th>[Fresh Tomato Salsa, [Rice, Fajita Vegetables, Pinto Beans, Black Beans, Sour Cream, Cheese, Lettuce, Guacamole]]</th>\n      <td>501</td>\n      <td>1</td>\n      <td>Barbacoa Salad Bowl</td>\n      <td>11.89</td>\n      <td>11.89</td>\n    </tr>\n    <tr>\n      <th>[Fresh Tomato Salsa, [Rice, Fajita Vegetables, Sour Cream, Cheese, Lettuce, Guacamole]]</th>\n      <td>478</td>\n      <td>1</td>\n      <td>Steak Salad Bowl</td>\n      <td>11.89</td>\n      <td>11.89</td>\n    </tr>\n    <tr>\n      <th>[Fresh Tomato Salsa, [Rice, Pinto Beans, Cheese, Sour Cream, Guacamole, Lettuce]]</th>\n      <td>1786</td>\n      <td>1</td>\n      <td>Steak Salad Bowl</td>\n      <td>11.89</td>\n      <td>11.89</td>\n    </tr>\n    <tr>\n      <th>[Roasted Chili Corn Salsa, [Fajita Vegetables, Rice, Black Beans, Cheese, Sour Cream, Guacamole, Lettuce]]</th>\n      <td>1526</td>\n      <td>3</td>\n      <td>Veggie Burrito</td>\n      <td>35.25</td>\n      <td>11.89</td>\n    </tr>\n    <tr>\n      <th>[Roasted Chili Corn Salsa, [Fajita Vegetables, Rice, Black Beans, Guacamole]]</th>\n      <td>1720</td>\n      <td>1</td>\n      <td>Veggie Bowl</td>\n      <td>11.89</td>\n      <td>11.89</td>\n    </tr>\n    <tr>\n      <th>[Roasted Chili Corn Salsa, [Fajita Vegetables, Rice, Cheese, Guacamole, Lettuce]]</th>\n      <td>1403</td>\n      <td>1</td>\n      <td>Steak Salad Bowl</td>\n      <td>11.89</td>\n      <td>11.89</td>\n    </tr>\n    <tr>\n      <th>[Roasted Chili Corn Salsa, [Fajita Vegetables, Rice, Pinto Beans, Cheese, Sour Cream, Guacamole, Lettuce]]</th>\n      <td>1499</td>\n      <td>1</td>\n      <td>Steak Salad Bowl</td>\n      <td>11.89</td>\n      <td>11.89</td>\n    </tr>\n    <tr>\n      <th>[Roasted Chili Corn Salsa, [Rice, Cheese, Lettuce, Guacamole]]</th>\n      <td>1106</td>\n      <td>1</td>\n      <td>Steak Salad Bowl</td>\n      <td>11.89</td>\n      <td>11.89</td>\n    </tr>\n    <tr>\n      <th>[Tomatillo Green Chili Salsa, [Black Beans, Cheese, Guacamole]]</th>\n      <td>1692</td>\n      <td>2</td>\n      <td>Chicken Salad Bowl</td>\n      <td>22.50</td>\n      <td>11.89</td>\n    </tr>\n    <tr>\n      <th>[Tomatillo Green Chili Salsa, [Rice, Fajita Vegetables, Pinto Beans, Sour Cream, Cheese, Lettuce, Guacamole]]</th>\n      <td>970</td>\n      <td>1</td>\n      <td>Veggie Burrito</td>\n      <td>11.89</td>\n      <td>11.89</td>\n    </tr>\n    <tr>\n      <th>[Tomatillo Red Chili Salsa, [Black Beans, Cheese, Guacamole]]</th>\n      <td>123</td>\n      <td>2</td>\n      <td>Veggie Burrito</td>\n      <td>23.78</td>\n      <td>11.89</td>\n    </tr>\n    <tr>\n      <th>[Tomatillo Red Chili Salsa, [Black Beans, Cheese, Sour Cream, Guacamole]]</th>\n      <td>1283</td>\n      <td>1</td>\n      <td>Carnitas Burrito</td>\n      <td>11.89</td>\n      <td>11.89</td>\n    </tr>\n    <tr>\n      <th>[Tomatillo Red Chili Salsa, [Fajita Vegetables, Black Beans, Cheese, Guacamole, Lettuce]]</th>\n      <td>1223</td>\n      <td>2</td>\n      <td>Veggie Bowl</td>\n      <td>23.78</td>\n      <td>11.89</td>\n    </tr>\n    <tr>\n      <th>[Tomatillo Red Chili Salsa, [Rice, Black Beans, Cheese, Sour Cream, Guacamole, Lettuce]]</th>\n      <td>1736</td>\n      <td>1</td>\n      <td>Veggie Bowl</td>\n      <td>11.89</td>\n      <td>11.89</td>\n    </tr>\n  </tbody>\n</table>\n</div>"
     },
     "metadata": {},
     "execution_count": 26
    }
   ],
   "source": [
    "chipo_description[chipo_description.unity_price == max(chipo_description.unity_price)]"
   ]
  },
  {
   "cell_type": "code",
   "execution_count": 27,
   "metadata": {},
   "outputs": [
    {
     "output_type": "execute_result",
     "data": {
      "text/plain": "                       order_id  quantity  item_price  unity_price\nitem_name                                                         \nBarbacoa Bowl              1825         1       11.75        11.75\nBarbacoa Burrito           1825         1       11.75        11.75\nBarbacoa Crispy Tacos      1330         2       18.50        11.75\nBarbacoa Salad Bowl         501         1       11.89        11.89\nBarbacoa Soft Tacos        1703         1       11.75        11.75\nBowl                        279         3       22.20         7.40\nBurrito                     313         1        7.40         7.40\nCanned Soda                1578         2        2.18         1.09\nCanned Soft Drink          1829         4       12.98         6.49\nCarnitas Bowl              1825         1       11.75        11.75\nCarnitas Burrito           1821         1       11.89        11.89\nCarnitas Crispy Tacos      1774         1        9.25         9.25\nCarnitas Salad             1500         1        8.99         8.99\nCarnitas Soft Tacos        1659         1       11.75        11.75\nChicken Bowl               1826         3       32.94        11.75\nChicken Burrito            1825         2       21.96        11.75\nChicken Crispy Tacos       1775         2       17.50        11.25\nChicken Salad              1598         1        8.49         8.49\nChicken Salad Bowl         1834         2       22.50        11.89\nChicken Soft Tacos         1827         2       21.96        11.75\nCrispy Tacos                217         1        7.40         7.40\nIzze                       1468         1        3.39         3.39\nNantucket Nectar           1632         2        6.78         3.39\nSalad                       575         1        7.40         7.40\nSteak Bowl                 1796         3       26.25        11.75\nSteak Burrito              1833         2       23.50        11.75\nSteak Crispy Tacos         1810         2       17.98        11.75\nSteak Salad                1559         2       16.98         8.99\nSteak Salad Bowl           1809         2       23.50        11.89\nSteak Soft Tacos           1808         3       26.25        11.89\nVeggie Bowl                1831         3       26.25        11.89\nVeggie Burrito             1830         4       35.25        11.89\nVeggie Salad               1635         1        8.99         8.99\nVeggie Salad Bowl          1834         4       35.00        11.89\nVeggie Soft Tacos          1829         2       16.98        11.75",
      "text/html": "<div>\n<style scoped>\n    .dataframe tbody tr th:only-of-type {\n        vertical-align: middle;\n    }\n\n    .dataframe tbody tr th {\n        vertical-align: top;\n    }\n\n    .dataframe thead th {\n        text-align: right;\n    }\n</style>\n<table border=\"1\" class=\"dataframe\">\n  <thead>\n    <tr style=\"text-align: right;\">\n      <th></th>\n      <th>order_id</th>\n      <th>quantity</th>\n      <th>item_price</th>\n      <th>unity_price</th>\n    </tr>\n    <tr>\n      <th>item_name</th>\n      <th></th>\n      <th></th>\n      <th></th>\n      <th></th>\n    </tr>\n  </thead>\n  <tbody>\n    <tr>\n      <th>Barbacoa Bowl</th>\n      <td>1825</td>\n      <td>1</td>\n      <td>11.75</td>\n      <td>11.75</td>\n    </tr>\n    <tr>\n      <th>Barbacoa Burrito</th>\n      <td>1825</td>\n      <td>1</td>\n      <td>11.75</td>\n      <td>11.75</td>\n    </tr>\n    <tr>\n      <th>Barbacoa Crispy Tacos</th>\n      <td>1330</td>\n      <td>2</td>\n      <td>18.50</td>\n      <td>11.75</td>\n    </tr>\n    <tr>\n      <th>Barbacoa Salad Bowl</th>\n      <td>501</td>\n      <td>1</td>\n      <td>11.89</td>\n      <td>11.89</td>\n    </tr>\n    <tr>\n      <th>Barbacoa Soft Tacos</th>\n      <td>1703</td>\n      <td>1</td>\n      <td>11.75</td>\n      <td>11.75</td>\n    </tr>\n    <tr>\n      <th>Bowl</th>\n      <td>279</td>\n      <td>3</td>\n      <td>22.20</td>\n      <td>7.40</td>\n    </tr>\n    <tr>\n      <th>Burrito</th>\n      <td>313</td>\n      <td>1</td>\n      <td>7.40</td>\n      <td>7.40</td>\n    </tr>\n    <tr>\n      <th>Canned Soda</th>\n      <td>1578</td>\n      <td>2</td>\n      <td>2.18</td>\n      <td>1.09</td>\n    </tr>\n    <tr>\n      <th>Canned Soft Drink</th>\n      <td>1829</td>\n      <td>4</td>\n      <td>12.98</td>\n      <td>6.49</td>\n    </tr>\n    <tr>\n      <th>Carnitas Bowl</th>\n      <td>1825</td>\n      <td>1</td>\n      <td>11.75</td>\n      <td>11.75</td>\n    </tr>\n    <tr>\n      <th>Carnitas Burrito</th>\n      <td>1821</td>\n      <td>1</td>\n      <td>11.89</td>\n      <td>11.89</td>\n    </tr>\n    <tr>\n      <th>Carnitas Crispy Tacos</th>\n      <td>1774</td>\n      <td>1</td>\n      <td>9.25</td>\n      <td>9.25</td>\n    </tr>\n    <tr>\n      <th>Carnitas Salad</th>\n      <td>1500</td>\n      <td>1</td>\n      <td>8.99</td>\n      <td>8.99</td>\n    </tr>\n    <tr>\n      <th>Carnitas Soft Tacos</th>\n      <td>1659</td>\n      <td>1</td>\n      <td>11.75</td>\n      <td>11.75</td>\n    </tr>\n    <tr>\n      <th>Chicken Bowl</th>\n      <td>1826</td>\n      <td>3</td>\n      <td>32.94</td>\n      <td>11.75</td>\n    </tr>\n    <tr>\n      <th>Chicken Burrito</th>\n      <td>1825</td>\n      <td>2</td>\n      <td>21.96</td>\n      <td>11.75</td>\n    </tr>\n    <tr>\n      <th>Chicken Crispy Tacos</th>\n      <td>1775</td>\n      <td>2</td>\n      <td>17.50</td>\n      <td>11.25</td>\n    </tr>\n    <tr>\n      <th>Chicken Salad</th>\n      <td>1598</td>\n      <td>1</td>\n      <td>8.49</td>\n      <td>8.49</td>\n    </tr>\n    <tr>\n      <th>Chicken Salad Bowl</th>\n      <td>1834</td>\n      <td>2</td>\n      <td>22.50</td>\n      <td>11.89</td>\n    </tr>\n    <tr>\n      <th>Chicken Soft Tacos</th>\n      <td>1827</td>\n      <td>2</td>\n      <td>21.96</td>\n      <td>11.75</td>\n    </tr>\n    <tr>\n      <th>Crispy Tacos</th>\n      <td>217</td>\n      <td>1</td>\n      <td>7.40</td>\n      <td>7.40</td>\n    </tr>\n    <tr>\n      <th>Izze</th>\n      <td>1468</td>\n      <td>1</td>\n      <td>3.39</td>\n      <td>3.39</td>\n    </tr>\n    <tr>\n      <th>Nantucket Nectar</th>\n      <td>1632</td>\n      <td>2</td>\n      <td>6.78</td>\n      <td>3.39</td>\n    </tr>\n    <tr>\n      <th>Salad</th>\n      <td>575</td>\n      <td>1</td>\n      <td>7.40</td>\n      <td>7.40</td>\n    </tr>\n    <tr>\n      <th>Steak Bowl</th>\n      <td>1796</td>\n      <td>3</td>\n      <td>26.25</td>\n      <td>11.75</td>\n    </tr>\n    <tr>\n      <th>Steak Burrito</th>\n      <td>1833</td>\n      <td>2</td>\n      <td>23.50</td>\n      <td>11.75</td>\n    </tr>\n    <tr>\n      <th>Steak Crispy Tacos</th>\n      <td>1810</td>\n      <td>2</td>\n      <td>17.98</td>\n      <td>11.75</td>\n    </tr>\n    <tr>\n      <th>Steak Salad</th>\n      <td>1559</td>\n      <td>2</td>\n      <td>16.98</td>\n      <td>8.99</td>\n    </tr>\n    <tr>\n      <th>Steak Salad Bowl</th>\n      <td>1809</td>\n      <td>2</td>\n      <td>23.50</td>\n      <td>11.89</td>\n    </tr>\n    <tr>\n      <th>Steak Soft Tacos</th>\n      <td>1808</td>\n      <td>3</td>\n      <td>26.25</td>\n      <td>11.89</td>\n    </tr>\n    <tr>\n      <th>Veggie Bowl</th>\n      <td>1831</td>\n      <td>3</td>\n      <td>26.25</td>\n      <td>11.89</td>\n    </tr>\n    <tr>\n      <th>Veggie Burrito</th>\n      <td>1830</td>\n      <td>4</td>\n      <td>35.25</td>\n      <td>11.89</td>\n    </tr>\n    <tr>\n      <th>Veggie Salad</th>\n      <td>1635</td>\n      <td>1</td>\n      <td>8.99</td>\n      <td>8.99</td>\n    </tr>\n    <tr>\n      <th>Veggie Salad Bowl</th>\n      <td>1834</td>\n      <td>4</td>\n      <td>35.00</td>\n      <td>11.89</td>\n    </tr>\n    <tr>\n      <th>Veggie Soft Tacos</th>\n      <td>1829</td>\n      <td>2</td>\n      <td>16.98</td>\n      <td>11.75</td>\n    </tr>\n  </tbody>\n</table>\n</div>"
     },
     "metadata": {},
     "execution_count": 27
    }
   ],
   "source": [
    "chipo_description.groupby(\"item_name\").max()"
   ]
  },
  {
   "cell_type": "code",
   "execution_count": 30,
   "metadata": {},
   "outputs": [
    {
     "output_type": "execute_result",
     "data": {
      "text/plain": "                                                                    order_id  \\\nchoice_description                                 item_name                   \n[Adobo-Marinated and Grilled Chicken, Pinto Bea... Burrito               214   \n[Adobo-Marinated and Grilled Chicken, [Sour Cre... Burrito               279   \n[Adobo-Marinated and Grilled Chicken]              Crispy Tacos          217   \n[Adobo-Marinated and Grilled Steak, [Sour Cream... Bowl                  279   \n[Adobo-Marinated and Grilled Steak]                Crispy Tacos          217   \n...                                                                      ...   \n[[Tomatillo-Red Chili Salsa (Hot), Tomatillo-Gr... Chicken Burrito      1267   \n[[Tomatillo-Red Chili Salsa (Hot), Tomatillo-Gr... Chicken Bowl         1215   \n[[Tomatillo-Red Chili Salsa (Hot), Tomatillo-Gr... Chicken Burrito        51   \n[[Tomatillo-Red Chili Salsa (Hot), Tomatillo-Gr... Barbacoa Bowl          51   \n[[Tomatillo-Red Chili Salsa (Hot), Tomatillo-Gr... Barbacoa Bowl        1299   \n\n                                                                    quantity  \\\nchoice_description                                 item_name                   \n[Adobo-Marinated and Grilled Chicken, Pinto Bea... Burrito                 1   \n[Adobo-Marinated and Grilled Chicken, [Sour Cre... Burrito                 1   \n[Adobo-Marinated and Grilled Chicken]              Crispy Tacos            1   \n[Adobo-Marinated and Grilled Steak, [Sour Cream... Bowl                    1   \n[Adobo-Marinated and Grilled Steak]                Crispy Tacos            1   \n...                                                                      ...   \n[[Tomatillo-Red Chili Salsa (Hot), Tomatillo-Gr... Chicken Burrito         1   \n[[Tomatillo-Red Chili Salsa (Hot), Tomatillo-Gr... Chicken Bowl            1   \n[[Tomatillo-Red Chili Salsa (Hot), Tomatillo-Gr... Chicken Burrito         1   \n[[Tomatillo-Red Chili Salsa (Hot), Tomatillo-Gr... Barbacoa Bowl           1   \n[[Tomatillo-Red Chili Salsa (Hot), Tomatillo-Gr... Barbacoa Bowl           1   \n\n                                                                    item_price  \\\nchoice_description                                 item_name                     \n[Adobo-Marinated and Grilled Chicken, Pinto Bea... Burrito                7.40   \n[Adobo-Marinated and Grilled Chicken, [Sour Cre... Burrito                7.40   \n[Adobo-Marinated and Grilled Chicken]              Crispy Tacos           7.40   \n[Adobo-Marinated and Grilled Steak, [Sour Cream... Bowl                   7.40   \n[Adobo-Marinated and Grilled Steak]                Crispy Tacos           7.40   \n...                                                                        ...   \n[[Tomatillo-Red Chili Salsa (Hot), Tomatillo-Gr... Chicken Burrito        8.49   \n[[Tomatillo-Red Chili Salsa (Hot), Tomatillo-Gr... Chicken Bowl           8.49   \n[[Tomatillo-Red Chili Salsa (Hot), Tomatillo-Gr... Chicken Burrito        8.49   \n[[Tomatillo-Red Chili Salsa (Hot), Tomatillo-Gr... Barbacoa Bowl          8.99   \n[[Tomatillo-Red Chili Salsa (Hot), Tomatillo-Gr... Barbacoa Bowl          8.99   \n\n                                                                    unity_price  \nchoice_description                                 item_name                     \n[Adobo-Marinated and Grilled Chicken, Pinto Bea... Burrito                 7.40  \n[Adobo-Marinated and Grilled Chicken, [Sour Cre... Burrito                 7.40  \n[Adobo-Marinated and Grilled Chicken]              Crispy Tacos            7.40  \n[Adobo-Marinated and Grilled Steak, [Sour Cream... Bowl                    7.40  \n[Adobo-Marinated and Grilled Steak]                Crispy Tacos            7.40  \n...                                                                         ...  \n[[Tomatillo-Red Chili Salsa (Hot), Tomatillo-Gr... Chicken Burrito         8.49  \n[[Tomatillo-Red Chili Salsa (Hot), Tomatillo-Gr... Chicken Bowl            8.49  \n[[Tomatillo-Red Chili Salsa (Hot), Tomatillo-Gr... Chicken Burrito         8.49  \n[[Tomatillo-Red Chili Salsa (Hot), Tomatillo-Gr... Barbacoa Bowl           8.99  \n[[Tomatillo-Red Chili Salsa (Hot), Tomatillo-Gr... Barbacoa Bowl           8.99  \n\n[1859 rows x 4 columns]",
      "text/html": "<div>\n<style scoped>\n    .dataframe tbody tr th:only-of-type {\n        vertical-align: middle;\n    }\n\n    .dataframe tbody tr th {\n        vertical-align: top;\n    }\n\n    .dataframe thead th {\n        text-align: right;\n    }\n</style>\n<table border=\"1\" class=\"dataframe\">\n  <thead>\n    <tr style=\"text-align: right;\">\n      <th></th>\n      <th></th>\n      <th>order_id</th>\n      <th>quantity</th>\n      <th>item_price</th>\n      <th>unity_price</th>\n    </tr>\n    <tr>\n      <th>choice_description</th>\n      <th>item_name</th>\n      <th></th>\n      <th></th>\n      <th></th>\n      <th></th>\n    </tr>\n  </thead>\n  <tbody>\n    <tr>\n      <th>[Adobo-Marinated and Grilled Chicken, Pinto Beans, [Sour Cream, Salsa, Cheese, Cilantro-Lime Rice, Guacamole]]</th>\n      <th>Burrito</th>\n      <td>214</td>\n      <td>1</td>\n      <td>7.40</td>\n      <td>7.40</td>\n    </tr>\n    <tr>\n      <th>[Adobo-Marinated and Grilled Chicken, [Sour Cream, Cheese, Cilantro-Lime Rice]]</th>\n      <th>Burrito</th>\n      <td>279</td>\n      <td>1</td>\n      <td>7.40</td>\n      <td>7.40</td>\n    </tr>\n    <tr>\n      <th>[Adobo-Marinated and Grilled Chicken]</th>\n      <th>Crispy Tacos</th>\n      <td>217</td>\n      <td>1</td>\n      <td>7.40</td>\n      <td>7.40</td>\n    </tr>\n    <tr>\n      <th>[Adobo-Marinated and Grilled Steak, [Sour Cream, Salsa, Cheese, Cilantro-Lime Rice, Guacamole]]</th>\n      <th>Bowl</th>\n      <td>279</td>\n      <td>1</td>\n      <td>7.40</td>\n      <td>7.40</td>\n    </tr>\n    <tr>\n      <th>[Adobo-Marinated and Grilled Steak]</th>\n      <th>Crispy Tacos</th>\n      <td>217</td>\n      <td>1</td>\n      <td>7.40</td>\n      <td>7.40</td>\n    </tr>\n    <tr>\n      <th>...</th>\n      <th>...</th>\n      <td>...</td>\n      <td>...</td>\n      <td>...</td>\n      <td>...</td>\n    </tr>\n    <tr>\n      <th>[[Tomatillo-Red Chili Salsa (Hot), Tomatillo-Green Chili Salsa (Medium)], [Rice, Black Beans, Cheese, Lettuce]]</th>\n      <th>Chicken Burrito</th>\n      <td>1267</td>\n      <td>1</td>\n      <td>8.49</td>\n      <td>8.49</td>\n    </tr>\n    <tr>\n      <th>[[Tomatillo-Red Chili Salsa (Hot), Tomatillo-Green Chili Salsa (Medium)], [Rice, Black Beans, Lettuce]]</th>\n      <th>Chicken Bowl</th>\n      <td>1215</td>\n      <td>1</td>\n      <td>8.49</td>\n      <td>8.49</td>\n    </tr>\n    <tr>\n      <th>[[Tomatillo-Red Chili Salsa (Hot), Tomatillo-Green Chili Salsa (Medium)], [Rice, Pinto Beans, Cheese, Lettuce]]</th>\n      <th>Chicken Burrito</th>\n      <td>51</td>\n      <td>1</td>\n      <td>8.49</td>\n      <td>8.49</td>\n    </tr>\n    <tr>\n      <th>[[Tomatillo-Red Chili Salsa (Hot), Tomatillo-Green Chili Salsa (Medium)], [Rice, Pinto Beans, Fajita Veggies, Cheese, Sour Cream, Lettuce]]</th>\n      <th>Barbacoa Bowl</th>\n      <td>51</td>\n      <td>1</td>\n      <td>8.99</td>\n      <td>8.99</td>\n    </tr>\n    <tr>\n      <th>[[Tomatillo-Red Chili Salsa (Hot), Tomatillo-Green Chili Salsa (Medium)], [Rice, Pinto Beans, Fajita Veggies, Lettuce]]</th>\n      <th>Barbacoa Bowl</th>\n      <td>1299</td>\n      <td>1</td>\n      <td>8.99</td>\n      <td>8.99</td>\n    </tr>\n  </tbody>\n</table>\n<p>1859 rows × 4 columns</p>\n</div>"
     },
     "metadata": {},
     "execution_count": 30
    }
   ],
   "source": [
    "chipo_description = chipo.groupby([\"choice_description\", \"item_name\"]).max()\n",
    "chipo_description"
   ]
  },
  {
   "cell_type": "markdown",
   "metadata": {},
   "source": [
    "* FIN de Intentando por descripción"
   ]
  },
  {
   "cell_type": "code",
   "execution_count": 33,
   "metadata": {},
   "outputs": [],
   "source": [
    "chipo_grouped = chipo.groupby(\"item_name\").max()"
   ]
  },
  {
   "cell_type": "code",
   "execution_count": 35,
   "metadata": {},
   "outputs": [
    {
     "output_type": "execute_result",
     "data": {
      "text/plain": "11.89"
     },
     "metadata": {},
     "execution_count": 35
    }
   ],
   "source": [
    "max(chipo_grouped.unity_price)"
   ]
  },
  {
   "cell_type": "markdown",
   "metadata": {},
   "source": []
  },
  {
   "cell_type": "code",
   "execution_count": 39,
   "metadata": {},
   "outputs": [
    {
     "output_type": "execute_result",
     "data": {
      "text/plain": "                     order_id  quantity  \\\nitem_name                                 \nBarbacoa Salad Bowl      1751         1   \nCarnitas Salad Bowl      1692         1   \nSteak Salad Bowl         1818         2   \n\n                                                    choice_description  \\\nitem_name                                                                \nBarbacoa Salad Bowl  [Tomatillo Red Chili Salsa, [Black Beans, Chee...   \nCarnitas Salad Bowl  [Tomatillo Green Chili Salsa, [Rice, Pinto Bea...   \nSteak Salad Bowl     [Tomatillo Red Chili Salsa, [Rice, Black Beans...   \n\n                     item_price  unity_price  \nitem_name                                     \nBarbacoa Salad Bowl       11.89        11.89  \nCarnitas Salad Bowl       11.89        11.89  \nSteak Salad Bowl          23.78        11.89  ",
      "text/html": "<div>\n<style scoped>\n    .dataframe tbody tr th:only-of-type {\n        vertical-align: middle;\n    }\n\n    .dataframe tbody tr th {\n        vertical-align: top;\n    }\n\n    .dataframe thead th {\n        text-align: right;\n    }\n</style>\n<table border=\"1\" class=\"dataframe\">\n  <thead>\n    <tr style=\"text-align: right;\">\n      <th></th>\n      <th>order_id</th>\n      <th>quantity</th>\n      <th>choice_description</th>\n      <th>item_price</th>\n      <th>unity_price</th>\n    </tr>\n    <tr>\n      <th>item_name</th>\n      <th></th>\n      <th></th>\n      <th></th>\n      <th></th>\n      <th></th>\n    </tr>\n  </thead>\n  <tbody>\n    <tr>\n      <th>Barbacoa Salad Bowl</th>\n      <td>1751</td>\n      <td>1</td>\n      <td>[Tomatillo Red Chili Salsa, [Black Beans, Chee...</td>\n      <td>11.89</td>\n      <td>11.89</td>\n    </tr>\n    <tr>\n      <th>Carnitas Salad Bowl</th>\n      <td>1692</td>\n      <td>1</td>\n      <td>[Tomatillo Green Chili Salsa, [Rice, Pinto Bea...</td>\n      <td>11.89</td>\n      <td>11.89</td>\n    </tr>\n    <tr>\n      <th>Steak Salad Bowl</th>\n      <td>1818</td>\n      <td>2</td>\n      <td>[Tomatillo Red Chili Salsa, [Rice, Black Beans...</td>\n      <td>23.78</td>\n      <td>11.89</td>\n    </tr>\n  </tbody>\n</table>\n</div>"
     },
     "metadata": {},
     "execution_count": 39
    }
   ],
   "source": [
    "k = chipo.groupby(\"item_name\").max()\n",
    "k[k.unity_price == max(k.unity_price)]"
   ]
  },
  {
   "cell_type": "markdown",
   "metadata": {},
   "source": [
    "BONUS\n",
    "\n",
    "### Step 4. How many products cost more than $10.00?"
   ]
  },
  {
   "cell_type": "code",
   "execution_count": 73,
   "metadata": {},
   "outputs": [
    {
     "data": {
      "text/plain": "27"
     },
     "execution_count": 73,
     "metadata": {},
     "output_type": "execute_result"
    }
   ],
   "source": [
    "products = chipo.item_name[(chipo.item_price > 10.0) ]\n",
    "products.nunique()"
   ]
  },
  {
   "cell_type": "code",
   "execution_count": 74,
   "metadata": {},
   "outputs": [
    {
     "data": {
      "text/plain": "31"
     },
     "execution_count": 74,
     "metadata": {},
     "output_type": "execute_result"
    }
   ],
   "source": [
    "products = chipo.item_name[(chipo.item_price > 10.0)]\n",
    "products.nunique()"
   ]
  },
  {
   "cell_type": "code",
   "execution_count": 43,
   "metadata": {},
   "outputs": [
    {
     "output_type": "execute_result",
     "data": {
      "text/plain": "True"
     },
     "metadata": {},
     "execution_count": 43
    }
   ],
   "source": [
    "(chipo.item_price > 10.0).any()"
   ]
  },
  {
   "cell_type": "code",
   "execution_count": 42,
   "metadata": {},
   "outputs": [
    {
     "output_type": "execute_result",
     "data": {
      "text/plain": "False"
     },
     "metadata": {},
     "execution_count": 42
    }
   ],
   "source": [
    "(chipo.item_price > 10.0).all()"
   ]
  },
  {
   "cell_type": "code",
   "execution_count": 50,
   "metadata": {},
   "outputs": [
    {
     "data": {
      "text/plain": "array([False, False, False, ...,  True, False, False])"
     },
     "execution_count": 50,
     "metadata": {},
     "output_type": "execute_result"
    }
   ],
   "source": [
    "c = chipo.item_price > 10.0\n",
    "c.values"
   ]
  },
  {
   "cell_type": "code",
   "execution_count": 48,
   "metadata": {},
   "outputs": [
    {
     "data": {
      "text/plain": "27"
     },
     "execution_count": 48,
     "metadata": {},
     "output_type": "execute_result"
    }
   ],
   "source": [
    "products.nunique()"
   ]
  },
  {
   "cell_type": "markdown",
   "metadata": {},
   "source": [
    "### Step 5. What is the price of each item? \n",
    "###### print a data frame with only two columns item_name and item_price"
   ]
  },
  {
   "cell_type": "code",
   "execution_count": 47,
   "metadata": {},
   "outputs": [
    {
     "output_type": "execute_result",
     "data": {
      "text/plain": "      order_id  quantity                              item_name  \\\n0            1         1           Chips and Fresh Tomato Salsa   \n1            1         1                                   Izze   \n2            1         1                       Nantucket Nectar   \n3            1         1  Chips and Tomatillo-Green Chili Salsa   \n4            2         2                           Chicken Bowl   \n...        ...       ...                                    ...   \n3890      1559         2                  Carnitas Crispy Tacos   \n3973      1592         4                      Canned Soft Drink   \n4152      1660        10                          Bottled Water   \n4354      1738         2                       Steak Soft Tacos   \n4489      1786         4                    Chips and Guacamole   \n\n                                     choice_description  item_price  \\\n0                                                   NaN        2.39   \n1                                          [Clementine]        3.39   \n2                                               [Apple]        3.39   \n3                                                   NaN        2.39   \n4     [Tomatillo-Red Chili Salsa (Hot), [Black Beans...       16.98   \n...                                                 ...         ...   \n3890     [Fresh Tomato Salsa (Mild), [Cheese, Lettuce]]       17.98   \n3973                                             [Coke]        5.00   \n4152                                                NaN       15.00   \n4354            [Fresh Tomato Salsa, [Cheese, Lettuce]]       18.50   \n4489                                                NaN       17.80   \n\n      unity_price  \n0            2.39  \n1            3.39  \n2            3.39  \n3            2.39  \n4            8.49  \n...           ...  \n3890         8.99  \n3973         1.25  \n4152         1.50  \n4354         9.25  \n4489         4.45  \n\n[103 rows x 6 columns]",
      "text/html": "<div>\n<style scoped>\n    .dataframe tbody tr th:only-of-type {\n        vertical-align: middle;\n    }\n\n    .dataframe tbody tr th {\n        vertical-align: top;\n    }\n\n    .dataframe thead th {\n        text-align: right;\n    }\n</style>\n<table border=\"1\" class=\"dataframe\">\n  <thead>\n    <tr style=\"text-align: right;\">\n      <th></th>\n      <th>order_id</th>\n      <th>quantity</th>\n      <th>item_name</th>\n      <th>choice_description</th>\n      <th>item_price</th>\n      <th>unity_price</th>\n    </tr>\n  </thead>\n  <tbody>\n    <tr>\n      <th>0</th>\n      <td>1</td>\n      <td>1</td>\n      <td>Chips and Fresh Tomato Salsa</td>\n      <td>NaN</td>\n      <td>2.39</td>\n      <td>2.39</td>\n    </tr>\n    <tr>\n      <th>1</th>\n      <td>1</td>\n      <td>1</td>\n      <td>Izze</td>\n      <td>[Clementine]</td>\n      <td>3.39</td>\n      <td>3.39</td>\n    </tr>\n    <tr>\n      <th>2</th>\n      <td>1</td>\n      <td>1</td>\n      <td>Nantucket Nectar</td>\n      <td>[Apple]</td>\n      <td>3.39</td>\n      <td>3.39</td>\n    </tr>\n    <tr>\n      <th>3</th>\n      <td>1</td>\n      <td>1</td>\n      <td>Chips and Tomatillo-Green Chili Salsa</td>\n      <td>NaN</td>\n      <td>2.39</td>\n      <td>2.39</td>\n    </tr>\n    <tr>\n      <th>4</th>\n      <td>2</td>\n      <td>2</td>\n      <td>Chicken Bowl</td>\n      <td>[Tomatillo-Red Chili Salsa (Hot), [Black Beans...</td>\n      <td>16.98</td>\n      <td>8.49</td>\n    </tr>\n    <tr>\n      <th>...</th>\n      <td>...</td>\n      <td>...</td>\n      <td>...</td>\n      <td>...</td>\n      <td>...</td>\n      <td>...</td>\n    </tr>\n    <tr>\n      <th>3890</th>\n      <td>1559</td>\n      <td>2</td>\n      <td>Carnitas Crispy Tacos</td>\n      <td>[Fresh Tomato Salsa (Mild), [Cheese, Lettuce]]</td>\n      <td>17.98</td>\n      <td>8.99</td>\n    </tr>\n    <tr>\n      <th>3973</th>\n      <td>1592</td>\n      <td>4</td>\n      <td>Canned Soft Drink</td>\n      <td>[Coke]</td>\n      <td>5.00</td>\n      <td>1.25</td>\n    </tr>\n    <tr>\n      <th>4152</th>\n      <td>1660</td>\n      <td>10</td>\n      <td>Bottled Water</td>\n      <td>NaN</td>\n      <td>15.00</td>\n      <td>1.50</td>\n    </tr>\n    <tr>\n      <th>4354</th>\n      <td>1738</td>\n      <td>2</td>\n      <td>Steak Soft Tacos</td>\n      <td>[Fresh Tomato Salsa, [Cheese, Lettuce]]</td>\n      <td>18.50</td>\n      <td>9.25</td>\n    </tr>\n    <tr>\n      <th>4489</th>\n      <td>1786</td>\n      <td>4</td>\n      <td>Chips and Guacamole</td>\n      <td>NaN</td>\n      <td>17.80</td>\n      <td>4.45</td>\n    </tr>\n  </tbody>\n</table>\n<p>103 rows × 6 columns</p>\n</div>"
     },
     "metadata": {},
     "execution_count": 47
    }
   ],
   "source": [
    "# Delete duplicates:\n",
    "\n",
    "chipo_dropped = chipo.copy()\n",
    "chipo_dropped = chipo_dropped.drop_duplicates([\"item_name\", \"quantity\"])\n",
    "chipo_dropped"
   ]
  },
  {
   "cell_type": "code",
   "execution_count": 49,
   "metadata": {},
   "outputs": [],
   "source": [
    "# Select only the product with quantity == 1\n",
    "\n",
    "chipo_dropped = chipo_dropped[chipo_dropped.quantity == 1]"
   ]
  },
  {
   "cell_type": "code",
   "execution_count": 50,
   "metadata": {},
   "outputs": [
    {
     "output_type": "execute_result",
     "data": {
      "text/plain": "                                  item_name  item_price\n0              Chips and Fresh Tomato Salsa        2.39\n1                                      Izze        3.39\n2                          Nantucket Nectar        3.39\n3     Chips and Tomatillo-Green Chili Salsa        2.39\n5                              Chicken Bowl       10.98\n6                             Side of Chips        1.69\n7                             Steak Burrito       11.75\n8                          Steak Soft Tacos        9.25\n10                      Chips and Guacamole        4.45\n11                     Chicken Crispy Tacos        8.75\n12                       Chicken Soft Tacos        8.75\n16                          Chicken Burrito        8.49\n21                         Barbacoa Burrito        8.99\n27                         Carnitas Burrito        8.99\n28                              Canned Soda        1.09\n33                            Carnitas Bowl        8.99\n34                            Bottled Water        1.09\n38    Chips and Tomatillo Green Chili Salsa        2.95\n39                            Barbacoa Bowl       11.75\n40                                    Chips        2.15\n44                       Chicken Salad Bowl        8.75\n54                               Steak Bowl        8.99\n56                      Barbacoa Soft Tacos        9.25\n57                           Veggie Burrito       11.25\n62                              Veggie Bowl       11.25\n92                       Steak Crispy Tacos        9.25\n111     Chips and Tomatillo Red Chili Salsa        2.95\n168                   Barbacoa Crispy Tacos       11.75\n186                       Veggie Salad Bowl       11.25\n191      Chips and Roasted Chili-Corn Salsa        2.39\n233      Chips and Roasted Chili Corn Salsa        2.95\n237                     Carnitas Soft Tacos        9.25\n250                           Chicken Salad       10.98\n263                       Canned Soft Drink        1.25\n298                       6 Pack Soft Drink        6.49\n300     Chips and Tomatillo-Red Chili Salsa        2.39\n510                                 Burrito        7.40\n520                            Crispy Tacos        7.40\n554                   Carnitas Crispy Tacos        9.25\n606                        Steak Salad Bowl       11.89\n664                             Steak Salad        8.99\n673                                    Bowl        7.40\n674       Chips and Mild Fresh Tomato Salsa        3.00\n738                       Veggie Soft Tacos       11.25\n1132                    Carnitas Salad Bowl       11.89\n1229                    Barbacoa Salad Bowl       11.89\n1414                                  Salad        7.40\n1653                    Veggie Crispy Tacos        8.49\n1694                           Veggie Salad        8.49\n3750                         Carnitas Salad        8.99",
      "text/html": "<div>\n<style scoped>\n    .dataframe tbody tr th:only-of-type {\n        vertical-align: middle;\n    }\n\n    .dataframe tbody tr th {\n        vertical-align: top;\n    }\n\n    .dataframe thead th {\n        text-align: right;\n    }\n</style>\n<table border=\"1\" class=\"dataframe\">\n  <thead>\n    <tr style=\"text-align: right;\">\n      <th></th>\n      <th>item_name</th>\n      <th>item_price</th>\n    </tr>\n  </thead>\n  <tbody>\n    <tr>\n      <th>0</th>\n      <td>Chips and Fresh Tomato Salsa</td>\n      <td>2.39</td>\n    </tr>\n    <tr>\n      <th>1</th>\n      <td>Izze</td>\n      <td>3.39</td>\n    </tr>\n    <tr>\n      <th>2</th>\n      <td>Nantucket Nectar</td>\n      <td>3.39</td>\n    </tr>\n    <tr>\n      <th>3</th>\n      <td>Chips and Tomatillo-Green Chili Salsa</td>\n      <td>2.39</td>\n    </tr>\n    <tr>\n      <th>5</th>\n      <td>Chicken Bowl</td>\n      <td>10.98</td>\n    </tr>\n    <tr>\n      <th>6</th>\n      <td>Side of Chips</td>\n      <td>1.69</td>\n    </tr>\n    <tr>\n      <th>7</th>\n      <td>Steak Burrito</td>\n      <td>11.75</td>\n    </tr>\n    <tr>\n      <th>8</th>\n      <td>Steak Soft Tacos</td>\n      <td>9.25</td>\n    </tr>\n    <tr>\n      <th>10</th>\n      <td>Chips and Guacamole</td>\n      <td>4.45</td>\n    </tr>\n    <tr>\n      <th>11</th>\n      <td>Chicken Crispy Tacos</td>\n      <td>8.75</td>\n    </tr>\n    <tr>\n      <th>12</th>\n      <td>Chicken Soft Tacos</td>\n      <td>8.75</td>\n    </tr>\n    <tr>\n      <th>16</th>\n      <td>Chicken Burrito</td>\n      <td>8.49</td>\n    </tr>\n    <tr>\n      <th>21</th>\n      <td>Barbacoa Burrito</td>\n      <td>8.99</td>\n    </tr>\n    <tr>\n      <th>27</th>\n      <td>Carnitas Burrito</td>\n      <td>8.99</td>\n    </tr>\n    <tr>\n      <th>28</th>\n      <td>Canned Soda</td>\n      <td>1.09</td>\n    </tr>\n    <tr>\n      <th>33</th>\n      <td>Carnitas Bowl</td>\n      <td>8.99</td>\n    </tr>\n    <tr>\n      <th>34</th>\n      <td>Bottled Water</td>\n      <td>1.09</td>\n    </tr>\n    <tr>\n      <th>38</th>\n      <td>Chips and Tomatillo Green Chili Salsa</td>\n      <td>2.95</td>\n    </tr>\n    <tr>\n      <th>39</th>\n      <td>Barbacoa Bowl</td>\n      <td>11.75</td>\n    </tr>\n    <tr>\n      <th>40</th>\n      <td>Chips</td>\n      <td>2.15</td>\n    </tr>\n    <tr>\n      <th>44</th>\n      <td>Chicken Salad Bowl</td>\n      <td>8.75</td>\n    </tr>\n    <tr>\n      <th>54</th>\n      <td>Steak Bowl</td>\n      <td>8.99</td>\n    </tr>\n    <tr>\n      <th>56</th>\n      <td>Barbacoa Soft Tacos</td>\n      <td>9.25</td>\n    </tr>\n    <tr>\n      <th>57</th>\n      <td>Veggie Burrito</td>\n      <td>11.25</td>\n    </tr>\n    <tr>\n      <th>62</th>\n      <td>Veggie Bowl</td>\n      <td>11.25</td>\n    </tr>\n    <tr>\n      <th>92</th>\n      <td>Steak Crispy Tacos</td>\n      <td>9.25</td>\n    </tr>\n    <tr>\n      <th>111</th>\n      <td>Chips and Tomatillo Red Chili Salsa</td>\n      <td>2.95</td>\n    </tr>\n    <tr>\n      <th>168</th>\n      <td>Barbacoa Crispy Tacos</td>\n      <td>11.75</td>\n    </tr>\n    <tr>\n      <th>186</th>\n      <td>Veggie Salad Bowl</td>\n      <td>11.25</td>\n    </tr>\n    <tr>\n      <th>191</th>\n      <td>Chips and Roasted Chili-Corn Salsa</td>\n      <td>2.39</td>\n    </tr>\n    <tr>\n      <th>233</th>\n      <td>Chips and Roasted Chili Corn Salsa</td>\n      <td>2.95</td>\n    </tr>\n    <tr>\n      <th>237</th>\n      <td>Carnitas Soft Tacos</td>\n      <td>9.25</td>\n    </tr>\n    <tr>\n      <th>250</th>\n      <td>Chicken Salad</td>\n      <td>10.98</td>\n    </tr>\n    <tr>\n      <th>263</th>\n      <td>Canned Soft Drink</td>\n      <td>1.25</td>\n    </tr>\n    <tr>\n      <th>298</th>\n      <td>6 Pack Soft Drink</td>\n      <td>6.49</td>\n    </tr>\n    <tr>\n      <th>300</th>\n      <td>Chips and Tomatillo-Red Chili Salsa</td>\n      <td>2.39</td>\n    </tr>\n    <tr>\n      <th>510</th>\n      <td>Burrito</td>\n      <td>7.40</td>\n    </tr>\n    <tr>\n      <th>520</th>\n      <td>Crispy Tacos</td>\n      <td>7.40</td>\n    </tr>\n    <tr>\n      <th>554</th>\n      <td>Carnitas Crispy Tacos</td>\n      <td>9.25</td>\n    </tr>\n    <tr>\n      <th>606</th>\n      <td>Steak Salad Bowl</td>\n      <td>11.89</td>\n    </tr>\n    <tr>\n      <th>664</th>\n      <td>Steak Salad</td>\n      <td>8.99</td>\n    </tr>\n    <tr>\n      <th>673</th>\n      <td>Bowl</td>\n      <td>7.40</td>\n    </tr>\n    <tr>\n      <th>674</th>\n      <td>Chips and Mild Fresh Tomato Salsa</td>\n      <td>3.00</td>\n    </tr>\n    <tr>\n      <th>738</th>\n      <td>Veggie Soft Tacos</td>\n      <td>11.25</td>\n    </tr>\n    <tr>\n      <th>1132</th>\n      <td>Carnitas Salad Bowl</td>\n      <td>11.89</td>\n    </tr>\n    <tr>\n      <th>1229</th>\n      <td>Barbacoa Salad Bowl</td>\n      <td>11.89</td>\n    </tr>\n    <tr>\n      <th>1414</th>\n      <td>Salad</td>\n      <td>7.40</td>\n    </tr>\n    <tr>\n      <th>1653</th>\n      <td>Veggie Crispy Tacos</td>\n      <td>8.49</td>\n    </tr>\n    <tr>\n      <th>1694</th>\n      <td>Veggie Salad</td>\n      <td>8.49</td>\n    </tr>\n    <tr>\n      <th>3750</th>\n      <td>Carnitas Salad</td>\n      <td>8.99</td>\n    </tr>\n  </tbody>\n</table>\n</div>"
     },
     "metadata": {},
     "execution_count": 50
    }
   ],
   "source": [
    "# Select only item_name & item_price\n",
    "\n",
    "chipo_dropped = chipo_dropped.loc[:, [\"item_name\", \"item_price\"]]\n",
    "chipo_dropped"
   ]
  },
  {
   "cell_type": "code",
   "execution_count": 51,
   "metadata": {},
   "outputs": [
    {
     "output_type": "execute_result",
     "data": {
      "text/plain": "                                  item_name  item_price\n0              Chips and Fresh Tomato Salsa        2.39\n1                                      Izze        3.39\n2                          Nantucket Nectar        3.39\n3     Chips and Tomatillo-Green Chili Salsa        2.39\n4                              Chicken Bowl       16.98\n...                                     ...         ...\n4617                          Steak Burrito       11.75\n4618                          Steak Burrito       11.75\n4619                     Chicken Salad Bowl       11.25\n4620                     Chicken Salad Bowl        8.75\n4621                     Chicken Salad Bowl        8.75\n\n[4622 rows x 2 columns]",
      "text/html": "<div>\n<style scoped>\n    .dataframe tbody tr th:only-of-type {\n        vertical-align: middle;\n    }\n\n    .dataframe tbody tr th {\n        vertical-align: top;\n    }\n\n    .dataframe thead th {\n        text-align: right;\n    }\n</style>\n<table border=\"1\" class=\"dataframe\">\n  <thead>\n    <tr style=\"text-align: right;\">\n      <th></th>\n      <th>item_name</th>\n      <th>item_price</th>\n    </tr>\n  </thead>\n  <tbody>\n    <tr>\n      <th>0</th>\n      <td>Chips and Fresh Tomato Salsa</td>\n      <td>2.39</td>\n    </tr>\n    <tr>\n      <th>1</th>\n      <td>Izze</td>\n      <td>3.39</td>\n    </tr>\n    <tr>\n      <th>2</th>\n      <td>Nantucket Nectar</td>\n      <td>3.39</td>\n    </tr>\n    <tr>\n      <th>3</th>\n      <td>Chips and Tomatillo-Green Chili Salsa</td>\n      <td>2.39</td>\n    </tr>\n    <tr>\n      <th>4</th>\n      <td>Chicken Bowl</td>\n      <td>16.98</td>\n    </tr>\n    <tr>\n      <th>...</th>\n      <td>...</td>\n      <td>...</td>\n    </tr>\n    <tr>\n      <th>4617</th>\n      <td>Steak Burrito</td>\n      <td>11.75</td>\n    </tr>\n    <tr>\n      <th>4618</th>\n      <td>Steak Burrito</td>\n      <td>11.75</td>\n    </tr>\n    <tr>\n      <th>4619</th>\n      <td>Chicken Salad Bowl</td>\n      <td>11.25</td>\n    </tr>\n    <tr>\n      <th>4620</th>\n      <td>Chicken Salad Bowl</td>\n      <td>8.75</td>\n    </tr>\n    <tr>\n      <th>4621</th>\n      <td>Chicken Salad Bowl</td>\n      <td>8.75</td>\n    </tr>\n  </tbody>\n</table>\n<p>4622 rows × 2 columns</p>\n</div>"
     },
     "metadata": {},
     "execution_count": 51
    }
   ],
   "source": [
    "chipo[[\"item_name\", \"item_price\"]]"
   ]
  },
  {
   "cell_type": "code",
   "execution_count": 58,
   "metadata": {
    "tags": []
   },
   "outputs": [
    {
     "output_type": "execute_result",
     "data": {
      "text/plain": "                                  item_name  item_price\n606                        Steak Salad Bowl       11.89\n1132                    Carnitas Salad Bowl       11.89\n1229                    Barbacoa Salad Bowl       11.89\n7                             Steak Burrito       11.75\n39                            Barbacoa Bowl       11.75\n168                   Barbacoa Crispy Tacos       11.75\n738                       Veggie Soft Tacos       11.25\n186                       Veggie Salad Bowl       11.25\n62                              Veggie Bowl       11.25\n57                           Veggie Burrito       11.25\n250                           Chicken Salad       10.98\n5                              Chicken Bowl       10.98\n56                      Barbacoa Soft Tacos        9.25\n92                       Steak Crispy Tacos        9.25\n554                   Carnitas Crispy Tacos        9.25\n237                     Carnitas Soft Tacos        9.25\n8                          Steak Soft Tacos        9.25\n664                             Steak Salad        8.99\n54                               Steak Bowl        8.99\n3750                         Carnitas Salad        8.99\n21                         Barbacoa Burrito        8.99\n27                         Carnitas Burrito        8.99\n33                            Carnitas Bowl        8.99\n12                       Chicken Soft Tacos        8.75\n44                       Chicken Salad Bowl        8.75\n11                     Chicken Crispy Tacos        8.75\n1653                    Veggie Crispy Tacos        8.49\n16                          Chicken Burrito        8.49\n1694                           Veggie Salad        8.49\n1414                                  Salad        7.40\n510                                 Burrito        7.40\n520                            Crispy Tacos        7.40\n673                                    Bowl        7.40\n298                       6 Pack Soft Drink        6.49\n10                      Chips and Guacamole        4.45\n1                                      Izze        3.39\n2                          Nantucket Nectar        3.39\n674       Chips and Mild Fresh Tomato Salsa        3.00\n111     Chips and Tomatillo Red Chili Salsa        2.95\n233      Chips and Roasted Chili Corn Salsa        2.95\n38    Chips and Tomatillo Green Chili Salsa        2.95\n3     Chips and Tomatillo-Green Chili Salsa        2.39\n300     Chips and Tomatillo-Red Chili Salsa        2.39\n191      Chips and Roasted Chili-Corn Salsa        2.39\n0              Chips and Fresh Tomato Salsa        2.39\n40                                    Chips        2.15\n6                             Side of Chips        1.69\n263                       Canned Soft Drink        1.25\n28                              Canned Soda        1.09\n34                            Bottled Water        1.09",
      "text/html": "<div>\n<style scoped>\n    .dataframe tbody tr th:only-of-type {\n        vertical-align: middle;\n    }\n\n    .dataframe tbody tr th {\n        vertical-align: top;\n    }\n\n    .dataframe thead th {\n        text-align: right;\n    }\n</style>\n<table border=\"1\" class=\"dataframe\">\n  <thead>\n    <tr style=\"text-align: right;\">\n      <th></th>\n      <th>item_name</th>\n      <th>item_price</th>\n    </tr>\n  </thead>\n  <tbody>\n    <tr>\n      <th>606</th>\n      <td>Steak Salad Bowl</td>\n      <td>11.89</td>\n    </tr>\n    <tr>\n      <th>1132</th>\n      <td>Carnitas Salad Bowl</td>\n      <td>11.89</td>\n    </tr>\n    <tr>\n      <th>1229</th>\n      <td>Barbacoa Salad Bowl</td>\n      <td>11.89</td>\n    </tr>\n    <tr>\n      <th>7</th>\n      <td>Steak Burrito</td>\n      <td>11.75</td>\n    </tr>\n    <tr>\n      <th>39</th>\n      <td>Barbacoa Bowl</td>\n      <td>11.75</td>\n    </tr>\n    <tr>\n      <th>168</th>\n      <td>Barbacoa Crispy Tacos</td>\n      <td>11.75</td>\n    </tr>\n    <tr>\n      <th>738</th>\n      <td>Veggie Soft Tacos</td>\n      <td>11.25</td>\n    </tr>\n    <tr>\n      <th>186</th>\n      <td>Veggie Salad Bowl</td>\n      <td>11.25</td>\n    </tr>\n    <tr>\n      <th>62</th>\n      <td>Veggie Bowl</td>\n      <td>11.25</td>\n    </tr>\n    <tr>\n      <th>57</th>\n      <td>Veggie Burrito</td>\n      <td>11.25</td>\n    </tr>\n    <tr>\n      <th>250</th>\n      <td>Chicken Salad</td>\n      <td>10.98</td>\n    </tr>\n    <tr>\n      <th>5</th>\n      <td>Chicken Bowl</td>\n      <td>10.98</td>\n    </tr>\n    <tr>\n      <th>56</th>\n      <td>Barbacoa Soft Tacos</td>\n      <td>9.25</td>\n    </tr>\n    <tr>\n      <th>92</th>\n      <td>Steak Crispy Tacos</td>\n      <td>9.25</td>\n    </tr>\n    <tr>\n      <th>554</th>\n      <td>Carnitas Crispy Tacos</td>\n      <td>9.25</td>\n    </tr>\n    <tr>\n      <th>237</th>\n      <td>Carnitas Soft Tacos</td>\n      <td>9.25</td>\n    </tr>\n    <tr>\n      <th>8</th>\n      <td>Steak Soft Tacos</td>\n      <td>9.25</td>\n    </tr>\n    <tr>\n      <th>664</th>\n      <td>Steak Salad</td>\n      <td>8.99</td>\n    </tr>\n    <tr>\n      <th>54</th>\n      <td>Steak Bowl</td>\n      <td>8.99</td>\n    </tr>\n    <tr>\n      <th>3750</th>\n      <td>Carnitas Salad</td>\n      <td>8.99</td>\n    </tr>\n    <tr>\n      <th>21</th>\n      <td>Barbacoa Burrito</td>\n      <td>8.99</td>\n    </tr>\n    <tr>\n      <th>27</th>\n      <td>Carnitas Burrito</td>\n      <td>8.99</td>\n    </tr>\n    <tr>\n      <th>33</th>\n      <td>Carnitas Bowl</td>\n      <td>8.99</td>\n    </tr>\n    <tr>\n      <th>12</th>\n      <td>Chicken Soft Tacos</td>\n      <td>8.75</td>\n    </tr>\n    <tr>\n      <th>44</th>\n      <td>Chicken Salad Bowl</td>\n      <td>8.75</td>\n    </tr>\n    <tr>\n      <th>11</th>\n      <td>Chicken Crispy Tacos</td>\n      <td>8.75</td>\n    </tr>\n    <tr>\n      <th>1653</th>\n      <td>Veggie Crispy Tacos</td>\n      <td>8.49</td>\n    </tr>\n    <tr>\n      <th>16</th>\n      <td>Chicken Burrito</td>\n      <td>8.49</td>\n    </tr>\n    <tr>\n      <th>1694</th>\n      <td>Veggie Salad</td>\n      <td>8.49</td>\n    </tr>\n    <tr>\n      <th>1414</th>\n      <td>Salad</td>\n      <td>7.40</td>\n    </tr>\n    <tr>\n      <th>510</th>\n      <td>Burrito</td>\n      <td>7.40</td>\n    </tr>\n    <tr>\n      <th>520</th>\n      <td>Crispy Tacos</td>\n      <td>7.40</td>\n    </tr>\n    <tr>\n      <th>673</th>\n      <td>Bowl</td>\n      <td>7.40</td>\n    </tr>\n    <tr>\n      <th>298</th>\n      <td>6 Pack Soft Drink</td>\n      <td>6.49</td>\n    </tr>\n    <tr>\n      <th>10</th>\n      <td>Chips and Guacamole</td>\n      <td>4.45</td>\n    </tr>\n    <tr>\n      <th>1</th>\n      <td>Izze</td>\n      <td>3.39</td>\n    </tr>\n    <tr>\n      <th>2</th>\n      <td>Nantucket Nectar</td>\n      <td>3.39</td>\n    </tr>\n    <tr>\n      <th>674</th>\n      <td>Chips and Mild Fresh Tomato Salsa</td>\n      <td>3.00</td>\n    </tr>\n    <tr>\n      <th>111</th>\n      <td>Chips and Tomatillo Red Chili Salsa</td>\n      <td>2.95</td>\n    </tr>\n    <tr>\n      <th>233</th>\n      <td>Chips and Roasted Chili Corn Salsa</td>\n      <td>2.95</td>\n    </tr>\n    <tr>\n      <th>38</th>\n      <td>Chips and Tomatillo Green Chili Salsa</td>\n      <td>2.95</td>\n    </tr>\n    <tr>\n      <th>3</th>\n      <td>Chips and Tomatillo-Green Chili Salsa</td>\n      <td>2.39</td>\n    </tr>\n    <tr>\n      <th>300</th>\n      <td>Chips and Tomatillo-Red Chili Salsa</td>\n      <td>2.39</td>\n    </tr>\n    <tr>\n      <th>191</th>\n      <td>Chips and Roasted Chili-Corn Salsa</td>\n      <td>2.39</td>\n    </tr>\n    <tr>\n      <th>0</th>\n      <td>Chips and Fresh Tomato Salsa</td>\n      <td>2.39</td>\n    </tr>\n    <tr>\n      <th>40</th>\n      <td>Chips</td>\n      <td>2.15</td>\n    </tr>\n    <tr>\n      <th>6</th>\n      <td>Side of Chips</td>\n      <td>1.69</td>\n    </tr>\n    <tr>\n      <th>263</th>\n      <td>Canned Soft Drink</td>\n      <td>1.25</td>\n    </tr>\n    <tr>\n      <th>28</th>\n      <td>Canned Soda</td>\n      <td>1.09</td>\n    </tr>\n    <tr>\n      <th>34</th>\n      <td>Bottled Water</td>\n      <td>1.09</td>\n    </tr>\n  </tbody>\n</table>\n</div>"
     },
     "metadata": {},
     "execution_count": 58
    }
   ],
   "source": [
    "# sort values per price\n",
    "\n",
    "chipo_dropped.sort_values(by=\"item_price\", ascending=False, inplace=True)\n",
    "chipo_dropped"
   ]
  },
  {
   "cell_type": "code",
   "execution_count": 77,
   "metadata": {},
   "outputs": [
    {
     "data": {
      "text/html": "<div>\n<style scoped>\n    .dataframe tbody tr th:only-of-type {\n        vertical-align: middle;\n    }\n\n    .dataframe tbody tr th {\n        vertical-align: top;\n    }\n\n    .dataframe thead th {\n        text-align: right;\n    }\n</style>\n<table border=\"1\" class=\"dataframe\">\n  <thead>\n    <tr style=\"text-align: right;\">\n      <th></th>\n      <th>item_name</th>\n      <th>item_price</th>\n    </tr>\n  </thead>\n  <tbody>\n    <tr>\n      <td>0</td>\n      <td>Chips and Fresh Tomato Salsa</td>\n      <td>2.39</td>\n    </tr>\n    <tr>\n      <td>1</td>\n      <td>Izze</td>\n      <td>3.39</td>\n    </tr>\n    <tr>\n      <td>2</td>\n      <td>Nantucket Nectar</td>\n      <td>3.39</td>\n    </tr>\n    <tr>\n      <td>3</td>\n      <td>Chips and Tomatillo-Green Chili Salsa</td>\n      <td>2.39</td>\n    </tr>\n    <tr>\n      <td>4</td>\n      <td>Chicken Bowl</td>\n      <td>16.98</td>\n    </tr>\n    <tr>\n      <td>...</td>\n      <td>...</td>\n      <td>...</td>\n    </tr>\n    <tr>\n      <td>4617</td>\n      <td>Steak Burrito</td>\n      <td>11.75</td>\n    </tr>\n    <tr>\n      <td>4618</td>\n      <td>Steak Burrito</td>\n      <td>11.75</td>\n    </tr>\n    <tr>\n      <td>4619</td>\n      <td>Chicken Salad Bowl</td>\n      <td>11.25</td>\n    </tr>\n    <tr>\n      <td>4620</td>\n      <td>Chicken Salad Bowl</td>\n      <td>8.75</td>\n    </tr>\n    <tr>\n      <td>4621</td>\n      <td>Chicken Salad Bowl</td>\n      <td>8.75</td>\n    </tr>\n  </tbody>\n</table>\n<p>4622 rows × 2 columns</p>\n</div>",
      "text/plain": "                                  item_name  item_price\n0              Chips and Fresh Tomato Salsa        2.39\n1                                      Izze        3.39\n2                          Nantucket Nectar        3.39\n3     Chips and Tomatillo-Green Chili Salsa        2.39\n4                              Chicken Bowl       16.98\n...                                     ...         ...\n4617                          Steak Burrito       11.75\n4618                          Steak Burrito       11.75\n4619                     Chicken Salad Bowl       11.25\n4620                     Chicken Salad Bowl        8.75\n4621                     Chicken Salad Bowl        8.75\n\n[4622 rows x 2 columns]"
     },
     "execution_count": 77,
     "metadata": {},
     "output_type": "execute_result"
    }
   ],
   "source": [
    "chipo[[\"item_name\", \"item_price\"]]"
   ]
  },
  {
   "cell_type": "markdown",
   "metadata": {},
   "source": [
    "### Step 6. Sort by the name of the item"
   ]
  },
  {
   "cell_type": "code",
   "execution_count": 59,
   "metadata": {},
   "outputs": [
    {
     "output_type": "execute_result",
     "data": {
      "text/plain": "      order_id  quantity                              item_name  \\\n0            1         1           Chips and Fresh Tomato Salsa   \n1            1         1                                   Izze   \n2            1         1                       Nantucket Nectar   \n3            1         1  Chips and Tomatillo-Green Chili Salsa   \n4            2         2                           Chicken Bowl   \n...        ...       ...                                    ...   \n4617      1833         1                          Steak Burrito   \n4618      1833         1                          Steak Burrito   \n4619      1834         1                     Chicken Salad Bowl   \n4620      1834         1                     Chicken Salad Bowl   \n4621      1834         1                     Chicken Salad Bowl   \n\n                                     choice_description  item_price  \\\n0                                                   NaN        2.39   \n1                                          [Clementine]        3.39   \n2                                               [Apple]        3.39   \n3                                                   NaN        2.39   \n4     [Tomatillo-Red Chili Salsa (Hot), [Black Beans...       16.98   \n...                                                 ...         ...   \n4617  [Fresh Tomato Salsa, [Rice, Black Beans, Sour ...       11.75   \n4618  [Fresh Tomato Salsa, [Rice, Sour Cream, Cheese...       11.75   \n4619  [Fresh Tomato Salsa, [Fajita Vegetables, Pinto...       11.25   \n4620  [Fresh Tomato Salsa, [Fajita Vegetables, Lettu...        8.75   \n4621  [Fresh Tomato Salsa, [Fajita Vegetables, Pinto...        8.75   \n\n      unity_price  \n0            2.39  \n1            3.39  \n2            3.39  \n3            2.39  \n4            8.49  \n...           ...  \n4617        11.75  \n4618        11.75  \n4619        11.25  \n4620         8.75  \n4621         8.75  \n\n[4622 rows x 6 columns]",
      "text/html": "<div>\n<style scoped>\n    .dataframe tbody tr th:only-of-type {\n        vertical-align: middle;\n    }\n\n    .dataframe tbody tr th {\n        vertical-align: top;\n    }\n\n    .dataframe thead th {\n        text-align: right;\n    }\n</style>\n<table border=\"1\" class=\"dataframe\">\n  <thead>\n    <tr style=\"text-align: right;\">\n      <th></th>\n      <th>order_id</th>\n      <th>quantity</th>\n      <th>item_name</th>\n      <th>choice_description</th>\n      <th>item_price</th>\n      <th>unity_price</th>\n    </tr>\n  </thead>\n  <tbody>\n    <tr>\n      <th>0</th>\n      <td>1</td>\n      <td>1</td>\n      <td>Chips and Fresh Tomato Salsa</td>\n      <td>NaN</td>\n      <td>2.39</td>\n      <td>2.39</td>\n    </tr>\n    <tr>\n      <th>1</th>\n      <td>1</td>\n      <td>1</td>\n      <td>Izze</td>\n      <td>[Clementine]</td>\n      <td>3.39</td>\n      <td>3.39</td>\n    </tr>\n    <tr>\n      <th>2</th>\n      <td>1</td>\n      <td>1</td>\n      <td>Nantucket Nectar</td>\n      <td>[Apple]</td>\n      <td>3.39</td>\n      <td>3.39</td>\n    </tr>\n    <tr>\n      <th>3</th>\n      <td>1</td>\n      <td>1</td>\n      <td>Chips and Tomatillo-Green Chili Salsa</td>\n      <td>NaN</td>\n      <td>2.39</td>\n      <td>2.39</td>\n    </tr>\n    <tr>\n      <th>4</th>\n      <td>2</td>\n      <td>2</td>\n      <td>Chicken Bowl</td>\n      <td>[Tomatillo-Red Chili Salsa (Hot), [Black Beans...</td>\n      <td>16.98</td>\n      <td>8.49</td>\n    </tr>\n    <tr>\n      <th>...</th>\n      <td>...</td>\n      <td>...</td>\n      <td>...</td>\n      <td>...</td>\n      <td>...</td>\n      <td>...</td>\n    </tr>\n    <tr>\n      <th>4617</th>\n      <td>1833</td>\n      <td>1</td>\n      <td>Steak Burrito</td>\n      <td>[Fresh Tomato Salsa, [Rice, Black Beans, Sour ...</td>\n      <td>11.75</td>\n      <td>11.75</td>\n    </tr>\n    <tr>\n      <th>4618</th>\n      <td>1833</td>\n      <td>1</td>\n      <td>Steak Burrito</td>\n      <td>[Fresh Tomato Salsa, [Rice, Sour Cream, Cheese...</td>\n      <td>11.75</td>\n      <td>11.75</td>\n    </tr>\n    <tr>\n      <th>4619</th>\n      <td>1834</td>\n      <td>1</td>\n      <td>Chicken Salad Bowl</td>\n      <td>[Fresh Tomato Salsa, [Fajita Vegetables, Pinto...</td>\n      <td>11.25</td>\n      <td>11.25</td>\n    </tr>\n    <tr>\n      <th>4620</th>\n      <td>1834</td>\n      <td>1</td>\n      <td>Chicken Salad Bowl</td>\n      <td>[Fresh Tomato Salsa, [Fajita Vegetables, Lettu...</td>\n      <td>8.75</td>\n      <td>8.75</td>\n    </tr>\n    <tr>\n      <th>4621</th>\n      <td>1834</td>\n      <td>1</td>\n      <td>Chicken Salad Bowl</td>\n      <td>[Fresh Tomato Salsa, [Fajita Vegetables, Pinto...</td>\n      <td>8.75</td>\n      <td>8.75</td>\n    </tr>\n  </tbody>\n</table>\n<p>4622 rows × 6 columns</p>\n</div>"
     },
     "metadata": {},
     "execution_count": 59
    }
   ],
   "source": [
    "chipo"
   ]
  },
  {
   "cell_type": "code",
   "execution_count": 60,
   "metadata": {},
   "outputs": [
    {
     "output_type": "execute_result",
     "data": {
      "text/plain": "      order_id  quantity          item_name  \\\n3389      1360         2  6 Pack Soft Drink   \n341        148         1  6 Pack Soft Drink   \n1849       749         1  6 Pack Soft Drink   \n1860       754         1  6 Pack Soft Drink   \n2713      1076         1  6 Pack Soft Drink   \n...        ...       ...                ...   \n2384       948         1  Veggie Soft Tacos   \n781        322         1  Veggie Soft Tacos   \n2851      1132         1  Veggie Soft Tacos   \n1699       688         1  Veggie Soft Tacos   \n1395       567         1  Veggie Soft Tacos   \n\n                                     choice_description  item_price  \\\n3389                                        [Diet Coke]       12.98   \n341                                         [Diet Coke]        6.49   \n1849                                             [Coke]        6.49   \n1860                                        [Diet Coke]        6.49   \n2713                                             [Coke]        6.49   \n...                                                 ...         ...   \n2384  [Roasted Chili Corn Salsa, [Fajita Vegetables,...        8.75   \n781   [Fresh Tomato Salsa, [Black Beans, Cheese, Sou...        8.75   \n2851  [Roasted Chili Corn Salsa (Medium), [Black Bea...        8.49   \n1699  [Fresh Tomato Salsa, [Fajita Vegetables, Rice,...       11.25   \n1395  [Fresh Tomato Salsa (Mild), [Pinto Beans, Rice...        8.49   \n\n      unity_price  \n3389         6.49  \n341          6.49  \n1849         6.49  \n1860         6.49  \n2713         6.49  \n...           ...  \n2384         8.75  \n781          8.75  \n2851         8.49  \n1699        11.25  \n1395         8.49  \n\n[4622 rows x 6 columns]",
      "text/html": "<div>\n<style scoped>\n    .dataframe tbody tr th:only-of-type {\n        vertical-align: middle;\n    }\n\n    .dataframe tbody tr th {\n        vertical-align: top;\n    }\n\n    .dataframe thead th {\n        text-align: right;\n    }\n</style>\n<table border=\"1\" class=\"dataframe\">\n  <thead>\n    <tr style=\"text-align: right;\">\n      <th></th>\n      <th>order_id</th>\n      <th>quantity</th>\n      <th>item_name</th>\n      <th>choice_description</th>\n      <th>item_price</th>\n      <th>unity_price</th>\n    </tr>\n  </thead>\n  <tbody>\n    <tr>\n      <th>3389</th>\n      <td>1360</td>\n      <td>2</td>\n      <td>6 Pack Soft Drink</td>\n      <td>[Diet Coke]</td>\n      <td>12.98</td>\n      <td>6.49</td>\n    </tr>\n    <tr>\n      <th>341</th>\n      <td>148</td>\n      <td>1</td>\n      <td>6 Pack Soft Drink</td>\n      <td>[Diet Coke]</td>\n      <td>6.49</td>\n      <td>6.49</td>\n    </tr>\n    <tr>\n      <th>1849</th>\n      <td>749</td>\n      <td>1</td>\n      <td>6 Pack Soft Drink</td>\n      <td>[Coke]</td>\n      <td>6.49</td>\n      <td>6.49</td>\n    </tr>\n    <tr>\n      <th>1860</th>\n      <td>754</td>\n      <td>1</td>\n      <td>6 Pack Soft Drink</td>\n      <td>[Diet Coke]</td>\n      <td>6.49</td>\n      <td>6.49</td>\n    </tr>\n    <tr>\n      <th>2713</th>\n      <td>1076</td>\n      <td>1</td>\n      <td>6 Pack Soft Drink</td>\n      <td>[Coke]</td>\n      <td>6.49</td>\n      <td>6.49</td>\n    </tr>\n    <tr>\n      <th>...</th>\n      <td>...</td>\n      <td>...</td>\n      <td>...</td>\n      <td>...</td>\n      <td>...</td>\n      <td>...</td>\n    </tr>\n    <tr>\n      <th>2384</th>\n      <td>948</td>\n      <td>1</td>\n      <td>Veggie Soft Tacos</td>\n      <td>[Roasted Chili Corn Salsa, [Fajita Vegetables,...</td>\n      <td>8.75</td>\n      <td>8.75</td>\n    </tr>\n    <tr>\n      <th>781</th>\n      <td>322</td>\n      <td>1</td>\n      <td>Veggie Soft Tacos</td>\n      <td>[Fresh Tomato Salsa, [Black Beans, Cheese, Sou...</td>\n      <td>8.75</td>\n      <td>8.75</td>\n    </tr>\n    <tr>\n      <th>2851</th>\n      <td>1132</td>\n      <td>1</td>\n      <td>Veggie Soft Tacos</td>\n      <td>[Roasted Chili Corn Salsa (Medium), [Black Bea...</td>\n      <td>8.49</td>\n      <td>8.49</td>\n    </tr>\n    <tr>\n      <th>1699</th>\n      <td>688</td>\n      <td>1</td>\n      <td>Veggie Soft Tacos</td>\n      <td>[Fresh Tomato Salsa, [Fajita Vegetables, Rice,...</td>\n      <td>11.25</td>\n      <td>11.25</td>\n    </tr>\n    <tr>\n      <th>1395</th>\n      <td>567</td>\n      <td>1</td>\n      <td>Veggie Soft Tacos</td>\n      <td>[Fresh Tomato Salsa (Mild), [Pinto Beans, Rice...</td>\n      <td>8.49</td>\n      <td>8.49</td>\n    </tr>\n  </tbody>\n</table>\n<p>4622 rows × 6 columns</p>\n</div>"
     },
     "metadata": {},
     "execution_count": 60
    }
   ],
   "source": [
    "chipo.item_name.sort_values()\n",
    "\n",
    "# OR\n",
    "\n",
    "chipo.sort_values(by=\"item_name\")"
   ]
  },
  {
   "cell_type": "markdown",
   "metadata": {},
   "source": [
    "### Step 7. What was the quantity of the most expensive item ordered?"
   ]
  },
  {
   "cell_type": "markdown",
   "metadata": {},
   "source": [
    "V1"
   ]
  },
  {
   "cell_type": "code",
   "execution_count": 63,
   "metadata": {},
   "outputs": [
    {
     "output_type": "execute_result",
     "data": {
      "text/plain": "      order_id  quantity                     item_name choice_description  \\\n3598      1443        15  Chips and Fresh Tomato Salsa                NaN   \n\n      item_price  unity_price  \n3598       44.25         2.95  ",
      "text/html": "<div>\n<style scoped>\n    .dataframe tbody tr th:only-of-type {\n        vertical-align: middle;\n    }\n\n    .dataframe tbody tr th {\n        vertical-align: top;\n    }\n\n    .dataframe thead th {\n        text-align: right;\n    }\n</style>\n<table border=\"1\" class=\"dataframe\">\n  <thead>\n    <tr style=\"text-align: right;\">\n      <th></th>\n      <th>order_id</th>\n      <th>quantity</th>\n      <th>item_name</th>\n      <th>choice_description</th>\n      <th>item_price</th>\n      <th>unity_price</th>\n    </tr>\n  </thead>\n  <tbody>\n    <tr>\n      <th>3598</th>\n      <td>1443</td>\n      <td>15</td>\n      <td>Chips and Fresh Tomato Salsa</td>\n      <td>NaN</td>\n      <td>44.25</td>\n      <td>2.95</td>\n    </tr>\n  </tbody>\n</table>\n</div>"
     },
     "metadata": {},
     "execution_count": 63
    }
   ],
   "source": [
    "chipo[chipo.quantity == chipo.quantity.max()]"
   ]
  },
  {
   "cell_type": "code",
   "execution_count": 73,
   "metadata": {},
   "outputs": [
    {
     "output_type": "execute_result",
     "data": {
      "text/plain": "                     order_id  quantity  choice_description  item_price  \\\nitem_name                                                                 \nBarbacoa Salad Bowl         5         5                   5           5   \nCarnitas Salad Bowl         4         4                   4           4   \nSteak Salad Bowl           19        19                  19          19   \n\n                     unity_price  \nitem_name                         \nBarbacoa Salad Bowl            5  \nCarnitas Salad Bowl            4  \nSteak Salad Bowl              19  ",
      "text/html": "<div>\n<style scoped>\n    .dataframe tbody tr th:only-of-type {\n        vertical-align: middle;\n    }\n\n    .dataframe tbody tr th {\n        vertical-align: top;\n    }\n\n    .dataframe thead th {\n        text-align: right;\n    }\n</style>\n<table border=\"1\" class=\"dataframe\">\n  <thead>\n    <tr style=\"text-align: right;\">\n      <th></th>\n      <th>order_id</th>\n      <th>quantity</th>\n      <th>choice_description</th>\n      <th>item_price</th>\n      <th>unity_price</th>\n    </tr>\n    <tr>\n      <th>item_name</th>\n      <th></th>\n      <th></th>\n      <th></th>\n      <th></th>\n      <th></th>\n    </tr>\n  </thead>\n  <tbody>\n    <tr>\n      <th>Barbacoa Salad Bowl</th>\n      <td>5</td>\n      <td>5</td>\n      <td>5</td>\n      <td>5</td>\n      <td>5</td>\n    </tr>\n    <tr>\n      <th>Carnitas Salad Bowl</th>\n      <td>4</td>\n      <td>4</td>\n      <td>4</td>\n      <td>4</td>\n      <td>4</td>\n    </tr>\n    <tr>\n      <th>Steak Salad Bowl</th>\n      <td>19</td>\n      <td>19</td>\n      <td>19</td>\n      <td>19</td>\n      <td>19</td>\n    </tr>\n  </tbody>\n</table>\n</div>"
     },
     "metadata": {},
     "execution_count": 73
    }
   ],
   "source": [
    "k = chipo.groupby(\"item_name\").max()\n",
    "l = chipo[chipo.unity_price == max(chipo.unity_price)]\n",
    "l.groupby(\"item_name\").count()"
   ]
  },
  {
   "cell_type": "code",
   "execution_count": 78,
   "metadata": {},
   "outputs": [
    {
     "output_type": "execute_result",
     "data": {
      "text/plain": "Steak Salad Bowl       19\nBarbacoa Salad Bowl     5\nCarnitas Salad Bowl     4\nName: item_name, dtype: int64"
     },
     "metadata": {},
     "execution_count": 78
    }
   ],
   "source": [
    "l.item_name.value_counts()"
   ]
  },
  {
   "cell_type": "markdown",
   "metadata": {},
   "source": [
    "V2"
   ]
  },
  {
   "cell_type": "code",
   "execution_count": 67,
   "metadata": {},
   "outputs": [
    {
     "output_type": "execute_result",
     "data": {
      "text/plain": "                                item_name  order_id  quantity  \\\n0                       6 Pack Soft Drink      1803         2   \n1                           Barbacoa Bowl      1825         1   \n2                        Barbacoa Burrito      1827         1   \n3                   Barbacoa Crispy Tacos      1330         2   \n4                     Barbacoa Salad Bowl      1751         1   \n5                     Barbacoa Soft Tacos      1703         1   \n6                           Bottled Water      1831        10   \n7                                    Bowl       279         3   \n8                                 Burrito       313         1   \n9                             Canned Soda      1621         4   \n10                      Canned Soft Drink      1829         4   \n11                          Carnitas Bowl      1831         3   \n12                       Carnitas Burrito      1821         2   \n13                  Carnitas Crispy Tacos      1774         2   \n14                         Carnitas Salad      1500         1   \n15                    Carnitas Salad Bowl      1692         1   \n16                    Carnitas Soft Tacos      1811         1   \n17                           Chicken Bowl      1828         3   \n18                        Chicken Burrito      1817         4   \n19                   Chicken Crispy Tacos      1775         2   \n20                          Chicken Salad      1598         1   \n21                     Chicken Salad Bowl      1834         2   \n22                     Chicken Soft Tacos      1832         2   \n23                                  Chips      1831         3   \n24           Chips and Fresh Tomato Salsa      1790        15   \n25                    Chips and Guacamole      1832         4   \n26      Chips and Mild Fresh Tomato Salsa       279         1   \n27     Chips and Roasted Chili Corn Salsa      1513         2   \n28     Chips and Roasted Chili-Corn Salsa      1565         1   \n29  Chips and Tomatillo Green Chili Salsa      1787         2   \n30    Chips and Tomatillo Red Chili Salsa      1779         2   \n31  Chips and Tomatillo-Green Chili Salsa      1604         2   \n32    Chips and Tomatillo-Red Chili Salsa      1637         3   \n33                           Crispy Tacos       217         1   \n34                                   Izze      1468         1   \n35                       Nantucket Nectar      1632         2   \n36                                  Salad       575         1   \n37                          Side of Chips      1629         8   \n38                             Steak Bowl      1796         3   \n39                          Steak Burrito      1833         3   \n40                     Steak Crispy Tacos      1810         2   \n41                            Steak Salad      1406         1   \n42                       Steak Salad Bowl      1818         2   \n43                       Steak Soft Tacos      1808         2   \n44                            Veggie Bowl      1780         2   \n45                         Veggie Burrito      1830         3   \n46                    Veggie Crispy Tacos       668         1   \n47                           Veggie Salad      1635         1   \n48                      Veggie Salad Bowl      1818         1   \n49                      Veggie Soft Tacos      1559         2   \n\n                                   choice_description  item_price  unity_price  \n0                                            [Sprite]       12.98         6.49  \n1   [[Tomatillo-Red Chili Salsa (Hot), Tomatillo-G...       11.75        11.75  \n2   [[Tomatillo-Red Chili Salsa (Hot), Fresh Tomat...       11.75        11.75  \n3   [[Roasted Chili Corn Salsa (Medium), Tomatillo...       18.50        11.75  \n4   [Tomatillo Red Chili Salsa, [Black Beans, Chee...       11.89        11.89  \n5   [[Fresh Tomato Salsa (Mild), Roasted Chili Cor...       11.75        11.75  \n6                                                 NaN       15.00         1.50  \n7   [Braised Carnitas, Pinto Beans, [Sour Cream, C...       22.20         7.40  \n8   [White Rice, Adobo-Marinated and Grilled Steak...        7.40         7.40  \n9                                            [Sprite]        4.36         1.09  \n10                                           [Sprite]        5.00         1.25  \n11  [[Tomatillo-Red Chili Salsa (Hot), Fresh Tomat...       35.25        11.75  \n12  [[Tomatillo-Green Chili Salsa (Medium), Roaste...       18.50        11.75  \n13  [Tomatillo-Red Chili Salsa (Hot), [Black Beans...       17.98        11.75  \n14  [[Fresh Tomato Salsa (Mild), Roasted Chili Cor...        8.99         8.99  \n15  [Tomatillo Green Chili Salsa, [Rice, Pinto Bea...       11.89        11.89  \n16  [Tomatillo-Red Chili Salsa (Hot), [Cheese, Sou...       11.75        11.75  \n17  [[Tomatillo-Red Chili Salsa (Hot), Tomatillo-G...       32.94        11.25  \n18  [[Tomatillo-Red Chili Salsa (Hot), Tomatillo-G...       35.00        11.25  \n19  [Tomatillo-Green Chili Salsa (Medium), [Black ...       17.50        11.25  \n20  [[Tomatillo-Green Chili Salsa (Medium), Roaste...       10.98        10.98  \n21  [Tomatillo Red Chili Salsa, [Rice, Fajita Vege...       22.50        11.25  \n22  [[Tomatillo-Red Chili Salsa (Hot), Roasted Chi...       21.96        11.25  \n23                                                NaN        6.45         2.15  \n24                                                NaN       44.25         2.95  \n25                                                NaN       17.80         4.45  \n26                                                NaN        3.00         3.00  \n27                                                NaN        5.90         2.95  \n28                                                NaN        2.39         2.39  \n29                                                NaN        5.90         2.95  \n30                                                NaN        5.90         2.95  \n31                                                NaN        4.78         2.39  \n32                                                NaN        7.17         2.39  \n33                [Adobo-Marinated and Grilled Steak]        7.40         7.40  \n34                                       [Grapefruit]        3.39         3.39  \n35                               [Pomegranate Cherry]        6.78         3.39  \n36  [White Rice, Adobo-Marinated and Grilled Chick...        7.40         7.40  \n37                                                NaN       13.52         1.69  \n38  [[Tomatillo-Red Chili Salsa (Hot), Fresh Tomat...       26.07        11.75  \n39  [[Tomatillo-Green Chili Salsa (Medium), Tomati...       27.75        11.75  \n40  [[Roasted Chili Corn Salsa (Medium), Tomatillo...       17.98        11.75  \n41                        [[Lettuce, Fajita Veggies]]        8.99         8.99  \n42  [Tomatillo Red Chili Salsa, [Rice, Black Beans...       23.78        11.89  \n43  [[Tomatillo-Green Chili Salsa (Medium), Roaste...       18.50        11.75  \n44  [[Tomatillo-Green Chili Salsa (Medium), Roaste...       16.98        11.25  \n45  [[Tomatillo-Green Chili Salsa (Medium), Roaste...       33.75        11.25  \n46  [Fresh Tomato Salsa (Mild), [Pinto Beans, Rice...        8.49         8.49  \n47  [[Tomatillo-Green Chili Salsa (Medium), Roaste...        8.49         8.49  \n48  [Tomatillo Red Chili Salsa, [Fajita Vegetables...       11.25        11.25  \n49  [Tomatillo Red Chili Salsa, [Fajita Vegetables...       16.98        11.25  ",
      "text/html": "<div>\n<style scoped>\n    .dataframe tbody tr th:only-of-type {\n        vertical-align: middle;\n    }\n\n    .dataframe tbody tr th {\n        vertical-align: top;\n    }\n\n    .dataframe thead th {\n        text-align: right;\n    }\n</style>\n<table border=\"1\" class=\"dataframe\">\n  <thead>\n    <tr style=\"text-align: right;\">\n      <th></th>\n      <th>item_name</th>\n      <th>order_id</th>\n      <th>quantity</th>\n      <th>choice_description</th>\n      <th>item_price</th>\n      <th>unity_price</th>\n    </tr>\n  </thead>\n  <tbody>\n    <tr>\n      <th>0</th>\n      <td>6 Pack Soft Drink</td>\n      <td>1803</td>\n      <td>2</td>\n      <td>[Sprite]</td>\n      <td>12.98</td>\n      <td>6.49</td>\n    </tr>\n    <tr>\n      <th>1</th>\n      <td>Barbacoa Bowl</td>\n      <td>1825</td>\n      <td>1</td>\n      <td>[[Tomatillo-Red Chili Salsa (Hot), Tomatillo-G...</td>\n      <td>11.75</td>\n      <td>11.75</td>\n    </tr>\n    <tr>\n      <th>2</th>\n      <td>Barbacoa Burrito</td>\n      <td>1827</td>\n      <td>1</td>\n      <td>[[Tomatillo-Red Chili Salsa (Hot), Fresh Tomat...</td>\n      <td>11.75</td>\n      <td>11.75</td>\n    </tr>\n    <tr>\n      <th>3</th>\n      <td>Barbacoa Crispy Tacos</td>\n      <td>1330</td>\n      <td>2</td>\n      <td>[[Roasted Chili Corn Salsa (Medium), Tomatillo...</td>\n      <td>18.50</td>\n      <td>11.75</td>\n    </tr>\n    <tr>\n      <th>4</th>\n      <td>Barbacoa Salad Bowl</td>\n      <td>1751</td>\n      <td>1</td>\n      <td>[Tomatillo Red Chili Salsa, [Black Beans, Chee...</td>\n      <td>11.89</td>\n      <td>11.89</td>\n    </tr>\n    <tr>\n      <th>5</th>\n      <td>Barbacoa Soft Tacos</td>\n      <td>1703</td>\n      <td>1</td>\n      <td>[[Fresh Tomato Salsa (Mild), Roasted Chili Cor...</td>\n      <td>11.75</td>\n      <td>11.75</td>\n    </tr>\n    <tr>\n      <th>6</th>\n      <td>Bottled Water</td>\n      <td>1831</td>\n      <td>10</td>\n      <td>NaN</td>\n      <td>15.00</td>\n      <td>1.50</td>\n    </tr>\n    <tr>\n      <th>7</th>\n      <td>Bowl</td>\n      <td>279</td>\n      <td>3</td>\n      <td>[Braised Carnitas, Pinto Beans, [Sour Cream, C...</td>\n      <td>22.20</td>\n      <td>7.40</td>\n    </tr>\n    <tr>\n      <th>8</th>\n      <td>Burrito</td>\n      <td>313</td>\n      <td>1</td>\n      <td>[White Rice, Adobo-Marinated and Grilled Steak...</td>\n      <td>7.40</td>\n      <td>7.40</td>\n    </tr>\n    <tr>\n      <th>9</th>\n      <td>Canned Soda</td>\n      <td>1621</td>\n      <td>4</td>\n      <td>[Sprite]</td>\n      <td>4.36</td>\n      <td>1.09</td>\n    </tr>\n    <tr>\n      <th>10</th>\n      <td>Canned Soft Drink</td>\n      <td>1829</td>\n      <td>4</td>\n      <td>[Sprite]</td>\n      <td>5.00</td>\n      <td>1.25</td>\n    </tr>\n    <tr>\n      <th>11</th>\n      <td>Carnitas Bowl</td>\n      <td>1831</td>\n      <td>3</td>\n      <td>[[Tomatillo-Red Chili Salsa (Hot), Fresh Tomat...</td>\n      <td>35.25</td>\n      <td>11.75</td>\n    </tr>\n    <tr>\n      <th>12</th>\n      <td>Carnitas Burrito</td>\n      <td>1821</td>\n      <td>2</td>\n      <td>[[Tomatillo-Green Chili Salsa (Medium), Roaste...</td>\n      <td>18.50</td>\n      <td>11.75</td>\n    </tr>\n    <tr>\n      <th>13</th>\n      <td>Carnitas Crispy Tacos</td>\n      <td>1774</td>\n      <td>2</td>\n      <td>[Tomatillo-Red Chili Salsa (Hot), [Black Beans...</td>\n      <td>17.98</td>\n      <td>11.75</td>\n    </tr>\n    <tr>\n      <th>14</th>\n      <td>Carnitas Salad</td>\n      <td>1500</td>\n      <td>1</td>\n      <td>[[Fresh Tomato Salsa (Mild), Roasted Chili Cor...</td>\n      <td>8.99</td>\n      <td>8.99</td>\n    </tr>\n    <tr>\n      <th>15</th>\n      <td>Carnitas Salad Bowl</td>\n      <td>1692</td>\n      <td>1</td>\n      <td>[Tomatillo Green Chili Salsa, [Rice, Pinto Bea...</td>\n      <td>11.89</td>\n      <td>11.89</td>\n    </tr>\n    <tr>\n      <th>16</th>\n      <td>Carnitas Soft Tacos</td>\n      <td>1811</td>\n      <td>1</td>\n      <td>[Tomatillo-Red Chili Salsa (Hot), [Cheese, Sou...</td>\n      <td>11.75</td>\n      <td>11.75</td>\n    </tr>\n    <tr>\n      <th>17</th>\n      <td>Chicken Bowl</td>\n      <td>1828</td>\n      <td>3</td>\n      <td>[[Tomatillo-Red Chili Salsa (Hot), Tomatillo-G...</td>\n      <td>32.94</td>\n      <td>11.25</td>\n    </tr>\n    <tr>\n      <th>18</th>\n      <td>Chicken Burrito</td>\n      <td>1817</td>\n      <td>4</td>\n      <td>[[Tomatillo-Red Chili Salsa (Hot), Tomatillo-G...</td>\n      <td>35.00</td>\n      <td>11.25</td>\n    </tr>\n    <tr>\n      <th>19</th>\n      <td>Chicken Crispy Tacos</td>\n      <td>1775</td>\n      <td>2</td>\n      <td>[Tomatillo-Green Chili Salsa (Medium), [Black ...</td>\n      <td>17.50</td>\n      <td>11.25</td>\n    </tr>\n    <tr>\n      <th>20</th>\n      <td>Chicken Salad</td>\n      <td>1598</td>\n      <td>1</td>\n      <td>[[Tomatillo-Green Chili Salsa (Medium), Roaste...</td>\n      <td>10.98</td>\n      <td>10.98</td>\n    </tr>\n    <tr>\n      <th>21</th>\n      <td>Chicken Salad Bowl</td>\n      <td>1834</td>\n      <td>2</td>\n      <td>[Tomatillo Red Chili Salsa, [Rice, Fajita Vege...</td>\n      <td>22.50</td>\n      <td>11.25</td>\n    </tr>\n    <tr>\n      <th>22</th>\n      <td>Chicken Soft Tacos</td>\n      <td>1832</td>\n      <td>2</td>\n      <td>[[Tomatillo-Red Chili Salsa (Hot), Roasted Chi...</td>\n      <td>21.96</td>\n      <td>11.25</td>\n    </tr>\n    <tr>\n      <th>23</th>\n      <td>Chips</td>\n      <td>1831</td>\n      <td>3</td>\n      <td>NaN</td>\n      <td>6.45</td>\n      <td>2.15</td>\n    </tr>\n    <tr>\n      <th>24</th>\n      <td>Chips and Fresh Tomato Salsa</td>\n      <td>1790</td>\n      <td>15</td>\n      <td>NaN</td>\n      <td>44.25</td>\n      <td>2.95</td>\n    </tr>\n    <tr>\n      <th>25</th>\n      <td>Chips and Guacamole</td>\n      <td>1832</td>\n      <td>4</td>\n      <td>NaN</td>\n      <td>17.80</td>\n      <td>4.45</td>\n    </tr>\n    <tr>\n      <th>26</th>\n      <td>Chips and Mild Fresh Tomato Salsa</td>\n      <td>279</td>\n      <td>1</td>\n      <td>NaN</td>\n      <td>3.00</td>\n      <td>3.00</td>\n    </tr>\n    <tr>\n      <th>27</th>\n      <td>Chips and Roasted Chili Corn Salsa</td>\n      <td>1513</td>\n      <td>2</td>\n      <td>NaN</td>\n      <td>5.90</td>\n      <td>2.95</td>\n    </tr>\n    <tr>\n      <th>28</th>\n      <td>Chips and Roasted Chili-Corn Salsa</td>\n      <td>1565</td>\n      <td>1</td>\n      <td>NaN</td>\n      <td>2.39</td>\n      <td>2.39</td>\n    </tr>\n    <tr>\n      <th>29</th>\n      <td>Chips and Tomatillo Green Chili Salsa</td>\n      <td>1787</td>\n      <td>2</td>\n      <td>NaN</td>\n      <td>5.90</td>\n      <td>2.95</td>\n    </tr>\n    <tr>\n      <th>30</th>\n      <td>Chips and Tomatillo Red Chili Salsa</td>\n      <td>1779</td>\n      <td>2</td>\n      <td>NaN</td>\n      <td>5.90</td>\n      <td>2.95</td>\n    </tr>\n    <tr>\n      <th>31</th>\n      <td>Chips and Tomatillo-Green Chili Salsa</td>\n      <td>1604</td>\n      <td>2</td>\n      <td>NaN</td>\n      <td>4.78</td>\n      <td>2.39</td>\n    </tr>\n    <tr>\n      <th>32</th>\n      <td>Chips and Tomatillo-Red Chili Salsa</td>\n      <td>1637</td>\n      <td>3</td>\n      <td>NaN</td>\n      <td>7.17</td>\n      <td>2.39</td>\n    </tr>\n    <tr>\n      <th>33</th>\n      <td>Crispy Tacos</td>\n      <td>217</td>\n      <td>1</td>\n      <td>[Adobo-Marinated and Grilled Steak]</td>\n      <td>7.40</td>\n      <td>7.40</td>\n    </tr>\n    <tr>\n      <th>34</th>\n      <td>Izze</td>\n      <td>1468</td>\n      <td>1</td>\n      <td>[Grapefruit]</td>\n      <td>3.39</td>\n      <td>3.39</td>\n    </tr>\n    <tr>\n      <th>35</th>\n      <td>Nantucket Nectar</td>\n      <td>1632</td>\n      <td>2</td>\n      <td>[Pomegranate Cherry]</td>\n      <td>6.78</td>\n      <td>3.39</td>\n    </tr>\n    <tr>\n      <th>36</th>\n      <td>Salad</td>\n      <td>575</td>\n      <td>1</td>\n      <td>[White Rice, Adobo-Marinated and Grilled Chick...</td>\n      <td>7.40</td>\n      <td>7.40</td>\n    </tr>\n    <tr>\n      <th>37</th>\n      <td>Side of Chips</td>\n      <td>1629</td>\n      <td>8</td>\n      <td>NaN</td>\n      <td>13.52</td>\n      <td>1.69</td>\n    </tr>\n    <tr>\n      <th>38</th>\n      <td>Steak Bowl</td>\n      <td>1796</td>\n      <td>3</td>\n      <td>[[Tomatillo-Red Chili Salsa (Hot), Fresh Tomat...</td>\n      <td>26.07</td>\n      <td>11.75</td>\n    </tr>\n    <tr>\n      <th>39</th>\n      <td>Steak Burrito</td>\n      <td>1833</td>\n      <td>3</td>\n      <td>[[Tomatillo-Green Chili Salsa (Medium), Tomati...</td>\n      <td>27.75</td>\n      <td>11.75</td>\n    </tr>\n    <tr>\n      <th>40</th>\n      <td>Steak Crispy Tacos</td>\n      <td>1810</td>\n      <td>2</td>\n      <td>[[Roasted Chili Corn Salsa (Medium), Tomatillo...</td>\n      <td>17.98</td>\n      <td>11.75</td>\n    </tr>\n    <tr>\n      <th>41</th>\n      <td>Steak Salad</td>\n      <td>1406</td>\n      <td>1</td>\n      <td>[[Lettuce, Fajita Veggies]]</td>\n      <td>8.99</td>\n      <td>8.99</td>\n    </tr>\n    <tr>\n      <th>42</th>\n      <td>Steak Salad Bowl</td>\n      <td>1818</td>\n      <td>2</td>\n      <td>[Tomatillo Red Chili Salsa, [Rice, Black Beans...</td>\n      <td>23.78</td>\n      <td>11.89</td>\n    </tr>\n    <tr>\n      <th>43</th>\n      <td>Steak Soft Tacos</td>\n      <td>1808</td>\n      <td>2</td>\n      <td>[[Tomatillo-Green Chili Salsa (Medium), Roaste...</td>\n      <td>18.50</td>\n      <td>11.75</td>\n    </tr>\n    <tr>\n      <th>44</th>\n      <td>Veggie Bowl</td>\n      <td>1780</td>\n      <td>2</td>\n      <td>[[Tomatillo-Green Chili Salsa (Medium), Roaste...</td>\n      <td>16.98</td>\n      <td>11.25</td>\n    </tr>\n    <tr>\n      <th>45</th>\n      <td>Veggie Burrito</td>\n      <td>1830</td>\n      <td>3</td>\n      <td>[[Tomatillo-Green Chili Salsa (Medium), Roaste...</td>\n      <td>33.75</td>\n      <td>11.25</td>\n    </tr>\n    <tr>\n      <th>46</th>\n      <td>Veggie Crispy Tacos</td>\n      <td>668</td>\n      <td>1</td>\n      <td>[Fresh Tomato Salsa (Mild), [Pinto Beans, Rice...</td>\n      <td>8.49</td>\n      <td>8.49</td>\n    </tr>\n    <tr>\n      <th>47</th>\n      <td>Veggie Salad</td>\n      <td>1635</td>\n      <td>1</td>\n      <td>[[Tomatillo-Green Chili Salsa (Medium), Roaste...</td>\n      <td>8.49</td>\n      <td>8.49</td>\n    </tr>\n    <tr>\n      <th>48</th>\n      <td>Veggie Salad Bowl</td>\n      <td>1818</td>\n      <td>1</td>\n      <td>[Tomatillo Red Chili Salsa, [Fajita Vegetables...</td>\n      <td>11.25</td>\n      <td>11.25</td>\n    </tr>\n    <tr>\n      <th>49</th>\n      <td>Veggie Soft Tacos</td>\n      <td>1559</td>\n      <td>2</td>\n      <td>[Tomatillo Red Chili Salsa, [Fajita Vegetables...</td>\n      <td>16.98</td>\n      <td>11.25</td>\n    </tr>\n  </tbody>\n</table>\n</div>"
     },
     "metadata": {},
     "execution_count": 67
    }
   ],
   "source": [
    "k_2 = chipo.groupby(\"item_name\").max()\n",
    "k_2.reset_index()"
   ]
  },
  {
   "cell_type": "code",
   "execution_count": null,
   "metadata": {},
   "outputs": [],
   "source": [
    "k_2.reset_index()\n"
   ]
  },
  {
   "cell_type": "markdown",
   "metadata": {},
   "source": [
    "### Step 8. How many times was a Veggie Salad Bowl ordered?"
   ]
  },
  {
   "cell_type": "code",
   "execution_count": 9,
   "metadata": {},
   "outputs": [
    {
     "data": {
      "text/plain": "18"
     },
     "execution_count": 9,
     "metadata": {},
     "output_type": "execute_result"
    }
   ],
   "source": [
    "chipo_salad = chipo[chipo.item_name == \"Veggie Salad Bowl\"]\n",
    "\n",
    "len(chipo_salad)"
   ]
  },
  {
   "cell_type": "code",
   "execution_count": 26,
   "metadata": {},
   "outputs": [
    {
     "data": {
      "text/html": "<div>\n<style scoped>\n    .dataframe tbody tr th:only-of-type {\n        vertical-align: middle;\n    }\n\n    .dataframe tbody tr th {\n        vertical-align: top;\n    }\n\n    .dataframe thead th {\n        text-align: right;\n    }\n</style>\n<table border=\"1\" class=\"dataframe\">\n  <thead>\n    <tr style=\"text-align: right;\">\n      <th></th>\n      <th>order_id</th>\n      <th>quantity</th>\n      <th>item_name</th>\n      <th>choice_description</th>\n      <th>item_price</th>\n    </tr>\n  </thead>\n  <tbody>\n    <tr>\n      <td>0</td>\n      <td>1</td>\n      <td>1</td>\n      <td>Chips and Fresh Tomato Salsa</td>\n      <td>NaN</td>\n      <td>2.39</td>\n    </tr>\n    <tr>\n      <td>1</td>\n      <td>1</td>\n      <td>1</td>\n      <td>Izze</td>\n      <td>[Clementine]</td>\n      <td>3.39</td>\n    </tr>\n    <tr>\n      <td>2</td>\n      <td>1</td>\n      <td>1</td>\n      <td>Nantucket Nectar</td>\n      <td>[Apple]</td>\n      <td>3.39</td>\n    </tr>\n    <tr>\n      <td>3</td>\n      <td>1</td>\n      <td>1</td>\n      <td>Chips and Tomatillo-Green Chili Salsa</td>\n      <td>NaN</td>\n      <td>2.39</td>\n    </tr>\n    <tr>\n      <td>4</td>\n      <td>2</td>\n      <td>2</td>\n      <td>Chicken Bowl</td>\n      <td>[Tomatillo-Red Chili Salsa (Hot), [Black Beans...</td>\n      <td>16.98</td>\n    </tr>\n    <tr>\n      <td>...</td>\n      <td>...</td>\n      <td>...</td>\n      <td>...</td>\n      <td>...</td>\n      <td>...</td>\n    </tr>\n    <tr>\n      <td>4617</td>\n      <td>1833</td>\n      <td>1</td>\n      <td>Steak Burrito</td>\n      <td>[Fresh Tomato Salsa, [Rice, Black Beans, Sour ...</td>\n      <td>11.75</td>\n    </tr>\n    <tr>\n      <td>4618</td>\n      <td>1833</td>\n      <td>1</td>\n      <td>Steak Burrito</td>\n      <td>[Fresh Tomato Salsa, [Rice, Sour Cream, Cheese...</td>\n      <td>11.75</td>\n    </tr>\n    <tr>\n      <td>4619</td>\n      <td>1834</td>\n      <td>1</td>\n      <td>Chicken Salad Bowl</td>\n      <td>[Fresh Tomato Salsa, [Fajita Vegetables, Pinto...</td>\n      <td>11.25</td>\n    </tr>\n    <tr>\n      <td>4620</td>\n      <td>1834</td>\n      <td>1</td>\n      <td>Chicken Salad Bowl</td>\n      <td>[Fresh Tomato Salsa, [Fajita Vegetables, Lettu...</td>\n      <td>8.75</td>\n    </tr>\n    <tr>\n      <td>4621</td>\n      <td>1834</td>\n      <td>1</td>\n      <td>Chicken Salad Bowl</td>\n      <td>[Fresh Tomato Salsa, [Fajita Vegetables, Pinto...</td>\n      <td>8.75</td>\n    </tr>\n  </tbody>\n</table>\n<p>4622 rows × 5 columns</p>\n</div>",
      "text/plain": "      order_id  quantity                              item_name  \\\n0            1         1           Chips and Fresh Tomato Salsa   \n1            1         1                                   Izze   \n2            1         1                       Nantucket Nectar   \n3            1         1  Chips and Tomatillo-Green Chili Salsa   \n4            2         2                           Chicken Bowl   \n...        ...       ...                                    ...   \n4617      1833         1                          Steak Burrito   \n4618      1833         1                          Steak Burrito   \n4619      1834         1                     Chicken Salad Bowl   \n4620      1834         1                     Chicken Salad Bowl   \n4621      1834         1                     Chicken Salad Bowl   \n\n                                     choice_description  item_price  \n0                                                   NaN        2.39  \n1                                          [Clementine]        3.39  \n2                                               [Apple]        3.39  \n3                                                   NaN        2.39  \n4     [Tomatillo-Red Chili Salsa (Hot), [Black Beans...       16.98  \n...                                                 ...         ...  \n4617  [Fresh Tomato Salsa, [Rice, Black Beans, Sour ...       11.75  \n4618  [Fresh Tomato Salsa, [Rice, Sour Cream, Cheese...       11.75  \n4619  [Fresh Tomato Salsa, [Fajita Vegetables, Pinto...       11.25  \n4620  [Fresh Tomato Salsa, [Fajita Vegetables, Lettu...        8.75  \n4621  [Fresh Tomato Salsa, [Fajita Vegetables, Pinto...        8.75  \n\n[4622 rows x 5 columns]"
     },
     "execution_count": 26,
     "metadata": {},
     "output_type": "execute_result"
    }
   ],
   "source": [
    "chipo"
   ]
  },
  {
   "cell_type": "code",
   "execution_count": 19,
   "metadata": {},
   "outputs": [
    {
     "data": {
      "text/html": "<div>\n<style scoped>\n    .dataframe tbody tr th:only-of-type {\n        vertical-align: middle;\n    }\n\n    .dataframe tbody tr th {\n        vertical-align: top;\n    }\n\n    .dataframe thead th {\n        text-align: right;\n    }\n</style>\n<table border=\"1\" class=\"dataframe\">\n  <thead>\n    <tr style=\"text-align: right;\">\n      <th></th>\n      <th>order_id</th>\n      <th>quantity</th>\n      <th>item_price</th>\n    </tr>\n    <tr>\n      <th>item_name</th>\n      <th></th>\n      <th></th>\n      <th></th>\n    </tr>\n  </thead>\n  <tbody>\n    <tr>\n      <td>Veggie Salad Bowl</td>\n      <td>17303.0</td>\n      <td>18.0</td>\n      <td>182.5</td>\n    </tr>\n  </tbody>\n</table>\n</div>",
      "text/plain": "                   order_id  quantity  item_price\nitem_name                                        \nVeggie Salad Bowl   17303.0      18.0       182.5"
     },
     "execution_count": 19,
     "metadata": {},
     "output_type": "execute_result"
    }
   ],
   "source": [
    "chipo.where(chipo.item_name == \"Veggie Salad Bowl\").groupby(\"item_name\").sum()"
   ]
  },
  {
   "cell_type": "code",
   "execution_count": 25,
   "metadata": {},
   "outputs": [
    {
     "data": {
      "text/plain": "18"
     },
     "execution_count": 25,
     "metadata": {},
     "output_type": "execute_result"
    }
   ],
   "source": [
    "chipo.item_name.value_counts()[\"Veggie Salad Bowl\"]"
   ]
  },
  {
   "cell_type": "code",
   "execution_count": null,
   "metadata": {},
   "outputs": [],
   "source": []
  },
  {
   "cell_type": "code",
   "execution_count": 16,
   "metadata": {},
   "outputs": [
    {
     "data": {
      "text/html": "<div>\n<style scoped>\n    .dataframe tbody tr th:only-of-type {\n        vertical-align: middle;\n    }\n\n    .dataframe tbody tr th {\n        vertical-align: top;\n    }\n\n    .dataframe thead th {\n        text-align: right;\n    }\n</style>\n<table border=\"1\" class=\"dataframe\">\n  <thead>\n    <tr style=\"text-align: right;\">\n      <th></th>\n      <th>order_id</th>\n      <th>quantity</th>\n      <th>item_price</th>\n    </tr>\n    <tr>\n      <th>item_name</th>\n      <th></th>\n      <th></th>\n      <th></th>\n    </tr>\n  </thead>\n  <tbody>\n    <tr>\n      <td>Chicken Bowl</td>\n      <td>713926</td>\n      <td>761</td>\n      <td>7342.73</td>\n    </tr>\n    <tr>\n      <td>Chicken Burrito</td>\n      <td>497303</td>\n      <td>591</td>\n      <td>5575.82</td>\n    </tr>\n    <tr>\n      <td>Chips and Guacamole</td>\n      <td>449959</td>\n      <td>506</td>\n      <td>2201.04</td>\n    </tr>\n    <tr>\n      <td>Steak Burrito</td>\n      <td>328437</td>\n      <td>386</td>\n      <td>3851.43</td>\n    </tr>\n    <tr>\n      <td>Canned Soft Drink</td>\n      <td>304753</td>\n      <td>351</td>\n      <td>438.75</td>\n    </tr>\n    <tr>\n      <td>Chips</td>\n      <td>208004</td>\n      <td>230</td>\n      <td>494.34</td>\n    </tr>\n    <tr>\n      <td>Steak Bowl</td>\n      <td>193752</td>\n      <td>221</td>\n      <td>2260.19</td>\n    </tr>\n    <tr>\n      <td>Bottled Water</td>\n      <td>175944</td>\n      <td>211</td>\n      <td>302.56</td>\n    </tr>\n    <tr>\n      <td>Chips and Fresh Tomato Salsa</td>\n      <td>100419</td>\n      <td>130</td>\n      <td>361.36</td>\n    </tr>\n    <tr>\n      <td>Canned Soda</td>\n      <td>76396</td>\n      <td>126</td>\n      <td>137.34</td>\n    </tr>\n    <tr>\n      <td>Chicken Salad Bowl</td>\n      <td>117104</td>\n      <td>123</td>\n      <td>1228.75</td>\n    </tr>\n    <tr>\n      <td>Chicken Soft Tacos</td>\n      <td>98395</td>\n      <td>120</td>\n      <td>1108.09</td>\n    </tr>\n    <tr>\n      <td>Side of Chips</td>\n      <td>84769</td>\n      <td>110</td>\n      <td>185.90</td>\n    </tr>\n    <tr>\n      <td>Veggie Burrito</td>\n      <td>80962</td>\n      <td>97</td>\n      <td>934.77</td>\n    </tr>\n    <tr>\n      <td>Barbacoa Burrito</td>\n      <td>74718</td>\n      <td>91</td>\n      <td>894.75</td>\n    </tr>\n    <tr>\n      <td>Veggie Bowl</td>\n      <td>72270</td>\n      <td>87</td>\n      <td>867.99</td>\n    </tr>\n    <tr>\n      <td>Carnitas Bowl</td>\n      <td>62742</td>\n      <td>71</td>\n      <td>736.71</td>\n    </tr>\n    <tr>\n      <td>Barbacoa Bowl</td>\n      <td>53972</td>\n      <td>66</td>\n      <td>672.36</td>\n    </tr>\n    <tr>\n      <td>Carnitas Burrito</td>\n      <td>51652</td>\n      <td>60</td>\n      <td>597.83</td>\n    </tr>\n    <tr>\n      <td>Steak Soft Tacos</td>\n      <td>50177</td>\n      <td>56</td>\n      <td>536.05</td>\n    </tr>\n    <tr>\n      <td>6 Pack Soft Drink</td>\n      <td>52322</td>\n      <td>55</td>\n      <td>356.95</td>\n    </tr>\n    <tr>\n      <td>Chips and Tomatillo Red Chili Salsa</td>\n      <td>45556</td>\n      <td>50</td>\n      <td>147.50</td>\n    </tr>\n    <tr>\n      <td>Chicken Crispy Tacos</td>\n      <td>47382</td>\n      <td>50</td>\n      <td>472.13</td>\n    </tr>\n    <tr>\n      <td>Chips and Tomatillo Green Chili Salsa</td>\n      <td>41170</td>\n      <td>45</td>\n      <td>132.75</td>\n    </tr>\n    <tr>\n      <td>Carnitas Soft Tacos</td>\n      <td>37673</td>\n      <td>40</td>\n      <td>375.94</td>\n    </tr>\n    <tr>\n      <td>Steak Crispy Tacos</td>\n      <td>35818</td>\n      <td>36</td>\n      <td>357.34</td>\n    </tr>\n    <tr>\n      <td>Chips and Tomatillo-Green Chili Salsa</td>\n      <td>21826</td>\n      <td>33</td>\n      <td>78.87</td>\n    </tr>\n    <tr>\n      <td>Steak Salad Bowl</td>\n      <td>29590</td>\n      <td>31</td>\n      <td>343.59</td>\n    </tr>\n    <tr>\n      <td>Nantucket Nectar</td>\n      <td>21814</td>\n      <td>29</td>\n      <td>98.31</td>\n    </tr>\n    <tr>\n      <td>Chips and Tomatillo-Red Chili Salsa</td>\n      <td>18344</td>\n      <td>25</td>\n      <td>59.75</td>\n    </tr>\n    <tr>\n      <td>Barbacoa Soft Tacos</td>\n      <td>18725</td>\n      <td>25</td>\n      <td>250.46</td>\n    </tr>\n    <tr>\n      <td>Chips and Roasted Chili Corn Salsa</td>\n      <td>14999</td>\n      <td>23</td>\n      <td>67.85</td>\n    </tr>\n    <tr>\n      <td>Izze</td>\n      <td>10587</td>\n      <td>20</td>\n      <td>67.80</td>\n    </tr>\n    <tr>\n      <td>Veggie Salad Bowl</td>\n      <td>17303</td>\n      <td>18</td>\n      <td>182.50</td>\n    </tr>\n    <tr>\n      <td>Chips and Roasted Chili-Corn Salsa</td>\n      <td>17462</td>\n      <td>18</td>\n      <td>43.02</td>\n    </tr>\n    <tr>\n      <td>Barbacoa Crispy Tacos</td>\n      <td>5613</td>\n      <td>12</td>\n      <td>120.21</td>\n    </tr>\n    <tr>\n      <td>Barbacoa Salad Bowl</td>\n      <td>9708</td>\n      <td>10</td>\n      <td>106.40</td>\n    </tr>\n    <tr>\n      <td>Chicken Salad</td>\n      <td>10465</td>\n      <td>9</td>\n      <td>81.09</td>\n    </tr>\n    <tr>\n      <td>Carnitas Crispy Tacos</td>\n      <td>5868</td>\n      <td>8</td>\n      <td>77.96</td>\n    </tr>\n    <tr>\n      <td>Veggie Soft Tacos</td>\n      <td>5520</td>\n      <td>8</td>\n      <td>73.96</td>\n    </tr>\n    <tr>\n      <td>Burrito</td>\n      <td>1550</td>\n      <td>6</td>\n      <td>44.40</td>\n    </tr>\n    <tr>\n      <td>Veggie Salad</td>\n      <td>7265</td>\n      <td>6</td>\n      <td>50.94</td>\n    </tr>\n    <tr>\n      <td>Carnitas Salad Bowl</td>\n      <td>6693</td>\n      <td>6</td>\n      <td>66.34</td>\n    </tr>\n    <tr>\n      <td>Bowl</td>\n      <td>472</td>\n      <td>4</td>\n      <td>29.60</td>\n    </tr>\n    <tr>\n      <td>Steak Salad</td>\n      <td>2362</td>\n      <td>4</td>\n      <td>35.66</td>\n    </tr>\n    <tr>\n      <td>Salad</td>\n      <td>1150</td>\n      <td>2</td>\n      <td>14.80</td>\n    </tr>\n    <tr>\n      <td>Crispy Tacos</td>\n      <td>434</td>\n      <td>2</td>\n      <td>14.80</td>\n    </tr>\n    <tr>\n      <td>Chips and Mild Fresh Tomato Salsa</td>\n      <td>279</td>\n      <td>1</td>\n      <td>3.00</td>\n    </tr>\n    <tr>\n      <td>Carnitas Salad</td>\n      <td>1500</td>\n      <td>1</td>\n      <td>8.99</td>\n    </tr>\n    <tr>\n      <td>Veggie Crispy Tacos</td>\n      <td>668</td>\n      <td>1</td>\n      <td>8.49</td>\n    </tr>\n  </tbody>\n</table>\n</div>",
      "text/plain": "                                       order_id  quantity  item_price\nitem_name                                                            \nChicken Bowl                             713926       761     7342.73\nChicken Burrito                          497303       591     5575.82\nChips and Guacamole                      449959       506     2201.04\nSteak Burrito                            328437       386     3851.43\nCanned Soft Drink                        304753       351      438.75\nChips                                    208004       230      494.34\nSteak Bowl                               193752       221     2260.19\nBottled Water                            175944       211      302.56\nChips and Fresh Tomato Salsa             100419       130      361.36\nCanned Soda                               76396       126      137.34\nChicken Salad Bowl                       117104       123     1228.75\nChicken Soft Tacos                        98395       120     1108.09\nSide of Chips                             84769       110      185.90\nVeggie Burrito                            80962        97      934.77\nBarbacoa Burrito                          74718        91      894.75\nVeggie Bowl                               72270        87      867.99\nCarnitas Bowl                             62742        71      736.71\nBarbacoa Bowl                             53972        66      672.36\nCarnitas Burrito                          51652        60      597.83\nSteak Soft Tacos                          50177        56      536.05\n6 Pack Soft Drink                         52322        55      356.95\nChips and Tomatillo Red Chili Salsa       45556        50      147.50\nChicken Crispy Tacos                      47382        50      472.13\nChips and Tomatillo Green Chili Salsa     41170        45      132.75\nCarnitas Soft Tacos                       37673        40      375.94\nSteak Crispy Tacos                        35818        36      357.34\nChips and Tomatillo-Green Chili Salsa     21826        33       78.87\nSteak Salad Bowl                          29590        31      343.59\nNantucket Nectar                          21814        29       98.31\nChips and Tomatillo-Red Chili Salsa       18344        25       59.75\nBarbacoa Soft Tacos                       18725        25      250.46\nChips and Roasted Chili Corn Salsa        14999        23       67.85\nIzze                                      10587        20       67.80\nVeggie Salad Bowl                         17303        18      182.50\nChips and Roasted Chili-Corn Salsa        17462        18       43.02\nBarbacoa Crispy Tacos                      5613        12      120.21\nBarbacoa Salad Bowl                        9708        10      106.40\nChicken Salad                             10465         9       81.09\nCarnitas Crispy Tacos                      5868         8       77.96\nVeggie Soft Tacos                          5520         8       73.96\nBurrito                                    1550         6       44.40\nVeggie Salad                               7265         6       50.94\nCarnitas Salad Bowl                        6693         6       66.34\nBowl                                        472         4       29.60\nSteak Salad                                2362         4       35.66\nSalad                                      1150         2       14.80\nCrispy Tacos                                434         2       14.80\nChips and Mild Fresh Tomato Salsa           279         1        3.00\nCarnitas Salad                             1500         1        8.99\nVeggie Crispy Tacos                         668         1        8.49"
     },
     "execution_count": 16,
     "metadata": {},
     "output_type": "execute_result"
    }
   ],
   "source": [
    "chipo8 = chipo.groupby(\"item_name\").sum()\n",
    "chipo8.sort_values(\"quantity\", ascending=False)"
   ]
  },
  {
   "cell_type": "markdown",
   "metadata": {},
   "source": [
    "### Step 9. How many times did someone order more than one Canned Soda?"
   ]
  },
  {
   "cell_type": "code",
   "execution_count": 28,
   "metadata": {},
   "outputs": [
    {
     "data": {
      "text/plain": "20"
     },
     "execution_count": 28,
     "metadata": {},
     "output_type": "execute_result"
    }
   ],
   "source": [
    "chipo_drink_steak_bowl = chipo[(chipo.item_name == \"Canned Soda\") & (chipo.quantity > 1)]\n",
    "#chipo_drink_steak_bowl\n",
    "len(chipo_drink_steak_bowl)"
   ]
  },
  {
   "cell_type": "code",
   "execution_count": 37,
   "metadata": {},
   "outputs": [
    {
     "data": {
      "text/plain": "20"
     },
     "execution_count": 37,
     "metadata": {},
     "output_type": "execute_result"
    }
   ],
   "source": [
    "chipo_drink_steak_bowl2 = (chipo.item_name == \"Canned Soda\") & (chipo.quantity > 1)\n",
    "chipo_drink_steak_bowl2.sum()"
   ]
  },
  {
   "cell_type": "code",
   "execution_count": null,
   "metadata": {},
   "outputs": [],
   "source": []
  }
 ],
 "metadata": {
  "anaconda-cloud": {},
  "kernelspec": {
   "display_name": "Python 3",
   "language": "python",
   "name": "python3"
  },
  "language_info": {
   "codemirror_mode": {
    "name": "ipython",
    "version": 3
   },
   "file_extension": ".py",
   "mimetype": "text/x-python",
   "name": "python",
   "nbconvert_exporter": "python",
   "pygments_lexer": "ipython3",
   "version": "3.6.4-final"
  }
 },
 "nbformat": 4,
 "nbformat_minor": 1
}