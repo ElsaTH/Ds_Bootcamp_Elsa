{
 "cells": [
  {
   "cell_type": "markdown",
   "metadata": {},
   "source": [
    "## Delivery:"
   ]
  },
  {
   "cell_type": "markdown",
   "metadata": {},
   "source": [
    "Create, in your library/module, a protected function called 'f_protected' that creates a lambda function. The lambda function must receive a param 'x' and return a boolean True if 'x' is higher than 5.  Also, 'f_protected' must create a list ('l1') with 'list comprehesion' that generates a list from 0 to 15. Finally, 'f_protected' must return 'l1' filtered (with function 'filter') using the lambda function.\n",
    "\n",
    "After that, create a decorator called \"prepost\". The decorator must receive an *args and a **kwargs argument. \n",
    "\n",
    "If in 'kwargs' there is a key called \"url\", then it must do the next:\n",
    "\n",
    "    1. Open with pandas the url as 'csv'. The variable is called 'df'.\n",
    "    2. Do what '_f_protected' does (the function wrapped with the decorator). Simply, call the function.\n",
    "    3. Plot histograms of each column in 'df'.\n",
    "\n",
    "----------\n",
    "\n",
    "The url is:\n",
    "\n",
    "http://winterolympicsmedals.com/medals.csv\n",
    "\n",
    "Finally, use the decorator as follow and call the function:"
   ]
  },
  {
   "cell_type": "code",
   "execution_count": 1,
   "metadata": {
    "tags": []
   },
   "outputs": [
    {
     "output_type": "stream",
     "name": "stdout",
     "text": "\n"
    }
   ],
   "source": [
    "def prepost(*arg, **kwargs):\n",
    "    #your prepost decorator code...\n",
    "\n",
    "@prepost(url=key_url)   \n",
    "def _f_protected():\n",
    "    #your _f_protected_code...\n",
    "\n",
    "filter_ = _f_protected()"
   ]
  },
  {
   "cell_type": "code",
   "execution_count": null,
   "metadata": {},
   "outputs": [],
   "source": []
  }
 ],
 "metadata": {
  "language_info": {
   "name": "python",
   "codemirror_mode": {
    "name": "ipython",
    "version": 3
   },
   "version": "3.6.4-final"
  },
  "orig_nbformat": 2,
  "file_extension": ".py",
  "mimetype": "text/x-python",
  "name": "python",
  "npconvert_exporter": "python",
  "pygments_lexer": "ipython3",
  "version": 3,
  "kernelspec": {
   "name": "python36464bitc2077ed07ea84d23aa5b518d224882ab",
   "display_name": "Python 3.6.4 64-bit"
  }
 },
 "nbformat": 4,
 "nbformat_minor": 2
}