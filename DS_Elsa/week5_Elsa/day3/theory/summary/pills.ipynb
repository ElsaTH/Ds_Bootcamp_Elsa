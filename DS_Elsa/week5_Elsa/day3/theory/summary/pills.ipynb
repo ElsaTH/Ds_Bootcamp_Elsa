{
 "cells": [
  {
   "cell_type": "code",
   "execution_count": 3,
   "metadata": {},
   "outputs": [
    {
     "output_type": "error",
     "ename": "NameError",
     "evalue": "name 'lista' is not defined",
     "traceback": [
      "\u001b[1;31m---------------------------------------------------------------------------\u001b[0m",
      "\u001b[1;31mNameError\u001b[0m                                 Traceback (most recent call last)",
      "\u001b[1;32m<ipython-input-3-9028a33cca23>\u001b[0m in \u001b[0;36m<module>\u001b[1;34m\u001b[0m\n\u001b[0;32m      1\u001b[0m \u001b[1;32mimport\u001b[0m \u001b[0mnumpy\u001b[0m \u001b[1;32mas\u001b[0m \u001b[0mnp\u001b[0m\u001b[1;33m\u001b[0m\u001b[0m\n\u001b[0;32m      2\u001b[0m \u001b[1;33m\u001b[0m\u001b[0m\n\u001b[1;32m----> 3\u001b[1;33m \u001b[0mnp_array\u001b[0m \u001b[1;33m=\u001b[0m \u001b[0mnp\u001b[0m\u001b[1;33m.\u001b[0m\u001b[0marray\u001b[0m\u001b[1;33m(\u001b[0m\u001b[0mlista\u001b[0m\u001b[1;33m)\u001b[0m\u001b[1;33m\u001b[0m\u001b[0m\n\u001b[0m",
      "\u001b[1;31mNameError\u001b[0m: name 'lista' is not defined"
     ]
    }
   ],
   "source": [
    "import numpy as np\n",
    "\n",
    "np_array = np.array(lista)"
   ]
  },
  {
   "cell_type": "code",
   "execution_count": 4,
   "metadata": {},
   "outputs": [
    {
     "output_type": "execute_result",
     "data": {
      "text/plain": "                         start                         end        source_ip\n0   2018-12-01 06:09:25.126252  2018-12-01 06:13:32.126252    87.106.250.46\n1   2018-12-02 17:08:51.659516  2018-12-02 17:13:06.659516  124.100.154.251\n2   2018-12-02 22:31:34.932660  2018-12-02 22:35:47.932660   162.193.160.52\n3   2018-12-03 03:41:24.236627  2018-12-03 03:41:58.236627     3.187.98.222\n4   2018-12-04 04:51:10.436412  2018-12-04 04:55:18.436412   12.203.107.201\n5   2018-12-04 06:33:49.212236  2018-12-04 06:38:03.212236    189.129.85.67\n6   2018-12-05 08:34:28.448176  2018-12-05 08:38:43.448176    130.0.243.199\n7   2018-12-06 13:19:19.870073  2018-12-06 13:22:45.870073   119.224.29.115\n8   2018-12-07 23:09:16.749674  2018-12-07 23:10:50.749674   81.169.193.182\n9   2018-12-10 05:49:18.805774  2018-12-10 05:53:23.805774   184.99.196.253\n10  2018-12-10 10:17:56.201382  2018-12-10 10:22:09.201382     96.187.45.99\n11  2018-12-11 20:42:42.135463  2018-12-11 20:44:42.135463  232.159.100.161\n12  2018-12-12 07:57:40.912757  2018-12-12 07:57:44.912757    214.199.76.60\n13  2018-12-13 03:02:37.937394  2018-12-13 03:06:55.937394      185.2.99.58\n14  2018-12-13 17:52:32.076269  2018-12-13 17:56:43.076269    153.60.249.72\n15  2018-12-14 01:02:33.845786  2018-12-14 01:06:38.845786   122.197.157.59\n16  2018-12-14 09:33:16.032817  2018-12-14 09:37:25.032817  121.147.201.245\n17  2018-12-14 10:15:50.057193  2018-12-14 10:17:42.057193    115.94.212.74\n18  2018-12-18 12:47:32.171941  2018-12-18 12:49:11.171941   121.90.233.205\n19  2018-12-23 00:23:46.442783  2018-12-23 00:27:59.442783     48.85.35.228\n20  2018-12-23 03:05:14.626905  2018-12-23 03:09:26.626905    62.38.152.194\n21  2018-12-23 18:21:52.780180  2018-12-23 18:26:05.780180      8.46.128.35\n22  2018-12-24 23:00:04.367951  2018-12-24 23:02:04.367951     97.32.235.17\n23  2018-12-25 10:58:42.476592  2018-12-25 11:02:54.476592  113.162.208.193\n24  2018-12-25 11:01:04.947973  2018-12-25 11:05:11.947973     49.76.49.155\n25  2018-12-26 10:53:43.622708  2018-12-26 10:57:55.622708   25.215.139.208\n26  2018-12-26 19:57:11.911521  2018-12-26 20:01:20.911521  196.229.137.227\n27  2018-12-28 12:18:55.920246  2018-12-28 12:22:54.920246  209.190.162.180\n28  2018-12-29 18:46:09.159686  2018-12-29 18:50:22.159686     78.6.154.160\n29  2018-12-29 22:03:32.201530  2018-12-29 22:07:39.201530   211.41.206.218\n30  2018-12-30 07:58:56.299054  2018-12-30 08:03:04.299054     151.19.160.7\n31  2018-12-30 10:24:32.325926  2018-12-30 10:25:50.325926    42.36.247.249\n32  2018-12-30 18:02:10.330542  2018-12-30 18:06:22.330542    31.166.161.10\n33  2018-12-30 20:53:05.198396  2018-12-30 20:57:15.198396   216.47.145.212\n34  2018-12-31 15:25:24.965666  2018-12-31 15:28:30.965666  220.140.156.223",
      "text/html": "<div>\n<style scoped>\n    .dataframe tbody tr th:only-of-type {\n        vertical-align: middle;\n    }\n\n    .dataframe tbody tr th {\n        vertical-align: top;\n    }\n\n    .dataframe thead th {\n        text-align: right;\n    }\n</style>\n<table border=\"1\" class=\"dataframe\">\n  <thead>\n    <tr style=\"text-align: right;\">\n      <th></th>\n      <th>start</th>\n      <th>end</th>\n      <th>source_ip</th>\n    </tr>\n  </thead>\n  <tbody>\n    <tr>\n      <th>0</th>\n      <td>2018-12-01 06:09:25.126252</td>\n      <td>2018-12-01 06:13:32.126252</td>\n      <td>87.106.250.46</td>\n    </tr>\n    <tr>\n      <th>1</th>\n      <td>2018-12-02 17:08:51.659516</td>\n      <td>2018-12-02 17:13:06.659516</td>\n      <td>124.100.154.251</td>\n    </tr>\n    <tr>\n      <th>2</th>\n      <td>2018-12-02 22:31:34.932660</td>\n      <td>2018-12-02 22:35:47.932660</td>\n      <td>162.193.160.52</td>\n    </tr>\n    <tr>\n      <th>3</th>\n      <td>2018-12-03 03:41:24.236627</td>\n      <td>2018-12-03 03:41:58.236627</td>\n      <td>3.187.98.222</td>\n    </tr>\n    <tr>\n      <th>4</th>\n      <td>2018-12-04 04:51:10.436412</td>\n      <td>2018-12-04 04:55:18.436412</td>\n      <td>12.203.107.201</td>\n    </tr>\n    <tr>\n      <th>5</th>\n      <td>2018-12-04 06:33:49.212236</td>\n      <td>2018-12-04 06:38:03.212236</td>\n      <td>189.129.85.67</td>\n    </tr>\n    <tr>\n      <th>6</th>\n      <td>2018-12-05 08:34:28.448176</td>\n      <td>2018-12-05 08:38:43.448176</td>\n      <td>130.0.243.199</td>\n    </tr>\n    <tr>\n      <th>7</th>\n      <td>2018-12-06 13:19:19.870073</td>\n      <td>2018-12-06 13:22:45.870073</td>\n      <td>119.224.29.115</td>\n    </tr>\n    <tr>\n      <th>8</th>\n      <td>2018-12-07 23:09:16.749674</td>\n      <td>2018-12-07 23:10:50.749674</td>\n      <td>81.169.193.182</td>\n    </tr>\n    <tr>\n      <th>9</th>\n      <td>2018-12-10 05:49:18.805774</td>\n      <td>2018-12-10 05:53:23.805774</td>\n      <td>184.99.196.253</td>\n    </tr>\n    <tr>\n      <th>10</th>\n      <td>2018-12-10 10:17:56.201382</td>\n      <td>2018-12-10 10:22:09.201382</td>\n      <td>96.187.45.99</td>\n    </tr>\n    <tr>\n      <th>11</th>\n      <td>2018-12-11 20:42:42.135463</td>\n      <td>2018-12-11 20:44:42.135463</td>\n      <td>232.159.100.161</td>\n    </tr>\n    <tr>\n      <th>12</th>\n      <td>2018-12-12 07:57:40.912757</td>\n      <td>2018-12-12 07:57:44.912757</td>\n      <td>214.199.76.60</td>\n    </tr>\n    <tr>\n      <th>13</th>\n      <td>2018-12-13 03:02:37.937394</td>\n      <td>2018-12-13 03:06:55.937394</td>\n      <td>185.2.99.58</td>\n    </tr>\n    <tr>\n      <th>14</th>\n      <td>2018-12-13 17:52:32.076269</td>\n      <td>2018-12-13 17:56:43.076269</td>\n      <td>153.60.249.72</td>\n    </tr>\n    <tr>\n      <th>15</th>\n      <td>2018-12-14 01:02:33.845786</td>\n      <td>2018-12-14 01:06:38.845786</td>\n      <td>122.197.157.59</td>\n    </tr>\n    <tr>\n      <th>16</th>\n      <td>2018-12-14 09:33:16.032817</td>\n      <td>2018-12-14 09:37:25.032817</td>\n      <td>121.147.201.245</td>\n    </tr>\n    <tr>\n      <th>17</th>\n      <td>2018-12-14 10:15:50.057193</td>\n      <td>2018-12-14 10:17:42.057193</td>\n      <td>115.94.212.74</td>\n    </tr>\n    <tr>\n      <th>18</th>\n      <td>2018-12-18 12:47:32.171941</td>\n      <td>2018-12-18 12:49:11.171941</td>\n      <td>121.90.233.205</td>\n    </tr>\n    <tr>\n      <th>19</th>\n      <td>2018-12-23 00:23:46.442783</td>\n      <td>2018-12-23 00:27:59.442783</td>\n      <td>48.85.35.228</td>\n    </tr>\n    <tr>\n      <th>20</th>\n      <td>2018-12-23 03:05:14.626905</td>\n      <td>2018-12-23 03:09:26.626905</td>\n      <td>62.38.152.194</td>\n    </tr>\n    <tr>\n      <th>21</th>\n      <td>2018-12-23 18:21:52.780180</td>\n      <td>2018-12-23 18:26:05.780180</td>\n      <td>8.46.128.35</td>\n    </tr>\n    <tr>\n      <th>22</th>\n      <td>2018-12-24 23:00:04.367951</td>\n      <td>2018-12-24 23:02:04.367951</td>\n      <td>97.32.235.17</td>\n    </tr>\n    <tr>\n      <th>23</th>\n      <td>2018-12-25 10:58:42.476592</td>\n      <td>2018-12-25 11:02:54.476592</td>\n      <td>113.162.208.193</td>\n    </tr>\n    <tr>\n      <th>24</th>\n      <td>2018-12-25 11:01:04.947973</td>\n      <td>2018-12-25 11:05:11.947973</td>\n      <td>49.76.49.155</td>\n    </tr>\n    <tr>\n      <th>25</th>\n      <td>2018-12-26 10:53:43.622708</td>\n      <td>2018-12-26 10:57:55.622708</td>\n      <td>25.215.139.208</td>\n    </tr>\n    <tr>\n      <th>26</th>\n      <td>2018-12-26 19:57:11.911521</td>\n      <td>2018-12-26 20:01:20.911521</td>\n      <td>196.229.137.227</td>\n    </tr>\n    <tr>\n      <th>27</th>\n      <td>2018-12-28 12:18:55.920246</td>\n      <td>2018-12-28 12:22:54.920246</td>\n      <td>209.190.162.180</td>\n    </tr>\n    <tr>\n      <th>28</th>\n      <td>2018-12-29 18:46:09.159686</td>\n      <td>2018-12-29 18:50:22.159686</td>\n      <td>78.6.154.160</td>\n    </tr>\n    <tr>\n      <th>29</th>\n      <td>2018-12-29 22:03:32.201530</td>\n      <td>2018-12-29 22:07:39.201530</td>\n      <td>211.41.206.218</td>\n    </tr>\n    <tr>\n      <th>30</th>\n      <td>2018-12-30 07:58:56.299054</td>\n      <td>2018-12-30 08:03:04.299054</td>\n      <td>151.19.160.7</td>\n    </tr>\n    <tr>\n      <th>31</th>\n      <td>2018-12-30 10:24:32.325926</td>\n      <td>2018-12-30 10:25:50.325926</td>\n      <td>42.36.247.249</td>\n    </tr>\n    <tr>\n      <th>32</th>\n      <td>2018-12-30 18:02:10.330542</td>\n      <td>2018-12-30 18:06:22.330542</td>\n      <td>31.166.161.10</td>\n    </tr>\n    <tr>\n      <th>33</th>\n      <td>2018-12-30 20:53:05.198396</td>\n      <td>2018-12-30 20:57:15.198396</td>\n      <td>216.47.145.212</td>\n    </tr>\n    <tr>\n      <th>34</th>\n      <td>2018-12-31 15:25:24.965666</td>\n      <td>2018-12-31 15:28:30.965666</td>\n      <td>220.140.156.223</td>\n    </tr>\n  </tbody>\n</table>\n</div>"
     },
     "metadata": {},
     "execution_count": 4
    }
   ],
   "source": [
    "import pandas as pd\n",
    "\n",
    "df = pd.read_csv(\"dec_2018_attacks.csv\")\n",
    "df"
   ]
  },
  {
   "cell_type": "code",
   "execution_count": 4,
   "metadata": {},
   "outputs": [
    {
     "name": "stdout",
     "output_type": "stream",
     "text": "<class 'pandas.core.frame.DataFrame'>\nRangeIndex: 35 entries, 0 to 34\nData columns (total 3 columns):\nstart        35 non-null object\nend          35 non-null object\nsource_ip    35 non-null object\ndtypes: object(3)\nmemory usage: 968.0+ bytes\n"
    }
   ],
   "source": [
    "df.info()"
   ]
  },
  {
   "cell_type": "code",
   "execution_count": 8,
   "metadata": {},
   "outputs": [
    {
     "data": {
      "text/plain": "0     True\n1     True\n2     True\n3     True\n4     True\n5     True\n6     True\n7     True\n8     True\n9     True\n10    True\n11    True\n12    True\n13    True\n14    True\n15    True\n16    True\n17    True\n18    True\n19    True\n20    True\n21    True\n22    True\n23    True\n24    True\n25    True\n26    True\n27    True\n28    True\n29    True\n30    True\n31    True\n32    True\n33    True\n34    True\nName: start, dtype: bool"
     },
     "execution_count": 8,
     "metadata": {},
     "output_type": "execute_result"
    }
   ],
   "source": [
    "df[\"start\"] > \"2018-01-01\"\n"
   ]
  },
  {
   "cell_type": "code",
   "execution_count": 7,
   "metadata": {},
   "outputs": [
    {
     "data": {
      "text/html": "<div>\n<style scoped>\n    .dataframe tbody tr th:only-of-type {\n        vertical-align: middle;\n    }\n\n    .dataframe tbody tr th {\n        vertical-align: top;\n    }\n\n    .dataframe thead th {\n        text-align: right;\n    }\n</style>\n<table border=\"1\" class=\"dataframe\">\n  <thead>\n    <tr style=\"text-align: right;\">\n      <th></th>\n      <th>start</th>\n      <th>end</th>\n      <th>source_ip</th>\n    </tr>\n  </thead>\n  <tbody>\n    <tr>\n      <td>0</td>\n      <td>2018-12-01 06:09:25.126252</td>\n      <td>2018-12-01 06:13:32.126252</td>\n      <td>87.106.250.46</td>\n    </tr>\n    <tr>\n      <td>1</td>\n      <td>2018-12-02 17:08:51.659516</td>\n      <td>2018-12-02 17:13:06.659516</td>\n      <td>124.100.154.251</td>\n    </tr>\n    <tr>\n      <td>2</td>\n      <td>2018-12-02 22:31:34.932660</td>\n      <td>2018-12-02 22:35:47.932660</td>\n      <td>162.193.160.52</td>\n    </tr>\n    <tr>\n      <td>3</td>\n      <td>2018-12-03 03:41:24.236627</td>\n      <td>2018-12-03 03:41:58.236627</td>\n      <td>3.187.98.222</td>\n    </tr>\n    <tr>\n      <td>4</td>\n      <td>2018-12-04 04:51:10.436412</td>\n      <td>2018-12-04 04:55:18.436412</td>\n      <td>12.203.107.201</td>\n    </tr>\n    <tr>\n      <td>5</td>\n      <td>2018-12-04 06:33:49.212236</td>\n      <td>2018-12-04 06:38:03.212236</td>\n      <td>189.129.85.67</td>\n    </tr>\n    <tr>\n      <td>6</td>\n      <td>2018-12-05 08:34:28.448176</td>\n      <td>2018-12-05 08:38:43.448176</td>\n      <td>130.0.243.199</td>\n    </tr>\n    <tr>\n      <td>7</td>\n      <td>2018-12-06 13:19:19.870073</td>\n      <td>2018-12-06 13:22:45.870073</td>\n      <td>119.224.29.115</td>\n    </tr>\n    <tr>\n      <td>8</td>\n      <td>2018-12-07 23:09:16.749674</td>\n      <td>2018-12-07 23:10:50.749674</td>\n      <td>81.169.193.182</td>\n    </tr>\n    <tr>\n      <td>9</td>\n      <td>2018-12-10 05:49:18.805774</td>\n      <td>2018-12-10 05:53:23.805774</td>\n      <td>184.99.196.253</td>\n    </tr>\n    <tr>\n      <td>10</td>\n      <td>2018-12-10 10:17:56.201382</td>\n      <td>2018-12-10 10:22:09.201382</td>\n      <td>96.187.45.99</td>\n    </tr>\n    <tr>\n      <td>11</td>\n      <td>2018-12-11 20:42:42.135463</td>\n      <td>2018-12-11 20:44:42.135463</td>\n      <td>232.159.100.161</td>\n    </tr>\n    <tr>\n      <td>12</td>\n      <td>2018-12-12 07:57:40.912757</td>\n      <td>2018-12-12 07:57:44.912757</td>\n      <td>214.199.76.60</td>\n    </tr>\n    <tr>\n      <td>13</td>\n      <td>2018-12-13 03:02:37.937394</td>\n      <td>2018-12-13 03:06:55.937394</td>\n      <td>185.2.99.58</td>\n    </tr>\n    <tr>\n      <td>14</td>\n      <td>2018-12-13 17:52:32.076269</td>\n      <td>2018-12-13 17:56:43.076269</td>\n      <td>153.60.249.72</td>\n    </tr>\n    <tr>\n      <td>15</td>\n      <td>2018-12-14 01:02:33.845786</td>\n      <td>2018-12-14 01:06:38.845786</td>\n      <td>122.197.157.59</td>\n    </tr>\n    <tr>\n      <td>16</td>\n      <td>2018-12-14 09:33:16.032817</td>\n      <td>2018-12-14 09:37:25.032817</td>\n      <td>121.147.201.245</td>\n    </tr>\n    <tr>\n      <td>17</td>\n      <td>2018-12-14 10:15:50.057193</td>\n      <td>2018-12-14 10:17:42.057193</td>\n      <td>115.94.212.74</td>\n    </tr>\n    <tr>\n      <td>18</td>\n      <td>2018-12-18 12:47:32.171941</td>\n      <td>2018-12-18 12:49:11.171941</td>\n      <td>121.90.233.205</td>\n    </tr>\n    <tr>\n      <td>19</td>\n      <td>2018-12-23 00:23:46.442783</td>\n      <td>2018-12-23 00:27:59.442783</td>\n      <td>48.85.35.228</td>\n    </tr>\n    <tr>\n      <td>20</td>\n      <td>2018-12-23 03:05:14.626905</td>\n      <td>2018-12-23 03:09:26.626905</td>\n      <td>62.38.152.194</td>\n    </tr>\n    <tr>\n      <td>21</td>\n      <td>2018-12-23 18:21:52.780180</td>\n      <td>2018-12-23 18:26:05.780180</td>\n      <td>8.46.128.35</td>\n    </tr>\n    <tr>\n      <td>22</td>\n      <td>2018-12-24 23:00:04.367951</td>\n      <td>2018-12-24 23:02:04.367951</td>\n      <td>97.32.235.17</td>\n    </tr>\n    <tr>\n      <td>23</td>\n      <td>2018-12-25 10:58:42.476592</td>\n      <td>2018-12-25 11:02:54.476592</td>\n      <td>113.162.208.193</td>\n    </tr>\n    <tr>\n      <td>24</td>\n      <td>2018-12-25 11:01:04.947973</td>\n      <td>2018-12-25 11:05:11.947973</td>\n      <td>49.76.49.155</td>\n    </tr>\n    <tr>\n      <td>25</td>\n      <td>2018-12-26 10:53:43.622708</td>\n      <td>2018-12-26 10:57:55.622708</td>\n      <td>25.215.139.208</td>\n    </tr>\n    <tr>\n      <td>26</td>\n      <td>2018-12-26 19:57:11.911521</td>\n      <td>2018-12-26 20:01:20.911521</td>\n      <td>196.229.137.227</td>\n    </tr>\n    <tr>\n      <td>27</td>\n      <td>2018-12-28 12:18:55.920246</td>\n      <td>2018-12-28 12:22:54.920246</td>\n      <td>209.190.162.180</td>\n    </tr>\n    <tr>\n      <td>28</td>\n      <td>2018-12-29 18:46:09.159686</td>\n      <td>2018-12-29 18:50:22.159686</td>\n      <td>78.6.154.160</td>\n    </tr>\n    <tr>\n      <td>29</td>\n      <td>2018-12-29 22:03:32.201530</td>\n      <td>2018-12-29 22:07:39.201530</td>\n      <td>211.41.206.218</td>\n    </tr>\n    <tr>\n      <td>30</td>\n      <td>2018-12-30 07:58:56.299054</td>\n      <td>2018-12-30 08:03:04.299054</td>\n      <td>151.19.160.7</td>\n    </tr>\n    <tr>\n      <td>31</td>\n      <td>2018-12-30 10:24:32.325926</td>\n      <td>2018-12-30 10:25:50.325926</td>\n      <td>42.36.247.249</td>\n    </tr>\n    <tr>\n      <td>32</td>\n      <td>2018-12-30 18:02:10.330542</td>\n      <td>2018-12-30 18:06:22.330542</td>\n      <td>31.166.161.10</td>\n    </tr>\n    <tr>\n      <td>33</td>\n      <td>2018-12-30 20:53:05.198396</td>\n      <td>2018-12-30 20:57:15.198396</td>\n      <td>216.47.145.212</td>\n    </tr>\n    <tr>\n      <td>34</td>\n      <td>2018-12-31 15:25:24.965666</td>\n      <td>2018-12-31 15:28:30.965666</td>\n      <td>220.140.156.223</td>\n    </tr>\n  </tbody>\n</table>\n</div>",
      "text/plain": "                         start                         end        source_ip\n0   2018-12-01 06:09:25.126252  2018-12-01 06:13:32.126252    87.106.250.46\n1   2018-12-02 17:08:51.659516  2018-12-02 17:13:06.659516  124.100.154.251\n2   2018-12-02 22:31:34.932660  2018-12-02 22:35:47.932660   162.193.160.52\n3   2018-12-03 03:41:24.236627  2018-12-03 03:41:58.236627     3.187.98.222\n4   2018-12-04 04:51:10.436412  2018-12-04 04:55:18.436412   12.203.107.201\n5   2018-12-04 06:33:49.212236  2018-12-04 06:38:03.212236    189.129.85.67\n6   2018-12-05 08:34:28.448176  2018-12-05 08:38:43.448176    130.0.243.199\n7   2018-12-06 13:19:19.870073  2018-12-06 13:22:45.870073   119.224.29.115\n8   2018-12-07 23:09:16.749674  2018-12-07 23:10:50.749674   81.169.193.182\n9   2018-12-10 05:49:18.805774  2018-12-10 05:53:23.805774   184.99.196.253\n10  2018-12-10 10:17:56.201382  2018-12-10 10:22:09.201382     96.187.45.99\n11  2018-12-11 20:42:42.135463  2018-12-11 20:44:42.135463  232.159.100.161\n12  2018-12-12 07:57:40.912757  2018-12-12 07:57:44.912757    214.199.76.60\n13  2018-12-13 03:02:37.937394  2018-12-13 03:06:55.937394      185.2.99.58\n14  2018-12-13 17:52:32.076269  2018-12-13 17:56:43.076269    153.60.249.72\n15  2018-12-14 01:02:33.845786  2018-12-14 01:06:38.845786   122.197.157.59\n16  2018-12-14 09:33:16.032817  2018-12-14 09:37:25.032817  121.147.201.245\n17  2018-12-14 10:15:50.057193  2018-12-14 10:17:42.057193    115.94.212.74\n18  2018-12-18 12:47:32.171941  2018-12-18 12:49:11.171941   121.90.233.205\n19  2018-12-23 00:23:46.442783  2018-12-23 00:27:59.442783     48.85.35.228\n20  2018-12-23 03:05:14.626905  2018-12-23 03:09:26.626905    62.38.152.194\n21  2018-12-23 18:21:52.780180  2018-12-23 18:26:05.780180      8.46.128.35\n22  2018-12-24 23:00:04.367951  2018-12-24 23:02:04.367951     97.32.235.17\n23  2018-12-25 10:58:42.476592  2018-12-25 11:02:54.476592  113.162.208.193\n24  2018-12-25 11:01:04.947973  2018-12-25 11:05:11.947973     49.76.49.155\n25  2018-12-26 10:53:43.622708  2018-12-26 10:57:55.622708   25.215.139.208\n26  2018-12-26 19:57:11.911521  2018-12-26 20:01:20.911521  196.229.137.227\n27  2018-12-28 12:18:55.920246  2018-12-28 12:22:54.920246  209.190.162.180\n28  2018-12-29 18:46:09.159686  2018-12-29 18:50:22.159686     78.6.154.160\n29  2018-12-29 22:03:32.201530  2018-12-29 22:07:39.201530   211.41.206.218\n30  2018-12-30 07:58:56.299054  2018-12-30 08:03:04.299054     151.19.160.7\n31  2018-12-30 10:24:32.325926  2018-12-30 10:25:50.325926    42.36.247.249\n32  2018-12-30 18:02:10.330542  2018-12-30 18:06:22.330542    31.166.161.10\n33  2018-12-30 20:53:05.198396  2018-12-30 20:57:15.198396   216.47.145.212\n34  2018-12-31 15:25:24.965666  2018-12-31 15:28:30.965666  220.140.156.223"
     },
     "execution_count": 7,
     "metadata": {},
     "output_type": "execute_result"
    }
   ],
   "source": [
    "df[df[\"start\"] > \"2018-01-01\"]\n"
   ]
  },
  {
   "cell_type": "code",
   "execution_count": 9,
   "metadata": {},
   "outputs": [
    {
     "data": {
      "text/html": "<div>\n<style scoped>\n    .dataframe tbody tr th:only-of-type {\n        vertical-align: middle;\n    }\n\n    .dataframe tbody tr th {\n        vertical-align: top;\n    }\n\n    .dataframe thead th {\n        text-align: right;\n    }\n</style>\n<table border=\"1\" class=\"dataframe\">\n  <thead>\n    <tr style=\"text-align: right;\">\n      <th></th>\n      <th>start</th>\n      <th>end</th>\n      <th>source_ip</th>\n    </tr>\n  </thead>\n  <tbody>\n    <tr>\n      <td>0</td>\n      <td>2018-12-01 06:09:25.126252</td>\n      <td>2018-12-01 06:13:32.126252</td>\n      <td>87.106.250.46</td>\n    </tr>\n  </tbody>\n</table>\n</div>",
      "text/plain": "                        start                         end      source_ip\n0  2018-12-01 06:09:25.126252  2018-12-01 06:13:32.126252  87.106.250.46"
     },
     "execution_count": 9,
     "metadata": {},
     "output_type": "execute_result"
    }
   ],
   "source": [
    "df[df[\"source_ip\"] == \"87.106.250.46\"]"
   ]
  },
  {
   "cell_type": "code",
   "execution_count": 10,
   "metadata": {},
   "outputs": [
    {
     "data": {
      "text/plain": "0      True\n1     False\n2     False\n3     False\n4     False\n5     False\n6     False\n7     False\n8     False\n9     False\n10    False\n11    False\n12    False\n13    False\n14    False\n15    False\n16    False\n17    False\n18    False\n19    False\n20    False\n21    False\n22    False\n23    False\n24    False\n25    False\n26    False\n27    False\n28    False\n29    False\n30    False\n31    False\n32    False\n33    False\n34    False\nName: source_ip, dtype: bool"
     },
     "execution_count": 10,
     "metadata": {},
     "output_type": "execute_result"
    }
   ],
   "source": [
    "df[\"source_ip\"] == \"87.106.250.46\""
   ]
  },
  {
   "cell_type": "code",
   "execution_count": 13,
   "metadata": {},
   "outputs": [
    {
     "name": "stdout",
     "output_type": "stream",
     "text": "Help on method groupby in module pandas.core.generic:\n\ngroupby(by=None, axis=0, level=None, as_index=True, sort=True, group_keys=True, squeeze=False, observed=False, **kwargs) method of pandas.core.frame.DataFrame instance\n    Group DataFrame or Series using a mapper or by a Series of columns.\n    \n    A groupby operation involves some combination of splitting the\n    object, applying a function, and combining the results. This can be\n    used to group large amounts of data and compute operations on these\n    groups.\n    \n    Parameters\n    ----------\n    by : mapping, function, label, or list of labels\n        Used to determine the groups for the groupby.\n        If ``by`` is a function, it's called on each value of the object's\n        index. If a dict or Series is passed, the Series or dict VALUES\n        will be used to determine the groups (the Series' values are first\n        aligned; see ``.align()`` method). If an ndarray is passed, the\n        values are used as-is determine the groups. A label or list of\n        labels may be passed to group by the columns in ``self``. Notice\n        that a tuple is interpreted as a (single) key.\n    axis : {0 or 'index', 1 or 'columns'}, default 0\n        Split along rows (0) or columns (1).\n    level : int, level name, or sequence of such, default None\n        If the axis is a MultiIndex (hierarchical), group by a particular\n        level or levels.\n    as_index : bool, default True\n        For aggregated output, return object with group labels as the\n        index. Only relevant for DataFrame input. as_index=False is\n        effectively \"SQL-style\" grouped output.\n    sort : bool, default True\n        Sort group keys. Get better performance by turning this off.\n        Note this does not influence the order of observations within each\n        group. Groupby preserves the order of rows within each group.\n    group_keys : bool, default True\n        When calling apply, add group keys to index to identify pieces.\n    squeeze : bool, default False\n        Reduce the dimensionality of the return type if possible,\n        otherwise return a consistent type.\n    observed : bool, default False\n        This only applies if any of the groupers are Categoricals.\n        If True: only show observed values for categorical groupers.\n        If False: show all values for categorical groupers.\n    \n        .. versionadded:: 0.23.0\n    \n    **kwargs\n        Optional, only accepts keyword argument 'mutated' and is passed\n        to groupby.\n    \n    Returns\n    -------\n    DataFrameGroupBy or SeriesGroupBy\n        Depends on the calling object and returns groupby object that\n        contains information about the groups.\n    \n    See Also\n    --------\n    resample : Convenience method for frequency conversion and resampling\n        of time series.\n    \n    Notes\n    -----\n    See the `user guide\n    <http://pandas.pydata.org/pandas-docs/stable/groupby.html>`_ for more.\n    \n    Examples\n    --------\n    >>> df = pd.DataFrame({'Animal': ['Falcon', 'Falcon',\n    ...                               'Parrot', 'Parrot'],\n    ...                    'Max Speed': [380., 370., 24., 26.]})\n    >>> df\n       Animal  Max Speed\n    0  Falcon      380.0\n    1  Falcon      370.0\n    2  Parrot       24.0\n    3  Parrot       26.0\n    >>> df.groupby(['Animal']).mean()\n            Max Speed\n    Animal\n    Falcon      375.0\n    Parrot       25.0\n    \n    **Hierarchical Indexes**\n    \n    We can groupby different levels of a hierarchical index\n    using the `level` parameter:\n    \n    >>> arrays = [['Falcon', 'Falcon', 'Parrot', 'Parrot'],\n    ...           ['Captive', 'Wild', 'Captive', 'Wild']]\n    >>> index = pd.MultiIndex.from_arrays(arrays, names=('Animal', 'Type'))\n    >>> df = pd.DataFrame({'Max Speed': [390., 350., 30., 20.]},\n    ...                   index=index)\n    >>> df\n                    Max Speed\n    Animal Type\n    Falcon Captive      390.0\n           Wild         350.0\n    Parrot Captive       30.0\n           Wild          20.0\n    >>> df.groupby(level=0).mean()\n            Max Speed\n    Animal\n    Falcon      370.0\n    Parrot       25.0\n    >>> df.groupby(level=1).mean()\n             Max Speed\n    Type\n    Captive      210.0\n    Wild         185.0\n\n"
    }
   ],
   "source": [
    "help(df.groupby)"
   ]
  },
  {
   "cell_type": "code",
   "execution_count": null,
   "metadata": {},
   "outputs": [],
   "source": [
    "< \n",
    ">\n",
    "<=\n",
    ">=\n",
    "==\n",
    "!="
   ]
  },
  {
   "cell_type": "code",
   "execution_count": null,
   "metadata": {},
   "outputs": [],
   "source": [
    "and -- &\n",
    "or -- |\n"
   ]
  },
  {
   "cell_type": "code",
   "execution_count": 1,
   "metadata": {
    "tags": []
   },
   "outputs": [
    {
     "output_type": "stream",
     "name": "stdout",
     "text": "Download ready.\n"
    }
   ],
   "source": [
    "import requests\n",
    "\n",
    "download_url = \"https://raw.githubusercontent.com/fivethirtyeight/data/master/nba-elo/nbaallelo.csv\"\n",
    "target_csv_path = \"nba_all_elo.csv\"\n",
    "\n",
    "response = requests.get(download_url)\n",
    "response.raise_for_status()    # Check that the request was successful\n",
    "with open(target_csv_path, \"wb\") as f:\n",
    "    f.write(response.content)\n",
    "print(\"Download ready.\")"
   ]
  },
  {
   "cell_type": "code",
   "execution_count": 2,
   "metadata": {},
   "outputs": [
    {
     "output_type": "error",
     "ename": "NameError",
     "evalue": "name 'pd' is not defined",
     "traceback": [
      "\u001b[1;31m---------------------------------------------------------------------------\u001b[0m",
      "\u001b[1;31mNameError\u001b[0m                                 Traceback (most recent call last)",
      "\u001b[1;32m<ipython-input-2-725e2cd14bfd>\u001b[0m in \u001b[0;36m<module>\u001b[1;34m\u001b[0m\n\u001b[1;32m----> 1\u001b[1;33m \u001b[0mnba\u001b[0m \u001b[1;33m=\u001b[0m \u001b[0mpd\u001b[0m\u001b[1;33m.\u001b[0m\u001b[0mread_csv\u001b[0m\u001b[1;33m(\u001b[0m\u001b[1;34m\"nba_all_elo.csv\"\u001b[0m\u001b[1;33m)\u001b[0m\u001b[1;33m\u001b[0m\u001b[0m\n\u001b[0m\u001b[0;32m      2\u001b[0m \u001b[0mnba\u001b[0m\u001b[1;33m\u001b[0m\u001b[0m\n",
      "\u001b[1;31mNameError\u001b[0m: name 'pd' is not defined"
     ]
    }
   ],
   "source": [
    "nba = pd.read_csv(\"nba_all_elo.csv\")\n",
    "nba"
   ]
  },
  {
   "cell_type": "code",
   "execution_count": 17,
   "metadata": {},
   "outputs": [],
   "source": [
    "pd.set_option(\"display.max.columns\", None)\n"
   ]
  },
  {
   "cell_type": "code",
   "execution_count": 18,
   "metadata": {},
   "outputs": [
    {
     "data": {
      "text/html": "<div>\n<style scoped>\n    .dataframe tbody tr th:only-of-type {\n        vertical-align: middle;\n    }\n\n    .dataframe tbody tr th {\n        vertical-align: top;\n    }\n\n    .dataframe thead th {\n        text-align: right;\n    }\n</style>\n<table border=\"1\" class=\"dataframe\">\n  <thead>\n    <tr style=\"text-align: right;\">\n      <th></th>\n      <th>gameorder</th>\n      <th>game_id</th>\n      <th>lg_id</th>\n      <th>_iscopy</th>\n      <th>year_id</th>\n      <th>date_game</th>\n      <th>seasongame</th>\n      <th>is_playoffs</th>\n      <th>team_id</th>\n      <th>fran_id</th>\n      <th>pts</th>\n      <th>elo_i</th>\n      <th>elo_n</th>\n      <th>win_equiv</th>\n      <th>opp_id</th>\n      <th>opp_fran</th>\n      <th>opp_pts</th>\n      <th>opp_elo_i</th>\n      <th>opp_elo_n</th>\n      <th>game_location</th>\n      <th>game_result</th>\n      <th>forecast</th>\n      <th>notes</th>\n    </tr>\n  </thead>\n  <tbody>\n    <tr>\n      <td>0</td>\n      <td>1</td>\n      <td>194611010TRH</td>\n      <td>NBA</td>\n      <td>0</td>\n      <td>1947</td>\n      <td>11/1/1946</td>\n      <td>1</td>\n      <td>0</td>\n      <td>TRH</td>\n      <td>Huskies</td>\n      <td>66</td>\n      <td>1300.0000</td>\n      <td>1293.2767</td>\n      <td>40.294830</td>\n      <td>NYK</td>\n      <td>Knicks</td>\n      <td>68</td>\n      <td>1300.0000</td>\n      <td>1306.7233</td>\n      <td>H</td>\n      <td>L</td>\n      <td>0.640065</td>\n      <td>NaN</td>\n    </tr>\n    <tr>\n      <td>1</td>\n      <td>1</td>\n      <td>194611010TRH</td>\n      <td>NBA</td>\n      <td>1</td>\n      <td>1947</td>\n      <td>11/1/1946</td>\n      <td>1</td>\n      <td>0</td>\n      <td>NYK</td>\n      <td>Knicks</td>\n      <td>68</td>\n      <td>1300.0000</td>\n      <td>1306.7233</td>\n      <td>41.705170</td>\n      <td>TRH</td>\n      <td>Huskies</td>\n      <td>66</td>\n      <td>1300.0000</td>\n      <td>1293.2767</td>\n      <td>A</td>\n      <td>W</td>\n      <td>0.359935</td>\n      <td>NaN</td>\n    </tr>\n    <tr>\n      <td>2</td>\n      <td>2</td>\n      <td>194611020CHS</td>\n      <td>NBA</td>\n      <td>0</td>\n      <td>1947</td>\n      <td>11/2/1946</td>\n      <td>1</td>\n      <td>0</td>\n      <td>CHS</td>\n      <td>Stags</td>\n      <td>63</td>\n      <td>1300.0000</td>\n      <td>1309.6521</td>\n      <td>42.012257</td>\n      <td>NYK</td>\n      <td>Knicks</td>\n      <td>47</td>\n      <td>1306.7233</td>\n      <td>1297.0712</td>\n      <td>H</td>\n      <td>W</td>\n      <td>0.631101</td>\n      <td>NaN</td>\n    </tr>\n    <tr>\n      <td>3</td>\n      <td>2</td>\n      <td>194611020CHS</td>\n      <td>NBA</td>\n      <td>1</td>\n      <td>1947</td>\n      <td>11/2/1946</td>\n      <td>2</td>\n      <td>0</td>\n      <td>NYK</td>\n      <td>Knicks</td>\n      <td>47</td>\n      <td>1306.7233</td>\n      <td>1297.0712</td>\n      <td>40.692783</td>\n      <td>CHS</td>\n      <td>Stags</td>\n      <td>63</td>\n      <td>1300.0000</td>\n      <td>1309.6521</td>\n      <td>A</td>\n      <td>L</td>\n      <td>0.368899</td>\n      <td>NaN</td>\n    </tr>\n    <tr>\n      <td>4</td>\n      <td>3</td>\n      <td>194611020DTF</td>\n      <td>NBA</td>\n      <td>0</td>\n      <td>1947</td>\n      <td>11/2/1946</td>\n      <td>1</td>\n      <td>0</td>\n      <td>DTF</td>\n      <td>Falcons</td>\n      <td>33</td>\n      <td>1300.0000</td>\n      <td>1279.6189</td>\n      <td>38.864048</td>\n      <td>WSC</td>\n      <td>Capitols</td>\n      <td>50</td>\n      <td>1300.0000</td>\n      <td>1320.3811</td>\n      <td>H</td>\n      <td>L</td>\n      <td>0.640065</td>\n      <td>NaN</td>\n    </tr>\n    <tr>\n      <td>...</td>\n      <td>...</td>\n      <td>...</td>\n      <td>...</td>\n      <td>...</td>\n      <td>...</td>\n      <td>...</td>\n      <td>...</td>\n      <td>...</td>\n      <td>...</td>\n      <td>...</td>\n      <td>...</td>\n      <td>...</td>\n      <td>...</td>\n      <td>...</td>\n      <td>...</td>\n      <td>...</td>\n      <td>...</td>\n      <td>...</td>\n      <td>...</td>\n      <td>...</td>\n      <td>...</td>\n      <td>...</td>\n      <td>...</td>\n    </tr>\n    <tr>\n      <td>126309</td>\n      <td>63155</td>\n      <td>201506110CLE</td>\n      <td>NBA</td>\n      <td>0</td>\n      <td>2015</td>\n      <td>6/11/2015</td>\n      <td>100</td>\n      <td>1</td>\n      <td>CLE</td>\n      <td>Cavaliers</td>\n      <td>82</td>\n      <td>1723.4149</td>\n      <td>1704.3949</td>\n      <td>60.309792</td>\n      <td>GSW</td>\n      <td>Warriors</td>\n      <td>103</td>\n      <td>1790.9591</td>\n      <td>1809.9791</td>\n      <td>H</td>\n      <td>L</td>\n      <td>0.546572</td>\n      <td>NaN</td>\n    </tr>\n    <tr>\n      <td>126310</td>\n      <td>63156</td>\n      <td>201506140GSW</td>\n      <td>NBA</td>\n      <td>0</td>\n      <td>2015</td>\n      <td>6/14/2015</td>\n      <td>102</td>\n      <td>1</td>\n      <td>GSW</td>\n      <td>Warriors</td>\n      <td>104</td>\n      <td>1809.9791</td>\n      <td>1813.6349</td>\n      <td>68.013329</td>\n      <td>CLE</td>\n      <td>Cavaliers</td>\n      <td>91</td>\n      <td>1704.3949</td>\n      <td>1700.7391</td>\n      <td>H</td>\n      <td>W</td>\n      <td>0.765565</td>\n      <td>NaN</td>\n    </tr>\n    <tr>\n      <td>126311</td>\n      <td>63156</td>\n      <td>201506140GSW</td>\n      <td>NBA</td>\n      <td>1</td>\n      <td>2015</td>\n      <td>6/14/2015</td>\n      <td>101</td>\n      <td>1</td>\n      <td>CLE</td>\n      <td>Cavaliers</td>\n      <td>91</td>\n      <td>1704.3949</td>\n      <td>1700.7391</td>\n      <td>60.010067</td>\n      <td>GSW</td>\n      <td>Warriors</td>\n      <td>104</td>\n      <td>1809.9791</td>\n      <td>1813.6349</td>\n      <td>A</td>\n      <td>L</td>\n      <td>0.234435</td>\n      <td>NaN</td>\n    </tr>\n    <tr>\n      <td>126312</td>\n      <td>63157</td>\n      <td>201506170CLE</td>\n      <td>NBA</td>\n      <td>0</td>\n      <td>2015</td>\n      <td>6/16/2015</td>\n      <td>102</td>\n      <td>1</td>\n      <td>CLE</td>\n      <td>Cavaliers</td>\n      <td>97</td>\n      <td>1700.7391</td>\n      <td>1692.0859</td>\n      <td>59.290245</td>\n      <td>GSW</td>\n      <td>Warriors</td>\n      <td>105</td>\n      <td>1813.6349</td>\n      <td>1822.2881</td>\n      <td>H</td>\n      <td>L</td>\n      <td>0.481450</td>\n      <td>NaN</td>\n    </tr>\n    <tr>\n      <td>126313</td>\n      <td>63157</td>\n      <td>201506170CLE</td>\n      <td>NBA</td>\n      <td>1</td>\n      <td>2015</td>\n      <td>6/16/2015</td>\n      <td>103</td>\n      <td>1</td>\n      <td>GSW</td>\n      <td>Warriors</td>\n      <td>105</td>\n      <td>1813.6349</td>\n      <td>1822.2881</td>\n      <td>68.519516</td>\n      <td>CLE</td>\n      <td>Cavaliers</td>\n      <td>97</td>\n      <td>1700.7391</td>\n      <td>1692.0859</td>\n      <td>A</td>\n      <td>W</td>\n      <td>0.518550</td>\n      <td>NaN</td>\n    </tr>\n  </tbody>\n</table>\n<p>126314 rows × 23 columns</p>\n</div>",
      "text/plain": "        gameorder       game_id lg_id  _iscopy  year_id  date_game  \\\n0               1  194611010TRH   NBA        0     1947  11/1/1946   \n1               1  194611010TRH   NBA        1     1947  11/1/1946   \n2               2  194611020CHS   NBA        0     1947  11/2/1946   \n3               2  194611020CHS   NBA        1     1947  11/2/1946   \n4               3  194611020DTF   NBA        0     1947  11/2/1946   \n...           ...           ...   ...      ...      ...        ...   \n126309      63155  201506110CLE   NBA        0     2015  6/11/2015   \n126310      63156  201506140GSW   NBA        0     2015  6/14/2015   \n126311      63156  201506140GSW   NBA        1     2015  6/14/2015   \n126312      63157  201506170CLE   NBA        0     2015  6/16/2015   \n126313      63157  201506170CLE   NBA        1     2015  6/16/2015   \n\n        seasongame  is_playoffs team_id    fran_id  pts      elo_i      elo_n  \\\n0                1            0     TRH    Huskies   66  1300.0000  1293.2767   \n1                1            0     NYK     Knicks   68  1300.0000  1306.7233   \n2                1            0     CHS      Stags   63  1300.0000  1309.6521   \n3                2            0     NYK     Knicks   47  1306.7233  1297.0712   \n4                1            0     DTF    Falcons   33  1300.0000  1279.6189   \n...            ...          ...     ...        ...  ...        ...        ...   \n126309         100            1     CLE  Cavaliers   82  1723.4149  1704.3949   \n126310         102            1     GSW   Warriors  104  1809.9791  1813.6349   \n126311         101            1     CLE  Cavaliers   91  1704.3949  1700.7391   \n126312         102            1     CLE  Cavaliers   97  1700.7391  1692.0859   \n126313         103            1     GSW   Warriors  105  1813.6349  1822.2881   \n\n        win_equiv opp_id   opp_fran  opp_pts  opp_elo_i  opp_elo_n  \\\n0       40.294830    NYK     Knicks       68  1300.0000  1306.7233   \n1       41.705170    TRH    Huskies       66  1300.0000  1293.2767   \n2       42.012257    NYK     Knicks       47  1306.7233  1297.0712   \n3       40.692783    CHS      Stags       63  1300.0000  1309.6521   \n4       38.864048    WSC   Capitols       50  1300.0000  1320.3811   \n...           ...    ...        ...      ...        ...        ...   \n126309  60.309792    GSW   Warriors      103  1790.9591  1809.9791   \n126310  68.013329    CLE  Cavaliers       91  1704.3949  1700.7391   \n126311  60.010067    GSW   Warriors      104  1809.9791  1813.6349   \n126312  59.290245    GSW   Warriors      105  1813.6349  1822.2881   \n126313  68.519516    CLE  Cavaliers       97  1700.7391  1692.0859   \n\n       game_location game_result  forecast notes  \n0                  H           L  0.640065   NaN  \n1                  A           W  0.359935   NaN  \n2                  H           W  0.631101   NaN  \n3                  A           L  0.368899   NaN  \n4                  H           L  0.640065   NaN  \n...              ...         ...       ...   ...  \n126309             H           L  0.546572   NaN  \n126310             H           W  0.765565   NaN  \n126311             A           L  0.234435   NaN  \n126312             H           L  0.481450   NaN  \n126313             A           W  0.518550   NaN  \n\n[126314 rows x 23 columns]"
     },
     "execution_count": 18,
     "metadata": {},
     "output_type": "execute_result"
    }
   ],
   "source": [
    "nba"
   ]
  },
  {
   "cell_type": "code",
   "execution_count": 19,
   "metadata": {},
   "outputs": [
    {
     "name": "stdout",
     "output_type": "stream",
     "text": "<class 'pandas.core.frame.DataFrame'>\nRangeIndex: 126314 entries, 0 to 126313\nData columns (total 23 columns):\ngameorder        126314 non-null int64\ngame_id          126314 non-null object\nlg_id            126314 non-null object\n_iscopy          126314 non-null int64\nyear_id          126314 non-null int64\ndate_game        126314 non-null object\nseasongame       126314 non-null int64\nis_playoffs      126314 non-null int64\nteam_id          126314 non-null object\nfran_id          126314 non-null object\npts              126314 non-null int64\nelo_i            126314 non-null float64\nelo_n            126314 non-null float64\nwin_equiv        126314 non-null float64\nopp_id           126314 non-null object\nopp_fran         126314 non-null object\nopp_pts          126314 non-null int64\nopp_elo_i        126314 non-null float64\nopp_elo_n        126314 non-null float64\ngame_location    126314 non-null object\ngame_result      126314 non-null object\nforecast         126314 non-null float64\nnotes            5424 non-null object\ndtypes: float64(6), int64(7), object(10)\nmemory usage: 22.2+ MB\n"
    }
   ],
   "source": [
    "nba.info()"
   ]
  },
  {
   "cell_type": "code",
   "execution_count": 29,
   "metadata": {},
   "outputs": [
    {
     "data": {
      "text/html": "<div>\n<style scoped>\n    .dataframe tbody tr th:only-of-type {\n        vertical-align: middle;\n    }\n\n    .dataframe tbody tr th {\n        vertical-align: top;\n    }\n\n    .dataframe thead th {\n        text-align: right;\n    }\n</style>\n<table border=\"1\" class=\"dataframe\">\n  <thead>\n    <tr style=\"text-align: right;\">\n      <th></th>\n      <th></th>\n      <th>gameorder</th>\n      <th>game_id</th>\n      <th>lg_id</th>\n      <th>_iscopy</th>\n      <th>date_game</th>\n      <th>seasongame</th>\n      <th>is_playoffs</th>\n      <th>team_id</th>\n      <th>fran_id</th>\n      <th>pts</th>\n      <th>elo_i</th>\n      <th>elo_n</th>\n      <th>win_equiv</th>\n      <th>opp_id</th>\n      <th>opp_fran</th>\n      <th>opp_pts</th>\n      <th>opp_elo_i</th>\n      <th>opp_elo_n</th>\n      <th>game_location</th>\n      <th>forecast</th>\n      <th>notes</th>\n    </tr>\n    <tr>\n      <th>year_id</th>\n      <th>game_result</th>\n      <th></th>\n      <th></th>\n      <th></th>\n      <th></th>\n      <th></th>\n      <th></th>\n      <th></th>\n      <th></th>\n      <th></th>\n      <th></th>\n      <th></th>\n      <th></th>\n      <th></th>\n      <th></th>\n      <th></th>\n      <th></th>\n      <th></th>\n      <th></th>\n      <th></th>\n      <th></th>\n      <th></th>\n    </tr>\n  </thead>\n  <tbody>\n    <tr>\n      <td rowspan=\"2\" valign=\"top\">2011</td>\n      <td>L</td>\n      <td>25</td>\n      <td>25</td>\n      <td>25</td>\n      <td>25</td>\n      <td>25</td>\n      <td>25</td>\n      <td>25</td>\n      <td>25</td>\n      <td>25</td>\n      <td>25</td>\n      <td>25</td>\n      <td>25</td>\n      <td>25</td>\n      <td>25</td>\n      <td>25</td>\n      <td>25</td>\n      <td>25</td>\n      <td>25</td>\n      <td>25</td>\n      <td>25</td>\n      <td>0</td>\n    </tr>\n    <tr>\n      <td>W</td>\n      <td>63</td>\n      <td>63</td>\n      <td>63</td>\n      <td>63</td>\n      <td>63</td>\n      <td>63</td>\n      <td>63</td>\n      <td>63</td>\n      <td>63</td>\n      <td>63</td>\n      <td>63</td>\n      <td>63</td>\n      <td>63</td>\n      <td>63</td>\n      <td>63</td>\n      <td>63</td>\n      <td>63</td>\n      <td>63</td>\n      <td>63</td>\n      <td>63</td>\n      <td>0</td>\n    </tr>\n    <tr>\n      <td rowspan=\"2\" valign=\"top\">2012</td>\n      <td>L</td>\n      <td>20</td>\n      <td>20</td>\n      <td>20</td>\n      <td>20</td>\n      <td>20</td>\n      <td>20</td>\n      <td>20</td>\n      <td>20</td>\n      <td>20</td>\n      <td>20</td>\n      <td>20</td>\n      <td>20</td>\n      <td>20</td>\n      <td>20</td>\n      <td>20</td>\n      <td>20</td>\n      <td>20</td>\n      <td>20</td>\n      <td>20</td>\n      <td>20</td>\n      <td>0</td>\n    </tr>\n    <tr>\n      <td>W</td>\n      <td>60</td>\n      <td>60</td>\n      <td>60</td>\n      <td>60</td>\n      <td>60</td>\n      <td>60</td>\n      <td>60</td>\n      <td>60</td>\n      <td>60</td>\n      <td>60</td>\n      <td>60</td>\n      <td>60</td>\n      <td>60</td>\n      <td>60</td>\n      <td>60</td>\n      <td>60</td>\n      <td>60</td>\n      <td>60</td>\n      <td>60</td>\n      <td>60</td>\n      <td>0</td>\n    </tr>\n    <tr>\n      <td rowspan=\"2\" valign=\"top\">2013</td>\n      <td>L</td>\n      <td>30</td>\n      <td>30</td>\n      <td>30</td>\n      <td>30</td>\n      <td>30</td>\n      <td>30</td>\n      <td>30</td>\n      <td>30</td>\n      <td>30</td>\n      <td>30</td>\n      <td>30</td>\n      <td>30</td>\n      <td>30</td>\n      <td>30</td>\n      <td>30</td>\n      <td>30</td>\n      <td>30</td>\n      <td>30</td>\n      <td>30</td>\n      <td>30</td>\n      <td>0</td>\n    </tr>\n    <tr>\n      <td>W</td>\n      <td>73</td>\n      <td>73</td>\n      <td>73</td>\n      <td>73</td>\n      <td>73</td>\n      <td>73</td>\n      <td>73</td>\n      <td>73</td>\n      <td>73</td>\n      <td>73</td>\n      <td>73</td>\n      <td>73</td>\n      <td>73</td>\n      <td>73</td>\n      <td>73</td>\n      <td>73</td>\n      <td>73</td>\n      <td>73</td>\n      <td>73</td>\n      <td>73</td>\n      <td>0</td>\n    </tr>\n    <tr>\n      <td rowspan=\"2\" valign=\"top\">2014</td>\n      <td>L</td>\n      <td>27</td>\n      <td>27</td>\n      <td>27</td>\n      <td>27</td>\n      <td>27</td>\n      <td>27</td>\n      <td>27</td>\n      <td>27</td>\n      <td>27</td>\n      <td>27</td>\n      <td>27</td>\n      <td>27</td>\n      <td>27</td>\n      <td>27</td>\n      <td>27</td>\n      <td>27</td>\n      <td>27</td>\n      <td>27</td>\n      <td>27</td>\n      <td>27</td>\n      <td>0</td>\n    </tr>\n    <tr>\n      <td>W</td>\n      <td>78</td>\n      <td>78</td>\n      <td>78</td>\n      <td>78</td>\n      <td>78</td>\n      <td>78</td>\n      <td>78</td>\n      <td>78</td>\n      <td>78</td>\n      <td>78</td>\n      <td>78</td>\n      <td>78</td>\n      <td>78</td>\n      <td>78</td>\n      <td>78</td>\n      <td>78</td>\n      <td>78</td>\n      <td>78</td>\n      <td>78</td>\n      <td>78</td>\n      <td>0</td>\n    </tr>\n    <tr>\n      <td rowspan=\"2\" valign=\"top\">2015</td>\n      <td>L</td>\n      <td>31</td>\n      <td>31</td>\n      <td>31</td>\n      <td>31</td>\n      <td>31</td>\n      <td>31</td>\n      <td>31</td>\n      <td>31</td>\n      <td>31</td>\n      <td>31</td>\n      <td>31</td>\n      <td>31</td>\n      <td>31</td>\n      <td>31</td>\n      <td>31</td>\n      <td>31</td>\n      <td>31</td>\n      <td>31</td>\n      <td>31</td>\n      <td>31</td>\n      <td>0</td>\n    </tr>\n    <tr>\n      <td>W</td>\n      <td>58</td>\n      <td>58</td>\n      <td>58</td>\n      <td>58</td>\n      <td>58</td>\n      <td>58</td>\n      <td>58</td>\n      <td>58</td>\n      <td>58</td>\n      <td>58</td>\n      <td>58</td>\n      <td>58</td>\n      <td>58</td>\n      <td>58</td>\n      <td>58</td>\n      <td>58</td>\n      <td>58</td>\n      <td>58</td>\n      <td>58</td>\n      <td>58</td>\n      <td>0</td>\n    </tr>\n  </tbody>\n</table>\n</div>",
      "text/plain": "                     gameorder  game_id  lg_id  _iscopy  date_game  \\\nyear_id game_result                                                  \n2011    L                   25       25     25       25         25   \n        W                   63       63     63       63         63   \n2012    L                   20       20     20       20         20   \n        W                   60       60     60       60         60   \n2013    L                   30       30     30       30         30   \n        W                   73       73     73       73         73   \n2014    L                   27       27     27       27         27   \n        W                   78       78     78       78         78   \n2015    L                   31       31     31       31         31   \n        W                   58       58     58       58         58   \n\n                     seasongame  is_playoffs  team_id  fran_id  pts  elo_i  \\\nyear_id game_result                                                          \n2011    L                    25           25       25       25   25     25   \n        W                    63           63       63       63   63     63   \n2012    L                    20           20       20       20   20     20   \n        W                    60           60       60       60   60     60   \n2013    L                    30           30       30       30   30     30   \n        W                    73           73       73       73   73     73   \n2014    L                    27           27       27       27   27     27   \n        W                    78           78       78       78   78     78   \n2015    L                    31           31       31       31   31     31   \n        W                    58           58       58       58   58     58   \n\n                     elo_n  win_equiv  opp_id  opp_fran  opp_pts  opp_elo_i  \\\nyear_id game_result                                                           \n2011    L               25         25      25        25       25         25   \n        W               63         63      63        63       63         63   \n2012    L               20         20      20        20       20         20   \n        W               60         60      60        60       60         60   \n2013    L               30         30      30        30       30         30   \n        W               73         73      73        73       73         73   \n2014    L               27         27      27        27       27         27   \n        W               78         78      78        78       78         78   \n2015    L               31         31      31        31       31         31   \n        W               58         58      58        58       58         58   \n\n                     opp_elo_n  game_location  forecast  notes  \nyear_id game_result                                             \n2011    L                   25             25        25      0  \n        W                   63             63        63      0  \n2012    L                   20             20        20      0  \n        W                   60             60        60      0  \n2013    L                   30             30        30      0  \n        W                   73             73        73      0  \n2014    L                   27             27        27      0  \n        W                   78             78        78      0  \n2015    L                   31             31        31      0  \n        W                   58             58        58      0  "
     },
     "execution_count": 29,
     "metadata": {},
     "output_type": "execute_result"
    }
   ],
   "source": [
    "nba[\n",
    "    (nba[\"fran_id\"] == \"Spurs\") &\n",
    "    (nba[\"year_id\"] > 2010) \n",
    "].groupby([\"year_id\", \"game_result\"]).count()"
   ]
  },
  {
   "cell_type": "code",
   "execution_count": 38,
   "metadata": {},
   "outputs": [],
   "source": [
    "nba[\"difference\"] = nba.pts - nba.opp_pts"
   ]
  },
  {
   "cell_type": "code",
   "execution_count": 39,
   "metadata": {},
   "outputs": [
    {
     "data": {
      "text/html": "<div>\n<style scoped>\n    .dataframe tbody tr th:only-of-type {\n        vertical-align: middle;\n    }\n\n    .dataframe tbody tr th {\n        vertical-align: top;\n    }\n\n    .dataframe thead th {\n        text-align: right;\n    }\n</style>\n<table border=\"1\" class=\"dataframe\">\n  <thead>\n    <tr style=\"text-align: right;\">\n      <th></th>\n      <th>gameorder</th>\n      <th>game_id</th>\n      <th>lg_id</th>\n      <th>_iscopy</th>\n      <th>year_id</th>\n      <th>date_game</th>\n      <th>seasongame</th>\n      <th>is_playoffs</th>\n      <th>team_id</th>\n      <th>fran_id</th>\n      <th>pts</th>\n      <th>elo_i</th>\n      <th>elo_n</th>\n      <th>win_equiv</th>\n      <th>opp_id</th>\n      <th>opp_fran</th>\n      <th>opp_pts</th>\n      <th>opp_elo_i</th>\n      <th>opp_elo_n</th>\n      <th>game_location</th>\n      <th>game_result</th>\n      <th>forecast</th>\n      <th>notes</th>\n      <th>difference</th>\n    </tr>\n  </thead>\n  <tbody>\n    <tr>\n      <td>0</td>\n      <td>1</td>\n      <td>194611010TRH</td>\n      <td>NBA</td>\n      <td>0</td>\n      <td>1947</td>\n      <td>11/1/1946</td>\n      <td>1</td>\n      <td>0</td>\n      <td>TRH</td>\n      <td>Huskies</td>\n      <td>66</td>\n      <td>1300.0000</td>\n      <td>1293.2767</td>\n      <td>40.294830</td>\n      <td>NYK</td>\n      <td>Knicks</td>\n      <td>68</td>\n      <td>1300.0000</td>\n      <td>1306.7233</td>\n      <td>H</td>\n      <td>L</td>\n      <td>0.640065</td>\n      <td>NaN</td>\n      <td>-2</td>\n    </tr>\n    <tr>\n      <td>1</td>\n      <td>1</td>\n      <td>194611010TRH</td>\n      <td>NBA</td>\n      <td>1</td>\n      <td>1947</td>\n      <td>11/1/1946</td>\n      <td>1</td>\n      <td>0</td>\n      <td>NYK</td>\n      <td>Knicks</td>\n      <td>68</td>\n      <td>1300.0000</td>\n      <td>1306.7233</td>\n      <td>41.705170</td>\n      <td>TRH</td>\n      <td>Huskies</td>\n      <td>66</td>\n      <td>1300.0000</td>\n      <td>1293.2767</td>\n      <td>A</td>\n      <td>W</td>\n      <td>0.359935</td>\n      <td>NaN</td>\n      <td>2</td>\n    </tr>\n    <tr>\n      <td>2</td>\n      <td>2</td>\n      <td>194611020CHS</td>\n      <td>NBA</td>\n      <td>0</td>\n      <td>1947</td>\n      <td>11/2/1946</td>\n      <td>1</td>\n      <td>0</td>\n      <td>CHS</td>\n      <td>Stags</td>\n      <td>63</td>\n      <td>1300.0000</td>\n      <td>1309.6521</td>\n      <td>42.012257</td>\n      <td>NYK</td>\n      <td>Knicks</td>\n      <td>47</td>\n      <td>1306.7233</td>\n      <td>1297.0712</td>\n      <td>H</td>\n      <td>W</td>\n      <td>0.631101</td>\n      <td>NaN</td>\n      <td>16</td>\n    </tr>\n    <tr>\n      <td>3</td>\n      <td>2</td>\n      <td>194611020CHS</td>\n      <td>NBA</td>\n      <td>1</td>\n      <td>1947</td>\n      <td>11/2/1946</td>\n      <td>2</td>\n      <td>0</td>\n      <td>NYK</td>\n      <td>Knicks</td>\n      <td>47</td>\n      <td>1306.7233</td>\n      <td>1297.0712</td>\n      <td>40.692783</td>\n      <td>CHS</td>\n      <td>Stags</td>\n      <td>63</td>\n      <td>1300.0000</td>\n      <td>1309.6521</td>\n      <td>A</td>\n      <td>L</td>\n      <td>0.368899</td>\n      <td>NaN</td>\n      <td>-16</td>\n    </tr>\n    <tr>\n      <td>4</td>\n      <td>3</td>\n      <td>194611020DTF</td>\n      <td>NBA</td>\n      <td>0</td>\n      <td>1947</td>\n      <td>11/2/1946</td>\n      <td>1</td>\n      <td>0</td>\n      <td>DTF</td>\n      <td>Falcons</td>\n      <td>33</td>\n      <td>1300.0000</td>\n      <td>1279.6189</td>\n      <td>38.864048</td>\n      <td>WSC</td>\n      <td>Capitols</td>\n      <td>50</td>\n      <td>1300.0000</td>\n      <td>1320.3811</td>\n      <td>H</td>\n      <td>L</td>\n      <td>0.640065</td>\n      <td>NaN</td>\n      <td>-17</td>\n    </tr>\n    <tr>\n      <td>...</td>\n      <td>...</td>\n      <td>...</td>\n      <td>...</td>\n      <td>...</td>\n      <td>...</td>\n      <td>...</td>\n      <td>...</td>\n      <td>...</td>\n      <td>...</td>\n      <td>...</td>\n      <td>...</td>\n      <td>...</td>\n      <td>...</td>\n      <td>...</td>\n      <td>...</td>\n      <td>...</td>\n      <td>...</td>\n      <td>...</td>\n      <td>...</td>\n      <td>...</td>\n      <td>...</td>\n      <td>...</td>\n      <td>...</td>\n      <td>...</td>\n    </tr>\n    <tr>\n      <td>126309</td>\n      <td>63155</td>\n      <td>201506110CLE</td>\n      <td>NBA</td>\n      <td>0</td>\n      <td>2015</td>\n      <td>6/11/2015</td>\n      <td>100</td>\n      <td>1</td>\n      <td>CLE</td>\n      <td>Cavaliers</td>\n      <td>82</td>\n      <td>1723.4149</td>\n      <td>1704.3949</td>\n      <td>60.309792</td>\n      <td>GSW</td>\n      <td>Warriors</td>\n      <td>103</td>\n      <td>1790.9591</td>\n      <td>1809.9791</td>\n      <td>H</td>\n      <td>L</td>\n      <td>0.546572</td>\n      <td>NaN</td>\n      <td>-21</td>\n    </tr>\n    <tr>\n      <td>126310</td>\n      <td>63156</td>\n      <td>201506140GSW</td>\n      <td>NBA</td>\n      <td>0</td>\n      <td>2015</td>\n      <td>6/14/2015</td>\n      <td>102</td>\n      <td>1</td>\n      <td>GSW</td>\n      <td>Warriors</td>\n      <td>104</td>\n      <td>1809.9791</td>\n      <td>1813.6349</td>\n      <td>68.013329</td>\n      <td>CLE</td>\n      <td>Cavaliers</td>\n      <td>91</td>\n      <td>1704.3949</td>\n      <td>1700.7391</td>\n      <td>H</td>\n      <td>W</td>\n      <td>0.765565</td>\n      <td>NaN</td>\n      <td>13</td>\n    </tr>\n    <tr>\n      <td>126311</td>\n      <td>63156</td>\n      <td>201506140GSW</td>\n      <td>NBA</td>\n      <td>1</td>\n      <td>2015</td>\n      <td>6/14/2015</td>\n      <td>101</td>\n      <td>1</td>\n      <td>CLE</td>\n      <td>Cavaliers</td>\n      <td>91</td>\n      <td>1704.3949</td>\n      <td>1700.7391</td>\n      <td>60.010067</td>\n      <td>GSW</td>\n      <td>Warriors</td>\n      <td>104</td>\n      <td>1809.9791</td>\n      <td>1813.6349</td>\n      <td>A</td>\n      <td>L</td>\n      <td>0.234435</td>\n      <td>NaN</td>\n      <td>-13</td>\n    </tr>\n    <tr>\n      <td>126312</td>\n      <td>63157</td>\n      <td>201506170CLE</td>\n      <td>NBA</td>\n      <td>0</td>\n      <td>2015</td>\n      <td>6/16/2015</td>\n      <td>102</td>\n      <td>1</td>\n      <td>CLE</td>\n      <td>Cavaliers</td>\n      <td>97</td>\n      <td>1700.7391</td>\n      <td>1692.0859</td>\n      <td>59.290245</td>\n      <td>GSW</td>\n      <td>Warriors</td>\n      <td>105</td>\n      <td>1813.6349</td>\n      <td>1822.2881</td>\n      <td>H</td>\n      <td>L</td>\n      <td>0.481450</td>\n      <td>NaN</td>\n      <td>-8</td>\n    </tr>\n    <tr>\n      <td>126313</td>\n      <td>63157</td>\n      <td>201506170CLE</td>\n      <td>NBA</td>\n      <td>1</td>\n      <td>2015</td>\n      <td>6/16/2015</td>\n      <td>103</td>\n      <td>1</td>\n      <td>GSW</td>\n      <td>Warriors</td>\n      <td>105</td>\n      <td>1813.6349</td>\n      <td>1822.2881</td>\n      <td>68.519516</td>\n      <td>CLE</td>\n      <td>Cavaliers</td>\n      <td>97</td>\n      <td>1700.7391</td>\n      <td>1692.0859</td>\n      <td>A</td>\n      <td>W</td>\n      <td>0.518550</td>\n      <td>NaN</td>\n      <td>8</td>\n    </tr>\n  </tbody>\n</table>\n<p>126314 rows × 24 columns</p>\n</div>",
      "text/plain": "        gameorder       game_id lg_id  _iscopy  year_id  date_game  \\\n0               1  194611010TRH   NBA        0     1947  11/1/1946   \n1               1  194611010TRH   NBA        1     1947  11/1/1946   \n2               2  194611020CHS   NBA        0     1947  11/2/1946   \n3               2  194611020CHS   NBA        1     1947  11/2/1946   \n4               3  194611020DTF   NBA        0     1947  11/2/1946   \n...           ...           ...   ...      ...      ...        ...   \n126309      63155  201506110CLE   NBA        0     2015  6/11/2015   \n126310      63156  201506140GSW   NBA        0     2015  6/14/2015   \n126311      63156  201506140GSW   NBA        1     2015  6/14/2015   \n126312      63157  201506170CLE   NBA        0     2015  6/16/2015   \n126313      63157  201506170CLE   NBA        1     2015  6/16/2015   \n\n        seasongame  is_playoffs team_id    fran_id  pts      elo_i      elo_n  \\\n0                1            0     TRH    Huskies   66  1300.0000  1293.2767   \n1                1            0     NYK     Knicks   68  1300.0000  1306.7233   \n2                1            0     CHS      Stags   63  1300.0000  1309.6521   \n3                2            0     NYK     Knicks   47  1306.7233  1297.0712   \n4                1            0     DTF    Falcons   33  1300.0000  1279.6189   \n...            ...          ...     ...        ...  ...        ...        ...   \n126309         100            1     CLE  Cavaliers   82  1723.4149  1704.3949   \n126310         102            1     GSW   Warriors  104  1809.9791  1813.6349   \n126311         101            1     CLE  Cavaliers   91  1704.3949  1700.7391   \n126312         102            1     CLE  Cavaliers   97  1700.7391  1692.0859   \n126313         103            1     GSW   Warriors  105  1813.6349  1822.2881   \n\n        win_equiv opp_id   opp_fran  opp_pts  opp_elo_i  opp_elo_n  \\\n0       40.294830    NYK     Knicks       68  1300.0000  1306.7233   \n1       41.705170    TRH    Huskies       66  1300.0000  1293.2767   \n2       42.012257    NYK     Knicks       47  1306.7233  1297.0712   \n3       40.692783    CHS      Stags       63  1300.0000  1309.6521   \n4       38.864048    WSC   Capitols       50  1300.0000  1320.3811   \n...           ...    ...        ...      ...        ...        ...   \n126309  60.309792    GSW   Warriors      103  1790.9591  1809.9791   \n126310  68.013329    CLE  Cavaliers       91  1704.3949  1700.7391   \n126311  60.010067    GSW   Warriors      104  1809.9791  1813.6349   \n126312  59.290245    GSW   Warriors      105  1813.6349  1822.2881   \n126313  68.519516    CLE  Cavaliers       97  1700.7391  1692.0859   \n\n       game_location game_result  forecast notes  difference  \n0                  H           L  0.640065   NaN          -2  \n1                  A           W  0.359935   NaN           2  \n2                  H           W  0.631101   NaN          16  \n3                  A           L  0.368899   NaN         -16  \n4                  H           L  0.640065   NaN         -17  \n...              ...         ...       ...   ...         ...  \n126309             H           L  0.546572   NaN         -21  \n126310             H           W  0.765565   NaN          13  \n126311             A           L  0.234435   NaN         -13  \n126312             H           L  0.481450   NaN          -8  \n126313             A           W  0.518550   NaN           8  \n\n[126314 rows x 24 columns]"
     },
     "execution_count": 39,
     "metadata": {},
     "output_type": "execute_result"
    }
   ],
   "source": [
    "nba"
   ]
  },
  {
   "cell_type": "code",
   "execution_count": 44,
   "metadata": {},
   "outputs": [
    {
     "data": {
      "text/html": "<div>\n<style scoped>\n    .dataframe tbody tr th:only-of-type {\n        vertical-align: middle;\n    }\n\n    .dataframe tbody tr th {\n        vertical-align: top;\n    }\n\n    .dataframe thead th {\n        text-align: right;\n    }\n</style>\n<table border=\"1\" class=\"dataframe\">\n  <thead>\n    <tr style=\"text-align: right;\">\n      <th></th>\n      <th>gameorder</th>\n      <th>game_id</th>\n      <th>lg_id</th>\n      <th>_iscopy</th>\n      <th>year_id</th>\n      <th>date_game</th>\n      <th>seasongame</th>\n      <th>is_playoffs</th>\n      <th>team_id</th>\n      <th>fran_id</th>\n      <th>pts</th>\n      <th>elo_i</th>\n      <th>elo_n</th>\n      <th>win_equiv</th>\n      <th>opp_id</th>\n      <th>opp_fran</th>\n      <th>opp_pts</th>\n      <th>opp_elo_i</th>\n      <th>opp_elo_n</th>\n      <th>game_location</th>\n      <th>game_result</th>\n      <th>forecast</th>\n      <th>notes</th>\n      <th>difference</th>\n    </tr>\n  </thead>\n  <tbody>\n    <tr>\n      <td>0</td>\n      <td>1</td>\n      <td>194611010TRH</td>\n      <td>NBA</td>\n      <td>0</td>\n      <td>1947</td>\n      <td>11/1/1946</td>\n      <td>1</td>\n      <td>0</td>\n      <td>TRH</td>\n      <td>Huskies</td>\n      <td>66</td>\n      <td>1300.0000</td>\n      <td>1293.2767</td>\n      <td>40.294830</td>\n      <td>NYK</td>\n      <td>Knicks</td>\n      <td>68</td>\n      <td>1300.0000</td>\n      <td>1306.7233</td>\n      <td>H</td>\n      <td>L</td>\n      <td>0.640065</td>\n      <td>NaN</td>\n      <td>-2</td>\n    </tr>\n    <tr>\n      <td>1</td>\n      <td>1</td>\n      <td>194611010TRH</td>\n      <td>NBA</td>\n      <td>1</td>\n      <td>1947</td>\n      <td>11/1/1946</td>\n      <td>1</td>\n      <td>0</td>\n      <td>NYK</td>\n      <td>Knicks</td>\n      <td>68</td>\n      <td>1300.0000</td>\n      <td>1306.7233</td>\n      <td>41.705170</td>\n      <td>TRH</td>\n      <td>Huskies</td>\n      <td>66</td>\n      <td>1300.0000</td>\n      <td>1293.2767</td>\n      <td>A</td>\n      <td>W</td>\n      <td>0.359935</td>\n      <td>NaN</td>\n      <td>2</td>\n    </tr>\n    <tr>\n      <td>2</td>\n      <td>2</td>\n      <td>194611020CHS</td>\n      <td>NBA</td>\n      <td>0</td>\n      <td>1947</td>\n      <td>11/2/1946</td>\n      <td>1</td>\n      <td>0</td>\n      <td>CHS</td>\n      <td>Stags</td>\n      <td>63</td>\n      <td>1300.0000</td>\n      <td>1309.6521</td>\n      <td>42.012257</td>\n      <td>NYK</td>\n      <td>Knicks</td>\n      <td>47</td>\n      <td>1306.7233</td>\n      <td>1297.0712</td>\n      <td>H</td>\n      <td>W</td>\n      <td>0.631101</td>\n      <td>NaN</td>\n      <td>16</td>\n    </tr>\n    <tr>\n      <td>3</td>\n      <td>2</td>\n      <td>194611020CHS</td>\n      <td>NBA</td>\n      <td>1</td>\n      <td>1947</td>\n      <td>11/2/1946</td>\n      <td>2</td>\n      <td>0</td>\n      <td>NYK</td>\n      <td>Knicks</td>\n      <td>47</td>\n      <td>1306.7233</td>\n      <td>1297.0712</td>\n      <td>40.692783</td>\n      <td>CHS</td>\n      <td>Stags</td>\n      <td>63</td>\n      <td>1300.0000</td>\n      <td>1309.6521</td>\n      <td>A</td>\n      <td>L</td>\n      <td>0.368899</td>\n      <td>NaN</td>\n      <td>-16</td>\n    </tr>\n    <tr>\n      <td>4</td>\n      <td>3</td>\n      <td>194611020DTF</td>\n      <td>NBA</td>\n      <td>0</td>\n      <td>1947</td>\n      <td>11/2/1946</td>\n      <td>1</td>\n      <td>0</td>\n      <td>DTF</td>\n      <td>Falcons</td>\n      <td>33</td>\n      <td>1300.0000</td>\n      <td>1279.6189</td>\n      <td>38.864048</td>\n      <td>WSC</td>\n      <td>Capitols</td>\n      <td>50</td>\n      <td>1300.0000</td>\n      <td>1320.3811</td>\n      <td>H</td>\n      <td>L</td>\n      <td>0.640065</td>\n      <td>NaN</td>\n      <td>-17</td>\n    </tr>\n    <tr>\n      <td>...</td>\n      <td>...</td>\n      <td>...</td>\n      <td>...</td>\n      <td>...</td>\n      <td>...</td>\n      <td>...</td>\n      <td>...</td>\n      <td>...</td>\n      <td>...</td>\n      <td>...</td>\n      <td>...</td>\n      <td>...</td>\n      <td>...</td>\n      <td>...</td>\n      <td>...</td>\n      <td>...</td>\n      <td>...</td>\n      <td>...</td>\n      <td>...</td>\n      <td>...</td>\n      <td>...</td>\n      <td>...</td>\n      <td>...</td>\n      <td>...</td>\n    </tr>\n    <tr>\n      <td>126309</td>\n      <td>63155</td>\n      <td>201506110CLE</td>\n      <td>NBA</td>\n      <td>0</td>\n      <td>2015</td>\n      <td>6/11/2015</td>\n      <td>100</td>\n      <td>1</td>\n      <td>CLE</td>\n      <td>Cavaliers</td>\n      <td>82</td>\n      <td>1723.4149</td>\n      <td>1704.3949</td>\n      <td>60.309792</td>\n      <td>GSW</td>\n      <td>Warriors</td>\n      <td>103</td>\n      <td>1790.9591</td>\n      <td>1809.9791</td>\n      <td>H</td>\n      <td>L</td>\n      <td>0.546572</td>\n      <td>NaN</td>\n      <td>-21</td>\n    </tr>\n    <tr>\n      <td>126310</td>\n      <td>63156</td>\n      <td>201506140GSW</td>\n      <td>NBA</td>\n      <td>0</td>\n      <td>2015</td>\n      <td>6/14/2015</td>\n      <td>102</td>\n      <td>1</td>\n      <td>GSW</td>\n      <td>Warriors</td>\n      <td>104</td>\n      <td>1809.9791</td>\n      <td>1813.6349</td>\n      <td>68.013329</td>\n      <td>CLE</td>\n      <td>Cavaliers</td>\n      <td>91</td>\n      <td>1704.3949</td>\n      <td>1700.7391</td>\n      <td>H</td>\n      <td>W</td>\n      <td>0.765565</td>\n      <td>NaN</td>\n      <td>13</td>\n    </tr>\n    <tr>\n      <td>126311</td>\n      <td>63156</td>\n      <td>201506140GSW</td>\n      <td>NBA</td>\n      <td>1</td>\n      <td>2015</td>\n      <td>6/14/2015</td>\n      <td>101</td>\n      <td>1</td>\n      <td>CLE</td>\n      <td>Cavaliers</td>\n      <td>91</td>\n      <td>1704.3949</td>\n      <td>1700.7391</td>\n      <td>60.010067</td>\n      <td>GSW</td>\n      <td>Warriors</td>\n      <td>104</td>\n      <td>1809.9791</td>\n      <td>1813.6349</td>\n      <td>A</td>\n      <td>L</td>\n      <td>0.234435</td>\n      <td>NaN</td>\n      <td>-13</td>\n    </tr>\n    <tr>\n      <td>126312</td>\n      <td>63157</td>\n      <td>201506170CLE</td>\n      <td>NBA</td>\n      <td>0</td>\n      <td>2015</td>\n      <td>6/16/2015</td>\n      <td>102</td>\n      <td>1</td>\n      <td>CLE</td>\n      <td>Cavaliers</td>\n      <td>97</td>\n      <td>1700.7391</td>\n      <td>1692.0859</td>\n      <td>59.290245</td>\n      <td>GSW</td>\n      <td>Warriors</td>\n      <td>105</td>\n      <td>1813.6349</td>\n      <td>1822.2881</td>\n      <td>H</td>\n      <td>L</td>\n      <td>0.481450</td>\n      <td>NaN</td>\n      <td>-8</td>\n    </tr>\n    <tr>\n      <td>126313</td>\n      <td>63157</td>\n      <td>201506170CLE</td>\n      <td>NBA</td>\n      <td>1</td>\n      <td>2015</td>\n      <td>6/16/2015</td>\n      <td>103</td>\n      <td>1</td>\n      <td>GSW</td>\n      <td>Warriors</td>\n      <td>105</td>\n      <td>1813.6349</td>\n      <td>1822.2881</td>\n      <td>68.519516</td>\n      <td>CLE</td>\n      <td>Cavaliers</td>\n      <td>97</td>\n      <td>1700.7391</td>\n      <td>1692.0859</td>\n      <td>A</td>\n      <td>W</td>\n      <td>0.518550</td>\n      <td>NaN</td>\n      <td>8</td>\n    </tr>\n  </tbody>\n</table>\n<p>126314 rows × 24 columns</p>\n</div>",
      "text/plain": "        gameorder       game_id lg_id  _iscopy  year_id  date_game  \\\n0               1  194611010TRH   NBA        0     1947  11/1/1946   \n1               1  194611010TRH   NBA        1     1947  11/1/1946   \n2               2  194611020CHS   NBA        0     1947  11/2/1946   \n3               2  194611020CHS   NBA        1     1947  11/2/1946   \n4               3  194611020DTF   NBA        0     1947  11/2/1946   \n...           ...           ...   ...      ...      ...        ...   \n126309      63155  201506110CLE   NBA        0     2015  6/11/2015   \n126310      63156  201506140GSW   NBA        0     2015  6/14/2015   \n126311      63156  201506140GSW   NBA        1     2015  6/14/2015   \n126312      63157  201506170CLE   NBA        0     2015  6/16/2015   \n126313      63157  201506170CLE   NBA        1     2015  6/16/2015   \n\n        seasongame  is_playoffs team_id    fran_id  pts      elo_i      elo_n  \\\n0                1            0     TRH    Huskies   66  1300.0000  1293.2767   \n1                1            0     NYK     Knicks   68  1300.0000  1306.7233   \n2                1            0     CHS      Stags   63  1300.0000  1309.6521   \n3                2            0     NYK     Knicks   47  1306.7233  1297.0712   \n4                1            0     DTF    Falcons   33  1300.0000  1279.6189   \n...            ...          ...     ...        ...  ...        ...        ...   \n126309         100            1     CLE  Cavaliers   82  1723.4149  1704.3949   \n126310         102            1     GSW   Warriors  104  1809.9791  1813.6349   \n126311         101            1     CLE  Cavaliers   91  1704.3949  1700.7391   \n126312         102            1     CLE  Cavaliers   97  1700.7391  1692.0859   \n126313         103            1     GSW   Warriors  105  1813.6349  1822.2881   \n\n        win_equiv opp_id   opp_fran  opp_pts  opp_elo_i  opp_elo_n  \\\n0       40.294830    NYK     Knicks       68  1300.0000  1306.7233   \n1       41.705170    TRH    Huskies       66  1300.0000  1293.2767   \n2       42.012257    NYK     Knicks       47  1306.7233  1297.0712   \n3       40.692783    CHS      Stags       63  1300.0000  1309.6521   \n4       38.864048    WSC   Capitols       50  1300.0000  1320.3811   \n...           ...    ...        ...      ...        ...        ...   \n126309  60.309792    GSW   Warriors      103  1790.9591  1809.9791   \n126310  68.013329    CLE  Cavaliers       91  1704.3949  1700.7391   \n126311  60.010067    GSW   Warriors      104  1809.9791  1813.6349   \n126312  59.290245    GSW   Warriors      105  1813.6349  1822.2881   \n126313  68.519516    CLE  Cavaliers       97  1700.7391  1692.0859   \n\n       game_location game_result  forecast notes  difference  \n0                  H           L  0.640065   NaN          -2  \n1                  A           W  0.359935   NaN           2  \n2                  H           W  0.631101   NaN          16  \n3                  A           L  0.368899   NaN         -16  \n4                  H           L  0.640065   NaN         -17  \n...              ...         ...       ...   ...         ...  \n126309             H           L  0.546572   NaN         -21  \n126310             H           W  0.765565   NaN          13  \n126311             A           L  0.234435   NaN         -13  \n126312             H           L  0.481450   NaN          -8  \n126313             A           W  0.518550   NaN           8  \n\n[126314 rows x 24 columns]"
     },
     "execution_count": 44,
     "metadata": {},
     "output_type": "execute_result"
    }
   ],
   "source": [
    "nba[\"game_location\"] = pd.Categorical(nba[\"game_location\"])\n",
    "nba"
   ]
  },
  {
   "cell_type": "code",
   "execution_count": 45,
   "metadata": {},
   "outputs": [
    {
     "data": {
      "text/plain": "CategoricalDtype(categories=['A', 'H', 'N'], ordered=False)"
     },
     "execution_count": 45,
     "metadata": {},
     "output_type": "execute_result"
    }
   ],
   "source": [
    "nba[\"game_location\"].dtype"
   ]
  },
  {
   "cell_type": "code",
   "execution_count": 46,
   "metadata": {},
   "outputs": [
    {
     "data": {
      "text/html": "<div>\n<style scoped>\n    .dataframe tbody tr th:only-of-type {\n        vertical-align: middle;\n    }\n\n    .dataframe tbody tr th {\n        vertical-align: top;\n    }\n\n    .dataframe thead th {\n        text-align: right;\n    }\n</style>\n<table border=\"1\" class=\"dataframe\">\n  <thead>\n    <tr style=\"text-align: right;\">\n      <th>game_location</th>\n      <th>A</th>\n      <th>H</th>\n      <th>N</th>\n    </tr>\n  </thead>\n  <tbody>\n    <tr>\n      <td>0</td>\n      <td>0</td>\n      <td>1</td>\n      <td>0</td>\n    </tr>\n    <tr>\n      <td>1</td>\n      <td>1</td>\n      <td>0</td>\n      <td>0</td>\n    </tr>\n    <tr>\n      <td>2</td>\n      <td>0</td>\n      <td>1</td>\n      <td>0</td>\n    </tr>\n    <tr>\n      <td>3</td>\n      <td>1</td>\n      <td>0</td>\n      <td>0</td>\n    </tr>\n    <tr>\n      <td>4</td>\n      <td>0</td>\n      <td>1</td>\n      <td>0</td>\n    </tr>\n    <tr>\n      <td>...</td>\n      <td>...</td>\n      <td>...</td>\n      <td>...</td>\n    </tr>\n    <tr>\n      <td>126309</td>\n      <td>0</td>\n      <td>1</td>\n      <td>0</td>\n    </tr>\n    <tr>\n      <td>126310</td>\n      <td>0</td>\n      <td>1</td>\n      <td>0</td>\n    </tr>\n    <tr>\n      <td>126311</td>\n      <td>1</td>\n      <td>0</td>\n      <td>0</td>\n    </tr>\n    <tr>\n      <td>126312</td>\n      <td>0</td>\n      <td>1</td>\n      <td>0</td>\n    </tr>\n    <tr>\n      <td>126313</td>\n      <td>1</td>\n      <td>0</td>\n      <td>0</td>\n    </tr>\n  </tbody>\n</table>\n<p>126314 rows × 3 columns</p>\n</div>",
      "text/plain": "game_location  A  H  N\n0              0  1  0\n1              1  0  0\n2              0  1  0\n3              1  0  0\n4              0  1  0\n...           .. .. ..\n126309         0  1  0\n126310         0  1  0\n126311         1  0  0\n126312         0  1  0\n126313         1  0  0\n\n[126314 rows x 3 columns]"
     },
     "execution_count": 46,
     "metadata": {},
     "output_type": "execute_result"
    }
   ],
   "source": [
    "pd.get_dummies(nba[\"game_location\"])"
   ]
  },
  {
   "cell_type": "code",
   "execution_count": 47,
   "metadata": {},
   "outputs": [
    {
     "data": {
      "text/html": "<div>\n<style scoped>\n    .dataframe tbody tr th:only-of-type {\n        vertical-align: middle;\n    }\n\n    .dataframe tbody tr th {\n        vertical-align: top;\n    }\n\n    .dataframe thead th {\n        text-align: right;\n    }\n</style>\n<table border=\"1\" class=\"dataframe\">\n  <thead>\n    <tr style=\"text-align: right;\">\n      <th></th>\n      <th>A</th>\n      <th>B</th>\n      <th>C</th>\n    </tr>\n  </thead>\n  <tbody>\n    <tr>\n      <td>0</td>\n      <td>a</td>\n      <td>b</td>\n      <td>1</td>\n    </tr>\n    <tr>\n      <td>1</td>\n      <td>b</td>\n      <td>None</td>\n      <td>2</td>\n    </tr>\n    <tr>\n      <td>2</td>\n      <td>None</td>\n      <td>c</td>\n      <td>3</td>\n    </tr>\n  </tbody>\n</table>\n</div>",
      "text/plain": "      A     B  C\n0     a     b  1\n1     b  None  2\n2  None     c  3"
     },
     "execution_count": 47,
     "metadata": {},
     "output_type": "execute_result"
    }
   ],
   "source": [
    "df2 = pd.DataFrame({'A': ['a', 'b', None], 'B': ['b', None, 'c'],\n",
    "                   'C': [1, 2, 3]})\n",
    "df2"
   ]
  },
  {
   "cell_type": "code",
   "execution_count": 50,
   "metadata": {},
   "outputs": [
    {
     "ename": "AttributeError",
     "evalue": "module 'pandas' has no attribute 'dropna'",
     "output_type": "error",
     "traceback": [
      "\u001b[0;31m---------------------------------------------------------------------------\u001b[0m",
      "\u001b[0;31mAttributeError\u001b[0m                            Traceback (most recent call last)",
      "\u001b[0;32m<ipython-input-50-aa21e52c8888>\u001b[0m in \u001b[0;36m<module>\u001b[0;34m\u001b[0m\n\u001b[0;32m----> 1\u001b[0;31m \u001b[0mhelp\u001b[0m\u001b[0;34m(\u001b[0m\u001b[0mpd\u001b[0m\u001b[0;34m.\u001b[0m\u001b[0mdropna\u001b[0m\u001b[0;34m(\u001b[0m\u001b[0;34m)\u001b[0m\u001b[0;34m)\u001b[0m\u001b[0;34m\u001b[0m\u001b[0;34m\u001b[0m\u001b[0m\n\u001b[0m",
      "\u001b[0;32m~/opt/anaconda3/lib/python3.7/site-packages/pandas/__init__.py\u001b[0m in \u001b[0;36m__getattr__\u001b[0;34m(name)\u001b[0m\n\u001b[1;32m    212\u001b[0m \u001b[0;34m\u001b[0m\u001b[0m\n\u001b[1;32m    213\u001b[0m             \u001b[0;32mreturn\u001b[0m \u001b[0mPanel\u001b[0m\u001b[0;34m\u001b[0m\u001b[0;34m\u001b[0m\u001b[0m\n\u001b[0;32m--> 214\u001b[0;31m         \u001b[0;32mraise\u001b[0m \u001b[0mAttributeError\u001b[0m\u001b[0;34m(\u001b[0m\u001b[0;34m\"module 'pandas' has no attribute '{}'\"\u001b[0m\u001b[0;34m.\u001b[0m\u001b[0mformat\u001b[0m\u001b[0;34m(\u001b[0m\u001b[0mname\u001b[0m\u001b[0;34m)\u001b[0m\u001b[0;34m)\u001b[0m\u001b[0;34m\u001b[0m\u001b[0;34m\u001b[0m\u001b[0m\n\u001b[0m\u001b[1;32m    215\u001b[0m \u001b[0;34m\u001b[0m\u001b[0m\n\u001b[1;32m    216\u001b[0m \u001b[0;34m\u001b[0m\u001b[0m\n",
      "\u001b[0;31mAttributeError\u001b[0m: module 'pandas' has no attribute 'dropna'"
     ]
    }
   ],
   "source": [
    "help(pd.dropna())"
   ]
  },
  {
   "cell_type": "markdown",
   "metadata": {},
   "source": [
    "Determine if row or column is removed from DataFrame, when we have at least one NA or all NA.\n",
    "\n",
    "‘any’ : If any NA values are present, drop that row or column.\n",
    "\n",
    "‘all’ : If all values are NA, drop that row or column."
   ]
  },
  {
   "cell_type": "code",
   "execution_count": 51,
   "metadata": {},
   "outputs": [
    {
     "data": {
      "text/html": "<div>\n<style scoped>\n    .dataframe tbody tr th:only-of-type {\n        vertical-align: middle;\n    }\n\n    .dataframe tbody tr th {\n        vertical-align: top;\n    }\n\n    .dataframe thead th {\n        text-align: right;\n    }\n</style>\n<table border=\"1\" class=\"dataframe\">\n  <thead>\n    <tr style=\"text-align: right;\">\n      <th></th>\n      <th>A</th>\n      <th>B</th>\n      <th>C</th>\n    </tr>\n  </thead>\n  <tbody>\n    <tr>\n      <td>0</td>\n      <td>a</td>\n      <td>b</td>\n      <td>1</td>\n    </tr>\n  </tbody>\n</table>\n</div>",
      "text/plain": "   A  B  C\n0  a  b  1"
     },
     "execution_count": 51,
     "metadata": {},
     "output_type": "execute_result"
    }
   ],
   "source": [
    "x = df2.dropna()\n",
    "x"
   ]
  },
  {
   "cell_type": "code",
   "execution_count": 52,
   "metadata": {},
   "outputs": [
    {
     "data": {
      "text/html": "<div>\n<style scoped>\n    .dataframe tbody tr th:only-of-type {\n        vertical-align: middle;\n    }\n\n    .dataframe tbody tr th {\n        vertical-align: top;\n    }\n\n    .dataframe thead th {\n        text-align: right;\n    }\n</style>\n<table border=\"1\" class=\"dataframe\">\n  <thead>\n    <tr style=\"text-align: right;\">\n      <th></th>\n      <th>A</th>\n      <th>B</th>\n      <th>C</th>\n    </tr>\n  </thead>\n  <tbody>\n    <tr>\n      <td>0</td>\n      <td>a</td>\n      <td>b</td>\n      <td>1</td>\n    </tr>\n    <tr>\n      <td>1</td>\n      <td>b</td>\n      <td>None</td>\n      <td>2</td>\n    </tr>\n    <tr>\n      <td>2</td>\n      <td>None</td>\n      <td>c</td>\n      <td>3</td>\n    </tr>\n  </tbody>\n</table>\n</div>",
      "text/plain": "      A     B  C\n0     a     b  1\n1     b  None  2\n2  None     c  3"
     },
     "execution_count": 52,
     "metadata": {},
     "output_type": "execute_result"
    }
   ],
   "source": [
    "y = df2.dropna(how=\"all\")\n",
    "y"
   ]
  },
  {
   "cell_type": "code",
   "execution_count": 54,
   "metadata": {},
   "outputs": [
    {
     "data": {
      "text/plain": "(126314, 24)"
     },
     "execution_count": 54,
     "metadata": {},
     "output_type": "execute_result"
    }
   ],
   "source": [
    "nba_all = nba.dropna(how=\"all\")\n",
    "nba_all.shape"
   ]
  },
  {
   "cell_type": "code",
   "execution_count": 55,
   "metadata": {},
   "outputs": [
    {
     "data": {
      "text/plain": "(126314, 24)"
     },
     "execution_count": 55,
     "metadata": {},
     "output_type": "execute_result"
    }
   ],
   "source": [
    "nba.shape"
   ]
  },
  {
   "cell_type": "code",
   "execution_count": 56,
   "metadata": {},
   "outputs": [
    {
     "data": {
      "text/plain": "gameorder        False\ngame_id          False\nlg_id            False\n_iscopy          False\nyear_id          False\ndate_game        False\nseasongame       False\nis_playoffs      False\nteam_id          False\nfran_id          False\npts              False\nelo_i            False\nelo_n            False\nwin_equiv        False\nopp_id           False\nopp_fran         False\nopp_pts          False\nopp_elo_i        False\nopp_elo_n        False\ngame_location    False\ngame_result      False\nforecast         False\nnotes             True\ndifference       False\ndtype: bool"
     },
     "execution_count": 56,
     "metadata": {},
     "output_type": "execute_result"
    }
   ],
   "source": [
    "nba[].isnull().any()"
   ]
  },
  {
   "cell_type": "code",
   "execution_count": 58,
   "metadata": {},
   "outputs": [
    {
     "data": {
      "text/plain": "True"
     },
     "execution_count": 58,
     "metadata": {},
     "output_type": "execute_result"
    }
   ],
   "source": [
    "nba[(nba[\"pts\"] > nba[\"opp_pts\"]) & (nba[\"game_result\"] != 'W')].empty"
   ]
  },
  {
   "cell_type": "code",
   "execution_count": 59,
   "metadata": {},
   "outputs": [],
   "source": [
    "n1 = nba.copy()\n",
    "n2 = nba.copy()"
   ]
  },
  {
   "cell_type": "code",
   "execution_count": 62,
   "metadata": {},
   "outputs": [
    {
     "name": "stdout",
     "output_type": "stream",
     "text": "Help on function concat in module pandas.core.reshape.concat:\n\nconcat(objs, axis=0, join='outer', join_axes=None, ignore_index=False, keys=None, levels=None, names=None, verify_integrity=False, sort=None, copy=True)\n    Concatenate pandas objects along a particular axis with optional set logic\n    along the other axes.\n    \n    Can also add a layer of hierarchical indexing on the concatenation axis,\n    which may be useful if the labels are the same (or overlapping) on\n    the passed axis number.\n    \n    Parameters\n    ----------\n    objs : a sequence or mapping of Series or DataFrame objects\n        If a dict is passed, the sorted keys will be used as the `keys`\n        argument, unless it is passed, in which case the values will be\n        selected (see below). Any None objects will be dropped silently unless\n        they are all None in which case a ValueError will be raised.\n    axis : {0/'index', 1/'columns'}, default 0\n        The axis to concatenate along.\n    join : {'inner', 'outer'}, default 'outer'\n        How to handle indexes on other axis (or axes).\n    join_axes : list of Index objects\n        .. deprecated:: 0.25.0\n    \n        Specific indexes to use for the other n - 1 axes instead of performing\n        inner/outer set logic. Use .reindex() before or after concatenation\n        as a replacement.\n    ignore_index : bool, default False\n        If True, do not use the index values along the concatenation axis. The\n        resulting axis will be labeled 0, ..., n - 1. This is useful if you are\n        concatenating objects where the concatenation axis does not have\n        meaningful indexing information. Note the index values on the other\n        axes are still respected in the join.\n    keys : sequence, default None\n        If multiple levels passed, should contain tuples. Construct\n        hierarchical index using the passed keys as the outermost level.\n    levels : list of sequences, default None\n        Specific levels (unique values) to use for constructing a\n        MultiIndex. Otherwise they will be inferred from the keys.\n    names : list, default None\n        Names for the levels in the resulting hierarchical index.\n    verify_integrity : bool, default False\n        Check whether the new concatenated axis contains duplicates. This can\n        be very expensive relative to the actual data concatenation.\n    sort : bool, default None\n        Sort non-concatenation axis if it is not already aligned when `join`\n        is 'outer'. The current default of sorting is deprecated and will\n        change to not-sorting in a future version of pandas.\n    \n        Explicitly pass ``sort=True`` to silence the warning and sort.\n        Explicitly pass ``sort=False`` to silence the warning and not sort.\n    \n        This has no effect when ``join='inner'``, which already preserves\n        the order of the non-concatenation axis.\n    \n        .. versionadded:: 0.23.0\n    \n    copy : bool, default True\n        If False, do not copy data unnecessarily.\n    \n    Returns\n    -------\n    object, type of objs\n        When concatenating all ``Series`` along the index (axis=0), a\n        ``Series`` is returned. When ``objs`` contains at least one\n        ``DataFrame``, a ``DataFrame`` is returned. When concatenating along\n        the columns (axis=1), a ``DataFrame`` is returned.\n    \n    See Also\n    --------\n    Series.append : Concatenate Series.\n    DataFrame.append : Concatenate DataFrames.\n    DataFrame.join : Join DataFrames using indexes.\n    DataFrame.merge : Merge DataFrames by indexes or columns.\n    \n    Notes\n    -----\n    The keys, levels, and names arguments are all optional.\n    \n    A walkthrough of how this method fits in with other tools for combining\n    pandas objects can be found `here\n    <http://pandas.pydata.org/pandas-docs/stable/user_guide/merging.html>`__.\n    \n    Examples\n    --------\n    Combine two ``Series``.\n    \n    >>> s1 = pd.Series(['a', 'b'])\n    >>> s2 = pd.Series(['c', 'd'])\n    >>> pd.concat([s1, s2])\n    0    a\n    1    b\n    0    c\n    1    d\n    dtype: object\n    \n    Clear the existing index and reset it in the result\n    by setting the ``ignore_index`` option to ``True``.\n    \n    >>> pd.concat([s1, s2], ignore_index=True)\n    0    a\n    1    b\n    2    c\n    3    d\n    dtype: object\n    \n    Add a hierarchical index at the outermost level of\n    the data with the ``keys`` option.\n    \n    >>> pd.concat([s1, s2], keys=['s1', 's2'])\n    s1  0    a\n        1    b\n    s2  0    c\n        1    d\n    dtype: object\n    \n    Label the index keys you create with the ``names`` option.\n    \n    >>> pd.concat([s1, s2], keys=['s1', 's2'],\n    ...           names=['Series name', 'Row ID'])\n    Series name  Row ID\n    s1           0         a\n                 1         b\n    s2           0         c\n                 1         d\n    dtype: object\n    \n    Combine two ``DataFrame`` objects with identical columns.\n    \n    >>> df1 = pd.DataFrame([['a', 1], ['b', 2]],\n    ...                    columns=['letter', 'number'])\n    >>> df1\n      letter  number\n    0      a       1\n    1      b       2\n    >>> df2 = pd.DataFrame([['c', 3], ['d', 4]],\n    ...                    columns=['letter', 'number'])\n    >>> df2\n      letter  number\n    0      c       3\n    1      d       4\n    >>> pd.concat([df1, df2])\n      letter  number\n    0      a       1\n    1      b       2\n    0      c       3\n    1      d       4\n    \n    Combine ``DataFrame`` objects with overlapping columns\n    and return everything. Columns outside the intersection will\n    be filled with ``NaN`` values.\n    \n    >>> df3 = pd.DataFrame([['c', 3, 'cat'], ['d', 4, 'dog']],\n    ...                    columns=['letter', 'number', 'animal'])\n    >>> df3\n      letter  number animal\n    0      c       3    cat\n    1      d       4    dog\n    >>> pd.concat([df1, df3], sort=False)\n      letter  number animal\n    0      a       1    NaN\n    1      b       2    NaN\n    0      c       3    cat\n    1      d       4    dog\n    \n    Combine ``DataFrame`` objects with overlapping columns\n    and return only those that are shared by passing ``inner`` to\n    the ``join`` keyword argument.\n    \n    >>> pd.concat([df1, df3], join=\"inner\")\n      letter  number\n    0      a       1\n    1      b       2\n    0      c       3\n    1      d       4\n    \n    Combine ``DataFrame`` objects horizontally along the x axis by\n    passing in ``axis=1``.\n    \n    >>> df4 = pd.DataFrame([['bird', 'polly'], ['monkey', 'george']],\n    ...                    columns=['animal', 'name'])\n    >>> pd.concat([df1, df4], axis=1)\n      letter  number  animal    name\n    0      a       1    bird   polly\n    1      b       2  monkey  george\n    \n    Prevent the result from including duplicate index values with the\n    ``verify_integrity`` option.\n    \n    >>> df5 = pd.DataFrame([1], index=['a'])\n    >>> df5\n       0\n    a  1\n    >>> df6 = pd.DataFrame([2], index=['a'])\n    >>> df6\n       0\n    a  2\n    >>> pd.concat([df5, df6], verify_integrity=True)\n    Traceback (most recent call last):\n        ...\n    ValueError: Indexes have overlapping values: ['a']\n\n"
    }
   ],
   "source": [
    "help(pd.concat)"
   ]
  },
  {
   "cell_type": "code",
   "execution_count": null,
   "metadata": {},
   "outputs": [],
   "source": [
    "n12 = pd.concat([n1, n2])"
   ]
  },
  {
   "cell_type": "code",
   "execution_count": 63,
   "metadata": {},
   "outputs": [
    {
     "name": "stdout",
     "output_type": "stream",
     "text": "Help on function merge in module pandas.core.reshape.merge:\n\nmerge(left, right, how='inner', on=None, left_on=None, right_on=None, left_index=False, right_index=False, sort=False, suffixes=('_x', '_y'), copy=True, indicator=False, validate=None)\n    Merge DataFrame or named Series objects with a database-style join.\n    \n    The join is done on columns or indexes. If joining columns on\n    columns, the DataFrame indexes *will be ignored*. Otherwise if joining indexes\n    on indexes or indexes on a column or columns, the index will be passed on.\n    \n    Parameters\n    ----------\n    left : DataFrame\n    right : DataFrame or named Series\n        Object to merge with.\n    how : {'left', 'right', 'outer', 'inner'}, default 'inner'\n        Type of merge to be performed.\n    \n        * left: use only keys from left frame, similar to a SQL left outer join;\n          preserve key order.\n        * right: use only keys from right frame, similar to a SQL right outer join;\n          preserve key order.\n        * outer: use union of keys from both frames, similar to a SQL full outer\n          join; sort keys lexicographically.\n        * inner: use intersection of keys from both frames, similar to a SQL inner\n          join; preserve the order of the left keys.\n    on : label or list\n        Column or index level names to join on. These must be found in both\n        DataFrames. If `on` is None and not merging on indexes then this defaults\n        to the intersection of the columns in both DataFrames.\n    left_on : label or list, or array-like\n        Column or index level names to join on in the left DataFrame. Can also\n        be an array or list of arrays of the length of the left DataFrame.\n        These arrays are treated as if they are columns.\n    right_on : label or list, or array-like\n        Column or index level names to join on in the right DataFrame. Can also\n        be an array or list of arrays of the length of the right DataFrame.\n        These arrays are treated as if they are columns.\n    left_index : bool, default False\n        Use the index from the left DataFrame as the join key(s). If it is a\n        MultiIndex, the number of keys in the other DataFrame (either the index\n        or a number of columns) must match the number of levels.\n    right_index : bool, default False\n        Use the index from the right DataFrame as the join key. Same caveats as\n        left_index.\n    sort : bool, default False\n        Sort the join keys lexicographically in the result DataFrame. If False,\n        the order of the join keys depends on the join type (how keyword).\n    suffixes : tuple of (str, str), default ('_x', '_y')\n        Suffix to apply to overlapping column names in the left and right\n        side, respectively. To raise an exception on overlapping columns use\n        (False, False).\n    copy : bool, default True\n        If False, avoid copy if possible.\n    indicator : bool or str, default False\n        If True, adds a column to output DataFrame called \"_merge\" with\n        information on the source of each row.\n        If string, column with information on source of each row will be added to\n        output DataFrame, and column will be named value of string.\n        Information column is Categorical-type and takes on a value of \"left_only\"\n        for observations whose merge key only appears in 'left' DataFrame,\n        \"right_only\" for observations whose merge key only appears in 'right'\n        DataFrame, and \"both\" if the observation's merge key is found in both.\n    \n    validate : str, optional\n        If specified, checks if merge is of specified type.\n    \n        * \"one_to_one\" or \"1:1\": check if merge keys are unique in both\n          left and right datasets.\n        * \"one_to_many\" or \"1:m\": check if merge keys are unique in left\n          dataset.\n        * \"many_to_one\" or \"m:1\": check if merge keys are unique in right\n          dataset.\n        * \"many_to_many\" or \"m:m\": allowed, but does not result in checks.\n    \n        .. versionadded:: 0.21.0\n    \n    Returns\n    -------\n    DataFrame\n        A DataFrame of the two merged objects.\n    \n    See Also\n    --------\n    merge_ordered : Merge with optional filling/interpolation.\n    merge_asof : Merge on nearest keys.\n    DataFrame.join : Similar method using indices.\n    \n    Notes\n    -----\n    Support for specifying index levels as the `on`, `left_on`, and\n    `right_on` parameters was added in version 0.23.0\n    Support for merging named Series objects was added in version 0.24.0\n    \n    Examples\n    --------\n    \n    >>> df1 = pd.DataFrame({'lkey': ['foo', 'bar', 'baz', 'foo'],\n    ...                     'value': [1, 2, 3, 5]})\n    >>> df2 = pd.DataFrame({'rkey': ['foo', 'bar', 'baz', 'foo'],\n    ...                     'value': [5, 6, 7, 8]})\n    >>> df1\n        lkey value\n    0   foo      1\n    1   bar      2\n    2   baz      3\n    3   foo      5\n    >>> df2\n        rkey value\n    0   foo      5\n    1   bar      6\n    2   baz      7\n    3   foo      8\n    \n    Merge df1 and df2 on the lkey and rkey columns. The value columns have\n    the default suffixes, _x and _y, appended.\n    \n    >>> df1.merge(df2, left_on='lkey', right_on='rkey')\n      lkey  value_x rkey  value_y\n    0  foo        1  foo        5\n    1  foo        1  foo        8\n    2  foo        5  foo        5\n    3  foo        5  foo        8\n    4  bar        2  bar        6\n    5  baz        3  baz        7\n    \n    Merge DataFrames df1 and df2 with specified left and right suffixes\n    appended to any overlapping columns.\n    \n    >>> df1.merge(df2, left_on='lkey', right_on='rkey',\n    ...           suffixes=('_left', '_right'))\n      lkey  value_left rkey  value_right\n    0  foo           1  foo            5\n    1  foo           1  foo            8\n    2  foo           5  foo            5\n    3  foo           5  foo            8\n    4  bar           2  bar            6\n    5  baz           3  baz            7\n    \n    Merge DataFrames df1 and df2, but raise an exception if the DataFrames have\n    any overlapping columns.\n    \n    >>> df1.merge(df2, left_on='lkey', right_on='rkey', suffixes=(False, False))\n    Traceback (most recent call last):\n    ...\n    ValueError: columns overlap but no suffix specified:\n        Index(['value'], dtype='object')\n\n"
    }
   ],
   "source": [
    "help(pd.merge)"
   ]
  },
  {
   "cell_type": "code",
   "execution_count": 64,
   "metadata": {},
   "outputs": [],
   "source": [
    "df1 = pd.DataFrame({'lkey': ['foo', 'bar', 'baz', 'foo'],\n",
    "                     'value': [1, 2, 3, 5]})\n",
    "df2 = pd.DataFrame({'rkey': ['foo', 'bar', 'baz', 'foo'],\n",
    "                         'value': [5, 6, 7, 8]})"
   ]
  },
  {
   "cell_type": "code",
   "execution_count": 65,
   "metadata": {},
   "outputs": [
    {
     "data": {
      "text/html": "<div>\n<style scoped>\n    .dataframe tbody tr th:only-of-type {\n        vertical-align: middle;\n    }\n\n    .dataframe tbody tr th {\n        vertical-align: top;\n    }\n\n    .dataframe thead th {\n        text-align: right;\n    }\n</style>\n<table border=\"1\" class=\"dataframe\">\n  <thead>\n    <tr style=\"text-align: right;\">\n      <th></th>\n      <th>lkey</th>\n      <th>value</th>\n    </tr>\n  </thead>\n  <tbody>\n    <tr>\n      <td>0</td>\n      <td>foo</td>\n      <td>1</td>\n    </tr>\n    <tr>\n      <td>1</td>\n      <td>bar</td>\n      <td>2</td>\n    </tr>\n    <tr>\n      <td>2</td>\n      <td>baz</td>\n      <td>3</td>\n    </tr>\n    <tr>\n      <td>3</td>\n      <td>foo</td>\n      <td>5</td>\n    </tr>\n  </tbody>\n</table>\n</div>",
      "text/plain": "  lkey  value\n0  foo      1\n1  bar      2\n2  baz      3\n3  foo      5"
     },
     "execution_count": 65,
     "metadata": {},
     "output_type": "execute_result"
    }
   ],
   "source": [
    "df1"
   ]
  },
  {
   "cell_type": "code",
   "execution_count": 66,
   "metadata": {},
   "outputs": [
    {
     "data": {
      "text/html": "<div>\n<style scoped>\n    .dataframe tbody tr th:only-of-type {\n        vertical-align: middle;\n    }\n\n    .dataframe tbody tr th {\n        vertical-align: top;\n    }\n\n    .dataframe thead th {\n        text-align: right;\n    }\n</style>\n<table border=\"1\" class=\"dataframe\">\n  <thead>\n    <tr style=\"text-align: right;\">\n      <th></th>\n      <th>rkey</th>\n      <th>value</th>\n    </tr>\n  </thead>\n  <tbody>\n    <tr>\n      <td>0</td>\n      <td>foo</td>\n      <td>5</td>\n    </tr>\n    <tr>\n      <td>1</td>\n      <td>bar</td>\n      <td>6</td>\n    </tr>\n    <tr>\n      <td>2</td>\n      <td>baz</td>\n      <td>7</td>\n    </tr>\n    <tr>\n      <td>3</td>\n      <td>foo</td>\n      <td>8</td>\n    </tr>\n  </tbody>\n</table>\n</div>",
      "text/plain": "  rkey  value\n0  foo      5\n1  bar      6\n2  baz      7\n3  foo      8"
     },
     "execution_count": 66,
     "metadata": {},
     "output_type": "execute_result"
    }
   ],
   "source": [
    "df2"
   ]
  },
  {
   "cell_type": "code",
   "execution_count": 67,
   "metadata": {},
   "outputs": [
    {
     "data": {
      "text/html": "<div>\n<style scoped>\n    .dataframe tbody tr th:only-of-type {\n        vertical-align: middle;\n    }\n\n    .dataframe tbody tr th {\n        vertical-align: top;\n    }\n\n    .dataframe thead th {\n        text-align: right;\n    }\n</style>\n<table border=\"1\" class=\"dataframe\">\n  <thead>\n    <tr style=\"text-align: right;\">\n      <th></th>\n      <th>lkey</th>\n      <th>value_x</th>\n      <th>rkey</th>\n      <th>value_y</th>\n    </tr>\n  </thead>\n  <tbody>\n    <tr>\n      <td>0</td>\n      <td>foo</td>\n      <td>1</td>\n      <td>foo</td>\n      <td>5</td>\n    </tr>\n    <tr>\n      <td>1</td>\n      <td>foo</td>\n      <td>1</td>\n      <td>foo</td>\n      <td>8</td>\n    </tr>\n    <tr>\n      <td>2</td>\n      <td>foo</td>\n      <td>5</td>\n      <td>foo</td>\n      <td>5</td>\n    </tr>\n    <tr>\n      <td>3</td>\n      <td>foo</td>\n      <td>5</td>\n      <td>foo</td>\n      <td>8</td>\n    </tr>\n    <tr>\n      <td>4</td>\n      <td>bar</td>\n      <td>2</td>\n      <td>bar</td>\n      <td>6</td>\n    </tr>\n    <tr>\n      <td>5</td>\n      <td>baz</td>\n      <td>3</td>\n      <td>baz</td>\n      <td>7</td>\n    </tr>\n  </tbody>\n</table>\n</div>",
      "text/plain": "  lkey  value_x rkey  value_y\n0  foo        1  foo        5\n1  foo        1  foo        8\n2  foo        5  foo        5\n3  foo        5  foo        8\n4  bar        2  bar        6\n5  baz        3  baz        7"
     },
     "execution_count": 67,
     "metadata": {},
     "output_type": "execute_result"
    }
   ],
   "source": [
    "df1.merge(df2, left_on='lkey', right_on='rkey')"
   ]
  },
  {
   "cell_type": "code",
   "execution_count": 68,
   "metadata": {},
   "outputs": [
    {
     "data": {
      "text/html": "<div>\n<style scoped>\n    .dataframe tbody tr th:only-of-type {\n        vertical-align: middle;\n    }\n\n    .dataframe tbody tr th {\n        vertical-align: top;\n    }\n\n    .dataframe thead th {\n        text-align: right;\n    }\n</style>\n<table border=\"1\" class=\"dataframe\">\n  <thead>\n    <tr style=\"text-align: right;\">\n      <th></th>\n      <th>lkey</th>\n      <th>value_left</th>\n      <th>rkey</th>\n      <th>value_right</th>\n    </tr>\n  </thead>\n  <tbody>\n    <tr>\n      <td>0</td>\n      <td>foo</td>\n      <td>1</td>\n      <td>foo</td>\n      <td>5</td>\n    </tr>\n    <tr>\n      <td>1</td>\n      <td>foo</td>\n      <td>1</td>\n      <td>foo</td>\n      <td>8</td>\n    </tr>\n    <tr>\n      <td>2</td>\n      <td>foo</td>\n      <td>5</td>\n      <td>foo</td>\n      <td>5</td>\n    </tr>\n    <tr>\n      <td>3</td>\n      <td>foo</td>\n      <td>5</td>\n      <td>foo</td>\n      <td>8</td>\n    </tr>\n    <tr>\n      <td>4</td>\n      <td>bar</td>\n      <td>2</td>\n      <td>bar</td>\n      <td>6</td>\n    </tr>\n    <tr>\n      <td>5</td>\n      <td>baz</td>\n      <td>3</td>\n      <td>baz</td>\n      <td>7</td>\n    </tr>\n  </tbody>\n</table>\n</div>",
      "text/plain": "  lkey  value_left rkey  value_right\n0  foo           1  foo            5\n1  foo           1  foo            8\n2  foo           5  foo            5\n3  foo           5  foo            8\n4  bar           2  bar            6\n5  baz           3  baz            7"
     },
     "execution_count": 68,
     "metadata": {},
     "output_type": "execute_result"
    }
   ],
   "source": [
    "df1.merge(df2, left_on='lkey', right_on='rkey',\n",
    "       suffixes=('_left', '_right'))"
   ]
  },
  {
   "cell_type": "code",
   "execution_count": 3,
   "metadata": {},
   "outputs": [
    {
     "output_type": "execute_result",
     "data": {
      "text/plain": "'z:\\\\Data_Science\\\\TheBridge\\\\Content\\\\Contenido_Curso\\\\data_science_jun_2020\\\\week5\\\\day4\\\\theory'"
     },
     "metadata": {},
     "execution_count": 3
    }
   ],
   "source": [
    "import os\n",
    " \n",
    "dirpath = os.getcwd()\n",
    "dirpath"
   ]
  },
  {
   "cell_type": "code",
   "execution_count": 4,
   "metadata": {},
   "outputs": [
    {
     "output_type": "execute_result",
     "data": {
      "text/plain": "'z:\\\\Data_Science\\\\TheBridge\\\\Content\\\\Contenido_Curso\\\\data_science_jun_2020\\\\week5\\\\day4'"
     },
     "metadata": {},
     "execution_count": 4
    }
   ],
   "source": [
    "ROOT_DIR = os.path.dirname(os.path.abspath(\"\"))\n",
    "\n",
    "ROOT_DIR"
   ]
  },
  {
   "cell_type": "code",
   "execution_count": null,
   "metadata": {},
   "outputs": [],
   "source": []
  }
 ],
 "metadata": {
  "language_info": {
   "name": "python",
   "codemirror_mode": {
    "name": "ipython",
    "version": 3
   },
   "version": "3.6.4-final"
  },
  "orig_nbformat": 2,
  "file_extension": ".py",
  "mimetype": "text/x-python",
  "name": "python",
  "npconvert_exporter": "python",
  "pygments_lexer": "ipython3",
  "version": 3,
  "kernelspec": {
   "name": "python36464bitc2077ed07ea84d23aa5b518d224882ab",
   "display_name": "Python 3.6.4 64-bit"
  }
 },
 "nbformat": 4,
 "nbformat_minor": 2
}