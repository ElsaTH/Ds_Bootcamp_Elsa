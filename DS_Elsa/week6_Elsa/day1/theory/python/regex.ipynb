{
 "cells": [
  {
   "cell_type": "markdown",
   "metadata": {},
   "source": [
    "# Regular Expressions (RegEx)"
   ]
  },
  {
   "cell_type": "markdown",
   "metadata": {},
   "source": [
    "A regular expression, regex or regexp is a sequence of characters that define a search pattern."
   ]
  },
  {
   "cell_type": "markdown",
   "metadata": {},
   "source": [
    "**references**\n",
    "\n",
    "- https://docs.python.org/3/howto/regex.html\n",
    "- https://www.datacamp.com/community/tutorials/python-regular-expression-tutorial\n",
    "- https://www.dataquest.io/blog/regular-expressions-data-scientists/\n",
    "- https://www.kaggle.com/rtatman/fraudulent-email-corpus\n",
    "\n",
    "**may save your life**\n",
    "\n",
    "- https://regex101.com/"
   ]
  },
  {
   "cell_type": "markdown",
   "metadata": {},
   "source": [
    "### First things first"
   ]
  },
  {
   "cell_type": "markdown",
   "metadata": {},
   "source": [
    "For the standard case **import re** should be enough. For the later case **pip3 install regex** should install it."
   ]
  },
  {
   "cell_type": "code",
   "execution_count": 1,
   "metadata": {},
   "outputs": [],
   "source": [
    "import re\n",
    "import numpy as np\n",
    "import pandas as pd"
   ]
  },
  {
   "cell_type": "markdown",
   "metadata": {},
   "source": [
    "### Sintax\n",
    "-> Special Characters:\n",
    "- `.` Matches any character except a newline.\n",
    "- `^` Matches the start of the string.\n",
    "- `$` Matches the end of the string or just before the newline at the end of the string.\n",
    "- `*` Matches 0 or more repetitions of the preceding RE.\n",
    "- `+` Matches 1 or more repetitions of the preceding RE.\n",
    "- `?` Matches 0 or 1 repetitions of the preceding RE.\n",
    "- NOTA: re.M -> modo multilinea\n",
    "\n",
    "https://docs.python.org/3/library/re.html#re-syntax\n",
    "\n",
    "--> Sintax:\n",
    "- **Literals** `a` \n",
    "- **Alternation** `a|b`\n",
    "- **Character sets** `[ab]`, `[^ab]`\n",
    "- **Wildcards** `.`\n",
    "- **Escape special characters** `\\` (?,*,+,^,&)\n",
    "- **Ranges** `[a-d]`, `[1-9]`\n",
    "- **Character classes** `\\w`, `\\d`, `\\s`, `\\n`, `\\W`, `\\D`, `\\S`\n",
    "- **Quantifiers** `{2}`, `{2,}`, `{2,4}`, `?`, `*`, `+`\n",
    "- **Grouping** `()`\n",
    "- **Anchors** `^`, `$`\n",
    "\n"
   ]
  },
  {
   "cell_type": "markdown",
   "metadata": {},
   "source": [
    "### Methods"
   ]
  },
  {
   "cell_type": "markdown",
   "metadata": {},
   "source": [
    "- **sub()**\n",
    "Replaces one or many matches with a string"
   ]
  },
  {
   "cell_type": "code",
   "execution_count": 35,
   "metadata": {},
   "outputs": [],
   "source": [
    "txt = \"gabriel and Clara are TA's??\""
   ]
  },
  {
   "cell_type": "code",
   "execution_count": 36,
   "metadata": {},
   "outputs": [
    {
     "data": {
      "text/plain": [
       "\"Gabriel and Clara are TA's??\""
      ]
     },
     "execution_count": 36,
     "metadata": {},
     "output_type": "execute_result"
    }
   ],
   "source": [
    "#re.sub\n",
    "#Literals\n",
    "re.sub('g','G',txt)"
   ]
  },
  {
   "cell_type": "code",
   "execution_count": 37,
   "metadata": {},
   "outputs": [
    {
     "data": {
      "text/plain": [
       "\"gabriel and lara are TA's??\""
      ]
     },
     "execution_count": 37,
     "metadata": {},
     "output_type": "execute_result"
    }
   ],
   "source": [
    "#Ranges\n",
    "re.sub('C','',txt)"
   ]
  },
  {
   "cell_type": "code",
   "execution_count": 38,
   "metadata": {},
   "outputs": [
    {
     "data": {
      "text/plain": [
       "\"gabriel and Clara are TA's.\""
      ]
     },
     "execution_count": 38,
     "metadata": {},
     "output_type": "execute_result"
    }
   ],
   "source": [
    "#Escape special character, quantifiers\n",
    "re.sub('\\?{2}','.',txt)"
   ]
  },
  {
   "cell_type": "markdown",
   "metadata": {},
   "source": [
    "- **search()**\n",
    "Scan through a string, looking for any location where this RE matches."
   ]
  },
  {
   "cell_type": "code",
   "execution_count": 6,
   "metadata": {},
   "outputs": [
    {
     "data": {
      "text/plain": [
       "<re.Match object; span=(0, 17), match='The rain in Spain'>"
      ]
     },
     "execution_count": 6,
     "metadata": {},
     "output_type": "execute_result"
    }
   ],
   "source": [
    "#re.search\n",
    "txt = \"The rain in Spain\"\n",
    "x = re.search(\"^The.*Spain$\", txt) \n",
    "x"
   ]
  },
  {
   "cell_type": "code",
   "execution_count": 7,
   "metadata": {},
   "outputs": [
    {
     "name": "stdout",
     "output_type": "stream",
     "text": [
      "<re.Match object; span=(12, 17), match='Spain'>\n",
      "(12, 17)\n",
      "12\n",
      "17\n",
      "The rain in Spain\n",
      "Spain\n"
     ]
    }
   ],
   "source": [
    "txt = \"The rain in Spain\"\n",
    "#\\b whole words only\n",
    "x = re.search(r\"\\bS\\w+\", txt)\n",
    "print(x)\n",
    "print(x.span())\n",
    "#returns a tuple containing the start-, and end positions of the match\n",
    "print(x.start())\n",
    "#contains the start position of the match\n",
    "print(x.end())\n",
    "#contains the end position of the match\n",
    "print(x.string)\n",
    "#print the string passed into the function (variable 'txt')\n",
    "print(x.group())\n",
    "#Print the part of the string where there was a match"
   ]
  },
  {
   "cell_type": "code",
   "execution_count": 8,
   "metadata": {},
   "outputs": [
    {
     "name": "stdout",
     "output_type": "stream",
     "text": [
      "<re.Match object; span=(4, 8), match='rain'>\n",
      "None\n",
      "<re.Match object; span=(0, 3), match='The'>\n",
      "None\n"
     ]
    }
   ],
   "source": [
    "print(re.search(r'r\\w*', txt))\n",
    "print(re.search(r'R\\w*', txt))\n",
    "print(re.search(r'^T\\w*', txt))\n",
    "print(re.search(r'^t\\w*', txt))"
   ]
  },
  {
   "cell_type": "markdown",
   "metadata": {},
   "source": [
    "- **match()**\n",
    "Determine if the RE matches at the beginning of the string."
   ]
  },
  {
   "cell_type": "code",
   "execution_count": 9,
   "metadata": {},
   "outputs": [
    {
     "name": "stdout",
     "output_type": "stream",
     "text": [
      "Match!\n"
     ]
    }
   ],
   "source": [
    "#re.match\n",
    "pattern = r\"Cookie\"\n",
    "sequence = \"I want a Cookie\"\n",
    "sequence2= \"Cookie, I want you!\"\n",
    "if re.match(pattern, sequence2):\n",
    "    print(\"Match!\")\n",
    "else: \n",
    "    print(\"Not a match!\")"
   ]
  },
  {
   "cell_type": "code",
   "execution_count": 10,
   "metadata": {},
   "outputs": [
    {
     "name": "stdout",
     "output_type": "stream",
     "text": [
      "None\n",
      "None\n",
      "<re.Match object; span=(0, 3), match='The'>\n",
      "<re.Match object; span=(0, 3), match='The'>\n"
     ]
    }
   ],
   "source": [
    "txt = \"The rain in Spain\"\n",
    "#matches at the beginning of the string\n",
    "print(re.match(r'r\\w*', txt))\n",
    "print(re.match(r'^r\\w*', txt))\n",
    "print(re.match(r'^T\\w*', txt))\n",
    "print(re.match(r'T\\w*', txt))"
   ]
  },
  {
   "cell_type": "code",
   "execution_count": 11,
   "metadata": {},
   "outputs": [
    {
     "name": "stdout",
     "output_type": "stream",
     "text": [
      "support@thebridge.com\n",
      "support\n",
      "thebridge.com\n"
     ]
    }
   ],
   "source": [
    "email_address = 'Please contact us at: support@thebridge.com'\n",
    "match = re.search(r'(\\w+)@([\\w\\.]+)', email_address)\n",
    "if match:\n",
    "    print(match.group()) # The whole matched text\n",
    "    print(match.group(1)) # The username (group 1)\n",
    "    print(match.group(2)) # The host (group 2)"
   ]
  },
  {
   "cell_type": "markdown",
   "metadata": {},
   "source": [
    "- **findall()**\n",
    "Find all substrings where the RE matches, and returns them as a list."
   ]
  },
  {
   "cell_type": "code",
   "execution_count": 12,
   "metadata": {},
   "outputs": [
    {
     "data": {
      "text/plain": [
       "['support.data@data-science.com', 'xyz@thebridge.com']"
      ]
     },
     "execution_count": 12,
     "metadata": {},
     "output_type": "execute_result"
    }
   ],
   "source": [
    "#re.findall\n",
    "email_address = \"Please contact us at: support.data@data-science.com, xyz@thebridge.com\"\n",
    "\n",
    "#'addresses' is a list that stores all the possible match\n",
    "addresses = re.findall(r'[\\w\\.]+@[\\w\\.-]+', email_address)\n",
    "addresses"
   ]
  },
  {
   "cell_type": "code",
   "execution_count": 13,
   "metadata": {},
   "outputs": [
    {
     "name": "stdout",
     "output_type": "stream",
     "text": [
      "['P', 'l', 's', 'c', 'n', 't', 'c', 't', 's', 't', ':', 's', 'p', 'p', 'r', 't', '.', 'd', 't', '@', 'd', 't', '-', 's', 'c', 'n', 'c', '.', 'c', 'm', ',', 'x', 'y', 'z', '@', 't', 'h', 'b', 'r', 'd', 'g', '.', 'c', 'm']\n",
      "[' contact']\n",
      "['Please']\n"
     ]
    }
   ],
   "source": [
    "print(re.findall('[^aeiou\\s]',email_address))\n",
    "print(re.findall('\\sc\\w*',email_address))\n",
    "print(re.findall('^P\\w*',email_address))"
   ]
  },
  {
   "cell_type": "markdown",
   "metadata": {},
   "source": [
    "- **split()**\n",
    "Returns a list where the string has been split at each match"
   ]
  },
  {
   "cell_type": "code",
   "execution_count": 14,
   "metadata": {},
   "outputs": [],
   "source": [
    "#re.split\n",
    "sente = \"Hello,\\n Please, contact me the sooner.\\n Thank you,\\n Me\""
   ]
  },
  {
   "cell_type": "code",
   "execution_count": 15,
   "metadata": {},
   "outputs": [
    {
     "data": {
      "text/plain": [
       "['Hello,', ' Please, contact me the sooner.', ' Thank you,', ' Me']"
      ]
     },
     "execution_count": 15,
     "metadata": {},
     "output_type": "execute_result"
    }
   ],
   "source": [
    "reg = re.split(\"\\n\", sente)\n",
    "reg"
   ]
  },
  {
   "cell_type": "code",
   "execution_count": 16,
   "metadata": {},
   "outputs": [
    {
     "data": {
      "text/plain": [
       "'Hello, Please, contact me the sooner. Thank you, Me'"
      ]
     },
     "execution_count": 16,
     "metadata": {},
     "output_type": "execute_result"
    }
   ],
   "source": [
    "\"\".join(reg)"
   ]
  },
  {
   "cell_type": "markdown",
   "metadata": {},
   "source": [
    "-----------------------------------------------------------------------------------------------------------\n"
   ]
  },
  {
   "cell_type": "markdown",
   "metadata": {},
   "source": [
    "## Some Practice"
   ]
  },
  {
   "cell_type": "code",
   "execution_count": 17,
   "metadata": {},
   "outputs": [],
   "source": [
    "emails_info={}"
   ]
  },
  {
   "cell_type": "code",
   "execution_count": 18,
   "metadata": {},
   "outputs": [],
   "source": [
    "fh = open(\"emails.txt\", \"r\").read()"
   ]
  },
  {
   "cell_type": "code",
   "execution_count": 19,
   "metadata": {},
   "outputs": [
    {
     "data": {
      "text/plain": [
       "3977"
      ]
     },
     "execution_count": 19,
     "metadata": {},
     "output_type": "execute_result"
    }
   ],
   "source": [
    "fh.count(\"From r\")"
   ]
  },
  {
   "cell_type": "code",
   "execution_count": 20,
   "metadata": {},
   "outputs": [],
   "source": [
    "contents = re.split(r\"From r\", fh)"
   ]
  },
  {
   "cell_type": "code",
   "execution_count": 21,
   "metadata": {
    "scrolled": true
   },
   "outputs": [
    {
     "data": {
      "text/plain": [
       "''"
      ]
     },
     "execution_count": 21,
     "metadata": {},
     "output_type": "execute_result"
    }
   ],
   "source": [
    "contents[0]"
   ]
  },
  {
   "cell_type": "code",
   "execution_count": 22,
   "metadata": {},
   "outputs": [
    {
     "data": {
      "text/plain": [
       "''"
      ]
     },
     "execution_count": 22,
     "metadata": {},
     "output_type": "execute_result"
    }
   ],
   "source": [
    "contents.pop(0)"
   ]
  },
  {
   "cell_type": "markdown",
   "metadata": {},
   "source": [
    "- sender_email\n",
    "- sender_name\n",
    "- date_sent\n",
    "- time_sent\n",
    "- subject"
   ]
  },
  {
   "cell_type": "markdown",
   "metadata": {},
   "source": [
    "### Info Sender"
   ]
  },
  {
   "cell_type": "code",
   "execution_count": 23,
   "metadata": {},
   "outputs": [],
   "source": [
    "info_sender=[]\n",
    "for i,e in enumerate(contents):\n",
    "    try:\n",
    "        info_sender.append(re.search(\"From:.*\", e).group())\n",
    "    except: \n",
    "        info_sender.append(\"not found\")"
   ]
  },
  {
   "cell_type": "code",
   "execution_count": 24,
   "metadata": {},
   "outputs": [
    {
     "data": {
      "text/plain": [
       "3977"
      ]
     },
     "execution_count": 24,
     "metadata": {},
     "output_type": "execute_result"
    }
   ],
   "source": [
    "len(info_sender)"
   ]
  },
  {
   "cell_type": "code",
   "execution_count": 25,
   "metadata": {},
   "outputs": [
    {
     "data": {
      "text/plain": [
       "3977"
      ]
     },
     "execution_count": 25,
     "metadata": {},
     "output_type": "execute_result"
    }
   ],
   "source": [
    "#sender_email\n",
    "emails_info['sender_email']=[]\n",
    "for line in info_sender:\n",
    "    res=re.findall(r'[\\w\\.]+@[\\w\\.-]+', line)\n",
    "    if res:\n",
    "        emails_info['sender_email'].append(res[0])\n",
    "    else:\n",
    "        emails_info['sender_email'].append(np.nan)\n",
    "        \n",
    "len(emails_info['sender_email'])"
   ]
  },
  {
   "cell_type": "code",
   "execution_count": 26,
   "metadata": {},
   "outputs": [
    {
     "data": {
      "text/plain": [
       "3977"
      ]
     },
     "execution_count": 26,
     "metadata": {},
     "output_type": "execute_result"
    }
   ],
   "source": [
    "#sender name\n",
    "emails_info['sender_name']=[]\n",
    "for line in info_sender:\n",
    "    res=re.findall(r':.*<', line)\n",
    "    if res:\n",
    "        emails_info['sender_name'].append(res[0][1:-1])\n",
    "    else:\n",
    "        emails_info['sender_name'].append(np.nan)\n",
    "len(emails_info['sender_name'])"
   ]
  },
  {
   "cell_type": "markdown",
   "metadata": {},
   "source": [
    "## Info Dates"
   ]
  },
  {
   "cell_type": "code",
   "execution_count": 27,
   "metadata": {},
   "outputs": [
    {
     "data": {
      "text/plain": [
       "3977"
      ]
     },
     "execution_count": 27,
     "metadata": {},
     "output_type": "execute_result"
    }
   ],
   "source": [
    "#DATES\n",
    "dates=[]\n",
    "for i,e in enumerate(contents):\n",
    "    try:\n",
    "        dates.append(re.search(\"Date:.*\", e).group())\n",
    "    except: \n",
    "        dates.append(\"not found\")\n",
    "len(dates)"
   ]
  },
  {
   "cell_type": "code",
   "execution_count": 28,
   "metadata": {},
   "outputs": [
    {
     "data": {
      "text/plain": [
       "3977"
      ]
     },
     "execution_count": 28,
     "metadata": {},
     "output_type": "execute_result"
    }
   ],
   "source": [
    "#email date\n",
    "emails_info['date_sent']=[]\n",
    "for dat in dates:\n",
    "    res=re.findall(r\"\\d+\\s\\w{3}\\s\\d+\", dat)\n",
    "    if res:\n",
    "        emails_info['date_sent'].append(res[0])\n",
    "    else:\n",
    "        emails_info['date_sent'].append(np.nan)\n",
    "\n",
    "len(emails_info['date_sent'])"
   ]
  },
  {
   "cell_type": "code",
   "execution_count": 29,
   "metadata": {},
   "outputs": [
    {
     "data": {
      "text/plain": [
       "3977"
      ]
     },
     "execution_count": 29,
     "metadata": {},
     "output_type": "execute_result"
    }
   ],
   "source": [
    "emails_info['time_sent']=[]\n",
    "for dat in dates:\n",
    "    res=re.findall(r\"\\d{2}:\\d{2}:\\d{2}\", dat)\n",
    "    if res:\n",
    "        emails_info['time_sent'].append(res[0])\n",
    "    else:\n",
    "        emails_info['time_sent'].append(np.nan)\n",
    "\n",
    "len(emails_info['time_sent'])"
   ]
  },
  {
   "cell_type": "markdown",
   "metadata": {},
   "source": [
    "## Subject"
   ]
  },
  {
   "cell_type": "code",
   "execution_count": 30,
   "metadata": {},
   "outputs": [
    {
     "data": {
      "text/plain": [
       "3977"
      ]
     },
     "execution_count": 30,
     "metadata": {},
     "output_type": "execute_result"
    }
   ],
   "source": [
    "subject=[]\n",
    "for i,e in enumerate(contents):\n",
    "    try:\n",
    "        subject.append(re.search(\"Subject:.*\", e).group())\n",
    "    except: \n",
    "        subject.append(\"not found\")\n",
    "len(subject)"
   ]
  },
  {
   "cell_type": "code",
   "execution_count": 31,
   "metadata": {},
   "outputs": [
    {
     "data": {
      "text/plain": [
       "3977"
      ]
     },
     "execution_count": 31,
     "metadata": {},
     "output_type": "execute_result"
    }
   ],
   "source": [
    "emails_info['subject']=[]\n",
    "for sub in subject:\n",
    "    res=re.findall(r\":.*\", sub)\n",
    "    if res:\n",
    "        emails_info['subject'].append(res[0][2:])\n",
    "    else:\n",
    "        emails_info['subject'].append(np.nan)\n",
    "\n",
    "len(emails_info['subject'])"
   ]
  },
  {
   "cell_type": "markdown",
   "metadata": {},
   "source": [
    "# Creating DataFrame"
   ]
  },
  {
   "cell_type": "code",
   "execution_count": 32,
   "metadata": {},
   "outputs": [
    {
     "data": {
      "text/plain": [
       "sender_email    476\n",
       "sender_name     837\n",
       "date_sent       614\n",
       "time_sent       618\n",
       "subject          27\n",
       "dtype: int64"
      ]
     },
     "execution_count": 32,
     "metadata": {},
     "output_type": "execute_result"
    }
   ],
   "source": [
    "df=pd.DataFrame(emails_info)\n",
    "df.isnull().sum()"
   ]
  },
  {
   "cell_type": "code",
   "execution_count": null,
   "metadata": {},
   "outputs": [],
   "source": []
  }
 ],
 "metadata": {
  "kernelspec": {
   "display_name": "Python 3",
   "language": "python",
   "name": "python3"
  },
  "language_info": {
   "codemirror_mode": {
    "name": "ipython",
    "version": 3
   },
   "file_extension": ".py",
   "mimetype": "text/x-python",
   "name": "python",
   "nbconvert_exporter": "python",
   "pygments_lexer": "ipython3",
   "version": "3.8.3"
  }
 },
 "nbformat": 4,
 "nbformat_minor": 2
}
