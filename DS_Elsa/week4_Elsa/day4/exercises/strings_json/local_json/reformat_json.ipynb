{
 "cells": [
  {
   "cell_type": "code",
   "execution_count": 4,
   "metadata": {},
   "outputs": [
    {
     "output_type": "execute_result",
     "data": {
      "text/plain": "\"{'executionTime': '2020-03-11 05:29:04 AM', 'stationBeanList': [{'id': 304, 'stationName': 'Broadway & Battery Pl', 'availableDocks': 8, 'totalDocks': 33, 'latitude': 40.70463334, 'longitude': -74.01361706, 'statusValue': 'In Service', 'statusKey': 1, 'availableBikes': 24, 'stAddress1': 'Broadway & \""
     },
     "metadata": {},
     "execution_count": 4
    }
   ],
   "source": [
    "import json\n",
    "\n",
    "with open('data.json', 'r+') as outfile:\n",
    "    json_readed = json.load(outfile)\n",
    "str(json_readed)[:300]"
   ]
  },
  {
   "cell_type": "markdown",
   "metadata": {},
   "source": [
    "Look 'final.json'. How can we transform our 'json_readed' variable to something like that? "
   ]
  },
  {
   "cell_type": "code",
   "execution_count": null,
   "metadata": {},
   "outputs": [],
   "source": [
    "# Your code"
   ]
  }
 ],
 "metadata": {
  "language_info": {
   "codemirror_mode": {
    "name": "ipython",
    "version": 3
   },
   "file_extension": ".py",
   "mimetype": "text/x-python",
   "name": "python",
   "nbconvert_exporter": "python",
   "pygments_lexer": "ipython3",
   "version": "3.6.4-final"
  },
  "orig_nbformat": 2,
  "kernelspec": {
   "name": "python36464bitc2077ed07ea84d23aa5b518d224882ab",
   "display_name": "Python 3.6.4 64-bit"
  }
 },
 "nbformat": 4,
 "nbformat_minor": 2
}