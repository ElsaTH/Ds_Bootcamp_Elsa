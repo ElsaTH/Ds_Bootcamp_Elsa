{
 "cells": [
  {
   "cell_type": "code",
   "execution_count": 1,
   "metadata": {},
   "outputs": [],
   "source": [
    "class Puerta:\n",
    "\n",
    "    def __init__(self):\n",
    "        self.color = \"Red\"\n",
    "\n",
    "puerta1 = Puerta()\n",
    "\n"
   ]
  },
  {
   "cell_type": "code",
   "execution_count": 36,
   "metadata": {
    "tags": []
   },
   "outputs": [
    {
     "output_type": "stream",
     "name": "stdout",
     "text": "Tengo dos perros: Dory tiene 5 años Estoy en el __str__ \n Blanca tiene 2 años Estoy en el __str__\n"
    }
   ],
   "source": [
    "class Dog:\n",
    "    def __init__(self, name, age):\n",
    "        self.name = name\n",
    "        self.age = age\n",
    "\n",
    "    def __str__(self):\n",
    "        return str(self.name) + \" tiene \" + str(self.age) + \" años\" + \" Estoy en el __str__\"\n",
    "\n",
    "    def __eq__(self, another):\n",
    "        \"\"\" Se compara los hash. Esta función siempre viene por defecto\"\"\"\n",
    "        if self.__hash__() == another.__hash__():\n",
    "            return True\n",
    "        else:\n",
    "            return False\n",
    "\n",
    "    def show_attributes(self):\n",
    "        \"\"\" Función no necesaria porque uso __str__\"\"\"\n",
    "        x = 2\n",
    "        print(str(self.name) + \" tiene \" + str(self.age) + \" años\")\n",
    "\n",
    "dory = Dog(name=\"Dory\", age=5)\n",
    "#dory.show_attributes()\n",
    "chucho = Dog(name=\"Blanca\", age=2)\n",
    "\n",
    "print(\"Tengo dos perros:\", dory, \"\\n\", chucho)\n"
   ]
  },
  {
   "cell_type": "code",
   "execution_count": 25,
   "metadata": {},
   "outputs": [
    {
     "output_type": "execute_result",
     "data": {
      "text/plain": "False"
     },
     "metadata": {},
     "execution_count": 25
    }
   ],
   "source": [
    "dory == chucho"
   ]
  },
  {
   "cell_type": "code",
   "execution_count": 29,
   "metadata": {},
   "outputs": [
    {
     "output_type": "error",
     "ename": "TypeError",
     "evalue": "unsupported operand type(s) for +: 'Dog' and 'Dog'",
     "traceback": [
      "\u001b[1;31m---------------------------------------------------------------------------\u001b[0m",
      "\u001b[1;31mTypeError\u001b[0m                                 Traceback (most recent call last)",
      "\u001b[1;32m<ipython-input-29-f8bc256406b5>\u001b[0m in \u001b[0;36m<module>\u001b[1;34m\u001b[0m\n\u001b[1;32m----> 1\u001b[1;33m \u001b[0mdory\u001b[0m \u001b[1;33m+\u001b[0m \u001b[0mchucho\u001b[0m\u001b[1;33m\u001b[0m\u001b[0m\n\u001b[0m",
      "\u001b[1;31mTypeError\u001b[0m: unsupported operand type(s) for +: 'Dog' and 'Dog'"
     ]
    }
   ],
   "source": [
    "dory + chucho"
   ]
  },
  {
   "cell_type": "code",
   "execution_count": 15,
   "metadata": {},
   "outputs": [
    {
     "output_type": "execute_result",
     "data": {
      "text/plain": "'Dory tiene 5 añosEstoy en el __str__'"
     },
     "metadata": {},
     "execution_count": 15
    }
   ],
   "source": [
    "dory_str = str(dory)\n",
    "dory_str"
   ]
  },
  {
   "cell_type": "code",
   "execution_count": 24,
   "metadata": {},
   "outputs": [
    {
     "output_type": "execute_result",
     "data": {
      "text/plain": "2"
     },
     "metadata": {},
     "execution_count": 24
    }
   ],
   "source": [
    "def mi_funcion():\n",
    "\n",
    "    return 2, 5\n",
    "\n",
    "x, y = mi_funcion()\n",
    "x"
   ]
  },
  {
   "cell_type": "code",
   "execution_count": 31,
   "metadata": {
    "tags": []
   },
   "outputs": [
    {
     "output_type": "stream",
     "name": "stdout",
     "text": "La suma: 122\nNombre Lorena tiene 98 años. 2\n¿Son iguales Juan y Lorena? False\n¿Son iguales Juan y su clonación? True\n"
    }
   ],
   "source": [
    "class Human:\n",
    "\n",
    "    def __init__(self, name, age):\n",
    "        self.name = name\n",
    "        self.age = age\n",
    "\n",
    "    def __str__(self):\n",
    "        return \"Nombre \" + self.name + \" tiene \" + str(self.age) + \" años.\"\n",
    "        \n",
    "    def __repr__(self):\n",
    "        return \"Nombre \" + self.name + \" y edad \" + self.age + \" años\"\n",
    "    \n",
    "    def __eq__(self, x):\n",
    "        if self.name == x.name and self.age == x.age:\n",
    "            return True\n",
    "        else:\n",
    "            return False\n",
    "    \n",
    "    def __add__(self, another):\n",
    "        return self.age + another.age\n",
    "\n",
    "juan = Human(\"Juan\", 24)\n",
    "lorena = Human(\"Lorena\", 98)\n",
    "juan_clonado = Human(\"Juan\", 24)\n",
    "print(\"La suma:\", juan + lorena)\n",
    "print(lorena, 2)\n",
    "print(\"¿Son iguales Juan y Lorena?\", juan == lorena)\n",
    "print(\"¿Son iguales Juan y su clonación?\", juan == juan_clonado)"
   ]
  },
  {
   "cell_type": "code",
   "execution_count": null,
   "metadata": {},
   "outputs": [],
   "source": []
  },
  {
   "cell_type": "code",
   "execution_count": 22,
   "metadata": {},
   "outputs": [
    {
     "name": "stdout",
     "output_type": "stream",
     "text": "<__main__.Dog object at 0x1056ee410>\n"
    },
    {
     "data": {
      "text/plain": "'<__main__.Dog object at 0x1056ee410>'"
     },
     "execution_count": 22,
     "metadata": {},
     "output_type": "execute_result"
    }
   ],
   "source": [
    "lasy = Dog(name=\"Lasy\", age=2)\n",
    "print(lasy)\n",
    "repr(lasy)"
   ]
  },
  {
   "cell_type": "code",
   "execution_count": 19,
   "metadata": {
    "tags": []
   },
   "outputs": [
    {
     "output_type": "stream",
     "name": "stdout",
     "text": "Nombre Juan tiene 24 años.\n"
    }
   ],
   "source": [
    "print(str(juan))"
   ]
  },
  {
   "cell_type": "code",
   "execution_count": 20,
   "metadata": {
    "tags": []
   },
   "outputs": [
    {
     "output_type": "stream",
     "name": "stdout",
     "text": "Nombre Lorena tiene 98 años.\n"
    }
   ],
   "source": [
    "print(lorena)"
   ]
  },
  {
   "cell_type": "code",
   "execution_count": 21,
   "metadata": {},
   "outputs": [
    {
     "output_type": "execute_result",
     "data": {
      "text/plain": "'Nombre Juan y edad 24 años'"
     },
     "metadata": {},
     "execution_count": 21
    }
   ],
   "source": [
    "repr(juan)"
   ]
  },
  {
   "cell_type": "code",
   "execution_count": 11,
   "metadata": {},
   "outputs": [
    {
     "data": {
      "text/plain": "'Nombre Lorena y edad 98 años'"
     },
     "execution_count": 11,
     "metadata": {},
     "output_type": "execute_result"
    }
   ],
   "source": [
    "repr(lorena)"
   ]
  },
  {
   "cell_type": "code",
   "execution_count": 24,
   "metadata": {},
   "outputs": [
    {
     "name": "stdout",
     "output_type": "stream",
     "text": "Son la misma Lorena!!!\n"
    }
   ],
   "source": [
    "another_lorena = Human(\"Lorena\", 98)\n",
    "if lorena == another_lorena:\n",
    "    print(\"Son la misma Lorena!!!\")"
   ]
  },
  {
   "cell_type": "code",
   "execution_count": 34,
   "metadata": {
    "tags": []
   },
   "outputs": [
    {
     "output_type": "stream",
     "name": "stdout",
     "text": "159624329455\n-9223371877230446392\nNo son iguales\n"
    }
   ],
   "source": [
    "lasy1 = Dog(name=\"Lasy\", age=2)\n",
    "lasy2 = Dog(name=\"Lasy\", age=2)\n",
    "\n",
    "print(lasy1.__hash__())\n",
    "print(lasy2.__hash__())\n",
    "\n",
    "if lasy1 == lasy2:\n",
    "    print(\"Son el mismo perro!!!\")\n",
    "else:\n",
    "    print(\"No son iguales\")"
   ]
  },
  {
   "cell_type": "code",
   "execution_count": 38,
   "metadata": {},
   "outputs": [
    {
     "output_type": "execute_result",
     "data": {
      "text/plain": "False"
     },
     "metadata": {},
     "execution_count": 38
    }
   ],
   "source": [
    "lasy1.__eq__(lasy2)"
   ]
  },
  {
   "cell_type": "code",
   "execution_count": 15,
   "metadata": {},
   "outputs": [
    {
     "name": "stdout",
     "output_type": "stream",
     "text": "Yes\n"
    }
   ],
   "source": [
    "if lasy1 == lasy1:\n",
    "    print(\"Yes\")\n",
    "\n"
   ]
  },
  {
   "cell_type": "code",
   "execution_count": null,
   "metadata": {},
   "outputs": [],
   "source": [
    "print(str(lorena + another_lorena))"
   ]
  },
  {
   "cell_type": "code",
   "execution_count": null,
   "metadata": {},
   "outputs": [],
   "source": []
  }
 ],
 "metadata": {
  "language_info": {
   "name": "python",
   "codemirror_mode": {
    "name": "ipython",
    "version": 3
   },
   "version": "3.6.4-final"
  },
  "orig_nbformat": 2,
  "file_extension": ".py",
  "mimetype": "text/x-python",
  "name": "python",
  "npconvert_exporter": "python",
  "pygments_lexer": "ipython3",
  "version": 3,
  "kernelspec": {
   "name": "python36464bitc2077ed07ea84d23aa5b518d224882ab",
   "display_name": "Python 3.6.4 64-bit"
  }
 },
 "nbformat": 4,
 "nbformat_minor": 2
}