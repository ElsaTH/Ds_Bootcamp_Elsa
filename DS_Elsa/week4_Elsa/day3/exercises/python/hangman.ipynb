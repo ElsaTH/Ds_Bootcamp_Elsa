{
 "cells": [
  {
   "cell_type": "markdown",
   "metadata": {},
   "source": [
    "Link:\n",
    "\n",
    "- [Guess_Letter](https://www.practicepython.org/solution/2017/01/08/31-guess-letters-solutions.html)\n",
    "\n",
    "An example interaction can look like this:\n",
    "\n",
    "*From 'EVAPORATE':*\n",
    "\n",
    ">> Welcome to Hangman!\n",
    "\n",
    ">>> \\_ _ _ _ _ _ _ _ _\n",
    "\n",
    ">> Guess your letter: S\n",
    "\n",
    ">>>Incorrect!\n",
    "\n",
    ">> Guess your letter: E\n",
    "\n",
    ">>> E _ _ _ _ _ _ _ E\n",
    "\n",
    "...\n",
    "\n",
    "Until 6 attemps or correct word."
   ]
  },
  {
   "cell_type": "markdown",
   "metadata": {},
   "source": [
    "Step 0: Especificar palabra a acertar\n",
    "\n",
    "Step 1: Mostrar tablero\n",
    "\n",
    "Step 2: Introducir una letra en cada iteración:\n",
    " - Si no está: Mostrar \"no está\" --> attemps + 1\n",
    " - Si está: Reemplazar \"_\" por la letra acertada\n",
    " - Si está y es la última, mostrar \"Has ganado\" y fin del juego.\n",
    " - Si el número de attemps == 6: fin del juego.\n",
    " - Mostrar la letra introducida: \"Guess your letter: S\"\n",
    "\n",
    "\n"
   ]
  },
  {
   "cell_type": "code",
   "execution_count": 2,
   "metadata": {},
   "outputs": [],
   "source": [
    "def show_board(board):\n",
    "    board_to_show = \"\"\n",
    "    for x in board:\n",
    "        board_to_show = board_to_show + (x + \" \")\n",
    "    print(board_to_show, \"\\n\")"
   ]
  },
  {
   "cell_type": "code",
   "execution_count": 6,
   "metadata": {
    "tags": []
   },
   "outputs": [
    {
     "output_type": "stream",
     "name": "stdout",
     "text": "_ _ _ _ _ _ _ _ _  \n\nGuess your letter: A\nIncorrect!\nAttemps 1 /6\n_ _ _ _ _ _ _ _ _  \n\nGuess your letter: O\n_ O _ _ _ _ _ _ O  \n\nGuess your letter: C\n_ O _ _ _ _ C _ O  \n\nGuess your letter: E\nIncorrect!\nAttemps 2 /6\n_ O _ _ _ _ C _ O  \n\nGuess your letter: N\nIncorrect!\nAttemps 3 /6\n_ O _ _ _ _ C _ O  \n\nGuess your letter: I\n_ O _ _ _ I C I O  \n\nGuess your letter: S\nS O _ S _ I C I O  \n\nGuess your letter: L\nS O L S _ I C I O  \n\nGuess your letter: T\nS O L S T I C I O  \n\nYou win\n"
    }
   ],
   "source": [
    "\n",
    "# Step 0: \n",
    "word = \"SOLSTICIO\"\n",
    "attemps = 0\n",
    "\n",
    "# Step 1: \n",
    "board = list(\"_\" * len(word))\n",
    "\n",
    "show_board(board=board)\n",
    "\n",
    "while True: \n",
    "    guess_letter = input(\"Guess your letter:\").upper()\n",
    "    print(\"Guess your letter:\", guess_letter)\n",
    "\n",
    "    if len(guess_letter) != 1 or not guess_letter.isalpha():\n",
    "        print(\"Insert only one letter\")\n",
    "        continue\n",
    "\n",
    "    if guess_letter in board:  # Repite letra\n",
    "        print(\"Repeted letter!\")\n",
    "        continue\n",
    "\n",
    "    scores = []  # Lista de posiciones acertadas\n",
    "    if guess_letter in word:\n",
    "        for pos, elem in enumerate(word):\n",
    "            if elem == guess_letter:\n",
    "                scores.append(pos)\n",
    "        # Replace _ with letter:\n",
    "        for pos in scores:\n",
    "            board[pos] = guess_letter\n",
    "    else:\n",
    "        attemps += 1\n",
    "        print(\"Incorrect!\")\n",
    "        print(\"Attemps\", attemps, \"/6\")\n",
    "\n",
    "    show_board(board=board)\n",
    "\n",
    "    if \"_\" not in board:\n",
    "        print(\"You win\")\n",
    "        break\n",
    "    if attemps >= 6:\n",
    "        print(\"You lost\")\n",
    "        break"
   ]
  },
  {
   "cell_type": "code",
   "execution_count": 10,
   "metadata": {},
   "outputs": [
    {
     "output_type": "execute_result",
     "data": {
      "text/plain": "'_ _ _ _ _ _ _ _ _ '"
     },
     "metadata": {},
     "execution_count": 10
    }
   ],
   "source": []
  },
  {
   "cell_type": "code",
   "execution_count": null,
   "metadata": {},
   "outputs": [],
   "source": []
  }
 ],
 "metadata": {
  "language_info": {
   "codemirror_mode": {
    "name": "ipython",
    "version": 3
   },
   "file_extension": ".py",
   "mimetype": "text/x-python",
   "name": "python",
   "nbconvert_exporter": "python",
   "pygments_lexer": "ipython3",
   "version": "3.6.4-final"
  },
  "orig_nbformat": 2,
  "kernelspec": {
   "name": "python36464bitc2077ed07ea84d23aa5b518d224882ab",
   "display_name": "Python 3.6.4 64-bit"
  }
 },
 "nbformat": 4,
 "nbformat_minor": 2
}