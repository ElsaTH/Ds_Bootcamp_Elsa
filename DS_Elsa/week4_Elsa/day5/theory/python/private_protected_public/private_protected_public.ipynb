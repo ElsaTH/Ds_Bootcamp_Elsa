{
 "cells": [
  {
   "cell_type": "markdown",
   "metadata": {},
   "source": [
    "![](ppp.png)"
   ]
  },
  {
   "cell_type": "code",
   "execution_count": null,
   "metadata": {},
   "outputs": [],
   "source": [
    "_ = 2\n",
    "\n",
    "x = 2  # Public\n",
    "_x = 2  # Protected\n",
    "__x = 2  # Private"
   ]
  },
  {
   "cell_type": "code",
   "execution_count": null,
   "metadata": {},
   "outputs": [],
   "source": [
    "protected Integer variable = 2;"
   ]
  },
  {
   "cell_type": "code",
   "execution_count": null,
   "metadata": {},
   "outputs": [],
   "source": [
    "class Humano:\n",
    "\n",
    "    def __init__(self):\n",
    "        pass\n",
    "\n",
    "    def __str__(self):\n",
    "        pass\n",
    "\n",
    "    \n"
   ]
  },
  {
   "cell_type": "code",
   "execution_count": 1,
   "metadata": {
    "tags": []
   },
   "outputs": [
    {
     "output_type": "stream",
     "name": "stdout",
     "text": "We are going to test the functions: \n\n\n\n\n--------------------------\nTesting public...\npublic\n--------------------------\nTesting protected...\nProtected\n--------------------------\nTesting private...\nPrivate\n--------------------------\n"
    }
   ],
   "source": [
    "# Public \n",
    "\n",
    "def public_function():\n",
    "    print(\"public\")\n",
    "\n",
    "# Protected\n",
    "\n",
    "def _protected_function():\n",
    "    print(\"Protected\")\n",
    "\n",
    "# Private\n",
    "\n",
    "def __private_function():\n",
    "    print(\"Private\")\n",
    "\n",
    "\n",
    "if __name__ == \"__main__\":\n",
    "    print(\"We are going to test the functions: \\n\\n\\n\\n\")\n",
    "    print(\"--------------------------\")\n",
    "    print(\"Testing public...\")\n",
    "    public_function()\n",
    "    print(\"--------------------------\")\n",
    "    print(\"Testing protected...\")\n",
    "    _protected_function()\n",
    "    print(\"--------------------------\")\n",
    "    print(\"Testing private...\")\n",
    "    __private_function()\n",
    "    print(\"--------------------------\")"
   ]
  },
  {
   "cell_type": "code",
   "execution_count": 16,
   "metadata": {},
   "outputs": [],
   "source": [
    "def __f_priv():\n",
    "    print(\"Soy priv\")"
   ]
  },
  {
   "cell_type": "code",
   "execution_count": 11,
   "metadata": {
    "tags": []
   },
   "outputs": [
    {
     "output_type": "stream",
     "name": "stdout",
     "text": "Hola\nWe are going to test the functions: \n\n\n\n\n--------------------------\nTesting public...\npublic\n--------------------------\nTesting protected...\nProtected\n--------------------------\nTesting private...\n"
    },
    {
     "output_type": "error",
     "ename": "AttributeError",
     "evalue": "'Human' object has no attribute '__private_function'",
     "traceback": [
      "\u001b[1;31m---------------------------------------------------------------------------\u001b[0m",
      "\u001b[1;31mAttributeError\u001b[0m                            Traceback (most recent call last)",
      "\u001b[1;32m<ipython-input-11-ec5881ce815c>\u001b[0m in \u001b[0;36m<module>\u001b[1;34m\u001b[0m\n\u001b[0;32m     30\u001b[0m     \u001b[0mprint\u001b[0m\u001b[1;33m(\u001b[0m\u001b[1;34m\"--------------------------\"\u001b[0m\u001b[1;33m)\u001b[0m\u001b[1;33m\u001b[0m\u001b[0m\n\u001b[0;32m     31\u001b[0m     \u001b[0mprint\u001b[0m\u001b[1;33m(\u001b[0m\u001b[1;34m\"Testing private...\"\u001b[0m\u001b[1;33m)\u001b[0m\u001b[1;33m\u001b[0m\u001b[0m\n\u001b[1;32m---> 32\u001b[1;33m     \u001b[0mp\u001b[0m\u001b[1;33m.\u001b[0m\u001b[0m__private_function\u001b[0m\u001b[1;33m(\u001b[0m\u001b[1;33m)\u001b[0m\u001b[1;33m\u001b[0m\u001b[0m\n\u001b[0m\u001b[0;32m     33\u001b[0m     \u001b[0mprint\u001b[0m\u001b[1;33m(\u001b[0m\u001b[1;34m\"--------------------------\"\u001b[0m\u001b[1;33m)\u001b[0m\u001b[1;33m\u001b[0m\u001b[0m\n",
      "\u001b[1;31mAttributeError\u001b[0m: 'Human' object has no attribute '__private_function'"
     ]
    }
   ],
   "source": [
    "class Human:\n",
    "\n",
    "    def __init__(self):\n",
    "        print(\"Hola\")\n",
    "\n",
    "    # Public \n",
    "    def public_function(self):\n",
    "        print(\"public\")\n",
    "\n",
    "    # Protected\n",
    "    def _protected_function(self):\n",
    "        print(\"Protected\")\n",
    "\n",
    "    # Private\n",
    "    def __private_function(self):\n",
    "        print(\"Private\")\n",
    "\n",
    "    def mi_funcion(self):\n",
    "        self.__private_function()\n",
    "\n",
    "if __name__ == \"__main__\":\n",
    "    p = Human()\n",
    "    print(\"We are going to test the functions: \\n\\n\\n\\n\")\n",
    "    print(\"--------------------------\")\n",
    "    print(\"Testing public...\")\n",
    "    p.public_function()\n",
    "    print(\"--------------------------\")\n",
    "    print(\"Testing protected...\")\n",
    "    p._protected_function()\n",
    "    print(\"--------------------------\")\n",
    "    print(\"Testing private...\")\n",
    "    p.__private_function()\n",
    "    print(\"--------------------------\")"
   ]
  },
  {
   "cell_type": "code",
   "execution_count": 15,
   "metadata": {
    "tags": []
   },
   "outputs": [
    {
     "output_type": "stream",
     "name": "stdout",
     "text": "Soy priv\n"
    }
   ],
   "source": [
    "__f_priv()"
   ]
  },
  {
   "cell_type": "code",
   "execution_count": 13,
   "metadata": {
    "tags": []
   },
   "outputs": [
    {
     "output_type": "stream",
     "name": "stdout",
     "text": "Private\n"
    }
   ],
   "source": [
    "p.mi_funcion()"
   ]
  },
  {
   "cell_type": "code",
   "execution_count": 8,
   "metadata": {
    "tags": []
   },
   "outputs": [
    {
     "output_type": "stream",
     "name": "stdout",
     "text": "Hola\n"
    }
   ],
   "source": [
    "p.__init__()\n",
    "\n",
    "# Built-in"
   ]
  },
  {
   "cell_type": "code",
   "execution_count": 8,
   "metadata": {},
   "outputs": [],
   "source": [
    "import private_protected_public_library as pppl"
   ]
  },
  {
   "cell_type": "code",
   "execution_count": 11,
   "metadata": {},
   "outputs": [
    {
     "name": "stdout",
     "output_type": "stream",
     "text": "public\n"
    }
   ],
   "source": [
    "new_p.public_function()"
   ]
  },
  {
   "cell_type": "code",
   "execution_count": 12,
   "metadata": {},
   "outputs": [
    {
     "name": "stdout",
     "output_type": "stream",
     "text": "Protected\n"
    }
   ],
   "source": [
    "new_p._protected_function()"
   ]
  },
  {
   "cell_type": "code",
   "execution_count": 5,
   "metadata": {},
   "outputs": [
    {
     "ename": "ModuleNotFoundError",
     "evalue": "No module named 'Projects'",
     "output_type": "error",
     "traceback": [
      "\u001b[0;31m---------------------------------------------------------------------------\u001b[0m",
      "\u001b[0;31mModuleNotFoundError\u001b[0m                       Traceback (most recent call last)",
      "\u001b[0;32m<ipython-input-5-dff5c665f3c2>\u001b[0m in \u001b[0;36m<module>\u001b[0;34m\u001b[0m\n\u001b[0;32m----> 1\u001b[0;31m \u001b[0;32mimport\u001b[0m \u001b[0mProjects\u001b[0m\u001b[0;34m.\u001b[0m\u001b[0mTemary\u001b[0m\u001b[0;34m.\u001b[0m\u001b[0mCourse\u001b[0m\u001b[0;34m.\u001b[0m\u001b[0mWeek1\u001b[0m\u001b[0;34m.\u001b[0m\u001b[0mDay3\u001b[0m\u001b[0;34m.\u001b[0m\u001b[0mprivate_protected_public_library\u001b[0m \u001b[0;32mas\u001b[0m \u001b[0mppl2\u001b[0m\u001b[0;34m\u001b[0m\u001b[0;34m\u001b[0m\u001b[0m\n\u001b[0m\u001b[1;32m      2\u001b[0m \u001b[0;34m\u001b[0m\u001b[0m\n\u001b[1;32m      3\u001b[0m \u001b[0mnew_p2\u001b[0m \u001b[0;34m=\u001b[0m \u001b[0mppl2\u001b[0m\u001b[0;34m.\u001b[0m\u001b[0mppp2\u001b[0m\u001b[0;34m(\u001b[0m\u001b[0;34m)\u001b[0m\u001b[0;34m\u001b[0m\u001b[0;34m\u001b[0m\u001b[0m\n",
      "\u001b[0;31mModuleNotFoundError\u001b[0m: No module named 'Projects'"
     ]
    }
   ],
   "source": [
    "import Projects.Temary.Course.Week1.Day3.private_protected_public_library as ppl2\n",
    "\n",
    "new_p2 = ppl2.ppp2()"
   ]
  }
 ],
 "metadata": {
  "language_info": {
   "name": "python",
   "codemirror_mode": {
    "name": "ipython",
    "version": 3
   },
   "version": "3.6.4-final"
  },
  "orig_nbformat": 2,
  "file_extension": ".py",
  "mimetype": "text/x-python",
  "name": "python",
  "npconvert_exporter": "python",
  "pygments_lexer": "ipython3",
  "version": 3,
  "kernelspec": {
   "name": "python36464bitc2077ed07ea84d23aa5b518d224882ab",
   "display_name": "Python 3.6.4 64-bit"
  }
 },
 "nbformat": 4,
 "nbformat_minor": 2
}