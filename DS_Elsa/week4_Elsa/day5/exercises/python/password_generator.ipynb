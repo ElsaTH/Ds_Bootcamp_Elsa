{
 "cells": [
  {
   "cell_type": "markdown",
   "metadata": {},
   "source": [
    "Write a password generator in Python\n",
    "\n",
    "Link: https://www.practicepython.org/solution/2014/06/06/16-password-generator-solutions.html"
   ]
  },
  {
   "cell_type": "code",
   "execution_count": 2,
   "metadata": {
    "tags": []
   },
   "outputs": [
    {
     "output_type": "stream",
     "name": "stdout",
     "text": "\n\nletters:\n\n abcdefghijklmnopqrstuvwxyzABCDEFGHIJKLMNOPQRSTUVWXYZ\n\n\ndigits:\n\n 0123456789\n\n\npunctuations:\n\n !\"#$%&'()*+,-./:;<=>?@[\\]^_`{|}~\n"
    }
   ],
   "source": [
    "import string\n",
    "\n",
    "letters = string.ascii_letters \n",
    "digits = string.digits\n",
    "punctuations = string.punctuation\n",
    "\n",
    "print(\"\\n\\nletters:\\n\\n\", letters)\n",
    "print(\"\\n\\ndigits:\\n\\n\", digits)\n",
    "print(\"\\n\\npunctuations:\\n\\n\", punctuations)"
   ]
  },
  {
   "cell_type": "code",
   "execution_count": 3,
   "metadata": {},
   "outputs": [
    {
     "output_type": "execute_result",
     "data": {
      "text/plain": "str"
     },
     "metadata": {},
     "execution_count": 3
    }
   ],
   "source": [
    "type(letters)"
   ]
  },
  {
   "cell_type": "code",
   "execution_count": 90,
   "metadata": {},
   "outputs": [
    {
     "output_type": "execute_result",
     "data": {
      "text/plain": "'a<--->j<--->7<--->?'"
     },
     "metadata": {},
     "execution_count": 90
    }
   ],
   "source": [
    "lista = [\"a\",\"j\", \"7\", \"?\"]\n",
    "s = \"<--->\".join(lista)\n",
    "s"
   ]
  },
  {
   "cell_type": "code",
   "execution_count": 14,
   "metadata": {
    "tags": []
   },
   "outputs": [
    {
     "output_type": "stream",
     "name": "stdout",
     "text": "94\n"
    },
    {
     "output_type": "execute_result",
     "data": {
      "text/plain": "'abcdefghijklmnopqrstuvwxyzABCDEFGHIJKLMNOPQRSTUVWXYZ0123456789!\"#$%&\\'()*+,-./:;<=>?@[\\\\]^_`{|}~'"
     },
     "metadata": {},
     "execution_count": 14
    }
   ],
   "source": [
    "import random\n",
    "\n",
    "str_total = letters + digits + punctuations\n",
    "print(len(str_total))\n",
    "str_total"
   ]
  },
  {
   "cell_type": "code",
   "execution_count": 35,
   "metadata": {},
   "outputs": [
    {
     "output_type": "execute_result",
     "data": {
      "text/plain": "5"
     },
     "metadata": {},
     "execution_count": 35
    }
   ],
   "source": [
    "random_int = random.randint(0, len(str_total) - 1)\n",
    "random_int"
   ]
  },
  {
   "cell_type": "code",
   "execution_count": 42,
   "metadata": {},
   "outputs": [
    {
     "output_type": "execute_result",
     "data": {
      "text/plain": "'`'"
     },
     "metadata": {},
     "execution_count": 42
    }
   ],
   "source": [
    "random_choice = random.choice(str_total)\n",
    "random_choice"
   ]
  },
  {
   "cell_type": "code",
   "execution_count": 58,
   "metadata": {},
   "outputs": [],
   "source": [
    "n = 90"
   ]
  },
  {
   "cell_type": "code",
   "execution_count": 52,
   "metadata": {
    "tags": []
   },
   "outputs": [
    {
     "output_type": "execute_result",
     "data": {
      "text/plain": "['=', 'l', 'w', 'p', '<', '{', '4', 'm']"
     },
     "metadata": {},
     "execution_count": 52
    }
   ],
   "source": [
    "lista = []\n",
    "for i in range(n):\n",
    "    random_choice = random.choice(str_total)\n",
    "    lista.append(random_choice)\n",
    "lista"
   ]
  },
  {
   "cell_type": "code",
   "execution_count": 59,
   "metadata": {},
   "outputs": [
    {
     "output_type": "execute_result",
     "data": {
      "text/plain": "'\\\\q<D#bu6,b\\':914?4ynbIjeB!5A0!io4)j%o]l%+ZF\"XOg\\'RQ$FBLSZMQ1Ho1C((:)O\\'JMzR@NAf^zn4uu6l5zmO{='"
     },
     "metadata": {},
     "execution_count": 59
    }
   ],
   "source": [
    "password = \"\"\n",
    "for i in range(n):\n",
    "    random_choice = random.choice(str_total)\n",
    "    password = password + random_choice\n",
    "password"
   ]
  },
  {
   "cell_type": "code",
   "execution_count": 91,
   "metadata": {},
   "outputs": [
    {
     "output_type": "execute_result",
     "data": {
      "text/plain": "'l7F%`jPk2j28eqw!'"
     },
     "metadata": {},
     "execution_count": 91
    }
   ],
   "source": [
    "def password_generator(n):\n",
    "    password = \"\"\n",
    "    for i in range(n):\n",
    "        random_choice = random.choice(str_total)\n",
    "        password = password + random_choice\n",
    "    return password\n",
    "\n",
    "n = int(input(\"¿De cuántos caracteres quiere la password?:\"))\n",
    "password = password_generator(n=n)\n",
    "password"
   ]
  },
  {
   "cell_type": "code",
   "execution_count": 92,
   "metadata": {
    "tags": []
   },
   "outputs": [
    {
     "output_type": "stream",
     "name": "stdout",
     "text": "l7F<-->%`j<-->Pk2<-->j28<-->eqw<-->!\n"
    }
   ],
   "source": [
    "def show_password_mac():\n",
    "    to_show = \"\"\n",
    "    for i, s in enumerate(password):\n",
    "        to_show += s\n",
    "        if (i+1) % 3 == 0:\n",
    "            to_show += \"<-->\"\n",
    "    print(to_show)\n",
    "\n",
    "show_password_mac()\n"
   ]
  },
  {
   "cell_type": "code",
   "execution_count": null,
   "metadata": {},
   "outputs": [],
   "source": []
  }
 ],
 "metadata": {
  "language_info": {
   "codemirror_mode": {
    "name": "ipython",
    "version": 3
   },
   "file_extension": ".py",
   "mimetype": "text/x-python",
   "name": "python",
   "nbconvert_exporter": "python",
   "pygments_lexer": "ipython3",
   "version": "3.6.4-final"
  },
  "orig_nbformat": 2,
  "kernelspec": {
   "name": "python36464bitc2077ed07ea84d23aa5b518d224882ab",
   "display_name": "Python 3.6.4 64-bit"
  }
 },
 "nbformat": 4,
 "nbformat_minor": 2
}