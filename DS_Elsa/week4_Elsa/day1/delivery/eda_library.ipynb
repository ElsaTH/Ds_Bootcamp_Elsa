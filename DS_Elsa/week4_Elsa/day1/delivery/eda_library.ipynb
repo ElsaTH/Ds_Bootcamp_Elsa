{
 "cells": [
  {
   "cell_type": "markdown",
   "metadata": {},
   "source": [
    "# Delivery"
   ]
  },
  {
   "cell_type": "markdown",
   "metadata": {},
   "source": [
    "### Create your own EDA library: \n",
    "\n",
    "In this delivery the student will need to create its won library (module). The library must include the EDA functions we are seeing in class and you create. \n",
    "\n",
    "A python library is a \".py\" file that contains python code.\n",
    "\n",
    "There are some requirements: \n",
    "\n",
    "- Each functionality must be done in functions.\n",
    "- Each function must be general. It must be useful for the most of cases.\n",
    "- Functions must not have repeated code. Each function must do something function.\n",
    "- The library should import others libraries as numpy, pandas, ...\n",
    "- Try to create a module \".py\" for each type of functionalty. If you are creating visualizing funcions, then the functions will be in a \"my_visualizing_functions_module.py\", for example. If you are creating analysis functions, then they will be in a \"my_analysis_functions_module.py\", for example. \n",
    "- Each function must be well documented. It must explain the functionality and each function param. \n",
    "- The code must be done in a \".py\" file. \n",
    "\n",
    "Delivery instructions:\n",
    "- End date: 12/07/2020 23:59 \n",
    "- Send to: \n",
    "\n",
    "    - clara.piniella@thebridgeschool.es\n",
    "    - gabriel@thebridgeschool.es\n",
    "\n",
    "\n",
    "\n",
    "\n"
   ]
  },
  {
   "cell_type": "code",
   "execution_count": null,
   "metadata": {},
   "outputs": [],
   "source": [
    "Cada función debe hacerse en funciones.\n",
    "Cada función debe ser general. Debe ser útil para la mayoría de los casos.\n",
    "Las funciones no deben tener código repetido. Cada función debe hacer algo de función.\n",
    "La biblioteca debe importar otras bibliotecas como numpy, pandas, ...\n",
    "Intenta crear un módulo \".py\" para cada tipo de función. Si estás creando funciones de visualización, entonces las funciones estarán en un \"mi_módulo_de_visualización_de_funciones.py\", por ejemplo. Si estás creando funciones de análisis, entonces estarán en un \"mi_módulo_de_funciones_de_análisis.py\", por ejemplo.\n",
    "Cada función debe estar bien documentada. Debe explicar la funcionalidad y cada parametro de la función.\n",
    "El código debe hacerse en un archivo \".py\".\n",
    "\n"
   ]
  }
 ],
 "metadata": {
  "language_info": {
   "name": "python",
   "codemirror_mode": {
    "name": "ipython",
    "version": 3
   }
  },
  "orig_nbformat": 2,
  "file_extension": ".py",
  "mimetype": "text/x-python",
  "name": "python",
  "npconvert_exporter": "python",
  "pygments_lexer": "ipython3",
  "version": 3
 },
 "nbformat": 4,
 "nbformat_minor": 2
}