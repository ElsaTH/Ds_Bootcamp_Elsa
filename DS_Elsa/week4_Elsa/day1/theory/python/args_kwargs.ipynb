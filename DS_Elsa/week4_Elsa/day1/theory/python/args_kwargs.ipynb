{
 "cells": [
  {
   "cell_type": "markdown",
   "metadata": {},
   "source": [
    "Parámetros *args y *kwargs en Python"
   ]
  },
  {
   "cell_type": "code",
   "execution_count": 1,
   "metadata": {
    "tags": []
   },
   "outputs": [
    {
     "output_type": "stream",
     "name": "stdout",
     "text": "5\n"
    }
   ],
   "source": [
    "def mi_funcion():\n",
    "    return 5\n",
    "\n",
    "x = mi_funcion()\n",
    "print(x)\n",
    "\n"
   ]
  },
  {
   "cell_type": "code",
   "execution_count": 2,
   "metadata": {
    "tags": []
   },
   "outputs": [
    {
     "output_type": "stream",
     "name": "stdout",
     "text": "6\n"
    }
   ],
   "source": [
    "def mi_funcion(a):\n",
    "    return a\n",
    "\n",
    "x = mi_funcion(a=6)\n",
    "print(x)"
   ]
  },
  {
   "cell_type": "code",
   "execution_count": 5,
   "metadata": {
    "tags": []
   },
   "outputs": [
    {
     "output_type": "stream",
     "name": "stdout",
     "text": "(2, 3)\n<class 'tuple'>\ntres: 3\n"
    }
   ],
   "source": [
    "def mi_funcion(*args):\n",
    "    print(args)\n",
    "    print(type(args))\n",
    "    tres = args[1]\n",
    "    print(\"tres:\", tres)\n",
    "\n",
    "mi_funcion(2,3)"
   ]
  },
  {
   "cell_type": "code",
   "execution_count": null,
   "metadata": {},
   "outputs": [],
   "source": []
  },
  {
   "cell_type": "code",
   "execution_count": 6,
   "metadata": {
    "tags": []
   },
   "outputs": [
    {
     "output_type": "stream",
     "name": "stdout",
     "text": "11\n"
    }
   ],
   "source": [
    "def suma(*args):\n",
    "    x = args[0]\n",
    "    y = args[1]\n",
    "    print(x+y)\n",
    "\n",
    "suma(4, 7)"
   ]
  },
  {
   "cell_type": "code",
   "execution_count": 7,
   "metadata": {
    "tags": []
   },
   "outputs": [
    {
     "output_type": "stream",
     "name": "stdout",
     "text": "33\n"
    }
   ],
   "source": [
    "def suma_v2(*args):\n",
    "    suma_total = 0\n",
    "    for elem in args:\n",
    "        suma_total = suma_total + elem\n",
    "    return suma_total\n",
    "\n",
    "x = suma_v2(2, 7, 9, 5, 10)\n",
    "print(x)\n"
   ]
  },
  {
   "cell_type": "code",
   "execution_count": 5,
   "metadata": {},
   "outputs": [
    {
     "name": "stdout",
     "output_type": "stream",
     "text": "args: (7, 8, 9)\ntype(args): <class 'tuple'>\none: 7\n"
    }
   ],
   "source": [
    "# Ejemplo *args\n",
    "\n",
    "def args_example(*args):\n",
    "    print(\"args:\", args)\n",
    "    print(\"type(args):\", type(args))\n",
    "    one = args[0]\n",
    "    return one\n",
    "\n",
    "one = args_example(7,8,9)\n",
    "print(\"one:\", one)"
   ]
  },
  {
   "cell_type": "code",
   "execution_count": null,
   "metadata": {},
   "outputs": [],
   "source": [
    "*args = Tuple\n",
    "** kwargs = Dict"
   ]
  },
  {
   "cell_type": "code",
   "execution_count": 10,
   "metadata": {
    "tags": []
   },
   "outputs": [
    {
     "output_type": "stream",
     "name": "stdout",
     "text": "{'x': 2, 'a': 6, 'b': 8}\n<class 'dict'>\nx: 2\n"
    }
   ],
   "source": [
    "def mi_function_kwargs(**kwargs):\n",
    "    print(kwargs)\n",
    "    print(type(kwargs))\n",
    "    x = kwargs[\"x\"]\n",
    "    print(\"x:\", x)\n",
    "\n",
    "mi_function_kwargs(x=2, a=6, b=8)\n"
   ]
  },
  {
   "cell_type": "code",
   "execution_count": 12,
   "metadata": {
    "tags": []
   },
   "outputs": [
    {
     "output_type": "stream",
     "name": "stdout",
     "text": "{'a': 6, 'b': 8}\n<class 'dict'>\nh: 8\n"
    }
   ],
   "source": [
    "def mi_function_kwargs(x, **kwargs):\n",
    "    print(kwargs)\n",
    "    print(type(kwargs))\n",
    "    h = kwargs[\"b\"]\n",
    "    print(\"h:\", h)\n",
    "\n",
    "mi_function_kwargs(x=2, a=6, b=8)"
   ]
  },
  {
   "cell_type": "code",
   "execution_count": 20,
   "metadata": {},
   "outputs": [
    {
     "output_type": "execute_result",
     "data": {
      "text/plain": "(1,)"
     },
     "metadata": {},
     "execution_count": 20
    }
   ],
   "source": [
    "tu = (((1,)))\n",
    "tu"
   ]
  },
  {
   "cell_type": "code",
   "execution_count": 23,
   "metadata": {
    "tags": []
   },
   "outputs": [
    {
     "output_type": "stream",
     "name": "stdout",
     "text": "x: 2\nt: 4\ns: 6\nargs: ('g', 'p')\nkwargs: {'a': 6, 'b': 8}\n<class 'dict'>\nh: 8\n---------------\nx: 3\nt: 4\ns: 5\nargs: ()\nkwargs: {'b': 6}\n<class 'dict'>\nh: 6\n"
    }
   ],
   "source": [
    "def mi_function_kwargs(x, t, s=5, *args, **kwargs):\n",
    "    print(\"x:\", x)\n",
    "    print(\"t:\", t)\n",
    "    print(\"s:\", s)\n",
    "    print(\"args:\", args)\n",
    "    print(\"kwargs:\", kwargs)\n",
    "    print(type(kwargs))\n",
    "    h = kwargs[\"b\"]\n",
    "    print(\"h:\", h)\n",
    "\n",
    "mi_function_kwargs(2, 4, 6, \"g\", \"p\", a=6, b=8)\n",
    "print(\"---------------\")\n",
    "mi_function_kwargs(3, 4, b=6)"
   ]
  },
  {
   "cell_type": "code",
   "execution_count": 7,
   "metadata": {},
   "outputs": [
    {
     "name": "stdout",
     "output_type": "stream",
     "text": "kwargs: {'x': 1, 'y': 4, 'z': 7}\ntype(kwargs): <class 'dict'>\none: 7\n"
    }
   ],
   "source": [
    "# Ejemplo **kwargs\n",
    "\n",
    "def kwargs_example(**kwargs):\n",
    "    print(\"kwargs:\", kwargs)\n",
    "    print(\"type(kwargs):\", type(kwargs))\n",
    "    one = kwargs[\"z\"]\n",
    "    return one\n",
    "\n",
    "one = kwargs_example(x=1, y=4, z=7)\n",
    "print(\"one:\", one)"
   ]
  },
  {
   "cell_type": "code",
   "execution_count": null,
   "metadata": {},
   "outputs": [],
   "source": []
  }
 ],
 "metadata": {
  "language_info": {
   "name": "python",
   "codemirror_mode": {
    "name": "ipython",
    "version": 3
   },
   "version": "3.6.4-final"
  },
  "orig_nbformat": 2,
  "file_extension": ".py",
  "mimetype": "text/x-python",
  "name": "python",
  "npconvert_exporter": "python",
  "pygments_lexer": "ipython3",
  "version": 3,
  "kernelspec": {
   "name": "python36464bitc2077ed07ea84d23aa5b518d224882ab",
   "display_name": "Python 3.6.4 64-bit"
  }
 },
 "nbformat": 4,
 "nbformat_minor": 2
}