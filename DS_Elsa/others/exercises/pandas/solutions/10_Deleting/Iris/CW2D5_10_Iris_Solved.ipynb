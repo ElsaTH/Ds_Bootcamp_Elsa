{
 "cells": [
  {
   "cell_type": "markdown",
   "metadata": {},
   "source": [
    "# Iris"
   ]
  },
  {
   "cell_type": "markdown",
   "metadata": {},
   "source": [
    "### Introduction:\n",
    "\n",
    "This exercise may seem a little bit strange, but keep doing it.\n",
    "\n",
    "### Step 1. Import the necessary libraries"
   ]
  },
  {
   "cell_type": "code",
   "execution_count": 1,
   "metadata": {},
   "outputs": [],
   "source": [
    "import pandas as pd\n",
    "import numpy as np"
   ]
  },
  {
   "cell_type": "markdown",
   "metadata": {},
   "source": [
    "### Step 2. Import the dataset from this [address](https://archive.ics.uci.edu/ml/machine-learning-databases/iris/iris.data). "
   ]
  },
  {
   "cell_type": "markdown",
   "metadata": {},
   "source": [
    "### Step 3. Assign it to a variable called iris"
   ]
  },
  {
   "cell_type": "code",
   "execution_count": 5,
   "metadata": {},
   "outputs": [
    {
     "data": {
      "text/html": "<div>\n<style scoped>\n    .dataframe tbody tr th:only-of-type {\n        vertical-align: middle;\n    }\n\n    .dataframe tbody tr th {\n        vertical-align: top;\n    }\n\n    .dataframe thead th {\n        text-align: right;\n    }\n</style>\n<table border=\"1\" class=\"dataframe\">\n  <thead>\n    <tr style=\"text-align: right;\">\n      <th></th>\n      <th>0</th>\n      <th>1</th>\n      <th>2</th>\n      <th>3</th>\n      <th>4</th>\n    </tr>\n  </thead>\n  <tbody>\n    <tr>\n      <th>0</th>\n      <td>5.1</td>\n      <td>3.5</td>\n      <td>1.4</td>\n      <td>0.2</td>\n      <td>Iris-setosa</td>\n    </tr>\n    <tr>\n      <th>1</th>\n      <td>4.9</td>\n      <td>3.0</td>\n      <td>1.4</td>\n      <td>0.2</td>\n      <td>Iris-setosa</td>\n    </tr>\n    <tr>\n      <th>2</th>\n      <td>4.7</td>\n      <td>3.2</td>\n      <td>1.3</td>\n      <td>0.2</td>\n      <td>Iris-setosa</td>\n    </tr>\n    <tr>\n      <th>3</th>\n      <td>4.6</td>\n      <td>3.1</td>\n      <td>1.5</td>\n      <td>0.2</td>\n      <td>Iris-setosa</td>\n    </tr>\n    <tr>\n      <th>4</th>\n      <td>5.0</td>\n      <td>3.6</td>\n      <td>1.4</td>\n      <td>0.2</td>\n      <td>Iris-setosa</td>\n    </tr>\n  </tbody>\n</table>\n</div>",
      "text/plain": "     0    1    2    3            4\n0  5.1  3.5  1.4  0.2  Iris-setosa\n1  4.9  3.0  1.4  0.2  Iris-setosa\n2  4.7  3.2  1.3  0.2  Iris-setosa\n3  4.6  3.1  1.5  0.2  Iris-setosa\n4  5.0  3.6  1.4  0.2  Iris-setosa"
     },
     "execution_count": 5,
     "metadata": {},
     "output_type": "execute_result"
    }
   ],
   "source": [
    "url = 'https://archive.ics.uci.edu/ml/machine-learning-databases/iris/iris.data'\n",
    "iris = pd.read_csv(url, header=None)\n",
    "\n",
    "iris.head()"
   ]
  },
  {
   "cell_type": "code",
   "execution_count": 6,
   "metadata": {},
   "outputs": [
    {
     "data": {
      "text/plain": "150"
     },
     "execution_count": 6,
     "metadata": {},
     "output_type": "execute_result"
    }
   ],
   "source": [
    "len(iris)"
   ]
  },
  {
   "cell_type": "markdown",
   "metadata": {},
   "source": [
    "### Step 4. Create columns for the dataset"
   ]
  },
  {
   "cell_type": "code",
   "execution_count": 7,
   "metadata": {},
   "outputs": [
    {
     "data": {
      "text/html": "<div>\n<style scoped>\n    .dataframe tbody tr th:only-of-type {\n        vertical-align: middle;\n    }\n\n    .dataframe tbody tr th {\n        vertical-align: top;\n    }\n\n    .dataframe thead th {\n        text-align: right;\n    }\n</style>\n<table border=\"1\" class=\"dataframe\">\n  <thead>\n    <tr style=\"text-align: right;\">\n      <th></th>\n      <th>sepal_length</th>\n      <th>sepal_width</th>\n      <th>petal_length</th>\n      <th>petal_width</th>\n      <th>class</th>\n    </tr>\n  </thead>\n  <tbody>\n    <tr>\n      <th>0</th>\n      <td>5.1</td>\n      <td>3.5</td>\n      <td>1.4</td>\n      <td>0.2</td>\n      <td>Iris-setosa</td>\n    </tr>\n    <tr>\n      <th>1</th>\n      <td>4.9</td>\n      <td>3.0</td>\n      <td>1.4</td>\n      <td>0.2</td>\n      <td>Iris-setosa</td>\n    </tr>\n    <tr>\n      <th>2</th>\n      <td>4.7</td>\n      <td>3.2</td>\n      <td>1.3</td>\n      <td>0.2</td>\n      <td>Iris-setosa</td>\n    </tr>\n    <tr>\n      <th>3</th>\n      <td>4.6</td>\n      <td>3.1</td>\n      <td>1.5</td>\n      <td>0.2</td>\n      <td>Iris-setosa</td>\n    </tr>\n    <tr>\n      <th>4</th>\n      <td>5.0</td>\n      <td>3.6</td>\n      <td>1.4</td>\n      <td>0.2</td>\n      <td>Iris-setosa</td>\n    </tr>\n    <tr>\n      <th>...</th>\n      <td>...</td>\n      <td>...</td>\n      <td>...</td>\n      <td>...</td>\n      <td>...</td>\n    </tr>\n    <tr>\n      <th>145</th>\n      <td>6.7</td>\n      <td>3.0</td>\n      <td>5.2</td>\n      <td>2.3</td>\n      <td>Iris-virginica</td>\n    </tr>\n    <tr>\n      <th>146</th>\n      <td>6.3</td>\n      <td>2.5</td>\n      <td>5.0</td>\n      <td>1.9</td>\n      <td>Iris-virginica</td>\n    </tr>\n    <tr>\n      <th>147</th>\n      <td>6.5</td>\n      <td>3.0</td>\n      <td>5.2</td>\n      <td>2.0</td>\n      <td>Iris-virginica</td>\n    </tr>\n    <tr>\n      <th>148</th>\n      <td>6.2</td>\n      <td>3.4</td>\n      <td>5.4</td>\n      <td>2.3</td>\n      <td>Iris-virginica</td>\n    </tr>\n    <tr>\n      <th>149</th>\n      <td>5.9</td>\n      <td>3.0</td>\n      <td>5.1</td>\n      <td>1.8</td>\n      <td>Iris-virginica</td>\n    </tr>\n  </tbody>\n</table>\n<p>150 rows × 5 columns</p>\n</div>",
      "text/plain": "     sepal_length  sepal_width  petal_length  petal_width           class\n0             5.1          3.5           1.4          0.2     Iris-setosa\n1             4.9          3.0           1.4          0.2     Iris-setosa\n2             4.7          3.2           1.3          0.2     Iris-setosa\n3             4.6          3.1           1.5          0.2     Iris-setosa\n4             5.0          3.6           1.4          0.2     Iris-setosa\n..            ...          ...           ...          ...             ...\n145           6.7          3.0           5.2          2.3  Iris-virginica\n146           6.3          2.5           5.0          1.9  Iris-virginica\n147           6.5          3.0           5.2          2.0  Iris-virginica\n148           6.2          3.4           5.4          2.3  Iris-virginica\n149           5.9          3.0           5.1          1.8  Iris-virginica\n\n[150 rows x 5 columns]"
     },
     "execution_count": 7,
     "metadata": {},
     "output_type": "execute_result"
    }
   ],
   "source": [
    "# 1. sepal_length (in cm)\n",
    "# 2. sepal_width (in cm)\n",
    "# 3. petal_length (in cm)\n",
    "# 4. petal_width (in cm)\n",
    "# 5. class\n",
    "\n",
    "iris.columns = ['sepal_length','sepal_width', 'petal_length', 'petal_width', 'class']\n",
    "iris"
   ]
  },
  {
   "cell_type": "markdown",
   "metadata": {},
   "source": [
    "### Step 5.  Is there any missing value in the dataframe?"
   ]
  },
  {
   "cell_type": "code",
   "execution_count": 8,
   "metadata": {},
   "outputs": [
    {
     "data": {
      "text/plain": "sepal_length    0\nsepal_width     0\npetal_length    0\npetal_width     0\nclass           0\ndtype: int64"
     },
     "execution_count": 8,
     "metadata": {},
     "output_type": "execute_result"
    }
   ],
   "source": [
    "pd.isnull(iris).sum()\n",
    "# nice no missing value"
   ]
  },
  {
   "cell_type": "markdown",
   "metadata": {},
   "source": [
    "### Step 6.  Lets set the values of the rows 10 to 29 of the column 'petal_length' to NaN"
   ]
  },
  {
   "cell_type": "code",
   "execution_count": 9,
   "metadata": {},
   "outputs": [
    {
     "data": {
      "text/html": "<div>\n<style scoped>\n    .dataframe tbody tr th:only-of-type {\n        vertical-align: middle;\n    }\n\n    .dataframe tbody tr th {\n        vertical-align: top;\n    }\n\n    .dataframe thead th {\n        text-align: right;\n    }\n</style>\n<table border=\"1\" class=\"dataframe\">\n  <thead>\n    <tr style=\"text-align: right;\">\n      <th></th>\n      <th>sepal_length</th>\n      <th>sepal_width</th>\n      <th>petal_length</th>\n      <th>petal_width</th>\n      <th>class</th>\n    </tr>\n  </thead>\n  <tbody>\n    <tr>\n      <th>0</th>\n      <td>5.1</td>\n      <td>3.5</td>\n      <td>1.4</td>\n      <td>0.2</td>\n      <td>Iris-setosa</td>\n    </tr>\n    <tr>\n      <th>1</th>\n      <td>4.9</td>\n      <td>3.0</td>\n      <td>1.4</td>\n      <td>0.2</td>\n      <td>Iris-setosa</td>\n    </tr>\n    <tr>\n      <th>2</th>\n      <td>4.7</td>\n      <td>3.2</td>\n      <td>1.3</td>\n      <td>0.2</td>\n      <td>Iris-setosa</td>\n    </tr>\n    <tr>\n      <th>3</th>\n      <td>4.6</td>\n      <td>3.1</td>\n      <td>1.5</td>\n      <td>0.2</td>\n      <td>Iris-setosa</td>\n    </tr>\n    <tr>\n      <th>4</th>\n      <td>5.0</td>\n      <td>3.6</td>\n      <td>1.4</td>\n      <td>0.2</td>\n      <td>Iris-setosa</td>\n    </tr>\n    <tr>\n      <th>5</th>\n      <td>5.4</td>\n      <td>3.9</td>\n      <td>1.7</td>\n      <td>0.4</td>\n      <td>Iris-setosa</td>\n    </tr>\n    <tr>\n      <th>6</th>\n      <td>4.6</td>\n      <td>3.4</td>\n      <td>1.4</td>\n      <td>0.3</td>\n      <td>Iris-setosa</td>\n    </tr>\n    <tr>\n      <th>7</th>\n      <td>5.0</td>\n      <td>3.4</td>\n      <td>1.5</td>\n      <td>0.2</td>\n      <td>Iris-setosa</td>\n    </tr>\n    <tr>\n      <th>8</th>\n      <td>4.4</td>\n      <td>2.9</td>\n      <td>1.4</td>\n      <td>0.2</td>\n      <td>Iris-setosa</td>\n    </tr>\n    <tr>\n      <th>9</th>\n      <td>4.9</td>\n      <td>3.1</td>\n      <td>1.5</td>\n      <td>0.1</td>\n      <td>Iris-setosa</td>\n    </tr>\n    <tr>\n      <th>10</th>\n      <td>5.4</td>\n      <td>3.7</td>\n      <td>NaN</td>\n      <td>0.2</td>\n      <td>Iris-setosa</td>\n    </tr>\n    <tr>\n      <th>11</th>\n      <td>4.8</td>\n      <td>3.4</td>\n      <td>NaN</td>\n      <td>0.2</td>\n      <td>Iris-setosa</td>\n    </tr>\n    <tr>\n      <th>12</th>\n      <td>4.8</td>\n      <td>3.0</td>\n      <td>NaN</td>\n      <td>0.1</td>\n      <td>Iris-setosa</td>\n    </tr>\n    <tr>\n      <th>13</th>\n      <td>4.3</td>\n      <td>3.0</td>\n      <td>NaN</td>\n      <td>0.1</td>\n      <td>Iris-setosa</td>\n    </tr>\n    <tr>\n      <th>14</th>\n      <td>5.8</td>\n      <td>4.0</td>\n      <td>NaN</td>\n      <td>0.2</td>\n      <td>Iris-setosa</td>\n    </tr>\n    <tr>\n      <th>15</th>\n      <td>5.7</td>\n      <td>4.4</td>\n      <td>NaN</td>\n      <td>0.4</td>\n      <td>Iris-setosa</td>\n    </tr>\n    <tr>\n      <th>16</th>\n      <td>5.4</td>\n      <td>3.9</td>\n      <td>NaN</td>\n      <td>0.4</td>\n      <td>Iris-setosa</td>\n    </tr>\n    <tr>\n      <th>17</th>\n      <td>5.1</td>\n      <td>3.5</td>\n      <td>NaN</td>\n      <td>0.3</td>\n      <td>Iris-setosa</td>\n    </tr>\n    <tr>\n      <th>18</th>\n      <td>5.7</td>\n      <td>3.8</td>\n      <td>NaN</td>\n      <td>0.3</td>\n      <td>Iris-setosa</td>\n    </tr>\n    <tr>\n      <th>19</th>\n      <td>5.1</td>\n      <td>3.8</td>\n      <td>NaN</td>\n      <td>0.3</td>\n      <td>Iris-setosa</td>\n    </tr>\n  </tbody>\n</table>\n</div>",
      "text/plain": "    sepal_length  sepal_width  petal_length  petal_width        class\n0            5.1          3.5           1.4          0.2  Iris-setosa\n1            4.9          3.0           1.4          0.2  Iris-setosa\n2            4.7          3.2           1.3          0.2  Iris-setosa\n3            4.6          3.1           1.5          0.2  Iris-setosa\n4            5.0          3.6           1.4          0.2  Iris-setosa\n5            5.4          3.9           1.7          0.4  Iris-setosa\n6            4.6          3.4           1.4          0.3  Iris-setosa\n7            5.0          3.4           1.5          0.2  Iris-setosa\n8            4.4          2.9           1.4          0.2  Iris-setosa\n9            4.9          3.1           1.5          0.1  Iris-setosa\n10           5.4          3.7           NaN          0.2  Iris-setosa\n11           4.8          3.4           NaN          0.2  Iris-setosa\n12           4.8          3.0           NaN          0.1  Iris-setosa\n13           4.3          3.0           NaN          0.1  Iris-setosa\n14           5.8          4.0           NaN          0.2  Iris-setosa\n15           5.7          4.4           NaN          0.4  Iris-setosa\n16           5.4          3.9           NaN          0.4  Iris-setosa\n17           5.1          3.5           NaN          0.3  Iris-setosa\n18           5.7          3.8           NaN          0.3  Iris-setosa\n19           5.1          3.8           NaN          0.3  Iris-setosa"
     },
     "execution_count": 9,
     "metadata": {},
     "output_type": "execute_result"
    }
   ],
   "source": [
    "iris.iloc[10:30,2:3] = np.nan\n",
    "iris.head(20)"
   ]
  },
  {
   "cell_type": "markdown",
   "metadata": {},
   "source": [
    "### Step 7. Good, now lets substitute the NaN values to 1.0"
   ]
  },
  {
   "cell_type": "code",
   "execution_count": 10,
   "metadata": {},
   "outputs": [
    {
     "data": {
      "text/html": "<div>\n<style scoped>\n    .dataframe tbody tr th:only-of-type {\n        vertical-align: middle;\n    }\n\n    .dataframe tbody tr th {\n        vertical-align: top;\n    }\n\n    .dataframe thead th {\n        text-align: right;\n    }\n</style>\n<table border=\"1\" class=\"dataframe\">\n  <thead>\n    <tr style=\"text-align: right;\">\n      <th></th>\n      <th>sepal_length</th>\n      <th>sepal_width</th>\n      <th>petal_length</th>\n      <th>petal_width</th>\n      <th>class</th>\n    </tr>\n  </thead>\n  <tbody>\n    <tr>\n      <th>0</th>\n      <td>5.1</td>\n      <td>3.5</td>\n      <td>1.4</td>\n      <td>0.2</td>\n      <td>Iris-setosa</td>\n    </tr>\n    <tr>\n      <th>1</th>\n      <td>4.9</td>\n      <td>3.0</td>\n      <td>1.4</td>\n      <td>0.2</td>\n      <td>Iris-setosa</td>\n    </tr>\n    <tr>\n      <th>2</th>\n      <td>4.7</td>\n      <td>3.2</td>\n      <td>1.3</td>\n      <td>0.2</td>\n      <td>Iris-setosa</td>\n    </tr>\n    <tr>\n      <th>3</th>\n      <td>4.6</td>\n      <td>3.1</td>\n      <td>1.5</td>\n      <td>0.2</td>\n      <td>Iris-setosa</td>\n    </tr>\n    <tr>\n      <th>4</th>\n      <td>5.0</td>\n      <td>3.6</td>\n      <td>1.4</td>\n      <td>0.2</td>\n      <td>Iris-setosa</td>\n    </tr>\n    <tr>\n      <th>...</th>\n      <td>...</td>\n      <td>...</td>\n      <td>...</td>\n      <td>...</td>\n      <td>...</td>\n    </tr>\n    <tr>\n      <th>145</th>\n      <td>6.7</td>\n      <td>3.0</td>\n      <td>5.2</td>\n      <td>2.3</td>\n      <td>Iris-virginica</td>\n    </tr>\n    <tr>\n      <th>146</th>\n      <td>6.3</td>\n      <td>2.5</td>\n      <td>5.0</td>\n      <td>1.9</td>\n      <td>Iris-virginica</td>\n    </tr>\n    <tr>\n      <th>147</th>\n      <td>6.5</td>\n      <td>3.0</td>\n      <td>5.2</td>\n      <td>2.0</td>\n      <td>Iris-virginica</td>\n    </tr>\n    <tr>\n      <th>148</th>\n      <td>6.2</td>\n      <td>3.4</td>\n      <td>5.4</td>\n      <td>2.3</td>\n      <td>Iris-virginica</td>\n    </tr>\n    <tr>\n      <th>149</th>\n      <td>5.9</td>\n      <td>3.0</td>\n      <td>5.1</td>\n      <td>1.8</td>\n      <td>Iris-virginica</td>\n    </tr>\n  </tbody>\n</table>\n<p>150 rows × 5 columns</p>\n</div>",
      "text/plain": "     sepal_length  sepal_width  petal_length  petal_width           class\n0             5.1          3.5           1.4          0.2     Iris-setosa\n1             4.9          3.0           1.4          0.2     Iris-setosa\n2             4.7          3.2           1.3          0.2     Iris-setosa\n3             4.6          3.1           1.5          0.2     Iris-setosa\n4             5.0          3.6           1.4          0.2     Iris-setosa\n..            ...          ...           ...          ...             ...\n145           6.7          3.0           5.2          2.3  Iris-virginica\n146           6.3          2.5           5.0          1.9  Iris-virginica\n147           6.5          3.0           5.2          2.0  Iris-virginica\n148           6.2          3.4           5.4          2.3  Iris-virginica\n149           5.9          3.0           5.1          1.8  Iris-virginica\n\n[150 rows x 5 columns]"
     },
     "execution_count": 10,
     "metadata": {},
     "output_type": "execute_result"
    }
   ],
   "source": [
    "iris.petal_length.fillna(1, inplace = True)\n",
    "iris"
   ]
  },
  {
   "cell_type": "markdown",
   "metadata": {},
   "source": [
    "### Step 8. Now let's delete the column class"
   ]
  },
  {
   "cell_type": "code",
   "execution_count": 40,
   "metadata": {
    "collapsed": false
   },
   "outputs": [
    {
     "data": {
      "text/html": [
       "<div>\n",
       "<table border=\"1\" class=\"dataframe\">\n",
       "  <thead>\n",
       "    <tr style=\"text-align: right;\">\n",
       "      <th></th>\n",
       "      <th>sepal_length</th>\n",
       "      <th>sepal_width</th>\n",
       "      <th>petal_length</th>\n",
       "      <th>petal_width</th>\n",
       "    </tr>\n",
       "  </thead>\n",
       "  <tbody>\n",
       "    <tr>\n",
       "      <th>0</th>\n",
       "      <td>4.9</td>\n",
       "      <td>3.0</td>\n",
       "      <td>1.4</td>\n",
       "      <td>0.2</td>\n",
       "    </tr>\n",
       "    <tr>\n",
       "      <th>1</th>\n",
       "      <td>4.7</td>\n",
       "      <td>3.2</td>\n",
       "      <td>1.3</td>\n",
       "      <td>0.2</td>\n",
       "    </tr>\n",
       "    <tr>\n",
       "      <th>2</th>\n",
       "      <td>4.6</td>\n",
       "      <td>3.1</td>\n",
       "      <td>1.5</td>\n",
       "      <td>0.2</td>\n",
       "    </tr>\n",
       "    <tr>\n",
       "      <th>3</th>\n",
       "      <td>5.0</td>\n",
       "      <td>3.6</td>\n",
       "      <td>1.4</td>\n",
       "      <td>0.2</td>\n",
       "    </tr>\n",
       "    <tr>\n",
       "      <th>4</th>\n",
       "      <td>5.4</td>\n",
       "      <td>3.9</td>\n",
       "      <td>1.7</td>\n",
       "      <td>0.4</td>\n",
       "    </tr>\n",
       "  </tbody>\n",
       "</table>\n",
       "</div>"
      ],
      "text/plain": [
       "   sepal_length  sepal_width  petal_length  petal_width\n",
       "0           4.9          3.0           1.4          0.2\n",
       "1           4.7          3.2           1.3          0.2\n",
       "2           4.6          3.1           1.5          0.2\n",
       "3           5.0          3.6           1.4          0.2\n",
       "4           5.4          3.9           1.7          0.4"
      ]
     },
     "execution_count": 40,
     "metadata": {},
     "output_type": "execute_result"
    }
   ],
   "source": [
    "del iris['class']\n",
    "iris.head()"
   ]
  },
  {
   "cell_type": "markdown",
   "metadata": {},
   "source": [
    "### Step 9.  Set the first 3 rows as NaN"
   ]
  },
  {
   "cell_type": "code",
   "execution_count": 14,
   "metadata": {},
   "outputs": [
    {
     "data": {
      "text/html": "<div>\n<style scoped>\n    .dataframe tbody tr th:only-of-type {\n        vertical-align: middle;\n    }\n\n    .dataframe tbody tr th {\n        vertical-align: top;\n    }\n\n    .dataframe thead th {\n        text-align: right;\n    }\n</style>\n<table border=\"1\" class=\"dataframe\">\n  <thead>\n    <tr style=\"text-align: right;\">\n      <th></th>\n      <th>sepal_length</th>\n      <th>sepal_width</th>\n      <th>petal_length</th>\n      <th>petal_width</th>\n      <th>class</th>\n    </tr>\n  </thead>\n  <tbody>\n    <tr>\n      <th>0</th>\n      <td>NaN</td>\n      <td>NaN</td>\n      <td>NaN</td>\n      <td>NaN</td>\n      <td>NaN</td>\n    </tr>\n    <tr>\n      <th>1</th>\n      <td>NaN</td>\n      <td>NaN</td>\n      <td>NaN</td>\n      <td>NaN</td>\n      <td>NaN</td>\n    </tr>\n    <tr>\n      <th>2</th>\n      <td>NaN</td>\n      <td>NaN</td>\n      <td>NaN</td>\n      <td>NaN</td>\n      <td>NaN</td>\n    </tr>\n    <tr>\n      <th>3</th>\n      <td>4.6</td>\n      <td>3.1</td>\n      <td>1.5</td>\n      <td>0.2</td>\n      <td>Iris-setosa</td>\n    </tr>\n    <tr>\n      <th>4</th>\n      <td>5.0</td>\n      <td>3.6</td>\n      <td>1.4</td>\n      <td>0.2</td>\n      <td>Iris-setosa</td>\n    </tr>\n    <tr>\n      <th>5</th>\n      <td>5.4</td>\n      <td>3.9</td>\n      <td>1.7</td>\n      <td>0.4</td>\n      <td>Iris-setosa</td>\n    </tr>\n    <tr>\n      <th>6</th>\n      <td>4.6</td>\n      <td>3.4</td>\n      <td>1.4</td>\n      <td>0.3</td>\n      <td>Iris-setosa</td>\n    </tr>\n    <tr>\n      <th>7</th>\n      <td>5.0</td>\n      <td>3.4</td>\n      <td>1.5</td>\n      <td>0.2</td>\n      <td>Iris-setosa</td>\n    </tr>\n    <tr>\n      <th>8</th>\n      <td>4.4</td>\n      <td>2.9</td>\n      <td>1.4</td>\n      <td>0.2</td>\n      <td>Iris-setosa</td>\n    </tr>\n    <tr>\n      <th>9</th>\n      <td>4.9</td>\n      <td>3.1</td>\n      <td>1.5</td>\n      <td>0.1</td>\n      <td>Iris-setosa</td>\n    </tr>\n    <tr>\n      <th>10</th>\n      <td>5.4</td>\n      <td>3.7</td>\n      <td>1.0</td>\n      <td>0.2</td>\n      <td>Iris-setosa</td>\n    </tr>\n    <tr>\n      <th>11</th>\n      <td>4.8</td>\n      <td>3.4</td>\n      <td>1.0</td>\n      <td>0.2</td>\n      <td>Iris-setosa</td>\n    </tr>\n    <tr>\n      <th>12</th>\n      <td>4.8</td>\n      <td>3.0</td>\n      <td>1.0</td>\n      <td>0.1</td>\n      <td>Iris-setosa</td>\n    </tr>\n    <tr>\n      <th>13</th>\n      <td>4.3</td>\n      <td>3.0</td>\n      <td>1.0</td>\n      <td>0.1</td>\n      <td>Iris-setosa</td>\n    </tr>\n    <tr>\n      <th>14</th>\n      <td>5.8</td>\n      <td>4.0</td>\n      <td>1.0</td>\n      <td>0.2</td>\n      <td>Iris-setosa</td>\n    </tr>\n    <tr>\n      <th>15</th>\n      <td>5.7</td>\n      <td>4.4</td>\n      <td>1.0</td>\n      <td>0.4</td>\n      <td>Iris-setosa</td>\n    </tr>\n    <tr>\n      <th>16</th>\n      <td>5.4</td>\n      <td>3.9</td>\n      <td>1.0</td>\n      <td>0.4</td>\n      <td>Iris-setosa</td>\n    </tr>\n    <tr>\n      <th>17</th>\n      <td>5.1</td>\n      <td>3.5</td>\n      <td>1.0</td>\n      <td>0.3</td>\n      <td>Iris-setosa</td>\n    </tr>\n    <tr>\n      <th>18</th>\n      <td>5.7</td>\n      <td>3.8</td>\n      <td>1.0</td>\n      <td>0.3</td>\n      <td>Iris-setosa</td>\n    </tr>\n    <tr>\n      <th>19</th>\n      <td>5.1</td>\n      <td>3.8</td>\n      <td>1.0</td>\n      <td>0.3</td>\n      <td>Iris-setosa</td>\n    </tr>\n    <tr>\n      <th>20</th>\n      <td>5.4</td>\n      <td>3.4</td>\n      <td>1.0</td>\n      <td>0.2</td>\n      <td>Iris-setosa</td>\n    </tr>\n    <tr>\n      <th>21</th>\n      <td>5.1</td>\n      <td>3.7</td>\n      <td>1.0</td>\n      <td>0.4</td>\n      <td>Iris-setosa</td>\n    </tr>\n    <tr>\n      <th>22</th>\n      <td>4.6</td>\n      <td>3.6</td>\n      <td>1.0</td>\n      <td>0.2</td>\n      <td>Iris-setosa</td>\n    </tr>\n    <tr>\n      <th>23</th>\n      <td>5.1</td>\n      <td>3.3</td>\n      <td>1.0</td>\n      <td>0.5</td>\n      <td>Iris-setosa</td>\n    </tr>\n    <tr>\n      <th>24</th>\n      <td>4.8</td>\n      <td>3.4</td>\n      <td>1.0</td>\n      <td>0.2</td>\n      <td>Iris-setosa</td>\n    </tr>\n    <tr>\n      <th>25</th>\n      <td>5.0</td>\n      <td>3.0</td>\n      <td>1.0</td>\n      <td>0.2</td>\n      <td>Iris-setosa</td>\n    </tr>\n    <tr>\n      <th>26</th>\n      <td>5.0</td>\n      <td>3.4</td>\n      <td>1.0</td>\n      <td>0.4</td>\n      <td>Iris-setosa</td>\n    </tr>\n    <tr>\n      <th>27</th>\n      <td>5.2</td>\n      <td>3.5</td>\n      <td>1.0</td>\n      <td>0.2</td>\n      <td>Iris-setosa</td>\n    </tr>\n    <tr>\n      <th>28</th>\n      <td>5.2</td>\n      <td>3.4</td>\n      <td>1.0</td>\n      <td>0.2</td>\n      <td>Iris-setosa</td>\n    </tr>\n    <tr>\n      <th>29</th>\n      <td>4.7</td>\n      <td>3.2</td>\n      <td>1.0</td>\n      <td>0.2</td>\n      <td>Iris-setosa</td>\n    </tr>\n  </tbody>\n</table>\n</div>",
      "text/plain": "    sepal_length  sepal_width  petal_length  petal_width        class\n0            NaN          NaN           NaN          NaN          NaN\n1            NaN          NaN           NaN          NaN          NaN\n2            NaN          NaN           NaN          NaN          NaN\n3            4.6          3.1           1.5          0.2  Iris-setosa\n4            5.0          3.6           1.4          0.2  Iris-setosa\n5            5.4          3.9           1.7          0.4  Iris-setosa\n6            4.6          3.4           1.4          0.3  Iris-setosa\n7            5.0          3.4           1.5          0.2  Iris-setosa\n8            4.4          2.9           1.4          0.2  Iris-setosa\n9            4.9          3.1           1.5          0.1  Iris-setosa\n10           5.4          3.7           1.0          0.2  Iris-setosa\n11           4.8          3.4           1.0          0.2  Iris-setosa\n12           4.8          3.0           1.0          0.1  Iris-setosa\n13           4.3          3.0           1.0          0.1  Iris-setosa\n14           5.8          4.0           1.0          0.2  Iris-setosa\n15           5.7          4.4           1.0          0.4  Iris-setosa\n16           5.4          3.9           1.0          0.4  Iris-setosa\n17           5.1          3.5           1.0          0.3  Iris-setosa\n18           5.7          3.8           1.0          0.3  Iris-setosa\n19           5.1          3.8           1.0          0.3  Iris-setosa\n20           5.4          3.4           1.0          0.2  Iris-setosa\n21           5.1          3.7           1.0          0.4  Iris-setosa\n22           4.6          3.6           1.0          0.2  Iris-setosa\n23           5.1          3.3           1.0          0.5  Iris-setosa\n24           4.8          3.4           1.0          0.2  Iris-setosa\n25           5.0          3.0           1.0          0.2  Iris-setosa\n26           5.0          3.4           1.0          0.4  Iris-setosa\n27           5.2          3.5           1.0          0.2  Iris-setosa\n28           5.2          3.4           1.0          0.2  Iris-setosa\n29           4.7          3.2           1.0          0.2  Iris-setosa"
     },
     "execution_count": 14,
     "metadata": {},
     "output_type": "execute_result"
    }
   ],
   "source": [
    "iris.head(30)"
   ]
  },
  {
   "cell_type": "code",
   "execution_count": 15,
   "metadata": {},
   "outputs": [],
   "source": [
    "iris.iloc[0:3 ,:] = np.nan"
   ]
  },
  {
   "cell_type": "markdown",
   "metadata": {},
   "source": [
    "### Step 10.  Delete the rows that have NaN"
   ]
  },
  {
   "cell_type": "code",
   "execution_count": 18,
   "metadata": {},
   "outputs": [
    {
     "name": "stdout",
     "output_type": "stream",
     "text": "   SparseDataFrame : Container for sparse tabular data.\n |      \n |      Notes\n |      -----\n |      Sparse data should have the same dtypes as its dense representation.\n |      \n |      Examples\n |      --------\n |      >>> arr = np.random.RandomState(0).randn(100, 4)\n |      >>> arr[arr < .8] = np.nan\n |      >>> pd.DataFrame(arr).ftypes\n |      0    float64:dense\n |      1    float64:dense\n |      2    float64:dense\n |      3    float64:dense\n |      dtype: object\n |      \n |      >>> pd.SparseDataFrame(arr).ftypes  # doctest: +SKIP\n |      0    float64:sparse\n |      1    float64:sparse\n |      2    float64:sparse\n |      3    float64:sparse\n |      dtype: object\n |  \n |  iat\n |      Access a single value for a row/column pair by integer position.\n |      \n |      Similar to ``iloc``, in that both provide integer-based lookups. Use\n |      ``iat`` if you only need to get or set a single value in a DataFrame\n |      or Series.\n |      \n |      Raises\n |      ------\n |      IndexError\n |          When integer position is out of bounds\n |      \n |      See Also\n |      --------\n |      DataFrame.at : Access a single value for a row/column label pair.\n |      DataFrame.loc : Access a group of rows and columns by label(s).\n |      DataFrame.iloc : Access a group of rows and columns by integer position(s).\n |      \n |      Examples\n |      --------\n |      >>> df = pd.DataFrame([[0, 2, 3], [0, 4, 1], [10, 20, 30]],\n |      ...                   columns=['A', 'B', 'C'])\n |      >>> df\n |          A   B   C\n |      0   0   2   3\n |      1   0   4   1\n |      2  10  20  30\n |      \n |      Get value at specified row/column pair\n |      \n |      >>> df.iat[1, 2]\n |      1\n |      \n |      Set value at specified row/column pair\n |      \n |      >>> df.iat[1, 2] = 10\n |      >>> df.iat[1, 2]\n |      10\n |      \n |      Get value within a series\n |      \n |      >>> df.loc[0].iat[1]\n |      2\n |  \n |  iloc\n |      Purely integer-location based indexing for selection by position.\n |      \n |      ``.iloc[]`` is primarily integer position based (from ``0`` to\n |      ``length-1`` of the axis), but may also be used with a boolean\n |      array.\n |      \n |      Allowed inputs are:\n |      \n |      - An integer, e.g. ``5``.\n |      - A list or array of integers, e.g. ``[4, 3, 0]``.\n |      - A slice object with ints, e.g. ``1:7``.\n |      - A boolean array.\n |      - A ``callable`` function with one argument (the calling Series or\n |        DataFrame) and that returns valid output for indexing (one of the above).\n |        This is useful in method chains, when you don't have a reference to the\n |        calling object, but would like to base your selection on some value.\n |      \n |      ``.iloc`` will raise ``IndexError`` if a requested indexer is\n |      out-of-bounds, except *slice* indexers which allow out-of-bounds\n |      indexing (this conforms with python/numpy *slice* semantics).\n |      \n |      See more at :ref:`Selection by Position <indexing.integer>`.\n |      \n |      See Also\n |      --------\n |      DataFrame.iat : Fast integer location scalar accessor.\n |      DataFrame.loc : Purely label-location based indexer for selection by label.\n |      Series.iloc : Purely integer-location based indexing for\n |                     selection by position.\n |      \n |      Examples\n |      --------\n |      \n |      >>> mydict = [{'a': 1, 'b': 2, 'c': 3, 'd': 4},\n |      ...           {'a': 100, 'b': 200, 'c': 300, 'd': 400},\n |      ...           {'a': 1000, 'b': 2000, 'c': 3000, 'd': 4000 }]\n |      >>> df = pd.DataFrame(mydict)\n |      >>> df\n |            a     b     c     d\n |      0     1     2     3     4\n |      1   100   200   300   400\n |      2  1000  2000  3000  4000\n |      \n |      **Indexing just the rows**\n |      \n |      With a scalar integer.\n |      \n |      >>> type(df.iloc[0])\n |      <class 'pandas.core.series.Series'>\n |      >>> df.iloc[0]\n |      a    1\n |      b    2\n |      c    3\n |      d    4\n |      Name: 0, dtype: int64\n |      \n |      With a list of integers.\n |      \n |      >>> df.iloc[[0]]\n |         a  b  c  d\n |      0  1  2  3  4\n |      >>> type(df.iloc[[0]])\n |      <class 'pandas.core.frame.DataFrame'>\n |      \n |      >>> df.iloc[[0, 1]]\n |           a    b    c    d\n |      0    1    2    3    4\n |      1  100  200  300  400\n |      \n |      With a `slice` object.\n |      \n |      >>> df.iloc[:3]\n |            a     b     c     d\n |      0     1     2     3     4\n |      1   100   200   300   400\n |      2  1000  2000  3000  4000\n |      \n |      With a boolean mask the same length as the index.\n |      \n |      >>> df.iloc[[True, False, True]]\n |            a     b     c     d\n |      0     1     2     3     4\n |      2  1000  2000  3000  4000\n |      \n |      With a callable, useful in method chains. The `x` passed\n |      to the ``lambda`` is the DataFrame being sliced. This selects\n |      the rows whose index label even.\n |      \n |      >>> df.iloc[lambda x: x.index % 2 == 0]\n |            a     b     c     d\n |      0     1     2     3     4\n |      2  1000  2000  3000  4000\n |      \n |      **Indexing both axes**\n |      \n |      You can mix the indexer types for the index and columns. Use ``:`` to\n |      select the entire axis.\n |      \n |      With scalar integers.\n |      \n |      >>> df.iloc[0, 1]\n |      2\n |      \n |      With lists of integers.\n |      \n |      >>> df.iloc[[0, 2], [1, 3]]\n |            b     d\n |      0     2     4\n |      2  2000  4000\n |      \n |      With `slice` objects.\n |      \n |      >>> df.iloc[1:3, 0:3]\n |            a     b     c\n |      1   100   200   300\n |      2  1000  2000  3000\n |      \n |      With a boolean array whose length matches the columns.\n |      \n |      >>> df.iloc[:, [True, False, True, False]]\n |            a     c\n |      0     1     3\n |      1   100   300\n |      2  1000  3000\n |      \n |      With a callable function that expects the Series or DataFrame.\n |      \n |      >>> df.iloc[:, lambda df: [0, 2]]\n |            a     c\n |      0     1     3\n |      1   100   300\n |      2  1000  3000\n |  \n |  is_copy\n |      Return the copy.\n |  \n |  ix\n |      A primarily label-location based indexer, with integer position\n |      fallback.\n |      \n |      Warning: Starting in 0.20.0, the .ix indexer is deprecated, in\n |      favor of the more strict .iloc and .loc indexers.\n |      \n |      ``.ix[]`` supports mixed integer and label based access. It is\n |      primarily label based, but will fall back to integer positional\n |      access unless the corresponding axis is of integer type.\n |      \n |      ``.ix`` is the most general indexer and will support any of the\n |      inputs in ``.loc`` and ``.iloc``. ``.ix`` also supports floating\n |      point label schemes. ``.ix`` is exceptionally useful when dealing\n |      with mixed positional and label based hierarchical indexes.\n |      \n |      However, when an axis is integer based, ONLY label based access\n |      and not positional access is supported. Thus, in such cases, it's\n |      usually better to be explicit and use ``.iloc`` or ``.loc``.\n |      \n |      See more at :ref:`Advanced Indexing <advanced>`.\n |  \n |  loc\n |      Access a group of rows and columns by label(s) or a boolean array.\n |      \n |      ``.loc[]`` is primarily label based, but may also be used with a\n |      boolean array.\n |      \n |      Allowed inputs are:\n |      \n |      - A single label, e.g. ``5`` or ``'a'``, (note that ``5`` is\n |        interpreted as a *label* of the index, and **never** as an\n |        integer position along the index).\n |      - A list or array of labels, e.g. ``['a', 'b', 'c']``.\n |      - A slice object with labels, e.g. ``'a':'f'``.\n |      \n |        .. warning:: Note that contrary to usual python slices, **both** the\n |            start and the stop are included\n |      \n |      - A boolean array of the same length as the axis being sliced,\n |        e.g. ``[True, False, True]``.\n |      - A ``callable`` function with one argument (the calling Series or\n |        DataFrame) and that returns valid output for indexing (one of the above)\n |      \n |      See more at :ref:`Selection by Label <indexing.label>`\n |      \n |      Raises\n |      ------\n |      KeyError:\n |          when any items are not found\n |      \n |      See Also\n |      --------\n |      DataFrame.at : Access a single value for a row/column label pair.\n |      DataFrame.iloc : Access group of rows and columns by integer position(s).\n |      DataFrame.xs : Returns a cross-section (row(s) or column(s)) from the\n |          Series/DataFrame.\n |      Series.loc : Access group of values using labels.\n |      \n |      Examples\n |      --------\n |      **Getting values**\n |      \n |      >>> df = pd.DataFrame([[1, 2], [4, 5], [7, 8]],\n |      ...      index=['cobra', 'viper', 'sidewinder'],\n |      ...      columns=['max_speed', 'shield'])\n |      >>> df\n |                  max_speed  shield\n |      cobra               1       2\n |      viper               4       5\n |      sidewinder          7       8\n |      \n |      Single label. Note this returns the row as a Series.\n |      \n |      >>> df.loc['viper']\n |      max_speed    4\n |      shield       5\n |      Name: viper, dtype: int64\n |      \n |      List of labels. Note using ``[[]]`` returns a DataFrame.\n |      \n |      >>> df.loc[['viper', 'sidewinder']]\n |                  max_speed  shield\n |      viper               4       5\n |      sidewinder          7       8\n |      \n |      Single label for row and column\n |      \n |      >>> df.loc['cobra', 'shield']\n |      2\n |      \n |      Slice with labels for row and single label for column. As mentioned\n |      above, note that both the start and stop of the slice are included.\n |      \n |      >>> df.loc['cobra':'viper', 'max_speed']\n |      cobra    1\n |      viper    4\n |      Name: max_speed, dtype: int64\n |      \n |      Boolean list with the same length as the row axis\n |      \n |      >>> df.loc[[False, False, True]]\n |                  max_speed  shield\n |      sidewinder          7       8\n |      \n |      Conditional that returns a boolean Series\n |      \n |      >>> df.loc[df['shield'] > 6]\n |                  max_speed  shield\n |      sidewinder          7       8\n |      \n |      Conditional that returns a boolean Series with column labels specified\n |      \n |      >>> df.loc[df['shield'] > 6, ['max_speed']]\n |                  max_speed\n |      sidewinder          7\n |      \n |      Callable that returns a boolean Series\n |      \n |      >>> df.loc[lambda df: df['shield'] == 8]\n |                  max_speed  shield\n |      sidewinder          7       8\n |      \n |      **Setting values**\n |      \n |      Set value for all items matching the list of labels\n |      \n |      >>> df.loc[['viper', 'sidewinder'], ['shield']] = 50\n |      >>> df\n |                  max_speed  shield\n |      cobra               1       2\n |      viper               4      50\n |      sidewinder          7      50\n |      \n |      Set value for an entire row\n |      \n |      >>> df.loc['cobra'] = 10\n |      >>> df\n |                  max_speed  shield\n |      cobra              10      10\n |      viper               4      50\n |      sidewinder          7      50\n |      \n |      Set value for an entire column\n |      \n |      >>> df.loc[:, 'max_speed'] = 30\n |      >>> df\n |                  max_speed  shield\n |      cobra              30      10\n |      viper              30      50\n |      sidewinder         30      50\n |      \n |      Set value for rows matching callable condition\n |      \n |      >>> df.loc[df['shield'] > 35] = 0\n |      >>> df\n |                  max_speed  shield\n |      cobra              30      10\n |      viper               0       0\n |      sidewinder          0       0\n |      \n |      **Getting values on a DataFrame with an index that has integer labels**\n |      \n |      Another example using integers for the index\n |      \n |      >>> df = pd.DataFrame([[1, 2], [4, 5], [7, 8]],\n |      ...      index=[7, 8, 9], columns=['max_speed', 'shield'])\n |      >>> df\n |         max_speed  shield\n |      7          1       2\n |      8          4       5\n |      9          7       8\n |      \n |      Slice with integer labels for rows. As mentioned above, note that both\n |      the start and stop of the slice are included.\n |      \n |      >>> df.loc[7:9]\n |         max_speed  shield\n |      7          1       2\n |      8          4       5\n |      9          7       8\n |      \n |      **Getting values with a MultiIndex**\n |      \n |      A number of examples using a DataFrame with a MultiIndex\n |      \n |      >>> tuples = [\n |      ...    ('cobra', 'mark i'), ('cobra', 'mark ii'),\n |      ...    ('sidewinder', 'mark i'), ('sidewinder', 'mark ii'),\n |      ...    ('viper', 'mark ii'), ('viper', 'mark iii')\n |      ... ]\n |      >>> index = pd.MultiIndex.from_tuples(tuples)\n |      >>> values = [[12, 2], [0, 4], [10, 20],\n |      ...         [1, 4], [7, 1], [16, 36]]\n |      >>> df = pd.DataFrame(values, columns=['max_speed', 'shield'], index=index)\n |      >>> df\n |                           max_speed  shield\n |      cobra      mark i           12       2\n |                 mark ii           0       4\n |      sidewinder mark i           10      20\n |                 mark ii           1       4\n |      viper      mark ii           7       1\n |                 mark iii         16      36\n |      \n |      Single label. Note this returns a DataFrame with a single index.\n |      \n |      >>> df.loc['cobra']\n |               max_speed  shield\n |      mark i          12       2\n |      mark ii          0       4\n |      \n |      Single index tuple. Note this returns a Series.\n |      \n |      >>> df.loc[('cobra', 'mark ii')]\n |      max_speed    0\n |      shield       4\n |      Name: (cobra, mark ii), dtype: int64\n |      \n |      Single label for row and column. Similar to passing in a tuple, this\n |      returns a Series.\n |      \n |      >>> df.loc['cobra', 'mark i']\n |      max_speed    12\n |      shield        2\n |      Name: (cobra, mark i), dtype: int64\n |      \n |      Single tuple. Note using ``[[]]`` returns a DataFrame.\n |      \n |      >>> df.loc[[('cobra', 'mark ii')]]\n |                     max_speed  shield\n |      cobra mark ii          0       4\n |      \n |      Single tuple for the index with a single label for the column\n |      \n |      >>> df.loc[('cobra', 'mark i'), 'shield']\n |      2\n |      \n |      Slice from index tuple to single label\n |      \n |      >>> df.loc[('cobra', 'mark i'):'viper']\n |                           max_speed  shield\n |      cobra      mark i           12       2\n |                 mark ii           0       4\n |      sidewinder mark i           10      20\n |                 mark ii           1       4\n |      viper      mark ii           7       1\n |                 mark iii         16      36\n |      \n |      Slice from index tuple to index tuple\n |      \n |      >>> df.loc[('cobra', 'mark i'):('viper', 'mark ii')]\n |                          max_speed  shield\n |      cobra      mark i          12       2\n |                 mark ii          0       4\n |      sidewinder mark i          10      20\n |                 mark ii          1       4\n |      viper      mark ii          7       1\n |  \n |  ndim\n |      Return an int representing the number of axes / array dimensions.\n |      \n |      Return 1 if Series. Otherwise return 2 if DataFrame.\n |      \n |      See Also\n |      --------\n |      ndarray.ndim : Number of array dimensions.\n |      \n |      Examples\n |      --------\n |      >>> s = pd.Series({'a': 1, 'b': 2, 'c': 3})\n |      >>> s.ndim\n |      1\n |      \n |      >>> df = pd.DataFrame({'col1': [1, 2], 'col2': [3, 4]})\n |      >>> df.ndim\n |      2\n |  \n |  size\n |      Return an int representing the number of elements in this object.\n |      \n |      Return the number of rows if Series. Otherwise return the number of\n |      rows times number of columns if DataFrame.\n |      \n |      See Also\n |      --------\n |      ndarray.size : Number of elements in the array.\n |      \n |      Examples\n |      --------\n |      >>> s = pd.Series({'a': 1, 'b': 2, 'c': 3})\n |      >>> s.size\n |      3\n |      \n |      >>> df = pd.DataFrame({'col1': [1, 2], 'col2': [3, 4]})\n |      >>> df.size\n |      4\n |  \n |  values\n |      Return a Numpy representation of the DataFrame.\n |      \n |      .. warning::\n |      \n |         We recommend using :meth:`DataFrame.to_numpy` instead.\n |      \n |      Only the values in the DataFrame will be returned, the axes labels\n |      will be removed.\n |      \n |      Returns\n |      -------\n |      numpy.ndarray\n |          The values of the DataFrame.\n |      \n |      See Also\n |      --------\n |      DataFrame.to_numpy : Recommended alternative to this method.\n |      DataFrame.index : Retrieve the index labels.\n |      DataFrame.columns : Retrieving the column names.\n |      \n |      Notes\n |      -----\n |      The dtype will be a lower-common-denominator dtype (implicit\n |      upcasting); that is to say if the dtypes (even of numeric types)\n |      are mixed, the one that accommodates all will be chosen. Use this\n |      with care if you are not dealing with the blocks.\n |      \n |      e.g. If the dtypes are float16 and float32, dtype will be upcast to\n |      float32.  If dtypes are int32 and uint8, dtype will be upcast to\n |      int32. By :func:`numpy.find_common_type` convention, mixing int64\n |      and uint64 will result in a float64 dtype.\n |      \n |      Examples\n |      --------\n |      A DataFrame where all columns are the same type (e.g., int64) results\n |      in an array of the same type.\n |      \n |      >>> df = pd.DataFrame({'age':    [ 3,  29],\n |      ...                    'height': [94, 170],\n |      ...                    'weight': [31, 115]})\n |      >>> df\n |         age  height  weight\n |      0    3      94      31\n |      1   29     170     115\n |      >>> df.dtypes\n |      age       int64\n |      height    int64\n |      weight    int64\n |      dtype: object\n |      >>> df.values\n |      array([[  3,  94,  31],\n |             [ 29, 170, 115]], dtype=int64)\n |      \n |      A DataFrame with mixed type columns(e.g., str/object, int64, float32)\n |      results in an ndarray of the broadest type that accommodates these\n |      mixed types (e.g., object).\n |      \n |      >>> df2 = pd.DataFrame([('parrot',   24.0, 'second'),\n |      ...                     ('lion',     80.5, 1),\n |      ...                     ('monkey', np.nan, None)],\n |      ...                   columns=('name', 'max_speed', 'rank'))\n |      >>> df2.dtypes\n |      name          object\n |      max_speed    float64\n |      rank          object\n |      dtype: object\n |      >>> df2.values\n |      array([['parrot', 24.0, 'second'],\n |             ['lion', 80.5, 1],\n |             ['monkey', nan, None]], dtype=object)\n |  \n |  ----------------------------------------------------------------------\n |  Data and other attributes inherited from pandas.core.generic.NDFrame:\n |  \n |  __array_priority__ = 1000\n |  \n |  ----------------------------------------------------------------------\n |  Methods inherited from pandas.core.base.PandasObject:\n |  \n |  __sizeof__(self)\n |      Generates the total memory usage for an object that returns\n |      either a value or Series of values\n |  \n |  ----------------------------------------------------------------------\n |  Methods inherited from pandas.core.accessor.DirNamesMixin:\n |  \n |  __dir__(self)\n |      Provide method name lookup and completion\n |      Only provide 'public' methods.\n |  \n |  ----------------------------------------------------------------------\n |  Data descriptors inherited from pandas.core.accessor.DirNamesMixin:\n |  \n |  __dict__\n |      dictionary for instance variables (if defined)\n |  \n |  __weakref__\n |      list of weak references to the object (if defined)\n\n"
    }
   ],
   "source": [
    "help(iris.dropna())"
   ]
  },
  {
   "cell_type": "code",
   "execution_count": 16,
   "metadata": {},
   "outputs": [
    {
     "data": {
      "text/html": "<div>\n<style scoped>\n    .dataframe tbody tr th:only-of-type {\n        vertical-align: middle;\n    }\n\n    .dataframe tbody tr th {\n        vertical-align: top;\n    }\n\n    .dataframe thead th {\n        text-align: right;\n    }\n</style>\n<table border=\"1\" class=\"dataframe\">\n  <thead>\n    <tr style=\"text-align: right;\">\n      <th></th>\n      <th>sepal_length</th>\n      <th>sepal_width</th>\n      <th>petal_length</th>\n      <th>petal_width</th>\n      <th>class</th>\n    </tr>\n  </thead>\n  <tbody>\n    <tr>\n      <th>3</th>\n      <td>4.6</td>\n      <td>3.1</td>\n      <td>1.5</td>\n      <td>0.2</td>\n      <td>Iris-setosa</td>\n    </tr>\n    <tr>\n      <th>4</th>\n      <td>5.0</td>\n      <td>3.6</td>\n      <td>1.4</td>\n      <td>0.2</td>\n      <td>Iris-setosa</td>\n    </tr>\n    <tr>\n      <th>5</th>\n      <td>5.4</td>\n      <td>3.9</td>\n      <td>1.7</td>\n      <td>0.4</td>\n      <td>Iris-setosa</td>\n    </tr>\n    <tr>\n      <th>6</th>\n      <td>4.6</td>\n      <td>3.4</td>\n      <td>1.4</td>\n      <td>0.3</td>\n      <td>Iris-setosa</td>\n    </tr>\n    <tr>\n      <th>7</th>\n      <td>5.0</td>\n      <td>3.4</td>\n      <td>1.5</td>\n      <td>0.2</td>\n      <td>Iris-setosa</td>\n    </tr>\n  </tbody>\n</table>\n</div>",
      "text/plain": "   sepal_length  sepal_width  petal_length  petal_width        class\n3           4.6          3.1           1.5          0.2  Iris-setosa\n4           5.0          3.6           1.4          0.2  Iris-setosa\n5           5.4          3.9           1.7          0.4  Iris-setosa\n6           4.6          3.4           1.4          0.3  Iris-setosa\n7           5.0          3.4           1.5          0.2  Iris-setosa"
     },
     "execution_count": 16,
     "metadata": {},
     "output_type": "execute_result"
    }
   ],
   "source": [
    "iris = iris.dropna(how='any')\n",
    "iris.head()"
   ]
  },
  {
   "cell_type": "markdown",
   "metadata": {},
   "source": [
    "### Step 11. Reset the index so it begins with 0 again"
   ]
  },
  {
   "cell_type": "code",
   "execution_count": 20,
   "metadata": {},
   "outputs": [
    {
     "data": {
      "text/html": "<div>\n<style scoped>\n    .dataframe tbody tr th:only-of-type {\n        vertical-align: middle;\n    }\n\n    .dataframe tbody tr th {\n        vertical-align: top;\n    }\n\n    .dataframe thead th {\n        text-align: right;\n    }\n</style>\n<table border=\"1\" class=\"dataframe\">\n  <thead>\n    <tr style=\"text-align: right;\">\n      <th></th>\n      <th>sepal_length</th>\n      <th>sepal_width</th>\n      <th>petal_length</th>\n      <th>petal_width</th>\n      <th>class</th>\n    </tr>\n  </thead>\n  <tbody>\n    <tr>\n      <th>0</th>\n      <td>4.6</td>\n      <td>3.1</td>\n      <td>1.5</td>\n      <td>0.2</td>\n      <td>Iris-setosa</td>\n    </tr>\n    <tr>\n      <th>1</th>\n      <td>5.0</td>\n      <td>3.6</td>\n      <td>1.4</td>\n      <td>0.2</td>\n      <td>Iris-setosa</td>\n    </tr>\n    <tr>\n      <th>2</th>\n      <td>5.4</td>\n      <td>3.9</td>\n      <td>1.7</td>\n      <td>0.4</td>\n      <td>Iris-setosa</td>\n    </tr>\n    <tr>\n      <th>3</th>\n      <td>4.6</td>\n      <td>3.4</td>\n      <td>1.4</td>\n      <td>0.3</td>\n      <td>Iris-setosa</td>\n    </tr>\n    <tr>\n      <th>4</th>\n      <td>5.0</td>\n      <td>3.4</td>\n      <td>1.5</td>\n      <td>0.2</td>\n      <td>Iris-setosa</td>\n    </tr>\n  </tbody>\n</table>\n</div>",
      "text/plain": "   sepal_length  sepal_width  petal_length  petal_width        class\n0           4.6          3.1           1.5          0.2  Iris-setosa\n1           5.0          3.6           1.4          0.2  Iris-setosa\n2           5.4          3.9           1.7          0.4  Iris-setosa\n3           4.6          3.4           1.4          0.3  Iris-setosa\n4           5.0          3.4           1.5          0.2  Iris-setosa"
     },
     "execution_count": 20,
     "metadata": {},
     "output_type": "execute_result"
    }
   ],
   "source": [
    "iris2 = iris.reset_index(drop = True)\n",
    "iris2.head()"
   ]
  },
  {
   "cell_type": "code",
   "execution_count": null,
   "metadata": {
    "collapsed": true
   },
   "outputs": [],
   "source": []
  }
 ],
 "metadata": {
  "kernelspec": {
   "display_name": "Python 3.6.4 64-bit",
   "language": "python",
   "name": "python36464bitc2077ed07ea84d23aa5b518d224882ab"
  },
  "language_info": {
   "codemirror_mode": {
    "name": "ipython",
    "version": 2
   },
   "file_extension": ".py",
   "mimetype": "text/x-python",
   "name": "python",
   "nbconvert_exporter": "python",
   "pygments_lexer": "ipython2",
   "version": "3.6.4-final"
  }
 },
 "nbformat": 4,
 "nbformat_minor": 0
}