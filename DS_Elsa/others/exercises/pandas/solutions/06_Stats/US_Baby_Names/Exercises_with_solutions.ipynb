{
 "cells": [
  {
   "cell_type": "markdown",
   "metadata": {},
   "source": [
    "# US - Baby Names"
   ]
  },
  {
   "cell_type": "markdown",
   "metadata": {},
   "source": [
    "### Introduction:\n",
    "\n",
    "We are going to use a subset of [US Baby Names](https://www.kaggle.com/kaggle/us-baby-names) from Kaggle.  \n",
    "In the file it will be names from 2004 until 2014\n",
    "\n",
    "\n",
    "### Step 1. Import the necessary libraries"
   ]
  },
  {
   "cell_type": "code",
   "execution_count": 1,
   "metadata": {},
   "outputs": [],
   "source": [
    "import pandas as pd"
   ]
  },
  {
   "cell_type": "markdown",
   "metadata": {},
   "source": [
    "### Step 2. Import the dataset from this [address](https://raw.githubusercontent.com/guipsamora/pandas_exercises/master/06_Stats/US_Baby_Names/US_Baby_Names_right.csv). "
   ]
  },
  {
   "cell_type": "markdown",
   "metadata": {},
   "source": [
    "### Step 3. Assign it to a variable called baby_names."
   ]
  },
  {
   "cell_type": "code",
   "execution_count": 7,
   "metadata": {},
   "outputs": [
    {
     "output_type": "execute_result",
     "data": {
      "text/plain": "      Unnamed: 0     Id      Name  Year Gender State  Count\n0          11349  11350      Emma  2004      F    AK     62\n1          11350  11351   Madison  2004      F    AK     48\n2          11351  11352    Hannah  2004      F    AK     46\n3          11352  11353     Grace  2004      F    AK     44\n4          11353  11354     Emily  2004      F    AK     41\n...          ...    ...       ...   ...    ...   ...    ...\n9995       90247  90248    Maddie  2009      F    AL      9\n9996       90248  90249  Madelynn  2009      F    AL      9\n9997       90249  90250  Markayla  2009      F    AL      9\n9998       90250  90251    Marlie  2009      F    AL      9\n9999       90251  90252      Rosa  2009      F    AL      9\n\n[10000 rows x 7 columns]",
      "text/html": "<div>\n<style scoped>\n    .dataframe tbody tr th:only-of-type {\n        vertical-align: middle;\n    }\n\n    .dataframe tbody tr th {\n        vertical-align: top;\n    }\n\n    .dataframe thead th {\n        text-align: right;\n    }\n</style>\n<table border=\"1\" class=\"dataframe\">\n  <thead>\n    <tr style=\"text-align: right;\">\n      <th></th>\n      <th>Unnamed: 0</th>\n      <th>Id</th>\n      <th>Name</th>\n      <th>Year</th>\n      <th>Gender</th>\n      <th>State</th>\n      <th>Count</th>\n    </tr>\n  </thead>\n  <tbody>\n    <tr>\n      <th>0</th>\n      <td>11349</td>\n      <td>11350</td>\n      <td>Emma</td>\n      <td>2004</td>\n      <td>F</td>\n      <td>AK</td>\n      <td>62</td>\n    </tr>\n    <tr>\n      <th>1</th>\n      <td>11350</td>\n      <td>11351</td>\n      <td>Madison</td>\n      <td>2004</td>\n      <td>F</td>\n      <td>AK</td>\n      <td>48</td>\n    </tr>\n    <tr>\n      <th>2</th>\n      <td>11351</td>\n      <td>11352</td>\n      <td>Hannah</td>\n      <td>2004</td>\n      <td>F</td>\n      <td>AK</td>\n      <td>46</td>\n    </tr>\n    <tr>\n      <th>3</th>\n      <td>11352</td>\n      <td>11353</td>\n      <td>Grace</td>\n      <td>2004</td>\n      <td>F</td>\n      <td>AK</td>\n      <td>44</td>\n    </tr>\n    <tr>\n      <th>4</th>\n      <td>11353</td>\n      <td>11354</td>\n      <td>Emily</td>\n      <td>2004</td>\n      <td>F</td>\n      <td>AK</td>\n      <td>41</td>\n    </tr>\n    <tr>\n      <th>...</th>\n      <td>...</td>\n      <td>...</td>\n      <td>...</td>\n      <td>...</td>\n      <td>...</td>\n      <td>...</td>\n      <td>...</td>\n    </tr>\n    <tr>\n      <th>9995</th>\n      <td>90247</td>\n      <td>90248</td>\n      <td>Maddie</td>\n      <td>2009</td>\n      <td>F</td>\n      <td>AL</td>\n      <td>9</td>\n    </tr>\n    <tr>\n      <th>9996</th>\n      <td>90248</td>\n      <td>90249</td>\n      <td>Madelynn</td>\n      <td>2009</td>\n      <td>F</td>\n      <td>AL</td>\n      <td>9</td>\n    </tr>\n    <tr>\n      <th>9997</th>\n      <td>90249</td>\n      <td>90250</td>\n      <td>Markayla</td>\n      <td>2009</td>\n      <td>F</td>\n      <td>AL</td>\n      <td>9</td>\n    </tr>\n    <tr>\n      <th>9998</th>\n      <td>90250</td>\n      <td>90251</td>\n      <td>Marlie</td>\n      <td>2009</td>\n      <td>F</td>\n      <td>AL</td>\n      <td>9</td>\n    </tr>\n    <tr>\n      <th>9999</th>\n      <td>90251</td>\n      <td>90252</td>\n      <td>Rosa</td>\n      <td>2009</td>\n      <td>F</td>\n      <td>AL</td>\n      <td>9</td>\n    </tr>\n  </tbody>\n</table>\n<p>10000 rows × 7 columns</p>\n</div>"
     },
     "metadata": {},
     "execution_count": 7
    }
   ],
   "source": [
    "url = \"https://raw.githubusercontent.com/guipsamora/pandas_exercises/master/06_Stats/US_Baby_Names/US_Baby_Names_right.csv\"\n",
    "baby_names = pd.read_csv(url, nrows=10000)\n",
    "baby_names"
   ]
  },
  {
   "cell_type": "code",
   "execution_count": 8,
   "metadata": {
    "tags": []
   },
   "outputs": [
    {
     "output_type": "stream",
     "name": "stdout",
     "text": "<class 'pandas.core.frame.DataFrame'>\nRangeIndex: 10000 entries, 0 to 9999\nData columns (total 7 columns):\nUnnamed: 0    10000 non-null int64\nId            10000 non-null int64\nName          10000 non-null object\nYear          10000 non-null int64\nGender        10000 non-null object\nState         10000 non-null object\nCount         10000 non-null int64\ndtypes: int64(4), object(3)\nmemory usage: 547.0+ KB\n"
    }
   ],
   "source": [
    "baby_names.info()"
   ]
  },
  {
   "cell_type": "code",
   "execution_count": null,
   "metadata": {},
   "outputs": [],
   "source": [
    "b, B, KB, MB, GB, TB "
   ]
  },
  {
   "cell_type": "code",
   "execution_count": 9,
   "metadata": {
    "tags": []
   },
   "outputs": [
    {
     "output_type": "stream",
     "name": "stdout",
     "text": "<class 'pandas.core.frame.DataFrame'>\nRangeIndex: 1016395 entries, 0 to 1016394\nData columns (total 7 columns):\nUnnamed: 0    1016395 non-null int64\nId            1016395 non-null int64\nName          1016395 non-null object\nYear          1016395 non-null int64\nGender        1016395 non-null object\nState         1016395 non-null object\nCount         1016395 non-null int64\ndtypes: int64(4), object(3)\nmemory usage: 54.3+ MB\n"
    }
   ],
   "source": [
    "baby_names = pd.read_csv('https://raw.githubusercontent.com/guipsamora/pandas_exercises/master/06_Stats/US_Baby_Names/US_Baby_Names_right.csv')\n",
    "baby_names.info()"
   ]
  },
  {
   "cell_type": "code",
   "execution_count": null,
   "metadata": {},
   "outputs": [],
   "source": []
  },
  {
   "cell_type": "markdown",
   "metadata": {},
   "source": [
    "### Step 4. See the first 10 entries"
   ]
  },
  {
   "cell_type": "code",
   "execution_count": 16,
   "metadata": {},
   "outputs": [
    {
     "data": {
      "text/html": "<div>\n<style scoped>\n    .dataframe tbody tr th:only-of-type {\n        vertical-align: middle;\n    }\n\n    .dataframe tbody tr th {\n        vertical-align: top;\n    }\n\n    .dataframe thead th {\n        text-align: right;\n    }\n</style>\n<table border=\"1\" class=\"dataframe\">\n  <thead>\n    <tr style=\"text-align: right;\">\n      <th></th>\n      <th>Unnamed: 0</th>\n      <th>Id</th>\n      <th>Name</th>\n      <th>Year</th>\n      <th>Gender</th>\n      <th>State</th>\n      <th>Count</th>\n    </tr>\n  </thead>\n  <tbody>\n    <tr>\n      <td>0</td>\n      <td>11349</td>\n      <td>11350</td>\n      <td>Emma</td>\n      <td>2004</td>\n      <td>F</td>\n      <td>AK</td>\n      <td>62</td>\n    </tr>\n    <tr>\n      <td>1</td>\n      <td>11350</td>\n      <td>11351</td>\n      <td>Madison</td>\n      <td>2004</td>\n      <td>F</td>\n      <td>AK</td>\n      <td>48</td>\n    </tr>\n    <tr>\n      <td>2</td>\n      <td>11351</td>\n      <td>11352</td>\n      <td>Hannah</td>\n      <td>2004</td>\n      <td>F</td>\n      <td>AK</td>\n      <td>46</td>\n    </tr>\n    <tr>\n      <td>3</td>\n      <td>11352</td>\n      <td>11353</td>\n      <td>Grace</td>\n      <td>2004</td>\n      <td>F</td>\n      <td>AK</td>\n      <td>44</td>\n    </tr>\n    <tr>\n      <td>4</td>\n      <td>11353</td>\n      <td>11354</td>\n      <td>Emily</td>\n      <td>2004</td>\n      <td>F</td>\n      <td>AK</td>\n      <td>41</td>\n    </tr>\n    <tr>\n      <td>5</td>\n      <td>11354</td>\n      <td>11355</td>\n      <td>Abigail</td>\n      <td>2004</td>\n      <td>F</td>\n      <td>AK</td>\n      <td>37</td>\n    </tr>\n    <tr>\n      <td>6</td>\n      <td>11355</td>\n      <td>11356</td>\n      <td>Olivia</td>\n      <td>2004</td>\n      <td>F</td>\n      <td>AK</td>\n      <td>33</td>\n    </tr>\n    <tr>\n      <td>7</td>\n      <td>11356</td>\n      <td>11357</td>\n      <td>Isabella</td>\n      <td>2004</td>\n      <td>F</td>\n      <td>AK</td>\n      <td>30</td>\n    </tr>\n    <tr>\n      <td>8</td>\n      <td>11357</td>\n      <td>11358</td>\n      <td>Alyssa</td>\n      <td>2004</td>\n      <td>F</td>\n      <td>AK</td>\n      <td>29</td>\n    </tr>\n    <tr>\n      <td>9</td>\n      <td>11358</td>\n      <td>11359</td>\n      <td>Sophia</td>\n      <td>2004</td>\n      <td>F</td>\n      <td>AK</td>\n      <td>28</td>\n    </tr>\n  </tbody>\n</table>\n</div>",
      "text/plain": "   Unnamed: 0     Id      Name  Year Gender State  Count\n0       11349  11350      Emma  2004      F    AK     62\n1       11350  11351   Madison  2004      F    AK     48\n2       11351  11352    Hannah  2004      F    AK     46\n3       11352  11353     Grace  2004      F    AK     44\n4       11353  11354     Emily  2004      F    AK     41\n5       11354  11355   Abigail  2004      F    AK     37\n6       11355  11356    Olivia  2004      F    AK     33\n7       11356  11357  Isabella  2004      F    AK     30\n8       11357  11358    Alyssa  2004      F    AK     29\n9       11358  11359    Sophia  2004      F    AK     28"
     },
     "execution_count": 16,
     "metadata": {},
     "output_type": "execute_result"
    }
   ],
   "source": [
    "baby_names.head(10)"
   ]
  },
  {
   "cell_type": "markdown",
   "metadata": {},
   "source": [
    "### Step 5. Delete the column 'Unnamed: 0' and 'Id'"
   ]
  },
  {
   "cell_type": "code",
   "execution_count": 11,
   "metadata": {},
   "outputs": [
    {
     "output_type": "execute_result",
     "data": {
      "text/plain": "         Unnamed: 0       Id     Name  Year Gender State  Count\n0             11349    11350     Emma  2004      F    AK     62\n1             11350    11351  Madison  2004      F    AK     48\n2             11351    11352   Hannah  2004      F    AK     46\n3             11352    11353    Grace  2004      F    AK     44\n4             11353    11354    Emily  2004      F    AK     41\n...             ...      ...      ...   ...    ...   ...    ...\n1016390     5647421  5647422     Seth  2014      M    WY      5\n1016391     5647422  5647423  Spencer  2014      M    WY      5\n1016392     5647423  5647424     Tyce  2014      M    WY      5\n1016393     5647424  5647425   Victor  2014      M    WY      5\n1016394     5647425  5647426   Waylon  2014      M    WY      5\n\n[1016395 rows x 7 columns]",
      "text/html": "<div>\n<style scoped>\n    .dataframe tbody tr th:only-of-type {\n        vertical-align: middle;\n    }\n\n    .dataframe tbody tr th {\n        vertical-align: top;\n    }\n\n    .dataframe thead th {\n        text-align: right;\n    }\n</style>\n<table border=\"1\" class=\"dataframe\">\n  <thead>\n    <tr style=\"text-align: right;\">\n      <th></th>\n      <th>Unnamed: 0</th>\n      <th>Id</th>\n      <th>Name</th>\n      <th>Year</th>\n      <th>Gender</th>\n      <th>State</th>\n      <th>Count</th>\n    </tr>\n  </thead>\n  <tbody>\n    <tr>\n      <th>0</th>\n      <td>11349</td>\n      <td>11350</td>\n      <td>Emma</td>\n      <td>2004</td>\n      <td>F</td>\n      <td>AK</td>\n      <td>62</td>\n    </tr>\n    <tr>\n      <th>1</th>\n      <td>11350</td>\n      <td>11351</td>\n      <td>Madison</td>\n      <td>2004</td>\n      <td>F</td>\n      <td>AK</td>\n      <td>48</td>\n    </tr>\n    <tr>\n      <th>2</th>\n      <td>11351</td>\n      <td>11352</td>\n      <td>Hannah</td>\n      <td>2004</td>\n      <td>F</td>\n      <td>AK</td>\n      <td>46</td>\n    </tr>\n    <tr>\n      <th>3</th>\n      <td>11352</td>\n      <td>11353</td>\n      <td>Grace</td>\n      <td>2004</td>\n      <td>F</td>\n      <td>AK</td>\n      <td>44</td>\n    </tr>\n    <tr>\n      <th>4</th>\n      <td>11353</td>\n      <td>11354</td>\n      <td>Emily</td>\n      <td>2004</td>\n      <td>F</td>\n      <td>AK</td>\n      <td>41</td>\n    </tr>\n    <tr>\n      <th>...</th>\n      <td>...</td>\n      <td>...</td>\n      <td>...</td>\n      <td>...</td>\n      <td>...</td>\n      <td>...</td>\n      <td>...</td>\n    </tr>\n    <tr>\n      <th>1016390</th>\n      <td>5647421</td>\n      <td>5647422</td>\n      <td>Seth</td>\n      <td>2014</td>\n      <td>M</td>\n      <td>WY</td>\n      <td>5</td>\n    </tr>\n    <tr>\n      <th>1016391</th>\n      <td>5647422</td>\n      <td>5647423</td>\n      <td>Spencer</td>\n      <td>2014</td>\n      <td>M</td>\n      <td>WY</td>\n      <td>5</td>\n    </tr>\n    <tr>\n      <th>1016392</th>\n      <td>5647423</td>\n      <td>5647424</td>\n      <td>Tyce</td>\n      <td>2014</td>\n      <td>M</td>\n      <td>WY</td>\n      <td>5</td>\n    </tr>\n    <tr>\n      <th>1016393</th>\n      <td>5647424</td>\n      <td>5647425</td>\n      <td>Victor</td>\n      <td>2014</td>\n      <td>M</td>\n      <td>WY</td>\n      <td>5</td>\n    </tr>\n    <tr>\n      <th>1016394</th>\n      <td>5647425</td>\n      <td>5647426</td>\n      <td>Waylon</td>\n      <td>2014</td>\n      <td>M</td>\n      <td>WY</td>\n      <td>5</td>\n    </tr>\n  </tbody>\n</table>\n<p>1016395 rows × 7 columns</p>\n</div>"
     },
     "metadata": {},
     "execution_count": 11
    }
   ],
   "source": [
    "baby_names"
   ]
  },
  {
   "cell_type": "code",
   "execution_count": 12,
   "metadata": {},
   "outputs": [
    {
     "output_type": "execute_result",
     "data": {
      "text/plain": "            Name  Year Gender State  Count\n0           Emma  2004      F    AK     62\n1        Madison  2004      F    AK     48\n2         Hannah  2004      F    AK     46\n3          Grace  2004      F    AK     44\n4          Emily  2004      F    AK     41\n...          ...   ...    ...   ...    ...\n1016390     Seth  2014      M    WY      5\n1016391  Spencer  2014      M    WY      5\n1016392     Tyce  2014      M    WY      5\n1016393   Victor  2014      M    WY      5\n1016394   Waylon  2014      M    WY      5\n\n[1016395 rows x 5 columns]",
      "text/html": "<div>\n<style scoped>\n    .dataframe tbody tr th:only-of-type {\n        vertical-align: middle;\n    }\n\n    .dataframe tbody tr th {\n        vertical-align: top;\n    }\n\n    .dataframe thead th {\n        text-align: right;\n    }\n</style>\n<table border=\"1\" class=\"dataframe\">\n  <thead>\n    <tr style=\"text-align: right;\">\n      <th></th>\n      <th>Name</th>\n      <th>Year</th>\n      <th>Gender</th>\n      <th>State</th>\n      <th>Count</th>\n    </tr>\n  </thead>\n  <tbody>\n    <tr>\n      <th>0</th>\n      <td>Emma</td>\n      <td>2004</td>\n      <td>F</td>\n      <td>AK</td>\n      <td>62</td>\n    </tr>\n    <tr>\n      <th>1</th>\n      <td>Madison</td>\n      <td>2004</td>\n      <td>F</td>\n      <td>AK</td>\n      <td>48</td>\n    </tr>\n    <tr>\n      <th>2</th>\n      <td>Hannah</td>\n      <td>2004</td>\n      <td>F</td>\n      <td>AK</td>\n      <td>46</td>\n    </tr>\n    <tr>\n      <th>3</th>\n      <td>Grace</td>\n      <td>2004</td>\n      <td>F</td>\n      <td>AK</td>\n      <td>44</td>\n    </tr>\n    <tr>\n      <th>4</th>\n      <td>Emily</td>\n      <td>2004</td>\n      <td>F</td>\n      <td>AK</td>\n      <td>41</td>\n    </tr>\n    <tr>\n      <th>...</th>\n      <td>...</td>\n      <td>...</td>\n      <td>...</td>\n      <td>...</td>\n      <td>...</td>\n    </tr>\n    <tr>\n      <th>1016390</th>\n      <td>Seth</td>\n      <td>2014</td>\n      <td>M</td>\n      <td>WY</td>\n      <td>5</td>\n    </tr>\n    <tr>\n      <th>1016391</th>\n      <td>Spencer</td>\n      <td>2014</td>\n      <td>M</td>\n      <td>WY</td>\n      <td>5</td>\n    </tr>\n    <tr>\n      <th>1016392</th>\n      <td>Tyce</td>\n      <td>2014</td>\n      <td>M</td>\n      <td>WY</td>\n      <td>5</td>\n    </tr>\n    <tr>\n      <th>1016393</th>\n      <td>Victor</td>\n      <td>2014</td>\n      <td>M</td>\n      <td>WY</td>\n      <td>5</td>\n    </tr>\n    <tr>\n      <th>1016394</th>\n      <td>Waylon</td>\n      <td>2014</td>\n      <td>M</td>\n      <td>WY</td>\n      <td>5</td>\n    </tr>\n  </tbody>\n</table>\n<p>1016395 rows × 5 columns</p>\n</div>"
     },
     "metadata": {},
     "execution_count": 12
    }
   ],
   "source": [
    "DX = baby_names.loc[:, \"Name\":\"Count\"]\n",
    "DX"
   ]
  },
  {
   "cell_type": "code",
   "execution_count": 15,
   "metadata": {},
   "outputs": [
    {
     "output_type": "execute_result",
     "data": {
      "text/plain": "      Name  Year Gender State  Count\n0     Emma  2004      F    AK     62\n1  Madison  2004      F    AK     48\n2   Hannah  2004      F    AK     46\n3    Grace  2004      F    AK     44\n4    Emily  2004      F    AK     41",
      "text/html": "<div>\n<style scoped>\n    .dataframe tbody tr th:only-of-type {\n        vertical-align: middle;\n    }\n\n    .dataframe tbody tr th {\n        vertical-align: top;\n    }\n\n    .dataframe thead th {\n        text-align: right;\n    }\n</style>\n<table border=\"1\" class=\"dataframe\">\n  <thead>\n    <tr style=\"text-align: right;\">\n      <th></th>\n      <th>Name</th>\n      <th>Year</th>\n      <th>Gender</th>\n      <th>State</th>\n      <th>Count</th>\n    </tr>\n  </thead>\n  <tbody>\n    <tr>\n      <th>0</th>\n      <td>Emma</td>\n      <td>2004</td>\n      <td>F</td>\n      <td>AK</td>\n      <td>62</td>\n    </tr>\n    <tr>\n      <th>1</th>\n      <td>Madison</td>\n      <td>2004</td>\n      <td>F</td>\n      <td>AK</td>\n      <td>48</td>\n    </tr>\n    <tr>\n      <th>2</th>\n      <td>Hannah</td>\n      <td>2004</td>\n      <td>F</td>\n      <td>AK</td>\n      <td>46</td>\n    </tr>\n    <tr>\n      <th>3</th>\n      <td>Grace</td>\n      <td>2004</td>\n      <td>F</td>\n      <td>AK</td>\n      <td>44</td>\n    </tr>\n    <tr>\n      <th>4</th>\n      <td>Emily</td>\n      <td>2004</td>\n      <td>F</td>\n      <td>AK</td>\n      <td>41</td>\n    </tr>\n  </tbody>\n</table>\n</div>"
     },
     "metadata": {},
     "execution_count": 15
    }
   ],
   "source": [
    "# deletes Unnamed: 0\n",
    "del baby_names['Unnamed: 0']\n",
    "\n",
    "# deletes Unnamed: 0\n",
    "del baby_names['Id']\n",
    "\n",
    "baby_names.head()"
   ]
  },
  {
   "cell_type": "markdown",
   "metadata": {},
   "source": [
    "### Step 6. Are there more male or female names in the dataset?"
   ]
  },
  {
   "cell_type": "code",
   "execution_count": 5,
   "metadata": {
    "collapsed": false
   },
   "outputs": [
    {
     "data": {
      "text/plain": [
       "F    558846\n",
       "M    457549\n",
       "Name: Gender, dtype: int64"
      ]
     },
     "execution_count": 5,
     "metadata": {},
     "output_type": "execute_result"
    }
   ],
   "source": [
    "baby_names['Gender'].value_counts()"
   ]
  },
  {
   "cell_type": "code",
   "execution_count": 16,
   "metadata": {},
   "outputs": [
    {
     "output_type": "execute_result",
     "data": {
      "text/plain": "          Name    Year   State   Count\nGender                                \nF       558846  558846  558846  558846\nM       457549  457549  457549  457549",
      "text/html": "<div>\n<style scoped>\n    .dataframe tbody tr th:only-of-type {\n        vertical-align: middle;\n    }\n\n    .dataframe tbody tr th {\n        vertical-align: top;\n    }\n\n    .dataframe thead th {\n        text-align: right;\n    }\n</style>\n<table border=\"1\" class=\"dataframe\">\n  <thead>\n    <tr style=\"text-align: right;\">\n      <th></th>\n      <th>Name</th>\n      <th>Year</th>\n      <th>State</th>\n      <th>Count</th>\n    </tr>\n    <tr>\n      <th>Gender</th>\n      <th></th>\n      <th></th>\n      <th></th>\n      <th></th>\n    </tr>\n  </thead>\n  <tbody>\n    <tr>\n      <th>F</th>\n      <td>558846</td>\n      <td>558846</td>\n      <td>558846</td>\n      <td>558846</td>\n    </tr>\n    <tr>\n      <th>M</th>\n      <td>457549</td>\n      <td>457549</td>\n      <td>457549</td>\n      <td>457549</td>\n    </tr>\n  </tbody>\n</table>\n</div>"
     },
     "metadata": {},
     "execution_count": 16
    }
   ],
   "source": [
    "baby_names.groupby(\"Gender\").count()"
   ]
  },
  {
   "cell_type": "markdown",
   "metadata": {},
   "source": [
    "### Step 7. Group the dataset by name and assign to names"
   ]
  },
  {
   "cell_type": "code",
   "execution_count": 17,
   "metadata": {},
   "outputs": [
    {
     "output_type": "execute_result",
     "data": {
      "text/plain": "            Name  Year Gender State  Count\n0           Emma  2004      F    AK     62\n1        Madison  2004      F    AK     48\n2         Hannah  2004      F    AK     46\n3          Grace  2004      F    AK     44\n4          Emily  2004      F    AK     41\n...          ...   ...    ...   ...    ...\n1016390     Seth  2014      M    WY      5\n1016391  Spencer  2014      M    WY      5\n1016392     Tyce  2014      M    WY      5\n1016393   Victor  2014      M    WY      5\n1016394   Waylon  2014      M    WY      5\n\n[1016395 rows x 5 columns]",
      "text/html": "<div>\n<style scoped>\n    .dataframe tbody tr th:only-of-type {\n        vertical-align: middle;\n    }\n\n    .dataframe tbody tr th {\n        vertical-align: top;\n    }\n\n    .dataframe thead th {\n        text-align: right;\n    }\n</style>\n<table border=\"1\" class=\"dataframe\">\n  <thead>\n    <tr style=\"text-align: right;\">\n      <th></th>\n      <th>Name</th>\n      <th>Year</th>\n      <th>Gender</th>\n      <th>State</th>\n      <th>Count</th>\n    </tr>\n  </thead>\n  <tbody>\n    <tr>\n      <th>0</th>\n      <td>Emma</td>\n      <td>2004</td>\n      <td>F</td>\n      <td>AK</td>\n      <td>62</td>\n    </tr>\n    <tr>\n      <th>1</th>\n      <td>Madison</td>\n      <td>2004</td>\n      <td>F</td>\n      <td>AK</td>\n      <td>48</td>\n    </tr>\n    <tr>\n      <th>2</th>\n      <td>Hannah</td>\n      <td>2004</td>\n      <td>F</td>\n      <td>AK</td>\n      <td>46</td>\n    </tr>\n    <tr>\n      <th>3</th>\n      <td>Grace</td>\n      <td>2004</td>\n      <td>F</td>\n      <td>AK</td>\n      <td>44</td>\n    </tr>\n    <tr>\n      <th>4</th>\n      <td>Emily</td>\n      <td>2004</td>\n      <td>F</td>\n      <td>AK</td>\n      <td>41</td>\n    </tr>\n    <tr>\n      <th>...</th>\n      <td>...</td>\n      <td>...</td>\n      <td>...</td>\n      <td>...</td>\n      <td>...</td>\n    </tr>\n    <tr>\n      <th>1016390</th>\n      <td>Seth</td>\n      <td>2014</td>\n      <td>M</td>\n      <td>WY</td>\n      <td>5</td>\n    </tr>\n    <tr>\n      <th>1016391</th>\n      <td>Spencer</td>\n      <td>2014</td>\n      <td>M</td>\n      <td>WY</td>\n      <td>5</td>\n    </tr>\n    <tr>\n      <th>1016392</th>\n      <td>Tyce</td>\n      <td>2014</td>\n      <td>M</td>\n      <td>WY</td>\n      <td>5</td>\n    </tr>\n    <tr>\n      <th>1016393</th>\n      <td>Victor</td>\n      <td>2014</td>\n      <td>M</td>\n      <td>WY</td>\n      <td>5</td>\n    </tr>\n    <tr>\n      <th>1016394</th>\n      <td>Waylon</td>\n      <td>2014</td>\n      <td>M</td>\n      <td>WY</td>\n      <td>5</td>\n    </tr>\n  </tbody>\n</table>\n<p>1016395 rows × 5 columns</p>\n</div>"
     },
     "metadata": {},
     "execution_count": 17
    }
   ],
   "source": [
    "baby_names"
   ]
  },
  {
   "cell_type": "code",
   "execution_count": 20,
   "metadata": {},
   "outputs": [
    {
     "output_type": "execute_result",
     "data": {
      "text/plain": "         Count\nName          \nAaban       12\nAadan       23\nAadarsh      5\nAaden     3426\nAadhav       6\n...        ...\nZyra        42\nZyrah       11\nZyren        6\nZyria       59\nZyriah      58\n\n[17632 rows x 1 columns]",
      "text/html": "<div>\n<style scoped>\n    .dataframe tbody tr th:only-of-type {\n        vertical-align: middle;\n    }\n\n    .dataframe tbody tr th {\n        vertical-align: top;\n    }\n\n    .dataframe thead th {\n        text-align: right;\n    }\n</style>\n<table border=\"1\" class=\"dataframe\">\n  <thead>\n    <tr style=\"text-align: right;\">\n      <th></th>\n      <th>Count</th>\n    </tr>\n    <tr>\n      <th>Name</th>\n      <th></th>\n    </tr>\n  </thead>\n  <tbody>\n    <tr>\n      <th>Aaban</th>\n      <td>12</td>\n    </tr>\n    <tr>\n      <th>Aadan</th>\n      <td>23</td>\n    </tr>\n    <tr>\n      <th>Aadarsh</th>\n      <td>5</td>\n    </tr>\n    <tr>\n      <th>Aaden</th>\n      <td>3426</td>\n    </tr>\n    <tr>\n      <th>Aadhav</th>\n      <td>6</td>\n    </tr>\n    <tr>\n      <th>...</th>\n      <td>...</td>\n    </tr>\n    <tr>\n      <th>Zyra</th>\n      <td>42</td>\n    </tr>\n    <tr>\n      <th>Zyrah</th>\n      <td>11</td>\n    </tr>\n    <tr>\n      <th>Zyren</th>\n      <td>6</td>\n    </tr>\n    <tr>\n      <th>Zyria</th>\n      <td>59</td>\n    </tr>\n    <tr>\n      <th>Zyriah</th>\n      <td>58</td>\n    </tr>\n  </tbody>\n</table>\n<p>17632 rows × 1 columns</p>\n</div>"
     },
     "metadata": {},
     "execution_count": 20
    }
   ],
   "source": [
    "# you don't want to sum the Year column, so you delete it\n",
    "del baby_names[\"Year\"]\n",
    "\n",
    "# group the data\n",
    "names = baby_names.groupby(\"Name\").sum()\n",
    "\n",
    "# print the first 5 observations\n",
    "names\n",
    "\n"
   ]
  },
  {
   "cell_type": "code",
   "execution_count": 23,
   "metadata": {
    "tags": []
   },
   "outputs": [
    {
     "output_type": "stream",
     "name": "stdout",
     "text": "(17632, 1)\n"
    },
    {
     "output_type": "execute_result",
     "data": {
      "text/plain": "           Count\nName            \nJacob     242874\nEmma      214852\nMichael   214405\nEthan     209277\nIsabella  204798",
      "text/html": "<div>\n<style scoped>\n    .dataframe tbody tr th:only-of-type {\n        vertical-align: middle;\n    }\n\n    .dataframe tbody tr th {\n        vertical-align: top;\n    }\n\n    .dataframe thead th {\n        text-align: right;\n    }\n</style>\n<table border=\"1\" class=\"dataframe\">\n  <thead>\n    <tr style=\"text-align: right;\">\n      <th></th>\n      <th>Count</th>\n    </tr>\n    <tr>\n      <th>Name</th>\n      <th></th>\n    </tr>\n  </thead>\n  <tbody>\n    <tr>\n      <th>Jacob</th>\n      <td>242874</td>\n    </tr>\n    <tr>\n      <th>Emma</th>\n      <td>214852</td>\n    </tr>\n    <tr>\n      <th>Michael</th>\n      <td>214405</td>\n    </tr>\n    <tr>\n      <th>Ethan</th>\n      <td>209277</td>\n    </tr>\n    <tr>\n      <th>Isabella</th>\n      <td>204798</td>\n    </tr>\n  </tbody>\n</table>\n</div>"
     },
     "metadata": {},
     "execution_count": 23
    }
   ],
   "source": [
    "# print the size of the dataset\n",
    "print(names.shape)\n",
    "\n",
    "# sort it from the biggest value to the smallest one\n",
    "names.sort_values(\"Count\", ascending=0).head()"
   ]
  },
  {
   "cell_type": "markdown",
   "metadata": {},
   "source": [
    "### Step 8. How many different names exist in the dataset?"
   ]
  },
  {
   "cell_type": "code",
   "execution_count": 7,
   "metadata": {
    "collapsed": false
   },
   "outputs": [
    {
     "data": {
      "text/plain": [
       "17632"
      ]
     },
     "execution_count": 7,
     "metadata": {},
     "output_type": "execute_result"
    }
   ],
   "source": [
    "# as we have already grouped by the name, all the names are unique already. \n",
    "# get the length of names\n",
    "len(names)\n",
    "\n"
   ]
  },
  {
   "cell_type": "code",
   "execution_count": 13,
   "metadata": {},
   "outputs": [
    {
     "data": {
      "text/plain": "(17632,)"
     },
     "execution_count": 13,
     "metadata": {},
     "output_type": "execute_result"
    }
   ],
   "source": [
    "baby_names.Name.unique()"
   ]
  },
  {
   "cell_type": "markdown",
   "metadata": {},
   "source": [
    "### Step 9. What is the name with most occurrences?"
   ]
  },
  {
   "cell_type": "code",
   "execution_count": 24,
   "metadata": {},
   "outputs": [
    {
     "data": {
      "text/html": "<div>\n<style scoped>\n    .dataframe tbody tr th:only-of-type {\n        vertical-align: middle;\n    }\n\n    .dataframe tbody tr th {\n        vertical-align: top;\n    }\n\n    .dataframe thead th {\n        text-align: right;\n    }\n</style>\n<table border=\"1\" class=\"dataframe\">\n  <thead>\n    <tr style=\"text-align: right;\">\n      <th></th>\n      <th>Count</th>\n    </tr>\n    <tr>\n      <th>Name</th>\n      <th></th>\n    </tr>\n  </thead>\n  <tbody>\n    <tr>\n      <td>Aaban</td>\n      <td>12</td>\n    </tr>\n    <tr>\n      <td>Aadan</td>\n      <td>23</td>\n    </tr>\n    <tr>\n      <td>Aadarsh</td>\n      <td>5</td>\n    </tr>\n    <tr>\n      <td>Aaden</td>\n      <td>3426</td>\n    </tr>\n    <tr>\n      <td>Aadhav</td>\n      <td>6</td>\n    </tr>\n    <tr>\n      <td>...</td>\n      <td>...</td>\n    </tr>\n    <tr>\n      <td>Zyra</td>\n      <td>42</td>\n    </tr>\n    <tr>\n      <td>Zyrah</td>\n      <td>11</td>\n    </tr>\n    <tr>\n      <td>Zyren</td>\n      <td>6</td>\n    </tr>\n    <tr>\n      <td>Zyria</td>\n      <td>59</td>\n    </tr>\n    <tr>\n      <td>Zyriah</td>\n      <td>58</td>\n    </tr>\n  </tbody>\n</table>\n<p>17632 rows × 1 columns</p>\n</div>",
      "text/plain": "         Count\nName          \nAaban       12\nAadan       23\nAadarsh      5\nAaden     3426\nAadhav       6\n...        ...\nZyra        42\nZyrah       11\nZyren        6\nZyria       59\nZyriah      58\n\n[17632 rows x 1 columns]"
     },
     "execution_count": 24,
     "metadata": {},
     "output_type": "execute_result"
    }
   ],
   "source": [
    "names"
   ]
  },
  {
   "cell_type": "code",
   "execution_count": 25,
   "metadata": {},
   "outputs": [
    {
     "data": {
      "text/plain": "0    5\ndtype: int64"
     },
     "execution_count": 25,
     "metadata": {},
     "output_type": "execute_result"
    }
   ],
   "source": [
    "names.Count.mode()"
   ]
  },
  {
   "cell_type": "code",
   "execution_count": 23,
   "metadata": {},
   "outputs": [
    {
     "data": {
      "text/plain": "'Jacob'"
     },
     "execution_count": 23,
     "metadata": {},
     "output_type": "execute_result"
    }
   ],
   "source": [
    "names.Count.idxmax()\n",
    "\n",
    "# OR\n",
    "\n",
    "# names[names.Count == names.Count.max()]"
   ]
  },
  {
   "cell_type": "code",
   "execution_count": 25,
   "metadata": {},
   "outputs": [
    {
     "output_type": "execute_result",
     "data": {
      "text/plain": "        Count\nName         \nJacob  242874",
      "text/html": "<div>\n<style scoped>\n    .dataframe tbody tr th:only-of-type {\n        vertical-align: middle;\n    }\n\n    .dataframe tbody tr th {\n        vertical-align: top;\n    }\n\n    .dataframe thead th {\n        text-align: right;\n    }\n</style>\n<table border=\"1\" class=\"dataframe\">\n  <thead>\n    <tr style=\"text-align: right;\">\n      <th></th>\n      <th>Count</th>\n    </tr>\n    <tr>\n      <th>Name</th>\n      <th></th>\n    </tr>\n  </thead>\n  <tbody>\n    <tr>\n      <th>Jacob</th>\n      <td>242874</td>\n    </tr>\n  </tbody>\n</table>\n</div>"
     },
     "metadata": {},
     "execution_count": 25
    }
   ],
   "source": [
    "names.sort_values(\"Count\", ascending=False).head(1)"
   ]
  },
  {
   "cell_type": "code",
   "execution_count": 26,
   "metadata": {},
   "outputs": [
    {
     "output_type": "execute_result",
     "data": {
      "text/plain": "           Count\nName            \nDestenie       5\nJanisha        5\nLizvet         5\nArsalan        5\nJanira         5\nChuck          5\nSadrac         5\nTheodoros      5\nSady           5\nJanila         5",
      "text/html": "<div>\n<style scoped>\n    .dataframe tbody tr th:only-of-type {\n        vertical-align: middle;\n    }\n\n    .dataframe tbody tr th {\n        vertical-align: top;\n    }\n\n    .dataframe thead th {\n        text-align: right;\n    }\n</style>\n<table border=\"1\" class=\"dataframe\">\n  <thead>\n    <tr style=\"text-align: right;\">\n      <th></th>\n      <th>Count</th>\n    </tr>\n    <tr>\n      <th>Name</th>\n      <th></th>\n    </tr>\n  </thead>\n  <tbody>\n    <tr>\n      <th>Destenie</th>\n      <td>5</td>\n    </tr>\n    <tr>\n      <th>Janisha</th>\n      <td>5</td>\n    </tr>\n    <tr>\n      <th>Lizvet</th>\n      <td>5</td>\n    </tr>\n    <tr>\n      <th>Arsalan</th>\n      <td>5</td>\n    </tr>\n    <tr>\n      <th>Janira</th>\n      <td>5</td>\n    </tr>\n    <tr>\n      <th>Chuck</th>\n      <td>5</td>\n    </tr>\n    <tr>\n      <th>Sadrac</th>\n      <td>5</td>\n    </tr>\n    <tr>\n      <th>Theodoros</th>\n      <td>5</td>\n    </tr>\n    <tr>\n      <th>Sady</th>\n      <td>5</td>\n    </tr>\n    <tr>\n      <th>Janila</th>\n      <td>5</td>\n    </tr>\n  </tbody>\n</table>\n</div>"
     },
     "metadata": {},
     "execution_count": 26
    }
   ],
   "source": [
    "names.sort_values(\"Count\", ascending=True).head(10)"
   ]
  },
  {
   "cell_type": "markdown",
   "metadata": {},
   "source": [
    "### Step 10. How many different names have the least occurrences?"
   ]
  },
  {
   "cell_type": "code",
   "execution_count": 26,
   "metadata": {},
   "outputs": [
    {
     "data": {
      "text/plain": "5"
     },
     "execution_count": 26,
     "metadata": {},
     "output_type": "execute_result"
    }
   ],
   "source": [
    "names.Count.min()"
   ]
  },
  {
   "cell_type": "code",
   "execution_count": 28,
   "metadata": {
    "collapsed": false
   },
   "outputs": [
    {
     "output_type": "execute_result",
     "data": {
      "text/plain": "2578"
     },
     "metadata": {},
     "execution_count": 28
    }
   ],
   "source": [
    "len(names[names.Count == names.Count.min()])"
   ]
  },
  {
   "cell_type": "markdown",
   "metadata": {},
   "source": [
    "### Step 11. What is the median name occurrence?"
   ]
  },
  {
   "cell_type": "code",
   "execution_count": 27,
   "metadata": {},
   "outputs": [
    {
     "data": {
      "text/html": "<div>\n<style scoped>\n    .dataframe tbody tr th:only-of-type {\n        vertical-align: middle;\n    }\n\n    .dataframe tbody tr th {\n        vertical-align: top;\n    }\n\n    .dataframe thead th {\n        text-align: right;\n    }\n</style>\n<table border=\"1\" class=\"dataframe\">\n  <thead>\n    <tr style=\"text-align: right;\">\n      <th></th>\n      <th>Count</th>\n    </tr>\n    <tr>\n      <th>Name</th>\n      <th></th>\n    </tr>\n  </thead>\n  <tbody>\n    <tr>\n      <td>Aishani</td>\n      <td>49</td>\n    </tr>\n    <tr>\n      <td>Alara</td>\n      <td>49</td>\n    </tr>\n    <tr>\n      <td>Alysse</td>\n      <td>49</td>\n    </tr>\n    <tr>\n      <td>Ameir</td>\n      <td>49</td>\n    </tr>\n    <tr>\n      <td>Anely</td>\n      <td>49</td>\n    </tr>\n    <tr>\n      <td>...</td>\n      <td>...</td>\n    </tr>\n    <tr>\n      <td>Sriram</td>\n      <td>49</td>\n    </tr>\n    <tr>\n      <td>Trinton</td>\n      <td>49</td>\n    </tr>\n    <tr>\n      <td>Vita</td>\n      <td>49</td>\n    </tr>\n    <tr>\n      <td>Yoni</td>\n      <td>49</td>\n    </tr>\n    <tr>\n      <td>Zuleima</td>\n      <td>49</td>\n    </tr>\n  </tbody>\n</table>\n<p>66 rows × 1 columns</p>\n</div>",
      "text/plain": "         Count\nName          \nAishani     49\nAlara       49\nAlysse      49\nAmeir       49\nAnely       49\n...        ...\nSriram      49\nTrinton     49\nVita        49\nYoni        49\nZuleima     49\n\n[66 rows x 1 columns]"
     },
     "execution_count": 27,
     "metadata": {},
     "output_type": "execute_result"
    }
   ],
   "source": [
    "names[names.Count == names.Count.median()]"
   ]
  },
  {
   "cell_type": "markdown",
   "metadata": {},
   "source": [
    "### Step 12. What is the standard deviation of names?"
   ]
  },
  {
   "cell_type": "code",
   "execution_count": 30,
   "metadata": {},
   "outputs": [
    {
     "output_type": "execute_result",
     "data": {
      "text/plain": "2008.932168784029"
     },
     "metadata": {},
     "execution_count": 30
    }
   ],
   "source": [
    "names.Count.mean()"
   ]
  },
  {
   "cell_type": "code",
   "execution_count": 31,
   "metadata": {},
   "outputs": [
    {
     "output_type": "execute_result",
     "data": {
      "text/plain": "         Count\nName          \nAaban       12\nAadan       23\nAadarsh      5\nAaden     3426\nAadhav       6\n...        ...\nZyra        42\nZyrah       11\nZyren        6\nZyria       59\nZyriah      58\n\n[17632 rows x 1 columns]",
      "text/html": "<div>\n<style scoped>\n    .dataframe tbody tr th:only-of-type {\n        vertical-align: middle;\n    }\n\n    .dataframe tbody tr th {\n        vertical-align: top;\n    }\n\n    .dataframe thead th {\n        text-align: right;\n    }\n</style>\n<table border=\"1\" class=\"dataframe\">\n  <thead>\n    <tr style=\"text-align: right;\">\n      <th></th>\n      <th>Count</th>\n    </tr>\n    <tr>\n      <th>Name</th>\n      <th></th>\n    </tr>\n  </thead>\n  <tbody>\n    <tr>\n      <th>Aaban</th>\n      <td>12</td>\n    </tr>\n    <tr>\n      <th>Aadan</th>\n      <td>23</td>\n    </tr>\n    <tr>\n      <th>Aadarsh</th>\n      <td>5</td>\n    </tr>\n    <tr>\n      <th>Aaden</th>\n      <td>3426</td>\n    </tr>\n    <tr>\n      <th>Aadhav</th>\n      <td>6</td>\n    </tr>\n    <tr>\n      <th>...</th>\n      <td>...</td>\n    </tr>\n    <tr>\n      <th>Zyra</th>\n      <td>42</td>\n    </tr>\n    <tr>\n      <th>Zyrah</th>\n      <td>11</td>\n    </tr>\n    <tr>\n      <th>Zyren</th>\n      <td>6</td>\n    </tr>\n    <tr>\n      <th>Zyria</th>\n      <td>59</td>\n    </tr>\n    <tr>\n      <th>Zyriah</th>\n      <td>58</td>\n    </tr>\n  </tbody>\n</table>\n<p>17632 rows × 1 columns</p>\n</div>"
     },
     "metadata": {},
     "execution_count": 31
    }
   ],
   "source": [
    "names"
   ]
  },
  {
   "cell_type": "code",
   "execution_count": 11,
   "metadata": {
    "collapsed": false
   },
   "outputs": [
    {
     "data": {
      "text/plain": [
       "11006.069467891111"
      ]
     },
     "execution_count": 11,
     "metadata": {},
     "output_type": "execute_result"
    }
   ],
   "source": [
    "names.Count.std()"
   ]
  },
  {
   "cell_type": "markdown",
   "metadata": {},
   "source": [
    "### Step 13. Get a summary with the mean, min, max, std and quartiles."
   ]
  },
  {
   "cell_type": "code",
   "execution_count": 12,
   "metadata": {
    "collapsed": false
   },
   "outputs": [
    {
     "data": {
      "text/html": [
       "<div>\n",
       "<table border=\"1\" class=\"dataframe\">\n",
       "  <thead>\n",
       "    <tr style=\"text-align: right;\">\n",
       "      <th></th>\n",
       "      <th>Count</th>\n",
       "    </tr>\n",
       "  </thead>\n",
       "  <tbody>\n",
       "    <tr>\n",
       "      <th>count</th>\n",
       "      <td>17632.000000</td>\n",
       "    </tr>\n",
       "    <tr>\n",
       "      <th>mean</th>\n",
       "      <td>2008.932169</td>\n",
       "    </tr>\n",
       "    <tr>\n",
       "      <th>std</th>\n",
       "      <td>11006.069468</td>\n",
       "    </tr>\n",
       "    <tr>\n",
       "      <th>min</th>\n",
       "      <td>5.000000</td>\n",
       "    </tr>\n",
       "    <tr>\n",
       "      <th>25%</th>\n",
       "      <td>11.000000</td>\n",
       "    </tr>\n",
       "    <tr>\n",
       "      <th>50%</th>\n",
       "      <td>49.000000</td>\n",
       "    </tr>\n",
       "    <tr>\n",
       "      <th>75%</th>\n",
       "      <td>337.000000</td>\n",
       "    </tr>\n",
       "    <tr>\n",
       "      <th>max</th>\n",
       "      <td>242874.000000</td>\n",
       "    </tr>\n",
       "  </tbody>\n",
       "</table>\n",
       "</div>"
      ],
      "text/plain": [
       "               Count\n",
       "count   17632.000000\n",
       "mean     2008.932169\n",
       "std     11006.069468\n",
       "min         5.000000\n",
       "25%        11.000000\n",
       "50%        49.000000\n",
       "75%       337.000000\n",
       "max    242874.000000"
      ]
     },
     "execution_count": 12,
     "metadata": {},
     "output_type": "execute_result"
    }
   ],
   "source": [
    "names.describe()"
   ]
  }
 ],
 "metadata": {
  "anaconda-cloud": {},
  "kernelspec": {
   "display_name": "Python 3.6.4 64-bit",
   "language": "python",
   "name": "python_defaultSpec_1594984089396"
  },
  "language_info": {
   "codemirror_mode": {
    "name": "ipython",
    "version": 2
   },
   "file_extension": ".py",
   "mimetype": "text/x-python",
   "name": "python",
   "nbconvert_exporter": "python",
   "pygments_lexer": "ipython2",
   "version": "3.7.4-final"
  }
 },
 "nbformat": 4,
 "nbformat_minor": 0
}