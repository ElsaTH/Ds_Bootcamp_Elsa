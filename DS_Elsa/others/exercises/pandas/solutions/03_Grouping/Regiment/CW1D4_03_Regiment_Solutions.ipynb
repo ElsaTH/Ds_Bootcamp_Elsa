{
 "cells": [
  {
   "cell_type": "markdown",
   "metadata": {},
   "source": [
    "# Regiment"
   ]
  },
  {
   "cell_type": "code",
   "execution_count": 1,
   "metadata": {},
   "outputs": [],
   "source": [
    "import pandas as pd"
   ]
  },
  {
   "cell_type": "markdown",
   "metadata": {},
   "source": [
    "### Step 2. Create the DataFrame with the following values:"
   ]
  },
  {
   "cell_type": "code",
   "execution_count": 2,
   "metadata": {},
   "outputs": [],
   "source": [
    "raw_data = {'regiment': ['Nighthawks', 'Nighthawks', 'Nighthawks', 'Nighthawks', 'Dragoons', 'Dragoons', 'Dragoons', 'Dragoons', 'Scouts', 'Scouts', 'Scouts', 'Scouts'], \n",
    "        'company': ['1st', '1st', '2nd', '2nd', '1st', '1st', '2nd', '2nd','1st', '1st', '2nd', '2nd'], \n",
    "        'name': ['Miller', 'Jacobson', 'Ali', 'Milner', 'Cooze', 'Jacon', 'Ryaner', 'Sone', 'Sloan', 'Piger', 'Riani', 'Ali'], \n",
    "        'preTestScore': [4, 24, 31, 2, 3, 4, 24, 31, 2, 3, 2, 3],\n",
    "        'postTestScore': [25, 94, 57, 62, 70, 25, 94, 57, 62, 70, 62, 70]}"
   ]
  },
  {
   "cell_type": "markdown",
   "metadata": {},
   "source": [
    "### Step 3. Assign it to a variable called regiment.\n",
    "#### Don't forget to name each column"
   ]
  },
  {
   "cell_type": "code",
   "execution_count": 4,
   "metadata": {},
   "outputs": [
    {
     "output_type": "execute_result",
     "data": {
      "text/plain": "      regiment company      name  preTestScore  postTestScore\n0   Nighthawks     1st    Miller             4             25\n1   Nighthawks     1st  Jacobson            24             94\n2   Nighthawks     2nd       Ali            31             57\n3   Nighthawks     2nd    Milner             2             62\n4     Dragoons     1st     Cooze             3             70\n5     Dragoons     1st     Jacon             4             25\n6     Dragoons     2nd    Ryaner            24             94\n7     Dragoons     2nd      Sone            31             57\n8       Scouts     1st     Sloan             2             62\n9       Scouts     1st     Piger             3             70\n10      Scouts     2nd     Riani             2             62\n11      Scouts     2nd       Ali             3             70",
      "text/html": "<div>\n<style scoped>\n    .dataframe tbody tr th:only-of-type {\n        vertical-align: middle;\n    }\n\n    .dataframe tbody tr th {\n        vertical-align: top;\n    }\n\n    .dataframe thead th {\n        text-align: right;\n    }\n</style>\n<table border=\"1\" class=\"dataframe\">\n  <thead>\n    <tr style=\"text-align: right;\">\n      <th></th>\n      <th>regiment</th>\n      <th>company</th>\n      <th>name</th>\n      <th>preTestScore</th>\n      <th>postTestScore</th>\n    </tr>\n  </thead>\n  <tbody>\n    <tr>\n      <th>0</th>\n      <td>Nighthawks</td>\n      <td>1st</td>\n      <td>Miller</td>\n      <td>4</td>\n      <td>25</td>\n    </tr>\n    <tr>\n      <th>1</th>\n      <td>Nighthawks</td>\n      <td>1st</td>\n      <td>Jacobson</td>\n      <td>24</td>\n      <td>94</td>\n    </tr>\n    <tr>\n      <th>2</th>\n      <td>Nighthawks</td>\n      <td>2nd</td>\n      <td>Ali</td>\n      <td>31</td>\n      <td>57</td>\n    </tr>\n    <tr>\n      <th>3</th>\n      <td>Nighthawks</td>\n      <td>2nd</td>\n      <td>Milner</td>\n      <td>2</td>\n      <td>62</td>\n    </tr>\n    <tr>\n      <th>4</th>\n      <td>Dragoons</td>\n      <td>1st</td>\n      <td>Cooze</td>\n      <td>3</td>\n      <td>70</td>\n    </tr>\n    <tr>\n      <th>5</th>\n      <td>Dragoons</td>\n      <td>1st</td>\n      <td>Jacon</td>\n      <td>4</td>\n      <td>25</td>\n    </tr>\n    <tr>\n      <th>6</th>\n      <td>Dragoons</td>\n      <td>2nd</td>\n      <td>Ryaner</td>\n      <td>24</td>\n      <td>94</td>\n    </tr>\n    <tr>\n      <th>7</th>\n      <td>Dragoons</td>\n      <td>2nd</td>\n      <td>Sone</td>\n      <td>31</td>\n      <td>57</td>\n    </tr>\n    <tr>\n      <th>8</th>\n      <td>Scouts</td>\n      <td>1st</td>\n      <td>Sloan</td>\n      <td>2</td>\n      <td>62</td>\n    </tr>\n    <tr>\n      <th>9</th>\n      <td>Scouts</td>\n      <td>1st</td>\n      <td>Piger</td>\n      <td>3</td>\n      <td>70</td>\n    </tr>\n    <tr>\n      <th>10</th>\n      <td>Scouts</td>\n      <td>2nd</td>\n      <td>Riani</td>\n      <td>2</td>\n      <td>62</td>\n    </tr>\n    <tr>\n      <th>11</th>\n      <td>Scouts</td>\n      <td>2nd</td>\n      <td>Ali</td>\n      <td>3</td>\n      <td>70</td>\n    </tr>\n  </tbody>\n</table>\n</div>"
     },
     "metadata": {},
     "execution_count": 4
    }
   ],
   "source": [
    "regiment = pd.DataFrame(raw_data, columns=raw_data.keys())\n",
    "regiment"
   ]
  },
  {
   "cell_type": "markdown",
   "metadata": {},
   "source": [
    "### Step 4. What is the mean preTestScore from the regiment Nighthawks?  "
   ]
  },
  {
   "cell_type": "code",
   "execution_count": 8,
   "metadata": {},
   "outputs": [
    {
     "data": {
      "text/plain": "15.25"
     },
     "execution_count": 8,
     "metadata": {},
     "output_type": "execute_result"
    }
   ],
   "source": [
    "regiment[regiment['regiment'] == 'Nighthawks'][\"preTestScore\"].mean()"
   ]
  },
  {
   "cell_type": "code",
   "execution_count": 26,
   "metadata": {
    "collapsed": false
   },
   "outputs": [
    {
     "data": {
      "text/html": [
       "<div>\n",
       "<table border=\"1\" class=\"dataframe\">\n",
       "  <thead>\n",
       "    <tr style=\"text-align: right;\">\n",
       "      <th></th>\n",
       "      <th>preTestScore</th>\n",
       "      <th>postTestScore</th>\n",
       "    </tr>\n",
       "    <tr>\n",
       "      <th>regiment</th>\n",
       "      <th></th>\n",
       "      <th></th>\n",
       "    </tr>\n",
       "  </thead>\n",
       "  <tbody>\n",
       "    <tr>\n",
       "      <th>Dragoons</th>\n",
       "      <td>15.50</td>\n",
       "      <td>61.5</td>\n",
       "    </tr>\n",
       "    <tr>\n",
       "      <th>Nighthawks</th>\n",
       "      <td>15.25</td>\n",
       "      <td>59.5</td>\n",
       "    </tr>\n",
       "    <tr>\n",
       "      <th>Scouts</th>\n",
       "      <td>2.50</td>\n",
       "      <td>66.0</td>\n",
       "    </tr>\n",
       "  </tbody>\n",
       "</table>\n",
       "</div>"
      ],
      "text/plain": [
       "            preTestScore  postTestScore\n",
       "regiment                               \n",
       "Dragoons           15.50           61.5\n",
       "Nighthawks         15.25           59.5\n",
       "Scouts              2.50           66.0"
      ]
     },
     "execution_count": 26,
     "metadata": {},
     "output_type": "execute_result"
    }
   ],
   "source": [
    "regiment[regiment['regiment'] == 'Nighthawks'].groupby('regiment').mean()"
   ]
  },
  {
   "cell_type": "markdown",
   "metadata": {},
   "source": [
    "\n",
    "### Step 5. Present general statistics by company"
   ]
  },
  {
   "cell_type": "code",
   "execution_count": 6,
   "metadata": {},
   "outputs": [
    {
     "output_type": "execute_result",
     "data": {
      "text/plain": "      regiment company      name  preTestScore  postTestScore\n0   Nighthawks     1st    Miller             4             25\n1   Nighthawks     1st  Jacobson            24             94\n2   Nighthawks     2nd       Ali            31             57\n3   Nighthawks     2nd    Milner             2             62\n4     Dragoons     1st     Cooze             3             70\n5     Dragoons     1st     Jacon             4             25\n6     Dragoons     2nd    Ryaner            24             94\n7     Dragoons     2nd      Sone            31             57\n8       Scouts     1st     Sloan             2             62\n9       Scouts     1st     Piger             3             70\n10      Scouts     2nd     Riani             2             62\n11      Scouts     2nd       Ali             3             70",
      "text/html": "<div>\n<style scoped>\n    .dataframe tbody tr th:only-of-type {\n        vertical-align: middle;\n    }\n\n    .dataframe tbody tr th {\n        vertical-align: top;\n    }\n\n    .dataframe thead th {\n        text-align: right;\n    }\n</style>\n<table border=\"1\" class=\"dataframe\">\n  <thead>\n    <tr style=\"text-align: right;\">\n      <th></th>\n      <th>regiment</th>\n      <th>company</th>\n      <th>name</th>\n      <th>preTestScore</th>\n      <th>postTestScore</th>\n    </tr>\n  </thead>\n  <tbody>\n    <tr>\n      <th>0</th>\n      <td>Nighthawks</td>\n      <td>1st</td>\n      <td>Miller</td>\n      <td>4</td>\n      <td>25</td>\n    </tr>\n    <tr>\n      <th>1</th>\n      <td>Nighthawks</td>\n      <td>1st</td>\n      <td>Jacobson</td>\n      <td>24</td>\n      <td>94</td>\n    </tr>\n    <tr>\n      <th>2</th>\n      <td>Nighthawks</td>\n      <td>2nd</td>\n      <td>Ali</td>\n      <td>31</td>\n      <td>57</td>\n    </tr>\n    <tr>\n      <th>3</th>\n      <td>Nighthawks</td>\n      <td>2nd</td>\n      <td>Milner</td>\n      <td>2</td>\n      <td>62</td>\n    </tr>\n    <tr>\n      <th>4</th>\n      <td>Dragoons</td>\n      <td>1st</td>\n      <td>Cooze</td>\n      <td>3</td>\n      <td>70</td>\n    </tr>\n    <tr>\n      <th>5</th>\n      <td>Dragoons</td>\n      <td>1st</td>\n      <td>Jacon</td>\n      <td>4</td>\n      <td>25</td>\n    </tr>\n    <tr>\n      <th>6</th>\n      <td>Dragoons</td>\n      <td>2nd</td>\n      <td>Ryaner</td>\n      <td>24</td>\n      <td>94</td>\n    </tr>\n    <tr>\n      <th>7</th>\n      <td>Dragoons</td>\n      <td>2nd</td>\n      <td>Sone</td>\n      <td>31</td>\n      <td>57</td>\n    </tr>\n    <tr>\n      <th>8</th>\n      <td>Scouts</td>\n      <td>1st</td>\n      <td>Sloan</td>\n      <td>2</td>\n      <td>62</td>\n    </tr>\n    <tr>\n      <th>9</th>\n      <td>Scouts</td>\n      <td>1st</td>\n      <td>Piger</td>\n      <td>3</td>\n      <td>70</td>\n    </tr>\n    <tr>\n      <th>10</th>\n      <td>Scouts</td>\n      <td>2nd</td>\n      <td>Riani</td>\n      <td>2</td>\n      <td>62</td>\n    </tr>\n    <tr>\n      <th>11</th>\n      <td>Scouts</td>\n      <td>2nd</td>\n      <td>Ali</td>\n      <td>3</td>\n      <td>70</td>\n    </tr>\n  </tbody>\n</table>\n</div>"
     },
     "metadata": {},
     "execution_count": 6
    }
   ],
   "source": [
    "regiment"
   ]
  },
  {
   "cell_type": "code",
   "execution_count": 5,
   "metadata": {},
   "outputs": [
    {
     "output_type": "execute_result",
     "data": {
      "text/plain": "count      12\nunique      2\ntop       2nd\nfreq        6\nName: company, dtype: object"
     },
     "metadata": {},
     "execution_count": 5
    }
   ],
   "source": [
    "regiment.company.describe()"
   ]
  },
  {
   "cell_type": "code",
   "execution_count": 29,
   "metadata": {
    "collapsed": false
   },
   "outputs": [
    {
     "data": {
      "text/html": [
       "<div>\n",
       "<table border=\"1\" class=\"dataframe\">\n",
       "  <thead>\n",
       "    <tr style=\"text-align: right;\">\n",
       "      <th></th>\n",
       "      <th></th>\n",
       "      <th>postTestScore</th>\n",
       "      <th>preTestScore</th>\n",
       "    </tr>\n",
       "    <tr>\n",
       "      <th>company</th>\n",
       "      <th></th>\n",
       "      <th></th>\n",
       "      <th></th>\n",
       "    </tr>\n",
       "  </thead>\n",
       "  <tbody>\n",
       "    <tr>\n",
       "      <th rowspan=\"8\" valign=\"top\">1st</th>\n",
       "      <th>count</th>\n",
       "      <td>6.000000</td>\n",
       "      <td>6.000000</td>\n",
       "    </tr>\n",
       "    <tr>\n",
       "      <th>mean</th>\n",
       "      <td>57.666667</td>\n",
       "      <td>6.666667</td>\n",
       "    </tr>\n",
       "    <tr>\n",
       "      <th>std</th>\n",
       "      <td>27.485754</td>\n",
       "      <td>8.524475</td>\n",
       "    </tr>\n",
       "    <tr>\n",
       "      <th>min</th>\n",
       "      <td>25.000000</td>\n",
       "      <td>2.000000</td>\n",
       "    </tr>\n",
       "    <tr>\n",
       "      <th>25%</th>\n",
       "      <td>34.250000</td>\n",
       "      <td>3.000000</td>\n",
       "    </tr>\n",
       "    <tr>\n",
       "      <th>50%</th>\n",
       "      <td>66.000000</td>\n",
       "      <td>3.500000</td>\n",
       "    </tr>\n",
       "    <tr>\n",
       "      <th>75%</th>\n",
       "      <td>70.000000</td>\n",
       "      <td>4.000000</td>\n",
       "    </tr>\n",
       "    <tr>\n",
       "      <th>max</th>\n",
       "      <td>94.000000</td>\n",
       "      <td>24.000000</td>\n",
       "    </tr>\n",
       "    <tr>\n",
       "      <th rowspan=\"8\" valign=\"top\">2nd</th>\n",
       "      <th>count</th>\n",
       "      <td>6.000000</td>\n",
       "      <td>6.000000</td>\n",
       "    </tr>\n",
       "    <tr>\n",
       "      <th>mean</th>\n",
       "      <td>67.000000</td>\n",
       "      <td>15.500000</td>\n",
       "    </tr>\n",
       "    <tr>\n",
       "      <th>std</th>\n",
       "      <td>14.057027</td>\n",
       "      <td>14.652645</td>\n",
       "    </tr>\n",
       "    <tr>\n",
       "      <th>min</th>\n",
       "      <td>57.000000</td>\n",
       "      <td>2.000000</td>\n",
       "    </tr>\n",
       "    <tr>\n",
       "      <th>25%</th>\n",
       "      <td>58.250000</td>\n",
       "      <td>2.250000</td>\n",
       "    </tr>\n",
       "    <tr>\n",
       "      <th>50%</th>\n",
       "      <td>62.000000</td>\n",
       "      <td>13.500000</td>\n",
       "    </tr>\n",
       "    <tr>\n",
       "      <th>75%</th>\n",
       "      <td>68.000000</td>\n",
       "      <td>29.250000</td>\n",
       "    </tr>\n",
       "    <tr>\n",
       "      <th>max</th>\n",
       "      <td>94.000000</td>\n",
       "      <td>31.000000</td>\n",
       "    </tr>\n",
       "  </tbody>\n",
       "</table>\n",
       "</div>"
      ],
      "text/plain": [
       "               postTestScore  preTestScore\n",
       "company                                   \n",
       "1st     count       6.000000      6.000000\n",
       "        mean       57.666667      6.666667\n",
       "        std        27.485754      8.524475\n",
       "        min        25.000000      2.000000\n",
       "        25%        34.250000      3.000000\n",
       "        50%        66.000000      3.500000\n",
       "        75%        70.000000      4.000000\n",
       "        max        94.000000     24.000000\n",
       "2nd     count       6.000000      6.000000\n",
       "        mean       67.000000     15.500000\n",
       "        std        14.057027     14.652645\n",
       "        min        57.000000      2.000000\n",
       "        25%        58.250000      2.250000\n",
       "        50%        62.000000     13.500000\n",
       "        75%        68.000000     29.250000\n",
       "        max        94.000000     31.000000"
      ]
     },
     "execution_count": 29,
     "metadata": {},
     "output_type": "execute_result"
    }
   ],
   "source": [
    "regiment.groupby('company').describe()"
   ]
  },
  {
   "cell_type": "markdown",
   "metadata": {},
   "source": [
    "### Step 6. What is the mean of each company's preTestScore?"
   ]
  },
  {
   "cell_type": "code",
   "execution_count": 33,
   "metadata": {
    "collapsed": false
   },
   "outputs": [
    {
     "data": {
      "text/plain": [
       "company\n",
       "1st     6.666667\n",
       "2nd    15.500000\n",
       "Name: preTestScore, dtype: float64"
      ]
     },
     "execution_count": 33,
     "metadata": {},
     "output_type": "execute_result"
    }
   ],
   "source": [
    "regiment.groupby('company').preTestScore.mean()"
   ]
  },
  {
   "cell_type": "markdown",
   "metadata": {},
   "source": [
    "### Step 7. Present the mean preTestScores grouped by regiment and company"
   ]
  },
  {
   "cell_type": "code",
   "execution_count": 35,
   "metadata": {
    "collapsed": false
   },
   "outputs": [
    {
     "data": {
      "text/plain": [
       "regiment    company\n",
       "Dragoons    1st         3.5\n",
       "            2nd        27.5\n",
       "Nighthawks  1st        14.0\n",
       "            2nd        16.5\n",
       "Scouts      1st         2.5\n",
       "            2nd         2.5\n",
       "Name: preTestScore, dtype: float64"
      ]
     },
     "execution_count": 35,
     "metadata": {},
     "output_type": "execute_result"
    }
   ],
   "source": [
    "regiment.groupby(['regiment', 'company']).preTestScore.mean()"
   ]
  },
  {
   "cell_type": "markdown",
   "metadata": {},
   "source": [
    "### Step 8. Present the mean preTestScores grouped by regiment and company without heirarchical indexing"
   ]
  },
  {
   "cell_type": "code",
   "execution_count": 22,
   "metadata": {},
   "outputs": [
    {
     "data": {
      "text/html": "<div>\n<style scoped>\n    .dataframe tbody tr th:only-of-type {\n        vertical-align: middle;\n    }\n\n    .dataframe tbody tr th {\n        vertical-align: top;\n    }\n\n    .dataframe thead th {\n        text-align: right;\n    }\n</style>\n<table border=\"1\" class=\"dataframe\">\n  <thead>\n    <tr style=\"text-align: right;\">\n      <th>company</th>\n      <th>1st</th>\n      <th>2nd</th>\n    </tr>\n    <tr>\n      <th>regiment</th>\n      <th></th>\n      <th></th>\n    </tr>\n  </thead>\n  <tbody>\n    <tr>\n      <td>Dragoons</td>\n      <td>3.5</td>\n      <td>27.5</td>\n    </tr>\n    <tr>\n      <td>Nighthawks</td>\n      <td>14.0</td>\n      <td>16.5</td>\n    </tr>\n    <tr>\n      <td>Scouts</td>\n      <td>2.5</td>\n      <td>2.5</td>\n    </tr>\n  </tbody>\n</table>\n</div>",
      "text/plain": "company      1st   2nd\nregiment              \nDragoons     3.5  27.5\nNighthawks  14.0  16.5\nScouts       2.5   2.5"
     },
     "execution_count": 22,
     "metadata": {},
     "output_type": "execute_result"
    }
   ],
   "source": [
    "regiment.pivot_table('preTestScore', index='regiment',columns='company')"
   ]
  },
  {
   "cell_type": "code",
   "execution_count": 15,
   "metadata": {},
   "outputs": [
    {
     "output_type": "execute_result",
     "data": {
      "text/plain": "company      1st   2nd\nregiment              \nDragoons     3.5  27.5\nNighthawks  14.0  16.5\nScouts       2.5   2.5",
      "text/html": "<div>\n<style scoped>\n    .dataframe tbody tr th:only-of-type {\n        vertical-align: middle;\n    }\n\n    .dataframe tbody tr th {\n        vertical-align: top;\n    }\n\n    .dataframe thead th {\n        text-align: right;\n    }\n</style>\n<table border=\"1\" class=\"dataframe\">\n  <thead>\n    <tr style=\"text-align: right;\">\n      <th>company</th>\n      <th>1st</th>\n      <th>2nd</th>\n    </tr>\n    <tr>\n      <th>regiment</th>\n      <th></th>\n      <th></th>\n    </tr>\n  </thead>\n  <tbody>\n    <tr>\n      <th>Dragoons</th>\n      <td>3.5</td>\n      <td>27.5</td>\n    </tr>\n    <tr>\n      <th>Nighthawks</th>\n      <td>14.0</td>\n      <td>16.5</td>\n    </tr>\n    <tr>\n      <th>Scouts</th>\n      <td>2.5</td>\n      <td>2.5</td>\n    </tr>\n  </tbody>\n</table>\n</div>"
     },
     "metadata": {},
     "execution_count": 15
    }
   ],
   "source": [
    "k = regiment.groupby(['regiment', 'company']).preTestScore.mean().unstack()\n",
    "k"
   ]
  },
  {
   "cell_type": "markdown",
   "metadata": {},
   "source": [
    "### Step 9. Group the entire dataframe by regiment and company"
   ]
  },
  {
   "cell_type": "code",
   "execution_count": 22,
   "metadata": {},
   "outputs": [
    {
     "output_type": "execute_result",
     "data": {
      "text/plain": "                           name  preTestScore  postTestScore\nregiment   company                                          \nDragoons   1st     4      Cooze             3             70\n                   5      Jacon             4             25\n           2nd     6     Ryaner            24             94\n                   7       Sone            31             57\nNighthawks 1st     0     Miller             4             25\n                   1   Jacobson            24             94\n           2nd     2        Ali            31             57\n                   3     Milner             2             62\nScouts     1st     8      Sloan             2             62\n                   9      Piger             3             70\n           2nd     10     Riani             2             62\n                   11       Ali             3             70",
      "text/html": "<div>\n<style scoped>\n    .dataframe tbody tr th:only-of-type {\n        vertical-align: middle;\n    }\n\n    .dataframe tbody tr th {\n        vertical-align: top;\n    }\n\n    .dataframe thead th {\n        text-align: right;\n    }\n</style>\n<table border=\"1\" class=\"dataframe\">\n  <thead>\n    <tr style=\"text-align: right;\">\n      <th></th>\n      <th></th>\n      <th></th>\n      <th>name</th>\n      <th>preTestScore</th>\n      <th>postTestScore</th>\n    </tr>\n    <tr>\n      <th>regiment</th>\n      <th>company</th>\n      <th></th>\n      <th></th>\n      <th></th>\n      <th></th>\n    </tr>\n  </thead>\n  <tbody>\n    <tr>\n      <th rowspan=\"4\" valign=\"top\">Dragoons</th>\n      <th rowspan=\"2\" valign=\"top\">1st</th>\n      <th>4</th>\n      <td>Cooze</td>\n      <td>3</td>\n      <td>70</td>\n    </tr>\n    <tr>\n      <th>5</th>\n      <td>Jacon</td>\n      <td>4</td>\n      <td>25</td>\n    </tr>\n    <tr>\n      <th rowspan=\"2\" valign=\"top\">2nd</th>\n      <th>6</th>\n      <td>Ryaner</td>\n      <td>24</td>\n      <td>94</td>\n    </tr>\n    <tr>\n      <th>7</th>\n      <td>Sone</td>\n      <td>31</td>\n      <td>57</td>\n    </tr>\n    <tr>\n      <th rowspan=\"4\" valign=\"top\">Nighthawks</th>\n      <th rowspan=\"2\" valign=\"top\">1st</th>\n      <th>0</th>\n      <td>Miller</td>\n      <td>4</td>\n      <td>25</td>\n    </tr>\n    <tr>\n      <th>1</th>\n      <td>Jacobson</td>\n      <td>24</td>\n      <td>94</td>\n    </tr>\n    <tr>\n      <th rowspan=\"2\" valign=\"top\">2nd</th>\n      <th>2</th>\n      <td>Ali</td>\n      <td>31</td>\n      <td>57</td>\n    </tr>\n    <tr>\n      <th>3</th>\n      <td>Milner</td>\n      <td>2</td>\n      <td>62</td>\n    </tr>\n    <tr>\n      <th rowspan=\"4\" valign=\"top\">Scouts</th>\n      <th rowspan=\"2\" valign=\"top\">1st</th>\n      <th>8</th>\n      <td>Sloan</td>\n      <td>2</td>\n      <td>62</td>\n    </tr>\n    <tr>\n      <th>9</th>\n      <td>Piger</td>\n      <td>3</td>\n      <td>70</td>\n    </tr>\n    <tr>\n      <th rowspan=\"2\" valign=\"top\">2nd</th>\n      <th>10</th>\n      <td>Riani</td>\n      <td>2</td>\n      <td>62</td>\n    </tr>\n    <tr>\n      <th>11</th>\n      <td>Ali</td>\n      <td>3</td>\n      <td>70</td>\n    </tr>\n  </tbody>\n</table>\n</div>"
     },
     "metadata": {},
     "execution_count": 22
    }
   ],
   "source": [
    "# Bonus - no se pide eso\n",
    "\n",
    "orden_group=regiment.groupby([\"regiment\",\"company\"])\n",
    "orden_group = orden_group.apply(lambda df:df.sort_values(by=[\"regiment\",\"company\"]))\n",
    "orden_group.drop([\"regiment\"], axis=1, inplace=True)\n",
    "orden_group.drop([\"company\"], axis=1, inplace=True)\n",
    "orden_group"
   ]
  },
  {
   "cell_type": "code",
   "execution_count": 37,
   "metadata": {
    "collapsed": false
   },
   "outputs": [
    {
     "data": {
      "text/html": [
       "<div>\n",
       "<table border=\"1\" class=\"dataframe\">\n",
       "  <thead>\n",
       "    <tr style=\"text-align: right;\">\n",
       "      <th></th>\n",
       "      <th></th>\n",
       "      <th>preTestScore</th>\n",
       "      <th>postTestScore</th>\n",
       "    </tr>\n",
       "    <tr>\n",
       "      <th>regiment</th>\n",
       "      <th>company</th>\n",
       "      <th></th>\n",
       "      <th></th>\n",
       "    </tr>\n",
       "  </thead>\n",
       "  <tbody>\n",
       "    <tr>\n",
       "      <th rowspan=\"2\" valign=\"top\">Dragoons</th>\n",
       "      <th>1st</th>\n",
       "      <td>3.5</td>\n",
       "      <td>47.5</td>\n",
       "    </tr>\n",
       "    <tr>\n",
       "      <th>2nd</th>\n",
       "      <td>27.5</td>\n",
       "      <td>75.5</td>\n",
       "    </tr>\n",
       "    <tr>\n",
       "      <th rowspan=\"2\" valign=\"top\">Nighthawks</th>\n",
       "      <th>1st</th>\n",
       "      <td>14.0</td>\n",
       "      <td>59.5</td>\n",
       "    </tr>\n",
       "    <tr>\n",
       "      <th>2nd</th>\n",
       "      <td>16.5</td>\n",
       "      <td>59.5</td>\n",
       "    </tr>\n",
       "    <tr>\n",
       "      <th rowspan=\"2\" valign=\"top\">Scouts</th>\n",
       "      <th>1st</th>\n",
       "      <td>2.5</td>\n",
       "      <td>66.0</td>\n",
       "    </tr>\n",
       "    <tr>\n",
       "      <th>2nd</th>\n",
       "      <td>2.5</td>\n",
       "      <td>66.0</td>\n",
       "    </tr>\n",
       "  </tbody>\n",
       "</table>\n",
       "</div>"
      ],
      "text/plain": [
       "                    preTestScore  postTestScore\n",
       "regiment   company                             \n",
       "Dragoons   1st               3.5           47.5\n",
       "           2nd              27.5           75.5\n",
       "Nighthawks 1st              14.0           59.5\n",
       "           2nd              16.5           59.5\n",
       "Scouts     1st               2.5           66.0\n",
       "           2nd               2.5           66.0"
      ]
     },
     "execution_count": 37,
     "metadata": {},
     "output_type": "execute_result"
    }
   ],
   "source": [
    "regiment.groupby(['regiment', 'company']).mean()"
   ]
  },
  {
   "cell_type": "markdown",
   "metadata": {},
   "source": [
    "### Step 10. What is the number of observations in each regiment and company"
   ]
  },
  {
   "cell_type": "code",
   "execution_count": 38,
   "metadata": {},
   "outputs": [
    {
     "name": "stdout",
     "output_type": "stream",
     "text": "<class 'pandas.core.frame.DataFrame'>\nRangeIndex: 12 entries, 0 to 11\nData columns (total 5 columns):\nregiment         12 non-null object\ncompany          12 non-null object\nname             12 non-null object\npreTestScore     12 non-null int64\npostTestScore    12 non-null int64\ndtypes: int64(2), object(3)\nmemory usage: 608.0+ bytes\n"
    }
   ],
   "source": [
    "regiment.info()"
   ]
  },
  {
   "cell_type": "code",
   "execution_count": 23,
   "metadata": {
    "collapsed": false
   },
   "outputs": [
    {
     "output_type": "execute_result",
     "data": {
      "text/plain": "regiment  Dragoons  Nighthawks  Scouts\ncompany                               \n1st              2           2       2\n2nd              2           2       2",
      "text/html": "<div>\n<style scoped>\n    .dataframe tbody tr th:only-of-type {\n        vertical-align: middle;\n    }\n\n    .dataframe tbody tr th {\n        vertical-align: top;\n    }\n\n    .dataframe thead th {\n        text-align: right;\n    }\n</style>\n<table border=\"1\" class=\"dataframe\">\n  <thead>\n    <tr style=\"text-align: right;\">\n      <th>regiment</th>\n      <th>Dragoons</th>\n      <th>Nighthawks</th>\n      <th>Scouts</th>\n    </tr>\n    <tr>\n      <th>company</th>\n      <th></th>\n      <th></th>\n      <th></th>\n    </tr>\n  </thead>\n  <tbody>\n    <tr>\n      <th>1st</th>\n      <td>2</td>\n      <td>2</td>\n      <td>2</td>\n    </tr>\n    <tr>\n      <th>2nd</th>\n      <td>2</td>\n      <td>2</td>\n      <td>2</td>\n    </tr>\n  </tbody>\n</table>\n</div>"
     },
     "metadata": {},
     "execution_count": 23
    }
   ],
   "source": [
    "regiment.groupby(['company', 'regiment']).size().unstack()"
   ]
  },
  {
   "cell_type": "code",
   "execution_count": 45,
   "metadata": {},
   "outputs": [
    {
     "data": {
      "text/plain": "company  regiment  \n1st      Dragoons      2\n         Nighthawks    2\n         Scouts        2\n2nd      Dragoons      2\n         Nighthawks    2\n         Scouts        2\nName: name, dtype: int64"
     },
     "execution_count": 45,
     "metadata": {},
     "output_type": "execute_result"
    }
   ],
   "source": [
    "regiment.groupby(['company', 'regiment']).name.count()"
   ]
  },
  {
   "cell_type": "code",
   "execution_count": 24,
   "metadata": {},
   "outputs": [
    {
     "output_type": "execute_result",
     "data": {
      "text/plain": "regiment  Dragoons  Nighthawks  Scouts\ncompany                               \n1st              2           2       2\n2nd              2           2       2",
      "text/html": "<div>\n<style scoped>\n    .dataframe tbody tr th:only-of-type {\n        vertical-align: middle;\n    }\n\n    .dataframe tbody tr th {\n        vertical-align: top;\n    }\n\n    .dataframe thead th {\n        text-align: right;\n    }\n</style>\n<table border=\"1\" class=\"dataframe\">\n  <thead>\n    <tr style=\"text-align: right;\">\n      <th>regiment</th>\n      <th>Dragoons</th>\n      <th>Nighthawks</th>\n      <th>Scouts</th>\n    </tr>\n    <tr>\n      <th>company</th>\n      <th></th>\n      <th></th>\n      <th></th>\n    </tr>\n  </thead>\n  <tbody>\n    <tr>\n      <th>1st</th>\n      <td>2</td>\n      <td>2</td>\n      <td>2</td>\n    </tr>\n    <tr>\n      <th>2nd</th>\n      <td>2</td>\n      <td>2</td>\n      <td>2</td>\n    </tr>\n  </tbody>\n</table>\n</div>"
     },
     "metadata": {},
     "execution_count": 24
    }
   ],
   "source": [
    "regiment.groupby(['company']).regiment.value_counts().unstack()"
   ]
  },
  {
   "cell_type": "markdown",
   "metadata": {},
   "source": [
    "### Step 11. Iterate over a group and print the name and the whole data from the regiment"
   ]
  },
  {
   "cell_type": "code",
   "execution_count": 47,
   "metadata": {},
   "outputs": [
    {
     "name": "stdout",
     "output_type": "stream",
     "text": "('Dragoons',    regiment company    name  preTestScore  postTestScore\n4  Dragoons     1st   Cooze             3             70\n5  Dragoons     1st   Jacon             4             25\n6  Dragoons     2nd  Ryaner            24             94\n7  Dragoons     2nd    Sone            31             57)\n('Nighthawks',      regiment company      name  preTestScore  postTestScore\n0  Nighthawks     1st    Miller             4             25\n1  Nighthawks     1st  Jacobson            24             94\n2  Nighthawks     2nd       Ali            31             57\n3  Nighthawks     2nd    Milner             2             62)\n('Scouts',    regiment company   name  preTestScore  postTestScore\n8    Scouts     1st  Sloan             2             62\n9    Scouts     1st  Piger             3             70\n10   Scouts     2nd  Riani             2             62\n11   Scouts     2nd    Ali             3             70)\n"
    }
   ],
   "source": [
    "group = regiment.groupby('regiment')\n",
    "for x in group:\n",
    "    print(x)"
   ]
  },
  {
   "cell_type": "code",
   "execution_count": 27,
   "metadata": {},
   "outputs": [
    {
     "output_type": "execute_result",
     "data": {
      "text/plain": "      regiment company      name  preTestScore  postTestScore\n0   Nighthawks     1st    Miller             4             25\n1   Nighthawks     1st  Jacobson            24             94\n2   Nighthawks     2nd       Ali            31             57\n3   Nighthawks     2nd    Milner             2             62\n4     Dragoons     1st     Cooze             3             70\n5     Dragoons     1st     Jacon             4             25\n6     Dragoons     2nd    Ryaner            24             94\n7     Dragoons     2nd      Sone            31             57\n8       Scouts     1st     Sloan             2             62\n9       Scouts     1st     Piger             3             70\n10      Scouts     2nd     Riani             2             62\n11      Scouts     2nd       Ali             3             70",
      "text/html": "<div>\n<style scoped>\n    .dataframe tbody tr th:only-of-type {\n        vertical-align: middle;\n    }\n\n    .dataframe tbody tr th {\n        vertical-align: top;\n    }\n\n    .dataframe thead th {\n        text-align: right;\n    }\n</style>\n<table border=\"1\" class=\"dataframe\">\n  <thead>\n    <tr style=\"text-align: right;\">\n      <th></th>\n      <th>regiment</th>\n      <th>company</th>\n      <th>name</th>\n      <th>preTestScore</th>\n      <th>postTestScore</th>\n    </tr>\n  </thead>\n  <tbody>\n    <tr>\n      <th>0</th>\n      <td>Nighthawks</td>\n      <td>1st</td>\n      <td>Miller</td>\n      <td>4</td>\n      <td>25</td>\n    </tr>\n    <tr>\n      <th>1</th>\n      <td>Nighthawks</td>\n      <td>1st</td>\n      <td>Jacobson</td>\n      <td>24</td>\n      <td>94</td>\n    </tr>\n    <tr>\n      <th>2</th>\n      <td>Nighthawks</td>\n      <td>2nd</td>\n      <td>Ali</td>\n      <td>31</td>\n      <td>57</td>\n    </tr>\n    <tr>\n      <th>3</th>\n      <td>Nighthawks</td>\n      <td>2nd</td>\n      <td>Milner</td>\n      <td>2</td>\n      <td>62</td>\n    </tr>\n    <tr>\n      <th>4</th>\n      <td>Dragoons</td>\n      <td>1st</td>\n      <td>Cooze</td>\n      <td>3</td>\n      <td>70</td>\n    </tr>\n    <tr>\n      <th>5</th>\n      <td>Dragoons</td>\n      <td>1st</td>\n      <td>Jacon</td>\n      <td>4</td>\n      <td>25</td>\n    </tr>\n    <tr>\n      <th>6</th>\n      <td>Dragoons</td>\n      <td>2nd</td>\n      <td>Ryaner</td>\n      <td>24</td>\n      <td>94</td>\n    </tr>\n    <tr>\n      <th>7</th>\n      <td>Dragoons</td>\n      <td>2nd</td>\n      <td>Sone</td>\n      <td>31</td>\n      <td>57</td>\n    </tr>\n    <tr>\n      <th>8</th>\n      <td>Scouts</td>\n      <td>1st</td>\n      <td>Sloan</td>\n      <td>2</td>\n      <td>62</td>\n    </tr>\n    <tr>\n      <th>9</th>\n      <td>Scouts</td>\n      <td>1st</td>\n      <td>Piger</td>\n      <td>3</td>\n      <td>70</td>\n    </tr>\n    <tr>\n      <th>10</th>\n      <td>Scouts</td>\n      <td>2nd</td>\n      <td>Riani</td>\n      <td>2</td>\n      <td>62</td>\n    </tr>\n    <tr>\n      <th>11</th>\n      <td>Scouts</td>\n      <td>2nd</td>\n      <td>Ali</td>\n      <td>3</td>\n      <td>70</td>\n    </tr>\n  </tbody>\n</table>\n</div>"
     },
     "metadata": {},
     "execution_count": 27
    }
   ],
   "source": [
    "regiment"
   ]
  },
  {
   "cell_type": "code",
   "execution_count": 29,
   "metadata": {
    "tags": []
   },
   "outputs": [
    {
     "output_type": "stream",
     "name": "stdout",
     "text": "Dragoons\n-----\n  company    name  preTestScore  postTestScore\n4     1st   Cooze             3             70\n5     1st   Jacon             4             25\n6     2nd  Ryaner            24             94\n7     2nd    Sone            31             57\nNighthawks\n-----\n  company      name  preTestScore  postTestScore\n0     1st    Miller             4             25\n1     1st  Jacobson            24             94\n2     2nd       Ali            31             57\n3     2nd    Milner             2             62\nScouts\n-----\n   company   name  preTestScore  postTestScore\n8      1st  Sloan             2             62\n9      1st  Piger             3             70\n10     2nd  Riani             2             62\n11     2nd    Ali             3             70\n"
    }
   ],
   "source": [
    "# Group the dataframe by regiment, and for each regiment,\n",
    "for name, group in regiment.groupby('regiment'):\n",
    "    # print the name of the regiment\n",
    "    print(name)\n",
    "    print(\"-----\")\n",
    "    # print the data of that regiment\n",
    "    del group[\"regiment\"]\n",
    "    print(group)\n",
    "    \n",
    "\n",
    "    "
   ]
  },
  {
   "cell_type": "code",
   "execution_count": null,
   "metadata": {},
   "outputs": [],
   "source": []
  }
 ],
 "metadata": {
  "kernelspec": {
   "display_name": "Python 3.6.4 64-bit",
   "language": "python",
   "name": "python_defaultSpec_1594895808949"
  },
  "language_info": {
   "codemirror_mode": {
    "name": "ipython",
    "version": 2
   },
   "file_extension": ".py",
   "mimetype": "text/x-python",
   "name": "python",
   "nbconvert_exporter": "python",
   "pygments_lexer": "ipython2",
   "version": "3.7.4-final"
  }
 },
 "nbformat": 4,
 "nbformat_minor": 0
}