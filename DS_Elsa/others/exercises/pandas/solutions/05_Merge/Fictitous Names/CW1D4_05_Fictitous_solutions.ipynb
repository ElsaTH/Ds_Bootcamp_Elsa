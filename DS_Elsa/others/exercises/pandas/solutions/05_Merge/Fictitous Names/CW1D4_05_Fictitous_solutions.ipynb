{
 "cells": [
  {
   "cell_type": "markdown",
   "metadata": {},
   "source": [
    "# Fictitious Names"
   ]
  },
  {
   "cell_type": "code",
   "execution_count": 5,
   "metadata": {},
   "outputs": [],
   "source": [
    "import pandas as pd"
   ]
  },
  {
   "cell_type": "markdown",
   "metadata": {},
   "source": [
    "### Step 2. Create the 3 DataFrames based on the following raw data"
   ]
  },
  {
   "cell_type": "code",
   "execution_count": 6,
   "metadata": {},
   "outputs": [],
   "source": [
    "raw_data_1 = {\n",
    "        'subject_id': ['1', '2', '3', '4', '5'],\n",
    "        'first_name': ['Alex', 'Amy', 'Allen', 'Alice', 'Ayoung'], \n",
    "        'last_name': ['Anderson', 'Ackerman', 'Ali', 'Aoni', 'Atiches']}\n",
    "\n",
    "raw_data_2 = {\n",
    "        'subject_id': ['4', '5', '6', '7', '8'],\n",
    "        'first_name': ['Billy', 'Brian', 'Bran', 'Bryce', 'Betty'], \n",
    "        'last_name': ['Bonder', 'Black', 'Balwner', 'Brice', 'Btisan']}\n",
    "\n",
    "raw_data_3 = {\n",
    "        'subject_id': ['1', '2', '3', '4', '5', '7', '8', '9', '10', '11'],\n",
    "        'test_id': [51, 15, 15, 61, 16, 14, 15, 1, 61, 16]}"
   ]
  },
  {
   "cell_type": "markdown",
   "metadata": {},
   "source": [
    "### Step 3. Assign each to a variable called data1, data2, data3"
   ]
  },
  {
   "cell_type": "code",
   "execution_count": 3,
   "metadata": {},
   "outputs": [],
   "source": [
    "x = pd.DataFrame(raw_data_1)"
   ]
  },
  {
   "cell_type": "code",
   "execution_count": 12,
   "metadata": {},
   "outputs": [
    {
     "data": {
      "text/html": "<div>\n<style scoped>\n    .dataframe tbody tr th:only-of-type {\n        vertical-align: middle;\n    }\n\n    .dataframe tbody tr th {\n        vertical-align: top;\n    }\n\n    .dataframe thead th {\n        text-align: right;\n    }\n</style>\n<table border=\"1\" class=\"dataframe\">\n  <thead>\n    <tr style=\"text-align: right;\">\n      <th></th>\n      <th>subject_id</th>\n      <th>first_name</th>\n      <th>last_name</th>\n    </tr>\n  </thead>\n  <tbody>\n    <tr>\n      <td>0</td>\n      <td>1</td>\n      <td>Alex</td>\n      <td>Anderson</td>\n    </tr>\n    <tr>\n      <td>1</td>\n      <td>2</td>\n      <td>Amy</td>\n      <td>Ackerman</td>\n    </tr>\n    <tr>\n      <td>2</td>\n      <td>3</td>\n      <td>Allen</td>\n      <td>Ali</td>\n    </tr>\n    <tr>\n      <td>3</td>\n      <td>4</td>\n      <td>Alice</td>\n      <td>Aoni</td>\n    </tr>\n    <tr>\n      <td>4</td>\n      <td>5</td>\n      <td>Ayoung</td>\n      <td>Atiches</td>\n    </tr>\n  </tbody>\n</table>\n</div>",
      "text/plain": "  subject_id first_name last_name\n0          1       Alex  Anderson\n1          2        Amy  Ackerman\n2          3      Allen       Ali\n3          4      Alice      Aoni\n4          5     Ayoung   Atiches"
     },
     "execution_count": 12,
     "metadata": {},
     "output_type": "execute_result"
    }
   ],
   "source": [
    "data1"
   ]
  },
  {
   "cell_type": "code",
   "execution_count": 13,
   "metadata": {},
   "outputs": [
    {
     "data": {
      "text/html": "<div>\n<style scoped>\n    .dataframe tbody tr th:only-of-type {\n        vertical-align: middle;\n    }\n\n    .dataframe tbody tr th {\n        vertical-align: top;\n    }\n\n    .dataframe thead th {\n        text-align: right;\n    }\n</style>\n<table border=\"1\" class=\"dataframe\">\n  <thead>\n    <tr style=\"text-align: right;\">\n      <th></th>\n      <th>subject_id</th>\n      <th>first_name</th>\n      <th>last_name</th>\n    </tr>\n  </thead>\n  <tbody>\n    <tr>\n      <td>0</td>\n      <td>4</td>\n      <td>Billy</td>\n      <td>Bonder</td>\n    </tr>\n    <tr>\n      <td>1</td>\n      <td>5</td>\n      <td>Brian</td>\n      <td>Black</td>\n    </tr>\n    <tr>\n      <td>2</td>\n      <td>6</td>\n      <td>Bran</td>\n      <td>Balwner</td>\n    </tr>\n    <tr>\n      <td>3</td>\n      <td>7</td>\n      <td>Bryce</td>\n      <td>Brice</td>\n    </tr>\n    <tr>\n      <td>4</td>\n      <td>8</td>\n      <td>Betty</td>\n      <td>Btisan</td>\n    </tr>\n  </tbody>\n</table>\n</div>",
      "text/plain": "  subject_id first_name last_name\n0          4      Billy    Bonder\n1          5      Brian     Black\n2          6       Bran   Balwner\n3          7      Bryce     Brice\n4          8      Betty    Btisan"
     },
     "execution_count": 13,
     "metadata": {},
     "output_type": "execute_result"
    }
   ],
   "source": [
    "data2"
   ]
  },
  {
   "cell_type": "code",
   "execution_count": 7,
   "metadata": {},
   "outputs": [
    {
     "output_type": "execute_result",
     "data": {
      "text/plain": "  subject_id  test_id\n0          1       51\n1          2       15\n2          3       15\n3          4       61\n4          5       16\n5          7       14\n6          8       15\n7          9        1\n8         10       61\n9         11       16",
      "text/html": "<div>\n<style scoped>\n    .dataframe tbody tr th:only-of-type {\n        vertical-align: middle;\n    }\n\n    .dataframe tbody tr th {\n        vertical-align: top;\n    }\n\n    .dataframe thead th {\n        text-align: right;\n    }\n</style>\n<table border=\"1\" class=\"dataframe\">\n  <thead>\n    <tr style=\"text-align: right;\">\n      <th></th>\n      <th>subject_id</th>\n      <th>test_id</th>\n    </tr>\n  </thead>\n  <tbody>\n    <tr>\n      <th>0</th>\n      <td>1</td>\n      <td>51</td>\n    </tr>\n    <tr>\n      <th>1</th>\n      <td>2</td>\n      <td>15</td>\n    </tr>\n    <tr>\n      <th>2</th>\n      <td>3</td>\n      <td>15</td>\n    </tr>\n    <tr>\n      <th>3</th>\n      <td>4</td>\n      <td>61</td>\n    </tr>\n    <tr>\n      <th>4</th>\n      <td>5</td>\n      <td>16</td>\n    </tr>\n    <tr>\n      <th>5</th>\n      <td>7</td>\n      <td>14</td>\n    </tr>\n    <tr>\n      <th>6</th>\n      <td>8</td>\n      <td>15</td>\n    </tr>\n    <tr>\n      <th>7</th>\n      <td>9</td>\n      <td>1</td>\n    </tr>\n    <tr>\n      <th>8</th>\n      <td>10</td>\n      <td>61</td>\n    </tr>\n    <tr>\n      <th>9</th>\n      <td>11</td>\n      <td>16</td>\n    </tr>\n  </tbody>\n</table>\n</div>"
     },
     "metadata": {},
     "execution_count": 7
    }
   ],
   "source": [
    "data1 = pd.DataFrame(raw_data_1, columns = ['subject_id', 'first_name', 'last_name'])\n",
    "data2 = pd.DataFrame(raw_data_2, columns = ['subject_id', 'first_name', 'last_name'])\n",
    "data3 = pd.DataFrame(raw_data_3, columns = ['subject_id','test_id'])\n",
    "\n",
    "data3"
   ]
  },
  {
   "cell_type": "markdown",
   "metadata": {},
   "source": [
    "### Step 4. Join the two dataframes along rows and assign all_data"
   ]
  },
  {
   "cell_type": "code",
   "execution_count": 8,
   "metadata": {},
   "outputs": [
    {
     "output_type": "execute_result",
     "data": {
      "text/plain": "  subject_id first_name last_name\n0          1       Alex  Anderson\n1          2        Amy  Ackerman\n2          3      Allen       Ali\n3          4      Alice      Aoni\n4          5     Ayoung   Atiches\n0          4      Billy    Bonder\n1          5      Brian     Black\n2          6       Bran   Balwner\n3          7      Bryce     Brice\n4          8      Betty    Btisan",
      "text/html": "<div>\n<style scoped>\n    .dataframe tbody tr th:only-of-type {\n        vertical-align: middle;\n    }\n\n    .dataframe tbody tr th {\n        vertical-align: top;\n    }\n\n    .dataframe thead th {\n        text-align: right;\n    }\n</style>\n<table border=\"1\" class=\"dataframe\">\n  <thead>\n    <tr style=\"text-align: right;\">\n      <th></th>\n      <th>subject_id</th>\n      <th>first_name</th>\n      <th>last_name</th>\n    </tr>\n  </thead>\n  <tbody>\n    <tr>\n      <th>0</th>\n      <td>1</td>\n      <td>Alex</td>\n      <td>Anderson</td>\n    </tr>\n    <tr>\n      <th>1</th>\n      <td>2</td>\n      <td>Amy</td>\n      <td>Ackerman</td>\n    </tr>\n    <tr>\n      <th>2</th>\n      <td>3</td>\n      <td>Allen</td>\n      <td>Ali</td>\n    </tr>\n    <tr>\n      <th>3</th>\n      <td>4</td>\n      <td>Alice</td>\n      <td>Aoni</td>\n    </tr>\n    <tr>\n      <th>4</th>\n      <td>5</td>\n      <td>Ayoung</td>\n      <td>Atiches</td>\n    </tr>\n    <tr>\n      <th>0</th>\n      <td>4</td>\n      <td>Billy</td>\n      <td>Bonder</td>\n    </tr>\n    <tr>\n      <th>1</th>\n      <td>5</td>\n      <td>Brian</td>\n      <td>Black</td>\n    </tr>\n    <tr>\n      <th>2</th>\n      <td>6</td>\n      <td>Bran</td>\n      <td>Balwner</td>\n    </tr>\n    <tr>\n      <th>3</th>\n      <td>7</td>\n      <td>Bryce</td>\n      <td>Brice</td>\n    </tr>\n    <tr>\n      <th>4</th>\n      <td>8</td>\n      <td>Betty</td>\n      <td>Btisan</td>\n    </tr>\n  </tbody>\n</table>\n</div>"
     },
     "metadata": {},
     "execution_count": 8
    }
   ],
   "source": [
    "all_data_list = [data1, data2]\n",
    "\n",
    "all_data = pd.concat(all_data_list)\n",
    "all_data"
   ]
  },
  {
   "cell_type": "code",
   "execution_count": 5,
   "metadata": {},
   "outputs": [
    {
     "data": {
      "text/html": "<div>\n<style scoped>\n    .dataframe tbody tr th:only-of-type {\n        vertical-align: middle;\n    }\n\n    .dataframe tbody tr th {\n        vertical-align: top;\n    }\n\n    .dataframe thead th {\n        text-align: right;\n    }\n</style>\n<table border=\"1\" class=\"dataframe\">\n  <thead>\n    <tr style=\"text-align: right;\">\n      <th></th>\n      <th>subject_id</th>\n      <th>first_name</th>\n      <th>last_name</th>\n    </tr>\n  </thead>\n  <tbody>\n    <tr>\n      <td>0</td>\n      <td>1</td>\n      <td>Alex</td>\n      <td>Anderson</td>\n    </tr>\n    <tr>\n      <td>1</td>\n      <td>2</td>\n      <td>Amy</td>\n      <td>Ackerman</td>\n    </tr>\n    <tr>\n      <td>2</td>\n      <td>3</td>\n      <td>Allen</td>\n      <td>Ali</td>\n    </tr>\n    <tr>\n      <td>3</td>\n      <td>4</td>\n      <td>Alice</td>\n      <td>Aoni</td>\n    </tr>\n    <tr>\n      <td>4</td>\n      <td>5</td>\n      <td>Ayoung</td>\n      <td>Atiches</td>\n    </tr>\n    <tr>\n      <td>0</td>\n      <td>4</td>\n      <td>Billy</td>\n      <td>Bonder</td>\n    </tr>\n    <tr>\n      <td>1</td>\n      <td>5</td>\n      <td>Brian</td>\n      <td>Black</td>\n    </tr>\n    <tr>\n      <td>2</td>\n      <td>6</td>\n      <td>Bran</td>\n      <td>Balwner</td>\n    </tr>\n    <tr>\n      <td>3</td>\n      <td>7</td>\n      <td>Bryce</td>\n      <td>Brice</td>\n    </tr>\n    <tr>\n      <td>4</td>\n      <td>8</td>\n      <td>Betty</td>\n      <td>Btisan</td>\n    </tr>\n  </tbody>\n</table>\n</div>",
      "text/plain": "  subject_id first_name last_name\n0          1       Alex  Anderson\n1          2        Amy  Ackerman\n2          3      Allen       Ali\n3          4      Alice      Aoni\n4          5     Ayoung   Atiches\n0          4      Billy    Bonder\n1          5      Brian     Black\n2          6       Bran   Balwner\n3          7      Bryce     Brice\n4          8      Betty    Btisan"
     },
     "execution_count": 5,
     "metadata": {},
     "output_type": "execute_result"
    }
   ],
   "source": [
    "all_data2 = data1.append(data2)\n",
    "all_data2"
   ]
  },
  {
   "cell_type": "code",
   "execution_count": 8,
   "metadata": {},
   "outputs": [
    {
     "data": {
      "text/html": "<div>\n<style scoped>\n    .dataframe tbody tr th:only-of-type {\n        vertical-align: middle;\n    }\n\n    .dataframe tbody tr th {\n        vertical-align: top;\n    }\n\n    .dataframe thead th {\n        text-align: right;\n    }\n</style>\n<table border=\"1\" class=\"dataframe\">\n  <thead>\n    <tr style=\"text-align: right;\">\n      <th></th>\n      <th>subject_id</th>\n      <th>first_name</th>\n      <th>last_name</th>\n    </tr>\n  </thead>\n  <tbody>\n    <tr>\n      <td>0</td>\n      <td>1</td>\n      <td>Alex</td>\n      <td>Anderson</td>\n    </tr>\n    <tr>\n      <td>1</td>\n      <td>2</td>\n      <td>Amy</td>\n      <td>Ackerman</td>\n    </tr>\n    <tr>\n      <td>2</td>\n      <td>3</td>\n      <td>Allen</td>\n      <td>Ali</td>\n    </tr>\n    <tr>\n      <td>3</td>\n      <td>4</td>\n      <td>Alice</td>\n      <td>Aoni</td>\n    </tr>\n    <tr>\n      <td>4</td>\n      <td>5</td>\n      <td>Ayoung</td>\n      <td>Atiches</td>\n    </tr>\n    <tr>\n      <td>0</td>\n      <td>4</td>\n      <td>Billy</td>\n      <td>Bonder</td>\n    </tr>\n    <tr>\n      <td>1</td>\n      <td>5</td>\n      <td>Brian</td>\n      <td>Black</td>\n    </tr>\n    <tr>\n      <td>2</td>\n      <td>6</td>\n      <td>Bran</td>\n      <td>Balwner</td>\n    </tr>\n    <tr>\n      <td>3</td>\n      <td>7</td>\n      <td>Bryce</td>\n      <td>Brice</td>\n    </tr>\n    <tr>\n      <td>4</td>\n      <td>8</td>\n      <td>Betty</td>\n      <td>Btisan</td>\n    </tr>\n  </tbody>\n</table>\n</div>",
      "text/plain": "  subject_id first_name last_name\n0          1       Alex  Anderson\n1          2        Amy  Ackerman\n2          3      Allen       Ali\n3          4      Alice      Aoni\n4          5     Ayoung   Atiches\n0          4      Billy    Bonder\n1          5      Brian     Black\n2          6       Bran   Balwner\n3          7      Bryce     Brice\n4          8      Betty    Btisan"
     },
     "execution_count": 8,
     "metadata": {},
     "output_type": "execute_result"
    }
   ],
   "source": [
    "all_data = pd.concat([data1, data2])\n",
    "all_data"
   ]
  },
  {
   "cell_type": "code",
   "execution_count": 11,
   "metadata": {},
   "outputs": [
    {
     "data": {
      "text/html": "<div>\n<style scoped>\n    .dataframe tbody tr th:only-of-type {\n        vertical-align: middle;\n    }\n\n    .dataframe tbody tr th {\n        vertical-align: top;\n    }\n\n    .dataframe thead th {\n        text-align: right;\n    }\n</style>\n<table border=\"1\" class=\"dataframe\">\n  <thead>\n    <tr style=\"text-align: right;\">\n      <th></th>\n      <th>subject_id</th>\n      <th>first_name</th>\n      <th>last_name</th>\n    </tr>\n  </thead>\n  <tbody>\n    <tr>\n      <td>0</td>\n      <td>1</td>\n      <td>Alex</td>\n      <td>Anderson</td>\n    </tr>\n    <tr>\n      <td>1</td>\n      <td>2</td>\n      <td>Amy</td>\n      <td>Ackerman</td>\n    </tr>\n    <tr>\n      <td>2</td>\n      <td>3</td>\n      <td>Allen</td>\n      <td>Ali</td>\n    </tr>\n    <tr>\n      <td>3</td>\n      <td>4</td>\n      <td>Alice</td>\n      <td>Aoni</td>\n    </tr>\n    <tr>\n      <td>4</td>\n      <td>5</td>\n      <td>Ayoung</td>\n      <td>Atiches</td>\n    </tr>\n    <tr>\n      <td>5</td>\n      <td>4</td>\n      <td>Billy</td>\n      <td>Bonder</td>\n    </tr>\n    <tr>\n      <td>6</td>\n      <td>5</td>\n      <td>Brian</td>\n      <td>Black</td>\n    </tr>\n    <tr>\n      <td>7</td>\n      <td>6</td>\n      <td>Bran</td>\n      <td>Balwner</td>\n    </tr>\n    <tr>\n      <td>8</td>\n      <td>7</td>\n      <td>Bryce</td>\n      <td>Brice</td>\n    </tr>\n    <tr>\n      <td>9</td>\n      <td>8</td>\n      <td>Betty</td>\n      <td>Btisan</td>\n    </tr>\n  </tbody>\n</table>\n</div>",
      "text/plain": "  subject_id first_name last_name\n0          1       Alex  Anderson\n1          2        Amy  Ackerman\n2          3      Allen       Ali\n3          4      Alice      Aoni\n4          5     Ayoung   Atiches\n5          4      Billy    Bonder\n6          5      Brian     Black\n7          6       Bran   Balwner\n8          7      Bryce     Brice\n9          8      Betty    Btisan"
     },
     "execution_count": 11,
     "metadata": {},
     "output_type": "execute_result"
    }
   ],
   "source": [
    "all_data3 = pd.merge(data1, data2, how=\"outer\")\n",
    "all_data3"
   ]
  },
  {
   "cell_type": "markdown",
   "metadata": {},
   "source": [
    "### Step 5. Join the two dataframes along columns and assing to all_data_col"
   ]
  },
  {
   "cell_type": "code",
   "execution_count": 9,
   "metadata": {},
   "outputs": [
    {
     "output_type": "execute_result",
     "data": {
      "text/plain": "  subject_id first_name last_name subject_id first_name last_name\n0          1       Alex  Anderson          4      Billy    Bonder\n1          2        Amy  Ackerman          5      Brian     Black\n2          3      Allen       Ali          6       Bran   Balwner\n3          4      Alice      Aoni          7      Bryce     Brice\n4          5     Ayoung   Atiches          8      Betty    Btisan",
      "text/html": "<div>\n<style scoped>\n    .dataframe tbody tr th:only-of-type {\n        vertical-align: middle;\n    }\n\n    .dataframe tbody tr th {\n        vertical-align: top;\n    }\n\n    .dataframe thead th {\n        text-align: right;\n    }\n</style>\n<table border=\"1\" class=\"dataframe\">\n  <thead>\n    <tr style=\"text-align: right;\">\n      <th></th>\n      <th>subject_id</th>\n      <th>first_name</th>\n      <th>last_name</th>\n      <th>subject_id</th>\n      <th>first_name</th>\n      <th>last_name</th>\n    </tr>\n  </thead>\n  <tbody>\n    <tr>\n      <th>0</th>\n      <td>1</td>\n      <td>Alex</td>\n      <td>Anderson</td>\n      <td>4</td>\n      <td>Billy</td>\n      <td>Bonder</td>\n    </tr>\n    <tr>\n      <th>1</th>\n      <td>2</td>\n      <td>Amy</td>\n      <td>Ackerman</td>\n      <td>5</td>\n      <td>Brian</td>\n      <td>Black</td>\n    </tr>\n    <tr>\n      <th>2</th>\n      <td>3</td>\n      <td>Allen</td>\n      <td>Ali</td>\n      <td>6</td>\n      <td>Bran</td>\n      <td>Balwner</td>\n    </tr>\n    <tr>\n      <th>3</th>\n      <td>4</td>\n      <td>Alice</td>\n      <td>Aoni</td>\n      <td>7</td>\n      <td>Bryce</td>\n      <td>Brice</td>\n    </tr>\n    <tr>\n      <th>4</th>\n      <td>5</td>\n      <td>Ayoung</td>\n      <td>Atiches</td>\n      <td>8</td>\n      <td>Betty</td>\n      <td>Btisan</td>\n    </tr>\n  </tbody>\n</table>\n</div>"
     },
     "metadata": {},
     "execution_count": 9
    }
   ],
   "source": [
    "all_data_col_list = [data1, data2]\n",
    "all_data_col = pd.concat(all_data_col_list, axis=1)\n",
    "all_data_col"
   ]
  },
  {
   "cell_type": "code",
   "execution_count": null,
   "metadata": {},
   "outputs": [],
   "source": []
  },
  {
   "cell_type": "code",
   "execution_count": null,
   "metadata": {},
   "outputs": [],
   "source": []
  },
  {
   "cell_type": "code",
   "execution_count": 16,
   "metadata": {},
   "outputs": [
    {
     "data": {
      "text/html": "<div>\n<style scoped>\n    .dataframe tbody tr th:only-of-type {\n        vertical-align: middle;\n    }\n\n    .dataframe tbody tr th {\n        vertical-align: top;\n    }\n\n    .dataframe thead th {\n        text-align: right;\n    }\n</style>\n<table border=\"1\" class=\"dataframe\">\n  <thead>\n    <tr style=\"text-align: right;\">\n      <th></th>\n      <th>subject_id</th>\n      <th>first_name</th>\n      <th>last_name</th>\n      <th>subject_id</th>\n      <th>first_name</th>\n      <th>last_name</th>\n    </tr>\n  </thead>\n  <tbody>\n    <tr>\n      <td>0</td>\n      <td>1</td>\n      <td>Alex</td>\n      <td>Anderson</td>\n      <td>4</td>\n      <td>Billy</td>\n      <td>Bonder</td>\n    </tr>\n    <tr>\n      <td>1</td>\n      <td>2</td>\n      <td>Amy</td>\n      <td>Ackerman</td>\n      <td>5</td>\n      <td>Brian</td>\n      <td>Black</td>\n    </tr>\n    <tr>\n      <td>2</td>\n      <td>3</td>\n      <td>Allen</td>\n      <td>Ali</td>\n      <td>6</td>\n      <td>Bran</td>\n      <td>Balwner</td>\n    </tr>\n    <tr>\n      <td>3</td>\n      <td>4</td>\n      <td>Alice</td>\n      <td>Aoni</td>\n      <td>7</td>\n      <td>Bryce</td>\n      <td>Brice</td>\n    </tr>\n    <tr>\n      <td>4</td>\n      <td>5</td>\n      <td>Ayoung</td>\n      <td>Atiches</td>\n      <td>8</td>\n      <td>Betty</td>\n      <td>Btisan</td>\n    </tr>\n  </tbody>\n</table>\n</div>",
      "text/plain": "  subject_id first_name last_name subject_id first_name last_name\n0          1       Alex  Anderson          4      Billy    Bonder\n1          2        Amy  Ackerman          5      Brian     Black\n2          3      Allen       Ali          6       Bran   Balwner\n3          4      Alice      Aoni          7      Bryce     Brice\n4          5     Ayoung   Atiches          8      Betty    Btisan"
     },
     "execution_count": 16,
     "metadata": {},
     "output_type": "execute_result"
    }
   ],
   "source": [
    "all_data_col = pd.concat([data1, data2], axis = 1)\n",
    "all_data_col"
   ]
  },
  {
   "cell_type": "markdown",
   "metadata": {},
   "source": [
    "### Step 6. Print data3"
   ]
  },
  {
   "cell_type": "code",
   "execution_count": 13,
   "metadata": {
    "collapsed": false
   },
   "outputs": [
    {
     "data": {
      "text/html": [
       "<div>\n",
       "<table border=\"1\" class=\"dataframe\">\n",
       "  <thead>\n",
       "    <tr style=\"text-align: right;\">\n",
       "      <th></th>\n",
       "      <th>subject_id</th>\n",
       "      <th>test_id</th>\n",
       "    </tr>\n",
       "  </thead>\n",
       "  <tbody>\n",
       "    <tr>\n",
       "      <th>0</th>\n",
       "      <td>1</td>\n",
       "      <td>51</td>\n",
       "    </tr>\n",
       "    <tr>\n",
       "      <th>1</th>\n",
       "      <td>2</td>\n",
       "      <td>15</td>\n",
       "    </tr>\n",
       "    <tr>\n",
       "      <th>2</th>\n",
       "      <td>3</td>\n",
       "      <td>15</td>\n",
       "    </tr>\n",
       "    <tr>\n",
       "      <th>3</th>\n",
       "      <td>4</td>\n",
       "      <td>61</td>\n",
       "    </tr>\n",
       "    <tr>\n",
       "      <th>4</th>\n",
       "      <td>5</td>\n",
       "      <td>16</td>\n",
       "    </tr>\n",
       "    <tr>\n",
       "      <th>5</th>\n",
       "      <td>7</td>\n",
       "      <td>14</td>\n",
       "    </tr>\n",
       "    <tr>\n",
       "      <th>6</th>\n",
       "      <td>8</td>\n",
       "      <td>15</td>\n",
       "    </tr>\n",
       "    <tr>\n",
       "      <th>7</th>\n",
       "      <td>9</td>\n",
       "      <td>1</td>\n",
       "    </tr>\n",
       "    <tr>\n",
       "      <th>8</th>\n",
       "      <td>10</td>\n",
       "      <td>61</td>\n",
       "    </tr>\n",
       "    <tr>\n",
       "      <th>9</th>\n",
       "      <td>11</td>\n",
       "      <td>16</td>\n",
       "    </tr>\n",
       "  </tbody>\n",
       "</table>\n",
       "</div>"
      ],
      "text/plain": [
       "  subject_id  test_id\n",
       "0          1       51\n",
       "1          2       15\n",
       "2          3       15\n",
       "3          4       61\n",
       "4          5       16\n",
       "5          7       14\n",
       "6          8       15\n",
       "7          9        1\n",
       "8         10       61\n",
       "9         11       16"
      ]
     },
     "execution_count": 13,
     "metadata": {},
     "output_type": "execute_result"
    }
   ],
   "source": [
    "data3"
   ]
  },
  {
   "cell_type": "code",
   "execution_count": 18,
   "metadata": {},
   "outputs": [
    {
     "data": {
      "text/html": "<div>\n<style scoped>\n    .dataframe tbody tr th:only-of-type {\n        vertical-align: middle;\n    }\n\n    .dataframe tbody tr th {\n        vertical-align: top;\n    }\n\n    .dataframe thead th {\n        text-align: right;\n    }\n</style>\n<table border=\"1\" class=\"dataframe\">\n  <thead>\n    <tr style=\"text-align: right;\">\n      <th></th>\n      <th>subject_id</th>\n      <th>first_name</th>\n      <th>last_name</th>\n    </tr>\n  </thead>\n  <tbody>\n    <tr>\n      <td>0</td>\n      <td>1</td>\n      <td>Alex</td>\n      <td>Anderson</td>\n    </tr>\n    <tr>\n      <td>1</td>\n      <td>2</td>\n      <td>Amy</td>\n      <td>Ackerman</td>\n    </tr>\n    <tr>\n      <td>2</td>\n      <td>3</td>\n      <td>Allen</td>\n      <td>Ali</td>\n    </tr>\n    <tr>\n      <td>3</td>\n      <td>4</td>\n      <td>Alice</td>\n      <td>Aoni</td>\n    </tr>\n    <tr>\n      <td>4</td>\n      <td>5</td>\n      <td>Ayoung</td>\n      <td>Atiches</td>\n    </tr>\n    <tr>\n      <td>0</td>\n      <td>4</td>\n      <td>Billy</td>\n      <td>Bonder</td>\n    </tr>\n    <tr>\n      <td>1</td>\n      <td>5</td>\n      <td>Brian</td>\n      <td>Black</td>\n    </tr>\n    <tr>\n      <td>2</td>\n      <td>6</td>\n      <td>Bran</td>\n      <td>Balwner</td>\n    </tr>\n    <tr>\n      <td>3</td>\n      <td>7</td>\n      <td>Bryce</td>\n      <td>Brice</td>\n    </tr>\n    <tr>\n      <td>4</td>\n      <td>8</td>\n      <td>Betty</td>\n      <td>Btisan</td>\n    </tr>\n  </tbody>\n</table>\n</div>",
      "text/plain": "  subject_id first_name last_name\n0          1       Alex  Anderson\n1          2        Amy  Ackerman\n2          3      Allen       Ali\n3          4      Alice      Aoni\n4          5     Ayoung   Atiches\n0          4      Billy    Bonder\n1          5      Brian     Black\n2          6       Bran   Balwner\n3          7      Bryce     Brice\n4          8      Betty    Btisan"
     },
     "execution_count": 18,
     "metadata": {},
     "output_type": "execute_result"
    }
   ],
   "source": [
    "\n",
    "all_data"
   ]
  },
  {
   "cell_type": "markdown",
   "metadata": {},
   "source": [
    "### Step 7. Merge all_data and data3 along the subject_id value"
   ]
  },
  {
   "cell_type": "code",
   "execution_count": 10,
   "metadata": {},
   "outputs": [
    {
     "output_type": "execute_result",
     "data": {
      "text/plain": "  subject_id first_name last_name  test_id\n0          1       Alex  Anderson       51\n1          2        Amy  Ackerman       15\n2          3      Allen       Ali       15\n3          4      Alice      Aoni       61\n4          4      Billy    Bonder       61\n5          5     Ayoung   Atiches       16\n6          5      Brian     Black       16\n7          7      Bryce     Brice       14\n8          8      Betty    Btisan       15",
      "text/html": "<div>\n<style scoped>\n    .dataframe tbody tr th:only-of-type {\n        vertical-align: middle;\n    }\n\n    .dataframe tbody tr th {\n        vertical-align: top;\n    }\n\n    .dataframe thead th {\n        text-align: right;\n    }\n</style>\n<table border=\"1\" class=\"dataframe\">\n  <thead>\n    <tr style=\"text-align: right;\">\n      <th></th>\n      <th>subject_id</th>\n      <th>first_name</th>\n      <th>last_name</th>\n      <th>test_id</th>\n    </tr>\n  </thead>\n  <tbody>\n    <tr>\n      <th>0</th>\n      <td>1</td>\n      <td>Alex</td>\n      <td>Anderson</td>\n      <td>51</td>\n    </tr>\n    <tr>\n      <th>1</th>\n      <td>2</td>\n      <td>Amy</td>\n      <td>Ackerman</td>\n      <td>15</td>\n    </tr>\n    <tr>\n      <th>2</th>\n      <td>3</td>\n      <td>Allen</td>\n      <td>Ali</td>\n      <td>15</td>\n    </tr>\n    <tr>\n      <th>3</th>\n      <td>4</td>\n      <td>Alice</td>\n      <td>Aoni</td>\n      <td>61</td>\n    </tr>\n    <tr>\n      <th>4</th>\n      <td>4</td>\n      <td>Billy</td>\n      <td>Bonder</td>\n      <td>61</td>\n    </tr>\n    <tr>\n      <th>5</th>\n      <td>5</td>\n      <td>Ayoung</td>\n      <td>Atiches</td>\n      <td>16</td>\n    </tr>\n    <tr>\n      <th>6</th>\n      <td>5</td>\n      <td>Brian</td>\n      <td>Black</td>\n      <td>16</td>\n    </tr>\n    <tr>\n      <th>7</th>\n      <td>7</td>\n      <td>Bryce</td>\n      <td>Brice</td>\n      <td>14</td>\n    </tr>\n    <tr>\n      <th>8</th>\n      <td>8</td>\n      <td>Betty</td>\n      <td>Btisan</td>\n      <td>15</td>\n    </tr>\n  </tbody>\n</table>\n</div>"
     },
     "metadata": {},
     "execution_count": 10
    }
   ],
   "source": [
    "data_merged =  pd.merge(left=all_data, right=data3, how=\"inner\", on=\"subject_id\")\n",
    "data_merged"
   ]
  },
  {
   "cell_type": "code",
   "execution_count": 17,
   "metadata": {},
   "outputs": [
    {
     "data": {
      "text/html": "<div>\n<style scoped>\n    .dataframe tbody tr th:only-of-type {\n        vertical-align: middle;\n    }\n\n    .dataframe tbody tr th {\n        vertical-align: top;\n    }\n\n    .dataframe thead th {\n        text-align: right;\n    }\n</style>\n<table border=\"1\" class=\"dataframe\">\n  <thead>\n    <tr style=\"text-align: right;\">\n      <th></th>\n      <th>subject_id</th>\n      <th>first_name</th>\n      <th>last_name</th>\n      <th>test_id</th>\n    </tr>\n  </thead>\n  <tbody>\n    <tr>\n      <td>0</td>\n      <td>1</td>\n      <td>Alex</td>\n      <td>Anderson</td>\n      <td>51</td>\n    </tr>\n    <tr>\n      <td>1</td>\n      <td>2</td>\n      <td>Amy</td>\n      <td>Ackerman</td>\n      <td>15</td>\n    </tr>\n    <tr>\n      <td>2</td>\n      <td>3</td>\n      <td>Allen</td>\n      <td>Ali</td>\n      <td>15</td>\n    </tr>\n    <tr>\n      <td>3</td>\n      <td>4</td>\n      <td>Alice</td>\n      <td>Aoni</td>\n      <td>61</td>\n    </tr>\n    <tr>\n      <td>4</td>\n      <td>4</td>\n      <td>Billy</td>\n      <td>Bonder</td>\n      <td>61</td>\n    </tr>\n    <tr>\n      <td>5</td>\n      <td>5</td>\n      <td>Ayoung</td>\n      <td>Atiches</td>\n      <td>16</td>\n    </tr>\n    <tr>\n      <td>6</td>\n      <td>5</td>\n      <td>Brian</td>\n      <td>Black</td>\n      <td>16</td>\n    </tr>\n    <tr>\n      <td>7</td>\n      <td>7</td>\n      <td>Bryce</td>\n      <td>Brice</td>\n      <td>14</td>\n    </tr>\n    <tr>\n      <td>8</td>\n      <td>8</td>\n      <td>Betty</td>\n      <td>Btisan</td>\n      <td>15</td>\n    </tr>\n  </tbody>\n</table>\n</div>",
      "text/plain": "  subject_id first_name last_name  test_id\n0          1       Alex  Anderson       51\n1          2        Amy  Ackerman       15\n2          3      Allen       Ali       15\n3          4      Alice      Aoni       61\n4          4      Billy    Bonder       61\n5          5     Ayoung   Atiches       16\n6          5      Brian     Black       16\n7          7      Bryce     Brice       14\n8          8      Betty    Btisan       15"
     },
     "execution_count": 17,
     "metadata": {},
     "output_type": "execute_result"
    }
   ],
   "source": [
    "pd.merge(all_data, data3, on='subject_id')"
   ]
  },
  {
   "cell_type": "markdown",
   "metadata": {},
   "source": [
    "### Step 8. Merge only the data that has the same 'subject_id' on both data1 and data2"
   ]
  },
  {
   "cell_type": "code",
   "execution_count": 16,
   "metadata": {
    "collapsed": false
   },
   "outputs": [
    {
     "data": {
      "text/html": [
       "<div>\n",
       "<table border=\"1\" class=\"dataframe\">\n",
       "  <thead>\n",
       "    <tr style=\"text-align: right;\">\n",
       "      <th></th>\n",
       "      <th>subject_id</th>\n",
       "      <th>first_name_x</th>\n",
       "      <th>last_name_x</th>\n",
       "      <th>first_name_y</th>\n",
       "      <th>last_name_y</th>\n",
       "    </tr>\n",
       "  </thead>\n",
       "  <tbody>\n",
       "    <tr>\n",
       "      <th>0</th>\n",
       "      <td>4</td>\n",
       "      <td>Alice</td>\n",
       "      <td>Aoni</td>\n",
       "      <td>Billy</td>\n",
       "      <td>Bonder</td>\n",
       "    </tr>\n",
       "    <tr>\n",
       "      <th>1</th>\n",
       "      <td>5</td>\n",
       "      <td>Ayoung</td>\n",
       "      <td>Atiches</td>\n",
       "      <td>Brian</td>\n",
       "      <td>Black</td>\n",
       "    </tr>\n",
       "  </tbody>\n",
       "</table>\n",
       "</div>"
      ],
      "text/plain": [
       "  subject_id first_name_x last_name_x first_name_y last_name_y\n",
       "0          4        Alice        Aoni        Billy      Bonder\n",
       "1          5       Ayoung     Atiches        Brian       Black"
      ]
     },
     "execution_count": 16,
     "metadata": {},
     "output_type": "execute_result"
    }
   ],
   "source": [
    "pd.merge(data1, data2, on='subject_id', how='inner')"
   ]
  },
  {
   "cell_type": "markdown",
   "metadata": {},
   "source": [
    "### Step 9. Merge all values in data1 and data2, with matching records from both sides where available."
   ]
  },
  {
   "cell_type": "code",
   "execution_count": 12,
   "metadata": {},
   "outputs": [
    {
     "output_type": "execute_result",
     "data": {
      "text/plain": "  subject_id first_name last_name\n0          1       Alex  Anderson\n1          2        Amy  Ackerman\n2          3      Allen       Ali\n3          4      Alice      Aoni\n4          5     Ayoung   Atiches",
      "text/html": "<div>\n<style scoped>\n    .dataframe tbody tr th:only-of-type {\n        vertical-align: middle;\n    }\n\n    .dataframe tbody tr th {\n        vertical-align: top;\n    }\n\n    .dataframe thead th {\n        text-align: right;\n    }\n</style>\n<table border=\"1\" class=\"dataframe\">\n  <thead>\n    <tr style=\"text-align: right;\">\n      <th></th>\n      <th>subject_id</th>\n      <th>first_name</th>\n      <th>last_name</th>\n    </tr>\n  </thead>\n  <tbody>\n    <tr>\n      <th>0</th>\n      <td>1</td>\n      <td>Alex</td>\n      <td>Anderson</td>\n    </tr>\n    <tr>\n      <th>1</th>\n      <td>2</td>\n      <td>Amy</td>\n      <td>Ackerman</td>\n    </tr>\n    <tr>\n      <th>2</th>\n      <td>3</td>\n      <td>Allen</td>\n      <td>Ali</td>\n    </tr>\n    <tr>\n      <th>3</th>\n      <td>4</td>\n      <td>Alice</td>\n      <td>Aoni</td>\n    </tr>\n    <tr>\n      <th>4</th>\n      <td>5</td>\n      <td>Ayoung</td>\n      <td>Atiches</td>\n    </tr>\n  </tbody>\n</table>\n</div>"
     },
     "metadata": {},
     "execution_count": 12
    }
   ],
   "source": [
    "data1"
   ]
  },
  {
   "cell_type": "code",
   "execution_count": 11,
   "metadata": {},
   "outputs": [
    {
     "output_type": "execute_result",
     "data": {
      "text/plain": "  subject_id first_name last_name\n0          4      Billy    Bonder\n1          5      Brian     Black\n2          6       Bran   Balwner\n3          7      Bryce     Brice\n4          8      Betty    Btisan",
      "text/html": "<div>\n<style scoped>\n    .dataframe tbody tr th:only-of-type {\n        vertical-align: middle;\n    }\n\n    .dataframe tbody tr th {\n        vertical-align: top;\n    }\n\n    .dataframe thead th {\n        text-align: right;\n    }\n</style>\n<table border=\"1\" class=\"dataframe\">\n  <thead>\n    <tr style=\"text-align: right;\">\n      <th></th>\n      <th>subject_id</th>\n      <th>first_name</th>\n      <th>last_name</th>\n    </tr>\n  </thead>\n  <tbody>\n    <tr>\n      <th>0</th>\n      <td>4</td>\n      <td>Billy</td>\n      <td>Bonder</td>\n    </tr>\n    <tr>\n      <th>1</th>\n      <td>5</td>\n      <td>Brian</td>\n      <td>Black</td>\n    </tr>\n    <tr>\n      <th>2</th>\n      <td>6</td>\n      <td>Bran</td>\n      <td>Balwner</td>\n    </tr>\n    <tr>\n      <th>3</th>\n      <td>7</td>\n      <td>Bryce</td>\n      <td>Brice</td>\n    </tr>\n    <tr>\n      <th>4</th>\n      <td>8</td>\n      <td>Betty</td>\n      <td>Btisan</td>\n    </tr>\n  </tbody>\n</table>\n</div>"
     },
     "metadata": {},
     "execution_count": 11
    }
   ],
   "source": [
    "data2"
   ]
  },
  {
   "cell_type": "code",
   "execution_count": 17,
   "metadata": {
    "collapsed": false
   },
   "outputs": [
    {
     "data": {
      "text/html": [
       "<div>\n",
       "<table border=\"1\" class=\"dataframe\">\n",
       "  <thead>\n",
       "    <tr style=\"text-align: right;\">\n",
       "      <th></th>\n",
       "      <th>subject_id</th>\n",
       "      <th>first_name_x</th>\n",
       "      <th>last_name_x</th>\n",
       "      <th>first_name_y</th>\n",
       "      <th>last_name_y</th>\n",
       "    </tr>\n",
       "  </thead>\n",
       "  <tbody>\n",
       "    <tr>\n",
       "      <th>0</th>\n",
       "      <td>1</td>\n",
       "      <td>Alex</td>\n",
       "      <td>Anderson</td>\n",
       "      <td>NaN</td>\n",
       "      <td>NaN</td>\n",
       "    </tr>\n",
       "    <tr>\n",
       "      <th>1</th>\n",
       "      <td>2</td>\n",
       "      <td>Amy</td>\n",
       "      <td>Ackerman</td>\n",
       "      <td>NaN</td>\n",
       "      <td>NaN</td>\n",
       "    </tr>\n",
       "    <tr>\n",
       "      <th>2</th>\n",
       "      <td>3</td>\n",
       "      <td>Allen</td>\n",
       "      <td>Ali</td>\n",
       "      <td>NaN</td>\n",
       "      <td>NaN</td>\n",
       "    </tr>\n",
       "    <tr>\n",
       "      <th>3</th>\n",
       "      <td>4</td>\n",
       "      <td>Alice</td>\n",
       "      <td>Aoni</td>\n",
       "      <td>Billy</td>\n",
       "      <td>Bonder</td>\n",
       "    </tr>\n",
       "    <tr>\n",
       "      <th>4</th>\n",
       "      <td>5</td>\n",
       "      <td>Ayoung</td>\n",
       "      <td>Atiches</td>\n",
       "      <td>Brian</td>\n",
       "      <td>Black</td>\n",
       "    </tr>\n",
       "    <tr>\n",
       "      <th>5</th>\n",
       "      <td>6</td>\n",
       "      <td>NaN</td>\n",
       "      <td>NaN</td>\n",
       "      <td>Bran</td>\n",
       "      <td>Balwner</td>\n",
       "    </tr>\n",
       "    <tr>\n",
       "      <th>6</th>\n",
       "      <td>7</td>\n",
       "      <td>NaN</td>\n",
       "      <td>NaN</td>\n",
       "      <td>Bryce</td>\n",
       "      <td>Brice</td>\n",
       "    </tr>\n",
       "    <tr>\n",
       "      <th>7</th>\n",
       "      <td>8</td>\n",
       "      <td>NaN</td>\n",
       "      <td>NaN</td>\n",
       "      <td>Betty</td>\n",
       "      <td>Btisan</td>\n",
       "    </tr>\n",
       "  </tbody>\n",
       "</table>\n",
       "</div>"
      ],
      "text/plain": [
       "  subject_id first_name_x last_name_x first_name_y last_name_y\n",
       "0          1         Alex    Anderson          NaN         NaN\n",
       "1          2          Amy    Ackerman          NaN         NaN\n",
       "2          3        Allen         Ali          NaN         NaN\n",
       "3          4        Alice        Aoni        Billy      Bonder\n",
       "4          5       Ayoung     Atiches        Brian       Black\n",
       "5          6          NaN         NaN         Bran     Balwner\n",
       "6          7          NaN         NaN        Bryce       Brice\n",
       "7          8          NaN         NaN        Betty      Btisan"
      ]
     },
     "execution_count": 17,
     "metadata": {},
     "output_type": "execute_result"
    }
   ],
   "source": [
    "pd.merge(data1, data2, on='subject_id', how='outer')"
   ]
  },
  {
   "cell_type": "markdown",
   "metadata": {},
   "source": [
    "Example Concat"
   ]
  },
  {
   "cell_type": "code",
   "execution_count": 17,
   "metadata": {},
   "outputs": [
    {
     "output_type": "execute_result",
     "data": {
      "text/plain": "  subject_id first_name last_name\n0          1       Alex  Anderson\n1          2        Amy  Ackerman\n2          3      Allen       Ali\n3          4      Alice      Aoni\n4          5     Ayoung   Atiches\n0          4      Billy    Bonder\n1          5      Brian     Black\n2          6       Bran   Balwner\n3          7      Bryce     Brice\n4          8      Betty    Btisan",
      "text/html": "<div>\n<style scoped>\n    .dataframe tbody tr th:only-of-type {\n        vertical-align: middle;\n    }\n\n    .dataframe tbody tr th {\n        vertical-align: top;\n    }\n\n    .dataframe thead th {\n        text-align: right;\n    }\n</style>\n<table border=\"1\" class=\"dataframe\">\n  <thead>\n    <tr style=\"text-align: right;\">\n      <th></th>\n      <th>subject_id</th>\n      <th>first_name</th>\n      <th>last_name</th>\n    </tr>\n  </thead>\n  <tbody>\n    <tr>\n      <th>0</th>\n      <td>1</td>\n      <td>Alex</td>\n      <td>Anderson</td>\n    </tr>\n    <tr>\n      <th>1</th>\n      <td>2</td>\n      <td>Amy</td>\n      <td>Ackerman</td>\n    </tr>\n    <tr>\n      <th>2</th>\n      <td>3</td>\n      <td>Allen</td>\n      <td>Ali</td>\n    </tr>\n    <tr>\n      <th>3</th>\n      <td>4</td>\n      <td>Alice</td>\n      <td>Aoni</td>\n    </tr>\n    <tr>\n      <th>4</th>\n      <td>5</td>\n      <td>Ayoung</td>\n      <td>Atiches</td>\n    </tr>\n    <tr>\n      <th>0</th>\n      <td>4</td>\n      <td>Billy</td>\n      <td>Bonder</td>\n    </tr>\n    <tr>\n      <th>1</th>\n      <td>5</td>\n      <td>Brian</td>\n      <td>Black</td>\n    </tr>\n    <tr>\n      <th>2</th>\n      <td>6</td>\n      <td>Bran</td>\n      <td>Balwner</td>\n    </tr>\n    <tr>\n      <th>3</th>\n      <td>7</td>\n      <td>Bryce</td>\n      <td>Brice</td>\n    </tr>\n    <tr>\n      <th>4</th>\n      <td>8</td>\n      <td>Betty</td>\n      <td>Btisan</td>\n    </tr>\n  </tbody>\n</table>\n</div>"
     },
     "metadata": {},
     "execution_count": 17
    }
   ],
   "source": [
    "k = pd.concat([data1, data2], axis=0, join=\"inner\")\n",
    "k"
   ]
  },
  {
   "cell_type": "code",
   "execution_count": 18,
   "metadata": {},
   "outputs": [
    {
     "output_type": "execute_result",
     "data": {
      "text/plain": "           first_name last_name\nsubject_id                     \n1                Alex  Anderson\n2                 Amy  Ackerman\n3               Allen       Ali\n4               Alice      Aoni\n5              Ayoung   Atiches",
      "text/html": "<div>\n<style scoped>\n    .dataframe tbody tr th:only-of-type {\n        vertical-align: middle;\n    }\n\n    .dataframe tbody tr th {\n        vertical-align: top;\n    }\n\n    .dataframe thead th {\n        text-align: right;\n    }\n</style>\n<table border=\"1\" class=\"dataframe\">\n  <thead>\n    <tr style=\"text-align: right;\">\n      <th></th>\n      <th>first_name</th>\n      <th>last_name</th>\n    </tr>\n    <tr>\n      <th>subject_id</th>\n      <th></th>\n      <th></th>\n    </tr>\n  </thead>\n  <tbody>\n    <tr>\n      <th>1</th>\n      <td>Alex</td>\n      <td>Anderson</td>\n    </tr>\n    <tr>\n      <th>2</th>\n      <td>Amy</td>\n      <td>Ackerman</td>\n    </tr>\n    <tr>\n      <th>3</th>\n      <td>Allen</td>\n      <td>Ali</td>\n    </tr>\n    <tr>\n      <th>4</th>\n      <td>Alice</td>\n      <td>Aoni</td>\n    </tr>\n    <tr>\n      <th>5</th>\n      <td>Ayoung</td>\n      <td>Atiches</td>\n    </tr>\n  </tbody>\n</table>\n</div>"
     },
     "metadata": {},
     "execution_count": 18
    }
   ],
   "source": [
    "j = data1.set_index(\"subject_id\")\n",
    "j"
   ]
  },
  {
   "cell_type": "code",
   "execution_count": 20,
   "metadata": {},
   "outputs": [
    {
     "output_type": "execute_result",
     "data": {
      "text/plain": "           first_name last_name\nsubject_id                     \n4               Billy    Bonder\n5               Brian     Black\n6                Bran   Balwner\n7               Bryce     Brice\n8               Betty    Btisan",
      "text/html": "<div>\n<style scoped>\n    .dataframe tbody tr th:only-of-type {\n        vertical-align: middle;\n    }\n\n    .dataframe tbody tr th {\n        vertical-align: top;\n    }\n\n    .dataframe thead th {\n        text-align: right;\n    }\n</style>\n<table border=\"1\" class=\"dataframe\">\n  <thead>\n    <tr style=\"text-align: right;\">\n      <th></th>\n      <th>first_name</th>\n      <th>last_name</th>\n    </tr>\n    <tr>\n      <th>subject_id</th>\n      <th></th>\n      <th></th>\n    </tr>\n  </thead>\n  <tbody>\n    <tr>\n      <th>4</th>\n      <td>Billy</td>\n      <td>Bonder</td>\n    </tr>\n    <tr>\n      <th>5</th>\n      <td>Brian</td>\n      <td>Black</td>\n    </tr>\n    <tr>\n      <th>6</th>\n      <td>Bran</td>\n      <td>Balwner</td>\n    </tr>\n    <tr>\n      <th>7</th>\n      <td>Bryce</td>\n      <td>Brice</td>\n    </tr>\n    <tr>\n      <th>8</th>\n      <td>Betty</td>\n      <td>Btisan</td>\n    </tr>\n  </tbody>\n</table>\n</div>"
     },
     "metadata": {},
     "execution_count": 20
    }
   ],
   "source": [
    "g = data2.set_index(\"subject_id\")\n",
    "g"
   ]
  },
  {
   "cell_type": "code",
   "execution_count": 24,
   "metadata": {},
   "outputs": [],
   "source": [
    "import numpy as np"
   ]
  },
  {
   "cell_type": "code",
   "execution_count": 29,
   "metadata": {},
   "outputs": [
    {
     "output_type": "execute_result",
     "data": {
      "text/plain": "           first_name last_name   f\nsubject_id                         \n4               Billy    Bonder   2\n5               Brian     Black   5\n6                Bran   Balwner   7\n7               Bryce     Brice   9\n8               Betty    Btisan  11",
      "text/html": "<div>\n<style scoped>\n    .dataframe tbody tr th:only-of-type {\n        vertical-align: middle;\n    }\n\n    .dataframe tbody tr th {\n        vertical-align: top;\n    }\n\n    .dataframe thead th {\n        text-align: right;\n    }\n</style>\n<table border=\"1\" class=\"dataframe\">\n  <thead>\n    <tr style=\"text-align: right;\">\n      <th></th>\n      <th>first_name</th>\n      <th>last_name</th>\n      <th>f</th>\n    </tr>\n    <tr>\n      <th>subject_id</th>\n      <th></th>\n      <th></th>\n      <th></th>\n    </tr>\n  </thead>\n  <tbody>\n    <tr>\n      <th>4</th>\n      <td>Billy</td>\n      <td>Bonder</td>\n      <td>2</td>\n    </tr>\n    <tr>\n      <th>5</th>\n      <td>Brian</td>\n      <td>Black</td>\n      <td>5</td>\n    </tr>\n    <tr>\n      <th>6</th>\n      <td>Bran</td>\n      <td>Balwner</td>\n      <td>7</td>\n    </tr>\n    <tr>\n      <th>7</th>\n      <td>Bryce</td>\n      <td>Brice</td>\n      <td>9</td>\n    </tr>\n    <tr>\n      <th>8</th>\n      <td>Betty</td>\n      <td>Btisan</td>\n      <td>11</td>\n    </tr>\n  </tbody>\n</table>\n</div>"
     },
     "metadata": {},
     "execution_count": 29
    }
   ],
   "source": [
    "g[\"f\"] = [2, 5, 7, 9, 11]\n",
    "g"
   ]
  },
  {
   "cell_type": "code",
   "execution_count": 31,
   "metadata": {},
   "outputs": [
    {
     "output_type": "execute_result",
     "data": {
      "text/plain": "               f first_name last_name\nsubject_id                           \n4            2.0      Billy    Bonder\n5            5.0      Brian     Black\n6            7.0       Bran   Balwner\n7            9.0      Bryce     Brice\n8           11.0      Betty    Btisan\n1            NaN       Alex  Anderson\n2            NaN        Amy  Ackerman\n3            NaN      Allen       Ali\n4            NaN      Alice      Aoni\n5            NaN     Ayoung   Atiches",
      "text/html": "<div>\n<style scoped>\n    .dataframe tbody tr th:only-of-type {\n        vertical-align: middle;\n    }\n\n    .dataframe tbody tr th {\n        vertical-align: top;\n    }\n\n    .dataframe thead th {\n        text-align: right;\n    }\n</style>\n<table border=\"1\" class=\"dataframe\">\n  <thead>\n    <tr style=\"text-align: right;\">\n      <th></th>\n      <th>f</th>\n      <th>first_name</th>\n      <th>last_name</th>\n    </tr>\n    <tr>\n      <th>subject_id</th>\n      <th></th>\n      <th></th>\n      <th></th>\n    </tr>\n  </thead>\n  <tbody>\n    <tr>\n      <th>4</th>\n      <td>2.0</td>\n      <td>Billy</td>\n      <td>Bonder</td>\n    </tr>\n    <tr>\n      <th>5</th>\n      <td>5.0</td>\n      <td>Brian</td>\n      <td>Black</td>\n    </tr>\n    <tr>\n      <th>6</th>\n      <td>7.0</td>\n      <td>Bran</td>\n      <td>Balwner</td>\n    </tr>\n    <tr>\n      <th>7</th>\n      <td>9.0</td>\n      <td>Bryce</td>\n      <td>Brice</td>\n    </tr>\n    <tr>\n      <th>8</th>\n      <td>11.0</td>\n      <td>Betty</td>\n      <td>Btisan</td>\n    </tr>\n    <tr>\n      <th>1</th>\n      <td>NaN</td>\n      <td>Alex</td>\n      <td>Anderson</td>\n    </tr>\n    <tr>\n      <th>2</th>\n      <td>NaN</td>\n      <td>Amy</td>\n      <td>Ackerman</td>\n    </tr>\n    <tr>\n      <th>3</th>\n      <td>NaN</td>\n      <td>Allen</td>\n      <td>Ali</td>\n    </tr>\n    <tr>\n      <th>4</th>\n      <td>NaN</td>\n      <td>Alice</td>\n      <td>Aoni</td>\n    </tr>\n    <tr>\n      <th>5</th>\n      <td>NaN</td>\n      <td>Ayoung</td>\n      <td>Atiches</td>\n    </tr>\n  </tbody>\n</table>\n</div>"
     },
     "metadata": {},
     "execution_count": 31
    }
   ],
   "source": [
    "h = pd.concat([g,j], join=\"outer\")\n",
    "h"
   ]
  },
  {
   "cell_type": "code",
   "execution_count": null,
   "metadata": {},
   "outputs": [],
   "source": []
  }
 ],
 "metadata": {
  "kernelspec": {
   "display_name": "Python 3.6.4 64-bit",
   "language": "python",
   "name": "python_defaultSpec_1594980147349"
  },
  "language_info": {
   "codemirror_mode": {
    "name": "ipython",
    "version": 2
   },
   "file_extension": ".py",
   "mimetype": "text/x-python",
   "name": "python",
   "nbconvert_exporter": "python",
   "pygments_lexer": "ipython2",
   "version": "3.7.4-final"
  }
 },
 "nbformat": 4,
 "nbformat_minor": 0
}