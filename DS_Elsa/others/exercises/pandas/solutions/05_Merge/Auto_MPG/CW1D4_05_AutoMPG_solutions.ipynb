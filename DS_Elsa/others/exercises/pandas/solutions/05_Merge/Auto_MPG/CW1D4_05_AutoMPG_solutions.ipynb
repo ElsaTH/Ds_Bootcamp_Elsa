{
 "cells": [
  {
   "cell_type": "markdown",
   "metadata": {},
   "source": [
    "### Introduction:\n",
    "\n",
    "The following exercise utilizes data from [UC Irvine Machine Learning Repository](https://archive.ics.uci.edu/ml/datasets/Auto+MPG)\n",
    "\n",
    "### Step 1. Import the necessary libraries"
   ]
  },
  {
   "cell_type": "code",
   "execution_count": 1,
   "metadata": {},
   "outputs": [],
   "source": [
    "import pandas as pd\n",
    "import numpy as np"
   ]
  },
  {
   "cell_type": "markdown",
   "metadata": {},
   "source": [
    "### Step 2. Import the first dataset [cars1](https://raw.githubusercontent.com/guipsamora/pandas_exercises/master/05_Merge/Auto_MPG/cars1.csv) and [cars2](https://raw.githubusercontent.com/guipsamora/pandas_exercises/master/05_Merge/Auto_MPG/cars2.csv).  "
   ]
  },
  {
   "cell_type": "markdown",
   "metadata": {},
   "source": [
    "   ### Step 3. Assign each to a to a variable called cars1 and cars2"
   ]
  },
  {
   "cell_type": "code",
   "execution_count": 2,
   "metadata": {
    "tags": []
   },
   "outputs": [
    {
     "output_type": "stream",
     "name": "stdout",
     "text": "mpg  cylinders  displacement horsepower  weight  acceleration  model  \\\n0  18.0          8           307        130    3504          12.0     70   \n1  15.0          8           350        165    3693          11.5     70   \n2  18.0          8           318        150    3436          11.0     70   \n3  16.0          8           304        150    3433          12.0     70   \n4  17.0          8           302        140    3449          10.5     70   \n\n   origin                        car  Unnamed: 9  Unnamed: 10  Unnamed: 11  \\\n0       1  chevrolet chevelle malibu         NaN          NaN          NaN   \n1       1          buick skylark 320         NaN          NaN          NaN   \n2       1         plymouth satellite         NaN          NaN          NaN   \n3       1              amc rebel sst         NaN          NaN          NaN   \n4       1                ford torino         NaN          NaN          NaN   \n\n   Unnamed: 12  Unnamed: 13  \n0          NaN          NaN  \n1          NaN          NaN  \n2          NaN          NaN  \n3          NaN          NaN  \n4          NaN          NaN  \n    mpg  cylinders  displacement horsepower  weight  acceleration  model  \\\n0  33.0          4            91         53    1795          17.4     76   \n1  20.0          6           225        100    3651          17.7     76   \n2  18.0          6           250         78    3574          21.0     76   \n3  18.5          6           250        110    3645          16.2     76   \n4  17.5          6           258         95    3193          17.8     76   \n\n   origin                 car  \n0       3         honda civic  \n1       1      dodge aspen se  \n2       1   ford granada ghia  \n3       1  pontiac ventura sj  \n4       1       amc pacer d/l  \n"
    }
   ],
   "source": [
    "cars1 = pd.read_csv(\"https://raw.githubusercontent.com/guipsamora/pandas_exercises/master/05_Merge/Auto_MPG/cars1.csv\")\n",
    "cars2 = pd.read_csv(\"https://raw.githubusercontent.com/guipsamora/pandas_exercises/master/05_Merge/Auto_MPG/cars2.csv\")\n",
    "\n",
    "print(cars1.head())\n",
    "print(cars2.head())"
   ]
  },
  {
   "cell_type": "code",
   "execution_count": 3,
   "metadata": {},
   "outputs": [
    {
     "output_type": "execute_result",
     "data": {
      "text/plain": "      mpg  cylinders  displacement horsepower  weight  acceleration  model  \\\n0    18.0          8           307        130    3504          12.0     70   \n1    15.0          8           350        165    3693          11.5     70   \n2    18.0          8           318        150    3436          11.0     70   \n3    16.0          8           304        150    3433          12.0     70   \n4    17.0          8           302        140    3449          10.5     70   \n..    ...        ...           ...        ...     ...           ...    ...   \n193  24.0          6           200         81    3012          17.6     76   \n194  22.5          6           232         90    3085          17.6     76   \n195  29.0          4            85         52    2035          22.2     76   \n196  24.5          4            98         60    2164          22.1     76   \n197  29.0          4            90         70    1937          14.2     76   \n\n     origin                        car  Unnamed: 9  Unnamed: 10  Unnamed: 11  \\\n0         1  chevrolet chevelle malibu         NaN          NaN          NaN   \n1         1          buick skylark 320         NaN          NaN          NaN   \n2         1         plymouth satellite         NaN          NaN          NaN   \n3         1              amc rebel sst         NaN          NaN          NaN   \n4         1                ford torino         NaN          NaN          NaN   \n..      ...                        ...         ...          ...          ...   \n193       1              ford maverick         NaN          NaN          NaN   \n194       1                 amc hornet         NaN          NaN          NaN   \n195       1         chevrolet chevette         NaN          NaN          NaN   \n196       1            chevrolet woody         NaN          NaN          NaN   \n197       2                  vw rabbit         NaN          NaN          NaN   \n\n     Unnamed: 12  Unnamed: 13  \n0            NaN          NaN  \n1            NaN          NaN  \n2            NaN          NaN  \n3            NaN          NaN  \n4            NaN          NaN  \n..           ...          ...  \n193          NaN          NaN  \n194          NaN          NaN  \n195          NaN          NaN  \n196          NaN          NaN  \n197          NaN          NaN  \n\n[198 rows x 14 columns]",
      "text/html": "<div>\n<style scoped>\n    .dataframe tbody tr th:only-of-type {\n        vertical-align: middle;\n    }\n\n    .dataframe tbody tr th {\n        vertical-align: top;\n    }\n\n    .dataframe thead th {\n        text-align: right;\n    }\n</style>\n<table border=\"1\" class=\"dataframe\">\n  <thead>\n    <tr style=\"text-align: right;\">\n      <th></th>\n      <th>mpg</th>\n      <th>cylinders</th>\n      <th>displacement</th>\n      <th>horsepower</th>\n      <th>weight</th>\n      <th>acceleration</th>\n      <th>model</th>\n      <th>origin</th>\n      <th>car</th>\n      <th>Unnamed: 9</th>\n      <th>Unnamed: 10</th>\n      <th>Unnamed: 11</th>\n      <th>Unnamed: 12</th>\n      <th>Unnamed: 13</th>\n    </tr>\n  </thead>\n  <tbody>\n    <tr>\n      <th>0</th>\n      <td>18.0</td>\n      <td>8</td>\n      <td>307</td>\n      <td>130</td>\n      <td>3504</td>\n      <td>12.0</td>\n      <td>70</td>\n      <td>1</td>\n      <td>chevrolet chevelle malibu</td>\n      <td>NaN</td>\n      <td>NaN</td>\n      <td>NaN</td>\n      <td>NaN</td>\n      <td>NaN</td>\n    </tr>\n    <tr>\n      <th>1</th>\n      <td>15.0</td>\n      <td>8</td>\n      <td>350</td>\n      <td>165</td>\n      <td>3693</td>\n      <td>11.5</td>\n      <td>70</td>\n      <td>1</td>\n      <td>buick skylark 320</td>\n      <td>NaN</td>\n      <td>NaN</td>\n      <td>NaN</td>\n      <td>NaN</td>\n      <td>NaN</td>\n    </tr>\n    <tr>\n      <th>2</th>\n      <td>18.0</td>\n      <td>8</td>\n      <td>318</td>\n      <td>150</td>\n      <td>3436</td>\n      <td>11.0</td>\n      <td>70</td>\n      <td>1</td>\n      <td>plymouth satellite</td>\n      <td>NaN</td>\n      <td>NaN</td>\n      <td>NaN</td>\n      <td>NaN</td>\n      <td>NaN</td>\n    </tr>\n    <tr>\n      <th>3</th>\n      <td>16.0</td>\n      <td>8</td>\n      <td>304</td>\n      <td>150</td>\n      <td>3433</td>\n      <td>12.0</td>\n      <td>70</td>\n      <td>1</td>\n      <td>amc rebel sst</td>\n      <td>NaN</td>\n      <td>NaN</td>\n      <td>NaN</td>\n      <td>NaN</td>\n      <td>NaN</td>\n    </tr>\n    <tr>\n      <th>4</th>\n      <td>17.0</td>\n      <td>8</td>\n      <td>302</td>\n      <td>140</td>\n      <td>3449</td>\n      <td>10.5</td>\n      <td>70</td>\n      <td>1</td>\n      <td>ford torino</td>\n      <td>NaN</td>\n      <td>NaN</td>\n      <td>NaN</td>\n      <td>NaN</td>\n      <td>NaN</td>\n    </tr>\n    <tr>\n      <th>...</th>\n      <td>...</td>\n      <td>...</td>\n      <td>...</td>\n      <td>...</td>\n      <td>...</td>\n      <td>...</td>\n      <td>...</td>\n      <td>...</td>\n      <td>...</td>\n      <td>...</td>\n      <td>...</td>\n      <td>...</td>\n      <td>...</td>\n      <td>...</td>\n    </tr>\n    <tr>\n      <th>193</th>\n      <td>24.0</td>\n      <td>6</td>\n      <td>200</td>\n      <td>81</td>\n      <td>3012</td>\n      <td>17.6</td>\n      <td>76</td>\n      <td>1</td>\n      <td>ford maverick</td>\n      <td>NaN</td>\n      <td>NaN</td>\n      <td>NaN</td>\n      <td>NaN</td>\n      <td>NaN</td>\n    </tr>\n    <tr>\n      <th>194</th>\n      <td>22.5</td>\n      <td>6</td>\n      <td>232</td>\n      <td>90</td>\n      <td>3085</td>\n      <td>17.6</td>\n      <td>76</td>\n      <td>1</td>\n      <td>amc hornet</td>\n      <td>NaN</td>\n      <td>NaN</td>\n      <td>NaN</td>\n      <td>NaN</td>\n      <td>NaN</td>\n    </tr>\n    <tr>\n      <th>195</th>\n      <td>29.0</td>\n      <td>4</td>\n      <td>85</td>\n      <td>52</td>\n      <td>2035</td>\n      <td>22.2</td>\n      <td>76</td>\n      <td>1</td>\n      <td>chevrolet chevette</td>\n      <td>NaN</td>\n      <td>NaN</td>\n      <td>NaN</td>\n      <td>NaN</td>\n      <td>NaN</td>\n    </tr>\n    <tr>\n      <th>196</th>\n      <td>24.5</td>\n      <td>4</td>\n      <td>98</td>\n      <td>60</td>\n      <td>2164</td>\n      <td>22.1</td>\n      <td>76</td>\n      <td>1</td>\n      <td>chevrolet woody</td>\n      <td>NaN</td>\n      <td>NaN</td>\n      <td>NaN</td>\n      <td>NaN</td>\n      <td>NaN</td>\n    </tr>\n    <tr>\n      <th>197</th>\n      <td>29.0</td>\n      <td>4</td>\n      <td>90</td>\n      <td>70</td>\n      <td>1937</td>\n      <td>14.2</td>\n      <td>76</td>\n      <td>2</td>\n      <td>vw rabbit</td>\n      <td>NaN</td>\n      <td>NaN</td>\n      <td>NaN</td>\n      <td>NaN</td>\n      <td>NaN</td>\n    </tr>\n  </tbody>\n</table>\n<p>198 rows × 14 columns</p>\n</div>"
     },
     "metadata": {},
     "execution_count": 3
    }
   ],
   "source": [
    "cars1"
   ]
  },
  {
   "cell_type": "markdown",
   "metadata": {},
   "source": [
    "### Step 4. Oops, it seems our first dataset has some unnamed blank columns, fix cars1"
   ]
  },
  {
   "cell_type": "code",
   "execution_count": 5,
   "metadata": {},
   "outputs": [],
   "source": [
    "cars_copy = cars1.copy()"
   ]
  },
  {
   "cell_type": "code",
   "execution_count": 9,
   "metadata": {},
   "outputs": [
    {
     "output_type": "execute_result",
     "data": {
      "text/plain": "mpg             False\ncylinders       False\ndisplacement    False\nhorsepower      False\nweight          False\nacceleration    False\nmodel           False\norigin          False\ncar             False\nUnnamed: 9       True\nUnnamed: 10      True\nUnnamed: 11      True\nUnnamed: 12      True\nUnnamed: 13      True\ndtype: bool"
     },
     "metadata": {},
     "execution_count": 9
    }
   ],
   "source": [
    "cars_copy.isnull().all() #Todas las columnas 'True' son Null,"
   ]
  },
  {
   "cell_type": "code",
   "execution_count": 8,
   "metadata": {},
   "outputs": [
    {
     "data": {
      "text/html": "<div>\n<style scoped>\n    .dataframe tbody tr th:only-of-type {\n        vertical-align: middle;\n    }\n\n    .dataframe tbody tr th {\n        vertical-align: top;\n    }\n\n    .dataframe thead th {\n        text-align: right;\n    }\n</style>\n<table border=\"1\" class=\"dataframe\">\n  <thead>\n    <tr style=\"text-align: right;\">\n      <th></th>\n      <th>mpg</th>\n      <th>cylinders</th>\n      <th>displacement</th>\n      <th>horsepower</th>\n      <th>weight</th>\n      <th>acceleration</th>\n      <th>model</th>\n      <th>origin</th>\n      <th>car</th>\n    </tr>\n  </thead>\n  <tbody>\n    <tr>\n      <td>0</td>\n      <td>18.0</td>\n      <td>8</td>\n      <td>307</td>\n      <td>130</td>\n      <td>3504</td>\n      <td>12.0</td>\n      <td>70</td>\n      <td>1</td>\n      <td>chevrolet chevelle malibu</td>\n    </tr>\n    <tr>\n      <td>1</td>\n      <td>15.0</td>\n      <td>8</td>\n      <td>350</td>\n      <td>165</td>\n      <td>3693</td>\n      <td>11.5</td>\n      <td>70</td>\n      <td>1</td>\n      <td>buick skylark 320</td>\n    </tr>\n    <tr>\n      <td>2</td>\n      <td>18.0</td>\n      <td>8</td>\n      <td>318</td>\n      <td>150</td>\n      <td>3436</td>\n      <td>11.0</td>\n      <td>70</td>\n      <td>1</td>\n      <td>plymouth satellite</td>\n    </tr>\n    <tr>\n      <td>3</td>\n      <td>16.0</td>\n      <td>8</td>\n      <td>304</td>\n      <td>150</td>\n      <td>3433</td>\n      <td>12.0</td>\n      <td>70</td>\n      <td>1</td>\n      <td>amc rebel sst</td>\n    </tr>\n    <tr>\n      <td>4</td>\n      <td>17.0</td>\n      <td>8</td>\n      <td>302</td>\n      <td>140</td>\n      <td>3449</td>\n      <td>10.5</td>\n      <td>70</td>\n      <td>1</td>\n      <td>ford torino</td>\n    </tr>\n    <tr>\n      <td>...</td>\n      <td>...</td>\n      <td>...</td>\n      <td>...</td>\n      <td>...</td>\n      <td>...</td>\n      <td>...</td>\n      <td>...</td>\n      <td>...</td>\n      <td>...</td>\n    </tr>\n    <tr>\n      <td>193</td>\n      <td>24.0</td>\n      <td>6</td>\n      <td>200</td>\n      <td>81</td>\n      <td>3012</td>\n      <td>17.6</td>\n      <td>76</td>\n      <td>1</td>\n      <td>ford maverick</td>\n    </tr>\n    <tr>\n      <td>194</td>\n      <td>22.5</td>\n      <td>6</td>\n      <td>232</td>\n      <td>90</td>\n      <td>3085</td>\n      <td>17.6</td>\n      <td>76</td>\n      <td>1</td>\n      <td>amc hornet</td>\n    </tr>\n    <tr>\n      <td>195</td>\n      <td>29.0</td>\n      <td>4</td>\n      <td>85</td>\n      <td>52</td>\n      <td>2035</td>\n      <td>22.2</td>\n      <td>76</td>\n      <td>1</td>\n      <td>chevrolet chevette</td>\n    </tr>\n    <tr>\n      <td>196</td>\n      <td>24.5</td>\n      <td>4</td>\n      <td>98</td>\n      <td>60</td>\n      <td>2164</td>\n      <td>22.1</td>\n      <td>76</td>\n      <td>1</td>\n      <td>chevrolet woody</td>\n    </tr>\n    <tr>\n      <td>197</td>\n      <td>29.0</td>\n      <td>4</td>\n      <td>90</td>\n      <td>70</td>\n      <td>1937</td>\n      <td>14.2</td>\n      <td>76</td>\n      <td>2</td>\n      <td>vw rabbit</td>\n    </tr>\n  </tbody>\n</table>\n<p>198 rows × 9 columns</p>\n</div>",
      "text/plain": "      mpg  cylinders  displacement horsepower  weight  acceleration  model  \\\n0    18.0          8           307        130    3504          12.0     70   \n1    15.0          8           350        165    3693          11.5     70   \n2    18.0          8           318        150    3436          11.0     70   \n3    16.0          8           304        150    3433          12.0     70   \n4    17.0          8           302        140    3449          10.5     70   \n..    ...        ...           ...        ...     ...           ...    ...   \n193  24.0          6           200         81    3012          17.6     76   \n194  22.5          6           232         90    3085          17.6     76   \n195  29.0          4            85         52    2035          22.2     76   \n196  24.5          4            98         60    2164          22.1     76   \n197  29.0          4            90         70    1937          14.2     76   \n\n     origin                        car  \n0         1  chevrolet chevelle malibu  \n1         1          buick skylark 320  \n2         1         plymouth satellite  \n3         1              amc rebel sst  \n4         1                ford torino  \n..      ...                        ...  \n193       1              ford maverick  \n194       1                 amc hornet  \n195       1         chevrolet chevette  \n196       1            chevrolet woody  \n197       2                  vw rabbit  \n\n[198 rows x 9 columns]"
     },
     "execution_count": 8,
     "metadata": {},
     "output_type": "execute_result"
    }
   ],
   "source": [
    "deleted_columns = cars_copy.drop(columns=['Unnamed: 9','Unnamed: 10','Unnamed: 11','Unnamed: 12','Unnamed: 13'], axis=1)\n",
    "deleted_columns"
   ]
  },
  {
   "cell_type": "code",
   "execution_count": null,
   "metadata": {},
   "outputs": [],
   "source": [
    "cars_copy"
   ]
  },
  {
   "cell_type": "code",
   "execution_count": 10,
   "metadata": {},
   "outputs": [
    {
     "output_type": "execute_result",
     "data": {
      "text/plain": "      mpg  cylinders  displacement horsepower  weight  acceleration  model  \\\n0    18.0          8           307        130    3504          12.0     70   \n1    15.0          8           350        165    3693          11.5     70   \n2    18.0          8           318        150    3436          11.0     70   \n3    16.0          8           304        150    3433          12.0     70   \n4    17.0          8           302        140    3449          10.5     70   \n..    ...        ...           ...        ...     ...           ...    ...   \n193  24.0          6           200         81    3012          17.6     76   \n194  22.5          6           232         90    3085          17.6     76   \n195  29.0          4            85         52    2035          22.2     76   \n196  24.5          4            98         60    2164          22.1     76   \n197  29.0          4            90         70    1937          14.2     76   \n\n     origin                        car  \n0         1  chevrolet chevelle malibu  \n1         1          buick skylark 320  \n2         1         plymouth satellite  \n3         1              amc rebel sst  \n4         1                ford torino  \n..      ...                        ...  \n193       1              ford maverick  \n194       1                 amc hornet  \n195       1         chevrolet chevette  \n196       1            chevrolet woody  \n197       2                  vw rabbit  \n\n[198 rows x 9 columns]",
      "text/html": "<div>\n<style scoped>\n    .dataframe tbody tr th:only-of-type {\n        vertical-align: middle;\n    }\n\n    .dataframe tbody tr th {\n        vertical-align: top;\n    }\n\n    .dataframe thead th {\n        text-align: right;\n    }\n</style>\n<table border=\"1\" class=\"dataframe\">\n  <thead>\n    <tr style=\"text-align: right;\">\n      <th></th>\n      <th>mpg</th>\n      <th>cylinders</th>\n      <th>displacement</th>\n      <th>horsepower</th>\n      <th>weight</th>\n      <th>acceleration</th>\n      <th>model</th>\n      <th>origin</th>\n      <th>car</th>\n    </tr>\n  </thead>\n  <tbody>\n    <tr>\n      <th>0</th>\n      <td>18.0</td>\n      <td>8</td>\n      <td>307</td>\n      <td>130</td>\n      <td>3504</td>\n      <td>12.0</td>\n      <td>70</td>\n      <td>1</td>\n      <td>chevrolet chevelle malibu</td>\n    </tr>\n    <tr>\n      <th>1</th>\n      <td>15.0</td>\n      <td>8</td>\n      <td>350</td>\n      <td>165</td>\n      <td>3693</td>\n      <td>11.5</td>\n      <td>70</td>\n      <td>1</td>\n      <td>buick skylark 320</td>\n    </tr>\n    <tr>\n      <th>2</th>\n      <td>18.0</td>\n      <td>8</td>\n      <td>318</td>\n      <td>150</td>\n      <td>3436</td>\n      <td>11.0</td>\n      <td>70</td>\n      <td>1</td>\n      <td>plymouth satellite</td>\n    </tr>\n    <tr>\n      <th>3</th>\n      <td>16.0</td>\n      <td>8</td>\n      <td>304</td>\n      <td>150</td>\n      <td>3433</td>\n      <td>12.0</td>\n      <td>70</td>\n      <td>1</td>\n      <td>amc rebel sst</td>\n    </tr>\n    <tr>\n      <th>4</th>\n      <td>17.0</td>\n      <td>8</td>\n      <td>302</td>\n      <td>140</td>\n      <td>3449</td>\n      <td>10.5</td>\n      <td>70</td>\n      <td>1</td>\n      <td>ford torino</td>\n    </tr>\n    <tr>\n      <th>...</th>\n      <td>...</td>\n      <td>...</td>\n      <td>...</td>\n      <td>...</td>\n      <td>...</td>\n      <td>...</td>\n      <td>...</td>\n      <td>...</td>\n      <td>...</td>\n    </tr>\n    <tr>\n      <th>193</th>\n      <td>24.0</td>\n      <td>6</td>\n      <td>200</td>\n      <td>81</td>\n      <td>3012</td>\n      <td>17.6</td>\n      <td>76</td>\n      <td>1</td>\n      <td>ford maverick</td>\n    </tr>\n    <tr>\n      <th>194</th>\n      <td>22.5</td>\n      <td>6</td>\n      <td>232</td>\n      <td>90</td>\n      <td>3085</td>\n      <td>17.6</td>\n      <td>76</td>\n      <td>1</td>\n      <td>amc hornet</td>\n    </tr>\n    <tr>\n      <th>195</th>\n      <td>29.0</td>\n      <td>4</td>\n      <td>85</td>\n      <td>52</td>\n      <td>2035</td>\n      <td>22.2</td>\n      <td>76</td>\n      <td>1</td>\n      <td>chevrolet chevette</td>\n    </tr>\n    <tr>\n      <th>196</th>\n      <td>24.5</td>\n      <td>4</td>\n      <td>98</td>\n      <td>60</td>\n      <td>2164</td>\n      <td>22.1</td>\n      <td>76</td>\n      <td>1</td>\n      <td>chevrolet woody</td>\n    </tr>\n    <tr>\n      <th>197</th>\n      <td>29.0</td>\n      <td>4</td>\n      <td>90</td>\n      <td>70</td>\n      <td>1937</td>\n      <td>14.2</td>\n      <td>76</td>\n      <td>2</td>\n      <td>vw rabbit</td>\n    </tr>\n  </tbody>\n</table>\n<p>198 rows × 9 columns</p>\n</div>"
     },
     "metadata": {},
     "execution_count": 10
    }
   ],
   "source": [
    "cars1.drop(cars1.columns[cars1.columns.str.contains('Unnamed', case=False)], axis=1, inplace=True)\n",
    "cars1"
   ]
  },
  {
   "cell_type": "code",
   "execution_count": 11,
   "metadata": {
    "collapsed": false
   },
   "outputs": [
    {
     "output_type": "execute_result",
     "data": {
      "text/plain": "    mpg  cylinders  displacement horsepower  weight  acceleration  model  \\\n0  18.0          8           307        130    3504          12.0     70   \n1  15.0          8           350        165    3693          11.5     70   \n2  18.0          8           318        150    3436          11.0     70   \n3  16.0          8           304        150    3433          12.0     70   \n4  17.0          8           302        140    3449          10.5     70   \n\n   origin                        car  \n0       1  chevrolet chevelle malibu  \n1       1          buick skylark 320  \n2       1         plymouth satellite  \n3       1              amc rebel sst  \n4       1                ford torino  ",
      "text/html": "<div>\n<style scoped>\n    .dataframe tbody tr th:only-of-type {\n        vertical-align: middle;\n    }\n\n    .dataframe tbody tr th {\n        vertical-align: top;\n    }\n\n    .dataframe thead th {\n        text-align: right;\n    }\n</style>\n<table border=\"1\" class=\"dataframe\">\n  <thead>\n    <tr style=\"text-align: right;\">\n      <th></th>\n      <th>mpg</th>\n      <th>cylinders</th>\n      <th>displacement</th>\n      <th>horsepower</th>\n      <th>weight</th>\n      <th>acceleration</th>\n      <th>model</th>\n      <th>origin</th>\n      <th>car</th>\n    </tr>\n  </thead>\n  <tbody>\n    <tr>\n      <th>0</th>\n      <td>18.0</td>\n      <td>8</td>\n      <td>307</td>\n      <td>130</td>\n      <td>3504</td>\n      <td>12.0</td>\n      <td>70</td>\n      <td>1</td>\n      <td>chevrolet chevelle malibu</td>\n    </tr>\n    <tr>\n      <th>1</th>\n      <td>15.0</td>\n      <td>8</td>\n      <td>350</td>\n      <td>165</td>\n      <td>3693</td>\n      <td>11.5</td>\n      <td>70</td>\n      <td>1</td>\n      <td>buick skylark 320</td>\n    </tr>\n    <tr>\n      <th>2</th>\n      <td>18.0</td>\n      <td>8</td>\n      <td>318</td>\n      <td>150</td>\n      <td>3436</td>\n      <td>11.0</td>\n      <td>70</td>\n      <td>1</td>\n      <td>plymouth satellite</td>\n    </tr>\n    <tr>\n      <th>3</th>\n      <td>16.0</td>\n      <td>8</td>\n      <td>304</td>\n      <td>150</td>\n      <td>3433</td>\n      <td>12.0</td>\n      <td>70</td>\n      <td>1</td>\n      <td>amc rebel sst</td>\n    </tr>\n    <tr>\n      <th>4</th>\n      <td>17.0</td>\n      <td>8</td>\n      <td>302</td>\n      <td>140</td>\n      <td>3449</td>\n      <td>10.5</td>\n      <td>70</td>\n      <td>1</td>\n      <td>ford torino</td>\n    </tr>\n  </tbody>\n</table>\n</div>"
     },
     "metadata": {},
     "execution_count": 11
    }
   ],
   "source": [
    "cars1 = cars1.loc[:, \"mpg\":\"car\"]\n",
    "cars1.head()"
   ]
  },
  {
   "cell_type": "code",
   "execution_count": 14,
   "metadata": {},
   "outputs": [
    {
     "output_type": "execute_result",
     "data": {
      "text/plain": "      mpg  cylinders  displacement horsepower  weight  acceleration  model  \\\n0    18.0          8           307        130    3504          12.0     70   \n1    15.0          8           350        165    3693          11.5     70   \n2    18.0          8           318        150    3436          11.0     70   \n3    16.0          8           304        150    3433          12.0     70   \n4    17.0          8           302        140    3449          10.5     70   \n..    ...        ...           ...        ...     ...           ...    ...   \n193  24.0          6           200         81    3012          17.6     76   \n194  22.5          6           232         90    3085          17.6     76   \n195  29.0          4            85         52    2035          22.2     76   \n196  24.5          4            98         60    2164          22.1     76   \n197  29.0          4            90         70    1937          14.2     76   \n\n     origin                        car  \n0         1  chevrolet chevelle malibu  \n1         1          buick skylark 320  \n2         1         plymouth satellite  \n3         1              amc rebel sst  \n4         1                ford torino  \n..      ...                        ...  \n193       1              ford maverick  \n194       1                 amc hornet  \n195       1         chevrolet chevette  \n196       1            chevrolet woody  \n197       2                  vw rabbit  \n\n[198 rows x 9 columns]",
      "text/html": "<div>\n<style scoped>\n    .dataframe tbody tr th:only-of-type {\n        vertical-align: middle;\n    }\n\n    .dataframe tbody tr th {\n        vertical-align: top;\n    }\n\n    .dataframe thead th {\n        text-align: right;\n    }\n</style>\n<table border=\"1\" class=\"dataframe\">\n  <thead>\n    <tr style=\"text-align: right;\">\n      <th></th>\n      <th>mpg</th>\n      <th>cylinders</th>\n      <th>displacement</th>\n      <th>horsepower</th>\n      <th>weight</th>\n      <th>acceleration</th>\n      <th>model</th>\n      <th>origin</th>\n      <th>car</th>\n    </tr>\n  </thead>\n  <tbody>\n    <tr>\n      <th>0</th>\n      <td>18.0</td>\n      <td>8</td>\n      <td>307</td>\n      <td>130</td>\n      <td>3504</td>\n      <td>12.0</td>\n      <td>70</td>\n      <td>1</td>\n      <td>chevrolet chevelle malibu</td>\n    </tr>\n    <tr>\n      <th>1</th>\n      <td>15.0</td>\n      <td>8</td>\n      <td>350</td>\n      <td>165</td>\n      <td>3693</td>\n      <td>11.5</td>\n      <td>70</td>\n      <td>1</td>\n      <td>buick skylark 320</td>\n    </tr>\n    <tr>\n      <th>2</th>\n      <td>18.0</td>\n      <td>8</td>\n      <td>318</td>\n      <td>150</td>\n      <td>3436</td>\n      <td>11.0</td>\n      <td>70</td>\n      <td>1</td>\n      <td>plymouth satellite</td>\n    </tr>\n    <tr>\n      <th>3</th>\n      <td>16.0</td>\n      <td>8</td>\n      <td>304</td>\n      <td>150</td>\n      <td>3433</td>\n      <td>12.0</td>\n      <td>70</td>\n      <td>1</td>\n      <td>amc rebel sst</td>\n    </tr>\n    <tr>\n      <th>4</th>\n      <td>17.0</td>\n      <td>8</td>\n      <td>302</td>\n      <td>140</td>\n      <td>3449</td>\n      <td>10.5</td>\n      <td>70</td>\n      <td>1</td>\n      <td>ford torino</td>\n    </tr>\n    <tr>\n      <th>...</th>\n      <td>...</td>\n      <td>...</td>\n      <td>...</td>\n      <td>...</td>\n      <td>...</td>\n      <td>...</td>\n      <td>...</td>\n      <td>...</td>\n      <td>...</td>\n    </tr>\n    <tr>\n      <th>193</th>\n      <td>24.0</td>\n      <td>6</td>\n      <td>200</td>\n      <td>81</td>\n      <td>3012</td>\n      <td>17.6</td>\n      <td>76</td>\n      <td>1</td>\n      <td>ford maverick</td>\n    </tr>\n    <tr>\n      <th>194</th>\n      <td>22.5</td>\n      <td>6</td>\n      <td>232</td>\n      <td>90</td>\n      <td>3085</td>\n      <td>17.6</td>\n      <td>76</td>\n      <td>1</td>\n      <td>amc hornet</td>\n    </tr>\n    <tr>\n      <th>195</th>\n      <td>29.0</td>\n      <td>4</td>\n      <td>85</td>\n      <td>52</td>\n      <td>2035</td>\n      <td>22.2</td>\n      <td>76</td>\n      <td>1</td>\n      <td>chevrolet chevette</td>\n    </tr>\n    <tr>\n      <th>196</th>\n      <td>24.5</td>\n      <td>4</td>\n      <td>98</td>\n      <td>60</td>\n      <td>2164</td>\n      <td>22.1</td>\n      <td>76</td>\n      <td>1</td>\n      <td>chevrolet woody</td>\n    </tr>\n    <tr>\n      <th>197</th>\n      <td>29.0</td>\n      <td>4</td>\n      <td>90</td>\n      <td>70</td>\n      <td>1937</td>\n      <td>14.2</td>\n      <td>76</td>\n      <td>2</td>\n      <td>vw rabbit</td>\n    </tr>\n  </tbody>\n</table>\n<p>198 rows × 9 columns</p>\n</div>"
     },
     "metadata": {},
     "execution_count": 14
    }
   ],
   "source": [
    "cars_copy = cars_copy.dropna(axis=\"columns\", how=\"all\")\n",
    "cars_copy"
   ]
  },
  {
   "cell_type": "markdown",
   "metadata": {},
   "source": [
    "### Step 5. What is the number of observations in each dataset?"
   ]
  },
  {
   "cell_type": "code",
   "execution_count": 14,
   "metadata": {
    "collapsed": false
   },
   "outputs": [
    {
     "name": "stdout",
     "output_type": "stream",
     "text": [
      "(198, 9)\n",
      "(200, 9)\n"
     ]
    }
   ],
   "source": [
    "print(cars1.shape)\n",
    "print(cars2.shape)"
   ]
  },
  {
   "cell_type": "markdown",
   "metadata": {},
   "source": [
    "### Step 6. Join cars1 and cars2 into a single DataFrame called cars"
   ]
  },
  {
   "cell_type": "code",
   "execution_count": 19,
   "metadata": {},
   "outputs": [
    {
     "data": {
      "text/html": "<div>\n<style scoped>\n    .dataframe tbody tr th:only-of-type {\n        vertical-align: middle;\n    }\n\n    .dataframe tbody tr th {\n        vertical-align: top;\n    }\n\n    .dataframe thead th {\n        text-align: right;\n    }\n</style>\n<table border=\"1\" class=\"dataframe\">\n  <thead>\n    <tr style=\"text-align: right;\">\n      <th></th>\n      <th>mpg</th>\n      <th>cylinders</th>\n      <th>displacement</th>\n      <th>horsepower</th>\n      <th>weight</th>\n      <th>acceleration</th>\n      <th>model</th>\n      <th>origin</th>\n      <th>car</th>\n    </tr>\n  </thead>\n  <tbody>\n    <tr>\n      <td>0</td>\n      <td>18.0</td>\n      <td>8</td>\n      <td>307</td>\n      <td>130</td>\n      <td>3504</td>\n      <td>12.0</td>\n      <td>70</td>\n      <td>1</td>\n      <td>chevrolet chevelle malibu</td>\n    </tr>\n    <tr>\n      <td>1</td>\n      <td>15.0</td>\n      <td>8</td>\n      <td>350</td>\n      <td>165</td>\n      <td>3693</td>\n      <td>11.5</td>\n      <td>70</td>\n      <td>1</td>\n      <td>buick skylark 320</td>\n    </tr>\n    <tr>\n      <td>2</td>\n      <td>18.0</td>\n      <td>8</td>\n      <td>318</td>\n      <td>150</td>\n      <td>3436</td>\n      <td>11.0</td>\n      <td>70</td>\n      <td>1</td>\n      <td>plymouth satellite</td>\n    </tr>\n    <tr>\n      <td>3</td>\n      <td>16.0</td>\n      <td>8</td>\n      <td>304</td>\n      <td>150</td>\n      <td>3433</td>\n      <td>12.0</td>\n      <td>70</td>\n      <td>1</td>\n      <td>amc rebel sst</td>\n    </tr>\n    <tr>\n      <td>4</td>\n      <td>17.0</td>\n      <td>8</td>\n      <td>302</td>\n      <td>140</td>\n      <td>3449</td>\n      <td>10.5</td>\n      <td>70</td>\n      <td>1</td>\n      <td>ford torino</td>\n    </tr>\n    <tr>\n      <td>...</td>\n      <td>...</td>\n      <td>...</td>\n      <td>...</td>\n      <td>...</td>\n      <td>...</td>\n      <td>...</td>\n      <td>...</td>\n      <td>...</td>\n      <td>...</td>\n    </tr>\n    <tr>\n      <td>195</td>\n      <td>27.0</td>\n      <td>4</td>\n      <td>140</td>\n      <td>86</td>\n      <td>2790</td>\n      <td>15.6</td>\n      <td>82</td>\n      <td>1</td>\n      <td>ford mustang gl</td>\n    </tr>\n    <tr>\n      <td>196</td>\n      <td>44.0</td>\n      <td>4</td>\n      <td>97</td>\n      <td>52</td>\n      <td>2130</td>\n      <td>24.6</td>\n      <td>82</td>\n      <td>2</td>\n      <td>vw pickup</td>\n    </tr>\n    <tr>\n      <td>197</td>\n      <td>32.0</td>\n      <td>4</td>\n      <td>135</td>\n      <td>84</td>\n      <td>2295</td>\n      <td>11.6</td>\n      <td>82</td>\n      <td>1</td>\n      <td>dodge rampage</td>\n    </tr>\n    <tr>\n      <td>198</td>\n      <td>28.0</td>\n      <td>4</td>\n      <td>120</td>\n      <td>79</td>\n      <td>2625</td>\n      <td>18.6</td>\n      <td>82</td>\n      <td>1</td>\n      <td>ford ranger</td>\n    </tr>\n    <tr>\n      <td>199</td>\n      <td>31.0</td>\n      <td>4</td>\n      <td>119</td>\n      <td>82</td>\n      <td>2720</td>\n      <td>19.4</td>\n      <td>82</td>\n      <td>1</td>\n      <td>chevy s-10</td>\n    </tr>\n  </tbody>\n</table>\n<p>398 rows × 9 columns</p>\n</div>",
      "text/plain": "      mpg  cylinders  displacement horsepower  weight  acceleration  model  \\\n0    18.0          8           307        130    3504          12.0     70   \n1    15.0          8           350        165    3693          11.5     70   \n2    18.0          8           318        150    3436          11.0     70   \n3    16.0          8           304        150    3433          12.0     70   \n4    17.0          8           302        140    3449          10.5     70   \n..    ...        ...           ...        ...     ...           ...    ...   \n195  27.0          4           140         86    2790          15.6     82   \n196  44.0          4            97         52    2130          24.6     82   \n197  32.0          4           135         84    2295          11.6     82   \n198  28.0          4           120         79    2625          18.6     82   \n199  31.0          4           119         82    2720          19.4     82   \n\n     origin                        car  \n0         1  chevrolet chevelle malibu  \n1         1          buick skylark 320  \n2         1         plymouth satellite  \n3         1              amc rebel sst  \n4         1                ford torino  \n..      ...                        ...  \n195       1            ford mustang gl  \n196       2                  vw pickup  \n197       1              dodge rampage  \n198       1                ford ranger  \n199       1                 chevy s-10  \n\n[398 rows x 9 columns]"
     },
     "execution_count": 19,
     "metadata": {},
     "output_type": "execute_result"
    }
   ],
   "source": [
    "concated = pd.concat([cars1, cars2], axis=0)\n",
    "concated "
   ]
  },
  {
   "cell_type": "code",
   "execution_count": 18,
   "metadata": {},
   "outputs": [
    {
     "output_type": "execute_result",
     "data": {
      "text/plain": "      mpg  cylinders  displacement horsepower  weight  acceleration  model  \\\n0    18.0          8           307        130    3504          12.0     70   \n1    15.0          8           350        165    3693          11.5     70   \n2    18.0          8           318        150    3436          11.0     70   \n3    16.0          8           304        150    3433          12.0     70   \n4    17.0          8           302        140    3449          10.5     70   \n..    ...        ...           ...        ...     ...           ...    ...   \n393  27.0          4           140         86    2790          15.6     82   \n394  44.0          4            97         52    2130          24.6     82   \n395  32.0          4           135         84    2295          11.6     82   \n396  28.0          4           120         79    2625          18.6     82   \n397  31.0          4           119         82    2720          19.4     82   \n\n     origin                        car  \n0         1  chevrolet chevelle malibu  \n1         1          buick skylark 320  \n2         1         plymouth satellite  \n3         1              amc rebel sst  \n4         1                ford torino  \n..      ...                        ...  \n393       1            ford mustang gl  \n394       2                  vw pickup  \n395       1              dodge rampage  \n396       1                ford ranger  \n397       1                 chevy s-10  \n\n[398 rows x 9 columns]",
      "text/html": "<div>\n<style scoped>\n    .dataframe tbody tr th:only-of-type {\n        vertical-align: middle;\n    }\n\n    .dataframe tbody tr th {\n        vertical-align: top;\n    }\n\n    .dataframe thead th {\n        text-align: right;\n    }\n</style>\n<table border=\"1\" class=\"dataframe\">\n  <thead>\n    <tr style=\"text-align: right;\">\n      <th></th>\n      <th>mpg</th>\n      <th>cylinders</th>\n      <th>displacement</th>\n      <th>horsepower</th>\n      <th>weight</th>\n      <th>acceleration</th>\n      <th>model</th>\n      <th>origin</th>\n      <th>car</th>\n    </tr>\n  </thead>\n  <tbody>\n    <tr>\n      <th>0</th>\n      <td>18.0</td>\n      <td>8</td>\n      <td>307</td>\n      <td>130</td>\n      <td>3504</td>\n      <td>12.0</td>\n      <td>70</td>\n      <td>1</td>\n      <td>chevrolet chevelle malibu</td>\n    </tr>\n    <tr>\n      <th>1</th>\n      <td>15.0</td>\n      <td>8</td>\n      <td>350</td>\n      <td>165</td>\n      <td>3693</td>\n      <td>11.5</td>\n      <td>70</td>\n      <td>1</td>\n      <td>buick skylark 320</td>\n    </tr>\n    <tr>\n      <th>2</th>\n      <td>18.0</td>\n      <td>8</td>\n      <td>318</td>\n      <td>150</td>\n      <td>3436</td>\n      <td>11.0</td>\n      <td>70</td>\n      <td>1</td>\n      <td>plymouth satellite</td>\n    </tr>\n    <tr>\n      <th>3</th>\n      <td>16.0</td>\n      <td>8</td>\n      <td>304</td>\n      <td>150</td>\n      <td>3433</td>\n      <td>12.0</td>\n      <td>70</td>\n      <td>1</td>\n      <td>amc rebel sst</td>\n    </tr>\n    <tr>\n      <th>4</th>\n      <td>17.0</td>\n      <td>8</td>\n      <td>302</td>\n      <td>140</td>\n      <td>3449</td>\n      <td>10.5</td>\n      <td>70</td>\n      <td>1</td>\n      <td>ford torino</td>\n    </tr>\n    <tr>\n      <th>...</th>\n      <td>...</td>\n      <td>...</td>\n      <td>...</td>\n      <td>...</td>\n      <td>...</td>\n      <td>...</td>\n      <td>...</td>\n      <td>...</td>\n      <td>...</td>\n    </tr>\n    <tr>\n      <th>393</th>\n      <td>27.0</td>\n      <td>4</td>\n      <td>140</td>\n      <td>86</td>\n      <td>2790</td>\n      <td>15.6</td>\n      <td>82</td>\n      <td>1</td>\n      <td>ford mustang gl</td>\n    </tr>\n    <tr>\n      <th>394</th>\n      <td>44.0</td>\n      <td>4</td>\n      <td>97</td>\n      <td>52</td>\n      <td>2130</td>\n      <td>24.6</td>\n      <td>82</td>\n      <td>2</td>\n      <td>vw pickup</td>\n    </tr>\n    <tr>\n      <th>395</th>\n      <td>32.0</td>\n      <td>4</td>\n      <td>135</td>\n      <td>84</td>\n      <td>2295</td>\n      <td>11.6</td>\n      <td>82</td>\n      <td>1</td>\n      <td>dodge rampage</td>\n    </tr>\n    <tr>\n      <th>396</th>\n      <td>28.0</td>\n      <td>4</td>\n      <td>120</td>\n      <td>79</td>\n      <td>2625</td>\n      <td>18.6</td>\n      <td>82</td>\n      <td>1</td>\n      <td>ford ranger</td>\n    </tr>\n    <tr>\n      <th>397</th>\n      <td>31.0</td>\n      <td>4</td>\n      <td>119</td>\n      <td>82</td>\n      <td>2720</td>\n      <td>19.4</td>\n      <td>82</td>\n      <td>1</td>\n      <td>chevy s-10</td>\n    </tr>\n  </tbody>\n</table>\n<p>398 rows × 9 columns</p>\n</div>"
     },
     "metadata": {},
     "execution_count": 18
    }
   ],
   "source": [
    "merged = pd.merge(cars1, cars2, how=\"outer\")\n",
    "merged"
   ]
  },
  {
   "cell_type": "code",
   "execution_count": 21,
   "metadata": {},
   "outputs": [
    {
     "output_type": "execute_result",
     "data": {
      "text/plain": "      mpg  cylinders  displacement horsepower  weight  acceleration  model  \\\n0    18.0          8           307        130    3504          12.0     70   \n1    15.0          8           350        165    3693          11.5     70   \n2    18.0          8           318        150    3436          11.0     70   \n3    16.0          8           304        150    3433          12.0     70   \n4    17.0          8           302        140    3449          10.5     70   \n..    ...        ...           ...        ...     ...           ...    ...   \n195  27.0          4           140         86    2790          15.6     82   \n196  44.0          4            97         52    2130          24.6     82   \n197  32.0          4           135         84    2295          11.6     82   \n198  28.0          4           120         79    2625          18.6     82   \n199  31.0          4           119         82    2720          19.4     82   \n\n     origin                        car  \n0         1  chevrolet chevelle malibu  \n1         1          buick skylark 320  \n2         1         plymouth satellite  \n3         1              amc rebel sst  \n4         1                ford torino  \n..      ...                        ...  \n195       1            ford mustang gl  \n196       2                  vw pickup  \n197       1              dodge rampage  \n198       1                ford ranger  \n199       1                 chevy s-10  \n\n[398 rows x 9 columns]",
      "text/html": "<div>\n<style scoped>\n    .dataframe tbody tr th:only-of-type {\n        vertical-align: middle;\n    }\n\n    .dataframe tbody tr th {\n        vertical-align: top;\n    }\n\n    .dataframe thead th {\n        text-align: right;\n    }\n</style>\n<table border=\"1\" class=\"dataframe\">\n  <thead>\n    <tr style=\"text-align: right;\">\n      <th></th>\n      <th>mpg</th>\n      <th>cylinders</th>\n      <th>displacement</th>\n      <th>horsepower</th>\n      <th>weight</th>\n      <th>acceleration</th>\n      <th>model</th>\n      <th>origin</th>\n      <th>car</th>\n    </tr>\n  </thead>\n  <tbody>\n    <tr>\n      <th>0</th>\n      <td>18.0</td>\n      <td>8</td>\n      <td>307</td>\n      <td>130</td>\n      <td>3504</td>\n      <td>12.0</td>\n      <td>70</td>\n      <td>1</td>\n      <td>chevrolet chevelle malibu</td>\n    </tr>\n    <tr>\n      <th>1</th>\n      <td>15.0</td>\n      <td>8</td>\n      <td>350</td>\n      <td>165</td>\n      <td>3693</td>\n      <td>11.5</td>\n      <td>70</td>\n      <td>1</td>\n      <td>buick skylark 320</td>\n    </tr>\n    <tr>\n      <th>2</th>\n      <td>18.0</td>\n      <td>8</td>\n      <td>318</td>\n      <td>150</td>\n      <td>3436</td>\n      <td>11.0</td>\n      <td>70</td>\n      <td>1</td>\n      <td>plymouth satellite</td>\n    </tr>\n    <tr>\n      <th>3</th>\n      <td>16.0</td>\n      <td>8</td>\n      <td>304</td>\n      <td>150</td>\n      <td>3433</td>\n      <td>12.0</td>\n      <td>70</td>\n      <td>1</td>\n      <td>amc rebel sst</td>\n    </tr>\n    <tr>\n      <th>4</th>\n      <td>17.0</td>\n      <td>8</td>\n      <td>302</td>\n      <td>140</td>\n      <td>3449</td>\n      <td>10.5</td>\n      <td>70</td>\n      <td>1</td>\n      <td>ford torino</td>\n    </tr>\n    <tr>\n      <th>...</th>\n      <td>...</td>\n      <td>...</td>\n      <td>...</td>\n      <td>...</td>\n      <td>...</td>\n      <td>...</td>\n      <td>...</td>\n      <td>...</td>\n      <td>...</td>\n    </tr>\n    <tr>\n      <th>195</th>\n      <td>27.0</td>\n      <td>4</td>\n      <td>140</td>\n      <td>86</td>\n      <td>2790</td>\n      <td>15.6</td>\n      <td>82</td>\n      <td>1</td>\n      <td>ford mustang gl</td>\n    </tr>\n    <tr>\n      <th>196</th>\n      <td>44.0</td>\n      <td>4</td>\n      <td>97</td>\n      <td>52</td>\n      <td>2130</td>\n      <td>24.6</td>\n      <td>82</td>\n      <td>2</td>\n      <td>vw pickup</td>\n    </tr>\n    <tr>\n      <th>197</th>\n      <td>32.0</td>\n      <td>4</td>\n      <td>135</td>\n      <td>84</td>\n      <td>2295</td>\n      <td>11.6</td>\n      <td>82</td>\n      <td>1</td>\n      <td>dodge rampage</td>\n    </tr>\n    <tr>\n      <th>198</th>\n      <td>28.0</td>\n      <td>4</td>\n      <td>120</td>\n      <td>79</td>\n      <td>2625</td>\n      <td>18.6</td>\n      <td>82</td>\n      <td>1</td>\n      <td>ford ranger</td>\n    </tr>\n    <tr>\n      <th>199</th>\n      <td>31.0</td>\n      <td>4</td>\n      <td>119</td>\n      <td>82</td>\n      <td>2720</td>\n      <td>19.4</td>\n      <td>82</td>\n      <td>1</td>\n      <td>chevy s-10</td>\n    </tr>\n  </tbody>\n</table>\n<p>398 rows × 9 columns</p>\n</div>"
     },
     "metadata": {},
     "execution_count": 21
    }
   ],
   "source": [
    "cars = cars1.append(cars2)\n",
    "cars"
   ]
  },
  {
   "cell_type": "markdown",
   "metadata": {},
   "source": [
    "### Step 7. Oops, there is a column missing, called owners. Create a random number Series from 15,000 to 73,000."
   ]
  },
  {
   "cell_type": "code",
   "execution_count": 37,
   "metadata": {},
   "outputs": [
    {
     "data": {
      "text/plain": "(398,)"
     },
     "execution_count": 37,
     "metadata": {},
     "output_type": "execute_result"
    }
   ],
   "source": [
    "s = np.random.randint(15000, 73001, size=len(cars))\n",
    "s.shape"
   ]
  },
  {
   "cell_type": "code",
   "execution_count": 38,
   "metadata": {},
   "outputs": [
    {
     "data": {
      "text/plain": "(1, 398)"
     },
     "execution_count": 38,
     "metadata": {},
     "output_type": "execute_result"
    }
   ],
   "source": [
    "x = np.array([np.random.randint(15000, 73001, size=len(cars))])\n",
    "x.shape"
   ]
  },
  {
   "cell_type": "code",
   "execution_count": 19,
   "metadata": {},
   "outputs": [
    {
     "output_type": "error",
     "ename": "NameError",
     "evalue": "name 'cars' is not defined",
     "traceback": [
      "\u001b[1;31m---------------------------------------------------------------------------\u001b[0m",
      "\u001b[1;31mNameError\u001b[0m                                 Traceback (most recent call last)",
      "\u001b[1;32m<ipython-input-19-2a5300d1fe59>\u001b[0m in \u001b[0;36m<module>\u001b[1;34m\u001b[0m\n\u001b[1;32m----> 1\u001b[1;33m \u001b[0mcars\u001b[0m\u001b[1;33m[\u001b[0m\u001b[1;34m\"owners\"\u001b[0m\u001b[1;33m]\u001b[0m \u001b[1;33m=\u001b[0m \u001b[0mnp\u001b[0m\u001b[1;33m.\u001b[0m\u001b[0mrandom\u001b[0m\u001b[1;33m.\u001b[0m\u001b[0mrandint\u001b[0m\u001b[1;33m(\u001b[0m\u001b[1;36m15000\u001b[0m\u001b[1;33m,\u001b[0m \u001b[1;36m73001\u001b[0m\u001b[1;33m,\u001b[0m \u001b[0msize\u001b[0m\u001b[1;33m=\u001b[0m\u001b[0mlen\u001b[0m\u001b[1;33m(\u001b[0m\u001b[0mcars\u001b[0m\u001b[1;33m)\u001b[0m\u001b[1;33m)\u001b[0m\u001b[1;33m\u001b[0m\u001b[0m\n\u001b[0m\u001b[0;32m      2\u001b[0m \u001b[0mcars\u001b[0m\u001b[1;33m\u001b[0m\u001b[0m\n",
      "\u001b[1;31mNameError\u001b[0m: name 'cars' is not defined"
     ]
    }
   ],
   "source": [
    "cars[\"owners\"] = np.random.randint(15000, 73001, size=len(cars))\n",
    "cars"
   ]
  },
  {
   "cell_type": "code",
   "execution_count": 27,
   "metadata": {},
   "outputs": [
    {
     "data": {
      "text/html": "<div>\n<style scoped>\n    .dataframe tbody tr th:only-of-type {\n        vertical-align: middle;\n    }\n\n    .dataframe tbody tr th {\n        vertical-align: top;\n    }\n\n    .dataframe thead th {\n        text-align: right;\n    }\n</style>\n<table border=\"1\" class=\"dataframe\">\n  <thead>\n    <tr style=\"text-align: right;\">\n      <th></th>\n      <th>mpg</th>\n      <th>cylinders</th>\n      <th>displacement</th>\n      <th>horsepower</th>\n      <th>weight</th>\n      <th>acceleration</th>\n      <th>model</th>\n      <th>origin</th>\n      <th>car</th>\n      <th>owners</th>\n    </tr>\n  </thead>\n  <tbody>\n    <tr>\n      <td>0</td>\n      <td>18.0</td>\n      <td>8</td>\n      <td>307</td>\n      <td>130</td>\n      <td>3504</td>\n      <td>12.0</td>\n      <td>70</td>\n      <td>1</td>\n      <td>chevrolet chevelle malibu</td>\n      <td>65324</td>\n    </tr>\n    <tr>\n      <td>1</td>\n      <td>15.0</td>\n      <td>8</td>\n      <td>350</td>\n      <td>165</td>\n      <td>3693</td>\n      <td>11.5</td>\n      <td>70</td>\n      <td>1</td>\n      <td>buick skylark 320</td>\n      <td>70142</td>\n    </tr>\n    <tr>\n      <td>2</td>\n      <td>18.0</td>\n      <td>8</td>\n      <td>318</td>\n      <td>150</td>\n      <td>3436</td>\n      <td>11.0</td>\n      <td>70</td>\n      <td>1</td>\n      <td>plymouth satellite</td>\n      <td>65110</td>\n    </tr>\n    <tr>\n      <td>3</td>\n      <td>16.0</td>\n      <td>8</td>\n      <td>304</td>\n      <td>150</td>\n      <td>3433</td>\n      <td>12.0</td>\n      <td>70</td>\n      <td>1</td>\n      <td>amc rebel sst</td>\n      <td>68650</td>\n    </tr>\n    <tr>\n      <td>4</td>\n      <td>17.0</td>\n      <td>8</td>\n      <td>302</td>\n      <td>140</td>\n      <td>3449</td>\n      <td>10.5</td>\n      <td>70</td>\n      <td>1</td>\n      <td>ford torino</td>\n      <td>42647</td>\n    </tr>\n    <tr>\n      <td>...</td>\n      <td>...</td>\n      <td>...</td>\n      <td>...</td>\n      <td>...</td>\n      <td>...</td>\n      <td>...</td>\n      <td>...</td>\n      <td>...</td>\n      <td>...</td>\n      <td>...</td>\n    </tr>\n    <tr>\n      <td>195</td>\n      <td>27.0</td>\n      <td>4</td>\n      <td>140</td>\n      <td>86</td>\n      <td>2790</td>\n      <td>15.6</td>\n      <td>82</td>\n      <td>1</td>\n      <td>ford mustang gl</td>\n      <td>57517</td>\n    </tr>\n    <tr>\n      <td>196</td>\n      <td>44.0</td>\n      <td>4</td>\n      <td>97</td>\n      <td>52</td>\n      <td>2130</td>\n      <td>24.6</td>\n      <td>82</td>\n      <td>2</td>\n      <td>vw pickup</td>\n      <td>39242</td>\n    </tr>\n    <tr>\n      <td>197</td>\n      <td>32.0</td>\n      <td>4</td>\n      <td>135</td>\n      <td>84</td>\n      <td>2295</td>\n      <td>11.6</td>\n      <td>82</td>\n      <td>1</td>\n      <td>dodge rampage</td>\n      <td>17646</td>\n    </tr>\n    <tr>\n      <td>198</td>\n      <td>28.0</td>\n      <td>4</td>\n      <td>120</td>\n      <td>79</td>\n      <td>2625</td>\n      <td>18.6</td>\n      <td>82</td>\n      <td>1</td>\n      <td>ford ranger</td>\n      <td>62324</td>\n    </tr>\n    <tr>\n      <td>199</td>\n      <td>31.0</td>\n      <td>4</td>\n      <td>119</td>\n      <td>82</td>\n      <td>2720</td>\n      <td>19.4</td>\n      <td>82</td>\n      <td>1</td>\n      <td>chevy s-10</td>\n      <td>17383</td>\n    </tr>\n  </tbody>\n</table>\n<p>398 rows × 10 columns</p>\n</div>",
      "text/plain": "      mpg  cylinders  displacement horsepower  weight  acceleration  model  \\\n0    18.0          8           307        130    3504          12.0     70   \n1    15.0          8           350        165    3693          11.5     70   \n2    18.0          8           318        150    3436          11.0     70   \n3    16.0          8           304        150    3433          12.0     70   \n4    17.0          8           302        140    3449          10.5     70   \n..    ...        ...           ...        ...     ...           ...    ...   \n195  27.0          4           140         86    2790          15.6     82   \n196  44.0          4            97         52    2130          24.6     82   \n197  32.0          4           135         84    2295          11.6     82   \n198  28.0          4           120         79    2625          18.6     82   \n199  31.0          4           119         82    2720          19.4     82   \n\n     origin                        car  owners  \n0         1  chevrolet chevelle malibu   65324  \n1         1          buick skylark 320   70142  \n2         1         plymouth satellite   65110  \n3         1              amc rebel sst   68650  \n4         1                ford torino   42647  \n..      ...                        ...     ...  \n195       1            ford mustang gl   57517  \n196       2                  vw pickup   39242  \n197       1              dodge rampage   17646  \n198       1                ford ranger   62324  \n199       1                 chevy s-10   17383  \n\n[398 rows x 10 columns]"
     },
     "execution_count": 27,
     "metadata": {},
     "output_type": "execute_result"
    }
   ],
   "source": [
    "cars[\"owners\"] = pd.Series(np.random.randint(15000, 73000, size=len(cars)))\n",
    "cars"
   ]
  },
  {
   "cell_type": "code",
   "execution_count": 21,
   "metadata": {},
   "outputs": [
    {
     "data": {
      "text/plain": "0      52151\n1      70032\n2      29460\n3      63904\n4      15613\n       ...  \n193    53326\n194    70729\n195    42281\n196    59018\n197    29952\nLength: 198, dtype: int64"
     },
     "execution_count": 21,
     "metadata": {},
     "output_type": "execute_result"
    }
   ],
   "source": [
    "owners = pd.Series(np.random.randint(15000, 73000, size=len(cars1)))\n",
    "owners"
   ]
  },
  {
   "cell_type": "code",
   "execution_count": 33,
   "metadata": {
    "collapsed": false
   },
   "outputs": [
    {
     "data": {
      "text/plain": [
       "array([29487, 25680, 65268, 31827, 69215, 72602, 52693, 58440, 16183,\n",
       "       45014, 32318, 72942, 62163, 35951, 57625, 59355, 36533, 67048,\n",
       "       58159, 69743, 25146, 22755, 44966, 46792, 56553, 65013, 55908,\n",
       "       69563, 22030, 59561, 15593, 52998, 54795, 16169, 24809, 35580,\n",
       "       46590, 38792, 43099, 37166, 21390, 56496, 68606, 21110, 56334,\n",
       "       45477, 51961, 27625, 51176, 30796, 61809, 65450, 67375, 23342,\n",
       "       27499, 50585, 57302, 56191, 60281, 32865, 58605, 66374, 15315,\n",
       "       31791, 28670, 38796, 69214, 41055, 32353, 31574, 65799, 42998,\n",
       "       72785, 18415, 31977, 29812, 65439, 21161, 60871, 67151, 22179,\n",
       "       32821, 55392, 34586, 67937, 31646, 66397, 35258, 63815, 71291,\n",
       "       51130, 27684, 49648, 52691, 50681, 68185, 32635, 51553, 28970,\n",
       "       19112, 26035, 67666, 55471, 51477, 62055, 53003, 41265, 18565,\n",
       "       48851, 48673, 45832, 67891, 57638, 29240, 41236, 16950, 31449,\n",
       "       50528, 22397, 15876, 26414, 16736, 23896, 46104, 17583, 65951,\n",
       "       38538, 31443, 19299, 46095, 31239, 19290, 38051, 68575, 61755,\n",
       "       22560, 34460, 35395, 34608, 56906, 44895, 48429, 20900, 49770,\n",
       "       50513, 59402, 26893, 37233, 19036, 20523, 18765, 46333, 42831,\n",
       "       53698, 25218, 63106, 16928, 34901, 43674, 65453, 54428, 68502,\n",
       "       19043, 20325, 45039, 29466, 49672, 67972, 30547, 22522, 69354,\n",
       "       40489, 72887, 15724, 51442, 65182, 64555, 42138, 72988, 20861,\n",
       "       67898, 20768, 36415, 47480, 16820, 48739, 62610, 43473, 23002,\n",
       "       43488, 62581, 37724, 63019, 44912, 35595, 59188, 51814, 65283,\n",
       "       53479, 27660, 38237, 22957, 47870, 15533, 41944, 51830, 56676,\n",
       "       57481, 48529, 72220, 66675, 50099, 30585, 25436, 49195, 26050,\n",
       "       24899, 37213, 25870, 67447, 23808, 71275, 67572, 18545, 43553,\n",
       "       54858, 23077, 33705, 31282, 26298, 23742, 36110, 51491, 18019,\n",
       "       60655, 27453, 35563, 63627, 35315, 56717, 59281, 55634, 18415,\n",
       "       59570, 47320, 20110, 18425, 19352, 18032, 31816, 28573, 66030,\n",
       "       54723, 21592, 37160, 59518, 35629, 47619, 52359, 34566, 64932,\n",
       "       24072, 39445, 31203, 63975, 62041, 70175, 51029, 32058, 19428,\n",
       "       65553, 50799, 48190, 68061, 68201, 53389, 15901, 44585, 54723,\n",
       "       30446, 63716, 57488, 67134, 22033, 53694, 40002, 24854, 59747,\n",
       "       59827, 53378, 53196, 68686, 20784, 28181, 33044, 41694, 39857,\n",
       "       57296, 69021, 17359, 29794, 22515, 55877, 22806, 50027, 56787,\n",
       "       50844, 17420, 65259, 19141, 40204, 19530, 30116, 34973, 15641,\n",
       "       53492, 59574, 59082, 64400, 70163, 43058, 69696, 67996, 26158,\n",
       "       32936, 45461, 47390, 32368, 15400, 40895, 16572, 31776, 62121,\n",
       "       56704, 39335, 27716, 52565, 50831, 45049, 25173, 25018, 18606,\n",
       "       71177, 66288, 46754, 68175, 35829, 24959, 54792, 19059, 29092,\n",
       "       58736, 62938, 44733, 17884, 33905, 33965, 24641, 52257, 28178,\n",
       "       29515, 37703, 56036, 51556, 23590, 61888, 70224, 53730, 41328,\n",
       "       16501, 30360, 54106, 29101, 35631, 56173, 30424, 46887, 23657,\n",
       "       17723, 71709, 45270, 30380, 27779, 33774, 36379, 47127, 63625,\n",
       "       16750, 65740, 53802, 40995, 37487, 42791, 21825, 69344, 63210,\n",
       "       15982, 20259])"
      ]
     },
     "execution_count": 33,
     "metadata": {},
     "output_type": "execute_result"
    }
   ],
   "source": [
    "nr_owners = np.random.randint(15000, high=73001, size=398)\n",
    "nr_owners"
   ]
  },
  {
   "cell_type": "markdown",
   "metadata": {},
   "source": [
    "### Step 8. Add the column owners to cars"
   ]
  },
  {
   "cell_type": "code",
   "execution_count": 22,
   "metadata": {},
   "outputs": [
    {
     "output_type": "execute_result",
     "data": {
      "text/plain": "      mpg  cylinders  displacement horsepower  weight  acceleration  model  \\\n0    18.0          8           307        130    3504          12.0     70   \n1    15.0          8           350        165    3693          11.5     70   \n2    18.0          8           318        150    3436          11.0     70   \n3    16.0          8           304        150    3433          12.0     70   \n4    17.0          8           302        140    3449          10.5     70   \n..    ...        ...           ...        ...     ...           ...    ...   \n195  27.0          4           140         86    2790          15.6     82   \n196  44.0          4            97         52    2130          24.6     82   \n197  32.0          4           135         84    2295          11.6     82   \n198  28.0          4           120         79    2625          18.6     82   \n199  31.0          4           119         82    2720          19.4     82   \n\n     origin                        car  owners  \n0         1  chevrolet chevelle malibu   42587  \n1         1          buick skylark 320   41278  \n2         1         plymouth satellite   18018  \n3         1              amc rebel sst   38790  \n4         1                ford torino   70661  \n..      ...                        ...     ...  \n195       1            ford mustang gl   23163  \n196       2                  vw pickup   51567  \n197       1              dodge rampage   30488  \n198       1                ford ranger   20354  \n199       1                 chevy s-10   36659  \n\n[398 rows x 10 columns]",
      "text/html": "<div>\n<style scoped>\n    .dataframe tbody tr th:only-of-type {\n        vertical-align: middle;\n    }\n\n    .dataframe tbody tr th {\n        vertical-align: top;\n    }\n\n    .dataframe thead th {\n        text-align: right;\n    }\n</style>\n<table border=\"1\" class=\"dataframe\">\n  <thead>\n    <tr style=\"text-align: right;\">\n      <th></th>\n      <th>mpg</th>\n      <th>cylinders</th>\n      <th>displacement</th>\n      <th>horsepower</th>\n      <th>weight</th>\n      <th>acceleration</th>\n      <th>model</th>\n      <th>origin</th>\n      <th>car</th>\n      <th>owners</th>\n    </tr>\n  </thead>\n  <tbody>\n    <tr>\n      <th>0</th>\n      <td>18.0</td>\n      <td>8</td>\n      <td>307</td>\n      <td>130</td>\n      <td>3504</td>\n      <td>12.0</td>\n      <td>70</td>\n      <td>1</td>\n      <td>chevrolet chevelle malibu</td>\n      <td>42587</td>\n    </tr>\n    <tr>\n      <th>1</th>\n      <td>15.0</td>\n      <td>8</td>\n      <td>350</td>\n      <td>165</td>\n      <td>3693</td>\n      <td>11.5</td>\n      <td>70</td>\n      <td>1</td>\n      <td>buick skylark 320</td>\n      <td>41278</td>\n    </tr>\n    <tr>\n      <th>2</th>\n      <td>18.0</td>\n      <td>8</td>\n      <td>318</td>\n      <td>150</td>\n      <td>3436</td>\n      <td>11.0</td>\n      <td>70</td>\n      <td>1</td>\n      <td>plymouth satellite</td>\n      <td>18018</td>\n    </tr>\n    <tr>\n      <th>3</th>\n      <td>16.0</td>\n      <td>8</td>\n      <td>304</td>\n      <td>150</td>\n      <td>3433</td>\n      <td>12.0</td>\n      <td>70</td>\n      <td>1</td>\n      <td>amc rebel sst</td>\n      <td>38790</td>\n    </tr>\n    <tr>\n      <th>4</th>\n      <td>17.0</td>\n      <td>8</td>\n      <td>302</td>\n      <td>140</td>\n      <td>3449</td>\n      <td>10.5</td>\n      <td>70</td>\n      <td>1</td>\n      <td>ford torino</td>\n      <td>70661</td>\n    </tr>\n    <tr>\n      <th>...</th>\n      <td>...</td>\n      <td>...</td>\n      <td>...</td>\n      <td>...</td>\n      <td>...</td>\n      <td>...</td>\n      <td>...</td>\n      <td>...</td>\n      <td>...</td>\n      <td>...</td>\n    </tr>\n    <tr>\n      <th>195</th>\n      <td>27.0</td>\n      <td>4</td>\n      <td>140</td>\n      <td>86</td>\n      <td>2790</td>\n      <td>15.6</td>\n      <td>82</td>\n      <td>1</td>\n      <td>ford mustang gl</td>\n      <td>23163</td>\n    </tr>\n    <tr>\n      <th>196</th>\n      <td>44.0</td>\n      <td>4</td>\n      <td>97</td>\n      <td>52</td>\n      <td>2130</td>\n      <td>24.6</td>\n      <td>82</td>\n      <td>2</td>\n      <td>vw pickup</td>\n      <td>51567</td>\n    </tr>\n    <tr>\n      <th>197</th>\n      <td>32.0</td>\n      <td>4</td>\n      <td>135</td>\n      <td>84</td>\n      <td>2295</td>\n      <td>11.6</td>\n      <td>82</td>\n      <td>1</td>\n      <td>dodge rampage</td>\n      <td>30488</td>\n    </tr>\n    <tr>\n      <th>198</th>\n      <td>28.0</td>\n      <td>4</td>\n      <td>120</td>\n      <td>79</td>\n      <td>2625</td>\n      <td>18.6</td>\n      <td>82</td>\n      <td>1</td>\n      <td>ford ranger</td>\n      <td>20354</td>\n    </tr>\n    <tr>\n      <th>199</th>\n      <td>31.0</td>\n      <td>4</td>\n      <td>119</td>\n      <td>82</td>\n      <td>2720</td>\n      <td>19.4</td>\n      <td>82</td>\n      <td>1</td>\n      <td>chevy s-10</td>\n      <td>36659</td>\n    </tr>\n  </tbody>\n</table>\n<p>398 rows × 10 columns</p>\n</div>"
     },
     "metadata": {},
     "execution_count": 22
    }
   ],
   "source": [
    "cars[\"owners\"] = np.random.randint(15000, 73001, size=len(cars))\n",
    "cars"
   ]
  },
  {
   "cell_type": "code",
   "execution_count": null,
   "metadata": {},
   "outputs": [],
   "source": []
  }
 ],
 "metadata": {
  "anaconda-cloud": {},
  "kernelspec": {
   "display_name": "Python 3.6.4 64-bit",
   "language": "python",
   "name": "python_defaultSpec_1594974638457"
  },
  "language_info": {
   "codemirror_mode": {
    "name": "ipython",
    "version": 2
   },
   "file_extension": ".py",
   "mimetype": "text/x-python",
   "name": "python",
   "nbconvert_exporter": "python",
   "pygments_lexer": "ipython2",
   "version": "3.7.4-final"
  }
 },
 "nbformat": 4,
 "nbformat_minor": 0
}