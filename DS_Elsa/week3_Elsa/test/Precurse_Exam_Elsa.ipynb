{
 "cells": [
  {
   "cell_type": "markdown",
   "metadata": {},
   "source": [
    "## Examen final precurso \n",
    "\n",
    "A continuación se realizarán una serie de preguntas que abarcan la siguiente temática:\n",
    "\n",
    "- Fundamentos de Python\n",
    "- SQL\n",
    "- Git\n",
    "\n",
    "Hacer cada ejercicio en una función con un nombre diferente siempre que se pida.\n",
    "\n",
    "**Aconsejamos leer todo el enunciado antes de empezar a hacer el ejercicio.**"
   ]
  },
  {
   "cell_type": "markdown",
   "metadata": {},
   "source": [
    "### Ejercicio 1\n",
    "\n",
    "Antes de empezar, se pide realizar un `git push` para subir todos los cambios que se tienen en local al repositorio (con su `git add` & `git commit` correspondiente). Este será el último `git push` en el día de hoy.\n",
    "\n",
    "A partir de ese momento, *no se puede hacer `git push` hasta después del día de hoy [03/07/2020]*. Hacerlo se calificará como error grave.\n",
    "\n",
    "Para cada uno de los ejecicios del examen, realiza un commit escribiendo como título del commit el ejercicio al que corresponde guardando los cambios realizados. \n",
    "\n",
    "Estando en la carpeta de tu repositorio en la **terminal** o **gitbash** haz `git log`. Este comando mostrará los últimos commits: haz una captura de pantalla de lo que muestre y envíalo a tus profesores por email junto con el link a tu repositorio.\n",
    "\n",
    "Ten en cuenta que tienes hasta las 23:59 del día de hoy para enviar el email. "
   ]
  },
  {
   "cell_type": "markdown",
   "metadata": {},
   "source": [
    "### Ejercicio 2\n",
    "\n",
    "Un n-grama es una secuencia de 𝑛 caracteres consecutivos de una cadena. Por ejemplo, los 4-gramas de la cadena 'Elefante' son 'Elef', 'lefa', 'efan', 'fant' y 'ante'. Define una función que pregunte por una string y un número entero positivo 𝑛 y muestre por pantalla todos los n-gramas de la cadena."
   ]
  },
  {
   "cell_type": "code",
   "execution_count": 15,
   "metadata": {
    "tags": []
   },
   "outputs": [
    {
     "output_type": "stream",
     "name": "stdout",
     "text": "elef\n"
    }
   ],
   "source": [
    "# Respuesta ejercicio 2\n",
    "def n_grama():\n",
    "    palabra =str(input(\"Escribe una palabra: \"))\n",
    "    n= int(input(\"Escribe un número entero positivo: \"))\n",
    "    if len(palabra) >= n:\n",
    "        print(palabra[0:n])\n",
    "       \n",
    " ##falta obtener resto de n-gramas\n",
    " \n",
    "            \n",
    "n_grama()"
   ]
  },
  {
   "cell_type": "markdown",
   "metadata": {},
   "source": [
    "### Ejercicio 3\n",
    "\n",
    "Escribir una función que reciba por parámetro una lista y que devuelva todos los elementos que se repiten. Además, la función ha de mostrar por pantalla la lista sin elementos repetidos. \n",
    "\n",
    "La lista ha de ser la siguiente: `[2,2,4,3,7,7,7,8,6,7,3,1,2]`\n",
    "\n",
    " \n",
    " **La funcionalidad de este ejercicio debe estar contenido en una función.**"
   ]
  },
  {
   "cell_type": "code",
   "execution_count": 27,
   "metadata": {
    "tags": []
   },
   "outputs": [
    {
     "output_type": "stream",
     "name": "stdout",
     "text": "Lista sin números repetido:  [2, 4, 3, 7, 8, 6, 1]\nLos numeros de la lista que se repiten son:  [2, 7, 3]\n"
    }
   ],
   "source": [
    "# Respuesta ejercicio 3\n",
    "lista_elementos = [2,2,4,3,7,7,7,8,6,7,3,1,2]\n",
    "def ejercicio_3(lista):\n",
    "    lista_sin_repetir = []\n",
    "    for i in lista_elementos:\n",
    "        if i not in lista_sin_repetir:\n",
    "            lista_sin_repetir.append(i)\n",
    "    print(\"Lista sin números repetido: \", lista_sin_repetir)\n",
    "  \n",
    "    repetido = []\n",
    "    unico_valor = []\n",
    "    for x in lista:\n",
    "\t    if x not in unico_valor:\n",
    "\t\t    unico_valor.append(x)\n",
    "\t    else:\n",
    "\t\t    if x not in repetido:\n",
    "\t\t\t    repetido.append(x)\n",
    "    print(\"Los numeros de la lista que se repiten son: \", repetido) \n",
    "\n",
    "ejercicio_3(lista=lista_elementos)"
   ]
  },
  {
   "cell_type": "markdown",
   "metadata": {},
   "source": [
    "### Ejercicio 4:\n",
    "\n",
    "En este ejercicio se va a crear una lista con los siguientes elementos. Primero, crearemos las variables que luego añadiremos a la lista. Las variables son las siguientes:\n",
    "\n",
    "1. Crea una variable llamada `num_dni` de tipo Integer que represente el primer número de tu DNI. \n",
    "2. Crea una variable llamada `let_dni` de tipo String y que represente la letra de vuestro DNI.\n",
    "3. Crea una variable llamada `tip_ord` de tipo Boolean True si usas Windows y False si usas Mac.\n",
    "4. Crea una variable llamada `nada` de tipo None cuyo valor sea None.\n",
    "5. Crea una variable llamada `lista_deseo` de tipo List que contenga los cuatro objetos que te llevarías a una isla desierta. Cada elemento ha de ser de tipo String y el tamaño de la lista ha de ser 4.\n",
    "6. Crea una variable llamada `tupla_ropa` de tipo Tuple con la marca de la prenda superior, inferior y calzado que llevas puesto.\n",
    "7. Crea una variable llamada `dict_info` con dos keys y dos values. Una key es 'nombre', teniendo como value vuestro nombre. Otra key es 'edad', teniendo como value vuestra edad.\n",
    "8. Crea una variable llamada `flo_hor` con la hora actual separada por punto en vez de dos puntos. Ejemplo: si son las 17:06, el valor de la variable sería 17.06.\n",
    "\n",
    "Añade todos estos elementos en una lista llamada `lista_examen` en el orden de aparición."
   ]
  },
  {
   "cell_type": "code",
   "execution_count": 7,
   "metadata": {
    "tags": []
   },
   "outputs": [
    {
     "output_type": "stream",
     "name": "stdout",
     "text": "[7, 'w', False, None, ['caña', 'manta', 'botella', 'mochila'], ('Mango', 'Zara', 'Skechers'), {'nombre': 'Elsa', 'edad': 36}, 17.15]\n"
    }
   ],
   "source": [
    "# Respuesta ejercicio 4\n",
    "num_dni = 7\n",
    "let_dni = \"w\"\n",
    "tip_ord = False\n",
    "nada = None\n",
    "lista_deseo = [\"caña\", \"manta\", \"botella\", \"mochila\"]\n",
    "tupla_ropa = (\"Mango\", \"Zara\", \"Skechers\")\n",
    "dict_info = {\"nombre\": \"Elsa\", \"edad\":36}\n",
    "flo_hor = 17.15\n",
    "lista_examen = [num_dni, let_dni, tip_ord, nada, lista_deseo, tupla_ropa, dict_info, flo_hor]\n",
    "print(lista_examen)\n"
   ]
  },
  {
   "cell_type": "markdown",
   "metadata": {},
   "source": [
    "-----------------------------\n",
    "\n",
    "**IMPORTANTE**: A partir de este momento y para todo el *ejercicio 5*, solo se van a utilizar los datos almacenados en `lista_examen`. Debe contener 8 elementos.\n",
    "\n",
    "-----------------------------\n",
    "### Ejercicio 5. \n",
    "\n",
    "Recuerda usar únicamente la variable `lista_examen`. Leer cada punto hasta el final antes de hacer la tarea. \n",
    "\n",
    "Se repite para que quede aún más claro: **SOLO USAR LA VARIABLE** `lista_examen`. Usar las demás variables se calificará como error.  \n",
    "\n",
    "1. Mostrar por pantalla, sin uso de funciones ni bucles: \n",
    "    - El segundo elemento de `lista_deseo` desde `lista_examen`.\n",
    "    - El calzado que llevas puesto.\n",
    "    - Vuestro nombre.\n",
    "    - La hora almacenada concatenada con vuestra edad y el número de vuestro de DNI. No debe haber espacios entre la concatenación.\n",
    "    - Si tenéis más de 20 años, el primer número de vuestro DNI es mayor a 7 y usas Mac, mostrar la posición 5 de `lista_examen`.\n",
    "\n",
    "2. Mostrar por pantalla, con uso de bucles:\n",
    "    - Todos los elementos de `lista_examen`.\n",
    "    - Todos los elementos de `lista_deseo` desde `lista_examen`.\n",
    "    - Todos los elementos de `tupla_ropa` seguido de la cadena `\"-->\"` y la `posición` (int) que ocupa en la tupla accediendo desde `lista_examen`. Se aconseja utilizar *`enumerate`*.\n",
    "    - Cada key de `dict_info` seguido de la cadena \":\" seguido de su value desde `lista_examen`.\n",
    "    - Todos los elementos que ocupen una posición menor a 4 en `lista_examen`."
   ]
  },
  {
   "cell_type": "code",
   "execution_count": 13,
   "metadata": {},
   "outputs": [
    {
     "output_type": "execute_result",
     "data": {
      "text/plain": "[7,\n 'w',\n False,\n None,\n ['caña', 'manta', 'botella', 'mochila'],\n ('Mango', 'Zara', 'Skechers'),\n {'nombre': 'Elsa', 'edad': 36},\n 17.15]"
     },
     "metadata": {},
     "execution_count": 13
    }
   ],
   "source": [
    "lista_examen"
   ]
  },
  {
   "cell_type": "code",
   "execution_count": 18,
   "metadata": {
    "tags": []
   },
   "outputs": [
    {
     "output_type": "stream",
     "name": "stdout",
     "text": "manta\nSkechers\nElsa\n17.15 36 7\nMostrar la posicion 5 de lista examen: ('Mango', 'Zara', 'Skechers')\n"
    }
   ],
   "source": [
    "# Respuesta ejercicio 5\n",
    "### APARTADO 1\n",
    "\n",
    "print(lista_examen[4][1]) # Segundo elemento lista_deseo\n",
    "print(lista_examen[5][-1]) # Marca calzado que llevo puesto\n",
    "print(lista_examen[6].get(\"nombre\")) # Mi nombre\n",
    "print(lista_examen[-1], lista_examen[6].get(\"edad\"), lista_examen[0]) # Concatenación\n",
    "\n",
    "if lista_examen[6].get(\"edad\")>20 and lista_examen[0] >= 7 and lista_examen[2]== False:\n",
    "    print(\"Mostrar la posicion 5 de lista examen:\" , lista_examen[5])\n",
    "\n",
    "\n"
   ]
  },
  {
   "cell_type": "code",
   "execution_count": 19,
   "metadata": {
    "tags": []
   },
   "outputs": [
    {
     "output_type": "stream",
     "name": "stdout",
     "text": "7\nw\nFalse\nNone\n['caña', 'manta', 'botella', 'mochila']\n('Mango', 'Zara', 'Skechers')\n{'nombre': 'Elsa', 'edad': 36}\n17.15\n"
    }
   ],
   "source": [
    "### APARTADO 2\n",
    "\n",
    "# Todos los elementos de la lista examen:\n",
    "for elem in lista_examen:\n",
    "    print(elem)"
   ]
  },
  {
   "cell_type": "code",
   "execution_count": 27,
   "metadata": {
    "tags": []
   },
   "outputs": [
    {
     "output_type": "stream",
     "name": "stdout",
     "text": "caña\nmanta\nbotella\nmochila\n"
    }
   ],
   "source": [
    "# Todos los elementos de lista_deseo desde lista_examen.\n",
    "for elem in lista_examen[4]:\n",
    "    print(elem)\n",
    "    \n",
    "    "
   ]
  },
  {
   "cell_type": "code",
   "execution_count": 36,
   "metadata": {
    "tags": []
   },
   "outputs": [
    {
     "output_type": "stream",
     "name": "stdout",
     "text": "5\t -->   ('Mango', 'Zara', 'Skechers')\n"
    }
   ],
   "source": [
    "# Todos los elementos de tupla_ropa seguido de la cadena \"-->\" y la posición (int) que ocupa en la tupla accediendo desde lista_examen. Se aconseja utilizar enumerate.\n",
    "for i, elem in enumerate(lista_examen):\n",
    "    if isinstance(elem, tuple):\n",
    "        print(str(i) + \"\\t -->   \" + str(elem))\n"
   ]
  },
  {
   "cell_type": "code",
   "execution_count": 41,
   "metadata": {
    "tags": []
   },
   "outputs": [
    {
     "output_type": "stream",
     "name": "stdout",
     "text": "nombre \t:   Elsa\nedad \t:   36\n"
    }
   ],
   "source": [
    "# Cada key de dict_info seguido de la cadena \":\" seguido de su value desde lista_examen.\n",
    "for keys,values in lista_examen[6].items():\n",
    "    print(keys , \"\\t:  \", values)"
   ]
  },
  {
   "cell_type": "code",
   "execution_count": 8,
   "metadata": {
    "tags": []
   },
   "outputs": [
    {
     "output_type": "stream",
     "name": "stdout",
     "text": "7\nw\nFalse\nNone\n"
    }
   ],
   "source": [
    "# Todos los elementos que ocupen una posición menor a 4 en lista_examen.\n",
    "\n",
    "for elem in lista_examen[0:4]:\n",
    "    print(elem)\n",
    "    \n",
    "\n",
    "\n",
    "    "
   ]
  },
  {
   "cell_type": "markdown",
   "metadata": {},
   "source": [
    "### Ejercicio 6\n",
    "\n",
    "Crea una clase \"Humano\" que tenga 3 atributos: \"edad\", \"altura\" y \"nombre\". Además, debe contar con dos funciones: \n",
    "\n",
    "- \"cumplir_edad\": al llamar a esta función se debe sumar 1 a la edad actual del humano. \n",
    "- \"registro_nombre\" que recibe parametro \"nuevo_nombre\": al llamar a esta función con un parámetro de entrada, esta función debe cambiar el nombre del humano por el \"nuevo_nombre\"\n",
    "\n",
    "Crea un humano llamado \"Wolfram\" que tiene 23 años de edad y mide 173 centímetros. A \"Wolfram\" nunca le gustó su nombre. Por eso, usa la función correspondiente para cambiarle su nombre por \"Benacio\". Además, hoy es su cumpleaños por lo que usa la función para aumentar su edad. \n",
    "\n",
    "Muestra por pantalla el nombre del humano antes y después de cambiarse de nombre. Muestra también la edad de Benacio antes y después de cumplir años."
   ]
  },
  {
   "cell_type": "code",
   "execution_count": null,
   "metadata": {},
   "outputs": [],
   "source": [
    "# Respuesta ejercicio 6"
   ]
  },
  {
   "cell_type": "markdown",
   "metadata": {},
   "source": [
    "### Ejercicio 7\n",
    "\n",
    "Crea un diccionario llamado `generador` que tenga 10 elementos. Cada key es un número del 0 al 9 y su value es una letra del abecedario (empezando por la \"A\" y siguiendo el orden alfabético hasta la \"J\").\n",
    "\n",
    "Muestra por pantalla cada key seguido de dos puntos y su value."
   ]
  },
  {
   "cell_type": "code",
   "execution_count": null,
   "metadata": {},
   "outputs": [],
   "source": [
    "# Respuesta ejercicio 7\n"
   ]
  },
  {
   "cell_type": "markdown",
   "metadata": {},
   "source": [
    "### Ejercicio 8\n",
    "\n"
   ]
  },
  {
   "cell_type": "markdown",
   "metadata": {},
   "source": [
    "Han establecido un sistema de control de entradas y salidas en un autobús de la EMT, de este modo se espera poder monitorizar los ocupantes que lleva el autobús y detectar cuando este vaya al máximo de su capacidad. \n",
    "\n",
    "En cada parada, la entrada y salida de pasajeros es representada en una tupla por dos integers. \n",
    "\n",
    "`bus_stop = (in, out)` \n",
    "\n",
    "La sucesión de paradas se representa con una lista de tuplas. \n",
    "\n",
    "`stops = [(9, 2), (4, 4), (7, 3), (8, 2), (3, 4)]`\n",
    "\n",
    "\n",
    "1. Calcula el número de paradas.\n",
    "\n",
    "2. Asigna a una varialbe una lista que contenga como elementos el número de pasajeros total en cada parada (in-out).\n",
    "\n",
    "3. Calcula el máximo de ocupación de este autobús."
   ]
  },
  {
   "cell_type": "code",
   "execution_count": null,
   "metadata": {},
   "outputs": [],
   "source": [
    "# Respuesta ejercicio 8"
   ]
  },
  {
   "cell_type": "markdown",
   "metadata": {},
   "source": [
    "### Ejercicio 9\n",
    "\n",
    "En una base de datos SQL tenemos dos tablas con 2 columnas en una y 3 columnas en la otra. Una tabla se llama \"Persona\" y la otra se llama \"Banco\". \n",
    "\n",
    "*Esta es la estructura de las tablas:*\n",
    "\n",
    "-----------------------------\n",
    "\n",
    "La tabla \"Persona\" consta de: \n",
    "- Una columna \"DNI\", primare key, varchar\n",
    "- Una columna \"Edad\", int\n",
    "\n",
    "-----------------------------\n",
    "\n",
    "La tabla \"Banco\" consta de:\n",
    "- Una columna \"IBAN\", primare key, varchar\n",
    "- Una columna \"Usuario\" (que está representado por un DNI), varchar\n",
    "- Una columna \"Dinero\", int\n",
    "\n",
    "-----------------------------\n",
    "\n",
    "Escribir una consulta SQL que retorne los \"IBAN\" de los usuarios que tengan más de 22 años. "
   ]
  },
  {
   "cell_type": "code",
   "execution_count": 1,
   "metadata": {},
   "outputs": [],
   "source": [
    "# Respuesta ejercicio 9"
   ]
  },
  {
   "cell_type": "markdown",
   "metadata": {},
   "source": [
    "### Ejercicio 10\n",
    "\n",
    "Escribe un programa utilizando un `while` para que en cada iteración pregunte al usuario si quiere parar la ejecución y que solo pare su ejecución cuando el usuario escriba por pantalla \"PARAR\". \n",
    "\n",
    "Ten cuidado para que no se ejecute un bucle infinito.\n",
    "\n",
    "**La funcionalidad de este ejercicio debe estar contenido en una función.**"
   ]
  },
  {
   "cell_type": "code",
   "execution_count": null,
   "metadata": {},
   "outputs": [],
   "source": [
    "# Respuesta ejercicio 10"
   ]
  }
 ],
 "metadata": {
  "file_extension": ".py",
  "kernelspec": {
   "display_name": "Python 3",
   "language": "python",
   "name": "python3"
  },
  "language_info": {
   "codemirror_mode": {
    "name": "ipython",
    "version": 3
   },
   "file_extension": ".py",
   "mimetype": "text/x-python",
   "name": "python",
   "nbconvert_exporter": "python",
   "pygments_lexer": "ipython3",
   "version": "3.8.3-final"
  },
  "mimetype": "text/x-python",
  "name": "python",
  "npconvert_exporter": "python",
  "pygments_lexer": "ipython3",
  "version": 3
 },
 "nbformat": 4,
 "nbformat_minor": 4
}