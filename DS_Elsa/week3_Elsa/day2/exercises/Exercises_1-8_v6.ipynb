{
 "cells": [
  {
   "cell_type": "markdown",
   "metadata": {},
   "source": [
    "# Ejercicios Precurso W2\n",
    "\n",
    "**Variables, listas, diccionarios, condicionales, booleanos, funciones, while**"
   ]
  },
  {
   "cell_type": "markdown",
   "metadata": {},
   "source": [
    "------------------------------------------------------------------------------------------------------------"
   ]
  },
  {
   "cell_type": "markdown",
   "metadata": {},
   "source": [
    "## Ejercicio 1."
   ]
  },
  {
   "cell_type": "markdown",
   "metadata": {},
   "source": [
    "1. Crea una variable llamada `numero_bridge` que tenga como valor **15**. Tipo entero.\n"
   ]
  },
  {
   "cell_type": "code",
   "execution_count": 1,
   "metadata": {},
   "outputs": [],
   "source": [
    "#your code here\n",
    "numero_bridge = 15"
   ]
  },
  {
   "cell_type": "markdown",
   "metadata": {},
   "source": [
    "2. Crea una variable llamada `nombre_calle` que sea un string y sea **Recoletos**\n",
    " "
   ]
  },
  {
   "cell_type": "code",
   "execution_count": 2,
   "metadata": {},
   "outputs": [],
   "source": [
    "#your code here\n",
    "nombre_calle = \"Recoletos\""
   ]
  },
  {
   "cell_type": "markdown",
   "metadata": {},
   "source": [
    "3. Crea una variable llamada `gusto_personal` que sea **True** si eres más de playa y **False** si eres más de montaña.\n",
    "```python\n",
    "#Ejemplo: \n",
    "gusto_personal = False  # Si te gusta más la montaña\n",
    "gusto_personal = True  # Si te gusta más la playa\n",
    "``` "
   ]
  },
  {
   "cell_type": "code",
   "execution_count": 3,
   "metadata": {},
   "outputs": [],
   "source": [
    "#your code here\n",
    "gusto_personal = False"
   ]
  },
  {
   "cell_type": "markdown",
   "metadata": {},
   "source": [
    "4. Crea una variable llamada `nada` de la siguiente forma: `nada = None`. None no representa ningún valor. Ha de tenerse en cuenta que si se hace `if (nada):`, `nada` actúa como un valor booleano `False`. \n"
   ]
  },
  {
   "cell_type": "code",
   "execution_count": 4,
   "metadata": {},
   "outputs": [],
   "source": [
    "#your code here\n",
    "nada = None"
   ]
  },
  {
   "cell_type": "markdown",
   "metadata": {},
   "source": [
    "5. Crea una variable que llamada `lista_direccion` que sea una lista y que contenga 2 valores. El primer valor debe ser la variable `numero_bridge` y el segundo valor de la lista debe ser la variable `nombre_calle`\n"
   ]
  },
  {
   "cell_type": "code",
   "execution_count": 5,
   "metadata": {},
   "outputs": [],
   "source": [
    "#your code here\n",
    "lista_direccion = [numero_bridge, nombre_calle]"
   ]
  },
  {
   "cell_type": "markdown",
   "metadata": {},
   "source": [
    "6. Crea una variable llamada `horas_sueno` que almacene, en forma de String, las horas que has dormido hoy.\n",
    "```python\n",
    "#Ejemplo: \n",
    "horas_sueno = \"8\" \n",
    "````\n"
   ]
  },
  {
   "cell_type": "code",
   "execution_count": 6,
   "metadata": {},
   "outputs": [],
   "source": [
    "#your code here\n",
    "horas_sueno = \"5\""
   ]
  },
  {
   "cell_type": "markdown",
   "metadata": {},
   "source": [
    "7. Crea una lista llamada `lista_informacion` que tenga cada una de las variables creadas anteriormente en el orden en el que se han expuesto en el ejercicio.\n",
    "IMPORTANTE: A partir de este momento y para todos estos ejercicios, solo se van a utilizar los datos almacenados en `lista_informacion`. Debe contener 6 elementos. "
   ]
  },
  {
   "cell_type": "code",
   "execution_count": 7,
   "metadata": {},
   "outputs": [],
   "source": [
    "#your code here\n",
    "lista_informacion = [\n",
    "    numero_bridge, \n",
    "    nombre_calle,\n",
    "    gusto_personal,\n",
    "    nada,\n",
    "    lista_direccion,\n",
    "    horas_sueno\n",
    "    ]"
   ]
  },
  {
   "cell_type": "markdown",
   "metadata": {},
   "source": [
    "8. Ejecuta esta celda para borrar todas las variables que has tenido que crear antes. El contenido de `lista_informacion` no cambiará. De esta forma, nos aseguraremos de que solo uses la información de `lista_informacion`. "
   ]
  },
  {
   "cell_type": "code",
   "execution_count": 8,
   "metadata": {},
   "outputs": [],
   "source": [
    "#run this cell\n",
    "del numero_bridge\n",
    "del nombre_calle\n",
    "del gusto_personal \n",
    "del nada\n",
    "del lista_direccion\n",
    "del horas_sueno"
   ]
  },
  {
   "cell_type": "code",
   "execution_count": 9,
   "metadata": {},
   "outputs": [
    {
     "output_type": "execute_result",
     "data": {
      "text/plain": "[15, 'Recoletos', False, None, [15, 'Recoletos'], '5']"
     },
     "metadata": {},
     "execution_count": 9
    }
   ],
   "source": [
    "lista_informacion"
   ]
  },
  {
   "cell_type": "markdown",
   "metadata": {},
   "source": [
    "## Ejercicio 2."
   ]
  },
  {
   "cell_type": "markdown",
   "metadata": {},
   "source": [
    "#### Apartado 1."
   ]
  },
  {
   "cell_type": "markdown",
   "metadata": {},
   "source": [
    "Para esta parte del ejercicio has debido definir `lista_información` correctamente. Recuerda no usar las variables excepto `lista_informacion`. Leer cada punto hasta el final antes de hacer la tarea. "
   ]
  },
  {
   "cell_type": "markdown",
   "metadata": {},
   "source": [
    "Mostrar por pantalla, sin uso de funciones ni bucles:"
   ]
  },
  {
   "cell_type": "markdown",
   "metadata": {},
   "source": [
    "1. La concatenación del número de The Bridge, dos puntos y el nombre de la calle. "
   ]
  },
  {
   "cell_type": "code",
   "execution_count": 17,
   "metadata": {},
   "outputs": [
    {
     "output_type": "execute_result",
     "data": {
      "text/plain": "[15, 'Recoletos', False, None, [15, 'Recoletos'], '5']"
     },
     "metadata": {},
     "execution_count": 17
    }
   ],
   "source": [
    "lista_informacion"
   ]
  },
  {
   "cell_type": "code",
   "execution_count": 19,
   "metadata": {},
   "outputs": [
    {
     "output_type": "stream",
     "name": "stdout",
     "text": "15:Recoletos\n"
    }
   ],
   "source": [
    "#your code here\n",
    "print(str(lista_informacion[0]) + \":\" + lista_informacion[1])"
   ]
  },
  {
   "cell_type": "markdown",
   "metadata": {},
   "source": [
    "   2. La suma del número de The Bridge y las horas que has dormido hoy. "
   ]
  },
  {
   "cell_type": "code",
   "execution_count": 20,
   "metadata": {},
   "outputs": [
    {
     "output_type": "execute_result",
     "data": {
      "text/plain": "[15, 'Recoletos', False, None, [15, 'Recoletos'], '5']"
     },
     "metadata": {},
     "execution_count": 20
    }
   ],
   "source": [
    "lista_informacion"
   ]
  },
  {
   "cell_type": "code",
   "execution_count": 24,
   "metadata": {},
   "outputs": [
    {
     "output_type": "stream",
     "name": "stdout",
     "text": "20\n"
    }
   ],
   "source": [
    "#your code here\n",
    "print(lista_informacion[0] + int(lista_informacion[-1]))"
   ]
  },
  {
   "cell_type": "markdown",
   "metadata": {},
   "source": [
    "3. La concatenación del número de The Bridge, el nombre de la calle, tu gusto personal y las horas de sueño. Cada uno debe estar separado por lo siguiente: `\" : \"`"
   ]
  },
  {
   "cell_type": "code",
   "execution_count": 25,
   "metadata": {},
   "outputs": [
    {
     "output_type": "execute_result",
     "data": {
      "text/plain": "[15, 'Recoletos', False, None, [15, 'Recoletos'], '5']"
     },
     "metadata": {},
     "execution_count": 25
    }
   ],
   "source": [
    "lista_informacion"
   ]
  },
  {
   "cell_type": "code",
   "execution_count": 28,
   "metadata": {},
   "outputs": [
    {
     "output_type": "stream",
     "name": "stdout",
     "text": "15 : Recoletos : False : 5\n"
    }
   ],
   "source": [
    "#your code here\n",
    "print(str(lista_informacion[0]) + \" : \" + lista_informacion[1] + \" : \" + str(lista_informacion[2]) + \" : \" + lista_informacion[-1])"
   ]
  },
  {
   "cell_type": "markdown",
   "metadata": {},
   "source": [
    "4. Accediendo a la lista que ocupa la cuarta posición de `lista_informacion`, muestra por pantalla la suma de lo siguiente. Si en la cuarta posición de tu `lista_informacion` no encuentras una lista, preguntanos:\n",
    "     - La concatenación de los dos elementos. \n",
    "     - La multiplicación del tamaño de la lista y el tamaño del número de caracteres que tiene el nombre de la calle.\n"
   ]
  },
  {
   "cell_type": "code",
   "execution_count": 29,
   "metadata": {},
   "outputs": [
    {
     "output_type": "execute_result",
     "data": {
      "text/plain": "[15, 'Recoletos', False, None, [15, 'Recoletos'], '5']"
     },
     "metadata": {},
     "execution_count": 29
    }
   ],
   "source": [
    "lista_informacion"
   ]
  },
  {
   "cell_type": "code",
   "execution_count": 32,
   "metadata": {},
   "outputs": [
    {
     "output_type": "stream",
     "name": "stdout",
     "text": "15Recoletos\n"
    }
   ],
   "source": [
    "#your code here\n",
    "\n",
    "print(str(lista_informacion[4][0]) + lista_informacion[4][1])"
   ]
  },
  {
   "cell_type": "markdown",
   "metadata": {},
   "source": [
    "#### Apartado 2. "
   ]
  },
  {
   "cell_type": "markdown",
   "metadata": {},
   "source": [
    "Para resolver los siguientes ejercicios será necesario que definas una función para cada apartado, tú eliges el nombre salvo que se especifique, pero asegúrate de que defines un único argumento/parámetro `lista`, que al llamar a la función se corresponderá con la variable `lista_información`. "
   ]
  },
  {
   "cell_type": "code",
   "execution_count": null,
   "metadata": {},
   "outputs": [],
   "source": [
    "def f(lista):\n",
    "\n",
    "f(lista=lista_informacion)"
   ]
  },
  {
   "cell_type": "code",
   "execution_count": 33,
   "metadata": {},
   "outputs": [
    {
     "output_type": "stream",
     "name": "stdout",
     "text": "6\n"
    }
   ],
   "source": [
    "def suma(a, b):\n",
    "    print(a + b)\n",
    "\n",
    "suma(a=2, b=4)"
   ]
  },
  {
   "cell_type": "code",
   "execution_count": 34,
   "metadata": {},
   "outputs": [
    {
     "output_type": "stream",
     "name": "stdout",
     "text": "[2, 4]\n"
    }
   ],
   "source": [
    "lista_i = [2, 4]\n",
    "def suma(lista):\n",
    "    print(lista)\n",
    "\n",
    "suma(lista=lista_i)"
   ]
  },
  {
   "cell_type": "markdown",
   "metadata": {},
   "source": [
    "Nota: Cuando sea *recorre* se refiere a bucle `for`. "
   ]
  },
  {
   "cell_type": "markdown",
   "metadata": {},
   "source": [
    "   5. Mostrar por pantalla `\"Me gusta la tranquilidad\"` si te gusta más la montaña y `\"Me gusta ver las carnes al aire libre\"` si te gusta más la playa."
   ]
  },
  {
   "cell_type": "code",
   "execution_count": 35,
   "metadata": {},
   "outputs": [
    {
     "output_type": "execute_result",
     "data": {
      "text/plain": "[15, 'Recoletos', False, None, [15, 'Recoletos'], '5']"
     },
     "metadata": {},
     "execution_count": 35
    }
   ],
   "source": [
    "lista_informacion"
   ]
  },
  {
   "cell_type": "code",
   "execution_count": 40,
   "metadata": {},
   "outputs": [
    {
     "output_type": "stream",
     "name": "stdout",
     "text": "Me gusta la tranquilidad\n"
    }
   ],
   "source": [
    "#your code here\n",
    "\n",
    "def f_1_5(lista):\n",
    "    if lista[2] == True:\n",
    "        print(\"Me gusta ver las carnes al aire libre\")\n",
    "    elif lista[2] == False:\n",
    "        print(\"Me gusta la tranquilidad\")\n",
    "\n",
    "f_1_5(lista=lista_informacion)"
   ]
  },
  {
   "cell_type": "code",
   "execution_count": 37,
   "metadata": {},
   "outputs": [],
   "source": [
    "def f_1_5(lista):\n",
    "    if lista[2] == True:\n",
    "        return \"Me gusta ver las carnes al aire libre\"\n",
    "    elif lista[2] == False:\n",
    "        return \"Me gusta la tranquilidad\"\n",
    "\n",
    "x = f_1_5(lista=lista_informacion)\n",
    "print(x)"
   ]
  },
  {
   "cell_type": "code",
   "execution_count": 45,
   "metadata": {},
   "outputs": [
    {
     "output_type": "execute_result",
     "data": {
      "text/plain": "[2, 3, [1]]"
     },
     "metadata": {},
     "execution_count": 45
    }
   ],
   "source": [
    "l = [2, 3]\n",
    "\n",
    "def anade_uno(lista):\n",
    "    lista.append([1]\n",
    "\n",
    "anade_uno(lista=l)\n",
    "l"
   ]
  },
  {
   "cell_type": "code",
   "execution_count": 43,
   "metadata": {},
   "outputs": [
    {
     "output_type": "stream",
     "name": "stdout",
     "text": "[2, 3, 1, 'X']\n"
    }
   ],
   "source": [
    "l1 = [2, 3, 1, \"X\"]\n",
    "\n",
    "def parte_lista_en_dos(lista):\n",
    "    lista = lista[0:2]\n",
    "    return lista\n",
    "\n",
    "l1 = parte_lista_en_dos(lista=l1)\n",
    "print(l1)"
   ]
  },
  {
   "cell_type": "markdown",
   "metadata": {},
   "source": [
    "6. Mostrar por pantalla `\"Hoy estoy cansado\"` si has dormido menos de 7 horas y `\"Hoy me como el mundo\"` si has dormido más de 7 horas. "
   ]
  },
  {
   "cell_type": "code",
   "execution_count": 46,
   "metadata": {},
   "outputs": [
    {
     "output_type": "execute_result",
     "data": {
      "text/plain": "[15, 'Recoletos', False, None, [15, 'Recoletos'], '5']"
     },
     "metadata": {},
     "execution_count": 46
    }
   ],
   "source": [
    "lista_informacion"
   ]
  },
  {
   "cell_type": "code",
   "execution_count": 49,
   "metadata": {},
   "outputs": [
    {
     "output_type": "stream",
     "name": "stdout",
     "text": "Hoy estoy cansado\n"
    }
   ],
   "source": [
    "#your code here\n",
    "\n",
    "def f_1_6(lista):\n",
    "    horas_sueno_int = int(lista[-1])\n",
    "    if horas_sueno_int > 7:\n",
    "        print(\"Hoy me como el mundo\")\n",
    "    elif horas_sueno_int < 7:\n",
    "        print(\"Hoy estoy cansado\")\n",
    "\n",
    "f_1_6(lista=lista_informacion)"
   ]
  },
  {
   "cell_type": "markdown",
   "metadata": {},
   "source": [
    "7. Recorrer `lista` para mostrar todos los elementos que contiene. "
   ]
  },
  {
   "cell_type": "code",
   "execution_count": 50,
   "metadata": {},
   "outputs": [
    {
     "output_type": "stream",
     "name": "stdout",
     "text": "15\nRecoletos\nFalse\nNone\n[15, 'Recoletos']\n5\n"
    }
   ],
   "source": [
    "#your code here\n",
    "\n",
    "def f_1_7_recorre(lista):\n",
    "    for elem in lista:\n",
    "        print(elem)\n",
    "\n",
    "f_1_7_recorre(lista=lista_informacion)\n"
   ]
  },
  {
   "cell_type": "markdown",
   "metadata": {},
   "source": [
    "8. Recorrer `lista` para mostrar todos los elementos que contiene concatenados con el string `\"--> OK\"`\n"
   ]
  },
  {
   "cell_type": "code",
   "execution_count": 51,
   "metadata": {},
   "outputs": [
    {
     "output_type": "execute_result",
     "data": {
      "text/plain": "[15, 'Recoletos', False, None, [15, 'Recoletos'], '5']"
     },
     "metadata": {},
     "execution_count": 51
    }
   ],
   "source": [
    "lista_informacion"
   ]
  },
  {
   "cell_type": "code",
   "execution_count": 53,
   "metadata": {},
   "outputs": [
    {
     "output_type": "stream",
     "name": "stdout",
     "text": "15--> OK\nRecoletos--> OK\nFalse--> OK\nNone--> OK\n[15, 'Recoletos']--> OK\n5--> OK\n"
    }
   ],
   "source": [
    "#your code here\n",
    "def f_1_8_recorre_concatena(lista):\n",
    "    for elem in lista:\n",
    "        print(str(elem) + \"--> OK\")\n",
    "\n",
    "f_1_8_recorre_concatena(lista=lista_informacion)"
   ]
  },
  {
   "cell_type": "markdown",
   "metadata": {},
   "source": [
    "9. Recorrer `lista` para mostrar todos los elementos que contiene excepto el primero."
   ]
  },
  {
   "cell_type": "code",
   "execution_count": 27,
   "metadata": {},
   "outputs": [
    {
     "output_type": "execute_result",
     "data": {
      "text/plain": "[15, 'Recoletos', False, None, [15, 'Recoletos'], '5']"
     },
     "metadata": {},
     "execution_count": 27
    }
   ],
   "source": [
    "lista_informacion"
   ]
  },
  {
   "cell_type": "code",
   "execution_count": 33,
   "metadata": {},
   "outputs": [
    {
     "output_type": "stream",
     "name": "stdout",
     "text": "Recoletos\nFalse\nNone\n[15, 'Recoletos']\n5\n"
    }
   ],
   "source": [
    "#your code here\n",
    "lista1 = [\"a\", \"b\", \"c\", \"d\"]\n",
    "\n",
    "def mi_funcion(lista):\n",
    "    pos = 0\n",
    "    for elem in lista:\n",
    "        if pos != 0:  # Iteración no es la primera\n",
    "            print(elem)\n",
    "        pos = pos + 1\n",
    "    \n",
    "mi_funcion(lista=lista_informacion)"
   ]
  },
  {
   "cell_type": "code",
   "execution_count": 34,
   "metadata": {},
   "outputs": [
    {
     "output_type": "execute_result",
     "data": {
      "text/plain": "[15, 'Recoletos', False, None, [15, 'Recoletos'], '5']"
     },
     "metadata": {},
     "execution_count": 34
    }
   ],
   "source": [
    "lista_informacion"
   ]
  },
  {
   "cell_type": "code",
   "execution_count": 36,
   "metadata": {},
   "outputs": [
    {
     "output_type": "stream",
     "name": "stdout",
     "text": "Iteración:  1\n(0, 15)\n---------------------\nIteración:  2\n(1, 'Recoletos')\n---------------------\nIteración:  3\n(2, False)\n---------------------\nIteración:  4\n(3, None)\n---------------------\nIteración:  5\n(4, [15, 'Recoletos'])\n---------------------\nIteración:  6\n(5, '5')\n---------------------\n"
    }
   ],
   "source": [
    "for t in enumerate(lista_informacion):\n",
    "    print(\"Iteración: \", t[0] + 1)\n",
    "    print(t)\n",
    "    print(\"---------------------\")"
   ]
  },
  {
   "cell_type": "code",
   "execution_count": 37,
   "metadata": {},
   "outputs": [
    {
     "output_type": "execute_result",
     "data": {
      "text/plain": "[15, 'Recoletos', False, None, [15, 'Recoletos'], '5']"
     },
     "metadata": {},
     "execution_count": 37
    }
   ],
   "source": [
    "lista_informacion"
   ]
  },
  {
   "cell_type": "code",
   "execution_count": 39,
   "metadata": {},
   "outputs": [
    {
     "output_type": "stream",
     "name": "stdout",
     "text": "Iteración:  1\n-------------------\nIteración:  2\nelem: Recoletos\n-------------------\nIteración:  3\nelem: False\n-------------------\nIteración:  4\nelem: None\n-------------------\nIteración:  5\nelem: [15, 'Recoletos']\n-------------------\nIteración:  6\nelem: 5\n-------------------\n"
    }
   ],
   "source": [
    "def mi_funcion(lista):\n",
    "    for pos, elem in enumerate(lista):\n",
    "        print(\"Iteración: \", pos + 1)\n",
    "        if pos != 0:  # Iteración no es la primera\n",
    "            print(\"elem:\", elem)\n",
    "        print(\"-------------------\")\n",
    "        \n",
    "mi_funcion(lista=lista_informacion)"
   ]
  },
  {
   "cell_type": "code",
   "execution_count": 46,
   "metadata": {},
   "outputs": [
    {
     "output_type": "stream",
     "name": "stdout",
     "text": "Recoletos\nFalse\nNone\n[15, 'Recoletos']\n"
    }
   ],
   "source": [
    "for x in lista_informacion[1:-1]:\n",
    "    print(x)"
   ]
  },
  {
   "cell_type": "code",
   "execution_count": 50,
   "metadata": {},
   "outputs": [
    {
     "output_type": "stream",
     "name": "stdout",
     "text": "Recoletos\nFalse\nNone\n[15, 'Recoletos']\n5\n"
    }
   ],
   "source": [
    "def natalio_way(lista):\n",
    "    for x in lista_informacion[1:]:\n",
    "        print(x)\n",
    "\n",
    "natalio_way(lista=lista_informacion)"
   ]
  },
  {
   "cell_type": "code",
   "execution_count": 51,
   "metadata": {},
   "outputs": [
    {
     "output_type": "stream",
     "name": "stdout",
     "text": "Recoletos\nFalse\nNone\n[15, 'Recoletos']\n5\n"
    }
   ],
   "source": [
    "for elem in lista_informacion:\n",
    "    if elem == lista_informacion[0]:\n",
    "        continue\n",
    "    print(elem)\n"
   ]
  },
  {
   "cell_type": "markdown",
   "metadata": {},
   "source": [
    "10. Recorrer `lista` para mostrar todos los elementos que contiene excepto el último. "
   ]
  },
  {
   "cell_type": "code",
   "execution_count": 53,
   "metadata": {},
   "outputs": [
    {
     "output_type": "execute_result",
     "data": {
      "text/plain": "[15, 'Recoletos', False, None, [15, 'Recoletos'], '5']"
     },
     "metadata": {},
     "execution_count": 53
    }
   ],
   "source": [
    "lista_informacion"
   ]
  },
  {
   "cell_type": "code",
   "execution_count": 54,
   "metadata": {},
   "outputs": [
    {
     "output_type": "stream",
     "name": "stdout",
     "text": "15\nRecoletos\nFalse\nNone\n[15, 'Recoletos']\n"
    }
   ],
   "source": [
    "#your code here\n",
    "def natalio_way(lista):\n",
    "    for x in lista[0:len(lista)-1]:\n",
    "        print(x)\n",
    "\n",
    "natalio_way(lista=lista_informacion)\n"
   ]
  },
  {
   "cell_type": "markdown",
   "metadata": {},
   "source": [
    "11. Recorrer `lista` para mostrar todos los elementos que contiene excepto el número de la calle y las horas que has dormido."
   ]
  },
  {
   "cell_type": "code",
   "execution_count": 55,
   "metadata": {},
   "outputs": [
    {
     "output_type": "execute_result",
     "data": {
      "text/plain": "[15, 'Recoletos', False, None, [15, 'Recoletos'], '5']"
     },
     "metadata": {},
     "execution_count": 55
    }
   ],
   "source": [
    "lista_informacion"
   ]
  },
  {
   "cell_type": "code",
   "execution_count": 58,
   "metadata": {},
   "outputs": [
    {
     "output_type": "stream",
     "name": "stdout",
     "text": "Recoletos\nFalse\nNone\n[15, 'Recoletos']\n"
    }
   ],
   "source": [
    "#your code here\n",
    "def mi_funcion(lista):\n",
    "\n",
    "    for elem in lista[1:-1]:\n",
    "        print(elem)\n",
    "\n",
    "mi_funcion(lista=lista_informacion)"
   ]
  },
  {
   "cell_type": "code",
   "execution_count": 9,
   "metadata": {},
   "outputs": [
    {
     "output_type": "execute_result",
     "data": {
      "text/plain": "[15, 'Recoletos', False, None, [15, 'Recoletos'], '5']"
     },
     "metadata": {},
     "execution_count": 9
    }
   ],
   "source": [
    "lista_informacion"
   ]
  },
  {
   "cell_type": "markdown",
   "metadata": {},
   "source": [
    "12 . Recorrer `lista` para mostrar todos los elementos que contiene excepto el primer elemento de la lista que se encuentra en quinta posición. "
   ]
  },
  {
   "cell_type": "code",
   "execution_count": 12,
   "metadata": {},
   "outputs": [
    {
     "output_type": "execute_result",
     "data": {
      "text/plain": "[15, 'Recoletos', False, None, [15, 'Recoletos'], '5']"
     },
     "metadata": {},
     "execution_count": 12
    }
   ],
   "source": [
    "lista_informacion"
   ]
  },
  {
   "cell_type": "code",
   "execution_count": 11,
   "metadata": {},
   "outputs": [
    {
     "output_type": "stream",
     "name": "stdout",
     "text": "15\nRecoletos\nFalse\nNone\n[15, 'Recoletos']\n5\n"
    }
   ],
   "source": [
    "for elem in lista_informacion:\n",
    "    if elem == x[0]:\n",
    "        continue\n",
    "        print(elem)"
   ]
  },
  {
   "cell_type": "code",
   "execution_count": null,
   "metadata": {},
   "outputs": [],
   "source": [
    "def elemento(lista):\n",
    "    for elem in lista:\n",
    "        if elem == lista[4][0]:\n",
    "            continue\n",
    "        print(elem)\n",
    "​\n",
    "elemento(lista=lista_informacion)"
   ]
  },
  {
   "cell_type": "code",
   "execution_count": 62,
   "metadata": {},
   "outputs": [
    {
     "output_type": "stream",
     "name": "stdout",
     "text": "[15, 'Recoletos', False, None, [15, 'Recoletos'], '5']\n"
    },
    {
     "output_type": "execute_result",
     "data": {
      "text/plain": "[15, 'Recoletos']"
     },
     "metadata": {},
     "execution_count": 62
    }
   ],
   "source": [
    "#your code here\n",
    "print(lista_informacion)\n",
    "lista_informacion[4]"
   ]
  },
  {
   "cell_type": "code",
   "execution_count": 63,
   "metadata": {},
   "outputs": [
    {
     "output_type": "execute_result",
     "data": {
      "text/plain": "[15, 'Recoletos', False, None, [15, 'Recoletos'], '5']"
     },
     "metadata": {},
     "execution_count": 63
    }
   ],
   "source": [
    "lista_informacion"
   ]
  },
  {
   "cell_type": "code",
   "execution_count": 64,
   "metadata": {},
   "outputs": [
    {
     "output_type": "stream",
     "name": "stdout",
     "text": "15\nRecoletos\nFalse\nNone\nRecoletos\n5\n"
    }
   ],
   "source": [
    "def mi_function(lista):\n",
    "    pos = 0\n",
    "    for elem in lista:\n",
    "        if pos != 4:\n",
    "            print(elem)\n",
    "        elif pos == 4:\n",
    "            print(elem[1])\n",
    "        pos = pos + 1\n",
    "\n",
    "mi_function(lista=lista_informacion)"
   ]
  },
  {
   "cell_type": "code",
   "execution_count": 65,
   "metadata": {},
   "outputs": [
    {
     "output_type": "execute_result",
     "data": {
      "text/plain": "[15, 'Recoletos', False, None, [15, 'Recoletos'], '5']"
     },
     "metadata": {},
     "execution_count": 65
    }
   ],
   "source": [
    "lista_informacion"
   ]
  },
  {
   "cell_type": "code",
   "execution_count": null,
   "metadata": {},
   "outputs": [],
   "source": [
    "def mi_function(lista):\n",
    "    for i, elem in enumerate(lista):\n",
    "        if i != 4:\n",
    "            print(elem)\n",
    "        elif i == 4:\n",
    "            print(elem[1])\n",
    "\n",
    "mi_function(lista=lista_informacion)"
   ]
  },
  {
   "cell_type": "code",
   "execution_count": 66,
   "metadata": {},
   "outputs": [
    {
     "output_type": "execute_result",
     "data": {
      "text/plain": "[15, 'Recoletos', False, None, [15, 'Recoletos'], '5']"
     },
     "metadata": {},
     "execution_count": 66
    }
   ],
   "source": [
    "lista_informacion"
   ]
  },
  {
   "cell_type": "code",
   "execution_count": 69,
   "metadata": {},
   "outputs": [
    {
     "output_type": "stream",
     "name": "stdout",
     "text": "15\nRecoletos\nFalse\nNone\nRecoletos\n5\nx: None\n"
    }
   ],
   "source": [
    "def mi_function(lista):\n",
    "    for i, elem in enumerate(lista):\n",
    "        if isinstance(elem, list):\n",
    "            print(elem[1])\n",
    "        else:\n",
    "            print(elem)\n",
    "\n",
    "mi_function(lista=lista_informacion)"
   ]
  },
  {
   "cell_type": "markdown",
   "metadata": {},
   "source": [
    "13. Recorrer `lista` para mostrar todos los elementos que contiene excepto el que contiene la información sobre si os gusta la montaña o la playa."
   ]
  },
  {
   "cell_type": "code",
   "execution_count": 13,
   "metadata": {},
   "outputs": [
    {
     "output_type": "execute_result",
     "data": {
      "text/plain": "[15, 'Recoletos', False, None, [15, 'Recoletos'], '5']"
     },
     "metadata": {},
     "execution_count": 13
    }
   ],
   "source": [
    "lista_informacion"
   ]
  },
  {
   "cell_type": "code",
   "execution_count": 15,
   "metadata": {},
   "outputs": [
    {
     "output_type": "stream",
     "name": "stdout",
     "text": "15\nRecoletos\nNone\n[15, 'Recoletos']\n5\n"
    }
   ],
   "source": [
    "#your code here\n",
    "\n",
    "def f_13(lista):\n",
    "    for _ in lista:\n",
    "        if _ == True:\n",
    "            continue\n",
    "        elif _ == False:\n",
    "            continue\n",
    "        print(_)\n",
    "\n",
    "f_13(lista=lista_informacion)\n"
   ]
  },
  {
   "cell_type": "code",
   "execution_count": 20,
   "metadata": {},
   "outputs": [
    {
     "output_type": "stream",
     "name": "stdout",
     "text": "15\nRecoletos\nNone\n[15, 'Recoletos']\n5\n"
    }
   ],
   "source": [
    "def f_13(lista):\n",
    "    for _ in lista:\n",
    "        if _ == True or _ == False:\n",
    "            continue\n",
    "        print(_)\n",
    "\n",
    "f_13(lista=lista_informacion)"
   ]
  },
  {
   "cell_type": "code",
   "execution_count": 16,
   "metadata": {},
   "outputs": [
    {
     "output_type": "stream",
     "name": "stdout",
     "text": "15\nRecoletos\nNone\n[15, 'Recoletos']\n5\n"
    }
   ],
   "source": [
    "def f_13(lista):\n",
    "    for _ in lista:\n",
    "        if isinstance(_, (bool)):\n",
    "            continue\n",
    "        print(_)\n",
    "\n",
    "f_13(lista=lista_informacion)\n"
   ]
  },
  {
   "cell_type": "code",
   "execution_count": 17,
   "metadata": {},
   "outputs": [
    {
     "output_type": "execute_result",
     "data": {
      "text/plain": "True"
     },
     "metadata": {},
     "execution_count": 17
    }
   ],
   "source": [
    "1 == 1"
   ]
  },
  {
   "cell_type": "code",
   "execution_count": 18,
   "metadata": {},
   "outputs": [
    {
     "output_type": "execute_result",
     "data": {
      "text/plain": "True"
     },
     "metadata": {},
     "execution_count": 18
    }
   ],
   "source": [
    "1 is 1"
   ]
  },
  {
   "cell_type": "code",
   "execution_count": 19,
   "metadata": {},
   "outputs": [
    {
     "output_type": "stream",
     "name": "stdout",
     "text": "True\nTrue\n"
    }
   ],
   "source": [
    "x = True\n",
    "\n",
    "print(x is True)\n",
    "print(x == True)"
   ]
  },
  {
   "cell_type": "code",
   "execution_count": null,
   "metadata": {},
   "outputs": [],
   "source": []
  },
  {
   "cell_type": "code",
   "execution_count": null,
   "metadata": {},
   "outputs": [],
   "source": [
    "def f_13(lista):\n",
    "    for _ in lista:\n",
    "        if isinstance(_, (bool)):\n",
    "            continue\n",
    "        print(_)\n",
    "\n",
    "f_13(lista=lista_informacion)"
   ]
  },
  {
   "cell_type": "code",
   "execution_count": null,
   "metadata": {},
   "outputs": [],
   "source": [
    "for pos, x in enumerate(lista)"
   ]
  },
  {
   "cell_type": "code",
   "execution_count": null,
   "metadata": {},
   "outputs": [],
   "source": [
    "pos = 0\n",
    "for x in lista:\n",
    "    pos = pos + 1"
   ]
  },
  {
   "cell_type": "code",
   "execution_count": 21,
   "metadata": {},
   "outputs": [
    {
     "output_type": "stream",
     "name": "stdout",
     "text": "z\ny\n"
    }
   ],
   "source": [
    "l = [\"z\", \"x\", \"y\"]\n",
    "\n",
    "for x in l:\n",
    "    if x == l[1]:\n",
    "        continue\n",
    "    print(x)\n"
   ]
  },
  {
   "cell_type": "code",
   "execution_count": 24,
   "metadata": {},
   "outputs": [
    {
     "output_type": "stream",
     "name": "stdout",
     "text": "0\nz\n------------\n1\nx\n------------\n2\ny\n------------\n"
    }
   ],
   "source": [
    "l = [\"z\", \"x\", \"y\"]\n",
    "lenght_l = len(l) \n",
    "\n",
    "for i in range(lenght_l):\n",
    "    print(i)\n",
    "    print(l[i])\n",
    "    print(\"------------\")"
   ]
  },
  {
   "cell_type": "code",
   "execution_count": 26,
   "metadata": {},
   "outputs": [
    {
     "output_type": "stream",
     "name": "stdout",
     "text": "0\nz\n------\n1\nx\n------\n2\ny\n------\n"
    }
   ],
   "source": [
    "for pos, elem in enumerate(l):\n",
    "    print(pos)\n",
    "    print(elem)\n",
    "    print(\"------\")"
   ]
  },
  {
   "cell_type": "code",
   "execution_count": null,
   "metadata": {},
   "outputs": [],
   "source": [
    "def f_13(lista):\n",
    "    for _ in lista:\n",
    "        print(_)\n",
    "\n",
    "f_13(lista=lista_informacion)"
   ]
  },
  {
   "cell_type": "markdown",
   "metadata": {},
   "source": [
    "14. Recorrer `lista` para mostrar el último elemento."
   ]
  },
  {
   "cell_type": "code",
   "execution_count": 39,
   "metadata": {},
   "outputs": [
    {
     "output_type": "execute_result",
     "data": {
      "text/plain": "[1, 2, 6, 10]"
     },
     "metadata": {},
     "execution_count": 39
    }
   ],
   "source": [
    "l = [1, 2, 6, 10]\n",
    "l"
   ]
  },
  {
   "cell_type": "code",
   "execution_count": 40,
   "metadata": {},
   "outputs": [
    {
     "output_type": "execute_result",
     "data": {
      "text/plain": "[0, 1, 2, 3, 4]"
     },
     "metadata": {},
     "execution_count": 40
    }
   ],
   "source": [
    "list(range(5))"
   ]
  },
  {
   "cell_type": "code",
   "execution_count": 41,
   "metadata": {},
   "outputs": [
    {
     "output_type": "execute_result",
     "data": {
      "text/plain": "2"
     },
     "metadata": {},
     "execution_count": 41
    }
   ],
   "source": [
    "range(5)[2]"
   ]
  },
  {
   "cell_type": "code",
   "execution_count": 36,
   "metadata": {},
   "outputs": [
    {
     "output_type": "stream",
     "name": "stdout",
     "text": "0\n2\n4\n"
    }
   ],
   "source": [
    "for i in range(0, 5, 2):\n",
    "    print(i)"
   ]
  },
  {
   "cell_type": "code",
   "execution_count": 42,
   "metadata": {},
   "outputs": [
    {
     "output_type": "execute_result",
     "data": {
      "text/plain": "[15, 'Recoletos', False, None, [15, 'Recoletos'], '5']"
     },
     "metadata": {},
     "execution_count": 42
    }
   ],
   "source": [
    "lista_informacion"
   ]
  },
  {
   "cell_type": "code",
   "execution_count": 43,
   "metadata": {},
   "outputs": [
    {
     "output_type": "stream",
     "name": "stdout",
     "text": "5\n"
    }
   ],
   "source": [
    "#your code here\n",
    "def f_14(lista):\n",
    "    for _ in range(len(lista)):\n",
    "        if _ == len(lista) - 1:\n",
    "            print(_)\n",
    "\n",
    "\n",
    "f_14(lista=lista_informacion)"
   ]
  },
  {
   "cell_type": "code",
   "execution_count": 44,
   "metadata": {},
   "outputs": [
    {
     "output_type": "stream",
     "name": "stdout",
     "text": "5\n"
    }
   ],
   "source": [
    "#your code here\n",
    "def f_14(lista):\n",
    "    for pos, elem in enumerate(lista):\n",
    "        if pos == len(lista) - 1:\n",
    "            print(elem)\n",
    "\n",
    "f_14(lista=lista_informacion)"
   ]
  },
  {
   "cell_type": "code",
   "execution_count": 45,
   "metadata": {},
   "outputs": [
    {
     "output_type": "stream",
     "name": "stdout",
     "text": "5\n"
    }
   ],
   "source": [
    "#your code here\n",
    "def f_14(lista):\n",
    "    pos = 0\n",
    "    for elem in lista:\n",
    "        if pos == len(lista) - 1:\n",
    "            print(elem)\n",
    "        pos = pos + 1\n",
    "\n",
    "f_14(lista=lista_informacion)"
   ]
  },
  {
   "cell_type": "code",
   "execution_count": 46,
   "metadata": {},
   "outputs": [
    {
     "output_type": "stream",
     "name": "stdout",
     "text": "5\n"
    }
   ],
   "source": [
    "#your code here\n",
    "def f_14(lista):\n",
    "    for elem in lista:\n",
    "        if elem == lista[-1]:\n",
    "            print(elem)\n",
    "\n",
    "f_14(lista=lista_informacion)"
   ]
  },
  {
   "cell_type": "markdown",
   "metadata": {},
   "source": [
    "15. Crear una variable llamada `zona` y darle el valor de **None**. Recorrer `lista` y actualizar `zona` a **True** si y solo si has dormido más de 7 horas, te gusta la playa y la suma de las horas que has dormido más el número de The Bridge es menor a 24. Para cualquier otro caso, `zona` será **False**. Retornar el valor de `zona`. Esta función se llamará `funcion_zona`."
   ]
  },
  {
   "cell_type": "code",
   "execution_count": 47,
   "metadata": {},
   "outputs": [
    {
     "output_type": "execute_result",
     "data": {
      "text/plain": "[15, 'Recoletos', False, None, [15, 'Recoletos'], '5']"
     },
     "metadata": {},
     "execution_count": 47
    }
   ],
   "source": [
    "lista_informacion"
   ]
  },
  {
   "cell_type": "code",
   "execution_count": 48,
   "metadata": {},
   "outputs": [
    {
     "output_type": "execute_result",
     "data": {
      "text/plain": "False"
     },
     "metadata": {},
     "execution_count": 48
    }
   ],
   "source": [
    "#your code here\n",
    "\n",
    "def funcion_zona(lista):\n",
    "    zona = None\n",
    "    con1 = int(lista[-1]) > 7\n",
    "    con2 = lista[2] == True\n",
    "    con3 = (int(lista[-1]) + lista[0]) < 24\n",
    "    for x in lista:\n",
    "        if con1 and con2 and con3:\n",
    "            zona = True\n",
    "            break\n",
    "        else:\n",
    "            zona = False\n",
    "            break\n",
    "    return zona\n",
    "\n",
    "\n",
    "z = funcion_zona(lista=lista_informacion)\n",
    "z"
   ]
  },
  {
   "cell_type": "code",
   "execution_count": 8,
   "metadata": {},
   "outputs": [
    {
     "output_type": "execute_result",
     "data": {
      "text/plain": "[15, 'Recoletos', False, None, [15, 'Recoletos'], '5']"
     },
     "metadata": {},
     "execution_count": 8
    }
   ],
   "source": [
    "lista_informacion"
   ]
  },
  {
   "cell_type": "code",
   "execution_count": 9,
   "metadata": {},
   "outputs": [
    {
     "output_type": "execute_result",
     "data": {
      "text/plain": "False"
     },
     "metadata": {},
     "execution_count": 9
    }
   ],
   "source": [
    "#your code here\n",
    "def funcion_zona(lista):\n",
    "    zona = None\n",
    "    primer_valor = None\n",
    "    con1 = None\n",
    "    con2 = None\n",
    "    con3 = None\n",
    "    for pos, elem in enumerate(lista):\n",
    "        if pos == 0:  # Primer elemento\n",
    "            primer_valor = elem\n",
    "        elif pos == 2:  # Tercer elemento\n",
    "            con2 = (elem == True)\n",
    "        elif pos == len(lista) - 1:  # Último elemento\n",
    "            con1 = int(elem) > 7\n",
    "            con3 = (primer_valor + int(elem)) < 24\n",
    "\n",
    "    if con1 and con2 and con3:\n",
    "        zona = True\n",
    "    else:\n",
    "        zona = False\n",
    "    return zona\n",
    "\n",
    "\n",
    "z = funcion_zona(lista=lista_informacion)\n",
    "z"
   ]
  },
  {
   "cell_type": "markdown",
   "metadata": {},
   "source": [
    "16. Define una función llamada `funcion_comprobacion` que recibe solo un parámetro llamado `valor_zona` que cuando llames a la función será el valor que devuelve la función `funcion_zona`, y que devuelva el valor de `valor_zona` si es **True**. \n",
    "\n",
    "*****"
   ]
  },
  {
   "cell_type": "code",
   "execution_count": 10,
   "metadata": {},
   "outputs": [],
   "source": [
    "#your code here\n",
    "\n",
    "def funcion_comprobacion(valor_zona):\n",
    "    if valor_zona == True:\n",
    "        return valor_zona\n",
    "\n",
    "lo_que_devuelve_funcion_zona = funcion_zona(lista=lista_informacion)\n",
    "funcion_comprobacion(valor_zona=lo_que_devuelve_funcion_zona)\n"
   ]
  },
  {
   "cell_type": "markdown",
   "metadata": {},
   "source": [
    "17. Define una función con el nombre que más te guste que utilice la función [enumerate](https://www.programiz.com/python-programming/methods/built-in/enumerate) con un bucle `for` utilizando la lista de alturas y la lista de alumnos creada en días anteriores. Las listas han de estar ordenadas para mostrar la altura acompañada del nombre del alumno al que pertenece. "
   ]
  },
  {
   "cell_type": "code",
   "execution_count": 10,
   "metadata": {},
   "outputs": [],
   "source": [
    "lista_alumnos = [[\"Jalex\", 6, 47, 1.80], [\"Tomas\", 5, 31, 1.80], [\"David\", 6, 39, 1.81], [\"Natalio\", 2, 29, 1.73], [\"Monica\", 3, 47, 1.73], [\"Roxanna\", 4,24,1.75], [\"Filipa\", 5,34,1.64], [\"Elsa\", 4, 36, 1.89], [\"Cristina\", 3, 46, 1.70], [\"Clara\", 6, 29, 1.67], [\"Alba\", 3, 29, 1.68], [\"Valeria\",1, 40, 1.60], [\"Jose Luis\", 4, 47, 1.69], [\"Gabriel\", 1, 28, 1.76], [\"Rochi\", 2, 38, 1.60], [\"Jose Maria\", 5, 51, 1.75]]"
   ]
  },
  {
   "cell_type": "code",
   "execution_count": 11,
   "metadata": {},
   "outputs": [
    {
     "output_type": "execute_result",
     "data": {
      "text/plain": "['Jalex',\n 'Tomas',\n 'David',\n 'Natalio',\n 'Monica',\n 'Roxanna',\n 'Filipa',\n 'Elsa',\n 'Cristina',\n 'Clara',\n 'Alba',\n 'Valeria',\n 'Jose Luis',\n 'Gabriel',\n 'Rochi',\n 'Jose Maria']"
     },
     "metadata": {},
     "execution_count": 11
    }
   ],
   "source": [
    "lista_nombres_alumnos = []\n",
    "for x in lista_alumnos:\n",
    "    lista_nombres_alumnos.append(x[0])\n",
    "\n",
    "lista_nombres_alumnos"
   ]
  },
  {
   "cell_type": "code",
   "execution_count": 12,
   "metadata": {},
   "outputs": [
    {
     "output_type": "stream",
     "name": "stdout",
     "text": "lista_nombres_alumnos: ['Jalex', 'Tomas', 'David', 'Natalio', 'Monica', 'Roxanna', 'Filipa', 'Elsa', 'Cristina', 'Clara', 'Alba', 'Valeria', 'Jose Luis', 'Gabriel', 'Rochi', 'Jose Maria']\n\nlista_alturas_alumnos: [1.8, 1.8, 1.81, 1.73, 1.73, 1.75, 1.64, 1.89, 1.7, 1.67, 1.68, 1.6, 1.69, 1.76, 1.6, 1.75]\n"
    }
   ],
   "source": [
    "lista_nombres_alumnos = [x[0] for x in lista_alumnos]\n",
    "lista_alturas_alumnos = [x[3] for x in lista_alumnos]\n",
    "print(\"lista_nombres_alumnos:\", lista_nombres_alumnos)\n",
    "print()\n",
    "print(\"lista_alturas_alumnos:\", lista_alturas_alumnos)"
   ]
  },
  {
   "cell_type": "code",
   "execution_count": 18,
   "metadata": {},
   "outputs": [
    {
     "output_type": "stream",
     "name": "stdout",
     "text": "['Jalex', 1.8]\n['Tomas', 1.8]\n['David', 1.81]\n['Natalio', 1.73]\n['Monica', 1.73]\n['Roxanna', 1.75]\n['Filipa', 1.64]\n['Elsa', 1.89]\n['Cristina', 1.7]\n['Clara', 1.67]\n['Alba', 1.68]\n['Valeria', 1.6]\n['Jose Luis', 1.69]\n['Gabriel', 1.76]\n['Rochi', 1.6]\n['Jose Maria', 1.75]\n"
    }
   ],
   "source": [
    "#your code here\n",
    "def nombre_que_mas_me_guste(l_nombres, l_alturas):\n",
    "    for pos, elem in enumerate(l_nombres):\n",
    "        g = [elem, l_alturas[pos]]\n",
    "        print(g)\n",
    "\n",
    "nombre_que_mas_me_guste(l_nombres=lista_nombres_alumnos, l_alturas=lista_alturas_alumnos)\n"
   ]
  },
  {
   "cell_type": "code",
   "execution_count": 20,
   "metadata": {},
   "outputs": [
    {
     "output_type": "stream",
     "name": "stdout",
     "text": "[('Jalex', 1.8), ('Tomas', 1.8), ('David', 1.81), ('Natalio', 1.73), ('Monica', 1.73), ('Roxanna', 1.75), ('Filipa', 1.64), ('Elsa', 1.89), ('Cristina', 1.7), ('Clara', 1.67), ('Alba', 1.68), ('Valeria', 1.6), ('Jose Luis', 1.69), ('Gabriel', 1.76), ('Rochi', 1.6), ('Jose Maria', 1.75)]\n"
    }
   ],
   "source": [
    "print(list(zip(lista_nombres_alumnos, lista_alturas_alumnos)))"
   ]
  },
  {
   "cell_type": "code",
   "execution_count": 21,
   "metadata": {},
   "outputs": [
    {
     "output_type": "stream",
     "name": "stdout",
     "text": "<class 'tuple'>\n<class 'tuple'>\n<class 'tuple'>\n<class 'tuple'>\n<class 'tuple'>\n<class 'tuple'>\n<class 'tuple'>\n<class 'tuple'>\n<class 'tuple'>\n<class 'tuple'>\n<class 'tuple'>\n<class 'tuple'>\n<class 'tuple'>\n<class 'tuple'>\n<class 'tuple'>\n<class 'tuple'>\n"
    }
   ],
   "source": [
    "for x in list(zip(lista_nombres_alumnos, lista_alturas_alumnos)):\n",
    "    print(type(x))"
   ]
  },
  {
   "cell_type": "code",
   "execution_count": 31,
   "metadata": {},
   "outputs": [
    {
     "output_type": "stream",
     "name": "stdout",
     "text": "Jalex : 1.8\nTomas : 1.8\nDavid : 1.81\nNatalio : 1.73\nMonica : 1.73\nRoxanna : 1.75\nFilipa : 1.64\nElsa : 1.89\nCristina : 1.7\nClara : 1.67\nAlba : 1.68\nValeria : 1.6\nJose Luis : 1.69\nGabriel : 1.76\nRochi : 1.6\nJose Maria : 1.75\n"
    }
   ],
   "source": [
    "for pos, elem in enumerate(lista_alumnos):\n",
    "    print(elem[0], \":\", elem[-1])"
   ]
  },
  {
   "cell_type": "markdown",
   "metadata": {},
   "source": [
    "18. Hacer un programa que pregunte al usuario si le gusta la montaña y, si es que no, llame a la función `funcion_zona`. "
   ]
  },
  {
   "cell_type": "code",
   "execution_count": 26,
   "metadata": {},
   "outputs": [
    {
     "output_type": "stream",
     "name": "stdout",
     "text": "False\n"
    }
   ],
   "source": [
    "#your code here\n",
    "\n",
    "def f_18():\n",
    "    x = input(\"¿Te gusta la montaña? [yes/no]\")\n",
    "\n",
    "    if x == \"yes\":\n",
    "        pass\n",
    "    elif x == \"no\":\n",
    "        funcion_zona(lista_informacion)\n",
    "    \n",
    "f_18()"
   ]
  },
  {
   "cell_type": "markdown",
   "metadata": {},
   "source": [
    "19. Definir una función que guarde en una variable el valor de \"nada\" y lo devuelva por pantalla. Además concatenar su valor con el número de The Bridge y mostrarlo por pantalla. Además, mostrar por pantalla un booleano **True** si el tamaño de la palabra concatenada es 6. Sino, será **False**. La función debe retornar el valor **True** o **False**. El nombre de la función será `f_s`."
   ]
  },
  {
   "cell_type": "code",
   "execution_count": 13,
   "metadata": {},
   "outputs": [
    {
     "output_type": "stream",
     "name": "stdout",
     "text": "nada\nnada15\nTrue\n"
    },
    {
     "output_type": "execute_result",
     "data": {
      "text/plain": "True"
     },
     "metadata": {},
     "execution_count": 13
    }
   ],
   "source": [
    "#your code here\n",
    "\n",
    "def f_s(lista):\n",
    "    nada = \"nada\"\n",
    "    print(nada)\n",
    "    concatenacion = nada + str(lista[0])\n",
    "    print(concatenacion)\n",
    "    if len(concatenacion) == 6:\n",
    "        print(True)\n",
    "        return True\n",
    "    else:\n",
    "        print(False)\n",
    "        return False\n",
    "\n",
    "result = f_s(lista=lista_informacion)\n",
    "result"
   ]
  },
  {
   "cell_type": "code",
   "execution_count": 17,
   "metadata": {},
   "outputs": [
    {
     "output_type": "stream",
     "name": "stdout",
     "text": "nada\nnada15\nTrue\n"
    },
    {
     "output_type": "execute_result",
     "data": {
      "text/plain": "True"
     },
     "metadata": {},
     "execution_count": 17
    }
   ],
   "source": [
    "#your code here\n",
    "\n",
    "def f_s(lista):\n",
    "    result = None\n",
    "    nada = \"nada\"\n",
    "    print(nada)\n",
    "    concatenacion = nada + str(lista[0])\n",
    "    print(concatenacion)\n",
    "    if len(concatenacion) == 6:\n",
    "        print(True)\n",
    "        result = True\n",
    "    else:\n",
    "        print(False)\n",
    "        result = False\n",
    "    return result\n",
    "\n",
    "result = f_s(lista=lista_informacion)\n",
    "result"
   ]
  },
  {
   "cell_type": "markdown",
   "metadata": {},
   "source": [
    "20. Crear una lista `lista_aux` con 7 elementos, los que queráis. Después, crear una función `funcion_usa_f_s` que reciba como parámetros `f_s` y `lista`.  Si el valor de `f_s` es **True**, entonces borrar un elemento de `lista`. Si `lista` tiene algún elemento, entonces repetir el proceso hasta que no tenga elementos. El argumento para `lista` ha de ser `lista_aux` y para `f_s` será la función `f_s` del punto anterior."
   ]
  },
  {
   "cell_type": "code",
   "execution_count": 18,
   "metadata": {},
   "outputs": [],
   "source": [
    "#your code here\n",
    "\n",
    "lista_aux = [\"gato\", \"perro\", \"toro\", \"caballo\", \"erizo\", \"periquito\", \"gorrion\"]"
   ]
  },
  {
   "cell_type": "code",
   "execution_count": 21,
   "metadata": {},
   "outputs": [
    {
     "output_type": "stream",
     "name": "stdout",
     "text": "nada\nnada15\nTrue\n"
    },
    {
     "output_type": "execute_result",
     "data": {
      "text/plain": "[]"
     },
     "metadata": {},
     "execution_count": 21
    }
   ],
   "source": [
    "lista_aux = [\"gato\", \"perro\", \"toro\", \"caballo\", \"erizo\", \"periquito\", \"gorrion\"]\n",
    "def funcion_usa_f_s(f_s, lista):\n",
    "    if f_s == True:\n",
    "        lista.pop()\n",
    "        if len(lista) > 0:\n",
    "            funcion_usa_f_s(f_s=f_s, lista=lista)\n",
    "\n",
    "funcion_usa_f_s(f_s=f_s(lista=lista_informacion), lista=lista_aux)\n",
    "lista_aux"
   ]
  },
  {
   "cell_type": "code",
   "execution_count": 25,
   "metadata": {},
   "outputs": [
    {
     "output_type": "execute_result",
     "data": {
      "text/plain": "[0, 1, 2, 3, 4, 5, 6]"
     },
     "metadata": {},
     "execution_count": 25
    }
   ],
   "source": [
    "list(range(7))"
   ]
  },
  {
   "cell_type": "code",
   "execution_count": 24,
   "metadata": {},
   "outputs": [
    {
     "output_type": "stream",
     "name": "stdout",
     "text": "Hola\nHola\nHola\nHola\nHola\n"
    }
   ],
   "source": [
    "for x in range(5):\n",
    "    print(\"Hola\")"
   ]
  },
  {
   "cell_type": "code",
   "execution_count": 26,
   "metadata": {},
   "outputs": [
    {
     "output_type": "execute_result",
     "data": {
      "text/plain": "[0, 1, 2, 3, 4, 5, 6]"
     },
     "metadata": {},
     "execution_count": 26
    }
   ],
   "source": [
    "list(range(7))"
   ]
  },
  {
   "cell_type": "code",
   "execution_count": 30,
   "metadata": {},
   "outputs": [
    {
     "output_type": "stream",
     "name": "stdout",
     "text": "nada\nnada15\nTrue\n"
    },
    {
     "output_type": "execute_result",
     "data": {
      "text/plain": "[]"
     },
     "metadata": {},
     "execution_count": 30
    }
   ],
   "source": [
    "lista_aux = [\"gato\", \"perro\", \"toro\", \"caballo\", \"erizo\", \"periquito\", \"gorrion\"]\n",
    "def funcion_usa_f_s(f_s, lista):\n",
    "    for i in range(len(lista)):\n",
    "        if f_s == True:\n",
    "            lista.pop()\n",
    "            if len(lista) > 0:  # Si la lista tiene algún elemento\n",
    "                pass\n",
    "            else:\n",
    "                break\n",
    "\n",
    "funcion_usa_f_s(f_s=f_s(lista=lista_informacion), lista=lista_aux)\n",
    "lista_aux"
   ]
  },
  {
   "cell_type": "code",
   "execution_count": 28,
   "metadata": {},
   "outputs": [
    {
     "output_type": "stream",
     "name": "stdout",
     "text": "nada\nnada15\nTrue\n"
    },
    {
     "output_type": "execute_result",
     "data": {
      "text/plain": "[]"
     },
     "metadata": {},
     "execution_count": 28
    }
   ],
   "source": [
    "lista_aux = [\"gato\", \"perro\", \"toro\", \"caballo\", \"erizo\", \"periquito\", \"gorrion\"]\n",
    "def funcion_usa_f_s(f_s, lista):\n",
    "    for i in range(len(lista)):\n",
    "        if f_s == True:\n",
    "            lista.pop()\n",
    "            if not lista:\n",
    "                break\n",
    "\n",
    "funcion_usa_f_s(f_s=f_s(lista=lista_informacion), lista=lista_aux)\n",
    "lista_aux"
   ]
  },
  {
   "cell_type": "markdown",
   "metadata": {},
   "source": [
    "21. Definir una función `numeros_pares` que tenga un parámetro de entrada `arg1`, tipo integer. La función debe retornar una lista de números de tamaño `arg1` siendo todos ellos números pares, mostrando dicha lista por pantalla."
   ]
  },
  {
   "cell_type": "code",
   "execution_count": 47,
   "metadata": {},
   "outputs": [
    {
     "output_type": "execute_result",
     "data": {
      "text/plain": "[0, 1, 2, 3]"
     },
     "metadata": {},
     "execution_count": 47
    }
   ],
   "source": [
    "list(range(2*2))"
   ]
  },
  {
   "cell_type": "code",
   "execution_count": 45,
   "metadata": {},
   "outputs": [
    {
     "output_type": "stream",
     "name": "stdout",
     "text": "[0, 2]\nTamaño:  2\n"
    }
   ],
   "source": [
    "#your code here\n",
    "def numeros_pares(arg1):\n",
    "    lista_pares = []\n",
    "    for _ in range(arg1*2):\n",
    "        if (_ % 2) == 0:  # Es par\n",
    "            lista_pares.append(_)\n",
    "    print(lista_pares)\n",
    "    return lista_pares\n",
    "\n",
    "xf2 = int(input(\"Introduce arg1:\"))\n",
    "x = numeros_pares(arg1=xf2)\n",
    "print(\"Tamaño: \", len(x))"
   ]
  },
  {
   "cell_type": "markdown",
   "metadata": {},
   "source": [
    "22. Crear una función que tenga una variable de entrada `arg1`, que será la lista de números pares del apartado anterior, y que elimine elementos de la lista, uno a uno, si `arg1` tiene un tamaño divisible entre 2 y, si no lo tiene, añade, solo una vez, el valor de la función `f_s`."
   ]
  },
  {
   "cell_type": "code",
   "execution_count": 53,
   "metadata": {},
   "outputs": [
    {
     "output_type": "stream",
     "name": "stdout",
     "text": "[0, 2, 4, 6, 8]\nnada\nnada15\nTrue\n[0, 2, 4, 6, 8, True]\n"
    }
   ],
   "source": [
    "#your code here\n",
    "def f_22(arg1):\n",
    "    if len(arg1) % 2 == 0:  # Divisible entre 2\n",
    "        for i in range(len(arg1)):\n",
    "            #print(arg1)\n",
    "            arg1.pop()\n",
    "    else:\n",
    "        arg1.append(f_s(lista=lista_informacion))\n",
    "\n",
    "    print(arg1)\n",
    "\n",
    "f_22(arg1=numeros_pares(arg1=5))\n"
   ]
  },
  {
   "cell_type": "markdown",
   "metadata": {},
   "source": [
    "## Ejercicio 3."
   ]
  },
  {
   "cell_type": "markdown",
   "metadata": {},
   "source": [
    "Para este ejercicio se utilizará la lista `lista_información`. Lista a la que deberás añadir las siguientes variables utilizando el método [append](https://www.w3schools.com/python/ref_list_append.asp):"
   ]
  },
  {
   "cell_type": "markdown",
   "metadata": {},
   "source": [
    "- Un booleano que sea True si utilizas gafas. False para lo contrario. \n",
    "- Un entero que represente tu edad. \n",
    "- Un float que represente el dinero que te has gastado en tu última compra.\n",
    "- Un string que represente el nombre de uno de tus tí@s. Si no tienes, el nombre de uno de tus herman@s. Si no tienes, alguno de tus abuel@s. Si no tienes, el nombre de tu mejor amigo. Y, si no tienes, el nombre de tu psicólog@.\n",
    "- Una lista que tenga como tamaño 5. Cada una de las posiciones debe representar los números que más te gusten en el rango [[0-100]] dividido entre 10. Es decir, si eliges el 11, el número sería el 1.1. Si eliges el 100, sería el 10.  "
   ]
  },
  {
   "cell_type": "code",
   "execution_count": 54,
   "metadata": {},
   "outputs": [
    {
     "output_type": "execute_result",
     "data": {
      "text/plain": "[15, 'Recoletos', False, None, [15, 'Recoletos'], '5']"
     },
     "metadata": {},
     "execution_count": 54
    }
   ],
   "source": [
    "#your code here\n",
    "lista_informacion"
   ]
  },
  {
   "cell_type": "code",
   "execution_count": 56,
   "metadata": {},
   "outputs": [
    {
     "output_type": "execute_result",
     "data": {
      "text/plain": "[1, 2, 3, 'k', 'l']"
     },
     "metadata": {},
     "execution_count": 56
    }
   ],
   "source": [
    "l = [1, 2, 3]\n",
    "k = [\"k\", \"l\"]\n",
    "\n",
    "g = l + k\n",
    "g"
   ]
  },
  {
   "cell_type": "code",
   "execution_count": 24,
   "metadata": {},
   "outputs": [
    {
     "output_type": "execute_result",
     "data": {
      "text/plain": "[15,\n 'Recoletos',\n False,\n None,\n [15, 'Recoletos'],\n '5',\n False,\n 28,\n 3.2,\n 'Rafi',\n [0.5, 0.7, 0.8, 0.2, 0.88]]"
     },
     "metadata": {},
     "execution_count": 24
    }
   ],
   "source": [
    "lista_informacion.append(False)\n",
    "lista_informacion.append(28)\n",
    "lista_informacion.append(3.20)\n",
    "lista_informacion.append(\"Rafi\")\n",
    "lista_informacion.append([0.5, 0.7, 0.8, 0.2, 0.88])\n",
    "lista_informacion"
   ]
  },
  {
   "cell_type": "markdown",
   "metadata": {},
   "source": [
    "Por último, han de eliminarse las variables `nada` y `lista_direccion` de dos formas:\n",
    "\n",
    "- `nada` con el método [remove](https://www.programiz.com/python-programming/methods/list/remove) de una lista. \n",
    "- `lista_direccion` con el método [pop](https://www.programiz.com/python-programming/methods/list/pop) con el que se puede eliminar el elemento de una lista dada una posición. "
   ]
  },
  {
   "cell_type": "code",
   "execution_count": 57,
   "metadata": {},
   "outputs": [
    {
     "output_type": "execute_result",
     "data": {
      "text/plain": "[15,\n 'Recoletos',\n False,\n None,\n [15, 'Recoletos'],\n '5',\n False,\n 28,\n 3.2,\n 'Rafi',\n [0.5, 0.7, 0.8, 0.2, 0.88]]"
     },
     "metadata": {},
     "execution_count": 57
    }
   ],
   "source": [
    "lista_informacion"
   ]
  },
  {
   "cell_type": "code",
   "execution_count": 58,
   "metadata": {},
   "outputs": [
    {
     "output_type": "execute_result",
     "data": {
      "text/plain": "[15,\n 'Recoletos',\n None,\n [15, 'Recoletos'],\n '5',\n False,\n 28,\n 3.2,\n 'Rafi',\n [0.5, 0.7, 0.8, 0.2, 0.88]]"
     },
     "metadata": {},
     "execution_count": 58
    }
   ],
   "source": [
    "#your code here\n",
    "lista_informacion.remove(False)\n",
    "lista_informacion"
   ]
  },
  {
   "cell_type": "code",
   "execution_count": 60,
   "metadata": {},
   "outputs": [
    {
     "output_type": "execute_result",
     "data": {
      "text/plain": "[2,\n 15,\n False,\n 'Recoletos',\n None,\n [15, 'Recoletos'],\n '5',\n False,\n 28,\n 3.2,\n 'Rafi',\n [0.5, 0.7, 0.8, 0.2, 0.88]]"
     },
     "metadata": {},
     "execution_count": 60
    }
   ],
   "source": [
    "lista_informacion.insert(2, False)\n",
    "lista_informacion"
   ]
  },
  {
   "cell_type": "code",
   "execution_count": 61,
   "metadata": {},
   "outputs": [
    {
     "output_type": "execute_result",
     "data": {
      "text/plain": "2"
     },
     "metadata": {},
     "execution_count": 61
    }
   ],
   "source": [
    "d = lista_informacion.pop(0)\n",
    "d"
   ]
  },
  {
   "cell_type": "code",
   "execution_count": 63,
   "metadata": {},
   "outputs": [
    {
     "output_type": "execute_result",
     "data": {
      "text/plain": "[15,\n 'Recoletos',\n None,\n [15, 'Recoletos'],\n '5',\n False,\n 28,\n 3.2,\n 'Rafi',\n [0.5, 0.7, 0.8, 0.2, 0.88]]"
     },
     "metadata": {},
     "execution_count": 63
    }
   ],
   "source": [
    "lista_informacion.remove(False)\n",
    "lista_informacion"
   ]
  },
  {
   "cell_type": "code",
   "execution_count": 64,
   "metadata": {},
   "outputs": [
    {
     "output_type": "execute_result",
     "data": {
      "text/plain": "[15,\n 'Recoletos',\n False,\n None,\n [15, 'Recoletos'],\n '5',\n False,\n 28,\n 3.2,\n 'Rafi',\n [0.5, 0.7, 0.8, 0.2, 0.88]]"
     },
     "metadata": {},
     "execution_count": 64
    }
   ],
   "source": [
    "lista_informacion.insert(2, False)\n",
    "lista_informacion"
   ]
  },
  {
   "cell_type": "code",
   "execution_count": 25,
   "metadata": {},
   "outputs": [
    {
     "output_type": "execute_result",
     "data": {
      "text/plain": "[15,\n 'Recoletos',\n False,\n [15, 'Recoletos'],\n '5',\n False,\n 28,\n 3.2,\n 'Rafi',\n [0.5, 0.7, 0.8, 0.2, 0.88]]"
     },
     "metadata": {},
     "execution_count": 25
    }
   ],
   "source": [
    "lista_informacion.remove(None)\n",
    "lista_informacion"
   ]
  },
  {
   "cell_type": "code",
   "execution_count": 27,
   "metadata": {},
   "outputs": [
    {
     "output_type": "execute_result",
     "data": {
      "text/plain": "[15,\n 'Recoletos',\n False,\n '5',\n False,\n 28,\n 3.2,\n 'Rafi',\n [0.5, 0.7, 0.8, 0.2, 0.88]]"
     },
     "metadata": {},
     "execution_count": 27
    }
   ],
   "source": [
    "lista_informacion.pop(3)\n",
    "lista_informacion"
   ]
  },
  {
   "cell_type": "markdown",
   "metadata": {},
   "source": [
    "## Ejercicio 4."
   ]
  },
  {
   "cell_type": "markdown",
   "metadata": {},
   "source": [
    "**Creación de funciones con return preparatorio.**"
   ]
  },
  {
   "cell_type": "markdown",
   "metadata": {},
   "source": [
    "A partir de ahora solo se utilizará la `lista_informacion` actualizada. La `lista_informacion` debe contener 9 elementos. \n",
    "\n"
   ]
  },
  {
   "cell_type": "markdown",
   "metadata": {},
   "source": [
    "\n",
    "1. Función `nb` que reciba por parámetro `lista` y que retorne el número de The Bridge.\n",
    "\n"
   ]
  },
  {
   "cell_type": "code",
   "execution_count": 26,
   "metadata": {},
   "outputs": [
    {
     "output_type": "execute_result",
     "data": {
      "text/plain": "[15,\n 'Recoletos',\n False,\n [15, 'Recoletos'],\n '5',\n False,\n 28,\n 3.2,\n 'Rafi',\n [0.5, 0.7, 0.8, 0.2, 0.88]]"
     },
     "metadata": {},
     "execution_count": 26
    }
   ],
   "source": [
    "lista_informacion"
   ]
  },
  {
   "cell_type": "code",
   "execution_count": 68,
   "metadata": {},
   "outputs": [
    {
     "output_type": "execute_result",
     "data": {
      "text/plain": "15"
     },
     "metadata": {},
     "execution_count": 68
    }
   ],
   "source": [
    "#your code here\n",
    "def nb(lista):\n",
    "    return lista[0]\n",
    "\n",
    "nb(lista=lista_informacion) "
   ]
  },
  {
   "cell_type": "markdown",
   "metadata": {},
   "source": [
    "2. Función `nc` que reciba por parámetro `lista` y que retorne el nombre de la calle de The Bridge.\n"
   ]
  },
  {
   "cell_type": "code",
   "execution_count": 69,
   "metadata": {},
   "outputs": [
    {
     "output_type": "execute_result",
     "data": {
      "text/plain": "[15,\n 'Recoletos',\n False,\n '5',\n False,\n 28,\n 3.2,\n 'Rafi',\n [0.5, 0.7, 0.8, 0.2, 0.88]]"
     },
     "metadata": {},
     "execution_count": 69
    }
   ],
   "source": [
    "lista_informacion"
   ]
  },
  {
   "cell_type": "code",
   "execution_count": 70,
   "metadata": {},
   "outputs": [
    {
     "output_type": "execute_result",
     "data": {
      "text/plain": "'Recoletos'"
     },
     "metadata": {},
     "execution_count": 70
    }
   ],
   "source": [
    "#your code here\n",
    "def nc(lista):\n",
    "    return lista[1]\n",
    "\n",
    "nc(lista=lista_informacion)"
   ]
  },
  {
   "cell_type": "markdown",
   "metadata": {},
   "source": [
    "3. Función `gp` que reciba por parámetro `lista` y que retorne tu gusto personal.\n"
   ]
  },
  {
   "cell_type": "code",
   "execution_count": 71,
   "metadata": {},
   "outputs": [
    {
     "output_type": "execute_result",
     "data": {
      "text/plain": "False"
     },
     "metadata": {},
     "execution_count": 71
    }
   ],
   "source": [
    "#your code here\n",
    "def gp(lista):\n",
    "    return lista[2]\n",
    "\n",
    "gp(lista=lista_informacion)"
   ]
  },
  {
   "cell_type": "markdown",
   "metadata": {},
   "source": [
    "4. Función `hs` que reciba por parámetro `lista` y que retorne las horas de sueño.\n"
   ]
  },
  {
   "cell_type": "code",
   "execution_count": 72,
   "metadata": {},
   "outputs": [
    {
     "output_type": "execute_result",
     "data": {
      "text/plain": "'5'"
     },
     "metadata": {},
     "execution_count": 72
    }
   ],
   "source": [
    "#your code here\n",
    "def hs(lista):\n",
    "    return lista[3]\n",
    "\n",
    "hs(lista=lista_informacion)"
   ]
  },
  {
   "cell_type": "markdown",
   "metadata": {},
   "source": [
    "5. Función `ul` que reciba por parámetro `lista` y que retorne la última posicón de `lista`."
   ]
  },
  {
   "cell_type": "code",
   "execution_count": 73,
   "metadata": {},
   "outputs": [
    {
     "output_type": "execute_result",
     "data": {
      "text/plain": "[0.5, 0.7, 0.8, 0.2, 0.88]"
     },
     "metadata": {},
     "execution_count": 73
    }
   ],
   "source": [
    "#your code here\n",
    "def ul(lista):\n",
    "    return lista[-1]\n",
    "\n",
    "ul(lista=lista_informacion)"
   ]
  },
  {
   "cell_type": "markdown",
   "metadata": {},
   "source": [
    "A partir de este momento, si se requiere utilizar uno de estos valores, se accederá a ellos a partir de las funciones anteriormente creadas, no directamente desde la lista."
   ]
  },
  {
   "cell_type": "markdown",
   "metadata": {},
   "source": [
    "## Apartado 5. "
   ]
  },
  {
   "cell_type": "markdown",
   "metadata": {},
   "source": [
    "**Break en bucles for.**"
   ]
  },
  {
   "cell_type": "markdown",
   "metadata": {},
   "source": [
    "1. Función `string_mayor_5` que reciba por parámetro `lista` y que al llamarla recibirá como argumento`lista_informacion`. Se debe recorrer `lista` transformando cada elemento en string y, si el tamaño del string es mayor a 5, el bucle debe parar. La función ha de devolver el primer elemento con string mayor a 5."
   ]
  },
  {
   "cell_type": "code",
   "execution_count": 75,
   "metadata": {},
   "outputs": [
    {
     "output_type": "execute_result",
     "data": {
      "text/plain": "[15,\n 'Recoletos',\n False,\n '5',\n False,\n 28,\n 3.2,\n 'Rafi',\n [0.5, 0.7, 0.8, 0.2, 0.88]]"
     },
     "metadata": {},
     "execution_count": 75
    }
   ],
   "source": [
    "lista_informacion"
   ]
  },
  {
   "cell_type": "code",
   "execution_count": 77,
   "metadata": {},
   "outputs": [
    {
     "output_type": "execute_result",
     "data": {
      "text/plain": "'Recoletos'"
     },
     "metadata": {},
     "execution_count": 77
    }
   ],
   "source": [
    "#your code here\n",
    "\n",
    "def string_mayor_5(lista):\n",
    "    for elem in lista:\n",
    "        elem_str = str(elem)\n",
    "        if len(elem_str) > 5:\n",
    "            break\n",
    "    return elem_str\n",
    "\n",
    "string_mayor_5(lista=lista_informacion)"
   ]
  },
  {
   "cell_type": "code",
   "execution_count": null,
   "metadata": {},
   "outputs": [],
   "source": [
    "\n",
    "def string_mayor_5(lista):\n",
    "    result = None\n",
    "    for elem in lista:\n",
    "        elem_str = str(elem)\n",
    "        if len(elem_str) > 5:\n",
    "            result = elem_str\n",
    "            break\n",
    "    return result\n",
    "\n",
    "string_mayor_5(lista=lista_informacion)"
   ]
  },
  {
   "cell_type": "markdown",
   "metadata": {},
   "source": [
    "2. Función `lista_consecutivos` que recibe por parámetro `limite`. Debe retornar una lista con números que empiece en el 0 y acabe en el número `limite`. Al llamar a la función `limite` será 18. "
   ]
  },
  {
   "cell_type": "code",
   "execution_count": 79,
   "metadata": {},
   "outputs": [
    {
     "output_type": "execute_result",
     "data": {
      "text/plain": "[0, 1, 2, 3, 4, 5, 6, 7, 8, 9, 10, 11, 12, 13, 14, 15, 16, 17, 18]"
     },
     "metadata": {},
     "execution_count": 79
    }
   ],
   "source": [
    "list(range(18+1))"
   ]
  },
  {
   "cell_type": "code",
   "execution_count": 9,
   "metadata": {},
   "outputs": [
    {
     "output_type": "execute_result",
     "data": {
      "text/plain": "[0, 1, 2, 3, 4, 5, 6, 7, 8, 9, 10, 11, 12, 13, 14, 15, 16, 17, 18]"
     },
     "metadata": {},
     "execution_count": 9
    }
   ],
   "source": [
    "#your code here\n",
    "def lista_consecutivos(limite):\n",
    "    lista = []\n",
    "    for i in range(limite+1):\n",
    "        lista.append(i)\n",
    "    return lista\n",
    "\n",
    "lista_consecutivos(limite=18)\n"
   ]
  },
  {
   "cell_type": "code",
   "execution_count": 16,
   "metadata": {},
   "outputs": [
    {
     "output_type": "execute_result",
     "data": {
      "text/plain": "[0, 1, 2, 3, 4]"
     },
     "metadata": {},
     "execution_count": 16
    }
   ],
   "source": [
    "x = lista_consecutivos\n",
    "y = x(limite=4)\n",
    "y"
   ]
  },
  {
   "cell_type": "code",
   "execution_count": 81,
   "metadata": {},
   "outputs": [
    {
     "output_type": "execute_result",
     "data": {
      "text/plain": "[0, 1, 2, 3, 4, 5, 6, 7, 8, 9, 10, 11, 12, 13, 14, 15, 16, 17, 18]"
     },
     "metadata": {},
     "execution_count": 81
    }
   ],
   "source": [
    "#your code here\n",
    "def lista_consecutivos(limite):\n",
    "    return list(range(limite+1))\n",
    "\n",
    "lista_consecutivos(limite=18)"
   ]
  },
  {
   "cell_type": "code",
   "execution_count": null,
   "metadata": {},
   "outputs": [],
   "source": [
    "def lista_consecutivos_elsa(limite):\n",
    "    acum = 0\n",
    "    for i in range(limite):\n",
    "        if i == 18:\n",
    "            break\n",
    "        elif print(i):\n",
    "            i += 1\n",
    "        \n"
   ]
  },
  {
   "cell_type": "code",
   "execution_count": 85,
   "metadata": {},
   "outputs": [
    {
     "output_type": "stream",
     "name": "stdout",
     "text": "1\n"
    }
   ],
   "source": [
    "if print(1):\n",
    "    print(\"X\")"
   ]
  },
  {
   "cell_type": "code",
   "execution_count": 86,
   "metadata": {},
   "outputs": [
    {
     "output_type": "stream",
     "name": "stdout",
     "text": "1\nNone\n"
    }
   ],
   "source": [
    "x = print(1)\n",
    "print(x)"
   ]
  },
  {
   "cell_type": "markdown",
   "metadata": {},
   "source": []
  },
  {
   "cell_type": "markdown",
   "metadata": {},
   "source": [
    "**\"Mirar el ejemplo de cómo llamar a la función\"**\n",
    "\n",
    "Define la función `posicion_15`. Ésta, recibe dos parámetros, `funcion_lista_consecutivos` y `lista`. La función `posicion_15` deberá devolver el elemento de la posición 15 de la lista que retorna la función `funcion_lista_consecutivos`, que tiene como valor la función `lista_consecutivos` (no lo que retorna). \n",
    "\n",
    "Dentro de esta función `posicion_15`, es donde habrá que llamar a `funcion_lista_consecutivos`, dándole como argumento el tamaño de `lista` multiplicado por 2.\n",
    "\n",
    "```python\n",
    "#Ejemplo:\n",
    "x = posicion_15(funcion_lista_consecutivos=lista_consecutivos,\n",
    "                lista=lista_informacion)\n",
    "``` \n",
    "\n",
    "\n"
   ]
  },
  {
   "cell_type": "code",
   "execution_count": 22,
   "metadata": {},
   "outputs": [
    {
     "output_type": "stream",
     "name": "stdout",
     "text": "funcion: <function lista_consecutivos at 0x000001BE05257D08>\n--------------\nlista: [0, 1, 2, 3, 4, 5, 6, 7, 8, 9, 10, 11, 12, 13, 14, 15]\n---------------\n"
    },
    {
     "output_type": "execute_result",
     "data": {
      "text/plain": "[0, 1, 2, 3, 4, 5, 6, 7, 8, 9, 10, 11, 12, 13, 14, 15]"
     },
     "metadata": {},
     "execution_count": 22
    }
   ],
   "source": [
    "funcion = lista_consecutivos\n",
    "print(\"funcion:\", funcion)\n",
    "lista = lista_consecutivos(limite=15)\n",
    "print(\"--------------\")\n",
    "print(\"lista:\", lista)\n",
    "print(\"---------------\")\n",
    "result_funcion = funcion(limite=15)\n",
    "result_funcion"
   ]
  },
  {
   "cell_type": "code",
   "execution_count": 23,
   "metadata": {},
   "outputs": [
    {
     "output_type": "execute_result",
     "data": {
      "text/plain": "[15, 'Recoletos', False, None, [15, 'Recoletos'], '5']"
     },
     "metadata": {},
     "execution_count": 23
    }
   ],
   "source": [
    "lista_informacion"
   ]
  },
  {
   "cell_type": "code",
   "execution_count": null,
   "metadata": {},
   "outputs": [],
   "source": [
    "def posicion_15(funcion_lista_consecutivos, lista):\n",
    "    result = funcion_lista_consecutivos(limite=len(lista)*2)\n",
    "    return result[15]\n",
    "\n",
    "x = posicion_15(funcion_lista_consecutivos=lista_consecutivos,\n",
    "                lista=lista_informacion)"
   ]
  },
  {
   "cell_type": "code",
   "execution_count": 97,
   "metadata": {},
   "outputs": [
    {
     "output_type": "execute_result",
     "data": {
      "text/plain": "[0, 1, 2, 3, 4, 5, 6, 7, 8, 9, 10, 11, 12, 13, 14, 15, 16, 17, 18]"
     },
     "metadata": {},
     "execution_count": 97
    }
   ],
   "source": [
    "j = lista_consecutivos\n",
    "j(limite=18)"
   ]
  },
  {
   "cell_type": "code",
   "execution_count": 95,
   "metadata": {},
   "outputs": [
    {
     "output_type": "stream",
     "name": "stdout",
     "text": "9\n"
    },
    {
     "output_type": "execute_result",
     "data": {
      "text/plain": "15"
     },
     "metadata": {},
     "execution_count": 95
    }
   ],
   "source": [
    "#your code here\n",
    "\n",
    "def posicion_15(funcion_lista_consecutivos, lista):\n",
    "    tamano_lista_por_2 = len(lista) * 2\n",
    "    lo_que_retorna_lista_consecutivos = funcion_lista_consecutivos(limite=tamano_lista_por_2)\n",
    "\n",
    "    return lo_que_retorna_lista_consecutivos[15]\n",
    "\n",
    "x = posicion_15(funcion_lista_consecutivos=lista_consecutivos,\n",
    "                lista=lista_informacion)\n",
    "print(len(lista_informacion))\n",
    "x"
   ]
  },
  {
   "cell_type": "code",
   "execution_count": 99,
   "metadata": {},
   "outputs": [
    {
     "output_type": "stream",
     "name": "stdout",
     "text": "9\n"
    },
    {
     "output_type": "execute_result",
     "data": {
      "text/plain": "15"
     },
     "metadata": {},
     "execution_count": 99
    }
   ],
   "source": [
    "#your code here\n",
    "\n",
    "def posicion_15(funcion_lista_consecutivos, lista):\n",
    "    return funcion_lista_consecutivos(limite=len(lista)*2)[15]\n",
    "\n",
    "x = posicion_15(funcion_lista_consecutivos=lista_consecutivos,\n",
    "                lista=lista_informacion)\n",
    "print(len(lista_informacion))\n",
    "x"
   ]
  },
  {
   "cell_type": "markdown",
   "metadata": {},
   "source": [
    "## Ejercicio 6. "
   ]
  },
  {
   "cell_type": "markdown",
   "metadata": {},
   "source": [
    "**Bucle while.**"
   ]
  },
  {
   "cell_type": "markdown",
   "metadata": {},
   "source": [
    "1. Crear una función que reciba por parámetro `lista` y que muestre todos los elementos que tiene usando un bucle `while`. Llamar a la función con el argumento `lista_informacion`."
   ]
  },
  {
   "cell_type": "code",
   "execution_count": 28,
   "metadata": {},
   "outputs": [
    {
     "output_type": "execute_result",
     "data": {
      "text/plain": "[15,\n 'Recoletos',\n False,\n '5',\n False,\n 28,\n 3.2,\n 'Rafi',\n [0.5, 0.7, 0.8, 0.2, 0.88]]"
     },
     "metadata": {},
     "execution_count": 28
    }
   ],
   "source": [
    "lista_informacion"
   ]
  },
  {
   "cell_type": "code",
   "execution_count": 29,
   "metadata": {},
   "outputs": [
    {
     "output_type": "stream",
     "name": "stdout",
     "text": "4\n"
    }
   ],
   "source": [
    "lista = [\"a\", \"b\", \"c\", \"d\"]\n",
    "lista_posiciones = [0, 1, 2, 3]\n",
    "\n",
    "print(len(lista))"
   ]
  },
  {
   "cell_type": "code",
   "execution_count": 31,
   "metadata": {},
   "outputs": [
    {
     "output_type": "execute_result",
     "data": {
      "text/plain": "'d'"
     },
     "metadata": {},
     "execution_count": 31
    }
   ],
   "source": [
    "lista[len(lista)-1]"
   ]
  },
  {
   "cell_type": "code",
   "execution_count": 30,
   "metadata": {},
   "outputs": [
    {
     "output_type": "execute_result",
     "data": {
      "text/plain": "'d'"
     },
     "metadata": {},
     "execution_count": 30
    }
   ],
   "source": [
    "lista[3]"
   ]
  },
  {
   "cell_type": "code",
   "execution_count": 104,
   "metadata": {},
   "outputs": [
    {
     "output_type": "stream",
     "name": "stdout",
     "text": "15\nRecoletos\nFalse\n5\nFalse\n28\n3.2\nRafi\n[0.5, 0.7, 0.8, 0.2, 0.88]\n"
    }
   ],
   "source": [
    "#your code here\n",
    "def f_6_1(lista):\n",
    "    acum = 0\n",
    "    while acum <= len(lista) - 1:  # acum = [0-8]\n",
    "        print(lista[acum])\n",
    "        acum += 1\n",
    "\n",
    "f_6_1(lista=lista_informacion)"
   ]
  },
  {
   "cell_type": "code",
   "execution_count": 32,
   "metadata": {},
   "outputs": [
    {
     "output_type": "execute_result",
     "data": {
      "text/plain": "[15,\n 'Recoletos',\n False,\n '5',\n False,\n 28,\n 3.2,\n 'Rafi',\n [0.5, 0.7, 0.8, 0.2, 0.88]]"
     },
     "metadata": {},
     "execution_count": 32
    }
   ],
   "source": [
    "lista_informacion"
   ]
  },
  {
   "cell_type": "code",
   "execution_count": 33,
   "metadata": {},
   "outputs": [
    {
     "output_type": "stream",
     "name": "stdout",
     "text": "15\nRecoletos\nFalse\n5\nFalse\n28\n3.2\nRafi\n[0.5, 0.7, 0.8, 0.2, 0.88]\n"
    }
   ],
   "source": [
    "#your code here\n",
    "def f_6_1(lista):\n",
    "    acum = 0\n",
    "    while acum < len(lista):  # acum = [0-8]\n",
    "        print(lista[acum])\n",
    "        acum += 1\n",
    "\n",
    "f_6_1(lista=lista_informacion)"
   ]
  },
  {
   "cell_type": "code",
   "execution_count": null,
   "metadata": {},
   "outputs": [],
   "source": []
  },
  {
   "cell_type": "markdown",
   "metadata": {},
   "source": [
    "2. Realizar todos los apartados del **ejercicio 2** cuyo enunciado aparece la palabra *'recorrer'* con bucle `while` en vez de bucle `for`."
   ]
  },
  {
   "cell_type": "code",
   "execution_count": null,
   "metadata": {},
   "outputs": [],
   "source": []
  },
  {
   "cell_type": "markdown",
   "metadata": {},
   "source": [
    "Recorrer lista para mostrar todos los elementos que contiene concatenados con el string \"--> OK\""
   ]
  },
  {
   "cell_type": "code",
   "execution_count": 35,
   "metadata": {},
   "outputs": [
    {
     "output_type": "execute_result",
     "data": {
      "text/plain": "[15,\n 'Recoletos',\n False,\n '5',\n False,\n 28,\n 3.2,\n 'Rafi',\n [0.5, 0.7, 0.8, 0.2, 0.88]]"
     },
     "metadata": {},
     "execution_count": 35
    }
   ],
   "source": [
    "lista_informacion"
   ]
  },
  {
   "cell_type": "code",
   "execution_count": 36,
   "metadata": {},
   "outputs": [
    {
     "output_type": "stream",
     "name": "stdout",
     "text": "15--> OK\nRecoletos--> OK\nFalse--> OK\n5--> OK\nFalse--> OK\n28--> OK\n3.2--> OK\nRafi--> OK\n[0.5, 0.7, 0.8, 0.2, 0.88]--> OK\n"
    }
   ],
   "source": [
    "#your code here\n",
    "\n",
    "def while_2_1(lista):\n",
    "    pos = 0\n",
    "    while pos <= len(lista) - 1:\n",
    "        print(str(lista[pos]) + \"--> OK\")\n",
    "        pos += 1\n",
    "\n",
    "while_2_1(lista=lista_informacion)"
   ]
  },
  {
   "cell_type": "code",
   "execution_count": 37,
   "metadata": {},
   "outputs": [
    {
     "output_type": "stream",
     "name": "stdout",
     "text": "Recoletos\nFalse\n5\nFalse\n28\n3.2\nRafi\n[0.5, 0.7, 0.8, 0.2, 0.88]\n"
    }
   ],
   "source": [
    "\n",
    "def while_2_2(lista):\n",
    "    pos = 0\n",
    "    while pos <= len(lista) - 1:\n",
    "        if pos > 0:\n",
    "            print(lista[pos])\n",
    "        pos += 1\n",
    "\n",
    "while_2_1(lista=lista_informacion)"
   ]
  },
  {
   "cell_type": "code",
   "execution_count": 38,
   "metadata": {},
   "outputs": [
    {
     "output_type": "execute_result",
     "data": {
      "text/plain": "[15,\n 'Recoletos',\n False,\n '5',\n False,\n 28,\n 3.2,\n 'Rafi',\n [0.5, 0.7, 0.8, 0.2, 0.88]]"
     },
     "metadata": {},
     "execution_count": 38
    }
   ],
   "source": [
    "lista_informacion"
   ]
  },
  {
   "cell_type": "code",
   "execution_count": 40,
   "metadata": {},
   "outputs": [
    {
     "output_type": "stream",
     "name": "stdout",
     "text": "Recoletos\nFalse\n5\nFalse\n28\n3.2\nRafi\n[0.5, 0.7, 0.8, 0.2, 0.88]\n"
    }
   ],
   "source": [
    "def while_2_2(lista):\n",
    "    pos = 1\n",
    "    while pos <= len(lista) - 1:\n",
    "        print(lista[pos])\n",
    "        pos += 1\n",
    "\n",
    "while_2_2(lista=lista_informacion)"
   ]
  },
  {
   "cell_type": "code",
   "execution_count": 41,
   "metadata": {},
   "outputs": [
    {
     "output_type": "stream",
     "name": "stdout",
     "text": "15\nRecoletos\nFalse\n5\nFalse\n28\n3.2\nRafi\n"
    }
   ],
   "source": [
    "def while_2_3(lista):\n",
    "    pos = 0\n",
    "    while pos <= len(lista) - 1:\n",
    "        if pos < len(lista) - 1:\n",
    "            print(lista[pos])\n",
    "        pos += 1\n",
    "\n",
    "while_2_3(lista=lista_informacion)"
   ]
  },
  {
   "cell_type": "code",
   "execution_count": 42,
   "metadata": {},
   "outputs": [
    {
     "output_type": "stream",
     "name": "stdout",
     "text": "15\nRecoletos\nFalse\n5\nFalse\n28\n3.2\nRafi\n"
    }
   ],
   "source": [
    "def while_2_3(lista):\n",
    "    pos = 0\n",
    "    while pos < len(lista) - 1:\n",
    "        print(lista[pos])\n",
    "        pos += 1\n",
    "\n",
    "while_2_3(lista=lista_informacion)"
   ]
  },
  {
   "cell_type": "code",
   "execution_count": 43,
   "metadata": {},
   "outputs": [
    {
     "output_type": "execute_result",
     "data": {
      "text/plain": "[15,\n 'Recoletos',\n False,\n '5',\n False,\n 28,\n 3.2,\n 'Rafi',\n [0.5, 0.7, 0.8, 0.2, 0.88]]"
     },
     "metadata": {},
     "execution_count": 43
    }
   ],
   "source": [
    "lista_informacion"
   ]
  },
  {
   "cell_type": "code",
   "execution_count": null,
   "metadata": {},
   "outputs": [],
   "source": [
    "def while_2_4(lista):\n",
    "    pos = 0\n",
    "    while pos <= len(lista) - 1:\n",
    "        if pos != 0 and pos != len(lista) - 1:\n",
    "            print(lista[pos])\n",
    "        pos += 1\n",
    "\n",
    "while_2_4(lista=lista_informacion)"
   ]
  },
  {
   "cell_type": "code",
   "execution_count": 44,
   "metadata": {},
   "outputs": [
    {
     "output_type": "stream",
     "name": "stdout",
     "text": "Recoletos\nFalse\n5\nFalse\n28\n3.2\nRafi\n"
    }
   ],
   "source": [
    "def while_2_4(lista):\n",
    "    pos = 1\n",
    "    while pos < len(lista) - 1:\n",
    "        print(lista[pos])\n",
    "        pos += 1\n",
    "\n",
    "while_2_4(lista=lista_informacion)"
   ]
  },
  {
   "cell_type": "code",
   "execution_count": 45,
   "metadata": {},
   "outputs": [
    {
     "output_type": "execute_result",
     "data": {
      "text/plain": "[15,\n 'Recoletos',\n False,\n '5',\n False,\n 28,\n 3.2,\n 'Rafi',\n [0.5, 0.7, 0.8, 0.2, 0.88]]"
     },
     "metadata": {},
     "execution_count": 45
    }
   ],
   "source": [
    "lista_informacion"
   ]
  },
  {
   "cell_type": "code",
   "execution_count": 46,
   "metadata": {},
   "outputs": [
    {
     "output_type": "stream",
     "name": "stdout",
     "text": "15\nRecoletos\nFalse\n5\nFalse\n28\n3.2\nRafi\n[0.7, 0.8, 0.2, 0.88]\n"
    }
   ],
   "source": [
    "def while_2_5(lista):\n",
    "    pos = 0\n",
    "    while pos <= len(lista) - 1:\n",
    "        if pos != len(lista) - 1:\n",
    "            print(lista[pos])\n",
    "        else:\n",
    "            print(lista[pos][1:])\n",
    "        pos += 1\n",
    "\n",
    "while_2_5(lista=lista_informacion)"
   ]
  },
  {
   "cell_type": "code",
   "execution_count": 48,
   "metadata": {},
   "outputs": [
    {
     "output_type": "execute_result",
     "data": {
      "text/plain": "[15,\n 'Recoletos',\n False,\n '5',\n False,\n 28,\n 3.2,\n 'Rafi',\n [0.5, 0.7, 0.8, 0.2, 0.88]]"
     },
     "metadata": {},
     "execution_count": 48
    }
   ],
   "source": [
    "lista_informacion"
   ]
  },
  {
   "cell_type": "code",
   "execution_count": 50,
   "metadata": {},
   "outputs": [
    {
     "output_type": "stream",
     "name": "stdout",
     "text": "15\nRecoletos\nFalse\n5\nFalse\n28\n3.2\nRafi\n0.7\n0.8\n0.2\n0.88\n"
    }
   ],
   "source": [
    "def while_2_5(lista):\n",
    "    pos = 0\n",
    "    while pos <= len(lista) - 1:\n",
    "        if pos != len(lista) - 1:\n",
    "            print(lista[pos])\n",
    "        else:\n",
    "            for i, elem in enumerate(lista[pos]):\n",
    "                if i != 0:\n",
    "                    print(elem)\n",
    "        pos += 1\n",
    "\n",
    "while_2_5(lista=lista_informacion)"
   ]
  },
  {
   "cell_type": "code",
   "execution_count": null,
   "metadata": {},
   "outputs": [],
   "source": [
    "# TODO 2.13 \n",
    "# 6.2 \n",
    "# while 2.6"
   ]
  },
  {
   "cell_type": "code",
   "execution_count": 53,
   "metadata": {},
   "outputs": [
    {
     "output_type": "stream",
     "name": "stdout",
     "text": "hola me llamo Rosario y en el año 591591\n"
    }
   ],
   "source": [
    "x = int(input(\"Inserta un número:\"))\n",
    "for i in range(x):\n",
    "    print(\"hola me llamo Rosario y en el año 591591\")"
   ]
  },
  {
   "cell_type": "code",
   "execution_count": 57,
   "metadata": {},
   "outputs": [
    {
     "output_type": "stream",
     "name": "stdout",
     "text": "hola me llamo Rosario y en el año 591591 \nhola me llamo Rosario y en el año 591591 \nhola me llamo Rosario y en el año 591591 \nhola me llamo Rosario y en el año 591591 \nhola me llamo Rosario y en el año 591591 \nhola me llamo Rosario y en el año 591591 \n\n"
    }
   ],
   "source": [
    "f = \"hola me llamo Rosario y en el año 591591 \\n\"\n",
    "print(f*6)"
   ]
  },
  {
   "cell_type": "markdown",
   "metadata": {},
   "source": [
    "3. Realizar el **ejercicio 5** con bucle `while` en vez de bucle `for`. "
   ]
  },
  {
   "cell_type": "code",
   "execution_count": null,
   "metadata": {},
   "outputs": [],
   "source": [
    "#your code here"
   ]
  },
  {
   "cell_type": "markdown",
   "metadata": {},
   "source": [
    "4. Realizar una función que realice la [serie de Fibonacci](https://quantdare.com/numeros-de-fibonacci/#:~:text=En%20matem%C3%A1ticas%2C%20la%20sucesi%C3%B3n%20o,nombre%20de%20n%C3%BAmero%20de%20Fibonacci.) con un `while`."
   ]
  },
  {
   "cell_type": "code",
   "execution_count": null,
   "metadata": {},
   "outputs": [],
   "source": [
    "#your code here"
   ]
  },
  {
   "cell_type": "markdown",
   "metadata": {},
   "source": [
    "## Ejercicio 7. "
   ]
  },
  {
   "cell_type": "markdown",
   "metadata": {},
   "source": [
    "**Importación de módulos.**"
   ]
  },
  {
   "cell_type": "markdown",
   "metadata": {},
   "source": [
    "Un módulo representa un fichero de extensión `.py` que contiene código python. Importando un módulo, podemos acceder a todas las variables, funciones y clases no privadas que contiene. \n",
    "\n",
    "En la propia carpeta del día de hoy, hay un fichero llamado `nombre_modulo.py`. Vamos a importarlo y usar alguna de sus variables y funciones. "
   ]
  },
  {
   "cell_type": "markdown",
   "metadata": {},
   "source": [
    "Al igual que con los demás objetos, una vez que se ha importado el módulo no hace falta importarlo más veces. "
   ]
  },
  {
   "cell_type": "code",
   "execution_count": null,
   "metadata": {},
   "outputs": [],
   "source": [
    "#your code here"
   ]
  },
  {
   "cell_type": "markdown",
   "metadata": {},
   "source": [
    "## Ejercicio 8. "
   ]
  },
  {
   "cell_type": "markdown",
   "metadata": {},
   "source": [
    "**Nivel pro.**"
   ]
  },
  {
   "cell_type": "markdown",
   "metadata": {},
   "source": [
    "Para cada uno de los siguientes puntos crear un archivo `.py` que se ejecutará a través de la terminal. Estando en la carpeta que contiene el `.py`correspondiente, se ejecutará con el siguiente comando: `python3 nombre_del_programa.py`"
   ]
  },
  {
   "cell_type": "markdown",
   "metadata": {},
   "source": [
    "1. Programa **una calculadora** que pregunte por pantalla dos números y dos operadores. Se debe realizar primero una operación y luego otra. Trata de definir el mayor número de funciones posibles. "
   ]
  },
  {
   "cell_type": "code",
   "execution_count": null,
   "metadata": {},
   "outputs": [],
   "source": [
    "#your code here"
   ]
  },
  {
   "cell_type": "markdown",
   "metadata": {},
   "source": [
    "2. Programa, definiendo funciones, el juego **piedra, papel o tijera**. "
   ]
  },
  {
   "cell_type": "code",
   "execution_count": null,
   "metadata": {},
   "outputs": [],
   "source": [
    "#your code here"
   ]
  },
  {
   "cell_type": "markdown",
   "metadata": {},
   "source": [
    "3. Haz un programa que, a partir de las strings `\"|\"` y `\"_\"`, muestre por pantalla un **tablero de ajedrez** 8x8. "
   ]
  },
  {
   "cell_type": "code",
   "execution_count": null,
   "metadata": {},
   "outputs": [],
   "source": [
    "#your code here"
   ]
  },
  {
   "cell_type": "markdown",
   "metadata": {},
   "source": [
    "4. Haz un programa utilizando `while` que genere una **baraja de cartas** de 4 palos distintos. La baraja ha de tener 40 cartas. "
   ]
  },
  {
   "cell_type": "code",
   "execution_count": null,
   "metadata": {},
   "outputs": [],
   "source": [
    "#your code here"
   ]
  },
  {
   "cell_type": "markdown",
   "metadata": {},
   "source": [
    "## Si has llegado hasta aquí, you are a **champion**"
   ]
  },
  {
   "cell_type": "markdown",
   "metadata": {},
   "source": [
    "![yay](https://media.giphy.com/media/l522kgooW2Qo9xtK5Z/giphy.gif)"
   ]
  },
  {
   "cell_type": "code",
   "execution_count": null,
   "metadata": {},
   "outputs": [],
   "source": []
  }
 ],
 "metadata": {
  "file_extension": ".py",
  "kernelspec": {
   "display_name": "Python 3",
   "language": "python",
   "name": "python3"
  },
  "language_info": {
   "codemirror_mode": {
    "name": "ipython",
    "version": 3
   },
   "file_extension": ".py",
   "mimetype": "text/x-python",
   "name": "python",
   "nbconvert_exporter": "python",
   "pygments_lexer": "ipython3",
   "version": "3.6.4-final"
  },
  "mimetype": "text/x-python",
  "name": "python",
  "npconvert_exporter": "python",
  "pygments_lexer": "ipython3",
  "version": 3
 },
 "nbformat": 4,
 "nbformat_minor": 4
}