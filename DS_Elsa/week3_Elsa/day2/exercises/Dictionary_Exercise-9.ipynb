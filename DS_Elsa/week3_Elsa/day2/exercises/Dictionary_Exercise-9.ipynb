{
 "cells": [
  {
   "cell_type": "markdown",
   "metadata": {},
   "source": [
    "### 9. Ejercicios: \n",
    "\n",
    "- Crea dos listas: una que tenga 4 nombres de ciudades y otra que tenga 4 lugares emblemáticos de la ciudad. "
   ]
  },
  {
   "cell_type": "code",
   "execution_count": null,
   "metadata": {},
   "outputs": [],
   "source": [
    "# Code"
   ]
  },
  {
   "cell_type": "markdown",
   "metadata": {},
   "source": [
    "### A partir de funciones con diccionarios:\n",
    "\n",
    "- Crea un diccionario con un entero 5 como key y \"val\" como su value. "
   ]
  },
  {
   "cell_type": "code",
   "execution_count": null,
   "metadata": {},
   "outputs": [],
   "source": [
    "# Code"
   ]
  },
  {
   "cell_type": "markdown",
   "metadata": {},
   "source": [
    "- Crea una función que a reciba dos listas 'lista1' y 'lista2' por parámetro y retorne un diccionario teniendo como keys cada elemento de 'lista1' y como values los elementos de 'lista2'. Llama a la función con las listas que has creado antes para que devuelva un diccionario con cada ciudad como key asociado a un lugar emblemático como value. \n"
   ]
  },
  {
   "cell_type": "code",
   "execution_count": null,
   "metadata": {},
   "outputs": [],
   "source": [
    "# Code"
   ]
  },
  {
   "cell_type": "markdown",
   "metadata": {},
   "source": [
    "*Hay que utilizar la lista de alumn@s con sus nombres y alturas*\n",
    "\n",
    "- Crea una función que, a partir de dos listas, retorne un diccionario en el que cada key sea el nombre de un alumno y su value debe ser la altura."
   ]
  },
  {
   "cell_type": "code",
   "execution_count": null,
   "metadata": {},
   "outputs": [],
   "source": [
    "# Code"
   ]
  }
 ],
 "metadata": {
  "language_info": {
   "codemirror_mode": {
    "name": "ipython",
    "version": 3
   },
   "file_extension": ".py",
   "mimetype": "text/x-python",
   "name": "python",
   "nbconvert_exporter": "python",
   "pygments_lexer": "ipython3",
   "version": "3.6.4-final"
  },
  "orig_nbformat": 2,
  "kernelspec": {
   "name": "python36464bitc2077ed07ea84d23aa5b518d224882ab",
   "display_name": "Python 3.6.4 64-bit"
  }
 },
 "nbformat": 4,
 "nbformat_minor": 2
}