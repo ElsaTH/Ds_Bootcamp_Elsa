{
 "cells": [
  {
   "cell_type": "markdown",
   "metadata": {},
   "source": [
    "# 10. Classes"
   ]
  },
  {
   "cell_type": "markdown",
   "metadata": {},
   "source": [
    "-------------------"
   ]
  },
  {
   "cell_type": "code",
   "execution_count": 93,
   "metadata": {
    "tags": []
   },
   "outputs": [
    {
     "output_type": "stream",
     "name": "stdout",
     "text": "Chiquito\n78\n<__main__.Humano object at 0x00000274E20026D8>\n2\n1\n"
    }
   ],
   "source": [
    "class Humano:\n",
    "    \n",
    "    def __init__(self, name, age, numero_ojos=2, numero_piernas=2, sabiduria=0):\n",
    "        \"\"\"Constructor de la clase\"\"\"\n",
    "        self.nombre = name\n",
    "        self.edad = age\n",
    "        self.numero_ojos = numero_ojos\n",
    "        self.numero_piernas = numero_piernas \n",
    "        self.sabiduria = sabiduria\n",
    "\n",
    "    def cumple_anos(self):\n",
    "        self.edad += 1\n",
    "\n",
    "    def estudiar(self, horas_estudio):\n",
    "        if horas_estudio > 7:\n",
    "            self.sabiduria = self.sabiduria * 1.15\n",
    "        elif horas_estudio <= 7 and horas_estudio > 0:\n",
    "            self.sabiduria *= 1.0001\n",
    "        else:\n",
    "            self.sabiduria = self.sabiduria\n",
    "    \n",
    "    def olvidar(self):\n",
    "        self.sabiduria = self.sabiduria / 2\n",
    "\n",
    "    def estudia_o_olvida(self, ha_estudiado):\n",
    "        if ha_estudiado:\n",
    "            self.estudiar(horas_estudio=ha_estudiado)\n",
    "        else:\n",
    "            self.olvidar()\n",
    "\n",
    "    \n",
    "chiquito = Humano(name=\"Chiquito\", age=78, sabiduria=1)\n",
    "print(chiquito.nombre)\n",
    "print(chiquito.edad)\n",
    "print(chiquito)\n",
    "print(chiquito.numero_ojos)\n",
    "\n",
    "gabriel = Humano(name=\"Gabriel\", age=28, numero_ojos=3, numero_piernas=1, sabiduria=50)\n",
    "print(gabriel.numero_piernas)"
   ]
  },
  {
   "cell_type": "code",
   "execution_count": 104,
   "metadata": {},
   "outputs": [
    {
     "output_type": "execute_result",
     "data": {
      "text/plain": "1.5713728027343743"
     },
     "metadata": {},
     "execution_count": 104
    }
   ],
   "source": [
    "gabriel.estudia_o_olvida(ha_estudiado=0)\n",
    "gabriel.sabiduria"
   ]
  },
  {
   "cell_type": "code",
   "execution_count": 30,
   "metadata": {
    "tags": []
   },
   "outputs": [
    {
     "output_type": "stream",
     "name": "stdout",
     "text": "gabriel.edad: 28\ngabriel.edad después de cumplir años:\n 29\n"
    }
   ],
   "source": [
    "print(\"gabriel.edad:\", gabriel.edad)\n",
    "gabriel.cumple_anos()\n",
    "print(\"gabriel.edad después de cumplir años:\\n\", gabriel.edad)"
   ]
  },
  {
   "cell_type": "code",
   "execution_count": 52,
   "metadata": {},
   "outputs": [],
   "source": [
    "x = 2"
   ]
  },
  {
   "cell_type": "code",
   "execution_count": 57,
   "metadata": {
    "tags": []
   },
   "outputs": [
    {
     "output_type": "stream",
     "name": "stdout",
     "text": "7\n"
    }
   ],
   "source": [
    "x = x + 1\n",
    "print(x)"
   ]
  },
  {
   "cell_type": "code",
   "execution_count": 105,
   "metadata": {
    "tags": []
   },
   "outputs": [
    {
     "output_type": "stream",
     "name": "stdout",
     "text": "Sabiduría Gabriel: 1.5713728027343743\n"
    },
    {
     "output_type": "error",
     "ename": "TypeError",
     "evalue": "estudiar() got multiple values for argument 'self'",
     "traceback": [
      "\u001b[1;31m---------------------------------------------------------------------------\u001b[0m",
      "\u001b[1;31mTypeError\u001b[0m                                 Traceback (most recent call last)",
      "\u001b[1;32m<ipython-input-105-b0ac1bb9ed40>\u001b[0m in \u001b[0;36m<module>\u001b[1;34m\u001b[0m\n\u001b[0;32m      1\u001b[0m \u001b[0mprint\u001b[0m\u001b[1;33m(\u001b[0m\u001b[1;34m\"Sabiduría Gabriel:\"\u001b[0m\u001b[1;33m,\u001b[0m \u001b[0mgabriel\u001b[0m\u001b[1;33m.\u001b[0m\u001b[0msabiduria\u001b[0m\u001b[1;33m)\u001b[0m\u001b[1;33m\u001b[0m\u001b[0m\n\u001b[1;32m----> 2\u001b[1;33m \u001b[0mgabriel\u001b[0m\u001b[1;33m.\u001b[0m\u001b[0mestudiar\u001b[0m\u001b[1;33m(\u001b[0m\u001b[0mself\u001b[0m\u001b[1;33m=\u001b[0m\u001b[1;36m2\u001b[0m\u001b[1;33m,\u001b[0m\u001b[0mhoras_estudio\u001b[0m\u001b[1;33m=\u001b[0m\u001b[1;36m8\u001b[0m\u001b[1;33m)\u001b[0m\u001b[1;33m\u001b[0m\u001b[0m\n\u001b[0m\u001b[0;32m      3\u001b[0m \u001b[0mprint\u001b[0m\u001b[1;33m(\u001b[0m\u001b[1;34m\"Sabiduría Gabriel después:\"\u001b[0m\u001b[1;33m,\u001b[0m \u001b[0mgabriel\u001b[0m\u001b[1;33m.\u001b[0m\u001b[0msabiduria\u001b[0m\u001b[1;33m)\u001b[0m\u001b[1;33m\u001b[0m\u001b[0m\n\u001b[0;32m      4\u001b[0m \u001b[1;33m\u001b[0m\u001b[0m\n",
      "\u001b[1;31mTypeError\u001b[0m: estudiar() got multiple values for argument 'self'"
     ]
    }
   ],
   "source": [
    "print(\"Sabiduría Gabriel:\", gabriel.sabiduria)\n",
    "gabriel.estudiar(horas_estudio=8)\n",
    "print(\"Sabiduría Gabriel después:\", gabriel.sabiduria)\n",
    "\n"
   ]
  },
  {
   "cell_type": "code",
   "execution_count": 40,
   "metadata": {
    "tags": []
   },
   "outputs": [
    {
     "output_type": "stream",
     "name": "stdout",
     "text": "25.0\n"
    }
   ],
   "source": [
    "gabriel.olvidar()\n",
    "print(gabriel.sabiduria)"
   ]
  },
  {
   "cell_type": "code",
   "execution_count": 89,
   "metadata": {
    "tags": []
   },
   "outputs": [
    {
     "output_type": "stream",
     "name": "stdout",
     "text": "Help on method olvidar in module __main__:\n\nolvidar() method of __main__.Humano instance\n\n"
    }
   ],
   "source": [
    "help(gabriel.olvidar)"
   ]
  },
  {
   "cell_type": "code",
   "execution_count": 80,
   "metadata": {
    "tags": []
   },
   "outputs": [
    {
     "output_type": "stream",
     "name": "stdout",
     "text": "4.656580223572312\n"
    }
   ],
   "source": [
    "chiquito.estudiar(9)\n",
    "print(chiquito.sabiduria)"
   ]
  },
  {
   "cell_type": "code",
   "execution_count": 61,
   "metadata": {
    "tags": []
   },
   "outputs": [
    {
     "output_type": "stream",
     "name": "stdout",
     "text": "7\n"
    }
   ],
   "source": [
    "def funcion(x):\n",
    "    print(x)\n",
    "\n",
    "funcion(x=7)"
   ]
  },
  {
   "cell_type": "code",
   "execution_count": 22,
   "metadata": {
    "tags": []
   },
   "outputs": [
    {
     "output_type": "stream",
     "name": "stdout",
     "text": "4\nDory\n"
    }
   ],
   "source": [
    "class Perro:\n",
    "\n",
    "    nombre = None\n",
    "    edad = None\n",
    "    numero_patas = 4\n",
    "\n",
    "dory = Perro()\n",
    "dory.nombre = \"Dory\"\n",
    "dory.edad = 8\n",
    "print(dory.numero_patas)\n",
    "print(dory.nombre)\n",
    "\n",
    "dory = Perro()\n",
    "dory.nombre = \"Pepe\"\n",
    "dory.edad = 2"
   ]
  },
  {
   "cell_type": "code",
   "execution_count": 26,
   "metadata": {
    "tags": []
   },
   "outputs": [
    {
     "output_type": "stream",
     "name": "stdout",
     "text": "5\n"
    },
    {
     "output_type": "error",
     "ename": "AttributeError",
     "evalue": "'Hidrogeno' object has no attribute 'spin'",
     "traceback": [
      "\u001b[1;31m---------------------------------------------------------------------------\u001b[0m",
      "\u001b[1;31mAttributeError\u001b[0m                            Traceback (most recent call last)",
      "\u001b[1;32m<ipython-input-26-80d0032259b1>\u001b[0m in \u001b[0;36m<module>\u001b[1;34m\u001b[0m\n\u001b[0;32m     15\u001b[0m \u001b[0mprint\u001b[0m\u001b[1;33m(\u001b[0m\u001b[0mh1\u001b[0m\u001b[1;33m.\u001b[0m\u001b[0mspin\u001b[0m\u001b[1;33m)\u001b[0m\u001b[1;33m\u001b[0m\u001b[0m\n\u001b[0;32m     16\u001b[0m \u001b[1;33m\u001b[0m\u001b[0m\n\u001b[1;32m---> 17\u001b[1;33m \u001b[0mprint\u001b[0m\u001b[1;33m(\u001b[0m\u001b[0mh2\u001b[0m\u001b[1;33m.\u001b[0m\u001b[0mspin\u001b[0m\u001b[1;33m)\u001b[0m\u001b[1;33m\u001b[0m\u001b[0m\n\u001b[0m\u001b[0;32m     18\u001b[0m \u001b[1;33m\u001b[0m\u001b[0m\n\u001b[0;32m     19\u001b[0m \u001b[0mh1\u001b[0m \u001b[1;33m==\u001b[0m \u001b[0mh2\u001b[0m\u001b[1;33m\u001b[0m\u001b[0m\n",
      "\u001b[1;31mAttributeError\u001b[0m: 'Hidrogeno' object has no attribute 'spin'"
     ]
    }
   ],
   "source": [
    "class Hidrogeno():\n",
    "    \n",
    "    def __init__(self, x, y, z, masa=2.2, polaridad=7):\n",
    "        self.x = x\n",
    "        self.y = y\n",
    "        self.z = z\n",
    "        self.masa = masa\n",
    "        self.polaridad = polaridad\n",
    "\n",
    "h1 = Hidrogeno(x=2, y=7, z=19, polaridad=10)\n",
    "h1.polaridad = 8\n",
    "h2 = Hidrogeno(x=5, y=8, z=9)\n",
    "\n",
    "h1.spin = 5\n",
    "print(h1.spin)\n",
    "\n",
    "print(h2.spin)\n",
    "\n",
    "h1 == h2"
   ]
  },
  {
   "cell_type": "code",
   "execution_count": 85,
   "metadata": {
    "tags": []
   },
   "outputs": [
    {
     "output_type": "stream",
     "name": "stdout",
     "text": "<class '__main__.Humano'>\n"
    }
   ],
   "source": [
    "print(type(gabriel))"
   ]
  },
  {
   "cell_type": "code",
   "execution_count": 106,
   "metadata": {
    "tags": []
   },
   "outputs": [
    {
     "output_type": "stream",
     "name": "stdout",
     "text": "<class 'int'>\n"
    }
   ],
   "source": [
    "x = 2\n",
    "print(type(x))"
   ]
  },
  {
   "cell_type": "code",
   "execution_count": 82,
   "metadata": {
    "tags": []
   },
   "outputs": [
    {
     "output_type": "stream",
     "name": "stdout",
     "text": "<class 'list'>\n"
    }
   ],
   "source": [
    "lista = [2, 4]\n",
    "print(type(lista))"
   ]
  },
  {
   "cell_type": "code",
   "execution_count": 87,
   "metadata": {},
   "outputs": [
    {
     "output_type": "execute_result",
     "data": {
      "text/plain": "[2, 4, 2, 2]"
     },
     "metadata": {},
     "execution_count": 87
    }
   ],
   "source": [
    "lista.append(2)\n",
    "lista"
   ]
  },
  {
   "cell_type": "code",
   "execution_count": null,
   "metadata": {},
   "outputs": [],
   "source": [
    "class Lista:\n",
    "\n",
    "    def __init__(self, x):\n",
    "        self.value = x\n",
    "\n",
    "    def append(self, elem):\n",
    "        self.value = elem\n",
    "\n"
   ]
  },
  {
   "cell_type": "code",
   "execution_count": null,
   "metadata": {},
   "outputs": [],
   "source": []
  }
 ],
 "metadata": {
  "language_info": {
   "codemirror_mode": {
    "name": "ipython",
    "version": 3
   },
   "file_extension": ".py",
   "mimetype": "text/x-python",
   "name": "python",
   "nbconvert_exporter": "python",
   "pygments_lexer": "ipython3",
   "version": "3.6.4-final"
  },
  "orig_nbformat": 2,
  "kernelspec": {
   "name": "python36464bit2b8b9d1e795e47a9ab8814df94f04d6f",
   "display_name": "Python 3.6.4 64-bit"
  }
 },
 "nbformat": 4,
 "nbformat_minor": 2
}