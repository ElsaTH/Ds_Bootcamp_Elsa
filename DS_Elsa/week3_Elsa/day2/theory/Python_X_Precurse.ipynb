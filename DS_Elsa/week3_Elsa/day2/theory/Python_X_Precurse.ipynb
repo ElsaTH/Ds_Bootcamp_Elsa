{
 "cells": [
  {
   "cell_type": "markdown",
   "metadata": {},
   "source": [
    "# Data Science Bootcamp - The Bridge \n",
    "## Precurso\n",
    "En este notebook vamos a ver, uno a uno, los conceptos básicos de Python. Constarán de ejercicios prácticos acompañados de una explicación teórica dada por el profesor.\n",
    "\n",
    "Los siguientes enlaces están recomendados para el alumno para profundizar y reforzar conceptos a partir de  ejercicios y ejemplos:\n",
    "\n",
    "- https://facundoq.github.io/courses/aa2018/res/02_python.html\n",
    "\n",
    "- https://www.w3resource.com/python-exercises/\n",
    "\n",
    "- https://www.practicepython.org/\n",
    "\n",
    "- https://es.slideshare.net/egutierrezru/python-paraprincipiantes\n",
    "\n",
    "- https://www.sololearn.com/Play/Python#\n",
    "\n",
    "- https://github.com/mhkmcp/Python-Bootcamp-from-Basic-to-Advanced\n",
    "\n",
    "Ejercicios avanzados:\n",
    "\n",
    "- https://github.com/darkprinx/100-plus-Python-programming-exercises-extended/tree/master/Status (++)\n",
    "\n",
    "- https://github.com/mahtab04/Python-Programming-Practice (++)\n",
    "\n",
    "- https://github.com/whojayantkumar/Python_Programs (+++)\n",
    "\n",
    "- https://www.w3resource.com/python-exercises/ (++++)\n",
    "\n",
    "- https://github.com/fupus/notebooks-ejercicios (+++++)\n",
    "\n",
    "Tutor de ayuda PythonTutor:\n",
    "\n",
    "- http://pythontutor.com/\n"
   ]
  },
  {
   "cell_type": "markdown",
   "metadata": {},
   "source": [
    "## 1. Variables y tipos\n",
    "\n",
    "### Cadenas"
   ]
  },
  {
   "cell_type": "code",
   "execution_count": 2,
   "metadata": {},
   "outputs": [
    {
     "output_type": "stream",
     "name": "stdout",
     "text": "2\n"
    }
   ],
   "source": [
    "x = 2\n",
    "\n",
    "print(x)\n",
    "\n",
    "gabriel_vazquez = \"Gabriel Vazquez\""
   ]
  },
  {
   "cell_type": "code",
   "execution_count": 5,
   "metadata": {},
   "outputs": [
    {
     "output_type": "stream",
     "name": "stdout",
     "text": "Hello Python world!\nNombre de compañero\n"
    }
   ],
   "source": [
    "print(\"Hello Python world!\")\n",
    "print(\"Nombre de compañero\")\n",
    "\n",
    "compañero = \"Compañero123123\"\n"
   ]
  },
  {
   "cell_type": "code",
   "execution_count": 6,
   "metadata": {},
   "outputs": [
    {
     "output_type": "stream",
     "name": "stdout",
     "text": "Compañero123123\n"
    }
   ],
   "source": [
    "print(compañero)"
   ]
  },
  {
   "cell_type": "markdown",
   "metadata": {},
   "source": [
    "Esto es texto"
   ]
  },
  {
   "cell_type": "code",
   "execution_count": 12,
   "metadata": {},
   "outputs": [
    {
     "output_type": "stream",
     "name": "stdout",
     "text": "<class 'str'>\n"
    }
   ],
   "source": [
    "# String, Integer, Float, List, None (NaN)\n",
    "# str, int, float, list, \n",
    "\n",
    "string_ = \"23\"\n",
    "numero = 23\n",
    "\n",
    "print(type(string_))"
   ]
  },
  {
   "cell_type": "code",
   "execution_count": 9,
   "metadata": {},
   "outputs": [
    {
     "output_type": "stream",
     "name": "stdout",
     "text": "23\n"
    }
   ],
   "source": [
    "print(string_)"
   ]
  },
  {
   "cell_type": "code",
   "execution_count": 13,
   "metadata": {},
   "outputs": [
    {
     "output_type": "stream",
     "name": "stdout",
     "text": "33\n"
    }
   ],
   "source": [
    "numero2 = 10\n",
    "suma = numero + numero2\n",
    "print(suma)"
   ]
  },
  {
   "cell_type": "code",
   "execution_count": 14,
   "metadata": {},
   "outputs": [
    {
     "output_type": "stream",
     "name": "stdout",
     "text": "2333\n"
    }
   ],
   "source": [
    "string2 = \"33\"\n",
    "suma2 = string_ + string2\n",
    "print(suma2)"
   ]
  },
  {
   "cell_type": "code",
   "execution_count": 30,
   "metadata": {},
   "outputs": [
    {
     "output_type": "stream",
     "name": "stdout",
     "text": "43\n"
    }
   ],
   "source": [
    "m = (((numero2 + int(string2))))\n",
    "print(m)"
   ]
  },
  {
   "cell_type": "code",
   "execution_count": 31,
   "metadata": {},
   "outputs": [
    {
     "output_type": "stream",
     "name": "stdout",
     "text": "<class 'int'>\n"
    }
   ],
   "source": [
    "print(type(int(string2)))"
   ]
  },
  {
   "cell_type": "code",
   "execution_count": 2,
   "metadata": {},
   "outputs": [
    {
     "output_type": "stream",
     "name": "stdout",
     "text": "<class 'str'>\n"
    },
    {
     "output_type": "execute_result",
     "data": {
      "text/plain": "'22'"
     },
     "metadata": {},
     "execution_count": 2
    }
   ],
   "source": [
    "y = 22\n",
    "y = str(y)\n",
    "print(type(y))\n",
    "y"
   ]
  },
  {
   "cell_type": "code",
   "execution_count": 33,
   "metadata": {},
   "outputs": [
    {
     "output_type": "stream",
     "name": "stdout",
     "text": "<class 'int'>\n"
    }
   ],
   "source": [
    "string2 = int(string2)\n",
    "print(type(string2))"
   ]
  },
  {
   "cell_type": "code",
   "execution_count": 36,
   "metadata": {},
   "outputs": [
    {
     "output_type": "stream",
     "name": "stdout",
     "text": "10\n10\n<class 'int'>\n<class 'str'>\n"
    }
   ],
   "source": [
    "string3 = \"10\"\n",
    "numero_a_partir_de_string = int(string3)\n",
    "print(numero_a_partir_de_string)\n",
    "print(string3)\n",
    "\n",
    "print(type(numero_a_partir_de_string))\n",
    "print(type(string3))"
   ]
  },
  {
   "cell_type": "code",
   "execution_count": 44,
   "metadata": {},
   "outputs": [
    {
     "output_type": "execute_result",
     "data": {
      "text/plain": "2"
     },
     "metadata": {},
     "execution_count": 44
    }
   ],
   "source": [
    "h = \"2\"\n",
    "int(h)"
   ]
  },
  {
   "cell_type": "code",
   "execution_count": 4,
   "metadata": {},
   "outputs": [
    {
     "output_type": "stream",
     "name": "stdout",
     "text": "15\n9\n36\n4.0\n4\n<class 'float'>\n<class 'int'>\n"
    }
   ],
   "source": [
    "num1 = 12\n",
    "num2 = 3\n",
    "\n",
    "suma = num1 + num2\n",
    "resta = num1 - num2\n",
    "multiplicacion = num1 * num2 \n",
    "division = num1 / num2\n",
    "division_absoluta = num1 // num2\n",
    "\n",
    "gabriel_vazquez = \"Gabriel Vazquez\"\n",
    "\n",
    "print(suma)\n",
    "print(resta)\n",
    "print(multiplicacion)\n",
    "print(division)\n",
    "print(division_absoluta)\n",
    "print(type(division))\n",
    "print(type(division_absoluta))"
   ]
  },
  {
   "cell_type": "code",
   "execution_count": null,
   "metadata": {},
   "outputs": [],
   "source": []
  },
  {
   "cell_type": "code",
   "execution_count": 51,
   "metadata": {},
   "outputs": [
    {
     "output_type": "execute_result",
     "data": {
      "text/plain": "2"
     },
     "metadata": {},
     "execution_count": 51
    }
   ],
   "source": [
    "x = int(5.6//2)\n",
    "\n",
    "x"
   ]
  },
  {
   "cell_type": "markdown",
   "metadata": {},
   "source": [
    "kmkfjk\n",
    "\n",
    "# kskjkjfs"
   ]
  },
  {
   "cell_type": "markdown",
   "metadata": {},
   "source": [
    "Markdown\n",
    "\n",
    "### Título 3\n",
    "\n",
    "\n",
    "1. Uno\n",
    "2. Dos"
   ]
  },
  {
   "cell_type": "code",
   "execution_count": 65,
   "metadata": {},
   "outputs": [
    {
     "output_type": "stream",
     "name": "stdout",
     "text": "1\n"
    }
   ],
   "source": [
    "# Soy un comentario\n",
    "# print(\"Hello Python world!\")\n",
    "# Estoy creando una variable que vale 2\n",
    "\"\"\"\n",
    "Esto es otro comentario\n",
    "\"\"\"\n",
    "print(x)\n",
    "x = 25\n",
    "x = 76\n",
    "x = \"1\""
   ]
  },
  {
   "cell_type": "code",
   "execution_count": 1,
   "metadata": {},
   "outputs": [
    {
     "output_type": "stream",
     "name": "stdout",
     "text": "One of Python's strengths is its diverse community.\n"
    },
    {
     "output_type": "execute_result",
     "data": {
      "text/plain": "\"One of Python's strengths is its diverse community.\""
     },
     "metadata": {},
     "execution_count": 1
    }
   ],
   "source": [
    "message2 = \"One of Python's strengths is its diverse community.\" \n",
    "print(message2)\n",
    "message2"
   ]
  },
  {
   "cell_type": "markdown",
   "metadata": {},
   "source": [
    "## Ejercicio: \n",
    "### Crear una nueva celda.\n",
    "### Declarar tres variables: \n",
    "- Una con el nombre \"edad\" con valor vuestra edad\n",
    "- Otra \"edad_compañero_der\" que contengan la edad de tipo entero de vuestro compañero de la derecha\n",
    "- Otra \"suma_anterior\" que contenga la suma de las dos variables anteriormente declaradas\n",
    "\n",
    " Mostrar por pantalla la variable \"suma_anterior\"\n",
    "\n"
   ]
  },
  {
   "cell_type": "code",
   "execution_count": 66,
   "metadata": {},
   "outputs": [
    {
     "output_type": "execute_result",
     "data": {
      "text/plain": "47"
     },
     "metadata": {},
     "execution_count": 66
    }
   ],
   "source": [
    "edad = 18\n",
    "edad_companero_der = 29\n",
    "suma_anterior = edad + edad_companero_der\n",
    "suma_anterior"
   ]
  },
  {
   "cell_type": "code",
   "execution_count": 67,
   "metadata": {},
   "outputs": [
    {
     "output_type": "stream",
     "name": "stdout",
     "text": "ADA LOVELACE\nada lovelace\n"
    }
   ],
   "source": [
    "name = \"Ada Lovelace\"\n",
    "x = 2\n",
    "print(name.upper())\n",
    "print(name.lower())"
   ]
  },
  {
   "cell_type": "code",
   "execution_count": 68,
   "metadata": {},
   "outputs": [
    {
     "output_type": "stream",
     "name": "stdout",
     "text": "<built-in method upper of str object at 0x0000021CD21027F0>\n"
    }
   ],
   "source": [
    "print(name.upper)"
   ]
  },
  {
   "cell_type": "code",
   "execution_count": 69,
   "metadata": {},
   "outputs": [
    {
     "output_type": "stream",
     "name": "stdout",
     "text": "ADA LOVELACE\n"
    }
   ],
   "source": [
    "print(name.upper())"
   ]
  },
  {
   "cell_type": "code",
   "execution_count": null,
   "metadata": {},
   "outputs": [],
   "source": [
    "x = 2\n",
    "x = x + 1\n",
    "x += 1"
   ]
  },
  {
   "cell_type": "code",
   "execution_count": 70,
   "metadata": {},
   "outputs": [
    {
     "output_type": "stream",
     "name": "stdout",
     "text": "2 4 Pepito Hola\n"
    }
   ],
   "source": [
    "x = 2\n",
    "y = 4\n",
    "\n",
    "print(x, y, \"Pepito\", \"Hola\")"
   ]
  },
  {
   "cell_type": "markdown",
   "metadata": {},
   "source": [
    "## 2. Números y operadores"
   ]
  },
  {
   "cell_type": "code",
   "execution_count": 75,
   "metadata": {},
   "outputs": [
    {
     "output_type": "stream",
     "name": "stdout",
     "text": "- Tipo de x:\n<class 'int'>\n- Valor de x:\n3\n- x+1:\n4\n- x-1:\n2\n- x*2:\n6\n- x^2:\n9\n- x modificado:\n4\n- x modificado:\n8\n- Varias cosas en una línea:\n1||||2||||8||||10\n"
    }
   ],
   "source": [
    "### Enteros ###\n",
    "\n",
    "x = 3 \n",
    "\n",
    "print(\"- Tipo de x:\")\n",
    "print(type(x)) # Imprime el tipo (o `clase`) de x\n",
    "print(\"- Valor de x:\")\n",
    "print(x)       # Imprimir un valor\n",
    "print(\"- x+1:\")\n",
    "print(x + 1)   # Suma: imprime \"4\"\n",
    "print(\"- x-1:\")\n",
    "print(x - 1)   # Resta; imprime \"2\"\n",
    "print(\"- x*2:\")\n",
    "print(x * 2)   # Multiplicación; imprime \"6\"\n",
    "print(\"- x^2:\")\n",
    "print(x ** 2)  # Exponenciación; imprime \"9\"\n",
    "# Modificación de x\n",
    "x += 1 \n",
    "print(\"- x modificado:\")\n",
    "print(x)  # Imprime \"4\"\n",
    "\n",
    "x *= 2\n",
    "print(\"- x modificado:\")\n",
    "print(x)  # Imprime \"8\"\n",
    "\n",
    "print(\"- Varias cosas en una línea:\")\n",
    "print(1, 2, x, 5*2, sep=\"||||\") # imprime varias cosas a la vez"
   ]
  },
  {
   "cell_type": "code",
   "execution_count": 5,
   "metadata": {},
   "outputs": [
    {
     "output_type": "stream",
     "name": "stdout",
     "text": "- Tipo de y:\n<class 'float'>\n- Varios valores en punto flotante:\n2.5 3.5 6.25 6.25\n"
    }
   ],
   "source": [
    "y = 2.5 \n",
    "print(\"- Tipo de y:\")\n",
    "print(type(y)) # Imprime el tipo de y\n",
    "print(\"- Varios valores en punto flotante:\")\n",
    "print(y, y + 1, y * 2.5, y ** 2) # Imprime varios números en punto flotante"
   ]
  },
  {
   "cell_type": "markdown",
   "metadata": {},
   "source": [
    "## 3. Tipo None"
   ]
  },
  {
   "cell_type": "code",
   "execution_count": 6,
   "metadata": {},
   "outputs": [
    {
     "output_type": "stream",
     "name": "stdout",
     "text": "<class 'NoneType'>\n"
    }
   ],
   "source": [
    "x = None\n",
    "\n",
    "print(type(x))"
   ]
  },
  {
   "cell_type": "markdown",
   "metadata": {},
   "source": [
    "## 4. Listas, tuplas y colecciones "
   ]
  },
  {
   "cell_type": "code",
   "execution_count": 13,
   "metadata": {},
   "outputs": [
    {
     "output_type": "execute_result",
     "data": {
      "text/plain": "['red', 'blue', 'green']"
     },
     "metadata": {},
     "execution_count": 13
    }
   ],
   "source": [
    "lc = [\"red\", \"blue\", \"green\"]\n",
    "lc"
   ]
  },
  {
   "cell_type": "code",
   "execution_count": 14,
   "metadata": {},
   "outputs": [
    {
     "output_type": "execute_result",
     "data": {
      "text/plain": "3"
     },
     "metadata": {},
     "execution_count": 14
    }
   ],
   "source": [
    "len(lc)"
   ]
  },
  {
   "cell_type": "code",
   "execution_count": 15,
   "metadata": {},
   "outputs": [
    {
     "output_type": "execute_result",
     "data": {
      "text/plain": "['red', 'blue', 'green', 2, 6.9]"
     },
     "metadata": {},
     "execution_count": 15
    }
   ],
   "source": [
    "la = [\"red\", \"blue\", \"green\", 2, 6.9]\n",
    "\n",
    "\n",
    "la"
   ]
  },
  {
   "cell_type": "code",
   "execution_count": 16,
   "metadata": {},
   "outputs": [
    {
     "output_type": "stream",
     "name": "stdout",
     "text": "red\n"
    }
   ],
   "source": [
    "print(la[0])"
   ]
  },
  {
   "cell_type": "code",
   "execution_count": 17,
   "metadata": {},
   "outputs": [
    {
     "output_type": "execute_result",
     "data": {
      "text/plain": "6.9"
     },
     "metadata": {},
     "execution_count": 17
    }
   ],
   "source": [
    "la[4]"
   ]
  },
  {
   "cell_type": "code",
   "execution_count": 20,
   "metadata": {},
   "outputs": [
    {
     "output_type": "execute_result",
     "data": {
      "text/plain": "6.9"
     },
     "metadata": {},
     "execution_count": 20
    }
   ],
   "source": [
    "# Última posición\n",
    "la[-1]"
   ]
  },
  {
   "cell_type": "code",
   "execution_count": null,
   "metadata": {},
   "outputs": [],
   "source": [
    "# Penúltima posición\n",
    "la[-2]"
   ]
  },
  {
   "cell_type": "code",
   "execution_count": 23,
   "metadata": {},
   "outputs": [
    {
     "output_type": "execute_result",
     "data": {
      "text/plain": "5"
     },
     "metadata": {},
     "execution_count": 23
    }
   ],
   "source": [
    "len(la)"
   ]
  },
  {
   "cell_type": "code",
   "execution_count": 24,
   "metadata": {},
   "outputs": [
    {
     "output_type": "execute_result",
     "data": {
      "text/plain": "['red', 'blue', 'green', 2, 6.9]"
     },
     "metadata": {},
     "execution_count": 24
    }
   ],
   "source": [
    "la"
   ]
  },
  {
   "cell_type": "code",
   "execution_count": 22,
   "metadata": {},
   "outputs": [
    {
     "output_type": "execute_result",
     "data": {
      "text/plain": "2"
     },
     "metadata": {},
     "execution_count": 22
    }
   ],
   "source": [
    "tamano = len(la)\n",
    "la[tamano - 2]"
   ]
  },
  {
   "cell_type": "code",
   "execution_count": 25,
   "metadata": {},
   "outputs": [
    {
     "output_type": "stream",
     "name": "stdout",
     "text": "['trek', 'cannondale', 'redline', 'specialized']\nMy first bicycle was a trek\n"
    }
   ],
   "source": [
    "bicycles = ['trek', 'cannondale', 'redline', 'specialized']\n",
    "message = \"My first bicycle was a \" + bicycles[0]\n",
    "\n",
    "print(bicycles)\n",
    "print(message)"
   ]
  },
  {
   "cell_type": "code",
   "execution_count": 26,
   "metadata": {},
   "outputs": [
    {
     "output_type": "stream",
     "name": "stdout",
     "text": "['bmw', 'audi', 'toyota', 'subaru']\n['subaru', 'toyota', 'audi', 'bmw']\n"
    }
   ],
   "source": [
    "cars = ['bmw', 'audi', 'toyota', 'subaru']\n",
    "print(cars)\n",
    "\n",
    "cars.reverse()\n",
    "print(cars)"
   ]
  },
  {
   "cell_type": "code",
   "execution_count": 30,
   "metadata": {},
   "outputs": [
    {
     "output_type": "stream",
     "name": "stdout",
     "text": "['honda', 'yamaha', 'suzuki', 'ducati']\n['honda', 'yamaha', 'suzuki']\nducati is too expensive for me.\n"
    }
   ],
   "source": [
    "motorcycles = ['honda', 'yamaha', 'suzuki', 'ducati'] \n",
    "print(motorcycles)\n",
    "\n",
    "_ = 'ducati'\n",
    "motorcycles.remove(_)\n",
    "print(motorcycles)\n",
    "print(too_expensive + \" is too expensive for me.\")"
   ]
  },
  {
   "cell_type": "code",
   "execution_count": 29,
   "metadata": {},
   "outputs": [
    {
     "output_type": "error",
     "ename": "ValueError",
     "evalue": "list.remove(x): x not in list",
     "traceback": [
      "\u001b[1;31m---------------------------------------------------------------------------\u001b[0m",
      "\u001b[1;31mValueError\u001b[0m                                Traceback (most recent call last)",
      "\u001b[1;32m<ipython-input-29-daff91f29256>\u001b[0m in \u001b[0;36m<module>\u001b[1;34m\u001b[0m\n\u001b[1;32m----> 1\u001b[1;33m \u001b[0mmotorcycles\u001b[0m\u001b[1;33m.\u001b[0m\u001b[0mremove\u001b[0m\u001b[1;33m(\u001b[0m\u001b[0mtoo_expensive\u001b[0m\u001b[1;33m)\u001b[0m\u001b[1;33m\u001b[0m\u001b[0m\n\u001b[0m",
      "\u001b[1;31mValueError\u001b[0m: list.remove(x): x not in list"
     ]
    }
   ],
   "source": [
    "motorcycles.remove(too_expensive)"
   ]
  },
  {
   "cell_type": "code",
   "execution_count": 51,
   "metadata": {},
   "outputs": [
    {
     "output_type": "stream",
     "name": "stdout",
     "text": "Tamaño de la lista: 22\nsalto\nm\nn\n---------\n35235\n---------\n"
    },
    {
     "output_type": "execute_result",
     "data": {
      "text/plain": "['honda',\n 'yamaha',\n 'suzuki',\n 'ducati',\n 'ducati',\n 'ducati',\n 'ducati',\n 'ducati',\n 2,\n 25252,\n 25252,\n 25252,\n 25252,\n 25252,\n 35235,\n 35235,\n 35235,\n 35235,\n 35235,\n 35235,\n 35235,\n 35235]"
     },
     "metadata": {},
     "execution_count": 51
    }
   ],
   "source": [
    "motorcycles.append(35235)\n",
    "print(\"Tamaño de la lista: \" + str(len(motorcycles)))\n",
    "print(\"salto\")\n",
    "print(\"m\")\n",
    "print(\"n\")\n",
    "print(\"---------\")\n",
    "print(motorcycles[-2])\n",
    "print(\"---------\")\n",
    "motorcycles"
   ]
  },
  {
   "cell_type": "code",
   "execution_count": 52,
   "metadata": {},
   "outputs": [
    {
     "output_type": "execute_result",
     "data": {
      "text/plain": "int"
     },
     "metadata": {},
     "execution_count": 52
    }
   ],
   "source": [
    "type(len(motorcycles))"
   ]
  },
  {
   "cell_type": "code",
   "execution_count": 53,
   "metadata": {},
   "outputs": [
    {
     "output_type": "execute_result",
     "data": {
      "text/plain": "('2', '3', '2')"
     },
     "metadata": {},
     "execution_count": 53
    }
   ],
   "source": [
    "tupla = (\"2\", \"3\", \"2\")\n",
    "tupla"
   ]
  },
  {
   "cell_type": "code",
   "execution_count": 54,
   "metadata": {},
   "outputs": [
    {
     "output_type": "error",
     "ename": "AttributeError",
     "evalue": "'tuple' object has no attribute 'remove'",
     "traceback": [
      "\u001b[1;31m---------------------------------------------------------------------------\u001b[0m",
      "\u001b[1;31mAttributeError\u001b[0m                            Traceback (most recent call last)",
      "\u001b[1;32m<ipython-input-54-78fefd3a3f4d>\u001b[0m in \u001b[0;36m<module>\u001b[1;34m\u001b[0m\n\u001b[1;32m----> 1\u001b[1;33m \u001b[0mtupla\u001b[0m\u001b[1;33m.\u001b[0m\u001b[0mremove\u001b[0m\u001b[1;33m(\u001b[0m\u001b[1;34m\"2\"\u001b[0m\u001b[1;33m)\u001b[0m\u001b[1;33m\u001b[0m\u001b[0m\n\u001b[0m",
      "\u001b[1;31mAttributeError\u001b[0m: 'tuple' object has no attribute 'remove'"
     ]
    }
   ],
   "source": [
    "tupla.remove(\"2\")"
   ]
  },
  {
   "cell_type": "code",
   "execution_count": 55,
   "metadata": {},
   "outputs": [
    {
     "output_type": "execute_result",
     "data": {
      "text/plain": "3"
     },
     "metadata": {},
     "execution_count": 55
    }
   ],
   "source": [
    "len(tupla)"
   ]
  },
  {
   "cell_type": "code",
   "execution_count": 56,
   "metadata": {},
   "outputs": [
    {
     "output_type": "execute_result",
     "data": {
      "text/plain": "tuple"
     },
     "metadata": {},
     "execution_count": 56
    }
   ],
   "source": [
    "type(tupla)"
   ]
  },
  {
   "cell_type": "code",
   "execution_count": 57,
   "metadata": {},
   "outputs": [
    {
     "output_type": "execute_result",
     "data": {
      "text/plain": "list"
     },
     "metadata": {},
     "execution_count": 57
    }
   ],
   "source": [
    "l = []\n",
    "type(l)"
   ]
  },
  {
   "cell_type": "code",
   "execution_count": 59,
   "metadata": {},
   "outputs": [
    {
     "output_type": "stream",
     "name": "stdout",
     "text": "<class 'tuple'>\n<class 'list'>\n"
    }
   ],
   "source": [
    "t = (\"5,7\", 8, [2,5])\n",
    "t_to_list = list(t)\n",
    "print(type(t))\n",
    "print(type(t_to_list))\n",
    "list_to_tuple = tuple(t_to_list)\n"
   ]
  },
  {
   "cell_type": "code",
   "execution_count": 61,
   "metadata": {},
   "outputs": [
    {
     "output_type": "stream",
     "name": "stdout",
     "text": "<class 'tuple'>\n<class 'list'>\n<class 'tuple'>\n"
    },
    {
     "output_type": "execute_result",
     "data": {
      "text/plain": "(2, 4, 6, 8, 45)"
     },
     "metadata": {},
     "execution_count": 61
    }
   ],
   "source": [
    "t = (2,4,6,8)\n",
    "print(type(t))\n",
    "t = list(t)\n",
    "t.append(45)\n",
    "print(type(t))\n",
    "t = tuple(t)\n",
    "print(type(t))\n",
    "t"
   ]
  },
  {
   "cell_type": "code",
   "execution_count": 72,
   "metadata": {},
   "outputs": [
    {
     "output_type": "stream",
     "name": "stdout",
     "text": "l: ['x', 6, 'y', 'y', 'a', 7, 8, 5]\n<class 'list'>\n<class 'set'>\ns: {5, 6, 7, 8, 'x', 'a', 'y'}\n"
    },
    {
     "output_type": "execute_result",
     "data": {
      "text/plain": "7"
     },
     "metadata": {},
     "execution_count": 72
    }
   ],
   "source": [
    "l = [\"x\", 6, \"y\", \"y\", \"a\", 7, 8, 5]\n",
    "print(\"l:\", l)\n",
    "print(type(l))\n",
    "s = set(l)\n",
    "print(type(s))\n",
    "print(\"s:\", s)\n",
    "len(s)"
   ]
  },
  {
   "cell_type": "markdown",
   "metadata": {},
   "source": [
    "## Booleans"
   ]
  },
  {
   "cell_type": "markdown",
   "metadata": {},
   "source": [
    "String - str\n",
    "Integer - int\n",
    "Float - float\n",
    "List - list\n",
    "Tuple - tuple\n",
    "Set - set\n",
    "None \n",
    "Boolean - bool"
   ]
  },
  {
   "cell_type": "code",
   "execution_count": 82,
   "metadata": {},
   "outputs": [
    {
     "output_type": "execute_result",
     "data": {
      "text/plain": "True"
     },
     "metadata": {},
     "execution_count": 82
    }
   ],
   "source": [
    "1 == 1"
   ]
  },
  {
   "cell_type": "code",
   "execution_count": 83,
   "metadata": {},
   "outputs": [
    {
     "output_type": "execute_result",
     "data": {
      "text/plain": "False"
     },
     "metadata": {},
     "execution_count": 83
    }
   ],
   "source": [
    "print(1 == 2)"
   ]
  },
  {
   "cell_type": "code",
   "execution_count": 87,
   "metadata": {},
   "outputs": [
    {
     "output_type": "execute_result",
     "data": {
      "text/plain": "False"
     },
     "metadata": {},
     "execution_count": 87
    }
   ],
   "source": [
    "1 > 2"
   ]
  },
  {
   "cell_type": "code",
   "execution_count": null,
   "metadata": {},
   "outputs": [],
   "source": [
    "< > == != "
   ]
  },
  {
   "cell_type": "code",
   "execution_count": 88,
   "metadata": {},
   "outputs": [
    {
     "output_type": "execute_result",
     "data": {
      "text/plain": "False"
     },
     "metadata": {},
     "execution_count": 88
    }
   ],
   "source": [
    "1 >= 2"
   ]
  },
  {
   "cell_type": "code",
   "execution_count": 90,
   "metadata": {},
   "outputs": [
    {
     "output_type": "execute_result",
     "data": {
      "text/plain": "True"
     },
     "metadata": {},
     "execution_count": 90
    }
   ],
   "source": [
    "1 == 1"
   ]
  },
  {
   "cell_type": "code",
   "execution_count": 91,
   "metadata": {},
   "outputs": [
    {
     "output_type": "execute_result",
     "data": {
      "text/plain": "True"
     },
     "metadata": {},
     "execution_count": 91
    }
   ],
   "source": [
    "1 >= 1"
   ]
  },
  {
   "cell_type": "code",
   "execution_count": 92,
   "metadata": {},
   "outputs": [
    {
     "output_type": "execute_result",
     "data": {
      "text/plain": "True"
     },
     "metadata": {},
     "execution_count": 92
    }
   ],
   "source": [
    "1 != 2"
   ]
  },
  {
   "cell_type": "code",
   "execution_count": 93,
   "metadata": {},
   "outputs": [
    {
     "output_type": "execute_result",
     "data": {
      "text/plain": "True"
     },
     "metadata": {},
     "execution_count": 93
    }
   ],
   "source": [
    "1 <= 2"
   ]
  },
  {
   "cell_type": "code",
   "execution_count": 97,
   "metadata": {},
   "outputs": [
    {
     "output_type": "stream",
     "name": "stdout",
     "text": "YES\n"
    }
   ],
   "source": [
    "l = [2, 4, 6, 8]\n",
    "s = [2, 3, 1]\n",
    "\n",
    "if len(l) != len(s):\n",
    "    print(\"YES\")\n",
    "else:\n",
    "    print(\"NO\")"
   ]
  },
  {
   "cell_type": "code",
   "execution_count": 86,
   "metadata": {},
   "outputs": [
    {
     "output_type": "stream",
     "name": "stdout",
     "text": "No se cumple\n"
    }
   ],
   "source": [
    "y = True\n",
    "x = False\n",
    "\n",
    "l = [2, 4, \"7\"]\n",
    "\n",
    "if 1 == 2:\n",
    "    print(\"Se cumple\")\n",
    "else:\n",
    "    print(\"No se cumple\")"
   ]
  },
  {
   "cell_type": "code",
   "execution_count": 98,
   "metadata": {},
   "outputs": [
    {
     "output_type": "error",
     "ename": "NameError",
     "evalue": "name 'gh' is not defined",
     "traceback": [
      "\u001b[1;31m---------------------------------------------------------------------------\u001b[0m",
      "\u001b[1;31mNameError\u001b[0m                                 Traceback (most recent call last)",
      "\u001b[1;32m<ipython-input-98-e9e9aa78bd72>\u001b[0m in \u001b[0;36m<module>\u001b[1;34m\u001b[0m\n\u001b[1;32m----> 1\u001b[1;33m \u001b[0mgh\u001b[0m \u001b[1;33m==\u001b[0m \u001b[1;36m0\u001b[0m\u001b[1;33m\u001b[0m\u001b[0m\n\u001b[0m",
      "\u001b[1;31mNameError\u001b[0m: name 'gh' is not defined"
     ]
    }
   ],
   "source": [
    "gh == 0"
   ]
  },
  {
   "cell_type": "code",
   "execution_count": 110,
   "metadata": {},
   "outputs": [
    {
     "output_type": "stream",
     "name": "stdout",
     "text": "IF\nIF-2\n"
    }
   ],
   "source": [
    "x = 2\n",
    "if x == 2:\n",
    "    print(\"IF\")\n",
    "    x = 2\n",
    "    y = \"dkgjsigs\"\n",
    "    if x == 2:\n",
    "        print(\"IF-2\")\n",
    "elif x >= 4:\n",
    "    print(\"ELIF-gisjigjsigji\")\n",
    "elif x >= 2:\n",
    "    print(\"ELIF\")\n",
    "else:\n",
    "    print(\"ELSE\")"
   ]
  },
  {
   "cell_type": "code",
   "execution_count": 122,
   "metadata": {},
   "outputs": [
    {
     "output_type": "stream",
     "name": "stdout",
     "text": "Mayor a 5 o menor a 6\nTres\n"
    }
   ],
   "source": [
    "x = 5.5\n",
    "\n",
    "if (x >= 1) and (x <= 3):\n",
    "    print(\"Mayor a 1 y menor a 3\")\n",
    "elif x > 5 and x < 6:\n",
    "    print(\"Mayor a 5 o menor a 6\")\n",
    "\n",
    "    if x == 1 or x == 2 or x >= 4:\n",
    "        print(\"Tres\")\n",
    "    else:\n",
    "        print(\"Else\")\n",
    "\n"
   ]
  },
  {
   "cell_type": "markdown",
   "metadata": {},
   "source": [
    "0, None, False, [[]]\n",
    "\n",
    "\n",
    "!=0, Algo, True, [[1, \"2\"]]"
   ]
  },
  {
   "cell_type": "code",
   "execution_count": 139,
   "metadata": {},
   "outputs": [
    {
     "output_type": "stream",
     "name": "stdout",
     "text": "IF\n"
    }
   ],
   "source": [
    "x = None\n",
    "y = \"\"\n",
    "z = 0\n",
    "m = False\n",
    "\n",
    "h = 1\n",
    "if x == None:\n",
    "    print(\"IF\")\n",
    "else:\n",
    "    print(\"ELSE\")"
   ]
  },
  {
   "cell_type": "code",
   "execution_count": 2,
   "metadata": {},
   "outputs": [
    {
     "output_type": "stream",
     "name": "stdout",
     "text": "n\n"
    }
   ],
   "source": [
    "s = \"Benancio\"\n",
    "print(s[4])"
   ]
  },
  {
   "cell_type": "code",
   "execution_count": 3,
   "metadata": {},
   "outputs": [
    {
     "output_type": "stream",
     "name": "stdout",
     "text": "False\n"
    }
   ],
   "source": [
    "x = \"\"\n",
    "\n",
    "if x:\n",
    "    print(True)\n",
    "else:\n",
    "    print(False)\n",
    "\n",
    "\n"
   ]
  },
  {
   "cell_type": "code",
   "execution_count": 111,
   "metadata": {},
   "outputs": [
    {
     "output_type": "execute_result",
     "data": {
      "text/plain": "True"
     },
     "metadata": {},
     "execution_count": 111
    }
   ],
   "source": [
    "True and True"
   ]
  },
  {
   "cell_type": "code",
   "execution_count": 112,
   "metadata": {},
   "outputs": [
    {
     "output_type": "execute_result",
     "data": {
      "text/plain": "True"
     },
     "metadata": {},
     "execution_count": 112
    }
   ],
   "source": [
    "(1==1) or (1==2)"
   ]
  },
  {
   "cell_type": "code",
   "execution_count": 144,
   "metadata": {},
   "outputs": [
    {
     "output_type": "execute_result",
     "data": {
      "text/plain": "7"
     },
     "metadata": {},
     "execution_count": 144
    }
   ],
   "source": [
    "gab = \"Gabriel\"\n",
    "len(gab)"
   ]
  },
  {
   "cell_type": "code",
   "execution_count": 145,
   "metadata": {},
   "outputs": [
    {
     "output_type": "execute_result",
     "data": {
      "text/plain": "'b'"
     },
     "metadata": {},
     "execution_count": 145
    }
   ],
   "source": [
    "gab[2]"
   ]
  },
  {
   "cell_type": "markdown",
   "metadata": {},
   "source": [
    "## 4.5 Input"
   ]
  },
  {
   "cell_type": "code",
   "execution_count": 5,
   "metadata": {},
   "outputs": [
    {
     "output_type": "stream",
     "name": "stdout",
     "text": "Gabriel\n"
    }
   ],
   "source": [
    "x = input(\"Escribe tu nombre:\")\n",
    "print(x)"
   ]
  },
  {
   "cell_type": "code",
   "execution_count": 9,
   "metadata": {},
   "outputs": [
    {
     "output_type": "stream",
     "name": "stdout",
     "text": "6\n"
    }
   ],
   "source": [
    "primero = int(input(\"Inserta un número:\"))\n",
    "segundo = int(input(\"Inserta otro número:\"))\n",
    "\n",
    "print(primero + segundo)"
   ]
  },
  {
   "cell_type": "code",
   "execution_count": null,
   "metadata": {},
   "outputs": [],
   "source": [
    "x = \"2\"\n",
    "\n",
    "x.lower()\n",
    "\n"
   ]
  },
  {
   "cell_type": "code",
   "execution_count": 13,
   "metadata": {},
   "outputs": [
    {
     "output_type": "stream",
     "name": "stdout",
     "text": "12\n"
    }
   ],
   "source": [
    "p = input(\"Número 1:\")\n",
    "k = input(\"Número 2:\")\n",
    "\n",
    "if p.isnumeric() and k.isnumeric():\n",
    "    j = int(p) + int(k)\n",
    "    print(j)\n",
    "else:\n",
    "    print(\"Solo están permitidos números.\")"
   ]
  },
  {
   "cell_type": "code",
   "execution_count": null,
   "metadata": {},
   "outputs": [],
   "source": [
    "x = \"X\"\n",
    "y = 4\n",
    "\n",
    "print(x > y)"
   ]
  },
  {
   "cell_type": "markdown",
   "metadata": {},
   "source": [
    "## 5. Iteraciones, For"
   ]
  },
  {
   "cell_type": "code",
   "execution_count": 26,
   "metadata": {},
   "outputs": [
    {
     "output_type": "stream",
     "name": "stdout",
     "text": "6\n8\n10\n12\n9518591859\n"
    },
    {
     "output_type": "error",
     "ename": "TypeError",
     "evalue": "'>' not supported between instances of 'str' and 'int'",
     "traceback": [
      "\u001b[1;31m---------------------------------------------------------------------------\u001b[0m",
      "\u001b[1;31mTypeError\u001b[0m                                 Traceback (most recent call last)",
      "\u001b[1;32m<ipython-input-26-639db40e95d3>\u001b[0m in \u001b[0;36m<module>\u001b[1;34m\u001b[0m\n\u001b[0;32m      3\u001b[0m \u001b[1;33m\u001b[0m\u001b[0m\n\u001b[0;32m      4\u001b[0m \u001b[1;32mfor\u001b[0m \u001b[0mx\u001b[0m \u001b[1;32min\u001b[0m \u001b[0mlista2\u001b[0m\u001b[1;33m:\u001b[0m\u001b[1;33m\u001b[0m\u001b[0m\n\u001b[1;32m----> 5\u001b[1;33m     \u001b[1;32mif\u001b[0m \u001b[0mx\u001b[0m \u001b[1;33m>\u001b[0m \u001b[1;36m6\u001b[0m\u001b[1;33m:\u001b[0m\u001b[1;33m\u001b[0m\u001b[0m\n\u001b[0m\u001b[0;32m      6\u001b[0m         \u001b[0mprint\u001b[0m\u001b[1;33m(\u001b[0m\u001b[0mx\u001b[0m\u001b[1;33m)\u001b[0m\u001b[1;33m\u001b[0m\u001b[0m\n\u001b[0;32m      7\u001b[0m     \u001b[1;32melif\u001b[0m \u001b[0mx\u001b[0m \u001b[1;33m==\u001b[0m \u001b[1;36m6\u001b[0m\u001b[1;33m:\u001b[0m\u001b[1;33m\u001b[0m\u001b[0m\n",
      "\u001b[1;31mTypeError\u001b[0m: '>' not supported between instances of 'str' and 'int'"
     ]
    }
   ],
   "source": [
    "lista = [\"red\", 2, \"blue\", 4.0]\n",
    "lista2 = [2, 4, 6, 8, 10, 12, 9518591859]\n",
    "\n",
    "for x in lista2:\n",
    "    if x > 6:\n",
    "        print(x)\n",
    "    elif x == 6:\n",
    "        print(x)\n",
    "    elif x == 4:\n",
    "        lista2.append(x)\n",
    "\n",
    "lista2\n"
   ]
  },
  {
   "cell_type": "code",
   "execution_count": 28,
   "metadata": {},
   "outputs": [
    {
     "output_type": "stream",
     "name": "stdout",
     "text": "X\n"
    }
   ],
   "source": [
    "lista = [\"Red\", \"GabriXel\", \"Blue\", 2]\n",
    "\n",
    "for gato in lista:\n",
    "    if gato == \"GabriXel\":\n",
    "        print(gato[5])"
   ]
  },
  {
   "cell_type": "code",
   "execution_count": 32,
   "metadata": {},
   "outputs": [
    {
     "output_type": "stream",
     "name": "stdout",
     "text": "X\n"
    }
   ],
   "source": [
    "# Sacar del elemento 2 la posición 5.\n",
    "# Es String\n",
    "lista = [\"Red\", \"GabriXel\", \"Blue\", 2]\n",
    "\n",
    "for gato in lista:\n",
    "    if gato == lista[1]:\n",
    "        print(gato[5])\n",
    "    "
   ]
  },
  {
   "cell_type": "code",
   "execution_count": 1,
   "metadata": {},
   "outputs": [
    {
     "output_type": "stream",
     "name": "stdout",
     "text": "1\nX\n2\n3\n4\n"
    }
   ],
   "source": [
    "# Mostrar la iteración del for\n",
    "# Es String\n",
    "lista = [\"Red\", \"GabriXel\", \"Blue\", 2]\n",
    "\n",
    "count = 1\n",
    "for gato in lista:\n",
    "    if count == 2:\n",
    "        print(gato[5])\n",
    "    print(count)\n",
    "    count += 1"
   ]
  },
  {
   "cell_type": "code",
   "execution_count": 36,
   "metadata": {},
   "outputs": [
    {
     "output_type": "stream",
     "name": "stdout",
     "text": "Here are the first three players on my team:\nCharles\nMartina\nMichael\n"
    }
   ],
   "source": [
    "players = ['charles', 'martina', 'michael', 'florence', 'eli'] \n",
    "\n",
    "print(\"Here are the first three players on my team:\")\n",
    "for player in players[:3]:\n",
    "    print(player.title())\n"
   ]
  },
  {
   "cell_type": "code",
   "execution_count": null,
   "metadata": {},
   "outputs": [],
   "source": [
    "dimensions = (200, 50)\n",
    "for dimension in dimensions:\n",
    "    print(dimension)"
   ]
  },
  {
   "cell_type": "code",
   "execution_count": 2,
   "metadata": {},
   "outputs": [
    {
     "output_type": "execute_result",
     "data": {
      "text/plain": "[1, 3, 'X', 8]"
     },
     "metadata": {},
     "execution_count": 2
    }
   ],
   "source": [
    "lista = [1, 3, \"5\", 8]\n",
    "\n",
    "lista[2] = \"X\"\n",
    "lista"
   ]
  },
  {
   "cell_type": "code",
   "execution_count": 3,
   "metadata": {},
   "outputs": [
    {
     "output_type": "error",
     "ename": "TypeError",
     "evalue": "'tuple' object does not support item assignment",
     "traceback": [
      "\u001b[1;31m---------------------------------------------------------------------------\u001b[0m",
      "\u001b[1;31mTypeError\u001b[0m                                 Traceback (most recent call last)",
      "\u001b[1;32m<ipython-input-3-ad6ed0ddf958>\u001b[0m in \u001b[0;36m<module>\u001b[1;34m\u001b[0m\n\u001b[0;32m      1\u001b[0m \u001b[0mlista\u001b[0m \u001b[1;33m=\u001b[0m \u001b[1;33m(\u001b[0m\u001b[1;36m1\u001b[0m\u001b[1;33m,\u001b[0m \u001b[1;36m3\u001b[0m\u001b[1;33m,\u001b[0m \u001b[1;34m\"5\"\u001b[0m\u001b[1;33m,\u001b[0m \u001b[1;36m8\u001b[0m\u001b[1;33m)\u001b[0m\u001b[1;33m\u001b[0m\u001b[0m\n\u001b[0;32m      2\u001b[0m \u001b[1;33m\u001b[0m\u001b[0m\n\u001b[1;32m----> 3\u001b[1;33m \u001b[0mlista\u001b[0m\u001b[1;33m[\u001b[0m\u001b[1;36m2\u001b[0m\u001b[1;33m]\u001b[0m \u001b[1;33m=\u001b[0m \u001b[1;34m\"X\"\u001b[0m\u001b[1;33m\u001b[0m\u001b[0m\n\u001b[0m\u001b[0;32m      4\u001b[0m \u001b[0mlista\u001b[0m\u001b[1;33m\u001b[0m\u001b[0m\n",
      "\u001b[1;31mTypeError\u001b[0m: 'tuple' object does not support item assignment"
     ]
    }
   ],
   "source": [
    "lista = (1, 3, \"5\", 8)\n",
    "\n",
    "lista[2] = \"X\"\n",
    "lista"
   ]
  },
  {
   "cell_type": "code",
   "execution_count": 4,
   "metadata": {},
   "outputs": [
    {
     "output_type": "stream",
     "name": "stdout",
     "text": "Yo soy 'así'\n"
    }
   ],
   "source": [
    "print(\"Yo soy 'así'\")"
   ]
  },
  {
   "cell_type": "code",
   "execution_count": 5,
   "metadata": {},
   "outputs": [
    {
     "output_type": "stream",
     "name": "stdout",
     "text": "Yo soy \"así\"\n"
    }
   ],
   "source": [
    "print('Yo soy \"así\"')"
   ]
  },
  {
   "cell_type": "code",
   "execution_count": 7,
   "metadata": {},
   "outputs": [
    {
     "output_type": "stream",
     "name": "stdout",
     "text": "Yo soy así .\n"
    }
   ],
   "source": [
    "_ = \"así\"\n",
    "print(\"Yo soy \" + _ + \" .\")"
   ]
  },
  {
   "cell_type": "code",
   "execution_count": 8,
   "metadata": {},
   "outputs": [
    {
     "output_type": "stream",
     "name": "stdout",
     "text": "Yo tengo 15 años.\n"
    }
   ],
   "source": [
    "_ = 15\n",
    "x = \"Yo tengo \" + str(_) + \" años.\"\n",
    "print(x)"
   ]
  },
  {
   "cell_type": "code",
   "execution_count": null,
   "metadata": {},
   "outputs": [],
   "source": [
    "print(\"Yo tengo\", _ , \" años.\")"
   ]
  },
  {
   "cell_type": "code",
   "execution_count": 9,
   "metadata": {},
   "outputs": [
    {
     "output_type": "stream",
     "name": "stdout",
     "text": "Yo tengo 15 años.\n"
    }
   ],
   "source": [
    "def prtn(x, r, y, t):\n",
    "    print(x + r + y + t)\n",
    "\n",
    "prtn(x=\"Yo\", r=\" tengo\", y=\" 15\", t=\" años.\")"
   ]
  },
  {
   "cell_type": "code",
   "execution_count": null,
   "metadata": {},
   "outputs": [],
   "source": [
    "def prtn(x, r, y, t):\n",
    "    print(x + r + y + t)\n",
    "\n",
    "prtn(\"Yo\", \" tengo\", \" 15\", \" años.\")"
   ]
  },
  {
   "cell_type": "code",
   "execution_count": 10,
   "metadata": {},
   "outputs": [
    {
     "output_type": "stream",
     "name": "stdout",
     "text": "(2, 4, 6, 8, 3, 1, 3)\n"
    }
   ],
   "source": [
    "def p(*args):\n",
    "    print(args)\n",
    "\n",
    "p(2, 4, 6, 8, 3, 1, 3)"
   ]
  },
  {
   "cell_type": "markdown",
   "metadata": {},
   "source": [
    "## 6. Funciones con & sin return"
   ]
  },
  {
   "cell_type": "code",
   "execution_count": 1,
   "metadata": {},
   "outputs": [
    {
     "output_type": "stream",
     "name": "stdout",
     "text": "6\n"
    }
   ],
   "source": [
    "def x():\n",
    "    a = 2\n",
    "    b = 4\n",
    "    suma = a + b\n",
    "    print(suma)\n",
    "\n",
    "x()\n"
   ]
  },
  {
   "cell_type": "code",
   "execution_count": 6,
   "metadata": {},
   "outputs": [
    {
     "output_type": "stream",
     "name": "stdout",
     "text": "z: 2\n"
    }
   ],
   "source": [
    "def x():\n",
    "    a = 2\n",
    "    b = 4\n",
    "    suma = a + b\n",
    "    #print(\"suma:\", suma)\n",
    "    return a\n",
    "\n",
    "z = x()\n",
    "print(\"z:\", z)"
   ]
  },
  {
   "cell_type": "code",
   "execution_count": 13,
   "metadata": {},
   "outputs": [
    {
     "output_type": "stream",
     "name": "stdout",
     "text": "a: 3\nsuma3 6\n"
    }
   ],
   "source": [
    "a = 3\n",
    "\n",
    "def nombre_funcion():\n",
    "    a = 2\n",
    "    b = 4\n",
    "    suma3 = a + b\n",
    "    print(\"suma3:\", suma3)\n",
    "\n",
    "print(\"a:\", a)\n",
    "nombre_funcion()"
   ]
  },
  {
   "cell_type": "code",
   "execution_count": 20,
   "metadata": {},
   "outputs": [
    {
     "output_type": "stream",
     "name": "stdout",
     "text": "a0: 3\na2: 3\nsuma3: 7\n"
    }
   ],
   "source": [
    "a = 3\n",
    "\n",
    "def nombre_funcion():\n",
    "    print(\"a2:\", a)\n",
    "    b = 4\n",
    "    suma3 = a + b\n",
    "    print(\"suma3:\", suma3)\n",
    "\n",
    "print(\"a0:\", a)\n",
    "nombre_funcion()"
   ]
  },
  {
   "cell_type": "code",
   "execution_count": 49,
   "metadata": {},
   "outputs": [
    {
     "output_type": "stream",
     "name": "stdout",
     "text": "6\n"
    }
   ],
   "source": [
    "def nombre_funcion():\n",
    "    a = 2\n",
    "    b = 4\n",
    "    suma3 = a + b\n",
    "    return suma3\n",
    "    \n",
    "print(nombre_funcion())"
   ]
  },
  {
   "cell_type": "code",
   "execution_count": 50,
   "metadata": {},
   "outputs": [
    {
     "output_type": "stream",
     "name": "stdout",
     "text": "None\n"
    }
   ],
   "source": [
    "def nombre_funcion():\n",
    "    a = 2\n",
    "    b = 4\n",
    "    suma3 = a + b\n",
    "    \n",
    "print(nombre_funcion())"
   ]
  },
  {
   "cell_type": "code",
   "execution_count": null,
   "metadata": {},
   "outputs": [],
   "source": [
    "s = \"HOLA\"\n",
    "s.lower()"
   ]
  },
  {
   "cell_type": "code",
   "execution_count": 21,
   "metadata": {},
   "outputs": [
    {
     "output_type": "stream",
     "name": "stdout",
     "text": "6\n-2\n-2\n"
    }
   ],
   "source": [
    "def nombre_funcion():\n",
    "    a = 2\n",
    "    b = 4\n",
    "    suma3 = a + b\n",
    "    resta = a - b\n",
    "    print(suma3)\n",
    "    print(resta)\n",
    "    return resta\n",
    "    print(suma3)\n",
    "    return [\"2\", 2]\n",
    "    \n",
    "x = nombre_funcion()\n",
    "print(x)"
   ]
  },
  {
   "cell_type": "code",
   "execution_count": 22,
   "metadata": {},
   "outputs": [
    {
     "output_type": "stream",
     "name": "stdout",
     "text": "0.8333333333333334\n"
    }
   ],
   "source": [
    "def suma():\n",
    "    a = 2\n",
    "    b = 3\n",
    "    return a + b\n",
    "\n",
    "def multiplicacion():\n",
    "    a = 2\n",
    "    b = 3\n",
    "    return a * b\n",
    "\n",
    "def f():\n",
    "    x = suma()\n",
    "    y = multiplicacion()\n",
    "    h = x / y\n",
    "    return h\n",
    "\n",
    "x = f()\n",
    "print(x)"
   ]
  },
  {
   "cell_type": "code",
   "execution_count": 57,
   "metadata": {},
   "outputs": [
    {
     "output_type": "error",
     "ename": "TypeError",
     "evalue": "'int' object is not callable",
     "traceback": [
      "\u001b[1;31m---------------------------------------------------------------------------\u001b[0m",
      "\u001b[1;31mTypeError\u001b[0m                                 Traceback (most recent call last)",
      "\u001b[1;32m<ipython-input-57-4f022eb667b2>\u001b[0m in \u001b[0;36m<module>\u001b[1;34m\u001b[0m\n\u001b[0;32m      1\u001b[0m \u001b[0msuma\u001b[0m \u001b[1;33m=\u001b[0m \u001b[1;36m2\u001b[0m\u001b[1;33m\u001b[0m\u001b[0m\n\u001b[1;32m----> 2\u001b[1;33m \u001b[0mx\u001b[0m \u001b[1;33m=\u001b[0m \u001b[0msuma\u001b[0m\u001b[1;33m(\u001b[0m\u001b[1;33m)\u001b[0m\u001b[1;33m\u001b[0m\u001b[0m\n\u001b[0m",
      "\u001b[1;31mTypeError\u001b[0m: 'int' object is not callable"
     ]
    }
   ],
   "source": [
    "suma = 2 \n",
    "x = suma()"
   ]
  },
  {
   "cell_type": "code",
   "execution_count": 25,
   "metadata": {},
   "outputs": [
    {
     "output_type": "stream",
     "name": "stdout",
     "text": "10\n"
    }
   ],
   "source": [
    "# Esto es un comentario\n",
    "\"\"\" Esto es otro\"\"\"\n",
    "\n",
    "def suma_generica(arg1, arg2):\n",
    "    \"\"\" Suma arg1 y arg2 \n",
    "    Esta es la segunda línea de la documentación de la función\n",
    "    \"\"\"\n",
    "    a = 2  # Esta variable vale 2\n",
    "    return arg1 + arg2\n",
    "\n",
    "a = 3\n",
    "b = 7\n",
    "\n",
    "x = suma_generica(arg1=a, arg2=b)\n",
    "print(x)\n"
   ]
  },
  {
   "cell_type": "code",
   "execution_count": 26,
   "metadata": {},
   "outputs": [
    {
     "output_type": "stream",
     "name": "stdout",
     "text": "Help on function suma_generica in module __main__:\n\nsuma_generica(arg1, arg2)\n    Suma arg1 y arg2 \n    Esta es la segunda línea de la documentación de la función\n\n"
    }
   ],
   "source": [
    "help(suma_generica)"
   ]
  },
  {
   "cell_type": "code",
   "execution_count": 28,
   "metadata": {},
   "outputs": [
    {
     "output_type": "stream",
     "name": "stdout",
     "text": "Solo se pueden sumar números\nNone\n"
    }
   ],
   "source": [
    "def suma_generica(arg1, arg2):\n",
    "    \"\"\" Suma arg1 y arg2 \"\"\"\n",
    "    if arg1.isnumeric() and arg2.isnumeric():\n",
    "        return int(arg1) + int(arg2)\n",
    "    else:\n",
    "        print(\"Solo se pueden sumar números\")\n",
    "\n",
    "a = input()\n",
    "b = input()\n",
    "\n",
    "x = suma_generica(arg1=a, arg2=b)\n",
    "print(x)"
   ]
  },
  {
   "cell_type": "code",
   "execution_count": 31,
   "metadata": {},
   "outputs": [
    {
     "output_type": "stream",
     "name": "stdout",
     "text": "Solo se pueden sumar números\n"
    }
   ],
   "source": [
    "def suma_generica(arg1, arg2):\n",
    "    \"\"\" Suma arg1 y arg2 \"\"\"\n",
    "    if arg1.isnumeric() and arg2.isnumeric():\n",
    "        return int(arg1) + int(arg2)\n",
    "    else:\n",
    "        return \"Solo se pueden sumar números\"\n",
    "\n",
    "a = input()\n",
    "b = input()\n",
    "\n",
    "x = suma_generica(arg1=a, arg2=b)\n",
    "print(x)"
   ]
  },
  {
   "cell_type": "markdown",
   "metadata": {},
   "source": [
    "## Bonus: \n",
    "\n",
    "- x % y --> El módulo\n",
    "- .gitignore"
   ]
  },
  {
   "cell_type": "code",
   "execution_count": 32,
   "metadata": {},
   "outputs": [
    {
     "output_type": "execute_result",
     "data": {
      "text/plain": "1.0"
     },
     "metadata": {},
     "execution_count": 32
    }
   ],
   "source": [
    "2/2\n"
   ]
  },
  {
   "cell_type": "code",
   "execution_count": 39,
   "metadata": {},
   "outputs": [
    {
     "output_type": "execute_result",
     "data": {
      "text/plain": "0"
     },
     "metadata": {},
     "execution_count": 39
    }
   ],
   "source": [
    "235202905902 % 2"
   ]
  },
  {
   "cell_type": "code",
   "execution_count": 45,
   "metadata": {},
   "outputs": [
    {
     "output_type": "execute_result",
     "data": {
      "text/plain": "6"
     },
     "metadata": {},
     "execution_count": 45
    }
   ],
   "source": [
    "8 - 2 "
   ]
  },
  {
   "cell_type": "code",
   "execution_count": 46,
   "metadata": {},
   "outputs": [
    {
     "output_type": "execute_result",
     "data": {
      "text/plain": "0"
     },
     "metadata": {},
     "execution_count": 46
    }
   ],
   "source": [
    "8 % 2"
   ]
  },
  {
   "cell_type": "code",
   "execution_count": 47,
   "metadata": {},
   "outputs": [
    {
     "output_type": "execute_result",
     "data": {
      "text/plain": "4.0"
     },
     "metadata": {},
     "execution_count": 47
    }
   ],
   "source": [
    "8 / 2 "
   ]
  },
  {
   "cell_type": "code",
   "execution_count": null,
   "metadata": {},
   "outputs": [],
   "source": []
  },
  {
   "cell_type": "code",
   "execution_count": 40,
   "metadata": {},
   "outputs": [
    {
     "output_type": "stream",
     "name": "stdout",
     "text": "True\n"
    }
   ],
   "source": [
    "if not(1 == 1):\n",
    "    print(True)\n",
    "else:\n",
    "    print(False)"
   ]
  },
  {
   "cell_type": "code",
   "execution_count": 44,
   "metadata": {},
   "outputs": [
    {
     "output_type": "stream",
     "name": "stdout",
     "text": "Y\nimprime otra cosa\n"
    }
   ],
   "source": [
    "y = 2\n",
    "if y:\n",
    "    print(\"Y\")\n",
    "if not(y):\n",
    "    print(6)\n",
    "else:\n",
    "    print(\"imprime otra cosa\")"
   ]
  },
  {
   "cell_type": "markdown",
   "metadata": {},
   "source": [
    "## 7. Diccionarios"
   ]
  },
  {
   "cell_type": "markdown",
   "metadata": {},
   "source": [
    "{key:value}"
   ]
  },
  {
   "cell_type": "code",
   "execution_count": 85,
   "metadata": {},
   "outputs": [
    {
     "output_type": "execute_result",
     "data": {
      "text/plain": "{1: 'X', 'X': 2}"
     },
     "metadata": {},
     "execution_count": 85
    }
   ],
   "source": [
    "diccionario = {1:\"X\", \"X\":2}\n",
    "diccionario"
   ]
  },
  {
   "cell_type": "code",
   "execution_count": 86,
   "metadata": {},
   "outputs": [
    {
     "output_type": "execute_result",
     "data": {
      "text/plain": "'X'"
     },
     "metadata": {},
     "execution_count": 86
    }
   ],
   "source": [
    "diccionario[1]"
   ]
  },
  {
   "cell_type": "code",
   "execution_count": 87,
   "metadata": {},
   "outputs": [
    {
     "output_type": "execute_result",
     "data": {
      "text/plain": "2"
     },
     "metadata": {},
     "execution_count": 87
    }
   ],
   "source": [
    "diccionario[\"X\"]"
   ]
  },
  {
   "cell_type": "code",
   "execution_count": 88,
   "metadata": {},
   "outputs": [
    {
     "output_type": "execute_result",
     "data": {
      "text/plain": "{1: 'X', 'X': 2, 'clave': ['2', 2]}"
     },
     "metadata": {},
     "execution_count": 88
    }
   ],
   "source": [
    "diccionario[\"clave\"] = [\"2\", 2]\n",
    "diccionario"
   ]
  },
  {
   "cell_type": "code",
   "execution_count": 89,
   "metadata": {},
   "outputs": [
    {
     "output_type": "execute_result",
     "data": {
      "text/plain": "{1: 'X', 'X': 2, 'clave': ['2', 2], 2: 4}"
     },
     "metadata": {},
     "execution_count": 89
    }
   ],
   "source": [
    "diccionario[2] = 4\n",
    "diccionario"
   ]
  },
  {
   "cell_type": "code",
   "execution_count": 90,
   "metadata": {},
   "outputs": [
    {
     "output_type": "stream",
     "name": "stdout",
     "text": "['2', 2]\n"
    }
   ],
   "source": [
    "print(diccionario[\"clave\"])"
   ]
  },
  {
   "cell_type": "code",
   "execution_count": 91,
   "metadata": {},
   "outputs": [
    {
     "output_type": "execute_result",
     "data": {
      "text/plain": "{1: 'X', 'X': 2, 'clave': ['2', 4], 2: 4}"
     },
     "metadata": {},
     "execution_count": 91
    }
   ],
   "source": [
    "diccionario[\"clave\"] = [\"2\", 4]\n",
    "diccionario"
   ]
  },
  {
   "cell_type": "code",
   "execution_count": 92,
   "metadata": {},
   "outputs": [
    {
     "output_type": "execute_result",
     "data": {
      "text/plain": "{1: 'X', 'X': 2, 'clave': ['2', 4], 2: 4}"
     },
     "metadata": {},
     "execution_count": 92
    }
   ],
   "source": [
    "diccionario[\"clave\"] = diccionario[\"clave\"]\n",
    "diccionario"
   ]
  },
  {
   "cell_type": "code",
   "execution_count": 93,
   "metadata": {},
   "outputs": [
    {
     "output_type": "execute_result",
     "data": {
      "text/plain": "{1: 'X', 'X': '3', 'clave': ['2', 4], 2: 4}"
     },
     "metadata": {},
     "execution_count": 93
    }
   ],
   "source": [
    "diccionario[\"X\"] = \"3\"\n",
    "diccionario"
   ]
  },
  {
   "cell_type": "code",
   "execution_count": 94,
   "metadata": {},
   "outputs": [
    {
     "output_type": "execute_result",
     "data": {
      "text/plain": "{1: 'X', 'X': '3', 'clave': ['2', 4], 2: 4, 'x': 99}"
     },
     "metadata": {},
     "execution_count": 94
    }
   ],
   "source": [
    "diccionario[\"x\"] = 99\n",
    "diccionario"
   ]
  },
  {
   "cell_type": "code",
   "execution_count": 95,
   "metadata": {},
   "outputs": [
    {
     "output_type": "execute_result",
     "data": {
      "text/plain": "{1: 'X', 'X': 99, 'clave': ['2', 4], 2: 4, 'x': 99}"
     },
     "metadata": {},
     "execution_count": 95
    }
   ],
   "source": [
    "diccionario[\"X\"] = diccionario[\"x\"]\n",
    "diccionario"
   ]
  },
  {
   "cell_type": "code",
   "execution_count": 96,
   "metadata": {},
   "outputs": [
    {
     "output_type": "stream",
     "name": "stdout",
     "text": "Claves: 1\nClaves: X\nClaves: clave\nClaves: 2\nClaves: x\n"
    }
   ],
   "source": [
    "for elem in diccionario:\n",
    "    print(\"Claves:\", elem)"
   ]
  },
  {
   "cell_type": "code",
   "execution_count": 97,
   "metadata": {},
   "outputs": [
    {
     "output_type": "stream",
     "name": "stdout",
     "text": "X\n99\n['2', 4]\n4\n99\n"
    }
   ],
   "source": [
    "for elem in diccionario.values():\n",
    "    print(elem)"
   ]
  },
  {
   "cell_type": "code",
   "execution_count": 98,
   "metadata": {},
   "outputs": [
    {
     "output_type": "stream",
     "name": "stdout",
     "text": "1\nX\nclave\n2\nx\n"
    }
   ],
   "source": [
    "for elem in diccionario.keys():\n",
    "    print(elem)"
   ]
  },
  {
   "cell_type": "code",
   "execution_count": 99,
   "metadata": {},
   "outputs": [
    {
     "output_type": "execute_result",
     "data": {
      "text/plain": "{1: 'X', 'X': 99, 'clave': ['2', 4], 2: 4, 'x': 99}"
     },
     "metadata": {},
     "execution_count": 99
    }
   ],
   "source": [
    "diccionario"
   ]
  },
  {
   "cell_type": "code",
   "execution_count": 100,
   "metadata": {},
   "outputs": [
    {
     "output_type": "stream",
     "name": "stdout",
     "text": "k: 1\nv: X\n-----------------\nk: X\nv: 99\n-----------------\nk: clave\nv: ['2', 4]\n-----------------\nk: 2\nv: 4\n-----------------\nk: x\nv: 99\n-----------------\n"
    }
   ],
   "source": [
    "for maria, alba in diccionario.items():\n",
    "    print(\"k:\", maria)\n",
    "    print(\"v:\", alba)\n",
    "    print(\"-----------------\")"
   ]
  },
  {
   "cell_type": "code",
   "execution_count": 101,
   "metadata": {},
   "outputs": [
    {
     "output_type": "execute_result",
     "data": {
      "text/plain": "2"
     },
     "metadata": {},
     "execution_count": 101
    }
   ],
   "source": [
    "x = 2\n",
    "x"
   ]
  },
  {
   "cell_type": "code",
   "execution_count": 102,
   "metadata": {},
   "outputs": [
    {
     "output_type": "error",
     "ename": "NameError",
     "evalue": "name 'x' is not defined",
     "traceback": [
      "\u001b[1;31m---------------------------------------------------------------------------\u001b[0m",
      "\u001b[1;31mNameError\u001b[0m                                 Traceback (most recent call last)",
      "\u001b[1;32m<ipython-input-102-1beca76b84e9>\u001b[0m in \u001b[0;36m<module>\u001b[1;34m\u001b[0m\n\u001b[0;32m      1\u001b[0m \u001b[1;32mdel\u001b[0m \u001b[0mx\u001b[0m\u001b[1;33m\u001b[0m\u001b[0m\n\u001b[1;32m----> 2\u001b[1;33m \u001b[0mx\u001b[0m\u001b[1;33m\u001b[0m\u001b[0m\n\u001b[0m",
      "\u001b[1;31mNameError\u001b[0m: name 'x' is not defined"
     ]
    }
   ],
   "source": [
    "del x\n",
    "x"
   ]
  },
  {
   "cell_type": "code",
   "execution_count": 103,
   "metadata": {},
   "outputs": [
    {
     "output_type": "execute_result",
     "data": {
      "text/plain": "{1: 'X', 'X': 99, 'clave': ['2', 4], 2: 4, 'x': 99}"
     },
     "metadata": {},
     "execution_count": 103
    }
   ],
   "source": [
    "diccionario"
   ]
  },
  {
   "cell_type": "code",
   "execution_count": 104,
   "metadata": {},
   "outputs": [
    {
     "output_type": "execute_result",
     "data": {
      "text/plain": "{1: 'X', 'X': 99, 2: 4, 'x': 99}"
     },
     "metadata": {},
     "execution_count": 104
    }
   ],
   "source": [
    "del diccionario[\"clave\"]\n",
    "diccionario\n"
   ]
  },
  {
   "cell_type": "code",
   "execution_count": 105,
   "metadata": {},
   "outputs": [
    {
     "output_type": "execute_result",
     "data": {
      "text/plain": "{1: 'X', 'X': 99, 2: 4}"
     },
     "metadata": {},
     "execution_count": 105
    }
   ],
   "source": [
    "del diccionario[\"x\"]\n",
    "diccionario"
   ]
  },
  {
   "cell_type": "code",
   "execution_count": 106,
   "metadata": {},
   "outputs": [
    {
     "output_type": "execute_result",
     "data": {
      "text/plain": "{1: 'X', 'X': 99, 2: 4, 'before': 24}"
     },
     "metadata": {},
     "execution_count": 106
    }
   ],
   "source": [
    "diccionario.update({'before' : 24})\n",
    "diccionario"
   ]
  },
  {
   "cell_type": "code",
   "execution_count": 107,
   "metadata": {},
   "outputs": [
    {
     "output_type": "execute_result",
     "data": {
      "text/plain": "{1: 'X', 'X': 99, 2: 4, 'before': 2}"
     },
     "metadata": {},
     "execution_count": 107
    }
   ],
   "source": [
    "diccionario[\"before\"] = 2\n",
    "diccionario"
   ]
  },
  {
   "cell_type": "code",
   "execution_count": 108,
   "metadata": {},
   "outputs": [],
   "source": [
    "diccionario[\"dict\"] = diccionario"
   ]
  },
  {
   "cell_type": "code",
   "execution_count": 109,
   "metadata": {},
   "outputs": [
    {
     "output_type": "stream",
     "name": "stdout",
     "text": "{1: 'X', 'X': 99, 2: 4, 'before': 2, 'dict': {...}}\n"
    }
   ],
   "source": [
    "print(diccionario)"
   ]
  },
  {
   "cell_type": "code",
   "execution_count": 112,
   "metadata": {},
   "outputs": [
    {
     "output_type": "stream",
     "name": "stdout",
     "text": "k 1\nv X\n-------------\nk X\nv 99\n-------------\nk 2\nv 4\n-------------\nk before\nv 2\n-------------\nk dict\nv {1: 'X', 'X': 99, 2: 4, 'before': 2, 'dict': {...}}\nx 1\ny X\nx X\ny 99\nx 2\ny 4\nx before\ny 2\nx dict\ny {1: 'X', 'X': 99, 2: 4, 'before': 2, 'dict': {...}}\n-------------\n"
    }
   ],
   "source": [
    "for k, v in diccionario.items():\n",
    "    print(\"k\", k)\n",
    "    print(\"v\", v)\n",
    "    if k == \"dict\":\n",
    "        for x, y in v.items():\n",
    "            print(\"x\", x)\n",
    "            print(\"y\", y)\n",
    "    print(\"-------------\")"
   ]
  },
  {
   "cell_type": "code",
   "execution_count": 113,
   "metadata": {},
   "outputs": [
    {
     "output_type": "execute_result",
     "data": {
      "text/plain": "{'899008667J': ['Paco', 1.78, 33, 4000000],\n '676777888Y': ['Paco', 1.78, 33, 30]}"
     },
     "metadata": {},
     "execution_count": 113
    }
   ],
   "source": [
    "dict_dnis = {}\n",
    "dict_dnis[\"899008667J\"] = [\"Paco\", 1.78, 33, 4000000]\n",
    "dict_dnis[\"676777888Y\"] = [\"Paco\", 1.78, 33, 30]\n",
    "dict_dnis\n"
   ]
  },
  {
   "cell_type": "markdown",
   "metadata": {},
   "source": [
    "## 8. Import Modules"
   ]
  },
  {
   "cell_type": "code",
   "execution_count": 1,
   "metadata": {},
   "outputs": [
    {
     "output_type": "stream",
     "name": "stdout",
     "text": "8\n"
    }
   ],
   "source": [
    "import mi_modulo \n",
    "\n",
    "suma = mi_modulo.suma_2(a=2, b=6)\n",
    "print(suma)"
   ]
  },
  {
   "cell_type": "code",
   "execution_count": 2,
   "metadata": {},
   "outputs": [
    {
     "output_type": "execute_result",
     "data": {
      "text/plain": "1"
     },
     "metadata": {},
     "execution_count": 2
    }
   ],
   "source": [
    "resta = mi_modulo.resta_2(a=7, b=6)\n",
    "resta"
   ]
  },
  {
   "cell_type": "code",
   "execution_count": 11,
   "metadata": {},
   "outputs": [
    {
     "output_type": "execute_result",
     "data": {
      "text/plain": "2"
     },
     "metadata": {},
     "execution_count": 11
    }
   ],
   "source": [
    "from mi_modulo import resta_2\n",
    "\n",
    "resta2 = resta_2(a=5, b=3)\n",
    "resta2"
   ]
  },
  {
   "cell_type": "code",
   "execution_count": null,
   "metadata": {},
   "outputs": [],
   "source": [
    "import mi_modulo as mm\n",
    "\n",
    "mm.resta_2()"
   ]
  },
  {
   "cell_type": "markdown",
   "metadata": {},
   "source": [
    "### Bonus lista"
   ]
  },
  {
   "cell_type": "code",
   "execution_count": 16,
   "metadata": {},
   "outputs": [
    {
     "output_type": "execute_result",
     "data": {
      "text/plain": "[2, 3, 6]"
     },
     "metadata": {},
     "execution_count": 16
    }
   ],
   "source": [
    "lista = [1, 2, 3, 6, 7, 8]\n",
    "\n",
    "lista[1:4]"
   ]
  },
  {
   "cell_type": "code",
   "execution_count": 18,
   "metadata": {},
   "outputs": [
    {
     "output_type": "execute_result",
     "data": {
      "text/plain": "[3, 6]"
     },
     "metadata": {},
     "execution_count": 18
    }
   ],
   "source": [
    "lista[2:4]\n",
    "[0, 4)"
   ]
  },
  {
   "cell_type": "code",
   "execution_count": null,
   "metadata": {},
   "outputs": [],
   "source": [
    "l = [1, 2, 3, 4, 5 ,6 ,7 ,8 ,9]\n",
    "\n",
    "[0, 4]\n",
    "(0, 4)\n",
    "\n"
   ]
  },
  {
   "cell_type": "code",
   "execution_count": null,
   "metadata": {},
   "outputs": [],
   "source": []
  },
  {
   "cell_type": "markdown",
   "metadata": {},
   "source": [
    "## 9. Bucle While"
   ]
  },
  {
   "cell_type": "code",
   "execution_count": 68,
   "metadata": {},
   "outputs": [
    {
     "output_type": "stream",
     "name": "stdout",
     "text": "d 1\ni 2\nj 3\na 4\n"
    }
   ],
   "source": [
    "l = \"dija\"\n",
    "acum = 0\n",
    "for i in l:\n",
    "    acum = acum + 1\n",
    "    print(i, acum)"
   ]
  },
  {
   "cell_type": "code",
   "execution_count": 70,
   "metadata": {},
   "outputs": [
    {
     "output_type": "stream",
     "name": "stdout",
     "text": "d 1\ni 2\nj 3\na 4\n"
    }
   ],
   "source": [
    "l = \"dija\"\n",
    "acum = 1\n",
    "for i in l:\n",
    "    print(i, acum)\n",
    "    acum = acum + 1"
   ]
  },
  {
   "cell_type": "code",
   "execution_count": 74,
   "metadata": {},
   "outputs": [
    {
     "output_type": "stream",
     "name": "stdout",
     "text": "Iteración:  1\nIteración:  2\nIteración:  3\nIteración:  4\nIteración:  5\n"
    }
   ],
   "source": [
    "acum = 0\n",
    "while acum < 5:\n",
    "    print(\"Iteración: \", acum + 1)\n",
    "    acum += 1"
   ]
  },
  {
   "cell_type": "code",
   "execution_count": null,
   "metadata": {},
   "outputs": [],
   "source": [
    "lista = [2, 4, 5, \"Yo\"]\n",
    "l = [], None, 0, False\n",
    "while l:\n",
    "    print(\"K\")\n",
    "\n",
    "    "
   ]
  },
  {
   "cell_type": "code",
   "execution_count": null,
   "metadata": {},
   "outputs": [],
   "source": [
    "lista[0]\n",
    "lista[1]\n",
    "lista[2]\n",
    "lista[3]"
   ]
  },
  {
   "cell_type": "code",
   "execution_count": 75,
   "metadata": {},
   "outputs": [
    {
     "output_type": "stream",
     "name": "stdout",
     "text": "2\n4\n5\nYo\n"
    }
   ],
   "source": [
    "lista = [2, 4, 5, \"Yo\"]\n",
    "for x in lista:\n",
    "    print(x)"
   ]
  },
  {
   "cell_type": "code",
   "execution_count": 77,
   "metadata": {},
   "outputs": [
    {
     "output_type": "stream",
     "name": "stdout",
     "text": "2\n4\n5\nYo\n"
    }
   ],
   "source": [
    "lista = [2, 4, 5, \"Yo\"]\n",
    "acum = 0\n",
    "tamano_lista = len(lista)\n",
    "while acum < 4:\n",
    "    print(lista[acum])\n",
    "    acum += 1\n"
   ]
  },
  {
   "cell_type": "code",
   "execution_count": 82,
   "metadata": {},
   "outputs": [
    {
     "output_type": "stream",
     "name": "stdout",
     "text": "2\nacum: 0\n--------------------\n4\nacum: 1\n--------------------\n5\nacum: 2\n--------------------\nYo\nacum: 3\n--------------------\nHa entrado en el break\nacum: 4\ntamano_lista 4\nEsto está fuera del while\n"
    }
   ],
   "source": [
    "lista = [2, 4, 5, \"Yo\"]\n",
    "acum = 0\n",
    "tamano_lista = len(lista)\n",
    "while acum <= tamano_lista:\n",
    "    if acum >= tamano_lista:\n",
    "        print(\"Ha entrado en el break\")\n",
    "        print(\"acum:\", acum)\n",
    "        print(\"tamano_lista\", tamano_lista)\n",
    "        break\n",
    "    print(lista[acum])\n",
    "    print(\"acum:\", acum)\n",
    "    acum += 1\n",
    "    print(\"--------------------\")\n",
    "\n",
    "print(\"Esto está fuera del while\")"
   ]
  },
  {
   "cell_type": "code",
   "execution_count": null,
   "metadata": {},
   "outputs": [],
   "source": []
  },
  {
   "cell_type": "code",
   "execution_count": 71,
   "metadata": {},
   "outputs": [
    {
     "output_type": "stream",
     "name": "stdout",
     "text": "Es menor\n"
    }
   ],
   "source": [
    "acum = 0 \n",
    "if acum < 5:\n",
    "    print(\"Es menor\")"
   ]
  },
  {
   "cell_type": "markdown",
   "metadata": {},
   "source": [
    "## 10. Break, Continue"
   ]
  },
  {
   "cell_type": "code",
   "execution_count": 7,
   "metadata": {},
   "outputs": [
    {
     "output_type": "stream",
     "name": "stdout",
     "text": "alex\n2\ngab\nl\n"
    }
   ],
   "source": [
    "lista = [\"alex\", 2, \"gab\", \"l\", \"8\"]\n",
    "for i in lista:\n",
    "    print(i)\n",
    "    if i == \"l\":\n",
    "        break"
   ]
  },
  {
   "cell_type": "code",
   "execution_count": 13,
   "metadata": {},
   "outputs": [
    {
     "output_type": "stream",
     "name": "stdout",
     "text": "alex\nbegoña\nsara\nataulfo\n"
    }
   ],
   "source": [
    "lista = [\"alex\", \"begoña\", \"gabriel\", \"sara\", \"ataulfo\"]\n",
    "\n",
    "for k in lista:\n",
    "    if k == \"gabriel\":\n",
    "        continue\n",
    "    print(k)"
   ]
  },
  {
   "cell_type": "markdown",
   "metadata": {},
   "source": [
    "## 11. \n",
    "\n",
    "### for x in range()\n",
    "\n",
    "### for x in enumerate()"
   ]
  },
  {
   "cell_type": "code",
   "execution_count": 19,
   "metadata": {},
   "outputs": [
    {
     "output_type": "stream",
     "name": "stdout",
     "text": "Pepito\nLorenzo\nJuan\nLaura\nAlicia\nMónica\n"
    }
   ],
   "source": [
    "lista = [\"Pepito\", \"Lorenzo\", \"Juan\", \"Laura\", \"Alicia\", \"Mónica\"]\n",
    "\n",
    "for x in lista:\n",
    "    print(x)"
   ]
  },
  {
   "cell_type": "code",
   "execution_count": 27,
   "metadata": {},
   "outputs": [
    {
     "output_type": "execute_result",
     "data": {
      "text/plain": "['Pepito', 'Lorenzo', 'Juan', 'Laura', 'Alicia', 'Mónica']"
     },
     "metadata": {},
     "execution_count": 27
    }
   ],
   "source": [
    "lista"
   ]
  },
  {
   "cell_type": "code",
   "execution_count": 31,
   "metadata": {},
   "outputs": [
    {
     "output_type": "stream",
     "name": "stdout",
     "text": "x: 0\nelem: Pepito\n-------------\nx: 1\nelem: Lorenzo\n-------------\nx: 2\nelem: Juan\n-------------\nx: 3\nelem: Laura\n-------------\nx: 4\nelem: Alicia\n-------------\nx: 5\nelem: Mónica\n-------------\n"
    }
   ],
   "source": [
    "tamano_lista = len(lista)\n",
    "for x in range(tamano_lista):\n",
    "    print(\"x:\", x)\n",
    "    print(\"elem:\", lista[x])\n",
    "    print(\"-------------\")"
   ]
  },
  {
   "cell_type": "code",
   "execution_count": 32,
   "metadata": {},
   "outputs": [
    {
     "output_type": "execute_result",
     "data": {
      "text/plain": "['Pepito', 'Lorenzo', 'Juan', 'Laura', 'Alicia', 'Mónica']"
     },
     "metadata": {},
     "execution_count": 32
    }
   ],
   "source": [
    "lista"
   ]
  },
  {
   "cell_type": "code",
   "execution_count": 33,
   "metadata": {},
   "outputs": [
    {
     "output_type": "stream",
     "name": "stdout",
     "text": "(0, 'Pepito')\n(1, 'Lorenzo')\n(2, 'Juan')\n(3, 'Laura')\n(4, 'Alicia')\n(5, 'Mónica')\n"
    }
   ],
   "source": [
    "for x in enumerate(lista):\n",
    "    print(x)"
   ]
  },
  {
   "cell_type": "code",
   "execution_count": 36,
   "metadata": {},
   "outputs": [
    {
     "output_type": "execute_result",
     "data": {
      "text/plain": "['Pepito', 'Lorenzo', 'Juan', 'Laura', 'Alicia', 'Mónica']"
     },
     "metadata": {},
     "execution_count": 36
    }
   ],
   "source": [
    "lista"
   ]
  },
  {
   "cell_type": "code",
   "execution_count": 37,
   "metadata": {},
   "outputs": [
    {
     "output_type": "stream",
     "name": "stdout",
     "text": "pos: 0\nelem: Pepito\n-------------\npos: 1\nelem: Lorenzo\n-------------\npos: 2\nelem: Juan\n-------------\npos: 3\nelem: Laura\n-------------\npos: 4\nelem: Alicia\n-------------\npos: 5\nelem: Mónica\n-------------\n"
    }
   ],
   "source": [
    "for pos, elem in enumerate(lista):\n",
    "    print(\"pos:\", pos)\n",
    "    print(\"elem:\", elem)\n",
    "    print(\"-------------\")\n"
   ]
  },
  {
   "cell_type": "code",
   "execution_count": 38,
   "metadata": {},
   "outputs": [
    {
     "output_type": "execute_result",
     "data": {
      "text/plain": "8"
     },
     "metadata": {},
     "execution_count": 38
    }
   ],
   "source": [
    "ol = ['Pepito', 'Lorenzo', [6, 8], 'Laura', 'Alicia', 'Mónica']\n",
    "\n",
    "ol[2][1]"
   ]
  },
  {
   "cell_type": "code",
   "execution_count": 41,
   "metadata": {},
   "outputs": [
    {
     "output_type": "execute_result",
     "data": {
      "text/plain": "['Pepito', 'Lorenzo', [6, 8], 'Laura', 'Alicia', 'Mónica']"
     },
     "metadata": {},
     "execution_count": 41
    }
   ],
   "source": [
    "ol"
   ]
  },
  {
   "cell_type": "code",
   "execution_count": 42,
   "metadata": {},
   "outputs": [
    {
     "output_type": "stream",
     "name": "stdout",
     "text": "8\n"
    }
   ],
   "source": [
    "for i, x in enumerate(ol):\n",
    "    if i == 2:\n",
    "        print(x[1])"
   ]
  },
  {
   "cell_type": "code",
   "execution_count": 45,
   "metadata": {},
   "outputs": [
    {
     "output_type": "stream",
     "name": "stdout",
     "text": "Help on built-in function isinstance in module builtins:\n\nisinstance(obj, class_or_tuple, /)\n    Return whether an object is an instance of a class or of a subclass thereof.\n    \n    A tuple, as in ``isinstance(x, (A, B, ...))``, may be given as the target to\n    check against. This is equivalent to ``isinstance(x, A) or isinstance(x, B)\n    or ...`` etc.\n\n"
    }
   ],
   "source": [
    "help(isinstance)"
   ]
  },
  {
   "cell_type": "code",
   "execution_count": 46,
   "metadata": {},
   "outputs": [
    {
     "output_type": "stream",
     "name": "stdout",
     "text": "True\n"
    }
   ],
   "source": [
    "x = 2\n",
    "print(isinstance(x, int))"
   ]
  },
  {
   "cell_type": "code",
   "execution_count": 47,
   "metadata": {},
   "outputs": [
    {
     "output_type": "execute_result",
     "data": {
      "text/plain": "['Pepito', 'Lorenzo', [6, 8], 'Laura', 'Alicia', 'Mónica']"
     },
     "metadata": {},
     "execution_count": 47
    }
   ],
   "source": [
    "ol "
   ]
  },
  {
   "cell_type": "code",
   "execution_count": 52,
   "metadata": {},
   "outputs": [
    {
     "output_type": "stream",
     "name": "stdout",
     "text": "Iteración: 1\nIteración: 2\nIteración: 3\nLa posición es:  2\n8\nIteración: 4\nIteración: 5\nIteración: 6\n"
    }
   ],
   "source": [
    "for i, x in enumerate(ol):\n",
    "    print(\"Iteración:\", i+1)\n",
    "    if isinstance(x, list):\n",
    "        print(\"La posición es: \", i)\n",
    "        print(x[1])\n",
    "    "
   ]
  },
  {
   "cell_type": "code",
   "execution_count": 55,
   "metadata": {},
   "outputs": [],
   "source": [
    "al = ['Pepito', 'Lorenzo', [6, 8], 'Laura', (5, 78), 'Mónica']"
   ]
  },
  {
   "cell_type": "code",
   "execution_count": 62,
   "metadata": {},
   "outputs": [
    {
     "output_type": "stream",
     "name": "stdout",
     "text": "Iteración: 1\n---------------\nIteración: 2\n---------------\nIteración: 3\nSe cumple\nLa posición es:  2\n8\n"
    }
   ],
   "source": [
    "for i, x in enumerate(al):\n",
    "    print(\"Iteración:\", i+1)\n",
    "    if isinstance(x, (list, tuple)):\n",
    "        print(\"Se cumple\")\n",
    "        print(\"La posición es: \", i)\n",
    "        print(x[1])\n",
    "        break\n",
    "    print(\"---------------\")"
   ]
  },
  {
   "cell_type": "code",
   "execution_count": 26,
   "metadata": {},
   "outputs": [
    {
     "output_type": "stream",
     "name": "stdout",
     "text": "<class 'range'>\n"
    },
    {
     "output_type": "execute_result",
     "data": {
      "text/plain": "range(0, 15)"
     },
     "metadata": {},
     "execution_count": 26
    }
   ],
   "source": [
    "j = range(15)\n",
    "print(type(j))\n",
    "j"
   ]
  },
  {
   "cell_type": "code",
   "execution_count": 25,
   "metadata": {},
   "outputs": [
    {
     "output_type": "execute_result",
     "data": {
      "text/plain": "[0, 1, 2, 3, 4, 5, 6, 7, 8, 9, 10, 11, 12, 13, 14]"
     },
     "metadata": {},
     "execution_count": 25
    }
   ],
   "source": [
    "k = list(range(15))\n",
    "k"
   ]
  },
  {
   "cell_type": "markdown",
   "metadata": {},
   "source": [
    "## 12. Leer ficheros"
   ]
  },
  {
   "cell_type": "markdown",
   "metadata": {},
   "source": [
    "## 13. Try/Except"
   ]
  },
  {
   "cell_type": "code",
   "execution_count": 11,
   "metadata": {},
   "outputs": [
    {
     "output_type": "execute_result",
     "data": {
      "text/plain": "2"
     },
     "metadata": {},
     "execution_count": 11
    }
   ],
   "source": [
    "x = 2\n",
    "x"
   ]
  },
  {
   "cell_type": "code",
   "execution_count": 13,
   "metadata": {},
   "outputs": [
    {
     "output_type": "stream",
     "name": "stdout",
     "text": "Estamos intentando en el Try\nAhora estamos en el except\n3\n"
    }
   ],
   "source": [
    "gh = 3\n",
    "try:\n",
    "    print(\"Estamos intentando en el Try\")\n",
    "    print(gj)\n",
    "except:\n",
    "    print(\"Ahora estamos en el except\")\n",
    "    print(gh)\n"
   ]
  },
  {
   "cell_type": "code",
   "execution_count": 15,
   "metadata": {},
   "outputs": [
    {
     "output_type": "stream",
     "name": "stdout",
     "text": "-\n"
    }
   ],
   "source": [
    "x = \"a25151gjajgj-\"\n",
    "\n",
    "print(x[-1])"
   ]
  },
  {
   "cell_type": "code",
   "execution_count": 16,
   "metadata": {},
   "outputs": [
    {
     "output_type": "error",
     "ename": "TypeError",
     "evalue": "'int' object is not subscriptable",
     "traceback": [
      "\u001b[1;31m---------------------------------------------------------------------------\u001b[0m",
      "\u001b[1;31mTypeError\u001b[0m                                 Traceback (most recent call last)",
      "\u001b[1;32m<ipython-input-16-2ecaf13af889>\u001b[0m in \u001b[0;36m<module>\u001b[1;34m\u001b[0m\n\u001b[0;32m      1\u001b[0m \u001b[0mx\u001b[0m \u001b[1;33m=\u001b[0m \u001b[1;36m5\u001b[0m\u001b[1;33m\u001b[0m\u001b[0m\n\u001b[1;32m----> 2\u001b[1;33m \u001b[0mprint\u001b[0m\u001b[1;33m(\u001b[0m\u001b[0mx\u001b[0m\u001b[1;33m[\u001b[0m\u001b[1;36m0\u001b[0m\u001b[1;33m]\u001b[0m\u001b[1;33m)\u001b[0m\u001b[1;33m\u001b[0m\u001b[0m\n\u001b[0m",
      "\u001b[1;31mTypeError\u001b[0m: 'int' object is not subscriptable"
     ]
    }
   ],
   "source": [
    "x = 5\n",
    "print(x[0])"
   ]
  },
  {
   "cell_type": "code",
   "execution_count": 21,
   "metadata": {},
   "outputs": [
    {
     "output_type": "stream",
     "name": "stdout",
     "text": "S\n--------------\nX\n--------------\n8\n--------------\n{'X', 'H'}\n--------------\n1\n"
    }
   ],
   "source": [
    "s = \"String\"\n",
    "l = [\"X\", \"H\", \"X\"]\n",
    "t = (8, 10)\n",
    "c = set(l)\n",
    "d = {\"a\": 1}\n",
    "\n",
    "print(s[0])\n",
    "print(\"--------------\")\n",
    "print(l[0])\n",
    "print(\"--------------\")\n",
    "print(t[0])\n",
    "print(\"--------------\")\n",
    "print(c)\n",
    "print(\"--------------\")\n",
    "print(d[\"a\"])"
   ]
  },
  {
   "cell_type": "code",
   "execution_count": 22,
   "metadata": {},
   "outputs": [
    {
     "output_type": "error",
     "ename": "TypeError",
     "evalue": "'int' object is not subscriptable",
     "traceback": [
      "\u001b[1;31m---------------------------------------------------------------------------\u001b[0m",
      "\u001b[1;31mTypeError\u001b[0m                                 Traceback (most recent call last)",
      "\u001b[1;32m<ipython-input-22-5565002a0c0a>\u001b[0m in \u001b[0;36m<module>\u001b[1;34m\u001b[0m\n\u001b[0;32m      1\u001b[0m \u001b[0mx\u001b[0m \u001b[1;33m=\u001b[0m \u001b[1;36m5\u001b[0m\u001b[1;33m\u001b[0m\u001b[0m\n\u001b[1;32m----> 2\u001b[1;33m \u001b[0mx\u001b[0m\u001b[1;33m[\u001b[0m\u001b[1;36m0\u001b[0m\u001b[1;33m]\u001b[0m\u001b[1;33m\u001b[0m\u001b[0m\n\u001b[0m",
      "\u001b[1;31mTypeError\u001b[0m: 'int' object is not subscriptable"
     ]
    }
   ],
   "source": [
    "x = 5\n",
    "5[0]"
   ]
  },
  {
   "cell_type": "code",
   "execution_count": 18,
   "metadata": {},
   "outputs": [
    {
     "output_type": "stream",
     "name": "stdout",
     "text": "a\nb\nc\nd\nHa dado error\n5\n"
    }
   ],
   "source": [
    "lista = [\"a1\", \"b2\", \"c3\", \"d4\", 5]\n",
    "\n",
    "for elem in lista:\n",
    "    try:\n",
    "        print(elem[0])\n",
    "    except:\n",
    "        print(\"Ha dado error\")\n",
    "        print(elem)"
   ]
  },
  {
   "cell_type": "code",
   "execution_count": 29,
   "metadata": {},
   "outputs": [
    {
     "output_type": "stream",
     "name": "stdout",
     "text": "1\n2\n"
    },
    {
     "output_type": "error",
     "ename": "IndexError",
     "evalue": "string index out of range",
     "traceback": [
      "\u001b[1;31m---------------------------------------------------------------------------\u001b[0m",
      "\u001b[1;31mIndexError\u001b[0m                                Traceback (most recent call last)",
      "\u001b[1;32m<ipython-input-29-72ee63ae33ae>\u001b[0m in \u001b[0;36m<module>\u001b[1;34m\u001b[0m\n\u001b[0;32m      2\u001b[0m \u001b[1;33m\u001b[0m\u001b[0m\n\u001b[0;32m      3\u001b[0m \u001b[1;32mfor\u001b[0m \u001b[0melem\u001b[0m \u001b[1;32min\u001b[0m \u001b[0mlista\u001b[0m\u001b[1;33m:\u001b[0m\u001b[1;33m\u001b[0m\u001b[0m\n\u001b[1;32m----> 4\u001b[1;33m     \u001b[0mprint\u001b[0m\u001b[1;33m(\u001b[0m\u001b[0melem\u001b[0m\u001b[1;33m[\u001b[0m\u001b[1;36m1\u001b[0m\u001b[1;33m]\u001b[0m\u001b[1;33m)\u001b[0m\u001b[1;33m\u001b[0m\u001b[0m\n\u001b[0m",
      "\u001b[1;31mIndexError\u001b[0m: string index out of range"
     ]
    }
   ],
   "source": [
    "lista = [\"a1\", \"b2\", \"c\", \"d4\", 5]\n",
    "\n",
    "for elem in lista:\n",
    "    print(elem[1])"
   ]
  },
  {
   "cell_type": "code",
   "execution_count": 28,
   "metadata": {},
   "outputs": [
    {
     "output_type": "stream",
     "name": "stdout",
     "text": "1\n2\nHa dado error:\nError: string index out of range\nc\n4\nHa dado error:\nError: 'int' object is not subscriptable\n5\n"
    }
   ],
   "source": [
    "lista = [\"a1\", \"b2\", \"c\", \"d4\", 5]\n",
    "\n",
    "for elem in lista:\n",
    "    try:\n",
    "        print(elem[1])\n",
    "    except Exception as error:\n",
    "        print(\"Ha dado error:\")\n",
    "        print(\"Error:\", error)\n",
    "        print(elem)"
   ]
  },
  {
   "cell_type": "code",
   "execution_count": 26,
   "metadata": {},
   "outputs": [
    {
     "output_type": "execute_result",
     "data": {
      "text/plain": "<function __main__.mi_funcion()>"
     },
     "metadata": {},
     "execution_count": 26
    }
   ],
   "source": [
    "def mi_funcion():\n",
    "    print(\"Hola\")\n",
    "\n",
    "mi_funcion"
   ]
  },
  {
   "cell_type": "code",
   "execution_count": 30,
   "metadata": {},
   "outputs": [
    {
     "output_type": "error",
     "ename": "ValueError",
     "evalue": "invalid literal for int() with base 10: 'tt'",
     "traceback": [
      "\u001b[1;31m---------------------------------------------------------------------------\u001b[0m",
      "\u001b[1;31mValueError\u001b[0m                                Traceback (most recent call last)",
      "\u001b[1;32m<ipython-input-30-b18148c418c0>\u001b[0m in \u001b[0;36m<module>\u001b[1;34m\u001b[0m\n\u001b[1;32m----> 1\u001b[1;33m \u001b[0mx\u001b[0m \u001b[1;33m=\u001b[0m \u001b[0mint\u001b[0m\u001b[1;33m(\u001b[0m\u001b[0minput\u001b[0m\u001b[1;33m(\u001b[0m\u001b[1;33m)\u001b[0m\u001b[1;33m)\u001b[0m\u001b[1;33m\u001b[0m\u001b[0m\n\u001b[0m",
      "\u001b[1;31mValueError\u001b[0m: invalid literal for int() with base 10: 'tt'"
     ]
    }
   ],
   "source": [
    "x = int(input())"
   ]
  },
  {
   "cell_type": "code",
   "execution_count": 32,
   "metadata": {},
   "outputs": [
    {
     "output_type": "stream",
     "name": "stdout",
     "text": "Ha dado error\ntt\n"
    }
   ],
   "source": [
    "def f_suma_concatena():\n",
    "    try:\n",
    "        x = int(input(\"Entra una cosa:\"))\n",
    "        y = int(input(\"Pon otra cosa:\"))\n",
    "    except:\n",
    "        print(\"Ha dado error\")\n",
    "        x = input(\"Entra una cosa:\")\n",
    "        y = input(\"Pon otra cosa:\")\n",
    "    print(x + y)\n",
    "\n",
    "f_suma_concatena()"
   ]
  },
  {
   "cell_type": "markdown",
   "metadata": {},
   "source": [
    "## 14. Recursividad"
   ]
  },
  {
   "cell_type": "code",
   "execution_count": 1,
   "metadata": {},
   "outputs": [
    {
     "output_type": "stream",
     "name": "stdout",
     "text": "X\n"
    }
   ],
   "source": [
    "def nombre_funcion():\n",
    "    print(\"X\")\n",
    "    \n",
    "nombre_funcion()\n"
   ]
  },
  {
   "cell_type": "code",
   "execution_count": 2,
   "metadata": {},
   "outputs": [
    {
     "output_type": "stream",
     "name": "stdout",
     "text": "4\n"
    }
   ],
   "source": [
    "def nombre_funcion(x):\n",
    "    print(x)\n",
    "    \n",
    "nombre_funcion(x=\"4\")"
   ]
  },
  {
   "cell_type": "code",
   "execution_count": 4,
   "metadata": {},
   "outputs": [],
   "source": [
    "def nombre_funcion(x):\n",
    "    return x\n",
    "    \n",
    "s = nombre_funcion(x=3)"
   ]
  },
  {
   "cell_type": "code",
   "execution_count": 5,
   "metadata": {},
   "outputs": [
    {
     "output_type": "stream",
     "name": "stdout",
     "text": "3\n"
    }
   ],
   "source": [
    "print(s)"
   ]
  },
  {
   "cell_type": "code",
   "execution_count": null,
   "metadata": {},
   "outputs": [],
   "source": [
    "def f_recursiva():\n",
    "    print(\"X\")\n",
    "    f_recursiva()\n"
   ]
  },
  {
   "cell_type": "code",
   "execution_count": null,
   "metadata": {},
   "outputs": [],
   "source": [
    "def f():\n",
    "    print(\"Muestro esto\")\n",
    "    f()\n",
    "    print(\"X\")\n",
    "    \n",
    "f()"
   ]
  },
  {
   "cell_type": "code",
   "execution_count": 7,
   "metadata": {},
   "outputs": [
    {
     "output_type": "stream",
     "name": "stdout",
     "text": "acum: 0\nacum: 1\nx: None\n"
    }
   ],
   "source": [
    "def f(acum):\n",
    "    if acum == 10:\n",
    "        return acum\n",
    "    print(\"acum:\", acum)\n",
    "    f(acum=acum+1)\n",
    "    \n",
    "x = f(acum=0)\n",
    "print(\"x:\", x)"
   ]
  },
  {
   "cell_type": "code",
   "execution_count": 10,
   "metadata": {},
   "outputs": [
    {
     "output_type": "stream",
     "name": "stdout",
     "text": "0\nHa terminado esto\n"
    }
   ],
   "source": [
    "def f(acum):\n",
    "    if acum == 0:\n",
    "        return acum\n",
    "    print(\"acum:\", acum)\n",
    "    p = f(acum=acum+1)\n",
    "    \n",
    "x = f(acum=0)\n",
    "print(x)\n",
    "print(\"Ha terminado esto\")"
   ]
  },
  {
   "cell_type": "code",
   "execution_count": null,
   "metadata": {},
   "outputs": [],
   "source": [
    "def f(acum):\n",
    "    if acum == 10:\n",
    "        return acum\n",
    "    print(\"acum:\", acum)\n",
    "    p = f(acum=acum+1)\n",
    "    return p\n",
    "    \n",
    "x = f(acum=0)\n",
    "print(x)\n",
    "print(\"Ha terminado esto\")"
   ]
  },
  {
   "cell_type": "markdown",
   "metadata": {},
   "source": [
    "### 15. List and Dict comprehension & zip()"
   ]
  },
  {
   "cell_type": "markdown",
   "metadata": {},
   "source": [
    "#### List comprehension"
   ]
  },
  {
   "cell_type": "code",
   "execution_count": 2,
   "metadata": {},
   "outputs": [
    {
     "output_type": "stream",
     "name": "stdout",
     "text": "S\nt\nr\ni\nn\ng\n"
    }
   ],
   "source": [
    "x = \"String\"\n",
    "for i in x:\n",
    "    print(i)"
   ]
  },
  {
   "cell_type": "code",
   "execution_count": 1,
   "metadata": {},
   "outputs": [
    {
     "output_type": "stream",
     "name": "stdout",
     "text": "['h', 'u', 'm', 'a', 'n']\n"
    }
   ],
   "source": [
    "h_letters = []\n",
    "\n",
    "for letter in 'human':\n",
    "    h_letters.append(letter)\n",
    "\n",
    "print(h_letters)"
   ]
  },
  {
   "cell_type": "code",
   "execution_count": null,
   "metadata": {},
   "outputs": [],
   "source": []
  },
  {
   "cell_type": "code",
   "execution_count": 7,
   "metadata": {},
   "outputs": [
    {
     "output_type": "stream",
     "name": "stdout",
     "text": "[1, 2, 3, 4]\n"
    }
   ],
   "source": [
    "lista = [2, 4, 6, 8] \n",
    "p = [elem//2 for elem in lista]\n",
    "print(p)"
   ]
  },
  {
   "cell_type": "code",
   "execution_count": 6,
   "metadata": {},
   "outputs": [
    {
     "output_type": "stream",
     "name": "stdout",
     "text": "['2L', '4L', '6L', '8L']\n"
    }
   ],
   "source": [
    "lista = [2, 4, 6, 8] \n",
    "p = [str(elem)+\"L\" for elem in lista]\n",
    "print(p)"
   ]
  },
  {
   "cell_type": "code",
   "execution_count": null,
   "metadata": {},
   "outputs": [],
   "source": [
    "# Expression\n",
    "[expression for item in list]"
   ]
  },
  {
   "cell_type": "code",
   "execution_count": null,
   "metadata": {},
   "outputs": [],
   "source": [
    "lista = [2, 4, 6, 8]\n",
    "for x in lista:\n",
    "    if "
   ]
  },
  {
   "cell_type": "code",
   "execution_count": 8,
   "metadata": {},
   "outputs": [
    {
     "output_type": "execute_result",
     "data": {
      "text/plain": "[0, 1, 2, 3, 4, 5, 6, 7, 8, 9, 10, 11, 12, 13, 14, 15, 16, 17, 18, 19]"
     },
     "metadata": {},
     "execution_count": 8
    }
   ],
   "source": [
    "list(range(20))"
   ]
  },
  {
   "cell_type": "code",
   "execution_count": 11,
   "metadata": {},
   "outputs": [
    {
     "output_type": "stream",
     "name": "stdout",
     "text": "[0, 2, 4, 6, 8, 10, 12, 14, 16, 18, 19]\n"
    }
   ],
   "source": [
    "number_list = [ x for x in range(20) if x % 2 == 0 or x == 19]\n",
    "print(number_list)"
   ]
  },
  {
   "cell_type": "code",
   "execution_count": 12,
   "metadata": {},
   "outputs": [
    {
     "output_type": "execute_result",
     "data": {
      "text/plain": "[0, 1, 2, 3, 4, 5, 6, 7, 8, 9]"
     },
     "metadata": {},
     "execution_count": 12
    }
   ],
   "source": [
    "list(range(10))"
   ]
  },
  {
   "cell_type": "code",
   "execution_count": 13,
   "metadata": {},
   "outputs": [
    {
     "output_type": "stream",
     "name": "stdout",
     "text": "['Even', 'Odd', 'Even', 'Odd', 'Even', 'Odd', 'Even', 'Odd', 'Even', 'Odd']\n"
    }
   ],
   "source": [
    "obj = [\"Even\" if i%2==0 else \"Odd\" for i in range(10)]\n",
    "print(obj)"
   ]
  },
  {
   "cell_type": "markdown",
   "metadata": {},
   "source": [
    "#### Dict comprehension"
   ]
  },
  {
   "cell_type": "code",
   "execution_count": 14,
   "metadata": {},
   "outputs": [
    {
     "output_type": "execute_result",
     "data": {
      "text/plain": "{'a': 1, 'b': 2}"
     },
     "metadata": {},
     "execution_count": 14
    }
   ],
   "source": [
    "d = {\"a\":1, \"b\":2}\n",
    "d"
   ]
  },
  {
   "cell_type": "code",
   "execution_count": 15,
   "metadata": {},
   "outputs": [
    {
     "output_type": "execute_result",
     "data": {
      "text/plain": "[0, 1, 2, 3, 4, 5, 6, 7, 8, 9]"
     },
     "metadata": {},
     "execution_count": 15
    }
   ],
   "source": [
    "list(range(10))"
   ]
  },
  {
   "cell_type": "code",
   "execution_count": 16,
   "metadata": {},
   "outputs": [
    {
     "output_type": "execute_result",
     "data": {
      "text/plain": "{0: 0, 2: 4, 4: 16, 6: 36, 8: 64}"
     },
     "metadata": {},
     "execution_count": 16
    }
   ],
   "source": [
    "numbers = range(10)\n",
    "\n",
    "new_dict_comp = {n:n**2 for n in numbers if n%2 == 0}\n",
    "\n",
    "new_dict_comp\n"
   ]
  },
  {
   "cell_type": "code",
   "execution_count": null,
   "metadata": {},
   "outputs": [],
   "source": [
    "new_dict_comp = {n:n**2 for n in numbers if n%2 == 0}"
   ]
  },
  {
   "cell_type": "code",
   "execution_count": 17,
   "metadata": {},
   "outputs": [
    {
     "output_type": "stream",
     "name": "stdout",
     "text": "k: a\nv: 1\n---------\nk: b\nv: 2\n---------\nk: c\nv: 3\n---------\nk: d\nv: 4\n---------\nk: e\nv: 5\n---------\n"
    }
   ],
   "source": [
    "dict1 = {'a': 1, 'b': 2, 'c': 3, 'd': 4, 'e': 5}\n",
    "\n",
    "for k, v in dict1.items():\n",
    "    print(\"k:\", k)\n",
    "    print(\"v:\", v)\n",
    "    print(\"---------\")"
   ]
  },
  {
   "cell_type": "code",
   "execution_count": 20,
   "metadata": {},
   "outputs": [
    {
     "output_type": "stream",
     "name": "stdout",
     "text": "t: a\n---------\nt: b\n---------\nt: c\n---------\nt: d\n---------\nt: e\n---------\n"
    }
   ],
   "source": [
    "dict1 = {'a': 1, 'b': 2, 'c': 3, 'd': 4, 'e': 5}\n",
    "\n",
    "for t in dict1.items():\n",
    "    print(\"t:\", t[0])\n",
    "    print(\"---------\")"
   ]
  },
  {
   "cell_type": "code",
   "execution_count": 22,
   "metadata": {},
   "outputs": [
    {
     "output_type": "stream",
     "name": "stdout",
     "text": "k: a\n---------\nk: b\n---------\nk: c\n---------\nk: d\n---------\nk: e\n---------\n"
    }
   ],
   "source": [
    "dict1 = {'a': 1, 'b': 2, 'c': 3, 'd': 4, 'e': 5}\n",
    "\n",
    "for k in dict1.keys():\n",
    "    print(\"k:\", k)\n",
    "    print(\"---------\")"
   ]
  },
  {
   "cell_type": "code",
   "execution_count": 24,
   "metadata": {},
   "outputs": [
    {
     "output_type": "stream",
     "name": "stdout",
     "text": "{'c': 1.5, 'd': 2.0, 'e': 2.5}\n"
    }
   ],
   "source": [
    "dict1 = {'a': 1, 'b': 2, 'c': 3, 'd': 4, 'e': 5}\n",
    "\n",
    "# Check for items greater than 2\n",
    "dict1_cond = {k:(v/2) for (k,v) in dict1.items() if v>2}\n",
    "\n",
    "print(dict1_cond)"
   ]
  },
  {
   "cell_type": "markdown",
   "metadata": {},
   "source": [
    "#### zip"
   ]
  },
  {
   "cell_type": "code",
   "execution_count": 28,
   "metadata": {},
   "outputs": [
    {
     "output_type": "error",
     "ename": "TypeError",
     "evalue": "unhashable type: 'list'",
     "traceback": [
      "\u001b[1;31m---------------------------------------------------------------------------\u001b[0m",
      "\u001b[1;31mTypeError\u001b[0m                                 Traceback (most recent call last)",
      "\u001b[1;32m<ipython-input-28-416239ea609e>\u001b[0m in \u001b[0;36m<module>\u001b[1;34m\u001b[0m\n\u001b[1;32m----> 1\u001b[1;33m \u001b[0md\u001b[0m \u001b[1;33m=\u001b[0m \u001b[1;33m{\u001b[0m\u001b[1;33m[\u001b[0m\u001b[1;36m1\u001b[0m\u001b[1;33m]\u001b[0m\u001b[1;33m:\u001b[0m \u001b[1;33m[\u001b[0m\u001b[1;36m2\u001b[0m\u001b[1;33m]\u001b[0m\u001b[1;33m}\u001b[0m\u001b[1;33m\u001b[0m\u001b[0m\n\u001b[0m",
      "\u001b[1;31mTypeError\u001b[0m: unhashable type: 'list'"
     ]
    }
   ],
   "source": [
    "d = {[1]: [2]}"
   ]
  },
  {
   "cell_type": "code",
   "execution_count": 27,
   "metadata": {},
   "outputs": [
    {
     "output_type": "stream",
     "name": "stdout",
     "text": "{'a': 1, 'b': 2, 'c': 3}\n"
    }
   ],
   "source": [
    "keys = ['a', 'b', 'c']\n",
    "values = [1, 2, 3]\n",
    "dictionary = dict(zip(keys, values))\n",
    "print(dictionary)"
   ]
  },
  {
   "cell_type": "code",
   "execution_count": 32,
   "metadata": {},
   "outputs": [
    {
     "output_type": "stream",
     "name": "stdout",
     "text": "{'a': [1, 2, 4, 6, [0, 'a', [2, '6', ('a', {'x': 2})]]], 'b': [2], 'c': [3]}\n"
    }
   ],
   "source": [
    "keys = ['a', 'b', 'c']\n",
    "values = [[1, 2, 4, 6, [0,\"a\", [2, \"6\", (\"a\", {\"x\":2})]]], [2], [3]]\n",
    "dictionary = dict(zip(keys, values))\n",
    "print(dictionary)"
   ]
  },
  {
   "cell_type": "code",
   "execution_count": 34,
   "metadata": {},
   "outputs": [
    {
     "output_type": "execute_result",
     "data": {
      "text/plain": "2"
     },
     "metadata": {},
     "execution_count": 34
    }
   ],
   "source": [
    "x = [1, 2, 4, 6, [0,\"a\", [2, \"6\", (\"a\", {\"x\":2})]]]\n",
    "\n",
    "x[4][2][2][1][\"x\"]"
   ]
  },
  {
   "cell_type": "code",
   "execution_count": null,
   "metadata": {},
   "outputs": [],
   "source": [
    "for elem in x:\n",
    "    if type(elem) == dict:\n",
    "        print(elem)"
   ]
  },
  {
   "cell_type": "code",
   "execution_count": 39,
   "metadata": {},
   "outputs": [
    {
     "output_type": "stream",
     "name": "stdout",
     "text": "2\n"
    }
   ],
   "source": [
    "for elem in x:\n",
    "    if isinstance(elem, list):\n",
    "        for elem2 in elem:\n",
    "            if isinstance(elem2, list):\n",
    "                for elem3 in elem2:\n",
    "                    if isinstance(elem3, tuple):\n",
    "                        for elem4 in elem3:\n",
    "                            if isinstance(elem4, dict):\n",
    "                                print(elem4[\"x\"])\n",
    "                                break\n",
    "\n"
   ]
  },
  {
   "cell_type": "markdown",
   "metadata": {},
   "source": [
    "### 16. Lambda"
   ]
  },
  {
   "cell_type": "code",
   "execution_count": 41,
   "metadata": {},
   "outputs": [
    {
     "output_type": "stream",
     "name": "stdout",
     "text": "F\n"
    }
   ],
   "source": [
    "def f(x):\n",
    "    print(x)\n",
    "\n",
    "f(x=\"F\")"
   ]
  },
  {
   "cell_type": "code",
   "execution_count": 49,
   "metadata": {},
   "outputs": [
    {
     "output_type": "execute_result",
     "data": {
      "text/plain": "1"
     },
     "metadata": {},
     "execution_count": 49
    }
   ],
   "source": [
    "f = lambda x: x//2 if x > 2 else x*5\n",
    "\n",
    "u = f(x=1)\n",
    "u"
   ]
  },
  {
   "cell_type": "code",
   "execution_count": null,
   "metadata": {},
   "outputs": [],
   "source": [
    "def m(x):\n",
    "    return x**2"
   ]
  },
  {
   "cell_type": "code",
   "execution_count": 53,
   "metadata": {},
   "outputs": [
    {
     "output_type": "stream",
     "name": "stdout",
     "text": "4\n"
    }
   ],
   "source": [
    "pepito = lambda x: x**2\n",
    "f = lambda x: x//2 if x > 2 else pepito(x=x)\n",
    "\n",
    "g = f(x=2)\n",
    "print(g)"
   ]
  },
  {
   "cell_type": "code",
   "execution_count": 54,
   "metadata": {},
   "outputs": [
    {
     "output_type": "execute_result",
     "data": {
      "text/plain": "49"
     },
     "metadata": {},
     "execution_count": 54
    }
   ],
   "source": [
    "pepito(x=7)"
   ]
  },
  {
   "cell_type": "code",
   "execution_count": 57,
   "metadata": {},
   "outputs": [
    {
     "output_type": "execute_result",
     "data": {
      "text/plain": "[0, 1, 2, 3, 4, 5, 6, 7, 8, 9]"
     },
     "metadata": {},
     "execution_count": 57
    }
   ],
   "source": [
    "list(range(10))"
   ]
  },
  {
   "cell_type": "code",
   "execution_count": 56,
   "metadata": {},
   "outputs": [
    {
     "output_type": "stream",
     "name": "stdout",
     "text": "[0, 3, 6, 9, 12, 15, 18, 21, 24, 27]\n"
    }
   ],
   "source": [
    "m = lambda x: x**2\n",
    "suma = lambda a, b: a+b\n",
    "f = lambda x: [suma(a=i, b=i*2) for i in range(10)] if x > 2 else m(x=x)\n",
    "\n",
    "g = f(x=3)\n",
    "print(g)"
   ]
  },
  {
   "cell_type": "code",
   "execution_count": 58,
   "metadata": {},
   "outputs": [],
   "source": [
    "def m(x):\n",
    "    return x**2\n",
    "\n",
    "def suma(a, b):\n",
    "    return a + b"
   ]
  },
  {
   "cell_type": "code",
   "execution_count": 66,
   "metadata": {},
   "outputs": [
    {
     "output_type": "stream",
     "name": "stdout",
     "text": "[0, 3, 6, 9, 12, 15, 18, 21, 24, 27, 30, 33, 36, 39, 42, 45, 48, 51, 54, 57, 60, 63, 66, 69, 72, 75, 78, 81, 84, 87, 90, 93, 96, 99, 102, 105, 108, 111, 114, 117, 120, 123, 126, 129, 132, 135, 138, 141, 144, 147, 150, 153, 156, 159, 162, 165, 168, 171, 174, 177, 180, 183, 186, 189, 192, 195, 198]\n"
    }
   ],
   "source": [
    "def f(x):\n",
    "    if x > 2:\n",
    "        return [suma(a=i, b=i*2) for i in range(x)]\n",
    "    else:\n",
    "        return m(x=x)\n",
    "\n",
    "j = int(input(\"Pon un número:\"))\n",
    "k = f(x=j)\n",
    "print(k)"
   ]
  },
  {
   "cell_type": "markdown",
   "metadata": {},
   "source": [
    "### 17. Funciones con valores por defecto"
   ]
  },
  {
   "cell_type": "code",
   "execution_count": 72,
   "metadata": {},
   "outputs": [
    {
     "output_type": "execute_result",
     "data": {
      "text/plain": "1024"
     },
     "metadata": {},
     "execution_count": 72
    }
   ],
   "source": [
    "def mi_funcion(a, b=10):\n",
    "    return a**b\n",
    "\n",
    "r = mi_funcion(a=2)\n",
    "r"
   ]
  },
  {
   "cell_type": "code",
   "execution_count": 73,
   "metadata": {},
   "outputs": [
    {
     "output_type": "execute_result",
     "data": {
      "text/plain": "32"
     },
     "metadata": {},
     "execution_count": 73
    }
   ],
   "source": [
    "def mi_funcion(a, b=10):\n",
    "    return a**b\n",
    "\n",
    "r = mi_funcion(a=2, b=5)\n",
    "r"
   ]
  },
  {
   "cell_type": "code",
   "execution_count": 76,
   "metadata": {},
   "outputs": [],
   "source": [
    "del k"
   ]
  },
  {
   "cell_type": "code",
   "execution_count": 79,
   "metadata": {},
   "outputs": [
    {
     "output_type": "execute_result",
     "data": {
      "text/plain": "int"
     },
     "metadata": {},
     "execution_count": 79
    }
   ],
   "source": [
    "def mi_funcion(a, b):\n",
    "    return a**b\n",
    "\n",
    "k = int(input(\"Edad:\"))\n",
    "h = int(input(\"Altura:\"))\n",
    "\n",
    "r = mi_funcion(a=k, b=h)\n",
    "type(r)"
   ]
  },
  {
   "cell_type": "code",
   "execution_count": 87,
   "metadata": {},
   "outputs": [
    {
     "output_type": "execute_result",
     "data": {
      "text/plain": "'None'"
     },
     "metadata": {},
     "execution_count": 87
    }
   ],
   "source": [
    "b = None\n",
    "str(b)"
   ]
  },
  {
   "cell_type": "code",
   "execution_count": 88,
   "metadata": {},
   "outputs": [
    {
     "output_type": "execute_result",
     "data": {
      "text/plain": "625"
     },
     "metadata": {},
     "execution_count": 88
    }
   ],
   "source": [
    "def mi_funcion(a=5, b=None, c=None, y=None, h=None):\n",
    "    if b == None:\n",
    "        b = len(str(None))\n",
    "    return a**b\n",
    "\n",
    "r = mi_funcion()\n",
    "r"
   ]
  },
  {
   "cell_type": "code",
   "execution_count": 90,
   "metadata": {},
   "outputs": [
    {
     "output_type": "execute_result",
     "data": {
      "text/plain": "16"
     },
     "metadata": {},
     "execution_count": 90
    }
   ],
   "source": [
    "def mi_funcion(a, b=4, c=None, y=None, h=None):\n",
    "    return a**b\n",
    "\n",
    "r = mi_funcion(a=2)\n",
    "r"
   ]
  },
  {
   "cell_type": "code",
   "execution_count": 92,
   "metadata": {},
   "outputs": [
    {
     "output_type": "execute_result",
     "data": {
      "text/plain": "16"
     },
     "metadata": {},
     "execution_count": 92
    }
   ],
   "source": [
    "def mi_funcion(a, b=4, c=676, y=None, h=None):\n",
    "    return a**b\n",
    "\n",
    "r = mi_funcion(a=2)\n",
    "r"
   ]
  },
  {
   "cell_type": "code",
   "execution_count": 98,
   "metadata": {},
   "outputs": [
    {
     "output_type": "execute_result",
     "data": {
      "text/plain": "49"
     },
     "metadata": {},
     "execution_count": 98
    }
   ],
   "source": [
    "def mi_funcion(b, a=7, c=676, y=None, h=None):\n",
    "    return a**b\n",
    "\n",
    "r = mi_funcion(b=2)\n",
    "r"
   ]
  },
  {
   "cell_type": "markdown",
   "metadata": {},
   "source": [
    "### 18. Map/Filter & Reduce (itertools)\n",
    "\n",
    "![](https://staticfiles.crimsonhack.com/tonyj/images/map-reduce-filter.jpg)"
   ]
  },
  {
   "cell_type": "markdown",
   "metadata": {},
   "source": [
    "#### map\n",
    "\n",
    "map(function_to_apply, list_of_inputs)"
   ]
  },
  {
   "cell_type": "code",
   "execution_count": 1,
   "metadata": {},
   "outputs": [
    {
     "output_type": "execute_result",
     "data": {
      "text/plain": "[3, 6, 9, 12, 15]"
     },
     "metadata": {},
     "execution_count": 1
    }
   ],
   "source": [
    "items = [3, 6, 9, 12, 15]\n",
    "items"
   ]
  },
  {
   "cell_type": "code",
   "execution_count": 18,
   "metadata": {},
   "outputs": [
    {
     "output_type": "execute_result",
     "data": {
      "text/plain": "[9, 36, 81, 144, 225]"
     },
     "metadata": {},
     "execution_count": 18
    }
   ],
   "source": [
    "def quadratic(items):\n",
    "    squared = []\n",
    "    for i in items:\n",
    "        squared.append(i**2)\n",
    "    return squared\n",
    "    \n",
    "s = quadratic(items=items)\n",
    "s"
   ]
  },
  {
   "cell_type": "code",
   "execution_count": 6,
   "metadata": {},
   "outputs": [],
   "source": [
    "def quadratic_map(elem):\n",
    "    return elem ** 2"
   ]
  },
  {
   "cell_type": "code",
   "execution_count": 7,
   "metadata": {},
   "outputs": [
    {
     "output_type": "execute_result",
     "data": {
      "text/plain": "[3, 6, 9, 12, 15]"
     },
     "metadata": {},
     "execution_count": 7
    }
   ],
   "source": [
    "items"
   ]
  },
  {
   "cell_type": "code",
   "execution_count": 8,
   "metadata": {},
   "outputs": [
    {
     "output_type": "execute_result",
     "data": {
      "text/plain": "<map at 0x243dbd0dba8>"
     },
     "metadata": {},
     "execution_count": 8
    }
   ],
   "source": [
    "squared = map(quadratic_map, items)\n",
    "squared"
   ]
  },
  {
   "cell_type": "code",
   "execution_count": 25,
   "metadata": {},
   "outputs": [
    {
     "output_type": "execute_result",
     "data": {
      "text/plain": "[9, 36, 81, 144, 225]"
     },
     "metadata": {},
     "execution_count": 25
    }
   ],
   "source": [
    "squared = list(squared)\n",
    "squared"
   ]
  },
  {
   "cell_type": "code",
   "execution_count": 26,
   "metadata": {},
   "outputs": [
    {
     "output_type": "execute_result",
     "data": {
      "text/plain": "[9, 36, 81, 144, 225]"
     },
     "metadata": {},
     "execution_count": 26
    }
   ],
   "source": [
    "squared = list(map(lambda x: x**2, items))\n",
    "squared"
   ]
  },
  {
   "cell_type": "code",
   "execution_count": 15,
   "metadata": {},
   "outputs": [
    {
     "output_type": "execute_result",
     "data": {
      "text/plain": "[-5, -4, -3, -2, -1, 0, 1, 2, 3, 4]"
     },
     "metadata": {},
     "execution_count": 15
    }
   ],
   "source": [
    "items = list(range(-5, 5))\n",
    "items"
   ]
  },
  {
   "cell_type": "code",
   "execution_count": 16,
   "metadata": {},
   "outputs": [
    {
     "output_type": "execute_result",
     "data": {
      "text/plain": "[-5, -4, -3, -2, -1, None, None, None, None, None]"
     },
     "metadata": {},
     "execution_count": 16
    }
   ],
   "source": [
    "def filter_map(x):\n",
    "    if x < 0:\n",
    "        return x\n",
    "\n",
    "new_list = list(map(filter_map, items))\n",
    "new_list"
   ]
  },
  {
   "cell_type": "markdown",
   "metadata": {},
   "source": [
    "#### filter"
   ]
  },
  {
   "cell_type": "code",
   "execution_count": 19,
   "metadata": {},
   "outputs": [
    {
     "output_type": "execute_result",
     "data": {
      "text/plain": "[-5, -4, -3, -2, -1, 0, 1, 2, 3, 4]"
     },
     "metadata": {},
     "execution_count": 19
    }
   ],
   "source": [
    "items = list(range(-5, 5))\n",
    "items"
   ]
  },
  {
   "cell_type": "code",
   "execution_count": 30,
   "metadata": {},
   "outputs": [
    {
     "output_type": "execute_result",
     "data": {
      "text/plain": "[-5, -4, -3, -2, -1]"
     },
     "metadata": {},
     "execution_count": 30
    }
   ],
   "source": [
    "def check_is_lower_0(items):\n",
    "    lowers = []\n",
    "    for x in items:\n",
    "        if x < 0:\n",
    "            lowers.append(x)\n",
    "    return lowers\n",
    "\n",
    "lowers_returned = check_is_lower_0(items=items)\n",
    "lowers_returned"
   ]
  },
  {
   "cell_type": "code",
   "execution_count": 11,
   "metadata": {},
   "outputs": [
    {
     "output_type": "execute_result",
     "data": {
      "text/plain": "[-5, -4, -3, -2, -1, 0, 1, 2, 3, 4]"
     },
     "metadata": {},
     "execution_count": 11
    }
   ],
   "source": [
    "items"
   ]
  },
  {
   "cell_type": "code",
   "execution_count": 20,
   "metadata": {},
   "outputs": [
    {
     "output_type": "stream",
     "name": "stdout",
     "text": "<filter object at 0x00000243DBDB2828>\n"
    }
   ],
   "source": [
    "def check_is_lower_0_filter(x):\n",
    "    if x < 0:\n",
    "        return x\n",
    "\n",
    "less_than_zero = filter(check_is_lower_0_filter, items)\n",
    "print(less_than_zero)"
   ]
  },
  {
   "cell_type": "code",
   "execution_count": 21,
   "metadata": {},
   "outputs": [
    {
     "output_type": "execute_result",
     "data": {
      "text/plain": "[-5, -4, -3, -2, -1]"
     },
     "metadata": {},
     "execution_count": 21
    }
   ],
   "source": [
    "less_than_zero = list(less_than_zero)\n",
    "less_than_zero"
   ]
  },
  {
   "cell_type": "code",
   "execution_count": 26,
   "metadata": {},
   "outputs": [
    {
     "output_type": "stream",
     "name": "stdout",
     "text": "[-5, -4, -3, -2, -1, 0, 1, 2, 3, 4]\n"
    },
    {
     "output_type": "execute_result",
     "data": {
      "text/plain": "[-5, -4, -3, -2, -1]"
     },
     "metadata": {},
     "execution_count": 26
    }
   ],
   "source": [
    "lista = list(range(-5, 5))\n",
    "print(l)\n",
    "def check_is_lower_0_filter_v2(x):\n",
    "    return x < 0\n",
    "\n",
    "result = list(filter(check_is_lower_0_filter_v2, lista))\n",
    "result"
   ]
  },
  {
   "cell_type": "code",
   "execution_count": 34,
   "metadata": {},
   "outputs": [
    {
     "output_type": "execute_result",
     "data": {
      "text/plain": "[-5, -4, -3, -2, -1]"
     },
     "metadata": {},
     "execution_count": 34
    }
   ],
   "source": [
    "less_than_zero_lambda = list(filter(lambda x: x < 0, items))\n",
    "less_than_zero_lambda"
   ]
  },
  {
   "cell_type": "markdown",
   "metadata": {},
   "source": [
    "#### reduce \n",
    "\n",
    "reduce(function, collection)\n",
    "\n"
   ]
  },
  {
   "cell_type": "code",
   "execution_count": 50,
   "metadata": {},
   "outputs": [
    {
     "output_type": "stream",
     "name": "stdout",
     "text": "1 * 2\n--------\n2 * 3\n--------\n6 * 4\n--------\nproduct: 24\n"
    }
   ],
   "source": [
    "numbers = [1, 2, 3, 4]\n",
    "product = numbers[0]\n",
    "# product = (((1*2)*3)*4) \n",
    "for num in numbers[1:]:\n",
    "    print(product, \"*\", num)\n",
    "    product = product * num\n",
    "    print(\"--------\")\n",
    "\n",
    "print(\"product:\", product)"
   ]
  },
  {
   "cell_type": "code",
   "execution_count": 31,
   "metadata": {},
   "outputs": [],
   "source": [
    "def multiplication(x, y):\n",
    "    return x * y"
   ]
  },
  {
   "cell_type": "code",
   "execution_count": null,
   "metadata": {},
   "outputs": [],
   "source": [
    "def multiplication_con_input(x, y):\n",
    "    f = int(input(\"Ingrese núm:\"))\n",
    "    return (x * y) + f"
   ]
  },
  {
   "cell_type": "code",
   "execution_count": 32,
   "metadata": {},
   "outputs": [
    {
     "output_type": "execute_result",
     "data": {
      "text/plain": "[1, 2, 3, 4]"
     },
     "metadata": {},
     "execution_count": 32
    }
   ],
   "source": [
    "numbers = [1, 2, 3, 4]\n",
    "numbers"
   ]
  },
  {
   "cell_type": "code",
   "execution_count": 33,
   "metadata": {},
   "outputs": [
    {
     "output_type": "stream",
     "name": "stdout",
     "text": "<class 'int'>\n98\n"
    }
   ],
   "source": [
    "from functools import reduce\n",
    "\n",
    "numbers_reduced = reduce(multiplication, numbers)\n",
    "print(type(numbers_reduced))\n",
    "print(numbers_reduced)"
   ]
  },
  {
   "cell_type": "code",
   "execution_count": 34,
   "metadata": {},
   "outputs": [
    {
     "output_type": "stream",
     "name": "stdout",
     "text": "<class 'int'>\n58\n"
    }
   ],
   "source": [
    "numbers = [1, 2, 3, 4]\n",
    "numbers_reduced = reduce(multiplication, numbers)\n",
    "print(type(numbers_reduced))\n",
    "print(numbers_reduced)"
   ]
  },
  {
   "cell_type": "code",
   "execution_count": 35,
   "metadata": {},
   "outputs": [
    {
     "output_type": "execute_result",
     "data": {
      "text/plain": "24"
     },
     "metadata": {},
     "execution_count": 35
    }
   ],
   "source": [
    "numbers_reduced_lambda = reduce((lambda x, y: x * y), numbers)\n",
    "numbers_reduced_lambda"
   ]
  },
  {
   "cell_type": "markdown",
   "metadata": {},
   "source": [
    "### 18. Classes (POO)"
   ]
  },
  {
   "cell_type": "code",
   "execution_count": 5,
   "metadata": {},
   "outputs": [
    {
     "output_type": "stream",
     "name": "stdout",
     "text": "Ojos chiquito antes de cambiar: 2\nOjos chiquito después de cambiar: 3\nNum ojos broncano: 2\n"
    }
   ],
   "source": [
    "class Humano:\n",
    "\n",
    "    nombre = None\n",
    "    edad = None\n",
    "    numero_ojos = 2\n",
    "    numero_piernas = 2\n",
    "    DNI = None\n",
    "\n",
    "    def __init__(self):\n",
    "        \"\"\" Constructor de la clase\"\"\"\n",
    "        pass\n",
    "\n",
    "chiquito = Humano()\n",
    "print(\"Ojos chiquito antes de cambiar:\", chiquito.numero_ojos)\n",
    "chiquito.numero_ojos = 3\n",
    "print(\"Ojos chiquito después de cambiar:\", chiquito.numero_ojos)\n",
    "\n",
    "broncano = Humano()\n",
    "print(\"Num ojos broncano:\", broncano.numero_ojos)"
   ]
  },
  {
   "cell_type": "code",
   "execution_count": null,
   "metadata": {},
   "outputs": [],
   "source": [
    "class Humano:\n",
    "\n",
    "    nombre = None\n",
    "    edad = None\n",
    "    numero_ojos = 2\n",
    "    numero_piernas = 2\n",
    "    DNI = None\n",
    "\n",
    "    def __init__(self):\n",
    "        \"\"\" Constructor de la clase\"\"\"\n",
    "        pass"
   ]
  },
  {
   "cell_type": "markdown",
   "metadata": {},
   "source": [
    "### 88. Bonus"
   ]
  },
  {
   "cell_type": "code",
   "execution_count": 1,
   "metadata": {},
   "outputs": [
    {
     "output_type": "stream",
     "name": "stdout",
     "text": "0.30000000000000004\nFalse\n"
    }
   ],
   "source": [
    "x = 0.1 + 0.2\n",
    "print(x)\n",
    "print(x == 0.3)"
   ]
  },
  {
   "cell_type": "code",
   "execution_count": 2,
   "metadata": {},
   "outputs": [
    {
     "output_type": "stream",
     "name": "stdout",
     "text": "Decimal x:\n\n 0.3000000000000000444089209850062616169452667236328125\n\nFloat x:\n\n 0.30000000000000004\n"
    }
   ],
   "source": [
    "import decimal as d\n",
    "x = d.Decimal(0.1 + 0.2)\n",
    "print(\"Decimal x:\\n\\n\", x)\n",
    "print(\"\\nFloat x:\\n\\n\", float(x))"
   ]
  },
  {
   "cell_type": "markdown",
   "metadata": {},
   "source": [
    "Why?\n",
    "\n",
    "http://0.30000000000000004.com/\n",
    "\n",
    "To solve:"
   ]
  },
  {
   "cell_type": "code",
   "execution_count": 5,
   "metadata": {},
   "outputs": [
    {
     "output_type": "stream",
     "name": "stdout",
     "text": "x: 0.1\ny: 0.2\n\nDecimal result:\n\n 0.3\n\nFloat result:\n\n 0.3\n"
    }
   ],
   "source": [
    "import decimal as d\n",
    "x = d.Decimal('0.1')\n",
    "y = d.Decimal('0.2')\n",
    "print(\"x:\", x)\n",
    "print(\"y:\", y)\n",
    "result = x + y\n",
    "print(\"\\nDecimal result:\\n\\n\", result)\n",
    "print(\"\\nFloat result:\\n\\n\", float(result))"
   ]
  },
  {
   "cell_type": "code",
   "execution_count": 7,
   "metadata": {},
   "outputs": [
    {
     "output_type": "execute_result",
     "data": {
      "text/plain": "0.3"
     },
     "metadata": {},
     "execution_count": 7
    }
   ],
   "source": [
    "# Another way\n",
    "x = 0.1 + 0.2 \n",
    "x = round(x, 2)\n",
    "x"
   ]
  }
 ],
 "metadata": {
  "language_info": {
   "name": "python",
   "codemirror_mode": {
    "name": "ipython",
    "version": 3
   },
   "version": "3.6.4-final"
  },
  "orig_nbformat": 2,
  "file_extension": ".py",
  "mimetype": "text/x-python",
  "name": "python",
  "npconvert_exporter": "python",
  "pygments_lexer": "ipython3",
  "version": 3,
  "kernelspec": {
   "name": "python3",
   "display_name": "Python 3"
  }
 },
 "nbformat": 4,
 "nbformat_minor": 2
}