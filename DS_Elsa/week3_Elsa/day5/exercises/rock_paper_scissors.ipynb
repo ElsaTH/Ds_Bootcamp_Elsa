{
 "cells": [
  {
   "cell_type": "code",
   "execution_count": null,
   "metadata": {},
   "outputs": [],
   "source": [
    "x = input()\n",
    "if x == \"rock\":\n",
    "    x = 1"
   ]
  },
  {
   "cell_type": "code",
   "execution_count": 13,
   "metadata": {
    "tags": []
   },
   "outputs": [
    {
     "output_type": "stream",
     "name": "stdout",
     "text": "player1_choose 1\nplayer2_choose 1\nDraw\n"
    }
   ],
   "source": [
    "rock = 1\n",
    "paper = 2\n",
    "scissor = 3\n",
    "\n",
    "def get_inputs():\n",
    "    player1 = int(input(\"Choose 1[rock], 2[paper], 3[scissor]:\"))\n",
    "    player2 = int(input(\"Choose 1[rock], 2[paper], 3[scissor]:\"))\n",
    "    if (player1 != 1 and player1 != 2 and player1 != 3) or (player2 != 1 and player2 != 2 and player2 != 3):\n",
    "        print(\"Only there are 3 possibilities: [1, 2, 3]\")\n",
    "        player1, player2 = get_inputs()\n",
    "        return player1, player2    \n",
    "    else:\n",
    "        return player1, player2\n",
    "\n",
    "def p1_is_rock(p2):\n",
    "    if p2 == rock:\n",
    "        print(\"Draw\")\n",
    "    elif p2 == paper:\n",
    "        print(\"Player 2 wins\")\n",
    "    elif p2 == scissor:\n",
    "        print(\"Player 1 wins\")\n",
    "\n",
    "def p1_is_paper(p2):\n",
    "    if p2 == rock:\n",
    "        print(\"Player 1 wins\")\n",
    "    elif p2 == paper:\n",
    "        print(\"Draw\")\n",
    "    elif p2 == scissor:\n",
    "        print(\"Player 2 wins\")\n",
    "\n",
    "def p1_is_scissor(p2):\n",
    "    if p2 == rock:\n",
    "        print(\"Player 2 wins\")\n",
    "    elif p2 == paper:\n",
    "        print(\"Player 1 wins\")\n",
    "    elif p2 == scissor:\n",
    "        print(\"Draw\")\n",
    "\n",
    "def check_winner(player1_choose, player2_choose):\n",
    "    print(\"player1_choose:\", player1_choose)\n",
    "    print(\"player2_choose:\", player2_choose)\n",
    "    if player1_choose == rock:\n",
    "        p1_is_rock(p2=player2_choose)\n",
    "    elif player1_choose == paper:\n",
    "        p1_is_paper(p2=player2_choose)\n",
    "    elif player1_choose == scissor:\n",
    "        p1_is_scissor(p2=player2_choose)\n",
    "\n",
    "g, h = get_inputs()\n",
    "check_winner(player1_choose=g, player2_choose=h)"
   ]
  },
  {
   "cell_type": "code",
   "execution_count": null,
   "metadata": {},
   "outputs": [],
   "source": []
  }
 ],
 "metadata": {
  "language_info": {
   "codemirror_mode": {
    "name": "ipython",
    "version": 3
   },
   "file_extension": ".py",
   "mimetype": "text/x-python",
   "name": "python",
   "nbconvert_exporter": "python",
   "pygments_lexer": "ipython3",
   "version": "3.6.4-final"
  },
  "orig_nbformat": 2,
  "kernelspec": {
   "name": "python36464bitc2077ed07ea84d23aa5b518d224882ab",
   "display_name": "Python 3.6.4 64-bit"
  }
 },
 "nbformat": 4,
 "nbformat_minor": 2
}