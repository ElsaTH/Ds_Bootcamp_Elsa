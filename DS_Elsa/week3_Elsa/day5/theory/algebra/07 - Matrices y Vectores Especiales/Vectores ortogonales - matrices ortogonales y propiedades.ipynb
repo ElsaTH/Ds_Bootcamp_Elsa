{
 "cells": [
  {
   "cell_type": "code",
   "execution_count": 1,
   "metadata": {},
   "outputs": [],
   "source": [
    "%matplotlib notebook\n",
    "\n",
    "import numpy as np\n",
    "import matplotlib.pyplot as plt"
   ]
  },
  {
   "cell_type": "code",
   "execution_count": 2,
   "metadata": {},
   "outputs": [],
   "source": [
    "# Que es un vector ortogonal? nada, no existe, necesita una referencia para ser ortogonal, se es ortogonal con \n",
    "# respecto a otro vector\n",
    "# Dos vectores son ortogonales cuando el angulo que forman entre ellos es de 90 grados\n",
    "# Como propiedad tenemos que el producto interno o punto de 2 vectores ortogonales es 0"
   ]
  },
  {
   "cell_type": "code",
   "execution_count": 3,
   "metadata": {},
   "outputs": [
    {
     "data": {
      "application/javascript": [
       "/* Put everything inside the global mpl namespace */\n",
       "window.mpl = {};\n",
       "\n",
       "\n",
       "mpl.get_websocket_type = function() {\n",
       "    if (typeof(WebSocket) !== 'undefined') {\n",
       "        return WebSocket;\n",
       "    } else if (typeof(MozWebSocket) !== 'undefined') {\n",
       "        return MozWebSocket;\n",
       "    } else {\n",
       "        alert('Your browser does not have WebSocket support. ' +\n",
       "              'Please try Chrome, Safari or Firefox ≥ 6. ' +\n",
       "              'Firefox 4 and 5 are also supported but you ' +\n",
       "              'have to enable WebSockets in about:config.');\n",
       "    };\n",
       "}\n",
       "\n",
       "mpl.figure = function(figure_id, websocket, ondownload, parent_element) {\n",
       "    this.id = figure_id;\n",
       "\n",
       "    this.ws = websocket;\n",
       "\n",
       "    this.supports_binary = (this.ws.binaryType != undefined);\n",
       "\n",
       "    if (!this.supports_binary) {\n",
       "        var warnings = document.getElementById(\"mpl-warnings\");\n",
       "        if (warnings) {\n",
       "            warnings.style.display = 'block';\n",
       "            warnings.textContent = (\n",
       "                \"This browser does not support binary websocket messages. \" +\n",
       "                    \"Performance may be slow.\");\n",
       "        }\n",
       "    }\n",
       "\n",
       "    this.imageObj = new Image();\n",
       "\n",
       "    this.context = undefined;\n",
       "    this.message = undefined;\n",
       "    this.canvas = undefined;\n",
       "    this.rubberband_canvas = undefined;\n",
       "    this.rubberband_context = undefined;\n",
       "    this.format_dropdown = undefined;\n",
       "\n",
       "    this.image_mode = 'full';\n",
       "\n",
       "    this.root = $('<div/>');\n",
       "    this._root_extra_style(this.root)\n",
       "    this.root.attr('style', 'display: inline-block');\n",
       "\n",
       "    $(parent_element).append(this.root);\n",
       "\n",
       "    this._init_header(this);\n",
       "    this._init_canvas(this);\n",
       "    this._init_toolbar(this);\n",
       "\n",
       "    var fig = this;\n",
       "\n",
       "    this.waiting = false;\n",
       "\n",
       "    this.ws.onopen =  function () {\n",
       "            fig.send_message(\"supports_binary\", {value: fig.supports_binary});\n",
       "            fig.send_message(\"send_image_mode\", {});\n",
       "            if (mpl.ratio != 1) {\n",
       "                fig.send_message(\"set_dpi_ratio\", {'dpi_ratio': mpl.ratio});\n",
       "            }\n",
       "            fig.send_message(\"refresh\", {});\n",
       "        }\n",
       "\n",
       "    this.imageObj.onload = function() {\n",
       "            if (fig.image_mode == 'full') {\n",
       "                // Full images could contain transparency (where diff images\n",
       "                // almost always do), so we need to clear the canvas so that\n",
       "                // there is no ghosting.\n",
       "                fig.context.clearRect(0, 0, fig.canvas.width, fig.canvas.height);\n",
       "            }\n",
       "            fig.context.drawImage(fig.imageObj, 0, 0);\n",
       "        };\n",
       "\n",
       "    this.imageObj.onunload = function() {\n",
       "        fig.ws.close();\n",
       "    }\n",
       "\n",
       "    this.ws.onmessage = this._make_on_message_function(this);\n",
       "\n",
       "    this.ondownload = ondownload;\n",
       "}\n",
       "\n",
       "mpl.figure.prototype._init_header = function() {\n",
       "    var titlebar = $(\n",
       "        '<div class=\"ui-dialog-titlebar ui-widget-header ui-corner-all ' +\n",
       "        'ui-helper-clearfix\"/>');\n",
       "    var titletext = $(\n",
       "        '<div class=\"ui-dialog-title\" style=\"width: 100%; ' +\n",
       "        'text-align: center; padding: 3px;\"/>');\n",
       "    titlebar.append(titletext)\n",
       "    this.root.append(titlebar);\n",
       "    this.header = titletext[0];\n",
       "}\n",
       "\n",
       "\n",
       "\n",
       "mpl.figure.prototype._canvas_extra_style = function(canvas_div) {\n",
       "\n",
       "}\n",
       "\n",
       "\n",
       "mpl.figure.prototype._root_extra_style = function(canvas_div) {\n",
       "\n",
       "}\n",
       "\n",
       "mpl.figure.prototype._init_canvas = function() {\n",
       "    var fig = this;\n",
       "\n",
       "    var canvas_div = $('<div/>');\n",
       "\n",
       "    canvas_div.attr('style', 'position: relative; clear: both; outline: 0');\n",
       "\n",
       "    function canvas_keyboard_event(event) {\n",
       "        return fig.key_event(event, event['data']);\n",
       "    }\n",
       "\n",
       "    canvas_div.keydown('key_press', canvas_keyboard_event);\n",
       "    canvas_div.keyup('key_release', canvas_keyboard_event);\n",
       "    this.canvas_div = canvas_div\n",
       "    this._canvas_extra_style(canvas_div)\n",
       "    this.root.append(canvas_div);\n",
       "\n",
       "    var canvas = $('<canvas/>');\n",
       "    canvas.addClass('mpl-canvas');\n",
       "    canvas.attr('style', \"left: 0; top: 0; z-index: 0; outline: 0\")\n",
       "\n",
       "    this.canvas = canvas[0];\n",
       "    this.context = canvas[0].getContext(\"2d\");\n",
       "\n",
       "    var backingStore = this.context.backingStorePixelRatio ||\n",
       "\tthis.context.webkitBackingStorePixelRatio ||\n",
       "\tthis.context.mozBackingStorePixelRatio ||\n",
       "\tthis.context.msBackingStorePixelRatio ||\n",
       "\tthis.context.oBackingStorePixelRatio ||\n",
       "\tthis.context.backingStorePixelRatio || 1;\n",
       "\n",
       "    mpl.ratio = (window.devicePixelRatio || 1) / backingStore;\n",
       "\n",
       "    var rubberband = $('<canvas/>');\n",
       "    rubberband.attr('style', \"position: absolute; left: 0; top: 0; z-index: 1;\")\n",
       "\n",
       "    var pass_mouse_events = true;\n",
       "\n",
       "    canvas_div.resizable({\n",
       "        start: function(event, ui) {\n",
       "            pass_mouse_events = false;\n",
       "        },\n",
       "        resize: function(event, ui) {\n",
       "            fig.request_resize(ui.size.width, ui.size.height);\n",
       "        },\n",
       "        stop: function(event, ui) {\n",
       "            pass_mouse_events = true;\n",
       "            fig.request_resize(ui.size.width, ui.size.height);\n",
       "        },\n",
       "    });\n",
       "\n",
       "    function mouse_event_fn(event) {\n",
       "        if (pass_mouse_events)\n",
       "            return fig.mouse_event(event, event['data']);\n",
       "    }\n",
       "\n",
       "    rubberband.mousedown('button_press', mouse_event_fn);\n",
       "    rubberband.mouseup('button_release', mouse_event_fn);\n",
       "    // Throttle sequential mouse events to 1 every 20ms.\n",
       "    rubberband.mousemove('motion_notify', mouse_event_fn);\n",
       "\n",
       "    rubberband.mouseenter('figure_enter', mouse_event_fn);\n",
       "    rubberband.mouseleave('figure_leave', mouse_event_fn);\n",
       "\n",
       "    canvas_div.on(\"wheel\", function (event) {\n",
       "        event = event.originalEvent;\n",
       "        event['data'] = 'scroll'\n",
       "        if (event.deltaY < 0) {\n",
       "            event.step = 1;\n",
       "        } else {\n",
       "            event.step = -1;\n",
       "        }\n",
       "        mouse_event_fn(event);\n",
       "    });\n",
       "\n",
       "    canvas_div.append(canvas);\n",
       "    canvas_div.append(rubberband);\n",
       "\n",
       "    this.rubberband = rubberband;\n",
       "    this.rubberband_canvas = rubberband[0];\n",
       "    this.rubberband_context = rubberband[0].getContext(\"2d\");\n",
       "    this.rubberband_context.strokeStyle = \"#000000\";\n",
       "\n",
       "    this._resize_canvas = function(width, height) {\n",
       "        // Keep the size of the canvas, canvas container, and rubber band\n",
       "        // canvas in synch.\n",
       "        canvas_div.css('width', width)\n",
       "        canvas_div.css('height', height)\n",
       "\n",
       "        canvas.attr('width', width * mpl.ratio);\n",
       "        canvas.attr('height', height * mpl.ratio);\n",
       "        canvas.attr('style', 'width: ' + width + 'px; height: ' + height + 'px;');\n",
       "\n",
       "        rubberband.attr('width', width);\n",
       "        rubberband.attr('height', height);\n",
       "    }\n",
       "\n",
       "    // Set the figure to an initial 600x600px, this will subsequently be updated\n",
       "    // upon first draw.\n",
       "    this._resize_canvas(600, 600);\n",
       "\n",
       "    // Disable right mouse context menu.\n",
       "    $(this.rubberband_canvas).bind(\"contextmenu\",function(e){\n",
       "        return false;\n",
       "    });\n",
       "\n",
       "    function set_focus () {\n",
       "        canvas.focus();\n",
       "        canvas_div.focus();\n",
       "    }\n",
       "\n",
       "    window.setTimeout(set_focus, 100);\n",
       "}\n",
       "\n",
       "mpl.figure.prototype._init_toolbar = function() {\n",
       "    var fig = this;\n",
       "\n",
       "    var nav_element = $('<div/>');\n",
       "    nav_element.attr('style', 'width: 100%');\n",
       "    this.root.append(nav_element);\n",
       "\n",
       "    // Define a callback function for later on.\n",
       "    function toolbar_event(event) {\n",
       "        return fig.toolbar_button_onclick(event['data']);\n",
       "    }\n",
       "    function toolbar_mouse_event(event) {\n",
       "        return fig.toolbar_button_onmouseover(event['data']);\n",
       "    }\n",
       "\n",
       "    for(var toolbar_ind in mpl.toolbar_items) {\n",
       "        var name = mpl.toolbar_items[toolbar_ind][0];\n",
       "        var tooltip = mpl.toolbar_items[toolbar_ind][1];\n",
       "        var image = mpl.toolbar_items[toolbar_ind][2];\n",
       "        var method_name = mpl.toolbar_items[toolbar_ind][3];\n",
       "\n",
       "        if (!name) {\n",
       "            // put a spacer in here.\n",
       "            continue;\n",
       "        }\n",
       "        var button = $('<button/>');\n",
       "        button.addClass('ui-button ui-widget ui-state-default ui-corner-all ' +\n",
       "                        'ui-button-icon-only');\n",
       "        button.attr('role', 'button');\n",
       "        button.attr('aria-disabled', 'false');\n",
       "        button.click(method_name, toolbar_event);\n",
       "        button.mouseover(tooltip, toolbar_mouse_event);\n",
       "\n",
       "        var icon_img = $('<span/>');\n",
       "        icon_img.addClass('ui-button-icon-primary ui-icon');\n",
       "        icon_img.addClass(image);\n",
       "        icon_img.addClass('ui-corner-all');\n",
       "\n",
       "        var tooltip_span = $('<span/>');\n",
       "        tooltip_span.addClass('ui-button-text');\n",
       "        tooltip_span.html(tooltip);\n",
       "\n",
       "        button.append(icon_img);\n",
       "        button.append(tooltip_span);\n",
       "\n",
       "        nav_element.append(button);\n",
       "    }\n",
       "\n",
       "    var fmt_picker_span = $('<span/>');\n",
       "\n",
       "    var fmt_picker = $('<select/>');\n",
       "    fmt_picker.addClass('mpl-toolbar-option ui-widget ui-widget-content');\n",
       "    fmt_picker_span.append(fmt_picker);\n",
       "    nav_element.append(fmt_picker_span);\n",
       "    this.format_dropdown = fmt_picker[0];\n",
       "\n",
       "    for (var ind in mpl.extensions) {\n",
       "        var fmt = mpl.extensions[ind];\n",
       "        var option = $(\n",
       "            '<option/>', {selected: fmt === mpl.default_extension}).html(fmt);\n",
       "        fmt_picker.append(option);\n",
       "    }\n",
       "\n",
       "    // Add hover states to the ui-buttons\n",
       "    $( \".ui-button\" ).hover(\n",
       "        function() { $(this).addClass(\"ui-state-hover\");},\n",
       "        function() { $(this).removeClass(\"ui-state-hover\");}\n",
       "    );\n",
       "\n",
       "    var status_bar = $('<span class=\"mpl-message\"/>');\n",
       "    nav_element.append(status_bar);\n",
       "    this.message = status_bar[0];\n",
       "}\n",
       "\n",
       "mpl.figure.prototype.request_resize = function(x_pixels, y_pixels) {\n",
       "    // Request matplotlib to resize the figure. Matplotlib will then trigger a resize in the client,\n",
       "    // which will in turn request a refresh of the image.\n",
       "    this.send_message('resize', {'width': x_pixels, 'height': y_pixels});\n",
       "}\n",
       "\n",
       "mpl.figure.prototype.send_message = function(type, properties) {\n",
       "    properties['type'] = type;\n",
       "    properties['figure_id'] = this.id;\n",
       "    this.ws.send(JSON.stringify(properties));\n",
       "}\n",
       "\n",
       "mpl.figure.prototype.send_draw_message = function() {\n",
       "    if (!this.waiting) {\n",
       "        this.waiting = true;\n",
       "        this.ws.send(JSON.stringify({type: \"draw\", figure_id: this.id}));\n",
       "    }\n",
       "}\n",
       "\n",
       "\n",
       "mpl.figure.prototype.handle_save = function(fig, msg) {\n",
       "    var format_dropdown = fig.format_dropdown;\n",
       "    var format = format_dropdown.options[format_dropdown.selectedIndex].value;\n",
       "    fig.ondownload(fig, format);\n",
       "}\n",
       "\n",
       "\n",
       "mpl.figure.prototype.handle_resize = function(fig, msg) {\n",
       "    var size = msg['size'];\n",
       "    if (size[0] != fig.canvas.width || size[1] != fig.canvas.height) {\n",
       "        fig._resize_canvas(size[0], size[1]);\n",
       "        fig.send_message(\"refresh\", {});\n",
       "    };\n",
       "}\n",
       "\n",
       "mpl.figure.prototype.handle_rubberband = function(fig, msg) {\n",
       "    var x0 = msg['x0'] / mpl.ratio;\n",
       "    var y0 = (fig.canvas.height - msg['y0']) / mpl.ratio;\n",
       "    var x1 = msg['x1'] / mpl.ratio;\n",
       "    var y1 = (fig.canvas.height - msg['y1']) / mpl.ratio;\n",
       "    x0 = Math.floor(x0) + 0.5;\n",
       "    y0 = Math.floor(y0) + 0.5;\n",
       "    x1 = Math.floor(x1) + 0.5;\n",
       "    y1 = Math.floor(y1) + 0.5;\n",
       "    var min_x = Math.min(x0, x1);\n",
       "    var min_y = Math.min(y0, y1);\n",
       "    var width = Math.abs(x1 - x0);\n",
       "    var height = Math.abs(y1 - y0);\n",
       "\n",
       "    fig.rubberband_context.clearRect(\n",
       "        0, 0, fig.canvas.width / mpl.ratio, fig.canvas.height / mpl.ratio);\n",
       "\n",
       "    fig.rubberband_context.strokeRect(min_x, min_y, width, height);\n",
       "}\n",
       "\n",
       "mpl.figure.prototype.handle_figure_label = function(fig, msg) {\n",
       "    // Updates the figure title.\n",
       "    fig.header.textContent = msg['label'];\n",
       "}\n",
       "\n",
       "mpl.figure.prototype.handle_cursor = function(fig, msg) {\n",
       "    var cursor = msg['cursor'];\n",
       "    switch(cursor)\n",
       "    {\n",
       "    case 0:\n",
       "        cursor = 'pointer';\n",
       "        break;\n",
       "    case 1:\n",
       "        cursor = 'default';\n",
       "        break;\n",
       "    case 2:\n",
       "        cursor = 'crosshair';\n",
       "        break;\n",
       "    case 3:\n",
       "        cursor = 'move';\n",
       "        break;\n",
       "    }\n",
       "    fig.rubberband_canvas.style.cursor = cursor;\n",
       "}\n",
       "\n",
       "mpl.figure.prototype.handle_message = function(fig, msg) {\n",
       "    fig.message.textContent = msg['message'];\n",
       "}\n",
       "\n",
       "mpl.figure.prototype.handle_draw = function(fig, msg) {\n",
       "    // Request the server to send over a new figure.\n",
       "    fig.send_draw_message();\n",
       "}\n",
       "\n",
       "mpl.figure.prototype.handle_image_mode = function(fig, msg) {\n",
       "    fig.image_mode = msg['mode'];\n",
       "}\n",
       "\n",
       "mpl.figure.prototype.updated_canvas_event = function() {\n",
       "    // Called whenever the canvas gets updated.\n",
       "    this.send_message(\"ack\", {});\n",
       "}\n",
       "\n",
       "// A function to construct a web socket function for onmessage handling.\n",
       "// Called in the figure constructor.\n",
       "mpl.figure.prototype._make_on_message_function = function(fig) {\n",
       "    return function socket_on_message(evt) {\n",
       "        if (evt.data instanceof Blob) {\n",
       "            /* FIXME: We get \"Resource interpreted as Image but\n",
       "             * transferred with MIME type text/plain:\" errors on\n",
       "             * Chrome.  But how to set the MIME type?  It doesn't seem\n",
       "             * to be part of the websocket stream */\n",
       "            evt.data.type = \"image/png\";\n",
       "\n",
       "            /* Free the memory for the previous frames */\n",
       "            if (fig.imageObj.src) {\n",
       "                (window.URL || window.webkitURL).revokeObjectURL(\n",
       "                    fig.imageObj.src);\n",
       "            }\n",
       "\n",
       "            fig.imageObj.src = (window.URL || window.webkitURL).createObjectURL(\n",
       "                evt.data);\n",
       "            fig.updated_canvas_event();\n",
       "            fig.waiting = false;\n",
       "            return;\n",
       "        }\n",
       "        else if (typeof evt.data === 'string' && evt.data.slice(0, 21) == \"data:image/png;base64\") {\n",
       "            fig.imageObj.src = evt.data;\n",
       "            fig.updated_canvas_event();\n",
       "            fig.waiting = false;\n",
       "            return;\n",
       "        }\n",
       "\n",
       "        var msg = JSON.parse(evt.data);\n",
       "        var msg_type = msg['type'];\n",
       "\n",
       "        // Call the  \"handle_{type}\" callback, which takes\n",
       "        // the figure and JSON message as its only arguments.\n",
       "        try {\n",
       "            var callback = fig[\"handle_\" + msg_type];\n",
       "        } catch (e) {\n",
       "            console.log(\"No handler for the '\" + msg_type + \"' message type: \", msg);\n",
       "            return;\n",
       "        }\n",
       "\n",
       "        if (callback) {\n",
       "            try {\n",
       "                // console.log(\"Handling '\" + msg_type + \"' message: \", msg);\n",
       "                callback(fig, msg);\n",
       "            } catch (e) {\n",
       "                console.log(\"Exception inside the 'handler_\" + msg_type + \"' callback:\", e, e.stack, msg);\n",
       "            }\n",
       "        }\n",
       "    };\n",
       "}\n",
       "\n",
       "// from http://stackoverflow.com/questions/1114465/getting-mouse-location-in-canvas\n",
       "mpl.findpos = function(e) {\n",
       "    //this section is from http://www.quirksmode.org/js/events_properties.html\n",
       "    var targ;\n",
       "    if (!e)\n",
       "        e = window.event;\n",
       "    if (e.target)\n",
       "        targ = e.target;\n",
       "    else if (e.srcElement)\n",
       "        targ = e.srcElement;\n",
       "    if (targ.nodeType == 3) // defeat Safari bug\n",
       "        targ = targ.parentNode;\n",
       "\n",
       "    // jQuery normalizes the pageX and pageY\n",
       "    // pageX,Y are the mouse positions relative to the document\n",
       "    // offset() returns the position of the element relative to the document\n",
       "    var x = e.pageX - $(targ).offset().left;\n",
       "    var y = e.pageY - $(targ).offset().top;\n",
       "\n",
       "    return {\"x\": x, \"y\": y};\n",
       "};\n",
       "\n",
       "/*\n",
       " * return a copy of an object with only non-object keys\n",
       " * we need this to avoid circular references\n",
       " * http://stackoverflow.com/a/24161582/3208463\n",
       " */\n",
       "function simpleKeys (original) {\n",
       "  return Object.keys(original).reduce(function (obj, key) {\n",
       "    if (typeof original[key] !== 'object')\n",
       "        obj[key] = original[key]\n",
       "    return obj;\n",
       "  }, {});\n",
       "}\n",
       "\n",
       "mpl.figure.prototype.mouse_event = function(event, name) {\n",
       "    var canvas_pos = mpl.findpos(event)\n",
       "\n",
       "    if (name === 'button_press')\n",
       "    {\n",
       "        this.canvas.focus();\n",
       "        this.canvas_div.focus();\n",
       "    }\n",
       "\n",
       "    var x = canvas_pos.x * mpl.ratio;\n",
       "    var y = canvas_pos.y * mpl.ratio;\n",
       "\n",
       "    this.send_message(name, {x: x, y: y, button: event.button,\n",
       "                             step: event.step,\n",
       "                             guiEvent: simpleKeys(event)});\n",
       "\n",
       "    /* This prevents the web browser from automatically changing to\n",
       "     * the text insertion cursor when the button is pressed.  We want\n",
       "     * to control all of the cursor setting manually through the\n",
       "     * 'cursor' event from matplotlib */\n",
       "    event.preventDefault();\n",
       "    return false;\n",
       "}\n",
       "\n",
       "mpl.figure.prototype._key_event_extra = function(event, name) {\n",
       "    // Handle any extra behaviour associated with a key event\n",
       "}\n",
       "\n",
       "mpl.figure.prototype.key_event = function(event, name) {\n",
       "\n",
       "    // Prevent repeat events\n",
       "    if (name == 'key_press')\n",
       "    {\n",
       "        if (event.which === this._key)\n",
       "            return;\n",
       "        else\n",
       "            this._key = event.which;\n",
       "    }\n",
       "    if (name == 'key_release')\n",
       "        this._key = null;\n",
       "\n",
       "    var value = '';\n",
       "    if (event.ctrlKey && event.which != 17)\n",
       "        value += \"ctrl+\";\n",
       "    if (event.altKey && event.which != 18)\n",
       "        value += \"alt+\";\n",
       "    if (event.shiftKey && event.which != 16)\n",
       "        value += \"shift+\";\n",
       "\n",
       "    value += 'k';\n",
       "    value += event.which.toString();\n",
       "\n",
       "    this._key_event_extra(event, name);\n",
       "\n",
       "    this.send_message(name, {key: value,\n",
       "                             guiEvent: simpleKeys(event)});\n",
       "    return false;\n",
       "}\n",
       "\n",
       "mpl.figure.prototype.toolbar_button_onclick = function(name) {\n",
       "    if (name == 'download') {\n",
       "        this.handle_save(this, null);\n",
       "    } else {\n",
       "        this.send_message(\"toolbar_button\", {name: name});\n",
       "    }\n",
       "};\n",
       "\n",
       "mpl.figure.prototype.toolbar_button_onmouseover = function(tooltip) {\n",
       "    this.message.textContent = tooltip;\n",
       "};\n",
       "mpl.toolbar_items = [[\"Home\", \"Reset original view\", \"fa fa-home icon-home\", \"home\"], [\"Back\", \"Back to previous view\", \"fa fa-arrow-left icon-arrow-left\", \"back\"], [\"Forward\", \"Forward to next view\", \"fa fa-arrow-right icon-arrow-right\", \"forward\"], [\"\", \"\", \"\", \"\"], [\"Pan\", \"Pan axes with left mouse, zoom with right\", \"fa fa-arrows icon-move\", \"pan\"], [\"Zoom\", \"Zoom to rectangle\", \"fa fa-square-o icon-check-empty\", \"zoom\"], [\"\", \"\", \"\", \"\"], [\"Download\", \"Download plot\", \"fa fa-floppy-o icon-save\", \"download\"]];\n",
       "\n",
       "mpl.extensions = [\"eps\", \"jpeg\", \"pdf\", \"png\", \"ps\", \"raw\", \"svg\", \"tif\"];\n",
       "\n",
       "mpl.default_extension = \"png\";var comm_websocket_adapter = function(comm) {\n",
       "    // Create a \"websocket\"-like object which calls the given IPython comm\n",
       "    // object with the appropriate methods. Currently this is a non binary\n",
       "    // socket, so there is still some room for performance tuning.\n",
       "    var ws = {};\n",
       "\n",
       "    ws.close = function() {\n",
       "        comm.close()\n",
       "    };\n",
       "    ws.send = function(m) {\n",
       "        //console.log('sending', m);\n",
       "        comm.send(m);\n",
       "    };\n",
       "    // Register the callback with on_msg.\n",
       "    comm.on_msg(function(msg) {\n",
       "        //console.log('receiving', msg['content']['data'], msg);\n",
       "        // Pass the mpl event to the overridden (by mpl) onmessage function.\n",
       "        ws.onmessage(msg['content']['data'])\n",
       "    });\n",
       "    return ws;\n",
       "}\n",
       "\n",
       "mpl.mpl_figure_comm = function(comm, msg) {\n",
       "    // This is the function which gets called when the mpl process\n",
       "    // starts-up an IPython Comm through the \"matplotlib\" channel.\n",
       "\n",
       "    var id = msg.content.data.id;\n",
       "    // Get hold of the div created by the display call when the Comm\n",
       "    // socket was opened in Python.\n",
       "    var element = $(\"#\" + id);\n",
       "    var ws_proxy = comm_websocket_adapter(comm)\n",
       "\n",
       "    function ondownload(figure, format) {\n",
       "        window.open(figure.imageObj.src);\n",
       "    }\n",
       "\n",
       "    var fig = new mpl.figure(id, ws_proxy,\n",
       "                           ondownload,\n",
       "                           element.get(0));\n",
       "\n",
       "    // Call onopen now - mpl needs it, as it is assuming we've passed it a real\n",
       "    // web socket which is closed, not our websocket->open comm proxy.\n",
       "    ws_proxy.onopen();\n",
       "\n",
       "    fig.parent_element = element.get(0);\n",
       "    fig.cell_info = mpl.find_output_cell(\"<div id='\" + id + \"'></div>\");\n",
       "    if (!fig.cell_info) {\n",
       "        console.error(\"Failed to find cell for figure\", id, fig);\n",
       "        return;\n",
       "    }\n",
       "\n",
       "    var output_index = fig.cell_info[2]\n",
       "    var cell = fig.cell_info[0];\n",
       "\n",
       "};\n",
       "\n",
       "mpl.figure.prototype.handle_close = function(fig, msg) {\n",
       "    var width = fig.canvas.width/mpl.ratio\n",
       "    fig.root.unbind('remove')\n",
       "\n",
       "    // Update the output cell to use the data from the current canvas.\n",
       "    fig.push_to_output();\n",
       "    var dataURL = fig.canvas.toDataURL();\n",
       "    // Re-enable the keyboard manager in IPython - without this line, in FF,\n",
       "    // the notebook keyboard shortcuts fail.\n",
       "    IPython.keyboard_manager.enable()\n",
       "    $(fig.parent_element).html('<img src=\"' + dataURL + '\" width=\"' + width + '\">');\n",
       "    fig.close_ws(fig, msg);\n",
       "}\n",
       "\n",
       "mpl.figure.prototype.close_ws = function(fig, msg){\n",
       "    fig.send_message('closing', msg);\n",
       "    // fig.ws.close()\n",
       "}\n",
       "\n",
       "mpl.figure.prototype.push_to_output = function(remove_interactive) {\n",
       "    // Turn the data on the canvas into data in the output cell.\n",
       "    var width = this.canvas.width/mpl.ratio\n",
       "    var dataURL = this.canvas.toDataURL();\n",
       "    this.cell_info[1]['text/html'] = '<img src=\"' + dataURL + '\" width=\"' + width + '\">';\n",
       "}\n",
       "\n",
       "mpl.figure.prototype.updated_canvas_event = function() {\n",
       "    // Tell IPython that the notebook contents must change.\n",
       "    IPython.notebook.set_dirty(true);\n",
       "    this.send_message(\"ack\", {});\n",
       "    var fig = this;\n",
       "    // Wait a second, then push the new image to the DOM so\n",
       "    // that it is saved nicely (might be nice to debounce this).\n",
       "    setTimeout(function () { fig.push_to_output() }, 1000);\n",
       "}\n",
       "\n",
       "mpl.figure.prototype._init_toolbar = function() {\n",
       "    var fig = this;\n",
       "\n",
       "    var nav_element = $('<div/>');\n",
       "    nav_element.attr('style', 'width: 100%');\n",
       "    this.root.append(nav_element);\n",
       "\n",
       "    // Define a callback function for later on.\n",
       "    function toolbar_event(event) {\n",
       "        return fig.toolbar_button_onclick(event['data']);\n",
       "    }\n",
       "    function toolbar_mouse_event(event) {\n",
       "        return fig.toolbar_button_onmouseover(event['data']);\n",
       "    }\n",
       "\n",
       "    for(var toolbar_ind in mpl.toolbar_items){\n",
       "        var name = mpl.toolbar_items[toolbar_ind][0];\n",
       "        var tooltip = mpl.toolbar_items[toolbar_ind][1];\n",
       "        var image = mpl.toolbar_items[toolbar_ind][2];\n",
       "        var method_name = mpl.toolbar_items[toolbar_ind][3];\n",
       "\n",
       "        if (!name) { continue; };\n",
       "\n",
       "        var button = $('<button class=\"btn btn-default\" href=\"#\" title=\"' + name + '\"><i class=\"fa ' + image + ' fa-lg\"></i></button>');\n",
       "        button.click(method_name, toolbar_event);\n",
       "        button.mouseover(tooltip, toolbar_mouse_event);\n",
       "        nav_element.append(button);\n",
       "    }\n",
       "\n",
       "    // Add the status bar.\n",
       "    var status_bar = $('<span class=\"mpl-message\" style=\"text-align:right; float: right;\"/>');\n",
       "    nav_element.append(status_bar);\n",
       "    this.message = status_bar[0];\n",
       "\n",
       "    // Add the close button to the window.\n",
       "    var buttongrp = $('<div class=\"btn-group inline pull-right\"></div>');\n",
       "    var button = $('<button class=\"btn btn-mini btn-primary\" href=\"#\" title=\"Stop Interaction\"><i class=\"fa fa-power-off icon-remove icon-large\"></i></button>');\n",
       "    button.click(function (evt) { fig.handle_close(fig, {}); } );\n",
       "    button.mouseover('Stop Interaction', toolbar_mouse_event);\n",
       "    buttongrp.append(button);\n",
       "    var titlebar = this.root.find($('.ui-dialog-titlebar'));\n",
       "    titlebar.prepend(buttongrp);\n",
       "}\n",
       "\n",
       "mpl.figure.prototype._root_extra_style = function(el){\n",
       "    var fig = this\n",
       "    el.on(\"remove\", function(){\n",
       "\tfig.close_ws(fig, {});\n",
       "    });\n",
       "}\n",
       "\n",
       "mpl.figure.prototype._canvas_extra_style = function(el){\n",
       "    // this is important to make the div 'focusable\n",
       "    el.attr('tabindex', 0)\n",
       "    // reach out to IPython and tell the keyboard manager to turn it's self\n",
       "    // off when our div gets focus\n",
       "\n",
       "    // location in version 3\n",
       "    if (IPython.notebook.keyboard_manager) {\n",
       "        IPython.notebook.keyboard_manager.register_events(el);\n",
       "    }\n",
       "    else {\n",
       "        // location in version 2\n",
       "        IPython.keyboard_manager.register_events(el);\n",
       "    }\n",
       "\n",
       "}\n",
       "\n",
       "mpl.figure.prototype._key_event_extra = function(event, name) {\n",
       "    var manager = IPython.notebook.keyboard_manager;\n",
       "    if (!manager)\n",
       "        manager = IPython.keyboard_manager;\n",
       "\n",
       "    // Check for shift+enter\n",
       "    if (event.shiftKey && event.which == 13) {\n",
       "        this.canvas_div.blur();\n",
       "        event.shiftKey = false;\n",
       "        // Send a \"J\" for go to next cell\n",
       "        event.which = 74;\n",
       "        event.keyCode = 74;\n",
       "        manager.command_mode();\n",
       "        manager.handle_keydown(event);\n",
       "    }\n",
       "}\n",
       "\n",
       "mpl.figure.prototype.handle_save = function(fig, msg) {\n",
       "    fig.ondownload(fig, null);\n",
       "}\n",
       "\n",
       "\n",
       "mpl.find_output_cell = function(html_output) {\n",
       "    // Return the cell and output element which can be found *uniquely* in the notebook.\n",
       "    // Note - this is a bit hacky, but it is done because the \"notebook_saving.Notebook\"\n",
       "    // IPython event is triggered only after the cells have been serialised, which for\n",
       "    // our purposes (turning an active figure into a static one), is too late.\n",
       "    var cells = IPython.notebook.get_cells();\n",
       "    var ncells = cells.length;\n",
       "    for (var i=0; i<ncells; i++) {\n",
       "        var cell = cells[i];\n",
       "        if (cell.cell_type === 'code'){\n",
       "            for (var j=0; j<cell.output_area.outputs.length; j++) {\n",
       "                var data = cell.output_area.outputs[j];\n",
       "                if (data.data) {\n",
       "                    // IPython >= 3 moved mimebundle to data attribute of output\n",
       "                    data = data.data;\n",
       "                }\n",
       "                if (data['text/html'] == html_output) {\n",
       "                    return [cell, data, j];\n",
       "                }\n",
       "            }\n",
       "        }\n",
       "    }\n",
       "}\n",
       "\n",
       "// Register the function which deals with the matplotlib target/channel.\n",
       "// The kernel may be null if the page has been refreshed.\n",
       "if (IPython.notebook.kernel != null) {\n",
       "    IPython.notebook.kernel.comm_manager.register_target('matplotlib', mpl.mpl_figure_comm);\n",
       "}\n"
      ],
      "text/plain": [
       "<IPython.core.display.Javascript object>"
      ]
     },
     "metadata": {},
     "output_type": "display_data"
    },
    {
     "data": {
      "text/html": [
       "<img src=\"data:image/png;base64,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\" width=\"640\">"
      ],
      "text/plain": [
       "<IPython.core.display.HTML object>"
      ]
     },
     "metadata": {},
     "output_type": "display_data"
    }
   ],
   "source": [
    "x = [0,0,2,2]\n",
    "y = [0,0,2,-2]\n",
    "\n",
    "plt.quiver([x[0], y[0]],\n",
    "           [x[1], y[1]],\n",
    "           [x[2], y[2]],\n",
    "           [x[3], y[3]],\n",
    "           angles='xy', scale_units='xy', scale=1)\n",
    "\n",
    "plt.xlim(-2, 4)\n",
    "plt.ylim(-3, 3)\n",
    "plt.axvline(x=0, color='grey')\n",
    "plt.axhline(y=0, color='grey')\n",
    "\n",
    "plt.text(1, 1.5, r'$\\vec{u}$', size=18)\n",
    "plt.text(1.5, -1, r'$\\vec{v}$', size=18)\n",
    "\n",
    "plt.show()"
   ]
  },
  {
   "cell_type": "code",
   "execution_count": 5,
   "metadata": {},
   "outputs": [
    {
     "name": "stdout",
     "output_type": "stream",
     "text": [
      "[[2 2]]\n",
      "[[ 2 -2]]\n"
     ]
    }
   ],
   "source": [
    "v1 = np.array([[2,2]])\n",
    "v2 = np.array([[2,-2]])\n",
    "print(v1)\n",
    "print(v2)"
   ]
  },
  {
   "cell_type": "code",
   "execution_count": 6,
   "metadata": {},
   "outputs": [
    {
     "data": {
      "text/plain": [
       "array([[0]])"
      ]
     },
     "execution_count": 6,
     "metadata": {},
     "output_type": "execute_result"
    }
   ],
   "source": [
    "v1.dot(v2.T) # donde vemos que el producto interno es 0 y por lo tanto son ortogonales"
   ]
  },
  {
   "cell_type": "code",
   "execution_count": 8,
   "metadata": {},
   "outputs": [
    {
     "name": "stdout",
     "output_type": "stream",
     "text": [
      "2.8284271247461903\n",
      "2.8284271247461903\n"
     ]
    }
   ],
   "source": [
    "# Cuando la norma de vectores ortogonales es 1 entonces los llamamos ortonormales\n",
    "print(np.linalg.norm(v1))\n",
    "print(np.linalg.norm(v2))"
   ]
  },
  {
   "cell_type": "code",
   "execution_count": 12,
   "metadata": {},
   "outputs": [
    {
     "name": "stdout",
     "output_type": "stream",
     "text": [
      "[[1 0]]\n",
      "[[ 0 -1]]\n"
     ]
    }
   ],
   "source": [
    "v1 = np.array([[1,0]])\n",
    "v2 = np.array([[0,-1]])\n",
    "print(v1)\n",
    "print(v2)"
   ]
  },
  {
   "cell_type": "code",
   "execution_count": 13,
   "metadata": {},
   "outputs": [
    {
     "data": {
      "text/plain": [
       "array([[0]])"
      ]
     },
     "execution_count": 13,
     "metadata": {},
     "output_type": "execute_result"
    }
   ],
   "source": [
    "v1.dot(v2.T) # donde vemos que el producto interno es 0 y por lo tanto son ortogonales"
   ]
  },
  {
   "cell_type": "code",
   "execution_count": 14,
   "metadata": {},
   "outputs": [
    {
     "name": "stdout",
     "output_type": "stream",
     "text": [
      "1.0\n",
      "1.0\n"
     ]
    }
   ],
   "source": [
    "# Cuando la norma de vectores ortogonales es 1 entonces los llamamos ortonormales\n",
    "print(np.linalg.norm(v1))\n",
    "print(np.linalg.norm(v2))"
   ]
  },
  {
   "cell_type": "code",
   "execution_count": 15,
   "metadata": {},
   "outputs": [],
   "source": [
    "# Sin entrar en detalles diremos que es imposible tener mas de n vectores mutuamente ortogonales en Rn\n",
    "# Por ejemplo en R2 que es el caso que vimos antes te propongo que trates de dibujar 3 vectores mutuamente \n",
    "# ortogonales (R2 es un espacio de dimension 2)"
   ]
  },
  {
   "cell_type": "code",
   "execution_count": 16,
   "metadata": {},
   "outputs": [
    {
     "name": "stdout",
     "output_type": "stream",
     "text": [
      "[[1 0 0]\n",
      " [0 1 0]\n",
      " [0 0 1]]\n"
     ]
    }
   ],
   "source": [
    "# Las matrices ortogonales son importantes por una serie de propiedades.\n",
    "# Una matriz es ortogonal si sus columnas son mutuamente ortonormales y sus filas son mutuamente ortonormales\n",
    "\n",
    "matriz_o = np.array([[1,0,0],[0,1,0],[0,0,1]])\n",
    "print(matriz_o)"
   ]
  },
  {
   "cell_type": "code",
   "execution_count": 21,
   "metadata": {},
   "outputs": [
    {
     "name": "stdout",
     "output_type": "stream",
     "text": [
      "0\n",
      "0\n",
      "0\n"
     ]
    }
   ],
   "source": [
    "# Para ver que es ortogonal esta matriz veamos que sus columnas son mutuamente ortonormales\n",
    "print(matriz_o[:,0].dot(matriz_o[:,1]))\n",
    "print(matriz_o[:,0].dot(matriz_o[:,2]))\n",
    "print(matriz_o[:,1].dot(matriz_o[:,2]))"
   ]
  },
  {
   "cell_type": "code",
   "execution_count": 22,
   "metadata": {},
   "outputs": [
    {
     "name": "stdout",
     "output_type": "stream",
     "text": [
      "1.0\n",
      "1.0\n",
      "1.0\n"
     ]
    }
   ],
   "source": [
    "# Y veamos que tienen norma 1\n",
    "print(np.linalg.norm(matriz_o[:,0]))\n",
    "print(np.linalg.norm(matriz_o[:,1]))\n",
    "print(np.linalg.norm(matriz_o[:,2]))"
   ]
  },
  {
   "cell_type": "code",
   "execution_count": 25,
   "metadata": {},
   "outputs": [
    {
     "name": "stdout",
     "output_type": "stream",
     "text": [
      "0\n",
      "0\n",
      "0\n"
     ]
    }
   ],
   "source": [
    "# Para ver que es ortogonal esta matriz veamos que sus filas son mutuamente ortonormales\n",
    "print(matriz_o[0,:].dot(matriz_o[1,:]))\n",
    "print(matriz_o[0,:].dot(matriz_o[2,:]))\n",
    "print(matriz_o[1,:].dot(matriz_o[2,:]))"
   ]
  },
  {
   "cell_type": "code",
   "execution_count": 26,
   "metadata": {},
   "outputs": [
    {
     "name": "stdout",
     "output_type": "stream",
     "text": [
      "1.0\n",
      "1.0\n",
      "1.0\n"
     ]
    }
   ],
   "source": [
    "# Y veamos que tienen norma 1\n",
    "print(np.linalg.norm(matriz_o[0,:]))\n",
    "print(np.linalg.norm(matriz_o[1,:]))\n",
    "print(np.linalg.norm(matriz_o[2,:]))"
   ]
  },
  {
   "cell_type": "code",
   "execution_count": 23,
   "metadata": {},
   "outputs": [],
   "source": [
    "# Una matriz ortogonal tiene la siguiente propiedad A_t*A=A*A_t=I (identidad), de esto podemos interpretar que\n",
    "# Si tenemos una matriz ortogonal su inversa es la transpuesta o sea otra propieda es que A_t = A_inv\n",
    "# Las matrices ortogonales son de interes porque su inversa es computacionalmente economica de ser calculada.\n",
    "\n",
    "# Es importante prestar atencion a la definicion de matriz ortogonal. Contrariamente a lo que uno podria esperar\n",
    "# sus filas/columnas no son solamente ortogonales, necesitan ser ortonormales. No hay un nombre para una matriz\n",
    "# cuyas filas o columnas sean ortogonales pero no ortonormales.\n"
   ]
  },
  {
   "cell_type": "code",
   "execution_count": 24,
   "metadata": {},
   "outputs": [
    {
     "name": "stdout",
     "output_type": "stream",
     "text": [
      "[[ 0.86231887  0.50636564]\n",
      " [-0.50636564  0.86231887]]\n"
     ]
    }
   ],
   "source": [
    "# Una manera sencilla de conseguir matrices ortogonales es utilizando las funciones trigonometricas seno y coseno\n",
    "A = np.array([[np.cos(100), -np.sin(100)],[np.sin(100), np.cos(100)]])\n",
    "print(A)"
   ]
  },
  {
   "cell_type": "code",
   "execution_count": 27,
   "metadata": {},
   "outputs": [
    {
     "name": "stdout",
     "output_type": "stream",
     "text": [
      "0.9999999999999999\n",
      "0.9999999999999999\n",
      "0.9999999999999999\n",
      "0.9999999999999999\n"
     ]
    }
   ],
   "source": [
    "print(np.linalg.norm(A[0,:]))\n",
    "print(np.linalg.norm(A[1,:]))\n",
    "print(np.linalg.norm(A[:,0]))\n",
    "print(np.linalg.norm(A[:,1]))"
   ]
  },
  {
   "cell_type": "code",
   "execution_count": 28,
   "metadata": {},
   "outputs": [
    {
     "name": "stdout",
     "output_type": "stream",
     "text": [
      "0.0\n",
      "0.0\n"
     ]
    }
   ],
   "source": [
    "print(A[0,:].dot(A[1,:]))\n",
    "print(A[:,0].dot(A[:,1]))"
   ]
  },
  {
   "cell_type": "code",
   "execution_count": 29,
   "metadata": {},
   "outputs": [
    {
     "name": "stdout",
     "output_type": "stream",
     "text": [
      "[[ 1.00000000e+00 -7.93771519e-18]\n",
      " [-7.93771519e-18  1.00000000e+00]]\n",
      "[[1.00000000e+00 7.93771519e-18]\n",
      " [7.93771519e-18 1.00000000e+00]]\n"
     ]
    }
   ],
   "source": [
    "# Por lo anterior vemos que es ortogonal la matriz A, veamos que cumple con las 2 propiedades que escribimos arriba\n",
    "A_t=A.T\n",
    "#A_t*A=A*A_t=I\n",
    "print(A_t.dot(A))\n",
    "print(A.dot(A_t))"
   ]
  },
  {
   "cell_type": "code",
   "execution_count": 30,
   "metadata": {},
   "outputs": [],
   "source": [
    "# Aqui tenemos nuestra primer muestra de los errores de calculos que se pueden producir cuando hacemos cuentas\n",
    "# con la computadora. Es importante observar este tipo de comportamientos ya que pueden introducir grandes errores\n",
    "# en nuestras operaciones"
   ]
  },
  {
   "cell_type": "code",
   "execution_count": 32,
   "metadata": {},
   "outputs": [
    {
     "name": "stdout",
     "output_type": "stream",
     "text": [
      "[[ 0.86231887 -0.50636564]\n",
      " [ 0.50636564  0.86231887]]\n"
     ]
    }
   ],
   "source": [
    "# La otra propiedad que deseamos ver es que A_t = A_inv, pero justamente ya lo vimos en el paso anterior\n",
    "A_inv = np.linalg.inv(A)\n",
    "print(A_inv)"
   ]
  },
  {
   "cell_type": "code",
   "execution_count": 33,
   "metadata": {},
   "outputs": [
    {
     "name": "stdout",
     "output_type": "stream",
     "text": [
      "[[ 0.86231887 -0.50636564]\n",
      " [ 0.50636564  0.86231887]]\n"
     ]
    }
   ],
   "source": [
    "print(A_t)"
   ]
  },
  {
   "cell_type": "code",
   "execution_count": 34,
   "metadata": {},
   "outputs": [],
   "source": [
    "# Y con esto ultimo vemos efectivamente que A_t = A_inv"
   ]
  },
  {
   "cell_type": "code",
   "execution_count": 36,
   "metadata": {},
   "outputs": [
    {
     "name": "stdout",
     "output_type": "stream",
     "text": [
      "[[ 1.00000000e+00 -1.25980837e+17]\n",
      " [-1.25980837e+17  1.00000000e+00]]\n"
     ]
    }
   ],
   "source": [
    "# Bonus, que ocurre si calculamos 1/Identidad?\n",
    "print(1/(A_t.dot(A)))"
   ]
  },
  {
   "cell_type": "code",
   "execution_count": 38,
   "metadata": {},
   "outputs": [
    {
     "name": "stdout",
     "output_type": "stream",
     "text": [
      "[[1. 0.]\n",
      " [0. 1.]]\n"
     ]
    }
   ],
   "source": [
    "print(np.eye(2))"
   ]
  },
  {
   "cell_type": "code",
   "execution_count": 39,
   "metadata": {},
   "outputs": [
    {
     "name": "stdout",
     "output_type": "stream",
     "text": [
      "[[ 1. inf]\n",
      " [inf  1.]]\n"
     ]
    },
    {
     "name": "stderr",
     "output_type": "stream",
     "text": [
      "C:\\Users\\Sebastian\\Anaconda3\\envs\\Platzi - FundamentosAL\\lib\\site-packages\\ipykernel_launcher.py:1: RuntimeWarning: divide by zero encountered in true_divide\n",
      "  \"\"\"Entry point for launching an IPython kernel.\n"
     ]
    }
   ],
   "source": [
    "print(1/np.eye(2))"
   ]
  },
  {
   "cell_type": "code",
   "execution_count": null,
   "metadata": {},
   "outputs": [],
   "source": []
  }
 ],
 "metadata": {
  "kernelspec": {
   "display_name": "Python 3",
   "language": "python",
   "name": "python3"
  },
  "language_info": {
   "codemirror_mode": {
    "name": "ipython",
    "version": 3
   },
   "file_extension": ".py",
   "mimetype": "text/x-python",
   "name": "python",
   "nbconvert_exporter": "python",
   "pygments_lexer": "ipython3",
   "version": "3.7.4"
  }
 },
 "nbformat": 4,
 "nbformat_minor": 2
}
