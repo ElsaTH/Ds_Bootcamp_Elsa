{
 "cells": [
  {
   "cell_type": "code",
   "execution_count": 1,
   "metadata": {},
   "outputs": [],
   "source": [
    "import numpy as np"
   ]
  },
  {
   "cell_type": "code",
   "execution_count": 2,
   "metadata": {},
   "outputs": [
    {
     "name": "stdout",
     "output_type": "stream",
     "text": [
      "[1 2 3 4 5]\n",
      "[[1 0 0 0 0]\n",
      " [0 2 0 0 0]\n",
      " [0 0 3 0 0]\n",
      " [0 0 0 4 0]\n",
      " [0 0 0 0 5]]\n"
     ]
    }
   ],
   "source": [
    "# Ya vimos antes algunos tipos especiales de matrices, para repasar cuales: la identidad, la inversa y las\n",
    "# singulares\n",
    "\n",
    "# Ahora es el turno de las matrices diagonales y las simetricas\n",
    "# En una de las clases anteriores te conte que la matriza diagonal es aquella que tiene valores distintos de cero\n",
    "# solo en la diagonal, todo el resto de los valores por arriba y abajo son 0\n",
    "\n",
    "vector = np.array([1,2,3,4,5])\n",
    "matriz = np.diag(vector)\n",
    "\n",
    "print(vector)\n",
    "print(matriz)"
   ]
  },
  {
   "cell_type": "code",
   "execution_count": 9,
   "metadata": {},
   "outputs": [
    {
     "name": "stdout",
     "output_type": "stream",
     "text": [
      "[[1 0 0]\n",
      " [0 2 0]\n",
      " [0 0 3]\n",
      " [0 0 0]]\n"
     ]
    }
   ],
   "source": [
    "# El anterior es el caso tipico de una matriz cuadrada diagonal, con todos los valores en la diagonal distintos de \n",
    "# 0, pero tambien tenemos otros casos menos lindos como matrices diagonales no cuadradas\n",
    "\n",
    "print(matriz[0:4,0:3]) # tambien es una matriz diagonal, solo que no cuadrada"
   ]
  },
  {
   "cell_type": "code",
   "execution_count": 10,
   "metadata": {},
   "outputs": [
    {
     "name": "stdout",
     "output_type": "stream",
     "text": [
      "[[1 0 0 0]\n",
      " [0 2 0 0]\n",
      " [0 0 3 0]]\n"
     ]
    }
   ],
   "source": [
    "# O esta otra matriz tambien es diagonal y no cuadrada\n",
    "\n",
    "print(matriz[0:3,0:4])"
   ]
  },
  {
   "cell_type": "code",
   "execution_count": 12,
   "metadata": {},
   "outputs": [
    {
     "name": "stdout",
     "output_type": "stream",
     "text": [
      "[1 2 3 4 5]\n",
      "[1 2 3]\n"
     ]
    }
   ],
   "source": [
    "# La funcion de numpy np.diag puede ser usada tanto para crear la matriz como hicimos mas arriba como para obtener\n",
    "# los valores de la diagonal. Cuando crea las matrices las mismas son diagonales cuadradas \n",
    "\n",
    "print(np.diag(matriz))\n",
    "print(np.diag(matriz[0:3,0:4]))"
   ]
  },
  {
   "cell_type": "code",
   "execution_count": 18,
   "metadata": {},
   "outputs": [
    {
     "name": "stdout",
     "output_type": "stream",
     "text": [
      "[[2 0 0 0]\n",
      " [0 3 0 0]\n",
      " [0 0 4 0]\n",
      " [0 0 0 5]]\n"
     ]
    }
   ],
   "source": [
    "# Una propieda importante que tienen las matrices diagonales es que la multiplicacion de un vector por la matriz\n",
    "# diagonal no es otra cosa que la ponderacion de cada elemento de la diagonal por el vector que multiplica\n",
    "\n",
    "A = np.diag([2,3,4,5])\n",
    "print(A)"
   ]
  },
  {
   "cell_type": "code",
   "execution_count": 22,
   "metadata": {},
   "outputs": [
    {
     "name": "stdout",
     "output_type": "stream",
     "text": [
      "[[1 1 1 1]]\n",
      "[[2]\n",
      " [3]\n",
      " [4]\n",
      " [5]]\n"
     ]
    }
   ],
   "source": [
    "v1 = np.array([[1, 1, 1, 1]])\n",
    "print(v1)\n",
    "print(A.dot(v1.T))"
   ]
  },
  {
   "cell_type": "code",
   "execution_count": 23,
   "metadata": {},
   "outputs": [
    {
     "name": "stdout",
     "output_type": "stream",
     "text": [
      "[[0.5        0.         0.         0.        ]\n",
      " [0.         0.33333333 0.         0.        ]\n",
      " [0.         0.         0.25       0.        ]\n",
      " [0.         0.         0.         0.2       ]]\n"
     ]
    }
   ],
   "source": [
    "# Ahhh pero entonces en el caso de las matrices diagonales cuadradas encontrar su inversa debiera ser simple\n",
    "# Decimos que debe ser cuadrada porque si no la inversa no existe, pero ademas todos los elementos deben ser\n",
    "# distintos de 0, ahora veremos porque\n",
    "\n",
    "# en el punto anterior dijimos que la multiplicacion de una matriz por un vector era la ponderacion de cada\n",
    "# elemento de la diagonal, ademas ya sabemos que A*A_inv = Identidad (una matriz diagonal cuadrada de unos)\n",
    "\n",
    "# Por cuanto debo multiplicar al 2 para que me 1? por 1/2 o 0.5, y lo mismo para los otros elementos\n",
    "\n",
    "A_inv = np.diag([1/2,1/3,1/4,1/5])\n",
    "print(A_inv)\n",
    "# Proponemos a A_inv como inversa de A"
   ]
  },
  {
   "cell_type": "code",
   "execution_count": 24,
   "metadata": {},
   "outputs": [
    {
     "name": "stdout",
     "output_type": "stream",
     "text": [
      "[[1. 0. 0. 0.]\n",
      " [0. 1. 0. 0.]\n",
      " [0. 0. 1. 0.]\n",
      " [0. 0. 0. 1.]]\n"
     ]
    }
   ],
   "source": [
    "# Veamos si A*A_inv nos devuelve la identidad\n",
    "identidad = A.dot(A_inv)\n",
    "print(identidad)"
   ]
  },
  {
   "cell_type": "code",
   "execution_count": 25,
   "metadata": {},
   "outputs": [
    {
     "name": "stdout",
     "output_type": "stream",
     "text": [
      "[[0.5        0.         0.         0.        ]\n",
      " [0.         0.33333333 0.         0.        ]\n",
      " [0.         0.         0.25       0.        ]\n",
      " [0.         0.         0.         0.2       ]]\n"
     ]
    }
   ],
   "source": [
    "# Ya habiamos visto que podiamos usar el comando np.linalg.inv() para calcular la inversa, revisemos que nos da \n",
    "# lo mismo\n",
    "A_inv_calc = np.linalg.inv(A)\n",
    "print(A_inv_calc)\n",
    "# Efectivamente nos da el mismo resultado"
   ]
  },
  {
   "cell_type": "code",
   "execution_count": 27,
   "metadata": {},
   "outputs": [
    {
     "name": "stdout",
     "output_type": "stream",
     "text": [
      "[[2 0 0 0]\n",
      " [0 3 0 0]\n",
      " [0 0 4 0]\n",
      " [0 0 0 5]]\n",
      "[[2 0 0 0]\n",
      " [0 3 0 0]\n",
      " [0 0 4 0]\n",
      " [0 0 0 5]]\n"
     ]
    }
   ],
   "source": [
    "# Una matriz es simetrica si A = A_t , si una matriz es igual a su transpuesta\n",
    "# En el caso de una matriz diagonal cuadrada esto es inmediato, no asi si no es cuadrada\n",
    "print(A.T)\n",
    "print(A)\n",
    "# Son iguales"
   ]
  },
  {
   "cell_type": "code",
   "execution_count": 29,
   "metadata": {},
   "outputs": [
    {
     "name": "stdout",
     "output_type": "stream",
     "text": [
      "[[ 1  2  3]\n",
      " [ 2 -1  7]\n",
      " [ 3  7 11]]\n",
      "[[ 1  2  3]\n",
      " [ 2 -1  7]\n",
      " [ 3  7 11]]\n"
     ]
    }
   ],
   "source": [
    "# Para matrices en general debe ocurrir que los valores estan espejados sobre la diagonal\n",
    "simetrica = np.array([[1,2,3],[2,-1,7],[3,7,11]])\n",
    "print(simetrica)\n",
    "print(simetrica.T)"
   ]
  },
  {
   "cell_type": "code",
   "execution_count": 30,
   "metadata": {},
   "outputs": [
    {
     "name": "stdout",
     "output_type": "stream",
     "text": [
      "[[ 7 11 13]\n",
      " [11 17 19]\n",
      " [13 19 23]]\n"
     ]
    }
   ],
   "source": [
    "# Recuerdas cuando hablamos de multiplicacion de matrices que vimos (A*B)_t = B_t*A_t\n",
    "# por el punto anterior si A y B son simetricas entonces A = A_t y B = B_t\n",
    "# Entonces nos queda que (A*B)_t = B*A y esto es muy importante ya que si nuestras matrices cumplen los\n",
    "# requisitos, ser simetricas, podemos transponer el producto sin hacer ninguna cuenta, solo cambiando el orden\n",
    "# en el que multiplicamos, esto tiene implicancias computacionales fuertes\n",
    "\n",
    "B = np.array([[7,11,13],[11,17,19],[13,19,23]])\n",
    "print(B)"
   ]
  },
  {
   "cell_type": "code",
   "execution_count": 31,
   "metadata": {},
   "outputs": [
    {
     "name": "stdout",
     "output_type": "stream",
     "text": [
      "[[ 68  94 241]\n",
      " [102 138 361]\n",
      " [120 168 425]]\n",
      "[[ 68  94 241]\n",
      " [102 138 361]\n",
      " [120 168 425]]\n"
     ]
    }
   ],
   "source": [
    "# es simetrica\n",
    "print((simetrica.dot(B).T))\n",
    "print(B.dot(simetrica))\n",
    "# Conocer este tipo de propiedades es muy importante para cuando uno esta leyendo lo que alguien mas programo\n",
    "# o cuando necesitan ahorrar en ciclos de computo, les permite reducir la cantidad de operaciones para llegar\n",
    "# a un mismo resultado"
   ]
  },
  {
   "cell_type": "code",
   "execution_count": null,
   "metadata": {},
   "outputs": [],
   "source": []
  }
 ],
 "metadata": {
  "kernelspec": {
   "display_name": "Python 3",
   "language": "python",
   "name": "python3"
  },
  "language_info": {
   "codemirror_mode": {
    "name": "ipython",
    "version": 3
   },
   "file_extension": ".py",
   "mimetype": "text/x-python",
   "name": "python",
   "nbconvert_exporter": "python",
   "pygments_lexer": "ipython3",
   "version": "3.7.4"
  }
 },
 "nbformat": 4,
 "nbformat_minor": 2
}
