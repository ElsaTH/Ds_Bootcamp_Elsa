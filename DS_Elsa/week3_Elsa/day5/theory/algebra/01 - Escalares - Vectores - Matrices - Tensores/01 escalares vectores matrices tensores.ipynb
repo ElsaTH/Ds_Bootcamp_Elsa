{
 "cells": [
  {
   "cell_type": "markdown",
   "metadata": {},
   "source": [
    "# Escalares, vectores, matrices y tensores\n",
    "## Cuando hablamos de escalares lo estamos haciendo desde un punto de vista [matemático](https://es.m.wikipedia.org/wiki/Escalar_(matem%C3%A1tica)) y resulta que no es el mismo que en Python"
   ]
  },
  {
   "cell_type": "code",
   "execution_count": 1,
   "metadata": {},
   "outputs": [
    {
     "name": "stdout",
     "output_type": "stream",
     "text": [
      "5.6789\n",
      "<type 'float'>\n"
     ]
    }
   ],
   "source": [
    "# Un escalar en matematica es un numero (puede ser Real o Complejo)\n",
    "escalar = 5.6789\n",
    "print(escalar)\n",
    "print(type(escalar))"
   ]
  },
  {
   "cell_type": "code",
   "execution_count": 2,
   "metadata": {},
   "outputs": [
    {
     "name": "stdout",
     "output_type": "stream",
     "text": [
      "True\n",
      "<type 'bool'>\n"
     ]
    }
   ],
   "source": [
    "# En Python existe el tipo escalar y puede ser un numero (int, float, complex), pero tambien un string (str),\n",
    "# un booleano (bool), un binario (bytes) o la representacion de nada (NoneType)\n",
    "\n",
    "escalar_python = True\n",
    "print(escalar_python)\n",
    "print(type(escalar_python))\n",
    "\n",
    "# Si quieres repasar  los diferentes tipos de datos en Python te invito a mirar en Platzi un curso muy \n",
    "# interesante de Python (https://platzi.com/clases/1104-python/7166-guia-de-instalacion-y-conceptos-basicos/)\n",
    "# donde podras revisar en mayor profundidad cada uno de los tipos de datos."
   ]
  },
  {
   "cell_type": "code",
   "execution_count": 3,
   "metadata": {},
   "outputs": [],
   "source": [
    "# Utilizamos NumPy (https://numpy.org/) ya que es una las librerias fundamentales para computacion cientifica y\n",
    "# numerica en Python, su nombre significa Numerical Python. Tiene estructuras de datos con beneficios por sobre\n",
    "# las listas regulares de Python. Algunos beneficios: mas compacto, velocidad de escritura y lectura, mas eficiente\n",
    "# en el manejo de memoria.\n",
    "import numpy as np"
   ]
  },
  {
   "cell_type": "code",
   "execution_count": 4,
   "metadata": {},
   "outputs": [
    {
     "name": "stdout",
     "output_type": "stream",
     "text": [
      "[3 4 5 6]\n"
     ]
    },
    {
     "data": {
      "text/plain": [
       "array([3, 4, 5, 6])"
      ]
     },
     "execution_count": 4,
     "metadata": {},
     "output_type": "execute_result"
    }
   ],
   "source": [
    "# Un vector es un grupo o array de numeros, o sea un array de 1 dimension (1-D)\n",
    "\n",
    "vector = np.array([3,4,5,6])\n",
    "print(vector)\n",
    "vector"
   ]
  },
  {
   "cell_type": "code",
   "execution_count": 5,
   "metadata": {},
   "outputs": [
    {
     "name": "stdout",
     "output_type": "stream",
     "text": [
      "[[1 2]\n",
      " [3 4]\n",
      " [5 6]]\n"
     ]
    },
    {
     "data": {
      "text/plain": [
       "array([[1, 2],\n",
       "       [3, 4],\n",
       "       [5, 6]])"
      ]
     },
     "execution_count": 5,
     "metadata": {},
     "output_type": "execute_result"
    }
   ],
   "source": [
    "# Una matriz es un array de 2 dimensiones (2-D). O sea cada elemento esta identificado con 2 numeros en lugar de 1\n",
    "# como los vectores\n",
    "\n",
    "matriz = np.array([[1,2],[3,4],[5,6]])\n",
    "print(matriz)\n",
    "matriz"
   ]
  },
  {
   "cell_type": "code",
   "execution_count": 6,
   "metadata": {},
   "outputs": [
    {
     "name": "stdout",
     "output_type": "stream",
     "text": [
      "(3L, 3L, 3L)\n",
      "[[[ 1  2  3]\n",
      "  [ 4  5  6]\n",
      "  [ 7  8  9]]\n",
      "\n",
      " [[11 12 13]\n",
      "  [14 15 16]\n",
      "  [17 18 19]]\n",
      "\n",
      " [[21 22 23]\n",
      "  [24 25 26]\n",
      "  [27 28 29]]]\n"
     ]
    }
   ],
   "source": [
    "# Un tensor es un array de dimension n con n > 2. Para poder visualizarlo tomemos n = 3. Te acuerdas de la foto\n",
    "# que visualizamos en la clase anterior, era un tensor lo que obtuvimos al cargarla.\n",
    "\n",
    "tensor = np.array([\n",
    "    [[1,2,3],[4,5,6],[7,8,9]],\n",
    "    [[11,12,13],[14,15,16],[17,18,19]],\n",
    "    [[21,22,23],[24,25,26],[27,28,29]],\n",
    "])\n",
    "print(tensor.shape)\n",
    "print(tensor)"
   ]
  },
  {
   "cell_type": "code",
   "execution_count": 7,
   "metadata": {},
   "outputs": [
    {
     "data": {
      "image/png": "[encoded data removed]",
      "text/plain": [
       "<Figure size 432x288 with 1 Axes>"
      ]
     },
     "metadata": {
      "needs_background": "light"
     },
     "output_type": "display_data"
    }
   ],
   "source": [
    "%matplotlib inline\n",
    "from matplotlib import pyplot as plt\n",
    "\n",
    "plt.imshow(tensor, interpolation=\"nearest\")\n",
    "plt.show()"
   ]
  },
  {
   "cell_type": "code",
   "execution_count": 8,
   "metadata": {},
   "outputs": [
    {
     "name": "stdout",
     "output_type": "stream",
     "text": [
      "(3L, 3L, 3L)\n",
      "[[[  0   0   0]\n",
      "  [  0   0   0]\n",
      "  [  0   0   0]]\n",
      "\n",
      " [[128 128 128]\n",
      "  [128 128 128]\n",
      "  [128 128 128]]\n",
      "\n",
      " [[255 255 255]\n",
      "  [255 255 255]\n",
      "  [255 255 255]]]\n"
     ]
    }
   ],
   "source": [
    "# Un tensor es un array de dimension n con n > 2. Para poder visualizarlo tomemos n = 3. Te acuerdas de la foto\n",
    "# que visualizamos en la clase anterior, era un tensor lo que obtuvimos al cargarla.\n",
    "\n",
    "tensor = np.array([\n",
    "    [[0,0,0],[0,0,0],[0,0,0]],\n",
    "    [[128,128,128],[128,128,128],[128,128,128]],\n",
    "    [[255,255,255],[255,255,255],[255,255,255]],\n",
    "])\n",
    "print(tensor.shape)\n",
    "print(tensor)"
   ]
  },
  {
   "cell_type": "code",
   "execution_count": 9,
   "metadata": {},
   "outputs": [
    {
     "data": {
      "image/png": "[encoded data removed]",
      "text/plain": [
       "<Figure size 432x288 with 1 Axes>"
      ]
     },
     "metadata": {
      "needs_background": "light"
     },
     "output_type": "display_data"
    }
   ],
   "source": [
    "plt.imshow(tensor, interpolation=\"nearest\")\n",
    "plt.show()"
   ]
  },
  {
   "cell_type": "markdown",
   "metadata": {},
   "source": [
    "# Ejercicios\n",
    "* Crear el escalar 42\n",
    "* Crear el vector con los elementos 2,3,5,7\n",
    "* Crear una matriz de 2x2 con los elementos 2,3 en la primera fila y 5,7 en la segunda fila\n",
    "* Crear un tensor que al graficarlo veamos Blanco, Negro, Gris, desde arriba hacia abajo."
   ]
  },
  {
   "cell_type": "code",
   "execution_count": null,
   "metadata": {},
   "outputs": [],
   "source": []
  }
 ],
 "metadata": {
  "kernelspec": {
   "display_name": "Python 3",
   "language": "python",
   "name": "python3"
  },
  "language_info": {
   "codemirror_mode": {
    "name": "ipython",
    "version": 3
   },
   "file_extension": ".py",
   "mimetype": "text/x-python",
   "name": "python",
   "nbconvert_exporter": "python",
   "pygments_lexer": "ipython3",
   "version": "3.7.4"
  }
 },
 "nbformat": 4,
 "nbformat_minor": 2
}