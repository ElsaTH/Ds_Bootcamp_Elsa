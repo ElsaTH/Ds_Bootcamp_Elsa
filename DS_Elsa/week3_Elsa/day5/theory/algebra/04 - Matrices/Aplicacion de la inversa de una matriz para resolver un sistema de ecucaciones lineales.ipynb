{
 "cells": [
  {
   "cell_type": "code",
   "execution_count": 17,
   "metadata": {},
   "outputs": [],
   "source": [
    "%matplotlib notebook\n",
    "\n",
    "import numpy as np\n",
    "np.set_printoptions(suppress=True) #para que NumPy muestre numeros cercanos a 0 como 0"
   ]
  },
  {
   "cell_type": "code",
   "execution_count": 18,
   "metadata": {},
   "outputs": [
    {
     "name": "stdout",
     "output_type": "stream",
     "text": [
      "True\n"
     ]
    }
   ],
   "source": [
    "# Si tienes la ecuacion 8 = 3+5*x y quieres saber el valor de x entonces necesitas despejar x\n",
    "# para despejar x tiene que hacer la misma operacion de un lado y del otro del parentisis hasta que logras\n",
    "# saber el valor de x\n",
    "# (8)-3 = (3+5*x) - 3 = 5*x\n",
    "# (8-3)/5 = (5*x)/5 = x\n",
    "# de donde obtienes el valor de x = (8-3)/5 = 1\n",
    "# Esto lo puedes validar reemplazando x en la ecucacion original para ver que la igual se cumple\n",
    "print(8 == (3+5*1))"
   ]
  },
  {
   "cell_type": "code",
   "execution_count": 19,
   "metadata": {},
   "outputs": [
    {
     "name": "stdout",
     "output_type": "stream",
     "text": [
      "[[3 1]\n",
      " [2 1]]\n"
     ]
    }
   ],
   "source": [
    "# Lo mismo ocurre con una sistema de ecuaciones lineales escrito en forma matricial, Como?\n",
    "# Cuando tenemos el sistema A*x=b y sabemos los valores de la matriz A y el vector b, que valor de x hace que la \n",
    "# igualdad se cumpla? Para responder eso, o sea encontrar la solucion de A*x=b necesitamos poder pasar dividiendo A\n",
    "# en realidad lo que queremos decir es que necesitamos poder deshacer la transformacion que la matriz A hizo en x\n",
    "# para obtener b, pero eso es exactamente la inversa de A, ya que A*A_inv = Identidad pero tambien A_inv*A=Id\n",
    "\n",
    "A = np.array([[3,1],[2,1]])\n",
    "print(A) #Una matriz A"
   ]
  },
  {
   "cell_type": "code",
   "execution_count": 20,
   "metadata": {},
   "outputs": [
    {
     "name": "stdout",
     "output_type": "stream",
     "text": [
      "[[1]\n",
      " [1]]\n"
     ]
    }
   ],
   "source": [
    "b = np.array([[1],[1]]) # un vector columna que contiene las soluciones de cada ecuacion\n",
    "#x = [x1, x2] # un vector compuesto por las 2 incognitas, aqui las llamamos x1, x2 pero podrian ser x e y\n",
    "print(b)"
   ]
  },
  {
   "cell_type": "code",
   "execution_count": 21,
   "metadata": {},
   "outputs": [
    {
     "name": "stdout",
     "output_type": "stream",
     "text": [
      "[[ 1. -1.]\n",
      " [-2.  3.]]\n"
     ]
    }
   ],
   "source": [
    "A_inv = np.linalg.inv(A)\n",
    "print(A_inv)"
   ]
  },
  {
   "cell_type": "code",
   "execution_count": 22,
   "metadata": {},
   "outputs": [
    {
     "name": "stdout",
     "output_type": "stream",
     "text": [
      "[[0.]\n",
      " [1.]]\n"
     ]
    }
   ],
   "source": [
    "# La solucion de este sistema de ecuaciones lineales es siguiendo el razonamiento anterior de despejar\n",
    "# A*x = b => x = A_inv*b\n",
    "x = A_inv.dot(b)\n",
    "print(x)"
   ]
  },
  {
   "cell_type": "code",
   "execution_count": 23,
   "metadata": {},
   "outputs": [
    {
     "name": "stdout",
     "output_type": "stream",
     "text": [
      "[[1.]\n",
      " [1.]]\n"
     ]
    }
   ],
   "source": [
    "# Podemos comprobar que efectivamente esta es la solucion, hacer A*x nos tiene que dar b\n",
    "print(A.dot(x))"
   ]
  },
  {
   "cell_type": "code",
   "execution_count": 24,
   "metadata": {},
   "outputs": [
    {
     "name": "stdout",
     "output_type": "stream",
     "text": [
      "[[1]\n",
      " [1]]\n"
     ]
    }
   ],
   "source": [
    "print(b)"
   ]
  },
  {
   "cell_type": "code",
   "execution_count": 25,
   "metadata": {},
   "outputs": [
    {
     "name": "stdout",
     "output_type": "stream",
     "text": [
      "[[-4.]\n",
      " [15.]]\n"
     ]
    }
   ],
   "source": [
    "# Una vez que tengo A_inv puedo usarla para resolver la ecuacion para los valores de b que quiera?\n",
    "# Si, efectivamente, no es necesario que volvamos a calcular la inversa para poder resolver el sistema\n",
    "# Es por este motivo que en Algebra Lineal uno resuelve el sistema homogeneo, eso es cuando b es el vector 0\n",
    "# Una vez tenemos esa solucion es simple resolver el sistema para cualquier valor de b, a eso se le llama buscar\n",
    "# la solucion particular al sistema\n",
    "b = [[3],[7]]\n",
    "x = A_inv.dot(b)\n",
    "print(x) # Es la solucion del sistema con el nuevo valor de b, y no fue necesario calcular A_inv"
   ]
  },
  {
   "cell_type": "code",
   "execution_count": 26,
   "metadata": {},
   "outputs": [
    {
     "name": "stdout",
     "output_type": "stream",
     "text": [
      "[[3.]\n",
      " [7.]]\n"
     ]
    }
   ],
   "source": [
    "# Validando la solucion\n",
    "print(A.dot(x))"
   ]
  },
  {
   "cell_type": "code",
   "execution_count": 27,
   "metadata": {},
   "outputs": [],
   "source": [
    "# Vale aclarar existen distintos algoritmos para encontrar la inversa de una matriz (cuando existe). Pero a efectos\n",
    "# practicos la inversa solo se usa a nivel teorico, ya que tenemos limitaciones para representar computacionalmente\n",
    "# los numeros en la matriz, esta limitacion esta dada por la precision de nuestra computadora digital.\n",
    "# En la practica se utilizan algoritmos que usan el valor de b para obtener aproximaciones mas precisas de x, la\n",
    "# solucion"
   ]
  },
  {
   "cell_type": "code",
   "execution_count": null,
   "metadata": {},
   "outputs": [],
   "source": []
  }
 ],
 "metadata": {
  "kernelspec": {
   "display_name": "Python 3",
   "language": "python",
   "name": "python3"
  },
  "language_info": {
   "codemirror_mode": {
    "name": "ipython",
    "version": 3
   },
   "file_extension": ".py",
   "mimetype": "text/x-python",
   "name": "python",
   "nbconvert_exporter": "python",
   "pygments_lexer": "ipython3",
   "version": "3.7.4"
  }
 },
 "nbformat": 4,
 "nbformat_minor": 2
}