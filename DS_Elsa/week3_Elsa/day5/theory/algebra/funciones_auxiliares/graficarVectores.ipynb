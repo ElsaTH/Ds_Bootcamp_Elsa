{
 "cells": [
  {
   "cell_type": "code",
   "execution_count": 2,
   "metadata": {},
   "outputs": [],
   "source": [
    "def graficarVectores(vecs, cols, alpha = 1):\n",
    "    \n",
    "    \"\"\"\n",
    "    Graficar un conjunto de vectores.\n",
    "\n",
    "    Parametros\n",
    "    ----------\n",
    "    vecs : array-like\n",
    "        Coordenadas de los vectores a graficar. Cada vector es un array. Por\n",
    "        ejemplo: [[1, 3], [2, 2]] se usa para graficar 2 vectores.\n",
    "    cols : array-like\n",
    "        Colores de los vectores, ejemplo: ['red', 'blue'] mostrara el primer\n",
    "        vector en rojo ('red') y el segundo en azul'('blue').\n",
    "    alpha : float\n",
    "        Opacidad de los vectores\n",
    "\n",
    "    Devuelve:\n",
    "\n",
    "    fig : una instancia de matplotlib.figure.Figure\n",
    "        La figura con los vectores graficados\n",
    "    \"\"\"\n",
    "    \n",
    "    plt.figure()\n",
    "    plt.axvline(x=0, color='#A9A9A9', zorder=0)\n",
    "    plt.axhline(y=0, color='#A9A9A9', zorder=0)\n",
    "\n",
    "    for i in range(len(vecs)):\n",
    "        x = np.concatenate([[0,0],vecs[i]])\n",
    "        plt.quiver([x[0]],\n",
    "                   [x[1]],\n",
    "                   [x[2]],\n",
    "                   [x[3]],\n",
    "                   angles='xy', scale_units='xy', scale=1, color=cols[i],\n",
    "                  alpha=alpha)"
   ]
  },
  {
   "cell_type": "code",
   "execution_count": 3,
   "metadata": {},
   "outputs": [],
   "source": [
    "#%matplotlib notebook\n",
    "#\n",
    "#import numpy as np\n",
    "#import matplotlib.pyplot as plt"
   ]
  },
  {
   "cell_type": "code",
   "execution_count": 7,
   "metadata": {},
   "outputs": [],
   "source": [
    "# Ejemplo de uso\n",
    "# v1 = np.array([2,5])\n",
    "# v2 = np.array([3,2])\n",
    "\n",
    "# graficarVectores([v1, v2], ['orange', 'blue'])\n",
    "\n",
    "# plt.xlim(-1, 8)\n",
    "# plt.ylim(-1, 8)"
   ]
  },
  {
   "cell_type": "code",
   "execution_count": null,
   "metadata": {},
   "outputs": [],
   "source": []
  }
 ],
 "metadata": {
  "kernelspec": {
   "display_name": "Python 3",
   "language": "python",
   "name": "python3"
  },
  "language_info": {
   "codemirror_mode": {
    "name": "ipython",
    "version": 3
   },
   "file_extension": ".py",
   "mimetype": "text/x-python",
   "name": "python",
   "nbconvert_exporter": "python",
   "pygments_lexer": "ipython3",
   "version": "3.7.4"
  }
 },
 "nbformat": 4,
 "nbformat_minor": 2
}
