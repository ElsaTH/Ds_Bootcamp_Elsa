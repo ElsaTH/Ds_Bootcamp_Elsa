{
 "cells": [
  {
   "cell_type": "code",
   "execution_count": 1,
   "metadata": {},
   "outputs": [],
   "source": [
    "import numpy as np"
   ]
  },
  {
   "cell_type": "code",
   "execution_count": 6,
   "metadata": {},
   "outputs": [],
   "source": [
    "# Escribamos nuevamente nuestros elementos y veamos como funciona el broadcasting\n",
    "\n",
    "escalar = 5.6789\n",
    "vector = np.array([3,4,5])\n",
    "matriz = np.array([[1,2],[3,4],[5,6]])"
   ]
  },
  {
   "cell_type": "code",
   "execution_count": 7,
   "metadata": {},
   "outputs": [
    {
     "name": "stdout",
     "output_type": "stream",
     "text": [
      "(3,)\n",
      "(3, 2)\n"
     ]
    }
   ],
   "source": [
    "# La libreria NumPy nos permite realizar operaciones con arrays de distintas dimensiones. La manera de hacerlo es\n",
    "# extendiendo el elemento de menor dimension hasta igualar el mas grande. Las reglas generales para hacer\n",
    "# broadcasting son las dimensiones coinciden o una de ellas es igual a 1\n",
    "# para conocer mas del funcionamiento https://docs.scipy.org/doc/numpy-1.13.0/user/basics.broadcasting.html\n",
    "print(vector.shape)\n",
    "print(matriz.shape)"
   ]
  },
  {
   "cell_type": "code",
   "execution_count": 17,
   "metadata": {},
   "outputs": [
    {
     "ename": "ValueError",
     "evalue": "operands could not be broadcast together with shapes (3,) (3,2) ",
     "output_type": "error",
     "traceback": [
      "\u001b[1;31m---------------------------------------------------------------------------\u001b[0m",
      "\u001b[1;31mValueError\u001b[0m                                Traceback (most recent call last)",
      "\u001b[1;32m<ipython-input-17-1599fd268b24>\u001b[0m in \u001b[0;36m<module>\u001b[1;34m\u001b[0m\n\u001b[0;32m      1\u001b[0m \u001b[1;31m# Matematicamente hablando la operacion no estaria definida, pero con Python podemos ver que ocurre si las\u001b[0m\u001b[1;33m\u001b[0m\u001b[1;33m\u001b[0m\u001b[1;33m\u001b[0m\u001b[0m\n\u001b[0;32m      2\u001b[0m \u001b[1;31m# condiciones correctas estan dadas, esto es que la dimension del menor pueda ser extendido\u001b[0m\u001b[1;33m\u001b[0m\u001b[1;33m\u001b[0m\u001b[1;33m\u001b[0m\u001b[0m\n\u001b[1;32m----> 3\u001b[1;33m \u001b[0mA\u001b[0m \u001b[1;33m=\u001b[0m \u001b[0mvector\u001b[0m\u001b[1;33m.\u001b[0m\u001b[0mT\u001b[0m \u001b[1;33m+\u001b[0m \u001b[0mmatriz\u001b[0m\u001b[1;33m\u001b[0m\u001b[1;33m\u001b[0m\u001b[0m\n\u001b[0m\u001b[0;32m      4\u001b[0m \u001b[0mprint\u001b[0m\u001b[1;33m(\u001b[0m\u001b[0mA\u001b[0m\u001b[1;33m.\u001b[0m\u001b[0mshape\u001b[0m\u001b[1;33m)\u001b[0m\u001b[1;33m\u001b[0m\u001b[1;33m\u001b[0m\u001b[0m\n\u001b[0;32m      5\u001b[0m \u001b[0mprint\u001b[0m\u001b[1;33m(\u001b[0m\u001b[0mA\u001b[0m\u001b[1;33m)\u001b[0m\u001b[1;33m\u001b[0m\u001b[1;33m\u001b[0m\u001b[0m\n",
      "\u001b[1;31mValueError\u001b[0m: operands could not be broadcast together with shapes (3,) (3,2) "
     ]
    }
   ],
   "source": [
    "# Matematicamente hablando la operacion no estaria definida, pero con Python podemos ver que ocurre si las\n",
    "# condiciones correctas estan dadas, esto es que la dimension del menor pueda ser extendido\n",
    "A = vector + matriz\n",
    "print(A.shape)\n",
    "print(A)"
   ]
  },
  {
   "cell_type": "code",
   "execution_count": 15,
   "metadata": {},
   "outputs": [
    {
     "name": "stdout",
     "output_type": "stream",
     "text": [
      "(2, 3)\n",
      "(3,)\n",
      "[[ 4  7 10]\n",
      " [ 5  8 11]]\n"
     ]
    }
   ],
   "source": [
    "B = matriz.T + vector\n",
    "print(B.shape)\n",
    "print(vector.shape)\n",
    "print(B)"
   ]
  },
  {
   "cell_type": "code",
   "execution_count": 18,
   "metadata": {},
   "outputs": [
    {
     "name": "stdout",
     "output_type": "stream",
     "text": [
      "[[43 44]\n",
      " [45 46]\n",
      " [47 48]]\n"
     ]
    }
   ],
   "source": [
    "# Tambien hicimos broadcasting cuando sumamos un escalar y una matriz\n",
    "C = matriz + 42\n",
    "print(C)"
   ]
  },
  {
   "cell_type": "code",
   "execution_count": 20,
   "metadata": {},
   "outputs": [
    {
     "name": "stdout",
     "output_type": "stream",
     "text": [
      "[[43 44]\n",
      " [45 46]\n",
      " [47 48]]\n"
     ]
    }
   ],
   "source": [
    "D = matriz + [[42],[42],[42]]\n",
    "print(D)"
   ]
  },
  {
   "cell_type": "code",
   "execution_count": 26,
   "metadata": {},
   "outputs": [
    {
     "name": "stdout",
     "output_type": "stream",
     "text": [
      "(5, 1)\n",
      "(5, 5)\n",
      "[[ 3  4  6  8 10]\n",
      " [ 4  5  7  9 11]\n",
      " [ 5  6  8 10 12]\n",
      " [ 6  7  9 11 13]\n",
      " [ 7  8 10 12 14]]\n"
     ]
    }
   ],
   "source": [
    "# Ejercicio\n",
    "# Hacer la suma de un vector de dimension 5 con una matriz de dimension 5x5\n",
    "v = np.array([[1],[2],[3],[4],[5]])\n",
    "E = np.array([[2,3,5,7,9],[2,3,5,7,9],[2,3,5,7,9],[2,3,5,7,9],[2,3,5,7,9]])\n",
    "print(v.shape)\n",
    "print(E.shape)\n",
    "print(E+v)"
   ]
  },
  {
   "cell_type": "code",
   "execution_count": null,
   "metadata": {},
   "outputs": [],
   "source": [
    "# The term broadcasting describes how numpy treats arrays with different shapes during arithmetic operations. \n",
    "# Subject to certain constraints, the smaller array is “broadcast” across the larger array so that they have \n",
    "# compatible shapes. Broadcasting provides a means of vectorizing array operations so that looping occurs in C\n",
    "# instead of Python. It does this without making needless copies of data and usually leads to efficient algorithm\n",
    "# implementations. There are, however, cases where broadcasting is a bad idea because it leads to inefficient use of\n",
    "# memory that slows computation."
   ]
  }
 ],
 "metadata": {
  "kernelspec": {
   "display_name": "Python 3",
   "language": "python",
   "name": "python3"
  },
  "language_info": {
   "codemirror_mode": {
    "name": "ipython",
    "version": 3
   },
   "file_extension": ".py",
   "mimetype": "text/x-python",
   "name": "python",
   "nbconvert_exporter": "python",
   "pygments_lexer": "ipython3",
   "version": "3.7.4"
  }
 },
 "nbformat": 4,
 "nbformat_minor": 2
}
