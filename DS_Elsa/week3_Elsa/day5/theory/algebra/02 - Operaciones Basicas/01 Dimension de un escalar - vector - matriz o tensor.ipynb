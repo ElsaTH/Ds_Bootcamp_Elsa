{
 "cells": [
  {
   "cell_type": "code",
   "execution_count": 3,
   "metadata": {},
   "outputs": [],
   "source": [
    "import numpy as np"
   ]
  },
  {
   "cell_type": "code",
   "execution_count": 4,
   "metadata": {},
   "outputs": [],
   "source": [
    "# Escribamos nuevamente nuestros elementos y te invito a que pienses cual es la dimension de cada uno de ellos.\n",
    "\n",
    "escalar = 5.6789\n",
    "vector = np.array([3,4,5,6])\n",
    "matriz = np.array([[1,2],[3,4],[5,6]])\n",
    "tensor = np.array([\n",
    "    [[1,2,3],[4,5,6],[7,8,9]],\n",
    "    [[11,12,13],[14,15,16],[17,18,19]],\n",
    "    [[21,22,23],[24,25,26],[27,28,29]],\n",
    "])"
   ]
  },
  {
   "cell_type": "code",
   "execution_count": 8,
   "metadata": {
    "tags": []
   },
   "outputs": [
    {
     "output_type": "stream",
     "name": "stdout",
     "text": "5.6789\n"
    },
    {
     "output_type": "error",
     "ename": "AttributeError",
     "evalue": "'float' object has no attribute 'shape'",
     "traceback": [
      "\u001b[1;31m---------------------------------------------------------------------------\u001b[0m",
      "\u001b[1;31mAttributeError\u001b[0m                            Traceback (most recent call last)",
      "\u001b[1;32m<ipython-input-8-0746627b43ff>\u001b[0m in \u001b[0;36m<module>\u001b[1;34m\u001b[0m\n\u001b[0;32m      1\u001b[0m \u001b[1;31m# La instruccion shape nos dice el valor de cada dimension para el objeto que estemos evaluando\u001b[0m\u001b[1;33m\u001b[0m\u001b[1;33m\u001b[0m\u001b[0m\n\u001b[0;32m      2\u001b[0m \u001b[0mprint\u001b[0m\u001b[1;33m(\u001b[0m\u001b[0mescalar\u001b[0m\u001b[1;33m)\u001b[0m\u001b[1;33m\u001b[0m\u001b[0m\n\u001b[1;32m----> 3\u001b[1;33m \u001b[0mprint\u001b[0m\u001b[1;33m(\u001b[0m\u001b[0mescalar\u001b[0m\u001b[1;33m.\u001b[0m\u001b[0mshape\u001b[0m\u001b[1;33m)\u001b[0m\u001b[1;33m\u001b[0m\u001b[0m\n\u001b[0m\u001b[0;32m      4\u001b[0m \u001b[1;31m#Siempre y cuando nuestro objeto no sea un escalar, ya que no tiene dimension, es solo un numero.\u001b[0m\u001b[1;33m\u001b[0m\u001b[1;33m\u001b[0m\u001b[0m\n",
      "\u001b[1;31mAttributeError\u001b[0m: 'float' object has no attribute 'shape'"
     ]
    }
   ],
   "source": [
    "# La instruccion shape nos dice el valor de cada dimension para el objeto que estemos evaluando\n",
    "print(escalar)\n",
    "print(escalar.shape)\n",
    "#Siempre y cuando nuestro objeto no sea un escalar, ya que no tiene dimension, es solo un numero."
   ]
  },
  {
   "cell_type": "code",
   "execution_count": 6,
   "metadata": {
    "tags": []
   },
   "outputs": [
    {
     "output_type": "stream",
     "name": "stdout",
     "text": "[3 4 5 6]\n(4,)\n"
    }
   ],
   "source": [
    "# Nuestro vector [3,4,5,6] tiene 1 sola dimension y eso es lo que nos responde dejando la segunda coordenada vacia\n",
    "print(vector)\n",
    "print(vector.shape)"
   ]
  },
  {
   "cell_type": "code",
   "execution_count": 7,
   "metadata": {
    "tags": []
   },
   "outputs": [
    {
     "output_type": "stream",
     "name": "stdout",
     "text": "4\n"
    }
   ],
   "source": [
    "# Para vectores tambien podemos usar el comando len()\n",
    "print(len(vector))\n",
    "# Que nos devuelve la longitud del array"
   ]
  },
  {
   "cell_type": "code",
   "execution_count": 13,
   "metadata": {},
   "outputs": [
    {
     "name": "stdout",
     "output_type": "stream",
     "text": [
      "[[1 2]\n",
      " [3 4]\n",
      " [5 6]]\n",
      "(3, 2)\n"
     ]
    }
   ],
   "source": [
    "# Aqui vemos que la primer coordena de la respuesta corresponde a la cantidad de filas, y la segunda a la cantidad\n",
    "# de columnas\n",
    "print(matriz)\n",
    "print(matriz.shape)"
   ]
  },
  {
   "cell_type": "code",
   "execution_count": 14,
   "metadata": {},
   "outputs": [
    {
     "name": "stdout",
     "output_type": "stream",
     "text": [
      "[[[ 1  2  3]\n",
      "  [ 4  5  6]\n",
      "  [ 7  8  9]]\n",
      "\n",
      " [[11 12 13]\n",
      "  [14 15 16]\n",
      "  [17 18 19]]\n",
      "\n",
      " [[21 22 23]\n",
      "  [24 25 26]\n",
      "  [27 28 29]]]\n",
      "(3, 3, 3)\n"
     ]
    }
   ],
   "source": [
    "# Nos devuelve que nuestro tensor tiene dimension (3,3,3)\n",
    "print(tensor)\n",
    "print(tensor.shape)"
   ]
  },
  {
   "cell_type": "code",
   "execution_count": 16,
   "metadata": {},
   "outputs": [
    {
     "name": "stdout",
     "output_type": "stream",
     "text": [
      "Tiempo 0\n",
      "[[1 2 3]\n",
      " [4 5 6]\n",
      " [7 8 9]]\n",
      "Tiempo 1 o 10 minutos despues\n",
      "[[11 12 13]\n",
      " [14 15 16]\n",
      " [17 18 19]]\n",
      "Tiempo 2 o 20 minutos despues del inicio\n",
      "[[21 22 23]\n",
      " [24 25 26]\n",
      " [27 28 29]]\n"
     ]
    }
   ],
   "source": [
    "# En esta oportunidad te invito a pensar al tensor como una evolución en el tiempo del evento que figura en la primer matriz. Esto es: en el tiempo 0 tenemos la cantidad de personas que se encuentran en cada habitación, la acción todavía no inició. Despues avanzamos a un tiempo 1, por ejemplo 10 minutos más tarde y llegan 10 personas a cada habitación. Esto lo vemos en la segunda matriz. 10 minutos más tarde en un tiempo 2, es la última de nuestras matrices que componen el tensor. \n",
    "print(\"Tiempo 0\")\n",
    "print(tensor[0])\n",
    "\n",
    "print(\"Tiempo 1 o 10 minutos despues\")\n",
    "print(tensor[1])\n",
    "\n",
    "print(\"Tiempo 2 o 20 minutos despues del inicio\")\n",
    "print(tensor[2])"
   ]
  },
  {
   "cell_type": "code",
   "execution_count": 18,
   "metadata": {},
   "outputs": [],
   "source": [
    "#Ejercicios\n",
    "# Calcula las dimensiones de los siguientes objetos\n",
    "escalar = 9.8765\n",
    "vector = np.array([1,2,3,4,5,6,7,8,9,0])\n",
    "matriz = np.array([[1,2,3],[3,4,5],[5,6,7]])\n",
    "tensor = np.array([\n",
    "    [[1,2,3,4],[4,5,6,7],[7,8,9,10]],\n",
    "    [[11,12,13,14],[14,15,16,17],[17,18,19,20]],\n",
    "    [[21,22,23,24],[24,25,26,27],[27,28,29,30]],\n",
    "])"
   ]
  },
  {
   "cell_type": "code",
   "execution_count": 20,
   "metadata": {},
   "outputs": [],
   "source": [
    "# Validar las dimensiones de los objetos es de vital importancia, debemos estar seguros que al operar con nuestros\n",
    "# objetos como resultado obtenemos un nuevo objeto de las dimensiones que estamos esperando\n",
    "# Hay algunas operaciones que en Python por simplicidad o abuso del lenguaje podemos hacer aun cuando las\n",
    "# dimensiones no coincidad y esto podria llevarnos a resultados inesperados que despues nos demandara mucho tiempo\n",
    "# encontrar cual es la fuentel del error"
   ]
  },
  {
   "cell_type": "code",
   "execution_count": null,
   "metadata": {},
   "outputs": [],
   "source": []
  }
 ],
 "metadata": {
  "kernelspec": {
   "display_name": "Python 3",
   "language": "python",
   "name": "python3"
  },
  "language_info": {
   "codemirror_mode": {
    "name": "ipython",
    "version": 3
   },
   "file_extension": ".py",
   "mimetype": "text/x-python",
   "name": "python",
   "nbconvert_exporter": "python",
   "pygments_lexer": "ipython3",
   "version": "3.6.4-final"
  }
 },
 "nbformat": 4,
 "nbformat_minor": 2
}