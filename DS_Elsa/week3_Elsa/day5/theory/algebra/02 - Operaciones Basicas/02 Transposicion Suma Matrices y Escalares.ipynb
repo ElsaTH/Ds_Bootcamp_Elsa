{
 "cells": [
  {
   "cell_type": "code",
   "execution_count": 2,
   "metadata": {},
   "outputs": [],
   "source": [
    "import numpy as np"
   ]
  },
  {
   "cell_type": "code",
   "execution_count": 3,
   "metadata": {},
   "outputs": [],
   "source": [
    "# Escribamos nuevamente nuestros elementos y veamos que ocurre con la transposicion.\n",
    "\n",
    "escalar = 5.6789\n",
    "vector = np.array([3,4,5,6])\n",
    "matriz = np.array([[1,2],[3,4],[5,6]])\n",
    "tensor = np.array([\n",
    "    [[1,2,3],[4,5,6],[7,8,9]],\n",
    "    [[11,12,13],[14,15,16],[17,18,19]],\n",
    "    [[21,22,23],[24,25,26],[27,28,29]],\n",
    "])"
   ]
  },
  {
   "cell_type": "code",
   "execution_count": 4,
   "metadata": {},
   "outputs": [
    {
     "ename": "AttributeError",
     "evalue": "'float' object has no attribute 'T'",
     "output_type": "error",
     "traceback": [
      "\u001b[1;31m---------------------------------------------------------------------------\u001b[0m",
      "\u001b[1;31mAttributeError\u001b[0m                            Traceback (most recent call last)",
      "\u001b[1;32m<ipython-input-4-5ddcb07f943a>\u001b[0m in \u001b[0;36m<module>\u001b[1;34m\u001b[0m\n\u001b[0;32m      1\u001b[0m \u001b[1;31m# Efectuar la tranposicion de un escalar es lo mismo que no hacer nada\u001b[0m\u001b[1;33m\u001b[0m\u001b[1;33m\u001b[0m\u001b[1;33m\u001b[0m\u001b[0m\n\u001b[0;32m      2\u001b[0m \u001b[1;31m# escalar = escalar_t como notacion usaremos _t para identificar a los elementos transpuestos\u001b[0m\u001b[1;33m\u001b[0m\u001b[1;33m\u001b[0m\u001b[1;33m\u001b[0m\u001b[0m\n\u001b[1;32m----> 3\u001b[1;33m \u001b[0mescalar\u001b[0m\u001b[1;33m.\u001b[0m\u001b[0mT\u001b[0m\u001b[1;33m\u001b[0m\u001b[1;33m\u001b[0m\u001b[0m\n\u001b[0m",
      "\u001b[1;31mAttributeError\u001b[0m: 'float' object has no attribute 'T'"
     ]
    }
   ],
   "source": [
    "# La tranposicion para un escalar no tiene sentido, es lo mismo que no hacer nada\n",
    "# La definicion de la operacion es cambiar filas por columnas, pero un escalar es solo un numero\n",
    "# escalar = escalar_t como notacion usaremos _t para identificar a los elementos transpuestos\n",
    "# Como es de esperar si intentamos transponer un escalar nos da error.\n",
    "escalar.T"
   ]
  },
  {
   "cell_type": "code",
   "execution_count": 7,
   "metadata": {},
   "outputs": [
    {
     "name": "stdout",
     "output_type": "stream",
     "text": [
      "(4,)\n",
      "[3 4 5 6]\n",
      "(4,)\n",
      "[3 4 5 6]\n",
      "[ True  True  True  True]\n"
     ]
    }
   ],
   "source": [
    "# En cambio matematicamente la transposicion de un vector es cambiar un vector columna en un vector fila\n",
    "vector_t = vector.T\n",
    "print(vector.shape)\n",
    "print(vector)\n",
    "print(vector_t.shape)\n",
    "print(vector_t)\n",
    "# Pero como vemos no tiene implicancia practica en Python ya que nos devuelve el mismo objeto"
   ]
  },
  {
   "cell_type": "code",
   "execution_count": 8,
   "metadata": {},
   "outputs": [
    {
     "name": "stdout",
     "output_type": "stream",
     "text": [
      "(3, 2)\n",
      "[[1 2]\n",
      " [3 4]\n",
      " [5 6]]\n",
      "(2, 3)\n",
      "[[1 3 5]\n",
      " [2 4 6]]\n"
     ]
    }
   ],
   "source": [
    "# Para una matriz vemos el efecto en Python, para que sea mas visual lo hacemos con una matriz de 3x2 y al\n",
    "# transponer obtenemos una matriz de 2x3, como dijimos antes la operacion es cambiar columnas por filas\n",
    "matriz_t = matriz.T\n",
    "print(matriz.shape)\n",
    "print(matriz)\n",
    "print(matriz_t.shape)\n",
    "print(matriz_t)"
   ]
  },
  {
   "cell_type": "code",
   "execution_count": 9,
   "metadata": {},
   "outputs": [
    {
     "name": "stdout",
     "output_type": "stream",
     "text": [
      "(3, 2)\n",
      "[[1 2]\n",
      " [3 4]\n",
      " [5 6]]\n"
     ]
    }
   ],
   "source": [
    "# Que ocurre si transponemos nuevamente una matriz transpuesta?\n",
    "matriz_t_t = matriz_t.T\n",
    "print(matriz_t_t.shape)\n",
    "print(matriz_t_t)\n",
    "# Obtenemos nuestra matriz original "
   ]
  },
  {
   "cell_type": "code",
   "execution_count": 12,
   "metadata": {},
   "outputs": [
    {
     "name": "stdout",
     "output_type": "stream",
     "text": [
      "(3, 3, 3)\n",
      "[[[ 1 11 21]\n",
      "  [ 4 14 24]\n",
      "  [ 7 17 27]]\n",
      "\n",
      " [[ 2 12 22]\n",
      "  [ 5 15 25]\n",
      "  [ 8 18 28]]\n",
      "\n",
      " [[ 3 13 23]\n",
      "  [ 6 16 26]\n",
      "  [ 9 19 29]]]\n",
      "(3, 3, 3)\n",
      "[[[ 1  2  3]\n",
      "  [ 4  5  6]\n",
      "  [ 7  8  9]]\n",
      "\n",
      " [[11 12 13]\n",
      "  [14 15 16]\n",
      "  [17 18 19]]\n",
      "\n",
      " [[21 22 23]\n",
      "  [24 25 26]\n",
      "  [27 28 29]]]\n"
     ]
    }
   ],
   "source": [
    "# Para los tensores la operacion transponer tambien existe, pero es mas complicada ya que es una generalizacion\n",
    "# de la transposicion de matrices. Por el momento veamos el efecto y que funciona.\n",
    "tensor_t = tensor.T\n",
    "print(tensor_t.shape)\n",
    "print(tensor_t)\n",
    "print(tensor.shape)\n",
    "print(tensor)"
   ]
  },
  {
   "cell_type": "code",
   "execution_count": 13,
   "metadata": {},
   "outputs": [
    {
     "name": "stdout",
     "output_type": "stream",
     "text": [
      "(3, 2)\n",
      "[[7 7]\n",
      " [7 7]\n",
      " [7 7]]\n"
     ]
    }
   ],
   "source": [
    "# Sumar 2 escalares es directo no tiene sentido que lo veamos, sumar 2 vectores tambien si es que tienen las\n",
    "# mismas dimensiones, ya veremos que ocurre en Python cuando no tienen las mismas dimensiones\n",
    "# Ahora veamos como es la suma de 2 matrices que llamaremos A y B con dimension 2x3\n",
    "A = np.array([[1,2],[3,4],[5,6]])\n",
    "B = np.array([[6,5],[4,3],[2,1]])\n",
    "C = A+B\n",
    "# Que dimension esperas que tenga el resultado C?\n",
    "print(C.shape)\n",
    "print(C)"
   ]
  },
  {
   "cell_type": "code",
   "execution_count": 16,
   "metadata": {},
   "outputs": [
    {
     "name": "stdout",
     "output_type": "stream",
     "text": [
      "(3, 2)\n",
      "(3, 2)\n"
     ]
    }
   ],
   "source": [
    "# Resulta que tiene la misma dimension que las matrices sumadas\n",
    "print(A.shape)\n",
    "print(B.shape)"
   ]
  },
  {
   "cell_type": "code",
   "execution_count": 17,
   "metadata": {},
   "outputs": [
    {
     "name": "stdout",
     "output_type": "stream",
     "text": [
      "(3, 2)\n",
      "[[ 6.6789  7.6789]\n",
      " [ 8.6789  9.6789]\n",
      " [10.6789 11.6789]]\n"
     ]
    }
   ],
   "source": [
    "# Tambien podemos sumar un escalar a una matriz, esto es sumar el escalar a cada elemento de la matriz\n",
    "D = A+escalar\n",
    "print(D.shape)\n",
    "print(D)"
   ]
  },
  {
   "cell_type": "code",
   "execution_count": 19,
   "metadata": {},
   "outputs": [
    {
     "name": "stdout",
     "output_type": "stream",
     "text": [
      "(5, 5)\n"
     ]
    }
   ],
   "source": [
    "# Ejercicios\n",
    "# Calcula la suma de 2 matrices de 5x5, por ejemplo A y A_t \n",
    "A = np.array([[1,2,3,4,5],[1,2,3,4,5],[1,2,3,4,5],[1,2,3,4,5],[1,2,3,4,5]])\n",
    "print(A.shape)\n",
    "# Calcula la suma de 1 matriz y el escalar 11"
   ]
  },
  {
   "cell_type": "code",
   "execution_count": null,
   "metadata": {},
   "outputs": [],
   "source": []
  }
 ],
 "metadata": {
  "kernelspec": {
   "display_name": "Python 3",
   "language": "python",
   "name": "python3"
  },
  "language_info": {
   "codemirror_mode": {
    "name": "ipython",
    "version": 3
   },
   "file_extension": ".py",
   "mimetype": "text/x-python",
   "name": "python",
   "nbconvert_exporter": "python",
   "pygments_lexer": "ipython3",
   "version": "3.7.4"
  }
 },
 "nbformat": 4,
 "nbformat_minor": 2
}
