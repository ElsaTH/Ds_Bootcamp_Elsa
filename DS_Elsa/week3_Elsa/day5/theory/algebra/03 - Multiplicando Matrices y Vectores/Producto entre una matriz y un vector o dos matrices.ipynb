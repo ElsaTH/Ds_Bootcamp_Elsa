{
 "cells": [
  {
   "cell_type": "code",
   "execution_count": 1,
   "metadata": {},
   "outputs": [],
   "source": [
    "import numpy as np"
   ]
  },
  {
   "cell_type": "code",
   "execution_count": 15,
   "metadata": {},
   "outputs": [],
   "source": [
    "# Escribamos nuevamente nuestros elementos y veamos como funciona el producto interno de una matriz y un vector\n",
    "\n",
    "escalar = 5.6789\n",
    "vector = np.array([2,2])\n",
    "matriz = np.array([[1,2],[3,4],[5,6]])"
   ]
  },
  {
   "cell_type": "code",
   "execution_count": 18,
   "metadata": {},
   "outputs": [
    {
     "name": "stdout",
     "output_type": "stream",
     "text": [
      "(2,)\n",
      "(3, 2)\n",
      "[[ 2  4]\n",
      " [ 6  8]\n",
      " [10 12]]\n",
      "[ 6 14 22]\n",
      "(3, 2)\n",
      "(3,)\n"
     ]
    }
   ],
   "source": [
    "# Multipliquemos nuestro vector de dimension 2 con la matriz de dimension 3x2 y observemos la diferencia entre\n",
    "# multiplicar cada elemento de la matriz con cada elemento del vector vs hacer el producto interno\n",
    "\n",
    "print(vector.shape)\n",
    "print(matriz.shape)\n",
    "A = vector * matriz\n",
    "print(A)\n",
    "\n",
    "B = matriz.dot(vector)\n",
    "print(B)\n",
    "\n",
    "# Vemos que A y B son distintas, A resulto de la misma dimension que la matriz original, mientras que B que es\n",
    "# el resultado del producto interno o punto tiene la primer dimension del objeto a la izquierda del producto interno\n",
    "# y la segunda dimension del que esta a la derecha, teniendo esto en cuenta siempre podremos validar si el\n",
    "# resultado que estamos obteniendo tiene las dimensiones esperadas\n",
    "\n",
    "print(A.shape)\n",
    "print(B.shape)"
   ]
  },
  {
   "cell_type": "code",
   "execution_count": 19,
   "metadata": {},
   "outputs": [
    {
     "name": "stdout",
     "output_type": "stream",
     "text": [
      "[ 6 14 22]\n",
      "[ 6 14 22]\n"
     ]
    }
   ],
   "source": [
    "# Tenemos dos maneras de usar la funcion .dot\n",
    "B = matriz.dot(vector)\n",
    "C = np.dot(matriz, vector)\n",
    "print(B)\n",
    "print(C)\n",
    "# Y ambas devuelven el mismo resultado"
   ]
  },
  {
   "cell_type": "code",
   "execution_count": 20,
   "metadata": {},
   "outputs": [],
   "source": [
    "# Escribamos nuevos objetos y veamos como funciona el producto interno entre 2 matrices\n",
    "\n",
    "A = np.array([[1,2,3],[4,5,6],[7,8,9],[10,11,12]])\n",
    "B = np.array([[2,3],[5,7],[11,13]])"
   ]
  },
  {
   "cell_type": "code",
   "execution_count": 21,
   "metadata": {},
   "outputs": [
    {
     "name": "stdout",
     "output_type": "stream",
     "text": [
      "(4, 3)\n",
      "(3, 2)\n",
      "(4, 2)\n",
      "[[ 45  56]\n",
      " [ 99 125]\n",
      " [153 194]\n",
      " [207 263]]\n"
     ]
    }
   ],
   "source": [
    "C = A.dot(B)\n",
    "print(A.shape)\n",
    "print(B.shape)\n",
    "print(C.shape)\n",
    "print(C)"
   ]
  },
  {
   "cell_type": "code",
   "execution_count": 22,
   "metadata": {},
   "outputs": [],
   "source": [
    "# Describir como es el producto interno en caso de encontrarlo util"
   ]
  },
  {
   "cell_type": "code",
   "execution_count": null,
   "metadata": {},
   "outputs": [],
   "source": []
  }
 ],
 "metadata": {
  "kernelspec": {
   "display_name": "Python 3",
   "language": "python",
   "name": "python3"
  },
  "language_info": {
   "codemirror_mode": {
    "name": "ipython",
    "version": 3
   },
   "file_extension": ".py",
   "mimetype": "text/x-python",
   "name": "python",
   "nbconvert_exporter": "python",
   "pygments_lexer": "ipython3",
   "version": "3.7.4"
  }
 },
 "nbformat": 4,
 "nbformat_minor": 2
}
