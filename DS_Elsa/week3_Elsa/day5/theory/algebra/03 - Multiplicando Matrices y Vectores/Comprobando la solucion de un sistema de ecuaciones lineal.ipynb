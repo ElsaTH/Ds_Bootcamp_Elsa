{
 "cells": [
  {
   "cell_type": "code",
   "execution_count": 1,
   "metadata": {},
   "outputs": [],
   "source": [
    "%matplotlib inline\n",
    "\n",
    "import numpy as np\n",
    "import matplotlib.pyplot as plt\n",
    "import seaborn as sns"
   ]
  },
  {
   "cell_type": "code",
   "execution_count": 2,
   "metadata": {},
   "outputs": [],
   "source": [
    "# Aqui te presento un sistema de ecuaciones lineales al que queremos escribir en forma matricial\n",
    "# y_1 = 3*x+5\n",
    "# y_2 = 2*x+3\n",
    "\n",
    "\n",
    "# Que es un sistema de ecuaciones lineales? Es un conjunto de ecuaciones, 1 o mas que esta definido por el numero\n",
    "# de incognitas y de ecuaciones. Lo llamamos lineal porque cada una de las ecuaciones que lo componen son\n",
    "# lineales. En nuestro caso tenemos 2 incognitas x e y, y 2 ecuaciones.\n",
    "\n",
    "# Como estamos en R2, un espacio de 2 dimensiones es sencillo graficarlo y asi poder formarnos una imagen mental\n"
   ]
  },
  {
   "cell_type": "code",
   "execution_count": 3,
   "metadata": {},
   "outputs": [
    {
     "data": {
      "text/plain": [
       "<matplotlib.lines.Line2D at 0x297512f5dc8>"
      ]
     },
     "execution_count": 3,
     "metadata": {},
     "output_type": "execute_result"
    },
    {
     "data": {
      "image/png": "[encoded data removed]",
      "text/plain": [
       "<Figure size 432x288 with 1 Axes>"
      ]
     },
     "metadata": {
      "needs_background": "light"
     },
     "output_type": "display_data"
    }
   ],
   "source": [
    "x = np.arange(-5, 5)\n",
    "y_1 = 3*x + 5\n",
    "y_2 = 2*x + 3\n",
    "\n",
    "plt.figure()\n",
    "plt.plot(x, y_1)\n",
    "plt.plot(x, y_2)\n",
    "plt.xlim(-5, 5)\n",
    "plt.ylim(-5, 5)\n",
    "plt.axvline(x=0, color='grey')\n",
    "plt.axhline(y=0, color='grey')"
   ]
  },
  {
   "cell_type": "code",
   "execution_count": 4,
   "metadata": {},
   "outputs": [],
   "source": [
    "# Ya sabes como resolver estas ecuaciones a mano, o incluso recien vimos una manera de resolverlo graficamente.\n",
    "# Pero como puedes hacerlo utilizando lo que estas aprendiendo de Algebra Lineal? Tenremos una forma de representar\n",
    "# estas ecuaciones en matrices y vectores? La respuesta es si, nuestras incognitas seran un vector, los\n",
    "# los coeficientes de los datos estaran en la matriz y las constantes van en otro vector"
   ]
  },
  {
   "cell_type": "code",
   "execution_count": 5,
   "metadata": {},
   "outputs": [
    {
     "name": "stdout",
     "output_type": "stream",
     "text": [
      "[[5]\n",
      " [3]]\n"
     ]
    }
   ],
   "source": [
    "# Reescribamos nuestras ecuaciones, dejando las constantes de un lado del igual y las variables del otro\n",
    "# - 3x + y = 5\n",
    "# - 2x + y = 3\n",
    "\n",
    "b = np.array([[5],[3]])\n",
    "print(b)"
   ]
  },
  {
   "cell_type": "code",
   "execution_count": 6,
   "metadata": {},
   "outputs": [
    {
     "name": "stdout",
     "output_type": "stream",
     "text": [
      "[[-3  1]\n",
      " [-2  1]]\n"
     ]
    }
   ],
   "source": [
    "# llamemos z = [x, y] al vector columna que tiene en la primer componente a x y en la segunda a y\n",
    "A = np.array([[-3, 1],[-2, 1]])\n",
    "print(A)"
   ]
  },
  {
   "cell_type": "code",
   "execution_count": 7,
   "metadata": {},
   "outputs": [
    {
     "name": "stdout",
     "output_type": "stream",
     "text": [
      "[[-2]\n",
      " [-1]]\n"
     ]
    }
   ],
   "source": [
    "# Tomemos la primer ecuacion en su forma original y = 3x+5 y la reemplazamos en la segunda ecuacion\n",
    "# -2x + 3x + 5 = 3 => x + 5 = 3  => x = -2 => y = -1\n",
    "z = np.array([[-2],[-1]])\n",
    "print(z)"
   ]
  },
  {
   "cell_type": "code",
   "execution_count": 8,
   "metadata": {},
   "outputs": [
    {
     "name": "stdout",
     "output_type": "stream",
     "text": [
      "[[5]\n",
      " [3]]\n"
     ]
    }
   ],
   "source": [
    "# Veamos si x = -2 e y = -1 es solucion de nuestro sistema\n",
    "solucion = A.dot(z)\n",
    "print(solucion)"
   ]
  },
  {
   "cell_type": "code",
   "execution_count": null,
   "metadata": {},
   "outputs": [],
   "source": []
  }
 ],
 "metadata": {
  "kernelspec": {
   "display_name": "Python 3",
   "language": "python",
   "name": "python3"
  },
  "language_info": {
   "codemirror_mode": {
    "name": "ipython",
    "version": 3
   },
   "file_extension": ".py",
   "mimetype": "text/x-python",
   "name": "python",
   "nbconvert_exporter": "python",
   "pygments_lexer": "ipython3",
   "version": "3.7.4"
  }
 },
 "nbformat": 4,
 "nbformat_minor": 2
}
