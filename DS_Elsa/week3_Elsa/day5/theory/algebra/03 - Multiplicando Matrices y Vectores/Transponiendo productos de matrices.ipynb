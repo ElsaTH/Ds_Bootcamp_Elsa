{
 "cells": [
  {
   "cell_type": "code",
   "execution_count": 1,
   "metadata": {},
   "outputs": [],
   "source": [
    "import numpy as np"
   ]
  },
  {
   "cell_type": "code",
   "execution_count": 3,
   "metadata": {},
   "outputs": [
    {
     "name": "stdout",
     "output_type": "stream",
     "text": [
      "(3, 2)\n",
      "(2, 2)\n"
     ]
    }
   ],
   "source": [
    "# Escribamos nuevos objetos y veamos que ocurre cuando transponemos el producto de matrices\n",
    "\n",
    "A = np.array([[2,3],[5,7],[11,13]])\n",
    "B = np.array([[1,3],[2,1]])\n",
    "\n",
    "print(A.shape)\n",
    "print(B.shape)"
   ]
  },
  {
   "cell_type": "code",
   "execution_count": 4,
   "metadata": {},
   "outputs": [
    {
     "name": "stdout",
     "output_type": "stream",
     "text": [
      "[[ 8 19 37]\n",
      " [ 9 22 46]]\n"
     ]
    }
   ],
   "source": [
    "# tenemos la siguiente propiedad en matematicas (AxB)_t = B_t * A_t , esta propiedad suele resultarnos muy\n",
    "# util para poder operar con matrices como lo hariamos con numeros para despejar una incognita de una\n",
    "# ecuacion\n",
    "\n",
    "AB_t = A.dot(B).T\n",
    "print(AB_t)"
   ]
  },
  {
   "cell_type": "code",
   "execution_count": 5,
   "metadata": {},
   "outputs": [
    {
     "name": "stdout",
     "output_type": "stream",
     "text": [
      "[[ 8 19 37]\n",
      " [ 9 22 46]]\n"
     ]
    }
   ],
   "source": [
    "B_tA_t = B.T.dot(A.T)\n",
    "print(B_tA_t)"
   ]
  },
  {
   "cell_type": "code",
   "execution_count": 6,
   "metadata": {},
   "outputs": [
    {
     "name": "stdout",
     "output_type": "stream",
     "text": [
      "[[ True  True  True]\n",
      " [ True  True  True]]\n"
     ]
    }
   ],
   "source": [
    "# Y efectivamente vemos que la igualdad se verifica\n",
    "print(AB_t==B_tA_t)"
   ]
  },
  {
   "cell_type": "code",
   "execution_count": 7,
   "metadata": {},
   "outputs": [],
   "source": [
    "# El resultado anterior que a simple vista no pareciera tan importante, nos permite operar con Sistemas de\n",
    "# ecuaciones lineales. Hasta aqui habiamos pensado a las matrices como una forma de representar la informacion\n",
    "# contenida en una imagen, o distintos estados de algo que medimos a lo largo del tiempo.\n",
    "# Ahora quiero presentarte otro uso para las matrices, una forma de representar un sistema de ecuaciones\n",
    "\n",
    "# x = 3*y+5*z\n",
    "# x = 2*y+3*z\n",
    "# x = 7*y+2*z\n",
    "\n",
    "# Para resolver este sistema tenemos que despejar por ejemplo z de la tercer ecuacion y reemplazar lo obtenido\n",
    "# en la segunda ecuacion, y asi debieramos seguir. El sistema podria no tener solucion, tener 1 solucion o\n",
    "# o infinitas soluciones sin ninguna posibilidad de valores intermedios. Eso graficamente es bastante intuitivo."
   ]
  },
  {
   "cell_type": "code",
   "execution_count": null,
   "metadata": {},
   "outputs": [],
   "source": []
  }
 ],
 "metadata": {
  "kernelspec": {
   "display_name": "Python 3",
   "language": "python",
   "name": "python3"
  },
  "language_info": {
   "codemirror_mode": {
    "name": "ipython",
    "version": 3
   },
   "file_extension": ".py",
   "mimetype": "text/x-python",
   "name": "python",
   "nbconvert_exporter": "python",
   "pygments_lexer": "ipython3",
   "version": "3.7.4"
  }
 },
 "nbformat": 4,
 "nbformat_minor": 2
}
