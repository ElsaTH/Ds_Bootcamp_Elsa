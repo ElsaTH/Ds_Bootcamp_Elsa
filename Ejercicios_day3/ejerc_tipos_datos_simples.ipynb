{
 "cells": [
  {
   "cell_type": "markdown",
   "metadata": {},
   "source": []
  },
  {
   "cell_type": "markdown",
   "metadata": {},
   "source": [
    "## Ejercicio 1\n",
    "Escribir un programa que muestre por pantalla la cadena ¡Hola Mundo!."
   ]
  },
  {
   "cell_type": "code",
   "execution_count": 1,
   "metadata": {
    "tags": []
   },
   "outputs": [
    {
     "output_type": "stream",
     "name": "stdout",
     "text": "Hola Mundo\n"
    }
   ],
   "source": [
    "hola_mundo = \"Hola Mundo\"\n",
    "print(hola_mundo)"
   ]
  },
  {
   "cell_type": "markdown",
   "metadata": {},
   "source": [
    "## Ejercicio 2\n",
    "Escribir un programa que almacene la cadena ¡Hola Mundo! en una variable y luego muestre por pantalla el contenido de la variable."
   ]
  },
  {
   "cell_type": "code",
   "execution_count": 2,
   "metadata": {
    "tags": []
   },
   "outputs": [
    {
     "output_type": "stream",
     "name": "stdout",
     "text": "Hola Mundo\n"
    }
   ],
   "source": [
    "hola_mundo = \"Hola Mundo\"\n",
    "x = hola_mundo\n",
    "print(x)"
   ]
  },
  {
   "cell_type": "markdown",
   "metadata": {},
   "source": [
    "## Ejercicio 3\n",
    "Escribir un programa que pregunte el nombre del usuario en la consola y después de que el usuario lo introduzca muestre por pantalla la cadena ¡Hola <nombre>!, donde <nombre> es el nombre que el usuario haya introducido.\n"
   ]
  },
  {
   "cell_type": "code",
   "execution_count": 4,
   "metadata": {
    "tags": []
   },
   "outputs": [
    {
     "output_type": "stream",
     "name": "stdout",
     "text": "Hola! Elsa\n"
    }
   ],
   "source": [
    "nombre_usuario = input(\"Cual es tu nombre: \") \n",
    "print(\"Hola! \" + nombre_usuario)"
   ]
  },
  {
   "cell_type": "markdown",
   "metadata": {},
   "source": [
    "## Ejercicio 4\n",
    "Escribir un programa que pregunte el nombre del usuario en la consola y un número entero e imprima por pantalla en líneas distintas el nombre del usuario tantas veces como el número introducido."
   ]
  },
  {
   "cell_type": "code",
   "execution_count": null,
   "metadata": {},
   "outputs": [],
   "source": []
  },
  {
   "cell_type": "code",
   "execution_count": 16,
   "metadata": {
    "tags": []
   },
   "outputs": [
    {
     "output_type": "stream",
     "name": "stdout",
     "text": "Elsa\nElsa\nElsa\nElsa\n\n"
    }
   ],
   "source": [
    "y = nombre_usuario\n",
    "y = input(\"Cual es tu nombre de usuario: \")\n",
    "numero_entero = input(\"Escribe un numero entero: \")\n",
    "print((y + \"\\n\") * int(numero_entero))"
   ]
  },
  {
   "cell_type": "markdown",
   "metadata": {},
   "source": [
    "## Ejercicio 5\n",
    "Escribir un programa que pregunte el nombre del usuario en la consola y después de que el usuario lo introduzca muestre por pantalla <NOMBRE> tiene <n> letras, donde <NOMBRE> es el nombre de usuario en mayúsculas y <n> es el número de letras que tienen el nombre."
   ]
  },
  {
   "cell_type": "code",
   "execution_count": 17,
   "metadata": {
    "tags": []
   },
   "outputs": [
    {
     "output_type": "stream",
     "name": "stdout",
     "text": "ELSA tiene 4 letras\n"
    }
   ],
   "source": [
    "nombre = input(\"Decir cuál es tu nombre: \")\n",
    "print(nombre.upper() + \" tiene \" + str(len(nombre)) + \" letras\")\n"
   ]
  },
  {
   "cell_type": "markdown",
   "metadata": {},
   "source": [
    "## Ejercicio 6\n",
    "Escribir un programa que realice la siguiente operación aritmética ((3+2)/2⋅5))2."
   ]
  },
  {
   "cell_type": "code",
   "execution_count": 18,
   "metadata": {
    "tags": []
   },
   "outputs": [
    {
     "output_type": "stream",
     "name": "stdout",
     "text": "0.25\n"
    }
   ],
   "source": [
    "x = 3 + 2\n",
    "y = 2 * 5\n",
    "\n",
    "operacion = (float((x) / (y)))**2\n",
    "print(operacion)"
   ]
  },
  {
   "cell_type": "markdown",
   "metadata": {},
   "source": [
    "## Ejercicio 7\n",
    "Escribir un programa que pregunte al usuario por el número de horas trabajadas y el coste por hora. Después debe mostrar por pantalla la paga que le corresponde."
   ]
  },
  {
   "cell_type": "code",
   "execution_count": 19,
   "metadata": {
    "tags": []
   },
   "outputs": [
    {
     "output_type": "stream",
     "name": "stdout",
     "text": "Me corresponde que me paguen: 136.0\n"
    }
   ],
   "source": [
    "horas_trabajadas = float(input(\"Cuantas horas has trabajado: \"))\n",
    "coste_hora = float(input(\"A cuanto te pagan la hora: \"))\n",
    "sueldo = horas_trabajadas * coste_hora\n",
    "print(\"Me corresponde que me paguen: \" + str(sueldo))"
   ]
  },
  {
   "cell_type": "markdown",
   "metadata": {},
   "source": [
    "## Ejercicio 8\n",
    "Escribir un programa que lea un entero positivo, n, introducido por el usuario y después muestre en pantalla la suma de todos los enteros desde 1 hasta n. La suma de los n primeros enteros positivos puede ser calculada de la siguiente forma:\n",
    "\n",
    "suma=n(n+1)2\n",
    "\n"
   ]
  },
  {
   "cell_type": "code",
   "execution_count": 7,
   "metadata": {
    "tags": []
   },
   "outputs": [
    {
     "output_type": "stream",
     "name": "stdout",
     "text": "La suma de los numeros enteros desde  1 a 4es 10.0\n"
    }
   ],
   "source": [
    "n = int(input(\"Escribe un numero entero: \"))\n",
    "suma = (n * (n + 1)) / 2\n",
    "print(\"La suma de los numeros enteros desde  1 a \" + str(n) + \" es \" + str(suma))\n"
   ]
  },
  {
   "cell_type": "markdown",
   "metadata": {},
   "source": [
    "## Ejercicio 9\n",
    "Escribir un programa que pida al usuario su peso (en kg) y estatura (en metros), calcule el índice de masa corporal y lo almacene en una variable, y muestre por pantalla la frase Tu índice de masa corporal es <imc> donde <imc> es el índice de masa corporal calculado redondeado con dos decimales."
   ]
  },
  {
   "cell_type": "code",
   "execution_count": 33,
   "metadata": {
    "tags": []
   },
   "outputs": [
    {
     "output_type": "stream",
     "name": "stdout",
     "text": "Tu índice de masa corporal es: 18\n"
    }
   ],
   "source": [
    "peso = float(input(\"Cual es tu peso: \"))\n",
    "estatura = float(input(\"Cuanto mides en metros: \"))\n",
    "imc = round(peso / (estatura ** 2))\n",
    "print(\"Tu índice de masa corporal es: \" + str(imc))"
   ]
  },
  {
   "cell_type": "code",
   "execution_count": null,
   "metadata": {},
   "outputs": [],
   "source": [
    "## Ejercicio 10\n",
    "Escribir un programa que pida al usuario dos números enteros y muestre por pantalla la <n> entre <m> da un cociente <c> y un resto <r> donde <n> y <m> son los números introducidos por el usuario, y <c> y <r> son el cociente y el resto de la división entera respectivamente."
   ]
  },
  {
   "cell_type": "code",
   "execution_count": 38,
   "metadata": {
    "tags": []
   },
   "outputs": [
    {
     "output_type": "stream",
     "name": "stdout",
     "text": "La división entre la variable n y m no da que el coeficiente es: 10. El resto de la división es:  0\n"
    }
   ],
   "source": [
    "n = int(input(\"Introducir primer valor con número entero: \"))\n",
    "m = int(input(\"Introducir segundo valor con número entero: \"))\n",
    "c = n // m\n",
    "r = n % m\n",
    "print(\"La división entre la variable n y m no da que el coeficiente es: \" + str(c) + \". El resto de la división es:  \" + str(r))\n",
    "\n"
   ]
  },
  {
   "cell_type": "markdown",
   "metadata": {},
   "source": [
    "## Ejercicio 11\n",
    "Escribir un programa que pregunte al usuario una cantidad a invertir, el interés anual y el número de años, y muestre por pantalla el capital obtenido en la inversión.\n",
    "\n"
   ]
  },
  {
   "cell_type": "code",
   "execution_count": 47,
   "metadata": {
    "tags": []
   },
   "outputs": [
    {
     "output_type": "stream",
     "name": "stdout",
     "text": "105.0\n"
    }
   ],
   "source": [
    "inversion = float(input(\"Cuál es la cantidad a invertir: \"))\n",
    "interes = float(input(\"Interés anual que nos van a cobrar: \"))\n",
    "anos = float(input(\"Numero de años para devolver la inversión\"))\n",
    "capital = (inversion * (interes/100)) / anos\n",
    "print(capital)"
   ]
  },
  {
   "cell_type": "markdown",
   "metadata": {},
   "source": [
    "## Ejercicio 12\n",
    "Una juguetería tiene mucho éxito en dos de sus productos: payasos y muñecas. Suele hacer venta por correo y la empresa de logística les cobra por peso de cada paquete así que deben calcular el peso de los payasos y muñecas que saldrán en cada paquete a demanda. Cada payaso pesa 112 g y cada muñeca 75 g. Escribir un programa que lea el número de payasos y muñecas vendidos en el último pedido y calcule el peso total del paquete que será enviado."
   ]
  },
  {
   "cell_type": "code",
   "execution_count": 49,
   "metadata": {
    "tags": []
   },
   "outputs": [
    {
     "output_type": "stream",
     "name": "stdout",
     "text": "374\n"
    }
   ],
   "source": [
    "payasos = 112\n",
    "munecas = 75\n",
    "n_payasos = int(input(\"Escribir número de payasos: \"))\n",
    "n_munecas = int(input(\"Escribir número de muñecas: \"))\n",
    "peso_total = ((payasos * n_payasos) + (munecas * n_munecas))\n",
    "print(peso_total)"
   ]
  },
  {
   "cell_type": "code",
   "execution_count": null,
   "metadata": {},
   "outputs": [],
   "source": [
    "## Ejercicio 13\n",
    "Imagina que acabas de abrir una nueva cuenta de ahorros que te ofrece el 4% de interés al año. Estos ahorros debido a intereses, que no se cobran hasta finales de año, se te añaden al balance final de tu cuenta de ahorros. Escribir un programa que comience leyendo la cantidad de dinero depositada en la cuenta de ahorros, introducida por el usuario. Después el programa debe calcular y mostrar por pantalla la cantidad de ahorros tras el primer, segundo y tercer años. Redondear cada cantidad a dos decimales."
   ]
  },
  {
   "cell_type": "code",
   "execution_count": 60,
   "metadata": {
    "tags": []
   },
   "outputs": [
    {
     "output_type": "stream",
     "name": "stdout",
     "text": "El primer año obtenemos en nuestra cuenta 104\nEl segundo año obtenemos en nuestra cuenta 108\nEl tercer año obtenemos en nuestra cuenta 112\n"
    }
   ],
   "source": [
    "dinero_depositado = float(input(\"Escribir dinero depositado en cuenta de ahorro con decimal: \"))\n",
    "interes = 0.04\n",
    "ahorro1 = dinero_depositado + dinero_depositado*interes\n",
    "print(\"El primer año obtenemos en nuestra cuenta \" + str(round(ahorro1)))\n",
    "ahorro2 = ahorro1 + dinero_depositado*interes\n",
    "print(\"El segundo año obtenemos en nuestra cuenta \" + str(round(ahorro2)))\n",
    "ahorro3 = ahorro2 + dinero_depositado*interes\n",
    "print(\"El tercer año obtenemos en nuestra cuenta \" + str(round(ahorro3)))"
   ]
  },
  {
   "cell_type": "markdown",
   "metadata": {},
   "source": [
    "## Ejercicio 14\n",
    "Una panadería vende barras de pan a 3.49€ cada una. El pan que no es el día tiene un descuento del 60%. Escribir un programa que comience leyendo el número de barras vendidas que no son del día. Después el programa debe mostrar el precio habitual de una barra de pan, el descuento que se le hace por no ser fresca y el coste final total."
   ]
  },
  {
   "cell_type": "code",
   "execution_count": 64,
   "metadata": {
    "tags": []
   },
   "outputs": [
    {
     "output_type": "stream",
     "name": "stdout",
     "text": "El precio de una barra reciente es: 3.49\nEl descuento aplicado por no ser reciete es: 60.0%\nEl coste final total que hemos obtenido es: 20.6\n"
    }
   ],
   "source": [
    "precio_pan = 3.49\n",
    "descuento = 0.60\n",
    "pan_atrasado = precio_pan * descuento\n",
    "venta = input(\"Introduce cuantas barras se han vendido y no son del día: \")\n",
    "print(\"El precio de una barra reciente es: \" + str(precio_pan) + \"€\")\n",
    "print(\"El descuento aplicado por no ser reciete es: \" + str(descuento*100) + \"%\")\n",
    "total = str(venta) + str(descuento)\n",
    "print(\"El coste final total que hemos obtenido es: \" + str(total) + \"€\")\n"
   ]
  },
  {
   "cell_type": "code",
   "execution_count": null,
   "metadata": {},
   "outputs": [],
   "source": []
  }
 ],
 "metadata": {
  "language_info": {
   "codemirror_mode": {
    "name": "ipython",
    "version": 3
   },
   "file_extension": ".py",
   "mimetype": "text/x-python",
   "name": "python",
   "nbconvert_exporter": "python",
   "pygments_lexer": "ipython3",
   "version": "3.8.3-final"
  },
  "orig_nbformat": 2,
  "kernelspec": {
   "name": "python3",
   "display_name": "Python 3"
  }
 },
 "nbformat": 4,
 "nbformat_minor": 2
}