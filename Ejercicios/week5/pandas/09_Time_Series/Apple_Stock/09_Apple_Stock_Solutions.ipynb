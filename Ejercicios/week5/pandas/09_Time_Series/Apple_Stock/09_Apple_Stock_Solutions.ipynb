{
 "cells": [
  {
   "cell_type": "markdown",
   "metadata": {},
   "source": [
    "# Apple Stock"
   ]
  },
  {
   "cell_type": "markdown",
   "metadata": {},
   "source": [
    "### Introduction:\n",
    "\n",
    "We are going to use Apple's stock price.\n",
    "\n",
    "\n",
    "### Step 1. Import the necessary libraries"
   ]
  },
  {
   "cell_type": "code",
   "execution_count": 1,
   "metadata": {
    "collapsed": false
   },
   "outputs": [],
   "source": [
    "import pandas as pd\n",
    "import numpy as np\n",
    "\n",
    "# visualization\n",
    "import matplotlib.pyplot as plt\n",
    "\n",
    "%matplotlib inline"
   ]
  },
  {
   "cell_type": "markdown",
   "metadata": {},
   "source": [
    "### Step 2. Import the dataset from this [address](https://raw.githubusercontent.com/guipsamora/pandas_exercises/master/09_Time_Series/Apple_Stock/appl_1980_2014.csv)"
   ]
  },
  {
   "cell_type": "code",
   "execution_count": 2,
   "metadata": {},
   "outputs": [],
   "source": [
    "address = \"https://raw.githubusercontent.com/guipsamora/pandas_exercises/master/09_Time_Series/Apple_Stock/appl_1980_2014.csv\""
   ]
  },
  {
   "cell_type": "markdown",
   "metadata": {},
   "source": [
    "### Step 3. Assign it to a variable apple"
   ]
  },
  {
   "cell_type": "code",
   "execution_count": 13,
   "metadata": {},
   "outputs": [
    {
     "output_type": "execute_result",
     "data": {
      "text/plain": "         Date   Open   High    Low  Close    Volume  Adj Close\n0  2014-07-08  96.27  96.80  93.92  95.35  65130000      95.35\n1  2014-07-07  94.14  95.99  94.10  95.97  56305400      95.97\n2  2014-07-03  93.67  94.10  93.20  94.03  22891800      94.03\n3  2014-07-02  93.87  94.06  93.09  93.48  28420900      93.48\n4  2014-07-01  93.52  94.07  93.13  93.52  38170200      93.52",
      "text/html": "<div>\n<style scoped>\n    .dataframe tbody tr th:only-of-type {\n        vertical-align: middle;\n    }\n\n    .dataframe tbody tr th {\n        vertical-align: top;\n    }\n\n    .dataframe thead th {\n        text-align: right;\n    }\n</style>\n<table border=\"1\" class=\"dataframe\">\n  <thead>\n    <tr style=\"text-align: right;\">\n      <th></th>\n      <th>Date</th>\n      <th>Open</th>\n      <th>High</th>\n      <th>Low</th>\n      <th>Close</th>\n      <th>Volume</th>\n      <th>Adj Close</th>\n    </tr>\n  </thead>\n  <tbody>\n    <tr>\n      <th>0</th>\n      <td>2014-07-08</td>\n      <td>96.27</td>\n      <td>96.80</td>\n      <td>93.92</td>\n      <td>95.35</td>\n      <td>65130000</td>\n      <td>95.35</td>\n    </tr>\n    <tr>\n      <th>1</th>\n      <td>2014-07-07</td>\n      <td>94.14</td>\n      <td>95.99</td>\n      <td>94.10</td>\n      <td>95.97</td>\n      <td>56305400</td>\n      <td>95.97</td>\n    </tr>\n    <tr>\n      <th>2</th>\n      <td>2014-07-03</td>\n      <td>93.67</td>\n      <td>94.10</td>\n      <td>93.20</td>\n      <td>94.03</td>\n      <td>22891800</td>\n      <td>94.03</td>\n    </tr>\n    <tr>\n      <th>3</th>\n      <td>2014-07-02</td>\n      <td>93.87</td>\n      <td>94.06</td>\n      <td>93.09</td>\n      <td>93.48</td>\n      <td>28420900</td>\n      <td>93.48</td>\n    </tr>\n    <tr>\n      <th>4</th>\n      <td>2014-07-01</td>\n      <td>93.52</td>\n      <td>94.07</td>\n      <td>93.13</td>\n      <td>93.52</td>\n      <td>38170200</td>\n      <td>93.52</td>\n    </tr>\n  </tbody>\n</table>\n</div>"
     },
     "metadata": {},
     "execution_count": 13
    }
   ],
   "source": [
    "apple = pd.read_csv(address, sep=\",\")\n",
    "apple.head(5)"
   ]
  },
  {
   "cell_type": "code",
   "execution_count": 32,
   "metadata": {
    "collapsed": false
   },
   "outputs": [
    {
     "data": {
      "text/html": [
       "<div>\n",
       "<table border=\"1\" class=\"dataframe\">\n",
       "  <thead>\n",
       "    <tr style=\"text-align: right;\">\n",
       "      <th></th>\n",
       "      <th>Date</th>\n",
       "      <th>Open</th>\n",
       "      <th>High</th>\n",
       "      <th>Low</th>\n",
       "      <th>Close</th>\n",
       "      <th>Volume</th>\n",
       "      <th>Adj Close</th>\n",
       "    </tr>\n",
       "  </thead>\n",
       "  <tbody>\n",
       "    <tr>\n",
       "      <th>0</th>\n",
       "      <td>2014-07-08</td>\n",
       "      <td>96.27</td>\n",
       "      <td>96.80</td>\n",
       "      <td>93.92</td>\n",
       "      <td>95.35</td>\n",
       "      <td>65130000</td>\n",
       "      <td>95.35</td>\n",
       "    </tr>\n",
       "    <tr>\n",
       "      <th>1</th>\n",
       "      <td>2014-07-07</td>\n",
       "      <td>94.14</td>\n",
       "      <td>95.99</td>\n",
       "      <td>94.10</td>\n",
       "      <td>95.97</td>\n",
       "      <td>56305400</td>\n",
       "      <td>95.97</td>\n",
       "    </tr>\n",
       "    <tr>\n",
       "      <th>2</th>\n",
       "      <td>2014-07-03</td>\n",
       "      <td>93.67</td>\n",
       "      <td>94.10</td>\n",
       "      <td>93.20</td>\n",
       "      <td>94.03</td>\n",
       "      <td>22891800</td>\n",
       "      <td>94.03</td>\n",
       "    </tr>\n",
       "    <tr>\n",
       "      <th>3</th>\n",
       "      <td>2014-07-02</td>\n",
       "      <td>93.87</td>\n",
       "      <td>94.06</td>\n",
       "      <td>93.09</td>\n",
       "      <td>93.48</td>\n",
       "      <td>28420900</td>\n",
       "      <td>93.48</td>\n",
       "    </tr>\n",
       "    <tr>\n",
       "      <th>4</th>\n",
       "      <td>2014-07-01</td>\n",
       "      <td>93.52</td>\n",
       "      <td>94.07</td>\n",
       "      <td>93.13</td>\n",
       "      <td>93.52</td>\n",
       "      <td>38170200</td>\n",
       "      <td>93.52</td>\n",
       "    </tr>\n",
       "  </tbody>\n",
       "</table>\n",
       "</div>"
      ],
      "text/plain": [
       "         Date   Open   High    Low  Close    Volume  Adj Close\n",
       "0  2014-07-08  96.27  96.80  93.92  95.35  65130000      95.35\n",
       "1  2014-07-07  94.14  95.99  94.10  95.97  56305400      95.97\n",
       "2  2014-07-03  93.67  94.10  93.20  94.03  22891800      94.03\n",
       "3  2014-07-02  93.87  94.06  93.09  93.48  28420900      93.48\n",
       "4  2014-07-01  93.52  94.07  93.13  93.52  38170200      93.52"
      ]
     },
     "execution_count": 32,
     "metadata": {},
     "output_type": "execute_result"
    }
   ],
   "source": []
  },
  {
   "cell_type": "markdown",
   "metadata": {},
   "source": [
    "### Step 4.  Check out the type of the columns"
   ]
  },
  {
   "cell_type": "code",
   "execution_count": 15,
   "metadata": {
    "tags": []
   },
   "outputs": [
    {
     "output_type": "execute_result",
     "data": {
      "text/plain": "Date          object\nOpen         float64\nHigh         float64\nLow          float64\nClose        float64\nVolume         int64\nAdj Close    float64\ndtype: object"
     },
     "metadata": {},
     "execution_count": 15
    }
   ],
   "source": [
    "apple.dtypes"
   ]
  },
  {
   "cell_type": "code",
   "execution_count": 33,
   "metadata": {
    "collapsed": false
   },
   "outputs": [
    {
     "data": {
      "text/plain": [
       "Date          object\n",
       "Open         float64\n",
       "High         float64\n",
       "Low          float64\n",
       "Close        float64\n",
       "Volume         int64\n",
       "Adj Close    float64\n",
       "dtype: object"
      ]
     },
     "execution_count": 33,
     "metadata": {},
     "output_type": "execute_result"
    }
   ],
   "source": []
  },
  {
   "cell_type": "markdown",
   "metadata": {},
   "source": [
    "### Step 5. Transform the Date column as a datetime type"
   ]
  },
  {
   "cell_type": "code",
   "execution_count": 26,
   "metadata": {},
   "outputs": [
    {
     "output_type": "execute_result",
     "data": {
      "text/plain": "0   2014-07-08\n1   2014-07-07\n2   2014-07-03\n3   2014-07-02\n4   2014-07-01\nName: Date, dtype: datetime64[ns]"
     },
     "metadata": {},
     "execution_count": 26
    }
   ],
   "source": [
    "apple.Date =pd.to_datetime(apple.Date)\n",
    "apple[\"Date\"].head(5)"
   ]
  },
  {
   "cell_type": "code",
   "execution_count": 34,
   "metadata": {
    "collapsed": false
   },
   "outputs": [
    {
     "data": {
      "text/plain": [
       "0   2014-07-08\n",
       "1   2014-07-07\n",
       "2   2014-07-03\n",
       "3   2014-07-02\n",
       "4   2014-07-01\n",
       "Name: Date, dtype: datetime64[ns]"
      ]
     },
     "execution_count": 34,
     "metadata": {},
     "output_type": "execute_result"
    }
   ],
   "source": []
  },
  {
   "cell_type": "markdown",
   "metadata": {},
   "source": [
    "### Step 6.  Set the date as the index"
   ]
  },
  {
   "cell_type": "code",
   "execution_count": 32,
   "metadata": {},
   "outputs": [
    {
     "output_type": "execute_result",
     "data": {
      "text/plain": "             Open   High    Low  Close     Volume  Adj Close\nDate                                                        \n2014-07-08  96.27  96.80  93.92  95.35   65130000      95.35\n2014-07-07  94.14  95.99  94.10  95.97   56305400      95.97\n2014-07-03  93.67  94.10  93.20  94.03   22891800      94.03\n2014-07-02  93.87  94.06  93.09  93.48   28420900      93.48\n2014-07-01  93.52  94.07  93.13  93.52   38170200      93.52\n...           ...    ...    ...    ...        ...        ...\n1980-12-18  26.63  26.75  26.63  26.63   18362400       0.41\n1980-12-17  25.87  26.00  25.87  25.87   21610400       0.40\n1980-12-16  25.37  25.37  25.25  25.25   26432000       0.39\n1980-12-15  27.38  27.38  27.25  27.25   43971200       0.42\n1980-12-12  28.75  28.87  28.75  28.75  117258400       0.45\n\n[8465 rows x 6 columns]",
      "text/html": "<div>\n<style scoped>\n    .dataframe tbody tr th:only-of-type {\n        vertical-align: middle;\n    }\n\n    .dataframe tbody tr th {\n        vertical-align: top;\n    }\n\n    .dataframe thead th {\n        text-align: right;\n    }\n</style>\n<table border=\"1\" class=\"dataframe\">\n  <thead>\n    <tr style=\"text-align: right;\">\n      <th></th>\n      <th>Open</th>\n      <th>High</th>\n      <th>Low</th>\n      <th>Close</th>\n      <th>Volume</th>\n      <th>Adj Close</th>\n    </tr>\n    <tr>\n      <th>Date</th>\n      <th></th>\n      <th></th>\n      <th></th>\n      <th></th>\n      <th></th>\n      <th></th>\n    </tr>\n  </thead>\n  <tbody>\n    <tr>\n      <th>2014-07-08</th>\n      <td>96.27</td>\n      <td>96.80</td>\n      <td>93.92</td>\n      <td>95.35</td>\n      <td>65130000</td>\n      <td>95.35</td>\n    </tr>\n    <tr>\n      <th>2014-07-07</th>\n      <td>94.14</td>\n      <td>95.99</td>\n      <td>94.10</td>\n      <td>95.97</td>\n      <td>56305400</td>\n      <td>95.97</td>\n    </tr>\n    <tr>\n      <th>2014-07-03</th>\n      <td>93.67</td>\n      <td>94.10</td>\n      <td>93.20</td>\n      <td>94.03</td>\n      <td>22891800</td>\n      <td>94.03</td>\n    </tr>\n    <tr>\n      <th>2014-07-02</th>\n      <td>93.87</td>\n      <td>94.06</td>\n      <td>93.09</td>\n      <td>93.48</td>\n      <td>28420900</td>\n      <td>93.48</td>\n    </tr>\n    <tr>\n      <th>2014-07-01</th>\n      <td>93.52</td>\n      <td>94.07</td>\n      <td>93.13</td>\n      <td>93.52</td>\n      <td>38170200</td>\n      <td>93.52</td>\n    </tr>\n    <tr>\n      <th>...</th>\n      <td>...</td>\n      <td>...</td>\n      <td>...</td>\n      <td>...</td>\n      <td>...</td>\n      <td>...</td>\n    </tr>\n    <tr>\n      <th>1980-12-18</th>\n      <td>26.63</td>\n      <td>26.75</td>\n      <td>26.63</td>\n      <td>26.63</td>\n      <td>18362400</td>\n      <td>0.41</td>\n    </tr>\n    <tr>\n      <th>1980-12-17</th>\n      <td>25.87</td>\n      <td>26.00</td>\n      <td>25.87</td>\n      <td>25.87</td>\n      <td>21610400</td>\n      <td>0.40</td>\n    </tr>\n    <tr>\n      <th>1980-12-16</th>\n      <td>25.37</td>\n      <td>25.37</td>\n      <td>25.25</td>\n      <td>25.25</td>\n      <td>26432000</td>\n      <td>0.39</td>\n    </tr>\n    <tr>\n      <th>1980-12-15</th>\n      <td>27.38</td>\n      <td>27.38</td>\n      <td>27.25</td>\n      <td>27.25</td>\n      <td>43971200</td>\n      <td>0.42</td>\n    </tr>\n    <tr>\n      <th>1980-12-12</th>\n      <td>28.75</td>\n      <td>28.87</td>\n      <td>28.75</td>\n      <td>28.75</td>\n      <td>117258400</td>\n      <td>0.45</td>\n    </tr>\n  </tbody>\n</table>\n<p>8465 rows × 6 columns</p>\n</div>"
     },
     "metadata": {},
     "execution_count": 32
    }
   ],
   "source": [
    "Apple= apple.set_index(\"Date\")\n",
    "Apple"
   ]
  },
  {
   "cell_type": "code",
   "execution_count": 35,
   "metadata": {
    "collapsed": false
   },
   "outputs": [
    {
     "data": {
      "text/html": [
       "<div>\n",
       "<table border=\"1\" class=\"dataframe\">\n",
       "  <thead>\n",
       "    <tr style=\"text-align: right;\">\n",
       "      <th></th>\n",
       "      <th>Open</th>\n",
       "      <th>High</th>\n",
       "      <th>Low</th>\n",
       "      <th>Close</th>\n",
       "      <th>Volume</th>\n",
       "      <th>Adj Close</th>\n",
       "    </tr>\n",
       "    <tr>\n",
       "      <th>Date</th>\n",
       "      <th></th>\n",
       "      <th></th>\n",
       "      <th></th>\n",
       "      <th></th>\n",
       "      <th></th>\n",
       "      <th></th>\n",
       "    </tr>\n",
       "  </thead>\n",
       "  <tbody>\n",
       "    <tr>\n",
       "      <th>2014-07-08</th>\n",
       "      <td>96.27</td>\n",
       "      <td>96.80</td>\n",
       "      <td>93.92</td>\n",
       "      <td>95.35</td>\n",
       "      <td>65130000</td>\n",
       "      <td>95.35</td>\n",
       "    </tr>\n",
       "    <tr>\n",
       "      <th>2014-07-07</th>\n",
       "      <td>94.14</td>\n",
       "      <td>95.99</td>\n",
       "      <td>94.10</td>\n",
       "      <td>95.97</td>\n",
       "      <td>56305400</td>\n",
       "      <td>95.97</td>\n",
       "    </tr>\n",
       "    <tr>\n",
       "      <th>2014-07-03</th>\n",
       "      <td>93.67</td>\n",
       "      <td>94.10</td>\n",
       "      <td>93.20</td>\n",
       "      <td>94.03</td>\n",
       "      <td>22891800</td>\n",
       "      <td>94.03</td>\n",
       "    </tr>\n",
       "    <tr>\n",
       "      <th>2014-07-02</th>\n",
       "      <td>93.87</td>\n",
       "      <td>94.06</td>\n",
       "      <td>93.09</td>\n",
       "      <td>93.48</td>\n",
       "      <td>28420900</td>\n",
       "      <td>93.48</td>\n",
       "    </tr>\n",
       "    <tr>\n",
       "      <th>2014-07-01</th>\n",
       "      <td>93.52</td>\n",
       "      <td>94.07</td>\n",
       "      <td>93.13</td>\n",
       "      <td>93.52</td>\n",
       "      <td>38170200</td>\n",
       "      <td>93.52</td>\n",
       "    </tr>\n",
       "  </tbody>\n",
       "</table>\n",
       "</div>"
      ],
      "text/plain": [
       "             Open   High    Low  Close    Volume  Adj Close\n",
       "Date                                                       \n",
       "2014-07-08  96.27  96.80  93.92  95.35  65130000      95.35\n",
       "2014-07-07  94.14  95.99  94.10  95.97  56305400      95.97\n",
       "2014-07-03  93.67  94.10  93.20  94.03  22891800      94.03\n",
       "2014-07-02  93.87  94.06  93.09  93.48  28420900      93.48\n",
       "2014-07-01  93.52  94.07  93.13  93.52  38170200      93.52"
      ]
     },
     "execution_count": 35,
     "metadata": {},
     "output_type": "execute_result"
    }
   ],
   "source": []
  },
  {
   "cell_type": "markdown",
   "metadata": {},
   "source": [
    "### Step 7.  Is there any duplicate dates?"
   ]
  },
  {
   "cell_type": "code",
   "execution_count": 35,
   "metadata": {},
   "outputs": [
    {
     "output_type": "execute_result",
     "data": {
      "text/plain": "True"
     },
     "metadata": {},
     "execution_count": 35
    }
   ],
   "source": [
    "Apple.index.is_unique"
   ]
  },
  {
   "cell_type": "code",
   "execution_count": 36,
   "metadata": {
    "collapsed": false
   },
   "outputs": [
    {
     "data": {
      "text/plain": [
       "True"
      ]
     },
     "execution_count": 36,
     "metadata": {},
     "output_type": "execute_result"
    }
   ],
   "source": [
    "# NO! All are unique"
   ]
  },
  {
   "cell_type": "markdown",
   "metadata": {},
   "source": [
    "### Step 8.  Ops...it seems the index is from the most recent date. Make the first entry the oldest date."
   ]
  },
  {
   "cell_type": "code",
   "execution_count": 36,
   "metadata": {},
   "outputs": [
    {
     "output_type": "execute_result",
     "data": {
      "text/plain": "             Open   High    Low  Close     Volume  Adj Close\nDate                                                        \n1980-12-12  28.75  28.87  28.75  28.75  117258400       0.45\n1980-12-15  27.38  27.38  27.25  27.25   43971200       0.42\n1980-12-16  25.37  25.37  25.25  25.25   26432000       0.39\n1980-12-17  25.87  26.00  25.87  25.87   21610400       0.40\n1980-12-18  26.63  26.75  26.63  26.63   18362400       0.41\n...           ...    ...    ...    ...        ...        ...\n2014-07-01  93.52  94.07  93.13  93.52   38170200      93.52\n2014-07-02  93.87  94.06  93.09  93.48   28420900      93.48\n2014-07-03  93.67  94.10  93.20  94.03   22891800      94.03\n2014-07-07  94.14  95.99  94.10  95.97   56305400      95.97\n2014-07-08  96.27  96.80  93.92  95.35   65130000      95.35\n\n[8465 rows x 6 columns]",
      "text/html": "<div>\n<style scoped>\n    .dataframe tbody tr th:only-of-type {\n        vertical-align: middle;\n    }\n\n    .dataframe tbody tr th {\n        vertical-align: top;\n    }\n\n    .dataframe thead th {\n        text-align: right;\n    }\n</style>\n<table border=\"1\" class=\"dataframe\">\n  <thead>\n    <tr style=\"text-align: right;\">\n      <th></th>\n      <th>Open</th>\n      <th>High</th>\n      <th>Low</th>\n      <th>Close</th>\n      <th>Volume</th>\n      <th>Adj Close</th>\n    </tr>\n    <tr>\n      <th>Date</th>\n      <th></th>\n      <th></th>\n      <th></th>\n      <th></th>\n      <th></th>\n      <th></th>\n    </tr>\n  </thead>\n  <tbody>\n    <tr>\n      <th>1980-12-12</th>\n      <td>28.75</td>\n      <td>28.87</td>\n      <td>28.75</td>\n      <td>28.75</td>\n      <td>117258400</td>\n      <td>0.45</td>\n    </tr>\n    <tr>\n      <th>1980-12-15</th>\n      <td>27.38</td>\n      <td>27.38</td>\n      <td>27.25</td>\n      <td>27.25</td>\n      <td>43971200</td>\n      <td>0.42</td>\n    </tr>\n    <tr>\n      <th>1980-12-16</th>\n      <td>25.37</td>\n      <td>25.37</td>\n      <td>25.25</td>\n      <td>25.25</td>\n      <td>26432000</td>\n      <td>0.39</td>\n    </tr>\n    <tr>\n      <th>1980-12-17</th>\n      <td>25.87</td>\n      <td>26.00</td>\n      <td>25.87</td>\n      <td>25.87</td>\n      <td>21610400</td>\n      <td>0.40</td>\n    </tr>\n    <tr>\n      <th>1980-12-18</th>\n      <td>26.63</td>\n      <td>26.75</td>\n      <td>26.63</td>\n      <td>26.63</td>\n      <td>18362400</td>\n      <td>0.41</td>\n    </tr>\n    <tr>\n      <th>...</th>\n      <td>...</td>\n      <td>...</td>\n      <td>...</td>\n      <td>...</td>\n      <td>...</td>\n      <td>...</td>\n    </tr>\n    <tr>\n      <th>2014-07-01</th>\n      <td>93.52</td>\n      <td>94.07</td>\n      <td>93.13</td>\n      <td>93.52</td>\n      <td>38170200</td>\n      <td>93.52</td>\n    </tr>\n    <tr>\n      <th>2014-07-02</th>\n      <td>93.87</td>\n      <td>94.06</td>\n      <td>93.09</td>\n      <td>93.48</td>\n      <td>28420900</td>\n      <td>93.48</td>\n    </tr>\n    <tr>\n      <th>2014-07-03</th>\n      <td>93.67</td>\n      <td>94.10</td>\n      <td>93.20</td>\n      <td>94.03</td>\n      <td>22891800</td>\n      <td>94.03</td>\n    </tr>\n    <tr>\n      <th>2014-07-07</th>\n      <td>94.14</td>\n      <td>95.99</td>\n      <td>94.10</td>\n      <td>95.97</td>\n      <td>56305400</td>\n      <td>95.97</td>\n    </tr>\n    <tr>\n      <th>2014-07-08</th>\n      <td>96.27</td>\n      <td>96.80</td>\n      <td>93.92</td>\n      <td>95.35</td>\n      <td>65130000</td>\n      <td>95.35</td>\n    </tr>\n  </tbody>\n</table>\n<p>8465 rows × 6 columns</p>\n</div>"
     },
     "metadata": {},
     "execution_count": 36
    }
   ],
   "source": [
    "Apple.sort_index(ascending=True)"
   ]
  },
  {
   "cell_type": "code",
   "execution_count": 39,
   "metadata": {
    "collapsed": false
   },
   "outputs": [
    {
     "data": {
      "text/html": [
       "<div>\n",
       "<table border=\"1\" class=\"dataframe\">\n",
       "  <thead>\n",
       "    <tr style=\"text-align: right;\">\n",
       "      <th></th>\n",
       "      <th>Open</th>\n",
       "      <th>High</th>\n",
       "      <th>Low</th>\n",
       "      <th>Close</th>\n",
       "      <th>Volume</th>\n",
       "      <th>Adj Close</th>\n",
       "    </tr>\n",
       "    <tr>\n",
       "      <th>Date</th>\n",
       "      <th></th>\n",
       "      <th></th>\n",
       "      <th></th>\n",
       "      <th></th>\n",
       "      <th></th>\n",
       "      <th></th>\n",
       "    </tr>\n",
       "  </thead>\n",
       "  <tbody>\n",
       "    <tr>\n",
       "      <th>1980-12-12</th>\n",
       "      <td>28.75</td>\n",
       "      <td>28.87</td>\n",
       "      <td>28.75</td>\n",
       "      <td>28.75</td>\n",
       "      <td>117258400</td>\n",
       "      <td>0.45</td>\n",
       "    </tr>\n",
       "    <tr>\n",
       "      <th>1980-12-15</th>\n",
       "      <td>27.38</td>\n",
       "      <td>27.38</td>\n",
       "      <td>27.25</td>\n",
       "      <td>27.25</td>\n",
       "      <td>43971200</td>\n",
       "      <td>0.42</td>\n",
       "    </tr>\n",
       "    <tr>\n",
       "      <th>1980-12-16</th>\n",
       "      <td>25.37</td>\n",
       "      <td>25.37</td>\n",
       "      <td>25.25</td>\n",
       "      <td>25.25</td>\n",
       "      <td>26432000</td>\n",
       "      <td>0.39</td>\n",
       "    </tr>\n",
       "    <tr>\n",
       "      <th>1980-12-17</th>\n",
       "      <td>25.87</td>\n",
       "      <td>26.00</td>\n",
       "      <td>25.87</td>\n",
       "      <td>25.87</td>\n",
       "      <td>21610400</td>\n",
       "      <td>0.40</td>\n",
       "    </tr>\n",
       "    <tr>\n",
       "      <th>1980-12-18</th>\n",
       "      <td>26.63</td>\n",
       "      <td>26.75</td>\n",
       "      <td>26.63</td>\n",
       "      <td>26.63</td>\n",
       "      <td>18362400</td>\n",
       "      <td>0.41</td>\n",
       "    </tr>\n",
       "  </tbody>\n",
       "</table>\n",
       "</div>"
      ],
      "text/plain": [
       "             Open   High    Low  Close     Volume  Adj Close\n",
       "Date                                                        \n",
       "1980-12-12  28.75  28.87  28.75  28.75  117258400       0.45\n",
       "1980-12-15  27.38  27.38  27.25  27.25   43971200       0.42\n",
       "1980-12-16  25.37  25.37  25.25  25.25   26432000       0.39\n",
       "1980-12-17  25.87  26.00  25.87  25.87   21610400       0.40\n",
       "1980-12-18  26.63  26.75  26.63  26.63   18362400       0.41"
      ]
     },
     "execution_count": 39,
     "metadata": {},
     "output_type": "execute_result"
    }
   ],
   "source": []
  },
  {
   "cell_type": "markdown",
   "metadata": {},
   "source": [
    "### Step 9. Get the last business day of each month"
   ]
  },
  {
   "cell_type": "code",
   "execution_count": 44,
   "metadata": {},
   "outputs": [
    {
     "output_type": "execute_result",
     "data": {
      "text/plain": "              Open    High     Low   Close     Volume  Adj Close\nDate                                                            \n1980-12-31   36.00   36.13   36.00   36.00  117258400       0.56\n1981-01-30   34.50   34.75   34.50   34.50   13921600       0.54\n1981-02-27   28.75   28.87   28.75   28.75    6966400       0.45\n1981-03-31   26.75   27.00   26.75   26.75   57825600       0.42\n1981-04-30   29.25   29.37   29.25   29.25   14504000       0.46\n...            ...     ...     ...     ...        ...        ...\n2014-03-31  546.52  549.00  539.59  544.99   93511600      77.42\n2014-04-30  593.74  599.43  589.80  594.09  189977900      84.40\n2014-05-30  637.98  644.17  628.90  635.38  141005200      90.77\n2014-06-30  649.90  651.26  644.47  647.35  100813200      94.25\n2014-07-31   96.27   96.80   94.10   95.97   65130000      95.97\n\n[404 rows x 6 columns]",
      "text/html": "<div>\n<style scoped>\n    .dataframe tbody tr th:only-of-type {\n        vertical-align: middle;\n    }\n\n    .dataframe tbody tr th {\n        vertical-align: top;\n    }\n\n    .dataframe thead th {\n        text-align: right;\n    }\n</style>\n<table border=\"1\" class=\"dataframe\">\n  <thead>\n    <tr style=\"text-align: right;\">\n      <th></th>\n      <th>Open</th>\n      <th>High</th>\n      <th>Low</th>\n      <th>Close</th>\n      <th>Volume</th>\n      <th>Adj Close</th>\n    </tr>\n    <tr>\n      <th>Date</th>\n      <th></th>\n      <th></th>\n      <th></th>\n      <th></th>\n      <th></th>\n      <th></th>\n    </tr>\n  </thead>\n  <tbody>\n    <tr>\n      <th>1980-12-31</th>\n      <td>36.00</td>\n      <td>36.13</td>\n      <td>36.00</td>\n      <td>36.00</td>\n      <td>117258400</td>\n      <td>0.56</td>\n    </tr>\n    <tr>\n      <th>1981-01-30</th>\n      <td>34.50</td>\n      <td>34.75</td>\n      <td>34.50</td>\n      <td>34.50</td>\n      <td>13921600</td>\n      <td>0.54</td>\n    </tr>\n    <tr>\n      <th>1981-02-27</th>\n      <td>28.75</td>\n      <td>28.87</td>\n      <td>28.75</td>\n      <td>28.75</td>\n      <td>6966400</td>\n      <td>0.45</td>\n    </tr>\n    <tr>\n      <th>1981-03-31</th>\n      <td>26.75</td>\n      <td>27.00</td>\n      <td>26.75</td>\n      <td>26.75</td>\n      <td>57825600</td>\n      <td>0.42</td>\n    </tr>\n    <tr>\n      <th>1981-04-30</th>\n      <td>29.25</td>\n      <td>29.37</td>\n      <td>29.25</td>\n      <td>29.25</td>\n      <td>14504000</td>\n      <td>0.46</td>\n    </tr>\n    <tr>\n      <th>...</th>\n      <td>...</td>\n      <td>...</td>\n      <td>...</td>\n      <td>...</td>\n      <td>...</td>\n      <td>...</td>\n    </tr>\n    <tr>\n      <th>2014-03-31</th>\n      <td>546.52</td>\n      <td>549.00</td>\n      <td>539.59</td>\n      <td>544.99</td>\n      <td>93511600</td>\n      <td>77.42</td>\n    </tr>\n    <tr>\n      <th>2014-04-30</th>\n      <td>593.74</td>\n      <td>599.43</td>\n      <td>589.80</td>\n      <td>594.09</td>\n      <td>189977900</td>\n      <td>84.40</td>\n    </tr>\n    <tr>\n      <th>2014-05-30</th>\n      <td>637.98</td>\n      <td>644.17</td>\n      <td>628.90</td>\n      <td>635.38</td>\n      <td>141005200</td>\n      <td>90.77</td>\n    </tr>\n    <tr>\n      <th>2014-06-30</th>\n      <td>649.90</td>\n      <td>651.26</td>\n      <td>644.47</td>\n      <td>647.35</td>\n      <td>100813200</td>\n      <td>94.25</td>\n    </tr>\n    <tr>\n      <th>2014-07-31</th>\n      <td>96.27</td>\n      <td>96.80</td>\n      <td>94.10</td>\n      <td>95.97</td>\n      <td>65130000</td>\n      <td>95.97</td>\n    </tr>\n  </tbody>\n</table>\n<p>404 rows × 6 columns</p>\n</div>"
     },
     "metadata": {},
     "execution_count": 44
    }
   ],
   "source": [
    "month = Apple.resample(\"BM\").max()\n",
    "month"
   ]
  },
  {
   "cell_type": "code",
   "execution_count": 48,
   "metadata": {
    "collapsed": false
   },
   "outputs": [
    {
     "data": {
      "text/html": [
       "<div>\n",
       "<table border=\"1\" class=\"dataframe\">\n",
       "  <thead>\n",
       "    <tr style=\"text-align: right;\">\n",
       "      <th></th>\n",
       "      <th>Open</th>\n",
       "      <th>High</th>\n",
       "      <th>Low</th>\n",
       "      <th>Close</th>\n",
       "      <th>Volume</th>\n",
       "      <th>Adj Close</th>\n",
       "    </tr>\n",
       "    <tr>\n",
       "      <th>Date</th>\n",
       "      <th></th>\n",
       "      <th></th>\n",
       "      <th></th>\n",
       "      <th></th>\n",
       "      <th></th>\n",
       "      <th></th>\n",
       "    </tr>\n",
       "  </thead>\n",
       "  <tbody>\n",
       "    <tr>\n",
       "      <th>1980-12-31</th>\n",
       "      <td>30.481538</td>\n",
       "      <td>30.567692</td>\n",
       "      <td>30.443077</td>\n",
       "      <td>30.443077</td>\n",
       "      <td>25862523</td>\n",
       "      <td>0.473077</td>\n",
       "    </tr>\n",
       "    <tr>\n",
       "      <th>1981-01-30</th>\n",
       "      <td>31.754762</td>\n",
       "      <td>31.826667</td>\n",
       "      <td>31.654762</td>\n",
       "      <td>31.654762</td>\n",
       "      <td>7249866</td>\n",
       "      <td>0.493810</td>\n",
       "    </tr>\n",
       "    <tr>\n",
       "      <th>1981-02-27</th>\n",
       "      <td>26.480000</td>\n",
       "      <td>26.572105</td>\n",
       "      <td>26.407895</td>\n",
       "      <td>26.407895</td>\n",
       "      <td>4231831</td>\n",
       "      <td>0.411053</td>\n",
       "    </tr>\n",
       "    <tr>\n",
       "      <th>1981-03-31</th>\n",
       "      <td>24.937727</td>\n",
       "      <td>25.016818</td>\n",
       "      <td>24.836364</td>\n",
       "      <td>24.836364</td>\n",
       "      <td>7962690</td>\n",
       "      <td>0.387727</td>\n",
       "    </tr>\n",
       "    <tr>\n",
       "      <th>1981-04-30</th>\n",
       "      <td>27.286667</td>\n",
       "      <td>27.368095</td>\n",
       "      <td>27.227143</td>\n",
       "      <td>27.227143</td>\n",
       "      <td>6392000</td>\n",
       "      <td>0.423333</td>\n",
       "    </tr>\n",
       "  </tbody>\n",
       "</table>\n",
       "</div>"
      ],
      "text/plain": [
       "                 Open       High        Low      Close    Volume  Adj Close\n",
       "Date                                                                       \n",
       "1980-12-31  30.481538  30.567692  30.443077  30.443077  25862523   0.473077\n",
       "1981-01-30  31.754762  31.826667  31.654762  31.654762   7249866   0.493810\n",
       "1981-02-27  26.480000  26.572105  26.407895  26.407895   4231831   0.411053\n",
       "1981-03-31  24.937727  25.016818  24.836364  24.836364   7962690   0.387727\n",
       "1981-04-30  27.286667  27.368095  27.227143  27.227143   6392000   0.423333"
      ]
     },
     "execution_count": 48,
     "metadata": {},
     "output_type": "execute_result"
    }
   ],
   "source": []
  },
  {
   "cell_type": "markdown",
   "metadata": {},
   "source": [
    "### Step 10.  What is the difference in days between the first day and the oldest"
   ]
  },
  {
   "cell_type": "code",
   "execution_count": 55,
   "metadata": {},
   "outputs": [
    {
     "output_type": "execute_result",
     "data": {
      "text/plain": "12265"
     },
     "metadata": {},
     "execution_count": 55
    }
   ],
   "source": [
    "first = month.index.max()\n",
    "oldest = month.index.min()\n",
    "difference = first - oldest\n",
    "difference.days\n"
   ]
  },
  {
   "cell_type": "code",
   "execution_count": 65,
   "metadata": {
    "collapsed": false
   },
   "outputs": [
    {
     "data": {
      "text/plain": [
       "12261"
      ]
     },
     "execution_count": 65,
     "metadata": {},
     "output_type": "execute_result"
    }
   ],
   "source": []
  },
  {
   "cell_type": "markdown",
   "metadata": {},
   "source": [
    "### Step 11.  How many months in the data we have?"
   ]
  },
  {
   "cell_type": "code",
   "execution_count": 64,
   "metadata": {},
   "outputs": [
    {
     "output_type": "execute_result",
     "data": {
      "text/plain": "404"
     },
     "metadata": {},
     "execution_count": 64
    }
   ],
   "source": [
    "len(Apple.resample(\"BM\").max())   # Con resample obtenemos lo datos en time de los meses , años..."
   ]
  },
  {
   "cell_type": "code",
   "execution_count": 66,
   "metadata": {
    "collapsed": false
   },
   "outputs": [
    {
     "data": {
      "text/plain": [
       "404"
      ]
     },
     "execution_count": 66,
     "metadata": {},
     "output_type": "execute_result"
    }
   ],
   "source": []
  },
  {
   "cell_type": "markdown",
   "metadata": {},
   "source": [
    "### Step 12. Plot the 'Adj Close' value. Set the size of the figure to 13.5 x 9 inches"
   ]
  },
  {
   "cell_type": "code",
   "execution_count": 78,
   "metadata": {},
   "outputs": [
    {
     "output_type": "execute_result",
     "data": {
      "text/plain": "<matplotlib.axes._subplots.AxesSubplot at 0x7fdd9dbd9a30>"
     },
     "metadata": {},
     "execution_count": 78
    },
    {
     "output_type": "display_data",
     "data": {
      "text/plain": "<Figure size 432x288 with 1 Axes>",
      "image/svg+xml": "<?xml version=\"1.0\" encoding=\"utf-8\" standalone=\"no\"?>\n<!DOCTYPE svg PUBLIC \"-//W3C//DTD SVG 1.1//EN\"\n  \"http://www.w3.org/Graphics/SVG/1.1/DTD/svg11.dtd\">\n<!-- Created with matplotlib (https://matplotlib.org/) -->\n<svg height=\"267.142752pt\" version=\"1.1\" viewBox=\"0 0 375.2875 267.142752\" width=\"375.2875pt\" xmlns=\"http://www.w3.org/2000/svg\" xmlns:xlink=\"http://www.w3.org/1999/xlink\">\n <defs>\n  <style type=\"text/css\">\n*{stroke-linecap:butt;stroke-linejoin:round;}\n  </style>\n </defs>\n <g id=\"figure_1\">\n  <g id=\"patch_1\">\n   <path d=\"M 0 267.142752 \nL 375.2875 267.142752 \nL 375.2875 0 \nL 0 0 \nz\n\" style=\"fill:none;\"/>\n  </g>\n  <g id=\"axes_1\">\n   <g id=\"patch_2\">\n    <path d=\"M 33.2875 218.158125 \nL 368.0875 218.158125 \nL 368.0875 22.318125 \nL 33.2875 22.318125 \nz\n\" style=\"fill:#ffffff;\"/>\n   </g>\n   <g id=\"matplotlib.axis_1\">\n    <g id=\"xtick_1\">\n     <g id=\"line2d_1\">\n      <defs>\n       <path d=\"M 0 0 \nL 0 3.5 \n\" id=\"m1326daf20b\" style=\"stroke:#000000;stroke-width:0.8;\"/>\n      </defs>\n      <g>\n       <use style=\"stroke:#000000;stroke-width:0.8;\" x=\"39.916675\" xlink:href=\"#m1326daf20b\" y=\"218.158125\"/>\n      </g>\n     </g>\n     <g id=\"text_1\">\n      <!-- 1980 -->\n      <defs>\n       <path d=\"M 12.40625 8.296875 \nL 28.515625 8.296875 \nL 28.515625 63.921875 \nL 10.984375 60.40625 \nL 10.984375 69.390625 \nL 28.421875 72.90625 \nL 38.28125 72.90625 \nL 38.28125 8.296875 \nL 54.390625 8.296875 \nL 54.390625 0 \nL 12.40625 0 \nz\n\" id=\"DejaVuSans-49\"/>\n       <path d=\"M 10.984375 1.515625 \nL 10.984375 10.5 \nQ 14.703125 8.734375 18.5 7.8125 \nQ 22.3125 6.890625 25.984375 6.890625 \nQ 35.75 6.890625 40.890625 13.453125 \nQ 46.046875 20.015625 46.78125 33.40625 \nQ 43.953125 29.203125 39.59375 26.953125 \nQ 35.25 24.703125 29.984375 24.703125 \nQ 19.046875 24.703125 12.671875 31.3125 \nQ 6.296875 37.9375 6.296875 49.421875 \nQ 6.296875 60.640625 12.9375 67.421875 \nQ 19.578125 74.21875 30.609375 74.21875 \nQ 43.265625 74.21875 49.921875 64.515625 \nQ 56.59375 54.828125 56.59375 36.375 \nQ 56.59375 19.140625 48.40625 8.859375 \nQ 40.234375 -1.421875 26.421875 -1.421875 \nQ 22.703125 -1.421875 18.890625 -0.6875 \nQ 15.09375 0.046875 10.984375 1.515625 \nz\nM 30.609375 32.421875 \nQ 37.25 32.421875 41.125 36.953125 \nQ 45.015625 41.5 45.015625 49.421875 \nQ 45.015625 57.28125 41.125 61.84375 \nQ 37.25 66.40625 30.609375 66.40625 \nQ 23.96875 66.40625 20.09375 61.84375 \nQ 16.21875 57.28125 16.21875 49.421875 \nQ 16.21875 41.5 20.09375 36.953125 \nQ 23.96875 32.421875 30.609375 32.421875 \nz\n\" id=\"DejaVuSans-57\"/>\n       <path d=\"M 31.78125 34.625 \nQ 24.75 34.625 20.71875 30.859375 \nQ 16.703125 27.09375 16.703125 20.515625 \nQ 16.703125 13.921875 20.71875 10.15625 \nQ 24.75 6.390625 31.78125 6.390625 \nQ 38.8125 6.390625 42.859375 10.171875 \nQ 46.921875 13.96875 46.921875 20.515625 \nQ 46.921875 27.09375 42.890625 30.859375 \nQ 38.875 34.625 31.78125 34.625 \nz\nM 21.921875 38.8125 \nQ 15.578125 40.375 12.03125 44.71875 \nQ 8.5 49.078125 8.5 55.328125 \nQ 8.5 64.0625 14.71875 69.140625 \nQ 20.953125 74.21875 31.78125 74.21875 \nQ 42.671875 74.21875 48.875 69.140625 \nQ 55.078125 64.0625 55.078125 55.328125 \nQ 55.078125 49.078125 51.53125 44.71875 \nQ 48 40.375 41.703125 38.8125 \nQ 48.828125 37.15625 52.796875 32.3125 \nQ 56.78125 27.484375 56.78125 20.515625 \nQ 56.78125 9.90625 50.3125 4.234375 \nQ 43.84375 -1.421875 31.78125 -1.421875 \nQ 19.734375 -1.421875 13.25 4.234375 \nQ 6.78125 9.90625 6.78125 20.515625 \nQ 6.78125 27.484375 10.78125 32.3125 \nQ 14.796875 37.15625 21.921875 38.8125 \nz\nM 18.3125 54.390625 \nQ 18.3125 48.734375 21.84375 45.5625 \nQ 25.390625 42.390625 31.78125 42.390625 \nQ 38.140625 42.390625 41.71875 45.5625 \nQ 45.3125 48.734375 45.3125 54.390625 \nQ 45.3125 60.0625 41.71875 63.234375 \nQ 38.140625 66.40625 31.78125 66.40625 \nQ 25.390625 66.40625 21.84375 63.234375 \nQ 18.3125 60.0625 18.3125 54.390625 \nz\n\" id=\"DejaVuSans-56\"/>\n       <path d=\"M 31.78125 66.40625 \nQ 24.171875 66.40625 20.328125 58.90625 \nQ 16.5 51.421875 16.5 36.375 \nQ 16.5 21.390625 20.328125 13.890625 \nQ 24.171875 6.390625 31.78125 6.390625 \nQ 39.453125 6.390625 43.28125 13.890625 \nQ 47.125 21.390625 47.125 36.375 \nQ 47.125 51.421875 43.28125 58.90625 \nQ 39.453125 66.40625 31.78125 66.40625 \nz\nM 31.78125 74.21875 \nQ 44.046875 74.21875 50.515625 64.515625 \nQ 56.984375 54.828125 56.984375 36.375 \nQ 56.984375 17.96875 50.515625 8.265625 \nQ 44.046875 -1.421875 31.78125 -1.421875 \nQ 19.53125 -1.421875 13.0625 8.265625 \nQ 6.59375 17.96875 6.59375 36.375 \nQ 6.59375 54.828125 13.0625 64.515625 \nQ 19.53125 74.21875 31.78125 74.21875 \nz\n\" id=\"DejaVuSans-48\"/>\n      </defs>\n      <g transform=\"translate(16.836484 244.463565)rotate(-30)scale(0.1 -0.1)\">\n       <use xlink:href=\"#DejaVuSans-49\"/>\n       <use x=\"63.623047\" xlink:href=\"#DejaVuSans-57\"/>\n       <use x=\"127.246094\" xlink:href=\"#DejaVuSans-56\"/>\n       <use x=\"190.869141\" xlink:href=\"#DejaVuSans-48\"/>\n      </g>\n     </g>\n    </g>\n    <g id=\"xtick_2\">\n     <g id=\"line2d_2\">\n      <g>\n       <use style=\"stroke:#000000;stroke-width:0.8;\" x=\"76.18413\" xlink:href=\"#m1326daf20b\" y=\"218.158125\"/>\n      </g>\n     </g>\n     <g id=\"text_2\">\n      <!-- 1984 -->\n      <defs>\n       <path d=\"M 37.796875 64.3125 \nL 12.890625 25.390625 \nL 37.796875 25.390625 \nz\nM 35.203125 72.90625 \nL 47.609375 72.90625 \nL 47.609375 25.390625 \nL 58.015625 25.390625 \nL 58.015625 17.1875 \nL 47.609375 17.1875 \nL 47.609375 0 \nL 37.796875 0 \nL 37.796875 17.1875 \nL 4.890625 17.1875 \nL 4.890625 26.703125 \nz\n\" id=\"DejaVuSans-52\"/>\n      </defs>\n      <g transform=\"translate(53.10394 244.463565)rotate(-30)scale(0.1 -0.1)\">\n       <use xlink:href=\"#DejaVuSans-49\"/>\n       <use x=\"63.623047\" xlink:href=\"#DejaVuSans-57\"/>\n       <use x=\"127.246094\" xlink:href=\"#DejaVuSans-56\"/>\n       <use x=\"190.869141\" xlink:href=\"#DejaVuSans-52\"/>\n      </g>\n     </g>\n    </g>\n    <g id=\"xtick_3\">\n     <g id=\"line2d_3\">\n      <g>\n       <use style=\"stroke:#000000;stroke-width:0.8;\" x=\"112.451586\" xlink:href=\"#m1326daf20b\" y=\"218.158125\"/>\n      </g>\n     </g>\n     <g id=\"text_3\">\n      <!-- 1988 -->\n      <g transform=\"translate(89.371395 244.463565)rotate(-30)scale(0.1 -0.1)\">\n       <use xlink:href=\"#DejaVuSans-49\"/>\n       <use x=\"63.623047\" xlink:href=\"#DejaVuSans-57\"/>\n       <use x=\"127.246094\" xlink:href=\"#DejaVuSans-56\"/>\n       <use x=\"190.869141\" xlink:href=\"#DejaVuSans-56\"/>\n      </g>\n     </g>\n    </g>\n    <g id=\"xtick_4\">\n     <g id=\"line2d_4\">\n      <g>\n       <use style=\"stroke:#000000;stroke-width:0.8;\" x=\"148.719041\" xlink:href=\"#m1326daf20b\" y=\"218.158125\"/>\n      </g>\n     </g>\n     <g id=\"text_4\">\n      <!-- 1992 -->\n      <defs>\n       <path d=\"M 19.1875 8.296875 \nL 53.609375 8.296875 \nL 53.609375 0 \nL 7.328125 0 \nL 7.328125 8.296875 \nQ 12.9375 14.109375 22.625 23.890625 \nQ 32.328125 33.6875 34.8125 36.53125 \nQ 39.546875 41.84375 41.421875 45.53125 \nQ 43.3125 49.21875 43.3125 52.78125 \nQ 43.3125 58.59375 39.234375 62.25 \nQ 35.15625 65.921875 28.609375 65.921875 \nQ 23.96875 65.921875 18.8125 64.3125 \nQ 13.671875 62.703125 7.8125 59.421875 \nL 7.8125 69.390625 \nQ 13.765625 71.78125 18.9375 73 \nQ 24.125 74.21875 28.421875 74.21875 \nQ 39.75 74.21875 46.484375 68.546875 \nQ 53.21875 62.890625 53.21875 53.421875 \nQ 53.21875 48.921875 51.53125 44.890625 \nQ 49.859375 40.875 45.40625 35.40625 \nQ 44.1875 33.984375 37.640625 27.21875 \nQ 31.109375 20.453125 19.1875 8.296875 \nz\n\" id=\"DejaVuSans-50\"/>\n      </defs>\n      <g transform=\"translate(125.638851 244.463565)rotate(-30)scale(0.1 -0.1)\">\n       <use xlink:href=\"#DejaVuSans-49\"/>\n       <use x=\"63.623047\" xlink:href=\"#DejaVuSans-57\"/>\n       <use x=\"127.246094\" xlink:href=\"#DejaVuSans-57\"/>\n       <use x=\"190.869141\" xlink:href=\"#DejaVuSans-50\"/>\n      </g>\n     </g>\n    </g>\n    <g id=\"xtick_5\">\n     <g id=\"line2d_5\">\n      <g>\n       <use style=\"stroke:#000000;stroke-width:0.8;\" x=\"184.986497\" xlink:href=\"#m1326daf20b\" y=\"218.158125\"/>\n      </g>\n     </g>\n     <g id=\"text_5\">\n      <!-- 1996 -->\n      <defs>\n       <path d=\"M 33.015625 40.375 \nQ 26.375 40.375 22.484375 35.828125 \nQ 18.609375 31.296875 18.609375 23.390625 \nQ 18.609375 15.53125 22.484375 10.953125 \nQ 26.375 6.390625 33.015625 6.390625 \nQ 39.65625 6.390625 43.53125 10.953125 \nQ 47.40625 15.53125 47.40625 23.390625 \nQ 47.40625 31.296875 43.53125 35.828125 \nQ 39.65625 40.375 33.015625 40.375 \nz\nM 52.59375 71.296875 \nL 52.59375 62.3125 \nQ 48.875 64.0625 45.09375 64.984375 \nQ 41.3125 65.921875 37.59375 65.921875 \nQ 27.828125 65.921875 22.671875 59.328125 \nQ 17.53125 52.734375 16.796875 39.40625 \nQ 19.671875 43.65625 24.015625 45.921875 \nQ 28.375 48.1875 33.59375 48.1875 \nQ 44.578125 48.1875 50.953125 41.515625 \nQ 57.328125 34.859375 57.328125 23.390625 \nQ 57.328125 12.15625 50.6875 5.359375 \nQ 44.046875 -1.421875 33.015625 -1.421875 \nQ 20.359375 -1.421875 13.671875 8.265625 \nQ 6.984375 17.96875 6.984375 36.375 \nQ 6.984375 53.65625 15.1875 63.9375 \nQ 23.390625 74.21875 37.203125 74.21875 \nQ 40.921875 74.21875 44.703125 73.484375 \nQ 48.484375 72.75 52.59375 71.296875 \nz\n\" id=\"DejaVuSans-54\"/>\n      </defs>\n      <g transform=\"translate(161.906307 244.463565)rotate(-30)scale(0.1 -0.1)\">\n       <use xlink:href=\"#DejaVuSans-49\"/>\n       <use x=\"63.623047\" xlink:href=\"#DejaVuSans-57\"/>\n       <use x=\"127.246094\" xlink:href=\"#DejaVuSans-57\"/>\n       <use x=\"190.869141\" xlink:href=\"#DejaVuSans-54\"/>\n      </g>\n     </g>\n    </g>\n    <g id=\"xtick_6\">\n     <g id=\"line2d_6\">\n      <g>\n       <use style=\"stroke:#000000;stroke-width:0.8;\" x=\"221.253952\" xlink:href=\"#m1326daf20b\" y=\"218.158125\"/>\n      </g>\n     </g>\n     <g id=\"text_6\">\n      <!-- 2000 -->\n      <g transform=\"translate(198.173762 244.463565)rotate(-30)scale(0.1 -0.1)\">\n       <use xlink:href=\"#DejaVuSans-50\"/>\n       <use x=\"63.623047\" xlink:href=\"#DejaVuSans-48\"/>\n       <use x=\"127.246094\" xlink:href=\"#DejaVuSans-48\"/>\n       <use x=\"190.869141\" xlink:href=\"#DejaVuSans-48\"/>\n      </g>\n     </g>\n    </g>\n    <g id=\"xtick_7\">\n     <g id=\"line2d_7\">\n      <g>\n       <use style=\"stroke:#000000;stroke-width:0.8;\" x=\"257.521408\" xlink:href=\"#m1326daf20b\" y=\"218.158125\"/>\n      </g>\n     </g>\n     <g id=\"text_7\">\n      <!-- 2004 -->\n      <g transform=\"translate(234.441218 244.463565)rotate(-30)scale(0.1 -0.1)\">\n       <use xlink:href=\"#DejaVuSans-50\"/>\n       <use x=\"63.623047\" xlink:href=\"#DejaVuSans-48\"/>\n       <use x=\"127.246094\" xlink:href=\"#DejaVuSans-48\"/>\n       <use x=\"190.869141\" xlink:href=\"#DejaVuSans-52\"/>\n      </g>\n     </g>\n    </g>\n    <g id=\"xtick_8\">\n     <g id=\"line2d_8\">\n      <g>\n       <use style=\"stroke:#000000;stroke-width:0.8;\" x=\"293.788864\" xlink:href=\"#m1326daf20b\" y=\"218.158125\"/>\n      </g>\n     </g>\n     <g id=\"text_8\">\n      <!-- 2008 -->\n      <g transform=\"translate(270.708673 244.463565)rotate(-30)scale(0.1 -0.1)\">\n       <use xlink:href=\"#DejaVuSans-50\"/>\n       <use x=\"63.623047\" xlink:href=\"#DejaVuSans-48\"/>\n       <use x=\"127.246094\" xlink:href=\"#DejaVuSans-48\"/>\n       <use x=\"190.869141\" xlink:href=\"#DejaVuSans-56\"/>\n      </g>\n     </g>\n    </g>\n    <g id=\"xtick_9\">\n     <g id=\"line2d_9\">\n      <g>\n       <use style=\"stroke:#000000;stroke-width:0.8;\" x=\"330.056319\" xlink:href=\"#m1326daf20b\" y=\"218.158125\"/>\n      </g>\n     </g>\n     <g id=\"text_9\">\n      <!-- 2012 -->\n      <g transform=\"translate(306.976129 244.463565)rotate(-30)scale(0.1 -0.1)\">\n       <use xlink:href=\"#DejaVuSans-50\"/>\n       <use x=\"63.623047\" xlink:href=\"#DejaVuSans-48\"/>\n       <use x=\"127.246094\" xlink:href=\"#DejaVuSans-49\"/>\n       <use x=\"190.869141\" xlink:href=\"#DejaVuSans-50\"/>\n      </g>\n     </g>\n    </g>\n    <g id=\"xtick_10\">\n     <g id=\"line2d_10\">\n      <g>\n       <use style=\"stroke:#000000;stroke-width:0.8;\" x=\"366.323775\" xlink:href=\"#m1326daf20b\" y=\"218.158125\"/>\n      </g>\n     </g>\n     <g id=\"text_10\">\n      <!-- 2016 -->\n      <g transform=\"translate(343.243584 244.463565)rotate(-30)scale(0.1 -0.1)\">\n       <use xlink:href=\"#DejaVuSans-50\"/>\n       <use x=\"63.623047\" xlink:href=\"#DejaVuSans-48\"/>\n       <use x=\"127.246094\" xlink:href=\"#DejaVuSans-49\"/>\n       <use x=\"190.869141\" xlink:href=\"#DejaVuSans-54\"/>\n      </g>\n     </g>\n    </g>\n    <g id=\"text_11\">\n     <!-- Date -->\n     <defs>\n      <path d=\"M 19.671875 64.796875 \nL 19.671875 8.109375 \nL 31.59375 8.109375 \nQ 46.6875 8.109375 53.6875 14.9375 \nQ 60.6875 21.78125 60.6875 36.53125 \nQ 60.6875 51.171875 53.6875 57.984375 \nQ 46.6875 64.796875 31.59375 64.796875 \nz\nM 9.8125 72.90625 \nL 30.078125 72.90625 \nQ 51.265625 72.90625 61.171875 64.09375 \nQ 71.09375 55.28125 71.09375 36.53125 \nQ 71.09375 17.671875 61.125 8.828125 \nQ 51.171875 0 30.078125 0 \nL 9.8125 0 \nz\n\" id=\"DejaVuSans-68\"/>\n      <path d=\"M 34.28125 27.484375 \nQ 23.390625 27.484375 19.1875 25 \nQ 14.984375 22.515625 14.984375 16.5 \nQ 14.984375 11.71875 18.140625 8.90625 \nQ 21.296875 6.109375 26.703125 6.109375 \nQ 34.1875 6.109375 38.703125 11.40625 \nQ 43.21875 16.703125 43.21875 25.484375 \nL 43.21875 27.484375 \nz\nM 52.203125 31.203125 \nL 52.203125 0 \nL 43.21875 0 \nL 43.21875 8.296875 \nQ 40.140625 3.328125 35.546875 0.953125 \nQ 30.953125 -1.421875 24.3125 -1.421875 \nQ 15.921875 -1.421875 10.953125 3.296875 \nQ 6 8.015625 6 15.921875 \nQ 6 25.140625 12.171875 29.828125 \nQ 18.359375 34.515625 30.609375 34.515625 \nL 43.21875 34.515625 \nL 43.21875 35.40625 \nQ 43.21875 41.609375 39.140625 45 \nQ 35.0625 48.390625 27.6875 48.390625 \nQ 23 48.390625 18.546875 47.265625 \nQ 14.109375 46.140625 10.015625 43.890625 \nL 10.015625 52.203125 \nQ 14.9375 54.109375 19.578125 55.046875 \nQ 24.21875 56 28.609375 56 \nQ 40.484375 56 46.34375 49.84375 \nQ 52.203125 43.703125 52.203125 31.203125 \nz\n\" id=\"DejaVuSans-97\"/>\n      <path d=\"M 18.3125 70.21875 \nL 18.3125 54.6875 \nL 36.8125 54.6875 \nL 36.8125 47.703125 \nL 18.3125 47.703125 \nL 18.3125 18.015625 \nQ 18.3125 11.328125 20.140625 9.421875 \nQ 21.96875 7.515625 27.59375 7.515625 \nL 36.8125 7.515625 \nL 36.8125 0 \nL 27.59375 0 \nQ 17.1875 0 13.234375 3.875 \nQ 9.28125 7.765625 9.28125 18.015625 \nL 9.28125 47.703125 \nL 2.6875 47.703125 \nL 2.6875 54.6875 \nL 9.28125 54.6875 \nL 9.28125 70.21875 \nz\n\" id=\"DejaVuSans-116\"/>\n      <path d=\"M 56.203125 29.59375 \nL 56.203125 25.203125 \nL 14.890625 25.203125 \nQ 15.484375 15.921875 20.484375 11.0625 \nQ 25.484375 6.203125 34.421875 6.203125 \nQ 39.59375 6.203125 44.453125 7.46875 \nQ 49.3125 8.734375 54.109375 11.28125 \nL 54.109375 2.78125 \nQ 49.265625 0.734375 44.1875 -0.34375 \nQ 39.109375 -1.421875 33.890625 -1.421875 \nQ 20.796875 -1.421875 13.15625 6.1875 \nQ 5.515625 13.8125 5.515625 26.8125 \nQ 5.515625 40.234375 12.765625 48.109375 \nQ 20.015625 56 32.328125 56 \nQ 43.359375 56 49.78125 48.890625 \nQ 56.203125 41.796875 56.203125 29.59375 \nz\nM 47.21875 32.234375 \nQ 47.125 39.59375 43.09375 43.984375 \nQ 39.0625 48.390625 32.421875 48.390625 \nQ 24.90625 48.390625 20.390625 44.140625 \nQ 15.875 39.890625 15.1875 32.171875 \nz\n\" id=\"DejaVuSans-101\"/>\n     </defs>\n     <g transform=\"translate(188.736719 257.863065)scale(0.1 -0.1)\">\n      <use xlink:href=\"#DejaVuSans-68\"/>\n      <use x=\"77.001953\" xlink:href=\"#DejaVuSans-97\"/>\n      <use x=\"138.28125\" xlink:href=\"#DejaVuSans-116\"/>\n      <use x=\"177.490234\" xlink:href=\"#DejaVuSans-101\"/>\n     </g>\n    </g>\n   </g>\n   <g id=\"matplotlib.axis_2\">\n    <g id=\"ytick_1\">\n     <g id=\"line2d_11\">\n      <defs>\n       <path d=\"M 0 0 \nL -3.5 0 \n\" id=\"m4e90c7c483\" style=\"stroke:#000000;stroke-width:0.8;\"/>\n      </defs>\n      <g>\n       <use style=\"stroke:#000000;stroke-width:0.8;\" x=\"33.2875\" xlink:href=\"#m4e90c7c483\" y=\"209.571219\"/>\n      </g>\n     </g>\n     <g id=\"text_12\">\n      <!-- 0 -->\n      <g transform=\"translate(19.925 213.370437)scale(0.1 -0.1)\">\n       <use xlink:href=\"#DejaVuSans-48\"/>\n      </g>\n     </g>\n    </g>\n    <g id=\"ytick_2\">\n     <g id=\"line2d_12\">\n      <g>\n       <use style=\"stroke:#000000;stroke-width:0.8;\" x=\"33.2875\" xlink:href=\"#m4e90c7c483\" y=\"172.522761\"/>\n      </g>\n     </g>\n     <g id=\"text_13\">\n      <!-- 20 -->\n      <g transform=\"translate(13.5625 176.32198)scale(0.1 -0.1)\">\n       <use xlink:href=\"#DejaVuSans-50\"/>\n       <use x=\"63.623047\" xlink:href=\"#DejaVuSans-48\"/>\n      </g>\n     </g>\n    </g>\n    <g id=\"ytick_3\">\n     <g id=\"line2d_13\">\n      <g>\n       <use style=\"stroke:#000000;stroke-width:0.8;\" x=\"33.2875\" xlink:href=\"#m4e90c7c483\" y=\"135.474303\"/>\n      </g>\n     </g>\n     <g id=\"text_14\">\n      <!-- 40 -->\n      <g transform=\"translate(13.5625 139.273522)scale(0.1 -0.1)\">\n       <use xlink:href=\"#DejaVuSans-52\"/>\n       <use x=\"63.623047\" xlink:href=\"#DejaVuSans-48\"/>\n      </g>\n     </g>\n    </g>\n    <g id=\"ytick_4\">\n     <g id=\"line2d_14\">\n      <g>\n       <use style=\"stroke:#000000;stroke-width:0.8;\" x=\"33.2875\" xlink:href=\"#m4e90c7c483\" y=\"98.425846\"/>\n      </g>\n     </g>\n     <g id=\"text_15\">\n      <!-- 60 -->\n      <g transform=\"translate(13.5625 102.225064)scale(0.1 -0.1)\">\n       <use xlink:href=\"#DejaVuSans-54\"/>\n       <use x=\"63.623047\" xlink:href=\"#DejaVuSans-48\"/>\n      </g>\n     </g>\n    </g>\n    <g id=\"ytick_5\">\n     <g id=\"line2d_15\">\n      <g>\n       <use style=\"stroke:#000000;stroke-width:0.8;\" x=\"33.2875\" xlink:href=\"#m4e90c7c483\" y=\"61.377388\"/>\n      </g>\n     </g>\n     <g id=\"text_16\">\n      <!-- 80 -->\n      <g transform=\"translate(13.5625 65.176607)scale(0.1 -0.1)\">\n       <use xlink:href=\"#DejaVuSans-56\"/>\n       <use x=\"63.623047\" xlink:href=\"#DejaVuSans-48\"/>\n      </g>\n     </g>\n    </g>\n    <g id=\"ytick_6\">\n     <g id=\"line2d_16\">\n      <g>\n       <use style=\"stroke:#000000;stroke-width:0.8;\" x=\"33.2875\" xlink:href=\"#m4e90c7c483\" y=\"24.32893\"/>\n      </g>\n     </g>\n     <g id=\"text_17\">\n      <!-- 100 -->\n      <g transform=\"translate(7.2 28.128149)scale(0.1 -0.1)\">\n       <use xlink:href=\"#DejaVuSans-49\"/>\n       <use x=\"63.623047\" xlink:href=\"#DejaVuSans-48\"/>\n       <use x=\"127.246094\" xlink:href=\"#DejaVuSans-48\"/>\n      </g>\n     </g>\n    </g>\n   </g>\n   <g id=\"line2d_17\">\n    <path clip-path=\"url(#p8eee84f9a1)\" d=\"M 48.505682 208.737628 \nL 48.654624 208.811725 \nL 48.679448 208.756153 \nL 49.101451 208.589435 \nL 49.126275 208.645007 \nL 49.175922 208.70058 \nL 49.200746 208.645007 \nL 50.392285 208.83025 \nL 50.566051 208.83025 \nL 50.690169 208.922871 \nL 50.839112 208.904346 \nL 51.012878 208.793201 \nL 51.236291 208.867298 \nL 51.36041 208.811725 \nL 51.459705 208.774677 \nL 52.477477 208.70058 \nL 52.651243 208.626483 \nL 52.750538 208.607959 \nL 52.775362 208.663531 \nL 53.445602 208.756153 \nL 53.520073 208.83025 \nL 54.215138 208.867298 \nL 54.413727 208.848774 \nL 55.977622 209.034016 \nL 56.573391 208.996968 \nL 59.726003 209.089589 \nL 59.924593 209.163686 \nL 59.949417 209.126637 \nL 60.048712 209.05254 \nL 60.098359 209.089589 \nL 61.860843 209.18221 \nL 62.034609 209.200734 \nL 62.208376 209.200734 \nL 63.896388 209.108113 \nL 64.045331 209.071065 \nL 64.144626 209.034016 \nL 64.492158 209.05254 \nL 64.963808 208.978443 \nL 65.137575 208.885822 \nL 65.609225 208.793201 \nL 65.683696 208.682056 \nL 65.70852 208.70058 \nL 65.832639 208.682056 \nL 65.956757 208.663531 \nL 66.130523 208.756153 \nL 66.502879 208.589435 \nL 66.825588 208.70058 \nL 67.446181 208.626483 \nL 68.488777 208.21895 \nL 68.985251 208.34862 \nL 69.183841 208.330095 \nL 69.630668 208.34862 \nL 69.77961 208.21895 \nL 69.804434 208.237474 \nL 69.854081 208.070756 \nL 69.878905 208.107805 \nL 70.127142 208.163377 \nL 70.17679 208.08928 \nL 70.300908 207.996659 \nL 70.64844 207.904038 \nL 70.747735 207.848465 \nL 70.896678 207.885514 \nL 70.995973 207.755844 \nL 71.020796 207.829941 \nL 71.616566 208.144853 \nL 72.137864 208.311571 \nL 72.237159 208.441241 \nL 72.386101 208.57091 \nL 72.932223 208.645007 \nL 73.006694 208.682056 \nL 73.105989 208.626483 \nL 73.18046 208.478289 \nL 73.279755 208.441241 \nL 73.428697 208.682056 \nL 73.453521 208.645007 \nL 73.527992 208.719104 \nL 73.676934 208.626483 \nL 73.8507 208.922871 \nL 73.875524 208.904346 \nL 74.123761 208.996968 \nL 74.148585 209.015492 \nL 74.173409 208.959919 \nL 74.198232 208.904346 \nL 74.223056 208.922871 \nL 74.545765 208.959919 \nL 75.762127 208.867298 \nL 75.935893 208.848774 \nL 76.134483 208.867298 \nL 76.730252 208.737628 \nL 76.829547 208.811725 \nL 77.177079 208.867298 \nL 78.840268 208.774677 \nL 79.014034 208.774677 \nL 79.088505 208.70058 \nL 79.436037 208.645007 \nL 80.230397 208.737628 \nL 80.428986 208.70058 \nL 80.602752 208.848774 \nL 80.627576 208.811725 \nL 81.694996 208.756153 \nL 81.843938 208.756153 \nL 82.017704 208.756153 \nL 82.911358 208.848774 \nL 83.358185 208.885822 \nL 83.531951 208.811725 \nL 84.127721 208.904346 \nL 84.301487 208.885822 \nL 84.599371 208.811725 \nL 84.72349 208.793201 \nL 84.897256 208.793201 \nL 84.92208 208.737628 \nL 84.996551 208.793201 \nL 85.641968 208.70058 \nL 85.766086 208.719104 \nL 85.964676 208.70058 \nL 86.485974 208.774677 \nL 86.510798 208.811725 \nL 86.560445 208.774677 \nL 87.751984 208.959919 \nL 88.819404 209.05254 \nL 89.266231 209.108113 \nL 92.940141 209.015492 \nL 93.138731 208.996968 \nL 94.652978 208.904346 \nL 94.826744 208.885822 \nL 95.00051 208.922871 \nL 95.149453 208.885822 \nL 96.241696 208.811725 \nL 96.365815 208.793201 \nL 96.539581 208.756153 \nL 96.638876 208.793201 \nL 97.110526 208.719104 \nL 97.234645 208.645007 \nL 97.408411 208.645007 \nL 97.681472 208.533862 \nL 99.195719 208.607959 \nL 99.245366 208.663531 \nL 99.319838 208.607959 \nL 99.419132 208.589435 \nL 99.66737 208.663531 \nL 99.940431 208.533862 \nL 100.238315 208.496813 \nL 100.287963 208.496813 \nL 100.5362 208.57091 \nL 100.561024 208.533862 \nL 100.610671 208.626483 \nL 100.635495 208.663531 \nL 100.709966 208.607959 \nL 100.784437 208.589435 \nL 100.809261 208.607959 \nL 100.983027 208.589435 \nL 101.305735 208.626483 \nL 101.504325 208.607959 \nL 101.827033 208.589435 \nL 102.025623 208.533862 \nL 102.373155 208.533862 \nL 102.795158 208.34862 \nL 103.688812 208.274523 \nL 103.837755 208.033708 \nL 103.887402 208.163377 \nL 103.93705 208.126329 \nL 104.036344 208.052232 \nL 104.110816 207.978135 \nL 104.284582 208.015183 \nL 104.383877 208.052232 \nL 104.557643 207.663223 \nL 104.632114 207.811417 \nL 104.731409 207.681747 \nL 104.80588 207.552078 \nL 105.054117 207.700272 \nL 105.078941 207.644699 \nL 105.153412 207.73732 \nL 105.47612 207.626175 \nL 105.575415 207.774369 \nL 105.600239 207.718796 \nL 105.67471 207.496505 \nL 105.749181 207.552078 \nL 105.774005 207.60765 \nL 105.823652 207.515029 \nL 105.848476 207.552078 \nL 105.947771 207.60765 \nL 105.997418 207.515029 \nL 106.146361 207.422408 \nL 106.369774 207.25569 \nL 106.990367 207.311263 \nL 107.040015 207.25569 \nL 107.064838 207.292739 \nL 107.337899 207.311263 \nL 107.486842 207.311263 \nL 107.561313 207.163069 \nL 107.586136 207.200117 \nL 107.710255 207.144545 \nL 107.834374 207.218642 \nL 108.107435 207.366835 \nL 108.256377 207.033399 \nL 108.281201 207.070448 \nL 108.430143 207.163069 \nL 108.529438 207.12602 \nL 108.554262 207.144545 \nL 108.703204 207.237166 \nL 108.901794 206.699963 \nL 108.976265 206.737012 \nL 109.125207 206.570294 \nL 109.150031 206.496197 \nL 109.224502 206.551769 \nL 109.323797 206.570294 \nL 109.398268 206.440624 \nL 109.447916 206.570294 \nL 109.596858 206.681439 \nL 109.671329 206.4221 \nL 109.919566 206.662915 \nL 110.018861 206.236858 \nL 110.118156 206.4221 \nL 110.14298 206.29243 \nL 110.267098 206.144236 \nL 110.366393 206.440624 \nL 110.515335 206.570294 \nL 110.788396 207.959611 \nL 110.862868 207.292739 \nL 110.962162 207.329787 \nL 111.01181 207.496505 \nL 111.061457 207.38536 \nL 111.160752 207.477981 \nL 111.185576 207.422408 \nL 111.2104 207.329787 \nL 111.235223 207.422408 \nL 111.582755 207.533554 \nL 111.756522 207.792893 \nL 112.252996 207.107496 \nL 112.352291 207.237166 \nL 112.377115 207.12602 \nL 112.526057 206.977827 \nL 112.600528 206.996351 \nL 112.625352 207.25569 \nL 112.699823 207.107496 \nL 112.774294 207.12602 \nL 112.799118 207.088972 \nL 112.898413 207.088972 \nL 112.972884 207.292739 \nL 113.221121 207.144545 \nL 113.394887 207.329787 \nL 113.419711 207.274214 \nL 113.494182 207.181593 \nL 113.667948 207.144545 \nL 113.742419 207.051924 \nL 113.792067 207.107496 \nL 113.841714 207.144545 \nL 114.139599 206.848157 \nL 114.189246 206.90373 \nL 114.338188 206.959302 \nL 114.809839 207.292739 \nL 114.834663 207.144545 \nL 114.88431 207.181593 \nL 115.008429 207.181593 \nL 115.058076 207.274214 \nL 115.132547 207.237166 \nL 115.504903 207.144545 \nL 115.554551 207.144545 \nL 115.579374 207.181593 \nL 116.100673 207.25569 \nL 116.572323 206.90373 \nL 116.696442 206.996351 \nL 116.746089 206.922254 \nL 116.795737 206.959302 \nL 116.895032 206.885206 \nL 117.068798 206.811109 \nL 117.093621 206.866681 \nL 117.267387 206.959302 \nL 117.441153 206.996351 \nL 117.565272 207.088972 \nL 117.639743 207.088972 \nL 117.739038 206.959302 \nL 117.763862 206.977827 \nL 117.838333 206.996351 \nL 118.161041 207.088972 \nL 118.28516 207.274214 \nL 118.309984 207.200117 \nL 118.359631 207.218642 \nL 118.458926 207.181593 \nL 118.48375 207.237166 \nL 118.508573 207.311263 \nL 118.533397 207.25569 \nL 118.68234 207.311263 \nL 118.831282 207.12602 \nL 118.980224 207.144545 \nL 119.029872 206.996351 \nL 119.054695 207.014875 \nL 119.650465 207.329787 \nL 119.724936 207.144545 \nL 119.749759 207.181593 \nL 120.171763 207.38536 \nL 120.246234 207.274214 \nL 120.271058 207.329787 \nL 120.444824 207.348311 \nL 120.693061 207.440932 \nL 121.040593 207.311263 \nL 121.139888 207.218642 \nL 121.412949 207.200117 \nL 121.586715 207.200117 \nL 121.735657 207.051924 \nL 121.785305 207.107496 \nL 121.834952 207.033399 \nL 121.909423 207.014875 \nL 121.959071 207.237166 \nL 122.008718 207.181593 \nL 122.15766 207.12602 \nL 122.256955 207.38536 \nL 122.281779 207.366835 \nL 122.331426 207.237166 \nL 122.35625 207.274214 \nL 122.703782 207.422408 \nL 122.852725 207.422408 \nL 123.051314 207.533554 \nL 123.324375 207.496505 \nL 123.522965 207.589126 \nL 123.547789 207.552078 \nL 123.721555 207.533554 \nL 123.746378 207.477981 \nL 123.82085 207.515029 \nL 123.845673 207.552078 \nL 123.895321 207.459457 \nL 124.044263 207.311263 \nL 124.193205 207.218642 \nL 124.242853 207.181593 \nL 124.267677 207.218642 \nL 124.615209 207.144545 \nL 125.310273 206.681439 \nL 125.484039 206.811109 \nL 125.608158 206.662915 \nL 125.632981 206.77406 \nL 125.781924 207.070448 \nL 125.906042 207.014875 \nL 126.079808 207.181593 \nL 126.601106 207.25569 \nL 126.650754 207.329787 \nL 126.700401 207.25569 \nL 126.849344 207.144545 \nL 126.998286 206.977827 \nL 127.172052 207.200117 \nL 127.196876 207.163069 \nL 127.370642 206.977827 \nL 127.519584 206.940778 \nL 128.413238 206.885206 \nL 128.537357 206.662915 \nL 128.611828 206.866681 \nL 128.711123 206.792584 \nL 128.76077 206.699963 \nL 128.785594 206.737012 \nL 129.033831 206.866681 \nL 129.058655 206.829633 \nL 129.083478 206.848157 \nL 129.207597 207.014875 \nL 129.381363 206.829633 \nL 129.43101 206.959302 \nL 129.480658 206.922254 \nL 129.654424 206.922254 \nL 129.82819 206.977827 \nL 129.927485 206.90373 \nL 130.126075 207.440932 \nL 130.175722 207.570602 \nL 130.250193 207.515029 \nL 130.448783 207.477981 \nL 130.49843 207.533554 \nL 130.523254 207.496505 \nL 130.771491 207.329787 \nL 130.821139 207.440932 \nL 130.945257 207.552078 \nL 130.970081 207.515029 \nL 130.994905 207.60765 \nL 131.019729 207.663223 \nL 131.044552 207.552078 \nL 131.292789 207.60765 \nL 131.466556 207.496505 \nL 131.739616 207.570602 \nL 132.087149 207.570602 \nL 132.409857 207.38536 \nL 132.509152 207.051924 \nL 132.533976 207.12602 \nL 132.707742 207.088972 \nL 132.856684 207.181593 \nL 132.881508 207.088972 \nL 132.955979 207.200117 \nL 133.253863 207.014875 \nL 133.402806 207.274214 \nL 133.651043 207.200117 \nL 133.824809 207.051924 \nL 134.073046 207.218642 \nL 134.09787 207.107496 \nL 134.147517 207.070448 \nL 134.172341 207.200117 \nL 134.420578 207.144545 \nL 134.519873 207.292739 \nL 135.016348 207.014875 \nL 135.041171 206.90373 \nL 135.140466 206.959302 \nL 135.190114 206.977827 \nL 135.214937 206.90373 \nL 135.36388 206.755536 \nL 135.388703 206.792584 \nL 135.537646 207.088972 \nL 135.636941 207.107496 \nL 135.686588 207.051924 \nL 135.736235 207.107496 \nL 135.885178 206.977827 \nL 136.009296 207.218642 \nL 136.03412 207.181593 \nL 136.083768 207.274214 \nL 136.183062 207.200117 \nL 136.23271 207.274214 \nL 136.381652 207.477981 \nL 136.406476 207.515029 \nL 136.4313 207.459457 \nL 136.530595 207.292739 \nL 136.605066 207.366835 \nL 136.853303 207.440932 \nL 136.952598 207.552078 \nL 137.076716 207.626175 \nL 137.275306 207.885514 \nL 137.374601 207.755844 \nL 137.399425 207.811417 \nL 137.424248 207.959611 \nL 137.473896 207.904038 \nL 137.548367 207.829941 \nL 137.573191 207.904038 \nL 137.598014 207.996659 \nL 137.647662 207.885514 \nL 137.722133 207.922562 \nL 137.746957 208.08928 \nL 137.796604 207.86699 \nL 137.821428 207.700272 \nL 137.920723 207.718796 \nL 138.069665 207.792893 \nL 138.466845 207.366835 \nL 138.615787 207.440932 \nL 138.789553 207.329787 \nL 138.864024 207.366835 \nL 139.012967 207.107496 \nL 139.03779 207.033399 \nL 139.112261 207.070448 \nL 139.161909 207.200117 \nL 139.211556 207.181593 \nL 139.335675 207.070448 \nL 139.385322 206.885206 \nL 139.459794 206.940778 \nL 139.832149 206.977827 \nL 139.90662 206.755536 \nL 139.981092 206.811109 \nL 140.427919 206.236858 \nL 140.50239 206.273906 \nL 140.676156 205.903421 \nL 140.750627 206.162761 \nL 140.775451 206.125712 \nL 140.899569 205.921946 \nL 140.949217 205.996043 \nL 141.098159 206.144236 \nL 141.122983 206.107188 \nL 141.197454 206.070139 \nL 141.271925 205.532937 \nL 141.296749 205.681131 \nL 141.396044 205.8108 \nL 141.470515 205.607034 \nL 141.56981 205.403267 \nL 141.594633 205.514413 \nL 141.644281 205.773752 \nL 141.718752 205.699655 \nL 141.743576 205.384743 \nL 141.793223 205.495888 \nL 141.892518 205.45884 \nL 141.917342 205.218025 \nL 141.991813 205.421791 \nL 142.066284 205.384743 \nL 142.091108 205.45884 \nL 142.115932 205.569985 \nL 142.140755 205.310646 \nL 142.165579 205.273598 \nL 142.339345 205.996043 \nL 142.43864 205.884897 \nL 142.463464 205.921946 \nL 142.63723 206.737012 \nL 142.686877 206.625866 \nL 142.959938 206.366527 \nL 143.10888 206.90373 \nL 143.133704 206.848157 \nL 143.208175 206.811109 \nL 143.381941 206.755536 \nL 143.456413 206.607342 \nL 143.50606 206.681439 \nL 143.729473 207.107496 \nL 143.903239 207.051924 \nL 144.1763 207.033399 \nL 144.37489 206.737012 \nL 144.399714 206.755536 \nL 144.499009 206.829633 \nL 144.548656 207.014875 \nL 144.598304 206.811109 \nL 144.896188 206.792584 \nL 144.945836 206.570294 \nL 145.020307 206.662915 \nL 145.24372 206.273906 \nL 145.367839 206.533245 \nL 145.392663 206.496197 \nL 145.44231 206.310954 \nL 145.467134 206.385051 \nL 145.765019 206.477672 \nL 145.814666 206.477672 \nL 145.889137 206.366527 \nL 145.988432 206.644391 \nL 146.062903 206.718487 \nL 146.087727 206.625866 \nL 146.162198 206.514721 \nL 146.335964 206.625866 \nL 146.435259 206.514721 \nL 146.460083 206.570294 \nL 146.584201 206.681439 \nL 146.782791 206.403576 \nL 146.931733 206.273906 \nL 147.328913 206.681439 \nL 147.353737 206.570294 \nL 147.477855 206.29243 \nL 147.502679 206.310954 \nL 147.527503 206.273906 \nL 147.552326 206.551769 \nL 147.651621 206.477672 \nL 147.676445 206.514721 \nL 147.726092 206.477672 \nL 148.048801 206.551769 \nL 148.172919 206.607342 \nL 148.346685 206.514721 \nL 148.371509 206.440624 \nL 148.421157 206.533245 \nL 148.694218 206.162761 \nL 148.743865 205.977518 \nL 148.768689 206.014567 \nL 148.84316 206.070139 \nL 148.867984 205.996043 \nL 149.04175 205.681131 \nL 149.066573 205.736703 \nL 149.091397 205.773752 \nL 149.116221 205.662606 \nL 149.190692 205.699655 \nL 149.215516 205.884897 \nL 149.289987 205.662606 \nL 149.463753 205.662606 \nL 149.587871 205.569985 \nL 149.736814 205.773752 \nL 149.761638 205.625558 \nL 149.811285 205.699655 \nL 149.935404 205.829324 \nL 150.10917 205.347695 \nL 150.307759 205.736703 \nL 150.332583 205.699655 \nL 150.754586 205.755228 \nL 150.77941 205.644082 \nL 150.829057 205.699655 \nL 150.953176 206.051615 \nL 150.978 205.996043 \nL 151.027647 205.996043 \nL 151.102118 205.903421 \nL 151.201413 206.218333 \nL 151.300708 206.014567 \nL 151.325532 205.903421 \nL 151.350356 205.996043 \nL 151.548945 206.162761 \nL 151.64824 206.29243 \nL 151.673064 206.125712 \nL 151.797183 205.903421 \nL 151.995772 205.8108 \nL 152.020596 205.773752 \nL 152.04542 205.866373 \nL 152.219186 205.996043 \nL 152.24401 205.977518 \nL 152.492247 206.088664 \nL 152.690837 206.29243 \nL 152.839779 206.385051 \nL 152.939074 206.866681 \nL 153.038369 206.829633 \nL 153.236958 206.607342 \nL 153.385901 206.885206 \nL 153.534843 206.718487 \nL 153.609314 206.625866 \nL 153.708609 206.866681 \nL 153.733433 206.792584 \nL 153.758257 206.885206 \nL 153.807904 206.792584 \nL 153.882375 206.829633 \nL 153.907199 206.755536 \nL 153.956846 206.699963 \nL 153.98167 206.737012 \nL 154.329202 206.866681 \nL 154.502968 206.866681 \nL 154.65191 206.866681 \nL 154.800853 206.625866 \nL 154.8505 206.699963 \nL 155.098737 206.570294 \nL 155.123561 206.644391 \nL 155.173209 206.77406 \nL 155.198032 206.737012 \nL 155.371798 206.811109 \nL 155.793802 206.90373 \nL 155.992391 206.588818 \nL 156.066863 206.607342 \nL 156.215805 206.329479 \nL 156.240629 206.385051 \nL 156.364747 206.385051 \nL 156.513689 206.144236 \nL 156.662632 206.088664 \nL 156.687456 206.218333 \nL 156.737103 206.033091 \nL 156.761927 206.070139 \nL 156.935693 206.144236 \nL 157.18393 206.051615 \nL 157.283225 206.070139 \nL 157.38252 206.144236 \nL 157.407343 206.218333 \nL 157.456991 206.033091 \nL 157.556286 205.884897 \nL 157.605933 205.977518 \nL 157.779699 205.94047 \nL 157.878994 206.033091 \nL 157.903818 205.958994 \nL 158.05276 205.662606 \nL 158.127231 205.607034 \nL 158.152055 205.903421 \nL 158.400292 205.921946 \nL 158.425116 205.866373 \nL 158.499587 205.94047 \nL 158.574058 205.847849 \nL 158.623706 205.921946 \nL 158.797472 206.181285 \nL 158.946414 206.329479 \nL 158.971238 206.273906 \nL 159.095356 206.199809 \nL 159.269122 206.329479 \nL 159.442888 206.125712 \nL 159.616655 206.088664 \nL 159.815244 206.348003 \nL 159.840068 206.29243 \nL 159.864892 206.236858 \nL 159.889715 206.329479 \nL 160.063481 206.514721 \nL 160.361366 206.588818 \nL 160.38619 206.681439 \nL 160.411014 206.625866 \nL 160.758546 206.440624 \nL 160.857841 206.310954 \nL 160.932312 206.236858 \nL 161.031607 206.236858 \nL 161.05643 206.329479 \nL 161.081254 206.181285 \nL 161.106078 206.181285 \nL 161.230196 206.070139 \nL 161.25502 205.977518 \nL 161.279844 206.070139 \nL 161.577728 206.088664 \nL 161.701847 206.459148 \nL 161.974908 207.070448 \nL 162.049379 207.144545 \nL 162.099027 207.088972 \nL 162.12385 207.014875 \nL 162.148674 207.12602 \nL 162.272793 207.163069 \nL 162.297616 207.25569 \nL 162.32244 207.218642 \nL 162.645148 207.38536 \nL 162.744443 207.996659 \nL 162.769267 207.922562 \nL 162.843738 207.959611 \nL 163.265741 207.755844 \nL 163.290565 207.829941 \nL 163.340213 207.959611 \nL 163.365036 207.904038 \nL 163.687745 207.922562 \nL 163.886334 207.996659 \nL 164.134572 208.015183 \nL 164.159395 208.08928 \nL 164.233867 208.015183 \nL 164.755165 208.181902 \nL 164.904107 208.107805 \nL 165.003402 207.829941 \nL 165.028226 207.86699 \nL 165.053049 207.86699 \nL 165.102697 207.718796 \nL 165.177168 207.73732 \nL 165.201992 207.73732 \nL 165.226815 207.626175 \nL 165.276463 207.681747 \nL 165.5247 207.681747 \nL 165.549524 207.718796 \nL 165.599171 207.644699 \nL 165.92188 207.533554 \nL 166.294235 207.718796 \nL 166.319059 207.829941 \nL 166.418354 207.774369 \nL 166.492825 207.755844 \nL 166.741062 207.811417 \nL 166.964476 207.496505 \nL 167.014123 207.533554 \nL 167.088594 207.496505 \nL 167.113418 207.60765 \nL 167.163066 207.681747 \nL 167.187889 207.663223 \nL 167.336832 207.73732 \nL 167.436126 207.422408 \nL 167.46095 207.477981 \nL 167.609893 207.552078 \nL 167.882953 207.274214 \nL 168.826255 207.366835 \nL 169.049668 207.552078 \nL 169.198611 207.496505 \nL 169.372377 207.589126 \nL 169.570966 207.829941 \nL 169.620614 207.73732 \nL 169.719909 207.644699 \nL 169.769556 207.700272 \nL 169.893675 207.700272 \nL 169.943322 207.533554 \nL 169.968146 207.570602 \nL 170.241207 207.755844 \nL 170.290854 207.589126 \nL 170.315678 207.644699 \nL 171.010742 207.922562 \nL 171.134861 207.941087 \nL 171.159685 208.015183 \nL 171.184508 207.978135 \nL 171.705806 207.811417 \nL 171.805101 207.848465 \nL 171.829925 207.922562 \nL 171.854749 207.829941 \nL 171.954044 207.60765 \nL 171.978867 207.626175 \nL 172.003691 207.644699 \nL 172.028515 207.589126 \nL 172.053338 207.477981 \nL 172.12781 207.496505 \nL 172.152633 207.552078 \nL 172.227105 207.515029 \nL 172.748403 207.348311 \nL 173.046287 207.311263 \nL 173.344172 207.366835 \nL 173.443467 207.459457 \nL 173.716528 207.459457 \nL 173.741351 207.218642 \nL 173.790999 207.25569 \nL 173.915118 206.940778 \nL 173.964765 207.014875 \nL 174.113707 207.014875 \nL 174.26265 206.866681 \nL 174.312297 206.940778 \nL 174.386768 206.885206 \nL 174.411592 206.885206 \nL 174.486063 207.051924 \nL 174.833595 207.070448 \nL 174.957714 207.274214 \nL 175.007361 207.218642 \nL 175.13148 207.237166 \nL 175.156304 207.311263 \nL 175.181127 207.292739 \nL 175.280422 207.218642 \nL 175.305246 207.274214 \nL 175.429364 207.292739 \nL 175.528659 207.237166 \nL 175.702425 207.144545 \nL 176.025134 207.144545 \nL 176.174076 206.644391 \nL 176.298195 206.792584 \nL 176.372666 206.699963 \nL 176.521608 207.014875 \nL 176.546432 207.107496 \nL 176.645727 207.070448 \nL 177.06773 206.866681 \nL 177.340791 207.181593 \nL 177.440086 207.051924 \nL 177.688323 207.181593 \nL 177.73797 207.38536 \nL 177.787618 207.366835 \nL 177.886913 207.292739 \nL 177.911736 207.181593 \nL 177.961384 207.200117 \nL 178.035855 207.237166 \nL 178.085503 207.422408 \nL 178.13515 207.366835 \nL 178.408211 207.200117 \nL 178.433035 207.12602 \nL 178.457858 207.181593 \nL 178.581977 207.218642 \nL 178.606801 207.292739 \nL 178.656448 207.12602 \nL 179.078451 207.033399 \nL 179.277041 206.829633 \nL 179.450807 206.829633 \nL 179.699044 206.922254 \nL 179.87281 206.829633 \nL 180.145871 206.588818 \nL 180.170695 206.459148 \nL 180.220342 206.514721 \nL 180.543051 206.607342 \nL 180.642346 206.514721 \nL 180.691993 206.607342 \nL 180.741641 206.514721 \nL 180.840936 206.551769 \nL 180.915407 206.829633 \nL 181.064349 206.625866 \nL 181.089173 206.718487 \nL 181.33741 206.848157 \nL 181.411881 206.885206 \nL 181.436705 206.866681 \nL 181.908355 206.829633 \nL 181.958003 206.866681 \nL 182.20624 206.77406 \nL 182.231064 206.866681 \nL 182.280711 207.051924 \nL 182.305535 207.311263 \nL 182.40483 207.25569 \nL 182.826833 207.329787 \nL 182.975775 207.348311 \nL 183.124718 207.218642 \nL 183.149542 207.38536 \nL 183.248836 207.348311 \nL 183.521897 207.274214 \nL 183.794958 206.959302 \nL 183.819782 206.977827 \nL 183.943901 207.144545 \nL 183.968724 207.12602 \nL 184.53967 207.144545 \nL 184.638965 207.533554 \nL 184.688612 207.515029 \nL 185.060968 207.570602 \nL 185.160263 207.38536 \nL 185.185087 207.496505 \nL 185.234734 207.366835 \nL 185.259558 207.422408 \nL 185.383676 207.422408 \nL 185.433324 207.681747 \nL 185.507795 207.644699 \nL 185.557442 207.533554 \nL 185.60709 207.626175 \nL 185.706385 207.848465 \nL 185.780856 207.718796 \nL 186.053917 207.792893 \nL 186.128388 207.829941 \nL 186.376625 207.700272 \nL 186.550391 207.904038 \nL 186.575215 207.885514 \nL 186.724157 207.941087 \nL 186.997218 207.959611 \nL 187.170984 208.015183 \nL 187.295103 208.015183 \nL 187.419221 208.033708 \nL 187.468869 207.922562 \nL 187.518516 207.959611 \nL 187.766754 207.978135 \nL 187.866048 208.015183 \nL 188.114286 207.959611 \nL 188.21358 207.848465 \nL 189.330648 208.163377 \nL 189.380295 208.311571 \nL 189.429943 208.237474 \nL 189.529238 208.237474 \nL 189.554061 208.34862 \nL 189.603709 208.330095 \nL 189.901593 208.496813 \nL 189.951241 208.255998 \nL 190.025712 208.293047 \nL 190.298773 208.200426 \nL 190.447715 208.163377 \nL 190.54701 208.107805 \nL 190.571834 208.144853 \nL 190.820071 208.052232 \nL 191.167603 208.107805 \nL 191.316546 208.274523 \nL 191.341369 208.237474 \nL 191.490312 208.08928 \nL 191.515135 208.126329 \nL 191.763373 208.163377 \nL 191.788196 208.015183 \nL 191.862667 208.126329 \nL 192.160552 207.941087 \nL 192.210199 207.885514 \nL 192.532908 208.107805 \nL 192.68185 207.959611 \nL 192.855616 207.959611 \nL 193.575504 208.052232 \nL 193.699623 208.144853 \nL 193.848565 208.107805 \nL 194.022331 208.200426 \nL 194.245745 208.459765 \nL 194.394687 208.441241 \nL 194.543629 208.496813 \nL 194.642924 208.496813 \nL 195.164222 208.533862 \nL 195.288341 208.459765 \nL 195.313165 208.496813 \nL 195.412459 208.515338 \nL 195.437283 208.496813 \nL 196.157171 208.515338 \nL 196.181995 208.385668 \nL 196.28129 208.422717 \nL 196.306113 208.459765 \nL 196.355761 208.385668 \nL 196.455056 208.330095 \nL 196.479879 208.367144 \nL 197.001178 208.459765 \nL 197.15012 208.496813 \nL 198.292011 208.589435 \nL 198.788485 208.737628 \nL 198.813309 208.607959 \nL 199.334607 208.367144 \nL 199.433902 208.330095 \nL 199.48355 207.718796 \nL 199.508373 207.86699 \nL 199.607668 208.181902 \nL 199.682139 208.107805 \nL 199.930377 208.107805 \nL 200.029671 208.200426 \nL 200.377203 208.181902 \nL 200.55097 208.181902 \nL 200.625441 208.126329 \nL 200.675088 208.21895 \nL 200.848854 208.21895 \nL 200.972973 208.181902 \nL 201.047444 208.200426 \nL 201.072268 208.144853 \nL 201.22121 208.21895 \nL 201.4198 208.515338 \nL 201.692861 208.441241 \nL 201.767332 208.330095 \nL 201.841803 208.385668 \nL 202.065216 208.422717 \nL 202.189335 208.459765 \nL 202.28863 208.441241 \nL 202.363101 208.441241 \nL 202.437572 208.589435 \nL 202.462396 208.57091 \nL 203.107813 208.737628 \nL 203.256755 208.367144 \nL 203.306403 208.422717 \nL 204.299351 208.330095 \nL 204.448294 208.21895 \nL 204.497941 208.163377 \nL 204.547589 208.070756 \nL 204.62206 208.126329 \nL 205.068887 207.904038 \nL 205.143358 207.922562 \nL 205.168182 207.792893 \nL 205.242653 207.86699 \nL 205.416419 207.86699 \nL 205.664656 207.904038 \nL 205.863246 207.73732 \nL 205.888069 207.829941 \nL 205.937717 207.811417 \nL 206.185954 207.73732 \nL 206.35972 207.60765 \nL 206.533486 207.774369 \nL 206.583134 207.700272 \nL 206.632781 207.811417 \nL 206.881018 207.904038 \nL 206.980313 207.86699 \nL 207.774672 207.644699 \nL 207.923615 207.422408 \nL 207.948438 207.459457 \nL 207.973262 207.38536 \nL 207.998086 207.200117 \nL 208.097381 207.274214 \nL 208.29597 207.440932 \nL 208.345618 207.25569 \nL 208.370441 207.38536 \nL 208.618679 207.163069 \nL 208.817268 206.885206 \nL 208.866916 206.996351 \nL 208.89174 206.848157 \nL 209.040682 207.200117 \nL 209.139977 207.60765 \nL 209.164801 207.422408 \nL 209.338567 207.144545 \nL 209.487509 207.218642 \nL 209.512333 207.163069 \nL 209.56198 207.292739 \nL 209.586804 207.25569 \nL 209.835041 207.107496 \nL 209.859865 207.070448 \nL 209.884688 207.163069 \nL 210.058454 207.552078 \nL 210.083278 207.626175 \nL 210.207397 207.12602 \nL 210.232221 207.200117 \nL 210.281868 207.25569 \nL 210.405987 207.218642 \nL 210.43081 207.25569 \nL 210.455634 207.329787 \nL 210.6294 207.218642 \nL 210.877637 207.25569 \nL 210.927285 207.440932 \nL 210.976932 207.311263 \nL 211.274817 207.348311 \nL 211.324464 207.348311 \nL 211.398935 207.552078 \nL 211.423759 207.422408 \nL 211.448583 207.292739 \nL 211.49823 207.496505 \nL 211.572701 207.440932 \nL 211.597525 207.552078 \nL 211.647173 207.552078 \nL 211.771291 207.440932 \nL 211.796115 207.496505 \nL 211.845762 207.348311 \nL 211.920234 207.348311 \nL 211.969881 207.051924 \nL 211.994705 207.088972 \nL 212.168471 206.977827 \nL 212.267766 206.959302 \nL 212.36706 206.718487 \nL 212.491179 206.625866 \nL 212.540827 206.959302 \nL 212.664945 207.014875 \nL 212.714593 207.12602 \nL 212.789064 207.088972 \nL 212.888359 206.959302 \nL 213.012477 207.033399 \nL 213.062125 207.274214 \nL 213.136596 207.181593 \nL 213.16142 207.218642 \nL 213.186243 207.144545 \nL 213.211067 207.070448 \nL 213.235891 207.181593 \nL 213.335186 207.144545 \nL 213.360009 207.237166 \nL 213.384833 207.292739 \nL 213.409657 207.218642 \nL 213.508952 207.144545 \nL 213.533775 207.200117 \nL 213.757189 207.477981 \nL 213.856484 207.422408 \nL 213.906131 207.533554 \nL 213.930955 207.477981 \nL 214.179192 207.348311 \nL 214.204016 207.477981 \nL 214.278487 207.459457 \nL 214.551548 207.163069 \nL 214.725314 207.38536 \nL 214.774961 207.311263 \nL 214.799785 207.329787 \nL 214.923904 207.403884 \nL 215.147317 206.662915 \nL 215.221788 206.440624 \nL 215.271436 206.607342 \nL 215.296259 206.755536 \nL 215.395554 206.718487 \nL 215.445202 206.625866 \nL 215.56932 206.77406 \nL 215.618968 206.718487 \nL 215.743086 206.922254 \nL 215.76791 206.940778 \nL 215.842381 206.792584 \nL 215.9665 206.625866 \nL 216.090619 206.477672 \nL 216.115442 206.551769 \nL 216.140266 206.514721 \nL 216.189913 206.625866 \nL 216.264385 206.699963 \nL 216.289208 206.662915 \nL 216.314032 206.533245 \nL 216.363679 206.588818 \nL 216.462974 206.699963 \nL 216.537446 206.90373 \nL 216.611917 206.885206 \nL 216.711212 206.644391 \nL 216.83533 206.4221 \nL 216.884978 206.051615 \nL 216.959449 206.125712 \nL 217.009096 206.033091 \nL 217.058744 206.218333 \nL 217.182862 206.144236 \nL 217.306981 206.348003 \nL 217.406276 206.051615 \nL 217.505571 206.070139 \nL 217.530394 206.162761 \nL 217.580042 206.144236 \nL 217.679337 206.070139 \nL 217.753808 205.773752 \nL 217.877926 205.773752 \nL 217.90275 205.847849 \nL 217.927574 205.829324 \nL 218.200635 205.440316 \nL 218.374401 204.736395 \nL 218.399225 204.866065 \nL 218.448872 204.680822 \nL 218.572991 204.810492 \nL 218.697109 204.569677 \nL 218.77158 205.569985 \nL 218.796404 205.45884 \nL 218.920523 205.829324 \nL 218.97017 205.662606 \nL 219.243231 205.292122 \nL 219.268055 205.514413 \nL 219.292878 204.940161 \nL 219.317702 204.84754 \nL 219.392173 204.940161 \nL 219.416997 205.236549 \nL 219.466645 204.754919 \nL 219.491468 204.903113 \nL 219.615587 204.736395 \nL 219.913471 203.476747 \nL 219.987943 203.736087 \nL 220.087238 203.921329 \nL 220.112061 203.810184 \nL 220.161709 203.902805 \nL 220.186532 203.717562 \nL 220.261004 203.847232 \nL 220.285827 203.699038 \nL 220.360298 203.550844 \nL 220.43477 203.587893 \nL 220.633359 202.124479 \nL 220.658183 202.606109 \nL 220.807125 203.569369 \nL 220.831949 203.439699 \nL 220.980891 203.087739 \nL 221.005715 203.254457 \nL 221.030539 203.032166 \nL 221.154658 203.365602 \nL 221.204305 203.235932 \nL 221.3036 202.494963 \nL 221.328424 203.087739 \nL 221.353247 202.995117 \nL 221.378071 203.569369 \nL 221.477366 203.384126 \nL 221.527013 204.050999 \nL 221.551837 203.458223 \nL 221.725603 202.402342 \nL 221.750427 202.532012 \nL 221.824898 202.846924 \nL 221.849722 202.476439 \nL 221.874545 202.606109 \nL 221.899369 202.624633 \nL 222.023488 203.235932 \nL 222.048311 203.328554 \nL 222.073135 203.032166 \nL 222.197254 202.309721 \nL 222.222077 202.457915 \nL 222.246901 202.402342 \nL 222.271725 202.69873 \nL 222.37102 202.050382 \nL 222.420667 202.309721 \nL 222.445491 202.532012 \nL 222.56961 202.2171 \nL 222.594433 202.291197 \nL 222.619257 202.587584 \nL 222.693728 202.402342 \nL 222.718552 202.328245 \nL 222.743376 201.327937 \nL 222.793023 201.476131 \nL 223.04126 201.902188 \nL 223.066084 202.346769 \nL 223.115731 201.883664 \nL 223.264674 200.457298 \nL 223.314321 200.809258 \nL 223.413616 200.77221 \nL 223.463264 201.624325 \nL 223.587382 201.513179 \nL 223.63703 201.661373 \nL 223.661853 201.235316 \nL 223.761148 202.013333 \nL 223.785972 202.661681 \nL 223.835619 202.494963 \nL 223.934914 201.550228 \nL 223.984562 202.050382 \nL 224.083857 201.957761 \nL 224.10868 201.457606 \nL 224.183151 201.716946 \nL 224.257623 201.716946 \nL 224.332094 202.56906 \nL 224.356917 202.420866 \nL 224.456212 202.902496 \nL 224.481036 203.291505 \nL 224.530683 202.772827 \nL 224.803744 204.14362 \nL 224.878216 204.106571 \nL 224.97751 204.032474 \nL 225.002334 204.254765 \nL 225.051982 203.717562 \nL 225.126453 203.791659 \nL 225.151276 203.699038 \nL 225.1761 203.458223 \nL 225.225748 203.513796 \nL 225.349866 203.847232 \nL 225.399514 203.810184 \nL 225.498809 203.161836 \nL 225.523632 202.532012 \nL 225.57328 203.032166 \nL 225.697398 202.680206 \nL 225.722222 203.087739 \nL 225.747046 202.939545 \nL 225.821517 202.828399 \nL 225.871164 203.05069 \nL 225.895988 203.013642 \nL 226.04493 202.124479 \nL 226.069754 202.420866 \nL 226.094578 202.272673 \nL 226.169049 202.198576 \nL 226.193873 202.328245 \nL 226.342815 203.421175 \nL 226.417286 202.995117 \nL 226.44211 203.458223 \nL 226.516581 203.143311 \nL 226.541405 203.328554 \nL 226.615876 203.587893 \nL 226.690347 203.513796 \nL 226.715171 203.66199 \nL 226.789642 203.53232 \nL 226.888937 203.66199 \nL 227.137174 202.383818 \nL 227.286116 201.86514 \nL 227.31094 201.550228 \nL 227.410235 201.679897 \nL 227.435059 202.180051 \nL 227.484706 202.124479 \nL 227.584001 202.272673 \nL 227.608825 202.235624 \nL 227.658472 202.587584 \nL 227.782591 201.846615 \nL 227.956357 203.384126 \nL 227.981181 202.809875 \nL 228.105299 206.755536 \nL 228.130123 206.588818 \nL 228.154947 206.77406 \nL 228.17977 206.77406 \nL 228.279065 206.922254 \nL 228.303889 207.088972 \nL 228.353536 206.77406 \nL 228.428008 206.848157 \nL 228.502479 207.181593 \nL 228.527302 207.107496 \nL 228.601774 206.996351 \nL 228.676245 207.237166 \nL 228.701069 207.218642 \nL 228.825187 206.977827 \nL 228.874835 206.755536 \nL 228.949306 206.866681 \nL 228.974129 206.866681 \nL 229.048601 207.163069 \nL 229.123072 207.12602 \nL 229.147895 207.014875 \nL 229.197543 207.163069 \nL 229.222367 207.237166 \nL 229.321662 207.200117 \nL 229.346485 207.237166 \nL 229.396133 207.12602 \nL 229.520251 207.348311 \nL 229.64437 207.459457 \nL 229.669194 207.422408 \nL 229.718841 207.755844 \nL 229.743665 207.663223 \nL 229.892607 207.73732 \nL 230.016726 207.792893 \nL 230.190492 207.718796 \nL 230.761437 207.200117 \nL 230.91038 206.977827 \nL 230.960027 207.088972 \nL 231.084146 206.829633 \nL 231.108969 206.90373 \nL 231.208264 207.014875 \nL 231.233088 206.90373 \nL 231.282735 206.940778 \nL 231.406854 207.144545 \nL 231.456501 207.033399 \nL 231.481325 207.163069 \nL 231.655091 207.200117 \nL 231.754386 207.12602 \nL 231.77921 207.25569 \nL 231.828857 207.144545 \nL 231.928152 206.848157 \nL 232.002623 207.014875 \nL 232.077095 207.218642 \nL 232.101918 207.088972 \nL 232.126742 206.977827 \nL 232.176389 207.088972 \nL 232.44945 206.681439 \nL 232.499098 206.718487 \nL 232.64804 207.107496 \nL 232.697688 206.959302 \nL 232.772159 206.977827 \nL 232.84663 206.737012 \nL 232.970748 206.996351 \nL 233.020396 206.310954 \nL 233.119691 206.496197 \nL 233.144514 206.533245 \nL 233.169338 206.440624 \nL 233.194162 206.440624 \nL 233.218986 206.255382 \nL 233.318281 206.29243 \nL 233.343104 206.199809 \nL 233.367928 206.4221 \nL 233.392752 206.310954 \nL 233.665813 206.644391 \nL 233.690636 206.514721 \nL 233.740284 206.588818 \nL 233.889226 206.644391 \nL 234.038168 207.070448 \nL 234.087816 206.922254 \nL 234.211934 206.940778 \nL 234.236758 206.829633 \nL 234.261582 206.866681 \nL 234.410524 207.051924 \nL 234.683585 206.533245 \nL 234.78288 206.625866 \nL 234.882175 206.551769 \nL 235.055941 206.90373 \nL 235.080765 206.718487 \nL 235.130412 206.4221 \nL 235.204883 206.533245 \nL 235.229707 206.403576 \nL 235.304178 207.051924 \nL 235.577239 207.200117 \nL 235.602063 207.163069 \nL 235.626887 207.070448 \nL 235.65171 207.107496 \nL 236.148185 207.311263 \nL 236.24748 207.181593 \nL 236.272303 207.237166 \nL 236.321951 207.311263 \nL 236.346774 207.218642 \nL 236.768778 207.422408 \nL 236.868073 207.589126 \nL 236.942544 207.496505 \nL 236.967367 207.60765 \nL 236.992191 207.663223 \nL 237.041839 207.60765 \nL 237.3149 207.552078 \nL 237.463842 207.292739 \nL 237.488666 207.292739 \nL 237.513489 207.422408 \nL 237.563137 207.25569 \nL 237.712079 207.144545 \nL 237.861021 207.348311 \nL 238.009964 207.088972 \nL 238.034787 207.088972 \nL 238.158906 207.200117 \nL 238.208553 207.088972 \nL 238.258201 207.163069 \nL 238.506438 206.866681 \nL 238.580909 206.996351 \nL 238.605733 206.885206 \nL 238.680204 206.90373 \nL 238.729852 206.570294 \nL 238.779499 206.718487 \nL 238.878794 206.811109 \nL 239.027736 206.959302 \nL 239.05256 206.922254 \nL 239.077384 206.829633 \nL 239.102207 206.959302 \nL 239.127031 206.922254 \nL 239.474563 206.570294 \nL 239.573858 206.718487 \nL 239.7228 206.90373 \nL 239.797272 206.737012 \nL 239.772448 206.940778 \nL 239.822095 206.77406 \nL 239.92139 206.811109 \nL 239.995861 206.625866 \nL 240.11998 206.533245 \nL 240.268922 206.348003 \nL 240.343393 206.533245 \nL 240.467512 206.403576 \nL 240.492336 206.459148 \nL 240.666102 206.848157 \nL 240.765397 206.551769 \nL 240.79022 206.570294 \nL 240.839868 206.829633 \nL 240.864692 206.607342 \nL 241.112929 206.403576 \nL 241.1874 206.477672 \nL 241.212224 206.4221 \nL 241.38599 206.533245 \nL 241.510108 206.607342 \nL 241.534932 206.570294 \nL 241.807993 206.459148 \nL 241.832817 206.514721 \nL 241.882464 206.4221 \nL 242.031406 206.273906 \nL 242.081054 206.403576 \nL 242.25482 206.662915 \nL 242.329291 206.533245 \nL 242.354115 206.496197 \nL 242.403762 206.570294 \nL 242.527881 206.737012 \nL 242.552705 206.496197 \nL 242.602352 206.625866 \nL 242.676823 206.551769 \nL 242.701647 206.329479 \nL 242.776118 206.403576 \nL 242.850589 206.440624 \nL 242.875413 206.607342 \nL 242.92506 206.385051 \nL 242.949884 206.514721 \nL 243.12365 206.625866 \nL 243.371887 206.848157 \nL 243.446358 207.107496 \nL 243.471182 207.033399 \nL 243.545653 206.977827 \nL 243.570477 207.014875 \nL 243.644948 207.440932 \nL 243.818714 207.329787 \nL 243.918009 207.422408 \nL 243.942833 207.348311 \nL 243.99248 207.200117 \nL 244.066951 207.292739 \nL 244.116599 207.38536 \nL 244.141423 207.25569 \nL 244.166246 207.348311 \nL 244.240718 207.274214 \nL 244.265541 207.311263 \nL 244.340012 207.681747 \nL 244.687544 207.73732 \nL 244.762016 207.792893 \nL 244.786839 207.700272 \nL 244.836487 207.644699 \nL 244.861311 207.681747 \nL 245.010253 207.589126 \nL 245.184019 207.552078 \nL 245.357785 207.718796 \nL 245.382609 207.700272 \nL 245.556375 207.755844 \nL 246.499676 207.700272 \nL 246.5245 207.644699 \nL 246.574147 207.792893 \nL 246.772737 207.626175 \nL 247.070622 207.38536 \nL 247.120269 207.570602 \nL 247.244388 207.60765 \nL 247.269211 207.515029 \nL 247.294035 207.552078 \nL 247.418154 207.60765 \nL 247.442977 207.496505 \nL 247.542272 207.552078 \nL 247.641567 207.60765 \nL 247.889804 207.700272 \nL 247.914628 207.644699 \nL 247.939452 207.60765 \nL 247.989099 207.700272 \nL 248.957224 207.792893 \nL 249.106167 207.792893 \nL 249.155814 207.681747 \nL 249.205462 207.755844 \nL 249.453699 207.755844 \nL 249.552994 207.718796 \nL 249.72676 207.681747 \nL 250.248058 207.700272 \nL 250.421824 207.681747 \nL 250.670061 207.774369 \nL 250.918298 207.755844 \nL 250.943122 207.904038 \nL 251.042417 207.885514 \nL 251.191359 207.904038 \nL 251.389949 207.792893 \nL 251.46442 207.73732 \nL 251.762305 207.218642 \nL 251.811952 207.200117 \nL 251.936071 207.311263 \nL 251.985718 207.25569 \nL 252.085013 207.181593 \nL 252.134661 207.274214 \nL 252.407722 207.440932 \nL 252.432545 207.403884 \nL 252.680782 207.144545 \nL 253.003491 207.144545 \nL 253.202081 207.051924 \nL 253.326199 207.051924 \nL 253.351023 206.922254 \nL 253.450318 206.959302 \nL 253.624084 206.922254 \nL 253.673731 207.014875 \nL 253.723379 206.940778 \nL 253.79785 206.885206 \nL 253.822674 206.996351 \nL 253.897145 207.088972 \nL 254.170206 206.996351 \nL 254.219853 206.829633 \nL 254.244677 206.922254 \nL 254.368795 206.848157 \nL 254.542562 206.662915 \nL 254.716328 206.77406 \nL 254.741151 206.718487 \nL 254.765975 206.644391 \nL 254.840446 206.755536 \nL 254.914917 206.681439 \nL 254.939741 206.718487 \nL 255.06386 206.866681 \nL 255.088683 206.996351 \nL 255.113507 206.959302 \nL 255.187978 206.885206 \nL 255.237626 206.940778 \nL 255.262449 206.977827 \nL 255.287273 206.829633 \nL 255.585158 206.440624 \nL 255.609981 206.625866 \nL 255.634805 206.699963 \nL 255.709276 206.625866 \nL 255.883042 206.718487 \nL 255.93269 206.570294 \nL 255.982337 206.681439 \nL 256.13128 206.644391 \nL 256.156103 206.718487 \nL 256.503635 207.014875 \nL 256.751873 206.829633 \nL 257.1987 207.088972 \nL 257.645527 206.77406 \nL 257.844116 206.514721 \nL 257.893764 206.699963 \nL 258.340591 206.755536 \nL 258.365414 206.811109 \nL 258.415062 206.699963 \nL 258.514357 206.662915 \nL 258.564004 206.570294 \nL 258.588828 206.662915 \nL 258.762594 206.737012 \nL 258.861889 206.737012 \nL 258.886713 206.681439 \nL 259.060479 206.551769 \nL 259.234245 206.070139 \nL 259.432834 206.329479 \nL 259.532129 206.29243 \nL 259.556953 206.366527 \nL 259.6066 206.181285 \nL 259.730719 206.033091 \nL 259.755543 206.144236 \nL 259.80519 206.088664 \nL 259.879661 205.996043 \nL 259.904485 206.051615 \nL 259.929309 206.125712 \nL 259.954133 206.088664 \nL 260.053427 206.033091 \nL 260.103075 206.199809 \nL 260.127899 205.866373 \nL 260.450607 206.218333 \nL 260.475431 206.181285 \nL 260.500254 206.310954 \nL 260.599549 206.273906 \nL 260.67402 206.199809 \nL 260.748492 206.255382 \nL 260.773315 206.144236 \nL 260.847786 206.144236 \nL 260.996729 206.199809 \nL 261.021553 206.144236 \nL 261.369085 205.94047 \nL 261.518027 205.681131 \nL 261.617322 205.755228 \nL 261.642146 205.681131 \nL 261.716617 205.403267 \nL 261.791088 205.477364 \nL 261.815912 205.403267 \nL 261.890383 205.310646 \nL 262.237915 205.773752 \nL 262.33721 205.884897 \nL 262.362033 205.829324 \nL 262.386857 205.403267 \nL 262.486152 205.532937 \nL 262.510976 205.495888 \nL 262.535799 205.569985 \nL 262.560623 205.569985 \nL 262.585447 205.681131 \nL 262.659918 205.625558 \nL 262.734389 205.440316 \nL 262.759213 205.477364 \nL 262.932979 205.8108 \nL 263.00745 205.736703 \nL 263.032274 205.58851 \nL 263.106745 205.662606 \nL 263.20604 205.662606 \nL 263.230864 205.551461 \nL 263.255687 205.681131 \nL 263.280511 205.681131 \nL 263.379806 205.532937 \nL 263.429453 205.180976 \nL 263.528748 205.255073 \nL 263.752162 204.97721 \nL 263.801809 205.032783 \nL 263.925928 205.125404 \nL 264.07487 204.754919 \nL 264.099694 204.903113 \nL 264.149341 204.84754 \nL 264.248636 204.754919 \nL 264.298284 204.662298 \nL 264.323107 204.680822 \nL 264.422402 204.588201 \nL 264.447226 204.440007 \nL 264.496873 204.62525 \nL 264.596168 204.736395 \nL 264.819582 203.513796 \nL 264.844405 203.569369 \nL 264.9437 203.495272 \nL 265.092643 202.939545 \nL 265.14229 202.56906 \nL 265.191938 202.643157 \nL 265.291232 202.735778 \nL 265.316056 202.643157 \nL 265.365704 202.550536 \nL 265.440175 202.587584 \nL 265.489822 202.624633 \nL 265.53947 202.587584 \nL 265.787707 200.920404 \nL 265.887002 201.642849 \nL 265.961473 201.25384 \nL 266.01112 201.568752 \nL 266.20971 201.142695 \nL 266.309005 201.642849 \nL 266.358652 201.513179 \nL 266.383476 201.476131 \nL 266.482771 201.587276 \nL 266.507595 201.457606 \nL 266.557242 201.38351 \nL 266.582066 201.420558 \nL 266.656537 201.568752 \nL 266.706185 201.420558 \nL 266.731008 201.402034 \nL 266.755832 200.809258 \nL 266.830303 200.846307 \nL 266.855127 201.402034 \nL 266.929598 200.698113 \nL 267.227483 200.438774 \nL 267.27713 200.216483 \nL 267.401249 199.494038 \nL 267.450896 199.605184 \nL 267.525367 199.586659 \nL 267.599838 199.660756 \nL 267.748781 198.178818 \nL 267.897723 198.790118 \nL 268.046665 198.215866 \nL 268.096313 198.419633 \nL 268.245255 199.32732 \nL 268.270079 199.623708 \nL 268.319726 199.382893 \nL 268.394198 199.364369 \nL 268.567964 198.512254 \nL 268.592787 198.734545 \nL 268.642435 198.827166 \nL 268.74173 198.808642 \nL 268.791377 198.753069 \nL 268.841024 199.234699 \nL 268.915496 199.179126 \nL 269.014791 198.512254 \nL 269.138909 199.197651 \nL 269.188557 200.624016 \nL 269.263028 200.568443 \nL 269.337499 200.16091 \nL 269.312675 200.586968 \nL 269.362323 200.586968 \nL 269.436794 200.216483 \nL 269.486441 200.475822 \nL 269.511265 200.586968 \nL 269.536089 200.457298 \nL 269.784326 200.216483 \nL 269.858797 200.938928 \nL 269.958092 200.586968 \nL 269.982916 200.624016 \nL 270.007739 200.512871 \nL 270.131858 199.512562 \nL 270.156682 199.531087 \nL 270.181505 199.512562 \nL 270.206329 199.271747 \nL 270.231153 199.308796 \nL 270.47939 199.975668 \nL 270.578685 200.512871 \nL 270.67798 200.457298 \nL 270.752451 199.883047 \nL 270.826922 200.049765 \nL 270.851746 199.994192 \nL 270.901393 199.734853 \nL 270.926217 200.012717 \nL 271.099983 200.346153 \nL 271.273749 199.901571 \nL 271.397868 199.864523 \nL 271.54681 198.641924 \nL 271.621281 198.438157 \nL 271.770223 198.49373 \nL 271.795047 198.790118 \nL 271.869518 198.753069 \nL 271.919166 198.641924 \nL 271.94399 198.771593 \nL 271.968813 198.697496 \nL 272.043284 198.790118 \nL 272.21705 197.511946 \nL 272.316345 197.975051 \nL 272.564583 197.975051 \nL 272.763172 197.234082 \nL 272.787996 197.252607 \nL 272.912115 196.56721 \nL 272.936938 196.715404 \nL 272.961762 197.030316 \nL 273.01141 196.622783 \nL 273.185176 196.122629 \nL 273.259647 195.95591 \nL 273.28447 196.048532 \nL 273.309294 196.659831 \nL 273.358942 196.011483 \nL 273.433413 195.807717 \nL 273.458236 195.974435 \nL 273.607179 196.826549 \nL 273.706474 195.918862 \nL 273.656826 197.122937 \nL 273.780945 196.048532 \nL 273.805769 196.363444 \nL 273.830592 195.678047 \nL 273.954711 195.214941 \nL 274.004358 195.140844 \nL 274.054006 195.789192 \nL 274.202948 193.918245 \nL 274.302243 194.344303 \nL 274.327067 194.418399 \nL 274.35189 194.362827 \nL 274.525656 193.140228 \nL 274.55048 193.251373 \nL 274.649775 193.140228 \nL 274.823541 191.954677 \nL 274.873189 192.417783 \nL 274.898012 191.454523 \nL 275.022131 190.843223 \nL 275.046955 190.861748 \nL 275.195897 190.602408 \nL 275.270368 191.584192 \nL 275.344839 191.510096 \nL 275.543429 190.787651 \nL 275.593076 191.491571 \nL 275.6179 191.380426 \nL 275.890961 189.12047 \nL 275.965432 187.916395 \nL 276.064727 188.138686 \nL 276.312964 191.343378 \nL 276.412259 190.472739 \nL 276.437083 190.491263 \nL 276.561202 192.547452 \nL 276.586025 192.473355 \nL 276.610849 192.158444 \nL 276.635673 193.140228 \nL 276.660496 192.547452 \nL 276.734968 193.1958 \nL 276.759791 192.454831 \nL 276.809439 191.713862 \nL 276.834262 191.787959 \nL 276.933557 192.102871 \nL 276.983205 191.417474 \nL 277.008029 191.491571 \nL 277.0825 191.621241 \nL 277.181795 192.436307 \nL 277.355561 193.584809 \nL 277.454855 192.547452 \nL 277.479679 192.825316 \nL 277.628622 193.93677 \nL 277.653445 193.973818 \nL 277.802388 194.714787 \nL 277.852035 193.695955 \nL 277.876859 193.714479 \nL 277.95133 193.733003 \nL 277.976154 194.103488 \nL 278.025801 191.547144 \nL 278.050625 191.917629 \nL 278.298862 193.177276 \nL 278.348509 192.97351 \nL 278.373333 192.473355 \nL 278.398157 192.621549 \nL 278.472628 192.936461 \nL 278.497452 192.825316 \nL 278.671218 191.454523 \nL 278.720865 191.584192 \nL 278.745689 191.380426 \nL 278.82016 191.380426 \nL 279.068397 193.584809 \nL 279.167692 193.547761 \nL 279.192516 193.603333 \nL 279.21734 193.547761 \nL 279.242163 193.306946 \nL 279.266987 193.492188 \nL 279.564872 194.751836 \nL 279.589695 194.196109 \nL 279.614519 194.585118 \nL 279.68899 195.159369 \nL 279.738638 194.992651 \nL 279.763461 194.548069 \nL 279.788285 195.011175 \nL 279.862756 195.103796 \nL 279.88758 195.029699 \nL 279.937228 194.492496 \nL 280.036522 194.659214 \nL 280.08617 195.400184 \nL 280.135817 195.085272 \nL 280.210288 194.918554 \nL 280.483349 196.752452 \nL 280.582644 196.196725 \nL 280.979824 191.973201 \nL 281.128766 193.492188 \nL 281.178414 193.473664 \nL 281.252885 193.399567 \nL 281.302532 192.380734 \nL 281.35218 192.399259 \nL 281.426651 192.732695 \nL 281.476298 192.547452 \nL 281.525946 192.176968 \nL 281.625241 192.751219 \nL 281.674888 192.417783 \nL 282.02242 190.806175 \nL 282.047244 190.824699 \nL 282.146539 190.91732 \nL 282.171362 190.528311 \nL 282.22101 191.102563 \nL 282.320305 189.935536 \nL 282.394776 190.102254 \nL 282.494071 190.824699 \nL 282.568542 190.806175 \nL 282.643013 190.695029 \nL 282.69266 191.04699 \nL 282.717484 190.528311 \nL 282.742308 190.602408 \nL 282.816779 190.491263 \nL 282.841603 190.787651 \nL 282.866427 190.713554 \nL 282.990545 188.972276 \nL 283.015369 189.064897 \nL 283.040193 188.916704 \nL 283.065016 188.787034 \nL 283.08984 189.231615 \nL 283.164311 189.231615 \nL 283.189135 189.064897 \nL 283.213959 189.546527 \nL 283.263606 189.768818 \nL 283.387725 188.712937 \nL 283.536667 188.064589 \nL 283.561491 188.305404 \nL 283.611138 187.860822 \nL 283.685609 187.694104 \nL 283.784904 186.397408 \nL 283.859375 186.916087 \nL 283.884199 186.341836 \nL 284.033141 186.527078 \nL 284.057965 186.49003 \nL 284.231731 187.786726 \nL 284.256555 187.045756 \nL 284.306202 187.379193 \nL 284.628911 189.12047 \nL 284.653734 188.120162 \nL 284.777853 188.379501 \nL 284.951619 185.04514 \nL 285.001266 185.637915 \nL 285.100561 185.008091 \nL 285.125385 185.563818 \nL 285.274327 187.897871 \nL 285.299151 187.638532 \nL 285.348799 187.971968 \nL 285.42327 187.842298 \nL 285.472917 187.879347 \nL 285.597036 188.342452 \nL 285.621859 188.28688 \nL 285.671507 187.768201 \nL 285.696331 188.50917 \nL 285.820449 187.990492 \nL 285.870097 188.120162 \nL 285.969392 187.842298 \nL 286.019039 186.934611 \nL 286.043863 187.045756 \nL 286.118334 187.175426 \nL 286.143158 188.342452 \nL 286.217629 187.971968 \nL 286.2921 187.731153 \nL 286.316924 187.268047 \nL 286.391395 187.32362 \nL 286.515513 186.804941 \nL 286.565161 186.916087 \nL 286.813398 185.323003 \nL 286.838222 185.434148 \nL 286.912693 186.063972 \nL 287.061635 185.619391 \nL 287.235401 186.249215 \nL 287.260225 186.749369 \nL 287.35952 186.71232 \nL 287.409167 186.730845 \nL 287.55811 185.452673 \nL 287.607757 184.304171 \nL 287.682228 184.322695 \nL 287.707052 184.415316 \nL 287.731876 184.174501 \nL 287.756699 184.174501 \nL 287.855994 183.285338 \nL 288.02976 181.914545 \nL 288.079408 182.414699 \nL 288.129055 181.747827 \nL 288.22835 180.858664 \nL 288.253174 181.025382 \nL 288.277998 181.581109 \nL 288.302821 180.84014 \nL 288.402116 180.654897 \nL 288.551059 178.876571 \nL 288.650353 178.08003 \nL 288.774472 179.858356 \nL 288.824119 179.098862 \nL 288.898591 177.931836 \nL 288.973062 178.228223 \nL 289.09718 179.302629 \nL 289.146828 179.080338 \nL 289.320594 175.986792 \nL 289.444712 176.097937 \nL 289.469536 176.079413 \nL 289.69295 173.208157 \nL 289.767421 173.226682 \nL 289.792245 175.449589 \nL 289.841892 172.633906 \nL 289.866716 173.189633 \nL 289.941187 173.800933 \nL 289.966011 176.246131 \nL 290.040482 176.227607 \nL 290.114953 175.356968 \nL 290.1646 175.67188 \nL 290.214248 177.95036 \nL 290.288719 177.246439 \nL 290.36319 179.969501 \nL 290.388014 178.691329 \nL 290.462485 178.654281 \nL 290.56178 175.356968 \nL 290.661075 177.487254 \nL 290.685898 175.653356 \nL 290.834841 173.115536 \nL 290.909312 176.246131 \nL 291.083078 174.467805 \nL 291.157549 174.560426 \nL 291.405786 170.485096 \nL 291.43061 170.744435 \nL 291.604376 168.725294 \nL 291.678847 167.095162 \nL 291.728495 167.39155 \nL 291.753318 168.540052 \nL 291.778142 167.26188 \nL 291.852613 167.335977 \nL 292.051203 162.482629 \nL 292.125674 162.853114 \nL 292.200145 162.760492 \nL 292.249793 161.519369 \nL 292.29944 162.056572 \nL 292.373911 162.482629 \nL 292.398735 161.056263 \nL 292.423559 162.44558 \nL 292.547678 170.670338 \nL 292.572501 166.576484 \nL 292.646972 167.484171 \nL 292.721444 168.09547 \nL 292.820738 166.187475 \nL 292.89521 165.928135 \nL 292.969681 162.964259 \nL 293.068976 164.335052 \nL 293.093799 164.094237 \nL 293.168271 160.42644 \nL 293.242742 160.444964 \nL 293.267565 161.889854 \nL 293.342037 161.408224 \nL 293.441331 163.279171 \nL 293.490979 162.22329 \nL 293.639921 159.240889 \nL 293.813687 160.29677 \nL 293.689569 159.018598 \nL 293.838511 160.259721 \nL 293.96263 166.261572 \nL 293.987453 164.186858 \nL 294.037101 165.891087 \nL 294.111572 164.353576 \nL 294.161219 169.1884 \nL 294.210867 168.762343 \nL 294.310162 170.207232 \nL 294.459104 176.690712 \nL 294.533575 175.338444 \nL 294.558399 175.745977 \nL 294.657694 176.857431 \nL 294.707341 178.91362 \nL 294.732165 177.839215 \nL 294.806636 176.820382 \nL 294.83146 177.987408 \nL 294.856284 176.838906 \nL 295.079697 179.358201 \nL 295.154168 179.284105 \nL 295.178992 179.432298 \nL 295.228639 176.709237 \nL 295.253463 177.95036 \nL 295.327934 178.78395 \nL 295.352758 178.042981 \nL 295.377582 178.08003 \nL 295.5017 179.302629 \nL 295.576171 177.209391 \nL 295.600995 177.542827 \nL 295.675466 177.524303 \nL 295.749937 175.857122 \nL 296.196764 170.133135 \nL 296.296059 172.356043 \nL 296.37053 172.189325 \nL 296.395354 172.041131 \nL 296.544296 167.039589 \nL 296.56912 169.05873 \nL 296.643591 166.632056 \nL 296.742886 165.298312 \nL 296.76771 165.576175 \nL 296.916652 162.352959 \nL 296.941476 163.390316 \nL 296.991123 163.168025 \nL 297.090418 161.519369 \nL 297.16489 162.112144 \nL 297.313832 164.779633 \nL 297.338656 163.742276 \nL 297.512422 161.834281 \nL 297.63654 162.723444 \nL 297.661364 161.649039 \nL 297.686188 162.612299 \nL 297.859954 165.965184 \nL 297.934425 164.835206 \nL 297.959249 163.686704 \nL 298.03372 165.242739 \nL 298.108191 165.779942 \nL 298.133015 165.742893 \nL 298.157838 164.705536 \nL 298.182662 167.002541 \nL 298.207486 166.557959 \nL 298.281957 167.224832 \nL 298.306781 165.390933 \nL 298.356428 166.539435 \nL 298.480547 164.14981 \nL 298.530194 164.890779 \nL 298.654313 166.669105 \nL 298.679136 165.854039 \nL 298.728784 167.799083 \nL 298.803255 167.502695 \nL 298.977021 170.522144 \nL 299.026669 169.132827 \nL 299.076316 169.947893 \nL 299.150787 170.818532 \nL 299.324553 165.668796 \nL 299.399024 164.205382 \nL 299.423848 165.113069 \nL 299.498319 165.205691 \nL 299.523143 165.687321 \nL 299.547967 165.094545 \nL 299.57279 165.483554 \nL 299.597614 164.85373 \nL 299.870675 167.539743 \nL 299.895499 167.335977 \nL 300.069265 171.226065 \nL 300.094089 170.966726 \nL 300.243031 177.246439 \nL 300.267855 175.653356 \nL 300.292678 173.930602 \nL 300.367149 176.431373 \nL 300.441621 176.209083 \nL 300.64021 185.026615 \nL 300.714682 184.748752 \nL 300.789153 187.119853 \nL 300.813976 185.082188 \nL 300.888448 181.67373 \nL 300.913271 183.248289 \nL 300.987742 184.933994 \nL 301.062214 184.674655 \nL 301.087037 186.434457 \nL 301.161508 185.193334 \nL 301.23598 186.286263 \nL 301.310451 181.488488 \nL 301.335275 182.359127 \nL 301.409746 182.525845 \nL 301.434569 181.488488 \nL 301.459393 183.433532 \nL 301.633159 186.767893 \nL 301.657983 185.174809 \nL 301.682807 186.749369 \nL 301.806925 187.749677 \nL 301.831749 189.213091 \nL 301.856573 188.675889 \nL 301.980691 185.545294 \nL 302.030339 186.138069 \nL 302.10481 187.082805 \nL 302.129634 186.175118 \nL 302.179281 186.452981 \nL 302.278576 184.341219 \nL 302.3034 184.267122 \nL 302.501989 187.027232 \nL 302.526813 186.953135 \nL 302.551637 186.804941 \nL 302.675755 188.064589 \nL 302.725403 187.860822 \nL 302.799874 187.657056 \nL 302.824698 187.749677 \nL 302.849521 187.990492 \nL 302.97364 185.656439 \nL 302.998464 186.045448 \nL 303.221877 188.472122 \nL 303.345996 189.787342 \nL 303.519762 186.619699 \nL 303.544586 185.74906 \nL 303.594233 186.767893 \nL 303.718352 185.915778 \nL 303.84247 183.637298 \nL 303.892118 185.082188 \nL 303.941765 184.489413 \nL 304.190002 187.582959 \nL 304.214826 186.749369 \nL 304.23965 186.508554 \nL 304.264474 187.008708 \nL 304.289297 186.990184 \nL 304.363768 187.32362 \nL 304.388592 187.212474 \nL 304.413416 186.508554 \nL 304.463063 187.990492 \nL 304.537534 188.546219 \nL 304.612006 185.193334 \nL 304.636829 185.304479 \nL 304.711301 185.434148 \nL 304.885067 182.340602 \nL 304.934714 182.63699 \nL 304.959538 181.784875 \nL 304.984361 182.544369 \nL 305.058833 183.137144 \nL 305.083656 182.98895 \nL 305.232599 179.617541 \nL 305.257422 180.488179 \nL 305.406365 179.154435 \nL 305.456012 179.821307 \nL 305.480836 178.858047 \nL 305.50566 178.357893 \nL 305.580131 179.098862 \nL 305.654602 177.857739 \nL 305.753897 178.024457 \nL 305.77872 178.228223 \nL 305.828368 177.746594 \nL 305.952487 176.005316 \nL 305.97731 176.060889 \nL 306.151076 179.339677 \nL 306.300019 177.33906 \nL 306.37449 178.580184 \nL 306.722022 172.985867 \nL 306.821317 173.467497 \nL 306.970259 175.153201 \nL 306.995083 175.079105 \nL 307.019907 175.282871 \nL 307.04473 175.208774 \nL 307.069554 174.282563 \nL 307.144025 174.819765 \nL 307.168849 175.67188 \nL 307.218496 174.189942 \nL 307.342615 173.541594 \nL 307.367439 173.448972 \nL 307.516381 175.31992 \nL 307.839089 170.892629 \nL 307.863913 171.244589 \nL 308.012855 169.077254 \nL 308.062503 169.095779 \nL 308.186621 167.465646 \nL 308.211445 167.687937 \nL 308.385211 168.391858 \nL 308.434859 166.965492 \nL 308.459682 167.39155 \nL 308.534153 169.206924 \nL 308.583801 167.928752 \nL 308.732743 166.724677 \nL 308.757567 167.224832 \nL 308.807214 166.557959 \nL 308.931333 167.799083 \nL 308.956157 167.447122 \nL 309.080275 165.835514 \nL 309.105099 166.280096 \nL 309.154746 166.020757 \nL 309.254041 165.261263 \nL 309.328513 162.779017 \nL 309.402984 163.019832 \nL 309.427807 162.908686 \nL 309.452631 162.649347 \nL 309.477455 163.075404 \nL 309.502279 163.445889 \nL 309.57675 162.482629 \nL 309.626397 162.686395 \nL 309.651221 163.816373 \nL 309.676045 162.797541 \nL 309.750516 162.519677 \nL 309.849811 161.389699 \nL 309.924282 161.315603 \nL 309.973929 161.185933 \nL 310.023577 162.000999 \nL 310.098048 161.556417 \nL 310.172519 157.666329 \nL 310.197343 157.981241 \nL 310.271814 158.351726 \nL 310.371109 161.889854 \nL 310.44558 161.686087 \nL 310.470404 161.834281 \nL 310.495227 161.315603 \nL 310.668993 158.166484 \nL 310.693817 158.481395 \nL 310.718641 157.851572 \nL 310.817936 157.221748 \nL 310.842759 157.481087 \nL 310.892407 159.000074 \nL 310.966878 157.499611 \nL 311.016526 157.925669 \nL 311.31441 161.778708 \nL 311.339234 161.537893 \nL 311.364058 159.537277 \nL 311.413705 160.333818 \nL 311.488176 159.741043 \nL 311.562647 161.037739 \nL 311.587471 160.130052 \nL 311.71159 158.444347 \nL 311.835708 156.054722 \nL 311.860532 156.684545 \nL 311.885356 156.036197 \nL 311.910179 156.277012 \nL 312.034298 155.350801 \nL 312.083945 156.314061 \nL 312.108769 155.9621 \nL 312.282535 157.481087 \nL 312.38183 155.184083 \nL 312.406654 156.017673 \nL 312.456301 159.555801 \nL 312.555596 157.481087 \nL 312.58042 156.980933 \nL 312.630067 161.000691 \nL 312.704539 160.315294 \nL 312.754186 159.185316 \nL 312.77901 161.000691 \nL 312.878305 160.463488 \nL 313.076894 158.129435 \nL 313.25066 159.722519 \nL 313.399603 156.70307 \nL 313.424426 156.740118 \nL 313.474074 156.277012 \nL 313.623016 152.701836 \nL 313.672664 152.257255 \nL 313.84643 153.350184 \nL 314.094667 150.793841 \nL 314.169138 149.886153 \nL 314.491846 147.422431 \nL 314.51667 146.607365 \nL 314.541494 146.996374 \nL 314.615965 147.070471 \nL 314.640789 147.700294 \nL 314.71526 141.06862 \nL 314.789731 141.402056 \nL 314.889026 143.532343 \nL 314.963497 142.198598 \nL 315.062792 149.904678 \nL 315.186911 143.273004 \nL 315.236558 145.366241 \nL 315.311029 145.27362 \nL 315.360677 146.755559 \nL 315.3855 149.441572 \nL 315.410324 148.274545 \nL 315.708209 142.809898 \nL 315.733032 143.013664 \nL 315.881975 148.052255 \nL 316.080564 140.809281 \nL 316.105388 140.253554 \nL 316.279154 142.105977 \nL 316.353625 141.698444 \nL 316.45292 147.107519 \nL 316.552215 146.681462 \nL 316.626686 143.902827 \nL 316.701157 144.495603 \nL 316.800452 146.36655 \nL 316.874924 147.459479 \nL 316.974218 143.82873 \nL 317.04869 143.995449 \nL 317.073513 142.772849 \nL 317.147984 144.495603 \nL 317.272103 143.050713 \nL 317.296927 143.384149 \nL 317.396222 143.365625 \nL 317.569988 146.940801 \nL 317.619635 145.551484 \nL 317.669283 146.422123 \nL 317.768577 148.885845 \nL 317.91752 148.237497 \nL 317.942344 148.089303 \nL 318.016815 144.125118 \nL 318.11611 144.365933 \nL 318.265052 142.03188 \nL 318.314699 141.216814 \nL 318.488465 136.789523 \nL 318.538113 135.641021 \nL 318.612584 135.918885 \nL 318.78635 139.086528 \nL 318.885645 135.19644 \nL 318.960116 134.863004 \nL 319.133882 129.139017 \nL 319.18353 131.028488 \nL 319.406943 133.436638 \nL 319.506238 131.324876 \nL 319.65518 128.972299 \nL 319.878594 133.566308 \nL 320.002712 130.306043 \nL 320.027536 131.47307 \nL 320.102007 129.89851 \nL 320.176478 129.41688 \nL 320.201302 130.86177 \nL 320.25095 129.101969 \nL 320.275773 129.287211 \nL 320.399892 128.379524 \nL 320.449539 128.490669 \nL 320.52401 128.212806 \nL 320.548834 128.564766 \nL 320.623305 128.472145 \nL 320.896366 127.249546 \nL 320.92119 127.286594 \nL 320.970837 127.990515 \nL 321.318369 121.432938 \nL 321.492136 126.934634 \nL 321.566607 124.211572 \nL 321.616254 122.599964 \nL 321.665902 124.563532 \nL 321.839668 121.933092 \nL 322.137552 117.728092 \nL 322.286495 123.915184 \nL 322.336142 122.840779 \nL 322.509908 118.617255 \nL 322.534732 118.50611 \nL 322.683674 121.877519 \nL 322.708498 120.543775 \nL 322.782969 120.136242 \nL 322.832616 126.101043 \nL 322.882264 125.934325 \nL 323.05603 120.65492 \nL 323.155325 120.803114 \nL 323.478033 125.897277 \nL 323.527681 124.545008 \nL 323.552504 125.489744 \nL 323.577328 126.749391 \nL 323.651799 125.637938 \nL 323.825565 120.284436 \nL 323.999331 121.988665 \nL 324.048979 121.155074 \nL 324.098626 121.896043 \nL 324.173097 121.655229 \nL 324.197921 121.173599 \nL 324.247569 121.914568 \nL 324.346863 125.267453 \nL 324.371687 124.545008 \nL 324.421335 123.433554 \nL 324.446158 124.785823 \nL 324.520629 124.98959 \nL 324.545453 125.545317 \nL 324.570277 124.37829 \nL 324.595101 124.841396 \nL 324.719219 121.599656 \nL 324.768867 122.025713 \nL 324.967456 127.1384 \nL 325.041928 126.953158 \nL 325.066751 125.489744 \nL 325.116399 127.323643 \nL 325.215694 129.805889 \nL 325.290165 125.786132 \nL 325.314988 127.027255 \nL 325.935582 114.245537 \nL 326.109348 107.539766 \nL 326.183819 110.80003 \nL 326.25829 109.225471 \nL 326.432056 120.228863 \nL 326.531351 114.208489 \nL 326.605822 112.596881 \nL 326.655469 113.33785 \nL 326.705117 119.524942 \nL 326.779588 119.413797 \nL 326.878883 112.541308 \nL 326.978178 110.9297 \nL 327.003001 112.226396 \nL 327.052649 114.967982 \nL 327.201591 112.411638 \nL 327.226415 114.097343 \nL 327.300886 113.467519 \nL 327.499476 105.001947 \nL 327.5243 105.316859 \nL 327.549123 107.928775 \nL 327.648418 107.595339 \nL 327.921479 116.042387 \nL 328.19454 102.779039 \nL 328.269011 110.207255 \nL 328.343482 106.928467 \nL 328.442777 107.150757 \nL 328.517248 107.187806 \nL 328.542072 109.281044 \nL 328.616543 108.336308 \nL 328.691014 108.465978 \nL 328.715838 106.817321 \nL 328.740662 109.595956 \nL 328.864781 113.634237 \nL 328.889604 111.226088 \nL 328.964075 114.727167 \nL 329.038547 116.227629 \nL 329.06337 114.338158 \nL 329.088194 116.746308 \nL 329.137841 117.616947 \nL 329.386079 110.170207 \nL 329.410902 110.688885 \nL 329.435726 111.151991 \nL 329.485374 110.003489 \nL 329.584668 111.226088 \nL 329.634316 113.726859 \nL 329.65914 113.189656 \nL 329.733611 112.893268 \nL 329.832906 107.55829 \nL 329.9322 106.743224 \nL 329.957024 107.725008 \nL 330.006672 107.132233 \nL 330.279733 102.5197 \nL 330.32938 102.982806 \nL 330.354204 103.390339 \nL 330.478322 101.037762 \nL 330.503146 101.371198 \nL 330.52797 103.260669 \nL 330.627265 103.242145 \nL 330.701736 96.443753 \nL 330.99962 88.997013 \nL 331.148563 80.716683 \nL 331.173387 83.699084 \nL 331.223034 82.569106 \nL 331.570566 71.676859 \nL 331.669861 75.455802 \nL 331.694685 75.344656 \nL 331.868451 60.451176 \nL 331.918098 61.451485 \nL 332.017393 56.301749 \nL 332.06704 57.96893 \nL 332.091864 58.80252 \nL 332.215983 53.356397 \nL 332.240806 55.319965 \nL 332.26563 57.913357 \nL 332.513867 48.651243 \nL 332.687633 62.840802 \nL 332.712457 55.357013 \nL 332.786928 64.637652 \nL 332.8614 64.971088 \nL 332.886223 67.860868 \nL 332.911047 55.282916 \nL 332.960694 57.042718 \nL 333.13446 66.60122 \nL 333.283403 65.267476 \nL 333.457169 75.474326 \nL 333.481993 75.418753 \nL 333.606111 65.248952 \nL 333.655759 67.342189 \nL 333.779877 63.081617 \nL 333.804701 63.433577 \nL 333.829525 67.675626 \nL 333.928819 67.21252 \nL 334.003291 62.785229 \nL 334.077762 65.100758 \nL 334.152233 65.008137 \nL 334.276352 60.988379 \nL 334.301175 61.414436 \nL 334.425294 65.193379 \nL 334.450118 64.878467 \nL 334.499765 65.63796 \nL 334.623884 57.950405 \nL 334.772826 54.301132 \nL 334.847297 58.080075 \nL 334.872121 56.542564 \nL 334.971416 56.060934 \nL 334.996239 56.227652 \nL 335.021063 54.189987 \nL 335.045887 56.727806 \nL 335.120358 56.838952 \nL 335.145182 57.579921 \nL 335.194829 64.156022 \nL 335.219653 61.56263 \nL 335.989188 37.925714 \nL 336.014012 38.148005 \nL 336.038836 38.499965 \nL 336.063659 40.926639 \nL 336.088483 40.574679 \nL 336.262249 36.721639 \nL 336.361544 41.760229 \nL 336.386368 39.426177 \nL 336.53531 31.275516 \nL 336.560134 31.219943 \nL 336.858018 42.075141 \nL 336.882842 41.574987 \nL 336.907666 39.000119 \nL 336.957313 43.797895 \nL 337.106256 50.022035 \nL 337.131079 49.614502 \nL 337.205551 48.317806 \nL 337.230374 44.501815 \nL 337.280022 48.873533 \nL 337.304845 54.653093 \nL 337.379317 48.503049 \nL 337.40414 53.76393 \nL 337.428964 52.874767 \nL 337.453788 54.72719 \nL 337.60273 58.339414 \nL 337.627554 58.043027 \nL 337.80132 72.343731 \nL 337.826144 69.97263 \nL 337.925438 71.028511 \nL 337.975086 75.437277 \nL 337.99991 74.918599 \nL 338.173676 63.729965 \nL 338.248147 59.135956 \nL 338.322618 59.173005 \nL 338.446737 62.618511 \nL 338.521208 73.492233 \nL 338.595679 74.362872 \nL 338.620503 71.41752 \nL 338.67015 74.399921 \nL 338.694974 79.475559 \nL 338.769445 77.178555 \nL 338.794269 73.325515 \nL 338.86874 77.048885 \nL 338.943211 76.826595 \nL 339.042506 79.531132 \nL 339.166624 69.472476 \nL 339.191448 71.232278 \nL 339.340391 77.623136 \nL 339.365214 75.97448 \nL 339.390038 76.789546 \nL 339.489333 85.570031 \nL 339.563804 81.97633 \nL 339.663099 80.753731 \nL 339.687923 78.401154 \nL 339.73757 97.314392 \nL 339.812041 94.776572 \nL 339.836865 92.627762 \nL 339.911336 93.813313 \nL 339.985807 96.703092 \nL 340.159573 86.385097 \nL 340.258868 91.460735 \nL 340.358163 91.497784 \nL 340.507105 95.925075 \nL 340.531929 94.331991 \nL 340.581577 96.277035 \nL 340.680871 101.760207 \nL 340.705695 98.907475 \nL 340.730519 100.315317 \nL 340.780166 98.759282 \nL 340.854637 97.184722 \nL 340.904285 99.62992 \nL 340.929109 98.555515 \nL 341.028404 92.609238 \nL 341.078051 93.535449 \nL 341.102875 93.368731 \nL 341.20217 90.590097 \nL 341.226993 91.201396 \nL 341.375936 99.481727 \nL 341.400759 99.259436 \nL 341.425583 98.685185 \nL 341.450407 99.778114 \nL 341.47523 100.945141 \nL 341.549702 100.167123 \nL 341.574525 99.981881 \nL 341.599349 97.740449 \nL 341.648997 99.259436 \nL 341.773115 106.187497 \nL 341.822763 109.336616 \nL 341.996529 102.482652 \nL 342.294413 90.516 \nL 342.319237 91.553357 \nL 342.468179 98.759282 \nL 342.517827 97.629304 \nL 342.691593 94.554282 \nL 342.790888 95.517542 \nL 342.840535 92.887101 \nL 342.93983 93.109392 \nL 342.989477 94.572806 \nL 343.014301 96.277035 \nL 343.113596 96.16589 \nL 343.33701 100.278268 \nL 343.535599 107.836154 \nL 343.883131 99.166815 \nL 343.907955 99.370581 \nL 343.982426 99.129766 \nL 344.056897 98.018312 \nL 344.181016 101.315625 \nL 344.255487 95.628687 \nL 344.503724 88.274568 \nL 344.578196 89.663885 \nL 344.603019 91.386639 \nL 344.702314 82.254194 \nL 344.851256 77.511991 \nL 344.950551 79.271793 \nL 345.025023 78.753114 \nL 345.124317 82.846969 \nL 345.223612 82.495009 \nL 345.372555 77.919524 \nL 345.546321 92.498092 \nL 345.571144 91.145824 \nL 345.720087 81.957806 \nL 345.74491 82.365339 \nL 345.893853 85.570031 \nL 345.9435 82.254194 \nL 345.993148 83.939899 \nL 346.067619 82.717299 \nL 346.092443 84.495625 \nL 346.14209 82.235669 \nL 346.489622 71.232278 \nL 346.514446 72.788313 \nL 346.588917 71.76948 \nL 346.613741 75.196463 \nL 346.688212 74.325824 \nL 346.762683 72.566022 \nL 346.81233 73.306991 \nL 346.837154 75.511374 \nL 346.861978 73.399612 \nL 346.936449 73.788621 \nL 346.961273 73.547806 \nL 346.986096 73.381088 \nL 347.01092 71.398996 \nL 347.035744 72.232586 \nL 347.159862 74.844502 \nL 347.184686 73.251418 \nL 347.20951 73.584855 \nL 347.283981 72.566022 \nL 347.482571 61.43296 \nL 347.532218 61.006903 \nL 347.557042 63.063093 \nL 347.631513 61.395912 \nL 347.681161 62.729656 \nL 347.705984 62.933423 \nL 347.87975 67.138423 \nL 347.979045 60.432652 \nL 348.053516 62.062784 \nL 348.252106 68.04611 \nL 348.326577 67.286617 \nL 348.425872 70.157872 \nL 348.500343 69.435427 \nL 348.549991 63.767013 \nL 348.599638 68.138731 \nL 348.748581 64.081925 \nL 348.773404 66.712366 \nL 348.847875 65.563864 \nL 348.922347 78.827211 \nL 348.94717 78.623445 \nL 349.021642 78.364106 \nL 349.269879 66.304833 \nL 349.294702 66.415978 \nL 349.393997 65.878775 \nL 349.567763 72.177013 \nL 349.592587 73.418137 \nL 349.617411 70.713599 \nL 349.642235 71.084084 \nL 349.716706 70.676551 \nL 349.766353 69.472476 \nL 349.816001 69.97263 \nL 349.890472 69.861485 \nL 349.940119 68.361022 \nL 349.964943 69.917057 \nL 349.989767 71.491617 \nL 350.064238 70.954414 \nL 350.262828 66.156639 \nL 350.41177 68.323974 \nL 350.461417 66.786463 \nL 350.486241 67.786771 \nL 350.61036 71.825053 \nL 350.635183 70.009678 \nL 350.684831 72.825361 \nL 350.759302 72.288159 \nL 350.784126 73.269943 \nL 350.833773 71.436044 \nL 350.957892 69.639194 \nL 350.982715 71.473093 \nL 351.106834 53.226727 \nL 351.131658 53.689833 \nL 351.156481 54.282608 \nL 351.206129 53.63426 \nL 351.2806 51.429877 \nL 351.305424 53.15263 \nL 351.379895 54.616044 \nL 351.504014 52.411661 \nL 351.528837 53.745405 \nL 351.553661 51.448401 \nL 352.174254 34.980362 \nL 352.199078 35.702807 \nL 352.248725 40.482058 \nL 352.323196 38.777829 \nL 352.397667 39.407652 \nL 352.521786 42.334481 \nL 352.54661 42.186287 \nL 352.844494 31.794194 \nL 352.869318 32.942696 \n\" style=\"fill:none;stroke:#1f77b4;stroke-linecap:square;stroke-width:1.5;\"/>\n   </g>\n   <g id=\"patch_3\">\n    <path d=\"M 33.2875 218.158125 \nL 33.2875 22.318125 \n\" style=\"fill:none;stroke:#000000;stroke-linecap:square;stroke-linejoin:miter;stroke-width:0.8;\"/>\n   </g>\n   <g id=\"patch_4\">\n    <path d=\"M 368.0875 218.158125 \nL 368.0875 22.318125 \n\" style=\"fill:none;stroke:#000000;stroke-linecap:square;stroke-linejoin:miter;stroke-width:0.8;\"/>\n   </g>\n   <g id=\"patch_5\">\n    <path d=\"M 33.2875 218.158125 \nL 368.0875 218.158125 \n\" style=\"fill:none;stroke:#000000;stroke-linecap:square;stroke-linejoin:miter;stroke-width:0.8;\"/>\n   </g>\n   <g id=\"patch_6\">\n    <path d=\"M 33.2875 22.318125 \nL 368.0875 22.318125 \n\" style=\"fill:none;stroke:#000000;stroke-linecap:square;stroke-linejoin:miter;stroke-width:0.8;\"/>\n   </g>\n   <g id=\"text_18\">\n    <!-- Apple Stock -->\n    <defs>\n     <path d=\"M 34.1875 63.1875 \nL 20.796875 26.90625 \nL 47.609375 26.90625 \nz\nM 28.609375 72.90625 \nL 39.796875 72.90625 \nL 67.578125 0 \nL 57.328125 0 \nL 50.6875 18.703125 \nL 17.828125 18.703125 \nL 11.1875 0 \nL 0.78125 0 \nz\n\" id=\"DejaVuSans-65\"/>\n     <path d=\"M 18.109375 8.203125 \nL 18.109375 -20.796875 \nL 9.078125 -20.796875 \nL 9.078125 54.6875 \nL 18.109375 54.6875 \nL 18.109375 46.390625 \nQ 20.953125 51.265625 25.265625 53.625 \nQ 29.59375 56 35.59375 56 \nQ 45.5625 56 51.78125 48.09375 \nQ 58.015625 40.1875 58.015625 27.296875 \nQ 58.015625 14.40625 51.78125 6.484375 \nQ 45.5625 -1.421875 35.59375 -1.421875 \nQ 29.59375 -1.421875 25.265625 0.953125 \nQ 20.953125 3.328125 18.109375 8.203125 \nz\nM 48.6875 27.296875 \nQ 48.6875 37.203125 44.609375 42.84375 \nQ 40.53125 48.484375 33.40625 48.484375 \nQ 26.265625 48.484375 22.1875 42.84375 \nQ 18.109375 37.203125 18.109375 27.296875 \nQ 18.109375 17.390625 22.1875 11.75 \nQ 26.265625 6.109375 33.40625 6.109375 \nQ 40.53125 6.109375 44.609375 11.75 \nQ 48.6875 17.390625 48.6875 27.296875 \nz\n\" id=\"DejaVuSans-112\"/>\n     <path d=\"M 9.421875 75.984375 \nL 18.40625 75.984375 \nL 18.40625 0 \nL 9.421875 0 \nz\n\" id=\"DejaVuSans-108\"/>\n     <path id=\"DejaVuSans-32\"/>\n     <path d=\"M 53.515625 70.515625 \nL 53.515625 60.890625 \nQ 47.90625 63.578125 42.921875 64.890625 \nQ 37.9375 66.21875 33.296875 66.21875 \nQ 25.25 66.21875 20.875 63.09375 \nQ 16.5 59.96875 16.5 54.203125 \nQ 16.5 49.359375 19.40625 46.890625 \nQ 22.3125 44.4375 30.421875 42.921875 \nL 36.375 41.703125 \nQ 47.40625 39.59375 52.65625 34.296875 \nQ 57.90625 29 57.90625 20.125 \nQ 57.90625 9.515625 50.796875 4.046875 \nQ 43.703125 -1.421875 29.984375 -1.421875 \nQ 24.8125 -1.421875 18.96875 -0.25 \nQ 13.140625 0.921875 6.890625 3.21875 \nL 6.890625 13.375 \nQ 12.890625 10.015625 18.65625 8.296875 \nQ 24.421875 6.59375 29.984375 6.59375 \nQ 38.421875 6.59375 43.015625 9.90625 \nQ 47.609375 13.234375 47.609375 19.390625 \nQ 47.609375 24.75 44.3125 27.78125 \nQ 41.015625 30.8125 33.5 32.328125 \nL 27.484375 33.5 \nQ 16.453125 35.6875 11.515625 40.375 \nQ 6.59375 45.0625 6.59375 53.421875 \nQ 6.59375 63.09375 13.40625 68.65625 \nQ 20.21875 74.21875 32.171875 74.21875 \nQ 37.3125 74.21875 42.625 73.28125 \nQ 47.953125 72.359375 53.515625 70.515625 \nz\n\" id=\"DejaVuSans-83\"/>\n     <path d=\"M 30.609375 48.390625 \nQ 23.390625 48.390625 19.1875 42.75 \nQ 14.984375 37.109375 14.984375 27.296875 \nQ 14.984375 17.484375 19.15625 11.84375 \nQ 23.34375 6.203125 30.609375 6.203125 \nQ 37.796875 6.203125 41.984375 11.859375 \nQ 46.1875 17.53125 46.1875 27.296875 \nQ 46.1875 37.015625 41.984375 42.703125 \nQ 37.796875 48.390625 30.609375 48.390625 \nz\nM 30.609375 56 \nQ 42.328125 56 49.015625 48.375 \nQ 55.71875 40.765625 55.71875 27.296875 \nQ 55.71875 13.875 49.015625 6.21875 \nQ 42.328125 -1.421875 30.609375 -1.421875 \nQ 18.84375 -1.421875 12.171875 6.21875 \nQ 5.515625 13.875 5.515625 27.296875 \nQ 5.515625 40.765625 12.171875 48.375 \nQ 18.84375 56 30.609375 56 \nz\n\" id=\"DejaVuSans-111\"/>\n     <path d=\"M 48.78125 52.59375 \nL 48.78125 44.1875 \nQ 44.96875 46.296875 41.140625 47.34375 \nQ 37.3125 48.390625 33.40625 48.390625 \nQ 24.65625 48.390625 19.8125 42.84375 \nQ 14.984375 37.3125 14.984375 27.296875 \nQ 14.984375 17.28125 19.8125 11.734375 \nQ 24.65625 6.203125 33.40625 6.203125 \nQ 37.3125 6.203125 41.140625 7.25 \nQ 44.96875 8.296875 48.78125 10.40625 \nL 48.78125 2.09375 \nQ 45.015625 0.34375 40.984375 -0.53125 \nQ 36.96875 -1.421875 32.421875 -1.421875 \nQ 20.0625 -1.421875 12.78125 6.34375 \nQ 5.515625 14.109375 5.515625 27.296875 \nQ 5.515625 40.671875 12.859375 48.328125 \nQ 20.21875 56 33.015625 56 \nQ 37.15625 56 41.109375 55.140625 \nQ 45.0625 54.296875 48.78125 52.59375 \nz\n\" id=\"DejaVuSans-99\"/>\n     <path d=\"M 9.078125 75.984375 \nL 18.109375 75.984375 \nL 18.109375 31.109375 \nL 44.921875 54.6875 \nL 56.390625 54.6875 \nL 27.390625 29.109375 \nL 57.625 0 \nL 45.90625 0 \nL 18.109375 26.703125 \nL 18.109375 0 \nL 9.078125 0 \nz\n\" id=\"DejaVuSans-107\"/>\n    </defs>\n    <g transform=\"translate(165.093437 16.318125)scale(0.12 -0.12)\">\n     <use xlink:href=\"#DejaVuSans-65\"/>\n     <use x=\"68.408203\" xlink:href=\"#DejaVuSans-112\"/>\n     <use x=\"131.884766\" xlink:href=\"#DejaVuSans-112\"/>\n     <use x=\"195.361328\" xlink:href=\"#DejaVuSans-108\"/>\n     <use x=\"223.144531\" xlink:href=\"#DejaVuSans-101\"/>\n     <use x=\"284.667969\" xlink:href=\"#DejaVuSans-32\"/>\n     <use x=\"316.455078\" xlink:href=\"#DejaVuSans-83\"/>\n     <use x=\"379.931641\" xlink:href=\"#DejaVuSans-116\"/>\n     <use x=\"419.140625\" xlink:href=\"#DejaVuSans-111\"/>\n     <use x=\"480.322266\" xlink:href=\"#DejaVuSans-99\"/>\n     <use x=\"535.302734\" xlink:href=\"#DejaVuSans-107\"/>\n    </g>\n   </g>\n  </g>\n </g>\n <defs>\n  <clipPath id=\"p8eee84f9a1\">\n   <rect height=\"195.84\" width=\"334.8\" x=\"33.2875\" y=\"22.318125\"/>\n  </clipPath>\n </defs>\n</svg>\n",
      "image/png": "[encoded data removed]"
     },
     "metadata": {
      "needs_background": "light"
     }
    }
   ],
   "source": [
    "Apple[\"Adj Close\"].plot(kind=\"line\", title=\"Apple Stock\")\n"
   ]
  },
  {
   "cell_type": "code",
   "execution_count": 81,
   "metadata": {
    "collapsed": false
   },
   "outputs": [
    {
     "data": {
      "image/png": "[encoded data removed]",
      "text/plain": [
       "<matplotlib.figure.Figure at 0x116367690>"
      ]
     },
     "metadata": {},
     "output_type": "display_data"
    }
   ],
   "source": []
  },
  {
   "cell_type": "code",
   "execution_count": null,
   "metadata": {
    "collapsed": true
   },
   "outputs": [],
   "source": []
  }
 ],
 "metadata": {
  "anaconda-cloud": {},
  "kernelspec": {
   "display_name": "Python 3.8.3 64-bit",
   "language": "python",
   "name": "python_defaultSpec_1595440308263"
  },
  "language_info": {
   "codemirror_mode": {
    "name": "ipython",
    "version": 2
   },
   "file_extension": ".py",
   "mimetype": "text/x-python",
   "name": "python",
   "nbconvert_exporter": "python",
   "pygments_lexer": "ipython2",
   "version": "2.7.12"
  }
 },
 "nbformat": 4,
 "nbformat_minor": 0
}