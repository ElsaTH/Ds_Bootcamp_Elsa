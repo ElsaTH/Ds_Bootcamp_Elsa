{
 "metadata": {
  "language_info": {
   "codemirror_mode": {
    "name": "ipython",
    "version": 3
   },
   "file_extension": ".py",
   "mimetype": "text/x-python",
   "name": "python",
   "nbconvert_exporter": "python",
   "pygments_lexer": "ipython3",
   "version": "3.6.4-final"
  },
  "orig_nbformat": 2,
  "kernelspec": {
   "name": "Python 3.6.4 64-bit",
   "display_name": "Python 3.6.4 64-bit",
   "metadata": {
    "interpreter": {
     "hash": "5c4d2f1fdcd3716c7a5eea90ad07be30193490dd4e63617705244f5fd89ea793"
    }
   }
  }
 },
 "nbformat": 4,
 "nbformat_minor": 2,
 "cells": [
  {
   "source": [
    "===============================\n",
    "\n",
    "### IMPORTS & GET DATABASE INFO"
   ],
   "cell_type": "markdown",
   "metadata": {}
  },
  {
   "cell_type": "code",
   "execution_count": 1,
   "metadata": {},
   "outputs": [],
   "source": [
    "from jsons import read_json_to_dict\n",
    "from mysql_driver import MySQL\n",
    "import pandas as pd\n",
    "from sqlalchemy import create_engine\n",
    "\n",
    "json_readed = read_json_to_dict(\"sql_server_settings.json\")\n",
    "IP_DNS = json_readed[\"IP_DNS\"]\n",
    "USER = json_readed[\"USER\"]\n",
    "PASSWORD = json_readed[\"PASSWORD\"]\n",
    "BD_NAME = json_readed[\"BD_NAME\"]\n",
    "PORT = json_readed[\"PORT\"]"
   ]
  },
  {
   "cell_type": "code",
   "execution_count": 2,
   "metadata": {},
   "outputs": [
    {
     "output_type": "stream",
     "name": "stdout",
     "text": [
      "Connected to MySQL server [datasciencetb_db]\n"
     ]
    }
   ],
   "source": [
    "# Connect to MySQL\n",
    "mysql_db = MySQL(IP_DNS=IP_DNS, USER=USER, PASSWORD=PASSWORD, BD_NAME=BD_NAME, PORT=PORT)\n",
    "mysql_db.connect()"
   ]
  },
  {
   "source": [
    "============== \n",
    "\n",
    "### DROP TABLE"
   ],
   "cell_type": "markdown",
   "metadata": {}
  },
  {
   "cell_type": "code",
   "execution_count": 3,
   "metadata": {},
   "outputs": [
    {
     "output_type": "stream",
     "name": "stdout",
     "text": [
      "Executed \n\nDROP TABLE IF EXISTS people\n\n successfully\n"
     ]
    },
    {
     "output_type": "execute_result",
     "data": {
      "text/plain": [
       "1"
      ]
     },
     "metadata": {},
     "execution_count": 3
    }
   ],
   "source": [
    "# Drop table if it already exist using execute() method.\n",
    "#mysql_db.cursor.execute(\"DROP TABLE IF EXISTS people\")\n",
    "\n",
    "mysql_db.execute_interactive_sql(sql=\"DROP TABLE IF EXISTS people\")"
   ]
  },
  {
   "source": [
    "============== \n",
    "\n",
    "### CREATE TABLE"
   ],
   "cell_type": "markdown",
   "metadata": {}
  },
  {
   "cell_type": "code",
   "execution_count": 4,
   "metadata": {},
   "outputs": [
    {
     "output_type": "stream",
     "name": "stdout",
     "text": [
      "Executed \n\nCREATE TABLE people(\n    ID INT(11) NOT NULL AUTO_INCREMENT,\n    MOMENTO TIMESTAMP NOT NULL,\n    NOMBRE  VARCHAR(20) NOT NULL,\n    APELLIDOS VARCHAR(100) NOT NULL,\n    DIRECCION VARCHAR(50),\n    EDAD INT,\n    NOTA VARCHAR(40),\n    PRIMARY KEY (ID))\n\n successfully\n"
     ]
    },
    {
     "output_type": "execute_result",
     "data": {
      "text/plain": [
       "1"
      ]
     },
     "metadata": {},
     "execution_count": 4
    }
   ],
   "source": [
    "# Create table as per requirement\n",
    "create_table_sql = \"\"\"CREATE TABLE people(\n",
    "    ID INT(11) NOT NULL AUTO_INCREMENT,\n",
    "    MOMENTO TIMESTAMP NOT NULL,\n",
    "    NOMBRE  VARCHAR(20) NOT NULL,\n",
    "    APELLIDOS VARCHAR(100) NOT NULL,\n",
    "    DIRECCION VARCHAR(50),\n",
    "    EDAD INT,\n",
    "    NOTA VARCHAR(40),\n",
    "    PRIMARY KEY (ID))\"\"\"\n",
    "\n",
    "mysql_db.execute_interactive_sql(sql=create_table_sql)"
   ]
  },
  {
   "source": [
    "============== \n",
    "\n",
    "### SELECT TABLE"
   ],
   "cell_type": "markdown",
   "metadata": {}
  },
  {
   "cell_type": "code",
   "execution_count": 5,
   "metadata": {},
   "outputs": [
    {
     "output_type": "stream",
     "name": "stdout",
     "text": [
      "Executing:\n SELECT * FROM people\n"
     ]
    },
    {
     "output_type": "execute_result",
     "data": {
      "text/plain": [
       "tuple"
      ]
     },
     "metadata": {},
     "execution_count": 5
    }
   ],
   "source": [
    "# Select\n",
    "select_sql = \"\"\"SELECT * FROM people\"\"\"\n",
    "select_result = mysql_db.execute_get_sql(sql=select_sql)\n",
    "\n",
    "# tupla de tuplas\n",
    "type(select_result)"
   ]
  },
  {
   "cell_type": "code",
   "execution_count": 6,
   "metadata": {},
   "outputs": [
    {
     "output_type": "execute_result",
     "data": {
      "text/plain": [
       "()"
      ]
     },
     "metadata": {},
     "execution_count": 6
    }
   ],
   "source": [
    "select_result"
   ]
  },
  {
   "source": [
    "============== \n",
    "\n",
    "### INSERT TABLE"
   ],
   "cell_type": "markdown",
   "metadata": {}
  },
  {
   "source": [
    "# Insert\n",
    "\n",
    "to_insert_1 = [\"Pepito\", \"Wolfram_Eustaquio\", \"Calle Bellavista 9º-B\", \"67\", \"Enfermedad: Ceguera\"]\n",
    "to_insert_2 = [\"Juanita\", \"Data Science\", \"Calle Recoletos\", \"15\", \"Está muy alegre siempre\"]\n",
    "\n",
    "sql_to_insert_1 = mysql_db.generate_insert_into_people_sql(to_insert=to_insert_1)\n",
    "sql_to_insert_2 = mysql_db.generate_insert_into_people_sql(to_insert=to_insert_2)"
   ],
   "cell_type": "code",
   "metadata": {},
   "execution_count": 7,
   "outputs": []
  },
  {
   "cell_type": "code",
   "execution_count": 8,
   "metadata": {},
   "outputs": [
    {
     "output_type": "execute_result",
     "data": {
      "text/plain": [
       "\"INSERT INTO people (MOMENTO, NOMBRE, APELLIDOS, DIRECCION, EDAD, NOTA) VALUES (NOW(), 'Pepito', 'Wolfram_Eustaquio', 'Calle Bellavista 9º-B', '67', 'Enfermedad: Ceguera')\""
      ]
     },
     "metadata": {},
     "execution_count": 8
    }
   ],
   "source": [
    "sql_to_insert_1"
   ]
  },
  {
   "cell_type": "code",
   "execution_count": 9,
   "metadata": {},
   "outputs": [
    {
     "output_type": "stream",
     "name": "stdout",
     "text": [
      "Executed \n\nINSERT INTO people (MOMENTO, NOMBRE, APELLIDOS, DIRECCION, EDAD, NOTA) VALUES (NOW(), 'Pepito', 'Wolfram_Eustaquio', 'Calle Bellavista 9º-B', '67', 'Enfermedad: Ceguera')\n\n successfully\nExecuted \n\nINSERT INTO people (MOMENTO, NOMBRE, APELLIDOS, DIRECCION, EDAD, NOTA) VALUES (NOW(), 'Juanita', 'Data Science', 'Calle Recoletos', '15', 'Está muy alegre siempre')\n\n successfully\n"
     ]
    },
    {
     "output_type": "execute_result",
     "data": {
      "text/plain": [
       "1"
      ]
     },
     "metadata": {},
     "execution_count": 9
    }
   ],
   "source": [
    "mysql_db.execute_interactive_sql(sql=sql_to_insert_1)\n",
    "mysql_db.execute_interactive_sql(sql=sql_to_insert_2)"
   ]
  },
  {
   "source": [
    "=====================\n",
    "\n",
    "### SELECT COLUMNS"
   ],
   "cell_type": "markdown",
   "metadata": {}
  },
  {
   "cell_type": "code",
   "execution_count": 10,
   "metadata": {},
   "outputs": [
    {
     "output_type": "stream",
     "name": "stdout",
     "text": [
      "Executing:\n SELECT * FROM people\n"
     ]
    },
    {
     "output_type": "execute_result",
     "data": {
      "text/plain": [
       "((1,\n",
       "  datetime.datetime(2020, 10, 13, 20, 57, 51),\n",
       "  'Pepito',\n",
       "  'Wolfram_Eustaquio',\n",
       "  'Calle Bellavista 9º-B',\n",
       "  67,\n",
       "  'Enfermedad: Ceguera'),\n",
       " (2,\n",
       "  datetime.datetime(2020, 10, 13, 20, 57, 51),\n",
       "  'Juanita',\n",
       "  'Data Science',\n",
       "  'Calle Recoletos',\n",
       "  15,\n",
       "  'Está muy alegre siempre'))"
      ]
     },
     "metadata": {},
     "execution_count": 10
    }
   ],
   "source": [
    "select_result = mysql_db.execute_get_sql(sql=select_sql)\n",
    "select_result"
   ]
  },
  {
   "source": [
    "### Select with pandas"
   ],
   "cell_type": "markdown",
   "metadata": {}
  },
  {
   "cell_type": "code",
   "execution_count": 11,
   "metadata": {},
   "outputs": [
    {
     "output_type": "execute_result",
     "data": {
      "text/plain": [
       "   ID             MOMENTO   NOMBRE          APELLIDOS              DIRECCION  EDAD                     NOTA\n",
       "0   1 2020-10-13 20:57:51   Pepito  Wolfram_Eustaquio  Calle Bellavista 9º-B    67      Enfermedad: Ceguera\n",
       "1   2 2020-10-13 20:57:51  Juanita       Data Science        Calle Recoletos    15  Está muy alegre siempre"
      ],
      "text/html": "<div>\n<style scoped>\n    .dataframe tbody tr th:only-of-type {\n        vertical-align: middle;\n    }\n\n    .dataframe tbody tr th {\n        vertical-align: top;\n    }\n\n    .dataframe thead th {\n        text-align: right;\n    }\n</style>\n<table border=\"1\" class=\"dataframe\">\n  <thead>\n    <tr style=\"text-align: right;\">\n      <th></th>\n      <th>ID</th>\n      <th>MOMENTO</th>\n      <th>NOMBRE</th>\n      <th>APELLIDOS</th>\n      <th>DIRECCION</th>\n      <th>EDAD</th>\n      <th>NOTA</th>\n    </tr>\n  </thead>\n  <tbody>\n    <tr>\n      <th>0</th>\n      <td>1</td>\n      <td>2020-10-13 20:57:51</td>\n      <td>Pepito</td>\n      <td>Wolfram_Eustaquio</td>\n      <td>Calle Bellavista 9º-B</td>\n      <td>67</td>\n      <td>Enfermedad: Ceguera</td>\n    </tr>\n    <tr>\n      <th>1</th>\n      <td>2</td>\n      <td>2020-10-13 20:57:51</td>\n      <td>Juanita</td>\n      <td>Data Science</td>\n      <td>Calle Recoletos</td>\n      <td>15</td>\n      <td>Está muy alegre siempre</td>\n    </tr>\n  </tbody>\n</table>\n</div>"
     },
     "metadata": {},
     "execution_count": 11
    }
   ],
   "source": [
    "db_connection_str = mysql_db.SQL_ALCHEMY\n",
    "db_connection = create_engine(db_connection_str)\n",
    "\n",
    "df = pd.read_sql(\"select * from people\", db_connection)\n",
    "pd.set_option('display.expand_frame_repr', False)\n",
    "\n",
    "df"
   ]
  },
  {
   "source": [
    "### Insert from pandas"
   ],
   "cell_type": "markdown",
   "metadata": {}
  },
  {
   "cell_type": "code",
   "execution_count": 12,
   "metadata": {},
   "outputs": [
    {
     "output_type": "stream",
     "name": "stdout",
     "text": [
      "Success\n"
     ]
    }
   ],
   "source": [
    "table_to_insert = \"people\"\n",
    "\n",
    "df_to_insert = df.drop(columns=[\"ID\"])\n",
    "to_append = \"append\"\n",
    "to_replace = \"replace\"\n",
    "\n",
    "try:\n",
    "    frame_sql  = df_to_insert.to_sql(name=table_to_insert, con=db_connection, if_exists=to_append, index=False)\n",
    "    print(\"Success\")\n",
    "except Exception as error:\n",
    "    print(error)"
   ]
  },
  {
   "cell_type": "code",
   "execution_count": 13,
   "metadata": {},
   "outputs": [
    {
     "output_type": "stream",
     "name": "stdout",
     "text": [
      "Executing:\n SELECT * FROM people\n===========\n1 Pepito\n===========\n2 Juanita\n"
     ]
    }
   ],
   "source": [
    "# Select\n",
    "select_sql = \"\"\"SELECT * FROM people\"\"\"\n",
    "select_result = mysql_db.execute_get_sql(sql=select_sql)\n",
    "\n",
    "for row in select_result:\n",
    "    ID = row[0]\n",
    "    MOMENT = row[1]\n",
    "    NAME = row[2]\n",
    "\n",
    "    print(\"===========\")\n",
    "    print(ID, NAME)"
   ]
  },
  {
   "source": [
    "=============================\n",
    "\n",
    "### Drop row"
   ],
   "cell_type": "markdown",
   "metadata": {}
  },
  {
   "cell_type": "code",
   "execution_count": 15,
   "metadata": {},
   "outputs": [
    {
     "output_type": "stream",
     "name": "stdout",
     "text": [
      "Executed \n\nDELETE FROM people WHERE NOMBRE='Pepito';\n\n successfully\n"
     ]
    },
    {
     "output_type": "execute_result",
     "data": {
      "text/plain": [
       "1"
      ]
     },
     "metadata": {},
     "execution_count": 15
    }
   ],
   "source": [
    "sql_drop = \"\"\"DELETE FROM people WHERE NOMBRE='Pepito';\"\"\"\n",
    "\n",
    "mysql_db.execute_interactive_sql(sql=sql_drop)"
   ]
  },
  {
   "source": [
    "=============================\n",
    "\n",
    "### Update row"
   ],
   "cell_type": "markdown",
   "metadata": {}
  },
  {
   "cell_type": "code",
   "execution_count": 16,
   "metadata": {},
   "outputs": [
    {
     "output_type": "stream",
     "name": "stdout",
     "text": [
      "Executed \n\nUPDATE people set EDAD=102 WHERE NOMBRE='Juanita';\n\n successfully\n"
     ]
    },
    {
     "output_type": "execute_result",
     "data": {
      "text/plain": [
       "1"
      ]
     },
     "metadata": {},
     "execution_count": 16
    }
   ],
   "source": [
    "sql_update = \"\"\"UPDATE people set EDAD=102 WHERE NOMBRE='Juanita';\"\"\"\n",
    "\n",
    "mysql_db.execute_interactive_sql(sql=sql_update)"
   ]
  },
  {
   "cell_type": "code",
   "execution_count": 17,
   "metadata": {},
   "outputs": [
    {
     "output_type": "stream",
     "name": "stdout",
     "text": [
      "Executing:\n SELECT * FROM people\n"
     ]
    },
    {
     "output_type": "execute_result",
     "data": {
      "text/plain": [
       "((2,\n",
       "  datetime.datetime(2020, 10, 13, 20, 58, 10),\n",
       "  'Juanita',\n",
       "  'Data Science',\n",
       "  'Calle Recoletos',\n",
       "  102,\n",
       "  'Está muy alegre siempre'),\n",
       " (4,\n",
       "  datetime.datetime(2020, 10, 13, 20, 58, 10),\n",
       "  'Juanita',\n",
       "  'Data Science',\n",
       "  'Calle Recoletos',\n",
       "  102,\n",
       "  'Está muy alegre siempre'))"
      ]
     },
     "metadata": {},
     "execution_count": 17
    }
   ],
   "source": [
    "# Select\n",
    "select_sql = \"\"\"SELECT * FROM people\"\"\"\n",
    "select_result = mysql_db.execute_get_sql(sql=select_sql)\n",
    "select_result"
   ]
  },
  {
   "cell_type": "code",
   "execution_count": 19,
   "metadata": {},
   "outputs": [
    {
     "output_type": "stream",
     "name": "stdout",
     "text": [
      "Close connection with MySQL server [datasciencetb_db]\n"
     ]
    }
   ],
   "source": [
    "mysql_db.close()"
   ]
  },
  {
   "cell_type": "code",
   "execution_count": null,
   "metadata": {},
   "outputs": [],
   "source": []
  }
 ]
}