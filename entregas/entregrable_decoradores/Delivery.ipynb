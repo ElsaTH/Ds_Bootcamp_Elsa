{
 "cells": [
  {
   "cell_type": "code",
   "execution_count": null,
   "metadata": {},
   "outputs": [],
   "source": [
    "## Creo funcion lambda:"
   ]
  },
  {
   "cell_type": "code",
   "execution_count": 16,
   "metadata": {},
   "outputs": [
    {
     "output_type": "execute_result",
     "data": {
      "text/plain": "[6, 8]"
     },
     "metadata": {},
     "execution_count": 16
    }
   ],
   "source": [
    "l1 = [4,6,8]\n",
    "list(filter(lambda x: (x> 5) , l1))"
   ]
  },
  {
   "cell_type": "code",
   "execution_count": 53,
   "metadata": {
    "tags": []
   },
   "outputs": [
    {
     "output_type": "stream",
     "name": "stdout",
     "text": "True\n"
    }
   ],
   "source": [
    "def f1(x):\n",
    "    if x>5:\n",
    "        print (True)\n",
    "    else:\n",
    "        print(False)   \n",
    "f1(x=7)"
   ]
  },
  {
   "cell_type": "code",
   "execution_count": 54,
   "metadata": {},
   "outputs": [
    {
     "output_type": "execute_result",
     "data": {
      "text/plain": "True"
     },
     "metadata": {},
     "execution_count": 54
    }
   ],
   "source": [
    "f2 = lambda x: True if x >5 else False\n",
    "f2(x=8)"
   ]
  },
  {
   "cell_type": "code",
   "execution_count": 39,
   "metadata": {},
   "outputs": [
    {
     "output_type": "execute_result",
     "data": {
      "text/plain": "False"
     },
     "metadata": {},
     "execution_count": 39
    }
   ],
   "source": [
    "def f2():\n",
    "    l1=[]\n",
    "    for l1 in range(0,16):\n",
    "        if l1>5:\n",
    "            print(l1)\n",
    "            return True\n",
    "        else:\n",
    "            return False\n",
    "f2()"
   ]
  },
  {
   "cell_type": "code",
   "execution_count": 60,
   "metadata": {},
   "outputs": [
    {
     "output_type": "execute_result",
     "data": {
      "text/plain": "[0, 1, 2, 3, 4, 5, 6, 7, 8, 9, 10, 11, 12, 13, 14, 15]"
     },
     "metadata": {},
     "execution_count": 60
    }
   ],
   "source": [
    "fx = [ l1 for l1 in range(0,16) ]\n",
    "fx"
   ]
  },
  {
   "cell_type": "code",
   "execution_count": null,
   "metadata": {},
   "outputs": [],
   "source": []
  },
  {
   "cell_type": "code",
   "execution_count": 52,
   "metadata": {},
   "outputs": [
    {
     "output_type": "execute_result",
     "data": {
      "text/plain": "[6, 7, 8, 9, 10, 11, 12, 13, 14, 15]"
     },
     "metadata": {},
     "execution_count": 52
    }
   ],
   "source": [
    "\n",
    "\n",
    "l2= list(filter(lambda x: (x> 5) , l1))\n",
    "l1 = [ l2 for l2 in range(0,16) ]\n",
    "l1\n",
    "l2"
   ]
  },
  {
   "cell_type": "code",
   "execution_count": 53,
   "metadata": {},
   "outputs": [
    {
     "output_type": "execute_result",
     "data": {
      "text/plain": "[6, 7, 8, 9, 10, 11, 12, 13, 14, 15]"
     },
     "metadata": {},
     "execution_count": 53
    }
   ],
   "source": [
    "l1 = [ l2 for l2 in range(0,16) ]\n",
    "list(filter(lambda x: (x> 5) , l1))"
   ]
  },
  {
   "cell_type": "code",
   "execution_count": null,
   "metadata": {},
   "outputs": [],
   "source": [
    "from functools import wraps\n",
    "​\n",
    "def pepe_el_decorador(*args, **kwargs):\n",
    "    def alter_ego_de_pepe(cualquier_funcion_que_pepe_decore):\n",
    "        @wraps(cualquier_funcion_que_pepe_decore)\n",
    "        def wrapper(*a, **k):\n",
    "            if args:\n",
    "                print(\"args:\",args)\n",
    "            if kwargs:\n",
    "                print(\"kwargs:\",kwargs)\n",
    "            if a:\n",
    "                print(\"a:\",a)\n",
    "            if k:\n",
    "                print(\"k:\",k)\n",
    "            return (\"esto es lo que devuelve 'wrapper':\",cualquier_funcion_que_pepe_decore(*a,**k))\n",
    "        print(wrapper, \"\\nlo devuelve la función alter_ego_de_pepe\")\n",
    "        return wrapper\n",
    "    return alter_ego_de_pepe\n",
    "​\n",
    "​\n",
    "@pepe_el_decorador(808080, quiwars=\"este es el valor de kwargs del decorador\")\n",
    "def funcion_decorada_por_pepe(ar, kw):\n",
    "    print(\"este es el parámetro 'ar' de 'funcion_decorada_por_pepe:\", ar)\n",
    "    print(\"este es el parámetro 'kw':\",kw)\n",
    "    return \"Esto es lo que devuelve la función decorada\"\n",
    "​\n",
    "funcion_decorada_por_pepe(\"en wrapper soy '*a'\", kw = \"en wrapper soy '**k'\")"
   ]
  },
  {
   "cell_type": "code",
   "execution_count": 47,
   "metadata": {},
   "outputs": [
    {
     "output_type": "error",
     "ename": "SyntaxError",
     "evalue": "unexpected EOF while parsing (<ipython-input-47-be6d505411d3>, line 1)",
     "traceback": [
      "\u001b[0;36m  File \u001b[0;32m\"<ipython-input-47-be6d505411d3>\"\u001b[0;36m, line \u001b[0;32m1\u001b[0m\n\u001b[0;31m    list(filter(lambda x: (x> 5) , [ x for x in range(0,16) ])\u001b[0m\n\u001b[0m                                                              ^\u001b[0m\n\u001b[0;31mSyntaxError\u001b[0m\u001b[0;31m:\u001b[0m unexpected EOF while parsing\n"
     ]
    }
   ],
   "source": [
    "list(filter(lambda x: (x> 5) , [ x for x in range(0,16) ])\n"
   ]
  },
  {
   "cell_type": "code",
   "execution_count": 50,
   "metadata": {},
   "outputs": [
    {
     "output_type": "error",
     "ename": "SyntaxError",
     "evalue": "invalid syntax (<ipython-input-50-a0d68ca47ee7>, line 2)",
     "traceback": [
      "\u001b[0;36m  File \u001b[0;32m\"<ipython-input-50-a0d68ca47ee7>\"\u001b[0;36m, line \u001b[0;32m2\u001b[0m\n\u001b[0;31m    l1=[ x for x in range(0,16) ]\u001b[0m\n\u001b[0m    ^\u001b[0m\n\u001b[0;31mSyntaxError\u001b[0m\u001b[0;31m:\u001b[0m invalid syntax\n"
     ]
    }
   ],
   "source": [
    "fx=list(lambda x: (x> 5)\n",
    "l1=[ x for x in range(0,16) ]\n",
    "filter(fx,l1)"
   ]
  },
  {
   "cell_type": "code",
   "execution_count": null,
   "metadata": {},
   "outputs": [],
   "source": []
  }
 ],
 "metadata": {
  "language_info": {
   "codemirror_mode": {
    "name": "ipython",
    "version": 3
   },
   "file_extension": ".py",
   "mimetype": "text/x-python",
   "name": "python",
   "nbconvert_exporter": "python",
   "pygments_lexer": "ipython3",
   "version": 3
  },
  "orig_nbformat": 2,
  "kernelspec": {
   "name": "python_defaultSpec_1595002500110",
   "display_name": "Python 3.8.3 64-bit"
  }
 },
 "nbformat": 4,
 "nbformat_minor": 2
}