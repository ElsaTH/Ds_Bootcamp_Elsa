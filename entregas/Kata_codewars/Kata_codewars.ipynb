{
 "metadata": {
  "language_info": {
   "codemirror_mode": {
    "name": "ipython",
    "version": 3
   },
   "file_extension": ".py",
   "mimetype": "text/x-python",
   "name": "python",
   "nbconvert_exporter": "python",
   "pygments_lexer": "ipython3",
   "version": "3.8.3-final"
  },
  "orig_nbformat": 2,
  "kernelspec": {
   "name": "python_defaultSpec_1598183218813",
   "display_name": "Python 3.8.3 64-bit"
  }
 },
 "nbformat": 4,
 "nbformat_minor": 2,
 "cells": [
  {
   "cell_type": "code",
   "execution_count": 1,
   "metadata": {},
   "outputs": [],
   "source": [
    "import pandas as pd"
   ]
  },
  {
   "cell_type": "code",
   "execution_count": 2,
   "metadata": {},
   "outputs": [
    {
     "output_type": "execute_result",
     "data": {
      "text/plain": "          day                                                url  \\\n0    3/8/2020  https://www.codewars.com/kata/50654ddff44f8002...   \n1    4/8/2020  https://www.codewars.com/kata/582cb0224e56e068...   \n2    5/8/2020  https://www.codewars.com/kata/57eaeb9578748ff9...   \n3    6/8/2020  https://www.codewars.com/kata/54d1c59aba326343...   \n4    7/8/2020  https://www.codewars.com/kata/53da3dbb4a516836...   \n5    8/8/2020  https://www.codewars.com/kata/56bc28ad5bdaeb48...   \n6    9/8/2020  https://www.codewars.com/kata/55a2d7ebe362935a...   \n7   10/8/2020  https://www.codewars.com/kata/5506b230a11c0aea...   \n8   11/8/2020  https://www.codewars.com/kata/59377c53e66267c8...   \n9   12/8/2020  https://www.codewars.com/kata/5ae7e3f068e6445b...   \n10  13/8/2020  https://www.codewars.com/kata/5e2596a9ad937f00...   \n11  14/8/2020  https://www.codewars.com/kata/55b95c76e08bd5ee...   \n12  15/8/2020  https://www.codewars.com/kata/5ab7a736edbcfc8e...   \n13  16/8/2020  https://www.codewars.com/kata/5660aa3d5e011dfd...   \n14  17/8/2020  https://www.codewars.com/kata/54ff3102c1bad923...   \n15  18/8/2020  https://www.codewars.com/kata/5667e8f4e3f572a8...   \n16  19/8/2020  https://www.codewars.com/kata/56747fd5cb988479...   \n17  20/8/2020  https://www.codewars.com/kata/554b4ac871d6813a...   \n18  21/8/2020  https://www.codewars.com/kata/5abcf0f930488ff1...   \n19  22/8/2020  https://www.codewars.com/kata/5d4c6809089c6e50...   \n20  23/8/2020  https://www.codewars.com/kata/54b724efac3d5402...   \n21  24/8/2020  https://www.codewars.com/kata/57b06f90e298a7b5...   \n22  25/8/2020  https://www.codewars.com/kata/576757b1df89ecf5...   \n23  26/8/2020  https://www.codewars.com/kata/583203e6eb35d798...   \n24  27/8/2020  https://www.codewars.com/kata/598106cb34e205e0...   \n25  28/8/2020  https://www.codewars.com/kata/5503013e34137eee...   \n26  29/8/2020  https://www.codewars.com/kata/550f22f4d758534c...   \n27  30/8/2020  https://www.codewars.com/kata/525c65e51bf61968...   \n\n                     id_kata                                         id_name  \n0   50654ddff44f800200000004                                        Multiply  \n1   582cb0224e56e068d800003c                                  Keep Hydrated!  \n2   57eaeb9578748ff92a000009                                 Sum Mixed Array  \n3   54d1c59aba326343c80000e7                       Incorrect division method  \n4   53da3dbb4a5168369a0000fe                                     Even or Odd  \n5   56bc28ad5bdaeb48760009b0                 Remove First and Last Character  \n6   55a2d7ebe362935a210000b2          Find the smallest integer in the array  \n7   5506b230a11c0aeab3000c1f                            Deodorant Evaporator  \n8   59377c53e66267c8f6000027                                    Alphabet war  \n9   5ae7e3f068e6445bc8000046                        See You Next Happy Year   \n10  5e2596a9ad937f002e510435                                     Pandemia 🌡️  \n11  55b95c76e08bd5eef100001e                         Counting in the  Amazon  \n12  5ab7a736edbcfc8e62000007   SQL with Sailor Moon: Thinking about JOINs...  \n13  5660aa3d5e011dfd6e000063       80's Kids #2: Help ALF Find His Spaceship  \n14  54ff3102c1bad923760001f3                                     Vowel Count  \n15  5667e8f4e3f572a8f2000039                                        Mumbling  \n16  56747fd5cb988479af000028                        Get the Middle Character  \n17  554b4ac871d6813a03000035                              Highest and Lowest  \n18  5abcf0f930488ff1a6000b66  SQL with Harry Potter: Sorting Hat Comparators  \n19  5d4c6809089c6e5031f189ed    Computer problem series #2: Torrent download  \n20  54b724efac3d5402db00065e                          Decode the Morse code   \n21  57b06f90e298a7b53d000a86                           The Supermarket Queue  \n22  576757b1df89ecf5bd00073b                                     Build Tower  \n23  583203e6eb35d7980400002a                         Count the smiley faces!  \n24  598106cb34e205e074000031                        The Deaf Rats of Hamelin  \n25  5503013e34137eeeaa001648                               Give me a Diamond  \n26  550f22f4d758534c1100025a                            Directions Reduction  \n27  525c65e51bf619685c000059                                 Pete, the baker  ",
      "text/html": "<div>\n<style scoped>\n    .dataframe tbody tr th:only-of-type {\n        vertical-align: middle;\n    }\n\n    .dataframe tbody tr th {\n        vertical-align: top;\n    }\n\n    .dataframe thead th {\n        text-align: right;\n    }\n</style>\n<table border=\"1\" class=\"dataframe\">\n  <thead>\n    <tr style=\"text-align: right;\">\n      <th></th>\n      <th>day</th>\n      <th>url</th>\n      <th>id_kata</th>\n      <th>id_name</th>\n    </tr>\n  </thead>\n  <tbody>\n    <tr>\n      <th>0</th>\n      <td>3/8/2020</td>\n      <td>https://www.codewars.com/kata/50654ddff44f8002...</td>\n      <td>50654ddff44f800200000004</td>\n      <td>Multiply</td>\n    </tr>\n    <tr>\n      <th>1</th>\n      <td>4/8/2020</td>\n      <td>https://www.codewars.com/kata/582cb0224e56e068...</td>\n      <td>582cb0224e56e068d800003c</td>\n      <td>Keep Hydrated!</td>\n    </tr>\n    <tr>\n      <th>2</th>\n      <td>5/8/2020</td>\n      <td>https://www.codewars.com/kata/57eaeb9578748ff9...</td>\n      <td>57eaeb9578748ff92a000009</td>\n      <td>Sum Mixed Array</td>\n    </tr>\n    <tr>\n      <th>3</th>\n      <td>6/8/2020</td>\n      <td>https://www.codewars.com/kata/54d1c59aba326343...</td>\n      <td>54d1c59aba326343c80000e7</td>\n      <td>Incorrect division method</td>\n    </tr>\n    <tr>\n      <th>4</th>\n      <td>7/8/2020</td>\n      <td>https://www.codewars.com/kata/53da3dbb4a516836...</td>\n      <td>53da3dbb4a5168369a0000fe</td>\n      <td>Even or Odd</td>\n    </tr>\n    <tr>\n      <th>5</th>\n      <td>8/8/2020</td>\n      <td>https://www.codewars.com/kata/56bc28ad5bdaeb48...</td>\n      <td>56bc28ad5bdaeb48760009b0</td>\n      <td>Remove First and Last Character</td>\n    </tr>\n    <tr>\n      <th>6</th>\n      <td>9/8/2020</td>\n      <td>https://www.codewars.com/kata/55a2d7ebe362935a...</td>\n      <td>55a2d7ebe362935a210000b2</td>\n      <td>Find the smallest integer in the array</td>\n    </tr>\n    <tr>\n      <th>7</th>\n      <td>10/8/2020</td>\n      <td>https://www.codewars.com/kata/5506b230a11c0aea...</td>\n      <td>5506b230a11c0aeab3000c1f</td>\n      <td>Deodorant Evaporator</td>\n    </tr>\n    <tr>\n      <th>8</th>\n      <td>11/8/2020</td>\n      <td>https://www.codewars.com/kata/59377c53e66267c8...</td>\n      <td>59377c53e66267c8f6000027</td>\n      <td>Alphabet war</td>\n    </tr>\n    <tr>\n      <th>9</th>\n      <td>12/8/2020</td>\n      <td>https://www.codewars.com/kata/5ae7e3f068e6445b...</td>\n      <td>5ae7e3f068e6445bc8000046</td>\n      <td>See You Next Happy Year</td>\n    </tr>\n    <tr>\n      <th>10</th>\n      <td>13/8/2020</td>\n      <td>https://www.codewars.com/kata/5e2596a9ad937f00...</td>\n      <td>5e2596a9ad937f002e510435</td>\n      <td>Pandemia 🌡️</td>\n    </tr>\n    <tr>\n      <th>11</th>\n      <td>14/8/2020</td>\n      <td>https://www.codewars.com/kata/55b95c76e08bd5ee...</td>\n      <td>55b95c76e08bd5eef100001e</td>\n      <td>Counting in the  Amazon</td>\n    </tr>\n    <tr>\n      <th>12</th>\n      <td>15/8/2020</td>\n      <td>https://www.codewars.com/kata/5ab7a736edbcfc8e...</td>\n      <td>5ab7a736edbcfc8e62000007</td>\n      <td>SQL with Sailor Moon: Thinking about JOINs...</td>\n    </tr>\n    <tr>\n      <th>13</th>\n      <td>16/8/2020</td>\n      <td>https://www.codewars.com/kata/5660aa3d5e011dfd...</td>\n      <td>5660aa3d5e011dfd6e000063</td>\n      <td>80's Kids #2: Help ALF Find His Spaceship</td>\n    </tr>\n    <tr>\n      <th>14</th>\n      <td>17/8/2020</td>\n      <td>https://www.codewars.com/kata/54ff3102c1bad923...</td>\n      <td>54ff3102c1bad923760001f3</td>\n      <td>Vowel Count</td>\n    </tr>\n    <tr>\n      <th>15</th>\n      <td>18/8/2020</td>\n      <td>https://www.codewars.com/kata/5667e8f4e3f572a8...</td>\n      <td>5667e8f4e3f572a8f2000039</td>\n      <td>Mumbling</td>\n    </tr>\n    <tr>\n      <th>16</th>\n      <td>19/8/2020</td>\n      <td>https://www.codewars.com/kata/56747fd5cb988479...</td>\n      <td>56747fd5cb988479af000028</td>\n      <td>Get the Middle Character</td>\n    </tr>\n    <tr>\n      <th>17</th>\n      <td>20/8/2020</td>\n      <td>https://www.codewars.com/kata/554b4ac871d6813a...</td>\n      <td>554b4ac871d6813a03000035</td>\n      <td>Highest and Lowest</td>\n    </tr>\n    <tr>\n      <th>18</th>\n      <td>21/8/2020</td>\n      <td>https://www.codewars.com/kata/5abcf0f930488ff1...</td>\n      <td>5abcf0f930488ff1a6000b66</td>\n      <td>SQL with Harry Potter: Sorting Hat Comparators</td>\n    </tr>\n    <tr>\n      <th>19</th>\n      <td>22/8/2020</td>\n      <td>https://www.codewars.com/kata/5d4c6809089c6e50...</td>\n      <td>5d4c6809089c6e5031f189ed</td>\n      <td>Computer problem series #2: Torrent download</td>\n    </tr>\n    <tr>\n      <th>20</th>\n      <td>23/8/2020</td>\n      <td>https://www.codewars.com/kata/54b724efac3d5402...</td>\n      <td>54b724efac3d5402db00065e</td>\n      <td>Decode the Morse code</td>\n    </tr>\n    <tr>\n      <th>21</th>\n      <td>24/8/2020</td>\n      <td>https://www.codewars.com/kata/57b06f90e298a7b5...</td>\n      <td>57b06f90e298a7b53d000a86</td>\n      <td>The Supermarket Queue</td>\n    </tr>\n    <tr>\n      <th>22</th>\n      <td>25/8/2020</td>\n      <td>https://www.codewars.com/kata/576757b1df89ecf5...</td>\n      <td>576757b1df89ecf5bd00073b</td>\n      <td>Build Tower</td>\n    </tr>\n    <tr>\n      <th>23</th>\n      <td>26/8/2020</td>\n      <td>https://www.codewars.com/kata/583203e6eb35d798...</td>\n      <td>583203e6eb35d7980400002a</td>\n      <td>Count the smiley faces!</td>\n    </tr>\n    <tr>\n      <th>24</th>\n      <td>27/8/2020</td>\n      <td>https://www.codewars.com/kata/598106cb34e205e0...</td>\n      <td>598106cb34e205e074000031</td>\n      <td>The Deaf Rats of Hamelin</td>\n    </tr>\n    <tr>\n      <th>25</th>\n      <td>28/8/2020</td>\n      <td>https://www.codewars.com/kata/5503013e34137eee...</td>\n      <td>5503013e34137eeeaa001648</td>\n      <td>Give me a Diamond</td>\n    </tr>\n    <tr>\n      <th>26</th>\n      <td>29/8/2020</td>\n      <td>https://www.codewars.com/kata/550f22f4d758534c...</td>\n      <td>550f22f4d758534c1100025a</td>\n      <td>Directions Reduction</td>\n    </tr>\n    <tr>\n      <th>27</th>\n      <td>30/8/2020</td>\n      <td>https://www.codewars.com/kata/525c65e51bf61968...</td>\n      <td>525c65e51bf619685c000059</td>\n      <td>Pete, the baker</td>\n    </tr>\n  </tbody>\n</table>\n</div>"
     },
     "metadata": {},
     "execution_count": 2
    }
   ],
   "source": [
    "data = pd.read_csv(\"reto_28_alumn.csv\", sep=\",\")\n",
    "data"
   ]
  },
  {
   "cell_type": "code",
   "execution_count": null,
   "metadata": {},
   "outputs": [],
   "source": [
    "kata: Sum Mixed Array"
   ]
  },
  {
   "cell_type": "code",
   "execution_count": 119,
   "metadata": {
    "tags": []
   },
   "outputs": [
    {
     "output_type": "execute_result",
     "data": {
      "text/plain": "25"
     },
     "metadata": {},
     "execution_count": 119
    }
   ],
   "source": [
    "def sum_mix(arr):\n",
    "    suma = 0 \n",
    "    for elem in arr:\n",
    "        if type(elem)== str or type(elem)==int:\n",
    "            elem=int(elem)\n",
    "            suma = suma + elem         \n",
    "    return suma\n",
    "\n",
    "sum_mix(arr=[1,\"3\",5,7,9])\n"
   ]
  },
  {
   "cell_type": "markdown",
   "metadata": {},
   "source": [
    "Incorrect division method"
   ]
  },
  {
   "cell_type": "code",
   "execution_count": 159,
   "metadata": {
    "tags": []
   },
   "outputs": [
    {
     "output_type": "execute_result",
     "data": {
      "text/plain": "2.5"
     },
     "metadata": {},
     "execution_count": 159
    }
   ],
   "source": [
    "import math\n",
    "from fractions import Fraction\n",
    "def divide_numbers(x,y):\n",
    "    return math.sqrt(Fraction(x, y))\n",
    "divide_numbers(x=25,y=4)"
   ]
  },
  {
   "cell_type": "code",
   "execution_count": 166,
   "metadata": {
    "tags": []
   },
   "outputs": [
    {
     "output_type": "execute_result",
     "data": {
      "text/plain": "0.01"
     },
     "metadata": {},
     "execution_count": 166
    }
   ],
   "source": [
    "def divide_numbers(x,y):\n",
    "    \n",
    "    return float(x / y)\n",
    "divide_numbers(x=1,y=)"
   ]
  },
  {
   "cell_type": "code",
   "execution_count": null,
   "metadata": {},
   "outputs": [],
   "source": [
    "Even or Odd"
   ]
  },
  {
   "cell_type": "code",
   "execution_count": 2,
   "metadata": {
    "tags": []
   },
   "outputs": [
    {
     "output_type": "execute_result",
     "data": {
      "text/plain": "'even'"
     },
     "metadata": {},
     "execution_count": 2
    }
   ],
   "source": [
    "# Es el de codewars con el retorno\n",
    "def odd_or_even(arr):\n",
    "    acum = 0\n",
    "    for elem in arr:\n",
    "        acum = acum + elem\n",
    "    if acum %2 == 0:\n",
    "        return (\"even\")\n",
    "    if acum %2 != 0:\n",
    "        return (\"odd\")\n",
    "    \n",
    "\n",
    "    \n",
    "odd_or_even([1023,1,0])"
   ]
  },
  {
   "cell_type": "code",
   "execution_count": 3,
   "metadata": {
    "tags": []
   },
   "outputs": [
    {
     "output_type": "stream",
     "name": "stdout",
     "text": "even\n"
    }
   ],
   "source": [
    "# Para jupiter con los print\n",
    "def odd_or_even(arr):\n",
    "    acum = 0\n",
    "    for elem in arr:\n",
    "        acum = acum + elem\n",
    "    if acum %2 == 0 or acum==[]:\n",
    "        print(\"even\")\n",
    "    if acum %2 != 0:\n",
    "        print(\"odd\")\n",
    "  \n",
    "\n",
    "odd_or_even([1023,1,0])"
   ]
  },
  {
   "cell_type": "code",
   "execution_count": 273,
   "metadata": {
    "tags": []
   },
   "outputs": [
    {
     "output_type": "stream",
     "name": "stdout",
     "text": "even\n"
    }
   ],
   "source": [
    "def odd_or_even(arr,n):\n",
    "    acum = 0\n",
    "    for elem in arr:\n",
    "        acum = acum + elem\n",
    "    if acum %2 == 0 or acum==[]:\n",
    "        print(\"even\")\n",
    "    if acum %2 != 0:\n",
    "        print(\"odd\")\n",
    "    return\n",
    "arr= [1023,1,0]\n",
    "n=len(arr)\n",
    "odd_or_even(arr,n)"
   ]
  },
  {
   "cell_type": "code",
   "execution_count": 275,
   "metadata": {
    "tags": []
   },
   "outputs": [
    {
     "output_type": "stream",
     "name": "stdout",
     "text": "Even index positions sum  1023\nnOdd index positions sum  1\n"
    }
   ],
   "source": [
    "def EvenOddSum(arr, n): \n",
    "    even = 0\n",
    "    odd = 0\n",
    "    for i in range(n): \n",
    "        if i % 2 == 0: \n",
    "            even += arr[i] \n",
    "        else: \n",
    "            odd += arr[i] \n",
    "      \n",
    "    print (\"Even index positions sum \", even )\n",
    "    print (\"nOdd index positions sum \", odd )\n",
    "  \n",
    "arr = [1023,1,0] \n",
    "n = len(arr) \n",
    "  \n",
    "EvenOddSum(arr, n) "
   ]
  },
  {
   "cell_type": "code",
   "execution_count": null,
   "metadata": {},
   "outputs": [],
   "source": [
    "Remove First and Last Character"
   ]
  },
  {
   "cell_type": "code",
   "execution_count": 16,
   "metadata": {
    "tags": []
   },
   "outputs": [
    {
     "output_type": "stream",
     "name": "stdout",
     "text": "t\nr\ni\nn\ng\n"
    }
   ],
   "source": [
    "def remove_char(s):\n",
    "    for pos, palabra in enumerate(s):\n",
    "        if pos != 0:\n",
    "            \n",
    "            \n",
    "            print(palabra)\n",
    "\n",
    "remove_char(s=\"string\")"
   ]
  },
  {
   "cell_type": "code",
   "execution_count": 18,
   "metadata": {},
   "outputs": [
    {
     "output_type": "execute_result",
     "data": {
      "text/plain": "'trin'"
     },
     "metadata": {},
     "execution_count": 18
    }
   ],
   "source": [
    "# solucion\n",
    "def remove_char(s):\n",
    "    return s[1 : -1]\n",
    "remove_char(s=\"string\")"
   ]
  },
  {
   "cell_type": "code",
   "execution_count": null,
   "metadata": {},
   "outputs": [],
   "source": [
    "Find the smallest integer in the array"
   ]
  },
  {
   "cell_type": "code",
   "execution_count": 24,
   "metadata": {},
   "outputs": [
    {
     "output_type": "execute_result",
     "data": {
      "text/plain": "-345"
     },
     "metadata": {},
     "execution_count": 24
    }
   ],
   "source": [
    "def find_smallest_int(arr):\n",
    "    return min(arr)\n",
    "        \n",
    "\n",
    "find_smallest_int(arr=[34, -345, -1, 100])"
   ]
  },
  {
   "cell_type": "code",
   "execution_count": 23,
   "metadata": {
    "tags": []
   },
   "outputs": [
    {
     "output_type": "stream",
     "name": "stdout",
     "text": "-345\n"
    }
   ],
   "source": [
    "def find_smallest_int(arr):\n",
    "    low_num = arr[0]\n",
    "    for i in arr:\n",
    "        if i < low_num:\n",
    "            low_num = i\n",
    "    return(low_num)\n",
    "find_smallest_int(arr=[34, -345, -1, 100])"
   ]
  },
  {
   "cell_type": "code",
   "execution_count": null,
   "metadata": {},
   "outputs": [],
   "source": [
    "Deodorant Evaporator"
   ]
  },
  {
   "cell_type": "code",
   "execution_count": 42,
   "metadata": {},
   "outputs": [],
   "source": [
    "def evaporator(content, evap_per_day, threshold):\n",
    "    i = 0\n",
    "    curr = content \n",
    "    while curr >= content * threshold/100.0:\n",
    "        curr = curr * (1 - evap_per_day/100.0)\n",
    "        i += 1\n",
    "    return i\n",
    "# funciona pero no entiendo como se ha hecho"
   ]
  },
  {
   "cell_type": "code",
   "execution_count": null,
   "metadata": {},
   "outputs": [],
   "source": [
    "Alphabet war\n",
    "The left side letters and their power:\n",
    " w - 4\n",
    " p - 3\n",
    " b - 2\n",
    " s - 1\n",
    "The right side letters and their power:\n",
    "\n",
    " m - 4\n",
    " q - 3\n",
    " d - 2\n",
    " z - 1"
   ]
  },
  {
   "cell_type": "code",
   "execution_count": 51,
   "metadata": {},
   "outputs": [
    {
     "output_type": "execute_result",
     "data": {
      "text/plain": "\"Let's fight again!\""
     },
     "metadata": {},
     "execution_count": 51
    }
   ],
   "source": [
    "def alphabet_war(fight):\n",
    "    count = 0\n",
    "    left = {'w': 4, 'p': 3, 'b': 2, 's': 1}\n",
    "    right = {'m': 4, 'q': 3, 'd': 2, 'z': 1}\n",
    "    for elem in fight:\n",
    "        if elem in left:\n",
    "            count += left[elem]\n",
    "        elif elem in right:\n",
    "            count -= right[elem]\n",
    "\n",
    "    if count>0:\n",
    "        return \"Left side wins!\"\n",
    "    elif count<0:\n",
    "        return \"Right side wins!\"\n",
    "    elif count ==0:\n",
    "        return \"Let's fight again!\"\n",
    "alphabet_war(fight=\"zdqmwpbs\")"
   ]
  },
  {
   "cell_type": "code",
   "execution_count": 45,
   "metadata": {},
   "outputs": [
    {
     "output_type": "execute_result",
     "data": {
      "text/plain": "\"Let's fight again!\""
     },
     "metadata": {},
     "execution_count": 45
    }
   ],
   "source": [
    "def alphabet_war(fight):\n",
    "    count = 0\n",
    "    left = {'w': 4, 'p': 3, 'b': 2, 's': 1}\n",
    "    right = {'m': 4, 'q': 3, 'd': 2, 'z': 1}\n",
    "    for i in fight:\n",
    "        if i in left:\n",
    "            count += left[i]\n",
    "        elif i in right:\n",
    "            count -= right[i]\n",
    "    if count < 0:\n",
    "        return \"Right side wins!\"\n",
    "    if count > 0:\n",
    "        return \"Left side wins!\"\n",
    "    elif count == 0:\n",
    "        return \"Let's fight again!\"\n",
    "alphabet_war(fight=\"zdqmwpbs\")"
   ]
  },
  {
   "cell_type": "code",
   "execution_count": null,
   "metadata": {},
   "outputs": [],
   "source": [
    "See You Next Happy Year"
   ]
  },
  {
   "cell_type": "code",
   "execution_count": 15,
   "metadata": {},
   "outputs": [
    {
     "output_type": "execute_result",
     "data": {
      "text/plain": "1987"
     },
     "metadata": {},
     "execution_count": 15
    }
   ],
   "source": [
    "def next_happy_year(year):  # pasa todas las catas menos la de 1900 \n",
    "    not_happy = True\n",
    "    while(not_happy):\n",
    "        for letter in str(year):\n",
    "            same_same = 0\n",
    "            for other_letter in str(year):\n",
    "                if letter == other_letter:\n",
    "                    same_same += 1\n",
    "            #if same_same > 1:\n",
    "                #not_happy = True\n",
    "                #year = (int(year) + 1 )\n",
    "                #break\n",
    "            else:\n",
    "                not_happy = False\n",
    "    return year\n",
    "next_happy_year(year=1987)"
   ]
  },
  {
   "cell_type": "code",
   "execution_count": null,
   "metadata": {},
   "outputs": [],
   "source": [
    "def next_happy_year2(year):\n",
    "    while True:\n",
    "        year+=1\n",
    "        if len(str(year)) == len(set(str(year))):\n",
    "            return year"
   ]
  },
  {
   "cell_type": "code",
   "execution_count": 17,
   "metadata": {
    "tags": []
   },
   "outputs": [
    {
     "output_type": "execute_result",
     "data": {
      "text/plain": "1001"
     },
     "metadata": {},
     "execution_count": 17
    }
   ],
   "source": [
    "def next_happy_year(year):\n",
    "    for n in range(year+1, 9999):\n",
    "        if len(set(str(n))) == 4:\n",
    "            return n"
   ]
  },
  {
   "cell_type": "code",
   "execution_count": null,
   "metadata": {},
   "outputs": [],
   "source": [
    "Test.describe(\"Basic tests\")\n",
    "Test.assert_equals(next_happy_year(1001),1023)\n",
    "Test.assert_equals(next_happy_year(1123),1203)\n",
    "Test.assert_equals(next_happy_year(2001),2013)\n",
    "Test.assert_equals(next_happy_year(2334),2340)\n",
    "Test.assert_equals(next_happy_year(3331),3401)\n",
    "Test.assert_equals(next_happy_year(1987),2013)\n",
    "Test.assert_equals(next_happy_year(5555),5601)\n",
    "Test.assert_equals(next_happy_year(7712),7801)\n",
    "Test.assert_equals(next_happy_year(8088),8091)\n",
    "Test.assert_equals(next_happy_year(8999),9012)"
   ]
  },
  {
   "cell_type": "code",
   "execution_count": null,
   "metadata": {},
   "outputs": [],
   "source": [
    "Pandemia"
   ]
  },
  {
   "cell_type": "code",
   "execution_count": 3,
   "metadata": {},
   "outputs": [],
   "source": [
    "def infected(s):\n",
    "    '''Returns the percentage of infected regions, depending on the geography'''\n",
    "    islands = s.split('X')\n",
    "    infected = 0\n",
    "    safe = 0\n",
    "    for island in islands:\n",
    "        if '1' in island:\n",
    "            infected += len(island)\n",
    "        else:\n",
    "            safe += len(island)\n",
    "    if infected + safe == 0:\n",
    "        return 0\n",
    "    return infected/(infected+safe)*100"
   ]
  },
  {
   "cell_type": "code",
   "execution_count": null,
   "metadata": {},
   "outputs": [],
   "source": [
    "# Otra forma\n",
    "def infected(s):\n",
    "    inf=0\n",
    "    saf=0\n",
    "    for c in s.split('X') :\n",
    "        if '1' in c :\n",
    "            inf += len(c)\n",
    "        else :\n",
    "            saf += len(c)\n",
    "        \n",
    "    return 0 if inf+saf==0 else inf/(inf+saf)*100"
   ]
  },
  {
   "cell_type": "code",
   "execution_count": null,
   "metadata": {},
   "outputs": [],
   "source": [
    "Counting in the Amazon"
   ]
  },
  {
   "cell_type": "code",
   "execution_count": 7,
   "metadata": {},
   "outputs": [
    {
     "output_type": "execute_result",
     "data": {
      "text/plain": "'adak adak adak adak'"
     },
     "metadata": {},
     "execution_count": 7
    }
   ],
   "source": [
    "def count_arara(n):\n",
    "    if n==1:\n",
    "        return \"anane\"\n",
    "    if n ==2:\n",
    "        return \"adak\"\n",
    "    if n==3:\n",
    "        return \"adak anane\"\n",
    "    if n ==4: \n",
    "        return \"adak adak\"\n",
    "    if n==5: \n",
    "        return \"adak adak anane\"\n",
    "    if n==6: \n",
    "        return \"adak adak adak\"\n",
    "    if n==7: \n",
    "        return \"adak adak adak anane\"\n",
    "    if n==8: \n",
    "        return \"adak adak adak adak\"\n",
    "    if n==9:\n",
    "        return \"adak adak adak adak anane\"    \n",
    "count_arara(n=8)  #pasa el test pero no la kata"
   ]
  },
  {
   "cell_type": "code",
   "execution_count": 20,
   "metadata": {},
   "outputs": [
    {
     "output_type": "execute_result",
     "data": {
      "text/plain": "'adak adak adak adak anane'"
     },
     "metadata": {},
     "execution_count": 20
    }
   ],
   "source": [
    "def count_arara(n):\n",
    "    if n%2 == 0:\n",
    "        return \"adak \" * int((n-2)/2) + \"adak\"\n",
    "    if n == 0:\n",
    "        return \"\"\n",
    "    else:\n",
    "        return \"adak \" * int(n/2) + \"anane\"\n",
    "count_arara(n=9)"
   ]
  },
  {
   "cell_type": "markdown",
   "metadata": {},
   "source": [
    "SQL with Sailor Moon: Thinking about JOINs..."
   ]
  },
  {
   "cell_type": "code",
   "execution_count": null,
   "metadata": {},
   "outputs": [],
   "source": [
    "SELECT\n",
    "  sailorsenshi.senshi_name AS sailor_senshi,\n",
    "  sailorsenshi.real_name_jpn AS real_name,\n",
    "  cats.name AS cat,\n",
    "  schools.school AS school\n",
    "FROM sailorsenshi\n",
    "LEFT JOIN cats ON sailorsenshi.cat_id = cats.id\n",
    "LEFT JOIN schools ON sailorsenshi.school_id = schools.id"
   ]
  },
  {
   "cell_type": "markdown",
   "metadata": {},
   "source": [
    "80's Kids #2: Help ALF Find His Spaceship"
   ]
  },
  {
   "cell_type": "code",
   "execution_count": 10,
   "metadata": {
    "tags": []
   },
   "outputs": [
    {
     "output_type": "stream",
     "name": "stdout",
     "text": "[2, 5, 10, 23, 50, 33, 2, 5, 10, 23, 50, 33]\n"
    }
   ],
   "source": [
    "def doblar(numero):\n",
    "    print (numero*2)\n",
    "\n",
    "doblar(numero = [2, 5, 10, 23, 50, 33])\n",
    "\n",
    "#map(doblar, numeros)"
   ]
  },
  {
   "cell_type": "code",
   "execution_count": null,
   "metadata": {},
   "outputs": [],
   "source": [
    "def find_spaceship(astromap):\n",
    "    global pos_x, pos_y\n",
    "    astromap = astromap.split('\\n')\n",
    "    astromap.reverse()\n",
    "    for n, linea in enumerate(astromap):\n",
    "        if 'X' in linea:\n",
    "            pos_y = n\n",
    "        \n",
    "        for i, elem in enumerate(linea):\n",
    "            if elem == 'X':\n",
    "                pos_x = i\n",
    "                return [pos_x, pos_y]\n",
    "            \n",
    "    return \"Spaceship lost forever.\""
   ]
  },
  {
   "cell_type": "code",
   "execution_count": null,
   "metadata": {},
   "outputs": [],
   "source": [
    "Vowel Count\n"
   ]
  },
  {
   "cell_type": "code",
   "execution_count": 77,
   "metadata": {
    "tags": []
   },
   "outputs": [
    {
     "output_type": "execute_result",
     "data": {
      "text/plain": "13"
     },
     "metadata": {},
     "execution_count": 77
    }
   ],
   "source": [
    "input_str = str(input(\"Please type a sentence: \"))  # solucion de mi kata\n",
    "def get_count(input_str):\n",
    "    num_vowels = {i:0 for i in 'aeiouAEIOU'}\n",
    "    for char in input_str:\n",
    "        if char in num_vowels:\n",
    "            num_vowels[char] += 1\n",
    " \n",
    "    for k,v in num_vowels.items():\n",
    "       \n",
    "        return (sum(num_vowels.values()))\n",
    "  \n",
    "get_count(input_str)"
   ]
  },
  {
   "cell_type": "code",
   "execution_count": 63,
   "metadata": {
    "tags": []
   },
   "outputs": [
    {
     "output_type": "stream",
     "name": "stdout",
     "text": "13\n"
    }
   ],
   "source": [
    "input_str = input(\"Sentence: \") \n",
    "def get_count(input_str):\n",
    "\n",
    "    counts = {i:0 for i in 'aeiouAEIOU'}\n",
    "    for char in input_str:\n",
    "        if char in counts:\n",
    "            counts[char] += 1\n",
    "           \n",
    "     \n",
    "    final = [each for each in input_str if each in counts] \n",
    "    return (len(final)) \n",
    "get_count(input_str)"
   ]
  },
  {
   "cell_type": "code",
   "execution_count": 78,
   "metadata": {
    "tags": []
   },
   "outputs": [
    {
     "output_type": "execute_result",
     "data": {
      "text/plain": "13"
     },
     "metadata": {},
     "execution_count": 78
    }
   ],
   "source": [
    "input_str = str(input(\"Please type a sentence: \"))\n",
    "def getCount(inputStr):\n",
    "    return sum(1 for let in inputStr if let in \"aeiouAEIOU\")\n",
    "get_count(input_str=\"o a kak ushakov lil vo kashu kakao\")"
   ]
  },
  {
   "cell_type": "code",
   "execution_count": 79,
   "metadata": {},
   "outputs": [
    {
     "output_type": "execute_result",
     "data": {
      "text/plain": "13"
     },
     "metadata": {},
     "execution_count": 79
    }
   ],
   "source": [
    "input_str = str(input(\"Please type a sentence: \"))\n",
    "def getCount(inputStr):\n",
    "    num_vowels = 0\n",
    "    # your code here\n",
    "    for i in inputStr:\n",
    "        if i in ['a', 'e', 'i', 'o', 'u']:\n",
    "            num_vowels += 1\n",
    "        else:\n",
    "            pass\n",
    "    return num_vowels\n",
    "get_count(input_str=\"o a kak ushakov lil vo kashu kakao\")"
   ]
  },
  {
   "cell_type": "code",
   "execution_count": null,
   "metadata": {},
   "outputs": [],
   "source": [
    "Mumbling"
   ]
  },
  {
   "cell_type": "code",
   "execution_count": 81,
   "metadata": {},
   "outputs": [
    {
     "output_type": "execute_result",
     "data": {
      "text/plain": "'A-Bb-Ccc'"
     },
     "metadata": {},
     "execution_count": 81
    }
   ],
   "source": [
    "def accum(s):\n",
    "    '''accum(\"abcd\") -> \"A-Bb-Ccc-Dddd\"\n",
    "        accum(\"RqaEzty\") -> \"R-Qq-Aaa-Eeee-Zzzzz-Tttttt-Yyyyyyy\"\n",
    "        accum(\"cwAt\") -> \"C-Ww-Aaa-Tttt\"'''\n",
    "    output = []\n",
    "    for count, letter in enumerate(s):\n",
    "        output.append(letter.upper() + letter.lower()*(count))\n",
    "    return '-'.join(output)\n",
    "accum(s=\"abc\")"
   ]
  },
  {
   "cell_type": "code",
   "execution_count": 82,
   "metadata": {},
   "outputs": [
    {
     "output_type": "execute_result",
     "data": {
      "text/plain": "'A-Bb-Ccc'"
     },
     "metadata": {},
     "execution_count": 82
    }
   ],
   "source": [
    "def accum(s):\n",
    "    value = \"\"\n",
    "    for i,c in enumerate(s):\n",
    "        value += c.upper() + c.lower()*i + \"-\"\n",
    "    return value[:-1]\n",
    "accum(s=\"abc\")"
   ]
  },
  {
   "cell_type": "code",
   "execution_count": null,
   "metadata": {},
   "outputs": [],
   "source": [
    "Get the Middle Character"
   ]
  },
  {
   "cell_type": "code",
   "execution_count": 85,
   "metadata": {},
   "outputs": [
    {
     "output_type": "execute_result",
     "data": {
      "text/plain": "'t'"
     },
     "metadata": {},
     "execution_count": 85
    }
   ],
   "source": [
    "def get_middle_character(odd_string):  # no pasa el test\n",
    "    variable = len(odd_string)\n",
    "    x = str((variable/2))\n",
    "    middle_character = odd_string.find(x)\n",
    "    middle_character2 = odd_string[middle_character]\n",
    "    return middle_character2\n",
    "get_middle_character(odd_string=\"test\")"
   ]
  },
  {
   "cell_type": "code",
   "execution_count": 88,
   "metadata": {},
   "outputs": [
    {
     "output_type": "execute_result",
     "data": {
      "text/plain": "'es'"
     },
     "metadata": {},
     "execution_count": 88
    }
   ],
   "source": [
    "def get_middle(s):\n",
    "    return s[(len(s)-1)//2:(len(s)+2)//2]\n",
    "get_middle(s=\"test\")"
   ]
  },
  {
   "cell_type": "code",
   "execution_count": 91,
   "metadata": {},
   "outputs": [
    {
     "output_type": "execute_result",
     "data": {
      "text/plain": "'es'"
     },
     "metadata": {},
     "execution_count": 91
    }
   ],
   "source": [
    "def get_middle(s):\n",
    "    while len(s) > 2:\n",
    "        s = s[1:-1]\n",
    "    return s\n",
    "get_middle(s=\"test\")"
   ]
  },
  {
   "cell_type": "code",
   "execution_count": null,
   "metadata": {},
   "outputs": [],
   "source": [
    "Highest and Lowest"
   ]
  },
  {
   "cell_type": "code",
   "execution_count": 111,
   "metadata": {},
   "outputs": [
    {
     "output_type": "execute_result",
     "data": {
      "text/plain": "'5 1'"
     },
     "metadata": {},
     "execution_count": 111
    }
   ],
   "source": [
    "def high_and_low(numbers):\n",
    "    arr = [int(i) for i in numbers.split(' ')]\n",
    "    return \" \".join([str(max(arr)), str(min(arr))])\n",
    "high_and_low(\"1 2 3 4 5\")"
   ]
  },
  {
   "cell_type": "code",
   "execution_count": 110,
   "metadata": {},
   "outputs": [
    {
     "output_type": "execute_result",
     "data": {
      "text/plain": "'5 1'"
     },
     "metadata": {},
     "execution_count": 110
    }
   ],
   "source": [
    "def high_and_low(numbers):\n",
    "    arr=[]\n",
    "    for i in numbers.split(' '):\n",
    "        arr.append(int(i))\n",
    "    return \" \".join([str(max(arr)), str(min(arr))])\n",
    "    \n",
    "high_and_low(\"1 2 3 4 5\")"
   ]
  },
  {
   "cell_type": "code",
   "execution_count": 112,
   "metadata": {},
   "outputs": [
    {
     "output_type": "execute_result",
     "data": {
      "text/plain": "'5 1'"
     },
     "metadata": {},
     "execution_count": 112
    }
   ],
   "source": [
    "def high_and_low(numbers):\n",
    "    arr=[]\n",
    "    for i in numbers.split(' '):\n",
    "        arr.append(int(i))\n",
    "    return \" \".join([str(max(arr)), str(min(arr))])\n",
    "high_and_low(\"1 2 3 4 5\")"
   ]
  },
  {
   "cell_type": "code",
   "execution_count": 113,
   "metadata": {},
   "outputs": [
    {
     "output_type": "execute_result",
     "data": {
      "text/plain": "'5 1'"
     },
     "metadata": {},
     "execution_count": 113
    }
   ],
   "source": [
    "def high_and_low(numbers):\n",
    "    numlist = numbers.split(\" \")\n",
    "    i = 0\n",
    "    highest = int(numlist[0])\n",
    "    lowest = int(numlist[0])\n",
    "    while i < len(numlist):\n",
    "        numlist[i] = int(numlist[i])\n",
    "        if numlist[i] > highest:\n",
    "            highest = numlist[i]\n",
    "        if numlist[i] < lowest:\n",
    "            lowest = numlist[i]\n",
    "        i += 1\n",
    "    highest = str(highest)\n",
    "    lowest = str(lowest)\n",
    "    return  highest+\" \"+lowest\n",
    "high_and_low(\"1 2 3 4 5\")"
   ]
  },
  {
   "cell_type": "code",
   "execution_count": null,
   "metadata": {},
   "outputs": [],
   "source": [
    "SQL with Harry Potter: Sorting Hat Comparators"
   ]
  },
  {
   "cell_type": "code",
   "execution_count": null,
   "metadata": {},
   "outputs": [],
   "source": [
    "Select * \n",
    "from students \n",
    "where ((quality1='evil' and quality2='cunning')\n",
    "or (quality1='brave' and quality2 !='evil')\n",
    "or  (quality1='studious' or quality2='intelligent')\n",
    "or (quality1='hufflepuff' or quality2='hufflepuff'))\n",
    "order by id"
   ]
  },
  {
   "cell_type": "code",
   "execution_count": null,
   "metadata": {},
   "outputs": [],
   "source": [
    "Computer problem series #2: Torrent download"
   ]
  },
  {
   "cell_type": "code",
   "execution_count": null,
   "metadata": {},
   "outputs": [],
   "source": [
    "def torrent(files):\n",
    "    # helper function to calculate time in seconds to download last file\n",
    "    def remaining_time(size, speed):\n",
    "        return size * 1000 * 8 / speed\n",
    "\n",
    "    new_files = []        # [time, name]\n",
    "    for f in files:\n",
    "        time = remaining_time(f['size_GB'], f['speed_Mbps'])\n",
    "        new_files.append([time, f['name']])\n",
    "    new_files.sort()      # sort ascending by amount of time\n",
    "\n",
    "    # if same amount of time, sort alphabeticaly\n",
    "    for i in range (len(new_files)-1):\n",
    "        if new_files[i][0] == new_files[i+1][0]:\n",
    "            if new_files[i][1][0] > new_files[i+1][1][0]:\n",
    "                new_files[i], new_files[i+1] = new_files[i+1], new_files[i]\n",
    "\n",
    "    result = []\n",
    "    # create list with names only\n",
    "    for j in range(len(new_files)):\n",
    "        result.append(new_files[j][1])\n",
    "    return result, new_files[-1][0]    # return sorted list and amount of time for last file\n",
    "\n",
    "# other solution\n",
    "def torrent(files):\n",
    "    files = sorted(files, key=lambda f: (f['size_GB'] / f['speed_Mbps'], f['name']))\n",
    "    last = files[-1]\n",
    "    return [f['name'] for f in files], 8000 * last['size_GB'] / last['speed_Mbps']"
   ]
  },
  {
   "cell_type": "code",
   "execution_count": null,
   "metadata": {},
   "outputs": [],
   "source": [
    "def torrent(files):\n",
    "    # create list (film_name, time_to_download)\n",
    "    lst = [(file['name'], file[\"size_GB\"] / file[\"speed_Mbps\"] * 1000 * 8) for file in files]\n",
    "    # sort list by time_to_download first, then by film_name\n",
    "    lst = sorted(lst, key=lambda k: (k[1], k[0]))\n",
    "    # return list of film_name's and time of last item of list\n",
    "    return [f[0] for f in lst], lst[-1:][0][1]"
   ]
  },
  {
   "cell_type": "code",
   "execution_count": null,
   "metadata": {},
   "outputs": [],
   "source": [
    "def torrent(files): \n",
    "    # your code here\n",
    "    '''multi=[]\n",
    "    names=[]\n",
    "    for x in files:\n",
    "        names.append(x[\"name\"])\n",
    "        multi.append(x[\"size_GB\"]*1000*8/x[\"speed_Mbps\"])\n",
    "        \n",
    "        #names.sort(key=lambda multi: (multi[1], multi[0])) \n",
    "        \n",
    "        #result=(names,max(multi))\n",
    "        \n",
    "    return result\n",
    "    #None, None'''\n",
    "    \n",
    "    names = []\n",
    "    time = []\n",
    "    for k in files:\n",
    "        names.append(k['name'])\n",
    "        time.append((k['size_GB']*8000)/(k['speed_Mbps']))    \n",
    "        \n",
    "    dicc = {}\n",
    "    for n, t in zip(names, time):\n",
    "        dicc[n]=t\n",
    "    \n",
    "    sort = sorted(dicc.items(), key=lambda x: (x[1],x[0])) #Te ordena por el primer elemento y si son iguales por el segundo\n",
    "    \n",
    "    result = []\n",
    "    time_t = []\n",
    "    for r, t in sort:\n",
    "        result.append(r)\n",
    "        time_t.append(t)\n",
    "      \n",
    "    return result, time_t[-1]"
   ]
  },
  {
   "cell_type": "code",
   "execution_count": null,
   "metadata": {},
   "outputs": [],
   "source": [
    "def torrent(files):\n",
    "    pretime=[] \n",
    "    for e in files:\n",
    "        size = e.get(\"size_GB\")\n",
    "        speed = e.get(\"speed_Mbps\")\n",
    "        name = e.get('name')\n",
    "        pretime.append((name,(size*1000/(speed/8))))\n",
    "    pretime = sorted(pretime, key = lambda i: (i[1], i[0]))\n",
    "    namefinal = []\n",
    "    timefinal = []\n",
    "    for x, y in pretime:\n",
    "        namefinal.append(x)\n",
    "        timefinal.append(y)\n",
    "    return namefinal, max(timefinal)"
   ]
  },
  {
   "cell_type": "code",
   "execution_count": null,
   "metadata": {},
   "outputs": [],
   "source": [
    "Decode the Morse code"
   ]
  },
  {
   "cell_type": "code",
   "execution_count": null,
   "metadata": {},
   "outputs": [],
   "source": [
    "def decodeMorse(morse_code):\n",
    "  return ' '.join(''.join(MORSE_CODE[i] for i in word.split(' ')) for word in morse_code.strip().split(\"   \"))\n",
    "   "
   ]
  },
  {
   "cell_type": "code",
   "execution_count": null,
   "metadata": {},
   "outputs": [],
   "source": [
    "def decodeMorse(morse_sequence):\n",
    "    words = []\n",
    "    for morse_word in morse_sequence.split('   '):\n",
    "        word = ''.join(MORSE_CODE.get(morse_char, '') for morse_char in morse_word.split(' '))\n",
    "        if word:\n",
    "            words.append(word)\n",
    "    return ' '.join(words)"
   ]
  },
  {
   "cell_type": "code",
   "execution_count": null,
   "metadata": {},
   "outputs": [],
   "source": [
    "def decodeMorse(morseCode):\n",
    "\n",
    "    morseCode = morseCode.strip().replace(\"   \", \" * \")\n",
    "\n",
    "    msg = \"\"\n",
    "    \n",
    "    for x in morseCode.split():\n",
    "        if x != \"*\":\n",
    "            msg += MORSE_CODE[x]\n",
    "        else:\n",
    "            msg += \" \"\n",
    "    \n",
    "    return msg"
   ]
  },
  {
   "cell_type": "code",
   "execution_count": null,
   "metadata": {},
   "outputs": [],
   "source": [
    "def decodeMorse(morseCode):\n",
    "        \n",
    "    # find morse words in sequence, initiate roman words\n",
    "    morse_words = morseCode.split(\"   \")    # split on triple spaces\n",
    "    morse_words = list(filter(None, morse_words))    # remove empty strings\n",
    "    print(morse_words)\n",
    "    roman_words = []\n",
    "    \n",
    "    # convert the words one at a time\n",
    "    for morse_word in morse_words:\n",
    "        morse_word = morse_word.lstrip()    # remove leading spaces\n",
    "        morse_word = morse_word.rstrip()    # remove trailing spaces\n",
    "        morse_letters = morse_word.split(\" \") # split on single space\n",
    "        \n",
    "        roman_letters = [MORSE_CODE[letter] for letter in morse_letters]    # convert to roman\n",
    "        roman_words.append(\"\".join(roman_letters))    # append to roman words list\n",
    "    \n",
    "    return \" \".join(roman_words)"
   ]
  },
  {
   "cell_type": "code",
   "execution_count": null,
   "metadata": {},
   "outputs": [],
   "source": [
    "The Supermarket Queue:\n",
    "https://www.codewars.com/kata/57b06f90e298a7b53d000a86/train/python"
   ]
  },
  {
   "cell_type": "code",
   "execution_count": null,
   "metadata": {},
   "outputs": [],
   "source": [
    "def queue_time(customers, n):\n",
    "    tills = [0]*n\n",
    "    for i in customers:\n",
    "        tills[0] += i\n",
    "        tills.sort()\n",
    "    return max(tills)"
   ]
  },
  {
   "cell_type": "code",
   "execution_count": null,
   "metadata": {},
   "outputs": [],
   "source": [
    "Build Tower:"
   ]
  },
  {
   "cell_type": "code",
   "execution_count": null,
   "metadata": {},
   "outputs": [],
   "source": [
    "    def __init__(self):\n",
    "        pass\n",
    "\n",
    "    def tower_builder(self, n_floors):\n",
    "        \"\"\"\n",
    "        \"\"\"\n",
    "        floors = []\n",
    "        n = n_floors\n",
    "        for i in range(n_floors):\n",
    "            n -= 1\n",
    "            floors.append(' ' * n + '*' * (i * 2 + 1) + ' ' * n)\n",
    "\n",
    "        return floors\n",
    "\n",
    "\n",
    "if __name__ == '__main__':\n",
    "    sol = Solution()\n",
    "\n",
    "    print(repr(sol.tower_builder(6)))"
   ]
  },
  {
   "cell_type": "code",
   "execution_count": null,
   "metadata": {},
   "outputs": [],
   "source": [
    "def tower_builder(n_floors):\n",
    "    floors = []\n",
    "    n = n_floors\n",
    "    for i in range(n_floors):\n",
    "        n -= 1\n",
    "        floors.append(' ' * n + '*' * (i * 2 + 1) + ' ' * n)\n",
    "\n",
    "    return floors"
   ]
  },
  {
   "cell_type": "code",
   "execution_count": null,
   "metadata": {},
   "outputs": [],
   "source": [
    "def tower_builder(n_floors):\n",
    "    tower = []\n",
    "    spacing = n_floors - 1\n",
    "    stars = 1\n",
    "    for i in range(0, n_floors):\n",
    "        tower.append(' ' * spacing + '*' * stars + spacing * ' ')\n",
    "        stars += 2\n",
    "        spacing -= 1\n",
    "    return tower"
   ]
  },
  {
   "cell_type": "code",
   "execution_count": null,
   "metadata": {},
   "outputs": [],
   "source": [
    "Count the smiley faces!"
   ]
  },
  {
   "cell_type": "code",
   "execution_count": null,
   "metadata": {},
   "outputs": [],
   "source": [
    "def count_smileys(arr):\n",
    "    res = 0\n",
    "    for i in arr:\n",
    "      if check(i):\n",
    "        res += 1\n",
    "    return res#the number of valid smiley faces in array/list\n",
    "def check(i):\n",
    "    if i[0] != ':' and i[0] != ';':\n",
    "      return False\n",
    "    if len(i) == 3 and i[1] != '-' and i[1] != '~':\n",
    "      return False\n",
    "    if len(i) == 3 and i[2] != ')' and i[2] != 'D':\n",
    "      return False\n",
    "    if len(i) == 2 and i[1] != ')' and i[1] != 'D':\n",
    "      return False\n",
    "    return True"
   ]
  },
  {
   "cell_type": "code",
   "execution_count": null,
   "metadata": {},
   "outputs": [],
   "source": [
    "def count_smileys(arr):\n",
    "    return sum(bool(__import__('re').match(r'[:;][-~]?[)D]', i)) for i in arr)"
   ]
  },
  {
   "cell_type": "code",
   "execution_count": null,
   "metadata": {},
   "outputs": [],
   "source": [
    "def count_smileys(arr):  ### solución puesta en mi kata\n",
    "    eyes = [\":\", \";\"]\n",
    "    noses = [\"\", \"-\", \"~\"]\n",
    "    mouths = [\")\", \"D\"]\n",
    "    count = 0\n",
    "    for eye in eyes:\n",
    "        for nose in noses:\n",
    "            for mouth in mouths:\n",
    "                face = eye + nose + mouth\n",
    "                count += arr.count(face)\n",
    "    return count"
   ]
  },
  {
   "cell_type": "code",
   "execution_count": null,
   "metadata": {},
   "outputs": [],
   "source": [
    "def count_smileys(arr):\n",
    "    count = 0\n",
    "    if not arr:\n",
    "      return 0\n",
    "    smileys = [\":)\", \";)\", \":~)\", \";~)\", \":-)\", \";-)\", \":D\", \";D\", \":~D\", \";~D\", \":-D\", \";-D\"]\n",
    "    for i in arr:\n",
    "      if i in smileys:\n",
    "        count += 1\n",
    "    return count"
   ]
  },
  {
   "cell_type": "code",
   "execution_count": null,
   "metadata": {},
   "outputs": [],
   "source": [
    "The Deaf Rats of Hamelin: ???????"
   ]
  },
  {
   "cell_type": "code",
   "execution_count": null,
   "metadata": {},
   "outputs": [],
   "source": [
    "def count_deaf_rats(town):\n",
    "    # Your code here\n",
    "    t = town.replace(' ', '')\n",
    "    p_index = t.index('P')\n",
    "    left = t[:p_index][::2].count('O')\n",
    "    right = t[p_index+1:][::2].count('~')\n",
    "    return left + right"
   ]
  },
  {
   "cell_type": "code",
   "execution_count": null,
   "metadata": {},
   "outputs": [],
   "source": [
    "def count_deaf_rats(town):  #solucion de mi kata\n",
    "    deafs = 0\n",
    "    pos = town.find('P')\n",
    "    # first let's go for all the left mouse from Piper\n",
    "    i = pos - 1\n",
    "    while i >= 0:\n",
    "        if town[i] == 'O':\n",
    "            i -= 2\n",
    "        elif town[i] == '~':\n",
    "            deafs += 1\n",
    "            i -= 2\n",
    "        else:\n",
    "            i -= 1\n",
    "\n",
    "    # now find all the right nouse from Piper\n",
    "    i = pos + 1\n",
    "    while i < len(town):\n",
    "        if town[i] == 'O':\n",
    "            i += 2\n",
    "        elif town[i] == '~':\n",
    "            deafs += 1\n",
    "            i += 2\n",
    "        else:\n",
    "            i += 1\n",
    "    return deafs"
   ]
  },
  {
   "cell_type": "code",
   "execution_count": null,
   "metadata": {},
   "outputs": [],
   "source": [
    "def count_deaf_rats(town):\n",
    "    return town.replace(' ', '')[::2].count('O')"
   ]
  },
  {
   "cell_type": "code",
   "execution_count": null,
   "metadata": {},
   "outputs": [],
   "source": [
    "def count_deaf_rats(town):\n",
    "    deaf = 0\n",
    "    # Get position of the Piper\n",
    "    left = town.split('P')[0].replace(' ', '')\n",
    "    right = town.split('P')[1].replace(' ', '')\n",
    "    \n",
    "    # Get list of rats\n",
    "    l = [left[i:i+2] for i in range(0, len(left), 2)]\n",
    "    r = [right[i:i+2] for i in range(0, len(right), 2)]\n",
    "        \n",
    "    # Count deaf rats\n",
    "    for rat in l:\n",
    "        if rat == 'O~': deaf += 1\n",
    "    for rat in r:\n",
    "        if rat == '~O': deaf += 1\n",
    "\n",
    "    return deaf "
   ]
  },
  {
   "cell_type": "code",
   "execution_count": null,
   "metadata": {},
   "outputs": [],
   "source": [
    "def count_deaf_rats(town):\n",
    "    town = town.replace(' ', '')\n",
    "    P_pos = town.count('~', 0, town.index('P'))\n",
    "    town = town.replace('P', '')\n",
    "    ans = 0\n",
    "    for index, rat in enumerate([town[i:i + 2] for i in range(0, len(town), 2)]):\n",
    "        if index < P_pos:\n",
    "            if rat != '~O':\n",
    "                ans += 1\n",
    "        elif index >= P_pos:\n",
    "            if rat != 'O~':\n",
    "                ans += 1\n",
    "    return ans"
   ]
  },
  {
   "cell_type": "code",
   "execution_count": null,
   "metadata": {},
   "outputs": [],
   "source": [
    "def count_deaf_rats(town):\n",
    "    piper = False\n",
    "    count = 0\n",
    "    expectedChar = '~'\n",
    "    deafRats = 0\n",
    "    \n",
    "    while count < len(town):\n",
    "        if town[count] == ' ':\n",
    "            count += 1\n",
    "            \n",
    "        elif town[count] == expectedChar:\n",
    "            count += 2\n",
    "            \n",
    "        elif town[count] == 'P':\n",
    "            piper = True\n",
    "            expectedChar = 'O'\n",
    "            count += 1\n",
    "        \n",
    "        else:\n",
    "            deafRats += 1\n",
    "            count += 2\n",
    "                \n",
    "    return deafRats\n",
    "        "
   ]
  },
  {
   "cell_type": "code",
   "execution_count": null,
   "metadata": {},
   "outputs": [],
   "source": [
    "Give me a Diamond"
   ]
  },
  {
   "cell_type": "code",
   "execution_count": null,
   "metadata": {},
   "outputs": [],
   "source": [
    "def diamond(n): ## pasa el test\n",
    "    \"\"\"Create a diamond-shaped string using asterisks.\n",
    "    Keyword arguments:\n",
    "    n -- the size of the Diamond\n",
    "    Return resulted diamon-shaped string.\n",
    "    \"\"\"\n",
    "    def diamond(n):\n",
    "    if n < 1 or not n % 2:\n",
    "        # n is negative or even\n",
    "        return None\n",
    "    diamond = ''\n",
    "    for i in range(n):\n",
    "        # Build asterisks for the line\n",
    "        ast = '*'*(i*2 + 1) if i <= n/2 else '*'*((n-i)*2 - 1)\n",
    "        # Add a line\n",
    "        diamond += ' '*int((n-len(ast)) / 2) + ast + '\\n'\n",
    "    return diamond"
   ]
  },
  {
   "cell_type": "code",
   "execution_count": null,
   "metadata": {},
   "outputs": [],
   "source": [
    "def diamond(n):\n",
    "    if n > 0 and n % 2 == 1:\n",
    "        diamond = \"\"\n",
    "        for i in range(n):\n",
    "            diamond += \" \" * abs((n/2) - i)\n",
    "            diamond += \"*\" * (n - abs((n-1) - 2 * i))\n",
    "            diamond += \"\\n\"\n",
    "        return diamond\n",
    "    else:\n",
    "        return None"
   ]
  },
  {
   "cell_type": "code",
   "execution_count": null,
   "metadata": {},
   "outputs": [],
   "source": [
    "def diamond(n):\n",
    "    if n < 0 or n % 2 == 0:\n",
    "        return None\n",
    "    \n",
    "    result = \"*\" * n + \"\\n\"\n",
    "    spaces = 1\n",
    "    n = n - 2\n",
    "    while n > 0:\n",
    "        current = \" \" * spaces + \"*\" * n + \"\\n\"\n",
    "        spaces = spaces + 1\n",
    "        n = n - 2\n",
    "        result = current + result + current\n",
    "    \n",
    "    return result"
   ]
  },
  {
   "cell_type": "code",
   "execution_count": null,
   "metadata": {},
   "outputs": [],
   "source": [
    "Directions Reduction"
   ]
  },
  {
   "cell_type": "code",
   "execution_count": null,
   "metadata": {},
   "outputs": [],
   "source": [
    "def dirReduc(arr):\n",
    "    dict = {\"NORTH\":\"SOUTH\",\"SOUTH\":\"NORTH\",\"EAST\":\"WEST\",\"WEST\":\"EAST\"}\n",
    "    res = []\n",
    "    for i in arr:\n",
    "        if res and dict[i] == res[-1]:\n",
    "            res.pop()\n",
    "        else:\n",
    "            res.append(i)\n",
    "    return res"
   ]
  },
  {
   "cell_type": "code",
   "execution_count": null,
   "metadata": {},
   "outputs": [],
   "source": [
    "def dirReduc(arr):\n",
    "    opposites = [{'NORTH', 'SOUTH'}, {'EAST', 'WEST'}]\n",
    "    \n",
    "    for i in range(len(arr)-1):\n",
    "        if set(arr[i:i+2]) in opposites:\n",
    "            del arr[i:i+2]\n",
    "            return dirReduc(arr)\n",
    "    \n",
    "    return arr "
   ]
  },
  {
   "cell_type": "code",
   "execution_count": null,
   "metadata": {},
   "outputs": [],
   "source": [
    "\n",
    "def dirReduc(arr):\n",
    "    print(arr)\n",
    "    i = 0\n",
    "    while i < len(arr)-1:\n",
    "        current = arr[i]\n",
    "        next = arr[i+1]\n",
    "        if next == opposite[current]:\n",
    "            arr.pop(i)\n",
    "            arr.pop(i)\n",
    "            i = 0\n",
    "        else:\n",
    "            i += 1\n",
    "    return arr"
   ]
  },
  {
   "cell_type": "code",
   "execution_count": null,
   "metadata": {},
   "outputs": [],
   "source": [
    "Pete, the baker"
   ]
  },
  {
   "cell_type": "code",
   "execution_count": null,
   "metadata": {},
   "outputs": [],
   "source": [
    "def cakes(recipe, available):\n",
    "    \n",
    "    result=9999\n",
    "    for i in recipe:\n",
    "        if i in available:\n",
    "            if result > available[i] // recipe[i]:\n",
    "                result=available[i] // recipe[i]\n",
    "        else:\n",
    "            return 0\n",
    "    return result"
   ]
  },
  {
   "cell_type": "code",
   "execution_count": null,
   "metadata": {},
   "outputs": [],
   "source": [
    "def cakes(recipe, available):\n",
    "  return min(available.get(k, 0)/recipe[k] for k in recipe)"
   ]
  },
  {
   "cell_type": "code",
   "execution_count": null,
   "metadata": {},
   "outputs": [],
   "source": [
    "def cakes(recipe, available):\n",
    "    list = []\n",
    "    for ingredient in recipe:\n",
    "        if ingredient in available:\n",
    "            list.append(available[ingredient]/recipe[ingredient])\n",
    "        else:\n",
    "            return 0\n",
    "    return min(list)"
   ]
  },
  {
   "cell_type": "code",
   "execution_count": null,
   "metadata": {},
   "outputs": [],
   "source": [
    "def cakes(recipe, available):\n",
    "    amount_per_ingredient = []\n",
    "    for ingredient in recipe:\n",
    "        if ingredient not in available or available[ingredient] < recipe[ingredient]:\n",
    "            return 0\n",
    "        else:\n",
    "            amount_per_ingredient.append(available[ingredient] / recipe[ingredient])\n",
    "    return min(amount_per_ingredient)"
   ]
  }
 ]
}