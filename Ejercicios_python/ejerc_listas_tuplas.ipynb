{
 "cells": [
  {
   "cell_type": "markdown",
   "metadata": {},
   "source": [
    "## Ejercicio 1\n",
    "Escribir un programa que almacene las asignaturas de un curso (por ejemplo Matemáticas, Física, Química, Historia y Lengua) en una lista y la muestre por pantalla."
   ]
  },
  {
   "cell_type": "code",
   "execution_count": 50,
   "metadata": {
    "tags": []
   },
   "outputs": [
    {
     "output_type": "stream",
     "name": "stdout",
     "text": "['Matematicas', 'Física', 'Quimica', 'Historia', 'Lengua']\n"
    }
   ],
   "source": [
    "asignatura = [\"Matematicas\", \"Física\", \"Quimica\", \"Historia\", \"Lengua\"]\n",
    "print(asignatura)"
   ]
  },
  {
   "cell_type": "markdown",
   "metadata": {},
   "source": [
    "## Ejercicio 2\n",
    "Escribir un programa que almacene las asignaturas de un curso (por ejemplo Matemáticas, Física, Química, Historia y Lengua) en una lista y la muestre por pantalla el mensaje Yo estudio <asignatura>, donde <asignatura> es cada una de las asignaturas de la lista."
   ]
  },
  {
   "cell_type": "code",
   "execution_count": 51,
   "metadata": {},
   "outputs": [],
   "source": [
    "asignatura = [\"Matematicas\", \"Física\", \"Quimica\", \"Historia\", \"Lengua\"]"
   ]
  },
  {
   "cell_type": "code",
   "execution_count": 53,
   "metadata": {
    "tags": []
   },
   "outputs": [
    {
     "output_type": "stream",
     "name": "stdout",
     "text": "Yo estudio Matematicas\nYo estudio Física\nYo estudio Quimica\nYo estudio Historia\nYo estudio Lengua\n"
    }
   ],
   "source": [
    "\n",
    "for elem in asignatura:\n",
    "    print(\"Yo estudio \"+ elem)"
   ]
  },
  {
   "cell_type": "markdown",
   "metadata": {},
   "source": [
    "## Ejercicio 3\n",
    "\n",
    "Escribir un programa que almacene las asignaturas de un curso (por ejemplo Matemáticas, Física, Química, Historia y Lengua) en una lista, pregunte al usuario la nota que ha sacado en cada asignatura, y después las muestre por pantalla con el mensaje En <asignatura> has sacado <nota> donde <asignatura> es cada una des las asignaturas de la lista y <nota> cada una de las correspondientes notas introducidas por el usuario."
   ]
  },
  {
   "cell_type": "code",
   "execution_count": 54,
   "metadata": {
    "tags": []
   },
   "outputs": [
    {
     "output_type": "stream",
     "name": "stdout",
     "text": "En la asignarura Matematicashas sacado 4\nEn la asignarura Físicahas sacado 3\nEn la asignarura Quimicahas sacado 4\nEn la asignarura Historiahas sacado 5\nEn la asignarura Lenguahas sacado 3\n"
    }
   ],
   "source": [
    "asignatura = [\"Matematicas\", \"Física\", \"Quimica\", \"Historia\", \"Lengua\"]\n",
    "for elem in asignatura:\n",
    "    nota= input(\"Poner la nota que has sacado \" + str(asignatura))\n",
    "    \n",
    "    print(\"En la asignarura \" +  elem  + \"has sacado \"+ nota  )"
   ]
  },
  {
   "cell_type": "markdown",
   "metadata": {},
   "source": [
    "## Ejercicio 4\n",
    "Escribir un programa que pregunte al usuario los números ganadores de la lotería primitiva, los almacene en una lista y los muestre por pantalla ordenados de menor a mayor.\n"
   ]
  },
  {
   "cell_type": "code",
   "execution_count": 49,
   "metadata": {
    "tags": []
   },
   "outputs": [
    {
     "output_type": "stream",
     "name": "stdout",
     "text": "Los ganadores de la loteria son: [32]\nLos ganadores de la loteria son: [32, 321]\nLos ganadores de la loteria son: [3, 32, 321]\nLos ganadores de la loteria son: [3, 23, 32, 321]\nLos ganadores de la loteria son: [3, 21, 23, 32, 321]\n"
    }
   ],
   "source": [
    "\n",
    "ganadores = []\n",
    "for elem in range(5):\n",
    "    ganadores.append(int(input(\"preguntar numero de ganadores de la loteria de la primitiva \" )))\n",
    "    ganadores.sort()\n",
    "    print(\"Los ganadores de la loteria son: \" + str(ganadores))\n",
    "  "
   ]
  },
  {
   "cell_type": "markdown",
   "metadata": {},
   "source": [
    "##Ejercicio 5\n",
    "\n",
    "Escribir un programa que almacene en una lista los números del 1 al 10 y los muestre por pantalla en orden inverso separados por comas."
   ]
  },
  {
   "cell_type": "code",
   "execution_count": 60,
   "metadata": {
    "tags": []
   },
   "outputs": [
    {
     "output_type": "stream",
     "name": "stdout",
     "text": "10, \n9, \n8, \n7, \n6, \n5, \n4, \n3, \n2, \n1, \n"
    }
   ],
   "source": [
    "numeros= [1, 2, 3, 4, 5, 6, 7, 8, 9, 10]\n",
    "numeros.reverse()\n",
    "for elem in numeros:\n",
    "    print(str(elem) + \", \")"
   ]
  },
  {
   "cell_type": "code",
   "execution_count": null,
   "metadata": {},
   "outputs": [],
   "source": [
    "##Ejercicio 6\n",
    "\n",
    "Escribir un programa que almacene las asignaturas de un curso (por ejemplo Matemáticas, Física, Química, Historia y Lengua) en una lista, pregunte al usuario la nota que ha sacado en cada asignatura y elimine de la lista las asignaturas aprobadas. Al final el programa debe mostrar por pantalla las asignaturas que el usuario tiene que repetir."
   ]
  },
  {
   "cell_type": "code",
   "execution_count": 8,
   "metadata": {
    "tags": []
   },
   "outputs": [
    {
     "output_type": "stream",
     "name": "stdout",
     "text": "Las asignaturas suspensas son: Matematicas\nLas asignaturas suspensas son: Física\n"
    }
   ],
   "source": [
    "asignatura = [\"Matematicas\", \"Física\", \"Quimica\", \"Historia\", \"Lengua\"]\n",
    "for elem in asignatura:\n",
    "    nota = int(input(\"Nota que has sacado: \" + str(asignatura)))\n",
    "    if nota < 5:\n",
    "        print(\"Las asignaturas suspensas son: \" + elem)\n",
    "   \n",
    "    \n"
   ]
  },
  {
   "cell_type": "code",
   "execution_count": null,
   "metadata": {},
   "outputs": [],
   "source": []
  },
  {
   "cell_type": "code",
   "execution_count": null,
   "metadata": {},
   "outputs": [],
   "source": []
  }
 ],
 "metadata": {
  "language_info": {
   "codemirror_mode": {
    "name": "ipython",
    "version": 3
   },
   "file_extension": ".py",
   "mimetype": "text/x-python",
   "name": "python",
   "nbconvert_exporter": "python",
   "pygments_lexer": "ipython3",
   "version": "3.8.3-final"
  },
  "orig_nbformat": 2,
  "kernelspec": {
   "name": "python38364bit197569bee0d3481d83b4b0821dc7d554",
   "display_name": "Python 3.8.3 64-bit"
  }
 },
 "nbformat": 4,
 "nbformat_minor": 2
}