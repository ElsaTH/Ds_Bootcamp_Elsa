{
 "cells": [
  {
   "cell_type": "markdown",
   "metadata": {},
   "source": [
    "### 9. Ejercicios: \n",
    "\n",
    "- Crea dos listas: una que tenga 4 nombres de ciudades y otra que tenga 4 lugares emblemáticos de la ciudad. "
   ]
  },
  {
   "cell_type": "code",
   "execution_count": 2,
   "metadata": {},
   "outputs": [],
   "source": [
    "# Code\n",
    "nombre_ciudad= [\"Madrid\", \"Paris\", \"Roma\", \"Barcelona\"]\n",
    "lugar_emblematico= [\"Bernabeu\", \"Torre_Eiffel\", \"Vaticano\", \"Sagrada_Familia\"]"
   ]
  },
  {
   "cell_type": "markdown",
   "metadata": {},
   "source": [
    "### A partir de funciones con diccionarios:\n",
    "\n",
    "- Crea un diccionario con un entero 5 como key y \"val\" como su value. "
   ]
  },
  {
   "cell_type": "code",
   "execution_count": 2,
   "metadata": {},
   "outputs": [],
   "source": [
    "# Code\n",
    "mi_diccionario={5:\"val\"}"
   ]
  },
  {
   "cell_type": "markdown",
   "metadata": {},
   "source": [
    "- Crea una función que a reciba dos listas 'lista1' y 'lista2' por parámetro y retorne un diccionario teniendo como keys cada elemento de 'lista1' y como values los elementos de 'lista2'. Llama a la función con las listas que has creado antes para que devuelva un diccionario con cada ciudad como key asociado a un lugar emblemático como value. \n"
   ]
  },
  {
   "cell_type": "code",
   "execution_count": 3,
   "metadata": {
    "tags": []
   },
   "outputs": [
    {
     "output_type": "stream",
     "name": "stdout",
     "text": "{'Madrid': 'Bernabeu', 'Paris': 'Torre_Eiffel', 'Roma': 'Vaticano', 'Barcelona': 'Sagrada_Familia'}\n"
    },
    {
     "output_type": "execute_result",
     "data": {
      "text/plain": "{'Madrid': 'Bernabeu',\n 'Paris': 'Torre_Eiffel',\n 'Roma': 'Vaticano',\n 'Barcelona': 'Sagrada_Familia'}"
     },
     "metadata": {},
     "execution_count": 3
    }
   ],
   "source": [
    "def diccionario(lista1,lista2):  \n",
    "    dic= dict(zip(lista1,lista2))\n",
    "    print(dic)\n",
    "    return dic\n",
    "diccionario(lista1=nombre_ciudad, lista2=lugar_emblematico)"
   ]
  },
  {
   "cell_type": "code",
   "execution_count": 27,
   "metadata": {
    "tags": []
   },
   "outputs": [
    {
     "output_type": "stream",
     "name": "stdout",
     "text": "{'Madrid': 'Bernabeu', 'Paris': 'Torre_Eiffel', 'Roma': 'Vaticano', 'Barcelona': 'Sagrada_Familia'}\n"
    }
   ],
   "source": [
    "# Code d[k].append(v)\n",
    "def diccionario(lista1,lista2):  \n",
    "    for k,v in zip(lista1,lista2):\n",
    "        print(dict(zip(lista1,lista2)))\n",
    "        return \n",
    "diccionario(lista1=nombre_ciudad, lista2=lugar_emblematico)"
   ]
  },
  {
   "cell_type": "markdown",
   "metadata": {},
   "source": [
    "*Hay que utilizar la lista de alumn@s con sus nombres y alturas*\n",
    "\n",
    "- Crea una función que, a partir de dos listas, retorne un diccionario en el que cada key sea el nombre de un alumno y su value debe ser la altura."
   ]
  },
  {
   "cell_type": "code",
   "execution_count": 4,
   "metadata": {},
   "outputs": [],
   "source": [
    "# Code\n",
    "lista_alumnos = [[\"Jalex\", 6,47, 1.80], [\"Tomas\", 5,31, 1.80], [\"David\", 6,39, 1.81], [\"Natalio\", 2,29, 1.73], [\"Monica\", 3,47, 1.73], [\"Roxanna\", 4,24,1.75], [\"Filipa\", 5,34,1.64], [\"Elsa\", 4, 36, 1.89], [\"Cristina\", 3, 46, 1.70], [\"Clara\", 6, 29, 1.67], [\"Alba\", 3, 29, 1.68], [\"Valeria\",1, 40, 1.60], [\"J.Luis\", 4, 47, 1.69], [\"Gabriel\", 1, 28, 1.76], [\"Rochi\", 2, 38, 1.60], [\"J.Maria\", 5, 51, 1.75]]\n"
   ]
  },
  {
   "cell_type": "code",
   "execution_count": 7,
   "metadata": {
    "tags": []
   },
   "outputs": [
    {
     "output_type": "stream",
     "name": "stdout",
     "text": "Jalex 1.8\nTomas 1.8\nDavid 1.81\nNatalio 1.73\nMonica 1.73\nRoxanna 1.75\nFilipa 1.64\nElsa 1.89\nCristina 1.7\nClara 1.67\nAlba 1.68\nValeria 1.6\nJ.Luis 1.69\nGabriel 1.76\nRochi 1.6\nJ.Maria 1.75\n"
    },
    {
     "output_type": "execute_result",
     "data": {
      "text/plain": "{'Jalex': 1.8,\n 'Tomas': 1.8,\n 'David': 1.81,\n 'Natalio': 1.73,\n 'Monica': 1.73,\n 'Roxanna': 1.75,\n 'Filipa': 1.64,\n 'Elsa': 1.89,\n 'Cristina': 1.7,\n 'Clara': 1.67,\n 'Alba': 1.68,\n 'Valeria': 1.6,\n 'J.Luis': 1.69,\n 'Gabriel': 1.76,\n 'Rochi': 1.6,\n 'J.Maria': 1.75}"
     },
     "metadata": {},
     "execution_count": 7
    }
   ],
   "source": [
    "d={}\n",
    "for elem in lista_alumnos:\n",
    "    print(elem[0], elem[3])\n",
    "    d[elem[0]]=elem[3]\n",
    "d"
   ]
  },
  {
   "cell_type": "code",
   "execution_count": 6,
   "metadata": {},
   "outputs": [],
   "source": [
    "def alumnos():\n",
    "    alum = {}\n",
    "    pos=0\n",
    "       \n",
    "            \n",
    "        # solo nos interesa aquellos datos de la lista que son tuplas\n",
    "    if isinstance(pos, list):\n",
    "            # si en el diccionario resultante no tengo esa clave, la inicializó\n",
    "        if elem[0] not in resultado:\n",
    "            resultado[lista_alumno[0]] = []\n",
    "            # agrego el valor a la clave del diccionario\n",
    "            # para prueba = (’hematies’, 4430000)\n",
    "            # clave: prueba[0] => 'hematies'\n",
    "            # valor: prueba[1] => 4430000\n",
    "            pos +=1\n",
    "        resultado[lista_alumnos[0]].append(lista_alumnos[1])\n",
    "alumnos()"
   ]
  },
  {
   "cell_type": "code",
   "execution_count": 21,
   "metadata": {},
   "outputs": [],
   "source": [
    "def alumnos():\n",
    "    lista_alumnos=dict(lista_alumnos)\n",
    "    alum = {}\n",
    "    for k,v in alum.items():\n",
    "         d(k).append(v)\n",
    "       "
   ]
  },
  {
   "cell_type": "code",
   "execution_count": 22,
   "metadata": {},
   "outputs": [
    {
     "output_type": "error",
     "ename": "ValueError",
     "evalue": "dictionary update sequence element #0 has length 4; 2 is required",
     "traceback": [
      "\u001b[0;31m---------------------------------------------------------------------------\u001b[0m",
      "\u001b[0;31mValueError\u001b[0m                                Traceback (most recent call last)",
      "\u001b[0;32m<ipython-input-22-324fc7b4779e>\u001b[0m in \u001b[0;36m<module>\u001b[0;34m\u001b[0m\n\u001b[0;32m----> 1\u001b[0;31m \u001b[0mlista_alumnos\u001b[0m\u001b[0;34m=\u001b[0m\u001b[0mdict\u001b[0m\u001b[0;34m(\u001b[0m\u001b[0mlista_alumnos\u001b[0m\u001b[0;34m)\u001b[0m\u001b[0;34m\u001b[0m\u001b[0;34m\u001b[0m\u001b[0m\n\u001b[0m",
      "\u001b[0;31mValueError\u001b[0m: dictionary update sequence element #0 has length 4; 2 is required"
     ]
    }
   ],
   "source": [
    "new_dict = {}\n",
    "\n",
    "for nombre, altura in lista_alumnos:\n",
    "    if  len(lista_alumnos)==list:\n",
    "        \n",
    "        if  in new_dict:\n",
    "            new_dict['18-24'] += (', ' + nombre)\n",
    "        else:\n",
    "            new_dict['18-24'] = nombre\n",
    "\n",
    "    elif 25 <= edad <= 35:\n",
    "        if '25-35' in new_dict:\n",
    "            new_dict['25-35'] += (', ' + nombre)\n",
    "        else:\n",
    "            new_dict['25-35'] = nombre"
   ]
  },
  {
   "cell_type": "code",
   "execution_count": null,
   "metadata": {},
   "outputs": [],
   "source": []
  },
  {
   "cell_type": "code",
   "execution_count": null,
   "metadata": {},
   "outputs": [],
   "source": [
    "l = [('A', 1), ('B', 2), ('C', 3), ('A', 5), ('D', 0), ('D', 9)]\n",
    "\n",
    "# A solution\n",
    "d = dict()\n",
    "[d [t [0]].append(t [1]) if t [0] in list(d.keys()) \n",
    " else d.update({t [0]: [t [1]]}) for t in l]\n",
    "d\n",
    "\n",
    "OUTPUT: {'A': [1, 5], 'B': [2], 'C': [3], 'D': [0, 9]}"
   ]
  },
  {
   "cell_type": "code",
   "execution_count": 33,
   "metadata": {
    "tags": []
   },
   "outputs": [
    {
     "output_type": "stream",
     "name": "stdout",
     "text": "[['Jalex', 6, 47, 1.8], ['Gabriel', 1, 28, 1.76], ['Rochi', 2, 38, 1.6], ['J.Maria', 5, 51, 1.75]]\n"
    }
   ],
   "source": [
    "lista_alumnos\n",
    "for elem in lista_alumnos:\n",
    "    if type(elem) == list:\n",
    "        dic[elem[0]]=elem[3]\n",
    "print(lista_alumnos)"
   ]
  },
  {
   "cell_type": "code",
   "execution_count": 9,
   "metadata": {
    "tags": []
   },
   "outputs": [
    {
     "output_type": "stream",
     "name": "stdout",
     "text": "{'Jalex': 1.8, 'Tomas': (1, 80)}\n"
    }
   ],
   "source": [
    "dic={}\n",
    "dic[\"Jalex\"]=1.8\n",
    "dic[\"Tomas\"]=1,80\n",
    "print(dic)"
   ]
  },
  {
   "cell_type": "code",
   "execution_count": 25,
   "metadata": {},
   "outputs": [
    {
     "output_type": "error",
     "ename": "IndexError",
     "evalue": "pop index out of range",
     "traceback": [
      "\u001b[0;31m---------------------------------------------------------------------------\u001b[0m",
      "\u001b[0;31mIndexError\u001b[0m                                Traceback (most recent call last)",
      "\u001b[0;32m<ipython-input-25-fac870855269>\u001b[0m in \u001b[0;36m<module>\u001b[0;34m\u001b[0m\n\u001b[1;32m      6\u001b[0m             \u001b[0;32mcontinue\u001b[0m\u001b[0;34m\u001b[0m\u001b[0;34m\u001b[0m\u001b[0m\n\u001b[1;32m      7\u001b[0m \u001b[0;34m\u001b[0m\u001b[0m\n\u001b[0;32m----> 8\u001b[0;31m \u001b[0mf_\u001b[0m\u001b[0;34m(\u001b[0m\u001b[0mlista\u001b[0m\u001b[0;34m=\u001b[0m\u001b[0mlista_alumnos\u001b[0m\u001b[0;34m)\u001b[0m\u001b[0;34m\u001b[0m\u001b[0;34m\u001b[0m\u001b[0m\n\u001b[0m",
      "\u001b[0;32m<ipython-input-25-fac870855269>\u001b[0m in \u001b[0;36mf_\u001b[0;34m(lista)\u001b[0m\n\u001b[1;32m      3\u001b[0m         \u001b[0;32mif\u001b[0m \u001b[0mtype\u001b[0m\u001b[0;34m(\u001b[0m\u001b[0melem\u001b[0m\u001b[0;34m)\u001b[0m \u001b[0;34m==\u001b[0m \u001b[0mlist\u001b[0m\u001b[0;34m:\u001b[0m\u001b[0;34m\u001b[0m\u001b[0;34m\u001b[0m\u001b[0m\n\u001b[1;32m      4\u001b[0m             \u001b[0;32mif\u001b[0m \u001b[0melem\u001b[0m \u001b[0;32min\u001b[0m \u001b[0mlista\u001b[0m\u001b[0;34m:\u001b[0m\u001b[0;34m\u001b[0m\u001b[0;34m\u001b[0m\u001b[0m\n\u001b[0;32m----> 5\u001b[0;31m                 \u001b[0mlista\u001b[0m\u001b[0;34m.\u001b[0m\u001b[0mpop\u001b[0m\u001b[0;34m(\u001b[0m\u001b[0melem\u001b[0m\u001b[0;34m[\u001b[0m\u001b[0;36m2\u001b[0m\u001b[0;34m]\u001b[0m\u001b[0;34m)\u001b[0m\u001b[0;34m\u001b[0m\u001b[0;34m\u001b[0m\u001b[0m\n\u001b[0m\u001b[1;32m      6\u001b[0m             \u001b[0;32mcontinue\u001b[0m\u001b[0;34m\u001b[0m\u001b[0;34m\u001b[0m\u001b[0m\n\u001b[1;32m      7\u001b[0m \u001b[0;34m\u001b[0m\u001b[0m\n",
      "\u001b[0;31mIndexError\u001b[0m: pop index out of range"
     ]
    }
   ],
   "source": [
    "def f_(lista):\n",
    "    for elem in lista:\n",
    "        if type(elem) == list:\n",
    "            if elem in lista:\n",
    "                lista.pop(elem[2])\n",
    "            continue  \n",
    "        \n",
    "f_(lista=lista_alumnos)"
   ]
  },
  {
   "cell_type": "code",
   "execution_count": 29,
   "metadata": {},
   "outputs": [
    {
     "output_type": "execute_result",
     "data": {
      "text/plain": "[['Jalex', 6, 47, 1.8],\n ['Gabriel', 1, 28, 1.76],\n ['Rochi', 2, 38, 1.6],\n ['J.Maria', 5, 51, 1.75]]"
     },
     "metadata": {},
     "execution_count": 29
    }
   ],
   "source": [
    "lista_alumnos"
   ]
  },
  {
   "cell_type": "code",
   "execution_count": 30,
   "metadata": {
    "tags": []
   },
   "outputs": [
    {
     "output_type": "error",
     "ename": "TypeError",
     "evalue": "'list' object cannot be interpreted as an integer",
     "traceback": [
      "\u001b[0;31m---------------------------------------------------------------------------\u001b[0m",
      "\u001b[0;31mTypeError\u001b[0m                                 Traceback (most recent call last)",
      "\u001b[0;32m<ipython-input-30-79498ec61f2b>\u001b[0m in \u001b[0;36m<module>\u001b[0;34m\u001b[0m\n\u001b[1;32m      2\u001b[0m         \u001b[0;32mif\u001b[0m \u001b[0misinstance\u001b[0m\u001b[0;34m(\u001b[0m\u001b[0melem\u001b[0m\u001b[0;34m,\u001b[0m \u001b[0mlist\u001b[0m\u001b[0;34m)\u001b[0m\u001b[0;34m:\u001b[0m\u001b[0;34m\u001b[0m\u001b[0;34m\u001b[0m\u001b[0m\n\u001b[1;32m      3\u001b[0m             \u001b[0;32mif\u001b[0m \u001b[0melem\u001b[0m \u001b[0;32min\u001b[0m \u001b[0mlista_alumnos\u001b[0m\u001b[0;34m:\u001b[0m\u001b[0;34m\u001b[0m\u001b[0;34m\u001b[0m\u001b[0m\n\u001b[0;32m----> 4\u001b[0;31m                 \u001b[0mlista_alumnos\u001b[0m\u001b[0;34m.\u001b[0m\u001b[0mpop\u001b[0m\u001b[0;34m(\u001b[0m\u001b[0;34m[\u001b[0m\u001b[0;36m1\u001b[0m\u001b[0;34m]\u001b[0m\u001b[0;34m)\u001b[0m\u001b[0;34m\u001b[0m\u001b[0;34m\u001b[0m\u001b[0m\n\u001b[0m\u001b[1;32m      5\u001b[0m \u001b[0mprint\u001b[0m\u001b[0;34m(\u001b[0m\u001b[0mlista_alumnos\u001b[0m\u001b[0;34m)\u001b[0m\u001b[0;34m\u001b[0m\u001b[0;34m\u001b[0m\u001b[0m\n",
      "\u001b[0;31mTypeError\u001b[0m: 'list' object cannot be interpreted as an integer"
     ]
    }
   ],
   "source": [
    "for i,elem in enumerate(lista_alumnos):\n",
    "        if isinstance(elem, list):\n",
    "            if elem in lista_alumnos:\n",
    "                lista_alumnos.pop([1])\n",
    "print(lista_alumnos)"
   ]
  },
  {
   "cell_type": "code",
   "execution_count": null,
   "metadata": {},
   "outputs": [],
   "source": []
  }
 ],
 "metadata": {
  "language_info": {
   "codemirror_mode": {
    "name": "ipython",
    "version": 3
   },
   "file_extension": ".py",
   "mimetype": "text/x-python",
   "name": "python",
   "nbconvert_exporter": "python",
   "pygments_lexer": "ipython3",
   "version": "3.8.3-final"
  },
  "orig_nbformat": 2,
  "kernelspec": {
   "name": "python38364bit197569bee0d3481d83b4b0821dc7d554",
   "display_name": "Python 3.8.3 64-bit"
  }
 },
 "nbformat": 4,
 "nbformat_minor": 2
}