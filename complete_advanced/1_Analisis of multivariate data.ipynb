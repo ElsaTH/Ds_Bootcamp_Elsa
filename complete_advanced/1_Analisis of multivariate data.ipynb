{
 "cells": [
  {
   "cell_type": "markdown",
   "metadata": {
    "slideshow": {
     "slide_type": "slide"
    }
   },
   "source": [
    "# Analysis of multivariate data\n",
    "\n",
    "- Regression line\n",
    "- Correlation"
   ]
  },
  {
   "cell_type": "code",
   "execution_count": 1,
   "metadata": {},
   "outputs": [],
   "source": [
    "%matplotlib inline\n",
    "import numpy as np\n",
    "import matplotlib.pyplot as plt\n",
    "import scipy.stats as stats\n",
    "import pandas as pd\n",
    "from numpy.linalg import lstsq\n",
    "from urllib.request import urlopen\n",
    "import statsmodels.api as sm"
   ]
  },
  {
   "cell_type": "markdown",
   "metadata": {
    "slideshow": {
     "slide_type": "subslide"
    }
   },
   "source": [
    "## Regression Line\n",
    "\n",
    "Fit a line, using the powerful \"ordinary least square\" method of pandas.\n",
    "\n",
    "*Data from 24 type 1 diabetic patients, relating Fasting blood glucose (mmol/l) to mean circumferential shortening velocity (%/sec), derived form echocardiography.*"
   ]
  },
  {
   "cell_type": "code",
   "execution_count": 2,
   "metadata": {},
   "outputs": [],
   "source": [
    "# Get the data\n",
    "url_base = 'https://raw.githubusercontent.com/thomas-haslwanter/statsintro_python/master/ipynb/Data/data_altman/'\n",
    "inFile = 'altman_11_6.txt'\n",
    "url = url_base + inFile\n",
    "data = np.genfromtxt(urlopen(url), delimiter=',')"
   ]
  },
  {
   "cell_type": "markdown",
   "metadata": {
    "slideshow": {
     "slide_type": "subslide"
    }
   },
   "source": [
    "### Solve equations \"by hand\" ..."
   ]
  },
  {
   "cell_type": "code",
   "execution_count": 3,
   "metadata": {},
   "outputs": [
    {
     "name": "stdout",
     "output_type": "stream",
     "text": "(array([1.098, 0.022]), array([0.986]), 2, array([54.079,  1.838]))\n"
    },
    {
     "data": {
      "image/png": "[encoded data removed]",
      "image/svg+xml": "<?xml version=\"1.0\" encoding=\"utf-8\" standalone=\"no\"?>\n<!DOCTYPE svg PUBLIC \"-//W3C//DTD SVG 1.1//EN\"\n  \"http://www.w3.org/Graphics/SVG/1.1/DTD/svg11.dtd\">\n<!-- Created with matplotlib (https://matplotlib.org/) -->\n<svg height=\"248.518125pt\" version=\"1.1\" viewBox=\"0 0 373.193967 248.518125\" width=\"373.193967pt\" xmlns=\"http://www.w3.org/2000/svg\" xmlns:xlink=\"http://www.w3.org/1999/xlink\">\n <defs>\n  <style type=\"text/css\">\n*{stroke-linecap:butt;stroke-linejoin:round;}\n  </style>\n </defs>\n <g id=\"figure_1\">\n  <g id=\"patch_1\">\n   <path d=\"M 0 248.518125 \nL 373.193967 248.518125 \nL 373.193967 0 \nL 0 0 \nz\n\" style=\"fill:none;\"/>\n  </g>\n  <g id=\"axes_1\">\n   <g id=\"patch_2\">\n    <path d=\"M 30.103125 224.64 \nL 364.903125 224.64 \nL 364.903125 7.2 \nL 30.103125 7.2 \nz\n\" style=\"fill:#ffffff;\"/>\n   </g>\n   <g id=\"matplotlib.axis_1\">\n    <g id=\"xtick_1\">\n     <g id=\"line2d_1\">\n      <defs>\n       <path d=\"M 0 0 \nL 0 3.5 \n\" id=\"m17b738478a\" style=\"stroke:#000000;stroke-width:0.8;\"/>\n      </defs>\n      <g>\n       <use style=\"stroke:#000000;stroke-width:0.8;\" x=\"41.342697\" xlink:href=\"#m17b738478a\" y=\"224.64\"/>\n      </g>\n     </g>\n     <g id=\"text_1\">\n      <!-- 4 -->\n      <defs>\n       <path d=\"M 37.796875 64.3125 \nL 12.890625 25.390625 \nL 37.796875 25.390625 \nz\nM 35.203125 72.90625 \nL 47.609375 72.90625 \nL 47.609375 25.390625 \nL 58.015625 25.390625 \nL 58.015625 17.1875 \nL 47.609375 17.1875 \nL 47.609375 0 \nL 37.796875 0 \nL 37.796875 17.1875 \nL 4.890625 17.1875 \nL 4.890625 26.703125 \nz\n\" id=\"DejaVuSans-52\"/>\n      </defs>\n      <g transform=\"translate(38.161447 239.238437)scale(0.1 -0.1)\">\n       <use xlink:href=\"#DejaVuSans-52\"/>\n      </g>\n     </g>\n    </g>\n    <g id=\"xtick_2\">\n     <g id=\"line2d_2\">\n      <g>\n       <use style=\"stroke:#000000;stroke-width:0.8;\" x=\"81.128793\" xlink:href=\"#m17b738478a\" y=\"224.64\"/>\n      </g>\n     </g>\n     <g id=\"text_2\">\n      <!-- 6 -->\n      <defs>\n       <path d=\"M 33.015625 40.375 \nQ 26.375 40.375 22.484375 35.828125 \nQ 18.609375 31.296875 18.609375 23.390625 \nQ 18.609375 15.53125 22.484375 10.953125 \nQ 26.375 6.390625 33.015625 6.390625 \nQ 39.65625 6.390625 43.53125 10.953125 \nQ 47.40625 15.53125 47.40625 23.390625 \nQ 47.40625 31.296875 43.53125 35.828125 \nQ 39.65625 40.375 33.015625 40.375 \nz\nM 52.59375 71.296875 \nL 52.59375 62.3125 \nQ 48.875 64.0625 45.09375 64.984375 \nQ 41.3125 65.921875 37.59375 65.921875 \nQ 27.828125 65.921875 22.671875 59.328125 \nQ 17.53125 52.734375 16.796875 39.40625 \nQ 19.671875 43.65625 24.015625 45.921875 \nQ 28.375 48.1875 33.59375 48.1875 \nQ 44.578125 48.1875 50.953125 41.515625 \nQ 57.328125 34.859375 57.328125 23.390625 \nQ 57.328125 12.15625 50.6875 5.359375 \nQ 44.046875 -1.421875 33.015625 -1.421875 \nQ 20.359375 -1.421875 13.671875 8.265625 \nQ 6.984375 17.96875 6.984375 36.375 \nQ 6.984375 53.65625 15.1875 63.9375 \nQ 23.390625 74.21875 37.203125 74.21875 \nQ 40.921875 74.21875 44.703125 73.484375 \nQ 48.484375 72.75 52.59375 71.296875 \nz\n\" id=\"DejaVuSans-54\"/>\n      </defs>\n      <g transform=\"translate(77.947543 239.238437)scale(0.1 -0.1)\">\n       <use xlink:href=\"#DejaVuSans-54\"/>\n      </g>\n     </g>\n    </g>\n    <g id=\"xtick_3\">\n     <g id=\"line2d_3\">\n      <g>\n       <use style=\"stroke:#000000;stroke-width:0.8;\" x=\"120.91489\" xlink:href=\"#m17b738478a\" y=\"224.64\"/>\n      </g>\n     </g>\n     <g id=\"text_3\">\n      <!-- 8 -->\n      <defs>\n       <path d=\"M 31.78125 34.625 \nQ 24.75 34.625 20.71875 30.859375 \nQ 16.703125 27.09375 16.703125 20.515625 \nQ 16.703125 13.921875 20.71875 10.15625 \nQ 24.75 6.390625 31.78125 6.390625 \nQ 38.8125 6.390625 42.859375 10.171875 \nQ 46.921875 13.96875 46.921875 20.515625 \nQ 46.921875 27.09375 42.890625 30.859375 \nQ 38.875 34.625 31.78125 34.625 \nz\nM 21.921875 38.8125 \nQ 15.578125 40.375 12.03125 44.71875 \nQ 8.5 49.078125 8.5 55.328125 \nQ 8.5 64.0625 14.71875 69.140625 \nQ 20.953125 74.21875 31.78125 74.21875 \nQ 42.671875 74.21875 48.875 69.140625 \nQ 55.078125 64.0625 55.078125 55.328125 \nQ 55.078125 49.078125 51.53125 44.71875 \nQ 48 40.375 41.703125 38.8125 \nQ 48.828125 37.15625 52.796875 32.3125 \nQ 56.78125 27.484375 56.78125 20.515625 \nQ 56.78125 9.90625 50.3125 4.234375 \nQ 43.84375 -1.421875 31.78125 -1.421875 \nQ 19.734375 -1.421875 13.25 4.234375 \nQ 6.78125 9.90625 6.78125 20.515625 \nQ 6.78125 27.484375 10.78125 32.3125 \nQ 14.796875 37.15625 21.921875 38.8125 \nz\nM 18.3125 54.390625 \nQ 18.3125 48.734375 21.84375 45.5625 \nQ 25.390625 42.390625 31.78125 42.390625 \nQ 38.140625 42.390625 41.71875 45.5625 \nQ 45.3125 48.734375 45.3125 54.390625 \nQ 45.3125 60.0625 41.71875 63.234375 \nQ 38.140625 66.40625 31.78125 66.40625 \nQ 25.390625 66.40625 21.84375 63.234375 \nQ 18.3125 60.0625 18.3125 54.390625 \nz\n\" id=\"DejaVuSans-56\"/>\n      </defs>\n      <g transform=\"translate(117.73364 239.238437)scale(0.1 -0.1)\">\n       <use xlink:href=\"#DejaVuSans-56\"/>\n      </g>\n     </g>\n    </g>\n    <g id=\"xtick_4\">\n     <g id=\"line2d_4\">\n      <g>\n       <use style=\"stroke:#000000;stroke-width:0.8;\" x=\"160.700986\" xlink:href=\"#m17b738478a\" y=\"224.64\"/>\n      </g>\n     </g>\n     <g id=\"text_4\">\n      <!-- 10 -->\n      <defs>\n       <path d=\"M 12.40625 8.296875 \nL 28.515625 8.296875 \nL 28.515625 63.921875 \nL 10.984375 60.40625 \nL 10.984375 69.390625 \nL 28.421875 72.90625 \nL 38.28125 72.90625 \nL 38.28125 8.296875 \nL 54.390625 8.296875 \nL 54.390625 0 \nL 12.40625 0 \nz\n\" id=\"DejaVuSans-49\"/>\n       <path d=\"M 31.78125 66.40625 \nQ 24.171875 66.40625 20.328125 58.90625 \nQ 16.5 51.421875 16.5 36.375 \nQ 16.5 21.390625 20.328125 13.890625 \nQ 24.171875 6.390625 31.78125 6.390625 \nQ 39.453125 6.390625 43.28125 13.890625 \nQ 47.125 21.390625 47.125 36.375 \nQ 47.125 51.421875 43.28125 58.90625 \nQ 39.453125 66.40625 31.78125 66.40625 \nz\nM 31.78125 74.21875 \nQ 44.046875 74.21875 50.515625 64.515625 \nQ 56.984375 54.828125 56.984375 36.375 \nQ 56.984375 17.96875 50.515625 8.265625 \nQ 44.046875 -1.421875 31.78125 -1.421875 \nQ 19.53125 -1.421875 13.0625 8.265625 \nQ 6.59375 17.96875 6.59375 36.375 \nQ 6.59375 54.828125 13.0625 64.515625 \nQ 19.53125 74.21875 31.78125 74.21875 \nz\n\" id=\"DejaVuSans-48\"/>\n      </defs>\n      <g transform=\"translate(154.338486 239.238437)scale(0.1 -0.1)\">\n       <use xlink:href=\"#DejaVuSans-49\"/>\n       <use x=\"63.623047\" xlink:href=\"#DejaVuSans-48\"/>\n      </g>\n     </g>\n    </g>\n    <g id=\"xtick_5\">\n     <g id=\"line2d_5\">\n      <g>\n       <use style=\"stroke:#000000;stroke-width:0.8;\" x=\"200.487082\" xlink:href=\"#m17b738478a\" y=\"224.64\"/>\n      </g>\n     </g>\n     <g id=\"text_5\">\n      <!-- 12 -->\n      <defs>\n       <path d=\"M 19.1875 8.296875 \nL 53.609375 8.296875 \nL 53.609375 0 \nL 7.328125 0 \nL 7.328125 8.296875 \nQ 12.9375 14.109375 22.625 23.890625 \nQ 32.328125 33.6875 34.8125 36.53125 \nQ 39.546875 41.84375 41.421875 45.53125 \nQ 43.3125 49.21875 43.3125 52.78125 \nQ 43.3125 58.59375 39.234375 62.25 \nQ 35.15625 65.921875 28.609375 65.921875 \nQ 23.96875 65.921875 18.8125 64.3125 \nQ 13.671875 62.703125 7.8125 59.421875 \nL 7.8125 69.390625 \nQ 13.765625 71.78125 18.9375 73 \nQ 24.125 74.21875 28.421875 74.21875 \nQ 39.75 74.21875 46.484375 68.546875 \nQ 53.21875 62.890625 53.21875 53.421875 \nQ 53.21875 48.921875 51.53125 44.890625 \nQ 49.859375 40.875 45.40625 35.40625 \nQ 44.1875 33.984375 37.640625 27.21875 \nQ 31.109375 20.453125 19.1875 8.296875 \nz\n\" id=\"DejaVuSans-50\"/>\n      </defs>\n      <g transform=\"translate(194.124582 239.238437)scale(0.1 -0.1)\">\n       <use xlink:href=\"#DejaVuSans-49\"/>\n       <use x=\"63.623047\" xlink:href=\"#DejaVuSans-50\"/>\n      </g>\n     </g>\n    </g>\n    <g id=\"xtick_6\">\n     <g id=\"line2d_6\">\n      <g>\n       <use style=\"stroke:#000000;stroke-width:0.8;\" x=\"240.273178\" xlink:href=\"#m17b738478a\" y=\"224.64\"/>\n      </g>\n     </g>\n     <g id=\"text_6\">\n      <!-- 14 -->\n      <g transform=\"translate(233.910678 239.238437)scale(0.1 -0.1)\">\n       <use xlink:href=\"#DejaVuSans-49\"/>\n       <use x=\"63.623047\" xlink:href=\"#DejaVuSans-52\"/>\n      </g>\n     </g>\n    </g>\n    <g id=\"xtick_7\">\n     <g id=\"line2d_7\">\n      <g>\n       <use style=\"stroke:#000000;stroke-width:0.8;\" x=\"280.059275\" xlink:href=\"#m17b738478a\" y=\"224.64\"/>\n      </g>\n     </g>\n     <g id=\"text_7\">\n      <!-- 16 -->\n      <g transform=\"translate(273.696775 239.238437)scale(0.1 -0.1)\">\n       <use xlink:href=\"#DejaVuSans-49\"/>\n       <use x=\"63.623047\" xlink:href=\"#DejaVuSans-54\"/>\n      </g>\n     </g>\n    </g>\n    <g id=\"xtick_8\">\n     <g id=\"line2d_8\">\n      <g>\n       <use style=\"stroke:#000000;stroke-width:0.8;\" x=\"319.845371\" xlink:href=\"#m17b738478a\" y=\"224.64\"/>\n      </g>\n     </g>\n     <g id=\"text_8\">\n      <!-- 18 -->\n      <g transform=\"translate(313.482871 239.238437)scale(0.1 -0.1)\">\n       <use xlink:href=\"#DejaVuSans-49\"/>\n       <use x=\"63.623047\" xlink:href=\"#DejaVuSans-56\"/>\n      </g>\n     </g>\n    </g>\n    <g id=\"xtick_9\">\n     <g id=\"line2d_9\">\n      <g>\n       <use style=\"stroke:#000000;stroke-width:0.8;\" x=\"359.631467\" xlink:href=\"#m17b738478a\" y=\"224.64\"/>\n      </g>\n     </g>\n     <g id=\"text_9\">\n      <!-- 20 -->\n      <g transform=\"translate(353.268967 239.238437)scale(0.1 -0.1)\">\n       <use xlink:href=\"#DejaVuSans-50\"/>\n       <use x=\"63.623047\" xlink:href=\"#DejaVuSans-48\"/>\n      </g>\n     </g>\n    </g>\n   </g>\n   <g id=\"matplotlib.axis_2\">\n    <g id=\"ytick_1\">\n     <g id=\"line2d_10\">\n      <defs>\n       <path d=\"M 0 0 \nL -3.5 0 \n\" id=\"ma8c3dbf71a\" style=\"stroke:#000000;stroke-width:0.8;\"/>\n      </defs>\n      <g>\n       <use style=\"stroke:#000000;stroke-width:0.8;\" x=\"30.103125\" xlink:href=\"#ma8c3dbf71a\" y=\"221.202213\"/>\n      </g>\n     </g>\n     <g id=\"text_10\">\n      <!-- 1.0 -->\n      <defs>\n       <path d=\"M 10.6875 12.40625 \nL 21 12.40625 \nL 21 0 \nL 10.6875 0 \nz\n\" id=\"DejaVuSans-46\"/>\n      </defs>\n      <g transform=\"translate(7.2 225.001432)scale(0.1 -0.1)\">\n       <use xlink:href=\"#DejaVuSans-49\"/>\n       <use x=\"63.623047\" xlink:href=\"#DejaVuSans-46\"/>\n       <use x=\"95.410156\" xlink:href=\"#DejaVuSans-48\"/>\n      </g>\n     </g>\n    </g>\n    <g id=\"ytick_2\">\n     <g id=\"line2d_11\">\n      <g>\n       <use style=\"stroke:#000000;stroke-width:0.8;\" x=\"30.103125\" xlink:href=\"#ma8c3dbf71a\" y=\"178.229881\"/>\n      </g>\n     </g>\n     <g id=\"text_11\">\n      <!-- 1.2 -->\n      <g transform=\"translate(7.2 182.0291)scale(0.1 -0.1)\">\n       <use xlink:href=\"#DejaVuSans-49\"/>\n       <use x=\"63.623047\" xlink:href=\"#DejaVuSans-46\"/>\n       <use x=\"95.410156\" xlink:href=\"#DejaVuSans-50\"/>\n      </g>\n     </g>\n    </g>\n    <g id=\"ytick_3\">\n     <g id=\"line2d_12\">\n      <g>\n       <use style=\"stroke:#000000;stroke-width:0.8;\" x=\"30.103125\" xlink:href=\"#ma8c3dbf71a\" y=\"135.257549\"/>\n      </g>\n     </g>\n     <g id=\"text_12\">\n      <!-- 1.4 -->\n      <g transform=\"translate(7.2 139.056768)scale(0.1 -0.1)\">\n       <use xlink:href=\"#DejaVuSans-49\"/>\n       <use x=\"63.623047\" xlink:href=\"#DejaVuSans-46\"/>\n       <use x=\"95.410156\" xlink:href=\"#DejaVuSans-52\"/>\n      </g>\n     </g>\n    </g>\n    <g id=\"ytick_4\">\n     <g id=\"line2d_13\">\n      <g>\n       <use style=\"stroke:#000000;stroke-width:0.8;\" x=\"30.103125\" xlink:href=\"#ma8c3dbf71a\" y=\"92.285217\"/>\n      </g>\n     </g>\n     <g id=\"text_13\">\n      <!-- 1.6 -->\n      <g transform=\"translate(7.2 96.084436)scale(0.1 -0.1)\">\n       <use xlink:href=\"#DejaVuSans-49\"/>\n       <use x=\"63.623047\" xlink:href=\"#DejaVuSans-46\"/>\n       <use x=\"95.410156\" xlink:href=\"#DejaVuSans-54\"/>\n      </g>\n     </g>\n    </g>\n    <g id=\"ytick_5\">\n     <g id=\"line2d_14\">\n      <g>\n       <use style=\"stroke:#000000;stroke-width:0.8;\" x=\"30.103125\" xlink:href=\"#ma8c3dbf71a\" y=\"49.312885\"/>\n      </g>\n     </g>\n     <g id=\"text_14\">\n      <!-- 1.8 -->\n      <g transform=\"translate(7.2 53.112104)scale(0.1 -0.1)\">\n       <use xlink:href=\"#DejaVuSans-49\"/>\n       <use x=\"63.623047\" xlink:href=\"#DejaVuSans-46\"/>\n       <use x=\"95.410156\" xlink:href=\"#DejaVuSans-56\"/>\n      </g>\n     </g>\n    </g>\n   </g>\n   <g id=\"line2d_15\">\n    <defs>\n     <path d=\"M 0 -3 \nL -0.673542 -0.927051 \nL -2.85317 -0.927051 \nL -1.089814 0.354102 \nL -1.763356 2.427051 \nL -0 1.145898 \nL 1.763356 2.427051 \nL 1.089814 0.354102 \nL 2.85317 -0.927051 \nL 0.673542 -0.927051 \nz\n\" id=\"m10b4a4126b\" style=\"stroke:#1f77b4;stroke-linejoin:bevel;\"/>\n    </defs>\n    <g clip-path=\"url(#p0819a7a1a0)\">\n     <use style=\"fill:#1f77b4;stroke:#1f77b4;stroke-linejoin:bevel;\" x=\"266.134141\" xlink:href=\"#m10b4a4126b\" y=\"57.907352\"/>\n     <use style=\"fill:#1f77b4;stroke:#1f77b4;stroke-linejoin:bevel;\" x=\"176.615424\" xlink:href=\"#m10b4a4126b\" y=\"148.149249\"/>\n     <use style=\"fill:#1f77b4;stroke:#1f77b4;stroke-linejoin:bevel;\" x=\"122.904195\" xlink:href=\"#m10b4a4126b\" y=\"163.189565\"/>\n     <use style=\"fill:#1f77b4;stroke:#1f77b4;stroke-linejoin:bevel;\" x=\"349.684943\" xlink:href=\"#m10b4a4126b\" y=\"120.217233\"/>\n     <use style=\"fill:#1f77b4;stroke:#1f77b4;stroke-linejoin:bevel;\" x=\"105.000451\" xlink:href=\"#m10b4a4126b\" y=\"163.189565\"/>\n     <use style=\"fill:#1f77b4;stroke:#1f77b4;stroke-linejoin:bevel;\" x=\"67.20366\" xlink:href=\"#m10b4a4126b\" y=\"115.92\"/>\n     <use style=\"fill:#1f77b4;stroke:#1f77b4;stroke-linejoin:bevel;\" x=\"146.775852\" xlink:href=\"#m10b4a4126b\" y=\"154.595099\"/>\n     <use style=\"fill:#1f77b4;stroke:#1f77b4;stroke-linejoin:bevel;\" x=\"182.583339\" xlink:href=\"#m10b4a4126b\" y=\"201.864664\"/>\n     <use style=\"fill:#1f77b4;stroke:#1f77b4;stroke-linejoin:bevel;\" x=\"110.968366\" xlink:href=\"#m10b4a4126b\" y=\"182.527115\"/>\n     <use style=\"fill:#1f77b4;stroke:#1f77b4;stroke-linejoin:bevel;\" x=\"204.465692\" xlink:href=\"#m10b4a4126b\" y=\"173.932648\"/>\n     <use style=\"fill:#1f77b4;stroke:#1f77b4;stroke-linejoin:bevel;\" x=\"95.053927\" xlink:href=\"#m10b4a4126b\" y=\"167.486798\"/>\n     <use style=\"fill:#1f77b4;stroke:#1f77b4;stroke-linejoin:bevel;\" x=\"65.214355\" xlink:href=\"#m10b4a4126b\" y=\"180.378498\"/>\n     <use style=\"fill:#1f77b4;stroke:#1f77b4;stroke-linejoin:bevel;\" x=\"339.738419\" xlink:href=\"#m10b4a4126b\" y=\"17.083636\"/>\n     <use style=\"fill:#1f77b4;stroke:#1f77b4;stroke-linejoin:bevel;\" x=\"262.155531\" xlink:href=\"#m10b4a4126b\" y=\"161.040949\"/>\n     <use style=\"fill:#1f77b4;stroke:#1f77b4;stroke-linejoin:bevel;\" x=\"95.053927\" xlink:href=\"#m10b4a4126b\" y=\"109.47415\"/>\n     <use style=\"fill:#1f77b4;stroke:#1f77b4;stroke-linejoin:bevel;\" x=\"45.321307\" xlink:href=\"#m10b4a4126b\" y=\"195.418814\"/>\n     <use style=\"fill:#1f77b4;stroke:#1f77b4;stroke-linejoin:bevel;\" x=\"166.6689\" xlink:href=\"#m10b4a4126b\" y=\"141.703399\"/>\n     <use style=\"fill:#1f77b4;stroke:#1f77b4;stroke-linejoin:bevel;\" x=\"210.433606\" xlink:href=\"#m10b4a4126b\" y=\"180.378498\"/>\n     <use style=\"fill:#1f77b4;stroke:#1f77b4;stroke-linejoin:bevel;\" x=\"282.04858\" xlink:href=\"#m10b4a4126b\" y=\"210.45913\"/>\n     <use style=\"fill:#1f77b4;stroke:#1f77b4;stroke-linejoin:bevel;\" x=\"226.348045\" xlink:href=\"#m10b4a4126b\" y=\"152.446482\"/>\n     <use style=\"fill:#1f77b4;stroke:#1f77b4;stroke-linejoin:bevel;\" x=\"59.246441\" xlink:href=\"#m10b4a4126b\" y=\"214.756364\"/>\n     <use style=\"fill:#1f77b4;stroke:#1f77b4;stroke-linejoin:bevel;\" x=\"136.829328\" xlink:href=\"#m10b4a4126b\" y=\"195.418814\"/>\n     <use style=\"fill:#1f77b4;stroke:#1f77b4;stroke-linejoin:bevel;\" x=\"150.754462\" xlink:href=\"#m10b4a4126b\" y=\"70.799051\"/>\n    </g>\n   </g>\n   <g id=\"patch_3\">\n    <path d=\"M 30.103125 224.64 \nL 30.103125 7.2 \n\" style=\"fill:none;stroke:#000000;stroke-linecap:square;stroke-linejoin:miter;stroke-width:0.8;\"/>\n   </g>\n   <g id=\"patch_4\">\n    <path d=\"M 364.903125 224.64 \nL 364.903125 7.2 \n\" style=\"fill:none;stroke:#000000;stroke-linecap:square;stroke-linejoin:miter;stroke-width:0.8;\"/>\n   </g>\n   <g id=\"patch_5\">\n    <path d=\"M 30.103125 224.64 \nL 364.903125 224.64 \n\" style=\"fill:none;stroke:#000000;stroke-linecap:square;stroke-linejoin:miter;stroke-width:0.8;\"/>\n   </g>\n   <g id=\"patch_6\">\n    <path d=\"M 30.103125 7.2 \nL 364.903125 7.2 \n\" style=\"fill:none;stroke:#000000;stroke-linecap:square;stroke-linejoin:miter;stroke-width:0.8;\"/>\n   </g>\n  </g>\n </g>\n <defs>\n  <clipPath id=\"p0819a7a1a0\">\n   <rect height=\"217.44\" width=\"334.8\" x=\"30.103125\" y=\"7.2\"/>\n  </clipPath>\n </defs>\n</svg>\n",
      "text/plain": "<Figure size 432x288 with 1 Axes>"
     },
     "metadata": {
      "needs_background": "light"
     },
     "output_type": "display_data"
    }
   ],
   "source": [
    "# First I have to delete rows containing \"nan\"\n",
    "a,b = np.where(np.isnan(data))\n",
    "data = np.delete(data, a, axis=0)\n",
    "\n",
    "x,y = data[:,0], data[:,1]\n",
    "plt.plot(x,y,'*')\n",
    "\n",
    "# Create the design matrix\n",
    "Xmat = sm.add_constant(x)\n",
    "\n",
    "# Calculate the parameters\n",
    "params = lstsq(Xmat, y)\n",
    "np.set_printoptions(precision=3)\n",
    "print(params)"
   ]
  },
  {
   "cell_type": "markdown",
   "metadata": {
    "slideshow": {
     "slide_type": "subslide"
    }
   },
   "source": [
    "### ... then solve them with *pandas* and *statsmodels*\n",
    "\n",
    "pandas handles \"nan\" gracefully, and also provides more information about the fit. So let's use pandas, and compare the results"
   ]
  },
  {
   "cell_type": "code",
   "execution_count": 4,
   "metadata": {},
   "outputs": [
    {
     "name": "stdout",
     "output_type": "stream",
     "text": "Results: Ordinary least squares\n=================================================================\nModel:              OLS              Adj. R-squared:     0.134   \nDependent Variable: Vcf              AIC:                -3.1672 \nDate:               2020-03-02 19:11 BIC:                -0.8962 \nNo. Observations:   23               Log-Likelihood:     3.5836  \nDf Model:           1                F-statistic:        4.414   \nDf Residuals:       21               Prob (F-statistic): 0.0479  \nR-squared:          0.174            Scale:              0.046957\n-------------------------------------------------------------------\n              Coef.    Std.Err.     t      P>|t|    [0.025   0.975]\n-------------------------------------------------------------------\nIntercept     1.0978     0.1175   9.3446   0.0000   0.8535   1.3421\nglucose       0.0220     0.0105   2.1010   0.0479   0.0002   0.0437\n-----------------------------------------------------------------\nOmnibus:              1.717        Durbin-Watson:           1.802\nProb(Omnibus):        0.424        Jarque-Bera (JB):        1.270\nSkew:                 0.562        Prob(JB):                0.530\nKurtosis:             2.756        Condition No.:           29   \n=================================================================\n\n"
    }
   ],
   "source": [
    "import statsmodels.formula.api as smf\n",
    "\n",
    "# Convert them into a pandas DataFrame\n",
    "df = pd.DataFrame(data, columns=['glucose', 'Vcf'])\n",
    "\n",
    "model_fit = smf.ols('Vcf~glucose', df).fit()\n",
    "\n",
    "print(model_fit.summary2())"
   ]
  },
  {
   "cell_type": "markdown",
   "metadata": {
    "slideshow": {
     "slide_type": "slide"
    }
   },
   "source": [
    "## Correlation\n",
    "\n",
    "Pearson correlation, and two types of rank correlation (Spearman, Kendall)\n",
    "\n",
    "*Comparing age and percentage of body-fat (measured by dual-photon absorptiometry) for 18 normal adults.*"
   ]
  },
  {
   "cell_type": "code",
   "execution_count": 5,
   "metadata": {},
   "outputs": [],
   "source": [
    "# Get the data\n",
    "inFile = 'altman_11_1.txt'\n",
    "url = url_base + inFile\n",
    "data = np.genfromtxt(urlopen(url), delimiter=',')\n",
    "\n",
    "x = data[:,0]\n",
    "y = data[:,1]"
   ]
  },
  {
   "cell_type": "code",
   "execution_count": 6,
   "metadata": {},
   "outputs": [
    {
     "name": "stdout",
     "output_type": "stream",
     "text": "{'pearson': 0.7920862321784912, 'spearman': 0.7538795855376156, 'kendall': 0.5762094850891228}\n"
    }
   ],
   "source": [
    "# Calculate correlations\n",
    "corr = {}\n",
    "corr['pearson'], _ = stats.pearsonr(x,y)\n",
    "corr['spearman'], _ = stats.spearmanr(x,y)\n",
    "corr['kendall'], _ = stats.kendalltau(x,y)\n",
    "\n",
    "print(corr)    "
   ]
  },
  {
   "cell_type": "code",
   "execution_count": 7,
   "metadata": {},
   "outputs": [
    {
     "name": "stdout",
     "output_type": "stream",
     "text": "Spearman's rho = 0.754, and Pearson's r (rankordered) = 0.754\n"
    }
   ],
   "source": [
    "# Show that Spearman's rho is just the Pearson's R of the rank-ordered data\n",
    "r_rankordered = stats.pearsonr(stats.rankdata(x), stats.rankdata(y))[0]\n",
    "print(\"Spearman's rho = {0:5.3f}, and Pearson's r (rankordered) = {1:5.3f}\".format(corr['spearman'], r_rankordered))"
   ]
  },
  {
   "cell_type": "code",
   "execution_count": null,
   "metadata": {
    "collapsed": true
   },
   "outputs": [],
   "source": []
  }
 ],
 "metadata": {
  "celltoolbar": "Slideshow",
  "kernelspec": {
   "display_name": "Python 3",
   "language": "python",
   "name": "python3"
  },
  "language_info": {
   "codemirror_mode": {
    "name": "ipython",
    "version": 3
   },
   "file_extension": ".py",
   "mimetype": "text/x-python",
   "name": "python",
   "nbconvert_exporter": "python",
   "pygments_lexer": "ipython3",
   "version": "3.7.4-final"
  }
 },
 "nbformat": 4,
 "nbformat_minor": 1
}